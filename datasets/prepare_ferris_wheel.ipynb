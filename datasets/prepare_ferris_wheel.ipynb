{
 "cells": [
  {
   "cell_type": "code",
   "execution_count": 1,
   "outputs": [],
   "source": [
    "import pandas as pd\n",
    "import numpy as np\n",
    "import os\n",
    "from etnn.data.prepare_ferris_wheel import prepare_1_ferris, generate_ferris_dataset\n",
    "from etnn.data.ferris_score_helpers import build_wheel_happyness\n",
    "from tqdm import tqdm\n",
    "import torch"
   ],
   "metadata": {
    "collapsed": false,
    "ExecuteTime": {
     "start_time": "2023-10-27T20:03:31.793957Z",
     "end_time": "2023-10-27T20:03:33.287252Z"
    }
   }
  },
  {
   "cell_type": "code",
   "execution_count": 2,
   "outputs": [],
   "source": [
    "df_health = prepare_1_ferris(\n",
    "    dataset_path=\".\",\n",
    "    df_name_output=\"health_dataset_preprocessed-1.csv\",\n",
    "    df_name_input=\"Sleep_health_and_lifestyle_dataset.csv\",\n",
    "    try_pregen=True\n",
    ")"
   ],
   "metadata": {
    "collapsed": false,
    "ExecuteTime": {
     "start_time": "2023-10-27T20:03:33.285248Z",
     "end_time": "2023-10-27T20:03:33.300764Z"
    }
   }
  },
  {
   "cell_type": "code",
   "execution_count": 3,
   "outputs": [
    {
     "data": {
      "text/plain": "   id  age  occupation  sleep_duration  sleep_quality  physical_activity  \\\n0   1   27           1             6.1              6                 42   \n1   2   28           2             6.2              6                 60   \n2   3   28           2             6.2              6                 60   \n3   4   28           3             5.9              4                 30   \n4   5   28           3             5.9              4                 30   \n\n   stress_level  bmi  heart_rate  daily_steps  sleep_disorder  \\\n0             6    2          77         4200               0   \n1             8    0          75        10000               0   \n2             8    0          75        10000               0   \n3             8    3          85         3000               1   \n4             8    3          85         3000               1   \n\n   blood_pressure1  blood_pressure2  gender_male  gender_female  gender_other  \n0              126               83         True          False         False  \n1              125               80         True          False         False  \n2              125               80         True          False         False  \n3              140               90         True          False         False  \n4              140               90         True          False         False  ",
      "text/html": "<div>\n<style scoped>\n    .dataframe tbody tr th:only-of-type {\n        vertical-align: middle;\n    }\n\n    .dataframe tbody tr th {\n        vertical-align: top;\n    }\n\n    .dataframe thead th {\n        text-align: right;\n    }\n</style>\n<table border=\"1\" class=\"dataframe\">\n  <thead>\n    <tr style=\"text-align: right;\">\n      <th></th>\n      <th>id</th>\n      <th>age</th>\n      <th>occupation</th>\n      <th>sleep_duration</th>\n      <th>sleep_quality</th>\n      <th>physical_activity</th>\n      <th>stress_level</th>\n      <th>bmi</th>\n      <th>heart_rate</th>\n      <th>daily_steps</th>\n      <th>sleep_disorder</th>\n      <th>blood_pressure1</th>\n      <th>blood_pressure2</th>\n      <th>gender_male</th>\n      <th>gender_female</th>\n      <th>gender_other</th>\n    </tr>\n  </thead>\n  <tbody>\n    <tr>\n      <th>0</th>\n      <td>1</td>\n      <td>27</td>\n      <td>1</td>\n      <td>6.1</td>\n      <td>6</td>\n      <td>42</td>\n      <td>6</td>\n      <td>2</td>\n      <td>77</td>\n      <td>4200</td>\n      <td>0</td>\n      <td>126</td>\n      <td>83</td>\n      <td>True</td>\n      <td>False</td>\n      <td>False</td>\n    </tr>\n    <tr>\n      <th>1</th>\n      <td>2</td>\n      <td>28</td>\n      <td>2</td>\n      <td>6.2</td>\n      <td>6</td>\n      <td>60</td>\n      <td>8</td>\n      <td>0</td>\n      <td>75</td>\n      <td>10000</td>\n      <td>0</td>\n      <td>125</td>\n      <td>80</td>\n      <td>True</td>\n      <td>False</td>\n      <td>False</td>\n    </tr>\n    <tr>\n      <th>2</th>\n      <td>3</td>\n      <td>28</td>\n      <td>2</td>\n      <td>6.2</td>\n      <td>6</td>\n      <td>60</td>\n      <td>8</td>\n      <td>0</td>\n      <td>75</td>\n      <td>10000</td>\n      <td>0</td>\n      <td>125</td>\n      <td>80</td>\n      <td>True</td>\n      <td>False</td>\n      <td>False</td>\n    </tr>\n    <tr>\n      <th>3</th>\n      <td>4</td>\n      <td>28</td>\n      <td>3</td>\n      <td>5.9</td>\n      <td>4</td>\n      <td>30</td>\n      <td>8</td>\n      <td>3</td>\n      <td>85</td>\n      <td>3000</td>\n      <td>1</td>\n      <td>140</td>\n      <td>90</td>\n      <td>True</td>\n      <td>False</td>\n      <td>False</td>\n    </tr>\n    <tr>\n      <th>4</th>\n      <td>5</td>\n      <td>28</td>\n      <td>3</td>\n      <td>5.9</td>\n      <td>4</td>\n      <td>30</td>\n      <td>8</td>\n      <td>3</td>\n      <td>85</td>\n      <td>3000</td>\n      <td>1</td>\n      <td>140</td>\n      <td>90</td>\n      <td>True</td>\n      <td>False</td>\n      <td>False</td>\n    </tr>\n  </tbody>\n</table>\n</div>"
     },
     "execution_count": 3,
     "metadata": {},
     "output_type": "execute_result"
    }
   ],
   "source": [
    "df_health.head()"
   ],
   "metadata": {
    "collapsed": false,
    "ExecuteTime": {
     "start_time": "2023-10-27T20:03:33.300764Z",
     "end_time": "2023-10-27T20:03:33.331036Z"
    }
   }
  },
  {
   "cell_type": "code",
   "execution_count": 4,
   "outputs": [],
   "source": [
    "# take group of ids from persons and state how the label for this group shall be calculated"
   ],
   "metadata": {
    "collapsed": false,
    "ExecuteTime": {
     "start_time": "2023-10-27T20:03:33.321498Z",
     "end_time": "2023-10-27T20:03:33.346056Z"
    }
   }
  },
  {
   "cell_type": "code",
   "execution_count": 5,
   "outputs": [],
   "source": [
    "# define ferris wheel\n",
    "num_gondolas = 10\n",
    "num_part_pg = 5"
   ],
   "metadata": {
    "collapsed": false,
    "ExecuteTime": {
     "start_time": "2023-10-27T20:03:33.333037Z",
     "end_time": "2023-10-27T20:03:33.384101Z"
    }
   }
  },
  {
   "cell_type": "code",
   "execution_count": 6,
   "outputs": [],
   "source": [
    "# generate sample element\n",
    "random_order = np.arange(len(df_health)) + 1\n",
    "np.random.shuffle(random_order)"
   ],
   "metadata": {
    "collapsed": false,
    "ExecuteTime": {
     "start_time": "2023-10-27T20:03:33.348056Z",
     "end_time": "2023-10-27T20:03:33.386612Z"
    }
   }
  },
  {
   "cell_type": "code",
   "execution_count": 7,
   "outputs": [],
   "source": [
    "example = [\n",
    "    random_order[i*num_part_pg:(i+1)*num_part_pg]\n",
    "    for i in range(num_gondolas)\n",
    "]"
   ],
   "metadata": {
    "collapsed": false,
    "ExecuteTime": {
     "start_time": "2023-10-27T20:03:33.363571Z",
     "end_time": "2023-10-27T20:03:33.386612Z"
    }
   }
  },
  {
   "cell_type": "code",
   "execution_count": 8,
   "outputs": [
    {
     "data": {
      "text/plain": "[array([156, 290, 276, 294,  41]),\n array([149, 346,  50, 360, 181]),\n array([ 30, 238, 214, 171,  72]),\n array([230, 247, 307,  26, 126]),\n array([ 84, 223, 106, 243,  69]),\n array([229,  49, 336, 179, 272]),\n array([101, 368, 116, 244, 349]),\n array([313, 155, 204, 246, 197]),\n array([219,  22, 359, 255, 232]),\n array([107,  99, 366, 242,  81])]"
     },
     "execution_count": 8,
     "metadata": {},
     "output_type": "execute_result"
    }
   ],
   "source": [
    "example"
   ],
   "metadata": {
    "collapsed": false,
    "ExecuteTime": {
     "start_time": "2023-10-27T20:03:33.379102Z",
     "end_time": "2023-10-27T20:03:33.395119Z"
    }
   }
  },
  {
   "cell_type": "code",
   "execution_count": 9,
   "outputs": [
    {
     "data": {
      "text/plain": "array([[156, 290, 276, 294,  41],\n       [149, 346,  50, 360, 181],\n       [ 30, 238, 214, 171,  72],\n       [230, 247, 307,  26, 126],\n       [ 84, 223, 106, 243,  69],\n       [229,  49, 336, 179, 272],\n       [101, 368, 116, 244, 349],\n       [313, 155, 204, 246, 197],\n       [219,  22, 359, 255, 232],\n       [107,  99, 366, 242,  81]])"
     },
     "execution_count": 9,
     "metadata": {},
     "output_type": "execute_result"
    }
   ],
   "source": [
    "random_order[:num_gondolas*num_part_pg].reshape(num_gondolas, num_part_pg)"
   ],
   "metadata": {
    "collapsed": false,
    "ExecuteTime": {
     "start_time": "2023-10-27T20:03:33.395119Z",
     "end_time": "2023-10-27T20:03:33.440341Z"
    }
   }
  },
  {
   "cell_type": "markdown",
   "source": [
    "Rules:\n",
    "- People being happy with other people in same gondola\n",
    "    + Age composition too seperated is bad\n",
    "    + shift in gender is bad if too much, 50-50 is good or all one gender\n",
    "    + same with age composition\n",
    "    + sleep derived(multiplier with quality) persons get a subtraction and 'good sleepers' get bonus (sleep disorder counts as stronger subtraction)\n",
    "    + higher heart rate and pressure = joy or fear\n",
    "    + composition of persons in regards to bmi : extreme values make others (no exception for group all those as to many underweight or overweight persons may be awquard as well)\n",
    "- People being happy with neighboring gondolas composition\n",
    "    + same age gets bonus, none gets penalty as potentially group is separated\n",
    "    + gap between happyness index between self and neighbors causes it to produce a mean of only the neighbors"
   ],
   "metadata": {
    "collapsed": false
   }
  },
  {
   "cell_type": "code",
   "execution_count": 10,
   "outputs": [
    {
     "data": {
      "text/plain": "64.32137333333334"
     },
     "execution_count": 10,
     "metadata": {},
     "output_type": "execute_result"
    }
   ],
   "source": [
    "build_wheel_happyness(df_health, example)"
   ],
   "metadata": {
    "collapsed": false,
    "ExecuteTime": {
     "start_time": "2023-10-27T20:03:33.410641Z",
     "end_time": "2023-10-27T20:03:33.447856Z"
    }
   }
  },
  {
   "cell_type": "code",
   "execution_count": 11,
   "outputs": [
    {
     "data": {
      "text/plain": "64.32137333333334"
     },
     "execution_count": 11,
     "metadata": {},
     "output_type": "execute_result"
    }
   ],
   "source": [
    "build_wheel_happyness(df_health, random_order[:num_gondolas * num_part_pg].reshape(num_gondolas, num_part_pg))"
   ],
   "metadata": {
    "collapsed": false,
    "ExecuteTime": {
     "start_time": "2023-10-27T20:03:33.442343Z",
     "end_time": "2023-10-27T20:03:33.487520Z"
    }
   }
  },
  {
   "cell_type": "code",
   "execution_count": 12,
   "outputs": [],
   "source": [
    "# define dataset size\n",
    "num_to_generate = 10_000\n",
    "# define ferris wheel\n",
    "num_gondolas = 10\n",
    "num_part_pg = 5"
   ],
   "metadata": {
    "collapsed": false,
    "ExecuteTime": {
     "start_time": "2023-10-27T20:03:33.473397Z",
     "end_time": "2023-10-27T20:03:33.496501Z"
    }
   }
  },
  {
   "cell_type": "code",
   "execution_count": 13,
   "outputs": [],
   "source": [
    "df_index, df_health = generate_ferris_dataset(\n",
    "    num_gondolas=num_gondolas,\n",
    "    num_part_pg=num_part_pg,\n",
    "    num_to_generate=num_to_generate,\n",
    "    dataset_path=\".\",\n",
    "    df_intermediate_output_name=\"health_dataset_preprocessed-1.csv\",\n",
    "    df_name_input=\"Sleep_health_and_lifestyle_dataset.csv\",\n",
    "    try_pregen=True\n",
    ")"
   ],
   "metadata": {
    "collapsed": false,
    "ExecuteTime": {
     "start_time": "2023-10-27T20:03:33.489997Z",
     "end_time": "2023-10-27T20:03:33.535116Z"
    }
   }
  },
  {
   "cell_type": "code",
   "execution_count": 14,
   "outputs": [
    {
     "data": {
      "text/plain": "   g-0_p-0  g-0_p-1  g-0_p-2  g-0_p-3  g-0_p-4  g-1_p-0  g-1_p-1  g-1_p-2  \\\n0      263      190       97      234       34      355      252        8   \n1      337      175       94       10      160      247      363       52   \n2      289       98       74       20      236      286      214      212   \n3       14      276       92      105      289      353       59      225   \n4      189      259       33      285      359      166      250      297   \n\n   g-1_p-3  g-1_p-4  ...  g-8_p-1  g-8_p-2  g-8_p-3  g-8_p-4  g-9_p-0  \\\n0      146      310  ...      314      264       91       22      286   \n1       63       70  ...      180      364       95      186      164   \n2      171      213  ...       75      187      273       76      263   \n3       74      317  ...      242      287       73      130      343   \n4      255       14  ...       47      257      106        4      306   \n\n   g-9_p-1  g-9_p-2  g-9_p-3  g-9_p-4      label  \n0       16      233      222      116  68.635840  \n1       37      113       97       55  58.485253  \n2      116      253      167       64  63.481333  \n3       85      265      217       82  60.018960  \n4      120      161        6       36  66.660397  \n\n[5 rows x 51 columns]",
      "text/html": "<div>\n<style scoped>\n    .dataframe tbody tr th:only-of-type {\n        vertical-align: middle;\n    }\n\n    .dataframe tbody tr th {\n        vertical-align: top;\n    }\n\n    .dataframe thead th {\n        text-align: right;\n    }\n</style>\n<table border=\"1\" class=\"dataframe\">\n  <thead>\n    <tr style=\"text-align: right;\">\n      <th></th>\n      <th>g-0_p-0</th>\n      <th>g-0_p-1</th>\n      <th>g-0_p-2</th>\n      <th>g-0_p-3</th>\n      <th>g-0_p-4</th>\n      <th>g-1_p-0</th>\n      <th>g-1_p-1</th>\n      <th>g-1_p-2</th>\n      <th>g-1_p-3</th>\n      <th>g-1_p-4</th>\n      <th>...</th>\n      <th>g-8_p-1</th>\n      <th>g-8_p-2</th>\n      <th>g-8_p-3</th>\n      <th>g-8_p-4</th>\n      <th>g-9_p-0</th>\n      <th>g-9_p-1</th>\n      <th>g-9_p-2</th>\n      <th>g-9_p-3</th>\n      <th>g-9_p-4</th>\n      <th>label</th>\n    </tr>\n  </thead>\n  <tbody>\n    <tr>\n      <th>0</th>\n      <td>263</td>\n      <td>190</td>\n      <td>97</td>\n      <td>234</td>\n      <td>34</td>\n      <td>355</td>\n      <td>252</td>\n      <td>8</td>\n      <td>146</td>\n      <td>310</td>\n      <td>...</td>\n      <td>314</td>\n      <td>264</td>\n      <td>91</td>\n      <td>22</td>\n      <td>286</td>\n      <td>16</td>\n      <td>233</td>\n      <td>222</td>\n      <td>116</td>\n      <td>68.635840</td>\n    </tr>\n    <tr>\n      <th>1</th>\n      <td>337</td>\n      <td>175</td>\n      <td>94</td>\n      <td>10</td>\n      <td>160</td>\n      <td>247</td>\n      <td>363</td>\n      <td>52</td>\n      <td>63</td>\n      <td>70</td>\n      <td>...</td>\n      <td>180</td>\n      <td>364</td>\n      <td>95</td>\n      <td>186</td>\n      <td>164</td>\n      <td>37</td>\n      <td>113</td>\n      <td>97</td>\n      <td>55</td>\n      <td>58.485253</td>\n    </tr>\n    <tr>\n      <th>2</th>\n      <td>289</td>\n      <td>98</td>\n      <td>74</td>\n      <td>20</td>\n      <td>236</td>\n      <td>286</td>\n      <td>214</td>\n      <td>212</td>\n      <td>171</td>\n      <td>213</td>\n      <td>...</td>\n      <td>75</td>\n      <td>187</td>\n      <td>273</td>\n      <td>76</td>\n      <td>263</td>\n      <td>116</td>\n      <td>253</td>\n      <td>167</td>\n      <td>64</td>\n      <td>63.481333</td>\n    </tr>\n    <tr>\n      <th>3</th>\n      <td>14</td>\n      <td>276</td>\n      <td>92</td>\n      <td>105</td>\n      <td>289</td>\n      <td>353</td>\n      <td>59</td>\n      <td>225</td>\n      <td>74</td>\n      <td>317</td>\n      <td>...</td>\n      <td>242</td>\n      <td>287</td>\n      <td>73</td>\n      <td>130</td>\n      <td>343</td>\n      <td>85</td>\n      <td>265</td>\n      <td>217</td>\n      <td>82</td>\n      <td>60.018960</td>\n    </tr>\n    <tr>\n      <th>4</th>\n      <td>189</td>\n      <td>259</td>\n      <td>33</td>\n      <td>285</td>\n      <td>359</td>\n      <td>166</td>\n      <td>250</td>\n      <td>297</td>\n      <td>255</td>\n      <td>14</td>\n      <td>...</td>\n      <td>47</td>\n      <td>257</td>\n      <td>106</td>\n      <td>4</td>\n      <td>306</td>\n      <td>120</td>\n      <td>161</td>\n      <td>6</td>\n      <td>36</td>\n      <td>66.660397</td>\n    </tr>\n  </tbody>\n</table>\n<p>5 rows × 51 columns</p>\n</div>"
     },
     "execution_count": 14,
     "metadata": {},
     "output_type": "execute_result"
    }
   ],
   "source": [
    "df_index.head()"
   ],
   "metadata": {
    "collapsed": false,
    "ExecuteTime": {
     "start_time": "2023-10-27T20:03:33.536768Z",
     "end_time": "2023-10-27T20:03:33.550402Z"
    }
   }
  },
  {
   "cell_type": "code",
   "execution_count": 15,
   "outputs": [
    {
     "data": {
      "text/plain": "   id  age  occupation  sleep_duration  sleep_quality  physical_activity  \\\n0   1   27           1             6.1              6                 42   \n1   2   28           2             6.2              6                 60   \n2   3   28           2             6.2              6                 60   \n3   4   28           3             5.9              4                 30   \n4   5   28           3             5.9              4                 30   \n\n   stress_level  bmi  heart_rate  daily_steps  sleep_disorder  \\\n0             6    2          77         4200               0   \n1             8    0          75        10000               0   \n2             8    0          75        10000               0   \n3             8    3          85         3000               1   \n4             8    3          85         3000               1   \n\n   blood_pressure1  blood_pressure2  gender_male  gender_female  gender_other  \n0              126               83         True          False         False  \n1              125               80         True          False         False  \n2              125               80         True          False         False  \n3              140               90         True          False         False  \n4              140               90         True          False         False  ",
      "text/html": "<div>\n<style scoped>\n    .dataframe tbody tr th:only-of-type {\n        vertical-align: middle;\n    }\n\n    .dataframe tbody tr th {\n        vertical-align: top;\n    }\n\n    .dataframe thead th {\n        text-align: right;\n    }\n</style>\n<table border=\"1\" class=\"dataframe\">\n  <thead>\n    <tr style=\"text-align: right;\">\n      <th></th>\n      <th>id</th>\n      <th>age</th>\n      <th>occupation</th>\n      <th>sleep_duration</th>\n      <th>sleep_quality</th>\n      <th>physical_activity</th>\n      <th>stress_level</th>\n      <th>bmi</th>\n      <th>heart_rate</th>\n      <th>daily_steps</th>\n      <th>sleep_disorder</th>\n      <th>blood_pressure1</th>\n      <th>blood_pressure2</th>\n      <th>gender_male</th>\n      <th>gender_female</th>\n      <th>gender_other</th>\n    </tr>\n  </thead>\n  <tbody>\n    <tr>\n      <th>0</th>\n      <td>1</td>\n      <td>27</td>\n      <td>1</td>\n      <td>6.1</td>\n      <td>6</td>\n      <td>42</td>\n      <td>6</td>\n      <td>2</td>\n      <td>77</td>\n      <td>4200</td>\n      <td>0</td>\n      <td>126</td>\n      <td>83</td>\n      <td>True</td>\n      <td>False</td>\n      <td>False</td>\n    </tr>\n    <tr>\n      <th>1</th>\n      <td>2</td>\n      <td>28</td>\n      <td>2</td>\n      <td>6.2</td>\n      <td>6</td>\n      <td>60</td>\n      <td>8</td>\n      <td>0</td>\n      <td>75</td>\n      <td>10000</td>\n      <td>0</td>\n      <td>125</td>\n      <td>80</td>\n      <td>True</td>\n      <td>False</td>\n      <td>False</td>\n    </tr>\n    <tr>\n      <th>2</th>\n      <td>3</td>\n      <td>28</td>\n      <td>2</td>\n      <td>6.2</td>\n      <td>6</td>\n      <td>60</td>\n      <td>8</td>\n      <td>0</td>\n      <td>75</td>\n      <td>10000</td>\n      <td>0</td>\n      <td>125</td>\n      <td>80</td>\n      <td>True</td>\n      <td>False</td>\n      <td>False</td>\n    </tr>\n    <tr>\n      <th>3</th>\n      <td>4</td>\n      <td>28</td>\n      <td>3</td>\n      <td>5.9</td>\n      <td>4</td>\n      <td>30</td>\n      <td>8</td>\n      <td>3</td>\n      <td>85</td>\n      <td>3000</td>\n      <td>1</td>\n      <td>140</td>\n      <td>90</td>\n      <td>True</td>\n      <td>False</td>\n      <td>False</td>\n    </tr>\n    <tr>\n      <th>4</th>\n      <td>5</td>\n      <td>28</td>\n      <td>3</td>\n      <td>5.9</td>\n      <td>4</td>\n      <td>30</td>\n      <td>8</td>\n      <td>3</td>\n      <td>85</td>\n      <td>3000</td>\n      <td>1</td>\n      <td>140</td>\n      <td>90</td>\n      <td>True</td>\n      <td>False</td>\n      <td>False</td>\n    </tr>\n  </tbody>\n</table>\n</div>"
     },
     "execution_count": 15,
     "metadata": {},
     "output_type": "execute_result"
    }
   ],
   "source": [
    "df_health.head()"
   ],
   "metadata": {
    "collapsed": false,
    "ExecuteTime": {
     "start_time": "2023-10-27T20:03:33.551403Z",
     "end_time": "2023-10-27T20:03:33.577514Z"
    }
   }
  },
  {
   "cell_type": "code",
   "execution_count": 16,
   "outputs": [
    {
     "data": {
      "text/plain": "      g-0_p-0  g-0_p-1  g-0_p-2  g-0_p-3  g-0_p-4  g-1_p-0  g-1_p-1  g-1_p-2  \\\n0         263      190       97      234       34      355      252        8   \n1         337      175       94       10      160      247      363       52   \n2         289       98       74       20      236      286      214      212   \n3          14      276       92      105      289      353       59      225   \n4         189      259       33      285      359      166      250      297   \n...       ...      ...      ...      ...      ...      ...      ...      ...   \n9995      126       83      109      151      264       89      317       71   \n9996      285       96      190      287       31      267       40      346   \n9997      371      167      197      198      238      368      322      276   \n9998      153      309      223       58       86      206       96       77   \n9999      350       30      276      303      356       34      110      253   \n\n      g-1_p-3  g-1_p-4  ...  g-8_p-0  g-8_p-1  g-8_p-2  g-8_p-3  g-8_p-4  \\\n0         146      310  ...      298      314      264       91       22   \n1          63       70  ...       99      180      364       95      186   \n2         171      213  ...      121       75      187      273       76   \n3          74      317  ...      234      242      287       73      130   \n4         255       14  ...       27       47      257      106        4   \n...       ...      ...  ...      ...      ...      ...      ...      ...   \n9995      330      236  ...      345        6      340      125       69   \n9996      271      168  ...      193      177      268      309       78   \n9997      173      280  ...      190      111       74      330      176   \n9998      289      240  ...       11      337      253      182      144   \n9999       39       68  ...       15       70       64      162      295   \n\n      g-9_p-0  g-9_p-1  g-9_p-2  g-9_p-3  g-9_p-4  \n0         286       16      233      222      116  \n1         164       37      113       97       55  \n2         263      116      253      167       64  \n3         343       85      265      217       82  \n4         306      120      161        6       36  \n...       ...      ...      ...      ...      ...  \n9995      207       66      247      290      245  \n9996      369      107      188      339       23  \n9997      162      154        6      187      289  \n9998       21       94      246      157      230  \n9999      122      362      179      147      296  \n\n[10000 rows x 50 columns]",
      "text/html": "<div>\n<style scoped>\n    .dataframe tbody tr th:only-of-type {\n        vertical-align: middle;\n    }\n\n    .dataframe tbody tr th {\n        vertical-align: top;\n    }\n\n    .dataframe thead th {\n        text-align: right;\n    }\n</style>\n<table border=\"1\" class=\"dataframe\">\n  <thead>\n    <tr style=\"text-align: right;\">\n      <th></th>\n      <th>g-0_p-0</th>\n      <th>g-0_p-1</th>\n      <th>g-0_p-2</th>\n      <th>g-0_p-3</th>\n      <th>g-0_p-4</th>\n      <th>g-1_p-0</th>\n      <th>g-1_p-1</th>\n      <th>g-1_p-2</th>\n      <th>g-1_p-3</th>\n      <th>g-1_p-4</th>\n      <th>...</th>\n      <th>g-8_p-0</th>\n      <th>g-8_p-1</th>\n      <th>g-8_p-2</th>\n      <th>g-8_p-3</th>\n      <th>g-8_p-4</th>\n      <th>g-9_p-0</th>\n      <th>g-9_p-1</th>\n      <th>g-9_p-2</th>\n      <th>g-9_p-3</th>\n      <th>g-9_p-4</th>\n    </tr>\n  </thead>\n  <tbody>\n    <tr>\n      <th>0</th>\n      <td>263</td>\n      <td>190</td>\n      <td>97</td>\n      <td>234</td>\n      <td>34</td>\n      <td>355</td>\n      <td>252</td>\n      <td>8</td>\n      <td>146</td>\n      <td>310</td>\n      <td>...</td>\n      <td>298</td>\n      <td>314</td>\n      <td>264</td>\n      <td>91</td>\n      <td>22</td>\n      <td>286</td>\n      <td>16</td>\n      <td>233</td>\n      <td>222</td>\n      <td>116</td>\n    </tr>\n    <tr>\n      <th>1</th>\n      <td>337</td>\n      <td>175</td>\n      <td>94</td>\n      <td>10</td>\n      <td>160</td>\n      <td>247</td>\n      <td>363</td>\n      <td>52</td>\n      <td>63</td>\n      <td>70</td>\n      <td>...</td>\n      <td>99</td>\n      <td>180</td>\n      <td>364</td>\n      <td>95</td>\n      <td>186</td>\n      <td>164</td>\n      <td>37</td>\n      <td>113</td>\n      <td>97</td>\n      <td>55</td>\n    </tr>\n    <tr>\n      <th>2</th>\n      <td>289</td>\n      <td>98</td>\n      <td>74</td>\n      <td>20</td>\n      <td>236</td>\n      <td>286</td>\n      <td>214</td>\n      <td>212</td>\n      <td>171</td>\n      <td>213</td>\n      <td>...</td>\n      <td>121</td>\n      <td>75</td>\n      <td>187</td>\n      <td>273</td>\n      <td>76</td>\n      <td>263</td>\n      <td>116</td>\n      <td>253</td>\n      <td>167</td>\n      <td>64</td>\n    </tr>\n    <tr>\n      <th>3</th>\n      <td>14</td>\n      <td>276</td>\n      <td>92</td>\n      <td>105</td>\n      <td>289</td>\n      <td>353</td>\n      <td>59</td>\n      <td>225</td>\n      <td>74</td>\n      <td>317</td>\n      <td>...</td>\n      <td>234</td>\n      <td>242</td>\n      <td>287</td>\n      <td>73</td>\n      <td>130</td>\n      <td>343</td>\n      <td>85</td>\n      <td>265</td>\n      <td>217</td>\n      <td>82</td>\n    </tr>\n    <tr>\n      <th>4</th>\n      <td>189</td>\n      <td>259</td>\n      <td>33</td>\n      <td>285</td>\n      <td>359</td>\n      <td>166</td>\n      <td>250</td>\n      <td>297</td>\n      <td>255</td>\n      <td>14</td>\n      <td>...</td>\n      <td>27</td>\n      <td>47</td>\n      <td>257</td>\n      <td>106</td>\n      <td>4</td>\n      <td>306</td>\n      <td>120</td>\n      <td>161</td>\n      <td>6</td>\n      <td>36</td>\n    </tr>\n    <tr>\n      <th>...</th>\n      <td>...</td>\n      <td>...</td>\n      <td>...</td>\n      <td>...</td>\n      <td>...</td>\n      <td>...</td>\n      <td>...</td>\n      <td>...</td>\n      <td>...</td>\n      <td>...</td>\n      <td>...</td>\n      <td>...</td>\n      <td>...</td>\n      <td>...</td>\n      <td>...</td>\n      <td>...</td>\n      <td>...</td>\n      <td>...</td>\n      <td>...</td>\n      <td>...</td>\n      <td>...</td>\n    </tr>\n    <tr>\n      <th>9995</th>\n      <td>126</td>\n      <td>83</td>\n      <td>109</td>\n      <td>151</td>\n      <td>264</td>\n      <td>89</td>\n      <td>317</td>\n      <td>71</td>\n      <td>330</td>\n      <td>236</td>\n      <td>...</td>\n      <td>345</td>\n      <td>6</td>\n      <td>340</td>\n      <td>125</td>\n      <td>69</td>\n      <td>207</td>\n      <td>66</td>\n      <td>247</td>\n      <td>290</td>\n      <td>245</td>\n    </tr>\n    <tr>\n      <th>9996</th>\n      <td>285</td>\n      <td>96</td>\n      <td>190</td>\n      <td>287</td>\n      <td>31</td>\n      <td>267</td>\n      <td>40</td>\n      <td>346</td>\n      <td>271</td>\n      <td>168</td>\n      <td>...</td>\n      <td>193</td>\n      <td>177</td>\n      <td>268</td>\n      <td>309</td>\n      <td>78</td>\n      <td>369</td>\n      <td>107</td>\n      <td>188</td>\n      <td>339</td>\n      <td>23</td>\n    </tr>\n    <tr>\n      <th>9997</th>\n      <td>371</td>\n      <td>167</td>\n      <td>197</td>\n      <td>198</td>\n      <td>238</td>\n      <td>368</td>\n      <td>322</td>\n      <td>276</td>\n      <td>173</td>\n      <td>280</td>\n      <td>...</td>\n      <td>190</td>\n      <td>111</td>\n      <td>74</td>\n      <td>330</td>\n      <td>176</td>\n      <td>162</td>\n      <td>154</td>\n      <td>6</td>\n      <td>187</td>\n      <td>289</td>\n    </tr>\n    <tr>\n      <th>9998</th>\n      <td>153</td>\n      <td>309</td>\n      <td>223</td>\n      <td>58</td>\n      <td>86</td>\n      <td>206</td>\n      <td>96</td>\n      <td>77</td>\n      <td>289</td>\n      <td>240</td>\n      <td>...</td>\n      <td>11</td>\n      <td>337</td>\n      <td>253</td>\n      <td>182</td>\n      <td>144</td>\n      <td>21</td>\n      <td>94</td>\n      <td>246</td>\n      <td>157</td>\n      <td>230</td>\n    </tr>\n    <tr>\n      <th>9999</th>\n      <td>350</td>\n      <td>30</td>\n      <td>276</td>\n      <td>303</td>\n      <td>356</td>\n      <td>34</td>\n      <td>110</td>\n      <td>253</td>\n      <td>39</td>\n      <td>68</td>\n      <td>...</td>\n      <td>15</td>\n      <td>70</td>\n      <td>64</td>\n      <td>162</td>\n      <td>295</td>\n      <td>122</td>\n      <td>362</td>\n      <td>179</td>\n      <td>147</td>\n      <td>296</td>\n    </tr>\n  </tbody>\n</table>\n<p>10000 rows × 50 columns</p>\n</div>"
     },
     "execution_count": 16,
     "metadata": {},
     "output_type": "execute_result"
    }
   ],
   "source": [
    "df_index.iloc[:, :-1]"
   ],
   "metadata": {
    "collapsed": false,
    "ExecuteTime": {
     "start_time": "2023-10-27T20:03:33.566493Z",
     "end_time": "2023-10-27T20:03:33.646190Z"
    }
   }
  },
  {
   "cell_type": "code",
   "execution_count": 17,
   "outputs": [],
   "source": [
    "class FerrisWheelDataset(torch.utils.data.Dataset):\n",
    "    def __init__(self, df_health, df_index):\n",
    "        self.df_health = df_health\n",
    "        self.df_index = df_index\n",
    "\n",
    "        self.df_health.set_index('id', inplace=True)\n",
    "\n",
    "    def __len__(self):\n",
    "        return len(self.df_index)\n",
    "\n",
    "    def __getitem__(self, idx):\n",
    "        # Get the ID from the id_frame\n",
    "        p_ids = self.df_index.iloc[idx, :-1]\n",
    "\n",
    "        # Use the ID to index into the data_frame\n",
    "        data = self.df_health.loc[p_ids]\n",
    "\n",
    "        # Get the label from the last column of id_frame\n",
    "        label = self.df_index.iloc[idx, -1]\n",
    "\n",
    "        return torch.tensor(data.to_numpy(float)), torch.tensor(label)\n"
   ],
   "metadata": {
    "collapsed": false,
    "ExecuteTime": {
     "start_time": "2023-10-27T20:03:33.582617Z",
     "end_time": "2023-10-27T20:03:33.655705Z"
    }
   }
  },
  {
   "cell_type": "code",
   "execution_count": 18,
   "outputs": [],
   "source": [
    "dataset = FerrisWheelDataset(df_health, df_index)"
   ],
   "metadata": {
    "collapsed": false,
    "ExecuteTime": {
     "start_time": "2023-10-27T20:03:33.599639Z",
     "end_time": "2023-10-27T20:03:33.672117Z"
    }
   }
  },
  {
   "cell_type": "code",
   "execution_count": 19,
   "outputs": [
    {
     "data": {
      "text/plain": "(tensor([[4.5000e+01, 4.0000e+00, 6.6000e+00, 7.0000e+00, 4.5000e+01, 4.0000e+00,\n          2.0000e+00, 6.5000e+01, 6.0000e+03, 0.0000e+00, 1.3500e+02, 9.0000e+01,\n          0.0000e+00, 1.0000e+00, 0.0000e+00],\n         [4.3000e+01, 1.0000e+01, 6.5000e+00, 6.0000e+00, 4.5000e+01, 7.0000e+00,\n          2.0000e+00, 7.2000e+01, 6.0000e+03, 2.0000e+00, 1.3000e+02, 8.5000e+01,\n          1.0000e+00, 0.0000e+00, 0.0000e+00],\n         [3.6000e+01, 7.0000e+00, 7.2000e+00, 8.0000e+00, 6.0000e+01, 4.0000e+00,\n          0.0000e+00, 6.8000e+01, 7.0000e+03, 0.0000e+00, 1.1500e+02, 7.5000e+01,\n          0.0000e+00, 1.0000e+00, 0.0000e+00],\n         [4.4000e+01, 1.0000e+01, 6.3000e+00, 6.0000e+00, 4.5000e+01, 7.0000e+00,\n          2.0000e+00, 7.2000e+01, 6.0000e+03, 2.0000e+00, 1.3000e+02, 8.5000e+01,\n          1.0000e+00, 0.0000e+00, 0.0000e+00],\n         [3.1000e+01, 2.0000e+00, 6.1000e+00, 6.0000e+00, 3.0000e+01, 8.0000e+00,\n          0.0000e+00, 7.2000e+01, 5.0000e+03, 0.0000e+00, 1.2500e+02, 8.0000e+01,\n          1.0000e+00, 0.0000e+00, 0.0000e+00],\n         [5.8000e+01, 5.0000e+00, 8.0000e+00, 9.0000e+00, 7.5000e+01, 3.0000e+00,\n          2.0000e+00, 6.8000e+01, 7.0000e+03, 1.0000e+00, 1.4000e+02, 9.5000e+01,\n          0.0000e+00, 1.0000e+00, 0.0000e+00],\n         [4.5000e+01, 4.0000e+00, 6.8000e+00, 7.0000e+00, 3.0000e+01, 6.0000e+00,\n          2.0000e+00, 6.5000e+01, 6.0000e+03, 2.0000e+00, 1.3500e+02, 9.0000e+01,\n          0.0000e+00, 1.0000e+00, 0.0000e+00],\n         [2.9000e+01, 2.0000e+00, 7.8000e+00, 7.0000e+00, 7.5000e+01, 6.0000e+00,\n          0.0000e+00, 7.0000e+01, 8.0000e+03, 0.0000e+00, 1.2000e+02, 8.0000e+01,\n          1.0000e+00, 0.0000e+00, 0.0000e+00],\n         [3.8000e+01, 9.0000e+00, 7.4000e+00, 7.0000e+00, 6.0000e+01, 5.0000e+00,\n          3.0000e+00, 8.4000e+01, 3.3000e+03, 1.0000e+00, 1.3500e+02, 8.8000e+01,\n          0.0000e+00, 1.0000e+00, 0.0000e+00],\n         [5.2000e+01, 7.0000e+00, 6.6000e+00, 7.0000e+00, 4.5000e+01, 7.0000e+00,\n          2.0000e+00, 7.2000e+01, 6.0000e+03, 2.0000e+00, 1.3000e+02, 8.5000e+01,\n          0.0000e+00, 1.0000e+00, 0.0000e+00],\n         [4.9000e+01, 2.0000e+00, 8.1000e+00, 9.0000e+00, 8.5000e+01, 3.0000e+00,\n          3.0000e+00, 8.6000e+01, 3.7000e+03, 1.0000e+00, 1.3900e+02, 9.1000e+01,\n          1.0000e+00, 0.0000e+00, 0.0000e+00],\n         [4.4000e+01, 1.0000e+01, 6.3000e+00, 6.0000e+00, 4.5000e+01, 7.0000e+00,\n          2.0000e+00, 7.2000e+01, 6.0000e+03, 2.0000e+00, 1.3000e+02, 8.5000e+01,\n          1.0000e+00, 0.0000e+00, 0.0000e+00],\n         [4.1000e+01, 9.0000e+00, 7.1000e+00, 7.0000e+00, 5.5000e+01, 6.0000e+00,\n          2.0000e+00, 7.2000e+01, 6.0000e+03, 0.0000e+00, 1.2500e+02, 8.2000e+01,\n          1.0000e+00, 0.0000e+00, 0.0000e+00],\n         [5.3000e+01, 6.0000e+00, 8.4000e+00, 9.0000e+00, 3.0000e+01, 3.0000e+00,\n          0.0000e+00, 6.5000e+01, 5.0000e+03, 0.0000e+00, 1.2500e+02, 8.0000e+01,\n          0.0000e+00, 1.0000e+00, 0.0000e+00],\n         [5.1000e+01, 5.0000e+00, 6.0000e+00, 6.0000e+00, 9.0000e+01, 8.0000e+00,\n          2.0000e+00, 7.5000e+01, 1.0000e+04, 1.0000e+00, 1.4000e+02, 9.5000e+01,\n          0.0000e+00, 1.0000e+00, 0.0000e+00],\n         [3.3000e+01, 2.0000e+00, 6.1000e+00, 6.0000e+00, 3.0000e+01, 8.0000e+00,\n          0.0000e+00, 7.2000e+01, 5.0000e+03, 0.0000e+00, 1.2500e+02, 8.0000e+01,\n          1.0000e+00, 0.0000e+00, 0.0000e+00],\n         [5.4000e+01, 6.0000e+00, 8.4000e+00, 9.0000e+00, 3.0000e+01, 3.0000e+00,\n          0.0000e+00, 6.5000e+01, 5.0000e+03, 0.0000e+00, 1.2500e+02, 8.0000e+01,\n          0.0000e+00, 1.0000e+00, 0.0000e+00],\n         [3.7000e+01, 7.0000e+00, 7.2000e+00, 8.0000e+00, 6.0000e+01, 4.0000e+00,\n          0.0000e+00, 6.8000e+01, 7.0000e+03, 0.0000e+00, 1.1500e+02, 7.5000e+01,\n          0.0000e+00, 1.0000e+00, 0.0000e+00],\n         [3.1000e+01, 2.0000e+00, 7.7000e+00, 7.0000e+00, 7.5000e+01, 6.0000e+00,\n          0.0000e+00, 7.0000e+01, 8.0000e+03, 0.0000e+00, 1.2000e+02, 8.0000e+01,\n          1.0000e+00, 0.0000e+00, 0.0000e+00],\n         [3.1000e+01, 2.0000e+00, 7.8000e+00, 7.0000e+00, 7.5000e+01, 6.0000e+00,\n          0.0000e+00, 7.0000e+01, 8.0000e+03, 0.0000e+00, 1.2000e+02, 8.0000e+01,\n          1.0000e+00, 0.0000e+00, 0.0000e+00],\n         [4.4000e+01, 4.0000e+00, 6.6000e+00, 7.0000e+00, 4.5000e+01, 4.0000e+00,\n          2.0000e+00, 6.5000e+01, 6.0000e+03, 2.0000e+00, 1.3500e+02, 9.0000e+01,\n          0.0000e+00, 1.0000e+00, 0.0000e+00],\n         [3.6000e+01, 4.0000e+00, 7.2000e+00, 8.0000e+00, 6.0000e+01, 4.0000e+00,\n          0.0000e+00, 6.8000e+01, 7.0000e+03, 0.0000e+00, 1.1500e+02, 7.5000e+01,\n          0.0000e+00, 1.0000e+00, 0.0000e+00],\n         [4.1000e+01, 6.0000e+00, 7.3000e+00, 8.0000e+00, 7.0000e+01, 6.0000e+00,\n          1.0000e+00, 7.2000e+01, 6.2000e+03, 0.0000e+00, 1.2100e+02, 7.9000e+01,\n          1.0000e+00, 0.0000e+00, 0.0000e+00],\n         [3.9000e+01, 9.0000e+00, 7.2000e+00, 8.0000e+00, 6.0000e+01, 5.0000e+00,\n          0.0000e+00, 6.8000e+01, 8.0000e+03, 0.0000e+00, 1.3000e+02, 8.5000e+01,\n          1.0000e+00, 0.0000e+00, 0.0000e+00],\n         [3.6000e+01, 4.0000e+00, 7.2000e+00, 8.0000e+00, 6.0000e+01, 4.0000e+00,\n          0.0000e+00, 6.8000e+01, 7.0000e+03, 0.0000e+00, 1.1500e+02, 7.5000e+01,\n          0.0000e+00, 1.0000e+00, 0.0000e+00],\n         [4.3000e+01, 1.0000e+01, 6.4000e+00, 6.0000e+00, 4.5000e+01, 7.0000e+00,\n          2.0000e+00, 7.2000e+01, 6.0000e+03, 2.0000e+00, 1.3000e+02, 8.5000e+01,\n          1.0000e+00, 0.0000e+00, 0.0000e+00],\n         [4.3000e+01, 4.0000e+00, 6.7000e+00, 7.0000e+00, 4.5000e+01, 4.0000e+00,\n          2.0000e+00, 6.5000e+01, 6.0000e+03, 2.0000e+00, 1.3500e+02, 9.0000e+01,\n          0.0000e+00, 1.0000e+00, 0.0000e+00],\n         [3.9000e+01, 9.0000e+00, 7.2000e+00, 8.0000e+00, 6.0000e+01, 5.0000e+00,\n          0.0000e+00, 6.8000e+01, 8.0000e+03, 0.0000e+00, 1.3000e+02, 8.5000e+01,\n          1.0000e+00, 0.0000e+00, 0.0000e+00],\n         [5.4000e+01, 6.0000e+00, 8.4000e+00, 9.0000e+00, 3.0000e+01, 3.0000e+00,\n          0.0000e+00, 6.5000e+01, 5.0000e+03, 0.0000e+00, 1.2500e+02, 8.0000e+01,\n          0.0000e+00, 1.0000e+00, 0.0000e+00],\n         [4.3000e+01, 6.0000e+00, 7.8000e+00, 8.0000e+00, 9.0000e+01, 5.0000e+00,\n          0.0000e+00, 7.0000e+01, 8.0000e+03, 2.0000e+00, 1.3000e+02, 8.5000e+01,\n          1.0000e+00, 0.0000e+00, 0.0000e+00],\n         [4.8000e+01, 2.0000e+00, 7.3000e+00, 7.0000e+00, 6.5000e+01, 5.0000e+00,\n          3.0000e+00, 8.3000e+01, 3.5000e+03, 2.0000e+00, 1.4200e+02, 9.2000e+01,\n          1.0000e+00, 0.0000e+00, 0.0000e+00],\n         [4.4000e+01, 1.0000e+01, 6.4000e+00, 6.0000e+00, 4.5000e+01, 7.0000e+00,\n          2.0000e+00, 7.2000e+01, 6.0000e+03, 2.0000e+00, 1.3000e+02, 8.5000e+01,\n          1.0000e+00, 0.0000e+00, 0.0000e+00],\n         [3.6000e+01, 4.0000e+00, 6.6000e+00, 5.0000e+00, 3.5000e+01, 7.0000e+00,\n          2.0000e+00, 7.4000e+01, 4.8000e+03, 2.0000e+00, 1.2900e+02, 8.4000e+01,\n          1.0000e+00, 0.0000e+00, 0.0000e+00],\n         [4.9000e+01, 2.0000e+00, 8.1000e+00, 9.0000e+00, 8.5000e+01, 3.0000e+00,\n          3.0000e+00, 8.6000e+01, 3.7000e+03, 1.0000e+00, 1.3900e+02, 9.1000e+01,\n          1.0000e+00, 0.0000e+00, 0.0000e+00],\n         [5.6000e+01, 2.0000e+00, 8.2000e+00, 9.0000e+00, 9.0000e+01, 3.0000e+00,\n          1.0000e+00, 6.5000e+01, 1.0000e+04, 0.0000e+00, 1.1800e+02, 7.5000e+01,\n          0.0000e+00, 1.0000e+00, 0.0000e+00],\n         [3.3000e+01, 8.0000e+00, 6.2000e+00, 6.0000e+00, 5.0000e+01, 6.0000e+00,\n          2.0000e+00, 7.6000e+01, 5.5000e+03, 0.0000e+00, 1.2800e+02, 8.5000e+01,\n          0.0000e+00, 1.0000e+00, 0.0000e+00],\n         [4.2000e+01, 9.0000e+00, 7.8000e+00, 8.0000e+00, 9.0000e+01, 5.0000e+00,\n          0.0000e+00, 7.0000e+01, 8.0000e+03, 0.0000e+00, 1.3000e+02, 8.5000e+01,\n          1.0000e+00, 0.0000e+00, 0.0000e+00],\n         [4.2000e+01, 9.0000e+00, 7.8000e+00, 8.0000e+00, 9.0000e+01, 5.0000e+00,\n          0.0000e+00, 7.0000e+01, 8.0000e+03, 0.0000e+00, 1.3000e+02, 8.5000e+01,\n          1.0000e+00, 0.0000e+00, 0.0000e+00],\n         [4.5000e+01, 4.0000e+00, 6.8000e+00, 7.0000e+00, 3.0000e+01, 6.0000e+00,\n          2.0000e+00, 6.5000e+01, 6.0000e+03, 2.0000e+00, 1.3500e+02, 9.0000e+01,\n          0.0000e+00, 1.0000e+00, 0.0000e+00],\n         [2.9000e+01, 2.0000e+00, 7.8000e+00, 7.0000e+00, 7.5000e+01, 6.0000e+00,\n          0.0000e+00, 7.0000e+01, 8.0000e+03, 0.0000e+00, 1.2000e+02, 8.0000e+01,\n          1.0000e+00, 0.0000e+00, 0.0000e+00],\n         [5.0000e+01, 5.0000e+00, 6.1000e+00, 6.0000e+00, 9.0000e+01, 8.0000e+00,\n          2.0000e+00, 7.5000e+01, 1.0000e+04, 1.0000e+00, 1.4000e+02, 9.5000e+01,\n          0.0000e+00, 1.0000e+00, 0.0000e+00],\n         [5.2000e+01, 6.0000e+00, 8.4000e+00, 9.0000e+00, 3.0000e+01, 3.0000e+00,\n          0.0000e+00, 6.5000e+01, 5.0000e+03, 0.0000e+00, 1.2500e+02, 8.0000e+01,\n          0.0000e+00, 1.0000e+00, 0.0000e+00],\n         [4.5000e+01, 1.1000e+01, 6.9000e+00, 7.0000e+00, 5.5000e+01, 5.0000e+00,\n          2.0000e+00, 7.5000e+01, 5.5000e+03, 0.0000e+00, 1.2500e+02, 8.2000e+01,\n          0.0000e+00, 1.0000e+00, 0.0000e+00],\n         [3.5000e+01, 6.0000e+00, 7.3000e+00, 8.0000e+00, 6.0000e+01, 4.0000e+00,\n          0.0000e+00, 6.5000e+01, 5.0000e+03, 0.0000e+00, 1.2500e+02, 8.0000e+01,\n          1.0000e+00, 0.0000e+00, 0.0000e+00],\n         [3.0000e+01, 2.0000e+00, 7.7000e+00, 7.0000e+00, 7.5000e+01, 6.0000e+00,\n          0.0000e+00, 7.0000e+01, 8.0000e+03, 0.0000e+00, 1.2000e+02, 8.0000e+01,\n          1.0000e+00, 0.0000e+00, 0.0000e+00],\n         [5.0000e+01, 5.0000e+00, 6.0000e+00, 6.0000e+00, 9.0000e+01, 8.0000e+00,\n          2.0000e+00, 7.5000e+01, 1.0000e+04, 1.0000e+00, 1.4000e+02, 9.5000e+01,\n          0.0000e+00, 1.0000e+00, 0.0000e+00],\n         [2.9000e+01, 2.0000e+00, 6.0000e+00, 6.0000e+00, 3.0000e+01, 8.0000e+00,\n          0.0000e+00, 7.0000e+01, 8.0000e+03, 0.0000e+00, 1.2000e+02, 8.0000e+01,\n          1.0000e+00, 0.0000e+00, 0.0000e+00],\n         [4.4000e+01, 4.0000e+00, 6.6000e+00, 7.0000e+00, 4.5000e+01, 4.0000e+00,\n          2.0000e+00, 6.5000e+01, 6.0000e+03, 2.0000e+00, 1.3500e+02, 9.0000e+01,\n          0.0000e+00, 1.0000e+00, 0.0000e+00],\n         [4.4000e+01, 1.0000e+01, 6.4000e+00, 6.0000e+00, 4.5000e+01, 7.0000e+00,\n          2.0000e+00, 7.2000e+01, 6.0000e+03, 2.0000e+00, 1.3000e+02, 8.5000e+01,\n          1.0000e+00, 0.0000e+00, 0.0000e+00],\n         [3.7000e+01, 7.0000e+00, 7.2000e+00, 8.0000e+00, 6.0000e+01, 4.0000e+00,\n          0.0000e+00, 6.8000e+01, 7.0000e+03, 0.0000e+00, 1.1500e+02, 7.5000e+01,\n          0.0000e+00, 1.0000e+00, 0.0000e+00]], dtype=torch.float64),\n tensor(68.6358, dtype=torch.float64))"
     },
     "execution_count": 19,
     "metadata": {},
     "output_type": "execute_result"
    }
   ],
   "source": [
    "dataset[0]"
   ],
   "metadata": {
    "collapsed": false,
    "ExecuteTime": {
     "start_time": "2023-10-27T20:03:39.588763Z",
     "end_time": "2023-10-27T20:03:39.622459Z"
    }
   }
  }
 ],
 "metadata": {
  "kernelspec": {
   "display_name": "Python 3",
   "language": "python",
   "name": "python3"
  },
  "language_info": {
   "codemirror_mode": {
    "name": "ipython",
    "version": 2
   },
   "file_extension": ".py",
   "mimetype": "text/x-python",
   "name": "python",
   "nbconvert_exporter": "python",
   "pygments_lexer": "ipython2",
   "version": "2.7.6"
  }
 },
 "nbformat": 4,
 "nbformat_minor": 0
}
