{
 "cells": [
  {
   "cell_type": "code",
   "execution_count": 1,
   "outputs": [],
   "source": [
    "import pandas as pd\n",
    "import numpy as np\n",
    "import os\n",
    "from etnn.data.prepare_ferris_wheel import prepare_1_ferris"
   ],
   "metadata": {
    "collapsed": false,
    "ExecuteTime": {
     "start_time": "2023-10-27T17:08:55.180193Z",
     "end_time": "2023-10-27T17:08:55.410133Z"
    }
   }
  },
  {
   "cell_type": "code",
   "execution_count": 2,
   "outputs": [],
   "source": [
    "df = prepare_1_ferris(\n",
    "    dataset_path=\".\",\n",
    "    df_name_output=\"health_dataset_preprocessed-1.csv\",\n",
    "    df_name_input=\"Sleep_health_and_lifestyle_dataset.csv\",\n",
    "    try_pregen=True\n",
    ")"
   ],
   "metadata": {
    "collapsed": false,
    "ExecuteTime": {
     "start_time": "2023-10-27T17:08:55.411138Z",
     "end_time": "2023-10-27T17:08:55.426286Z"
    }
   }
  },
  {
   "cell_type": "code",
   "execution_count": 3,
   "outputs": [
    {
     "data": {
      "text/plain": "   id  age  occupation  sleep_duration  sleep_quality  physical_activity  \\\n0   1   27           1             6.1              6                 42   \n1   2   28           2             6.2              6                 60   \n2   3   28           2             6.2              6                 60   \n3   4   28           3             5.9              4                 30   \n4   5   28           3             5.9              4                 30   \n\n   stress_level  bmi  heart_rate  daily_steps  sleep_disorder  \\\n0             6    2          77         4200               0   \n1             8    0          75        10000               0   \n2             8    0          75        10000               0   \n3             8    3          85         3000               1   \n4             8    3          85         3000               1   \n\n   blood_pressure1  blood_pressure2  gender_male  gender_female  gender_other  \n0              126               83         True          False         False  \n1              125               80         True          False         False  \n2              125               80         True          False         False  \n3              140               90         True          False         False  \n4              140               90         True          False         False  ",
      "text/html": "<div>\n<style scoped>\n    .dataframe tbody tr th:only-of-type {\n        vertical-align: middle;\n    }\n\n    .dataframe tbody tr th {\n        vertical-align: top;\n    }\n\n    .dataframe thead th {\n        text-align: right;\n    }\n</style>\n<table border=\"1\" class=\"dataframe\">\n  <thead>\n    <tr style=\"text-align: right;\">\n      <th></th>\n      <th>id</th>\n      <th>age</th>\n      <th>occupation</th>\n      <th>sleep_duration</th>\n      <th>sleep_quality</th>\n      <th>physical_activity</th>\n      <th>stress_level</th>\n      <th>bmi</th>\n      <th>heart_rate</th>\n      <th>daily_steps</th>\n      <th>sleep_disorder</th>\n      <th>blood_pressure1</th>\n      <th>blood_pressure2</th>\n      <th>gender_male</th>\n      <th>gender_female</th>\n      <th>gender_other</th>\n    </tr>\n  </thead>\n  <tbody>\n    <tr>\n      <th>0</th>\n      <td>1</td>\n      <td>27</td>\n      <td>1</td>\n      <td>6.1</td>\n      <td>6</td>\n      <td>42</td>\n      <td>6</td>\n      <td>2</td>\n      <td>77</td>\n      <td>4200</td>\n      <td>0</td>\n      <td>126</td>\n      <td>83</td>\n      <td>True</td>\n      <td>False</td>\n      <td>False</td>\n    </tr>\n    <tr>\n      <th>1</th>\n      <td>2</td>\n      <td>28</td>\n      <td>2</td>\n      <td>6.2</td>\n      <td>6</td>\n      <td>60</td>\n      <td>8</td>\n      <td>0</td>\n      <td>75</td>\n      <td>10000</td>\n      <td>0</td>\n      <td>125</td>\n      <td>80</td>\n      <td>True</td>\n      <td>False</td>\n      <td>False</td>\n    </tr>\n    <tr>\n      <th>2</th>\n      <td>3</td>\n      <td>28</td>\n      <td>2</td>\n      <td>6.2</td>\n      <td>6</td>\n      <td>60</td>\n      <td>8</td>\n      <td>0</td>\n      <td>75</td>\n      <td>10000</td>\n      <td>0</td>\n      <td>125</td>\n      <td>80</td>\n      <td>True</td>\n      <td>False</td>\n      <td>False</td>\n    </tr>\n    <tr>\n      <th>3</th>\n      <td>4</td>\n      <td>28</td>\n      <td>3</td>\n      <td>5.9</td>\n      <td>4</td>\n      <td>30</td>\n      <td>8</td>\n      <td>3</td>\n      <td>85</td>\n      <td>3000</td>\n      <td>1</td>\n      <td>140</td>\n      <td>90</td>\n      <td>True</td>\n      <td>False</td>\n      <td>False</td>\n    </tr>\n    <tr>\n      <th>4</th>\n      <td>5</td>\n      <td>28</td>\n      <td>3</td>\n      <td>5.9</td>\n      <td>4</td>\n      <td>30</td>\n      <td>8</td>\n      <td>3</td>\n      <td>85</td>\n      <td>3000</td>\n      <td>1</td>\n      <td>140</td>\n      <td>90</td>\n      <td>True</td>\n      <td>False</td>\n      <td>False</td>\n    </tr>\n  </tbody>\n</table>\n</div>"
     },
     "execution_count": 3,
     "metadata": {},
     "output_type": "execute_result"
    }
   ],
   "source": [
    "df.head()"
   ],
   "metadata": {
    "collapsed": false,
    "ExecuteTime": {
     "start_time": "2023-10-27T17:08:55.426286Z",
     "end_time": "2023-10-27T17:08:55.446588Z"
    }
   }
  },
  {
   "cell_type": "code",
   "execution_count": 4,
   "outputs": [],
   "source": [
    "# take group of ids from persons and state how the label for this group shall be calculated"
   ],
   "metadata": {
    "collapsed": false,
    "ExecuteTime": {
     "start_time": "2023-10-27T17:08:55.442290Z",
     "end_time": "2023-10-27T17:08:55.502588Z"
    }
   }
  },
  {
   "cell_type": "code",
   "execution_count": 5,
   "outputs": [],
   "source": [
    "# define ferris wheel\n",
    "num_gondolas = 10\n",
    "num_part_pg = 5"
   ],
   "metadata": {
    "collapsed": false,
    "ExecuteTime": {
     "start_time": "2023-10-27T17:08:55.458588Z",
     "end_time": "2023-10-27T17:08:55.514092Z"
    }
   }
  },
  {
   "cell_type": "code",
   "execution_count": 6,
   "outputs": [],
   "source": [
    "# generate sample element\n",
    "random_order = np.arange(len(df))+1\n",
    "np.random.shuffle(random_order)"
   ],
   "metadata": {
    "collapsed": false,
    "ExecuteTime": {
     "start_time": "2023-10-27T17:08:55.472587Z",
     "end_time": "2023-10-27T17:08:55.514092Z"
    }
   }
  },
  {
   "cell_type": "code",
   "execution_count": 7,
   "outputs": [],
   "source": [
    "example = [\n",
    "    random_order[i*num_part_pg:(i+1)*num_part_pg]\n",
    "    for i in range(num_gondolas)\n",
    "]"
   ],
   "metadata": {
    "collapsed": false,
    "ExecuteTime": {
     "start_time": "2023-10-27T17:08:55.489589Z",
     "end_time": "2023-10-27T17:08:55.514092Z"
    }
   }
  },
  {
   "cell_type": "code",
   "execution_count": 8,
   "outputs": [
    {
     "data": {
      "text/plain": "[array([ 53, 331, 367, 229, 248]),\n array([192, 179,  92, 199, 258]),\n array([213, 197, 174, 158,  72]),\n array([ 38, 147, 290, 165,  41]),\n array([339, 146, 134, 283,  95]),\n array([190, 171, 113, 268, 247]),\n array([266,  37,  78, 310,  75]),\n array([334, 116, 284, 340,  97]),\n array([250, 177, 256, 299,  33]),\n array([161, 245, 209, 234, 132])]"
     },
     "execution_count": 8,
     "metadata": {},
     "output_type": "execute_result"
    }
   ],
   "source": [
    "example"
   ],
   "metadata": {
    "collapsed": false,
    "ExecuteTime": {
     "start_time": "2023-10-27T17:08:55.504089Z",
     "end_time": "2023-10-27T17:08:55.522093Z"
    }
   }
  },
  {
   "cell_type": "markdown",
   "source": [
    "Rules:\n",
    "- People being happy with other people in same gondola\n",
    "    + Age composition too seperated is bad\n",
    "    + shift in gender is bad if too much, 50-50 is good or all one gender\n",
    "    + same with age composition\n",
    "    + sleep derived(multiplier with quality) persons get a subtraction and 'good sleepers' get bonus (sleep disorder counts as stronger subtraction)\n",
    "    + higher heart rate and pressure = joy or fear\n",
    "    + composition of persons in regards to bmi : extreme values make others (no exception for group all those as to many underweight or overweight persons may be awquard as well)\n",
    "- People being happy with neighboring gondolas composition\n",
    "    + same age gets bonus, none gets penalty as potentially group is separated\n",
    "    + gap between happyness index between self and neighbors causes it to produce a mean of only the neighbors"
   ],
   "metadata": {
    "collapsed": false
   }
  },
  {
   "cell_type": "code",
   "execution_count": 9,
   "outputs": [],
   "source": [
    "def age_composition_score(\n",
    "        df_elements: pd.DataFrame,\n",
    "        id_list\n",
    ") -> float:\n",
    "    df_subset = df_elements[df_elements.id.isin(id_list)]\n",
    "\n",
    "    score = 0\n",
    "\n",
    "    age = df_subset.age.to_numpy()\n",
    "    sorted_age = np.sort(age)\n",
    "\n",
    "    # check if in 10 year gap\n",
    "    gap = sorted_age[-1]-sorted_age[0]\n",
    "    # print(gap)\n",
    "    if gap <= 10:\n",
    "        score = 1\n",
    "        return score\n",
    "    else:\n",
    "        x = gap - 10\n",
    "        score = (-1/60)*x + 1\n",
    "        return score"
   ],
   "metadata": {
    "collapsed": false,
    "ExecuteTime": {
     "start_time": "2023-10-27T17:08:55.521093Z",
     "end_time": "2023-10-27T17:08:55.550092Z"
    }
   }
  },
  {
   "cell_type": "code",
   "execution_count": 10,
   "outputs": [],
   "source": [
    "def gender_composition_score(\n",
    "        df_elements: pd.DataFrame,\n",
    "        id_list\n",
    ") -> float:\n",
    "    df_sub = df_elements[df_elements.id.isin(id_list)]\n",
    "    # other genders are considered neutral\n",
    "    male = sum(df_sub.gender_male)\n",
    "    female = sum(df_sub.gender_female)\n",
    "    gsum = male + female\n",
    "\n",
    "    return 2*min(male/gsum, female/gsum) if (male and female) else 1"
   ],
   "metadata": {
    "collapsed": false,
    "ExecuteTime": {
     "start_time": "2023-10-27T17:08:55.537095Z",
     "end_time": "2023-10-27T17:08:55.582092Z"
    }
   }
  },
  {
   "cell_type": "code",
   "execution_count": 11,
   "outputs": [],
   "source": [
    "def sleep_composition_score(\n",
    "        df_elements: pd.DataFrame,\n",
    "        id_list\n",
    ") -> float:\n",
    "    df_sub = df_elements[df_elements.id.isin(id_list)]\n",
    "\n",
    "    sleep_d_mean = df_sub.sleep_duration.mean()\n",
    "    sleep_q_mean = df_sub.sleep_quality.mean()\n",
    "\n",
    "    return min((sleep_q_mean/10)*(sleep_d_mean/7.5), 1)"
   ],
   "metadata": {
    "collapsed": false,
    "ExecuteTime": {
     "start_time": "2023-10-27T17:08:55.553093Z",
     "end_time": "2023-10-27T17:08:55.591093Z"
    }
   }
  },
  {
   "cell_type": "code",
   "execution_count": 12,
   "outputs": [],
   "source": [
    "def bmi_composition_score(\n",
    "        df_elements: pd.DataFrame,\n",
    "        id_list\n",
    ") -> float:\n",
    "    df_sub = df_elements[df_elements.id.isin(id_list)]\n",
    "\n",
    "    bmi = df_sub.bmi.to_numpy()\n",
    "    bmi = np.where(bmi<2, 0, (bmi-1)/2)\n",
    "    score = 1-np.sum(bmi)/len(df_sub)\n",
    "\n",
    "    return score"
   ],
   "metadata": {
    "collapsed": false,
    "ExecuteTime": {
     "start_time": "2023-10-27T17:08:55.569095Z",
     "end_time": "2023-10-27T17:08:55.591093Z"
    }
   }
  },
  {
   "cell_type": "code",
   "execution_count": 13,
   "outputs": [],
   "source": [
    "def fear_composition_score(\n",
    "        df_elements: pd.DataFrame,\n",
    "        id_list\n",
    ") -> float:\n",
    "    df_sub = df_elements[df_elements.id.isin(id_list)]\n",
    "\n",
    "    blood_value = (df_sub.blood_pressure1 * df_sub.blood_pressure2 * df_sub.heart_rate).max()\n",
    "    # print(blood_value)\n",
    "    border = 900000\n",
    "\n",
    "    if blood_value >= border:\n",
    "        return 0\n",
    "    else:\n",
    "        return 1"
   ],
   "metadata": {
    "collapsed": false,
    "ExecuteTime": {
     "start_time": "2023-10-27T17:08:55.584093Z",
     "end_time": "2023-10-27T17:08:55.602094Z"
    }
   }
  },
  {
   "cell_type": "code",
   "execution_count": 14,
   "outputs": [],
   "source": [
    "def build_gondola_score(\n",
    "        df_elements: pd.DataFrame,\n",
    "        id_list\n",
    ") -> float:\n",
    "    age_score = age_composition_score(df_elements, id_list)\n",
    "    gender_score = gender_composition_score(df_elements, id_list)\n",
    "    sleep_score = sleep_composition_score(df_elements, id_list)\n",
    "    bmi_score = bmi_composition_score(df_elements, id_list)\n",
    "    fear_score = fear_composition_score(df_elements, id_list)\n",
    "\n",
    "    return 2.5*age_score + 2*gender_score + 0.5*sleep_score + 2*bmi_score + 3*fear_score"
   ],
   "metadata": {
    "collapsed": false,
    "ExecuteTime": {
     "start_time": "2023-10-27T17:08:55.602094Z",
     "end_time": "2023-10-27T17:08:55.619094Z"
    }
   }
  },
  {
   "cell_type": "code",
   "execution_count": 15,
   "outputs": [
    {
     "name": "stdout",
     "output_type": "stream",
     "text": [
      "5.156466666666667\n",
      "8.022933333333333\n",
      "9.63888\n",
      "5.0754\n",
      "5.933493333333333\n",
      "5.724026666666667\n",
      "5.494626666666667\n",
      "6.118600000000001\n",
      "8.658266666666666\n",
      "9.43408\n"
     ]
    }
   ],
   "source": [
    "for i in range(len(example)):\n",
    "    print(build_gondola_score(df, example[i]))"
   ],
   "metadata": {
    "collapsed": false,
    "ExecuteTime": {
     "start_time": "2023-10-27T17:08:55.615093Z",
     "end_time": "2023-10-27T17:08:55.631094Z"
    }
   }
  },
  {
   "cell_type": "code",
   "execution_count": 16,
   "outputs": [],
   "source": [
    "def build_wheel_happyness(\n",
    "        df_elements: pd.DataFrame,\n",
    "        wheel\n",
    ") -> float:\n",
    "\n",
    "    individual_scores = [\n",
    "        build_gondola_score(df_elements, wheel[i])\n",
    "        for i in range(len(wheel))\n",
    "    ]\n",
    "    neighbor_scores = [\n",
    "        (individual_scores[(i-1)%len(wheel)] + individual_scores[(i+1)%len(wheel)]) / 2\n",
    "        for i in range(len(wheel))\n",
    "    ]\n",
    "    age_mean = [\n",
    "        df_elements[df_elements.isin(wheel[i])].age.mean()\n",
    "        for i in range(len(wheel))\n",
    "    ]\n",
    "    age_group_bonus = [\n",
    "        abs(age_mean[(i-1)%len(wheel)] - age_mean[i]) < 5 or abs(age_mean[(i+1)%len(wheel)] - age_mean[i]) < 5\n",
    "        for i in range(len(wheel))\n",
    "    ]\n",
    "\n",
    "    return sum([\n",
    "        min(\n",
    "            (own + foreign) / 2 + 2*bonus,\n",
    "            10\n",
    "        )\n",
    "        for own, foreign, bonus in zip(individual_scores, neighbor_scores, age_group_bonus)\n",
    "    ])"
   ],
   "metadata": {
    "collapsed": false,
    "ExecuteTime": {
     "start_time": "2023-10-27T17:08:55.632092Z",
     "end_time": "2023-10-27T17:08:55.660313Z"
    }
   }
  },
  {
   "cell_type": "code",
   "execution_count": 17,
   "outputs": [
    {
     "data": {
      "text/plain": "69.25677333333333"
     },
     "execution_count": 17,
     "metadata": {},
     "output_type": "execute_result"
    }
   ],
   "source": [
    "build_wheel_happyness(df, example)"
   ],
   "metadata": {
    "collapsed": false,
    "ExecuteTime": {
     "start_time": "2023-10-27T17:08:55.646314Z",
     "end_time": "2023-10-27T17:08:55.676868Z"
    }
   }
  }
 ],
 "metadata": {
  "kernelspec": {
   "display_name": "Python 3",
   "language": "python",
   "name": "python3"
  },
  "language_info": {
   "codemirror_mode": {
    "name": "ipython",
    "version": 2
   },
   "file_extension": ".py",
   "mimetype": "text/x-python",
   "name": "python",
   "nbconvert_exporter": "python",
   "pygments_lexer": "ipython2",
   "version": "2.7.6"
  }
 },
 "nbformat": 4,
 "nbformat_minor": 0
}
