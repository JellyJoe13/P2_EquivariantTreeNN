{
 "cells": [
  {
   "cell_type": "code",
   "execution_count": 1,
   "outputs": [],
   "source": [
    "import pandas as pd\n",
    "import numpy as np\n",
    "import os\n",
    "from etnn.data.prepare_ferris_wheel import prepare_1_ferris, generate_ferris_dataset\n",
    "from etnn.data.ferris_score_helpers import build_wheel_happyness\n",
    "from tqdm import tqdm"
   ],
   "metadata": {
    "collapsed": false,
    "ExecuteTime": {
     "start_time": "2023-10-27T19:07:47.877322Z",
     "end_time": "2023-10-27T19:07:48.079692Z"
    }
   }
  },
  {
   "cell_type": "code",
   "execution_count": 2,
   "outputs": [],
   "source": [
    "df_health = prepare_1_ferris(\n",
    "    dataset_path=\".\",\n",
    "    df_name_output=\"health_dataset_preprocessed-1.csv\",\n",
    "    df_name_input=\"Sleep_health_and_lifestyle_dataset.csv\",\n",
    "    try_pregen=True\n",
    ")"
   ],
   "metadata": {
    "collapsed": false,
    "ExecuteTime": {
     "start_time": "2023-10-27T19:07:48.079692Z",
     "end_time": "2023-10-27T19:07:48.095705Z"
    }
   }
  },
  {
   "cell_type": "code",
   "execution_count": 3,
   "outputs": [
    {
     "data": {
      "text/plain": "   id  age  occupation  sleep_duration  sleep_quality  physical_activity  \\\n0   1   27           1             6.1              6                 42   \n1   2   28           2             6.2              6                 60   \n2   3   28           2             6.2              6                 60   \n3   4   28           3             5.9              4                 30   \n4   5   28           3             5.9              4                 30   \n\n   stress_level  bmi  heart_rate  daily_steps  sleep_disorder  \\\n0             6    2          77         4200               0   \n1             8    0          75        10000               0   \n2             8    0          75        10000               0   \n3             8    3          85         3000               1   \n4             8    3          85         3000               1   \n\n   blood_pressure1  blood_pressure2  gender_male  gender_female  gender_other  \n0              126               83         True          False         False  \n1              125               80         True          False         False  \n2              125               80         True          False         False  \n3              140               90         True          False         False  \n4              140               90         True          False         False  ",
      "text/html": "<div>\n<style scoped>\n    .dataframe tbody tr th:only-of-type {\n        vertical-align: middle;\n    }\n\n    .dataframe tbody tr th {\n        vertical-align: top;\n    }\n\n    .dataframe thead th {\n        text-align: right;\n    }\n</style>\n<table border=\"1\" class=\"dataframe\">\n  <thead>\n    <tr style=\"text-align: right;\">\n      <th></th>\n      <th>id</th>\n      <th>age</th>\n      <th>occupation</th>\n      <th>sleep_duration</th>\n      <th>sleep_quality</th>\n      <th>physical_activity</th>\n      <th>stress_level</th>\n      <th>bmi</th>\n      <th>heart_rate</th>\n      <th>daily_steps</th>\n      <th>sleep_disorder</th>\n      <th>blood_pressure1</th>\n      <th>blood_pressure2</th>\n      <th>gender_male</th>\n      <th>gender_female</th>\n      <th>gender_other</th>\n    </tr>\n  </thead>\n  <tbody>\n    <tr>\n      <th>0</th>\n      <td>1</td>\n      <td>27</td>\n      <td>1</td>\n      <td>6.1</td>\n      <td>6</td>\n      <td>42</td>\n      <td>6</td>\n      <td>2</td>\n      <td>77</td>\n      <td>4200</td>\n      <td>0</td>\n      <td>126</td>\n      <td>83</td>\n      <td>True</td>\n      <td>False</td>\n      <td>False</td>\n    </tr>\n    <tr>\n      <th>1</th>\n      <td>2</td>\n      <td>28</td>\n      <td>2</td>\n      <td>6.2</td>\n      <td>6</td>\n      <td>60</td>\n      <td>8</td>\n      <td>0</td>\n      <td>75</td>\n      <td>10000</td>\n      <td>0</td>\n      <td>125</td>\n      <td>80</td>\n      <td>True</td>\n      <td>False</td>\n      <td>False</td>\n    </tr>\n    <tr>\n      <th>2</th>\n      <td>3</td>\n      <td>28</td>\n      <td>2</td>\n      <td>6.2</td>\n      <td>6</td>\n      <td>60</td>\n      <td>8</td>\n      <td>0</td>\n      <td>75</td>\n      <td>10000</td>\n      <td>0</td>\n      <td>125</td>\n      <td>80</td>\n      <td>True</td>\n      <td>False</td>\n      <td>False</td>\n    </tr>\n    <tr>\n      <th>3</th>\n      <td>4</td>\n      <td>28</td>\n      <td>3</td>\n      <td>5.9</td>\n      <td>4</td>\n      <td>30</td>\n      <td>8</td>\n      <td>3</td>\n      <td>85</td>\n      <td>3000</td>\n      <td>1</td>\n      <td>140</td>\n      <td>90</td>\n      <td>True</td>\n      <td>False</td>\n      <td>False</td>\n    </tr>\n    <tr>\n      <th>4</th>\n      <td>5</td>\n      <td>28</td>\n      <td>3</td>\n      <td>5.9</td>\n      <td>4</td>\n      <td>30</td>\n      <td>8</td>\n      <td>3</td>\n      <td>85</td>\n      <td>3000</td>\n      <td>1</td>\n      <td>140</td>\n      <td>90</td>\n      <td>True</td>\n      <td>False</td>\n      <td>False</td>\n    </tr>\n  </tbody>\n</table>\n</div>"
     },
     "execution_count": 3,
     "metadata": {},
     "output_type": "execute_result"
    }
   ],
   "source": [
    "df_health.head()"
   ],
   "metadata": {
    "collapsed": false,
    "ExecuteTime": {
     "start_time": "2023-10-27T19:07:48.096829Z",
     "end_time": "2023-10-27T19:07:48.115595Z"
    }
   }
  },
  {
   "cell_type": "code",
   "execution_count": 4,
   "outputs": [],
   "source": [
    "# take group of ids from persons and state how the label for this group shall be calculated"
   ],
   "metadata": {
    "collapsed": false,
    "ExecuteTime": {
     "start_time": "2023-10-27T19:07:48.112340Z",
     "end_time": "2023-10-27T19:07:48.153457Z"
    }
   }
  },
  {
   "cell_type": "code",
   "execution_count": 5,
   "outputs": [],
   "source": [
    "# define ferris wheel\n",
    "num_gondolas = 10\n",
    "num_part_pg = 5"
   ],
   "metadata": {
    "collapsed": false,
    "ExecuteTime": {
     "start_time": "2023-10-27T19:07:48.127713Z",
     "end_time": "2023-10-27T19:07:48.186921Z"
    }
   }
  },
  {
   "cell_type": "code",
   "execution_count": 6,
   "outputs": [],
   "source": [
    "# generate sample element\n",
    "random_order = np.arange(len(df_health)) + 1\n",
    "np.random.shuffle(random_order)"
   ],
   "metadata": {
    "collapsed": false,
    "ExecuteTime": {
     "start_time": "2023-10-27T19:07:48.142362Z",
     "end_time": "2023-10-27T19:07:48.194427Z"
    }
   }
  },
  {
   "cell_type": "code",
   "execution_count": 7,
   "outputs": [],
   "source": [
    "example = [\n",
    "    random_order[i*num_part_pg:(i+1)*num_part_pg]\n",
    "    for i in range(num_gondolas)\n",
    "]"
   ],
   "metadata": {
    "collapsed": false,
    "ExecuteTime": {
     "start_time": "2023-10-27T19:07:48.158493Z",
     "end_time": "2023-10-27T19:07:48.194427Z"
    }
   }
  },
  {
   "cell_type": "code",
   "execution_count": 8,
   "outputs": [
    {
     "data": {
      "text/plain": "[array([ 23,  38, 261, 206,  80]),\n array([286, 337, 233, 279, 126]),\n array([293, 198,  45, 303, 304]),\n array([ 75, 225,  21, 224, 157]),\n array([342,  47,  56, 173, 131]),\n array([ 97, 209, 288, 164, 356]),\n array([367, 260,  43, 355, 311]),\n array([146, 138, 332, 102,  20]),\n array([192, 129, 189, 175, 195]),\n array([179,  91, 309, 152, 235])]"
     },
     "execution_count": 8,
     "metadata": {},
     "output_type": "execute_result"
    }
   ],
   "source": [
    "example"
   ],
   "metadata": {
    "collapsed": false,
    "ExecuteTime": {
     "start_time": "2023-10-27T19:07:48.174416Z",
     "end_time": "2023-10-27T19:07:48.195430Z"
    }
   }
  },
  {
   "cell_type": "code",
   "execution_count": 9,
   "outputs": [
    {
     "data": {
      "text/plain": "array([[ 23,  38, 261, 206,  80],\n       [286, 337, 233, 279, 126],\n       [293, 198,  45, 303, 304],\n       [ 75, 225,  21, 224, 157],\n       [342,  47,  56, 173, 131],\n       [ 97, 209, 288, 164, 356],\n       [367, 260,  43, 355, 311],\n       [146, 138, 332, 102,  20],\n       [192, 129, 189, 175, 195],\n       [179,  91, 309, 152, 235]])"
     },
     "execution_count": 9,
     "metadata": {},
     "output_type": "execute_result"
    }
   ],
   "source": [
    "random_order[:num_gondolas*num_part_pg].reshape(num_gondolas, num_part_pg)"
   ],
   "metadata": {
    "collapsed": false,
    "ExecuteTime": {
     "start_time": "2023-10-27T19:07:48.187922Z",
     "end_time": "2023-10-27T19:07:48.219248Z"
    }
   }
  },
  {
   "cell_type": "markdown",
   "source": [
    "Rules:\n",
    "- People being happy with other people in same gondola\n",
    "    + Age composition too seperated is bad\n",
    "    + shift in gender is bad if too much, 50-50 is good or all one gender\n",
    "    + same with age composition\n",
    "    + sleep derived(multiplier with quality) persons get a subtraction and 'good sleepers' get bonus (sleep disorder counts as stronger subtraction)\n",
    "    + higher heart rate and pressure = joy or fear\n",
    "    + composition of persons in regards to bmi : extreme values make others (no exception for group all those as to many underweight or overweight persons may be awquard as well)\n",
    "- People being happy with neighboring gondolas composition\n",
    "    + same age gets bonus, none gets penalty as potentially group is separated\n",
    "    + gap between happyness index between self and neighbors causes it to produce a mean of only the neighbors"
   ],
   "metadata": {
    "collapsed": false
   }
  },
  {
   "cell_type": "code",
   "execution_count": 10,
   "outputs": [
    {
     "data": {
      "text/plain": "68.47836000000001"
     },
     "execution_count": 10,
     "metadata": {},
     "output_type": "execute_result"
    }
   ],
   "source": [
    "build_wheel_happyness(df_health, example)"
   ],
   "metadata": {
    "collapsed": false,
    "ExecuteTime": {
     "start_time": "2023-10-27T19:07:48.205743Z",
     "end_time": "2023-10-27T19:07:48.254911Z"
    }
   }
  },
  {
   "cell_type": "code",
   "execution_count": 11,
   "outputs": [
    {
     "data": {
      "text/plain": "68.47836000000001"
     },
     "execution_count": 11,
     "metadata": {},
     "output_type": "execute_result"
    }
   ],
   "source": [
    "build_wheel_happyness(df_health, random_order[:num_gondolas * num_part_pg].reshape(num_gondolas, num_part_pg))"
   ],
   "metadata": {
    "collapsed": false,
    "ExecuteTime": {
     "start_time": "2023-10-27T19:07:48.235894Z",
     "end_time": "2023-10-27T19:07:48.266921Z"
    }
   }
  },
  {
   "cell_type": "code",
   "execution_count": 12,
   "outputs": [],
   "source": [
    "# define dataset size\n",
    "num_to_generate = 10_000\n",
    "# define ferris wheel\n",
    "num_gondolas = 10\n",
    "num_part_pg = 5"
   ],
   "metadata": {
    "collapsed": false,
    "ExecuteTime": {
     "start_time": "2023-10-27T19:07:48.265921Z",
     "end_time": "2023-10-27T19:07:48.312456Z"
    }
   }
  },
  {
   "cell_type": "code",
   "execution_count": 13,
   "outputs": [],
   "source": [
    "df_index, df_health = generate_ferris_dataset(\n",
    "    num_gondolas=num_gondolas,\n",
    "    num_part_pg=num_part_pg,\n",
    "    num_to_generate=num_to_generate,\n",
    "    dataset_path=\".\",\n",
    "    df_intermediate_output_name=\"health_dataset_preprocessed-1.csv\",\n",
    "    df_name_input=\"Sleep_health_and_lifestyle_dataset.csv\",\n",
    "    try_pregen=True\n",
    ")"
   ],
   "metadata": {
    "collapsed": false,
    "ExecuteTime": {
     "start_time": "2023-10-27T19:07:48.281426Z",
     "end_time": "2023-10-27T19:07:48.318459Z"
    }
   }
  },
  {
   "cell_type": "code",
   "execution_count": 14,
   "outputs": [
    {
     "data": {
      "text/plain": "   g-0_p-0  g-0_p-1  g-0_p-2  g-0_p-3  g-0_p-4  g-1_p-0  g-1_p-1  g-1_p-2  \\\n0        0        1        2        3        4        5        6        7   \n1        0        1        2        3        4        5        6        7   \n2        0        1        2        3        4        5        6        7   \n3        0        1        2        3        4        5        6        7   \n4        0        1        2        3        4        5        6        7   \n\n   g-1_p-3  g-1_p-4  ...  g-8_p-1  g-8_p-2  g-8_p-3  g-8_p-4  g-9_p-0  \\\n0        8        9  ...       41       42       43       44       45   \n1        8        9  ...       41       42       43       44       45   \n2        8        9  ...       41       42       43       44       45   \n3        8        9  ...       41       42       43       44       45   \n4        8        9  ...       41       42       43       44       45   \n\n   g-9_p-1  g-9_p-2  g-9_p-3  g-9_p-4      label  \n0       46       47       48       49  88.193557  \n1       46       47       48       49  88.193557  \n2       46       47       48       49  88.193557  \n3       46       47       48       49  88.193557  \n4       46       47       48       49  88.193557  \n\n[5 rows x 51 columns]",
      "text/html": "<div>\n<style scoped>\n    .dataframe tbody tr th:only-of-type {\n        vertical-align: middle;\n    }\n\n    .dataframe tbody tr th {\n        vertical-align: top;\n    }\n\n    .dataframe thead th {\n        text-align: right;\n    }\n</style>\n<table border=\"1\" class=\"dataframe\">\n  <thead>\n    <tr style=\"text-align: right;\">\n      <th></th>\n      <th>g-0_p-0</th>\n      <th>g-0_p-1</th>\n      <th>g-0_p-2</th>\n      <th>g-0_p-3</th>\n      <th>g-0_p-4</th>\n      <th>g-1_p-0</th>\n      <th>g-1_p-1</th>\n      <th>g-1_p-2</th>\n      <th>g-1_p-3</th>\n      <th>g-1_p-4</th>\n      <th>...</th>\n      <th>g-8_p-1</th>\n      <th>g-8_p-2</th>\n      <th>g-8_p-3</th>\n      <th>g-8_p-4</th>\n      <th>g-9_p-0</th>\n      <th>g-9_p-1</th>\n      <th>g-9_p-2</th>\n      <th>g-9_p-3</th>\n      <th>g-9_p-4</th>\n      <th>label</th>\n    </tr>\n  </thead>\n  <tbody>\n    <tr>\n      <th>0</th>\n      <td>0</td>\n      <td>1</td>\n      <td>2</td>\n      <td>3</td>\n      <td>4</td>\n      <td>5</td>\n      <td>6</td>\n      <td>7</td>\n      <td>8</td>\n      <td>9</td>\n      <td>...</td>\n      <td>41</td>\n      <td>42</td>\n      <td>43</td>\n      <td>44</td>\n      <td>45</td>\n      <td>46</td>\n      <td>47</td>\n      <td>48</td>\n      <td>49</td>\n      <td>88.193557</td>\n    </tr>\n    <tr>\n      <th>1</th>\n      <td>0</td>\n      <td>1</td>\n      <td>2</td>\n      <td>3</td>\n      <td>4</td>\n      <td>5</td>\n      <td>6</td>\n      <td>7</td>\n      <td>8</td>\n      <td>9</td>\n      <td>...</td>\n      <td>41</td>\n      <td>42</td>\n      <td>43</td>\n      <td>44</td>\n      <td>45</td>\n      <td>46</td>\n      <td>47</td>\n      <td>48</td>\n      <td>49</td>\n      <td>88.193557</td>\n    </tr>\n    <tr>\n      <th>2</th>\n      <td>0</td>\n      <td>1</td>\n      <td>2</td>\n      <td>3</td>\n      <td>4</td>\n      <td>5</td>\n      <td>6</td>\n      <td>7</td>\n      <td>8</td>\n      <td>9</td>\n      <td>...</td>\n      <td>41</td>\n      <td>42</td>\n      <td>43</td>\n      <td>44</td>\n      <td>45</td>\n      <td>46</td>\n      <td>47</td>\n      <td>48</td>\n      <td>49</td>\n      <td>88.193557</td>\n    </tr>\n    <tr>\n      <th>3</th>\n      <td>0</td>\n      <td>1</td>\n      <td>2</td>\n      <td>3</td>\n      <td>4</td>\n      <td>5</td>\n      <td>6</td>\n      <td>7</td>\n      <td>8</td>\n      <td>9</td>\n      <td>...</td>\n      <td>41</td>\n      <td>42</td>\n      <td>43</td>\n      <td>44</td>\n      <td>45</td>\n      <td>46</td>\n      <td>47</td>\n      <td>48</td>\n      <td>49</td>\n      <td>88.193557</td>\n    </tr>\n    <tr>\n      <th>4</th>\n      <td>0</td>\n      <td>1</td>\n      <td>2</td>\n      <td>3</td>\n      <td>4</td>\n      <td>5</td>\n      <td>6</td>\n      <td>7</td>\n      <td>8</td>\n      <td>9</td>\n      <td>...</td>\n      <td>41</td>\n      <td>42</td>\n      <td>43</td>\n      <td>44</td>\n      <td>45</td>\n      <td>46</td>\n      <td>47</td>\n      <td>48</td>\n      <td>49</td>\n      <td>88.193557</td>\n    </tr>\n  </tbody>\n</table>\n<p>5 rows × 51 columns</p>\n</div>"
     },
     "execution_count": 14,
     "metadata": {},
     "output_type": "execute_result"
    }
   ],
   "source": [
    "df_index.head()"
   ],
   "metadata": {
    "collapsed": false,
    "ExecuteTime": {
     "start_time": "2023-10-27T19:07:48.314460Z",
     "end_time": "2023-10-27T19:07:48.328693Z"
    }
   }
  },
  {
   "cell_type": "code",
   "execution_count": 15,
   "outputs": [
    {
     "data": {
      "text/plain": "   id  age  occupation  sleep_duration  sleep_quality  physical_activity  \\\n0   1   27           1             6.1              6                 42   \n1   2   28           2             6.2              6                 60   \n2   3   28           2             6.2              6                 60   \n3   4   28           3             5.9              4                 30   \n4   5   28           3             5.9              4                 30   \n\n   stress_level  bmi  heart_rate  daily_steps  sleep_disorder  \\\n0             6    2          77         4200               0   \n1             8    0          75        10000               0   \n2             8    0          75        10000               0   \n3             8    3          85         3000               1   \n4             8    3          85         3000               1   \n\n   blood_pressure1  blood_pressure2  gender_male  gender_female  gender_other  \n0              126               83         True          False         False  \n1              125               80         True          False         False  \n2              125               80         True          False         False  \n3              140               90         True          False         False  \n4              140               90         True          False         False  ",
      "text/html": "<div>\n<style scoped>\n    .dataframe tbody tr th:only-of-type {\n        vertical-align: middle;\n    }\n\n    .dataframe tbody tr th {\n        vertical-align: top;\n    }\n\n    .dataframe thead th {\n        text-align: right;\n    }\n</style>\n<table border=\"1\" class=\"dataframe\">\n  <thead>\n    <tr style=\"text-align: right;\">\n      <th></th>\n      <th>id</th>\n      <th>age</th>\n      <th>occupation</th>\n      <th>sleep_duration</th>\n      <th>sleep_quality</th>\n      <th>physical_activity</th>\n      <th>stress_level</th>\n      <th>bmi</th>\n      <th>heart_rate</th>\n      <th>daily_steps</th>\n      <th>sleep_disorder</th>\n      <th>blood_pressure1</th>\n      <th>blood_pressure2</th>\n      <th>gender_male</th>\n      <th>gender_female</th>\n      <th>gender_other</th>\n    </tr>\n  </thead>\n  <tbody>\n    <tr>\n      <th>0</th>\n      <td>1</td>\n      <td>27</td>\n      <td>1</td>\n      <td>6.1</td>\n      <td>6</td>\n      <td>42</td>\n      <td>6</td>\n      <td>2</td>\n      <td>77</td>\n      <td>4200</td>\n      <td>0</td>\n      <td>126</td>\n      <td>83</td>\n      <td>True</td>\n      <td>False</td>\n      <td>False</td>\n    </tr>\n    <tr>\n      <th>1</th>\n      <td>2</td>\n      <td>28</td>\n      <td>2</td>\n      <td>6.2</td>\n      <td>6</td>\n      <td>60</td>\n      <td>8</td>\n      <td>0</td>\n      <td>75</td>\n      <td>10000</td>\n      <td>0</td>\n      <td>125</td>\n      <td>80</td>\n      <td>True</td>\n      <td>False</td>\n      <td>False</td>\n    </tr>\n    <tr>\n      <th>2</th>\n      <td>3</td>\n      <td>28</td>\n      <td>2</td>\n      <td>6.2</td>\n      <td>6</td>\n      <td>60</td>\n      <td>8</td>\n      <td>0</td>\n      <td>75</td>\n      <td>10000</td>\n      <td>0</td>\n      <td>125</td>\n      <td>80</td>\n      <td>True</td>\n      <td>False</td>\n      <td>False</td>\n    </tr>\n    <tr>\n      <th>3</th>\n      <td>4</td>\n      <td>28</td>\n      <td>3</td>\n      <td>5.9</td>\n      <td>4</td>\n      <td>30</td>\n      <td>8</td>\n      <td>3</td>\n      <td>85</td>\n      <td>3000</td>\n      <td>1</td>\n      <td>140</td>\n      <td>90</td>\n      <td>True</td>\n      <td>False</td>\n      <td>False</td>\n    </tr>\n    <tr>\n      <th>4</th>\n      <td>5</td>\n      <td>28</td>\n      <td>3</td>\n      <td>5.9</td>\n      <td>4</td>\n      <td>30</td>\n      <td>8</td>\n      <td>3</td>\n      <td>85</td>\n      <td>3000</td>\n      <td>1</td>\n      <td>140</td>\n      <td>90</td>\n      <td>True</td>\n      <td>False</td>\n      <td>False</td>\n    </tr>\n  </tbody>\n</table>\n</div>"
     },
     "execution_count": 15,
     "metadata": {},
     "output_type": "execute_result"
    }
   ],
   "source": [
    "df_health.head()"
   ],
   "metadata": {
    "collapsed": false,
    "ExecuteTime": {
     "start_time": "2023-10-27T19:07:48.329694Z",
     "end_time": "2023-10-27T19:07:48.355671Z"
    }
   }
  },
  {
   "cell_type": "code",
   "execution_count": 16,
   "outputs": [
    {
     "data": {
      "text/plain": "      g-0_p-0  g-0_p-1  g-0_p-2  g-0_p-3  g-0_p-4  g-1_p-0  g-1_p-1  g-1_p-2  \\\n0           0        1        2        3        4        5        6        7   \n1           0        1        2        3        4        5        6        7   \n2           0        1        2        3        4        5        6        7   \n3           0        1        2        3        4        5        6        7   \n4           0        1        2        3        4        5        6        7   \n...       ...      ...      ...      ...      ...      ...      ...      ...   \n9995        0        1        2        3        4        5        6        7   \n9996        0        1        2        3        4        5        6        7   \n9997        0        1        2        3        4        5        6        7   \n9998        0        1        2        3        4        5        6        7   \n9999        0        1        2        3        4        5        6        7   \n\n      g-1_p-3  g-1_p-4  ...  g-8_p-0  g-8_p-1  g-8_p-2  g-8_p-3  g-8_p-4  \\\n0           8        9  ...       40       41       42       43       44   \n1           8        9  ...       40       41       42       43       44   \n2           8        9  ...       40       41       42       43       44   \n3           8        9  ...       40       41       42       43       44   \n4           8        9  ...       40       41       42       43       44   \n...       ...      ...  ...      ...      ...      ...      ...      ...   \n9995        8        9  ...       40       41       42       43       44   \n9996        8        9  ...       40       41       42       43       44   \n9997        8        9  ...       40       41       42       43       44   \n9998        8        9  ...       40       41       42       43       44   \n9999        8        9  ...       40       41       42       43       44   \n\n      g-9_p-0  g-9_p-1  g-9_p-2  g-9_p-3  g-9_p-4  \n0          45       46       47       48       49  \n1          45       46       47       48       49  \n2          45       46       47       48       49  \n3          45       46       47       48       49  \n4          45       46       47       48       49  \n...       ...      ...      ...      ...      ...  \n9995       45       46       47       48       49  \n9996       45       46       47       48       49  \n9997       45       46       47       48       49  \n9998       45       46       47       48       49  \n9999       45       46       47       48       49  \n\n[10000 rows x 50 columns]",
      "text/html": "<div>\n<style scoped>\n    .dataframe tbody tr th:only-of-type {\n        vertical-align: middle;\n    }\n\n    .dataframe tbody tr th {\n        vertical-align: top;\n    }\n\n    .dataframe thead th {\n        text-align: right;\n    }\n</style>\n<table border=\"1\" class=\"dataframe\">\n  <thead>\n    <tr style=\"text-align: right;\">\n      <th></th>\n      <th>g-0_p-0</th>\n      <th>g-0_p-1</th>\n      <th>g-0_p-2</th>\n      <th>g-0_p-3</th>\n      <th>g-0_p-4</th>\n      <th>g-1_p-0</th>\n      <th>g-1_p-1</th>\n      <th>g-1_p-2</th>\n      <th>g-1_p-3</th>\n      <th>g-1_p-4</th>\n      <th>...</th>\n      <th>g-8_p-0</th>\n      <th>g-8_p-1</th>\n      <th>g-8_p-2</th>\n      <th>g-8_p-3</th>\n      <th>g-8_p-4</th>\n      <th>g-9_p-0</th>\n      <th>g-9_p-1</th>\n      <th>g-9_p-2</th>\n      <th>g-9_p-3</th>\n      <th>g-9_p-4</th>\n    </tr>\n  </thead>\n  <tbody>\n    <tr>\n      <th>0</th>\n      <td>0</td>\n      <td>1</td>\n      <td>2</td>\n      <td>3</td>\n      <td>4</td>\n      <td>5</td>\n      <td>6</td>\n      <td>7</td>\n      <td>8</td>\n      <td>9</td>\n      <td>...</td>\n      <td>40</td>\n      <td>41</td>\n      <td>42</td>\n      <td>43</td>\n      <td>44</td>\n      <td>45</td>\n      <td>46</td>\n      <td>47</td>\n      <td>48</td>\n      <td>49</td>\n    </tr>\n    <tr>\n      <th>1</th>\n      <td>0</td>\n      <td>1</td>\n      <td>2</td>\n      <td>3</td>\n      <td>4</td>\n      <td>5</td>\n      <td>6</td>\n      <td>7</td>\n      <td>8</td>\n      <td>9</td>\n      <td>...</td>\n      <td>40</td>\n      <td>41</td>\n      <td>42</td>\n      <td>43</td>\n      <td>44</td>\n      <td>45</td>\n      <td>46</td>\n      <td>47</td>\n      <td>48</td>\n      <td>49</td>\n    </tr>\n    <tr>\n      <th>2</th>\n      <td>0</td>\n      <td>1</td>\n      <td>2</td>\n      <td>3</td>\n      <td>4</td>\n      <td>5</td>\n      <td>6</td>\n      <td>7</td>\n      <td>8</td>\n      <td>9</td>\n      <td>...</td>\n      <td>40</td>\n      <td>41</td>\n      <td>42</td>\n      <td>43</td>\n      <td>44</td>\n      <td>45</td>\n      <td>46</td>\n      <td>47</td>\n      <td>48</td>\n      <td>49</td>\n    </tr>\n    <tr>\n      <th>3</th>\n      <td>0</td>\n      <td>1</td>\n      <td>2</td>\n      <td>3</td>\n      <td>4</td>\n      <td>5</td>\n      <td>6</td>\n      <td>7</td>\n      <td>8</td>\n      <td>9</td>\n      <td>...</td>\n      <td>40</td>\n      <td>41</td>\n      <td>42</td>\n      <td>43</td>\n      <td>44</td>\n      <td>45</td>\n      <td>46</td>\n      <td>47</td>\n      <td>48</td>\n      <td>49</td>\n    </tr>\n    <tr>\n      <th>4</th>\n      <td>0</td>\n      <td>1</td>\n      <td>2</td>\n      <td>3</td>\n      <td>4</td>\n      <td>5</td>\n      <td>6</td>\n      <td>7</td>\n      <td>8</td>\n      <td>9</td>\n      <td>...</td>\n      <td>40</td>\n      <td>41</td>\n      <td>42</td>\n      <td>43</td>\n      <td>44</td>\n      <td>45</td>\n      <td>46</td>\n      <td>47</td>\n      <td>48</td>\n      <td>49</td>\n    </tr>\n    <tr>\n      <th>...</th>\n      <td>...</td>\n      <td>...</td>\n      <td>...</td>\n      <td>...</td>\n      <td>...</td>\n      <td>...</td>\n      <td>...</td>\n      <td>...</td>\n      <td>...</td>\n      <td>...</td>\n      <td>...</td>\n      <td>...</td>\n      <td>...</td>\n      <td>...</td>\n      <td>...</td>\n      <td>...</td>\n      <td>...</td>\n      <td>...</td>\n      <td>...</td>\n      <td>...</td>\n      <td>...</td>\n    </tr>\n    <tr>\n      <th>9995</th>\n      <td>0</td>\n      <td>1</td>\n      <td>2</td>\n      <td>3</td>\n      <td>4</td>\n      <td>5</td>\n      <td>6</td>\n      <td>7</td>\n      <td>8</td>\n      <td>9</td>\n      <td>...</td>\n      <td>40</td>\n      <td>41</td>\n      <td>42</td>\n      <td>43</td>\n      <td>44</td>\n      <td>45</td>\n      <td>46</td>\n      <td>47</td>\n      <td>48</td>\n      <td>49</td>\n    </tr>\n    <tr>\n      <th>9996</th>\n      <td>0</td>\n      <td>1</td>\n      <td>2</td>\n      <td>3</td>\n      <td>4</td>\n      <td>5</td>\n      <td>6</td>\n      <td>7</td>\n      <td>8</td>\n      <td>9</td>\n      <td>...</td>\n      <td>40</td>\n      <td>41</td>\n      <td>42</td>\n      <td>43</td>\n      <td>44</td>\n      <td>45</td>\n      <td>46</td>\n      <td>47</td>\n      <td>48</td>\n      <td>49</td>\n    </tr>\n    <tr>\n      <th>9997</th>\n      <td>0</td>\n      <td>1</td>\n      <td>2</td>\n      <td>3</td>\n      <td>4</td>\n      <td>5</td>\n      <td>6</td>\n      <td>7</td>\n      <td>8</td>\n      <td>9</td>\n      <td>...</td>\n      <td>40</td>\n      <td>41</td>\n      <td>42</td>\n      <td>43</td>\n      <td>44</td>\n      <td>45</td>\n      <td>46</td>\n      <td>47</td>\n      <td>48</td>\n      <td>49</td>\n    </tr>\n    <tr>\n      <th>9998</th>\n      <td>0</td>\n      <td>1</td>\n      <td>2</td>\n      <td>3</td>\n      <td>4</td>\n      <td>5</td>\n      <td>6</td>\n      <td>7</td>\n      <td>8</td>\n      <td>9</td>\n      <td>...</td>\n      <td>40</td>\n      <td>41</td>\n      <td>42</td>\n      <td>43</td>\n      <td>44</td>\n      <td>45</td>\n      <td>46</td>\n      <td>47</td>\n      <td>48</td>\n      <td>49</td>\n    </tr>\n    <tr>\n      <th>9999</th>\n      <td>0</td>\n      <td>1</td>\n      <td>2</td>\n      <td>3</td>\n      <td>4</td>\n      <td>5</td>\n      <td>6</td>\n      <td>7</td>\n      <td>8</td>\n      <td>9</td>\n      <td>...</td>\n      <td>40</td>\n      <td>41</td>\n      <td>42</td>\n      <td>43</td>\n      <td>44</td>\n      <td>45</td>\n      <td>46</td>\n      <td>47</td>\n      <td>48</td>\n      <td>49</td>\n    </tr>\n  </tbody>\n</table>\n<p>10000 rows × 50 columns</p>\n</div>"
     },
     "execution_count": 16,
     "metadata": {},
     "output_type": "execute_result"
    }
   ],
   "source": [
    "df_index.iloc[:, :-1]"
   ],
   "metadata": {
    "collapsed": false,
    "ExecuteTime": {
     "start_time": "2023-10-27T19:07:48.345153Z",
     "end_time": "2023-10-27T19:07:48.420932Z"
    }
   }
  }
 ],
 "metadata": {
  "kernelspec": {
   "display_name": "Python 3",
   "language": "python",
   "name": "python3"
  },
  "language_info": {
   "codemirror_mode": {
    "name": "ipython",
    "version": 2
   },
   "file_extension": ".py",
   "mimetype": "text/x-python",
   "name": "python",
   "nbconvert_exporter": "python",
   "pygments_lexer": "ipython2",
   "version": "2.7.6"
  }
 },
 "nbformat": 4,
 "nbformat_minor": 0
}
