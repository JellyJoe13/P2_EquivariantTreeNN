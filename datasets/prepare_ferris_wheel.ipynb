{
 "cells": [
  {
   "cell_type": "code",
   "execution_count": 9,
   "outputs": [],
   "source": [
    "import pandas as pd\n",
    "import numpy as np\n",
    "import os\n",
    "from etnn.data.prepare_ferris_wheel import prepare_1_ferris"
   ],
   "metadata": {
    "collapsed": false,
    "ExecuteTime": {
     "start_time": "2023-10-25T17:53:37.605525Z",
     "end_time": "2023-10-25T17:53:37.620552Z"
    }
   }
  },
  {
   "cell_type": "code",
   "execution_count": 2,
   "outputs": [],
   "source": [
    "df = prepare_1_ferris(\n",
    "    dataset_path=\".\",\n",
    "    df_name_output=\"health_dataset_preprocessed-1.csv\",\n",
    "    df_name_input=\"Sleep_health_and_lifestyle_dataset.csv\",\n",
    "    try_pregen=True\n",
    ")"
   ],
   "metadata": {
    "collapsed": false,
    "ExecuteTime": {
     "start_time": "2023-10-25T17:37:48.274732Z",
     "end_time": "2023-10-25T17:37:48.288241Z"
    }
   }
  },
  {
   "cell_type": "code",
   "execution_count": 3,
   "outputs": [
    {
     "data": {
      "text/plain": "   id  age  occupation  sleep_duration  sleep_quality  physical_activity  \\\n0   1   27           1             6.1              6                 42   \n1   2   28           2             6.2              6                 60   \n2   3   28           2             6.2              6                 60   \n3   4   28           3             5.9              4                 30   \n4   5   28           3             5.9              4                 30   \n\n   stress_level  bmi  heart_rate  daily_steps  sleep_disorder  \\\n0             6    2          77         4200               0   \n1             8    0          75        10000               0   \n2             8    0          75        10000               0   \n3             8    3          85         3000               1   \n4             8    3          85         3000               1   \n\n   blood_pressure1  blood_pressure2  gender_male  gender_female  gender_other  \n0              126               83         True          False         False  \n1              125               80         True          False         False  \n2              125               80         True          False         False  \n3              140               90         True          False         False  \n4              140               90         True          False         False  ",
      "text/html": "<div>\n<style scoped>\n    .dataframe tbody tr th:only-of-type {\n        vertical-align: middle;\n    }\n\n    .dataframe tbody tr th {\n        vertical-align: top;\n    }\n\n    .dataframe thead th {\n        text-align: right;\n    }\n</style>\n<table border=\"1\" class=\"dataframe\">\n  <thead>\n    <tr style=\"text-align: right;\">\n      <th></th>\n      <th>id</th>\n      <th>age</th>\n      <th>occupation</th>\n      <th>sleep_duration</th>\n      <th>sleep_quality</th>\n      <th>physical_activity</th>\n      <th>stress_level</th>\n      <th>bmi</th>\n      <th>heart_rate</th>\n      <th>daily_steps</th>\n      <th>sleep_disorder</th>\n      <th>blood_pressure1</th>\n      <th>blood_pressure2</th>\n      <th>gender_male</th>\n      <th>gender_female</th>\n      <th>gender_other</th>\n    </tr>\n  </thead>\n  <tbody>\n    <tr>\n      <th>0</th>\n      <td>1</td>\n      <td>27</td>\n      <td>1</td>\n      <td>6.1</td>\n      <td>6</td>\n      <td>42</td>\n      <td>6</td>\n      <td>2</td>\n      <td>77</td>\n      <td>4200</td>\n      <td>0</td>\n      <td>126</td>\n      <td>83</td>\n      <td>True</td>\n      <td>False</td>\n      <td>False</td>\n    </tr>\n    <tr>\n      <th>1</th>\n      <td>2</td>\n      <td>28</td>\n      <td>2</td>\n      <td>6.2</td>\n      <td>6</td>\n      <td>60</td>\n      <td>8</td>\n      <td>0</td>\n      <td>75</td>\n      <td>10000</td>\n      <td>0</td>\n      <td>125</td>\n      <td>80</td>\n      <td>True</td>\n      <td>False</td>\n      <td>False</td>\n    </tr>\n    <tr>\n      <th>2</th>\n      <td>3</td>\n      <td>28</td>\n      <td>2</td>\n      <td>6.2</td>\n      <td>6</td>\n      <td>60</td>\n      <td>8</td>\n      <td>0</td>\n      <td>75</td>\n      <td>10000</td>\n      <td>0</td>\n      <td>125</td>\n      <td>80</td>\n      <td>True</td>\n      <td>False</td>\n      <td>False</td>\n    </tr>\n    <tr>\n      <th>3</th>\n      <td>4</td>\n      <td>28</td>\n      <td>3</td>\n      <td>5.9</td>\n      <td>4</td>\n      <td>30</td>\n      <td>8</td>\n      <td>3</td>\n      <td>85</td>\n      <td>3000</td>\n      <td>1</td>\n      <td>140</td>\n      <td>90</td>\n      <td>True</td>\n      <td>False</td>\n      <td>False</td>\n    </tr>\n    <tr>\n      <th>4</th>\n      <td>5</td>\n      <td>28</td>\n      <td>3</td>\n      <td>5.9</td>\n      <td>4</td>\n      <td>30</td>\n      <td>8</td>\n      <td>3</td>\n      <td>85</td>\n      <td>3000</td>\n      <td>1</td>\n      <td>140</td>\n      <td>90</td>\n      <td>True</td>\n      <td>False</td>\n      <td>False</td>\n    </tr>\n  </tbody>\n</table>\n</div>"
     },
     "execution_count": 3,
     "metadata": {},
     "output_type": "execute_result"
    }
   ],
   "source": [
    "df.head()"
   ],
   "metadata": {
    "collapsed": false,
    "ExecuteTime": {
     "start_time": "2023-10-25T17:37:48.289239Z",
     "end_time": "2023-10-25T17:37:48.308224Z"
    }
   }
  },
  {
   "cell_type": "code",
   "execution_count": 4,
   "outputs": [],
   "source": [
    "# take group of ids from persons and state how the label for this group shall be calculated"
   ],
   "metadata": {
    "collapsed": false,
    "ExecuteTime": {
     "start_time": "2023-10-25T17:48:02.643293Z",
     "end_time": "2023-10-25T17:48:02.663320Z"
    }
   }
  },
  {
   "cell_type": "code",
   "execution_count": 5,
   "outputs": [],
   "source": [
    "# define ferris wheel\n",
    "num_gondolas = 10\n",
    "num_part_pg = 5"
   ],
   "metadata": {
    "collapsed": false,
    "ExecuteTime": {
     "start_time": "2023-10-25T17:50:57.670498Z",
     "end_time": "2023-10-25T17:50:57.688412Z"
    }
   }
  },
  {
   "cell_type": "code",
   "execution_count": 15,
   "outputs": [],
   "source": [
    "# generate sample element\n",
    "random_order = np.arange(len(df))+1\n",
    "np.random.shuffle(random_order)"
   ],
   "metadata": {
    "collapsed": false,
    "ExecuteTime": {
     "start_time": "2023-10-25T17:54:35.050451Z",
     "end_time": "2023-10-25T17:54:35.066474Z"
    }
   }
  },
  {
   "cell_type": "code",
   "execution_count": 19,
   "outputs": [],
   "source": [
    "example = [\n",
    "    random_order[i*num_part_pg:(i+1)*num_part_pg]\n",
    "    for i in range(num_gondolas)\n",
    "]"
   ],
   "metadata": {
    "collapsed": false,
    "ExecuteTime": {
     "start_time": "2023-10-25T18:06:58.496138Z",
     "end_time": "2023-10-25T18:06:58.509179Z"
    }
   }
  },
  {
   "cell_type": "code",
   "execution_count": 20,
   "outputs": [
    {
     "data": {
      "text/plain": "[array([156, 354,  93, 365,  33]),\n array([ 46, 235,  53, 108, 106]),\n array([124,  52,  40,  24, 308]),\n array([ 16, 142, 215,  63, 260]),\n array([168, 211,  75,  73,  89]),\n array([227,  69, 261, 311, 178]),\n array([295, 189, 197, 107,  21]),\n array([  6, 202, 222, 327, 276]),\n array([242, 246, 259,  86,  11]),\n array([351, 371, 281, 198,  22])]"
     },
     "execution_count": 20,
     "metadata": {},
     "output_type": "execute_result"
    }
   ],
   "source": [
    "example"
   ],
   "metadata": {
    "collapsed": false,
    "ExecuteTime": {
     "start_time": "2023-10-25T18:06:58.950134Z",
     "end_time": "2023-10-25T18:06:58.963526Z"
    }
   }
  },
  {
   "cell_type": "markdown",
   "source": [
    "Rules:\n",
    "- People being happy with other people in same gondola\n",
    "    + Age composition too seperated is bad\n",
    "    + shift in gender is bad if too much, 50-50 is good or all one gender\n",
    "    + same with age composition\n",
    "    + sleep derived(multiplier with quality) persons get a subtraction and 'good sleepers' get bonus (sleep disorder counts as stronger subtraction)\n",
    "    + higher heart rate and pressure = joy or fear\n",
    "    + composition of persons in regards to bmi : extreme values make others (no exception for group all those as to many underweight or overweight persons may be awquard as well)\n",
    "- People being happy with neighboring gondolas composition\n",
    "    + same age gets bonus, none gets penalty as potentially group is separated\n",
    "    + gap between happyness index between self and neighbors causes it to produce a mean of only the neighbors"
   ],
   "metadata": {
    "collapsed": false
   }
  },
  {
   "cell_type": "code",
   "execution_count": 35,
   "outputs": [],
   "source": [
    "def age_composition_score(\n",
    "        df_elements: pd.DataFrame,\n",
    "        id_list\n",
    ") -> float:\n",
    "    df_subset = df_elements[df_elements.id.isin(id_list)]\n",
    "\n",
    "    score = 0\n",
    "\n",
    "    age = df_subset.age.to_numpy()\n",
    "    sorted_age = np.sort(age)\n",
    "\n",
    "    # check if in 10 year gap\n",
    "    gap = sorted_age[-1]-sorted_age[0]\n",
    "    print(gap)\n",
    "    if gap <= 10:\n",
    "        score = 1\n",
    "        return score\n",
    "    else:\n",
    "        x = gap - 10\n",
    "        score = (-1/60)*x + 1\n",
    "        return score"
   ],
   "metadata": {
    "collapsed": false,
    "ExecuteTime": {
     "start_time": "2023-10-25T20:04:14.892992Z",
     "end_time": "2023-10-25T20:04:14.911777Z"
    }
   }
  },
  {
   "cell_type": "code",
   "execution_count": 43,
   "outputs": [],
   "source": [
    "def gender_composition_score(\n",
    "        df_elements: pd.DataFrame,\n",
    "        id_list\n",
    ") -> float:\n",
    "    df_sub = df[df.id.isin(example[0])]\n",
    "    # other genders are considered neutral\n",
    "    male = sum(df_sub.gender_male)\n",
    "    female = sum(df_sub.gender_female)\n",
    "    gsum = male + female\n",
    "\n",
    "    return 2*min(male/gsum, female/gsum) if (male and female) else 1"
   ],
   "metadata": {
    "collapsed": false,
    "ExecuteTime": {
     "start_time": "2023-10-25T20:51:08.424111Z",
     "end_time": "2023-10-25T20:51:08.455496Z"
    }
   }
  },
  {
   "cell_type": "code",
   "execution_count": 53,
   "outputs": [],
   "source": [
    "def sleep_score(\n",
    "        df_elements: pd.DataFrame,\n",
    "        id_list\n",
    ") -> float:\n",
    "    df_sub = df[df.id.isin(example[0])]\n",
    "\n",
    "    sleep_d_mean = df_sub.sleep_duration.mean()\n",
    "    sleep_q_mean = df_sub.sleep_quality.mean()\n",
    "\n",
    "    return min((sleep_q_mean/10)*(sleep_d_mean/7.5), 1)"
   ],
   "metadata": {
    "collapsed": false,
    "ExecuteTime": {
     "start_time": "2023-10-25T21:01:34.355320Z",
     "end_time": "2023-10-25T21:01:34.387148Z"
    }
   }
  },
  {
   "cell_type": "code",
   "execution_count": 23,
   "outputs": [],
   "source": [
    "df_subset = df[df.id.isin(example[0])]"
   ],
   "metadata": {
    "collapsed": false,
    "ExecuteTime": {
     "start_time": "2023-10-25T19:42:39.964294Z",
     "end_time": "2023-10-25T19:42:39.980060Z"
    }
   }
  },
  {
   "cell_type": "code",
   "execution_count": 24,
   "outputs": [
    {
     "data": {
      "text/plain": "      id  age  occupation  sleep_duration  sleep_quality  physical_activity  \\\n32    33   31           5             7.9              8                 75   \n92    93   35           1             7.5              8                 60   \n155  156   39           9             7.2              8                 60   \n353  354   58           5             8.0              9                 75   \n364  365   59           5             8.0              9                 75   \n\n     stress_level  bmi  heart_rate  daily_steps  sleep_disorder  \\\n32              4    1          69         6800               0   \n92              5    1          70         8000               0   \n155             5    0          68         8000               0   \n353             3    2          68         7000               1   \n364             3    2          68         7000               1   \n\n     blood_pressure1  blood_pressure2  gender_male  gender_female  \\\n32               117               76        False           True   \n92               120               80         True          False   \n155              130               85         True          False   \n353              140               95        False           True   \n364              140               95        False           True   \n\n     gender_other  \n32          False  \n92          False  \n155         False  \n353         False  \n364         False  ",
      "text/html": "<div>\n<style scoped>\n    .dataframe tbody tr th:only-of-type {\n        vertical-align: middle;\n    }\n\n    .dataframe tbody tr th {\n        vertical-align: top;\n    }\n\n    .dataframe thead th {\n        text-align: right;\n    }\n</style>\n<table border=\"1\" class=\"dataframe\">\n  <thead>\n    <tr style=\"text-align: right;\">\n      <th></th>\n      <th>id</th>\n      <th>age</th>\n      <th>occupation</th>\n      <th>sleep_duration</th>\n      <th>sleep_quality</th>\n      <th>physical_activity</th>\n      <th>stress_level</th>\n      <th>bmi</th>\n      <th>heart_rate</th>\n      <th>daily_steps</th>\n      <th>sleep_disorder</th>\n      <th>blood_pressure1</th>\n      <th>blood_pressure2</th>\n      <th>gender_male</th>\n      <th>gender_female</th>\n      <th>gender_other</th>\n    </tr>\n  </thead>\n  <tbody>\n    <tr>\n      <th>32</th>\n      <td>33</td>\n      <td>31</td>\n      <td>5</td>\n      <td>7.9</td>\n      <td>8</td>\n      <td>75</td>\n      <td>4</td>\n      <td>1</td>\n      <td>69</td>\n      <td>6800</td>\n      <td>0</td>\n      <td>117</td>\n      <td>76</td>\n      <td>False</td>\n      <td>True</td>\n      <td>False</td>\n    </tr>\n    <tr>\n      <th>92</th>\n      <td>93</td>\n      <td>35</td>\n      <td>1</td>\n      <td>7.5</td>\n      <td>8</td>\n      <td>60</td>\n      <td>5</td>\n      <td>1</td>\n      <td>70</td>\n      <td>8000</td>\n      <td>0</td>\n      <td>120</td>\n      <td>80</td>\n      <td>True</td>\n      <td>False</td>\n      <td>False</td>\n    </tr>\n    <tr>\n      <th>155</th>\n      <td>156</td>\n      <td>39</td>\n      <td>9</td>\n      <td>7.2</td>\n      <td>8</td>\n      <td>60</td>\n      <td>5</td>\n      <td>0</td>\n      <td>68</td>\n      <td>8000</td>\n      <td>0</td>\n      <td>130</td>\n      <td>85</td>\n      <td>True</td>\n      <td>False</td>\n      <td>False</td>\n    </tr>\n    <tr>\n      <th>353</th>\n      <td>354</td>\n      <td>58</td>\n      <td>5</td>\n      <td>8.0</td>\n      <td>9</td>\n      <td>75</td>\n      <td>3</td>\n      <td>2</td>\n      <td>68</td>\n      <td>7000</td>\n      <td>1</td>\n      <td>140</td>\n      <td>95</td>\n      <td>False</td>\n      <td>True</td>\n      <td>False</td>\n    </tr>\n    <tr>\n      <th>364</th>\n      <td>365</td>\n      <td>59</td>\n      <td>5</td>\n      <td>8.0</td>\n      <td>9</td>\n      <td>75</td>\n      <td>3</td>\n      <td>2</td>\n      <td>68</td>\n      <td>7000</td>\n      <td>1</td>\n      <td>140</td>\n      <td>95</td>\n      <td>False</td>\n      <td>True</td>\n      <td>False</td>\n    </tr>\n  </tbody>\n</table>\n</div>"
     },
     "execution_count": 24,
     "metadata": {},
     "output_type": "execute_result"
    }
   ],
   "source": [
    "df_subset"
   ],
   "metadata": {
    "collapsed": false,
    "ExecuteTime": {
     "start_time": "2023-10-25T19:42:45.718084Z",
     "end_time": "2023-10-25T19:42:45.727591Z"
    }
   }
  },
  {
   "cell_type": "code",
   "execution_count": 26,
   "outputs": [],
   "source": [
    "age = df_subset.age.to_numpy()"
   ],
   "metadata": {
    "collapsed": false,
    "ExecuteTime": {
     "start_time": "2023-10-25T19:46:04.847826Z",
     "end_time": "2023-10-25T19:46:04.854573Z"
    }
   }
  },
  {
   "cell_type": "code",
   "execution_count": 27,
   "outputs": [
    {
     "data": {
      "text/plain": "array([31, 35, 39, 58, 59], dtype=int64)"
     },
     "execution_count": 27,
     "metadata": {},
     "output_type": "execute_result"
    }
   ],
   "source": [
    "sorted_age = np.sort(age)"
   ],
   "metadata": {
    "collapsed": false,
    "ExecuteTime": {
     "start_time": "2023-10-25T19:46:17.749650Z",
     "end_time": "2023-10-25T19:46:17.766109Z"
    }
   }
  },
  {
   "cell_type": "code",
   "execution_count": 36,
   "outputs": [
    {
     "name": "stdout",
     "output_type": "stream",
     "text": [
      "28\n"
     ]
    },
    {
     "data": {
      "text/plain": "0.7"
     },
     "execution_count": 36,
     "metadata": {},
     "output_type": "execute_result"
    }
   ],
   "source": [
    "age_composition_score(df, example[0])"
   ],
   "metadata": {
    "collapsed": false,
    "ExecuteTime": {
     "start_time": "2023-10-25T20:04:18.062684Z",
     "end_time": "2023-10-25T20:04:18.087446Z"
    }
   }
  },
  {
   "cell_type": "code",
   "execution_count": 44,
   "outputs": [
    {
     "data": {
      "text/plain": "0.8"
     },
     "execution_count": 44,
     "metadata": {},
     "output_type": "execute_result"
    }
   ],
   "source": [
    "gender_composition_score(df, example[0])"
   ],
   "metadata": {
    "collapsed": false,
    "ExecuteTime": {
     "start_time": "2023-10-25T20:51:10.576083Z",
     "end_time": "2023-10-25T20:51:10.589594Z"
    }
   }
  },
  {
   "cell_type": "code",
   "execution_count": 54,
   "outputs": [
    {
     "data": {
      "text/plain": "0.8646400000000002"
     },
     "execution_count": 54,
     "metadata": {},
     "output_type": "execute_result"
    }
   ],
   "source": [
    "sleep_score(df, example[0])"
   ],
   "metadata": {
    "collapsed": false,
    "ExecuteTime": {
     "start_time": "2023-10-25T21:01:37.628357Z",
     "end_time": "2023-10-25T21:01:37.643982Z"
    }
   }
  },
  {
   "cell_type": "code",
   "execution_count": 48,
   "outputs": [
    {
     "data": {
      "text/plain": "7.132085561497325"
     },
     "execution_count": 48,
     "metadata": {},
     "output_type": "execute_result"
    }
   ],
   "source": [
    "df.sleep_duration.mean()"
   ],
   "metadata": {
    "collapsed": false,
    "ExecuteTime": {
     "start_time": "2023-10-25T20:54:37.211708Z",
     "end_time": "2023-10-25T20:54:37.230895Z"
    }
   }
  },
  {
   "cell_type": "code",
   "execution_count": 50,
   "outputs": [
    {
     "data": {
      "text/plain": "7.31283422459893"
     },
     "execution_count": 50,
     "metadata": {},
     "output_type": "execute_result"
    }
   ],
   "source": [
    "df.sleep_quality.mean()"
   ],
   "metadata": {
    "collapsed": false,
    "ExecuteTime": {
     "start_time": "2023-10-25T20:55:45.003328Z",
     "end_time": "2023-10-25T20:55:45.034592Z"
    }
   }
  }
 ],
 "metadata": {
  "kernelspec": {
   "display_name": "Python 3",
   "language": "python",
   "name": "python3"
  },
  "language_info": {
   "codemirror_mode": {
    "name": "ipython",
    "version": 2
   },
   "file_extension": ".py",
   "mimetype": "text/x-python",
   "name": "python",
   "nbconvert_exporter": "python",
   "pygments_lexer": "ipython2",
   "version": "2.7.6"
  }
 },
 "nbformat": 4,
 "nbformat_minor": 0
}
