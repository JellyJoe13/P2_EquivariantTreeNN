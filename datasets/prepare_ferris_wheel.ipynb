{
 "cells": [
  {
   "cell_type": "code",
   "execution_count": 55,
   "outputs": [],
   "source": [
    "import pandas as pd\n",
    "import numpy as np\n",
    "import os\n",
    "from etnn.data.prepare_ferris_wheel import prepare_1_ferris\n",
    "from etnn.data.ferris_score_helpers import build_wheel_happyness\n",
    "from tqdm import tqdm"
   ],
   "metadata": {
    "collapsed": false,
    "ExecuteTime": {
     "start_time": "2023-10-27T18:31:45.997150Z",
     "end_time": "2023-10-27T18:31:46.010200Z"
    }
   }
  },
  {
   "cell_type": "code",
   "execution_count": 2,
   "outputs": [],
   "source": [
    "df = prepare_1_ferris(\n",
    "    dataset_path=\".\",\n",
    "    df_name_output=\"health_dataset_preprocessed-1.csv\",\n",
    "    df_name_input=\"Sleep_health_and_lifestyle_dataset.csv\",\n",
    "    try_pregen=True\n",
    ")"
   ],
   "metadata": {
    "collapsed": false,
    "ExecuteTime": {
     "start_time": "2023-10-27T17:08:55.411138Z",
     "end_time": "2023-10-27T17:08:55.426286Z"
    }
   }
  },
  {
   "cell_type": "code",
   "execution_count": 3,
   "outputs": [
    {
     "data": {
      "text/plain": "   id  age  occupation  sleep_duration  sleep_quality  physical_activity  \\\n0   1   27           1             6.1              6                 42   \n1   2   28           2             6.2              6                 60   \n2   3   28           2             6.2              6                 60   \n3   4   28           3             5.9              4                 30   \n4   5   28           3             5.9              4                 30   \n\n   stress_level  bmi  heart_rate  daily_steps  sleep_disorder  \\\n0             6    2          77         4200               0   \n1             8    0          75        10000               0   \n2             8    0          75        10000               0   \n3             8    3          85         3000               1   \n4             8    3          85         3000               1   \n\n   blood_pressure1  blood_pressure2  gender_male  gender_female  gender_other  \n0              126               83         True          False         False  \n1              125               80         True          False         False  \n2              125               80         True          False         False  \n3              140               90         True          False         False  \n4              140               90         True          False         False  ",
      "text/html": "<div>\n<style scoped>\n    .dataframe tbody tr th:only-of-type {\n        vertical-align: middle;\n    }\n\n    .dataframe tbody tr th {\n        vertical-align: top;\n    }\n\n    .dataframe thead th {\n        text-align: right;\n    }\n</style>\n<table border=\"1\" class=\"dataframe\">\n  <thead>\n    <tr style=\"text-align: right;\">\n      <th></th>\n      <th>id</th>\n      <th>age</th>\n      <th>occupation</th>\n      <th>sleep_duration</th>\n      <th>sleep_quality</th>\n      <th>physical_activity</th>\n      <th>stress_level</th>\n      <th>bmi</th>\n      <th>heart_rate</th>\n      <th>daily_steps</th>\n      <th>sleep_disorder</th>\n      <th>blood_pressure1</th>\n      <th>blood_pressure2</th>\n      <th>gender_male</th>\n      <th>gender_female</th>\n      <th>gender_other</th>\n    </tr>\n  </thead>\n  <tbody>\n    <tr>\n      <th>0</th>\n      <td>1</td>\n      <td>27</td>\n      <td>1</td>\n      <td>6.1</td>\n      <td>6</td>\n      <td>42</td>\n      <td>6</td>\n      <td>2</td>\n      <td>77</td>\n      <td>4200</td>\n      <td>0</td>\n      <td>126</td>\n      <td>83</td>\n      <td>True</td>\n      <td>False</td>\n      <td>False</td>\n    </tr>\n    <tr>\n      <th>1</th>\n      <td>2</td>\n      <td>28</td>\n      <td>2</td>\n      <td>6.2</td>\n      <td>6</td>\n      <td>60</td>\n      <td>8</td>\n      <td>0</td>\n      <td>75</td>\n      <td>10000</td>\n      <td>0</td>\n      <td>125</td>\n      <td>80</td>\n      <td>True</td>\n      <td>False</td>\n      <td>False</td>\n    </tr>\n    <tr>\n      <th>2</th>\n      <td>3</td>\n      <td>28</td>\n      <td>2</td>\n      <td>6.2</td>\n      <td>6</td>\n      <td>60</td>\n      <td>8</td>\n      <td>0</td>\n      <td>75</td>\n      <td>10000</td>\n      <td>0</td>\n      <td>125</td>\n      <td>80</td>\n      <td>True</td>\n      <td>False</td>\n      <td>False</td>\n    </tr>\n    <tr>\n      <th>3</th>\n      <td>4</td>\n      <td>28</td>\n      <td>3</td>\n      <td>5.9</td>\n      <td>4</td>\n      <td>30</td>\n      <td>8</td>\n      <td>3</td>\n      <td>85</td>\n      <td>3000</td>\n      <td>1</td>\n      <td>140</td>\n      <td>90</td>\n      <td>True</td>\n      <td>False</td>\n      <td>False</td>\n    </tr>\n    <tr>\n      <th>4</th>\n      <td>5</td>\n      <td>28</td>\n      <td>3</td>\n      <td>5.9</td>\n      <td>4</td>\n      <td>30</td>\n      <td>8</td>\n      <td>3</td>\n      <td>85</td>\n      <td>3000</td>\n      <td>1</td>\n      <td>140</td>\n      <td>90</td>\n      <td>True</td>\n      <td>False</td>\n      <td>False</td>\n    </tr>\n  </tbody>\n</table>\n</div>"
     },
     "execution_count": 3,
     "metadata": {},
     "output_type": "execute_result"
    }
   ],
   "source": [
    "df.head()"
   ],
   "metadata": {
    "collapsed": false,
    "ExecuteTime": {
     "start_time": "2023-10-27T17:08:55.426286Z",
     "end_time": "2023-10-27T17:08:55.446588Z"
    }
   }
  },
  {
   "cell_type": "code",
   "execution_count": 4,
   "outputs": [],
   "source": [
    "# take group of ids from persons and state how the label for this group shall be calculated"
   ],
   "metadata": {
    "collapsed": false,
    "ExecuteTime": {
     "start_time": "2023-10-27T17:08:55.442290Z",
     "end_time": "2023-10-27T17:08:55.502588Z"
    }
   }
  },
  {
   "cell_type": "code",
   "execution_count": 5,
   "outputs": [],
   "source": [
    "# define ferris wheel\n",
    "num_gondolas = 10\n",
    "num_part_pg = 5"
   ],
   "metadata": {
    "collapsed": false,
    "ExecuteTime": {
     "start_time": "2023-10-27T17:08:55.458588Z",
     "end_time": "2023-10-27T17:08:55.514092Z"
    }
   }
  },
  {
   "cell_type": "code",
   "execution_count": 6,
   "outputs": [],
   "source": [
    "# generate sample element\n",
    "random_order = np.arange(len(df))+1\n",
    "np.random.shuffle(random_order)"
   ],
   "metadata": {
    "collapsed": false,
    "ExecuteTime": {
     "start_time": "2023-10-27T17:08:55.472587Z",
     "end_time": "2023-10-27T17:08:55.514092Z"
    }
   }
  },
  {
   "cell_type": "code",
   "execution_count": 7,
   "outputs": [],
   "source": [
    "example = [\n",
    "    random_order[i*num_part_pg:(i+1)*num_part_pg]\n",
    "    for i in range(num_gondolas)\n",
    "]"
   ],
   "metadata": {
    "collapsed": false,
    "ExecuteTime": {
     "start_time": "2023-10-27T17:08:55.489589Z",
     "end_time": "2023-10-27T17:08:55.514092Z"
    }
   }
  },
  {
   "cell_type": "code",
   "execution_count": 8,
   "outputs": [
    {
     "data": {
      "text/plain": "[array([ 53, 331, 367, 229, 248]),\n array([192, 179,  92, 199, 258]),\n array([213, 197, 174, 158,  72]),\n array([ 38, 147, 290, 165,  41]),\n array([339, 146, 134, 283,  95]),\n array([190, 171, 113, 268, 247]),\n array([266,  37,  78, 310,  75]),\n array([334, 116, 284, 340,  97]),\n array([250, 177, 256, 299,  33]),\n array([161, 245, 209, 234, 132])]"
     },
     "execution_count": 8,
     "metadata": {},
     "output_type": "execute_result"
    }
   ],
   "source": [
    "example"
   ],
   "metadata": {
    "collapsed": false,
    "ExecuteTime": {
     "start_time": "2023-10-27T17:08:55.504089Z",
     "end_time": "2023-10-27T17:08:55.522093Z"
    }
   }
  },
  {
   "cell_type": "code",
   "execution_count": 23,
   "outputs": [
    {
     "data": {
      "text/plain": "array([[ 53, 331, 367, 229, 248],\n       [192, 179,  92, 199, 258],\n       [213, 197, 174, 158,  72],\n       [ 38, 147, 290, 165,  41],\n       [339, 146, 134, 283,  95],\n       [190, 171, 113, 268, 247],\n       [266,  37,  78, 310,  75],\n       [334, 116, 284, 340,  97],\n       [250, 177, 256, 299,  33],\n       [161, 245, 209, 234, 132]])"
     },
     "execution_count": 23,
     "metadata": {},
     "output_type": "execute_result"
    }
   ],
   "source": [
    "random_order[:num_gondolas*num_part_pg].reshape(num_gondolas, num_part_pg)"
   ],
   "metadata": {
    "collapsed": false,
    "ExecuteTime": {
     "start_time": "2023-10-27T17:18:37.082381Z",
     "end_time": "2023-10-27T17:18:37.098382Z"
    }
   }
  },
  {
   "cell_type": "markdown",
   "source": [
    "Rules:\n",
    "- People being happy with other people in same gondola\n",
    "    + Age composition too seperated is bad\n",
    "    + shift in gender is bad if too much, 50-50 is good or all one gender\n",
    "    + same with age composition\n",
    "    + sleep derived(multiplier with quality) persons get a subtraction and 'good sleepers' get bonus (sleep disorder counts as stronger subtraction)\n",
    "    + higher heart rate and pressure = joy or fear\n",
    "    + composition of persons in regards to bmi : extreme values make others (no exception for group all those as to many underweight or overweight persons may be awquard as well)\n",
    "- People being happy with neighboring gondolas composition\n",
    "    + same age gets bonus, none gets penalty as potentially group is separated\n",
    "    + gap between happyness index between self and neighbors causes it to produce a mean of only the neighbors"
   ],
   "metadata": {
    "collapsed": false
   }
  },
  {
   "cell_type": "code",
   "execution_count": 26,
   "outputs": [
    {
     "data": {
      "text/plain": "69.25677333333333"
     },
     "execution_count": 26,
     "metadata": {},
     "output_type": "execute_result"
    }
   ],
   "source": [
    "build_wheel_happyness(df, example)"
   ],
   "metadata": {
    "collapsed": false,
    "ExecuteTime": {
     "start_time": "2023-10-27T17:30:51.121910Z",
     "end_time": "2023-10-27T17:30:51.158911Z"
    }
   }
  },
  {
   "cell_type": "code",
   "execution_count": 28,
   "outputs": [
    {
     "data": {
      "text/plain": "69.25677333333333"
     },
     "execution_count": 28,
     "metadata": {},
     "output_type": "execute_result"
    }
   ],
   "source": [
    "build_wheel_happyness(df, random_order[:num_gondolas*num_part_pg].reshape(num_gondolas, num_part_pg))"
   ],
   "metadata": {
    "collapsed": false,
    "ExecuteTime": {
     "start_time": "2023-10-27T17:31:16.295320Z",
     "end_time": "2023-10-27T17:31:16.335551Z"
    }
   }
  },
  {
   "cell_type": "code",
   "execution_count": 52,
   "outputs": [],
   "source": [
    "# define dataset size\n",
    "num_to_generate = 10_000\n",
    "# define ferris wheel\n",
    "num_gondolas = 10\n",
    "num_part_pg = 5"
   ],
   "metadata": {
    "collapsed": false,
    "ExecuteTime": {
     "start_time": "2023-10-27T18:30:42.704828Z",
     "end_time": "2023-10-27T18:30:42.712888Z"
    }
   }
  },
  {
   "cell_type": "code",
   "execution_count": 56,
   "outputs": [
    {
     "name": "stderr",
     "output_type": "stream",
     "text": [
      "100%|██████████| 10000/10000 [03:46<00:00, 44.07it/s]\n"
     ]
    }
   ],
   "source": [
    "# initialize dataset storage\n",
    "dataset_storage = []\n",
    "\n",
    "# init ordering for latter shuffling\n",
    "random_order = np.arange(len(df))+1\n",
    "for _ in tqdm(range(num_to_generate)):\n",
    "    # generate sample element\n",
    "    np.random.shuffle(random_order)\n",
    "\n",
    "    # shape element\n",
    "    sample = random_order[:num_gondolas*num_part_pg].reshape(num_gondolas, num_part_pg)\n",
    "\n",
    "    # calc label\n",
    "    label = build_wheel_happyness(df, sample)\n",
    "\n",
    "    # add to storage\n",
    "    dataset_storage.append(sample.flatten().tolist() + [label])\n",
    "\n",
    "df_generated = pd.DataFrame(dataset_storage, columns=[\n",
    "    f\"g-{i}_p-{j}\"\n",
    "    for i in range(num_gondolas)\n",
    "    for j in range(num_part_pg)\n",
    "] + ['label'])"
   ],
   "metadata": {
    "collapsed": false,
    "ExecuteTime": {
     "start_time": "2023-10-27T18:31:51.879135Z",
     "end_time": "2023-10-27T18:35:38.861163Z"
    }
   }
  },
  {
   "cell_type": "code",
   "execution_count": null,
   "outputs": [],
   "source": [],
   "metadata": {
    "collapsed": false
   }
  },
  {
   "cell_type": "code",
   "execution_count": 46,
   "outputs": [
    {
     "data": {
      "text/plain": "   g-0_p-0  g-0_p-1  g-0_p-2  g-0_p-3  g-0_p-4  g-1_p-0  g-1_p-1  g-1_p-2  \\\n0      284      276       51      230      246      271       27      257   \n1      277       45       12      297       36      302      325      133   \n2      204       98       21      368      184      203       89       46   \n3      214      248      236      192      322      118      326      265   \n4      275      193        9       95      204      310       25       28   \n\n   g-1_p-3  g-1_p-4  ...  g-8_p-1  g-8_p-2  g-8_p-3  g-8_p-4  g-9_p-0  \\\n0      183       89  ...      143        1      124       78       94   \n1      254      229  ...      266      177      258      370      214   \n2       37      316  ...       91        5      198      364      369   \n3      257      258  ...      174      304      352      147       52   \n4      243      209  ...      166      105      298      158      338   \n\n   g-9_p-1  g-9_p-2  g-9_p-3  g-9_p-4      label  \n0      107       73      324      363  61.212000  \n1      243      280      232      110  54.046173  \n2      293      217      237       23  58.062787  \n3        4      287       83       34  70.663600  \n4      268      179       62      260  67.075373  \n\n[5 rows x 51 columns]",
      "text/html": "<div>\n<style scoped>\n    .dataframe tbody tr th:only-of-type {\n        vertical-align: middle;\n    }\n\n    .dataframe tbody tr th {\n        vertical-align: top;\n    }\n\n    .dataframe thead th {\n        text-align: right;\n    }\n</style>\n<table border=\"1\" class=\"dataframe\">\n  <thead>\n    <tr style=\"text-align: right;\">\n      <th></th>\n      <th>g-0_p-0</th>\n      <th>g-0_p-1</th>\n      <th>g-0_p-2</th>\n      <th>g-0_p-3</th>\n      <th>g-0_p-4</th>\n      <th>g-1_p-0</th>\n      <th>g-1_p-1</th>\n      <th>g-1_p-2</th>\n      <th>g-1_p-3</th>\n      <th>g-1_p-4</th>\n      <th>...</th>\n      <th>g-8_p-1</th>\n      <th>g-8_p-2</th>\n      <th>g-8_p-3</th>\n      <th>g-8_p-4</th>\n      <th>g-9_p-0</th>\n      <th>g-9_p-1</th>\n      <th>g-9_p-2</th>\n      <th>g-9_p-3</th>\n      <th>g-9_p-4</th>\n      <th>label</th>\n    </tr>\n  </thead>\n  <tbody>\n    <tr>\n      <th>0</th>\n      <td>284</td>\n      <td>276</td>\n      <td>51</td>\n      <td>230</td>\n      <td>246</td>\n      <td>271</td>\n      <td>27</td>\n      <td>257</td>\n      <td>183</td>\n      <td>89</td>\n      <td>...</td>\n      <td>143</td>\n      <td>1</td>\n      <td>124</td>\n      <td>78</td>\n      <td>94</td>\n      <td>107</td>\n      <td>73</td>\n      <td>324</td>\n      <td>363</td>\n      <td>61.212000</td>\n    </tr>\n    <tr>\n      <th>1</th>\n      <td>277</td>\n      <td>45</td>\n      <td>12</td>\n      <td>297</td>\n      <td>36</td>\n      <td>302</td>\n      <td>325</td>\n      <td>133</td>\n      <td>254</td>\n      <td>229</td>\n      <td>...</td>\n      <td>266</td>\n      <td>177</td>\n      <td>258</td>\n      <td>370</td>\n      <td>214</td>\n      <td>243</td>\n      <td>280</td>\n      <td>232</td>\n      <td>110</td>\n      <td>54.046173</td>\n    </tr>\n    <tr>\n      <th>2</th>\n      <td>204</td>\n      <td>98</td>\n      <td>21</td>\n      <td>368</td>\n      <td>184</td>\n      <td>203</td>\n      <td>89</td>\n      <td>46</td>\n      <td>37</td>\n      <td>316</td>\n      <td>...</td>\n      <td>91</td>\n      <td>5</td>\n      <td>198</td>\n      <td>364</td>\n      <td>369</td>\n      <td>293</td>\n      <td>217</td>\n      <td>237</td>\n      <td>23</td>\n      <td>58.062787</td>\n    </tr>\n    <tr>\n      <th>3</th>\n      <td>214</td>\n      <td>248</td>\n      <td>236</td>\n      <td>192</td>\n      <td>322</td>\n      <td>118</td>\n      <td>326</td>\n      <td>265</td>\n      <td>257</td>\n      <td>258</td>\n      <td>...</td>\n      <td>174</td>\n      <td>304</td>\n      <td>352</td>\n      <td>147</td>\n      <td>52</td>\n      <td>4</td>\n      <td>287</td>\n      <td>83</td>\n      <td>34</td>\n      <td>70.663600</td>\n    </tr>\n    <tr>\n      <th>4</th>\n      <td>275</td>\n      <td>193</td>\n      <td>9</td>\n      <td>95</td>\n      <td>204</td>\n      <td>310</td>\n      <td>25</td>\n      <td>28</td>\n      <td>243</td>\n      <td>209</td>\n      <td>...</td>\n      <td>166</td>\n      <td>105</td>\n      <td>298</td>\n      <td>158</td>\n      <td>338</td>\n      <td>268</td>\n      <td>179</td>\n      <td>62</td>\n      <td>260</td>\n      <td>67.075373</td>\n    </tr>\n  </tbody>\n</table>\n<p>5 rows × 51 columns</p>\n</div>"
     },
     "execution_count": 46,
     "metadata": {},
     "output_type": "execute_result"
    }
   ],
   "source": [
    "df_generated.head()"
   ],
   "metadata": {
    "collapsed": false,
    "ExecuteTime": {
     "start_time": "2023-10-27T18:06:49.566146Z",
     "end_time": "2023-10-27T18:06:49.584429Z"
    }
   }
  },
  {
   "cell_type": "code",
   "execution_count": 57,
   "outputs": [],
   "source": [
    "df_generated.to_csv(\"test.csv\")"
   ],
   "metadata": {
    "collapsed": false,
    "ExecuteTime": {
     "start_time": "2023-10-27T18:35:47.835529Z",
     "end_time": "2023-10-27T18:35:47.905653Z"
    }
   }
  },
  {
   "cell_type": "code",
   "execution_count": 50,
   "outputs": [],
   "source": [
    "df_load = pd.read_csv(\"test.csv\", index_col=0)"
   ],
   "metadata": {
    "collapsed": false,
    "ExecuteTime": {
     "start_time": "2023-10-27T18:07:46.860015Z",
     "end_time": "2023-10-27T18:07:46.873016Z"
    }
   }
  },
  {
   "cell_type": "code",
   "execution_count": 51,
   "outputs": [
    {
     "data": {
      "text/plain": "   g-0_p-0  g-0_p-1  g-0_p-2  g-0_p-3  g-0_p-4  g-1_p-0  g-1_p-1  g-1_p-2  \\\n0      284      276       51      230      246      271       27      257   \n1      277       45       12      297       36      302      325      133   \n2      204       98       21      368      184      203       89       46   \n3      214      248      236      192      322      118      326      265   \n4      275      193        9       95      204      310       25       28   \n\n   g-1_p-3  g-1_p-4  ...  g-8_p-1  g-8_p-2  g-8_p-3  g-8_p-4  g-9_p-0  \\\n0      183       89  ...      143        1      124       78       94   \n1      254      229  ...      266      177      258      370      214   \n2       37      316  ...       91        5      198      364      369   \n3      257      258  ...      174      304      352      147       52   \n4      243      209  ...      166      105      298      158      338   \n\n   g-9_p-1  g-9_p-2  g-9_p-3  g-9_p-4      label  \n0      107       73      324      363  61.212000  \n1      243      280      232      110  54.046173  \n2      293      217      237       23  58.062787  \n3        4      287       83       34  70.663600  \n4      268      179       62      260  67.075373  \n\n[5 rows x 51 columns]",
      "text/html": "<div>\n<style scoped>\n    .dataframe tbody tr th:only-of-type {\n        vertical-align: middle;\n    }\n\n    .dataframe tbody tr th {\n        vertical-align: top;\n    }\n\n    .dataframe thead th {\n        text-align: right;\n    }\n</style>\n<table border=\"1\" class=\"dataframe\">\n  <thead>\n    <tr style=\"text-align: right;\">\n      <th></th>\n      <th>g-0_p-0</th>\n      <th>g-0_p-1</th>\n      <th>g-0_p-2</th>\n      <th>g-0_p-3</th>\n      <th>g-0_p-4</th>\n      <th>g-1_p-0</th>\n      <th>g-1_p-1</th>\n      <th>g-1_p-2</th>\n      <th>g-1_p-3</th>\n      <th>g-1_p-4</th>\n      <th>...</th>\n      <th>g-8_p-1</th>\n      <th>g-8_p-2</th>\n      <th>g-8_p-3</th>\n      <th>g-8_p-4</th>\n      <th>g-9_p-0</th>\n      <th>g-9_p-1</th>\n      <th>g-9_p-2</th>\n      <th>g-9_p-3</th>\n      <th>g-9_p-4</th>\n      <th>label</th>\n    </tr>\n  </thead>\n  <tbody>\n    <tr>\n      <th>0</th>\n      <td>284</td>\n      <td>276</td>\n      <td>51</td>\n      <td>230</td>\n      <td>246</td>\n      <td>271</td>\n      <td>27</td>\n      <td>257</td>\n      <td>183</td>\n      <td>89</td>\n      <td>...</td>\n      <td>143</td>\n      <td>1</td>\n      <td>124</td>\n      <td>78</td>\n      <td>94</td>\n      <td>107</td>\n      <td>73</td>\n      <td>324</td>\n      <td>363</td>\n      <td>61.212000</td>\n    </tr>\n    <tr>\n      <th>1</th>\n      <td>277</td>\n      <td>45</td>\n      <td>12</td>\n      <td>297</td>\n      <td>36</td>\n      <td>302</td>\n      <td>325</td>\n      <td>133</td>\n      <td>254</td>\n      <td>229</td>\n      <td>...</td>\n      <td>266</td>\n      <td>177</td>\n      <td>258</td>\n      <td>370</td>\n      <td>214</td>\n      <td>243</td>\n      <td>280</td>\n      <td>232</td>\n      <td>110</td>\n      <td>54.046173</td>\n    </tr>\n    <tr>\n      <th>2</th>\n      <td>204</td>\n      <td>98</td>\n      <td>21</td>\n      <td>368</td>\n      <td>184</td>\n      <td>203</td>\n      <td>89</td>\n      <td>46</td>\n      <td>37</td>\n      <td>316</td>\n      <td>...</td>\n      <td>91</td>\n      <td>5</td>\n      <td>198</td>\n      <td>364</td>\n      <td>369</td>\n      <td>293</td>\n      <td>217</td>\n      <td>237</td>\n      <td>23</td>\n      <td>58.062787</td>\n    </tr>\n    <tr>\n      <th>3</th>\n      <td>214</td>\n      <td>248</td>\n      <td>236</td>\n      <td>192</td>\n      <td>322</td>\n      <td>118</td>\n      <td>326</td>\n      <td>265</td>\n      <td>257</td>\n      <td>258</td>\n      <td>...</td>\n      <td>174</td>\n      <td>304</td>\n      <td>352</td>\n      <td>147</td>\n      <td>52</td>\n      <td>4</td>\n      <td>287</td>\n      <td>83</td>\n      <td>34</td>\n      <td>70.663600</td>\n    </tr>\n    <tr>\n      <th>4</th>\n      <td>275</td>\n      <td>193</td>\n      <td>9</td>\n      <td>95</td>\n      <td>204</td>\n      <td>310</td>\n      <td>25</td>\n      <td>28</td>\n      <td>243</td>\n      <td>209</td>\n      <td>...</td>\n      <td>166</td>\n      <td>105</td>\n      <td>298</td>\n      <td>158</td>\n      <td>338</td>\n      <td>268</td>\n      <td>179</td>\n      <td>62</td>\n      <td>260</td>\n      <td>67.075373</td>\n    </tr>\n  </tbody>\n</table>\n<p>5 rows × 51 columns</p>\n</div>"
     },
     "execution_count": 51,
     "metadata": {},
     "output_type": "execute_result"
    }
   ],
   "source": [
    "df_load.head()"
   ],
   "metadata": {
    "collapsed": false,
    "ExecuteTime": {
     "start_time": "2023-10-27T18:07:48.418375Z",
     "end_time": "2023-10-27T18:07:48.434360Z"
    }
   }
  }
 ],
 "metadata": {
  "kernelspec": {
   "display_name": "Python 3",
   "language": "python",
   "name": "python3"
  },
  "language_info": {
   "codemirror_mode": {
    "name": "ipython",
    "version": 2
   },
   "file_extension": ".py",
   "mimetype": "text/x-python",
   "name": "python",
   "nbconvert_exporter": "python",
   "pygments_lexer": "ipython2",
   "version": "2.7.6"
  }
 },
 "nbformat": 4,
 "nbformat_minor": 0
}
