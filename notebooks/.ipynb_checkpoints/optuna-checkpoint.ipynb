{
 "cells": [
  {
   "cell_type": "markdown",
   "metadata": {},
   "source": [
    "# Parameter search with optuna"
   ]
  },
  {
   "cell_type": "markdown",
   "metadata": {},
   "source": [
    "## Importing section"
   ]
  },
  {
   "cell_type": "code",
   "execution_count": 1,
   "metadata": {
    "ExecuteTime": {
     "end_time": "2023-12-06T14:14:41.031046Z",
     "start_time": "2023-12-06T14:14:38.427463Z"
    },
    "collapsed": true
   },
   "outputs": [],
   "source": [
    "import optuna\n",
    "\n",
    "import numpy as np\n",
    "\n",
    "import torch\n",
    "from sklearn.metrics import r2_score\n",
    "from torch.utils.data import random_split, DataLoader\n",
    "\n",
    "from etnn import TreeNode\n",
    "from etnn.nn.layer_framework import LayerManagementFramework\n",
    "from etnn.routines.run_config import choice_dataset, choice_trainloader, choice_loss, choice_optim\n",
    "from etnn.tools.training import train_epoch, eval_epoch\n",
    "from etnn.tools.training_tools import ConfigStore, seeding_all\n",
    "\n",
    "from optuna.visualization import (\n",
    "    plot_contour,\n",
    "    plot_edf,\n",
    "    plot_intermediate_values,\n",
    "    plot_optimization_history,\n",
    "    plot_parallel_coordinate,\n",
    "    plot_param_importances,\n",
    "    plot_rank,\n",
    "    plot_slice,\n",
    "    plot_timeline,\n",
    ")"
   ]
  },
  {
   "cell_type": "markdown",
   "metadata": {},
   "source": [
    "## Tree advanced label"
   ]
  },
  {
   "cell_type": "code",
   "execution_count": 2,
   "metadata": {
    "ExecuteTime": {
     "end_time": "2023-12-06T14:14:41.046469Z",
     "start_time": "2023-12-06T14:14:41.033045Z"
    }
   },
   "outputs": [],
   "source": [
    "# setting global parameters\n",
    "dataset_path = \"../datasets/\"\n",
    "label = \"tree_advanced\" # alt: tree or default\n",
    "test_perc = 0.3\n",
    "val_perc = 0.21\n",
    "stability_count = 5\n",
    "n_trials = 200"
   ]
  },
  {
   "cell_type": "code",
   "execution_count": 3,
   "metadata": {
    "ExecuteTime": {
     "end_time": "2023-12-06T14:14:41.068680Z",
     "start_time": "2023-12-06T14:14:41.050470Z"
    }
   },
   "outputs": [],
   "source": [
    "def objective(trial):\n",
    "    # init default config\n",
    "    config = ConfigStore(\n",
    "        in_dim=15,\n",
    "        hidden_dim=trial.suggest_int(\"hidden_dim\", 16, 512, step=16),\n",
    "        out_dim=1,\n",
    "        k=trial.suggest_int(\"k\", 1, 5),\n",
    "        dataset=0,\n",
    "        ds_size=10_000,\n",
    "        num_gondolas=10,\n",
    "        num_part_pg=5,\n",
    "        loss_name='mse',\n",
    "        optimizer_name='adam',\n",
    "        num_max_epochs=30, # real: 100\n",
    "        learning_rate=trial.suggest_float(\"learning_rate\", 1e-5, 1e-2, log=True),\n",
    "        batch_size=1024,\n",
    "        early_stop_tol=5,\n",
    "        use_equal_batcher=trial.suggest_categorical(\"batcher\", [True, False]),\n",
    "        seed=420,\n",
    "        label_type=label,\n",
    "        final_label_factor=1/1000\n",
    "    )\n",
    "\n",
    "    # loading dataset\n",
    "    dataset, df_index = choice_dataset(config, dataset_path)\n",
    "    # splitting off test dataset\n",
    "    generator = torch.Generator().manual_seed(config.seed)\n",
    "    train_ds, val_ds, _ = random_split(\n",
    "        dataset,\n",
    "        [1 - test_perc - val_perc, val_perc, test_perc],\n",
    "        generator=generator\n",
    "    )\n",
    "\n",
    "    # loaders\n",
    "    train_loader = choice_trainloader(config, df_index, train_ds)\n",
    "    val_loader = DataLoader(val_ds, batch_size=4 * config.batch_size, shuffle=False)\n",
    "\n",
    "    # build tree\n",
    "    tree_structure = TreeNode(\n",
    "        node_type=\"C\",\n",
    "        children=[\n",
    "            TreeNode(\"P\", [TreeNode(\"E\", config.num_part_pg)])\n",
    "            for _ in range(config.num_gondolas)\n",
    "        ]\n",
    "    )\n",
    "\n",
    "    # define device\n",
    "    device = \"cuda\" if torch.cuda.is_available() else \"cpu\"\n",
    "\n",
    "    # set seed for reproducability\n",
    "    seeding_all(config.seed)\n",
    "\n",
    "    # define model\n",
    "    model = LayerManagementFramework(\n",
    "        in_dim=config.in_dim,\n",
    "        tree=tree_structure,\n",
    "        hidden_dim=config.hidden_dim,\n",
    "        out_dim=config.out_dim,\n",
    "        k=config.k\n",
    "    ).to(device)\n",
    "\n",
    "    # learning tools\n",
    "    criterion = choice_loss(config)\n",
    "    optimizer = choice_optim(config, model)\n",
    "\n",
    "    # init score list\n",
    "    score_list = []\n",
    "\n",
    "    # train for specified number of epochs\n",
    "    for epoch in range(config.num_max_epochs):\n",
    "        _, _, _ = train_epoch(\n",
    "            model,\n",
    "            train_loader,\n",
    "            optimizer,\n",
    "            device,\n",
    "            criterion\n",
    "        )\n",
    "\n",
    "        _, val_true_y, val_pred_y = eval_epoch(\n",
    "            model,\n",
    "            val_loader,\n",
    "            device,\n",
    "            criterion\n",
    "        )\n",
    "\n",
    "        # calc r2 score and append\n",
    "        score = r2_score(y_true=val_true_y, y_pred=val_pred_y)\n",
    "        score_list += [score]\n",
    "        trial.report(score, epoch)\n",
    "\n",
    "    # calculate objective\n",
    "    # display(score_list)\n",
    "    # idea: last x r2 scores (why not last one? for stability purposes)\n",
    "    obj = np.array(score_list)[-stability_count:]\n",
    "    return np.mean(obj)"
   ]
  },
  {
   "cell_type": "code",
   "execution_count": null,
   "metadata": {
    "ExecuteTime": {
     "end_time": "2023-12-06T13:52:32.835835Z",
     "start_time": "2023-12-06T13:50:55.256143Z"
    },
    "pycharm": {
     "is_executing": true
    }
   },
   "outputs": [
    {
     "name": "stderr",
     "output_type": "stream",
     "text": [
      "[I 2023-12-06 14:14:41,063] A new study created in memory with name: Best tree advanced label config\n"
     ]
    },
    {
     "data": {
      "application/vnd.jupyter.widget-view+json": {
       "model_id": "a1a0be1adc9e4a6685cff286f7620681",
       "version_major": 2,
       "version_minor": 0
      },
      "text/plain": [
       "  0%|          | 0/200 [00:00<?, ?it/s]"
      ]
     },
     "metadata": {},
     "output_type": "display_data"
    },
    {
     "name": "stdout",
     "output_type": "stream",
     "text": [
      "[I 2023-12-06 14:16:16,163] Trial 0 finished with value: 0.977835170258216 and parameters: {'hidden_dim': 512, 'k': 1, 'learning_rate': 0.00011521278895657964, 'batcher': False}. Best is trial 0 with value: 0.977835170258216.\n",
      "[I 2023-12-06 14:17:46,148] Trial 1 finished with value: -1.2182537060438932 and parameters: {'hidden_dim': 512, 'k': 4, 'learning_rate': 1.3043904324244627e-05, 'batcher': False}. Best is trial 0 with value: 0.977835170258216.\n",
      "[I 2023-12-06 14:19:11,420] Trial 2 finished with value: -45.13049526861947 and parameters: {'hidden_dim': 448, 'k': 1, 'learning_rate': 0.0001684222214709156, 'batcher': True}. Best is trial 0 with value: 0.977835170258216.\n",
      "[I 2023-12-06 14:20:37,669] Trial 3 finished with value: 0.7065345424868887 and parameters: {'hidden_dim': 432, 'k': 3, 'learning_rate': 8.67418895440181e-05, 'batcher': True}. Best is trial 0 with value: 0.977835170258216.\n",
      "[I 2023-12-06 14:22:01,657] Trial 4 finished with value: -0.18986505702947146 and parameters: {'hidden_dim': 304, 'k': 4, 'learning_rate': 0.0001162284635684981, 'batcher': False}. Best is trial 0 with value: 0.977835170258216.\n",
      "[I 2023-12-06 14:23:25,019] Trial 5 finished with value: -0.2430486068742161 and parameters: {'hidden_dim': 352, 'k': 5, 'learning_rate': 0.00012346798379056333, 'batcher': True}. Best is trial 0 with value: 0.977835170258216.\n",
      "[I 2023-12-06 14:24:47,782] Trial 6 finished with value: 0.9327392474518257 and parameters: {'hidden_dim': 208, 'k': 3, 'learning_rate': 0.00035743117484926014, 'batcher': False}. Best is trial 0 with value: 0.977835170258216.\n",
      "[I 2023-12-06 14:26:09,530] Trial 7 finished with value: 0.4347132356009139 and parameters: {'hidden_dim': 176, 'k': 2, 'learning_rate': 6.817932216043234e-05, 'batcher': True}. Best is trial 0 with value: 0.977835170258216.\n",
      "[I 2023-12-06 14:27:32,833] Trial 8 finished with value: -1.7269413432175007 and parameters: {'hidden_dim': 448, 'k': 2, 'learning_rate': 0.002312844948170743, 'batcher': True}. Best is trial 0 with value: 0.977835170258216.\n",
      "[I 2023-12-06 14:28:51,067] Trial 9 finished with value: -1.145650025578293 and parameters: {'hidden_dim': 144, 'k': 2, 'learning_rate': 1.6578385322324828e-05, 'batcher': True}. Best is trial 0 with value: 0.977835170258216.\n",
      "[I 2023-12-06 14:30:11,146] Trial 10 finished with value: -0.00044210276989935514 and parameters: {'hidden_dim': 80, 'k': 1, 'learning_rate': 0.007191176252757536, 'batcher': False}. Best is trial 0 with value: 0.977835170258216.\n",
      "[I 2023-12-06 14:31:35,132] Trial 11 finished with value: -165.78746238934622 and parameters: {'hidden_dim': 224, 'k': 3, 'learning_rate': 0.0005451917321789581, 'batcher': False}. Best is trial 0 with value: 0.977835170258216.\n",
      "[I 2023-12-06 14:33:02,444] Trial 12 finished with value: 0.9832775285784818 and parameters: {'hidden_dim': 32, 'k': 1, 'learning_rate': 0.0005202071253481668, 'batcher': False}. Best is trial 12 with value: 0.9832775285784818.\n",
      "[I 2023-12-06 14:34:55,821] Trial 13 finished with value: 0.9918005891840395 and parameters: {'hidden_dim': 32, 'k': 1, 'learning_rate': 0.0008357199232677771, 'batcher': False}. Best is trial 13 with value: 0.9918005891840395.\n",
      "[I 2023-12-06 14:36:52,569] Trial 14 finished with value: -1168.4173374961606 and parameters: {'hidden_dim': 16, 'k': 1, 'learning_rate': 0.000925499132793952, 'batcher': False}. Best is trial 13 with value: 0.9918005891840395.\n",
      "[I 2023-12-06 14:38:46,251] Trial 15 finished with value: 0.916381740730747 and parameters: {'hidden_dim': 32, 'k': 2, 'learning_rate': 0.0013126929810828346, 'batcher': False}. Best is trial 13 with value: 0.9918005891840395.\n",
      "[I 2023-12-06 14:40:20,483] Trial 16 finished with value: 0.8328745758347443 and parameters: {'hidden_dim': 112, 'k': 1, 'learning_rate': 0.0023996467226407594, 'batcher': False}. Best is trial 13 with value: 0.9918005891840395.\n",
      "[I 2023-12-06 14:41:50,908] Trial 17 finished with value: 0.7010164677299215 and parameters: {'hidden_dim': 80, 'k': 2, 'learning_rate': 0.0004047070465667412, 'batcher': False}. Best is trial 13 with value: 0.9918005891840395.\n",
      "[I 2023-12-06 14:43:24,418] Trial 18 finished with value: 0.9908092286348775 and parameters: {'hidden_dim': 16, 'k': 4, 'learning_rate': 0.0010963323470728906, 'batcher': False}. Best is trial 13 with value: 0.9918005891840395.\n",
      "[I 2023-12-06 14:45:22,209] Trial 19 finished with value: -2385.8040276700563 and parameters: {'hidden_dim': 288, 'k': 5, 'learning_rate': 0.008894674010505775, 'batcher': False}. Best is trial 13 with value: 0.9918005891840395.\n",
      "[I 2023-12-06 14:47:21,566] Trial 20 finished with value: -8.782285573013317 and parameters: {'hidden_dim': 96, 'k': 4, 'learning_rate': 0.0009980940808588098, 'batcher': False}. Best is trial 13 with value: 0.9918005891840395.\n",
      "[I 2023-12-06 14:49:14,306] Trial 21 finished with value: 0.6270075354467689 and parameters: {'hidden_dim': 32, 'k': 4, 'learning_rate': 0.000578426543822921, 'batcher': False}. Best is trial 13 with value: 0.9918005891840395.\n",
      "[I 2023-12-06 14:51:10,897] Trial 22 finished with value: -3.78014067816139 and parameters: {'hidden_dim': 16, 'k': 5, 'learning_rate': 0.0002497446575260027, 'batcher': False}. Best is trial 13 with value: 0.9918005891840395.\n",
      "[I 2023-12-06 14:53:09,512] Trial 23 finished with value: 0.9870534602383755 and parameters: {'hidden_dim': 64, 'k': 3, 'learning_rate': 0.0016712418508772915, 'batcher': False}. Best is trial 13 with value: 0.9918005891840395.\n",
      "[I 2023-12-06 14:54:42,560] Trial 24 finished with value: 0.422821938092348 and parameters: {'hidden_dim': 64, 'k': 3, 'learning_rate': 0.002312665739331292, 'batcher': False}. Best is trial 13 with value: 0.9918005891840395.\n",
      "[I 2023-12-06 14:56:19,435] Trial 25 finished with value: 0.8325768541974075 and parameters: {'hidden_dim': 128, 'k': 4, 'learning_rate': 0.003919175832880415, 'batcher': False}. Best is trial 13 with value: 0.9918005891840395.\n",
      "[I 2023-12-06 14:58:18,542] Trial 26 finished with value: -4.825899545024648 and parameters: {'hidden_dim': 144, 'k': 4, 'learning_rate': 0.0016314445461267017, 'batcher': False}. Best is trial 13 with value: 0.9918005891840395.\n",
      "[I 2023-12-06 15:00:09,417] Trial 27 finished with value: -2.4577846751430323 and parameters: {'hidden_dim': 176, 'k': 3, 'learning_rate': 0.0007475927765835958, 'batcher': False}. Best is trial 13 with value: 0.9918005891840395.\n",
      "[I 2023-12-06 15:02:00,652] Trial 28 finished with value: 0.6694768455859272 and parameters: {'hidden_dim': 64, 'k': 5, 'learning_rate': 0.0012304232120708635, 'batcher': False}. Best is trial 13 with value: 0.9918005891840395.\n",
      "[I 2023-12-06 15:03:51,556] Trial 29 finished with value: 0.992468230296361 and parameters: {'hidden_dim': 64, 'k': 2, 'learning_rate': 0.004193698473708694, 'batcher': False}. Best is trial 29 with value: 0.992468230296361.\n",
      "[I 2023-12-06 15:05:45,078] Trial 30 finished with value: 0.602796498947458 and parameters: {'hidden_dim': 224, 'k': 2, 'learning_rate': 0.004453108283318352, 'batcher': False}. Best is trial 29 with value: 0.992468230296361.\n",
      "[I 2023-12-06 15:07:26,498] Trial 31 finished with value: 0.9343972652920861 and parameters: {'hidden_dim': 64, 'k': 3, 'learning_rate': 0.004078112883552678, 'batcher': False}. Best is trial 29 with value: 0.992468230296361.\n",
      "[I 2023-12-06 15:09:18,628] Trial 32 finished with value: 0.9940845562625057 and parameters: {'hidden_dim': 48, 'k': 2, 'learning_rate': 0.001754817877389713, 'batcher': False}. Best is trial 32 with value: 0.9940845562625057.\n",
      "[I 2023-12-06 15:11:08,666] Trial 33 finished with value: -3.543302221455865 and parameters: {'hidden_dim': 112, 'k': 1, 'learning_rate': 0.0008651400195135349, 'batcher': False}. Best is trial 32 with value: 0.9940845562625057.\n",
      "[I 2023-12-06 15:12:50,483] Trial 34 finished with value: 0.9984548614809224 and parameters: {'hidden_dim': 16, 'k': 2, 'learning_rate': 0.0027798626982959837, 'batcher': False}. Best is trial 34 with value: 0.9984548614809224.\n",
      "[I 2023-12-06 15:14:40,813] Trial 35 finished with value: 0.9881403921434264 and parameters: {'hidden_dim': 48, 'k': 2, 'learning_rate': 0.005953206605811171, 'batcher': True}. Best is trial 34 with value: 0.9984548614809224.\n",
      "[I 2023-12-06 15:16:36,681] Trial 36 finished with value: -10.542789576143354 and parameters: {'hidden_dim': 352, 'k': 2, 'learning_rate': 0.0031188848016926807, 'batcher': False}. Best is trial 34 with value: 0.9984548614809224.\n",
      "[I 2023-12-06 15:18:19,851] Trial 37 finished with value: 0.40743098531016597 and parameters: {'hidden_dim': 176, 'k': 1, 'learning_rate': 0.005439488031391103, 'batcher': False}. Best is trial 34 with value: 0.9984548614809224.\n",
      "[I 2023-12-06 15:19:48,399] Trial 38 finished with value: -326.6496161975075 and parameters: {'hidden_dim': 96, 'k': 2, 'learning_rate': 0.008600013600804368, 'batcher': True}. Best is trial 34 with value: 0.9984548614809224.\n",
      "[I 2023-12-06 15:21:48,408] Trial 39 finished with value: 0.9728297507878418 and parameters: {'hidden_dim': 384, 'k': 1, 'learning_rate': 0.001854688478565747, 'batcher': False}. Best is trial 34 with value: 0.9984548614809224.\n",
      "[I 2023-12-06 15:23:38,764] Trial 40 finished with value: 0.9892799473520085 and parameters: {'hidden_dim': 48, 'k': 2, 'learning_rate': 0.0032142337181658843, 'batcher': True}. Best is trial 34 with value: 0.9984548614809224.\n",
      "[I 2023-12-06 15:25:20,453] Trial 41 finished with value: 0.9953462825334922 and parameters: {'hidden_dim': 16, 'k': 3, 'learning_rate': 0.0012948267191400813, 'batcher': False}. Best is trial 34 with value: 0.9984548614809224.\n",
      "[I 2023-12-06 15:27:08,298] Trial 42 finished with value: 0.9953598251567568 and parameters: {'hidden_dim': 16, 'k': 3, 'learning_rate': 0.0014381578852845807, 'batcher': False}. Best is trial 34 with value: 0.9984548614809224.\n",
      "[I 2023-12-06 15:28:56,508] Trial 43 finished with value: 0.9253994625745072 and parameters: {'hidden_dim': 16, 'k': 3, 'learning_rate': 0.003057900519653497, 'batcher': False}. Best is trial 34 with value: 0.9984548614809224.\n",
      "[I 2023-12-06 15:30:43,530] Trial 44 finished with value: -1382.6267477891467 and parameters: {'hidden_dim': 96, 'k': 3, 'learning_rate': 0.0015882097604447557, 'batcher': False}. Best is trial 34 with value: 0.9984548614809224.\n",
      "[I 2023-12-06 15:32:29,185] Trial 45 finished with value: 0.9170520332922235 and parameters: {'hidden_dim': 48, 'k': 2, 'learning_rate': 0.002218069353039596, 'batcher': False}. Best is trial 34 with value: 0.9984548614809224.\n",
      "[I 2023-12-06 15:34:28,772] Trial 46 finished with value: -1827.785410808538 and parameters: {'hidden_dim': 480, 'k': 3, 'learning_rate': 0.006042740755252368, 'batcher': True}. Best is trial 34 with value: 0.9984548614809224.\n",
      "[I 2023-12-06 15:36:17,031] Trial 47 finished with value: 0.9349710477017192 and parameters: {'hidden_dim': 128, 'k': 2, 'learning_rate': 0.0013767300511055847, 'batcher': False}. Best is trial 34 with value: 0.9984548614809224.\n",
      "[I 2023-12-06 15:38:06,045] Trial 48 finished with value: 0.8771544817738193 and parameters: {'hidden_dim': 80, 'k': 2, 'learning_rate': 0.0027097650853699076, 'batcher': False}. Best is trial 34 with value: 0.9984548614809224.\n",
      "[I 2023-12-06 15:39:59,630] Trial 49 finished with value: -6.084304795343062 and parameters: {'hidden_dim': 48, 'k': 3, 'learning_rate': 0.00984971031105055, 'batcher': False}. Best is trial 34 with value: 0.9984548614809224.\n",
      "[I 2023-12-06 15:41:53,454] Trial 50 finished with value: 0.9377109616373108 and parameters: {'hidden_dim': 256, 'k': 2, 'learning_rate': 0.0021784771626386923, 'batcher': False}. Best is trial 34 with value: 0.9984548614809224.\n",
      "[I 2023-12-06 15:43:34,347] Trial 51 finished with value: -1173.936478210611 and parameters: {'hidden_dim': 16, 'k': 1, 'learning_rate': 0.0007512118245250795, 'batcher': False}. Best is trial 34 with value: 0.9984548614809224.\n",
      "[I 2023-12-06 15:45:29,671] Trial 52 finished with value: -1105.5784271686346 and parameters: {'hidden_dim': 32, 'k': 3, 'learning_rate': 0.0013582127065647047, 'batcher': False}. Best is trial 34 with value: 0.9984548614809224.\n",
      "[I 2023-12-06 15:47:24,325] Trial 53 finished with value: 0.9311663711167538 and parameters: {'hidden_dim': 32, 'k': 1, 'learning_rate': 0.0019450079935210641, 'batcher': False}. Best is trial 34 with value: 0.9984548614809224.\n",
      "[I 2023-12-06 15:49:12,322] Trial 54 finished with value: -12.48155416236712 and parameters: {'hidden_dim': 80, 'k': 1, 'learning_rate': 0.0012062675550016662, 'batcher': False}. Best is trial 34 with value: 0.9984548614809224.\n",
      "[I 2023-12-06 15:51:00,336] Trial 55 finished with value: 0.9984184745239653 and parameters: {'hidden_dim': 16, 'k': 2, 'learning_rate': 0.0027406123882571325, 'batcher': False}. Best is trial 34 with value: 0.9984548614809224.\n",
      "[I 2023-12-06 15:52:50,757] Trial 56 finished with value: -1175.3097778498372 and parameters: {'hidden_dim': 16, 'k': 2, 'learning_rate': 0.003701498882902534, 'batcher': False}. Best is trial 34 with value: 0.9984548614809224.\n",
      "[I 2023-12-06 15:54:38,338] Trial 57 finished with value: 0.981832755062276 and parameters: {'hidden_dim': 48, 'k': 2, 'learning_rate': 0.00480716045202466, 'batcher': True}. Best is trial 34 with value: 0.9984548614809224.\n",
      "[I 2023-12-06 15:56:26,598] Trial 58 finished with value: 0.9512344761415994 and parameters: {'hidden_dim': 144, 'k': 2, 'learning_rate': 0.002626350737600567, 'batcher': False}. Best is trial 34 with value: 0.9984548614809224.\n",
      "[I 2023-12-06 15:58:20,887] Trial 59 finished with value: 0.9707317454390149 and parameters: {'hidden_dim': 80, 'k': 3, 'learning_rate': 0.003509144936009432, 'batcher': False}. Best is trial 34 with value: 0.9984548614809224.\n",
      "[I 2023-12-06 16:00:04,951] Trial 60 finished with value: 0.9916387881842382 and parameters: {'hidden_dim': 16, 'k': 2, 'learning_rate': 0.002736006006516277, 'batcher': False}. Best is trial 34 with value: 0.9984548614809224.\n",
      "[I 2023-12-06 16:01:45,790] Trial 61 finished with value: 0.9677296630854123 and parameters: {'hidden_dim': 32, 'k': 3, 'learning_rate': 0.0017525978100677107, 'batcher': False}. Best is trial 34 with value: 0.9984548614809224.\n",
      "[I 2023-12-06 16:03:34,400] Trial 62 finished with value: 0.945457888020649 and parameters: {'hidden_dim': 64, 'k': 2, 'learning_rate': 0.0008802013636170224, 'batcher': False}. Best is trial 34 with value: 0.9984548614809224.\n",
      "[I 2023-12-06 16:05:23,525] Trial 63 finished with value: 0.9974831366055392 and parameters: {'hidden_dim': 48, 'k': 1, 'learning_rate': 0.0010561275777841233, 'batcher': False}. Best is trial 34 with value: 0.9984548614809224.\n",
      "[I 2023-12-06 16:07:09,558] Trial 64 finished with value: -866.4438357335808 and parameters: {'hidden_dim': 112, 'k': 2, 'learning_rate': 0.001004567571723677, 'batcher': False}. Best is trial 34 with value: 0.9984548614809224.\n",
      "[I 2023-12-06 16:08:53,680] Trial 65 finished with value: -0.6456314809358066 and parameters: {'hidden_dim': 48, 'k': 3, 'learning_rate': 0.0020845173679837196, 'batcher': False}. Best is trial 34 with value: 0.9984548614809224.\n",
      "[I 2023-12-06 16:10:46,844] Trial 66 finished with value: 0.9972670750456892 and parameters: {'hidden_dim': 64, 'k': 1, 'learning_rate': 0.00146992718259247, 'batcher': False}. Best is trial 34 with value: 0.9984548614809224.\n",
      "[I 2023-12-06 16:12:29,697] Trial 67 finished with value: -1171.2703047096616 and parameters: {'hidden_dim': 16, 'k': 1, 'learning_rate': 0.0006590187459277111, 'batcher': False}. Best is trial 34 with value: 0.9984548614809224.\n",
      "[I 2023-12-06 16:14:15,698] Trial 68 finished with value: 0.9714496104175211 and parameters: {'hidden_dim': 32, 'k': 1, 'learning_rate': 0.0011379669480724322, 'batcher': False}. Best is trial 34 with value: 0.9984548614809224.\n",
      "[I 2023-12-06 16:16:09,333] Trial 69 finished with value: 0.9816353404501651 and parameters: {'hidden_dim': 96, 'k': 1, 'learning_rate': 0.001370724921648304, 'batcher': False}. Best is trial 34 with value: 0.9984548614809224.\n",
      "[I 2023-12-06 16:18:01,305] Trial 70 finished with value: -0.5329837121466686 and parameters: {'hidden_dim': 80, 'k': 4, 'learning_rate': 0.0004344301000859635, 'batcher': False}. Best is trial 34 with value: 0.9984548614809224.\n",
      "[I 2023-12-06 16:19:48,110] Trial 71 finished with value: 0.9939824472428012 and parameters: {'hidden_dim': 64, 'k': 2, 'learning_rate': 0.0026015996004642313, 'batcher': False}. Best is trial 34 with value: 0.9984548614809224.\n",
      "[I 2023-12-06 16:21:45,439] Trial 72 finished with value: 0.9906825977075311 and parameters: {'hidden_dim': 32, 'k': 1, 'learning_rate': 0.0015985905715585082, 'batcher': False}. Best is trial 34 with value: 0.9984548614809224.\n",
      "[I 2023-12-06 16:23:40,079] Trial 73 finished with value: 0.5268149447182225 and parameters: {'hidden_dim': 48, 'k': 2, 'learning_rate': 0.0023981993698750986, 'batcher': False}. Best is trial 34 with value: 0.9984548614809224.\n",
      "[I 2023-12-06 16:25:25,879] Trial 74 finished with value: -29.878044680956123 and parameters: {'hidden_dim': 64, 'k': 1, 'learning_rate': 0.0010307651991288947, 'batcher': False}. Best is trial 34 with value: 0.9984548614809224.\n",
      "[I 2023-12-06 16:27:12,543] Trial 75 finished with value: 0.9655389788565596 and parameters: {'hidden_dim': 16, 'k': 4, 'learning_rate': 0.0019728094067745414, 'batcher': False}. Best is trial 34 with value: 0.9984548614809224.\n",
      "[I 2023-12-06 16:28:48,126] Trial 76 finished with value: 0.9638570636229093 and parameters: {'hidden_dim': 96, 'k': 2, 'learning_rate': 0.0028061781949984014, 'batcher': True}. Best is trial 34 with value: 0.9984548614809224.\n",
      "[I 2023-12-06 16:30:19,765] Trial 77 finished with value: -16.02633212724865 and parameters: {'hidden_dim': 64, 'k': 1, 'learning_rate': 0.0035560907077881896, 'batcher': False}. Best is trial 34 with value: 0.9984548614809224.\n",
      "[I 2023-12-06 16:32:07,528] Trial 78 finished with value: -1105.2194383563728 and parameters: {'hidden_dim': 32, 'k': 3, 'learning_rate': 0.001406633589347157, 'batcher': False}. Best is trial 34 with value: 0.9984548614809224.\n",
      "[I 2023-12-06 16:34:04,483] Trial 79 finished with value: 0.8559330910814229 and parameters: {'hidden_dim': 128, 'k': 2, 'learning_rate': 0.0016495762105219003, 'batcher': False}. Best is trial 34 with value: 0.9984548614809224.\n",
      "[I 2023-12-06 16:35:55,390] Trial 80 finished with value: 0.47334584373263766 and parameters: {'hidden_dim': 160, 'k': 3, 'learning_rate': 0.0011073210373338208, 'batcher': False}. Best is trial 34 with value: 0.9984548614809224.\n",
      "[I 2023-12-06 16:37:34,055] Trial 81 finished with value: 0.9904923248947572 and parameters: {'hidden_dim': 48, 'k': 2, 'learning_rate': 0.00423904424346023, 'batcher': False}. Best is trial 34 with value: 0.9984548614809224.\n",
      "[I 2023-12-06 16:39:29,143] Trial 82 finished with value: 0.9769624009460005 and parameters: {'hidden_dim': 80, 'k': 2, 'learning_rate': 0.0025451364505661546, 'batcher': False}. Best is trial 34 with value: 0.9984548614809224.\n",
      "[I 2023-12-06 16:41:15,660] Trial 83 finished with value: 0.9373650819290285 and parameters: {'hidden_dim': 112, 'k': 2, 'learning_rate': 0.0032069221721308543, 'batcher': False}. Best is trial 34 with value: 0.9984548614809224.\n",
      "[I 2023-12-06 16:43:01,383] Trial 84 finished with value: 0.969614428447845 and parameters: {'hidden_dim': 64, 'k': 2, 'learning_rate': 0.004812391768531655, 'batcher': False}. Best is trial 34 with value: 0.9984548614809224.\n",
      "[I 2023-12-06 16:44:52,116] Trial 85 finished with value: 0.9913060433657208 and parameters: {'hidden_dim': 16, 'k': 3, 'learning_rate': 0.001990278009501023, 'batcher': False}. Best is trial 34 with value: 0.9984548614809224.\n",
      "[I 2023-12-06 16:46:50,063] Trial 86 finished with value: -13069.27894182266 and parameters: {'hidden_dim': 320, 'k': 2, 'learning_rate': 0.0014881305113467126, 'batcher': False}. Best is trial 34 with value: 0.9984548614809224.\n",
      "[I 2023-12-06 16:48:34,833] Trial 87 finished with value: -3.2688494257246203 and parameters: {'hidden_dim': 48, 'k': 1, 'learning_rate': 0.0023869689168433935, 'batcher': True}. Best is trial 34 with value: 0.9984548614809224.\n",
      "[I 2023-12-06 16:50:22,903] Trial 88 finished with value: 0.9787462289377613 and parameters: {'hidden_dim': 64, 'k': 2, 'learning_rate': 0.001847996985693643, 'batcher': False}. Best is trial 34 with value: 0.9984548614809224.\n",
      "[I 2023-12-06 16:51:59,528] Trial 89 finished with value: 0.9614851521972951 and parameters: {'hidden_dim': 32, 'k': 1, 'learning_rate': 0.003017889490580401, 'batcher': False}. Best is trial 34 with value: 0.9984548614809224.\n",
      "[I 2023-12-06 16:53:52,146] Trial 90 finished with value: 0.5747245555937306 and parameters: {'hidden_dim': 208, 'k': 3, 'learning_rate': 0.004089735244253181, 'batcher': False}. Best is trial 34 with value: 0.9984548614809224.\n",
      "[I 2023-12-06 16:55:35,471] Trial 91 finished with value: -1169.5222983676247 and parameters: {'hidden_dim': 16, 'k': 1, 'learning_rate': 0.0007954335942016847, 'batcher': False}. Best is trial 34 with value: 0.9984548614809224.\n",
      "[I 2023-12-06 16:57:31,719] Trial 92 finished with value: 0.989177216584457 and parameters: {'hidden_dim': 32, 'k': 1, 'learning_rate': 0.0013102338095547857, 'batcher': False}. Best is trial 34 with value: 0.9984548614809224.\n",
      "[I 2023-12-06 16:59:28,908] Trial 93 finished with value: 0.9977953487050449 and parameters: {'hidden_dim': 48, 'k': 1, 'learning_rate': 0.0009207530687371858, 'batcher': False}. Best is trial 34 with value: 0.9984548614809224.\n",
      "[I 2023-12-06 17:01:17,284] Trial 94 finished with value: 0.9857065383341587 and parameters: {'hidden_dim': 96, 'k': 1, 'learning_rate': 0.0010017205826206475, 'batcher': False}. Best is trial 34 with value: 0.9984548614809224.\n",
      "[I 2023-12-06 17:03:12,537] Trial 95 finished with value: 0.9899058577724775 and parameters: {'hidden_dim': 64, 'k': 1, 'learning_rate': 0.0017249110401854986, 'batcher': False}. Best is trial 34 with value: 0.9984548614809224.\n",
      "[I 2023-12-06 17:05:07,356] Trial 96 finished with value: 0.958072611388415 and parameters: {'hidden_dim': 48, 'k': 2, 'learning_rate': 0.0012369254195305993, 'batcher': False}. Best is trial 34 with value: 0.9984548614809224.\n",
      "[I 2023-12-06 17:06:57,340] Trial 97 finished with value: 0.9793737895423862 and parameters: {'hidden_dim': 80, 'k': 2, 'learning_rate': 0.0006589820950935219, 'batcher': False}. Best is trial 34 with value: 0.9984548614809224.\n",
      "[I 2023-12-06 17:08:56,033] Trial 98 finished with value: -3.7683442103945155 and parameters: {'hidden_dim': 512, 'k': 3, 'learning_rate': 0.002195746414065243, 'batcher': False}. Best is trial 34 with value: 0.9984548614809224.\n",
      "[I 2023-12-06 17:10:34,368] Trial 99 finished with value: 0.9956567672280915 and parameters: {'hidden_dim': 48, 'k': 1, 'learning_rate': 0.0008699248424307597, 'batcher': True}. Best is trial 34 with value: 0.9984548614809224.\n",
      "[I 2023-12-06 17:11:55,663] Trial 100 finished with value: 0.9965345376027035 and parameters: {'hidden_dim': 48, 'k': 1, 'learning_rate': 0.0008814369710603398, 'batcher': True}. Best is trial 34 with value: 0.9984548614809224.\n",
      "[I 2023-12-06 17:13:28,445] Trial 101 finished with value: 0.9915737100442156 and parameters: {'hidden_dim': 48, 'k': 1, 'learning_rate': 0.0010774790963097435, 'batcher': True}. Best is trial 34 with value: 0.9984548614809224.\n",
      "[I 2023-12-06 17:15:20,687] Trial 102 finished with value: 0.9902836003325772 and parameters: {'hidden_dim': 32, 'k': 1, 'learning_rate': 0.0008295893708252325, 'batcher': True}. Best is trial 34 with value: 0.9984548614809224.\n",
      "[I 2023-12-06 17:17:16,292] Trial 103 finished with value: 0.9883047852610758 and parameters: {'hidden_dim': 32, 'k': 1, 'learning_rate': 0.0009238046590512199, 'batcher': True}. Best is trial 34 with value: 0.9984548614809224.\n",
      "[I 2023-12-06 17:19:09,686] Trial 104 finished with value: 0.9808635792620377 and parameters: {'hidden_dim': 400, 'k': 1, 'learning_rate': 0.0014964351126491688, 'batcher': True}. Best is trial 34 with value: 0.9984548614809224.\n",
      "[I 2023-12-06 17:20:58,270] Trial 105 finished with value: -1166.176212257918 and parameters: {'hidden_dim': 16, 'k': 1, 'learning_rate': 0.001140595710677079, 'batcher': True}. Best is trial 34 with value: 0.9984548614809224.\n",
      "[I 2023-12-06 17:22:55,200] Trial 106 finished with value: 0.9913352940803403 and parameters: {'hidden_dim': 48, 'k': 1, 'learning_rate': 0.0006536300658886589, 'batcher': True}. Best is trial 34 with value: 0.9984548614809224.\n",
      "[I 2023-12-06 17:24:46,850] Trial 107 finished with value: -17.039988829950715 and parameters: {'hidden_dim': 256, 'k': 1, 'learning_rate': 0.0009148916789422649, 'batcher': True}. Best is trial 34 with value: 0.9984548614809224.\n",
      "[I 2023-12-06 17:26:32,032] Trial 108 finished with value: -1165.3255398570218 and parameters: {'hidden_dim': 16, 'k': 1, 'learning_rate': 0.001233660201939708, 'batcher': True}. Best is trial 34 with value: 0.9984548614809224.\n",
      "[I 2023-12-06 17:28:28,181] Trial 109 finished with value: -1.3803128801261342 and parameters: {'hidden_dim': 64, 'k': 1, 'learning_rate': 0.0018184341665929552, 'batcher': True}. Best is trial 34 with value: 0.9984548614809224.\n",
      "[I 2023-12-06 17:30:19,771] Trial 110 finished with value: 0.5591734897396016 and parameters: {'hidden_dim': 32, 'k': 1, 'learning_rate': 0.0015100147937240063, 'batcher': True}. Best is trial 34 with value: 0.9984548614809224.\n",
      "[I 2023-12-06 17:32:05,620] Trial 111 finished with value: 0.9684232983041907 and parameters: {'hidden_dim': 64, 'k': 2, 'learning_rate': 0.002230381362320126, 'batcher': False}. Best is trial 34 with value: 0.9984548614809224.\n",
      "[I 2023-12-06 17:33:58,397] Trial 112 finished with value: 0.935729977118551 and parameters: {'hidden_dim': 80, 'k': 2, 'learning_rate': 0.000502541044545727, 'batcher': False}. Best is trial 34 with value: 0.9984548614809224.\n",
      "[I 2023-12-06 17:35:43,951] Trial 113 finished with value: 0.9574984803129774 and parameters: {'hidden_dim': 48, 'k': 2, 'learning_rate': 0.0007536925757338714, 'batcher': False}. Best is trial 34 with value: 0.9984548614809224.\n",
      "[I 2023-12-06 17:37:35,529] Trial 114 finished with value: -2.842923418793041 and parameters: {'hidden_dim': 80, 'k': 4, 'learning_rate': 0.0036012312774017256, 'batcher': False}. Best is trial 34 with value: 0.9984548614809224.\n",
      "[I 2023-12-06 17:39:20,550] Trial 115 finished with value: -1156.5279142037066 and parameters: {'hidden_dim': 16, 'k': 1, 'learning_rate': 0.0026648939532190117, 'batcher': False}. Best is trial 34 with value: 0.9984548614809224.\n",
      "[I 2023-12-06 17:41:15,672] Trial 116 finished with value: 0.9232936524109562 and parameters: {'hidden_dim': 32, 'k': 2, 'learning_rate': 0.0013086783061912524, 'batcher': False}. Best is trial 34 with value: 0.9984548614809224.\n",
      "[I 2023-12-06 17:43:03,898] Trial 117 finished with value: -483.99085322303256 and parameters: {'hidden_dim': 96, 'k': 3, 'learning_rate': 0.001622312646997623, 'batcher': False}. Best is trial 34 with value: 0.9984548614809224.\n",
      "[I 2023-12-06 17:44:57,047] Trial 118 finished with value: 0.5168831587668252 and parameters: {'hidden_dim': 48, 'k': 5, 'learning_rate': 0.002053317229755419, 'batcher': True}. Best is trial 34 with value: 0.9984548614809224.\n",
      "[I 2023-12-06 17:46:44,876] Trial 119 finished with value: -12.246742070359511 and parameters: {'hidden_dim': 112, 'k': 1, 'learning_rate': 0.000922297048044338, 'batcher': False}. Best is trial 34 with value: 0.9984548614809224.\n",
      "[I 2023-12-06 17:48:06,225] Trial 120 finished with value: 0.8389569080855377 and parameters: {'hidden_dim': 16, 'k': 2, 'learning_rate': 0.0030736783705240024, 'batcher': False}. Best is trial 34 with value: 0.9984548614809224.\n",
      "[I 2023-12-06 17:49:28,625] Trial 121 finished with value: 0.7995676750619352 and parameters: {'hidden_dim': 64, 'k': 1, 'learning_rate': 0.0010623506115582156, 'batcher': False}. Best is trial 34 with value: 0.9984548614809224.\n",
      "[I 2023-12-06 17:51:22,855] Trial 122 finished with value: 0.9910363663432505 and parameters: {'hidden_dim': 32, 'k': 1, 'learning_rate': 0.0007324445465375203, 'batcher': False}. Best is trial 34 with value: 0.9984548614809224.\n",
      "[I 2023-12-06 17:53:18,014] Trial 123 finished with value: 0.9904457372849219 and parameters: {'hidden_dim': 48, 'k': 1, 'learning_rate': 0.0005779184872351969, 'batcher': False}. Best is trial 34 with value: 0.9984548614809224.\n",
      "[I 2023-12-06 17:55:02,360] Trial 124 finished with value: -1164.1189149232425 and parameters: {'hidden_dim': 16, 'k': 1, 'learning_rate': 0.001391740585490644, 'batcher': False}. Best is trial 34 with value: 0.9984548614809224.\n",
      "[I 2023-12-06 17:56:56,660] Trial 125 finished with value: 0.9906994287933643 and parameters: {'hidden_dim': 32, 'k': 1, 'learning_rate': 0.000889537487648166, 'batcher': False}. Best is trial 34 with value: 0.9984548614809224.\n",
      "[I 2023-12-06 17:58:41,430] Trial 126 finished with value: 0.9726540711886063 and parameters: {'hidden_dim': 64, 'k': 3, 'learning_rate': 0.001748878961189306, 'batcher': False}. Best is trial 34 with value: 0.9984548614809224.\n",
      "[I 2023-12-06 18:00:24,247] Trial 127 finished with value: 0.9632359782010192 and parameters: {'hidden_dim': 48, 'k': 2, 'learning_rate': 0.001169557731743401, 'batcher': False}. Best is trial 34 with value: 0.9984548614809224.\n",
      "[I 2023-12-06 18:02:08,652] Trial 128 finished with value: 0.9874606962675182 and parameters: {'hidden_dim': 32, 'k': 1, 'learning_rate': 0.0024591896020799745, 'batcher': False}. Best is trial 34 with value: 0.9984548614809224.\n",
      "[I 2023-12-06 18:03:54,234] Trial 129 finished with value: 0.9113677084192693 and parameters: {'hidden_dim': 80, 'k': 2, 'learning_rate': 0.0010020732063331713, 'batcher': False}. Best is trial 34 with value: 0.9984548614809224.\n",
      "[I 2023-12-06 18:05:40,930] Trial 130 finished with value: 0.9911095153020856 and parameters: {'hidden_dim': 16, 'k': 3, 'learning_rate': 0.001893656192086746, 'batcher': False}. Best is trial 34 with value: 0.9984548614809224.\n",
      "[I 2023-12-06 18:07:25,740] Trial 131 finished with value: 0.7124064840891468 and parameters: {'hidden_dim': 16, 'k': 2, 'learning_rate': 0.0030075859667523584, 'batcher': False}. Best is trial 34 with value: 0.9984548614809224.\n"
     ]
    }
   ],
   "source": [
    "study_tree_advanced = optuna.create_study(study_name=\"Best tree advanced label config\", directions=['maximize'])\n",
    "study_tree_advanced.optimize(objective, n_trials=n_trials, show_progress_bar=True)"
   ]
  },
  {
   "cell_type": "code",
   "execution_count": null,
   "metadata": {
    "ExecuteTime": {
     "end_time": "2023-12-06T13:52:42.930181Z",
     "start_time": "2023-12-06T13:52:42.919182Z"
    },
    "pycharm": {
     "is_executing": true
    }
   },
   "outputs": [],
   "source": [
    "best_par_tree_advanced = study_tree_advanced.best_params\n",
    "print(best_par_tree_advanced)"
   ]
  },
  {
   "cell_type": "code",
   "execution_count": null,
   "metadata": {
    "ExecuteTime": {
     "end_time": "2023-12-06T13:52:44.988816Z",
     "start_time": "2023-12-06T13:52:44.981818Z"
    },
    "pycharm": {
     "is_executing": true
    }
   },
   "outputs": [],
   "source": [
    "study_tree_advanced.sampler.__class__.__name__"
   ]
  },
  {
   "cell_type": "code",
   "execution_count": null,
   "metadata": {
    "ExecuteTime": {
     "end_time": "2023-12-06T13:52:46.042318Z",
     "start_time": "2023-12-06T13:52:46.020320Z"
    },
    "pycharm": {
     "is_executing": true
    }
   },
   "outputs": [],
   "source": [
    "df_tree_advanced = study_tree_advanced.trials_dataframe()\n",
    "df_tree_advanced.to_csv(\"study_label-tree-advanced.csv\")\n",
    "display(df_tree_advanced)"
   ]
  },
  {
   "cell_type": "code",
   "execution_count": null,
   "metadata": {
    "ExecuteTime": {
     "end_time": "2023-12-06T13:52:53.510745Z",
     "start_time": "2023-12-06T13:52:53.446510Z"
    },
    "pycharm": {
     "is_executing": true
    }
   },
   "outputs": [],
   "source": [
    "study_tree_advanced.best_trial.intermediate_values"
   ]
  },
  {
   "cell_type": "code",
   "execution_count": null,
   "metadata": {
    "ExecuteTime": {
     "end_time": "2023-12-06T14:07:51.444931Z",
     "start_time": "2023-12-06T14:07:51.407675Z"
    },
    "pycharm": {
     "is_executing": true
    }
   },
   "outputs": [],
   "source": [
    "plot_optimization_history(study_tree_advanced)"
   ]
  },
  {
   "cell_type": "code",
   "execution_count": null,
   "metadata": {
    "ExecuteTime": {
     "end_time": "2023-12-06T14:07:55.653306Z",
     "start_time": "2023-12-06T14:07:55.635309Z"
    },
    "pycharm": {
     "is_executing": true
    }
   },
   "outputs": [],
   "source": [
    "plot_intermediate_values(study_tree_advanced)"
   ]
  },
  {
   "cell_type": "code",
   "execution_count": null,
   "metadata": {
    "ExecuteTime": {
     "end_time": "2023-12-06T14:07:58.442044Z",
     "start_time": "2023-12-06T14:07:58.341559Z"
    },
    "pycharm": {
     "is_executing": true
    }
   },
   "outputs": [],
   "source": [
    "plot_parallel_coordinate(study_tree_advanced)"
   ]
  },
  {
   "cell_type": "code",
   "execution_count": null,
   "metadata": {
    "ExecuteTime": {
     "end_time": "2023-12-06T14:08:22.792453Z",
     "start_time": "2023-12-06T14:08:22.499167Z"
    },
    "pycharm": {
     "is_executing": true
    }
   },
   "outputs": [],
   "source": [
    "plot_contour(study_tree_advanced)"
   ]
  },
  {
   "cell_type": "code",
   "execution_count": null,
   "metadata": {
    "ExecuteTime": {
     "end_time": "2023-12-06T14:08:51.862909Z",
     "start_time": "2023-12-06T14:08:51.780909Z"
    },
    "pycharm": {
     "is_executing": true
    }
   },
   "outputs": [],
   "source": [
    "plot_slice(study_tree_advanced)"
   ]
  },
  {
   "cell_type": "code",
   "execution_count": null,
   "metadata": {
    "pycharm": {
     "is_executing": true
    }
   },
   "outputs": [],
   "source": [
    "plot_param_importances(study_tree_advanced)"
   ]
  },
  {
   "cell_type": "code",
   "execution_count": null,
   "metadata": {
    "ExecuteTime": {
     "end_time": "2023-12-06T14:08:59.175990Z",
     "start_time": "2023-12-06T14:08:59.151992Z"
    },
    "pycharm": {
     "is_executing": true
    }
   },
   "outputs": [],
   "source": [
    "plot_edf(study_tree_advanced)"
   ]
  },
  {
   "cell_type": "code",
   "execution_count": null,
   "metadata": {
    "ExecuteTime": {
     "end_time": "2023-12-06T14:09:02.565167Z",
     "start_time": "2023-12-06T14:09:02.425098Z"
    },
    "pycharm": {
     "is_executing": true
    }
   },
   "outputs": [],
   "source": [
    "plot_rank(study_tree_advanced)"
   ]
  },
  {
   "cell_type": "code",
   "execution_count": null,
   "metadata": {
    "ExecuteTime": {
     "end_time": "2023-12-06T14:09:08.406423Z",
     "start_time": "2023-12-06T14:09:08.355004Z"
    },
    "pycharm": {
     "is_executing": true
    }
   },
   "outputs": [],
   "source": [
    "plot_timeline(study_tree_advanced)"
   ]
  }
 ],
 "metadata": {
  "kernelspec": {
   "display_name": "Python 3 (ipykernel)",
   "language": "python",
   "name": "python3"
  },
  "language_info": {
   "codemirror_mode": {
    "name": "ipython",
    "version": 2
   },
   "file_extension": ".py",
   "mimetype": "text/x-python",
   "name": "python",
   "nbconvert_exporter": "python",
   "pygments_lexer": "ipython2",
   "version": "2.7.6"
  }
 },
 "nbformat": 4,
 "nbformat_minor": 1
}
