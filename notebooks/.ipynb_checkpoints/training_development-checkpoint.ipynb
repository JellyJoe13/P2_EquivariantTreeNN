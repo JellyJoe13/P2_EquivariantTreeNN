{
 "cells": [
  {
   "cell_type": "markdown",
   "metadata": {},
   "source": [
    "# Basic Training Scheme development notebook"
   ]
  },
  {
   "cell_type": "markdown",
   "metadata": {},
   "source": [
    "## Importing section"
   ]
  },
  {
   "cell_type": "code",
   "execution_count": null,
   "metadata": {},
   "outputs": [],
   "source": [
    "import sys\n",
    "import os\n",
    "sys.path.insert(0, os.path.pardir)"
   ]
  },
  {
   "cell_type": "code",
   "execution_count": 1,
   "metadata": {
    "ExecuteTime": {
     "end_time": "2023-11-18T17:52:47.683389Z",
     "start_time": "2023-11-18T17:52:45.777545Z"
    }
   },
   "outputs": [],
   "source": [
    "import matplotlib.pyplot as plt\n",
    "import torch\n",
    "from torch import optim, nn\n",
    "from torch.utils.data import random_split, DataLoader\n",
    "from tqdm import tqdm\n",
    "\n",
    "from etnn.data.ferris_wheel import load_pure_ferris_wheel_dataset, prepare_pure_test_dataset, \\\n",
    "    load_modified_ferris_wheel_dataset\n",
    "from etnn.data.tree_structure import TreeNode\n",
    "from etnn.nn.layer_framework import LayerManagementFramework\n",
    "from etnn.tools.loader import create_sampler\n",
    "from etnn.tools.training import train_epoch, eval_epoch\n",
    "from etnn.tools.training_tools import EpochControl, ConfigStore, AccuracyManager, seeding_all"
   ]
  },
  {
   "cell_type": "code",
   "execution_count": 2,
   "metadata": {
    "ExecuteTime": {
     "end_time": "2023-11-18T17:52:47.698642Z",
     "start_time": "2023-11-18T17:52:47.684627Z"
    }
   },
   "outputs": [],
   "source": [
    "import pandas as pd\n",
    "import os"
   ]
  },
  {
   "cell_type": "markdown",
   "metadata": {},
   "source": [
    "## Parameter definition"
   ]
  },
  {
   "cell_type": "code",
   "execution_count": 3,
   "metadata": {
    "ExecuteTime": {
     "end_time": "2023-11-18T17:52:47.717143Z",
     "start_time": "2023-11-18T17:52:47.698642Z"
    }
   },
   "outputs": [],
   "source": [
    "DATASET_PATH = \"../datasets\""
   ]
  },
  {
   "cell_type": "code",
   "execution_count": 4,
   "metadata": {
    "ExecuteTime": {
     "end_time": "2023-11-18T17:52:47.730144Z",
     "start_time": "2023-11-18T17:52:47.714146Z"
    }
   },
   "outputs": [],
   "source": [
    "val_perc = 0.3\n",
    "# todo: swap with artificially created testset (produced through permutations directly from trainset (hence directly learned)"
   ]
  },
  {
   "cell_type": "code",
   "execution_count": 5,
   "metadata": {
    "ExecuteTime": {
     "end_time": "2023-11-18T17:52:47.750145Z",
     "start_time": "2023-11-18T17:52:47.731144Z"
    }
   },
   "outputs": [],
   "source": [
    "MODEL_SAVING_NAME = \"model.pt\""
   ]
  },
  {
   "cell_type": "code",
   "execution_count": 6,
   "metadata": {
    "ExecuteTime": {
     "end_time": "2023-11-18T17:52:47.763147Z",
     "start_time": "2023-11-18T17:52:47.746147Z"
    }
   },
   "outputs": [],
   "source": [
    "CONFIG_SAVING_NAME = \"config.json\"\n",
    "ACCURACY_SAVING_NAME = \"accuracies.csv\""
   ]
  },
  {
   "cell_type": "code",
   "execution_count": 7,
   "metadata": {
    "ExecuteTime": {
     "end_time": "2023-11-18T17:52:47.782147Z",
     "start_time": "2023-11-18T17:52:47.762146Z"
    }
   },
   "outputs": [],
   "source": [
    "#config = ConfigStore(\n",
    "#    in_dim=15,\n",
    "#    hidden_dim=128,\n",
    "#    out_dim=1,\n",
    "#    k=2,\n",
    "#    dataset=0,\n",
    "#    ds_size=10_000,\n",
    "#    num_gondolas=10,\n",
    "#    num_part_pg=5,\n",
    "#    loss_name='mse',\n",
    "#    optimizer_name='adam',\n",
    "#    num_max_epochs=100, # old: 20\n",
    "#    learning_rate=0.001,\n",
    "#    batch_size=1024,\n",
    "#    early_stop_tol=5,\n",
    "#    use_equal_batcher=False,\n",
    "#    seed=420,\n",
    "#    label_type=\"default\",  # tree\n",
    "#    final_label_factor=1/1000\n",
    "#)"
   ]
  },
  {
   "cell_type": "code",
   "execution_count": 8,
   "metadata": {
    "ExecuteTime": {
     "end_time": "2023-11-18T17:52:47.794149Z",
     "start_time": "2023-11-18T17:52:47.779147Z"
    },
    "collapsed": false,
    "jupyter": {
     "outputs_hidden": false
    }
   },
   "outputs": [],
   "source": [
    "config = ConfigStore(\n",
    "    in_dim=15,\n",
    "    hidden_dim=128,\n",
    "    out_dim=1,\n",
    "    k=2,\n",
    "    dataset=0,\n",
    "    ds_size=10_000,\n",
    "    num_gondolas=10,\n",
    "    num_part_pg=5,\n",
    "    loss_name='mse',\n",
    "    optimizer_name='adam',\n",
    "    num_max_epochs=100, # old: 20\n",
    "    learning_rate=0.001,\n",
    "    batch_size=1024,\n",
    "    early_stop_tol=5,\n",
    "    use_equal_batcher=False,\n",
    "    seed=420,\n",
    "    label_type=\"tree\",  # tree\n",
    "    final_label_factor=1/1000\n",
    ")"
   ]
  },
  {
   "cell_type": "code",
   "execution_count": 9,
   "metadata": {
    "ExecuteTime": {
     "end_time": "2023-11-18T17:52:47.826927Z",
     "start_time": "2023-11-18T17:52:47.795148Z"
    }
   },
   "outputs": [],
   "source": [
    "RESULTS_FOLDER = \"../results\"\n",
    "CONFIG_INDEX_NAME = \"config_index.csv\""
   ]
  },
  {
   "cell_type": "code",
   "execution_count": 10,
   "metadata": {
    "ExecuteTime": {
     "end_time": "2023-11-18T17:52:47.826927Z",
     "start_time": "2023-11-18T17:52:47.811926Z"
    }
   },
   "outputs": [],
   "source": [
    "# aquire saving path\n",
    "if not os.path.exists(RESULTS_FOLDER):\n",
    "    os.mkdir(RESULTS_FOLDER)\n",
    "\n",
    "# create path where the config idx file should be located\n",
    "config_idx_path = os.path.join(RESULTS_FOLDER, CONFIG_INDEX_NAME)\n",
    "\n",
    "# define columns of index table\n",
    "columns=['config_idx'] + list(vars(config).keys())\n",
    "\n",
    "# if the config file exists - load it. else create a blank table\n",
    "if os.path.isfile(config_idx_path):\n",
    "    config_table = pd.read_csv(config_idx_path)\n",
    "else:\n",
    "    config_table = pd.DataFrame(columns=columns)\n",
    "\n",
    "# create new entry\n",
    "new_entry = pd.DataFrame(vars(config), index=[0])\n",
    "\n",
    "# check if config in table already\n",
    "merge = pd.merge(config_table, new_entry, on=columns[1:], how='inner')\n",
    "if len(merge) == 0:\n",
    "    if len(config_table) == 0:\n",
    "        config_idx = 0\n",
    "    else:\n",
    "        config_idx = config_table['config_idx'].max() + 1\n",
    "\n",
    "    # add this config to idx table\n",
    "    new_entry['config_idx'] = config_idx\n",
    "    pd.concat([config_table, new_entry]).to_csv(config_idx_path, index=False)\n",
    "else:\n",
    "    config_idx = merge.iloc[0]['config_idx']"
   ]
  },
  {
   "cell_type": "code",
   "execution_count": 11,
   "metadata": {
    "ExecuteTime": {
     "end_time": "2023-11-18T17:52:47.841927Z",
     "start_time": "2023-11-18T17:52:47.825926Z"
    }
   },
   "outputs": [
    {
     "data": {
      "text/plain": [
       "1"
      ]
     },
     "execution_count": 11,
     "metadata": {},
     "output_type": "execute_result"
    }
   ],
   "source": [
    "config_idx"
   ]
  },
  {
   "cell_type": "code",
   "execution_count": 12,
   "metadata": {
    "ExecuteTime": {
     "end_time": "2023-11-18T17:52:47.886929Z",
     "start_time": "2023-11-18T17:52:47.841927Z"
    }
   },
   "outputs": [],
   "source": [
    "# if not present create the folder for this run\n",
    "STORAGE_FOLDER = os.path.join(RESULTS_FOLDER, str(config_idx))\n",
    "if not os.path.exists(STORAGE_FOLDER):\n",
    "    os.mkdir(STORAGE_FOLDER)"
   ]
  },
  {
   "cell_type": "markdown",
   "metadata": {},
   "source": [
    "## data preparation"
   ]
  },
  {
   "cell_type": "code",
   "execution_count": 13,
   "metadata": {
    "ExecuteTime": {
     "end_time": "2023-11-18T17:52:47.896930Z",
     "start_time": "2023-11-18T17:52:47.857929Z"
    }
   },
   "outputs": [],
   "source": [
    "#todo: add further with more permutated elements and with invalid elements\n",
    "if config.dataset == 0:\n",
    "    dataset, df_index = load_pure_ferris_wheel_dataset(\n",
    "        num_gondolas=config.num_gondolas,\n",
    "        num_part_pg=config.num_part_pg,\n",
    "        num_to_generate=config.ds_size,\n",
    "        dataset_path=DATASET_PATH,\n",
    "        label_type=config.label_type,\n",
    "        final_label_factor=config.final_label_factor\n",
    "    )\n",
    "elif config.dataset == 1:\n",
    "    dataset, df_index = load_modified_ferris_wheel_dataset(\n",
    "        num_gondolas=config.num_gondolas,\n",
    "        num_part_pg=config.num_part_pg,\n",
    "        num_to_generate=int(config.ds_size * 0.8),\n",
    "        num_valid_to_add=int(config.ds_size * 0.2),\n",
    "        num_invalid_to_add=0,\n",
    "        dataset_path=DATASET_PATH,\n",
    "        try_pregen=True,\n",
    "        label_type=config.label_type,\n",
    "        final_label_factor=config.final_label_factor\n",
    "    )\n",
    "elif config.dataset == 2:\n",
    "    dataset, df_index = load_modified_ferris_wheel_dataset(\n",
    "        num_gondolas=config.num_gondolas,\n",
    "        num_part_pg=config.num_part_pg,\n",
    "        num_to_generate=int(config.ds_size * 0.6),\n",
    "        num_valid_to_add=int(config.ds_size * 0.2),\n",
    "        num_invalid_to_add=int(config.ds_size * 0.2),\n",
    "        dataset_path=DATASET_PATH,\n",
    "        try_pregen=True,\n",
    "        label_type=config.label_type,\n",
    "        final_label_factor=config.final_label_factor\n",
    "    )\n",
    "else:\n",
    "    raise Exception(\"wrong selection\")"
   ]
  },
  {
   "cell_type": "code",
   "execution_count": 14,
   "metadata": {
    "ExecuteTime": {
     "end_time": "2023-11-18T17:52:47.903930Z",
     "start_time": "2023-11-18T17:52:47.888930Z"
    }
   },
   "outputs": [
    {
     "data": {
      "text/plain": [
       "10000"
      ]
     },
     "execution_count": 14,
     "metadata": {},
     "output_type": "execute_result"
    }
   ],
   "source": [
    "len(dataset)"
   ]
  },
  {
   "cell_type": "code",
   "execution_count": 15,
   "metadata": {
    "ExecuteTime": {
     "end_time": "2023-11-18T17:52:47.949932Z",
     "start_time": "2023-11-18T17:52:47.903930Z"
    }
   },
   "outputs": [],
   "source": [
    "generator = torch.Generator().manual_seed(config.seed)\n",
    "train_ds, val_ds = random_split(\n",
    "    dataset,\n",
    "    [1-val_perc, val_perc],\n",
    "    generator=generator\n",
    ")"
   ]
  },
  {
   "cell_type": "markdown",
   "metadata": {},
   "source": [
    "## Testset"
   ]
  },
  {
   "cell_type": "code",
   "execution_count": 16,
   "metadata": {
    "ExecuteTime": {
     "end_time": "2023-11-18T17:52:48.036124Z",
     "start_time": "2023-11-18T17:52:47.920932Z"
    }
   },
   "outputs": [
    {
     "name": "stderr",
     "output_type": "stream",
     "text": [
      "100%|██████████| 3000/3000 [00:00<00:00, 85712.32it/s]\n"
     ]
    }
   ],
   "source": [
    "test_ds, df_index_test = prepare_pure_test_dataset(\n",
    "    df_index=df_index,\n",
    "    train_indices=train_ds.indices,\n",
    "    num_gondolas=config.num_gondolas,\n",
    "    num_to_generate=len(val_ds),\n",
    "    dataset_path=DATASET_PATH,\n",
    "    seed=3*config.seed + 13\n",
    ")"
   ]
  },
  {
   "cell_type": "markdown",
   "metadata": {},
   "source": [
    "## Loader"
   ]
  },
  {
   "cell_type": "code",
   "execution_count": 17,
   "metadata": {
    "ExecuteTime": {
     "end_time": "2023-11-18T17:52:48.036124Z",
     "start_time": "2023-11-18T17:52:47.998938Z"
    }
   },
   "outputs": [],
   "source": [
    "if config.use_equal_batcher:\n",
    "    sampler = create_sampler(df_index=df_index, dataset=train_ds)\n",
    "    train_loader = DataLoader(train_ds, batch_size=config.batch_size, sampler=sampler)\n",
    "else:\n",
    "    train_loader = DataLoader(train_ds, batch_size=config.batch_size, shuffle=True)\n",
    "\n",
    "val_loader = DataLoader(val_ds, batch_size=4*config.batch_size, shuffle=False)\n",
    "test_loader = DataLoader(test_ds, batch_size=4*config.batch_size, shuffle=False)"
   ]
  },
  {
   "cell_type": "code",
   "execution_count": 18,
   "metadata": {
    "ExecuteTime": {
     "end_time": "2023-11-18T17:52:48.036124Z",
     "start_time": "2023-11-18T17:52:48.015936Z"
    }
   },
   "outputs": [],
   "source": [
    "# todo: check which score should be used for early stopping and how to get it\n",
    "# todo: add more tree mutated sequences that are in dataset\n",
    "# todo: add some faulty sequences which disturb this and see how much this affects the training"
   ]
  },
  {
   "cell_type": "markdown",
   "metadata": {},
   "source": [
    "## Build tree structure"
   ]
  },
  {
   "cell_type": "code",
   "execution_count": 19,
   "metadata": {
    "ExecuteTime": {
     "end_time": "2023-11-18T17:52:48.046125Z",
     "start_time": "2023-11-18T17:52:48.031124Z"
    }
   },
   "outputs": [],
   "source": [
    "tree_structure = TreeNode(\n",
    "    node_type=\"C\",\n",
    "    children=[\n",
    "        TreeNode(\"P\", [TreeNode(\"E\", config.num_part_pg)])\n",
    "        for _ in range(config.num_gondolas)\n",
    "    ]\n",
    ")"
   ]
  },
  {
   "cell_type": "markdown",
   "metadata": {},
   "source": [
    "## Define device"
   ]
  },
  {
   "cell_type": "code",
   "execution_count": 20,
   "metadata": {
    "ExecuteTime": {
     "end_time": "2023-11-18T17:52:48.070125Z",
     "start_time": "2023-11-18T17:52:48.047125Z"
    }
   },
   "outputs": [],
   "source": [
    "device = \"cuda\" if torch.cuda.is_available() else \"cpu\""
   ]
  },
  {
   "cell_type": "code",
   "execution_count": 21,
   "metadata": {
    "ExecuteTime": {
     "end_time": "2023-11-18T17:52:48.080126Z",
     "start_time": "2023-11-18T17:52:48.062126Z"
    }
   },
   "outputs": [],
   "source": [
    "# device = 'cpu'"
   ]
  },
  {
   "cell_type": "code",
   "execution_count": 22,
   "metadata": {
    "ExecuteTime": {
     "end_time": "2023-11-18T17:52:48.124128Z",
     "start_time": "2023-11-18T17:52:48.080126Z"
    }
   },
   "outputs": [
    {
     "data": {
      "text/plain": [
       "'cuda'"
      ]
     },
     "execution_count": 22,
     "metadata": {},
     "output_type": "execute_result"
    }
   ],
   "source": [
    "device"
   ]
  },
  {
   "cell_type": "markdown",
   "metadata": {},
   "source": [
    "## Set up accuracy saving"
   ]
  },
  {
   "cell_type": "code",
   "execution_count": 23,
   "metadata": {
    "ExecuteTime": {
     "end_time": "2023-11-18T17:52:48.129129Z",
     "start_time": "2023-11-18T17:52:48.094128Z"
    }
   },
   "outputs": [],
   "source": [
    "accuracy_protocoller = AccuracyManager(\n",
    "    storage_name=ACCURACY_SAVING_NAME,\n",
    "    storage_path=STORAGE_FOLDER,\n",
    "    is_classification=False\n",
    ")"
   ]
  },
  {
   "cell_type": "markdown",
   "metadata": {},
   "source": [
    "## Set seeds for reproducibility"
   ]
  },
  {
   "cell_type": "code",
   "execution_count": 24,
   "metadata": {
    "ExecuteTime": {
     "end_time": "2023-11-18T17:52:48.129129Z",
     "start_time": "2023-11-18T17:52:48.110128Z"
    }
   },
   "outputs": [],
   "source": [
    "seeding_all(config.seed)"
   ]
  },
  {
   "cell_type": "markdown",
   "metadata": {},
   "source": [
    "## Define Model"
   ]
  },
  {
   "cell_type": "code",
   "execution_count": 25,
   "metadata": {
    "ExecuteTime": {
     "end_time": "2023-11-18T17:52:49.233981Z",
     "start_time": "2023-11-18T17:52:48.125129Z"
    }
   },
   "outputs": [],
   "source": [
    "model = LayerManagementFramework(\n",
    "    in_dim=config.in_dim,\n",
    "    tree=tree_structure,\n",
    "    hidden_dim=config.hidden_dim,\n",
    "    out_dim=config.out_dim,\n",
    "    k=config.k\n",
    ").to(device)"
   ]
  },
  {
   "cell_type": "markdown",
   "metadata": {},
   "source": [
    "## Define Loss and Optimizers"
   ]
  },
  {
   "cell_type": "code",
   "execution_count": 26,
   "metadata": {
    "ExecuteTime": {
     "end_time": "2023-11-18T17:52:49.246983Z",
     "start_time": "2023-11-18T17:52:49.230983Z"
    }
   },
   "outputs": [],
   "source": [
    "if config.loss_name == 'mse':\n",
    "    criterion = nn.MSELoss()\n",
    "elif config.loss_name == 'mae':\n",
    "    criterion = nn.L1Loss()\n",
    "elif config.loss_name == 'smooth-l1':\n",
    "    criterion = nn.SmoothL1Loss()\n",
    "else:\n",
    "    raise Exception(\"wrong selection\")"
   ]
  },
  {
   "cell_type": "code",
   "execution_count": 27,
   "metadata": {
    "ExecuteTime": {
     "end_time": "2023-11-18T17:52:49.482734Z",
     "start_time": "2023-11-18T17:52:49.248981Z"
    }
   },
   "outputs": [],
   "source": [
    "if config.optimizer_name == 'adam':\n",
    "    optimizer = optim.Adam(model.parameters(), lr=config.learning_rate)\n",
    "elif config.optimizer_name == 'sgd':\n",
    "    optimizer = optim.SGD(model.parameters(), lr=config.learning_rate, momentum=0.9)\n",
    "else:\n",
    "    raise Exception(\"wrong selection\")"
   ]
  },
  {
   "cell_type": "markdown",
   "metadata": {},
   "source": [
    "## Training"
   ]
  },
  {
   "cell_type": "code",
   "execution_count": 28,
   "metadata": {
    "ExecuteTime": {
     "end_time": "2023-11-18T17:52:49.497377Z",
     "start_time": "2023-11-18T17:52:49.484734Z"
    }
   },
   "outputs": [],
   "source": [
    "epoch_control = EpochControl(\n",
    "    model_save_name=MODEL_SAVING_NAME,\n",
    "    config_save_name=CONFIG_SAVING_NAME,\n",
    "    saving_folder_path=STORAGE_FOLDER,\n",
    "    tolerance=config.early_stop_tol,\n",
    "    is_accuracy_score=False\n",
    ")"
   ]
  },
  {
   "cell_type": "code",
   "execution_count": 29,
   "metadata": {
    "ExecuteTime": {
     "end_time": "2023-11-18T17:59:31.821634Z",
     "start_time": "2023-11-18T17:52:49.497377Z"
    }
   },
   "outputs": [
    {
     "name": "stderr",
     "output_type": "stream",
     "text": [
      "  1%|          | 1/100 [00:04<07:29,  4.54s/it]"
     ]
    },
    {
     "name": "stdout",
     "output_type": "stream",
     "text": [
      "++save++\n"
     ]
    },
    {
     "name": "stderr",
     "output_type": "stream",
     "text": [
      "  3%|▎         | 3/100 [00:12<06:33,  4.06s/it]"
     ]
    },
    {
     "name": "stdout",
     "output_type": "stream",
     "text": [
      "++save++\n"
     ]
    },
    {
     "name": "stderr",
     "output_type": "stream",
     "text": [
      "  4%|▍         | 4/100 [00:16<06:28,  4.05s/it]"
     ]
    },
    {
     "name": "stdout",
     "output_type": "stream",
     "text": [
      "++save++\n"
     ]
    },
    {
     "name": "stderr",
     "output_type": "stream",
     "text": [
      "  5%|▌         | 5/100 [00:20<06:29,  4.10s/it]"
     ]
    },
    {
     "name": "stdout",
     "output_type": "stream",
     "text": [
      "++save++\n"
     ]
    },
    {
     "name": "stderr",
     "output_type": "stream",
     "text": [
      "  6%|▌         | 6/100 [00:24<06:31,  4.17s/it]"
     ]
    },
    {
     "name": "stdout",
     "output_type": "stream",
     "text": [
      "++save++\n"
     ]
    },
    {
     "name": "stderr",
     "output_type": "stream",
     "text": [
      " 23%|██▎       | 23/100 [01:33<05:09,  4.02s/it]"
     ]
    },
    {
     "name": "stdout",
     "output_type": "stream",
     "text": [
      "++save++\n"
     ]
    },
    {
     "name": "stderr",
     "output_type": "stream",
     "text": [
      " 24%|██▍       | 24/100 [01:37<05:07,  4.05s/it]"
     ]
    },
    {
     "name": "stdout",
     "output_type": "stream",
     "text": [
      "++save++\n"
     ]
    },
    {
     "name": "stderr",
     "output_type": "stream",
     "text": [
      " 27%|██▋       | 27/100 [01:49<04:53,  4.02s/it]"
     ]
    },
    {
     "name": "stdout",
     "output_type": "stream",
     "text": [
      "++save++\n"
     ]
    },
    {
     "name": "stderr",
     "output_type": "stream",
     "text": [
      " 30%|███       | 30/100 [02:01<04:42,  4.03s/it]"
     ]
    },
    {
     "name": "stdout",
     "output_type": "stream",
     "text": [
      "++save++\n"
     ]
    },
    {
     "name": "stderr",
     "output_type": "stream",
     "text": [
      " 31%|███       | 31/100 [02:05<04:36,  4.01s/it]"
     ]
    },
    {
     "name": "stdout",
     "output_type": "stream",
     "text": [
      "++save++\n"
     ]
    },
    {
     "name": "stderr",
     "output_type": "stream",
     "text": [
      " 32%|███▏      | 32/100 [02:09<04:36,  4.06s/it]"
     ]
    },
    {
     "name": "stdout",
     "output_type": "stream",
     "text": [
      "++save++\n"
     ]
    },
    {
     "name": "stderr",
     "output_type": "stream",
     "text": [
      " 33%|███▎      | 33/100 [02:13<04:29,  4.03s/it]"
     ]
    },
    {
     "name": "stdout",
     "output_type": "stream",
     "text": [
      "++save++\n"
     ]
    },
    {
     "name": "stderr",
     "output_type": "stream",
     "text": [
      " 34%|███▍      | 34/100 [02:17<04:24,  4.01s/it]"
     ]
    },
    {
     "name": "stdout",
     "output_type": "stream",
     "text": [
      "++save++\n"
     ]
    },
    {
     "name": "stderr",
     "output_type": "stream",
     "text": [
      " 37%|███▋      | 37/100 [02:29<04:12,  4.01s/it]"
     ]
    },
    {
     "name": "stdout",
     "output_type": "stream",
     "text": [
      "++save++\n"
     ]
    },
    {
     "name": "stderr",
     "output_type": "stream",
     "text": [
      " 66%|██████▌   | 66/100 [04:26<02:20,  4.14s/it]"
     ]
    },
    {
     "name": "stdout",
     "output_type": "stream",
     "text": [
      "++save++\n"
     ]
    },
    {
     "name": "stderr",
     "output_type": "stream",
     "text": [
      " 68%|██████▊   | 68/100 [04:34<02:07,  4.00s/it]"
     ]
    },
    {
     "name": "stdout",
     "output_type": "stream",
     "text": [
      "++save++\n"
     ]
    },
    {
     "name": "stderr",
     "output_type": "stream",
     "text": [
      " 69%|██████▉   | 69/100 [04:38<02:03,  3.99s/it]"
     ]
    },
    {
     "name": "stdout",
     "output_type": "stream",
     "text": [
      "++save++\n"
     ]
    },
    {
     "name": "stderr",
     "output_type": "stream",
     "text": [
      " 73%|███████▎  | 73/100 [04:54<01:48,  4.02s/it]"
     ]
    },
    {
     "name": "stdout",
     "output_type": "stream",
     "text": [
      "++save++\n"
     ]
    },
    {
     "name": "stderr",
     "output_type": "stream",
     "text": [
      " 98%|█████████▊| 98/100 [06:34<00:08,  4.04s/it]"
     ]
    },
    {
     "name": "stdout",
     "output_type": "stream",
     "text": [
      "++save++\n"
     ]
    },
    {
     "name": "stderr",
     "output_type": "stream",
     "text": [
      "100%|██████████| 100/100 [06:42<00:00,  4.02s/it]\n"
     ]
    }
   ],
   "source": [
    "# train for N epochs\n",
    "for epoch in tqdm(range(config.num_max_epochs)):\n",
    "    train_mean_loss, train_true_y, train_pred_y = train_epoch(\n",
    "        model,\n",
    "        train_loader,\n",
    "        optimizer,\n",
    "        device,\n",
    "        criterion\n",
    "    )\n",
    "\n",
    "    val_mean_loss, val_true_y, val_pred_y = eval_epoch(\n",
    "        model,\n",
    "        val_loader,\n",
    "        device,\n",
    "        criterion\n",
    "    )\n",
    "\n",
    "    # Not calculated for every step as the original purpose of test is to be tested for the best model/state\n",
    "    # Note: this influences training and slows it down massively.\n",
    "    #test_mean_loss, test_true_y, test_pred_y = eval_epoch(\n",
    "    #    model,\n",
    "    #    test_loader,\n",
    "    #    device,\n",
    "    #    criterion\n",
    "    #)\n",
    "\n",
    "    # use accuracy manager to calc accuracy metrics and save them\n",
    "    accuracy_protocoller.calc_and_collect(\n",
    "        config_id=\"etnn\",\n",
    "        epoch=epoch+1,\n",
    "        train_y_true=train_true_y,\n",
    "        train_y_pred=train_pred_y,\n",
    "        train_loss=train_mean_loss,\n",
    "        val_y_true=val_true_y,\n",
    "        val_y_pred=val_pred_y,\n",
    "        val_loss=val_mean_loss,\n",
    "    #    test_y_true=test_true_y,\n",
    "    #    test_y_pred=test_pred_y,\n",
    "    #    test_loss=test_mean_loss,\n",
    "    )\n",
    "\n",
    "    # check if model is better and save it\n",
    "    # todo: probably not required to write config over and over again\n",
    "    epoch_control.retain_best(model, train_mean_loss, val_mean_loss, config)"
   ]
  },
  {
   "cell_type": "markdown",
   "metadata": {},
   "source": [
    "## Repeat for baseline model"
   ]
  },
  {
   "cell_type": "code",
   "execution_count": 30,
   "metadata": {
    "ExecuteTime": {
     "end_time": "2023-11-18T17:59:31.836819Z",
     "start_time": "2023-11-18T17:59:31.821634Z"
    }
   },
   "outputs": [],
   "source": [
    "seeding_all(config.seed)"
   ]
  },
  {
   "cell_type": "code",
   "execution_count": 31,
   "metadata": {
    "ExecuteTime": {
     "end_time": "2023-11-18T17:59:31.854820Z",
     "start_time": "2023-11-18T17:59:31.837821Z"
    }
   },
   "outputs": [],
   "source": [
    "from etnn.nn.baseline import create_baseline_model, calc_params\n",
    "model, _ =  create_baseline_model(\n",
    "    n_params=calc_params(model),\n",
    "    input_dim=config.in_dim * config.num_gondolas * config.num_part_pg,\n",
    "    n_layer=3,\n",
    "    output_dim=1\n",
    ")\n",
    "model = model.to(device)"
   ]
  },
  {
   "cell_type": "code",
   "execution_count": 32,
   "metadata": {
    "ExecuteTime": {
     "end_time": "2023-11-18T17:59:31.869224Z",
     "start_time": "2023-11-18T17:59:31.853820Z"
    }
   },
   "outputs": [],
   "source": [
    "if config.optimizer_name == 'adam':\n",
    "    optimizer = optim.Adam(model.parameters(), lr=config.learning_rate)\n",
    "elif config.optimizer_name == 'sgd':\n",
    "    optimizer = optim.SGD(model.parameters(), lr=config.learning_rate, momentum=0.9)\n",
    "else:\n",
    "    raise Exception(\"wrong selection\")"
   ]
  },
  {
   "cell_type": "code",
   "execution_count": 33,
   "metadata": {
    "ExecuteTime": {
     "end_time": "2023-11-18T17:59:31.884231Z",
     "start_time": "2023-11-18T17:59:31.869224Z"
    }
   },
   "outputs": [],
   "source": [
    "epoch_control = EpochControl(\n",
    "    model_save_name=\"a\",\n",
    "    config_save_name=\"b\",\n",
    "    saving_folder_path=STORAGE_FOLDER,\n",
    "    tolerance=config.early_stop_tol,\n",
    "    is_accuracy_score=False\n",
    ")"
   ]
  },
  {
   "cell_type": "code",
   "execution_count": 34,
   "metadata": {
    "ExecuteTime": {
     "end_time": "2023-11-18T18:05:27.357295Z",
     "start_time": "2023-11-18T17:59:31.884231Z"
    }
   },
   "outputs": [
    {
     "name": "stderr",
     "output_type": "stream",
     "text": [
      "100%|██████████| 100/100 [05:55<00:00,  3.55s/it]\n"
     ]
    }
   ],
   "source": [
    "# train for N epochs\n",
    "for epoch in tqdm(range(config.num_max_epochs)):\n",
    "    train_mean_loss, train_true_y, train_pred_y = train_epoch(\n",
    "        model,\n",
    "        train_loader,\n",
    "        optimizer,\n",
    "        device,\n",
    "        criterion\n",
    "    )\n",
    "\n",
    "    val_mean_loss, val_true_y, val_pred_y = eval_epoch(\n",
    "        model,\n",
    "        val_loader,\n",
    "        device,\n",
    "        criterion\n",
    "    )\n",
    "\n",
    "    # use accuracy manager to calc accuracy metrics and save them\n",
    "    accuracy_protocoller.calc_and_collect(\n",
    "        config_id=\"baseline\",\n",
    "        epoch=epoch+1,\n",
    "        train_y_true=train_true_y,\n",
    "        train_y_pred=train_pred_y,\n",
    "        train_loss=train_mean_loss,\n",
    "        val_y_true=val_true_y,\n",
    "        val_y_pred=val_pred_y,\n",
    "        val_loss=val_mean_loss,\n",
    "    )"
   ]
  },
  {
   "cell_type": "markdown",
   "metadata": {},
   "source": [
    "## Plotting"
   ]
  },
  {
   "cell_type": "code",
   "execution_count": 35,
   "metadata": {
    "ExecuteTime": {
     "end_time": "2023-11-18T18:05:27.375300Z",
     "start_time": "2023-11-18T18:05:27.357295Z"
    }
   },
   "outputs": [
    {
     "data": {
      "text/html": [
       "<div>\n",
       "<style scoped>\n",
       "    .dataframe tbody tr th:only-of-type {\n",
       "        vertical-align: middle;\n",
       "    }\n",
       "\n",
       "    .dataframe tbody tr th {\n",
       "        vertical-align: top;\n",
       "    }\n",
       "\n",
       "    .dataframe thead th {\n",
       "        text-align: right;\n",
       "    }\n",
       "</style>\n",
       "<table border=\"1\" class=\"dataframe\">\n",
       "  <thead>\n",
       "    <tr style=\"text-align: right;\">\n",
       "      <th></th>\n",
       "      <th>config_id</th>\n",
       "      <th>epoch</th>\n",
       "      <th>train_loss</th>\n",
       "      <th>val_loss</th>\n",
       "      <th>test_loss</th>\n",
       "      <th>train_mse</th>\n",
       "      <th>train_msa</th>\n",
       "      <th>train_explained_variance</th>\n",
       "      <th>train_r2</th>\n",
       "      <th>val_mse</th>\n",
       "      <th>val_msa</th>\n",
       "      <th>val_explained_variance</th>\n",
       "      <th>val_r2</th>\n",
       "      <th>test_mse</th>\n",
       "      <th>test_msa</th>\n",
       "      <th>test_explained_variance</th>\n",
       "      <th>test_r2</th>\n",
       "    </tr>\n",
       "  </thead>\n",
       "  <tbody>\n",
       "    <tr>\n",
       "      <th>0</th>\n",
       "      <td>etnn</td>\n",
       "      <td>1</td>\n",
       "      <td>46711.558594</td>\n",
       "      <td>1871.012695</td>\n",
       "      <td>0.0</td>\n",
       "      <td>47693.800781</td>\n",
       "      <td>144.468582</td>\n",
       "      <td>-154882.593750</td>\n",
       "      <td>-162701.342305</td>\n",
       "      <td>1871.012695</td>\n",
       "      <td>43.233154</td>\n",
       "      <td>-5.242908</td>\n",
       "      <td>-6124.061978</td>\n",
       "      <td>0.0</td>\n",
       "      <td>0.0</td>\n",
       "      <td>0.0</td>\n",
       "      <td>0.0</td>\n",
       "    </tr>\n",
       "    <tr>\n",
       "      <th>1</th>\n",
       "      <td>etnn</td>\n",
       "      <td>2</td>\n",
       "      <td>1620.428711</td>\n",
       "      <td>2560.722412</td>\n",
       "      <td>0.0</td>\n",
       "      <td>1563.773682</td>\n",
       "      <td>33.890720</td>\n",
       "      <td>-5093.238770</td>\n",
       "      <td>-5333.648068</td>\n",
       "      <td>2560.722412</td>\n",
       "      <td>50.578266</td>\n",
       "      <td>-7.385873</td>\n",
       "      <td>-8381.938131</td>\n",
       "      <td>0.0</td>\n",
       "      <td>0.0</td>\n",
       "      <td>0.0</td>\n",
       "      <td>0.0</td>\n",
       "    </tr>\n",
       "    <tr>\n",
       "      <th>2</th>\n",
       "      <td>etnn</td>\n",
       "      <td>3</td>\n",
       "      <td>1474.709229</td>\n",
       "      <td>1544.062988</td>\n",
       "      <td>0.0</td>\n",
       "      <td>1510.067749</td>\n",
       "      <td>30.793291</td>\n",
       "      <td>-4231.370605</td>\n",
       "      <td>-5150.435925</td>\n",
       "      <td>1544.063354</td>\n",
       "      <td>39.275101</td>\n",
       "      <td>-4.007419</td>\n",
       "      <td>-5053.739975</td>\n",
       "      <td>0.0</td>\n",
       "      <td>0.0</td>\n",
       "      <td>0.0</td>\n",
       "      <td>0.0</td>\n",
       "    </tr>\n",
       "    <tr>\n",
       "      <th>3</th>\n",
       "      <td>etnn</td>\n",
       "      <td>4</td>\n",
       "      <td>721.724548</td>\n",
       "      <td>1116.063232</td>\n",
       "      <td>0.0</td>\n",
       "      <td>737.131714</td>\n",
       "      <td>24.688011</td>\n",
       "      <td>-2343.561768</td>\n",
       "      <td>-2513.646929</td>\n",
       "      <td>1116.063110</td>\n",
       "      <td>33.388805</td>\n",
       "      <td>-3.094168</td>\n",
       "      <td>-3652.613133</td>\n",
       "      <td>0.0</td>\n",
       "      <td>0.0</td>\n",
       "      <td>0.0</td>\n",
       "      <td>0.0</td>\n",
       "    </tr>\n",
       "    <tr>\n",
       "      <th>4</th>\n",
       "      <td>etnn</td>\n",
       "      <td>5</td>\n",
       "      <td>321.649811</td>\n",
       "      <td>83.384933</td>\n",
       "      <td>0.0</td>\n",
       "      <td>328.326508</td>\n",
       "      <td>15.848224</td>\n",
       "      <td>-1031.588379</td>\n",
       "      <td>-1119.051093</td>\n",
       "      <td>83.384941</td>\n",
       "      <td>9.124454</td>\n",
       "      <td>0.576792</td>\n",
       "      <td>-271.974050</td>\n",
       "      <td>0.0</td>\n",
       "      <td>0.0</td>\n",
       "      <td>0.0</td>\n",
       "      <td>0.0</td>\n",
       "    </tr>\n",
       "    <tr>\n",
       "      <th>...</th>\n",
       "      <td>...</td>\n",
       "      <td>...</td>\n",
       "      <td>...</td>\n",
       "      <td>...</td>\n",
       "      <td>...</td>\n",
       "      <td>...</td>\n",
       "      <td>...</td>\n",
       "      <td>...</td>\n",
       "      <td>...</td>\n",
       "      <td>...</td>\n",
       "      <td>...</td>\n",
       "      <td>...</td>\n",
       "      <td>...</td>\n",
       "      <td>...</td>\n",
       "      <td>...</td>\n",
       "      <td>...</td>\n",
       "      <td>...</td>\n",
       "    </tr>\n",
       "    <tr>\n",
       "      <th>195</th>\n",
       "      <td>baseline</td>\n",
       "      <td>96</td>\n",
       "      <td>1.424884</td>\n",
       "      <td>1.595366</td>\n",
       "      <td>0.0</td>\n",
       "      <td>1.424984</td>\n",
       "      <td>0.903327</td>\n",
       "      <td>-3.860925</td>\n",
       "      <td>-3.861183</td>\n",
       "      <td>1.595366</td>\n",
       "      <td>0.943022</td>\n",
       "      <td>-4.176786</td>\n",
       "      <td>-4.222690</td>\n",
       "      <td>0.0</td>\n",
       "      <td>0.0</td>\n",
       "      <td>0.0</td>\n",
       "      <td>0.0</td>\n",
       "    </tr>\n",
       "    <tr>\n",
       "      <th>196</th>\n",
       "      <td>baseline</td>\n",
       "      <td>97</td>\n",
       "      <td>1.383362</td>\n",
       "      <td>1.535132</td>\n",
       "      <td>0.0</td>\n",
       "      <td>1.384645</td>\n",
       "      <td>0.890519</td>\n",
       "      <td>-3.720714</td>\n",
       "      <td>-3.723572</td>\n",
       "      <td>1.535132</td>\n",
       "      <td>0.912661</td>\n",
       "      <td>-4.024069</td>\n",
       "      <td>-4.025502</td>\n",
       "      <td>0.0</td>\n",
       "      <td>0.0</td>\n",
       "      <td>0.0</td>\n",
       "      <td>0.0</td>\n",
       "    </tr>\n",
       "    <tr>\n",
       "      <th>197</th>\n",
       "      <td>baseline</td>\n",
       "      <td>98</td>\n",
       "      <td>1.338809</td>\n",
       "      <td>1.497768</td>\n",
       "      <td>0.0</td>\n",
       "      <td>1.341688</td>\n",
       "      <td>0.874030</td>\n",
       "      <td>-3.576787</td>\n",
       "      <td>-3.577027</td>\n",
       "      <td>1.497768</td>\n",
       "      <td>0.895632</td>\n",
       "      <td>-3.882572</td>\n",
       "      <td>-3.903186</td>\n",
       "      <td>0.0</td>\n",
       "      <td>0.0</td>\n",
       "      <td>0.0</td>\n",
       "      <td>0.0</td>\n",
       "    </tr>\n",
       "    <tr>\n",
       "      <th>198</th>\n",
       "      <td>baseline</td>\n",
       "      <td>99</td>\n",
       "      <td>1.301358</td>\n",
       "      <td>1.452135</td>\n",
       "      <td>0.0</td>\n",
       "      <td>1.302252</td>\n",
       "      <td>0.860224</td>\n",
       "      <td>-3.440499</td>\n",
       "      <td>-3.442496</td>\n",
       "      <td>1.452135</td>\n",
       "      <td>0.887502</td>\n",
       "      <td>-3.749748</td>\n",
       "      <td>-3.753800</td>\n",
       "      <td>0.0</td>\n",
       "      <td>0.0</td>\n",
       "      <td>0.0</td>\n",
       "      <td>0.0</td>\n",
       "    </tr>\n",
       "    <tr>\n",
       "      <th>199</th>\n",
       "      <td>baseline</td>\n",
       "      <td>100</td>\n",
       "      <td>1.263798</td>\n",
       "      <td>1.429404</td>\n",
       "      <td>0.0</td>\n",
       "      <td>1.262311</td>\n",
       "      <td>0.847578</td>\n",
       "      <td>-3.305657</td>\n",
       "      <td>-3.306239</td>\n",
       "      <td>1.429404</td>\n",
       "      <td>0.887210</td>\n",
       "      <td>-3.623619</td>\n",
       "      <td>-3.679386</td>\n",
       "      <td>0.0</td>\n",
       "      <td>0.0</td>\n",
       "      <td>0.0</td>\n",
       "      <td>0.0</td>\n",
       "    </tr>\n",
       "  </tbody>\n",
       "</table>\n",
       "<p>200 rows × 17 columns</p>\n",
       "</div>"
      ],
      "text/plain": [
       "    config_id  epoch    train_loss     val_loss  test_loss     train_mse  \\\n",
       "0        etnn      1  46711.558594  1871.012695        0.0  47693.800781   \n",
       "1        etnn      2   1620.428711  2560.722412        0.0   1563.773682   \n",
       "2        etnn      3   1474.709229  1544.062988        0.0   1510.067749   \n",
       "3        etnn      4    721.724548  1116.063232        0.0    737.131714   \n",
       "4        etnn      5    321.649811    83.384933        0.0    328.326508   \n",
       "..        ...    ...           ...          ...        ...           ...   \n",
       "195  baseline     96      1.424884     1.595366        0.0      1.424984   \n",
       "196  baseline     97      1.383362     1.535132        0.0      1.384645   \n",
       "197  baseline     98      1.338809     1.497768        0.0      1.341688   \n",
       "198  baseline     99      1.301358     1.452135        0.0      1.302252   \n",
       "199  baseline    100      1.263798     1.429404        0.0      1.262311   \n",
       "\n",
       "      train_msa  train_explained_variance       train_r2      val_mse  \\\n",
       "0    144.468582            -154882.593750 -162701.342305  1871.012695   \n",
       "1     33.890720              -5093.238770   -5333.648068  2560.722412   \n",
       "2     30.793291              -4231.370605   -5150.435925  1544.063354   \n",
       "3     24.688011              -2343.561768   -2513.646929  1116.063110   \n",
       "4     15.848224              -1031.588379   -1119.051093    83.384941   \n",
       "..          ...                       ...            ...          ...   \n",
       "195    0.903327                 -3.860925      -3.861183     1.595366   \n",
       "196    0.890519                 -3.720714      -3.723572     1.535132   \n",
       "197    0.874030                 -3.576787      -3.577027     1.497768   \n",
       "198    0.860224                 -3.440499      -3.442496     1.452135   \n",
       "199    0.847578                 -3.305657      -3.306239     1.429404   \n",
       "\n",
       "       val_msa  val_explained_variance       val_r2  test_mse  test_msa  \\\n",
       "0    43.233154               -5.242908 -6124.061978       0.0       0.0   \n",
       "1    50.578266               -7.385873 -8381.938131       0.0       0.0   \n",
       "2    39.275101               -4.007419 -5053.739975       0.0       0.0   \n",
       "3    33.388805               -3.094168 -3652.613133       0.0       0.0   \n",
       "4     9.124454                0.576792  -271.974050       0.0       0.0   \n",
       "..         ...                     ...          ...       ...       ...   \n",
       "195   0.943022               -4.176786    -4.222690       0.0       0.0   \n",
       "196   0.912661               -4.024069    -4.025502       0.0       0.0   \n",
       "197   0.895632               -3.882572    -3.903186       0.0       0.0   \n",
       "198   0.887502               -3.749748    -3.753800       0.0       0.0   \n",
       "199   0.887210               -3.623619    -3.679386       0.0       0.0   \n",
       "\n",
       "     test_explained_variance  test_r2  \n",
       "0                        0.0      0.0  \n",
       "1                        0.0      0.0  \n",
       "2                        0.0      0.0  \n",
       "3                        0.0      0.0  \n",
       "4                        0.0      0.0  \n",
       "..                       ...      ...  \n",
       "195                      0.0      0.0  \n",
       "196                      0.0      0.0  \n",
       "197                      0.0      0.0  \n",
       "198                      0.0      0.0  \n",
       "199                      0.0      0.0  \n",
       "\n",
       "[200 rows x 17 columns]"
      ]
     },
     "execution_count": 35,
     "metadata": {},
     "output_type": "execute_result"
    }
   ],
   "source": [
    "df_measures = pd.read_csv(os.path.join(STORAGE_FOLDER, ACCURACY_SAVING_NAME))\n",
    "df_measures"
   ]
  },
  {
   "cell_type": "code",
   "execution_count": 36,
   "metadata": {
    "ExecuteTime": {
     "end_time": "2023-11-18T18:05:27.675026Z",
     "start_time": "2023-11-18T18:05:27.373300Z"
    }
   },
   "outputs": [
    {
     "data": {
      "image/png": "[encoded data removed]",
      "text/plain": [
       "<Figure size 640x480 with 1 Axes>"
      ]
     },
     "metadata": {},
     "output_type": "display_data"
    },
    {
     "data": {
      "image/png": "[encoded data removed]",
      "text/plain": [
       "<Figure size 640x480 with 1 Axes>"
      ]
     },
     "metadata": {},
     "output_type": "display_data"
    },
    {
     "data": {
      "image/png": "[encoded data removed]",
      "text/plain": [
       "<Figure size 640x480 with 1 Axes>"
      ]
     },
     "metadata": {},
     "output_type": "display_data"
    }
   ],
   "source": [
    "for what in ['loss', 'r2', 'explained_variance']:\n",
    "    plt.figure()\n",
    "    for config_id in df_measures.config_id.unique():\n",
    "        # make subdataset for config id\n",
    "        sub_df = df_measures[df_measures.config_id == config_id]\n",
    "\n",
    "        # plot train test and val\n",
    "        for mode in ['train', 'test', 'val']:\n",
    "            # plot training\n",
    "            plt.plot(sub_df.epoch, sub_df[f\"{mode}_{what}\"], label=f\"{config_id}_{mode}-{what}\")\n",
    "\n",
    "    plt.title(f\"{what} plot\")\n",
    "    plt.xlabel(\"epoch\")\n",
    "    plt.ylabel(\"score\")\n",
    "    if what == 'r2':\n",
    "        # plt.ylim(-1,1)\n",
    "        plt.ylim(-50,1)\n",
    "    elif what == 'loss':\n",
    "        plt.ylim(0, 300)\n",
    "    elif what == 'explained_variance':\n",
    "        plt.ylim(-10_000, 10_000)\n",
    "    plt.legend()\n",
    "    plt.show()"
   ]
  },
  {
   "cell_type": "markdown",
   "metadata": {},
   "source": [
    "## Loading etnn model"
   ]
  },
  {
   "cell_type": "code",
   "execution_count": 37,
   "metadata": {
    "ExecuteTime": {
     "end_time": "2023-11-18T18:05:27.689484Z",
     "start_time": "2023-11-18T18:05:27.675026Z"
    }
   },
   "outputs": [],
   "source": [
    "model = LayerManagementFramework(\n",
    "    in_dim=config.in_dim,\n",
    "    tree=tree_structure,\n",
    "    hidden_dim=config.hidden_dim,\n",
    "    out_dim=config.out_dim,\n",
    "    k=config.k\n",
    ").to(device)"
   ]
  },
  {
   "cell_type": "code",
   "execution_count": 38,
   "metadata": {
    "ExecuteTime": {
     "end_time": "2023-11-18T18:05:27.730535Z",
     "start_time": "2023-11-18T18:05:27.690484Z"
    }
   },
   "outputs": [
    {
     "data": {
      "text/plain": [
       "<All keys matched successfully>"
      ]
     },
     "execution_count": 38,
     "metadata": {},
     "output_type": "execute_result"
    }
   ],
   "source": [
    "model.load_state_dict(torch.load(os.path.join(STORAGE_FOLDER, MODEL_SAVING_NAME)))"
   ]
  },
  {
   "cell_type": "code",
   "execution_count": 39,
   "metadata": {
    "ExecuteTime": {
     "end_time": "2023-11-18T18:05:31.436208Z",
     "start_time": "2023-11-18T18:05:27.705528Z"
    }
   },
   "outputs": [],
   "source": [
    "loss, y_true, y_pred = eval_epoch(model, test_loader, device, criterion)"
   ]
  },
  {
   "cell_type": "code",
   "execution_count": 40,
   "metadata": {
    "ExecuteTime": {
     "end_time": "2023-11-18T18:05:31.452469Z",
     "start_time": "2023-11-18T18:05:31.437209Z"
    }
   },
   "outputs": [
    {
     "data": {
      "text/plain": [
       "tensor(0.0705)"
      ]
     },
     "execution_count": 40,
     "metadata": {},
     "output_type": "execute_result"
    }
   ],
   "source": [
    "loss"
   ]
  },
  {
   "cell_type": "code",
   "execution_count": 41,
   "metadata": {
    "ExecuteTime": {
     "end_time": "2023-11-18T18:05:31.472472Z",
     "start_time": "2023-11-18T18:05:31.454474Z"
    }
   },
   "outputs": [
    {
     "name": "stdout",
     "output_type": "stream",
     "text": [
      "0.7571159312091692\n"
     ]
    }
   ],
   "source": [
    "import sklearn\n",
    "\n",
    "print(sklearn.metrics.r2_score(y_true=y_true, y_pred=y_pred))"
   ]
  }
 ],
 "metadata": {
  "kernelspec": {
   "display_name": "Python 3 (ipykernel)",
   "language": "python",
   "name": "python3"
  },
  "language_info": {
   "codemirror_mode": {
    "name": "ipython",
    "version": 3
   },
   "file_extension": ".py",
   "mimetype": "text/x-python",
   "name": "python",
   "nbconvert_exporter": "python",
   "pygments_lexer": "ipython3",
   "version": "3.9.18"
  }
 },
 "nbformat": 4,
 "nbformat_minor": 4
}
