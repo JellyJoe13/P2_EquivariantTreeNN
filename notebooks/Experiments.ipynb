{
 "cells": [
  {
   "cell_type": "code",
   "execution_count": 1,
   "metadata": {
    "collapsed": true,
    "ExecuteTime": {
     "start_time": "2023-11-19T18:06:33.312407Z",
     "end_time": "2023-11-19T18:06:35.008496Z"
    }
   },
   "outputs": [],
   "source": [
    "from etnn.tools.training_tools import ConfigStore\n",
    "from etnn.routines.run_config import run_config"
   ]
  },
  {
   "cell_type": "code",
   "execution_count": 2,
   "outputs": [],
   "source": [
    "config = ConfigStore(\n",
    "    in_dim=15,\n",
    "    hidden_dim=128,\n",
    "    out_dim=1,\n",
    "    k=2,\n",
    "    dataset=0,\n",
    "    ds_size=10_000,\n",
    "    num_gondolas=10,\n",
    "    num_part_pg=5,\n",
    "    loss_name='mse',\n",
    "    optimizer_name='adam',\n",
    "    num_max_epochs=100, # old: 20\n",
    "    learning_rate=0.001,\n",
    "    batch_size=1024,\n",
    "    early_stop_tol=5,\n",
    "    use_equal_batcher=False,\n",
    "    seed=420,\n",
    "    label_type=\"tree\",  # tree\n",
    "    final_label_factor=1/1000\n",
    ")"
   ],
   "metadata": {
    "collapsed": false,
    "ExecuteTime": {
     "start_time": "2023-11-19T18:06:35.010496Z",
     "end_time": "2023-11-19T18:06:35.020614Z"
    }
   }
  },
  {
   "cell_type": "code",
   "execution_count": 3,
   "outputs": [
    {
     "name": "stdout",
     "output_type": "stream",
     "text": [
      "label: tree\n",
      "k:1\n",
      "0/2\n"
     ]
    },
    {
     "name": "stderr",
     "output_type": "stream",
     "text": [
      "100%|██████████| 100/100 [06:29<00:00,  3.89s/it]\n",
      "100%|██████████| 100/100 [05:42<00:00,  3.43s/it]\n"
     ]
    },
    {
     "name": "stdout",
     "output_type": "stream",
     "text": [
      "k:2\n",
      "1/2\n",
      "k:3\n",
      "2/2\n"
     ]
    },
    {
     "name": "stderr",
     "output_type": "stream",
     "text": [
      "100%|██████████| 100/100 [06:32<00:00,  3.92s/it]\n",
      "100%|██████████| 100/100 [05:44<00:00,  3.44s/it]\n"
     ]
    },
    {
     "name": "stdout",
     "output_type": "stream",
     "text": [
      "k:4\n",
      "3/2\n"
     ]
    },
    {
     "name": "stderr",
     "output_type": "stream",
     "text": [
      "100%|██████████| 100/100 [06:38<00:00,  3.99s/it]\n",
      "100%|██████████| 100/100 [05:42<00:00,  3.43s/it]\n"
     ]
    },
    {
     "name": "stdout",
     "output_type": "stream",
     "text": [
      "k:5\n",
      "4/2\n"
     ]
    },
    {
     "name": "stderr",
     "output_type": "stream",
     "text": [
      "100%|██████████| 100/100 [06:24<00:00,  3.85s/it]\n",
      "100%|██████████| 100/100 [05:41<00:00,  3.42s/it]\n"
     ]
    },
    {
     "name": "stdout",
     "output_type": "stream",
     "text": [
      "label: default\n",
      "k:1\n",
      "5/2\n"
     ]
    },
    {
     "name": "stderr",
     "output_type": "stream",
     "text": [
      "100%|██████████| 100/100 [06:31<00:00,  3.92s/it]\n",
      "100%|██████████| 100/100 [05:48<00:00,  3.48s/it]\n"
     ]
    },
    {
     "name": "stdout",
     "output_type": "stream",
     "text": [
      "k:2\n",
      "6/2\n",
      "k:3\n",
      "7/2\n"
     ]
    },
    {
     "name": "stderr",
     "output_type": "stream",
     "text": [
      "100%|██████████| 100/100 [06:39<00:00,  4.00s/it]\n",
      "100%|██████████| 100/100 [05:51<00:00,  3.52s/it]\n"
     ]
    },
    {
     "name": "stdout",
     "output_type": "stream",
     "text": [
      "k:4\n",
      "8/2\n"
     ]
    },
    {
     "name": "stderr",
     "output_type": "stream",
     "text": [
      "100%|██████████| 100/100 [06:42<00:00,  4.03s/it]\n",
      "100%|██████████| 100/100 [05:45<00:00,  3.45s/it]\n"
     ]
    },
    {
     "name": "stdout",
     "output_type": "stream",
     "text": [
      "k:5\n",
      "9/2\n"
     ]
    },
    {
     "name": "stderr",
     "output_type": "stream",
     "text": [
      "100%|██████████| 100/100 [07:55<00:00,  4.75s/it]\n",
      "100%|██████████| 100/100 [07:36<00:00,  4.57s/it]\n"
     ]
    }
   ],
   "source": [
    "label_list = [\"tree\", \"default\"]\n",
    "k_list = [1, 2, 3, 4, 5]\n",
    "counter = 0\n",
    "total = len(label_list)\n",
    "\n",
    "for label in label_list:\n",
    "    config.label_type = label\n",
    "    print(f\"label: {label}\")\n",
    "\n",
    "    for k in k_list:\n",
    "        config.k = k\n",
    "        print(f\"k:{k}\")\n",
    "\n",
    "        print(f\"{counter}/{total}\")\n",
    "        counter += 1\n",
    "\n",
    "        run_config(\n",
    "            config=config,\n",
    "            dataset_path=\"../datasets\",\n",
    "            results_folder=\"../results\"\n",
    "        )"
   ],
   "metadata": {
    "collapsed": false,
    "ExecuteTime": {
     "start_time": "2023-11-19T18:06:35.021618Z",
     "end_time": "2023-11-19T19:48:25.578083Z"
    }
   }
  }
 ],
 "metadata": {
  "kernelspec": {
   "display_name": "Python 3",
   "language": "python",
   "name": "python3"
  },
  "language_info": {
   "codemirror_mode": {
    "name": "ipython",
    "version": 2
   },
   "file_extension": ".py",
   "mimetype": "text/x-python",
   "name": "python",
   "nbconvert_exporter": "python",
   "pygments_lexer": "ipython2",
   "version": "2.7.6"
  }
 },
 "nbformat": 4,
 "nbformat_minor": 0
}
