{
 "cells": [
  {
   "cell_type": "code",
   "execution_count": 1,
   "metadata": {
    "collapsed": true,
    "ExecuteTime": {
     "start_time": "2023-11-19T21:20:12.374539Z",
     "end_time": "2023-11-19T21:20:14.107754Z"
    }
   },
   "outputs": [],
   "source": [
    "from tqdm.notebook import tqdm\n",
    "\n",
    "from etnn.tools.training_tools import ConfigStore\n",
    "from etnn.routines.run_config import run_config"
   ]
  },
  {
   "cell_type": "code",
   "execution_count": 2,
   "outputs": [],
   "source": [
    "config = ConfigStore(\n",
    "    in_dim=15,\n",
    "    hidden_dim=128,\n",
    "    out_dim=1,\n",
    "    k=2,\n",
    "    dataset=0,\n",
    "    ds_size=10_000,\n",
    "    num_gondolas=10,\n",
    "    num_part_pg=5,\n",
    "    loss_name='mse',\n",
    "    optimizer_name='adam',\n",
    "    num_max_epochs=100, # old: 20\n",
    "    learning_rate=0.001,\n",
    "    batch_size=1024,\n",
    "    early_stop_tol=5,\n",
    "    use_equal_batcher=False,\n",
    "    seed=420,\n",
    "    label_type=\"tree\",  # tree\n",
    "    final_label_factor=1/1000\n",
    ")"
   ],
   "metadata": {
    "collapsed": false,
    "ExecuteTime": {
     "start_time": "2023-11-19T21:20:14.107754Z",
     "end_time": "2023-11-19T21:20:14.119181Z"
    }
   }
  },
  {
   "cell_type": "code",
   "execution_count": null,
   "outputs": [
    {
     "data": {
      "text/plain": "Progress:   0%|          | 0/40 [00:00<?, ?run/s]",
      "application/vnd.jupyter.widget-view+json": {
       "version_major": 2,
       "version_minor": 0,
       "model_id": "cb9806cb4c474fc6922df6d43c851afa"
      }
     },
     "metadata": {},
     "output_type": "display_data"
    }
   ],
   "source": [
    "import time\n",
    "\n",
    "label_list = [\"tree\", \"default\"]\n",
    "k_list = [1, 2, 3, 4, 5]\n",
    "hidden_list = [8, 32, 128, 512]\n",
    "counter = 0\n",
    "total = len(label_list) * len(k_list) * len(hidden_list)\n",
    "\n",
    "with tqdm(total=total, desc=\"Progress\", unit=\"run\") as pbar:\n",
    "    for hidden in hidden_list:\n",
    "        config.hidden_dim = hidden\n",
    "\n",
    "        for label in label_list:\n",
    "            config.label_type = label\n",
    "\n",
    "            for k in k_list:\n",
    "                config.k = k\n",
    "\n",
    "                counter += 1\n",
    "\n",
    "                run_config(\n",
    "                    config=config,\n",
    "                    dataset_path=\"../datasets\",\n",
    "                    results_folder=\"../results\",\n",
    "                    verbose=False\n",
    "                )\n",
    "\n",
    "                pbar.update(1)\n",
    "                pbar.set_postfix({\"hidden\": hidden, \"label\": label, \"k\": k})"
   ],
   "metadata": {
    "collapsed": false,
    "ExecuteTime": {
     "start_time": "2023-11-19T21:11:33.709480Z",
     "end_time": "2023-11-19T21:11:43.833151Z"
    },
    "pycharm": {
     "is_executing": true
    }
   }
  }
 ],
 "metadata": {
  "kernelspec": {
   "display_name": "Python 3",
   "language": "python",
   "name": "python3"
  },
  "language_info": {
   "codemirror_mode": {
    "name": "ipython",
    "version": 2
   },
   "file_extension": ".py",
   "mimetype": "text/x-python",
   "name": "python",
   "nbconvert_exporter": "python",
   "pygments_lexer": "ipython2",
   "version": "2.7.6"
  }
 },
 "nbformat": 4,
 "nbformat_minor": 0
}
