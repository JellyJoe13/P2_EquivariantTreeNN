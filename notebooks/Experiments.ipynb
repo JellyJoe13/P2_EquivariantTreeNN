{
 "cells": [
  {
   "cell_type": "code",
   "execution_count": 2,
   "metadata": {
    "collapsed": true,
    "ExecuteTime": {
     "start_time": "2023-12-01T14:44:22.925921Z",
     "end_time": "2023-12-01T14:44:28.346720Z"
    }
   },
   "outputs": [],
   "source": [
    "import pandas as pd\n",
    "from tqdm.notebook import tqdm\n",
    "\n",
    "from etnn.tools.training_tools import ConfigStore, load_config\n",
    "from etnn.routines.run_config import run_config"
   ]
  },
  {
   "cell_type": "code",
   "execution_count": 3,
   "outputs": [],
   "source": [
    "check_duplicate = True"
   ],
   "metadata": {
    "collapsed": false,
    "ExecuteTime": {
     "start_time": "2023-12-01T14:44:31.340447Z",
     "end_time": "2023-12-01T14:44:31.359448Z"
    }
   }
  },
  {
   "cell_type": "code",
   "execution_count": 2,
   "outputs": [],
   "source": [
    "config = ConfigStore(\n",
    "    in_dim=15,\n",
    "    hidden_dim=128,\n",
    "    out_dim=1,\n",
    "    k=2,\n",
    "    dataset=0,\n",
    "    ds_size=10_000,\n",
    "    num_gondolas=10,\n",
    "    num_part_pg=5,\n",
    "    loss_name='mse',\n",
    "    optimizer_name='adam',\n",
    "    num_max_epochs=100, # old: 20\n",
    "    learning_rate=0.001,\n",
    "    batch_size=1024,\n",
    "    early_stop_tol=5,\n",
    "    use_equal_batcher=False,\n",
    "    seed=420,\n",
    "    label_type=\"tree\",  # tree\n",
    "    final_label_factor=1/1000\n",
    ")"
   ],
   "metadata": {
    "collapsed": false,
    "ExecuteTime": {
     "start_time": "2023-11-19T21:20:14.107754Z",
     "end_time": "2023-11-19T21:20:14.119181Z"
    }
   }
  },
  {
   "cell_type": "code",
   "execution_count": 3,
   "outputs": [
    {
     "data": {
      "text/plain": "Progress:   0%|          | 0/40 [00:00<?, ?run/s]",
      "application/vnd.jupyter.widget-view+json": {
       "version_major": 2,
       "version_minor": 0,
       "model_id": "cb9806cb4c474fc6922df6d43c851afa"
      }
     },
     "metadata": {},
     "output_type": "display_data"
    }
   ],
   "source": [
    "import time\n",
    "\n",
    "label_list = [\"tree\", \"default\"]\n",
    "k_list = [1, 2, 3, 4, 5]\n",
    "hidden_list = [8, 32, 128, 512]\n",
    "counter = 0\n",
    "total = len(label_list) * len(k_list) * len(hidden_list)\n",
    "\n",
    "with tqdm(total=total, desc=\"Progress\", unit=\"run\") as pbar:\n",
    "    for hidden in hidden_list:\n",
    "        config.hidden_dim = hidden\n",
    "\n",
    "        for label in label_list:\n",
    "            config.label_type = label\n",
    "\n",
    "            for k in k_list:\n",
    "                config.k = k\n",
    "\n",
    "                counter += 1\n",
    "\n",
    "                run_config(\n",
    "                    config=config,\n",
    "                    dataset_path=\"../datasets\",\n",
    "                    results_folder=\"../results\",\n",
    "                    verbose=False,\n",
    "                    check_duplicate=check_duplicate # todo: insert into all others to make clear that this option is being played here\n",
    "                )\n",
    "\n",
    "                pbar.update(1)\n",
    "                pbar.set_postfix({\"hidden\": hidden, \"label\": label, \"k\": k})"
   ],
   "metadata": {
    "collapsed": false,
    "ExecuteTime": {
     "start_time": "2023-11-19T21:20:14.121171Z",
     "end_time": "2023-11-20T03:39:09.476694Z"
    }
   }
  },
  {
   "cell_type": "markdown",
   "source": [
    "# Experiments part 2:"
   ],
   "metadata": {
    "collapsed": false
   }
  },
  {
   "cell_type": "code",
   "execution_count": 4,
   "outputs": [],
   "source": [
    "tree_intesting_exp = [1,2,3,5,20,24,30]\n",
    "default_intesting_exp = [0,6,7,25,29,35,36]"
   ],
   "metadata": {
    "collapsed": false,
    "ExecuteTime": {
     "start_time": "2023-11-26T20:35:19.057202Z",
     "end_time": "2023-11-26T20:35:19.070202Z"
    }
   }
  },
  {
   "cell_type": "code",
   "execution_count": 5,
   "outputs": [
    {
     "data": {
      "text/plain": "Progress:   0%|          | 0/14 [00:00<?, ?run/s]",
      "application/vnd.jupyter.widget-view+json": {
       "version_major": 2,
       "version_minor": 0,
       "model_id": "63cf15a202d7406bbc5654b7ac6d5ac6"
      }
     },
     "metadata": {},
     "output_type": "display_data"
    }
   ],
   "source": [
    "# longer experimental runs\n",
    "with tqdm(total=len(tree_intesting_exp) + len(default_intesting_exp), desc=\"Progress\", unit=\"run\") as pbar:\n",
    "\n",
    "    for config_idx in tree_intesting_exp + default_intesting_exp:\n",
    "        # load config\n",
    "        config = load_config(f\"../results/{config_idx}/config.json\")\n",
    "\n",
    "        # make changes to configs\n",
    "        config.num_max_epochs = 200\n",
    "\n",
    "        pbar.set_postfix({\"running_config_idx\": config_idx})\n",
    "\n",
    "        run_config(\n",
    "            config=config,\n",
    "            dataset_path=\"../datasets\",\n",
    "            results_folder=\"../results\",\n",
    "            verbose=False\n",
    "        )\n",
    "\n",
    "        pbar.update(1)"
   ],
   "metadata": {
    "collapsed": false,
    "ExecuteTime": {
     "start_time": "2023-11-26T20:35:19.578173Z",
     "end_time": "2023-11-27T02:28:57.096858Z"
    }
   }
  },
  {
   "cell_type": "code",
   "execution_count": 6,
   "outputs": [
    {
     "data": {
      "text/plain": "Progress:   0%|          | 0/14 [00:00<?, ?run/s]",
      "application/vnd.jupyter.widget-view+json": {
       "version_major": 2,
       "version_minor": 0,
       "model_id": "c6ece7b011064db786a4e389a6e38499"
      }
     },
     "metadata": {},
     "output_type": "display_data"
    }
   ],
   "source": [
    "# use batcher\n",
    "with tqdm(total=len(tree_intesting_exp) + len(default_intesting_exp), desc=\"Progress\", unit=\"run\") as pbar:\n",
    "\n",
    "    for config_idx in tree_intesting_exp + default_intesting_exp:\n",
    "        # load config\n",
    "        config = load_config(f\"../results/{config_idx}/config.json\")\n",
    "\n",
    "        # make changes to configs\n",
    "        config.use_equal_batcher = True\n",
    "\n",
    "        pbar.set_postfix({\"running_config_idx\": config_idx})\n",
    "\n",
    "        run_config(\n",
    "            config=config,\n",
    "            dataset_path=\"../datasets\",\n",
    "            results_folder=\"../results\",\n",
    "            verbose=False\n",
    "        )\n",
    "\n",
    "        pbar.update(1)"
   ],
   "metadata": {
    "collapsed": false,
    "ExecuteTime": {
     "start_time": "2023-11-27T02:28:57.130857Z",
     "end_time": "2023-11-27T05:22:53.889385Z"
    }
   }
  },
  {
   "cell_type": "markdown",
   "source": [
    "# New label using C type computation (previous label only S and P)\n",
    "\n",
    "redo configs for new label for tree"
   ],
   "metadata": {
    "collapsed": false
   }
  },
  {
   "cell_type": "code",
   "execution_count": 4,
   "outputs": [],
   "source": [
    "configs = pd.read_csv(\"../results/config_index.csv\")"
   ],
   "metadata": {
    "collapsed": false,
    "ExecuteTime": {
     "start_time": "2023-12-01T14:44:57.604101Z",
     "end_time": "2023-12-01T14:44:57.622271Z"
    }
   }
  },
  {
   "cell_type": "code",
   "execution_count": 6,
   "outputs": [
    {
     "data": {
      "text/plain": "1      1\n2      2\n3      3\n4      4\n5      5\n10    10\n11    11\n12    12\n13    13\n14    14\n20    20\n21    21\n22    22\n23    23\n24    24\n30    30\n31    31\n32    32\n33    33\n34    34\n40    40\n41    41\n42    42\n43    43\n44    44\n45    45\n46    46\n54    54\n55    55\n56    56\n57    57\n58    58\n59    59\n60    60\nName: config_idx, dtype: int64"
     },
     "execution_count": 6,
     "metadata": {},
     "output_type": "execute_result"
    }
   ],
   "source": [
    "configs = configs[configs.label_type == \"tree\"].config_idx\n",
    "configs"
   ],
   "metadata": {
    "collapsed": false,
    "ExecuteTime": {
     "start_time": "2023-12-01T14:45:38.012629Z",
     "end_time": "2023-12-01T14:45:38.024628Z"
    }
   }
  },
  {
   "cell_type": "code",
   "execution_count": null,
   "outputs": [
    {
     "data": {
      "text/plain": "  0%|          | 0/34 [00:00<?, ?it/s]",
      "application/vnd.jupyter.widget-view+json": {
       "version_major": 2,
       "version_minor": 0,
       "model_id": "43b3548d5c274344806a0b908ba2a0fe"
      }
     },
     "metadata": {},
     "output_type": "display_data"
    }
   ],
   "source": [
    "for id in tqdm(configs):\n",
    "    config = load_config(f\"../results/{id}/config.json\")\n",
    "    config.label_type = \"tree_advanced\"\n",
    "\n",
    "    run_config(\n",
    "        config=config,\n",
    "        dataset_path=\"../datasets\",\n",
    "        results_folder=\"../results\",\n",
    "        verbose=False\n",
    "    )"
   ],
   "metadata": {
    "collapsed": false,
    "pycharm": {
     "is_executing": true
    }
   }
  },
  {
   "cell_type": "markdown",
   "source": [
    "# Current Progress: here"
   ],
   "metadata": {
    "collapsed": false
   }
  },
  {
   "cell_type": "code",
   "execution_count": null,
   "outputs": [],
   "source": [
    "models_of_interest = [3,5,24] + [0,25,35]"
   ],
   "metadata": {
    "collapsed": false
   }
  },
  {
   "cell_type": "code",
   "execution_count": null,
   "outputs": [],
   "source": [
    "datasets_configs = [1, 2]\n",
    "# change dataset mode\n",
    "with tqdm(total=len(models_of_interest)*len(datasets_configs), desc=\"Progress\", unit=\"run\") as pbar:\n",
    "\n",
    "    for config_idx in models_of_interest:\n",
    "        # load config\n",
    "        config = load_config(f\"../results/{config_idx}/config.json\")\n",
    "\n",
    "        for ds_mode in datasets_configs:\n",
    "            # make changes to configs\n",
    "            config.dataset = ds_mode\n",
    "\n",
    "            pbar.set_postfix({\"running_config_idx\": config_idx, \"ds_mode\": ds_mode})\n",
    "\n",
    "            run_config(\n",
    "                config=config,\n",
    "                dataset_path=\"../datasets\",\n",
    "                results_folder=\"../results\",\n",
    "                verbose=False\n",
    "            )\n",
    "\n",
    "            pbar.update(1)"
   ],
   "metadata": {
    "collapsed": false
   }
  },
  {
   "cell_type": "code",
   "execution_count": null,
   "outputs": [],
   "source": [
    "loss_configs = [\"mse\", \"mae\", \"smooth-l1\"]\n",
    "# change loss\n",
    "with tqdm(total=len(models_of_interest)*len(loss_configs), desc=\"Progress\", unit=\"run\") as pbar:\n",
    "\n",
    "    for config_idx in models_of_interest:\n",
    "        # load config\n",
    "        config = load_config(f\"../results/{config_idx}/config.json\")\n",
    "\n",
    "        for loss in loss_configs:\n",
    "            # make changes to configs\n",
    "            config.loss_name = loss\n",
    "\n",
    "            pbar.set_postfix({\"running_config_idx\": config_idx, \"loss\": loss})\n",
    "\n",
    "            run_config(\n",
    "                config=config,\n",
    "                dataset_path=\"../datasets\",\n",
    "                results_folder=\"../results\",\n",
    "                verbose=False\n",
    "            )\n",
    "\n",
    "            pbar.update(1)"
   ],
   "metadata": {
    "collapsed": false
   }
  },
  {
   "cell_type": "code",
   "execution_count": null,
   "outputs": [],
   "source": [
    "ds_size = [1000, 5000]\n",
    "# change dataset size\n",
    "with tqdm(total=len(models_of_interest)*len(ds_size), desc=\"Progress\", unit=\"run\") as pbar:\n",
    "\n",
    "    for config_idx in models_of_interest:\n",
    "        # load config\n",
    "        config = load_config(f\"../results/{config_idx}/config.json\")\n",
    "\n",
    "        for ds_s in ds_size:\n",
    "            # make changes to configs\n",
    "            config.ds_size = ds_s\n",
    "\n",
    "            pbar.set_postfix({\"running_config_idx\": config_idx, \"loss\": loss})\n",
    "\n",
    "            run_config(\n",
    "                config=config,\n",
    "                dataset_path=\"../datasets\",\n",
    "                results_folder=\"../results\",\n",
    "                verbose=False\n",
    "            )\n",
    "\n",
    "            pbar.update(1)"
   ],
   "metadata": {
    "collapsed": false
   }
  },
  {
   "cell_type": "code",
   "execution_count": null,
   "outputs": [],
   "source": [
    "batch_size_list = [64, 128, 256, 512, 1024]\n",
    "# longer experimental runs\n",
    "with tqdm(total=len(models_of_interest) * len(batch_size_list), desc=\"Progress\", unit=\"run\") as pbar:\n",
    "    for config_idx in models_of_interest:\n",
    "        # load config\n",
    "        config = load_config(f\"../results/{config_idx}/config.json\")\n",
    "\n",
    "        for batch_size in batch_size_list:\n",
    "            # make changes to configs\n",
    "            config.batch_size = batch_size\n",
    "\n",
    "            pbar.set_postfix({\"running_config_idx\": config_idx, \"loss\": loss})\n",
    "\n",
    "            run_config(\n",
    "                config=config,\n",
    "                dataset_path=\"../datasets\",\n",
    "                results_folder=\"../results\",\n",
    "                verbose=False\n",
    "            )\n",
    "\n",
    "            pbar.update(1)"
   ],
   "metadata": {
    "collapsed": false
   }
  }
 ],
 "metadata": {
  "kernelspec": {
   "display_name": "Python 3",
   "language": "python",
   "name": "python3"
  },
  "language_info": {
   "codemirror_mode": {
    "name": "ipython",
    "version": 2
   },
   "file_extension": ".py",
   "mimetype": "text/x-python",
   "name": "python",
   "nbconvert_exporter": "python",
   "pygments_lexer": "ipython2",
   "version": "2.7.6"
  }
 },
 "nbformat": 4,
 "nbformat_minor": 0
}
