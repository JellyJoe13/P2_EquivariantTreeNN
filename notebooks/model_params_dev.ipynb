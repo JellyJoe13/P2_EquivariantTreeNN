{
 "cells": [
  {
   "cell_type": "code",
   "execution_count": 39,
   "metadata": {
    "collapsed": true,
    "ExecuteTime": {
     "start_time": "2023-12-09T21:27:57.480620Z",
     "end_time": "2023-12-09T21:27:57.521620Z"
    }
   },
   "outputs": [],
   "source": [
    "import torch\n",
    "\n",
    "from etnn import TreeNode\n",
    "from etnn.nn.baseline import calc_params, create_baseline_model\n",
    "from etnn.nn.layer_framework import LayerManagementFramework\n",
    "from etnn.tools.training_tools import ConfigStore"
   ]
  },
  {
   "cell_type": "code",
   "execution_count": 40,
   "outputs": [],
   "source": [
    "config = ConfigStore(\n",
    "    in_dim=15,\n",
    "    hidden_dim=128,\n",
    "    out_dim=1,\n",
    "    k=3,\n",
    "    dataset=0,\n",
    "    ds_size=10_000,\n",
    "    num_gondolas=10,\n",
    "    num_part_pg=5,\n",
    "    loss_name='mse',\n",
    "    optimizer_name='adam',\n",
    "    num_max_epochs=30, # real: 100\n",
    "    learning_rate=0.001,\n",
    "    batch_size=1024,\n",
    "    early_stop_tol=5,\n",
    "    use_equal_batcher=False,\n",
    "    seed=420,\n",
    "    label_type=\"tree_advanced\",\n",
    "    final_label_factor=1/1000\n",
    ")"
   ],
   "metadata": {
    "collapsed": false,
    "ExecuteTime": {
     "start_time": "2023-12-09T21:27:57.493620Z",
     "end_time": "2023-12-09T21:27:57.533619Z"
    }
   }
  },
  {
   "cell_type": "code",
   "execution_count": 41,
   "outputs": [],
   "source": [
    "tree_structure = TreeNode(\n",
    "    node_type=\"C\",\n",
    "    children=[\n",
    "        TreeNode(\"P\", [TreeNode(\"E\", config.num_part_pg)])\n",
    "        for _ in range(config.num_gondolas)\n",
    "    ]\n",
    ")"
   ],
   "metadata": {
    "collapsed": false,
    "ExecuteTime": {
     "start_time": "2023-12-09T21:27:57.507620Z",
     "end_time": "2023-12-09T21:27:57.533619Z"
    }
   }
  },
  {
   "cell_type": "code",
   "execution_count": 42,
   "outputs": [],
   "source": [
    "model_tree = LayerManagementFramework(\n",
    "    in_dim=config.in_dim,\n",
    "    tree=tree_structure,\n",
    "    hidden_dim=config.hidden_dim,\n",
    "    out_dim=config.out_dim,\n",
    "    k=config.k\n",
    ")"
   ],
   "metadata": {
    "collapsed": false,
    "ExecuteTime": {
     "start_time": "2023-12-09T21:27:57.522620Z",
     "end_time": "2023-12-09T21:27:57.552618Z"
    }
   }
  },
  {
   "cell_type": "code",
   "execution_count": 43,
   "outputs": [],
   "source": [
    "model_baseline, _ = create_baseline_model(\n",
    "    n_params=calc_params(model_tree),\n",
    "    input_dim=config.in_dim * config.num_gondolas * config.num_part_pg,\n",
    "    n_layer=3,\n",
    "    output_dim=1\n",
    ")"
   ],
   "metadata": {
    "collapsed": false,
    "ExecuteTime": {
     "start_time": "2023-12-09T21:27:57.540619Z",
     "end_time": "2023-12-09T21:27:57.553618Z"
    }
   }
  },
  {
   "cell_type": "code",
   "execution_count": 44,
   "outputs": [
    {
     "data": {
      "text/plain": "111489"
     },
     "execution_count": 44,
     "metadata": {},
     "output_type": "execute_result"
    }
   ],
   "source": [
    "calc_params(model_tree)"
   ],
   "metadata": {
    "collapsed": false,
    "ExecuteTime": {
     "start_time": "2023-12-09T21:27:57.554620Z",
     "end_time": "2023-12-09T21:27:57.599130Z"
    }
   }
  },
  {
   "cell_type": "code",
   "execution_count": 45,
   "outputs": [
    {
     "data": {
      "text/plain": "116764"
     },
     "execution_count": 45,
     "metadata": {},
     "output_type": "execute_result"
    }
   ],
   "source": [
    "calc_params(model_baseline)"
   ],
   "metadata": {
    "collapsed": false,
    "ExecuteTime": {
     "start_time": "2023-12-09T21:27:57.570622Z",
     "end_time": "2023-12-09T21:27:57.610133Z"
    }
   }
  },
  {
   "cell_type": "code",
   "execution_count": 45,
   "outputs": [],
   "source": [],
   "metadata": {
    "collapsed": false,
    "ExecuteTime": {
     "start_time": "2023-12-09T21:27:57.585131Z",
     "end_time": "2023-12-09T21:27:57.610133Z"
    }
   }
  },
  {
   "cell_type": "markdown",
   "source": [
    "# Second part with entry csv for baseline"
   ],
   "metadata": {
    "collapsed": false
   }
  },
  {
   "cell_type": "code",
   "execution_count": 46,
   "outputs": [],
   "source": [
    "import pandas as pd"
   ],
   "metadata": {
    "collapsed": false,
    "ExecuteTime": {
     "start_time": "2023-12-09T21:27:57.601132Z",
     "end_time": "2023-12-09T21:27:57.631132Z"
    }
   }
  },
  {
   "cell_type": "code",
   "execution_count": 47,
   "outputs": [],
   "source": [
    "label = \"tree_advanced\"\n",
    "i = 0"
   ],
   "metadata": {
    "collapsed": false,
    "ExecuteTime": {
     "start_time": "2023-12-09T21:27:57.618132Z",
     "end_time": "2023-12-09T21:27:57.663133Z"
    }
   }
  },
  {
   "cell_type": "code",
   "execution_count": 48,
   "outputs": [],
   "source": [
    "df = pd.read_csv(f\"./finalTests/study_label-tree-advanced_baseline_normalized.csv\")"
   ],
   "metadata": {
    "collapsed": false,
    "ExecuteTime": {
     "start_time": "2023-12-09T21:27:57.633131Z",
     "end_time": "2023-12-09T21:27:57.673639Z"
    }
   }
  },
  {
   "cell_type": "code",
   "execution_count": 49,
   "outputs": [
    {
     "data": {
      "text/plain": "    Unnamed: 0  number        value              datetime_start  \\\n0            0       0  -939.444901  2023-12-08 19:56:49.744254   \n1            1       1     0.920114  2023-12-08 19:57:58.945480   \n2            2       2 -1004.729063  2023-12-08 19:59:19.025902   \n3            3       3     0.896207  2023-12-08 20:00:40.963248   \n4            4       4     0.905588  2023-12-08 20:02:05.509229   \n..         ...     ...          ...                         ...   \n65          65      65     0.939706  2023-12-08 21:14:01.704534   \n66          66      66     0.944978  2023-12-08 21:15:14.488480   \n67          67      67     0.931577  2023-12-08 21:16:23.832429   \n68          68      68     0.923358  2023-12-08 21:17:36.605310   \n69          69      69     0.934257  2023-12-08 21:18:54.546128   \n\n             datetime_complete                duration  params_batcher  \\\n0   2023-12-08 19:57:58.943975  0 days 00:01:09.199721           False   \n1   2023-12-08 19:59:19.023901  0 days 00:01:20.078421           False   \n2   2023-12-08 20:00:40.961248  0 days 00:01:21.935346           False   \n3   2023-12-08 20:02:05.507228  0 days 00:01:24.543980           False   \n4   2023-12-08 20:03:23.213526  0 days 00:01:17.704297            True   \n..                         ...                     ...             ...   \n65  2023-12-08 21:15:14.487481  0 days 00:01:12.782947            True   \n66  2023-12-08 21:16:23.830428  0 days 00:01:09.341948            True   \n67  2023-12-08 21:17:36.604296  0 days 00:01:12.771867            True   \n68  2023-12-08 21:18:54.544129  0 days 00:01:17.938819            True   \n69  2023-12-08 21:20:08.693019  0 days 00:01:14.146891            True   \n\n    params_learning_rate  params_n_dim_0  params_n_dim_1  params_n_dim_2  \\\n0               0.000024             NaN             NaN             NaN   \n1               0.002104           219.0           401.0           355.0   \n2               0.000031            89.0           304.0           315.0   \n3               0.000293           208.0             NaN             NaN   \n4               0.000728           250.0             NaN             NaN   \n..                   ...             ...             ...             ...   \n65              0.003787           360.0           153.0             NaN   \n66              0.005396           446.0            56.0             NaN   \n67              0.007961           485.0            19.0             NaN   \n68              0.005931           387.0           262.0             NaN   \n69              0.002944           423.0           203.0             NaN   \n\n    params_n_dim_3  params_n_layers     state  \n0              NaN                1  COMPLETE  \n1              NaN                4  COMPLETE  \n2              1.0                5  COMPLETE  \n3              NaN                2  COMPLETE  \n4              NaN                2  COMPLETE  \n..             ...              ...       ...  \n65             NaN                3  COMPLETE  \n66             NaN                3  COMPLETE  \n67             NaN                3  COMPLETE  \n68             NaN                3  COMPLETE  \n69             NaN                3  COMPLETE  \n\n[70 rows x 14 columns]",
      "text/html": "<div>\n<style scoped>\n    .dataframe tbody tr th:only-of-type {\n        vertical-align: middle;\n    }\n\n    .dataframe tbody tr th {\n        vertical-align: top;\n    }\n\n    .dataframe thead th {\n        text-align: right;\n    }\n</style>\n<table border=\"1\" class=\"dataframe\">\n  <thead>\n    <tr style=\"text-align: right;\">\n      <th></th>\n      <th>Unnamed: 0</th>\n      <th>number</th>\n      <th>value</th>\n      <th>datetime_start</th>\n      <th>datetime_complete</th>\n      <th>duration</th>\n      <th>params_batcher</th>\n      <th>params_learning_rate</th>\n      <th>params_n_dim_0</th>\n      <th>params_n_dim_1</th>\n      <th>params_n_dim_2</th>\n      <th>params_n_dim_3</th>\n      <th>params_n_layers</th>\n      <th>state</th>\n    </tr>\n  </thead>\n  <tbody>\n    <tr>\n      <th>0</th>\n      <td>0</td>\n      <td>0</td>\n      <td>-939.444901</td>\n      <td>2023-12-08 19:56:49.744254</td>\n      <td>2023-12-08 19:57:58.943975</td>\n      <td>0 days 00:01:09.199721</td>\n      <td>False</td>\n      <td>0.000024</td>\n      <td>NaN</td>\n      <td>NaN</td>\n      <td>NaN</td>\n      <td>NaN</td>\n      <td>1</td>\n      <td>COMPLETE</td>\n    </tr>\n    <tr>\n      <th>1</th>\n      <td>1</td>\n      <td>1</td>\n      <td>0.920114</td>\n      <td>2023-12-08 19:57:58.945480</td>\n      <td>2023-12-08 19:59:19.023901</td>\n      <td>0 days 00:01:20.078421</td>\n      <td>False</td>\n      <td>0.002104</td>\n      <td>219.0</td>\n      <td>401.0</td>\n      <td>355.0</td>\n      <td>NaN</td>\n      <td>4</td>\n      <td>COMPLETE</td>\n    </tr>\n    <tr>\n      <th>2</th>\n      <td>2</td>\n      <td>2</td>\n      <td>-1004.729063</td>\n      <td>2023-12-08 19:59:19.025902</td>\n      <td>2023-12-08 20:00:40.961248</td>\n      <td>0 days 00:01:21.935346</td>\n      <td>False</td>\n      <td>0.000031</td>\n      <td>89.0</td>\n      <td>304.0</td>\n      <td>315.0</td>\n      <td>1.0</td>\n      <td>5</td>\n      <td>COMPLETE</td>\n    </tr>\n    <tr>\n      <th>3</th>\n      <td>3</td>\n      <td>3</td>\n      <td>0.896207</td>\n      <td>2023-12-08 20:00:40.963248</td>\n      <td>2023-12-08 20:02:05.507228</td>\n      <td>0 days 00:01:24.543980</td>\n      <td>False</td>\n      <td>0.000293</td>\n      <td>208.0</td>\n      <td>NaN</td>\n      <td>NaN</td>\n      <td>NaN</td>\n      <td>2</td>\n      <td>COMPLETE</td>\n    </tr>\n    <tr>\n      <th>4</th>\n      <td>4</td>\n      <td>4</td>\n      <td>0.905588</td>\n      <td>2023-12-08 20:02:05.509229</td>\n      <td>2023-12-08 20:03:23.213526</td>\n      <td>0 days 00:01:17.704297</td>\n      <td>True</td>\n      <td>0.000728</td>\n      <td>250.0</td>\n      <td>NaN</td>\n      <td>NaN</td>\n      <td>NaN</td>\n      <td>2</td>\n      <td>COMPLETE</td>\n    </tr>\n    <tr>\n      <th>...</th>\n      <td>...</td>\n      <td>...</td>\n      <td>...</td>\n      <td>...</td>\n      <td>...</td>\n      <td>...</td>\n      <td>...</td>\n      <td>...</td>\n      <td>...</td>\n      <td>...</td>\n      <td>...</td>\n      <td>...</td>\n      <td>...</td>\n      <td>...</td>\n    </tr>\n    <tr>\n      <th>65</th>\n      <td>65</td>\n      <td>65</td>\n      <td>0.939706</td>\n      <td>2023-12-08 21:14:01.704534</td>\n      <td>2023-12-08 21:15:14.487481</td>\n      <td>0 days 00:01:12.782947</td>\n      <td>True</td>\n      <td>0.003787</td>\n      <td>360.0</td>\n      <td>153.0</td>\n      <td>NaN</td>\n      <td>NaN</td>\n      <td>3</td>\n      <td>COMPLETE</td>\n    </tr>\n    <tr>\n      <th>66</th>\n      <td>66</td>\n      <td>66</td>\n      <td>0.944978</td>\n      <td>2023-12-08 21:15:14.488480</td>\n      <td>2023-12-08 21:16:23.830428</td>\n      <td>0 days 00:01:09.341948</td>\n      <td>True</td>\n      <td>0.005396</td>\n      <td>446.0</td>\n      <td>56.0</td>\n      <td>NaN</td>\n      <td>NaN</td>\n      <td>3</td>\n      <td>COMPLETE</td>\n    </tr>\n    <tr>\n      <th>67</th>\n      <td>67</td>\n      <td>67</td>\n      <td>0.931577</td>\n      <td>2023-12-08 21:16:23.832429</td>\n      <td>2023-12-08 21:17:36.604296</td>\n      <td>0 days 00:01:12.771867</td>\n      <td>True</td>\n      <td>0.007961</td>\n      <td>485.0</td>\n      <td>19.0</td>\n      <td>NaN</td>\n      <td>NaN</td>\n      <td>3</td>\n      <td>COMPLETE</td>\n    </tr>\n    <tr>\n      <th>68</th>\n      <td>68</td>\n      <td>68</td>\n      <td>0.923358</td>\n      <td>2023-12-08 21:17:36.605310</td>\n      <td>2023-12-08 21:18:54.544129</td>\n      <td>0 days 00:01:17.938819</td>\n      <td>True</td>\n      <td>0.005931</td>\n      <td>387.0</td>\n      <td>262.0</td>\n      <td>NaN</td>\n      <td>NaN</td>\n      <td>3</td>\n      <td>COMPLETE</td>\n    </tr>\n    <tr>\n      <th>69</th>\n      <td>69</td>\n      <td>69</td>\n      <td>0.934257</td>\n      <td>2023-12-08 21:18:54.546128</td>\n      <td>2023-12-08 21:20:08.693019</td>\n      <td>0 days 00:01:14.146891</td>\n      <td>True</td>\n      <td>0.002944</td>\n      <td>423.0</td>\n      <td>203.0</td>\n      <td>NaN</td>\n      <td>NaN</td>\n      <td>3</td>\n      <td>COMPLETE</td>\n    </tr>\n  </tbody>\n</table>\n<p>70 rows × 14 columns</p>\n</div>"
     },
     "execution_count": 49,
     "metadata": {},
     "output_type": "execute_result"
    }
   ],
   "source": [
    "df"
   ],
   "metadata": {
    "collapsed": false,
    "ExecuteTime": {
     "start_time": "2023-12-09T21:27:57.649131Z",
     "end_time": "2023-12-09T21:27:57.673639Z"
    }
   }
  },
  {
   "cell_type": "code",
   "execution_count": 50,
   "outputs": [],
   "source": [
    "entry = df.iloc[0]"
   ],
   "metadata": {
    "collapsed": false,
    "ExecuteTime": {
     "start_time": "2023-12-09T21:27:57.665136Z",
     "end_time": "2023-12-09T21:27:57.694642Z"
    }
   }
  },
  {
   "cell_type": "code",
   "execution_count": 51,
   "outputs": [],
   "source": [
    "layer_list = [torch.nn.Flatten()]\n",
    "features = config.in_dim * config.num_gondolas * config.num_part_pg\n",
    "\n",
    "# for each layer create a linear layer and relu (except last one)\n",
    "for layer in range(int(entry.params_n_layers)-1):\n",
    "    # determine new feature dimension\n",
    "    new_features = int(entry[f\"params_n_dim_{layer}\"])\n",
    "\n",
    "    # add layer and relu to list\n",
    "    layer_list += [torch.nn.Linear(features, new_features), torch.nn.ReLU()]\n",
    "\n",
    "    # set the new feature to be the current feature\n",
    "    features = new_features\n",
    "\n",
    "# set the last layer - this one must map to the out dimension\n",
    "layer_list += [torch.nn.Linear(features, config.out_dim)]\n",
    "model = torch.nn.Sequential(*layer_list)"
   ],
   "metadata": {
    "collapsed": false,
    "ExecuteTime": {
     "start_time": "2023-12-09T21:27:57.682643Z",
     "end_time": "2023-12-09T21:27:57.710643Z"
    }
   }
  },
  {
   "cell_type": "code",
   "execution_count": 53,
   "outputs": [
    {
     "data": {
      "text/plain": "751"
     },
     "execution_count": 53,
     "metadata": {},
     "output_type": "execute_result"
    }
   ],
   "source": [
    "calc_params(model)"
   ],
   "metadata": {
    "collapsed": false,
    "ExecuteTime": {
     "start_time": "2023-12-09T21:28:13.985705Z",
     "end_time": "2023-12-09T21:28:14.004704Z"
    }
   }
  }
 ],
 "metadata": {
  "kernelspec": {
   "display_name": "Python 3",
   "language": "python",
   "name": "python3"
  },
  "language_info": {
   "codemirror_mode": {
    "name": "ipython",
    "version": 2
   },
   "file_extension": ".py",
   "mimetype": "text/x-python",
   "name": "python",
   "nbconvert_exporter": "python",
   "pygments_lexer": "ipython2",
   "version": "2.7.6"
  }
 },
 "nbformat": 4,
 "nbformat_minor": 0
}
