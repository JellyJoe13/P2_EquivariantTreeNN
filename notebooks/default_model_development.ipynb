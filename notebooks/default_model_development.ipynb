{
 "cells": [
  {
   "cell_type": "markdown",
   "source": [
    "# Building default model"
   ],
   "metadata": {
    "collapsed": false
   }
  },
  {
   "cell_type": "code",
   "execution_count": null,
   "metadata": {
    "collapsed": true
   },
   "outputs": [],
   "source": [
    "# idea: in simple proof of concept notebook a 2 layer mlp was used to make a default model.\n",
    "# replicate this by specifying the number of parameters in a funciton and the number of layers"
   ]
  },
  {
   "cell_type": "code",
   "execution_count": 1,
   "outputs": [],
   "source": [
    "import torch"
   ],
   "metadata": {
    "collapsed": false,
    "ExecuteTime": {
     "start_time": "2023-11-09T17:24:15.586281Z",
     "end_time": "2023-11-09T17:24:18.567903Z"
    }
   }
  },
  {
   "cell_type": "markdown",
   "source": [
    "## Simple first attempt - 2 layer"
   ],
   "metadata": {
    "collapsed": false
   }
  },
  {
   "cell_type": "code",
   "execution_count": 4,
   "outputs": [],
   "source": [
    "input_dim_elem = 10\n",
    "n_elem = 50\n",
    "output_dim = 1"
   ],
   "metadata": {
    "collapsed": false,
    "ExecuteTime": {
     "start_time": "2023-11-09T17:35:38.026138Z",
     "end_time": "2023-11-09T17:35:38.038138Z"
    }
   }
  },
  {
   "cell_type": "code",
   "execution_count": 15,
   "outputs": [],
   "source": [
    "num_parameters = 1000"
   ],
   "metadata": {
    "collapsed": false,
    "ExecuteTime": {
     "start_time": "2023-11-09T18:27:32.619382Z",
     "end_time": "2023-11-09T18:27:32.632976Z"
    }
   }
  },
  {
   "cell_type": "code",
   "execution_count": 16,
   "outputs": [],
   "source": [
    "# a linear layer [torch.nn.Linear(n,m)] has n*m parameters.\n",
    "# if I say I want to have a 2 layer mlp this means I have m*x + x*n parameters. In other words: num_par = x * (m+n)\n",
    "# let's confirm it"
   ],
   "metadata": {
    "collapsed": false,
    "ExecuteTime": {
     "start_time": "2023-11-09T18:27:33.109200Z",
     "end_time": "2023-11-09T18:27:33.113715Z"
    }
   }
  },
  {
   "cell_type": "code",
   "execution_count": 17,
   "outputs": [],
   "source": [
    "n = output_dim\n",
    "m = input_dim_elem * n_elem"
   ],
   "metadata": {
    "collapsed": false,
    "ExecuteTime": {
     "start_time": "2023-11-09T18:27:33.880171Z",
     "end_time": "2023-11-09T18:27:33.905200Z"
    }
   }
  },
  {
   "cell_type": "code",
   "execution_count": 41,
   "outputs": [
    {
     "data": {
      "text/plain": "2"
     },
     "execution_count": 41,
     "metadata": {},
     "output_type": "execute_result"
    }
   ],
   "source": [
    "hidden_dim = int(num_parameters/(m + n) + 1)\n",
    "hidden_dim"
   ],
   "metadata": {
    "collapsed": false,
    "ExecuteTime": {
     "start_time": "2023-11-09T18:51:08.196912Z",
     "end_time": "2023-11-09T18:51:08.206360Z"
    }
   }
  },
  {
   "cell_type": "code",
   "execution_count": 22,
   "outputs": [],
   "source": [
    "hidden_dim = 3"
   ],
   "metadata": {
    "collapsed": false,
    "ExecuteTime": {
     "start_time": "2023-11-09T18:29:24.026365Z",
     "end_time": "2023-11-09T18:29:24.031876Z"
    }
   }
  },
  {
   "cell_type": "code",
   "execution_count": 26,
   "outputs": [],
   "source": [
    "module1 = torch.nn.Sequential(\n",
    "    torch.nn.Linear(m, hidden_dim),\n",
    "    torch.nn.ReLU(),\n",
    "    torch.nn.Linear(hidden_dim, n)\n",
    ")"
   ],
   "metadata": {
    "collapsed": false,
    "ExecuteTime": {
     "start_time": "2023-11-09T18:30:37.519345Z",
     "end_time": "2023-11-09T18:30:37.532515Z"
    }
   }
  },
  {
   "cell_type": "code",
   "execution_count": 27,
   "outputs": [
    {
     "data": {
      "text/plain": "[1000, 2, 2, 1]"
     },
     "execution_count": 27,
     "metadata": {},
     "output_type": "execute_result"
    }
   ],
   "source": [
    "[p.numel() for p in module1.parameters()]"
   ],
   "metadata": {
    "collapsed": false,
    "ExecuteTime": {
     "start_time": "2023-11-09T18:30:37.910024Z",
     "end_time": "2023-11-09T18:30:37.938540Z"
    }
   }
  },
  {
   "cell_type": "code",
   "execution_count": 28,
   "outputs": [
    {
     "data": {
      "text/plain": "1005"
     },
     "execution_count": 28,
     "metadata": {},
     "output_type": "execute_result"
    }
   ],
   "source": [
    "sum([p.numel() for p in module1.parameters()])"
   ],
   "metadata": {
    "collapsed": false,
    "ExecuteTime": {
     "start_time": "2023-11-09T18:30:38.501332Z",
     "end_time": "2023-11-09T18:30:38.528109Z"
    }
   }
  },
  {
   "cell_type": "markdown",
   "source": [
    "## Get a specific number of layers"
   ],
   "metadata": {
    "collapsed": false
   }
  },
  {
   "cell_type": "code",
   "execution_count": 69,
   "outputs": [],
   "source": [
    "# good that worked quite well\n",
    "# now we do not have only have 2 layers but more.\n",
    "# meaning: m*x1 + x1*x2 + ... + xn*n = n_param\n",
    "# ... which is kind of difficult. If we say that x_i = factor * x_(i-1) then it becomes easier\n",
    "# the formula turns into: n_param = m*factor^(n_layer-1) + ... + factor*n"
   ],
   "metadata": {
    "collapsed": false,
    "ExecuteTime": {
     "start_time": "2023-11-09T19:20:10.043116Z",
     "end_time": "2023-11-09T19:20:10.057129Z"
    }
   }
  },
  {
   "cell_type": "code",
   "execution_count": 80,
   "outputs": [],
   "source": [
    "n_layer = 4"
   ],
   "metadata": {
    "collapsed": false,
    "ExecuteTime": {
     "start_time": "2023-11-09T19:30:45.260167Z",
     "end_time": "2023-11-09T19:30:45.267417Z"
    }
   }
  },
  {
   "cell_type": "code",
   "execution_count": 86,
   "outputs": [
    {
     "name": "stdout",
     "output_type": "stream",
     "text": [
      "params: 4042, factor:2\n"
     ]
    }
   ],
   "source": [
    "for factor in range(2, 20, 1):\n",
    "    params = 0\n",
    "    for i in range(n_layer):\n",
    "        if i == 0:\n",
    "            params += n*factor\n",
    "        elif i == (n_layer-1):\n",
    "            params += m*(factor ** i)\n",
    "        else:\n",
    "            params += (factor ** i) * (factor ** (i+1))\n",
    "\n",
    "    if params >= num_parameters:\n",
    "        break\n",
    "print(f\"params: {params}, factor:{factor}\")"
   ],
   "metadata": {
    "collapsed": false,
    "ExecuteTime": {
     "start_time": "2023-11-09T19:31:18.635424Z",
     "end_time": "2023-11-09T19:31:18.647932Z"
    }
   }
  },
  {
   "cell_type": "code",
   "execution_count": 83,
   "outputs": [
    {
     "name": "stdout",
     "output_type": "stream",
     "text": [
      "4\n",
      "3\n",
      "2\n",
      "1\n"
     ]
    }
   ],
   "source": [
    "# build layers\n",
    "layers = []\n",
    "for idx in range(n_layer):\n",
    "    i = n_layer-idx\n",
    "    print(i)\n",
    "\n",
    "    if idx == 0:\n",
    "        layers += [torch.nn.Linear(m, (factor ** (i-1)))]\n",
    "        layers += [torch.nn.ReLU()]\n",
    "    elif idx == (n_layer-1):\n",
    "        layers += [torch.nn.Linear(factor, n)]\n",
    "    else:\n",
    "        temp = (factor ** (i-1))\n",
    "        layers += [torch.nn.Linear(temp*factor, temp)]\n",
    "        layers += [torch.nn.ReLU()]"
   ],
   "metadata": {
    "collapsed": false,
    "ExecuteTime": {
     "start_time": "2023-11-09T19:31:05.950418Z",
     "end_time": "2023-11-09T19:31:05.965932Z"
    }
   }
  },
  {
   "cell_type": "code",
   "execution_count": 84,
   "outputs": [
    {
     "data": {
      "text/plain": "Sequential(\n  (0): Linear(in_features=500, out_features=8, bias=True)\n  (1): ReLU()\n  (2): Linear(in_features=8, out_features=4, bias=True)\n  (3): ReLU()\n  (4): Linear(in_features=4, out_features=2, bias=True)\n  (5): ReLU()\n  (6): Linear(in_features=2, out_features=1, bias=True)\n)"
     },
     "execution_count": 84,
     "metadata": {},
     "output_type": "execute_result"
    }
   ],
   "source": [
    "# build model\n",
    "module2 = torch.nn.Sequential(*layers)\n",
    "module2"
   ],
   "metadata": {
    "collapsed": false,
    "ExecuteTime": {
     "start_time": "2023-11-09T19:31:08.440639Z",
     "end_time": "2023-11-09T19:31:08.450151Z"
    }
   }
  },
  {
   "cell_type": "code",
   "execution_count": 85,
   "outputs": [
    {
     "name": "stdout",
     "output_type": "stream",
     "text": [
      "[4000, 8, 32, 4, 8, 2, 2, 1]\n",
      "4057\n"
     ]
    }
   ],
   "source": [
    "print([p.numel() for p in module2.parameters()])\n",
    "print(sum([p.numel() for p in module2.parameters()]))"
   ],
   "metadata": {
    "collapsed": false,
    "ExecuteTime": {
     "start_time": "2023-11-09T19:31:11.409186Z",
     "end_time": "2023-11-09T19:31:11.421237Z"
    }
   }
  },
  {
   "cell_type": "code",
   "execution_count": null,
   "outputs": [],
   "source": [],
   "metadata": {
    "collapsed": false
   }
  },
  {
   "cell_type": "code",
   "execution_count": null,
   "outputs": [],
   "source": [],
   "metadata": {
    "collapsed": false
   }
  },
  {
   "cell_type": "code",
   "execution_count": 65,
   "outputs": [],
   "source": [
    "q = 0\n",
    "for i in range(n_layer):\n",
    "    if i == 0:\n",
    "        q += n*factor\n",
    "    elif i == (n_layer-1):\n",
    "        q += m*(factor ** i)\n",
    "    else:\n",
    "        q += (factor ** i) * (factor ** (i+1))"
   ],
   "metadata": {
    "collapsed": false,
    "ExecuteTime": {
     "start_time": "2023-11-09T19:18:16.397880Z",
     "end_time": "2023-11-09T19:18:16.407388Z"
    }
   }
  },
  {
   "cell_type": "code",
   "execution_count": 66,
   "outputs": [
    {
     "data": {
      "text/plain": "2010"
     },
     "execution_count": 66,
     "metadata": {},
     "output_type": "execute_result"
    }
   ],
   "source": [
    "q"
   ],
   "metadata": {
    "collapsed": false,
    "ExecuteTime": {
     "start_time": "2023-11-09T19:18:16.902288Z",
     "end_time": "2023-11-09T19:18:16.929312Z"
    }
   }
  },
  {
   "cell_type": "code",
   "execution_count": 67,
   "outputs": [],
   "source": [
    "hidden_dim = int(num_parameters/q + 1)"
   ],
   "metadata": {
    "collapsed": false,
    "ExecuteTime": {
     "start_time": "2023-11-09T19:18:19.971881Z",
     "end_time": "2023-11-09T19:18:19.990905Z"
    }
   }
  },
  {
   "cell_type": "code",
   "execution_count": 68,
   "outputs": [
    {
     "data": {
      "text/plain": "1"
     },
     "execution_count": 68,
     "metadata": {},
     "output_type": "execute_result"
    }
   ],
   "source": [
    "hidden_dim"
   ],
   "metadata": {
    "collapsed": false,
    "ExecuteTime": {
     "start_time": "2023-11-09T19:18:20.262814Z",
     "end_time": "2023-11-09T19:18:20.269327Z"
    }
   }
  },
  {
   "cell_type": "code",
   "execution_count": 63,
   "outputs": [],
   "source": [
    "# build layers\n",
    "layers = []\n",
    "for idx in range(n_layer):\n",
    "    i = n_layer-idx+1\n",
    "\n",
    "    if idx == 0:\n",
    "        layers += [torch.nn.Linear(m, hidden_dim*(factor ** i))]\n",
    "        layers += [torch.nn.ReLU()]\n",
    "    elif idx == (n_layer-1):\n",
    "        layers += [torch.nn.Linear(hidden_dim*factor, n)]\n",
    "    else:\n",
    "        temp = hidden_dim*(factor ** (i-1))\n",
    "        layers += [torch.nn.Linear(temp*factor, temp)]\n",
    "        layers += [torch.nn.ReLU()]"
   ],
   "metadata": {
    "collapsed": false,
    "ExecuteTime": {
     "start_time": "2023-11-09T19:15:41.236872Z",
     "end_time": "2023-11-09T19:15:41.243872Z"
    }
   }
  },
  {
   "cell_type": "code",
   "execution_count": 64,
   "outputs": [
    {
     "data": {
      "text/plain": "[Linear(in_features=500, out_features=16, bias=True),\n ReLU(),\n Linear(in_features=8, out_features=4, bias=True),\n ReLU(),\n Linear(in_features=2, out_features=1, bias=True)]"
     },
     "execution_count": 64,
     "metadata": {},
     "output_type": "execute_result"
    }
   ],
   "source": [
    "layers"
   ],
   "metadata": {
    "collapsed": false,
    "ExecuteTime": {
     "start_time": "2023-11-09T19:15:42.440929Z",
     "end_time": "2023-11-09T19:15:42.461365Z"
    }
   }
  },
  {
   "cell_type": "code",
   "execution_count": 54,
   "outputs": [],
   "source": [
    "# build model\n",
    "module2 = torch.nn.Sequential(*layers)"
   ],
   "metadata": {
    "collapsed": false,
    "ExecuteTime": {
     "start_time": "2023-11-09T19:11:39.396341Z",
     "end_time": "2023-11-09T19:11:39.410357Z"
    }
   }
  },
  {
   "cell_type": "code",
   "execution_count": 56,
   "outputs": [
    {
     "name": "stdout",
     "output_type": "stream",
     "text": [
      "[8000, 16, 32, 4, 1, 1]\n",
      "8054\n"
     ]
    }
   ],
   "source": [
    "print([p.numel() for p in module2.parameters()])\n",
    "print(sum([p.numel() for p in module2.parameters()]))"
   ],
   "metadata": {
    "collapsed": false,
    "ExecuteTime": {
     "start_time": "2023-11-09T19:12:20.980160Z",
     "end_time": "2023-11-09T19:12:20.998680Z"
    }
   }
  }
 ],
 "metadata": {
  "kernelspec": {
   "display_name": "Python 3",
   "language": "python",
   "name": "python3"
  },
  "language_info": {
   "codemirror_mode": {
    "name": "ipython",
    "version": 2
   },
   "file_extension": ".py",
   "mimetype": "text/x-python",
   "name": "python",
   "nbconvert_exporter": "python",
   "pygments_lexer": "ipython2",
   "version": "2.7.6"
  }
 },
 "nbformat": 4,
 "nbformat_minor": 0
}
