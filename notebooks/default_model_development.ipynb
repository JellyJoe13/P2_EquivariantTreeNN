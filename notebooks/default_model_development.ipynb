{
 "cells": [
  {
   "cell_type": "markdown",
   "source": [
    "# Building default model"
   ],
   "metadata": {
    "collapsed": false
   }
  },
  {
   "cell_type": "code",
   "execution_count": 1,
   "metadata": {
    "collapsed": true,
    "ExecuteTime": {
     "start_time": "2023-11-10T07:19:17.940834Z",
     "end_time": "2023-11-10T07:19:18.005833Z"
    }
   },
   "outputs": [],
   "source": [
    "# idea: in simple proof of concept notebook a 2 layer mlp was used to make a default model.\n",
    "# replicate this by specifying the number of parameters in a funciton and the number of layers"
   ]
  },
  {
   "cell_type": "code",
   "execution_count": 2,
   "outputs": [],
   "source": [
    "import torch"
   ],
   "metadata": {
    "collapsed": false,
    "ExecuteTime": {
     "start_time": "2023-11-10T07:19:17.941835Z",
     "end_time": "2023-11-10T07:19:20.841551Z"
    }
   }
  },
  {
   "cell_type": "markdown",
   "source": [
    "## Result implementation"
   ],
   "metadata": {
    "collapsed": false
   }
  },
  {
   "cell_type": "code",
   "execution_count": 3,
   "outputs": [],
   "source": [
    "from etnn.nn.baseline import create_baseline_model, calc_params"
   ],
   "metadata": {
    "collapsed": false,
    "ExecuteTime": {
     "start_time": "2023-11-10T07:19:20.831553Z",
     "end_time": "2023-11-10T07:19:20.846553Z"
    }
   }
  },
  {
   "cell_type": "code",
   "execution_count": 4,
   "outputs": [
    {
     "name": "stdout",
     "output_type": "stream",
     "text": [
      "model: Sequential(\n",
      "  (0): Linear(in_features=600, out_features=8, bias=True)\n",
      "  (1): ReLU()\n",
      "  (2): Linear(in_features=8, out_features=1, bias=True)\n",
      "), should_use: True, model_params: 4817\n"
     ]
    }
   ],
   "source": [
    "model, should_use = create_baseline_model(\n",
    "    n_params=5000,\n",
    "    input_dim=12*50,\n",
    "    n_layer=2,\n",
    "    output_dim=1\n",
    ")\n",
    "print(f\"model: {model}, should_use: {should_use}, model_params: {calc_params(model)}\")"
   ],
   "metadata": {
    "collapsed": false,
    "ExecuteTime": {
     "start_time": "2023-11-10T07:19:20.847553Z",
     "end_time": "2023-11-10T07:19:20.884552Z"
    }
   }
  },
  {
   "cell_type": "code",
   "execution_count": 5,
   "outputs": [
    {
     "name": "stdout",
     "output_type": "stream",
     "text": [
      "model: Sequential(\n",
      "  (0): Linear(in_features=600, out_features=8, bias=True)\n",
      "  (1): ReLU()\n",
      "  (2): Linear(in_features=8, out_features=2, bias=True)\n",
      "  (3): ReLU()\n",
      "  (4): Linear(in_features=2, out_features=1, bias=True)\n",
      "), should_use: True, model_params: 4829\n"
     ]
    }
   ],
   "source": [
    "model, should_use = create_baseline_model(\n",
    "    n_params=5000,\n",
    "    input_dim=12*50,\n",
    "    n_layer=3,\n",
    "    output_dim=1\n",
    ")\n",
    "print(f\"model: {model}, should_use: {should_use}, model_params: {calc_params(model)}\")"
   ],
   "metadata": {
    "collapsed": false,
    "ExecuteTime": {
     "start_time": "2023-11-10T07:19:20.880552Z",
     "end_time": "2023-11-10T07:19:20.894552Z"
    }
   }
  },
  {
   "cell_type": "code",
   "execution_count": 5,
   "outputs": [],
   "source": [],
   "metadata": {
    "collapsed": false,
    "ExecuteTime": {
     "start_time": "2023-11-10T07:19:20.893553Z",
     "end_time": "2023-11-10T07:19:20.963574Z"
    }
   }
  },
  {
   "cell_type": "markdown",
   "source": [
    "## Simple first attempt - 2 layer"
   ],
   "metadata": {
    "collapsed": false
   }
  },
  {
   "cell_type": "code",
   "execution_count": 6,
   "outputs": [],
   "source": [
    "input_dim_elem = 10\n",
    "n_elem = 50\n",
    "output_dim = 1"
   ],
   "metadata": {
    "collapsed": false,
    "ExecuteTime": {
     "start_time": "2023-11-10T07:19:20.908555Z",
     "end_time": "2023-11-10T07:19:20.969574Z"
    }
   }
  },
  {
   "cell_type": "code",
   "execution_count": 7,
   "outputs": [],
   "source": [
    "num_parameters = 1000"
   ],
   "metadata": {
    "collapsed": false,
    "ExecuteTime": {
     "start_time": "2023-11-10T07:19:20.924552Z",
     "end_time": "2023-11-10T07:19:20.969574Z"
    }
   }
  },
  {
   "cell_type": "code",
   "execution_count": 8,
   "outputs": [],
   "source": [
    "# a linear layer [torch.nn.Linear(n,m)] has n*m parameters.\n",
    "# if I say I want to have a 2 layer mlp this means I have m*x + x*n parameters. In other words: num_par = x * (m+n)\n",
    "# let's confirm it"
   ],
   "metadata": {
    "collapsed": false,
    "ExecuteTime": {
     "start_time": "2023-11-10T07:19:20.941552Z",
     "end_time": "2023-11-10T07:19:20.969574Z"
    }
   }
  },
  {
   "cell_type": "code",
   "execution_count": 9,
   "outputs": [],
   "source": [
    "n = output_dim\n",
    "m = input_dim_elem * n_elem"
   ],
   "metadata": {
    "collapsed": false,
    "ExecuteTime": {
     "start_time": "2023-11-10T07:19:20.956575Z",
     "end_time": "2023-11-10T07:19:20.981574Z"
    }
   }
  },
  {
   "cell_type": "code",
   "execution_count": 10,
   "outputs": [
    {
     "data": {
      "text/plain": "2"
     },
     "execution_count": 10,
     "metadata": {},
     "output_type": "execute_result"
    }
   ],
   "source": [
    "hidden_dim = int(num_parameters/(m + n) + 1)\n",
    "hidden_dim"
   ],
   "metadata": {
    "collapsed": false,
    "ExecuteTime": {
     "start_time": "2023-11-10T07:19:20.972576Z",
     "end_time": "2023-11-10T07:19:21.015574Z"
    }
   }
  },
  {
   "cell_type": "code",
   "execution_count": 11,
   "outputs": [],
   "source": [
    "hidden_dim = 3"
   ],
   "metadata": {
    "collapsed": false,
    "ExecuteTime": {
     "start_time": "2023-11-10T07:19:20.987575Z",
     "end_time": "2023-11-10T07:19:21.026574Z"
    }
   }
  },
  {
   "cell_type": "code",
   "execution_count": 12,
   "outputs": [],
   "source": [
    "module1 = torch.nn.Sequential(\n",
    "    torch.nn.Linear(m, hidden_dim),\n",
    "    torch.nn.ReLU(),\n",
    "    torch.nn.Linear(hidden_dim, n)\n",
    ")"
   ],
   "metadata": {
    "collapsed": false,
    "ExecuteTime": {
     "start_time": "2023-11-10T07:19:21.004575Z",
     "end_time": "2023-11-10T07:19:21.027574Z"
    }
   }
  },
  {
   "cell_type": "code",
   "execution_count": 13,
   "outputs": [
    {
     "data": {
      "text/plain": "[1500, 3, 3, 1]"
     },
     "execution_count": 13,
     "metadata": {},
     "output_type": "execute_result"
    }
   ],
   "source": [
    "[p.numel() for p in module1.parameters()]"
   ],
   "metadata": {
    "collapsed": false,
    "ExecuteTime": {
     "start_time": "2023-11-10T07:19:21.020576Z",
     "end_time": "2023-11-10T07:19:21.035574Z"
    }
   }
  },
  {
   "cell_type": "code",
   "execution_count": 14,
   "outputs": [
    {
     "data": {
      "text/plain": "1507"
     },
     "execution_count": 14,
     "metadata": {},
     "output_type": "execute_result"
    }
   ],
   "source": [
    "sum([p.numel() for p in module1.parameters()])"
   ],
   "metadata": {
    "collapsed": false,
    "ExecuteTime": {
     "start_time": "2023-11-10T07:19:21.037576Z",
     "end_time": "2023-11-10T07:19:21.070575Z"
    }
   }
  },
  {
   "cell_type": "markdown",
   "source": [
    "## Get a specific number of layers"
   ],
   "metadata": {
    "collapsed": false
   }
  },
  {
   "cell_type": "code",
   "execution_count": 15,
   "outputs": [],
   "source": [
    "# good that worked quite well\n",
    "# now we do not have only have 2 layers but more.\n",
    "# meaning: m*x1 + x1*x2 + ... + xn*n = n_param\n",
    "# ... which is kind of difficult. If we say that x_i = factor * x_(i-1) then it becomes easier\n",
    "# the formula turns into: n_param = m*factor^(n_layer-1) + ... + factor*n"
   ],
   "metadata": {
    "collapsed": false,
    "ExecuteTime": {
     "start_time": "2023-11-10T07:19:21.051577Z",
     "end_time": "2023-11-10T07:19:21.100574Z"
    }
   }
  },
  {
   "cell_type": "code",
   "execution_count": 16,
   "outputs": [],
   "source": [
    "n_layer = 4"
   ],
   "metadata": {
    "collapsed": false,
    "ExecuteTime": {
     "start_time": "2023-11-10T07:19:21.082575Z",
     "end_time": "2023-11-10T07:19:21.110574Z"
    }
   }
  },
  {
   "cell_type": "code",
   "execution_count": 17,
   "outputs": [
    {
     "name": "stdout",
     "output_type": "stream",
     "text": [
      "1 2\n",
      "2 4\n",
      "4 8\n",
      "500 8\n",
      "params: 4042, factor:2\n"
     ]
    }
   ],
   "source": [
    "for factor in range(2, 20, 1):\n",
    "    params = 0\n",
    "    for i in range(n_layer):\n",
    "        if i == 0:\n",
    "            print(n, factor)\n",
    "            params += n*factor\n",
    "        elif i == (n_layer-1):\n",
    "            print(m, factor**i)\n",
    "            params += m*(factor ** (i))\n",
    "        else:\n",
    "            print(factor**i, factor**(i+1))\n",
    "            params += (factor ** i) * (factor ** (i+1))\n",
    "\n",
    "    if params >= num_parameters:\n",
    "        break\n",
    "print(f\"params: {params}, factor:{factor}\")"
   ],
   "metadata": {
    "collapsed": false,
    "ExecuteTime": {
     "start_time": "2023-11-10T07:19:21.099574Z",
     "end_time": "2023-11-10T07:19:21.120575Z"
    }
   }
  },
  {
   "cell_type": "code",
   "execution_count": 18,
   "outputs": [
    {
     "name": "stdout",
     "output_type": "stream",
     "text": [
      "4\n",
      "3\n",
      "2\n",
      "1\n"
     ]
    }
   ],
   "source": [
    "# build layers\n",
    "layers = []\n",
    "for idx in range(n_layer):\n",
    "    i = n_layer-idx\n",
    "    print(i)\n",
    "\n",
    "    if idx == 0:\n",
    "        layers += [torch.nn.Linear(m, (factor ** (i-1)))]\n",
    "        layers += [torch.nn.ReLU()]\n",
    "    elif idx == (n_layer-1):\n",
    "        layers += [torch.nn.Linear(factor, n)]\n",
    "    else:\n",
    "        temp = (factor ** (i-1))\n",
    "        layers += [torch.nn.Linear(temp*factor, temp)]\n",
    "        layers += [torch.nn.ReLU()]"
   ],
   "metadata": {
    "collapsed": false,
    "ExecuteTime": {
     "start_time": "2023-11-10T07:19:21.116576Z",
     "end_time": "2023-11-10T07:19:21.167574Z"
    }
   }
  },
  {
   "cell_type": "code",
   "execution_count": 19,
   "outputs": [
    {
     "data": {
      "text/plain": "Sequential(\n  (0): Linear(in_features=500, out_features=8, bias=True)\n  (1): ReLU()\n  (2): Linear(in_features=8, out_features=4, bias=True)\n  (3): ReLU()\n  (4): Linear(in_features=4, out_features=2, bias=True)\n  (5): ReLU()\n  (6): Linear(in_features=2, out_features=1, bias=True)\n)"
     },
     "execution_count": 19,
     "metadata": {},
     "output_type": "execute_result"
    }
   ],
   "source": [
    "# build model\n",
    "module2 = torch.nn.Sequential(*layers)\n",
    "module2"
   ],
   "metadata": {
    "collapsed": false,
    "ExecuteTime": {
     "start_time": "2023-11-10T07:19:21.128575Z",
     "end_time": "2023-11-10T07:19:21.171576Z"
    }
   }
  },
  {
   "cell_type": "code",
   "execution_count": 20,
   "outputs": [
    {
     "name": "stdout",
     "output_type": "stream",
     "text": [
      "[4000, 8, 32, 4, 8, 2, 2, 1]\n",
      "4057\n"
     ]
    }
   ],
   "source": [
    "print([p.numel() for p in module2.parameters()])\n",
    "print(sum([p.numel() for p in module2.parameters()]))"
   ],
   "metadata": {
    "collapsed": false,
    "ExecuteTime": {
     "start_time": "2023-11-10T07:19:21.144574Z",
     "end_time": "2023-11-10T07:19:21.172575Z"
    }
   }
  },
  {
   "cell_type": "code",
   "execution_count": 20,
   "outputs": [],
   "source": [],
   "metadata": {
    "collapsed": false,
    "ExecuteTime": {
     "start_time": "2023-11-10T07:19:21.158575Z",
     "end_time": "2023-11-10T07:19:21.175575Z"
    }
   }
  },
  {
   "cell_type": "code",
   "execution_count": 20,
   "outputs": [],
   "source": [],
   "metadata": {
    "collapsed": false,
    "ExecuteTime": {
     "start_time": "2023-11-10T07:19:21.173575Z",
     "end_time": "2023-11-10T07:19:21.219574Z"
    }
   }
  },
  {
   "cell_type": "code",
   "execution_count": 21,
   "outputs": [],
   "source": [
    "q = 0\n",
    "for i in range(n_layer):\n",
    "    if i == 0:\n",
    "        q += n*factor\n",
    "    elif i == (n_layer-1):\n",
    "        q += m*(factor ** i)\n",
    "    else:\n",
    "        q += (factor ** i) * (factor ** (i+1))"
   ],
   "metadata": {
    "collapsed": false,
    "ExecuteTime": {
     "start_time": "2023-11-10T07:19:21.190575Z",
     "end_time": "2023-11-10T07:19:21.232574Z"
    }
   }
  },
  {
   "cell_type": "code",
   "execution_count": 22,
   "outputs": [
    {
     "data": {
      "text/plain": "4042"
     },
     "execution_count": 22,
     "metadata": {},
     "output_type": "execute_result"
    }
   ],
   "source": [
    "q"
   ],
   "metadata": {
    "collapsed": false,
    "ExecuteTime": {
     "start_time": "2023-11-10T07:19:21.206575Z",
     "end_time": "2023-11-10T07:19:21.233574Z"
    }
   }
  },
  {
   "cell_type": "code",
   "execution_count": 23,
   "outputs": [],
   "source": [
    "hidden_dim = int(num_parameters/q + 1)"
   ],
   "metadata": {
    "collapsed": false,
    "ExecuteTime": {
     "start_time": "2023-11-10T07:19:21.221575Z",
     "end_time": "2023-11-10T07:19:21.248574Z"
    }
   }
  },
  {
   "cell_type": "code",
   "execution_count": 24,
   "outputs": [
    {
     "data": {
      "text/plain": "1"
     },
     "execution_count": 24,
     "metadata": {},
     "output_type": "execute_result"
    }
   ],
   "source": [
    "hidden_dim"
   ],
   "metadata": {
    "collapsed": false,
    "ExecuteTime": {
     "start_time": "2023-11-10T07:19:21.236576Z",
     "end_time": "2023-11-10T07:19:21.280575Z"
    }
   }
  },
  {
   "cell_type": "code",
   "execution_count": 25,
   "outputs": [],
   "source": [
    "# build layers\n",
    "layers = []\n",
    "for idx in range(n_layer):\n",
    "    i = n_layer-idx+1\n",
    "\n",
    "    if idx == 0:\n",
    "        layers += [torch.nn.Linear(m, hidden_dim*(factor ** i))]\n",
    "        layers += [torch.nn.ReLU()]\n",
    "    elif idx == (n_layer-1):\n",
    "        layers += [torch.nn.Linear(hidden_dim*factor, n)]\n",
    "    else:\n",
    "        temp = hidden_dim*(factor ** (i-1))\n",
    "        layers += [torch.nn.Linear(temp*factor, temp)]\n",
    "        layers += [torch.nn.ReLU()]"
   ],
   "metadata": {
    "collapsed": false,
    "ExecuteTime": {
     "start_time": "2023-11-10T07:19:21.252575Z",
     "end_time": "2023-11-10T07:19:21.280575Z"
    }
   }
  },
  {
   "cell_type": "code",
   "execution_count": 26,
   "outputs": [
    {
     "data": {
      "text/plain": "[Linear(in_features=500, out_features=32, bias=True),\n ReLU(),\n Linear(in_features=16, out_features=8, bias=True),\n ReLU(),\n Linear(in_features=8, out_features=4, bias=True),\n ReLU(),\n Linear(in_features=2, out_features=1, bias=True)]"
     },
     "execution_count": 26,
     "metadata": {},
     "output_type": "execute_result"
    }
   ],
   "source": [
    "layers"
   ],
   "metadata": {
    "collapsed": false,
    "ExecuteTime": {
     "start_time": "2023-11-10T07:19:21.270576Z",
     "end_time": "2023-11-10T07:19:21.284575Z"
    }
   }
  },
  {
   "cell_type": "code",
   "execution_count": 27,
   "outputs": [],
   "source": [
    "# build model\n",
    "module2 = torch.nn.Sequential(*layers)"
   ],
   "metadata": {
    "collapsed": false,
    "ExecuteTime": {
     "start_time": "2023-11-10T07:19:21.284575Z",
     "end_time": "2023-11-10T07:19:21.299574Z"
    }
   }
  },
  {
   "cell_type": "code",
   "execution_count": 28,
   "outputs": [
    {
     "name": "stdout",
     "output_type": "stream",
     "text": [
      "[16000, 32, 128, 8, 32, 4, 2, 1]\n",
      "16207\n"
     ]
    }
   ],
   "source": [
    "print([p.numel() for p in module2.parameters()])\n",
    "print(sum([p.numel() for p in module2.parameters()]))"
   ],
   "metadata": {
    "collapsed": false,
    "ExecuteTime": {
     "start_time": "2023-11-10T07:19:21.300575Z",
     "end_time": "2023-11-10T07:19:21.332992Z"
    }
   }
  }
 ],
 "metadata": {
  "kernelspec": {
   "display_name": "Python 3",
   "language": "python",
   "name": "python3"
  },
  "language_info": {
   "codemirror_mode": {
    "name": "ipython",
    "version": 2
   },
   "file_extension": ".py",
   "mimetype": "text/x-python",
   "name": "python",
   "nbconvert_exporter": "python",
   "pygments_lexer": "ipython2",
   "version": "2.7.6"
  }
 },
 "nbformat": 4,
 "nbformat_minor": 0
}
