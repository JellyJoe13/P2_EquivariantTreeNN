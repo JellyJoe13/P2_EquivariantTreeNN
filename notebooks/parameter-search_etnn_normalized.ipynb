{
 "cells": [
  {
   "cell_type": "markdown",
   "source": [
    "# Parameter search with optuna - ETNN"
   ],
   "metadata": {
    "collapsed": false
   }
  },
  {
   "cell_type": "markdown",
   "source": [
    "## Importing section"
   ],
   "metadata": {
    "collapsed": false
   }
  },
  {
   "cell_type": "code",
   "execution_count": 1,
   "metadata": {
    "collapsed": true,
    "ExecuteTime": {
     "start_time": "2023-12-08T16:13:03.800505Z",
     "end_time": "2023-12-08T16:13:05.743771Z"
    }
   },
   "outputs": [],
   "source": [
    "import optuna\n",
    "\n",
    "import numpy as np\n",
    "\n",
    "import torch\n",
    "from sklearn.metrics import r2_score\n",
    "from torch.utils.data import random_split, DataLoader\n",
    "\n",
    "from etnn import TreeNode\n",
    "from etnn.nn.layer_framework import LayerManagementFramework\n",
    "from etnn.routines.run_config import choice_dataset, choice_trainloader, choice_loss, choice_optim\n",
    "from etnn.tools.training import train_epoch, eval_epoch\n",
    "from etnn.tools.training_tools import ConfigStore, seeding_all"
   ]
  },
  {
   "cell_type": "markdown",
   "source": [
    "## Definition of objective function for ETNN"
   ],
   "metadata": {
    "collapsed": false
   }
  },
  {
   "cell_type": "code",
   "execution_count": 2,
   "outputs": [],
   "source": [
    "def objective(trial):\n",
    "    # init default config\n",
    "    config = ConfigStore(\n",
    "        in_dim=15,\n",
    "        hidden_dim=trial.suggest_int(\"hidden_dim\", 16, 512, step=16),\n",
    "        out_dim=1,\n",
    "        k=trial.suggest_int(\"k\", 1, 5),\n",
    "        dataset=-1,\n",
    "        ds_size=10_000,\n",
    "        num_gondolas=10,\n",
    "        num_part_pg=5,\n",
    "        loss_name='mse',\n",
    "        optimizer_name='adam',\n",
    "        num_max_epochs=30, # real: 100\n",
    "        learning_rate=trial.suggest_float(\"learning_rate\", 1e-5, 1e-2, log=True),\n",
    "        batch_size=1024,\n",
    "        early_stop_tol=5,\n",
    "        use_equal_batcher=trial.suggest_categorical(\"batcher\", [True, False]),\n",
    "        seed=420,\n",
    "        label_type=label,\n",
    "        final_label_factor=1/1000\n",
    "    )\n",
    "\n",
    "    # loading dataset\n",
    "    dataset, df_index = choice_dataset(config, dataset_path)\n",
    "    # splitting off test dataset\n",
    "    generator = torch.Generator().manual_seed(config.seed)\n",
    "    train_ds, val_ds, _ = random_split(\n",
    "        dataset,\n",
    "        [1 - test_perc - val_perc, val_perc, test_perc],\n",
    "        generator=generator\n",
    "    )\n",
    "\n",
    "    # loaders\n",
    "    train_loader = choice_trainloader(config, df_index, train_ds)\n",
    "    val_loader = DataLoader(val_ds, batch_size=4 * config.batch_size, shuffle=False)\n",
    "\n",
    "    # build tree\n",
    "    tree_structure = TreeNode(\n",
    "        node_type=\"C\",\n",
    "        children=[\n",
    "            TreeNode(\"P\", [TreeNode(\"E\", config.num_part_pg)])\n",
    "            for _ in range(config.num_gondolas)\n",
    "        ]\n",
    "    )\n",
    "\n",
    "    # define device\n",
    "    device = \"cuda\" if torch.cuda.is_available() else \"cpu\"\n",
    "\n",
    "    # set seed for reproducability\n",
    "    seeding_all(config.seed)\n",
    "\n",
    "    # define model\n",
    "    model = LayerManagementFramework(\n",
    "        in_dim=config.in_dim,\n",
    "        tree=tree_structure,\n",
    "        hidden_dim=config.hidden_dim,\n",
    "        out_dim=config.out_dim,\n",
    "        k=config.k\n",
    "    ).to(device)\n",
    "\n",
    "    # learning tools\n",
    "    criterion = choice_loss(config)\n",
    "    optimizer = choice_optim(config, model)\n",
    "\n",
    "    # init score list\n",
    "    score_list = []\n",
    "\n",
    "    # train for specified number of epochs\n",
    "    for epoch in range(config.num_max_epochs):\n",
    "        _, _, _ = train_epoch(\n",
    "            model,\n",
    "            train_loader,\n",
    "            optimizer,\n",
    "            device,\n",
    "            criterion\n",
    "        )\n",
    "\n",
    "        _, val_true_y, val_pred_y = eval_epoch(\n",
    "            model,\n",
    "            val_loader,\n",
    "            device,\n",
    "            criterion\n",
    "        )\n",
    "\n",
    "        # calc r2 score and append\n",
    "        score = r2_score(y_true=val_true_y, y_pred=val_pred_y)\n",
    "        score_list += [score]\n",
    "        trial.report(score, epoch)\n",
    "\n",
    "    # calculate objective\n",
    "    # display(score_list)\n",
    "    # idea: last x r2 scores (why not last one? for stability purposes)\n",
    "    obj = np.array(score_list)[-stability_count:]\n",
    "    return np.mean(obj)"
   ],
   "metadata": {
    "collapsed": false,
    "ExecuteTime": {
     "start_time": "2023-12-08T16:13:05.741767Z",
     "end_time": "2023-12-08T16:13:05.759035Z"
    }
   }
  },
  {
   "cell_type": "markdown",
   "source": [
    "## Tree advanced label"
   ],
   "metadata": {
    "collapsed": false
   }
  },
  {
   "cell_type": "code",
   "execution_count": 3,
   "outputs": [],
   "source": [
    "# setting global parameters\n",
    "dataset_path = \"../datasets/\"\n",
    "label = \"tree_advanced\" # alt: tree or default\n",
    "test_perc = 0.3\n",
    "val_perc = 0.21\n",
    "stability_count = 5\n",
    "n_trials = 50"
   ],
   "metadata": {
    "collapsed": false,
    "ExecuteTime": {
     "start_time": "2023-12-08T16:13:05.752773Z",
     "end_time": "2023-12-08T16:13:05.770041Z"
    }
   }
  },
  {
   "cell_type": "code",
   "execution_count": 4,
   "outputs": [
    {
     "name": "stderr",
     "output_type": "stream",
     "text": [
      "[I 2023-12-08 16:13:05,767] A new study created in memory with name: Best tree advanced label config\n"
     ]
    },
    {
     "data": {
      "text/plain": "  0%|          | 0/50 [00:00<?, ?it/s]",
      "application/vnd.jupyter.widget-view+json": {
       "version_major": 2,
       "version_minor": 0,
       "model_id": "8652c0d769db4891add952725d7ac420"
      }
     },
     "metadata": {},
     "output_type": "display_data"
    },
    {
     "name": "stdout",
     "output_type": "stream",
     "text": [
      "[I 2023-12-08 16:14:16,353] Trial 0 finished with value: 0.6197993166565362 and parameters: {'hidden_dim': 48, 'k': 2, 'learning_rate': 0.001404760921273804, 'batcher': True}. Best is trial 0 with value: 0.6197993166565362.\n",
      "[I 2023-12-08 16:15:25,168] Trial 1 finished with value: 0.5448271922035102 and parameters: {'hidden_dim': 48, 'k': 3, 'learning_rate': 0.005479435647565049, 'batcher': False}. Best is trial 0 with value: 0.6197993166565362.\n",
      "[I 2023-12-08 16:16:39,430] Trial 2 finished with value: 0.8597172263184693 and parameters: {'hidden_dim': 208, 'k': 2, 'learning_rate': 0.0005585792205323666, 'batcher': True}. Best is trial 2 with value: 0.8597172263184693.\n",
      "[I 2023-12-08 16:17:53,717] Trial 3 finished with value: 0.7148301882001483 and parameters: {'hidden_dim': 240, 'k': 2, 'learning_rate': 0.001160436782958456, 'batcher': False}. Best is trial 2 with value: 0.8597172263184693.\n",
      "[I 2023-12-08 16:19:07,696] Trial 4 finished with value: 0.8753248679082833 and parameters: {'hidden_dim': 144, 'k': 5, 'learning_rate': 0.001576383668485602, 'batcher': True}. Best is trial 4 with value: 0.8753248679082833.\n",
      "[I 2023-12-08 16:20:26,513] Trial 5 finished with value: 0.9099226974118475 and parameters: {'hidden_dim': 512, 'k': 2, 'learning_rate': 0.0006959944501705176, 'batcher': True}. Best is trial 5 with value: 0.9099226974118475.\n",
      "[I 2023-12-08 16:21:44,923] Trial 6 finished with value: 0.7802085227353678 and parameters: {'hidden_dim': 464, 'k': 3, 'learning_rate': 8.187444945756457e-05, 'batcher': True}. Best is trial 5 with value: 0.9099226974118475.\n",
      "[I 2023-12-08 16:23:01,388] Trial 7 finished with value: 0.7566673849318997 and parameters: {'hidden_dim': 384, 'k': 4, 'learning_rate': 4.098647964471119e-05, 'batcher': False}. Best is trial 5 with value: 0.9099226974118475.\n",
      "[I 2023-12-08 16:24:17,673] Trial 8 finished with value: 0.7909518047061879 and parameters: {'hidden_dim': 384, 'k': 3, 'learning_rate': 6.811611750361353e-05, 'batcher': False}. Best is trial 5 with value: 0.9099226974118475.\n",
      "[I 2023-12-08 16:25:35,403] Trial 9 finished with value: 0.9595741818019136 and parameters: {'hidden_dim': 448, 'k': 3, 'learning_rate': 0.0006608060991418367, 'batcher': True}. Best is trial 9 with value: 0.9595741818019136.\n",
      "[I 2023-12-08 16:26:50,840] Trial 10 finished with value: -75.17515193942273 and parameters: {'hidden_dim': 352, 'k': 1, 'learning_rate': 1.0078691000011817e-05, 'batcher': True}. Best is trial 9 with value: 0.9595741818019136.\n",
      "[I 2023-12-08 16:28:13,405] Trial 11 finished with value: 0.843758820577656 and parameters: {'hidden_dim': 512, 'k': 1, 'learning_rate': 0.00024118992602137769, 'batcher': True}. Best is trial 9 with value: 0.9595741818019136.\n",
      "[I 2023-12-08 16:29:47,709] Trial 12 finished with value: 0.8913412815182487 and parameters: {'hidden_dim': 512, 'k': 4, 'learning_rate': 0.00035409989612100246, 'batcher': True}. Best is trial 9 with value: 0.9595741818019136.\n",
      "[I 2023-12-08 16:31:18,126] Trial 13 finished with value: -1.8920572730565095 and parameters: {'hidden_dim': 432, 'k': 4, 'learning_rate': 0.008434656765601439, 'batcher': True}. Best is trial 9 with value: 0.9595741818019136.\n",
      "[I 2023-12-08 16:32:36,038] Trial 14 finished with value: 0.935461201545491 and parameters: {'hidden_dim': 352, 'k': 2, 'learning_rate': 0.0029699696103963587, 'batcher': True}. Best is trial 9 with value: 0.9595741818019136.\n",
      "[I 2023-12-08 16:33:53,445] Trial 15 finished with value: 0.8742560947853569 and parameters: {'hidden_dim': 288, 'k': 1, 'learning_rate': 0.003291209794169712, 'batcher': True}. Best is trial 9 with value: 0.9595741818019136.\n",
      "[I 2023-12-08 16:35:11,656] Trial 16 finished with value: 0.9536893649445934 and parameters: {'hidden_dim': 336, 'k': 5, 'learning_rate': 0.002964204811271206, 'batcher': True}. Best is trial 9 with value: 0.9595741818019136.\n",
      "[I 2023-12-08 16:36:28,891] Trial 17 finished with value: 0.9489909342861061 and parameters: {'hidden_dim': 304, 'k': 5, 'learning_rate': 0.0022879673016592, 'batcher': True}. Best is trial 9 with value: 0.9595741818019136.\n",
      "[I 2023-12-08 16:37:58,019] Trial 18 finished with value: 0.7669588289206812 and parameters: {'hidden_dim': 176, 'k': 5, 'learning_rate': 0.0073638230929460756, 'batcher': False}. Best is trial 9 with value: 0.9595741818019136.\n",
      "[I 2023-12-08 16:39:19,818] Trial 19 finished with value: 0.6731390510451192 and parameters: {'hidden_dim': 432, 'k': 4, 'learning_rate': 0.0038000602737641746, 'batcher': True}. Best is trial 9 with value: 0.9595741818019136.\n",
      "[I 2023-12-08 16:40:37,983] Trial 20 finished with value: 0.9511847335512782 and parameters: {'hidden_dim': 336, 'k': 4, 'learning_rate': 0.0008537376641696946, 'batcher': True}. Best is trial 9 with value: 0.9595741818019136.\n",
      "[I 2023-12-08 16:41:55,950] Trial 21 finished with value: 0.9271358154892415 and parameters: {'hidden_dim': 320, 'k': 4, 'learning_rate': 0.0009282020029547123, 'batcher': True}. Best is trial 9 with value: 0.9595741818019136.\n",
      "[I 2023-12-08 16:43:17,236] Trial 22 finished with value: -1.2548826773943234 and parameters: {'hidden_dim': 448, 'k': 5, 'learning_rate': 0.002207375464703925, 'batcher': True}. Best is trial 9 with value: 0.9595741818019136.\n",
      "[I 2023-12-08 16:44:34,644] Trial 23 finished with value: 0.8919899439766409 and parameters: {'hidden_dim': 384, 'k': 4, 'learning_rate': 0.000481378059326854, 'batcher': True}. Best is trial 9 with value: 0.9595741818019136.\n",
      "[I 2023-12-08 16:45:51,673] Trial 24 finished with value: 0.8814815197241158 and parameters: {'hidden_dim': 240, 'k': 3, 'learning_rate': 0.0009198571414129911, 'batcher': True}. Best is trial 9 with value: 0.9595741818019136.\n",
      "[I 2023-12-08 16:47:09,072] Trial 25 finished with value: 0.8653990172174797 and parameters: {'hidden_dim': 336, 'k': 5, 'learning_rate': 0.001621634539006375, 'batcher': True}. Best is trial 9 with value: 0.9595741818019136.\n",
      "[I 2023-12-08 16:48:25,949] Trial 26 finished with value: 0.7461056502929739 and parameters: {'hidden_dim': 272, 'k': 3, 'learning_rate': 0.00030001973152163016, 'batcher': False}. Best is trial 9 with value: 0.9595741818019136.\n",
      "[I 2023-12-08 16:49:45,030] Trial 27 finished with value: -0.1880158619363575 and parameters: {'hidden_dim': 400, 'k': 4, 'learning_rate': 0.004784817877786826, 'batcher': True}. Best is trial 9 with value: 0.9595741818019136.\n",
      "[I 2023-12-08 16:50:59,651] Trial 28 finished with value: 0.9115398214099691 and parameters: {'hidden_dim': 128, 'k': 5, 'learning_rate': 0.009884794555867635, 'batcher': True}. Best is trial 9 with value: 0.9595741818019136.\n",
      "[I 2023-12-08 16:52:20,394] Trial 29 finished with value: 0.9145336426785514 and parameters: {'hidden_dim': 480, 'k': 3, 'learning_rate': 0.0013315650424076367, 'batcher': True}. Best is trial 9 with value: 0.9595741818019136.\n",
      "[I 2023-12-08 16:53:39,609] Trial 30 finished with value: 0.7177944922461311 and parameters: {'hidden_dim': 416, 'k': 4, 'learning_rate': 0.0021422271386079806, 'batcher': True}. Best is trial 9 with value: 0.9595741818019136.\n",
      "[I 2023-12-08 16:54:57,186] Trial 31 finished with value: 0.8217055838615359 and parameters: {'hidden_dim': 304, 'k': 5, 'learning_rate': 0.0023358646462090338, 'batcher': True}. Best is trial 9 with value: 0.9595741818019136.\n",
      "[I 2023-12-08 16:56:15,464] Trial 32 finished with value: 0.8740721882379056 and parameters: {'hidden_dim': 352, 'k': 5, 'learning_rate': 0.005247350684433048, 'batcher': True}. Best is trial 9 with value: 0.9595741818019136.\n",
      "[I 2023-12-08 16:57:41,272] Trial 33 finished with value: 0.8915329007533608 and parameters: {'hidden_dim': 256, 'k': 5, 'learning_rate': 0.0007746403570398422, 'batcher': True}. Best is trial 9 with value: 0.9595741818019136.\n",
      "[I 2023-12-08 16:59:00,461] Trial 34 finished with value: 0.5826348881724319 and parameters: {'hidden_dim': 16, 'k': 5, 'learning_rate': 0.0012731480166286637, 'batcher': False}. Best is trial 9 with value: 0.9595741818019136.\n",
      "[I 2023-12-08 17:00:29,221] Trial 35 finished with value: 0.9444054621775146 and parameters: {'hidden_dim': 208, 'k': 4, 'learning_rate': 0.0035407297118379534, 'batcher': True}. Best is trial 9 with value: 0.9595741818019136.\n",
      "[I 2023-12-08 17:01:59,654] Trial 36 finished with value: 0.8891396348822858 and parameters: {'hidden_dim': 304, 'k': 3, 'learning_rate': 0.0017754257974663, 'batcher': True}. Best is trial 9 with value: 0.9595741818019136.\n",
      "[I 2023-12-08 17:03:14,964] Trial 37 finished with value: 0.8971335152877986 and parameters: {'hidden_dim': 208, 'k': 5, 'learning_rate': 0.00059926347430882, 'batcher': True}. Best is trial 9 with value: 0.9595741818019136.\n",
      "[I 2023-12-08 17:04:31,237] Trial 38 finished with value: 0.8433353800672057 and parameters: {'hidden_dim': 320, 'k': 2, 'learning_rate': 0.0011229825392547225, 'batcher': False}. Best is trial 9 with value: 0.9595741818019136.\n",
      "[I 2023-12-08 17:05:48,418] Trial 39 finished with value: 0.321648744026296 and parameters: {'hidden_dim': 368, 'k': 3, 'learning_rate': 0.0024312291299700313, 'batcher': True}. Best is trial 9 with value: 0.9595741818019136.\n",
      "[I 2023-12-08 17:06:59,196] Trial 40 finished with value: 0.908053357743327 and parameters: {'hidden_dim': 96, 'k': 4, 'learning_rate': 0.0015929697914174353, 'batcher': True}. Best is trial 9 with value: 0.9595741818019136.\n",
      "[I 2023-12-08 17:08:16,423] Trial 41 finished with value: 0.7683267938752183 and parameters: {'hidden_dim': 224, 'k': 4, 'learning_rate': 0.004279266517282998, 'batcher': True}. Best is trial 9 with value: 0.9595741818019136.\n",
      "[I 2023-12-08 17:09:34,385] Trial 42 finished with value: 0.9624972744175471 and parameters: {'hidden_dim': 176, 'k': 3, 'learning_rate': 0.005816868281625584, 'batcher': True}. Best is trial 42 with value: 0.9624972744175471.\n",
      "[I 2023-12-08 17:10:52,522] Trial 43 finished with value: 0.9512198118791467 and parameters: {'hidden_dim': 176, 'k': 3, 'learning_rate': 0.004870918726536509, 'batcher': True}. Best is trial 42 with value: 0.9624972744175471.\n",
      "[I 2023-12-08 17:12:10,540] Trial 44 finished with value: 0.8825580607239463 and parameters: {'hidden_dim': 160, 'k': 3, 'learning_rate': 0.006031629953441339, 'batcher': True}. Best is trial 42 with value: 0.9624972744175471.\n",
      "[I 2023-12-08 17:13:22,715] Trial 45 finished with value: 0.9409339959286296 and parameters: {'hidden_dim': 96, 'k': 2, 'learning_rate': 0.006806148657401179, 'batcher': True}. Best is trial 42 with value: 0.9624972744175471.\n",
      "[I 2023-12-08 17:14:40,649] Trial 46 finished with value: 0.7704456433617348 and parameters: {'hidden_dim': 176, 'k': 3, 'learning_rate': 0.005317709823666971, 'batcher': False}. Best is trial 42 with value: 0.9624972744175471.\n",
      "[I 2023-12-08 17:15:54,185] Trial 47 finished with value: 0.819100794227219 and parameters: {'hidden_dim': 112, 'k': 3, 'learning_rate': 0.003089734630485245, 'batcher': True}. Best is trial 42 with value: 0.9624972744175471.\n",
      "[I 2023-12-08 17:17:07,294] Trial 48 finished with value: 0.8576877176100423 and parameters: {'hidden_dim': 64, 'k': 3, 'learning_rate': 0.008300944872029354, 'batcher': True}. Best is trial 42 with value: 0.9624972744175471.\n",
      "[I 2023-12-08 17:18:24,711] Trial 49 finished with value: -0.10974524102122243 and parameters: {'hidden_dim': 480, 'k': 2, 'learning_rate': 0.004168511188051971, 'batcher': True}. Best is trial 42 with value: 0.9624972744175471.\n"
     ]
    }
   ],
   "source": [
    "study_tree_advanced = optuna.create_study(study_name=\"Best tree advanced label config\", directions=['maximize'])\n",
    "study_tree_advanced.optimize(objective, n_trials=n_trials, show_progress_bar=True)"
   ],
   "metadata": {
    "collapsed": false,
    "ExecuteTime": {
     "start_time": "2023-12-06T14:14:41.064680Z",
     "end_time": "2023-12-06T19:53:43.890253Z"
    }
   }
  },
  {
   "cell_type": "code",
   "execution_count": 5,
   "outputs": [
    {
     "name": "stdout",
     "output_type": "stream",
     "text": [
      "{'hidden_dim': 176, 'k': 3, 'learning_rate': 0.005816868281625584, 'batcher': True}\n"
     ]
    }
   ],
   "source": [
    "best_par_tree_advanced = study_tree_advanced.best_params\n",
    "print(best_par_tree_advanced)"
   ],
   "metadata": {
    "collapsed": false,
    "ExecuteTime": {
     "start_time": "2023-12-06T19:53:43.892529Z",
     "end_time": "2023-12-06T19:53:43.936238Z"
    }
   }
  },
  {
   "cell_type": "code",
   "execution_count": 6,
   "outputs": [
    {
     "data": {
      "text/plain": "'TPESampler'"
     },
     "execution_count": 6,
     "metadata": {},
     "output_type": "execute_result"
    }
   ],
   "source": [
    "study_tree_advanced.sampler.__class__.__name__"
   ],
   "metadata": {
    "collapsed": false,
    "ExecuteTime": {
     "start_time": "2023-12-06T19:53:43.908986Z",
     "end_time": "2023-12-06T19:53:43.964239Z"
    }
   }
  },
  {
   "cell_type": "code",
   "execution_count": 7,
   "outputs": [
    {
     "data": {
      "text/plain": "    number      value             datetime_start          datetime_complete  \\\n0        0   0.619799 2023-12-08 16:13:05.774042 2023-12-08 16:14:16.352318   \n1        1   0.544827 2023-12-08 16:14:16.354317 2023-12-08 16:15:25.167210   \n2        2   0.859717 2023-12-08 16:15:25.169219 2023-12-08 16:16:39.430427   \n3        3   0.714830 2023-12-08 16:16:39.432426 2023-12-08 16:17:53.716282   \n4        4   0.875325 2023-12-08 16:17:53.718281 2023-12-08 16:19:07.696402   \n5        5   0.909923 2023-12-08 16:19:07.697402 2023-12-08 16:20:26.513709   \n6        6   0.780209 2023-12-08 16:20:26.514709 2023-12-08 16:21:44.923145   \n7        7   0.756667 2023-12-08 16:21:44.925146 2023-12-08 16:23:01.388662   \n8        8   0.790952 2023-12-08 16:23:01.389659 2023-12-08 16:24:17.673083   \n9        9   0.959574 2023-12-08 16:24:17.675080 2023-12-08 16:25:35.402398   \n10      10 -75.175152 2023-12-08 16:25:35.403906 2023-12-08 16:26:50.840880   \n11      11   0.843759 2023-12-08 16:26:50.842879 2023-12-08 16:28:13.405097   \n12      12   0.891341 2023-12-08 16:28:13.406097 2023-12-08 16:29:47.709687   \n13      13  -1.892057 2023-12-08 16:29:47.710687 2023-12-08 16:31:18.126539   \n14      14   0.935461 2023-12-08 16:31:18.127535 2023-12-08 16:32:36.037529   \n15      15   0.874256 2023-12-08 16:32:36.039529 2023-12-08 16:33:53.444612   \n16      16   0.953689 2023-12-08 16:33:53.446611 2023-12-08 16:35:11.655403   \n17      17   0.948991 2023-12-08 16:35:11.657403 2023-12-08 16:36:28.891256   \n18      18   0.766959 2023-12-08 16:36:28.892266 2023-12-08 16:37:58.018844   \n19      19   0.673139 2023-12-08 16:37:58.022833 2023-12-08 16:39:19.818229   \n20      20   0.951185 2023-12-08 16:39:19.819228 2023-12-08 16:40:37.983085   \n21      21   0.927136 2023-12-08 16:40:37.984084 2023-12-08 16:41:55.949445   \n22      22  -1.254883 2023-12-08 16:41:55.951444 2023-12-08 16:43:17.236443   \n23      23   0.891990 2023-12-08 16:43:17.237443 2023-12-08 16:44:34.643323   \n24      24   0.881482 2023-12-08 16:44:34.645324 2023-12-08 16:45:51.673653   \n25      25   0.865399 2023-12-08 16:45:51.675658 2023-12-08 16:47:09.072244   \n26      26   0.746106 2023-12-08 16:47:09.074241 2023-12-08 16:48:25.949022   \n27      27  -0.188016 2023-12-08 16:48:25.950021 2023-12-08 16:49:45.030983   \n28      28   0.911540 2023-12-08 16:49:45.031980 2023-12-08 16:50:59.651260   \n29      29   0.914534 2023-12-08 16:50:59.652260 2023-12-08 16:52:20.394684   \n30      30   0.717794 2023-12-08 16:52:20.396685 2023-12-08 16:53:39.609036   \n31      31   0.821706 2023-12-08 16:53:39.611034 2023-12-08 16:54:57.186846   \n32      32   0.874072 2023-12-08 16:54:57.187848 2023-12-08 16:56:15.464211   \n33      33   0.891533 2023-12-08 16:56:15.465481 2023-12-08 16:57:41.271867   \n34      34   0.582635 2023-12-08 16:57:41.273867 2023-12-08 16:59:00.461550   \n35      35   0.944405 2023-12-08 16:59:00.463561 2023-12-08 17:00:29.221746   \n36      36   0.889140 2023-12-08 17:00:29.223248 2023-12-08 17:01:59.654692   \n37      37   0.897134 2023-12-08 17:01:59.655691 2023-12-08 17:03:14.964357   \n38      38   0.843335 2023-12-08 17:03:14.965355 2023-12-08 17:04:31.237246   \n39      39   0.321649 2023-12-08 17:04:31.238247 2023-12-08 17:05:48.418185   \n40      40   0.908053 2023-12-08 17:05:48.419183 2023-12-08 17:06:59.195550   \n41      41   0.768327 2023-12-08 17:06:59.197549 2023-12-08 17:08:16.423676   \n42      42   0.962497 2023-12-08 17:08:16.425677 2023-12-08 17:09:34.385643   \n43      43   0.951220 2023-12-08 17:09:34.386642 2023-12-08 17:10:52.522569   \n44      44   0.882558 2023-12-08 17:10:52.523569 2023-12-08 17:12:10.540205   \n45      45   0.940934 2023-12-08 17:12:10.541205 2023-12-08 17:13:22.714890   \n46      46   0.770446 2023-12-08 17:13:22.716888 2023-12-08 17:14:40.649045   \n47      47   0.819101 2023-12-08 17:14:40.651045 2023-12-08 17:15:54.184120   \n48      48   0.857688 2023-12-08 17:15:54.186121 2023-12-08 17:17:07.293298   \n49      49  -0.109745 2023-12-08 17:17:07.295298 2023-12-08 17:18:24.711494   \n\n                 duration  params_batcher  params_hidden_dim  params_k  \\\n0  0 days 00:01:10.578276            True                 48         2   \n1  0 days 00:01:08.812893           False                 48         3   \n2  0 days 00:01:14.261208            True                208         2   \n3  0 days 00:01:14.283856           False                240         2   \n4  0 days 00:01:13.978121            True                144         5   \n5  0 days 00:01:18.816307            True                512         2   \n6  0 days 00:01:18.408436            True                464         3   \n7  0 days 00:01:16.463516           False                384         4   \n8  0 days 00:01:16.283424           False                384         3   \n9  0 days 00:01:17.727318            True                448         3   \n10 0 days 00:01:15.436974            True                352         1   \n11 0 days 00:01:22.562218            True                512         1   \n12 0 days 00:01:34.303590            True                512         4   \n13 0 days 00:01:30.415852            True                432         4   \n14 0 days 00:01:17.909994            True                352         2   \n15 0 days 00:01:17.405083            True                288         1   \n16 0 days 00:01:18.208792            True                336         5   \n17 0 days 00:01:17.233853            True                304         5   \n18 0 days 00:01:29.126578           False                176         5   \n19 0 days 00:01:21.795396            True                432         4   \n20 0 days 00:01:18.163857            True                336         4   \n21 0 days 00:01:17.965361            True                320         4   \n22 0 days 00:01:21.284999            True                448         5   \n23 0 days 00:01:17.405880            True                384         4   \n24 0 days 00:01:17.028329            True                240         3   \n25 0 days 00:01:17.396586            True                336         5   \n26 0 days 00:01:16.874781           False                272         3   \n27 0 days 00:01:19.080962            True                400         4   \n28 0 days 00:01:14.619280            True                128         5   \n29 0 days 00:01:20.742424            True                480         3   \n30 0 days 00:01:19.212351            True                416         4   \n31 0 days 00:01:17.575812            True                304         5   \n32 0 days 00:01:18.276363            True                352         5   \n33 0 days 00:01:25.806386            True                256         5   \n34 0 days 00:01:19.187683           False                 16         5   \n35 0 days 00:01:28.758185            True                208         4   \n36 0 days 00:01:30.431444            True                304         3   \n37 0 days 00:01:15.308666            True                208         5   \n38 0 days 00:01:16.271891           False                320         2   \n39 0 days 00:01:17.179938            True                368         3   \n40 0 days 00:01:10.776367            True                 96         4   \n41 0 days 00:01:17.226127            True                224         4   \n42 0 days 00:01:17.959966            True                176         3   \n43 0 days 00:01:18.135927            True                176         3   \n44 0 days 00:01:18.016636            True                160         3   \n45 0 days 00:01:12.173685            True                 96         2   \n46 0 days 00:01:17.932157           False                176         3   \n47 0 days 00:01:13.533075            True                112         3   \n48 0 days 00:01:13.107177            True                 64         3   \n49 0 days 00:01:17.416196            True                480         2   \n\n    params_learning_rate     state  \n0               0.001405  COMPLETE  \n1               0.005479  COMPLETE  \n2               0.000559  COMPLETE  \n3               0.001160  COMPLETE  \n4               0.001576  COMPLETE  \n5               0.000696  COMPLETE  \n6               0.000082  COMPLETE  \n7               0.000041  COMPLETE  \n8               0.000068  COMPLETE  \n9               0.000661  COMPLETE  \n10              0.000010  COMPLETE  \n11              0.000241  COMPLETE  \n12              0.000354  COMPLETE  \n13              0.008435  COMPLETE  \n14              0.002970  COMPLETE  \n15              0.003291  COMPLETE  \n16              0.002964  COMPLETE  \n17              0.002288  COMPLETE  \n18              0.007364  COMPLETE  \n19              0.003800  COMPLETE  \n20              0.000854  COMPLETE  \n21              0.000928  COMPLETE  \n22              0.002207  COMPLETE  \n23              0.000481  COMPLETE  \n24              0.000920  COMPLETE  \n25              0.001622  COMPLETE  \n26              0.000300  COMPLETE  \n27              0.004785  COMPLETE  \n28              0.009885  COMPLETE  \n29              0.001332  COMPLETE  \n30              0.002142  COMPLETE  \n31              0.002336  COMPLETE  \n32              0.005247  COMPLETE  \n33              0.000775  COMPLETE  \n34              0.001273  COMPLETE  \n35              0.003541  COMPLETE  \n36              0.001775  COMPLETE  \n37              0.000599  COMPLETE  \n38              0.001123  COMPLETE  \n39              0.002431  COMPLETE  \n40              0.001593  COMPLETE  \n41              0.004279  COMPLETE  \n42              0.005817  COMPLETE  \n43              0.004871  COMPLETE  \n44              0.006032  COMPLETE  \n45              0.006806  COMPLETE  \n46              0.005318  COMPLETE  \n47              0.003090  COMPLETE  \n48              0.008301  COMPLETE  \n49              0.004169  COMPLETE  ",
      "text/html": "<div>\n<style scoped>\n    .dataframe tbody tr th:only-of-type {\n        vertical-align: middle;\n    }\n\n    .dataframe tbody tr th {\n        vertical-align: top;\n    }\n\n    .dataframe thead th {\n        text-align: right;\n    }\n</style>\n<table border=\"1\" class=\"dataframe\">\n  <thead>\n    <tr style=\"text-align: right;\">\n      <th></th>\n      <th>number</th>\n      <th>value</th>\n      <th>datetime_start</th>\n      <th>datetime_complete</th>\n      <th>duration</th>\n      <th>params_batcher</th>\n      <th>params_hidden_dim</th>\n      <th>params_k</th>\n      <th>params_learning_rate</th>\n      <th>state</th>\n    </tr>\n  </thead>\n  <tbody>\n    <tr>\n      <th>0</th>\n      <td>0</td>\n      <td>0.619799</td>\n      <td>2023-12-08 16:13:05.774042</td>\n      <td>2023-12-08 16:14:16.352318</td>\n      <td>0 days 00:01:10.578276</td>\n      <td>True</td>\n      <td>48</td>\n      <td>2</td>\n      <td>0.001405</td>\n      <td>COMPLETE</td>\n    </tr>\n    <tr>\n      <th>1</th>\n      <td>1</td>\n      <td>0.544827</td>\n      <td>2023-12-08 16:14:16.354317</td>\n      <td>2023-12-08 16:15:25.167210</td>\n      <td>0 days 00:01:08.812893</td>\n      <td>False</td>\n      <td>48</td>\n      <td>3</td>\n      <td>0.005479</td>\n      <td>COMPLETE</td>\n    </tr>\n    <tr>\n      <th>2</th>\n      <td>2</td>\n      <td>0.859717</td>\n      <td>2023-12-08 16:15:25.169219</td>\n      <td>2023-12-08 16:16:39.430427</td>\n      <td>0 days 00:01:14.261208</td>\n      <td>True</td>\n      <td>208</td>\n      <td>2</td>\n      <td>0.000559</td>\n      <td>COMPLETE</td>\n    </tr>\n    <tr>\n      <th>3</th>\n      <td>3</td>\n      <td>0.714830</td>\n      <td>2023-12-08 16:16:39.432426</td>\n      <td>2023-12-08 16:17:53.716282</td>\n      <td>0 days 00:01:14.283856</td>\n      <td>False</td>\n      <td>240</td>\n      <td>2</td>\n      <td>0.001160</td>\n      <td>COMPLETE</td>\n    </tr>\n    <tr>\n      <th>4</th>\n      <td>4</td>\n      <td>0.875325</td>\n      <td>2023-12-08 16:17:53.718281</td>\n      <td>2023-12-08 16:19:07.696402</td>\n      <td>0 days 00:01:13.978121</td>\n      <td>True</td>\n      <td>144</td>\n      <td>5</td>\n      <td>0.001576</td>\n      <td>COMPLETE</td>\n    </tr>\n    <tr>\n      <th>5</th>\n      <td>5</td>\n      <td>0.909923</td>\n      <td>2023-12-08 16:19:07.697402</td>\n      <td>2023-12-08 16:20:26.513709</td>\n      <td>0 days 00:01:18.816307</td>\n      <td>True</td>\n      <td>512</td>\n      <td>2</td>\n      <td>0.000696</td>\n      <td>COMPLETE</td>\n    </tr>\n    <tr>\n      <th>6</th>\n      <td>6</td>\n      <td>0.780209</td>\n      <td>2023-12-08 16:20:26.514709</td>\n      <td>2023-12-08 16:21:44.923145</td>\n      <td>0 days 00:01:18.408436</td>\n      <td>True</td>\n      <td>464</td>\n      <td>3</td>\n      <td>0.000082</td>\n      <td>COMPLETE</td>\n    </tr>\n    <tr>\n      <th>7</th>\n      <td>7</td>\n      <td>0.756667</td>\n      <td>2023-12-08 16:21:44.925146</td>\n      <td>2023-12-08 16:23:01.388662</td>\n      <td>0 days 00:01:16.463516</td>\n      <td>False</td>\n      <td>384</td>\n      <td>4</td>\n      <td>0.000041</td>\n      <td>COMPLETE</td>\n    </tr>\n    <tr>\n      <th>8</th>\n      <td>8</td>\n      <td>0.790952</td>\n      <td>2023-12-08 16:23:01.389659</td>\n      <td>2023-12-08 16:24:17.673083</td>\n      <td>0 days 00:01:16.283424</td>\n      <td>False</td>\n      <td>384</td>\n      <td>3</td>\n      <td>0.000068</td>\n      <td>COMPLETE</td>\n    </tr>\n    <tr>\n      <th>9</th>\n      <td>9</td>\n      <td>0.959574</td>\n      <td>2023-12-08 16:24:17.675080</td>\n      <td>2023-12-08 16:25:35.402398</td>\n      <td>0 days 00:01:17.727318</td>\n      <td>True</td>\n      <td>448</td>\n      <td>3</td>\n      <td>0.000661</td>\n      <td>COMPLETE</td>\n    </tr>\n    <tr>\n      <th>10</th>\n      <td>10</td>\n      <td>-75.175152</td>\n      <td>2023-12-08 16:25:35.403906</td>\n      <td>2023-12-08 16:26:50.840880</td>\n      <td>0 days 00:01:15.436974</td>\n      <td>True</td>\n      <td>352</td>\n      <td>1</td>\n      <td>0.000010</td>\n      <td>COMPLETE</td>\n    </tr>\n    <tr>\n      <th>11</th>\n      <td>11</td>\n      <td>0.843759</td>\n      <td>2023-12-08 16:26:50.842879</td>\n      <td>2023-12-08 16:28:13.405097</td>\n      <td>0 days 00:01:22.562218</td>\n      <td>True</td>\n      <td>512</td>\n      <td>1</td>\n      <td>0.000241</td>\n      <td>COMPLETE</td>\n    </tr>\n    <tr>\n      <th>12</th>\n      <td>12</td>\n      <td>0.891341</td>\n      <td>2023-12-08 16:28:13.406097</td>\n      <td>2023-12-08 16:29:47.709687</td>\n      <td>0 days 00:01:34.303590</td>\n      <td>True</td>\n      <td>512</td>\n      <td>4</td>\n      <td>0.000354</td>\n      <td>COMPLETE</td>\n    </tr>\n    <tr>\n      <th>13</th>\n      <td>13</td>\n      <td>-1.892057</td>\n      <td>2023-12-08 16:29:47.710687</td>\n      <td>2023-12-08 16:31:18.126539</td>\n      <td>0 days 00:01:30.415852</td>\n      <td>True</td>\n      <td>432</td>\n      <td>4</td>\n      <td>0.008435</td>\n      <td>COMPLETE</td>\n    </tr>\n    <tr>\n      <th>14</th>\n      <td>14</td>\n      <td>0.935461</td>\n      <td>2023-12-08 16:31:18.127535</td>\n      <td>2023-12-08 16:32:36.037529</td>\n      <td>0 days 00:01:17.909994</td>\n      <td>True</td>\n      <td>352</td>\n      <td>2</td>\n      <td>0.002970</td>\n      <td>COMPLETE</td>\n    </tr>\n    <tr>\n      <th>15</th>\n      <td>15</td>\n      <td>0.874256</td>\n      <td>2023-12-08 16:32:36.039529</td>\n      <td>2023-12-08 16:33:53.444612</td>\n      <td>0 days 00:01:17.405083</td>\n      <td>True</td>\n      <td>288</td>\n      <td>1</td>\n      <td>0.003291</td>\n      <td>COMPLETE</td>\n    </tr>\n    <tr>\n      <th>16</th>\n      <td>16</td>\n      <td>0.953689</td>\n      <td>2023-12-08 16:33:53.446611</td>\n      <td>2023-12-08 16:35:11.655403</td>\n      <td>0 days 00:01:18.208792</td>\n      <td>True</td>\n      <td>336</td>\n      <td>5</td>\n      <td>0.002964</td>\n      <td>COMPLETE</td>\n    </tr>\n    <tr>\n      <th>17</th>\n      <td>17</td>\n      <td>0.948991</td>\n      <td>2023-12-08 16:35:11.657403</td>\n      <td>2023-12-08 16:36:28.891256</td>\n      <td>0 days 00:01:17.233853</td>\n      <td>True</td>\n      <td>304</td>\n      <td>5</td>\n      <td>0.002288</td>\n      <td>COMPLETE</td>\n    </tr>\n    <tr>\n      <th>18</th>\n      <td>18</td>\n      <td>0.766959</td>\n      <td>2023-12-08 16:36:28.892266</td>\n      <td>2023-12-08 16:37:58.018844</td>\n      <td>0 days 00:01:29.126578</td>\n      <td>False</td>\n      <td>176</td>\n      <td>5</td>\n      <td>0.007364</td>\n      <td>COMPLETE</td>\n    </tr>\n    <tr>\n      <th>19</th>\n      <td>19</td>\n      <td>0.673139</td>\n      <td>2023-12-08 16:37:58.022833</td>\n      <td>2023-12-08 16:39:19.818229</td>\n      <td>0 days 00:01:21.795396</td>\n      <td>True</td>\n      <td>432</td>\n      <td>4</td>\n      <td>0.003800</td>\n      <td>COMPLETE</td>\n    </tr>\n    <tr>\n      <th>20</th>\n      <td>20</td>\n      <td>0.951185</td>\n      <td>2023-12-08 16:39:19.819228</td>\n      <td>2023-12-08 16:40:37.983085</td>\n      <td>0 days 00:01:18.163857</td>\n      <td>True</td>\n      <td>336</td>\n      <td>4</td>\n      <td>0.000854</td>\n      <td>COMPLETE</td>\n    </tr>\n    <tr>\n      <th>21</th>\n      <td>21</td>\n      <td>0.927136</td>\n      <td>2023-12-08 16:40:37.984084</td>\n      <td>2023-12-08 16:41:55.949445</td>\n      <td>0 days 00:01:17.965361</td>\n      <td>True</td>\n      <td>320</td>\n      <td>4</td>\n      <td>0.000928</td>\n      <td>COMPLETE</td>\n    </tr>\n    <tr>\n      <th>22</th>\n      <td>22</td>\n      <td>-1.254883</td>\n      <td>2023-12-08 16:41:55.951444</td>\n      <td>2023-12-08 16:43:17.236443</td>\n      <td>0 days 00:01:21.284999</td>\n      <td>True</td>\n      <td>448</td>\n      <td>5</td>\n      <td>0.002207</td>\n      <td>COMPLETE</td>\n    </tr>\n    <tr>\n      <th>23</th>\n      <td>23</td>\n      <td>0.891990</td>\n      <td>2023-12-08 16:43:17.237443</td>\n      <td>2023-12-08 16:44:34.643323</td>\n      <td>0 days 00:01:17.405880</td>\n      <td>True</td>\n      <td>384</td>\n      <td>4</td>\n      <td>0.000481</td>\n      <td>COMPLETE</td>\n    </tr>\n    <tr>\n      <th>24</th>\n      <td>24</td>\n      <td>0.881482</td>\n      <td>2023-12-08 16:44:34.645324</td>\n      <td>2023-12-08 16:45:51.673653</td>\n      <td>0 days 00:01:17.028329</td>\n      <td>True</td>\n      <td>240</td>\n      <td>3</td>\n      <td>0.000920</td>\n      <td>COMPLETE</td>\n    </tr>\n    <tr>\n      <th>25</th>\n      <td>25</td>\n      <td>0.865399</td>\n      <td>2023-12-08 16:45:51.675658</td>\n      <td>2023-12-08 16:47:09.072244</td>\n      <td>0 days 00:01:17.396586</td>\n      <td>True</td>\n      <td>336</td>\n      <td>5</td>\n      <td>0.001622</td>\n      <td>COMPLETE</td>\n    </tr>\n    <tr>\n      <th>26</th>\n      <td>26</td>\n      <td>0.746106</td>\n      <td>2023-12-08 16:47:09.074241</td>\n      <td>2023-12-08 16:48:25.949022</td>\n      <td>0 days 00:01:16.874781</td>\n      <td>False</td>\n      <td>272</td>\n      <td>3</td>\n      <td>0.000300</td>\n      <td>COMPLETE</td>\n    </tr>\n    <tr>\n      <th>27</th>\n      <td>27</td>\n      <td>-0.188016</td>\n      <td>2023-12-08 16:48:25.950021</td>\n      <td>2023-12-08 16:49:45.030983</td>\n      <td>0 days 00:01:19.080962</td>\n      <td>True</td>\n      <td>400</td>\n      <td>4</td>\n      <td>0.004785</td>\n      <td>COMPLETE</td>\n    </tr>\n    <tr>\n      <th>28</th>\n      <td>28</td>\n      <td>0.911540</td>\n      <td>2023-12-08 16:49:45.031980</td>\n      <td>2023-12-08 16:50:59.651260</td>\n      <td>0 days 00:01:14.619280</td>\n      <td>True</td>\n      <td>128</td>\n      <td>5</td>\n      <td>0.009885</td>\n      <td>COMPLETE</td>\n    </tr>\n    <tr>\n      <th>29</th>\n      <td>29</td>\n      <td>0.914534</td>\n      <td>2023-12-08 16:50:59.652260</td>\n      <td>2023-12-08 16:52:20.394684</td>\n      <td>0 days 00:01:20.742424</td>\n      <td>True</td>\n      <td>480</td>\n      <td>3</td>\n      <td>0.001332</td>\n      <td>COMPLETE</td>\n    </tr>\n    <tr>\n      <th>30</th>\n      <td>30</td>\n      <td>0.717794</td>\n      <td>2023-12-08 16:52:20.396685</td>\n      <td>2023-12-08 16:53:39.609036</td>\n      <td>0 days 00:01:19.212351</td>\n      <td>True</td>\n      <td>416</td>\n      <td>4</td>\n      <td>0.002142</td>\n      <td>COMPLETE</td>\n    </tr>\n    <tr>\n      <th>31</th>\n      <td>31</td>\n      <td>0.821706</td>\n      <td>2023-12-08 16:53:39.611034</td>\n      <td>2023-12-08 16:54:57.186846</td>\n      <td>0 days 00:01:17.575812</td>\n      <td>True</td>\n      <td>304</td>\n      <td>5</td>\n      <td>0.002336</td>\n      <td>COMPLETE</td>\n    </tr>\n    <tr>\n      <th>32</th>\n      <td>32</td>\n      <td>0.874072</td>\n      <td>2023-12-08 16:54:57.187848</td>\n      <td>2023-12-08 16:56:15.464211</td>\n      <td>0 days 00:01:18.276363</td>\n      <td>True</td>\n      <td>352</td>\n      <td>5</td>\n      <td>0.005247</td>\n      <td>COMPLETE</td>\n    </tr>\n    <tr>\n      <th>33</th>\n      <td>33</td>\n      <td>0.891533</td>\n      <td>2023-12-08 16:56:15.465481</td>\n      <td>2023-12-08 16:57:41.271867</td>\n      <td>0 days 00:01:25.806386</td>\n      <td>True</td>\n      <td>256</td>\n      <td>5</td>\n      <td>0.000775</td>\n      <td>COMPLETE</td>\n    </tr>\n    <tr>\n      <th>34</th>\n      <td>34</td>\n      <td>0.582635</td>\n      <td>2023-12-08 16:57:41.273867</td>\n      <td>2023-12-08 16:59:00.461550</td>\n      <td>0 days 00:01:19.187683</td>\n      <td>False</td>\n      <td>16</td>\n      <td>5</td>\n      <td>0.001273</td>\n      <td>COMPLETE</td>\n    </tr>\n    <tr>\n      <th>35</th>\n      <td>35</td>\n      <td>0.944405</td>\n      <td>2023-12-08 16:59:00.463561</td>\n      <td>2023-12-08 17:00:29.221746</td>\n      <td>0 days 00:01:28.758185</td>\n      <td>True</td>\n      <td>208</td>\n      <td>4</td>\n      <td>0.003541</td>\n      <td>COMPLETE</td>\n    </tr>\n    <tr>\n      <th>36</th>\n      <td>36</td>\n      <td>0.889140</td>\n      <td>2023-12-08 17:00:29.223248</td>\n      <td>2023-12-08 17:01:59.654692</td>\n      <td>0 days 00:01:30.431444</td>\n      <td>True</td>\n      <td>304</td>\n      <td>3</td>\n      <td>0.001775</td>\n      <td>COMPLETE</td>\n    </tr>\n    <tr>\n      <th>37</th>\n      <td>37</td>\n      <td>0.897134</td>\n      <td>2023-12-08 17:01:59.655691</td>\n      <td>2023-12-08 17:03:14.964357</td>\n      <td>0 days 00:01:15.308666</td>\n      <td>True</td>\n      <td>208</td>\n      <td>5</td>\n      <td>0.000599</td>\n      <td>COMPLETE</td>\n    </tr>\n    <tr>\n      <th>38</th>\n      <td>38</td>\n      <td>0.843335</td>\n      <td>2023-12-08 17:03:14.965355</td>\n      <td>2023-12-08 17:04:31.237246</td>\n      <td>0 days 00:01:16.271891</td>\n      <td>False</td>\n      <td>320</td>\n      <td>2</td>\n      <td>0.001123</td>\n      <td>COMPLETE</td>\n    </tr>\n    <tr>\n      <th>39</th>\n      <td>39</td>\n      <td>0.321649</td>\n      <td>2023-12-08 17:04:31.238247</td>\n      <td>2023-12-08 17:05:48.418185</td>\n      <td>0 days 00:01:17.179938</td>\n      <td>True</td>\n      <td>368</td>\n      <td>3</td>\n      <td>0.002431</td>\n      <td>COMPLETE</td>\n    </tr>\n    <tr>\n      <th>40</th>\n      <td>40</td>\n      <td>0.908053</td>\n      <td>2023-12-08 17:05:48.419183</td>\n      <td>2023-12-08 17:06:59.195550</td>\n      <td>0 days 00:01:10.776367</td>\n      <td>True</td>\n      <td>96</td>\n      <td>4</td>\n      <td>0.001593</td>\n      <td>COMPLETE</td>\n    </tr>\n    <tr>\n      <th>41</th>\n      <td>41</td>\n      <td>0.768327</td>\n      <td>2023-12-08 17:06:59.197549</td>\n      <td>2023-12-08 17:08:16.423676</td>\n      <td>0 days 00:01:17.226127</td>\n      <td>True</td>\n      <td>224</td>\n      <td>4</td>\n      <td>0.004279</td>\n      <td>COMPLETE</td>\n    </tr>\n    <tr>\n      <th>42</th>\n      <td>42</td>\n      <td>0.962497</td>\n      <td>2023-12-08 17:08:16.425677</td>\n      <td>2023-12-08 17:09:34.385643</td>\n      <td>0 days 00:01:17.959966</td>\n      <td>True</td>\n      <td>176</td>\n      <td>3</td>\n      <td>0.005817</td>\n      <td>COMPLETE</td>\n    </tr>\n    <tr>\n      <th>43</th>\n      <td>43</td>\n      <td>0.951220</td>\n      <td>2023-12-08 17:09:34.386642</td>\n      <td>2023-12-08 17:10:52.522569</td>\n      <td>0 days 00:01:18.135927</td>\n      <td>True</td>\n      <td>176</td>\n      <td>3</td>\n      <td>0.004871</td>\n      <td>COMPLETE</td>\n    </tr>\n    <tr>\n      <th>44</th>\n      <td>44</td>\n      <td>0.882558</td>\n      <td>2023-12-08 17:10:52.523569</td>\n      <td>2023-12-08 17:12:10.540205</td>\n      <td>0 days 00:01:18.016636</td>\n      <td>True</td>\n      <td>160</td>\n      <td>3</td>\n      <td>0.006032</td>\n      <td>COMPLETE</td>\n    </tr>\n    <tr>\n      <th>45</th>\n      <td>45</td>\n      <td>0.940934</td>\n      <td>2023-12-08 17:12:10.541205</td>\n      <td>2023-12-08 17:13:22.714890</td>\n      <td>0 days 00:01:12.173685</td>\n      <td>True</td>\n      <td>96</td>\n      <td>2</td>\n      <td>0.006806</td>\n      <td>COMPLETE</td>\n    </tr>\n    <tr>\n      <th>46</th>\n      <td>46</td>\n      <td>0.770446</td>\n      <td>2023-12-08 17:13:22.716888</td>\n      <td>2023-12-08 17:14:40.649045</td>\n      <td>0 days 00:01:17.932157</td>\n      <td>False</td>\n      <td>176</td>\n      <td>3</td>\n      <td>0.005318</td>\n      <td>COMPLETE</td>\n    </tr>\n    <tr>\n      <th>47</th>\n      <td>47</td>\n      <td>0.819101</td>\n      <td>2023-12-08 17:14:40.651045</td>\n      <td>2023-12-08 17:15:54.184120</td>\n      <td>0 days 00:01:13.533075</td>\n      <td>True</td>\n      <td>112</td>\n      <td>3</td>\n      <td>0.003090</td>\n      <td>COMPLETE</td>\n    </tr>\n    <tr>\n      <th>48</th>\n      <td>48</td>\n      <td>0.857688</td>\n      <td>2023-12-08 17:15:54.186121</td>\n      <td>2023-12-08 17:17:07.293298</td>\n      <td>0 days 00:01:13.107177</td>\n      <td>True</td>\n      <td>64</td>\n      <td>3</td>\n      <td>0.008301</td>\n      <td>COMPLETE</td>\n    </tr>\n    <tr>\n      <th>49</th>\n      <td>49</td>\n      <td>-0.109745</td>\n      <td>2023-12-08 17:17:07.295298</td>\n      <td>2023-12-08 17:18:24.711494</td>\n      <td>0 days 00:01:17.416196</td>\n      <td>True</td>\n      <td>480</td>\n      <td>2</td>\n      <td>0.004169</td>\n      <td>COMPLETE</td>\n    </tr>\n  </tbody>\n</table>\n</div>"
     },
     "execution_count": 7,
     "metadata": {},
     "output_type": "execute_result"
    }
   ],
   "source": [
    "df_tree_advanced = study_tree_advanced.trials_dataframe()\n",
    "df_tree_advanced.to_csv(\"study_label-tree-advanced_normalized.csv\")\n",
    "df_tree_advanced"
   ],
   "metadata": {
    "collapsed": false,
    "ExecuteTime": {
     "start_time": "2023-12-06T19:58:34.355510Z",
     "end_time": "2023-12-06T19:58:34.398512Z"
    }
   }
  },
  {
   "cell_type": "markdown",
   "source": [
    "## Tree label"
   ],
   "metadata": {
    "collapsed": false
   }
  },
  {
   "cell_type": "code",
   "execution_count": 8,
   "outputs": [],
   "source": [
    "# setting global parameters\n",
    "dataset_path = \"../datasets/\"\n",
    "label = \"tree\" # alt: tree or default\n",
    "test_perc = 0.3\n",
    "val_perc = 0.21\n",
    "stability_count = 5\n",
    "n_trials = 50"
   ],
   "metadata": {
    "collapsed": false,
    "ExecuteTime": {
     "start_time": "2023-12-06T20:20:49.524932Z",
     "end_time": "2023-12-06T20:20:49.573437Z"
    }
   }
  },
  {
   "cell_type": "code",
   "execution_count": 9,
   "outputs": [
    {
     "name": "stderr",
     "output_type": "stream",
     "text": [
      "[I 2023-12-08 17:18:24,802] A new study created in memory with name: Best tree label config\n"
     ]
    },
    {
     "data": {
      "text/plain": "  0%|          | 0/50 [00:00<?, ?it/s]",
      "application/vnd.jupyter.widget-view+json": {
       "version_major": 2,
       "version_minor": 0,
       "model_id": "fedf05e7694b406d875124253a161ae5"
      }
     },
     "metadata": {},
     "output_type": "display_data"
    },
    {
     "name": "stdout",
     "output_type": "stream",
     "text": [
      "[I 2023-12-08 17:19:35,815] Trial 0 finished with value: 0.7143654093002982 and parameters: {'hidden_dim': 64, 'k': 1, 'learning_rate': 0.00808897486316116, 'batcher': True}. Best is trial 0 with value: 0.7143654093002982.\n",
      "[I 2023-12-08 17:20:52,797] Trial 1 finished with value: 0.6576425911463057 and parameters: {'hidden_dim': 144, 'k': 2, 'learning_rate': 0.0005869126605231803, 'batcher': False}. Best is trial 0 with value: 0.7143654093002982.\n",
      "[I 2023-12-08 17:22:04,168] Trial 2 finished with value: 0.05168457880629276 and parameters: {'hidden_dim': 80, 'k': 2, 'learning_rate': 5.571384041869843e-05, 'batcher': True}. Best is trial 0 with value: 0.7143654093002982.\n",
      "[I 2023-12-08 17:23:20,408] Trial 3 finished with value: 0.5012220903667883 and parameters: {'hidden_dim': 272, 'k': 1, 'learning_rate': 1.9399601152500533e-05, 'batcher': True}. Best is trial 0 with value: 0.7143654093002982.\n",
      "[I 2023-12-08 17:24:38,644] Trial 4 finished with value: 0.6867287496832178 and parameters: {'hidden_dim': 400, 'k': 4, 'learning_rate': 5.1094210818361834e-05, 'batcher': True}. Best is trial 0 with value: 0.7143654093002982.\n",
      "[I 2023-12-08 17:25:49,259] Trial 5 finished with value: 0.5805871650910615 and parameters: {'hidden_dim': 112, 'k': 5, 'learning_rate': 0.00034137430371053434, 'batcher': False}. Best is trial 0 with value: 0.7143654093002982.\n",
      "[I 2023-12-08 17:27:03,408] Trial 6 finished with value: 0.6735240769345079 and parameters: {'hidden_dim': 224, 'k': 5, 'learning_rate': 0.00041556601165883733, 'batcher': False}. Best is trial 0 with value: 0.7143654093002982.\n",
      "[I 2023-12-08 17:28:15,028] Trial 7 finished with value: 0.586288648826752 and parameters: {'hidden_dim': 160, 'k': 2, 'learning_rate': 0.0001974643456354529, 'batcher': True}. Best is trial 0 with value: 0.7143654093002982.\n",
      "[I 2023-12-08 17:29:22,553] Trial 8 finished with value: 0.10770294312997708 and parameters: {'hidden_dim': 32, 'k': 4, 'learning_rate': 0.00016559160607827056, 'batcher': True}. Best is trial 0 with value: 0.7143654093002982.\n",
      "[I 2023-12-08 17:30:33,623] Trial 9 finished with value: 0.670355808595368 and parameters: {'hidden_dim': 176, 'k': 1, 'learning_rate': 0.00021735259331437867, 'batcher': False}. Best is trial 0 with value: 0.7143654093002982.\n",
      "[I 2023-12-08 17:31:53,277] Trial 10 finished with value: -7.8228185278197655 and parameters: {'hidden_dim': 480, 'k': 3, 'learning_rate': 0.008346740588151599, 'batcher': True}. Best is trial 0 with value: 0.7143654093002982.\n",
      "[I 2023-12-08 17:33:09,631] Trial 11 finished with value: -4.305820018968189 and parameters: {'hidden_dim': 352, 'k': 4, 'learning_rate': 0.009331446603465271, 'batcher': True}. Best is trial 0 with value: 0.7143654093002982.\n",
      "[I 2023-12-08 17:34:28,765] Trial 12 finished with value: 0.793451630197851 and parameters: {'hidden_dim': 416, 'k': 4, 'learning_rate': 0.0017071251859575233, 'batcher': True}. Best is trial 12 with value: 0.793451630197851.\n",
      "[I 2023-12-08 17:35:48,975] Trial 13 finished with value: -0.08933650882027169 and parameters: {'hidden_dim': 480, 'k': 3, 'learning_rate': 0.002476653993445979, 'batcher': True}. Best is trial 12 with value: 0.793451630197851.\n",
      "[I 2023-12-08 17:37:02,800] Trial 14 finished with value: 0.7753775739385459 and parameters: {'hidden_dim': 320, 'k': 4, 'learning_rate': 0.0022311555340601575, 'batcher': True}. Best is trial 12 with value: 0.793451630197851.\n",
      "[I 2023-12-08 17:38:18,964] Trial 15 finished with value: 0.7696358667678178 and parameters: {'hidden_dim': 336, 'k': 4, 'learning_rate': 0.0018141439528671854, 'batcher': True}. Best is trial 12 with value: 0.793451630197851.\n",
      "[I 2023-12-08 17:39:39,075] Trial 16 finished with value: 0.8071685158407321 and parameters: {'hidden_dim': 416, 'k': 5, 'learning_rate': 0.0020815926220190267, 'batcher': True}. Best is trial 16 with value: 0.8071685158407321.\n",
      "[I 2023-12-08 17:40:58,709] Trial 17 finished with value: 0.7675535012789156 and parameters: {'hidden_dim': 400, 'k': 5, 'learning_rate': 0.001002188077825595, 'batcher': True}. Best is trial 16 with value: 0.8071685158407321.\n",
      "[I 2023-12-08 17:42:22,146] Trial 18 finished with value: -0.11475926322340176 and parameters: {'hidden_dim': 512, 'k': 5, 'learning_rate': 0.004053941337275252, 'batcher': False}. Best is trial 16 with value: 0.8071685158407321.\n",
      "[I 2023-12-08 17:43:41,455] Trial 19 finished with value: 0.7298070936817938 and parameters: {'hidden_dim': 416, 'k': 5, 'learning_rate': 0.0010947153642515601, 'batcher': True}. Best is trial 16 with value: 0.8071685158407321.\n",
      "[I 2023-12-08 17:44:59,564] Trial 20 finished with value: 0.7747978627198405 and parameters: {'hidden_dim': 432, 'k': 3, 'learning_rate': 0.0007711607654026803, 'batcher': True}. Best is trial 16 with value: 0.8071685158407321.\n",
      "[I 2023-12-08 17:46:17,461] Trial 21 finished with value: 0.7999083621000438 and parameters: {'hidden_dim': 320, 'k': 4, 'learning_rate': 0.0029446183688304852, 'batcher': True}. Best is trial 16 with value: 0.8071685158407321.\n",
      "[I 2023-12-08 17:47:35,804] Trial 22 finished with value: 0.7686122802507874 and parameters: {'hidden_dim': 288, 'k': 4, 'learning_rate': 0.0028826826338806005, 'batcher': True}. Best is trial 16 with value: 0.8071685158407321.\n",
      "[I 2023-12-08 17:48:53,624] Trial 23 finished with value: 0.7964127850180605 and parameters: {'hidden_dim': 224, 'k': 4, 'learning_rate': 0.00461329729282089, 'batcher': True}. Best is trial 16 with value: 0.8071685158407321.\n",
      "[I 2023-12-08 17:50:11,996] Trial 24 finished with value: 0.8172568507928452 and parameters: {'hidden_dim': 224, 'k': 5, 'learning_rate': 0.004246561121701876, 'batcher': True}. Best is trial 24 with value: 0.8172568507928452.\n",
      "[I 2023-12-08 17:51:29,953] Trial 25 finished with value: 0.79206950166629 and parameters: {'hidden_dim': 224, 'k': 5, 'learning_rate': 0.005201214038681159, 'batcher': True}. Best is trial 24 with value: 0.8172568507928452.\n",
      "[I 2023-12-08 17:52:48,325] Trial 26 finished with value: 0.5946331119082912 and parameters: {'hidden_dim': 368, 'k': 5, 'learning_rate': 0.0013935726823366705, 'batcher': False}. Best is trial 24 with value: 0.8172568507928452.\n",
      "[I 2023-12-08 17:54:06,305] Trial 27 finished with value: 0.5018007283957499 and parameters: {'hidden_dim': 304, 'k': 5, 'learning_rate': 0.002815200052008319, 'batcher': True}. Best is trial 24 with value: 0.8172568507928452.\n",
      "[I 2023-12-08 17:55:24,222] Trial 28 finished with value: 0.7690480156515594 and parameters: {'hidden_dim': 256, 'k': 5, 'learning_rate': 0.004805334957195982, 'batcher': True}. Best is trial 24 with value: 0.8172568507928452.\n",
      "[I 2023-12-08 17:56:42,216] Trial 29 finished with value: -8.563841291248451 and parameters: {'hidden_dim': 368, 'k': 4, 'learning_rate': 0.006715740254994866, 'batcher': True}. Best is trial 24 with value: 0.8172568507928452.\n",
      "[I 2023-12-08 17:57:59,751] Trial 30 finished with value: 0.7419729754002768 and parameters: {'hidden_dim': 192, 'k': 3, 'learning_rate': 0.0034344789846166173, 'batcher': True}. Best is trial 24 with value: 0.8172568507928452.\n",
      "[I 2023-12-08 17:59:17,134] Trial 31 finished with value: 0.7944321994296774 and parameters: {'hidden_dim': 240, 'k': 4, 'learning_rate': 0.005211137617710481, 'batcher': True}. Best is trial 24 with value: 0.8172568507928452.\n",
      "[I 2023-12-08 18:00:32,811] Trial 32 finished with value: -0.6597034998414705 and parameters: {'hidden_dim': 192, 'k': 5, 'learning_rate': 0.00962229077598159, 'batcher': True}. Best is trial 24 with value: 0.8172568507928452.\n",
      "[I 2023-12-08 18:01:46,631] Trial 33 finished with value: 0.7738840785008108 and parameters: {'hidden_dim': 144, 'k': 4, 'learning_rate': 0.003915728513186103, 'batcher': True}. Best is trial 24 with value: 0.8172568507928452.\n",
      "[I 2023-12-08 18:03:03,184] Trial 34 finished with value: 0.7642629487951433 and parameters: {'hidden_dim': 304, 'k': 3, 'learning_rate': 0.001558223833334144, 'batcher': True}. Best is trial 24 with value: 0.8172568507928452.\n",
      "[I 2023-12-08 18:04:14,918] Trial 35 finished with value: 0.7906667185782759 and parameters: {'hidden_dim': 112, 'k': 5, 'learning_rate': 0.006280816493505052, 'batcher': True}. Best is trial 24 with value: 0.8172568507928452.\n",
      "[I 2023-12-08 18:05:56,045] Trial 36 finished with value: 0.7238547797142978 and parameters: {'hidden_dim': 256, 'k': 4, 'learning_rate': 0.002116168702758498, 'batcher': False}. Best is trial 24 with value: 0.8172568507928452.\n",
      "[I 2023-12-08 18:07:34,950] Trial 37 finished with value: 0.7620205531155628 and parameters: {'hidden_dim': 208, 'k': 2, 'learning_rate': 0.0036195375168293045, 'batcher': True}. Best is trial 24 with value: 0.8172568507928452.\n",
      "[I 2023-12-08 18:08:52,492] Trial 38 finished with value: 0.7546403245540108 and parameters: {'hidden_dim': 288, 'k': 5, 'learning_rate': 0.0007029325096967932, 'batcher': False}. Best is trial 24 with value: 0.8172568507928452.\n",
      "[I 2023-12-08 18:10:01,977] Trial 39 finished with value: 0.7634106376330521 and parameters: {'hidden_dim': 128, 'k': 3, 'learning_rate': 0.006100316899012013, 'batcher': True}. Best is trial 24 with value: 0.8172568507928452.\n",
      "[I 2023-12-08 18:11:22,405] Trial 40 finished with value: 0.8291678278667277 and parameters: {'hidden_dim': 384, 'k': 4, 'learning_rate': 0.0027798074059227373, 'batcher': True}. Best is trial 40 with value: 0.8291678278667277.\n",
      "[I 2023-12-08 18:12:42,995] Trial 41 finished with value: 0.7568652188056685 and parameters: {'hidden_dim': 384, 'k': 4, 'learning_rate': 0.0031344786898128024, 'batcher': True}. Best is trial 40 with value: 0.8291678278667277.\n",
      "[I 2023-12-08 18:14:06,903] Trial 42 finished with value: 0.48885995764490336 and parameters: {'hidden_dim': 432, 'k': 4, 'learning_rate': 0.0022704702137755816, 'batcher': True}. Best is trial 40 with value: 0.8291678278667277.\n",
      "[I 2023-12-08 18:15:25,316] Trial 43 finished with value: -31.395310798670398 and parameters: {'hidden_dim': 352, 'k': 5, 'learning_rate': 0.006996776476199415, 'batcher': True}. Best is trial 40 with value: 0.8291678278667277.\n",
      "[I 2023-12-08 18:16:47,910] Trial 44 finished with value: 0.763700991320402 and parameters: {'hidden_dim': 272, 'k': 4, 'learning_rate': 0.001331921230940087, 'batcher': True}. Best is trial 40 with value: 0.8291678278667277.\n",
      "[I 2023-12-08 18:18:30,743] Trial 45 finished with value: 0.052957216627883684 and parameters: {'hidden_dim': 480, 'k': 3, 'learning_rate': 0.00409775124820598, 'batcher': True}. Best is trial 40 with value: 0.8291678278667277.\n",
      "[I 2023-12-08 18:20:03,169] Trial 46 finished with value: 0.43620100341794127 and parameters: {'hidden_dim': 448, 'k': 1, 'learning_rate': 0.002752283433493396, 'batcher': True}. Best is trial 40 with value: 0.8291678278667277.\n",
      "[I 2023-12-08 18:21:31,699] Trial 47 finished with value: 0.7111667040446285 and parameters: {'hidden_dim': 336, 'k': 4, 'learning_rate': 0.0005299282082849308, 'batcher': False}. Best is trial 40 with value: 0.8291678278667277.\n",
      "[I 2023-12-08 18:22:54,049] Trial 48 finished with value: 0.7903337535222701 and parameters: {'hidden_dim': 224, 'k': 2, 'learning_rate': 0.0018921348664921464, 'batcher': True}. Best is trial 40 with value: 0.8291678278667277.\n",
      "[I 2023-12-08 18:24:10,805] Trial 49 finished with value: 0.5734113027028238 and parameters: {'hidden_dim': 32, 'k': 5, 'learning_rate': 0.008520850502234736, 'batcher': True}. Best is trial 40 with value: 0.8291678278667277.\n"
     ]
    }
   ],
   "source": [
    "study_tree = optuna.create_study(study_name=\"Best tree label config\", directions=['maximize'])\n",
    "study_tree.optimize(objective, n_trials=n_trials, show_progress_bar=True)"
   ],
   "metadata": {
    "collapsed": false,
    "ExecuteTime": {
     "start_time": "2023-12-06T20:20:50.394556Z",
     "end_time": "2023-12-06T21:45:56.811854Z"
    }
   }
  },
  {
   "cell_type": "code",
   "execution_count": 10,
   "outputs": [
    {
     "name": "stdout",
     "output_type": "stream",
     "text": [
      "{'hidden_dim': 384, 'k': 4, 'learning_rate': 0.0027798074059227373, 'batcher': True}\n"
     ]
    }
   ],
   "source": [
    "best_par_tree = study_tree.best_params\n",
    "print(best_par_tree)"
   ],
   "metadata": {
    "collapsed": false,
    "ExecuteTime": {
     "start_time": "2023-12-06T21:45:56.826872Z",
     "end_time": "2023-12-06T21:45:56.853387Z"
    }
   }
  },
  {
   "cell_type": "code",
   "execution_count": 11,
   "outputs": [
    {
     "data": {
      "text/plain": "'TPESampler'"
     },
     "execution_count": 11,
     "metadata": {},
     "output_type": "execute_result"
    }
   ],
   "source": [
    "study_tree.sampler.__class__.__name__"
   ],
   "metadata": {
    "collapsed": false,
    "ExecuteTime": {
     "start_time": "2023-12-06T21:45:56.843378Z",
     "end_time": "2023-12-06T21:45:56.919320Z"
    }
   }
  },
  {
   "cell_type": "code",
   "execution_count": 12,
   "outputs": [
    {
     "data": {
      "text/plain": "    number      value             datetime_start          datetime_complete  \\\n0        0   0.714365 2023-12-08 17:18:24.808651 2023-12-08 17:19:35.815875   \n1        1   0.657643 2023-12-08 17:19:35.817877 2023-12-08 17:20:52.797704   \n2        2   0.051685 2023-12-08 17:20:52.798675 2023-12-08 17:22:04.168601   \n3        3   0.501222 2023-12-08 17:22:04.170601 2023-12-08 17:23:20.408833   \n4        4   0.686729 2023-12-08 17:23:20.409831 2023-12-08 17:24:38.644113   \n5        5   0.580587 2023-12-08 17:24:38.645564 2023-12-08 17:25:49.259188   \n6        6   0.673524 2023-12-08 17:25:49.260188 2023-12-08 17:27:03.408039   \n7        7   0.586289 2023-12-08 17:27:03.410040 2023-12-08 17:28:15.027396   \n8        8   0.107703 2023-12-08 17:28:15.029400 2023-12-08 17:29:22.553419   \n9        9   0.670356 2023-12-08 17:29:22.554419 2023-12-08 17:30:33.623341   \n10      10  -7.822819 2023-12-08 17:30:33.624340 2023-12-08 17:31:53.277720   \n11      11  -4.305820 2023-12-08 17:31:53.278722 2023-12-08 17:33:09.631730   \n12      12   0.793452 2023-12-08 17:33:09.632729 2023-12-08 17:34:28.765416   \n13      13  -0.089337 2023-12-08 17:34:28.767415 2023-12-08 17:35:48.975061   \n14      14   0.775378 2023-12-08 17:35:48.976060 2023-12-08 17:37:02.800142   \n15      15   0.769636 2023-12-08 17:37:02.802143 2023-12-08 17:38:18.964440   \n16      16   0.807169 2023-12-08 17:38:18.965440 2023-12-08 17:39:39.074704   \n17      17   0.767554 2023-12-08 17:39:39.076737 2023-12-08 17:40:58.709654   \n18      18  -0.114759 2023-12-08 17:40:58.710655 2023-12-08 17:42:22.146748   \n19      19   0.729807 2023-12-08 17:42:22.147747 2023-12-08 17:43:41.455351   \n20      20   0.774798 2023-12-08 17:43:41.456771 2023-12-08 17:44:59.564700   \n21      21   0.799908 2023-12-08 17:44:59.566697 2023-12-08 17:46:17.461464   \n22      22   0.768612 2023-12-08 17:46:17.462461 2023-12-08 17:47:35.804057   \n23      23   0.796413 2023-12-08 17:47:35.805056 2023-12-08 17:48:53.624458   \n24      24   0.817257 2023-12-08 17:48:53.625458 2023-12-08 17:50:11.996745   \n25      25   0.792070 2023-12-08 17:50:11.997744 2023-12-08 17:51:29.953024   \n26      26   0.594633 2023-12-08 17:51:29.954024 2023-12-08 17:52:48.325809   \n27      27   0.501801 2023-12-08 17:52:48.326809 2023-12-08 17:54:06.305369   \n28      28   0.769048 2023-12-08 17:54:06.306374 2023-12-08 17:55:24.221859   \n29      29  -8.563841 2023-12-08 17:55:24.223857 2023-12-08 17:56:42.216017   \n30      30   0.741973 2023-12-08 17:56:42.217015 2023-12-08 17:57:59.751422   \n31      31   0.794432 2023-12-08 17:57:59.752426 2023-12-08 17:59:17.134100   \n32      32  -0.659703 2023-12-08 17:59:17.135100 2023-12-08 18:00:32.811549   \n33      33   0.773884 2023-12-08 18:00:32.813546 2023-12-08 18:01:46.631643   \n34      34   0.764263 2023-12-08 18:01:46.633638 2023-12-08 18:03:03.184063   \n35      35   0.790667 2023-12-08 18:03:03.185064 2023-12-08 18:04:14.918640   \n36      36   0.723855 2023-12-08 18:04:14.919598 2023-12-08 18:05:56.044494   \n37      37   0.762021 2023-12-08 18:05:56.046494 2023-12-08 18:07:34.950795   \n38      38   0.754640 2023-12-08 18:07:34.952792 2023-12-08 18:08:52.492477   \n39      39   0.763411 2023-12-08 18:08:52.493477 2023-12-08 18:10:01.977360   \n40      40   0.829168 2023-12-08 18:10:01.978360 2023-12-08 18:11:22.405479   \n41      41   0.756865 2023-12-08 18:11:22.406479 2023-12-08 18:12:42.995107   \n42      42   0.488860 2023-12-08 18:12:42.996105 2023-12-08 18:14:06.902675   \n43      43 -31.395311 2023-12-08 18:14:06.904673 2023-12-08 18:15:25.316479   \n44      44   0.763701 2023-12-08 18:15:25.317478 2023-12-08 18:16:47.910942   \n45      45   0.052957 2023-12-08 18:16:47.912939 2023-12-08 18:18:30.743481   \n46      46   0.436201 2023-12-08 18:18:30.744482 2023-12-08 18:20:03.169887   \n47      47   0.711167 2023-12-08 18:20:03.170887 2023-12-08 18:21:31.698264   \n48      48   0.790334 2023-12-08 18:21:31.700258 2023-12-08 18:22:54.049709   \n49      49   0.573411 2023-12-08 18:22:54.050706 2023-12-08 18:24:10.805185   \n\n                 duration  params_batcher  params_hidden_dim  params_k  \\\n0  0 days 00:01:11.007224            True                 64         1   \n1  0 days 00:01:16.979827           False                144         2   \n2  0 days 00:01:11.369926            True                 80         2   \n3  0 days 00:01:16.238232            True                272         1   \n4  0 days 00:01:18.234282            True                400         4   \n5  0 days 00:01:10.613624           False                112         5   \n6  0 days 00:01:14.147851           False                224         5   \n7  0 days 00:01:11.617356            True                160         2   \n8  0 days 00:01:07.524019            True                 32         4   \n9  0 days 00:01:11.068922           False                176         1   \n10 0 days 00:01:19.653380            True                480         3   \n11 0 days 00:01:16.353008            True                352         4   \n12 0 days 00:01:19.132687            True                416         4   \n13 0 days 00:01:20.207646            True                480         3   \n14 0 days 00:01:13.824082            True                320         4   \n15 0 days 00:01:16.162297            True                336         4   \n16 0 days 00:01:20.109264            True                416         5   \n17 0 days 00:01:19.632917            True                400         5   \n18 0 days 00:01:23.436093           False                512         5   \n19 0 days 00:01:19.307604            True                416         5   \n20 0 days 00:01:18.107929            True                432         3   \n21 0 days 00:01:17.894767            True                320         4   \n22 0 days 00:01:18.341596            True                288         4   \n23 0 days 00:01:17.819402            True                224         4   \n24 0 days 00:01:18.371287            True                224         5   \n25 0 days 00:01:17.955280            True                224         5   \n26 0 days 00:01:18.371785           False                368         5   \n27 0 days 00:01:17.978560            True                304         5   \n28 0 days 00:01:17.915485            True                256         5   \n29 0 days 00:01:17.992160            True                368         4   \n30 0 days 00:01:17.534407            True                192         3   \n31 0 days 00:01:17.381674            True                240         4   \n32 0 days 00:01:15.676449            True                192         5   \n33 0 days 00:01:13.818097            True                144         4   \n34 0 days 00:01:16.550425            True                304         3   \n35 0 days 00:01:11.733576            True                112         5   \n36 0 days 00:01:41.124896           False                256         4   \n37 0 days 00:01:38.904301            True                208         2   \n38 0 days 00:01:17.539685           False                288         5   \n39 0 days 00:01:09.483883            True                128         3   \n40 0 days 00:01:20.427119            True                384         4   \n41 0 days 00:01:20.588628            True                384         4   \n42 0 days 00:01:23.906570            True                432         4   \n43 0 days 00:01:18.411806            True                352         5   \n44 0 days 00:01:22.593464            True                272         4   \n45 0 days 00:01:42.830542            True                480         3   \n46 0 days 00:01:32.425405            True                448         1   \n47 0 days 00:01:28.527377           False                336         4   \n48 0 days 00:01:22.349451            True                224         2   \n49 0 days 00:01:16.754479            True                 32         5   \n\n    params_learning_rate     state  \n0               0.008089  COMPLETE  \n1               0.000587  COMPLETE  \n2               0.000056  COMPLETE  \n3               0.000019  COMPLETE  \n4               0.000051  COMPLETE  \n5               0.000341  COMPLETE  \n6               0.000416  COMPLETE  \n7               0.000197  COMPLETE  \n8               0.000166  COMPLETE  \n9               0.000217  COMPLETE  \n10              0.008347  COMPLETE  \n11              0.009331  COMPLETE  \n12              0.001707  COMPLETE  \n13              0.002477  COMPLETE  \n14              0.002231  COMPLETE  \n15              0.001814  COMPLETE  \n16              0.002082  COMPLETE  \n17              0.001002  COMPLETE  \n18              0.004054  COMPLETE  \n19              0.001095  COMPLETE  \n20              0.000771  COMPLETE  \n21              0.002945  COMPLETE  \n22              0.002883  COMPLETE  \n23              0.004613  COMPLETE  \n24              0.004247  COMPLETE  \n25              0.005201  COMPLETE  \n26              0.001394  COMPLETE  \n27              0.002815  COMPLETE  \n28              0.004805  COMPLETE  \n29              0.006716  COMPLETE  \n30              0.003434  COMPLETE  \n31              0.005211  COMPLETE  \n32              0.009622  COMPLETE  \n33              0.003916  COMPLETE  \n34              0.001558  COMPLETE  \n35              0.006281  COMPLETE  \n36              0.002116  COMPLETE  \n37              0.003620  COMPLETE  \n38              0.000703  COMPLETE  \n39              0.006100  COMPLETE  \n40              0.002780  COMPLETE  \n41              0.003134  COMPLETE  \n42              0.002270  COMPLETE  \n43              0.006997  COMPLETE  \n44              0.001332  COMPLETE  \n45              0.004098  COMPLETE  \n46              0.002752  COMPLETE  \n47              0.000530  COMPLETE  \n48              0.001892  COMPLETE  \n49              0.008521  COMPLETE  ",
      "text/html": "<div>\n<style scoped>\n    .dataframe tbody tr th:only-of-type {\n        vertical-align: middle;\n    }\n\n    .dataframe tbody tr th {\n        vertical-align: top;\n    }\n\n    .dataframe thead th {\n        text-align: right;\n    }\n</style>\n<table border=\"1\" class=\"dataframe\">\n  <thead>\n    <tr style=\"text-align: right;\">\n      <th></th>\n      <th>number</th>\n      <th>value</th>\n      <th>datetime_start</th>\n      <th>datetime_complete</th>\n      <th>duration</th>\n      <th>params_batcher</th>\n      <th>params_hidden_dim</th>\n      <th>params_k</th>\n      <th>params_learning_rate</th>\n      <th>state</th>\n    </tr>\n  </thead>\n  <tbody>\n    <tr>\n      <th>0</th>\n      <td>0</td>\n      <td>0.714365</td>\n      <td>2023-12-08 17:18:24.808651</td>\n      <td>2023-12-08 17:19:35.815875</td>\n      <td>0 days 00:01:11.007224</td>\n      <td>True</td>\n      <td>64</td>\n      <td>1</td>\n      <td>0.008089</td>\n      <td>COMPLETE</td>\n    </tr>\n    <tr>\n      <th>1</th>\n      <td>1</td>\n      <td>0.657643</td>\n      <td>2023-12-08 17:19:35.817877</td>\n      <td>2023-12-08 17:20:52.797704</td>\n      <td>0 days 00:01:16.979827</td>\n      <td>False</td>\n      <td>144</td>\n      <td>2</td>\n      <td>0.000587</td>\n      <td>COMPLETE</td>\n    </tr>\n    <tr>\n      <th>2</th>\n      <td>2</td>\n      <td>0.051685</td>\n      <td>2023-12-08 17:20:52.798675</td>\n      <td>2023-12-08 17:22:04.168601</td>\n      <td>0 days 00:01:11.369926</td>\n      <td>True</td>\n      <td>80</td>\n      <td>2</td>\n      <td>0.000056</td>\n      <td>COMPLETE</td>\n    </tr>\n    <tr>\n      <th>3</th>\n      <td>3</td>\n      <td>0.501222</td>\n      <td>2023-12-08 17:22:04.170601</td>\n      <td>2023-12-08 17:23:20.408833</td>\n      <td>0 days 00:01:16.238232</td>\n      <td>True</td>\n      <td>272</td>\n      <td>1</td>\n      <td>0.000019</td>\n      <td>COMPLETE</td>\n    </tr>\n    <tr>\n      <th>4</th>\n      <td>4</td>\n      <td>0.686729</td>\n      <td>2023-12-08 17:23:20.409831</td>\n      <td>2023-12-08 17:24:38.644113</td>\n      <td>0 days 00:01:18.234282</td>\n      <td>True</td>\n      <td>400</td>\n      <td>4</td>\n      <td>0.000051</td>\n      <td>COMPLETE</td>\n    </tr>\n    <tr>\n      <th>5</th>\n      <td>5</td>\n      <td>0.580587</td>\n      <td>2023-12-08 17:24:38.645564</td>\n      <td>2023-12-08 17:25:49.259188</td>\n      <td>0 days 00:01:10.613624</td>\n      <td>False</td>\n      <td>112</td>\n      <td>5</td>\n      <td>0.000341</td>\n      <td>COMPLETE</td>\n    </tr>\n    <tr>\n      <th>6</th>\n      <td>6</td>\n      <td>0.673524</td>\n      <td>2023-12-08 17:25:49.260188</td>\n      <td>2023-12-08 17:27:03.408039</td>\n      <td>0 days 00:01:14.147851</td>\n      <td>False</td>\n      <td>224</td>\n      <td>5</td>\n      <td>0.000416</td>\n      <td>COMPLETE</td>\n    </tr>\n    <tr>\n      <th>7</th>\n      <td>7</td>\n      <td>0.586289</td>\n      <td>2023-12-08 17:27:03.410040</td>\n      <td>2023-12-08 17:28:15.027396</td>\n      <td>0 days 00:01:11.617356</td>\n      <td>True</td>\n      <td>160</td>\n      <td>2</td>\n      <td>0.000197</td>\n      <td>COMPLETE</td>\n    </tr>\n    <tr>\n      <th>8</th>\n      <td>8</td>\n      <td>0.107703</td>\n      <td>2023-12-08 17:28:15.029400</td>\n      <td>2023-12-08 17:29:22.553419</td>\n      <td>0 days 00:01:07.524019</td>\n      <td>True</td>\n      <td>32</td>\n      <td>4</td>\n      <td>0.000166</td>\n      <td>COMPLETE</td>\n    </tr>\n    <tr>\n      <th>9</th>\n      <td>9</td>\n      <td>0.670356</td>\n      <td>2023-12-08 17:29:22.554419</td>\n      <td>2023-12-08 17:30:33.623341</td>\n      <td>0 days 00:01:11.068922</td>\n      <td>False</td>\n      <td>176</td>\n      <td>1</td>\n      <td>0.000217</td>\n      <td>COMPLETE</td>\n    </tr>\n    <tr>\n      <th>10</th>\n      <td>10</td>\n      <td>-7.822819</td>\n      <td>2023-12-08 17:30:33.624340</td>\n      <td>2023-12-08 17:31:53.277720</td>\n      <td>0 days 00:01:19.653380</td>\n      <td>True</td>\n      <td>480</td>\n      <td>3</td>\n      <td>0.008347</td>\n      <td>COMPLETE</td>\n    </tr>\n    <tr>\n      <th>11</th>\n      <td>11</td>\n      <td>-4.305820</td>\n      <td>2023-12-08 17:31:53.278722</td>\n      <td>2023-12-08 17:33:09.631730</td>\n      <td>0 days 00:01:16.353008</td>\n      <td>True</td>\n      <td>352</td>\n      <td>4</td>\n      <td>0.009331</td>\n      <td>COMPLETE</td>\n    </tr>\n    <tr>\n      <th>12</th>\n      <td>12</td>\n      <td>0.793452</td>\n      <td>2023-12-08 17:33:09.632729</td>\n      <td>2023-12-08 17:34:28.765416</td>\n      <td>0 days 00:01:19.132687</td>\n      <td>True</td>\n      <td>416</td>\n      <td>4</td>\n      <td>0.001707</td>\n      <td>COMPLETE</td>\n    </tr>\n    <tr>\n      <th>13</th>\n      <td>13</td>\n      <td>-0.089337</td>\n      <td>2023-12-08 17:34:28.767415</td>\n      <td>2023-12-08 17:35:48.975061</td>\n      <td>0 days 00:01:20.207646</td>\n      <td>True</td>\n      <td>480</td>\n      <td>3</td>\n      <td>0.002477</td>\n      <td>COMPLETE</td>\n    </tr>\n    <tr>\n      <th>14</th>\n      <td>14</td>\n      <td>0.775378</td>\n      <td>2023-12-08 17:35:48.976060</td>\n      <td>2023-12-08 17:37:02.800142</td>\n      <td>0 days 00:01:13.824082</td>\n      <td>True</td>\n      <td>320</td>\n      <td>4</td>\n      <td>0.002231</td>\n      <td>COMPLETE</td>\n    </tr>\n    <tr>\n      <th>15</th>\n      <td>15</td>\n      <td>0.769636</td>\n      <td>2023-12-08 17:37:02.802143</td>\n      <td>2023-12-08 17:38:18.964440</td>\n      <td>0 days 00:01:16.162297</td>\n      <td>True</td>\n      <td>336</td>\n      <td>4</td>\n      <td>0.001814</td>\n      <td>COMPLETE</td>\n    </tr>\n    <tr>\n      <th>16</th>\n      <td>16</td>\n      <td>0.807169</td>\n      <td>2023-12-08 17:38:18.965440</td>\n      <td>2023-12-08 17:39:39.074704</td>\n      <td>0 days 00:01:20.109264</td>\n      <td>True</td>\n      <td>416</td>\n      <td>5</td>\n      <td>0.002082</td>\n      <td>COMPLETE</td>\n    </tr>\n    <tr>\n      <th>17</th>\n      <td>17</td>\n      <td>0.767554</td>\n      <td>2023-12-08 17:39:39.076737</td>\n      <td>2023-12-08 17:40:58.709654</td>\n      <td>0 days 00:01:19.632917</td>\n      <td>True</td>\n      <td>400</td>\n      <td>5</td>\n      <td>0.001002</td>\n      <td>COMPLETE</td>\n    </tr>\n    <tr>\n      <th>18</th>\n      <td>18</td>\n      <td>-0.114759</td>\n      <td>2023-12-08 17:40:58.710655</td>\n      <td>2023-12-08 17:42:22.146748</td>\n      <td>0 days 00:01:23.436093</td>\n      <td>False</td>\n      <td>512</td>\n      <td>5</td>\n      <td>0.004054</td>\n      <td>COMPLETE</td>\n    </tr>\n    <tr>\n      <th>19</th>\n      <td>19</td>\n      <td>0.729807</td>\n      <td>2023-12-08 17:42:22.147747</td>\n      <td>2023-12-08 17:43:41.455351</td>\n      <td>0 days 00:01:19.307604</td>\n      <td>True</td>\n      <td>416</td>\n      <td>5</td>\n      <td>0.001095</td>\n      <td>COMPLETE</td>\n    </tr>\n    <tr>\n      <th>20</th>\n      <td>20</td>\n      <td>0.774798</td>\n      <td>2023-12-08 17:43:41.456771</td>\n      <td>2023-12-08 17:44:59.564700</td>\n      <td>0 days 00:01:18.107929</td>\n      <td>True</td>\n      <td>432</td>\n      <td>3</td>\n      <td>0.000771</td>\n      <td>COMPLETE</td>\n    </tr>\n    <tr>\n      <th>21</th>\n      <td>21</td>\n      <td>0.799908</td>\n      <td>2023-12-08 17:44:59.566697</td>\n      <td>2023-12-08 17:46:17.461464</td>\n      <td>0 days 00:01:17.894767</td>\n      <td>True</td>\n      <td>320</td>\n      <td>4</td>\n      <td>0.002945</td>\n      <td>COMPLETE</td>\n    </tr>\n    <tr>\n      <th>22</th>\n      <td>22</td>\n      <td>0.768612</td>\n      <td>2023-12-08 17:46:17.462461</td>\n      <td>2023-12-08 17:47:35.804057</td>\n      <td>0 days 00:01:18.341596</td>\n      <td>True</td>\n      <td>288</td>\n      <td>4</td>\n      <td>0.002883</td>\n      <td>COMPLETE</td>\n    </tr>\n    <tr>\n      <th>23</th>\n      <td>23</td>\n      <td>0.796413</td>\n      <td>2023-12-08 17:47:35.805056</td>\n      <td>2023-12-08 17:48:53.624458</td>\n      <td>0 days 00:01:17.819402</td>\n      <td>True</td>\n      <td>224</td>\n      <td>4</td>\n      <td>0.004613</td>\n      <td>COMPLETE</td>\n    </tr>\n    <tr>\n      <th>24</th>\n      <td>24</td>\n      <td>0.817257</td>\n      <td>2023-12-08 17:48:53.625458</td>\n      <td>2023-12-08 17:50:11.996745</td>\n      <td>0 days 00:01:18.371287</td>\n      <td>True</td>\n      <td>224</td>\n      <td>5</td>\n      <td>0.004247</td>\n      <td>COMPLETE</td>\n    </tr>\n    <tr>\n      <th>25</th>\n      <td>25</td>\n      <td>0.792070</td>\n      <td>2023-12-08 17:50:11.997744</td>\n      <td>2023-12-08 17:51:29.953024</td>\n      <td>0 days 00:01:17.955280</td>\n      <td>True</td>\n      <td>224</td>\n      <td>5</td>\n      <td>0.005201</td>\n      <td>COMPLETE</td>\n    </tr>\n    <tr>\n      <th>26</th>\n      <td>26</td>\n      <td>0.594633</td>\n      <td>2023-12-08 17:51:29.954024</td>\n      <td>2023-12-08 17:52:48.325809</td>\n      <td>0 days 00:01:18.371785</td>\n      <td>False</td>\n      <td>368</td>\n      <td>5</td>\n      <td>0.001394</td>\n      <td>COMPLETE</td>\n    </tr>\n    <tr>\n      <th>27</th>\n      <td>27</td>\n      <td>0.501801</td>\n      <td>2023-12-08 17:52:48.326809</td>\n      <td>2023-12-08 17:54:06.305369</td>\n      <td>0 days 00:01:17.978560</td>\n      <td>True</td>\n      <td>304</td>\n      <td>5</td>\n      <td>0.002815</td>\n      <td>COMPLETE</td>\n    </tr>\n    <tr>\n      <th>28</th>\n      <td>28</td>\n      <td>0.769048</td>\n      <td>2023-12-08 17:54:06.306374</td>\n      <td>2023-12-08 17:55:24.221859</td>\n      <td>0 days 00:01:17.915485</td>\n      <td>True</td>\n      <td>256</td>\n      <td>5</td>\n      <td>0.004805</td>\n      <td>COMPLETE</td>\n    </tr>\n    <tr>\n      <th>29</th>\n      <td>29</td>\n      <td>-8.563841</td>\n      <td>2023-12-08 17:55:24.223857</td>\n      <td>2023-12-08 17:56:42.216017</td>\n      <td>0 days 00:01:17.992160</td>\n      <td>True</td>\n      <td>368</td>\n      <td>4</td>\n      <td>0.006716</td>\n      <td>COMPLETE</td>\n    </tr>\n    <tr>\n      <th>30</th>\n      <td>30</td>\n      <td>0.741973</td>\n      <td>2023-12-08 17:56:42.217015</td>\n      <td>2023-12-08 17:57:59.751422</td>\n      <td>0 days 00:01:17.534407</td>\n      <td>True</td>\n      <td>192</td>\n      <td>3</td>\n      <td>0.003434</td>\n      <td>COMPLETE</td>\n    </tr>\n    <tr>\n      <th>31</th>\n      <td>31</td>\n      <td>0.794432</td>\n      <td>2023-12-08 17:57:59.752426</td>\n      <td>2023-12-08 17:59:17.134100</td>\n      <td>0 days 00:01:17.381674</td>\n      <td>True</td>\n      <td>240</td>\n      <td>4</td>\n      <td>0.005211</td>\n      <td>COMPLETE</td>\n    </tr>\n    <tr>\n      <th>32</th>\n      <td>32</td>\n      <td>-0.659703</td>\n      <td>2023-12-08 17:59:17.135100</td>\n      <td>2023-12-08 18:00:32.811549</td>\n      <td>0 days 00:01:15.676449</td>\n      <td>True</td>\n      <td>192</td>\n      <td>5</td>\n      <td>0.009622</td>\n      <td>COMPLETE</td>\n    </tr>\n    <tr>\n      <th>33</th>\n      <td>33</td>\n      <td>0.773884</td>\n      <td>2023-12-08 18:00:32.813546</td>\n      <td>2023-12-08 18:01:46.631643</td>\n      <td>0 days 00:01:13.818097</td>\n      <td>True</td>\n      <td>144</td>\n      <td>4</td>\n      <td>0.003916</td>\n      <td>COMPLETE</td>\n    </tr>\n    <tr>\n      <th>34</th>\n      <td>34</td>\n      <td>0.764263</td>\n      <td>2023-12-08 18:01:46.633638</td>\n      <td>2023-12-08 18:03:03.184063</td>\n      <td>0 days 00:01:16.550425</td>\n      <td>True</td>\n      <td>304</td>\n      <td>3</td>\n      <td>0.001558</td>\n      <td>COMPLETE</td>\n    </tr>\n    <tr>\n      <th>35</th>\n      <td>35</td>\n      <td>0.790667</td>\n      <td>2023-12-08 18:03:03.185064</td>\n      <td>2023-12-08 18:04:14.918640</td>\n      <td>0 days 00:01:11.733576</td>\n      <td>True</td>\n      <td>112</td>\n      <td>5</td>\n      <td>0.006281</td>\n      <td>COMPLETE</td>\n    </tr>\n    <tr>\n      <th>36</th>\n      <td>36</td>\n      <td>0.723855</td>\n      <td>2023-12-08 18:04:14.919598</td>\n      <td>2023-12-08 18:05:56.044494</td>\n      <td>0 days 00:01:41.124896</td>\n      <td>False</td>\n      <td>256</td>\n      <td>4</td>\n      <td>0.002116</td>\n      <td>COMPLETE</td>\n    </tr>\n    <tr>\n      <th>37</th>\n      <td>37</td>\n      <td>0.762021</td>\n      <td>2023-12-08 18:05:56.046494</td>\n      <td>2023-12-08 18:07:34.950795</td>\n      <td>0 days 00:01:38.904301</td>\n      <td>True</td>\n      <td>208</td>\n      <td>2</td>\n      <td>0.003620</td>\n      <td>COMPLETE</td>\n    </tr>\n    <tr>\n      <th>38</th>\n      <td>38</td>\n      <td>0.754640</td>\n      <td>2023-12-08 18:07:34.952792</td>\n      <td>2023-12-08 18:08:52.492477</td>\n      <td>0 days 00:01:17.539685</td>\n      <td>False</td>\n      <td>288</td>\n      <td>5</td>\n      <td>0.000703</td>\n      <td>COMPLETE</td>\n    </tr>\n    <tr>\n      <th>39</th>\n      <td>39</td>\n      <td>0.763411</td>\n      <td>2023-12-08 18:08:52.493477</td>\n      <td>2023-12-08 18:10:01.977360</td>\n      <td>0 days 00:01:09.483883</td>\n      <td>True</td>\n      <td>128</td>\n      <td>3</td>\n      <td>0.006100</td>\n      <td>COMPLETE</td>\n    </tr>\n    <tr>\n      <th>40</th>\n      <td>40</td>\n      <td>0.829168</td>\n      <td>2023-12-08 18:10:01.978360</td>\n      <td>2023-12-08 18:11:22.405479</td>\n      <td>0 days 00:01:20.427119</td>\n      <td>True</td>\n      <td>384</td>\n      <td>4</td>\n      <td>0.002780</td>\n      <td>COMPLETE</td>\n    </tr>\n    <tr>\n      <th>41</th>\n      <td>41</td>\n      <td>0.756865</td>\n      <td>2023-12-08 18:11:22.406479</td>\n      <td>2023-12-08 18:12:42.995107</td>\n      <td>0 days 00:01:20.588628</td>\n      <td>True</td>\n      <td>384</td>\n      <td>4</td>\n      <td>0.003134</td>\n      <td>COMPLETE</td>\n    </tr>\n    <tr>\n      <th>42</th>\n      <td>42</td>\n      <td>0.488860</td>\n      <td>2023-12-08 18:12:42.996105</td>\n      <td>2023-12-08 18:14:06.902675</td>\n      <td>0 days 00:01:23.906570</td>\n      <td>True</td>\n      <td>432</td>\n      <td>4</td>\n      <td>0.002270</td>\n      <td>COMPLETE</td>\n    </tr>\n    <tr>\n      <th>43</th>\n      <td>43</td>\n      <td>-31.395311</td>\n      <td>2023-12-08 18:14:06.904673</td>\n      <td>2023-12-08 18:15:25.316479</td>\n      <td>0 days 00:01:18.411806</td>\n      <td>True</td>\n      <td>352</td>\n      <td>5</td>\n      <td>0.006997</td>\n      <td>COMPLETE</td>\n    </tr>\n    <tr>\n      <th>44</th>\n      <td>44</td>\n      <td>0.763701</td>\n      <td>2023-12-08 18:15:25.317478</td>\n      <td>2023-12-08 18:16:47.910942</td>\n      <td>0 days 00:01:22.593464</td>\n      <td>True</td>\n      <td>272</td>\n      <td>4</td>\n      <td>0.001332</td>\n      <td>COMPLETE</td>\n    </tr>\n    <tr>\n      <th>45</th>\n      <td>45</td>\n      <td>0.052957</td>\n      <td>2023-12-08 18:16:47.912939</td>\n      <td>2023-12-08 18:18:30.743481</td>\n      <td>0 days 00:01:42.830542</td>\n      <td>True</td>\n      <td>480</td>\n      <td>3</td>\n      <td>0.004098</td>\n      <td>COMPLETE</td>\n    </tr>\n    <tr>\n      <th>46</th>\n      <td>46</td>\n      <td>0.436201</td>\n      <td>2023-12-08 18:18:30.744482</td>\n      <td>2023-12-08 18:20:03.169887</td>\n      <td>0 days 00:01:32.425405</td>\n      <td>True</td>\n      <td>448</td>\n      <td>1</td>\n      <td>0.002752</td>\n      <td>COMPLETE</td>\n    </tr>\n    <tr>\n      <th>47</th>\n      <td>47</td>\n      <td>0.711167</td>\n      <td>2023-12-08 18:20:03.170887</td>\n      <td>2023-12-08 18:21:31.698264</td>\n      <td>0 days 00:01:28.527377</td>\n      <td>False</td>\n      <td>336</td>\n      <td>4</td>\n      <td>0.000530</td>\n      <td>COMPLETE</td>\n    </tr>\n    <tr>\n      <th>48</th>\n      <td>48</td>\n      <td>0.790334</td>\n      <td>2023-12-08 18:21:31.700258</td>\n      <td>2023-12-08 18:22:54.049709</td>\n      <td>0 days 00:01:22.349451</td>\n      <td>True</td>\n      <td>224</td>\n      <td>2</td>\n      <td>0.001892</td>\n      <td>COMPLETE</td>\n    </tr>\n    <tr>\n      <th>49</th>\n      <td>49</td>\n      <td>0.573411</td>\n      <td>2023-12-08 18:22:54.050706</td>\n      <td>2023-12-08 18:24:10.805185</td>\n      <td>0 days 00:01:16.754479</td>\n      <td>True</td>\n      <td>32</td>\n      <td>5</td>\n      <td>0.008521</td>\n      <td>COMPLETE</td>\n    </tr>\n  </tbody>\n</table>\n</div>"
     },
     "execution_count": 12,
     "metadata": {},
     "output_type": "execute_result"
    }
   ],
   "source": [
    "df_tree = study_tree.trials_dataframe()\n",
    "df_tree.to_csv(\"study_label-tree_normalized.csv\")\n",
    "df_tree"
   ],
   "metadata": {
    "collapsed": false,
    "ExecuteTime": {
     "start_time": "2023-12-06T21:45:56.856906Z",
     "end_time": "2023-12-06T21:45:56.944380Z"
    }
   }
  },
  {
   "cell_type": "markdown",
   "source": [
    "## Default"
   ],
   "metadata": {
    "collapsed": false
   }
  },
  {
   "cell_type": "code",
   "execution_count": 13,
   "outputs": [],
   "source": [
    "# setting global parameters\n",
    "dataset_path = \"../datasets/\"\n",
    "label = \"default\" # alt: tree or default\n",
    "test_perc = 0.3\n",
    "val_perc = 0.21\n",
    "stability_count = 5\n",
    "n_trials = 50"
   ],
   "metadata": {
    "collapsed": false,
    "ExecuteTime": {
     "start_time": "2023-12-06T21:45:57.590594Z",
     "end_time": "2023-12-06T21:45:57.646325Z"
    }
   }
  },
  {
   "cell_type": "code",
   "execution_count": 14,
   "outputs": [
    {
     "name": "stderr",
     "output_type": "stream",
     "text": [
      "[I 2023-12-08 18:24:10,900] A new study created in memory with name: Best default label config\n"
     ]
    },
    {
     "data": {
      "text/plain": "  0%|          | 0/50 [00:00<?, ?it/s]",
      "application/vnd.jupyter.widget-view+json": {
       "version_major": 2,
       "version_minor": 0,
       "model_id": "d6350846a067496aa348ea6e82b93098"
      }
     },
     "metadata": {},
     "output_type": "display_data"
    },
    {
     "name": "stdout",
     "output_type": "stream",
     "text": [
      "[I 2023-12-08 18:25:30,076] Trial 0 finished with value: -3884.963782892913 and parameters: {'hidden_dim': 96, 'k': 5, 'learning_rate': 1.678216786299938e-05, 'batcher': True}. Best is trial 0 with value: -3884.963782892913.\n",
      "[I 2023-12-08 18:26:45,263] Trial 1 finished with value: -1.7640259345411073 and parameters: {'hidden_dim': 192, 'k': 2, 'learning_rate': 8.361871302656154e-05, 'batcher': False}. Best is trial 1 with value: -1.7640259345411073.\n",
      "[I 2023-12-08 18:28:06,499] Trial 2 finished with value: -1.404838149145542 and parameters: {'hidden_dim': 304, 'k': 1, 'learning_rate': 6.427285053806185e-05, 'batcher': False}. Best is trial 2 with value: -1.404838149145542.\n",
      "[I 2023-12-08 18:29:25,426] Trial 3 finished with value: -2.299086348234805 and parameters: {'hidden_dim': 272, 'k': 1, 'learning_rate': 5.497795303523248e-05, 'batcher': True}. Best is trial 2 with value: -1.404838149145542.\n",
      "[I 2023-12-08 18:31:09,199] Trial 4 finished with value: -0.8973224186016925 and parameters: {'hidden_dim': 336, 'k': 2, 'learning_rate': 0.0010207676100631123, 'batcher': True}. Best is trial 4 with value: -0.8973224186016925.\n",
      "[I 2023-12-08 18:33:00,466] Trial 5 finished with value: -0.40294758451180945 and parameters: {'hidden_dim': 496, 'k': 5, 'learning_rate': 0.0003987039249518899, 'batcher': False}. Best is trial 5 with value: -0.40294758451180945.\n",
      "[I 2023-12-08 18:34:24,375] Trial 6 finished with value: -0.8376195686062555 and parameters: {'hidden_dim': 48, 'k': 3, 'learning_rate': 0.00948698684806332, 'batcher': True}. Best is trial 5 with value: -0.40294758451180945.\n",
      "[I 2023-12-08 18:35:55,555] Trial 7 finished with value: -0.11079493333325412 and parameters: {'hidden_dim': 320, 'k': 5, 'learning_rate': 0.001921688261812151, 'batcher': False}. Best is trial 7 with value: -0.11079493333325412.\n",
      "[I 2023-12-08 18:37:30,119] Trial 8 finished with value: -0.7411663600349476 and parameters: {'hidden_dim': 400, 'k': 2, 'learning_rate': 0.0003494085922233814, 'batcher': False}. Best is trial 7 with value: -0.11079493333325412.\n",
      "[I 2023-12-08 18:38:56,012] Trial 9 finished with value: -0.6888066726060285 and parameters: {'hidden_dim': 96, 'k': 4, 'learning_rate': 0.0022274060985992975, 'batcher': False}. Best is trial 7 with value: -0.11079493333325412.\n",
      "[I 2023-12-08 18:40:29,473] Trial 10 finished with value: -4844.873898091273 and parameters: {'hidden_dim': 464, 'k': 4, 'learning_rate': 0.008341047657241016, 'batcher': False}. Best is trial 7 with value: -0.11079493333325412.\n",
      "[I 2023-12-08 18:42:06,767] Trial 11 finished with value: -0.22625147740355595 and parameters: {'hidden_dim': 448, 'k': 5, 'learning_rate': 0.0007472581052881158, 'batcher': False}. Best is trial 7 with value: -0.11079493333325412.\n",
      "[I 2023-12-08 18:43:43,286] Trial 12 finished with value: -0.42363371712129505 and parameters: {'hidden_dim': 400, 'k': 5, 'learning_rate': 0.0015809021293175084, 'batcher': False}. Best is trial 7 with value: -0.11079493333325412.\n",
      "[I 2023-12-08 18:45:12,029] Trial 13 finished with value: -0.13409546216314214 and parameters: {'hidden_dim': 208, 'k': 4, 'learning_rate': 0.0031500483293305046, 'batcher': False}. Best is trial 7 with value: -0.11079493333325412.\n",
      "[I 2023-12-08 18:46:41,147] Trial 14 finished with value: -0.18667531802314566 and parameters: {'hidden_dim': 176, 'k': 4, 'learning_rate': 0.003505875648714948, 'batcher': False}. Best is trial 7 with value: -0.11079493333325412.\n",
      "[I 2023-12-08 18:48:13,436] Trial 15 finished with value: -0.13321999446128804 and parameters: {'hidden_dim': 240, 'k': 4, 'learning_rate': 0.0034299227982403364, 'batcher': False}. Best is trial 7 with value: -0.11079493333325412.\n",
      "[I 2023-12-08 18:49:46,401] Trial 16 finished with value: -0.630397545015092 and parameters: {'hidden_dim': 352, 'k': 3, 'learning_rate': 0.004908709333067089, 'batcher': False}. Best is trial 7 with value: -0.11079493333325412.\n",
      "[I 2023-12-08 18:51:15,606] Trial 17 finished with value: -0.47097840137057806 and parameters: {'hidden_dim': 240, 'k': 4, 'learning_rate': 0.0013455135118724884, 'batcher': False}. Best is trial 7 with value: -0.11079493333325412.\n",
      "[I 2023-12-08 18:52:44,520] Trial 18 finished with value: -0.43706595466510356 and parameters: {'hidden_dim': 160, 'k': 5, 'learning_rate': 0.004650530180480857, 'batcher': True}. Best is trial 7 with value: -0.11079493333325412.\n",
      "[I 2023-12-08 18:54:23,447] Trial 19 finished with value: -0.715401702628601 and parameters: {'hidden_dim': 272, 'k': 3, 'learning_rate': 0.0005888083733636716, 'batcher': False}. Best is trial 7 with value: -0.11079493333325412.\n",
      "[I 2023-12-08 18:56:17,159] Trial 20 finished with value: -0.3151424702810104 and parameters: {'hidden_dim': 368, 'k': 4, 'learning_rate': 0.001741121055622351, 'batcher': False}. Best is trial 7 with value: -0.11079493333325412.\n",
      "[I 2023-12-08 18:57:42,065] Trial 21 finished with value: -0.293888525422913 and parameters: {'hidden_dim': 224, 'k': 4, 'learning_rate': 0.002774813923722191, 'batcher': False}. Best is trial 7 with value: -0.11079493333325412.\n",
      "[I 2023-12-08 18:59:08,684] Trial 22 finished with value: -0.5682849019086348 and parameters: {'hidden_dim': 144, 'k': 4, 'learning_rate': 0.0033452227286850226, 'batcher': False}. Best is trial 7 with value: -0.11079493333325412.\n",
      "[I 2023-12-08 19:00:52,143] Trial 23 finished with value: -0.2170235494604567 and parameters: {'hidden_dim': 304, 'k': 5, 'learning_rate': 0.001837703251042401, 'batcher': False}. Best is trial 7 with value: -0.11079493333325412.\n",
      "[I 2023-12-08 19:02:20,277] Trial 24 finished with value: -0.2686646949639405 and parameters: {'hidden_dim': 224, 'k': 3, 'learning_rate': 0.005867951571572098, 'batcher': False}. Best is trial 7 with value: -0.11079493333325412.\n",
      "[I 2023-12-08 19:03:46,983] Trial 25 finished with value: -0.5649162869899296 and parameters: {'hidden_dim': 304, 'k': 4, 'learning_rate': 0.0007881959540160907, 'batcher': False}. Best is trial 7 with value: -0.11079493333325412.\n",
      "[I 2023-12-08 19:05:09,343] Trial 26 finished with value: -0.6204542324248498 and parameters: {'hidden_dim': 128, 'k': 5, 'learning_rate': 0.0032788958707729633, 'batcher': True}. Best is trial 7 with value: -0.11079493333325412.\n",
      "[I 2023-12-08 19:06:35,998] Trial 27 finished with value: -0.1722031264866533 and parameters: {'hidden_dim': 192, 'k': 4, 'learning_rate': 0.006243392287440636, 'batcher': False}. Best is trial 7 with value: -0.11079493333325412.\n",
      "[I 2023-12-08 19:08:04,815] Trial 28 finished with value: -0.40935949523450466 and parameters: {'hidden_dim': 256, 'k': 5, 'learning_rate': 0.0012348673147348469, 'batcher': False}. Best is trial 7 with value: -0.11079493333325412.\n",
      "[I 2023-12-08 19:09:28,893] Trial 29 finished with value: -0.5110411038546386 and parameters: {'hidden_dim': 208, 'k': 3, 'learning_rate': 0.002280934927706107, 'batcher': True}. Best is trial 7 with value: -0.11079493333325412.\n",
      "[I 2023-12-08 19:10:47,306] Trial 30 finished with value: -0.4934293186204868 and parameters: {'hidden_dim': 16, 'k': 5, 'learning_rate': 0.008321132743691024, 'batcher': False}. Best is trial 7 with value: -0.11079493333325412.\n",
      "[I 2023-12-08 19:12:09,837] Trial 31 finished with value: -0.339679175329508 and parameters: {'hidden_dim': 96, 'k': 4, 'learning_rate': 0.0052895422702159915, 'batcher': False}. Best is trial 7 with value: -0.11079493333325412.\n",
      "[I 2023-12-08 19:13:37,520] Trial 32 finished with value: -0.1770316901746916 and parameters: {'hidden_dim': 192, 'k': 4, 'learning_rate': 0.005967167210611331, 'batcher': False}. Best is trial 7 with value: -0.11079493333325412.\n",
      "[I 2023-12-08 19:15:04,822] Trial 33 finished with value: -0.06453395608117636 and parameters: {'hidden_dim': 288, 'k': 4, 'learning_rate': 0.0025371750159581485, 'batcher': False}. Best is trial 33 with value: -0.06453395608117636.\n",
      "[I 2023-12-08 19:16:28,874] Trial 34 finished with value: -0.06972922423396652 and parameters: {'hidden_dim': 320, 'k': 3, 'learning_rate': 0.002380130993225515, 'batcher': False}. Best is trial 33 with value: -0.06453395608117636.\n",
      "[I 2023-12-08 19:17:58,058] Trial 35 finished with value: -0.2983538271834053 and parameters: {'hidden_dim': 320, 'k': 3, 'learning_rate': 0.0010750027583601711, 'batcher': False}. Best is trial 33 with value: -0.06453395608117636.\n",
      "[I 2023-12-08 19:19:28,808] Trial 36 finished with value: -0.5707632888380967 and parameters: {'hidden_dim': 272, 'k': 2, 'learning_rate': 0.0020535911386275097, 'batcher': True}. Best is trial 33 with value: -0.06453395608117636.\n",
      "[I 2023-12-08 19:20:52,913] Trial 37 finished with value: -0.9670254479720842 and parameters: {'hidden_dim': 384, 'k': 2, 'learning_rate': 0.00022326813437253894, 'batcher': False}. Best is trial 33 with value: -0.06453395608117636.\n",
      "[I 2023-12-08 19:22:17,597] Trial 38 finished with value: -0.23683571384155194 and parameters: {'hidden_dim': 304, 'k': 1, 'learning_rate': 0.0014897393381386077, 'batcher': False}. Best is trial 33 with value: -0.06453395608117636.\n",
      "[I 2023-12-08 19:23:45,053] Trial 39 finished with value: -44.8197815368979 and parameters: {'hidden_dim': 336, 'k': 3, 'learning_rate': 1.32602869119102e-05, 'batcher': True}. Best is trial 33 with value: -0.06453395608117636.\n",
      "[I 2023-12-08 19:25:14,634] Trial 40 finished with value: -0.9407607848296436 and parameters: {'hidden_dim': 432, 'k': 3, 'learning_rate': 0.0038610126418195823, 'batcher': False}. Best is trial 33 with value: -0.06453395608117636.\n",
      "[I 2023-12-08 19:26:44,896] Trial 41 finished with value: -0.18556087581576688 and parameters: {'hidden_dim': 288, 'k': 3, 'learning_rate': 0.0024961294911908377, 'batcher': False}. Best is trial 33 with value: -0.06453395608117636.\n",
      "[I 2023-12-08 19:28:13,633] Trial 42 finished with value: -0.13945005179392284 and parameters: {'hidden_dim': 240, 'k': 4, 'learning_rate': 0.0029711392143361767, 'batcher': False}. Best is trial 33 with value: -0.06453395608117636.\n",
      "[I 2023-12-08 19:29:41,772] Trial 43 finished with value: -0.07465484732567615 and parameters: {'hidden_dim': 256, 'k': 5, 'learning_rate': 0.004105190719865526, 'batcher': False}. Best is trial 33 with value: -0.06453395608117636.\n",
      "[I 2023-12-08 19:31:07,195] Trial 44 finished with value: -0.09912529223095579 and parameters: {'hidden_dim': 336, 'k': 5, 'learning_rate': 0.0022086381673581887, 'batcher': False}. Best is trial 33 with value: -0.06453395608117636.\n",
      "[I 2023-12-08 19:32:38,428] Trial 45 finished with value: -0.11016380174378564 and parameters: {'hidden_dim': 336, 'k': 5, 'learning_rate': 0.002220746327852832, 'batcher': False}. Best is trial 33 with value: -0.06453395608117636.\n",
      "[I 2023-12-08 19:34:17,606] Trial 46 finished with value: -0.30894288023165284 and parameters: {'hidden_dim': 352, 'k': 5, 'learning_rate': 0.0010353831256360363, 'batcher': False}. Best is trial 33 with value: -0.06453395608117636.\n",
      "[I 2023-12-08 19:36:15,043] Trial 47 finished with value: -0.20654413825209433 and parameters: {'hidden_dim': 400, 'k': 5, 'learning_rate': 0.002258261500139506, 'batcher': False}. Best is trial 33 with value: -0.06453395608117636.\n",
      "[I 2023-12-08 19:38:10,002] Trial 48 finished with value: -1.8533569023321097 and parameters: {'hidden_dim': 352, 'k': 5, 'learning_rate': 0.004332399358597133, 'batcher': False}. Best is trial 33 with value: -0.06453395608117636.\n",
      "[I 2023-12-08 19:40:17,836] Trial 49 finished with value: -354.4809888476323 and parameters: {'hidden_dim': 512, 'k': 5, 'learning_rate': 0.009754253708744992, 'batcher': False}. Best is trial 33 with value: -0.06453395608117636.\n"
     ]
    }
   ],
   "source": [
    "study_default = optuna.create_study(study_name=\"Best default label config\", directions=['maximize'])\n",
    "study_default.optimize(objective, n_trials=n_trials, show_progress_bar=True)"
   ],
   "metadata": {
    "collapsed": false,
    "ExecuteTime": {
     "start_time": "2023-12-06T21:45:57.606615Z",
     "end_time": "2023-12-06T23:06:50.547098Z"
    }
   }
  },
  {
   "cell_type": "code",
   "execution_count": 15,
   "outputs": [
    {
     "name": "stdout",
     "output_type": "stream",
     "text": [
      "{'hidden_dim': 288, 'k': 4, 'learning_rate': 0.0025371750159581485, 'batcher': False}\n"
     ]
    }
   ],
   "source": [
    "best_par_default = study_default.best_params\n",
    "print(best_par_default)"
   ],
   "metadata": {
    "collapsed": false,
    "ExecuteTime": {
     "start_time": "2023-12-06T23:06:50.548099Z",
     "end_time": "2023-12-06T23:06:50.562099Z"
    }
   }
  },
  {
   "cell_type": "code",
   "execution_count": 16,
   "outputs": [
    {
     "data": {
      "text/plain": "'TPESampler'"
     },
     "execution_count": 16,
     "metadata": {},
     "output_type": "execute_result"
    }
   ],
   "source": [
    "study_default.sampler.__class__.__name__"
   ],
   "metadata": {
    "collapsed": false,
    "ExecuteTime": {
     "start_time": "2023-12-06T23:06:50.563099Z",
     "end_time": "2023-12-06T23:06:50.605908Z"
    }
   }
  },
  {
   "cell_type": "code",
   "execution_count": 17,
   "outputs": [
    {
     "data": {
      "text/plain": "    number        value             datetime_start          datetime_complete  \\\n0        0 -3884.963783 2023-12-08 18:24:10.905655 2023-12-08 18:25:30.076900   \n1        1    -1.764026 2023-12-08 18:25:30.077900 2023-12-08 18:26:45.263649   \n2        2    -1.404838 2023-12-08 18:26:45.264648 2023-12-08 18:28:06.499404   \n3        3    -2.299086 2023-12-08 18:28:06.501404 2023-12-08 18:29:25.426486   \n4        4    -0.897322 2023-12-08 18:29:25.427487 2023-12-08 18:31:09.198669   \n5        5    -0.402948 2023-12-08 18:31:09.200668 2023-12-08 18:33:00.465134   \n6        6    -0.837620 2023-12-08 18:33:00.467203 2023-12-08 18:34:24.375501   \n7        7    -0.110795 2023-12-08 18:34:24.377501 2023-12-08 18:35:55.553725   \n8        8    -0.741166 2023-12-08 18:35:55.556238 2023-12-08 18:37:30.119135   \n9        9    -0.688807 2023-12-08 18:37:30.120134 2023-12-08 18:38:56.012079   \n10      10 -4844.873898 2023-12-08 18:38:56.013079 2023-12-08 18:40:29.473042   \n11      11    -0.226251 2023-12-08 18:40:29.475044 2023-12-08 18:42:06.767789   \n12      12    -0.423634 2023-12-08 18:42:06.768788 2023-12-08 18:43:43.285829   \n13      13    -0.134095 2023-12-08 18:43:43.287829 2023-12-08 18:45:12.029931   \n14      14    -0.186675 2023-12-08 18:45:12.031934 2023-12-08 18:46:41.147552   \n15      15    -0.133220 2023-12-08 18:46:41.148556 2023-12-08 18:48:13.436307   \n16      16    -0.630398 2023-12-08 18:48:13.438256 2023-12-08 18:49:46.401985   \n17      17    -0.470978 2023-12-08 18:49:46.403012 2023-12-08 18:51:15.606150   \n18      18    -0.437066 2023-12-08 18:51:15.607149 2023-12-08 18:52:44.520843   \n19      19    -0.715402 2023-12-08 18:52:44.523078 2023-12-08 18:54:23.447883   \n20      20    -0.315142 2023-12-08 18:54:23.449886 2023-12-08 18:56:17.159650   \n21      21    -0.293889 2023-12-08 18:56:17.160650 2023-12-08 18:57:42.064306   \n22      22    -0.568285 2023-12-08 18:57:42.066306 2023-12-08 18:59:08.684373   \n23      23    -0.217024 2023-12-08 18:59:08.685482 2023-12-08 19:00:52.142131   \n24      24    -0.268665 2023-12-08 19:00:52.143131 2023-12-08 19:02:20.277146   \n25      25    -0.564916 2023-12-08 19:02:20.278151 2023-12-08 19:03:46.983793   \n26      26    -0.620454 2023-12-08 19:03:46.985232 2023-12-08 19:05:09.343810   \n27      27    -0.172203 2023-12-08 19:05:09.344808 2023-12-08 19:06:35.998519   \n28      28    -0.409359 2023-12-08 19:06:35.999508 2023-12-08 19:08:04.814714   \n29      29    -0.511041 2023-12-08 19:08:04.816711 2023-12-08 19:09:28.893172   \n30      30    -0.493429 2023-12-08 19:09:28.894172 2023-12-08 19:10:47.306992   \n31      31    -0.339679 2023-12-08 19:10:47.307992 2023-12-08 19:12:09.836074   \n32      32    -0.177032 2023-12-08 19:12:09.838077 2023-12-08 19:13:37.520208   \n33      33    -0.064534 2023-12-08 19:13:37.521207 2023-12-08 19:15:04.821676   \n34      34    -0.069729 2023-12-08 19:15:04.823681 2023-12-08 19:16:28.874782   \n35      35    -0.298354 2023-12-08 19:16:28.874782 2023-12-08 19:17:58.058011   \n36      36    -0.570763 2023-12-08 19:17:58.059383 2023-12-08 19:19:28.808280   \n37      37    -0.967025 2023-12-08 19:19:28.810281 2023-12-08 19:20:52.912257   \n38      38    -0.236836 2023-12-08 19:20:52.915259 2023-12-08 19:22:17.597596   \n39      39   -44.819782 2023-12-08 19:22:17.598594 2023-12-08 19:23:45.053403   \n40      40    -0.940761 2023-12-08 19:23:45.054401 2023-12-08 19:25:14.634907   \n41      41    -0.185561 2023-12-08 19:25:14.635907 2023-12-08 19:26:44.896815   \n42      42    -0.139450 2023-12-08 19:26:44.897814 2023-12-08 19:28:13.633362   \n43      43    -0.074655 2023-12-08 19:28:13.634361 2023-12-08 19:29:41.771979   \n44      44    -0.099125 2023-12-08 19:29:41.773979 2023-12-08 19:31:07.195855   \n45      45    -0.110164 2023-12-08 19:31:07.196858 2023-12-08 19:32:38.428737   \n46      46    -0.308943 2023-12-08 19:32:38.429734 2023-12-08 19:34:17.606315   \n47      47    -0.206544 2023-12-08 19:34:17.607311 2023-12-08 19:36:15.042389   \n48      48    -1.853357 2023-12-08 19:36:15.043390 2023-12-08 19:38:10.002102   \n49      49  -354.480989 2023-12-08 19:38:10.003100 2023-12-08 19:40:17.836661   \n\n                 duration  params_batcher  params_hidden_dim  params_k  \\\n0  0 days 00:01:19.171245            True                 96         5   \n1  0 days 00:01:15.185749           False                192         2   \n2  0 days 00:01:21.234756           False                304         1   \n3  0 days 00:01:18.925082            True                272         1   \n4  0 days 00:01:43.771182            True                336         2   \n5  0 days 00:01:51.264466           False                496         5   \n6  0 days 00:01:23.908298            True                 48         3   \n7  0 days 00:01:31.176224           False                320         5   \n8  0 days 00:01:34.562897           False                400         2   \n9  0 days 00:01:25.891945           False                 96         4   \n10 0 days 00:01:33.459963           False                464         4   \n11 0 days 00:01:37.292745           False                448         5   \n12 0 days 00:01:36.517041           False                400         5   \n13 0 days 00:01:28.742102           False                208         4   \n14 0 days 00:01:29.115618           False                176         4   \n15 0 days 00:01:32.287751           False                240         4   \n16 0 days 00:01:32.963729           False                352         3   \n17 0 days 00:01:29.203138           False                240         4   \n18 0 days 00:01:28.913694            True                160         5   \n19 0 days 00:01:38.924805           False                272         3   \n20 0 days 00:01:53.709764           False                368         4   \n21 0 days 00:01:24.903656           False                224         4   \n22 0 days 00:01:26.618067           False                144         4   \n23 0 days 00:01:43.456649           False                304         5   \n24 0 days 00:01:28.134015           False                224         3   \n25 0 days 00:01:26.705642           False                304         4   \n26 0 days 00:01:22.358578            True                128         5   \n27 0 days 00:01:26.653711           False                192         4   \n28 0 days 00:01:28.815206           False                256         5   \n29 0 days 00:01:24.076461            True                208         3   \n30 0 days 00:01:18.412820           False                 16         5   \n31 0 days 00:01:22.528082           False                 96         4   \n32 0 days 00:01:27.682131           False                192         4   \n33 0 days 00:01:27.300469           False                288         4   \n34 0 days 00:01:24.051101           False                320         3   \n35 0 days 00:01:29.183229           False                320         3   \n36 0 days 00:01:30.748897            True                272         2   \n37 0 days 00:01:24.101976           False                384         2   \n38 0 days 00:01:24.682337           False                304         1   \n39 0 days 00:01:27.454809            True                336         3   \n40 0 days 00:01:29.580506           False                432         3   \n41 0 days 00:01:30.260908           False                288         3   \n42 0 days 00:01:28.735548           False                240         4   \n43 0 days 00:01:28.137618           False                256         5   \n44 0 days 00:01:25.421876           False                336         5   \n45 0 days 00:01:31.231879           False                336         5   \n46 0 days 00:01:39.176581           False                352         5   \n47 0 days 00:01:57.435078           False                400         5   \n48 0 days 00:01:54.958712           False                352         5   \n49 0 days 00:02:07.833561           False                512         5   \n\n    params_learning_rate     state  \n0               0.000017  COMPLETE  \n1               0.000084  COMPLETE  \n2               0.000064  COMPLETE  \n3               0.000055  COMPLETE  \n4               0.001021  COMPLETE  \n5               0.000399  COMPLETE  \n6               0.009487  COMPLETE  \n7               0.001922  COMPLETE  \n8               0.000349  COMPLETE  \n9               0.002227  COMPLETE  \n10              0.008341  COMPLETE  \n11              0.000747  COMPLETE  \n12              0.001581  COMPLETE  \n13              0.003150  COMPLETE  \n14              0.003506  COMPLETE  \n15              0.003430  COMPLETE  \n16              0.004909  COMPLETE  \n17              0.001346  COMPLETE  \n18              0.004651  COMPLETE  \n19              0.000589  COMPLETE  \n20              0.001741  COMPLETE  \n21              0.002775  COMPLETE  \n22              0.003345  COMPLETE  \n23              0.001838  COMPLETE  \n24              0.005868  COMPLETE  \n25              0.000788  COMPLETE  \n26              0.003279  COMPLETE  \n27              0.006243  COMPLETE  \n28              0.001235  COMPLETE  \n29              0.002281  COMPLETE  \n30              0.008321  COMPLETE  \n31              0.005290  COMPLETE  \n32              0.005967  COMPLETE  \n33              0.002537  COMPLETE  \n34              0.002380  COMPLETE  \n35              0.001075  COMPLETE  \n36              0.002054  COMPLETE  \n37              0.000223  COMPLETE  \n38              0.001490  COMPLETE  \n39              0.000013  COMPLETE  \n40              0.003861  COMPLETE  \n41              0.002496  COMPLETE  \n42              0.002971  COMPLETE  \n43              0.004105  COMPLETE  \n44              0.002209  COMPLETE  \n45              0.002221  COMPLETE  \n46              0.001035  COMPLETE  \n47              0.002258  COMPLETE  \n48              0.004332  COMPLETE  \n49              0.009754  COMPLETE  ",
      "text/html": "<div>\n<style scoped>\n    .dataframe tbody tr th:only-of-type {\n        vertical-align: middle;\n    }\n\n    .dataframe tbody tr th {\n        vertical-align: top;\n    }\n\n    .dataframe thead th {\n        text-align: right;\n    }\n</style>\n<table border=\"1\" class=\"dataframe\">\n  <thead>\n    <tr style=\"text-align: right;\">\n      <th></th>\n      <th>number</th>\n      <th>value</th>\n      <th>datetime_start</th>\n      <th>datetime_complete</th>\n      <th>duration</th>\n      <th>params_batcher</th>\n      <th>params_hidden_dim</th>\n      <th>params_k</th>\n      <th>params_learning_rate</th>\n      <th>state</th>\n    </tr>\n  </thead>\n  <tbody>\n    <tr>\n      <th>0</th>\n      <td>0</td>\n      <td>-3884.963783</td>\n      <td>2023-12-08 18:24:10.905655</td>\n      <td>2023-12-08 18:25:30.076900</td>\n      <td>0 days 00:01:19.171245</td>\n      <td>True</td>\n      <td>96</td>\n      <td>5</td>\n      <td>0.000017</td>\n      <td>COMPLETE</td>\n    </tr>\n    <tr>\n      <th>1</th>\n      <td>1</td>\n      <td>-1.764026</td>\n      <td>2023-12-08 18:25:30.077900</td>\n      <td>2023-12-08 18:26:45.263649</td>\n      <td>0 days 00:01:15.185749</td>\n      <td>False</td>\n      <td>192</td>\n      <td>2</td>\n      <td>0.000084</td>\n      <td>COMPLETE</td>\n    </tr>\n    <tr>\n      <th>2</th>\n      <td>2</td>\n      <td>-1.404838</td>\n      <td>2023-12-08 18:26:45.264648</td>\n      <td>2023-12-08 18:28:06.499404</td>\n      <td>0 days 00:01:21.234756</td>\n      <td>False</td>\n      <td>304</td>\n      <td>1</td>\n      <td>0.000064</td>\n      <td>COMPLETE</td>\n    </tr>\n    <tr>\n      <th>3</th>\n      <td>3</td>\n      <td>-2.299086</td>\n      <td>2023-12-08 18:28:06.501404</td>\n      <td>2023-12-08 18:29:25.426486</td>\n      <td>0 days 00:01:18.925082</td>\n      <td>True</td>\n      <td>272</td>\n      <td>1</td>\n      <td>0.000055</td>\n      <td>COMPLETE</td>\n    </tr>\n    <tr>\n      <th>4</th>\n      <td>4</td>\n      <td>-0.897322</td>\n      <td>2023-12-08 18:29:25.427487</td>\n      <td>2023-12-08 18:31:09.198669</td>\n      <td>0 days 00:01:43.771182</td>\n      <td>True</td>\n      <td>336</td>\n      <td>2</td>\n      <td>0.001021</td>\n      <td>COMPLETE</td>\n    </tr>\n    <tr>\n      <th>5</th>\n      <td>5</td>\n      <td>-0.402948</td>\n      <td>2023-12-08 18:31:09.200668</td>\n      <td>2023-12-08 18:33:00.465134</td>\n      <td>0 days 00:01:51.264466</td>\n      <td>False</td>\n      <td>496</td>\n      <td>5</td>\n      <td>0.000399</td>\n      <td>COMPLETE</td>\n    </tr>\n    <tr>\n      <th>6</th>\n      <td>6</td>\n      <td>-0.837620</td>\n      <td>2023-12-08 18:33:00.467203</td>\n      <td>2023-12-08 18:34:24.375501</td>\n      <td>0 days 00:01:23.908298</td>\n      <td>True</td>\n      <td>48</td>\n      <td>3</td>\n      <td>0.009487</td>\n      <td>COMPLETE</td>\n    </tr>\n    <tr>\n      <th>7</th>\n      <td>7</td>\n      <td>-0.110795</td>\n      <td>2023-12-08 18:34:24.377501</td>\n      <td>2023-12-08 18:35:55.553725</td>\n      <td>0 days 00:01:31.176224</td>\n      <td>False</td>\n      <td>320</td>\n      <td>5</td>\n      <td>0.001922</td>\n      <td>COMPLETE</td>\n    </tr>\n    <tr>\n      <th>8</th>\n      <td>8</td>\n      <td>-0.741166</td>\n      <td>2023-12-08 18:35:55.556238</td>\n      <td>2023-12-08 18:37:30.119135</td>\n      <td>0 days 00:01:34.562897</td>\n      <td>False</td>\n      <td>400</td>\n      <td>2</td>\n      <td>0.000349</td>\n      <td>COMPLETE</td>\n    </tr>\n    <tr>\n      <th>9</th>\n      <td>9</td>\n      <td>-0.688807</td>\n      <td>2023-12-08 18:37:30.120134</td>\n      <td>2023-12-08 18:38:56.012079</td>\n      <td>0 days 00:01:25.891945</td>\n      <td>False</td>\n      <td>96</td>\n      <td>4</td>\n      <td>0.002227</td>\n      <td>COMPLETE</td>\n    </tr>\n    <tr>\n      <th>10</th>\n      <td>10</td>\n      <td>-4844.873898</td>\n      <td>2023-12-08 18:38:56.013079</td>\n      <td>2023-12-08 18:40:29.473042</td>\n      <td>0 days 00:01:33.459963</td>\n      <td>False</td>\n      <td>464</td>\n      <td>4</td>\n      <td>0.008341</td>\n      <td>COMPLETE</td>\n    </tr>\n    <tr>\n      <th>11</th>\n      <td>11</td>\n      <td>-0.226251</td>\n      <td>2023-12-08 18:40:29.475044</td>\n      <td>2023-12-08 18:42:06.767789</td>\n      <td>0 days 00:01:37.292745</td>\n      <td>False</td>\n      <td>448</td>\n      <td>5</td>\n      <td>0.000747</td>\n      <td>COMPLETE</td>\n    </tr>\n    <tr>\n      <th>12</th>\n      <td>12</td>\n      <td>-0.423634</td>\n      <td>2023-12-08 18:42:06.768788</td>\n      <td>2023-12-08 18:43:43.285829</td>\n      <td>0 days 00:01:36.517041</td>\n      <td>False</td>\n      <td>400</td>\n      <td>5</td>\n      <td>0.001581</td>\n      <td>COMPLETE</td>\n    </tr>\n    <tr>\n      <th>13</th>\n      <td>13</td>\n      <td>-0.134095</td>\n      <td>2023-12-08 18:43:43.287829</td>\n      <td>2023-12-08 18:45:12.029931</td>\n      <td>0 days 00:01:28.742102</td>\n      <td>False</td>\n      <td>208</td>\n      <td>4</td>\n      <td>0.003150</td>\n      <td>COMPLETE</td>\n    </tr>\n    <tr>\n      <th>14</th>\n      <td>14</td>\n      <td>-0.186675</td>\n      <td>2023-12-08 18:45:12.031934</td>\n      <td>2023-12-08 18:46:41.147552</td>\n      <td>0 days 00:01:29.115618</td>\n      <td>False</td>\n      <td>176</td>\n      <td>4</td>\n      <td>0.003506</td>\n      <td>COMPLETE</td>\n    </tr>\n    <tr>\n      <th>15</th>\n      <td>15</td>\n      <td>-0.133220</td>\n      <td>2023-12-08 18:46:41.148556</td>\n      <td>2023-12-08 18:48:13.436307</td>\n      <td>0 days 00:01:32.287751</td>\n      <td>False</td>\n      <td>240</td>\n      <td>4</td>\n      <td>0.003430</td>\n      <td>COMPLETE</td>\n    </tr>\n    <tr>\n      <th>16</th>\n      <td>16</td>\n      <td>-0.630398</td>\n      <td>2023-12-08 18:48:13.438256</td>\n      <td>2023-12-08 18:49:46.401985</td>\n      <td>0 days 00:01:32.963729</td>\n      <td>False</td>\n      <td>352</td>\n      <td>3</td>\n      <td>0.004909</td>\n      <td>COMPLETE</td>\n    </tr>\n    <tr>\n      <th>17</th>\n      <td>17</td>\n      <td>-0.470978</td>\n      <td>2023-12-08 18:49:46.403012</td>\n      <td>2023-12-08 18:51:15.606150</td>\n      <td>0 days 00:01:29.203138</td>\n      <td>False</td>\n      <td>240</td>\n      <td>4</td>\n      <td>0.001346</td>\n      <td>COMPLETE</td>\n    </tr>\n    <tr>\n      <th>18</th>\n      <td>18</td>\n      <td>-0.437066</td>\n      <td>2023-12-08 18:51:15.607149</td>\n      <td>2023-12-08 18:52:44.520843</td>\n      <td>0 days 00:01:28.913694</td>\n      <td>True</td>\n      <td>160</td>\n      <td>5</td>\n      <td>0.004651</td>\n      <td>COMPLETE</td>\n    </tr>\n    <tr>\n      <th>19</th>\n      <td>19</td>\n      <td>-0.715402</td>\n      <td>2023-12-08 18:52:44.523078</td>\n      <td>2023-12-08 18:54:23.447883</td>\n      <td>0 days 00:01:38.924805</td>\n      <td>False</td>\n      <td>272</td>\n      <td>3</td>\n      <td>0.000589</td>\n      <td>COMPLETE</td>\n    </tr>\n    <tr>\n      <th>20</th>\n      <td>20</td>\n      <td>-0.315142</td>\n      <td>2023-12-08 18:54:23.449886</td>\n      <td>2023-12-08 18:56:17.159650</td>\n      <td>0 days 00:01:53.709764</td>\n      <td>False</td>\n      <td>368</td>\n      <td>4</td>\n      <td>0.001741</td>\n      <td>COMPLETE</td>\n    </tr>\n    <tr>\n      <th>21</th>\n      <td>21</td>\n      <td>-0.293889</td>\n      <td>2023-12-08 18:56:17.160650</td>\n      <td>2023-12-08 18:57:42.064306</td>\n      <td>0 days 00:01:24.903656</td>\n      <td>False</td>\n      <td>224</td>\n      <td>4</td>\n      <td>0.002775</td>\n      <td>COMPLETE</td>\n    </tr>\n    <tr>\n      <th>22</th>\n      <td>22</td>\n      <td>-0.568285</td>\n      <td>2023-12-08 18:57:42.066306</td>\n      <td>2023-12-08 18:59:08.684373</td>\n      <td>0 days 00:01:26.618067</td>\n      <td>False</td>\n      <td>144</td>\n      <td>4</td>\n      <td>0.003345</td>\n      <td>COMPLETE</td>\n    </tr>\n    <tr>\n      <th>23</th>\n      <td>23</td>\n      <td>-0.217024</td>\n      <td>2023-12-08 18:59:08.685482</td>\n      <td>2023-12-08 19:00:52.142131</td>\n      <td>0 days 00:01:43.456649</td>\n      <td>False</td>\n      <td>304</td>\n      <td>5</td>\n      <td>0.001838</td>\n      <td>COMPLETE</td>\n    </tr>\n    <tr>\n      <th>24</th>\n      <td>24</td>\n      <td>-0.268665</td>\n      <td>2023-12-08 19:00:52.143131</td>\n      <td>2023-12-08 19:02:20.277146</td>\n      <td>0 days 00:01:28.134015</td>\n      <td>False</td>\n      <td>224</td>\n      <td>3</td>\n      <td>0.005868</td>\n      <td>COMPLETE</td>\n    </tr>\n    <tr>\n      <th>25</th>\n      <td>25</td>\n      <td>-0.564916</td>\n      <td>2023-12-08 19:02:20.278151</td>\n      <td>2023-12-08 19:03:46.983793</td>\n      <td>0 days 00:01:26.705642</td>\n      <td>False</td>\n      <td>304</td>\n      <td>4</td>\n      <td>0.000788</td>\n      <td>COMPLETE</td>\n    </tr>\n    <tr>\n      <th>26</th>\n      <td>26</td>\n      <td>-0.620454</td>\n      <td>2023-12-08 19:03:46.985232</td>\n      <td>2023-12-08 19:05:09.343810</td>\n      <td>0 days 00:01:22.358578</td>\n      <td>True</td>\n      <td>128</td>\n      <td>5</td>\n      <td>0.003279</td>\n      <td>COMPLETE</td>\n    </tr>\n    <tr>\n      <th>27</th>\n      <td>27</td>\n      <td>-0.172203</td>\n      <td>2023-12-08 19:05:09.344808</td>\n      <td>2023-12-08 19:06:35.998519</td>\n      <td>0 days 00:01:26.653711</td>\n      <td>False</td>\n      <td>192</td>\n      <td>4</td>\n      <td>0.006243</td>\n      <td>COMPLETE</td>\n    </tr>\n    <tr>\n      <th>28</th>\n      <td>28</td>\n      <td>-0.409359</td>\n      <td>2023-12-08 19:06:35.999508</td>\n      <td>2023-12-08 19:08:04.814714</td>\n      <td>0 days 00:01:28.815206</td>\n      <td>False</td>\n      <td>256</td>\n      <td>5</td>\n      <td>0.001235</td>\n      <td>COMPLETE</td>\n    </tr>\n    <tr>\n      <th>29</th>\n      <td>29</td>\n      <td>-0.511041</td>\n      <td>2023-12-08 19:08:04.816711</td>\n      <td>2023-12-08 19:09:28.893172</td>\n      <td>0 days 00:01:24.076461</td>\n      <td>True</td>\n      <td>208</td>\n      <td>3</td>\n      <td>0.002281</td>\n      <td>COMPLETE</td>\n    </tr>\n    <tr>\n      <th>30</th>\n      <td>30</td>\n      <td>-0.493429</td>\n      <td>2023-12-08 19:09:28.894172</td>\n      <td>2023-12-08 19:10:47.306992</td>\n      <td>0 days 00:01:18.412820</td>\n      <td>False</td>\n      <td>16</td>\n      <td>5</td>\n      <td>0.008321</td>\n      <td>COMPLETE</td>\n    </tr>\n    <tr>\n      <th>31</th>\n      <td>31</td>\n      <td>-0.339679</td>\n      <td>2023-12-08 19:10:47.307992</td>\n      <td>2023-12-08 19:12:09.836074</td>\n      <td>0 days 00:01:22.528082</td>\n      <td>False</td>\n      <td>96</td>\n      <td>4</td>\n      <td>0.005290</td>\n      <td>COMPLETE</td>\n    </tr>\n    <tr>\n      <th>32</th>\n      <td>32</td>\n      <td>-0.177032</td>\n      <td>2023-12-08 19:12:09.838077</td>\n      <td>2023-12-08 19:13:37.520208</td>\n      <td>0 days 00:01:27.682131</td>\n      <td>False</td>\n      <td>192</td>\n      <td>4</td>\n      <td>0.005967</td>\n      <td>COMPLETE</td>\n    </tr>\n    <tr>\n      <th>33</th>\n      <td>33</td>\n      <td>-0.064534</td>\n      <td>2023-12-08 19:13:37.521207</td>\n      <td>2023-12-08 19:15:04.821676</td>\n      <td>0 days 00:01:27.300469</td>\n      <td>False</td>\n      <td>288</td>\n      <td>4</td>\n      <td>0.002537</td>\n      <td>COMPLETE</td>\n    </tr>\n    <tr>\n      <th>34</th>\n      <td>34</td>\n      <td>-0.069729</td>\n      <td>2023-12-08 19:15:04.823681</td>\n      <td>2023-12-08 19:16:28.874782</td>\n      <td>0 days 00:01:24.051101</td>\n      <td>False</td>\n      <td>320</td>\n      <td>3</td>\n      <td>0.002380</td>\n      <td>COMPLETE</td>\n    </tr>\n    <tr>\n      <th>35</th>\n      <td>35</td>\n      <td>-0.298354</td>\n      <td>2023-12-08 19:16:28.874782</td>\n      <td>2023-12-08 19:17:58.058011</td>\n      <td>0 days 00:01:29.183229</td>\n      <td>False</td>\n      <td>320</td>\n      <td>3</td>\n      <td>0.001075</td>\n      <td>COMPLETE</td>\n    </tr>\n    <tr>\n      <th>36</th>\n      <td>36</td>\n      <td>-0.570763</td>\n      <td>2023-12-08 19:17:58.059383</td>\n      <td>2023-12-08 19:19:28.808280</td>\n      <td>0 days 00:01:30.748897</td>\n      <td>True</td>\n      <td>272</td>\n      <td>2</td>\n      <td>0.002054</td>\n      <td>COMPLETE</td>\n    </tr>\n    <tr>\n      <th>37</th>\n      <td>37</td>\n      <td>-0.967025</td>\n      <td>2023-12-08 19:19:28.810281</td>\n      <td>2023-12-08 19:20:52.912257</td>\n      <td>0 days 00:01:24.101976</td>\n      <td>False</td>\n      <td>384</td>\n      <td>2</td>\n      <td>0.000223</td>\n      <td>COMPLETE</td>\n    </tr>\n    <tr>\n      <th>38</th>\n      <td>38</td>\n      <td>-0.236836</td>\n      <td>2023-12-08 19:20:52.915259</td>\n      <td>2023-12-08 19:22:17.597596</td>\n      <td>0 days 00:01:24.682337</td>\n      <td>False</td>\n      <td>304</td>\n      <td>1</td>\n      <td>0.001490</td>\n      <td>COMPLETE</td>\n    </tr>\n    <tr>\n      <th>39</th>\n      <td>39</td>\n      <td>-44.819782</td>\n      <td>2023-12-08 19:22:17.598594</td>\n      <td>2023-12-08 19:23:45.053403</td>\n      <td>0 days 00:01:27.454809</td>\n      <td>True</td>\n      <td>336</td>\n      <td>3</td>\n      <td>0.000013</td>\n      <td>COMPLETE</td>\n    </tr>\n    <tr>\n      <th>40</th>\n      <td>40</td>\n      <td>-0.940761</td>\n      <td>2023-12-08 19:23:45.054401</td>\n      <td>2023-12-08 19:25:14.634907</td>\n      <td>0 days 00:01:29.580506</td>\n      <td>False</td>\n      <td>432</td>\n      <td>3</td>\n      <td>0.003861</td>\n      <td>COMPLETE</td>\n    </tr>\n    <tr>\n      <th>41</th>\n      <td>41</td>\n      <td>-0.185561</td>\n      <td>2023-12-08 19:25:14.635907</td>\n      <td>2023-12-08 19:26:44.896815</td>\n      <td>0 days 00:01:30.260908</td>\n      <td>False</td>\n      <td>288</td>\n      <td>3</td>\n      <td>0.002496</td>\n      <td>COMPLETE</td>\n    </tr>\n    <tr>\n      <th>42</th>\n      <td>42</td>\n      <td>-0.139450</td>\n      <td>2023-12-08 19:26:44.897814</td>\n      <td>2023-12-08 19:28:13.633362</td>\n      <td>0 days 00:01:28.735548</td>\n      <td>False</td>\n      <td>240</td>\n      <td>4</td>\n      <td>0.002971</td>\n      <td>COMPLETE</td>\n    </tr>\n    <tr>\n      <th>43</th>\n      <td>43</td>\n      <td>-0.074655</td>\n      <td>2023-12-08 19:28:13.634361</td>\n      <td>2023-12-08 19:29:41.771979</td>\n      <td>0 days 00:01:28.137618</td>\n      <td>False</td>\n      <td>256</td>\n      <td>5</td>\n      <td>0.004105</td>\n      <td>COMPLETE</td>\n    </tr>\n    <tr>\n      <th>44</th>\n      <td>44</td>\n      <td>-0.099125</td>\n      <td>2023-12-08 19:29:41.773979</td>\n      <td>2023-12-08 19:31:07.195855</td>\n      <td>0 days 00:01:25.421876</td>\n      <td>False</td>\n      <td>336</td>\n      <td>5</td>\n      <td>0.002209</td>\n      <td>COMPLETE</td>\n    </tr>\n    <tr>\n      <th>45</th>\n      <td>45</td>\n      <td>-0.110164</td>\n      <td>2023-12-08 19:31:07.196858</td>\n      <td>2023-12-08 19:32:38.428737</td>\n      <td>0 days 00:01:31.231879</td>\n      <td>False</td>\n      <td>336</td>\n      <td>5</td>\n      <td>0.002221</td>\n      <td>COMPLETE</td>\n    </tr>\n    <tr>\n      <th>46</th>\n      <td>46</td>\n      <td>-0.308943</td>\n      <td>2023-12-08 19:32:38.429734</td>\n      <td>2023-12-08 19:34:17.606315</td>\n      <td>0 days 00:01:39.176581</td>\n      <td>False</td>\n      <td>352</td>\n      <td>5</td>\n      <td>0.001035</td>\n      <td>COMPLETE</td>\n    </tr>\n    <tr>\n      <th>47</th>\n      <td>47</td>\n      <td>-0.206544</td>\n      <td>2023-12-08 19:34:17.607311</td>\n      <td>2023-12-08 19:36:15.042389</td>\n      <td>0 days 00:01:57.435078</td>\n      <td>False</td>\n      <td>400</td>\n      <td>5</td>\n      <td>0.002258</td>\n      <td>COMPLETE</td>\n    </tr>\n    <tr>\n      <th>48</th>\n      <td>48</td>\n      <td>-1.853357</td>\n      <td>2023-12-08 19:36:15.043390</td>\n      <td>2023-12-08 19:38:10.002102</td>\n      <td>0 days 00:01:54.958712</td>\n      <td>False</td>\n      <td>352</td>\n      <td>5</td>\n      <td>0.004332</td>\n      <td>COMPLETE</td>\n    </tr>\n    <tr>\n      <th>49</th>\n      <td>49</td>\n      <td>-354.480989</td>\n      <td>2023-12-08 19:38:10.003100</td>\n      <td>2023-12-08 19:40:17.836661</td>\n      <td>0 days 00:02:07.833561</td>\n      <td>False</td>\n      <td>512</td>\n      <td>5</td>\n      <td>0.009754</td>\n      <td>COMPLETE</td>\n    </tr>\n  </tbody>\n</table>\n</div>"
     },
     "execution_count": 17,
     "metadata": {},
     "output_type": "execute_result"
    }
   ],
   "source": [
    "df_default = study_default.trials_dataframe()\n",
    "df_default.to_csv(\"study_label-default_normalized.csv\")\n",
    "df_default"
   ],
   "metadata": {
    "collapsed": false,
    "ExecuteTime": {
     "start_time": "2023-12-06T23:06:50.579904Z",
     "end_time": "2023-12-06T23:06:50.627440Z"
    }
   }
  }
 ],
 "metadata": {
  "kernelspec": {
   "display_name": "Python 3",
   "language": "python",
   "name": "python3"
  },
  "language_info": {
   "codemirror_mode": {
    "name": "ipython",
    "version": 2
   },
   "file_extension": ".py",
   "mimetype": "text/x-python",
   "name": "python",
   "nbconvert_exporter": "python",
   "pygments_lexer": "ipython2",
   "version": "2.7.6"
  }
 },
 "nbformat": 4,
 "nbformat_minor": 0
}
