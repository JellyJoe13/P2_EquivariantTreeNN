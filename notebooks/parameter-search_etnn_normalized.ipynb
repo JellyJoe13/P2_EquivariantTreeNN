{
 "cells": [
  {
   "cell_type": "markdown",
   "source": [
    "# Parameter search with optuna - ETNN"
   ],
   "metadata": {
    "collapsed": false
   }
  },
  {
   "cell_type": "markdown",
   "source": [
    "## Importing section"
   ],
   "metadata": {
    "collapsed": false
   }
  },
  {
   "cell_type": "code",
   "execution_count": 1,
   "metadata": {
    "collapsed": true,
    "ExecuteTime": {
     "start_time": "2023-12-06T14:14:38.427463Z",
     "end_time": "2023-12-06T14:14:41.031046Z"
    }
   },
   "outputs": [],
   "source": [
    "import optuna\n",
    "\n",
    "import numpy as np\n",
    "\n",
    "import torch\n",
    "from sklearn.metrics import r2_score\n",
    "from torch.utils.data import random_split, DataLoader\n",
    "\n",
    "from etnn import TreeNode\n",
    "from etnn.nn.layer_framework import LayerManagementFramework\n",
    "from etnn.routines.run_config import choice_dataset, choice_trainloader, choice_loss, choice_optim\n",
    "from etnn.tools.training import train_epoch, eval_epoch\n",
    "from etnn.tools.training_tools import ConfigStore, seeding_all"
   ]
  },
  {
   "cell_type": "markdown",
   "source": [
    "## Definition of objective function for ETNN"
   ],
   "metadata": {
    "collapsed": false
   }
  },
  {
   "cell_type": "code",
   "execution_count": 3,
   "outputs": [],
   "source": [
    "def objective(trial):\n",
    "    # init default config\n",
    "    config = ConfigStore(\n",
    "        in_dim=15,\n",
    "        hidden_dim=trial.suggest_int(\"hidden_dim\", 16, 512, step=16),\n",
    "        out_dim=1,\n",
    "        k=trial.suggest_int(\"k\", 1, 5),\n",
    "        dataset=-1,\n",
    "        ds_size=10_000,\n",
    "        num_gondolas=10,\n",
    "        num_part_pg=5,\n",
    "        loss_name='mse',\n",
    "        optimizer_name='adam',\n",
    "        num_max_epochs=30, # real: 100\n",
    "        learning_rate=trial.suggest_float(\"learning_rate\", 1e-5, 1e-2, log=True),\n",
    "        batch_size=1024,\n",
    "        early_stop_tol=5,\n",
    "        use_equal_batcher=trial.suggest_categorical(\"batcher\", [True, False]),\n",
    "        seed=420,\n",
    "        label_type=label,\n",
    "        final_label_factor=1/1000\n",
    "    )\n",
    "\n",
    "    # loading dataset\n",
    "    dataset, df_index = choice_dataset(config, dataset_path)\n",
    "    # splitting off test dataset\n",
    "    generator = torch.Generator().manual_seed(config.seed)\n",
    "    train_ds, val_ds, _ = random_split(\n",
    "        dataset,\n",
    "        [1 - test_perc - val_perc, val_perc, test_perc],\n",
    "        generator=generator\n",
    "    )\n",
    "\n",
    "    # loaders\n",
    "    train_loader = choice_trainloader(config, df_index, train_ds)\n",
    "    val_loader = DataLoader(val_ds, batch_size=4 * config.batch_size, shuffle=False)\n",
    "\n",
    "    # build tree\n",
    "    tree_structure = TreeNode(\n",
    "        node_type=\"C\",\n",
    "        children=[\n",
    "            TreeNode(\"P\", [TreeNode(\"E\", config.num_part_pg)])\n",
    "            for _ in range(config.num_gondolas)\n",
    "        ]\n",
    "    )\n",
    "\n",
    "    # define device\n",
    "    device = \"cuda\" if torch.cuda.is_available() else \"cpu\"\n",
    "\n",
    "    # set seed for reproducability\n",
    "    seeding_all(config.seed)\n",
    "\n",
    "    # define model\n",
    "    model = LayerManagementFramework(\n",
    "        in_dim=config.in_dim,\n",
    "        tree=tree_structure,\n",
    "        hidden_dim=config.hidden_dim,\n",
    "        out_dim=config.out_dim,\n",
    "        k=config.k\n",
    "    ).to(device)\n",
    "\n",
    "    # learning tools\n",
    "    criterion = choice_loss(config)\n",
    "    optimizer = choice_optim(config, model)\n",
    "\n",
    "    # init score list\n",
    "    score_list = []\n",
    "\n",
    "    # train for specified number of epochs\n",
    "    for epoch in range(config.num_max_epochs):\n",
    "        _, _, _ = train_epoch(\n",
    "            model,\n",
    "            train_loader,\n",
    "            optimizer,\n",
    "            device,\n",
    "            criterion\n",
    "        )\n",
    "\n",
    "        _, val_true_y, val_pred_y = eval_epoch(\n",
    "            model,\n",
    "            val_loader,\n",
    "            device,\n",
    "            criterion\n",
    "        )\n",
    "\n",
    "        # calc r2 score and append\n",
    "        score = r2_score(y_true=val_true_y, y_pred=val_pred_y)\n",
    "        score_list += [score]\n",
    "        trial.report(score, epoch)\n",
    "\n",
    "    # calculate objective\n",
    "    # display(score_list)\n",
    "    # idea: last x r2 scores (why not last one? for stability purposes)\n",
    "    obj = np.array(score_list)[-stability_count:]\n",
    "    return np.mean(obj)"
   ],
   "metadata": {
    "collapsed": false,
    "ExecuteTime": {
     "start_time": "2023-12-06T14:14:41.050470Z",
     "end_time": "2023-12-06T14:14:41.068680Z"
    }
   }
  },
  {
   "cell_type": "markdown",
   "source": [
    "## Tree advanced label"
   ],
   "metadata": {
    "collapsed": false
   }
  },
  {
   "cell_type": "code",
   "execution_count": 2,
   "outputs": [],
   "source": [
    "# setting global parameters\n",
    "dataset_path = \"../datasets/\"\n",
    "label = \"tree_advanced\" # alt: tree or default\n",
    "test_perc = 0.3\n",
    "val_perc = 0.21\n",
    "stability_count = 5\n",
    "n_trials = 50"
   ],
   "metadata": {
    "collapsed": false
   }
  },
  {
   "cell_type": "code",
   "execution_count": 4,
   "outputs": [
    {
     "name": "stderr",
     "output_type": "stream",
     "text": [
      "[I 2023-12-06 14:14:41,063] A new study created in memory with name: Best tree advanced label config\n"
     ]
    },
    {
     "data": {
      "text/plain": "  0%|          | 0/200 [00:00<?, ?it/s]",
      "application/vnd.jupyter.widget-view+json": {
       "version_major": 2,
       "version_minor": 0,
       "model_id": "a1a0be1adc9e4a6685cff286f7620681"
      }
     },
     "metadata": {},
     "output_type": "display_data"
    },
    {
     "name": "stdout",
     "output_type": "stream",
     "text": [
      "[I 2023-12-06 14:16:16,163] Trial 0 finished with value: 0.977835170258216 and parameters: {'hidden_dim': 512, 'k': 1, 'learning_rate': 0.00011521278895657964, 'batcher': False}. Best is trial 0 with value: 0.977835170258216.\n",
      "[I 2023-12-06 14:17:46,148] Trial 1 finished with value: -1.2182537060438932 and parameters: {'hidden_dim': 512, 'k': 4, 'learning_rate': 1.3043904324244627e-05, 'batcher': False}. Best is trial 0 with value: 0.977835170258216.\n",
      "[I 2023-12-06 14:19:11,420] Trial 2 finished with value: -45.13049526861947 and parameters: {'hidden_dim': 448, 'k': 1, 'learning_rate': 0.0001684222214709156, 'batcher': True}. Best is trial 0 with value: 0.977835170258216.\n",
      "[I 2023-12-06 14:20:37,669] Trial 3 finished with value: 0.7065345424868887 and parameters: {'hidden_dim': 432, 'k': 3, 'learning_rate': 8.67418895440181e-05, 'batcher': True}. Best is trial 0 with value: 0.977835170258216.\n",
      "[I 2023-12-06 14:22:01,657] Trial 4 finished with value: -0.18986505702947146 and parameters: {'hidden_dim': 304, 'k': 4, 'learning_rate': 0.0001162284635684981, 'batcher': False}. Best is trial 0 with value: 0.977835170258216.\n",
      "[I 2023-12-06 14:23:25,019] Trial 5 finished with value: -0.2430486068742161 and parameters: {'hidden_dim': 352, 'k': 5, 'learning_rate': 0.00012346798379056333, 'batcher': True}. Best is trial 0 with value: 0.977835170258216.\n",
      "[I 2023-12-06 14:24:47,782] Trial 6 finished with value: 0.9327392474518257 and parameters: {'hidden_dim': 208, 'k': 3, 'learning_rate': 0.00035743117484926014, 'batcher': False}. Best is trial 0 with value: 0.977835170258216.\n",
      "[I 2023-12-06 14:26:09,530] Trial 7 finished with value: 0.4347132356009139 and parameters: {'hidden_dim': 176, 'k': 2, 'learning_rate': 6.817932216043234e-05, 'batcher': True}. Best is trial 0 with value: 0.977835170258216.\n",
      "[I 2023-12-06 14:27:32,833] Trial 8 finished with value: -1.7269413432175007 and parameters: {'hidden_dim': 448, 'k': 2, 'learning_rate': 0.002312844948170743, 'batcher': True}. Best is trial 0 with value: 0.977835170258216.\n",
      "[I 2023-12-06 14:28:51,067] Trial 9 finished with value: -1.145650025578293 and parameters: {'hidden_dim': 144, 'k': 2, 'learning_rate': 1.6578385322324828e-05, 'batcher': True}. Best is trial 0 with value: 0.977835170258216.\n",
      "[I 2023-12-06 14:30:11,146] Trial 10 finished with value: -0.00044210276989935514 and parameters: {'hidden_dim': 80, 'k': 1, 'learning_rate': 0.007191176252757536, 'batcher': False}. Best is trial 0 with value: 0.977835170258216.\n",
      "[I 2023-12-06 14:31:35,132] Trial 11 finished with value: -165.78746238934622 and parameters: {'hidden_dim': 224, 'k': 3, 'learning_rate': 0.0005451917321789581, 'batcher': False}. Best is trial 0 with value: 0.977835170258216.\n",
      "[I 2023-12-06 14:33:02,444] Trial 12 finished with value: 0.9832775285784818 and parameters: {'hidden_dim': 32, 'k': 1, 'learning_rate': 0.0005202071253481668, 'batcher': False}. Best is trial 12 with value: 0.9832775285784818.\n",
      "[I 2023-12-06 14:34:55,821] Trial 13 finished with value: 0.9918005891840395 and parameters: {'hidden_dim': 32, 'k': 1, 'learning_rate': 0.0008357199232677771, 'batcher': False}. Best is trial 13 with value: 0.9918005891840395.\n",
      "[I 2023-12-06 14:36:52,569] Trial 14 finished with value: -1168.4173374961606 and parameters: {'hidden_dim': 16, 'k': 1, 'learning_rate': 0.000925499132793952, 'batcher': False}. Best is trial 13 with value: 0.9918005891840395.\n",
      "[I 2023-12-06 14:38:46,251] Trial 15 finished with value: 0.916381740730747 and parameters: {'hidden_dim': 32, 'k': 2, 'learning_rate': 0.0013126929810828346, 'batcher': False}. Best is trial 13 with value: 0.9918005891840395.\n",
      "[I 2023-12-06 14:40:20,483] Trial 16 finished with value: 0.8328745758347443 and parameters: {'hidden_dim': 112, 'k': 1, 'learning_rate': 0.0023996467226407594, 'batcher': False}. Best is trial 13 with value: 0.9918005891840395.\n",
      "[I 2023-12-06 14:41:50,908] Trial 17 finished with value: 0.7010164677299215 and parameters: {'hidden_dim': 80, 'k': 2, 'learning_rate': 0.0004047070465667412, 'batcher': False}. Best is trial 13 with value: 0.9918005891840395.\n",
      "[I 2023-12-06 14:43:24,418] Trial 18 finished with value: 0.9908092286348775 and parameters: {'hidden_dim': 16, 'k': 4, 'learning_rate': 0.0010963323470728906, 'batcher': False}. Best is trial 13 with value: 0.9918005891840395.\n",
      "[I 2023-12-06 14:45:22,209] Trial 19 finished with value: -2385.8040276700563 and parameters: {'hidden_dim': 288, 'k': 5, 'learning_rate': 0.008894674010505775, 'batcher': False}. Best is trial 13 with value: 0.9918005891840395.\n",
      "[I 2023-12-06 14:47:21,566] Trial 20 finished with value: -8.782285573013317 and parameters: {'hidden_dim': 96, 'k': 4, 'learning_rate': 0.0009980940808588098, 'batcher': False}. Best is trial 13 with value: 0.9918005891840395.\n",
      "[I 2023-12-06 14:49:14,306] Trial 21 finished with value: 0.6270075354467689 and parameters: {'hidden_dim': 32, 'k': 4, 'learning_rate': 0.000578426543822921, 'batcher': False}. Best is trial 13 with value: 0.9918005891840395.\n",
      "[I 2023-12-06 14:51:10,897] Trial 22 finished with value: -3.78014067816139 and parameters: {'hidden_dim': 16, 'k': 5, 'learning_rate': 0.0002497446575260027, 'batcher': False}. Best is trial 13 with value: 0.9918005891840395.\n",
      "[I 2023-12-06 14:53:09,512] Trial 23 finished with value: 0.9870534602383755 and parameters: {'hidden_dim': 64, 'k': 3, 'learning_rate': 0.0016712418508772915, 'batcher': False}. Best is trial 13 with value: 0.9918005891840395.\n",
      "[I 2023-12-06 14:54:42,560] Trial 24 finished with value: 0.422821938092348 and parameters: {'hidden_dim': 64, 'k': 3, 'learning_rate': 0.002312665739331292, 'batcher': False}. Best is trial 13 with value: 0.9918005891840395.\n",
      "[I 2023-12-06 14:56:19,435] Trial 25 finished with value: 0.8325768541974075 and parameters: {'hidden_dim': 128, 'k': 4, 'learning_rate': 0.003919175832880415, 'batcher': False}. Best is trial 13 with value: 0.9918005891840395.\n",
      "[I 2023-12-06 14:58:18,542] Trial 26 finished with value: -4.825899545024648 and parameters: {'hidden_dim': 144, 'k': 4, 'learning_rate': 0.0016314445461267017, 'batcher': False}. Best is trial 13 with value: 0.9918005891840395.\n",
      "[I 2023-12-06 15:00:09,417] Trial 27 finished with value: -2.4577846751430323 and parameters: {'hidden_dim': 176, 'k': 3, 'learning_rate': 0.0007475927765835958, 'batcher': False}. Best is trial 13 with value: 0.9918005891840395.\n",
      "[I 2023-12-06 15:02:00,652] Trial 28 finished with value: 0.6694768455859272 and parameters: {'hidden_dim': 64, 'k': 5, 'learning_rate': 0.0012304232120708635, 'batcher': False}. Best is trial 13 with value: 0.9918005891840395.\n",
      "[I 2023-12-06 15:03:51,556] Trial 29 finished with value: 0.992468230296361 and parameters: {'hidden_dim': 64, 'k': 2, 'learning_rate': 0.004193698473708694, 'batcher': False}. Best is trial 29 with value: 0.992468230296361.\n",
      "[I 2023-12-06 15:05:45,078] Trial 30 finished with value: 0.602796498947458 and parameters: {'hidden_dim': 224, 'k': 2, 'learning_rate': 0.004453108283318352, 'batcher': False}. Best is trial 29 with value: 0.992468230296361.\n",
      "[I 2023-12-06 15:07:26,498] Trial 31 finished with value: 0.9343972652920861 and parameters: {'hidden_dim': 64, 'k': 3, 'learning_rate': 0.004078112883552678, 'batcher': False}. Best is trial 29 with value: 0.992468230296361.\n",
      "[I 2023-12-06 15:09:18,628] Trial 32 finished with value: 0.9940845562625057 and parameters: {'hidden_dim': 48, 'k': 2, 'learning_rate': 0.001754817877389713, 'batcher': False}. Best is trial 32 with value: 0.9940845562625057.\n",
      "[I 2023-12-06 15:11:08,666] Trial 33 finished with value: -3.543302221455865 and parameters: {'hidden_dim': 112, 'k': 1, 'learning_rate': 0.0008651400195135349, 'batcher': False}. Best is trial 32 with value: 0.9940845562625057.\n",
      "[I 2023-12-06 15:12:50,483] Trial 34 finished with value: 0.9984548614809224 and parameters: {'hidden_dim': 16, 'k': 2, 'learning_rate': 0.0027798626982959837, 'batcher': False}. Best is trial 34 with value: 0.9984548614809224.\n",
      "[I 2023-12-06 15:14:40,813] Trial 35 finished with value: 0.9881403921434264 and parameters: {'hidden_dim': 48, 'k': 2, 'learning_rate': 0.005953206605811171, 'batcher': True}. Best is trial 34 with value: 0.9984548614809224.\n",
      "[I 2023-12-06 15:16:36,681] Trial 36 finished with value: -10.542789576143354 and parameters: {'hidden_dim': 352, 'k': 2, 'learning_rate': 0.0031188848016926807, 'batcher': False}. Best is trial 34 with value: 0.9984548614809224.\n",
      "[I 2023-12-06 15:18:19,851] Trial 37 finished with value: 0.40743098531016597 and parameters: {'hidden_dim': 176, 'k': 1, 'learning_rate': 0.005439488031391103, 'batcher': False}. Best is trial 34 with value: 0.9984548614809224.\n",
      "[I 2023-12-06 15:19:48,399] Trial 38 finished with value: -326.6496161975075 and parameters: {'hidden_dim': 96, 'k': 2, 'learning_rate': 0.008600013600804368, 'batcher': True}. Best is trial 34 with value: 0.9984548614809224.\n",
      "[I 2023-12-06 15:21:48,408] Trial 39 finished with value: 0.9728297507878418 and parameters: {'hidden_dim': 384, 'k': 1, 'learning_rate': 0.001854688478565747, 'batcher': False}. Best is trial 34 with value: 0.9984548614809224.\n",
      "[I 2023-12-06 15:23:38,764] Trial 40 finished with value: 0.9892799473520085 and parameters: {'hidden_dim': 48, 'k': 2, 'learning_rate': 0.0032142337181658843, 'batcher': True}. Best is trial 34 with value: 0.9984548614809224.\n",
      "[I 2023-12-06 15:25:20,453] Trial 41 finished with value: 0.9953462825334922 and parameters: {'hidden_dim': 16, 'k': 3, 'learning_rate': 0.0012948267191400813, 'batcher': False}. Best is trial 34 with value: 0.9984548614809224.\n",
      "[I 2023-12-06 15:27:08,298] Trial 42 finished with value: 0.9953598251567568 and parameters: {'hidden_dim': 16, 'k': 3, 'learning_rate': 0.0014381578852845807, 'batcher': False}. Best is trial 34 with value: 0.9984548614809224.\n",
      "[I 2023-12-06 15:28:56,508] Trial 43 finished with value: 0.9253994625745072 and parameters: {'hidden_dim': 16, 'k': 3, 'learning_rate': 0.003057900519653497, 'batcher': False}. Best is trial 34 with value: 0.9984548614809224.\n",
      "[I 2023-12-06 15:30:43,530] Trial 44 finished with value: -1382.6267477891467 and parameters: {'hidden_dim': 96, 'k': 3, 'learning_rate': 0.0015882097604447557, 'batcher': False}. Best is trial 34 with value: 0.9984548614809224.\n",
      "[I 2023-12-06 15:32:29,185] Trial 45 finished with value: 0.9170520332922235 and parameters: {'hidden_dim': 48, 'k': 2, 'learning_rate': 0.002218069353039596, 'batcher': False}. Best is trial 34 with value: 0.9984548614809224.\n",
      "[I 2023-12-06 15:34:28,772] Trial 46 finished with value: -1827.785410808538 and parameters: {'hidden_dim': 480, 'k': 3, 'learning_rate': 0.006042740755252368, 'batcher': True}. Best is trial 34 with value: 0.9984548614809224.\n",
      "[I 2023-12-06 15:36:17,031] Trial 47 finished with value: 0.9349710477017192 and parameters: {'hidden_dim': 128, 'k': 2, 'learning_rate': 0.0013767300511055847, 'batcher': False}. Best is trial 34 with value: 0.9984548614809224.\n",
      "[I 2023-12-06 15:38:06,045] Trial 48 finished with value: 0.8771544817738193 and parameters: {'hidden_dim': 80, 'k': 2, 'learning_rate': 0.0027097650853699076, 'batcher': False}. Best is trial 34 with value: 0.9984548614809224.\n",
      "[I 2023-12-06 15:39:59,630] Trial 49 finished with value: -6.084304795343062 and parameters: {'hidden_dim': 48, 'k': 3, 'learning_rate': 0.00984971031105055, 'batcher': False}. Best is trial 34 with value: 0.9984548614809224.\n",
      "[I 2023-12-06 15:41:53,454] Trial 50 finished with value: 0.9377109616373108 and parameters: {'hidden_dim': 256, 'k': 2, 'learning_rate': 0.0021784771626386923, 'batcher': False}. Best is trial 34 with value: 0.9984548614809224.\n",
      "[I 2023-12-06 15:43:34,347] Trial 51 finished with value: -1173.936478210611 and parameters: {'hidden_dim': 16, 'k': 1, 'learning_rate': 0.0007512118245250795, 'batcher': False}. Best is trial 34 with value: 0.9984548614809224.\n",
      "[I 2023-12-06 15:45:29,671] Trial 52 finished with value: -1105.5784271686346 and parameters: {'hidden_dim': 32, 'k': 3, 'learning_rate': 0.0013582127065647047, 'batcher': False}. Best is trial 34 with value: 0.9984548614809224.\n",
      "[I 2023-12-06 15:47:24,325] Trial 53 finished with value: 0.9311663711167538 and parameters: {'hidden_dim': 32, 'k': 1, 'learning_rate': 0.0019450079935210641, 'batcher': False}. Best is trial 34 with value: 0.9984548614809224.\n",
      "[I 2023-12-06 15:49:12,322] Trial 54 finished with value: -12.48155416236712 and parameters: {'hidden_dim': 80, 'k': 1, 'learning_rate': 0.0012062675550016662, 'batcher': False}. Best is trial 34 with value: 0.9984548614809224.\n",
      "[I 2023-12-06 15:51:00,336] Trial 55 finished with value: 0.9984184745239653 and parameters: {'hidden_dim': 16, 'k': 2, 'learning_rate': 0.0027406123882571325, 'batcher': False}. Best is trial 34 with value: 0.9984548614809224.\n",
      "[I 2023-12-06 15:52:50,757] Trial 56 finished with value: -1175.3097778498372 and parameters: {'hidden_dim': 16, 'k': 2, 'learning_rate': 0.003701498882902534, 'batcher': False}. Best is trial 34 with value: 0.9984548614809224.\n",
      "[I 2023-12-06 15:54:38,338] Trial 57 finished with value: 0.981832755062276 and parameters: {'hidden_dim': 48, 'k': 2, 'learning_rate': 0.00480716045202466, 'batcher': True}. Best is trial 34 with value: 0.9984548614809224.\n",
      "[I 2023-12-06 15:56:26,598] Trial 58 finished with value: 0.9512344761415994 and parameters: {'hidden_dim': 144, 'k': 2, 'learning_rate': 0.002626350737600567, 'batcher': False}. Best is trial 34 with value: 0.9984548614809224.\n",
      "[I 2023-12-06 15:58:20,887] Trial 59 finished with value: 0.9707317454390149 and parameters: {'hidden_dim': 80, 'k': 3, 'learning_rate': 0.003509144936009432, 'batcher': False}. Best is trial 34 with value: 0.9984548614809224.\n",
      "[I 2023-12-06 16:00:04,951] Trial 60 finished with value: 0.9916387881842382 and parameters: {'hidden_dim': 16, 'k': 2, 'learning_rate': 0.002736006006516277, 'batcher': False}. Best is trial 34 with value: 0.9984548614809224.\n",
      "[I 2023-12-06 16:01:45,790] Trial 61 finished with value: 0.9677296630854123 and parameters: {'hidden_dim': 32, 'k': 3, 'learning_rate': 0.0017525978100677107, 'batcher': False}. Best is trial 34 with value: 0.9984548614809224.\n",
      "[I 2023-12-06 16:03:34,400] Trial 62 finished with value: 0.945457888020649 and parameters: {'hidden_dim': 64, 'k': 2, 'learning_rate': 0.0008802013636170224, 'batcher': False}. Best is trial 34 with value: 0.9984548614809224.\n",
      "[I 2023-12-06 16:05:23,525] Trial 63 finished with value: 0.9974831366055392 and parameters: {'hidden_dim': 48, 'k': 1, 'learning_rate': 0.0010561275777841233, 'batcher': False}. Best is trial 34 with value: 0.9984548614809224.\n",
      "[I 2023-12-06 16:07:09,558] Trial 64 finished with value: -866.4438357335808 and parameters: {'hidden_dim': 112, 'k': 2, 'learning_rate': 0.001004567571723677, 'batcher': False}. Best is trial 34 with value: 0.9984548614809224.\n",
      "[I 2023-12-06 16:08:53,680] Trial 65 finished with value: -0.6456314809358066 and parameters: {'hidden_dim': 48, 'k': 3, 'learning_rate': 0.0020845173679837196, 'batcher': False}. Best is trial 34 with value: 0.9984548614809224.\n",
      "[I 2023-12-06 16:10:46,844] Trial 66 finished with value: 0.9972670750456892 and parameters: {'hidden_dim': 64, 'k': 1, 'learning_rate': 0.00146992718259247, 'batcher': False}. Best is trial 34 with value: 0.9984548614809224.\n",
      "[I 2023-12-06 16:12:29,697] Trial 67 finished with value: -1171.2703047096616 and parameters: {'hidden_dim': 16, 'k': 1, 'learning_rate': 0.0006590187459277111, 'batcher': False}. Best is trial 34 with value: 0.9984548614809224.\n",
      "[I 2023-12-06 16:14:15,698] Trial 68 finished with value: 0.9714496104175211 and parameters: {'hidden_dim': 32, 'k': 1, 'learning_rate': 0.0011379669480724322, 'batcher': False}. Best is trial 34 with value: 0.9984548614809224.\n",
      "[I 2023-12-06 16:16:09,333] Trial 69 finished with value: 0.9816353404501651 and parameters: {'hidden_dim': 96, 'k': 1, 'learning_rate': 0.001370724921648304, 'batcher': False}. Best is trial 34 with value: 0.9984548614809224.\n",
      "[I 2023-12-06 16:18:01,305] Trial 70 finished with value: -0.5329837121466686 and parameters: {'hidden_dim': 80, 'k': 4, 'learning_rate': 0.0004344301000859635, 'batcher': False}. Best is trial 34 with value: 0.9984548614809224.\n",
      "[I 2023-12-06 16:19:48,110] Trial 71 finished with value: 0.9939824472428012 and parameters: {'hidden_dim': 64, 'k': 2, 'learning_rate': 0.0026015996004642313, 'batcher': False}. Best is trial 34 with value: 0.9984548614809224.\n",
      "[I 2023-12-06 16:21:45,439] Trial 72 finished with value: 0.9906825977075311 and parameters: {'hidden_dim': 32, 'k': 1, 'learning_rate': 0.0015985905715585082, 'batcher': False}. Best is trial 34 with value: 0.9984548614809224.\n",
      "[I 2023-12-06 16:23:40,079] Trial 73 finished with value: 0.5268149447182225 and parameters: {'hidden_dim': 48, 'k': 2, 'learning_rate': 0.0023981993698750986, 'batcher': False}. Best is trial 34 with value: 0.9984548614809224.\n",
      "[I 2023-12-06 16:25:25,879] Trial 74 finished with value: -29.878044680956123 and parameters: {'hidden_dim': 64, 'k': 1, 'learning_rate': 0.0010307651991288947, 'batcher': False}. Best is trial 34 with value: 0.9984548614809224.\n",
      "[I 2023-12-06 16:27:12,543] Trial 75 finished with value: 0.9655389788565596 and parameters: {'hidden_dim': 16, 'k': 4, 'learning_rate': 0.0019728094067745414, 'batcher': False}. Best is trial 34 with value: 0.9984548614809224.\n",
      "[I 2023-12-06 16:28:48,126] Trial 76 finished with value: 0.9638570636229093 and parameters: {'hidden_dim': 96, 'k': 2, 'learning_rate': 0.0028061781949984014, 'batcher': True}. Best is trial 34 with value: 0.9984548614809224.\n",
      "[I 2023-12-06 16:30:19,765] Trial 77 finished with value: -16.02633212724865 and parameters: {'hidden_dim': 64, 'k': 1, 'learning_rate': 0.0035560907077881896, 'batcher': False}. Best is trial 34 with value: 0.9984548614809224.\n",
      "[I 2023-12-06 16:32:07,528] Trial 78 finished with value: -1105.2194383563728 and parameters: {'hidden_dim': 32, 'k': 3, 'learning_rate': 0.001406633589347157, 'batcher': False}. Best is trial 34 with value: 0.9984548614809224.\n",
      "[I 2023-12-06 16:34:04,483] Trial 79 finished with value: 0.8559330910814229 and parameters: {'hidden_dim': 128, 'k': 2, 'learning_rate': 0.0016495762105219003, 'batcher': False}. Best is trial 34 with value: 0.9984548614809224.\n",
      "[I 2023-12-06 16:35:55,390] Trial 80 finished with value: 0.47334584373263766 and parameters: {'hidden_dim': 160, 'k': 3, 'learning_rate': 0.0011073210373338208, 'batcher': False}. Best is trial 34 with value: 0.9984548614809224.\n",
      "[I 2023-12-06 16:37:34,055] Trial 81 finished with value: 0.9904923248947572 and parameters: {'hidden_dim': 48, 'k': 2, 'learning_rate': 0.00423904424346023, 'batcher': False}. Best is trial 34 with value: 0.9984548614809224.\n",
      "[I 2023-12-06 16:39:29,143] Trial 82 finished with value: 0.9769624009460005 and parameters: {'hidden_dim': 80, 'k': 2, 'learning_rate': 0.0025451364505661546, 'batcher': False}. Best is trial 34 with value: 0.9984548614809224.\n",
      "[I 2023-12-06 16:41:15,660] Trial 83 finished with value: 0.9373650819290285 and parameters: {'hidden_dim': 112, 'k': 2, 'learning_rate': 0.0032069221721308543, 'batcher': False}. Best is trial 34 with value: 0.9984548614809224.\n",
      "[I 2023-12-06 16:43:01,383] Trial 84 finished with value: 0.969614428447845 and parameters: {'hidden_dim': 64, 'k': 2, 'learning_rate': 0.004812391768531655, 'batcher': False}. Best is trial 34 with value: 0.9984548614809224.\n",
      "[I 2023-12-06 16:44:52,116] Trial 85 finished with value: 0.9913060433657208 and parameters: {'hidden_dim': 16, 'k': 3, 'learning_rate': 0.001990278009501023, 'batcher': False}. Best is trial 34 with value: 0.9984548614809224.\n",
      "[I 2023-12-06 16:46:50,063] Trial 86 finished with value: -13069.27894182266 and parameters: {'hidden_dim': 320, 'k': 2, 'learning_rate': 0.0014881305113467126, 'batcher': False}. Best is trial 34 with value: 0.9984548614809224.\n",
      "[I 2023-12-06 16:48:34,833] Trial 87 finished with value: -3.2688494257246203 and parameters: {'hidden_dim': 48, 'k': 1, 'learning_rate': 0.0023869689168433935, 'batcher': True}. Best is trial 34 with value: 0.9984548614809224.\n",
      "[I 2023-12-06 16:50:22,903] Trial 88 finished with value: 0.9787462289377613 and parameters: {'hidden_dim': 64, 'k': 2, 'learning_rate': 0.001847996985693643, 'batcher': False}. Best is trial 34 with value: 0.9984548614809224.\n",
      "[I 2023-12-06 16:51:59,528] Trial 89 finished with value: 0.9614851521972951 and parameters: {'hidden_dim': 32, 'k': 1, 'learning_rate': 0.003017889490580401, 'batcher': False}. Best is trial 34 with value: 0.9984548614809224.\n",
      "[I 2023-12-06 16:53:52,146] Trial 90 finished with value: 0.5747245555937306 and parameters: {'hidden_dim': 208, 'k': 3, 'learning_rate': 0.004089735244253181, 'batcher': False}. Best is trial 34 with value: 0.9984548614809224.\n",
      "[I 2023-12-06 16:55:35,471] Trial 91 finished with value: -1169.5222983676247 and parameters: {'hidden_dim': 16, 'k': 1, 'learning_rate': 0.0007954335942016847, 'batcher': False}. Best is trial 34 with value: 0.9984548614809224.\n",
      "[I 2023-12-06 16:57:31,719] Trial 92 finished with value: 0.989177216584457 and parameters: {'hidden_dim': 32, 'k': 1, 'learning_rate': 0.0013102338095547857, 'batcher': False}. Best is trial 34 with value: 0.9984548614809224.\n",
      "[I 2023-12-06 16:59:28,908] Trial 93 finished with value: 0.9977953487050449 and parameters: {'hidden_dim': 48, 'k': 1, 'learning_rate': 0.0009207530687371858, 'batcher': False}. Best is trial 34 with value: 0.9984548614809224.\n",
      "[I 2023-12-06 17:01:17,284] Trial 94 finished with value: 0.9857065383341587 and parameters: {'hidden_dim': 96, 'k': 1, 'learning_rate': 0.0010017205826206475, 'batcher': False}. Best is trial 34 with value: 0.9984548614809224.\n",
      "[I 2023-12-06 17:03:12,537] Trial 95 finished with value: 0.9899058577724775 and parameters: {'hidden_dim': 64, 'k': 1, 'learning_rate': 0.0017249110401854986, 'batcher': False}. Best is trial 34 with value: 0.9984548614809224.\n",
      "[I 2023-12-06 17:05:07,356] Trial 96 finished with value: 0.958072611388415 and parameters: {'hidden_dim': 48, 'k': 2, 'learning_rate': 0.0012369254195305993, 'batcher': False}. Best is trial 34 with value: 0.9984548614809224.\n",
      "[I 2023-12-06 17:06:57,340] Trial 97 finished with value: 0.9793737895423862 and parameters: {'hidden_dim': 80, 'k': 2, 'learning_rate': 0.0006589820950935219, 'batcher': False}. Best is trial 34 with value: 0.9984548614809224.\n",
      "[I 2023-12-06 17:08:56,033] Trial 98 finished with value: -3.7683442103945155 and parameters: {'hidden_dim': 512, 'k': 3, 'learning_rate': 0.002195746414065243, 'batcher': False}. Best is trial 34 with value: 0.9984548614809224.\n",
      "[I 2023-12-06 17:10:34,368] Trial 99 finished with value: 0.9956567672280915 and parameters: {'hidden_dim': 48, 'k': 1, 'learning_rate': 0.0008699248424307597, 'batcher': True}. Best is trial 34 with value: 0.9984548614809224.\n",
      "[I 2023-12-06 17:11:55,663] Trial 100 finished with value: 0.9965345376027035 and parameters: {'hidden_dim': 48, 'k': 1, 'learning_rate': 0.0008814369710603398, 'batcher': True}. Best is trial 34 with value: 0.9984548614809224.\n",
      "[I 2023-12-06 17:13:28,445] Trial 101 finished with value: 0.9915737100442156 and parameters: {'hidden_dim': 48, 'k': 1, 'learning_rate': 0.0010774790963097435, 'batcher': True}. Best is trial 34 with value: 0.9984548614809224.\n",
      "[I 2023-12-06 17:15:20,687] Trial 102 finished with value: 0.9902836003325772 and parameters: {'hidden_dim': 32, 'k': 1, 'learning_rate': 0.0008295893708252325, 'batcher': True}. Best is trial 34 with value: 0.9984548614809224.\n",
      "[I 2023-12-06 17:17:16,292] Trial 103 finished with value: 0.9883047852610758 and parameters: {'hidden_dim': 32, 'k': 1, 'learning_rate': 0.0009238046590512199, 'batcher': True}. Best is trial 34 with value: 0.9984548614809224.\n",
      "[I 2023-12-06 17:19:09,686] Trial 104 finished with value: 0.9808635792620377 and parameters: {'hidden_dim': 400, 'k': 1, 'learning_rate': 0.0014964351126491688, 'batcher': True}. Best is trial 34 with value: 0.9984548614809224.\n",
      "[I 2023-12-06 17:20:58,270] Trial 105 finished with value: -1166.176212257918 and parameters: {'hidden_dim': 16, 'k': 1, 'learning_rate': 0.001140595710677079, 'batcher': True}. Best is trial 34 with value: 0.9984548614809224.\n",
      "[I 2023-12-06 17:22:55,200] Trial 106 finished with value: 0.9913352940803403 and parameters: {'hidden_dim': 48, 'k': 1, 'learning_rate': 0.0006536300658886589, 'batcher': True}. Best is trial 34 with value: 0.9984548614809224.\n",
      "[I 2023-12-06 17:24:46,850] Trial 107 finished with value: -17.039988829950715 and parameters: {'hidden_dim': 256, 'k': 1, 'learning_rate': 0.0009148916789422649, 'batcher': True}. Best is trial 34 with value: 0.9984548614809224.\n",
      "[I 2023-12-06 17:26:32,032] Trial 108 finished with value: -1165.3255398570218 and parameters: {'hidden_dim': 16, 'k': 1, 'learning_rate': 0.001233660201939708, 'batcher': True}. Best is trial 34 with value: 0.9984548614809224.\n",
      "[I 2023-12-06 17:28:28,181] Trial 109 finished with value: -1.3803128801261342 and parameters: {'hidden_dim': 64, 'k': 1, 'learning_rate': 0.0018184341665929552, 'batcher': True}. Best is trial 34 with value: 0.9984548614809224.\n",
      "[I 2023-12-06 17:30:19,771] Trial 110 finished with value: 0.5591734897396016 and parameters: {'hidden_dim': 32, 'k': 1, 'learning_rate': 0.0015100147937240063, 'batcher': True}. Best is trial 34 with value: 0.9984548614809224.\n",
      "[I 2023-12-06 17:32:05,620] Trial 111 finished with value: 0.9684232983041907 and parameters: {'hidden_dim': 64, 'k': 2, 'learning_rate': 0.002230381362320126, 'batcher': False}. Best is trial 34 with value: 0.9984548614809224.\n",
      "[I 2023-12-06 17:33:58,397] Trial 112 finished with value: 0.935729977118551 and parameters: {'hidden_dim': 80, 'k': 2, 'learning_rate': 0.000502541044545727, 'batcher': False}. Best is trial 34 with value: 0.9984548614809224.\n",
      "[I 2023-12-06 17:35:43,951] Trial 113 finished with value: 0.9574984803129774 and parameters: {'hidden_dim': 48, 'k': 2, 'learning_rate': 0.0007536925757338714, 'batcher': False}. Best is trial 34 with value: 0.9984548614809224.\n",
      "[I 2023-12-06 17:37:35,529] Trial 114 finished with value: -2.842923418793041 and parameters: {'hidden_dim': 80, 'k': 4, 'learning_rate': 0.0036012312774017256, 'batcher': False}. Best is trial 34 with value: 0.9984548614809224.\n",
      "[I 2023-12-06 17:39:20,550] Trial 115 finished with value: -1156.5279142037066 and parameters: {'hidden_dim': 16, 'k': 1, 'learning_rate': 0.0026648939532190117, 'batcher': False}. Best is trial 34 with value: 0.9984548614809224.\n",
      "[I 2023-12-06 17:41:15,672] Trial 116 finished with value: 0.9232936524109562 and parameters: {'hidden_dim': 32, 'k': 2, 'learning_rate': 0.0013086783061912524, 'batcher': False}. Best is trial 34 with value: 0.9984548614809224.\n",
      "[I 2023-12-06 17:43:03,898] Trial 117 finished with value: -483.99085322303256 and parameters: {'hidden_dim': 96, 'k': 3, 'learning_rate': 0.001622312646997623, 'batcher': False}. Best is trial 34 with value: 0.9984548614809224.\n",
      "[I 2023-12-06 17:44:57,047] Trial 118 finished with value: 0.5168831587668252 and parameters: {'hidden_dim': 48, 'k': 5, 'learning_rate': 0.002053317229755419, 'batcher': True}. Best is trial 34 with value: 0.9984548614809224.\n",
      "[I 2023-12-06 17:46:44,876] Trial 119 finished with value: -12.246742070359511 and parameters: {'hidden_dim': 112, 'k': 1, 'learning_rate': 0.000922297048044338, 'batcher': False}. Best is trial 34 with value: 0.9984548614809224.\n",
      "[I 2023-12-06 17:48:06,225] Trial 120 finished with value: 0.8389569080855377 and parameters: {'hidden_dim': 16, 'k': 2, 'learning_rate': 0.0030736783705240024, 'batcher': False}. Best is trial 34 with value: 0.9984548614809224.\n",
      "[I 2023-12-06 17:49:28,625] Trial 121 finished with value: 0.7995676750619352 and parameters: {'hidden_dim': 64, 'k': 1, 'learning_rate': 0.0010623506115582156, 'batcher': False}. Best is trial 34 with value: 0.9984548614809224.\n",
      "[I 2023-12-06 17:51:22,855] Trial 122 finished with value: 0.9910363663432505 and parameters: {'hidden_dim': 32, 'k': 1, 'learning_rate': 0.0007324445465375203, 'batcher': False}. Best is trial 34 with value: 0.9984548614809224.\n",
      "[I 2023-12-06 17:53:18,014] Trial 123 finished with value: 0.9904457372849219 and parameters: {'hidden_dim': 48, 'k': 1, 'learning_rate': 0.0005779184872351969, 'batcher': False}. Best is trial 34 with value: 0.9984548614809224.\n",
      "[I 2023-12-06 17:55:02,360] Trial 124 finished with value: -1164.1189149232425 and parameters: {'hidden_dim': 16, 'k': 1, 'learning_rate': 0.001391740585490644, 'batcher': False}. Best is trial 34 with value: 0.9984548614809224.\n",
      "[I 2023-12-06 17:56:56,660] Trial 125 finished with value: 0.9906994287933643 and parameters: {'hidden_dim': 32, 'k': 1, 'learning_rate': 0.000889537487648166, 'batcher': False}. Best is trial 34 with value: 0.9984548614809224.\n",
      "[I 2023-12-06 17:58:41,430] Trial 126 finished with value: 0.9726540711886063 and parameters: {'hidden_dim': 64, 'k': 3, 'learning_rate': 0.001748878961189306, 'batcher': False}. Best is trial 34 with value: 0.9984548614809224.\n",
      "[I 2023-12-06 18:00:24,247] Trial 127 finished with value: 0.9632359782010192 and parameters: {'hidden_dim': 48, 'k': 2, 'learning_rate': 0.001169557731743401, 'batcher': False}. Best is trial 34 with value: 0.9984548614809224.\n",
      "[I 2023-12-06 18:02:08,652] Trial 128 finished with value: 0.9874606962675182 and parameters: {'hidden_dim': 32, 'k': 1, 'learning_rate': 0.0024591896020799745, 'batcher': False}. Best is trial 34 with value: 0.9984548614809224.\n",
      "[I 2023-12-06 18:03:54,234] Trial 129 finished with value: 0.9113677084192693 and parameters: {'hidden_dim': 80, 'k': 2, 'learning_rate': 0.0010020732063331713, 'batcher': False}. Best is trial 34 with value: 0.9984548614809224.\n",
      "[I 2023-12-06 18:05:40,930] Trial 130 finished with value: 0.9911095153020856 and parameters: {'hidden_dim': 16, 'k': 3, 'learning_rate': 0.001893656192086746, 'batcher': False}. Best is trial 34 with value: 0.9984548614809224.\n",
      "[I 2023-12-06 18:07:25,740] Trial 131 finished with value: 0.7124064840891468 and parameters: {'hidden_dim': 16, 'k': 2, 'learning_rate': 0.0030075859667523584, 'batcher': False}. Best is trial 34 with value: 0.9984548614809224.\n",
      "[I 2023-12-06 18:09:11,371] Trial 132 finished with value: 0.9079225315372733 and parameters: {'hidden_dim': 32, 'k': 2, 'learning_rate': 0.0027475321341755357, 'batcher': False}. Best is trial 34 with value: 0.9984548614809224.\n",
      "[I 2023-12-06 18:10:35,009] Trial 133 finished with value: 0.1537170965186815 and parameters: {'hidden_dim': 48, 'k': 2, 'learning_rate': 0.003539131972670628, 'batcher': False}. Best is trial 34 with value: 0.9984548614809224.\n",
      "[I 2023-12-06 18:11:55,563] Trial 134 finished with value: 0.9820021621671785 and parameters: {'hidden_dim': 16, 'k': 2, 'learning_rate': 0.0022443286359495273, 'batcher': False}. Best is trial 34 with value: 0.9984548614809224.\n",
      "[I 2023-12-06 18:13:26,897] Trial 135 finished with value: 0.8274985682323871 and parameters: {'hidden_dim': 64, 'k': 2, 'learning_rate': 0.001509438227766466, 'batcher': False}. Best is trial 34 with value: 0.9984548614809224.\n",
      "[I 2023-12-06 18:15:17,589] Trial 136 finished with value: 0.96440768639132 and parameters: {'hidden_dim': 48, 'k': 1, 'learning_rate': 0.000800381288022611, 'batcher': True}. Best is trial 34 with value: 0.9984548614809224.\n",
      "[I 2023-12-06 18:16:37,667] Trial 137 finished with value: -1151.4560201716959 and parameters: {'hidden_dim': 16, 'k': 1, 'learning_rate': 0.004768198757167048, 'batcher': False}. Best is trial 34 with value: 0.9984548614809224.\n",
      "[I 2023-12-06 18:18:02,420] Trial 138 finished with value: 0.7947076547942079 and parameters: {'hidden_dim': 32, 'k': 2, 'learning_rate': 0.0012891245225370546, 'batcher': False}. Best is trial 34 with value: 0.9984548614809224.\n",
      "[I 2023-12-06 18:19:21,001] Trial 139 finished with value: 0.9955955844458035 and parameters: {'hidden_dim': 48, 'k': 1, 'learning_rate': 0.003989921071050816, 'batcher': False}. Best is trial 34 with value: 0.9984548614809224.\n",
      "[I 2023-12-06 18:20:43,847] Trial 140 finished with value: 0.983080164452025 and parameters: {'hidden_dim': 80, 'k': 1, 'learning_rate': 0.004253069034203678, 'batcher': False}. Best is trial 34 with value: 0.9984548614809224.\n",
      "[I 2023-12-06 18:22:04,398] Trial 141 finished with value: -51.85507524648598 and parameters: {'hidden_dim': 48, 'k': 1, 'learning_rate': 0.0025090058050381246, 'batcher': False}. Best is trial 34 with value: 0.9984548614809224.\n",
      "[I 2023-12-06 18:23:26,299] Trial 142 finished with value: 0.9569423102632918 and parameters: {'hidden_dim': 32, 'k': 1, 'learning_rate': 0.0034624490846827454, 'batcher': False}. Best is trial 34 with value: 0.9984548614809224.\n",
      "[I 2023-12-06 18:24:48,446] Trial 143 finished with value: 0.994033526402578 and parameters: {'hidden_dim': 64, 'k': 1, 'learning_rate': 0.006257966910601607, 'batcher': False}. Best is trial 34 with value: 0.9984548614809224.\n",
      "[I 2023-12-06 18:26:11,238] Trial 144 finished with value: 0.9959409547844069 and parameters: {'hidden_dim': 64, 'k': 1, 'learning_rate': 0.006524836651499361, 'batcher': False}. Best is trial 34 with value: 0.9984548614809224.\n",
      "[I 2023-12-06 18:27:32,588] Trial 145 finished with value: 0.9620898384198056 and parameters: {'hidden_dim': 96, 'k': 1, 'learning_rate': 0.0070615274945428665, 'batcher': False}. Best is trial 34 with value: 0.9984548614809224.\n",
      "[I 2023-12-06 18:28:55,525] Trial 146 finished with value: 0.9910908321692995 and parameters: {'hidden_dim': 64, 'k': 1, 'learning_rate': 0.004838180308072221, 'batcher': True}. Best is trial 34 with value: 0.9984548614809224.\n",
      "[I 2023-12-06 18:30:22,742] Trial 147 finished with value: 0.9719955312017794 and parameters: {'hidden_dim': 64, 'k': 1, 'learning_rate': 0.006514366000261307, 'batcher': False}. Best is trial 34 with value: 0.9984548614809224.\n",
      "[I 2023-12-06 18:32:13,507] Trial 148 finished with value: 0.9887735344509256 and parameters: {'hidden_dim': 96, 'k': 1, 'learning_rate': 0.0055517692314722925, 'batcher': False}. Best is trial 34 with value: 0.9984548614809224.\n",
      "[I 2023-12-06 18:34:10,249] Trial 149 finished with value: 0.9912841182096542 and parameters: {'hidden_dim': 80, 'k': 1, 'learning_rate': 0.006399093957300398, 'batcher': False}. Best is trial 34 with value: 0.9984548614809224.\n",
      "[I 2023-12-06 18:35:58,903] Trial 150 finished with value: 0.9939854084431469 and parameters: {'hidden_dim': 48, 'k': 1, 'learning_rate': 0.005056373938053023, 'batcher': False}. Best is trial 34 with value: 0.9984548614809224.\n",
      "[I 2023-12-06 18:37:47,957] Trial 151 finished with value: -32.302700466321795 and parameters: {'hidden_dim': 64, 'k': 1, 'learning_rate': 0.005516292323724073, 'batcher': False}. Best is trial 34 with value: 0.9984548614809224.\n",
      "[I 2023-12-06 18:39:40,360] Trial 152 finished with value: -123.30287997335381 and parameters: {'hidden_dim': 48, 'k': 1, 'learning_rate': 0.007912177274652567, 'batcher': False}. Best is trial 34 with value: 0.9984548614809224.\n",
      "[I 2023-12-06 18:41:26,788] Trial 153 finished with value: 0.9973427419111225 and parameters: {'hidden_dim': 48, 'k': 1, 'learning_rate': 0.004023872376450835, 'batcher': False}. Best is trial 34 with value: 0.9984548614809224.\n",
      "[I 2023-12-06 18:43:07,915] Trial 154 finished with value: 0.9947244956384619 and parameters: {'hidden_dim': 48, 'k': 1, 'learning_rate': 0.0039391377756362615, 'batcher': False}. Best is trial 34 with value: 0.9984548614809224.\n",
      "[I 2023-12-06 18:44:52,014] Trial 155 finished with value: 0.9608297250314145 and parameters: {'hidden_dim': 32, 'k': 1, 'learning_rate': 0.00521231055668124, 'batcher': False}. Best is trial 34 with value: 0.9984548614809224.\n",
      "[I 2023-12-06 18:46:46,740] Trial 156 finished with value: 0.9956825909303053 and parameters: {'hidden_dim': 48, 'k': 1, 'learning_rate': 0.003771679238524121, 'batcher': False}. Best is trial 34 with value: 0.9984548614809224.\n",
      "[I 2023-12-06 18:48:29,613] Trial 157 finished with value: 0.9663871248931661 and parameters: {'hidden_dim': 32, 'k': 1, 'learning_rate': 0.005981828981286405, 'batcher': True}. Best is trial 34 with value: 0.9984548614809224.\n",
      "[I 2023-12-06 18:49:54,255] Trial 158 finished with value: 0.9915214182105687 and parameters: {'hidden_dim': 80, 'k': 1, 'learning_rate': 0.003981980044505282, 'batcher': False}. Best is trial 34 with value: 0.9984548614809224.\n",
      "[I 2023-12-06 18:51:16,363] Trial 159 finished with value: -54.3522951799316 and parameters: {'hidden_dim': 48, 'k': 1, 'learning_rate': 0.004332800148012411, 'batcher': False}. Best is trial 34 with value: 0.9984548614809224.\n",
      "[I 2023-12-06 18:52:37,673] Trial 160 finished with value: 0.9550733039547374 and parameters: {'hidden_dim': 32, 'k': 1, 'learning_rate': 0.003201797824338619, 'batcher': False}. Best is trial 34 with value: 0.9984548614809224.\n",
      "[I 2023-12-06 18:53:59,982] Trial 161 finished with value: -1.3932274721298321 and parameters: {'hidden_dim': 48, 'k': 1, 'learning_rate': 0.003912985221498742, 'batcher': False}. Best is trial 34 with value: 0.9984548614809224.\n",
      "[I 2023-12-06 18:55:24,161] Trial 162 finished with value: 0.7317195526335027 and parameters: {'hidden_dim': 64, 'k': 1, 'learning_rate': 0.004806681324323169, 'batcher': False}. Best is trial 34 with value: 0.9984548614809224.\n",
      "[I 2023-12-06 18:56:45,498] Trial 163 finished with value: 0.9943804886485983 and parameters: {'hidden_dim': 48, 'k': 1, 'learning_rate': 0.006829298725040502, 'batcher': False}. Best is trial 34 with value: 0.9984548614809224.\n",
      "[I 2023-12-06 18:58:07,996] Trial 164 finished with value: -1146.0423755128677 and parameters: {'hidden_dim': 16, 'k': 1, 'learning_rate': 0.007099620961489282, 'batcher': False}. Best is trial 34 with value: 0.9984548614809224.\n",
      "[I 2023-12-06 18:59:30,862] Trial 165 finished with value: 0.9805534374968309 and parameters: {'hidden_dim': 48, 'k': 1, 'learning_rate': 0.009588217714170975, 'batcher': False}. Best is trial 34 with value: 0.9984548614809224.\n",
      "[I 2023-12-06 19:01:06,141] Trial 166 finished with value: 0.9940071028206694 and parameters: {'hidden_dim': 64, 'k': 1, 'learning_rate': 0.008368485686178533, 'batcher': False}. Best is trial 34 with value: 0.9984548614809224.\n",
      "[I 2023-12-06 19:02:58,951] Trial 167 finished with value: 0.9666712600488714 and parameters: {'hidden_dim': 32, 'k': 1, 'learning_rate': 0.007837976712636283, 'batcher': False}. Best is trial 34 with value: 0.9984548614809224.\n",
      "[I 2023-12-06 19:04:50,284] Trial 168 finished with value: 0.9794518728760645 and parameters: {'hidden_dim': 48, 'k': 1, 'learning_rate': 0.005721336439696877, 'batcher': True}. Best is trial 34 with value: 0.9984548614809224.\n",
      "[I 2023-12-06 19:06:38,296] Trial 169 finished with value: -1147.7693176913738 and parameters: {'hidden_dim': 16, 'k': 1, 'learning_rate': 0.006301913088606433, 'batcher': False}. Best is trial 34 with value: 0.9984548614809224.\n",
      "[I 2023-12-06 19:08:35,799] Trial 170 finished with value: -159.75758416171723 and parameters: {'hidden_dim': 288, 'k': 1, 'learning_rate': 0.003781937341964458, 'batcher': False}. Best is trial 34 with value: 0.9984548614809224.\n",
      "[I 2023-12-06 19:10:28,411] Trial 171 finished with value: 0.9870922482683969 and parameters: {'hidden_dim': 64, 'k': 1, 'learning_rate': 0.007060117710611187, 'batcher': False}. Best is trial 34 with value: 0.9984548614809224.\n",
      "[I 2023-12-06 19:12:18,342] Trial 172 finished with value: 0.7931873804996711 and parameters: {'hidden_dim': 80, 'k': 1, 'learning_rate': 0.008563813830100893, 'batcher': False}. Best is trial 34 with value: 0.9984548614809224.\n",
      "[I 2023-12-06 19:13:59,935] Trial 173 finished with value: 0.9968715190801726 and parameters: {'hidden_dim': 64, 'k': 1, 'learning_rate': 0.004296201103895598, 'batcher': False}. Best is trial 34 with value: 0.9984548614809224.\n",
      "[I 2023-12-06 19:15:46,685] Trial 174 finished with value: 0.9914313557645613 and parameters: {'hidden_dim': 48, 'k': 1, 'learning_rate': 0.004340435373115108, 'batcher': False}. Best is trial 34 with value: 0.9984548614809224.\n",
      "[I 2023-12-06 19:17:32,273] Trial 175 finished with value: 0.9899995230667938 and parameters: {'hidden_dim': 32, 'k': 1, 'learning_rate': 0.0011367532597865168, 'batcher': False}. Best is trial 34 with value: 0.9984548614809224.\n",
      "[I 2023-12-06 19:19:21,563] Trial 176 finished with value: -122.40507275752707 and parameters: {'hidden_dim': 64, 'k': 1, 'learning_rate': 0.0033732812378079284, 'batcher': False}. Best is trial 34 with value: 0.9984548614809224.\n",
      "[I 2023-12-06 19:21:15,331] Trial 177 finished with value: 0.9686649916499 and parameters: {'hidden_dim': 32, 'k': 1, 'learning_rate': 0.004507355969852634, 'batcher': False}. Best is trial 34 with value: 0.9984548614809224.\n",
      "[I 2023-12-06 19:22:52,615] Trial 178 finished with value: 0.9745253556134441 and parameters: {'hidden_dim': 48, 'k': 3, 'learning_rate': 0.005262926241286925, 'batcher': False}. Best is trial 34 with value: 0.9984548614809224.\n",
      "[I 2023-12-06 19:24:15,857] Trial 179 finished with value: 0.9947903654361742 and parameters: {'hidden_dim': 80, 'k': 1, 'learning_rate': 0.0030414020441685507, 'batcher': True}. Best is trial 34 with value: 0.9984548614809224.\n",
      "[I 2023-12-06 19:25:37,028] Trial 180 finished with value: -1156.3899403416858 and parameters: {'hidden_dim': 16, 'k': 1, 'learning_rate': 0.002888618275933914, 'batcher': True}. Best is trial 34 with value: 0.9984548614809224.\n",
      "[I 2023-12-06 19:27:00,137] Trial 181 finished with value: 0.9937773813743856 and parameters: {'hidden_dim': 80, 'k': 1, 'learning_rate': 0.0037217578118018467, 'batcher': True}. Best is trial 34 with value: 0.9984548614809224.\n",
      "[I 2023-12-06 19:28:22,258] Trial 182 finished with value: 0.947780759594349 and parameters: {'hidden_dim': 64, 'k': 1, 'learning_rate': 0.0029704331732278303, 'batcher': True}. Best is trial 34 with value: 0.9984548614809224.\n",
      "[I 2023-12-06 19:29:52,348] Trial 183 finished with value: 0.9935076265423024 and parameters: {'hidden_dim': 48, 'k': 1, 'learning_rate': 0.0020392306422377274, 'batcher': True}. Best is trial 34 with value: 0.9984548614809224.\n",
      "[I 2023-12-06 19:31:15,359] Trial 184 finished with value: 0.9542767203464699 and parameters: {'hidden_dim': 32, 'k': 1, 'learning_rate': 0.00027810043655571447, 'batcher': True}. Best is trial 34 with value: 0.9984548614809224.\n",
      "[I 2023-12-06 19:32:37,717] Trial 185 finished with value: 0.8546272552052155 and parameters: {'hidden_dim': 48, 'k': 1, 'learning_rate': 0.0033890496459745706, 'batcher': False}. Best is trial 34 with value: 0.9984548614809224.\n",
      "[I 2023-12-06 19:34:01,106] Trial 186 finished with value: 0.9919054389500941 and parameters: {'hidden_dim': 64, 'k': 1, 'learning_rate': 0.001559004429290402, 'batcher': False}. Best is trial 34 with value: 0.9984548614809224.\n",
      "[I 2023-12-06 19:35:25,616] Trial 187 finished with value: 0.989870425431034 and parameters: {'hidden_dim': 80, 'k': 1, 'learning_rate': 0.0009931876441432726, 'batcher': True}. Best is trial 34 with value: 0.9984548614809224.\n",
      "[I 2023-12-06 19:36:49,888] Trial 188 finished with value: 0.9647345183368877 and parameters: {'hidden_dim': 32, 'k': 1, 'learning_rate': 0.004264815515619718, 'batcher': False}. Best is trial 34 with value: 0.9984548614809224.\n",
      "[I 2023-12-06 19:38:13,169] Trial 189 finished with value: -100.73082121879666 and parameters: {'hidden_dim': 64, 'k': 4, 'learning_rate': 0.001254265821517125, 'batcher': False}. Best is trial 34 with value: 0.9984548614809224.\n",
      "[I 2023-12-06 19:39:33,478] Trial 190 finished with value: -1157.838023727161 and parameters: {'hidden_dim': 16, 'k': 1, 'learning_rate': 0.0023977809725200558, 'batcher': False}. Best is trial 34 with value: 0.9984548614809224.\n",
      "[I 2023-12-06 19:40:57,468] Trial 191 finished with value: 0.9928855800399367 and parameters: {'hidden_dim': 80, 'k': 1, 'learning_rate': 0.00820866948764928, 'batcher': False}. Best is trial 34 with value: 0.9984548614809224.\n",
      "[I 2023-12-06 19:42:20,805] Trial 192 finished with value: 0.9928520377108091 and parameters: {'hidden_dim': 64, 'k': 1, 'learning_rate': 0.005942268203914045, 'batcher': False}. Best is trial 34 with value: 0.9984548614809224.\n",
      "[I 2023-12-06 19:43:46,568] Trial 193 finished with value: 0.9860152067556275 and parameters: {'hidden_dim': 48, 'k': 1, 'learning_rate': 0.009631436601590422, 'batcher': False}. Best is trial 34 with value: 0.9984548614809224.\n",
      "[I 2023-12-06 19:45:39,546] Trial 194 finished with value: 0.9937936703477593 and parameters: {'hidden_dim': 64, 'k': 1, 'learning_rate': 0.00527900843245547, 'batcher': False}. Best is trial 34 with value: 0.9984548614809224.\n",
      "[I 2023-12-06 19:47:03,510] Trial 195 finished with value: 0.7419640313527516 and parameters: {'hidden_dim': 64, 'k': 3, 'learning_rate': 0.007250561457707563, 'batcher': False}. Best is trial 34 with value: 0.9984548614809224.\n",
      "[I 2023-12-06 19:48:30,312] Trial 196 finished with value: -0.09785518769637687 and parameters: {'hidden_dim': 192, 'k': 1, 'learning_rate': 0.0028071308232847213, 'batcher': False}. Best is trial 34 with value: 0.9984548614809224.\n",
      "[I 2023-12-06 19:50:10,557] Trial 197 finished with value: 0.93351548722561 and parameters: {'hidden_dim': 240, 'k': 1, 'learning_rate': 0.003866154676919537, 'batcher': False}. Best is trial 34 with value: 0.9984548614809224.\n",
      "[I 2023-12-06 19:51:59,055] Trial 198 finished with value: 0.990716254626221 and parameters: {'hidden_dim': 32, 'k': 1, 'learning_rate': 0.0017677850551828982, 'batcher': True}. Best is trial 34 with value: 0.9984548614809224.\n",
      "[I 2023-12-06 19:53:43,873] Trial 199 finished with value: 0.9962350058380561 and parameters: {'hidden_dim': 48, 'k': 1, 'learning_rate': 0.0013711097214869413, 'batcher': False}. Best is trial 34 with value: 0.9984548614809224.\n"
     ]
    }
   ],
   "source": [
    "study_tree_advanced = optuna.create_study(study_name=\"Best tree advanced label config\", directions=['maximize'])\n",
    "study_tree_advanced.optimize(objective, n_trials=n_trials, show_progress_bar=True)"
   ],
   "metadata": {
    "collapsed": false,
    "ExecuteTime": {
     "start_time": "2023-12-06T14:14:41.064680Z",
     "end_time": "2023-12-06T19:53:43.890253Z"
    }
   }
  },
  {
   "cell_type": "code",
   "execution_count": 5,
   "outputs": [
    {
     "name": "stdout",
     "output_type": "stream",
     "text": [
      "{'hidden_dim': 16, 'k': 2, 'learning_rate': 0.0027798626982959837, 'batcher': False}\n"
     ]
    }
   ],
   "source": [
    "best_par_tree_advanced = study_tree_advanced.best_params\n",
    "print(best_par_tree_advanced)"
   ],
   "metadata": {
    "collapsed": false,
    "ExecuteTime": {
     "start_time": "2023-12-06T19:53:43.892529Z",
     "end_time": "2023-12-06T19:53:43.936238Z"
    }
   }
  },
  {
   "cell_type": "code",
   "execution_count": 6,
   "outputs": [
    {
     "data": {
      "text/plain": "'TPESampler'"
     },
     "execution_count": 6,
     "metadata": {},
     "output_type": "execute_result"
    }
   ],
   "source": [
    "study_tree_advanced.sampler.__class__.__name__"
   ],
   "metadata": {
    "collapsed": false,
    "ExecuteTime": {
     "start_time": "2023-12-06T19:53:43.908986Z",
     "end_time": "2023-12-06T19:53:43.964239Z"
    }
   }
  },
  {
   "cell_type": "code",
   "execution_count": 18,
   "outputs": [
    {
     "data": {
      "text/plain": "     number      value             datetime_start          datetime_complete  \\\n0         0   0.977835 2023-12-06 14:14:41.071680 2023-12-06 14:16:16.162481   \n1         1  -1.218254 2023-12-06 14:16:16.164481 2023-12-06 14:17:46.148148   \n2         2 -45.130495 2023-12-06 14:17:46.150148 2023-12-06 14:19:11.420434   \n3         3   0.706535 2023-12-06 14:19:11.421433 2023-12-06 14:20:37.669756   \n4         4  -0.189865 2023-12-06 14:20:37.671758 2023-12-06 14:22:01.657309   \n..      ...        ...                        ...                        ...   \n195     195   0.741964 2023-12-06 19:45:39.547731 2023-12-06 19:47:03.510786   \n196     196  -0.097855 2023-12-06 19:47:03.512787 2023-12-06 19:48:30.312245   \n197     197   0.933515 2023-12-06 19:48:30.313750 2023-12-06 19:50:10.557533   \n198     198   0.990716 2023-12-06 19:50:10.560536 2023-12-06 19:51:59.055739   \n199     199   0.996235 2023-12-06 19:51:59.056739 2023-12-06 19:53:43.872240   \n\n                  duration  params_batcher  params_hidden_dim  params_k  \\\n0   0 days 00:01:35.090801           False                512         1   \n1   0 days 00:01:29.983667           False                512         4   \n2   0 days 00:01:25.270286            True                448         1   \n3   0 days 00:01:26.248323            True                432         3   \n4   0 days 00:01:23.985551           False                304         4   \n..                     ...             ...                ...       ...   \n195 0 days 00:01:23.963055           False                 64         3   \n196 0 days 00:01:26.799458           False                192         1   \n197 0 days 00:01:40.243783           False                240         1   \n198 0 days 00:01:48.495203            True                 32         1   \n199 0 days 00:01:44.815501           False                 48         1   \n\n     params_learning_rate     state  \n0                0.000115  COMPLETE  \n1                0.000013  COMPLETE  \n2                0.000168  COMPLETE  \n3                0.000087  COMPLETE  \n4                0.000116  COMPLETE  \n..                    ...       ...  \n195              0.007251  COMPLETE  \n196              0.002807  COMPLETE  \n197              0.003866  COMPLETE  \n198              0.001768  COMPLETE  \n199              0.001371  COMPLETE  \n\n[200 rows x 10 columns]",
      "text/html": "<div>\n<style scoped>\n    .dataframe tbody tr th:only-of-type {\n        vertical-align: middle;\n    }\n\n    .dataframe tbody tr th {\n        vertical-align: top;\n    }\n\n    .dataframe thead th {\n        text-align: right;\n    }\n</style>\n<table border=\"1\" class=\"dataframe\">\n  <thead>\n    <tr style=\"text-align: right;\">\n      <th></th>\n      <th>number</th>\n      <th>value</th>\n      <th>datetime_start</th>\n      <th>datetime_complete</th>\n      <th>duration</th>\n      <th>params_batcher</th>\n      <th>params_hidden_dim</th>\n      <th>params_k</th>\n      <th>params_learning_rate</th>\n      <th>state</th>\n    </tr>\n  </thead>\n  <tbody>\n    <tr>\n      <th>0</th>\n      <td>0</td>\n      <td>0.977835</td>\n      <td>2023-12-06 14:14:41.071680</td>\n      <td>2023-12-06 14:16:16.162481</td>\n      <td>0 days 00:01:35.090801</td>\n      <td>False</td>\n      <td>512</td>\n      <td>1</td>\n      <td>0.000115</td>\n      <td>COMPLETE</td>\n    </tr>\n    <tr>\n      <th>1</th>\n      <td>1</td>\n      <td>-1.218254</td>\n      <td>2023-12-06 14:16:16.164481</td>\n      <td>2023-12-06 14:17:46.148148</td>\n      <td>0 days 00:01:29.983667</td>\n      <td>False</td>\n      <td>512</td>\n      <td>4</td>\n      <td>0.000013</td>\n      <td>COMPLETE</td>\n    </tr>\n    <tr>\n      <th>2</th>\n      <td>2</td>\n      <td>-45.130495</td>\n      <td>2023-12-06 14:17:46.150148</td>\n      <td>2023-12-06 14:19:11.420434</td>\n      <td>0 days 00:01:25.270286</td>\n      <td>True</td>\n      <td>448</td>\n      <td>1</td>\n      <td>0.000168</td>\n      <td>COMPLETE</td>\n    </tr>\n    <tr>\n      <th>3</th>\n      <td>3</td>\n      <td>0.706535</td>\n      <td>2023-12-06 14:19:11.421433</td>\n      <td>2023-12-06 14:20:37.669756</td>\n      <td>0 days 00:01:26.248323</td>\n      <td>True</td>\n      <td>432</td>\n      <td>3</td>\n      <td>0.000087</td>\n      <td>COMPLETE</td>\n    </tr>\n    <tr>\n      <th>4</th>\n      <td>4</td>\n      <td>-0.189865</td>\n      <td>2023-12-06 14:20:37.671758</td>\n      <td>2023-12-06 14:22:01.657309</td>\n      <td>0 days 00:01:23.985551</td>\n      <td>False</td>\n      <td>304</td>\n      <td>4</td>\n      <td>0.000116</td>\n      <td>COMPLETE</td>\n    </tr>\n    <tr>\n      <th>...</th>\n      <td>...</td>\n      <td>...</td>\n      <td>...</td>\n      <td>...</td>\n      <td>...</td>\n      <td>...</td>\n      <td>...</td>\n      <td>...</td>\n      <td>...</td>\n      <td>...</td>\n    </tr>\n    <tr>\n      <th>195</th>\n      <td>195</td>\n      <td>0.741964</td>\n      <td>2023-12-06 19:45:39.547731</td>\n      <td>2023-12-06 19:47:03.510786</td>\n      <td>0 days 00:01:23.963055</td>\n      <td>False</td>\n      <td>64</td>\n      <td>3</td>\n      <td>0.007251</td>\n      <td>COMPLETE</td>\n    </tr>\n    <tr>\n      <th>196</th>\n      <td>196</td>\n      <td>-0.097855</td>\n      <td>2023-12-06 19:47:03.512787</td>\n      <td>2023-12-06 19:48:30.312245</td>\n      <td>0 days 00:01:26.799458</td>\n      <td>False</td>\n      <td>192</td>\n      <td>1</td>\n      <td>0.002807</td>\n      <td>COMPLETE</td>\n    </tr>\n    <tr>\n      <th>197</th>\n      <td>197</td>\n      <td>0.933515</td>\n      <td>2023-12-06 19:48:30.313750</td>\n      <td>2023-12-06 19:50:10.557533</td>\n      <td>0 days 00:01:40.243783</td>\n      <td>False</td>\n      <td>240</td>\n      <td>1</td>\n      <td>0.003866</td>\n      <td>COMPLETE</td>\n    </tr>\n    <tr>\n      <th>198</th>\n      <td>198</td>\n      <td>0.990716</td>\n      <td>2023-12-06 19:50:10.560536</td>\n      <td>2023-12-06 19:51:59.055739</td>\n      <td>0 days 00:01:48.495203</td>\n      <td>True</td>\n      <td>32</td>\n      <td>1</td>\n      <td>0.001768</td>\n      <td>COMPLETE</td>\n    </tr>\n    <tr>\n      <th>199</th>\n      <td>199</td>\n      <td>0.996235</td>\n      <td>2023-12-06 19:51:59.056739</td>\n      <td>2023-12-06 19:53:43.872240</td>\n      <td>0 days 00:01:44.815501</td>\n      <td>False</td>\n      <td>48</td>\n      <td>1</td>\n      <td>0.001371</td>\n      <td>COMPLETE</td>\n    </tr>\n  </tbody>\n</table>\n<p>200 rows × 10 columns</p>\n</div>"
     },
     "execution_count": 18,
     "metadata": {},
     "output_type": "execute_result"
    }
   ],
   "source": [
    "df_tree_advanced = study_tree_advanced.trials_dataframe()\n",
    "df_tree_advanced.to_csv(\"study_label-tree-advanced_normalized.csv\")\n",
    "df_tree_advanced"
   ],
   "metadata": {
    "collapsed": false,
    "ExecuteTime": {
     "start_time": "2023-12-06T19:58:34.355510Z",
     "end_time": "2023-12-06T19:58:34.398512Z"
    }
   }
  },
  {
   "cell_type": "markdown",
   "source": [
    "## Tree label"
   ],
   "metadata": {
    "collapsed": false
   }
  },
  {
   "cell_type": "code",
   "execution_count": 21,
   "outputs": [],
   "source": [
    "# setting global parameters\n",
    "dataset_path = \"../datasets/\"\n",
    "label = \"tree\" # alt: tree or default\n",
    "test_perc = 0.3\n",
    "val_perc = 0.21\n",
    "stability_count = 5\n",
    "n_trials = 50"
   ],
   "metadata": {
    "collapsed": false,
    "ExecuteTime": {
     "start_time": "2023-12-06T20:20:49.524932Z",
     "end_time": "2023-12-06T20:20:49.573437Z"
    }
   }
  },
  {
   "cell_type": "code",
   "execution_count": 22,
   "outputs": [
    {
     "name": "stderr",
     "output_type": "stream",
     "text": [
      "[I 2023-12-06 20:20:50,394] A new study created in memory with name: Best tree label config\n"
     ]
    },
    {
     "data": {
      "text/plain": "  0%|          | 0/50 [00:00<?, ?it/s]",
      "application/vnd.jupyter.widget-view+json": {
       "version_major": 2,
       "version_minor": 0,
       "model_id": "48b5441cc4204e43b0c9e79a6cdace75"
      }
     },
     "metadata": {},
     "output_type": "display_data"
    },
    {
     "name": "stdout",
     "output_type": "stream",
     "text": [
      "[I 2023-12-06 20:22:22,405] Trial 0 finished with value: -585595776802.6683 and parameters: {'hidden_dim': 288, 'k': 4, 'learning_rate': 0.007237783576337556, 'batcher': False}. Best is trial 0 with value: -585595776802.6683.\n",
      "[I 2023-12-06 20:24:17,455] Trial 1 finished with value: -0.330745084412542 and parameters: {'hidden_dim': 320, 'k': 5, 'learning_rate': 0.004693019989987263, 'batcher': False}. Best is trial 1 with value: -0.330745084412542.\n",
      "[I 2023-12-06 20:26:02,719] Trial 2 finished with value: -146.40988886406535 and parameters: {'hidden_dim': 96, 'k': 2, 'learning_rate': 0.0022928629972609584, 'batcher': False}. Best is trial 1 with value: -0.330745084412542.\n",
      "[I 2023-12-06 20:27:55,419] Trial 3 finished with value: 0.1203045834559908 and parameters: {'hidden_dim': 144, 'k': 3, 'learning_rate': 0.00020781941321065765, 'batcher': True}. Best is trial 3 with value: 0.1203045834559908.\n",
      "[I 2023-12-06 20:29:45,510] Trial 4 finished with value: -1354.9940499355241 and parameters: {'hidden_dim': 352, 'k': 4, 'learning_rate': 0.0002430607516729208, 'batcher': True}. Best is trial 3 with value: 0.1203045834559908.\n",
      "[I 2023-12-06 20:31:41,722] Trial 5 finished with value: 0.6542202470311751 and parameters: {'hidden_dim': 368, 'k': 1, 'learning_rate': 0.0004261746331425581, 'batcher': False}. Best is trial 5 with value: 0.6542202470311751.\n",
      "[I 2023-12-06 20:33:35,013] Trial 6 finished with value: -1.7594804597569034 and parameters: {'hidden_dim': 304, 'k': 5, 'learning_rate': 1.8385329005205906e-05, 'batcher': False}. Best is trial 5 with value: 0.6542202470311751.\n",
      "[I 2023-12-06 20:35:30,919] Trial 7 finished with value: -0.7006106913664512 and parameters: {'hidden_dim': 432, 'k': 3, 'learning_rate': 0.0019733084239913464, 'batcher': False}. Best is trial 5 with value: 0.6542202470311751.\n",
      "[I 2023-12-06 20:37:08,418] Trial 8 finished with value: -0.046050209913020314 and parameters: {'hidden_dim': 352, 'k': 2, 'learning_rate': 0.0012799007177459842, 'batcher': True}. Best is trial 5 with value: 0.6542202470311751.\n",
      "[I 2023-12-06 20:38:37,776] Trial 9 finished with value: 0.1920235642733048 and parameters: {'hidden_dim': 464, 'k': 4, 'learning_rate': 0.0022595111840802984, 'batcher': False}. Best is trial 5 with value: 0.6542202470311751.\n",
      "[I 2023-12-06 20:40:03,344] Trial 10 finished with value: 0.7957445965204542 and parameters: {'hidden_dim': 192, 'k': 1, 'learning_rate': 6.533098818829118e-05, 'batcher': True}. Best is trial 10 with value: 0.7957445965204542.\n",
      "[I 2023-12-06 20:41:28,375] Trial 11 finished with value: 0.856889903454771 and parameters: {'hidden_dim': 176, 'k': 1, 'learning_rate': 8.386874136785434e-05, 'batcher': True}. Best is trial 11 with value: 0.856889903454771.\n",
      "[I 2023-12-06 20:42:52,531] Trial 12 finished with value: 0.8139964935290097 and parameters: {'hidden_dim': 176, 'k': 1, 'learning_rate': 4.723192404314849e-05, 'batcher': True}. Best is trial 11 with value: 0.856889903454771.\n",
      "[I 2023-12-06 20:44:11,632] Trial 13 finished with value: -3422.2822542144227 and parameters: {'hidden_dim': 16, 'k': 1, 'learning_rate': 3.836165779684072e-05, 'batcher': True}. Best is trial 11 with value: 0.856889903454771.\n",
      "[I 2023-12-06 20:45:36,068] Trial 14 finished with value: -19.17711081838923 and parameters: {'hidden_dim': 208, 'k': 2, 'learning_rate': 1.3512740181136886e-05, 'batcher': True}. Best is trial 11 with value: 0.856889903454771.\n",
      "[I 2023-12-06 20:47:16,356] Trial 15 finished with value: 0.8352631800960246 and parameters: {'hidden_dim': 80, 'k': 1, 'learning_rate': 7.953808900079593e-05, 'batcher': True}. Best is trial 11 with value: 0.856889903454771.\n",
      "[I 2023-12-06 20:48:59,273] Trial 16 finished with value: 0.7459930730201296 and parameters: {'hidden_dim': 48, 'k': 2, 'learning_rate': 0.0001094900807687016, 'batcher': True}. Best is trial 11 with value: 0.856889903454771.\n",
      "[I 2023-12-06 20:50:52,329] Trial 17 finished with value: 0.6810596042741741 and parameters: {'hidden_dim': 80, 'k': 1, 'learning_rate': 0.0001219044674464926, 'batcher': True}. Best is trial 11 with value: 0.856889903454771.\n",
      "[I 2023-12-06 20:52:45,136] Trial 18 finished with value: -0.0067937936736706785 and parameters: {'hidden_dim': 112, 'k': 2, 'learning_rate': 2.572620952242145e-05, 'batcher': True}. Best is trial 11 with value: 0.856889903454771.\n",
      "[I 2023-12-06 20:54:37,060] Trial 19 finished with value: -3.3302915204521994 and parameters: {'hidden_dim': 256, 'k': 3, 'learning_rate': 1.2170581736309054e-05, 'batcher': True}. Best is trial 11 with value: 0.856889903454771.\n",
      "[I 2023-12-06 20:56:27,036] Trial 20 finished with value: 0.8312603459623237 and parameters: {'hidden_dim': 144, 'k': 1, 'learning_rate': 0.0004917730686541254, 'batcher': True}. Best is trial 11 with value: 0.856889903454771.\n",
      "[I 2023-12-06 20:58:24,375] Trial 21 finished with value: 0.7640500587784957 and parameters: {'hidden_dim': 240, 'k': 1, 'learning_rate': 0.0004436024752508306, 'batcher': True}. Best is trial 11 with value: 0.856889903454771.\n",
      "[I 2023-12-06 21:00:14,546] Trial 22 finished with value: 0.8473958516007947 and parameters: {'hidden_dim': 144, 'k': 1, 'learning_rate': 0.0001090356611111637, 'batcher': True}. Best is trial 11 with value: 0.856889903454771.\n",
      "[I 2023-12-06 21:02:08,147] Trial 23 finished with value: -5.042235738454964 and parameters: {'hidden_dim': 144, 'k': 2, 'learning_rate': 8.87063818227063e-05, 'batcher': True}. Best is trial 11 with value: 0.856889903454771.\n",
      "[I 2023-12-06 21:03:54,568] Trial 24 finished with value: 0.8579775387207207 and parameters: {'hidden_dim': 48, 'k': 1, 'learning_rate': 0.0001458326260836514, 'batcher': True}. Best is trial 24 with value: 0.8579775387207207.\n",
      "[I 2023-12-06 21:05:38,408] Trial 25 finished with value: 0.8356578728793493 and parameters: {'hidden_dim': 16, 'k': 2, 'learning_rate': 0.00016914229527007432, 'batcher': True}. Best is trial 24 with value: 0.8579775387207207.\n",
      "[I 2023-12-06 21:07:17,464] Trial 26 finished with value: 0.8546752549556575 and parameters: {'hidden_dim': 48, 'k': 1, 'learning_rate': 3.7096137393690065e-05, 'batcher': True}. Best is trial 24 with value: 0.8579775387207207.\n",
      "[I 2023-12-06 21:08:58,467] Trial 27 finished with value: 0.4109121786818033 and parameters: {'hidden_dim': 48, 'k': 3, 'learning_rate': 3.4367033791913615e-05, 'batcher': True}. Best is trial 24 with value: 0.8579775387207207.\n",
      "[I 2023-12-06 21:10:36,719] Trial 28 finished with value: 0.8546468172830946 and parameters: {'hidden_dim': 48, 'k': 1, 'learning_rate': 5.701489756337592e-05, 'batcher': True}. Best is trial 24 with value: 0.8579775387207207.\n",
      "[I 2023-12-06 21:12:17,337] Trial 29 finished with value: 0.04548101990375142 and parameters: {'hidden_dim': 112, 'k': 2, 'learning_rate': 2.135059262882267e-05, 'batcher': True}. Best is trial 24 with value: 0.8579775387207207.\n",
      "[I 2023-12-06 21:13:53,695] Trial 30 finished with value: -3434.256751828255 and parameters: {'hidden_dim': 16, 'k': 1, 'learning_rate': 3.937750780525036e-05, 'batcher': True}. Best is trial 24 with value: 0.8579775387207207.\n",
      "[I 2023-12-06 21:15:37,082] Trial 31 finished with value: 0.8563860213100254 and parameters: {'hidden_dim': 48, 'k': 1, 'learning_rate': 6.005106852315815e-05, 'batcher': True}. Best is trial 24 with value: 0.8579775387207207.\n",
      "[I 2023-12-06 21:17:11,545] Trial 32 finished with value: 0.8669709069085527 and parameters: {'hidden_dim': 64, 'k': 1, 'learning_rate': 5.583080222377766e-05, 'batcher': True}. Best is trial 32 with value: 0.8669709069085527.\n",
      "[I 2023-12-06 21:19:01,214] Trial 33 finished with value: 0.2951699013560177 and parameters: {'hidden_dim': 80, 'k': 2, 'learning_rate': 6.0519869093986245e-05, 'batcher': True}. Best is trial 32 with value: 0.8669709069085527.\n",
      "[I 2023-12-06 21:21:00,968] Trial 34 finished with value: 0.8199113733792615 and parameters: {'hidden_dim': 176, 'k': 1, 'learning_rate': 0.00015155693755780297, 'batcher': False}. Best is trial 32 with value: 0.8669709069085527.\n",
      "[I 2023-12-06 21:22:54,715] Trial 35 finished with value: 0.8515350822433607 and parameters: {'hidden_dim': 112, 'k': 1, 'learning_rate': 0.00025970446868377406, 'batcher': True}. Best is trial 32 with value: 0.8669709069085527.\n",
      "[I 2023-12-06 21:24:46,300] Trial 36 finished with value: 0.8021671360871752 and parameters: {'hidden_dim': 64, 'k': 2, 'learning_rate': 7.889917648645602e-05, 'batcher': True}. Best is trial 32 with value: 0.8669709069085527.\n",
      "[I 2023-12-06 21:26:42,024] Trial 37 finished with value: 0.766544545327305 and parameters: {'hidden_dim': 224, 'k': 1, 'learning_rate': 0.00019229677316572185, 'batcher': False}. Best is trial 32 with value: 0.8669709069085527.\n",
      "[I 2023-12-06 21:28:43,867] Trial 38 finished with value: -2.2168080589764125 and parameters: {'hidden_dim': 288, 'k': 4, 'learning_rate': 2.7101463357417865e-05, 'batcher': True}. Best is trial 32 with value: 0.8669709069085527.\n",
      "[I 2023-12-06 21:30:25,912] Trial 39 finished with value: -1.0140609360099337 and parameters: {'hidden_dim': 112, 'k': 5, 'learning_rate': 5.591315791004994e-05, 'batcher': False}. Best is trial 32 with value: 0.8669709069085527.\n",
      "[I 2023-12-06 21:32:27,108] Trial 40 finished with value: 0.6692362642480839 and parameters: {'hidden_dim': 512, 'k': 2, 'learning_rate': 0.00013262278305812655, 'batcher': True}. Best is trial 32 with value: 0.8669709069085527.\n",
      "[I 2023-12-06 21:34:19,295] Trial 41 finished with value: 0.6838750287481699 and parameters: {'hidden_dim': 32, 'k': 1, 'learning_rate': 4.2484818214130654e-05, 'batcher': True}. Best is trial 32 with value: 0.8669709069085527.\n",
      "[I 2023-12-06 21:36:09,549] Trial 42 finished with value: 0.8536374074870757 and parameters: {'hidden_dim': 64, 'k': 1, 'learning_rate': 8.820948449296148e-05, 'batcher': True}. Best is trial 32 with value: 0.8669709069085527.\n",
      "[I 2023-12-06 21:37:36,284] Trial 43 finished with value: 0.7924209403645162 and parameters: {'hidden_dim': 96, 'k': 1, 'learning_rate': 2.7550526143399575e-05, 'batcher': True}. Best is trial 32 with value: 0.8669709069085527.\n",
      "[I 2023-12-06 21:39:01,350] Trial 44 finished with value: 0.8334846489617924 and parameters: {'hidden_dim': 160, 'k': 1, 'learning_rate': 4.994615158012471e-05, 'batcher': True}. Best is trial 32 with value: 0.8669709069085527.\n",
      "[I 2023-12-06 21:40:22,444] Trial 45 finished with value: 0.7824710299672171 and parameters: {'hidden_dim': 32, 'k': 1, 'learning_rate': 6.937570796336723e-05, 'batcher': False}. Best is trial 32 with value: 0.8669709069085527.\n",
      "[I 2023-12-06 21:41:44,902] Trial 46 finished with value: 0.7809711730273178 and parameters: {'hidden_dim': 128, 'k': 1, 'learning_rate': 1.711206863139253e-05, 'batcher': True}. Best is trial 32 with value: 0.8669709069085527.\n",
      "[I 2023-12-06 21:43:07,543] Trial 47 finished with value: 0.7541374009909358 and parameters: {'hidden_dim': 64, 'k': 2, 'learning_rate': 3.356201188508859e-05, 'batcher': True}. Best is trial 32 with value: 0.8669709069085527.\n",
      "[I 2023-12-06 21:44:35,377] Trial 48 finished with value: 0.8053535436069259 and parameters: {'hidden_dim': 400, 'k': 1, 'learning_rate': 1.032387007743663e-05, 'batcher': True}. Best is trial 32 with value: 0.8669709069085527.\n",
      "[I 2023-12-06 21:45:56,794] Trial 49 finished with value: 0.840765596810271 and parameters: {'hidden_dim': 96, 'k': 2, 'learning_rate': 0.00010123947978419958, 'batcher': True}. Best is trial 32 with value: 0.8669709069085527.\n"
     ]
    }
   ],
   "source": [
    "study_tree = optuna.create_study(study_name=\"Best tree label config\", directions=['maximize'])\n",
    "study_tree.optimize(objective, n_trials=n_trials, show_progress_bar=True)"
   ],
   "metadata": {
    "collapsed": false,
    "ExecuteTime": {
     "start_time": "2023-12-06T20:20:50.394556Z",
     "end_time": "2023-12-06T21:45:56.811854Z"
    }
   }
  },
  {
   "cell_type": "code",
   "execution_count": 23,
   "outputs": [
    {
     "name": "stdout",
     "output_type": "stream",
     "text": [
      "{'hidden_dim': 64, 'k': 1, 'learning_rate': 5.583080222377766e-05, 'batcher': True}\n"
     ]
    }
   ],
   "source": [
    "best_par_tree = study_tree.best_params\n",
    "print(best_par_tree)"
   ],
   "metadata": {
    "collapsed": false,
    "ExecuteTime": {
     "start_time": "2023-12-06T21:45:56.826872Z",
     "end_time": "2023-12-06T21:45:56.853387Z"
    }
   }
  },
  {
   "cell_type": "code",
   "execution_count": 24,
   "outputs": [
    {
     "data": {
      "text/plain": "'TPESampler'"
     },
     "execution_count": 24,
     "metadata": {},
     "output_type": "execute_result"
    }
   ],
   "source": [
    "study_tree.sampler.__class__.__name__"
   ],
   "metadata": {
    "collapsed": false,
    "ExecuteTime": {
     "start_time": "2023-12-06T21:45:56.843378Z",
     "end_time": "2023-12-06T21:45:56.919320Z"
    }
   }
  },
  {
   "cell_type": "code",
   "execution_count": 25,
   "outputs": [
    {
     "data": {
      "text/plain": "    number         value             datetime_start  \\\n0        0 -5.855958e+11 2023-12-06 20:20:50.399556   \n1        1 -3.307451e-01 2023-12-06 20:22:22.406894   \n2        2 -1.464099e+02 2023-12-06 20:24:17.458105   \n3        3  1.203046e-01 2023-12-06 20:26:02.720426   \n4        4 -1.354994e+03 2023-12-06 20:27:55.421246   \n5        5  6.542202e-01 2023-12-06 20:29:45.512859   \n6        6 -1.759480e+00 2023-12-06 20:31:41.724929   \n7        7 -7.006107e-01 2023-12-06 20:33:35.014116   \n8        8 -4.605021e-02 2023-12-06 20:35:30.921434   \n9        9  1.920236e-01 2023-12-06 20:37:08.419337   \n10      10  7.957446e-01 2023-12-06 20:38:37.777796   \n11      11  8.568899e-01 2023-12-06 20:40:03.345759   \n12      12  8.139965e-01 2023-12-06 20:41:28.377691   \n13      13 -3.422282e+03 2023-12-06 20:42:52.532649   \n14      14 -1.917711e+01 2023-12-06 20:44:11.634788   \n15      15  8.352632e-01 2023-12-06 20:45:36.069754   \n16      16  7.459931e-01 2023-12-06 20:47:16.357569   \n17      17  6.810596e-01 2023-12-06 20:48:59.275951   \n18      18 -6.793794e-03 2023-12-06 20:50:52.331058   \n19      19 -3.330292e+00 2023-12-06 20:52:45.137359   \n20      20  8.312603e-01 2023-12-06 20:54:37.061950   \n21      21  7.640501e-01 2023-12-06 20:56:27.037241   \n22      22  8.473959e-01 2023-12-06 20:58:24.377337   \n23      23 -5.042236e+00 2023-12-06 21:00:14.547904   \n24      24  8.579775e-01 2023-12-06 21:02:08.148587   \n25      25  8.356579e-01 2023-12-06 21:03:54.570761   \n26      26  8.546753e-01 2023-12-06 21:05:38.410080   \n27      27  4.109122e-01 2023-12-06 21:07:17.465517   \n28      28  8.546468e-01 2023-12-06 21:08:58.468840   \n29      29  4.548102e-02 2023-12-06 21:10:36.720912   \n30      30 -3.434257e+03 2023-12-06 21:12:17.338926   \n31      31  8.563860e-01 2023-12-06 21:13:53.696146   \n32      32  8.669709e-01 2023-12-06 21:15:37.084800   \n33      33  2.951699e-01 2023-12-06 21:17:11.546921   \n34      34  8.199114e-01 2023-12-06 21:19:01.216601   \n35      35  8.515351e-01 2023-12-06 21:21:00.969721   \n36      36  8.021671e-01 2023-12-06 21:22:54.716686   \n37      37  7.665445e-01 2023-12-06 21:24:46.302864   \n38      38 -2.216808e+00 2023-12-06 21:26:42.025054   \n39      39 -1.014061e+00 2023-12-06 21:28:43.869375   \n40      40  6.692363e-01 2023-12-06 21:30:25.913845   \n41      41  6.838750e-01 2023-12-06 21:32:27.111333   \n42      42  8.536374e-01 2023-12-06 21:34:19.295315   \n43      43  7.924209e-01 2023-12-06 21:36:09.550614   \n44      44  8.334846e-01 2023-12-06 21:37:36.285007   \n45      45  7.824710e-01 2023-12-06 21:39:01.352567   \n46      46  7.809712e-01 2023-12-06 21:40:22.445584   \n47      47  7.541374e-01 2023-12-06 21:41:44.903445   \n48      48  8.053535e-01 2023-12-06 21:43:07.544710   \n49      49  8.407656e-01 2023-12-06 21:44:35.378969   \n\n            datetime_complete               duration  params_batcher  \\\n0  2023-12-06 20:22:22.404894 0 days 00:01:32.005338           False   \n1  2023-12-06 20:24:17.455261 0 days 00:01:55.048367           False   \n2  2023-12-06 20:26:02.719426 0 days 00:01:45.261321           False   \n3  2023-12-06 20:27:55.419247 0 days 00:01:52.698821            True   \n4  2023-12-06 20:29:45.510860 0 days 00:01:50.089614            True   \n5  2023-12-06 20:31:41.722930 0 days 00:01:56.210071           False   \n6  2023-12-06 20:33:35.013115 0 days 00:01:53.288186           False   \n7  2023-12-06 20:35:30.919386 0 days 00:01:55.905270           False   \n8  2023-12-06 20:37:08.417338 0 days 00:01:37.495904            True   \n9  2023-12-06 20:38:37.776797 0 days 00:01:29.357460           False   \n10 2023-12-06 20:40:03.343759 0 days 00:01:25.565963            True   \n11 2023-12-06 20:41:28.375693 0 days 00:01:25.029934            True   \n12 2023-12-06 20:42:52.531649 0 days 00:01:24.153958            True   \n13 2023-12-06 20:44:11.632790 0 days 00:01:19.100141            True   \n14 2023-12-06 20:45:36.068754 0 days 00:01:24.433966            True   \n15 2023-12-06 20:47:16.356570 0 days 00:01:40.286816            True   \n16 2023-12-06 20:48:59.273951 0 days 00:01:42.916382            True   \n17 2023-12-06 20:50:52.329555 0 days 00:01:53.053604            True   \n18 2023-12-06 20:52:45.135359 0 days 00:01:52.804301            True   \n19 2023-12-06 20:54:37.060427 0 days 00:01:51.923068            True   \n20 2023-12-06 20:56:27.036242 0 days 00:01:49.974292            True   \n21 2023-12-06 20:58:24.375833 0 days 00:01:57.338592            True   \n22 2023-12-06 21:00:14.546912 0 days 00:01:50.169575            True   \n23 2023-12-06 21:02:08.146587 0 days 00:01:53.598683            True   \n24 2023-12-06 21:03:54.568760 0 days 00:01:46.420173            True   \n25 2023-12-06 21:05:38.408075 0 days 00:01:43.837314            True   \n26 2023-12-06 21:07:17.464435 0 days 00:01:39.054355            True   \n27 2023-12-06 21:08:58.467336 0 days 00:01:41.001819            True   \n28 2023-12-06 21:10:36.719912 0 days 00:01:38.251072            True   \n29 2023-12-06 21:12:17.337926 0 days 00:01:40.617014            True   \n30 2023-12-06 21:13:53.695148 0 days 00:01:36.356222            True   \n31 2023-12-06 21:15:37.082799 0 days 00:01:43.386653            True   \n32 2023-12-06 21:17:11.545920 0 days 00:01:34.461120            True   \n33 2023-12-06 21:19:01.214601 0 days 00:01:49.667680            True   \n34 2023-12-06 21:21:00.968720 0 days 00:01:59.752119           False   \n35 2023-12-06 21:22:54.715126 0 days 00:01:53.745405            True   \n36 2023-12-06 21:24:46.299865 0 days 00:01:51.583179            True   \n37 2023-12-06 21:26:42.023057 0 days 00:01:55.720193           False   \n38 2023-12-06 21:28:43.867375 0 days 00:02:01.842321            True   \n39 2023-12-06 21:30:25.911843 0 days 00:01:42.042468           False   \n40 2023-12-06 21:32:27.107912 0 days 00:02:01.194067            True   \n41 2023-12-06 21:34:19.294316 0 days 00:01:52.182983            True   \n42 2023-12-06 21:36:09.549615 0 days 00:01:50.254300            True   \n43 2023-12-06 21:37:36.284003 0 days 00:01:26.733389            True   \n44 2023-12-06 21:39:01.350568 0 days 00:01:25.065561            True   \n45 2023-12-06 21:40:22.444584 0 days 00:01:21.092017           False   \n46 2023-12-06 21:41:44.902444 0 days 00:01:22.456860            True   \n47 2023-12-06 21:43:07.543706 0 days 00:01:22.640261            True   \n48 2023-12-06 21:44:35.377970 0 days 00:01:27.833260            True   \n49 2023-12-06 21:45:56.793820 0 days 00:01:21.414851            True   \n\n    params_hidden_dim  params_k  params_learning_rate     state  \n0                 288         4              0.007238  COMPLETE  \n1                 320         5              0.004693  COMPLETE  \n2                  96         2              0.002293  COMPLETE  \n3                 144         3              0.000208  COMPLETE  \n4                 352         4              0.000243  COMPLETE  \n5                 368         1              0.000426  COMPLETE  \n6                 304         5              0.000018  COMPLETE  \n7                 432         3              0.001973  COMPLETE  \n8                 352         2              0.001280  COMPLETE  \n9                 464         4              0.002260  COMPLETE  \n10                192         1              0.000065  COMPLETE  \n11                176         1              0.000084  COMPLETE  \n12                176         1              0.000047  COMPLETE  \n13                 16         1              0.000038  COMPLETE  \n14                208         2              0.000014  COMPLETE  \n15                 80         1              0.000080  COMPLETE  \n16                 48         2              0.000109  COMPLETE  \n17                 80         1              0.000122  COMPLETE  \n18                112         2              0.000026  COMPLETE  \n19                256         3              0.000012  COMPLETE  \n20                144         1              0.000492  COMPLETE  \n21                240         1              0.000444  COMPLETE  \n22                144         1              0.000109  COMPLETE  \n23                144         2              0.000089  COMPLETE  \n24                 48         1              0.000146  COMPLETE  \n25                 16         2              0.000169  COMPLETE  \n26                 48         1              0.000037  COMPLETE  \n27                 48         3              0.000034  COMPLETE  \n28                 48         1              0.000057  COMPLETE  \n29                112         2              0.000021  COMPLETE  \n30                 16         1              0.000039  COMPLETE  \n31                 48         1              0.000060  COMPLETE  \n32                 64         1              0.000056  COMPLETE  \n33                 80         2              0.000061  COMPLETE  \n34                176         1              0.000152  COMPLETE  \n35                112         1              0.000260  COMPLETE  \n36                 64         2              0.000079  COMPLETE  \n37                224         1              0.000192  COMPLETE  \n38                288         4              0.000027  COMPLETE  \n39                112         5              0.000056  COMPLETE  \n40                512         2              0.000133  COMPLETE  \n41                 32         1              0.000042  COMPLETE  \n42                 64         1              0.000088  COMPLETE  \n43                 96         1              0.000028  COMPLETE  \n44                160         1              0.000050  COMPLETE  \n45                 32         1              0.000069  COMPLETE  \n46                128         1              0.000017  COMPLETE  \n47                 64         2              0.000034  COMPLETE  \n48                400         1              0.000010  COMPLETE  \n49                 96         2              0.000101  COMPLETE  ",
      "text/html": "<div>\n<style scoped>\n    .dataframe tbody tr th:only-of-type {\n        vertical-align: middle;\n    }\n\n    .dataframe tbody tr th {\n        vertical-align: top;\n    }\n\n    .dataframe thead th {\n        text-align: right;\n    }\n</style>\n<table border=\"1\" class=\"dataframe\">\n  <thead>\n    <tr style=\"text-align: right;\">\n      <th></th>\n      <th>number</th>\n      <th>value</th>\n      <th>datetime_start</th>\n      <th>datetime_complete</th>\n      <th>duration</th>\n      <th>params_batcher</th>\n      <th>params_hidden_dim</th>\n      <th>params_k</th>\n      <th>params_learning_rate</th>\n      <th>state</th>\n    </tr>\n  </thead>\n  <tbody>\n    <tr>\n      <th>0</th>\n      <td>0</td>\n      <td>-5.855958e+11</td>\n      <td>2023-12-06 20:20:50.399556</td>\n      <td>2023-12-06 20:22:22.404894</td>\n      <td>0 days 00:01:32.005338</td>\n      <td>False</td>\n      <td>288</td>\n      <td>4</td>\n      <td>0.007238</td>\n      <td>COMPLETE</td>\n    </tr>\n    <tr>\n      <th>1</th>\n      <td>1</td>\n      <td>-3.307451e-01</td>\n      <td>2023-12-06 20:22:22.406894</td>\n      <td>2023-12-06 20:24:17.455261</td>\n      <td>0 days 00:01:55.048367</td>\n      <td>False</td>\n      <td>320</td>\n      <td>5</td>\n      <td>0.004693</td>\n      <td>COMPLETE</td>\n    </tr>\n    <tr>\n      <th>2</th>\n      <td>2</td>\n      <td>-1.464099e+02</td>\n      <td>2023-12-06 20:24:17.458105</td>\n      <td>2023-12-06 20:26:02.719426</td>\n      <td>0 days 00:01:45.261321</td>\n      <td>False</td>\n      <td>96</td>\n      <td>2</td>\n      <td>0.002293</td>\n      <td>COMPLETE</td>\n    </tr>\n    <tr>\n      <th>3</th>\n      <td>3</td>\n      <td>1.203046e-01</td>\n      <td>2023-12-06 20:26:02.720426</td>\n      <td>2023-12-06 20:27:55.419247</td>\n      <td>0 days 00:01:52.698821</td>\n      <td>True</td>\n      <td>144</td>\n      <td>3</td>\n      <td>0.000208</td>\n      <td>COMPLETE</td>\n    </tr>\n    <tr>\n      <th>4</th>\n      <td>4</td>\n      <td>-1.354994e+03</td>\n      <td>2023-12-06 20:27:55.421246</td>\n      <td>2023-12-06 20:29:45.510860</td>\n      <td>0 days 00:01:50.089614</td>\n      <td>True</td>\n      <td>352</td>\n      <td>4</td>\n      <td>0.000243</td>\n      <td>COMPLETE</td>\n    </tr>\n    <tr>\n      <th>5</th>\n      <td>5</td>\n      <td>6.542202e-01</td>\n      <td>2023-12-06 20:29:45.512859</td>\n      <td>2023-12-06 20:31:41.722930</td>\n      <td>0 days 00:01:56.210071</td>\n      <td>False</td>\n      <td>368</td>\n      <td>1</td>\n      <td>0.000426</td>\n      <td>COMPLETE</td>\n    </tr>\n    <tr>\n      <th>6</th>\n      <td>6</td>\n      <td>-1.759480e+00</td>\n      <td>2023-12-06 20:31:41.724929</td>\n      <td>2023-12-06 20:33:35.013115</td>\n      <td>0 days 00:01:53.288186</td>\n      <td>False</td>\n      <td>304</td>\n      <td>5</td>\n      <td>0.000018</td>\n      <td>COMPLETE</td>\n    </tr>\n    <tr>\n      <th>7</th>\n      <td>7</td>\n      <td>-7.006107e-01</td>\n      <td>2023-12-06 20:33:35.014116</td>\n      <td>2023-12-06 20:35:30.919386</td>\n      <td>0 days 00:01:55.905270</td>\n      <td>False</td>\n      <td>432</td>\n      <td>3</td>\n      <td>0.001973</td>\n      <td>COMPLETE</td>\n    </tr>\n    <tr>\n      <th>8</th>\n      <td>8</td>\n      <td>-4.605021e-02</td>\n      <td>2023-12-06 20:35:30.921434</td>\n      <td>2023-12-06 20:37:08.417338</td>\n      <td>0 days 00:01:37.495904</td>\n      <td>True</td>\n      <td>352</td>\n      <td>2</td>\n      <td>0.001280</td>\n      <td>COMPLETE</td>\n    </tr>\n    <tr>\n      <th>9</th>\n      <td>9</td>\n      <td>1.920236e-01</td>\n      <td>2023-12-06 20:37:08.419337</td>\n      <td>2023-12-06 20:38:37.776797</td>\n      <td>0 days 00:01:29.357460</td>\n      <td>False</td>\n      <td>464</td>\n      <td>4</td>\n      <td>0.002260</td>\n      <td>COMPLETE</td>\n    </tr>\n    <tr>\n      <th>10</th>\n      <td>10</td>\n      <td>7.957446e-01</td>\n      <td>2023-12-06 20:38:37.777796</td>\n      <td>2023-12-06 20:40:03.343759</td>\n      <td>0 days 00:01:25.565963</td>\n      <td>True</td>\n      <td>192</td>\n      <td>1</td>\n      <td>0.000065</td>\n      <td>COMPLETE</td>\n    </tr>\n    <tr>\n      <th>11</th>\n      <td>11</td>\n      <td>8.568899e-01</td>\n      <td>2023-12-06 20:40:03.345759</td>\n      <td>2023-12-06 20:41:28.375693</td>\n      <td>0 days 00:01:25.029934</td>\n      <td>True</td>\n      <td>176</td>\n      <td>1</td>\n      <td>0.000084</td>\n      <td>COMPLETE</td>\n    </tr>\n    <tr>\n      <th>12</th>\n      <td>12</td>\n      <td>8.139965e-01</td>\n      <td>2023-12-06 20:41:28.377691</td>\n      <td>2023-12-06 20:42:52.531649</td>\n      <td>0 days 00:01:24.153958</td>\n      <td>True</td>\n      <td>176</td>\n      <td>1</td>\n      <td>0.000047</td>\n      <td>COMPLETE</td>\n    </tr>\n    <tr>\n      <th>13</th>\n      <td>13</td>\n      <td>-3.422282e+03</td>\n      <td>2023-12-06 20:42:52.532649</td>\n      <td>2023-12-06 20:44:11.632790</td>\n      <td>0 days 00:01:19.100141</td>\n      <td>True</td>\n      <td>16</td>\n      <td>1</td>\n      <td>0.000038</td>\n      <td>COMPLETE</td>\n    </tr>\n    <tr>\n      <th>14</th>\n      <td>14</td>\n      <td>-1.917711e+01</td>\n      <td>2023-12-06 20:44:11.634788</td>\n      <td>2023-12-06 20:45:36.068754</td>\n      <td>0 days 00:01:24.433966</td>\n      <td>True</td>\n      <td>208</td>\n      <td>2</td>\n      <td>0.000014</td>\n      <td>COMPLETE</td>\n    </tr>\n    <tr>\n      <th>15</th>\n      <td>15</td>\n      <td>8.352632e-01</td>\n      <td>2023-12-06 20:45:36.069754</td>\n      <td>2023-12-06 20:47:16.356570</td>\n      <td>0 days 00:01:40.286816</td>\n      <td>True</td>\n      <td>80</td>\n      <td>1</td>\n      <td>0.000080</td>\n      <td>COMPLETE</td>\n    </tr>\n    <tr>\n      <th>16</th>\n      <td>16</td>\n      <td>7.459931e-01</td>\n      <td>2023-12-06 20:47:16.357569</td>\n      <td>2023-12-06 20:48:59.273951</td>\n      <td>0 days 00:01:42.916382</td>\n      <td>True</td>\n      <td>48</td>\n      <td>2</td>\n      <td>0.000109</td>\n      <td>COMPLETE</td>\n    </tr>\n    <tr>\n      <th>17</th>\n      <td>17</td>\n      <td>6.810596e-01</td>\n      <td>2023-12-06 20:48:59.275951</td>\n      <td>2023-12-06 20:50:52.329555</td>\n      <td>0 days 00:01:53.053604</td>\n      <td>True</td>\n      <td>80</td>\n      <td>1</td>\n      <td>0.000122</td>\n      <td>COMPLETE</td>\n    </tr>\n    <tr>\n      <th>18</th>\n      <td>18</td>\n      <td>-6.793794e-03</td>\n      <td>2023-12-06 20:50:52.331058</td>\n      <td>2023-12-06 20:52:45.135359</td>\n      <td>0 days 00:01:52.804301</td>\n      <td>True</td>\n      <td>112</td>\n      <td>2</td>\n      <td>0.000026</td>\n      <td>COMPLETE</td>\n    </tr>\n    <tr>\n      <th>19</th>\n      <td>19</td>\n      <td>-3.330292e+00</td>\n      <td>2023-12-06 20:52:45.137359</td>\n      <td>2023-12-06 20:54:37.060427</td>\n      <td>0 days 00:01:51.923068</td>\n      <td>True</td>\n      <td>256</td>\n      <td>3</td>\n      <td>0.000012</td>\n      <td>COMPLETE</td>\n    </tr>\n    <tr>\n      <th>20</th>\n      <td>20</td>\n      <td>8.312603e-01</td>\n      <td>2023-12-06 20:54:37.061950</td>\n      <td>2023-12-06 20:56:27.036242</td>\n      <td>0 days 00:01:49.974292</td>\n      <td>True</td>\n      <td>144</td>\n      <td>1</td>\n      <td>0.000492</td>\n      <td>COMPLETE</td>\n    </tr>\n    <tr>\n      <th>21</th>\n      <td>21</td>\n      <td>7.640501e-01</td>\n      <td>2023-12-06 20:56:27.037241</td>\n      <td>2023-12-06 20:58:24.375833</td>\n      <td>0 days 00:01:57.338592</td>\n      <td>True</td>\n      <td>240</td>\n      <td>1</td>\n      <td>0.000444</td>\n      <td>COMPLETE</td>\n    </tr>\n    <tr>\n      <th>22</th>\n      <td>22</td>\n      <td>8.473959e-01</td>\n      <td>2023-12-06 20:58:24.377337</td>\n      <td>2023-12-06 21:00:14.546912</td>\n      <td>0 days 00:01:50.169575</td>\n      <td>True</td>\n      <td>144</td>\n      <td>1</td>\n      <td>0.000109</td>\n      <td>COMPLETE</td>\n    </tr>\n    <tr>\n      <th>23</th>\n      <td>23</td>\n      <td>-5.042236e+00</td>\n      <td>2023-12-06 21:00:14.547904</td>\n      <td>2023-12-06 21:02:08.146587</td>\n      <td>0 days 00:01:53.598683</td>\n      <td>True</td>\n      <td>144</td>\n      <td>2</td>\n      <td>0.000089</td>\n      <td>COMPLETE</td>\n    </tr>\n    <tr>\n      <th>24</th>\n      <td>24</td>\n      <td>8.579775e-01</td>\n      <td>2023-12-06 21:02:08.148587</td>\n      <td>2023-12-06 21:03:54.568760</td>\n      <td>0 days 00:01:46.420173</td>\n      <td>True</td>\n      <td>48</td>\n      <td>1</td>\n      <td>0.000146</td>\n      <td>COMPLETE</td>\n    </tr>\n    <tr>\n      <th>25</th>\n      <td>25</td>\n      <td>8.356579e-01</td>\n      <td>2023-12-06 21:03:54.570761</td>\n      <td>2023-12-06 21:05:38.408075</td>\n      <td>0 days 00:01:43.837314</td>\n      <td>True</td>\n      <td>16</td>\n      <td>2</td>\n      <td>0.000169</td>\n      <td>COMPLETE</td>\n    </tr>\n    <tr>\n      <th>26</th>\n      <td>26</td>\n      <td>8.546753e-01</td>\n      <td>2023-12-06 21:05:38.410080</td>\n      <td>2023-12-06 21:07:17.464435</td>\n      <td>0 days 00:01:39.054355</td>\n      <td>True</td>\n      <td>48</td>\n      <td>1</td>\n      <td>0.000037</td>\n      <td>COMPLETE</td>\n    </tr>\n    <tr>\n      <th>27</th>\n      <td>27</td>\n      <td>4.109122e-01</td>\n      <td>2023-12-06 21:07:17.465517</td>\n      <td>2023-12-06 21:08:58.467336</td>\n      <td>0 days 00:01:41.001819</td>\n      <td>True</td>\n      <td>48</td>\n      <td>3</td>\n      <td>0.000034</td>\n      <td>COMPLETE</td>\n    </tr>\n    <tr>\n      <th>28</th>\n      <td>28</td>\n      <td>8.546468e-01</td>\n      <td>2023-12-06 21:08:58.468840</td>\n      <td>2023-12-06 21:10:36.719912</td>\n      <td>0 days 00:01:38.251072</td>\n      <td>True</td>\n      <td>48</td>\n      <td>1</td>\n      <td>0.000057</td>\n      <td>COMPLETE</td>\n    </tr>\n    <tr>\n      <th>29</th>\n      <td>29</td>\n      <td>4.548102e-02</td>\n      <td>2023-12-06 21:10:36.720912</td>\n      <td>2023-12-06 21:12:17.337926</td>\n      <td>0 days 00:01:40.617014</td>\n      <td>True</td>\n      <td>112</td>\n      <td>2</td>\n      <td>0.000021</td>\n      <td>COMPLETE</td>\n    </tr>\n    <tr>\n      <th>30</th>\n      <td>30</td>\n      <td>-3.434257e+03</td>\n      <td>2023-12-06 21:12:17.338926</td>\n      <td>2023-12-06 21:13:53.695148</td>\n      <td>0 days 00:01:36.356222</td>\n      <td>True</td>\n      <td>16</td>\n      <td>1</td>\n      <td>0.000039</td>\n      <td>COMPLETE</td>\n    </tr>\n    <tr>\n      <th>31</th>\n      <td>31</td>\n      <td>8.563860e-01</td>\n      <td>2023-12-06 21:13:53.696146</td>\n      <td>2023-12-06 21:15:37.082799</td>\n      <td>0 days 00:01:43.386653</td>\n      <td>True</td>\n      <td>48</td>\n      <td>1</td>\n      <td>0.000060</td>\n      <td>COMPLETE</td>\n    </tr>\n    <tr>\n      <th>32</th>\n      <td>32</td>\n      <td>8.669709e-01</td>\n      <td>2023-12-06 21:15:37.084800</td>\n      <td>2023-12-06 21:17:11.545920</td>\n      <td>0 days 00:01:34.461120</td>\n      <td>True</td>\n      <td>64</td>\n      <td>1</td>\n      <td>0.000056</td>\n      <td>COMPLETE</td>\n    </tr>\n    <tr>\n      <th>33</th>\n      <td>33</td>\n      <td>2.951699e-01</td>\n      <td>2023-12-06 21:17:11.546921</td>\n      <td>2023-12-06 21:19:01.214601</td>\n      <td>0 days 00:01:49.667680</td>\n      <td>True</td>\n      <td>80</td>\n      <td>2</td>\n      <td>0.000061</td>\n      <td>COMPLETE</td>\n    </tr>\n    <tr>\n      <th>34</th>\n      <td>34</td>\n      <td>8.199114e-01</td>\n      <td>2023-12-06 21:19:01.216601</td>\n      <td>2023-12-06 21:21:00.968720</td>\n      <td>0 days 00:01:59.752119</td>\n      <td>False</td>\n      <td>176</td>\n      <td>1</td>\n      <td>0.000152</td>\n      <td>COMPLETE</td>\n    </tr>\n    <tr>\n      <th>35</th>\n      <td>35</td>\n      <td>8.515351e-01</td>\n      <td>2023-12-06 21:21:00.969721</td>\n      <td>2023-12-06 21:22:54.715126</td>\n      <td>0 days 00:01:53.745405</td>\n      <td>True</td>\n      <td>112</td>\n      <td>1</td>\n      <td>0.000260</td>\n      <td>COMPLETE</td>\n    </tr>\n    <tr>\n      <th>36</th>\n      <td>36</td>\n      <td>8.021671e-01</td>\n      <td>2023-12-06 21:22:54.716686</td>\n      <td>2023-12-06 21:24:46.299865</td>\n      <td>0 days 00:01:51.583179</td>\n      <td>True</td>\n      <td>64</td>\n      <td>2</td>\n      <td>0.000079</td>\n      <td>COMPLETE</td>\n    </tr>\n    <tr>\n      <th>37</th>\n      <td>37</td>\n      <td>7.665445e-01</td>\n      <td>2023-12-06 21:24:46.302864</td>\n      <td>2023-12-06 21:26:42.023057</td>\n      <td>0 days 00:01:55.720193</td>\n      <td>False</td>\n      <td>224</td>\n      <td>1</td>\n      <td>0.000192</td>\n      <td>COMPLETE</td>\n    </tr>\n    <tr>\n      <th>38</th>\n      <td>38</td>\n      <td>-2.216808e+00</td>\n      <td>2023-12-06 21:26:42.025054</td>\n      <td>2023-12-06 21:28:43.867375</td>\n      <td>0 days 00:02:01.842321</td>\n      <td>True</td>\n      <td>288</td>\n      <td>4</td>\n      <td>0.000027</td>\n      <td>COMPLETE</td>\n    </tr>\n    <tr>\n      <th>39</th>\n      <td>39</td>\n      <td>-1.014061e+00</td>\n      <td>2023-12-06 21:28:43.869375</td>\n      <td>2023-12-06 21:30:25.911843</td>\n      <td>0 days 00:01:42.042468</td>\n      <td>False</td>\n      <td>112</td>\n      <td>5</td>\n      <td>0.000056</td>\n      <td>COMPLETE</td>\n    </tr>\n    <tr>\n      <th>40</th>\n      <td>40</td>\n      <td>6.692363e-01</td>\n      <td>2023-12-06 21:30:25.913845</td>\n      <td>2023-12-06 21:32:27.107912</td>\n      <td>0 days 00:02:01.194067</td>\n      <td>True</td>\n      <td>512</td>\n      <td>2</td>\n      <td>0.000133</td>\n      <td>COMPLETE</td>\n    </tr>\n    <tr>\n      <th>41</th>\n      <td>41</td>\n      <td>6.838750e-01</td>\n      <td>2023-12-06 21:32:27.111333</td>\n      <td>2023-12-06 21:34:19.294316</td>\n      <td>0 days 00:01:52.182983</td>\n      <td>True</td>\n      <td>32</td>\n      <td>1</td>\n      <td>0.000042</td>\n      <td>COMPLETE</td>\n    </tr>\n    <tr>\n      <th>42</th>\n      <td>42</td>\n      <td>8.536374e-01</td>\n      <td>2023-12-06 21:34:19.295315</td>\n      <td>2023-12-06 21:36:09.549615</td>\n      <td>0 days 00:01:50.254300</td>\n      <td>True</td>\n      <td>64</td>\n      <td>1</td>\n      <td>0.000088</td>\n      <td>COMPLETE</td>\n    </tr>\n    <tr>\n      <th>43</th>\n      <td>43</td>\n      <td>7.924209e-01</td>\n      <td>2023-12-06 21:36:09.550614</td>\n      <td>2023-12-06 21:37:36.284003</td>\n      <td>0 days 00:01:26.733389</td>\n      <td>True</td>\n      <td>96</td>\n      <td>1</td>\n      <td>0.000028</td>\n      <td>COMPLETE</td>\n    </tr>\n    <tr>\n      <th>44</th>\n      <td>44</td>\n      <td>8.334846e-01</td>\n      <td>2023-12-06 21:37:36.285007</td>\n      <td>2023-12-06 21:39:01.350568</td>\n      <td>0 days 00:01:25.065561</td>\n      <td>True</td>\n      <td>160</td>\n      <td>1</td>\n      <td>0.000050</td>\n      <td>COMPLETE</td>\n    </tr>\n    <tr>\n      <th>45</th>\n      <td>45</td>\n      <td>7.824710e-01</td>\n      <td>2023-12-06 21:39:01.352567</td>\n      <td>2023-12-06 21:40:22.444584</td>\n      <td>0 days 00:01:21.092017</td>\n      <td>False</td>\n      <td>32</td>\n      <td>1</td>\n      <td>0.000069</td>\n      <td>COMPLETE</td>\n    </tr>\n    <tr>\n      <th>46</th>\n      <td>46</td>\n      <td>7.809712e-01</td>\n      <td>2023-12-06 21:40:22.445584</td>\n      <td>2023-12-06 21:41:44.902444</td>\n      <td>0 days 00:01:22.456860</td>\n      <td>True</td>\n      <td>128</td>\n      <td>1</td>\n      <td>0.000017</td>\n      <td>COMPLETE</td>\n    </tr>\n    <tr>\n      <th>47</th>\n      <td>47</td>\n      <td>7.541374e-01</td>\n      <td>2023-12-06 21:41:44.903445</td>\n      <td>2023-12-06 21:43:07.543706</td>\n      <td>0 days 00:01:22.640261</td>\n      <td>True</td>\n      <td>64</td>\n      <td>2</td>\n      <td>0.000034</td>\n      <td>COMPLETE</td>\n    </tr>\n    <tr>\n      <th>48</th>\n      <td>48</td>\n      <td>8.053535e-01</td>\n      <td>2023-12-06 21:43:07.544710</td>\n      <td>2023-12-06 21:44:35.377970</td>\n      <td>0 days 00:01:27.833260</td>\n      <td>True</td>\n      <td>400</td>\n      <td>1</td>\n      <td>0.000010</td>\n      <td>COMPLETE</td>\n    </tr>\n    <tr>\n      <th>49</th>\n      <td>49</td>\n      <td>8.407656e-01</td>\n      <td>2023-12-06 21:44:35.378969</td>\n      <td>2023-12-06 21:45:56.793820</td>\n      <td>0 days 00:01:21.414851</td>\n      <td>True</td>\n      <td>96</td>\n      <td>2</td>\n      <td>0.000101</td>\n      <td>COMPLETE</td>\n    </tr>\n  </tbody>\n</table>\n</div>"
     },
     "execution_count": 25,
     "metadata": {},
     "output_type": "execute_result"
    }
   ],
   "source": [
    "df_tree = study_tree.trials_dataframe()\n",
    "df_tree.to_csv(\"study_label-tree_normalized.csv\")\n",
    "df_tree"
   ],
   "metadata": {
    "collapsed": false,
    "ExecuteTime": {
     "start_time": "2023-12-06T21:45:56.856906Z",
     "end_time": "2023-12-06T21:45:56.944380Z"
    }
   }
  },
  {
   "cell_type": "markdown",
   "source": [
    "## Default"
   ],
   "metadata": {
    "collapsed": false
   }
  },
  {
   "cell_type": "code",
   "execution_count": 36,
   "outputs": [],
   "source": [
    "# setting global parameters\n",
    "dataset_path = \"../datasets/\"\n",
    "label = \"default\" # alt: tree or default\n",
    "test_perc = 0.3\n",
    "val_perc = 0.21\n",
    "stability_count = 5\n",
    "n_trials = 50"
   ],
   "metadata": {
    "collapsed": false,
    "ExecuteTime": {
     "start_time": "2023-12-06T21:45:57.590594Z",
     "end_time": "2023-12-06T21:45:57.646325Z"
    }
   }
  },
  {
   "cell_type": "code",
   "execution_count": 37,
   "outputs": [
    {
     "name": "stderr",
     "output_type": "stream",
     "text": [
      "[I 2023-12-06 21:45:57,607] A new study created in memory with name: Best default label config\n"
     ]
    },
    {
     "data": {
      "text/plain": "  0%|          | 0/50 [00:00<?, ?it/s]",
      "application/vnd.jupyter.widget-view+json": {
       "version_major": 2,
       "version_minor": 0,
       "model_id": "46a62e14b3424bae8365161b201c90d8"
      }
     },
     "metadata": {},
     "output_type": "display_data"
    },
    {
     "name": "stdout",
     "output_type": "stream",
     "text": [
      "[I 2023-12-06 21:47:32,798] Trial 0 finished with value: -1627.4309482814422 and parameters: {'hidden_dim': 512, 'k': 4, 'learning_rate': 0.002581102885919996, 'batcher': False}. Best is trial 0 with value: -1627.4309482814422.\n",
      "[I 2023-12-06 21:49:16,186] Trial 1 finished with value: -0.7147257352398951 and parameters: {'hidden_dim': 208, 'k': 5, 'learning_rate': 0.001439126591338573, 'batcher': True}. Best is trial 1 with value: -0.7147257352398951.\n",
      "[I 2023-12-06 21:51:18,730] Trial 2 finished with value: -0.2880695958798013 and parameters: {'hidden_dim': 416, 'k': 2, 'learning_rate': 0.0027850275047091484, 'batcher': True}. Best is trial 2 with value: -0.2880695958798013.\n",
      "[I 2023-12-06 21:53:03,541] Trial 3 finished with value: -0.5305804920359419 and parameters: {'hidden_dim': 16, 'k': 5, 'learning_rate': 0.00023930619590446567, 'batcher': True}. Best is trial 2 with value: -0.2880695958798013.\n",
      "[I 2023-12-06 21:54:59,892] Trial 4 finished with value: -0.6143622402672674 and parameters: {'hidden_dim': 448, 'k': 4, 'learning_rate': 0.001204578328476816, 'batcher': True}. Best is trial 2 with value: -0.2880695958798013.\n",
      "[I 2023-12-06 21:57:02,480] Trial 5 finished with value: -0.6358521165735975 and parameters: {'hidden_dim': 384, 'k': 5, 'learning_rate': 2.36258554835385e-05, 'batcher': True}. Best is trial 2 with value: -0.2880695958798013.\n",
      "[I 2023-12-06 21:58:59,257] Trial 6 finished with value: -1.5300608712914614 and parameters: {'hidden_dim': 176, 'k': 3, 'learning_rate': 0.0015613194847812685, 'batcher': False}. Best is trial 2 with value: -0.2880695958798013.\n",
      "[I 2023-12-06 22:00:52,620] Trial 7 finished with value: -0.6026362392475344 and parameters: {'hidden_dim': 112, 'k': 1, 'learning_rate': 1.4476639848913182e-05, 'batcher': True}. Best is trial 2 with value: -0.2880695958798013.\n",
      "[I 2023-12-06 22:02:25,605] Trial 8 finished with value: -0.615208616137205 and parameters: {'hidden_dim': 128, 'k': 3, 'learning_rate': 0.0011217838935841896, 'batcher': True}. Best is trial 2 with value: -0.2880695958798013.\n",
      "[I 2023-12-06 22:04:13,671] Trial 9 finished with value: -0.622171514316957 and parameters: {'hidden_dim': 336, 'k': 3, 'learning_rate': 0.002351547996297981, 'batcher': True}. Best is trial 2 with value: -0.2880695958798013.\n",
      "[I 2023-12-06 22:06:10,249] Trial 10 finished with value: -89.22408706814001 and parameters: {'hidden_dim': 320, 'k': 1, 'learning_rate': 0.009950919874149188, 'batcher': False}. Best is trial 2 with value: -0.2880695958798013.\n",
      "[I 2023-12-06 22:07:55,313] Trial 11 finished with value: -0.5498763383682098 and parameters: {'hidden_dim': 48, 'k': 2, 'learning_rate': 0.00011186458075869711, 'batcher': True}. Best is trial 2 with value: -0.2880695958798013.\n",
      "[I 2023-12-06 22:09:30,047] Trial 12 finished with value: -0.6621975323888991 and parameters: {'hidden_dim': 256, 'k': 2, 'learning_rate': 0.0002241756584725961, 'batcher': True}. Best is trial 2 with value: -0.2880695958798013.\n",
      "[I 2023-12-06 22:11:05,670] Trial 13 finished with value: -1.1812531324600533 and parameters: {'hidden_dim': 416, 'k': 2, 'learning_rate': 0.0003821774102107203, 'batcher': True}. Best is trial 2 with value: -0.2880695958798013.\n",
      "[I 2023-12-06 22:12:30,938] Trial 14 finished with value: -0.2304006493230079 and parameters: {'hidden_dim': 16, 'k': 4, 'learning_rate': 8.917430528747519e-05, 'batcher': False}. Best is trial 14 with value: -0.2304006493230079.\n",
      "[I 2023-12-06 22:14:12,911] Trial 15 finished with value: -0.2368168414338508 and parameters: {'hidden_dim': 512, 'k': 4, 'learning_rate': 6.198468699757334e-05, 'batcher': False}. Best is trial 14 with value: -0.2304006493230079.\n",
      "[I 2023-12-06 22:15:54,241] Trial 16 finished with value: -0.2590697855510756 and parameters: {'hidden_dim': 512, 'k': 4, 'learning_rate': 5.048591048581841e-05, 'batcher': False}. Best is trial 14 with value: -0.2304006493230079.\n",
      "[I 2023-12-06 22:17:26,421] Trial 17 finished with value: -0.31596811004181213 and parameters: {'hidden_dim': 304, 'k': 4, 'learning_rate': 5.2687344806895925e-05, 'batcher': False}. Best is trial 14 with value: -0.2304006493230079.\n",
      "[I 2023-12-06 22:18:59,327] Trial 18 finished with value: -0.23909923737474575 and parameters: {'hidden_dim': 96, 'k': 4, 'learning_rate': 1.0236321108610725e-05, 'batcher': False}. Best is trial 14 with value: -0.2304006493230079.\n",
      "[I 2023-12-06 22:20:33,581] Trial 19 finished with value: -0.2505124368147476 and parameters: {'hidden_dim': 240, 'k': 3, 'learning_rate': 8.243805339867695e-05, 'batcher': False}. Best is trial 14 with value: -0.2304006493230079.\n",
      "[I 2023-12-06 22:22:07,069] Trial 20 finished with value: -0.43547052097191374 and parameters: {'hidden_dim': 160, 'k': 5, 'learning_rate': 3.4430397720990955e-05, 'batcher': False}. Best is trial 14 with value: -0.2304006493230079.\n",
      "[I 2023-12-06 22:23:34,008] Trial 21 finished with value: -0.3227400501738725 and parameters: {'hidden_dim': 80, 'k': 4, 'learning_rate': 1.3848171165818275e-05, 'batcher': False}. Best is trial 14 with value: -0.2304006493230079.\n",
      "[I 2023-12-06 22:24:58,186] Trial 22 finished with value: -0.681388712988834 and parameters: {'hidden_dim': 16, 'k': 4, 'learning_rate': 1.2550496778054675e-05, 'batcher': False}. Best is trial 14 with value: -0.2304006493230079.\n",
      "[I 2023-12-06 22:26:28,734] Trial 23 finished with value: -0.23619665587054714 and parameters: {'hidden_dim': 80, 'k': 4, 'learning_rate': 3.127738640368184e-05, 'batcher': False}. Best is trial 14 with value: -0.2304006493230079.\n",
      "[I 2023-12-06 22:27:59,407] Trial 24 finished with value: -0.5124933950765529 and parameters: {'hidden_dim': 64, 'k': 3, 'learning_rate': 0.00010405087803073675, 'batcher': False}. Best is trial 14 with value: -0.2304006493230079.\n",
      "[I 2023-12-06 22:29:28,525] Trial 25 finished with value: -0.2887714305158957 and parameters: {'hidden_dim': 144, 'k': 5, 'learning_rate': 2.661631349088027e-05, 'batcher': False}. Best is trial 14 with value: -0.2304006493230079.\n",
      "[I 2023-12-06 22:30:58,010] Trial 26 finished with value: -0.3251052726998109 and parameters: {'hidden_dim': 192, 'k': 4, 'learning_rate': 6.287332188567181e-05, 'batcher': False}. Best is trial 14 with value: -0.2304006493230079.\n",
      "[I 2023-12-06 22:32:33,137] Trial 27 finished with value: -0.2554959705345056 and parameters: {'hidden_dim': 48, 'k': 3, 'learning_rate': 3.3186711819531856e-05, 'batcher': False}. Best is trial 14 with value: -0.2304006493230079.\n",
      "[I 2023-12-06 22:34:00,313] Trial 28 finished with value: -0.22945777601703515 and parameters: {'hidden_dim': 16, 'k': 4, 'learning_rate': 0.00015617654190148875, 'batcher': False}. Best is trial 28 with value: -0.22945777601703515.\n",
      "[I 2023-12-06 22:35:26,721] Trial 29 finished with value: -0.2877221968012362 and parameters: {'hidden_dim': 16, 'k': 5, 'learning_rate': 0.00016100393333842985, 'batcher': False}. Best is trial 28 with value: -0.22945777601703515.\n",
      "[I 2023-12-06 22:36:55,357] Trial 30 finished with value: -0.3114457277496133 and parameters: {'hidden_dim': 96, 'k': 4, 'learning_rate': 0.000375318738237643, 'batcher': False}. Best is trial 28 with value: -0.22945777601703515.\n",
      "[I 2023-12-06 22:38:26,918] Trial 31 finished with value: -0.295681753052694 and parameters: {'hidden_dim': 48, 'k': 4, 'learning_rate': 7.971655699202677e-05, 'batcher': False}. Best is trial 28 with value: -0.22945777601703515.\n",
      "[I 2023-12-06 22:40:09,423] Trial 32 finished with value: -0.4687470361435748 and parameters: {'hidden_dim': 464, 'k': 4, 'learning_rate': 0.00013166134862313298, 'batcher': False}. Best is trial 28 with value: -0.22945777601703515.\n",
      "[I 2023-12-06 22:41:39,455] Trial 33 finished with value: -0.215164816210646 and parameters: {'hidden_dim': 224, 'k': 5, 'learning_rate': 4.653124954293301e-05, 'batcher': False}. Best is trial 33 with value: -0.215164816210646.\n",
      "[I 2023-12-06 22:43:13,585] Trial 34 finished with value: -0.2230007165844654 and parameters: {'hidden_dim': 224, 'k': 5, 'learning_rate': 4.1503010068385e-05, 'batcher': False}. Best is trial 33 with value: -0.215164816210646.\n",
      "[I 2023-12-06 22:44:58,022] Trial 35 finished with value: -0.2264150892756122 and parameters: {'hidden_dim': 224, 'k': 5, 'learning_rate': 4.5793651060137084e-05, 'batcher': False}. Best is trial 33 with value: -0.215164816210646.\n",
      "[I 2023-12-06 22:46:35,869] Trial 36 finished with value: -0.2972968418456107 and parameters: {'hidden_dim': 208, 'k': 5, 'learning_rate': 2.0230987361275145e-05, 'batcher': False}. Best is trial 33 with value: -0.215164816210646.\n",
      "[I 2023-12-06 22:48:07,235] Trial 37 finished with value: -0.29844221389448533 and parameters: {'hidden_dim': 288, 'k': 5, 'learning_rate': 4.3556362547762375e-05, 'batcher': False}. Best is trial 33 with value: -0.215164816210646.\n",
      "[I 2023-12-06 22:49:40,064] Trial 38 finished with value: -0.27218941322606643 and parameters: {'hidden_dim': 224, 'k': 5, 'learning_rate': 1.8863317257862534e-05, 'batcher': False}. Best is trial 33 with value: -0.215164816210646.\n",
      "[I 2023-12-06 22:51:20,065] Trial 39 finished with value: -0.248647200569709 and parameters: {'hidden_dim': 352, 'k': 5, 'learning_rate': 4.260349990016664e-05, 'batcher': False}. Best is trial 33 with value: -0.215164816210646.\n",
      "[I 2023-12-06 22:52:52,798] Trial 40 finished with value: -0.2229191560242798 and parameters: {'hidden_dim': 272, 'k': 5, 'learning_rate': 0.0001595015979216138, 'batcher': False}. Best is trial 33 with value: -0.215164816210646.\n",
      "[I 2023-12-06 22:54:23,891] Trial 41 finished with value: -0.25651314813583975 and parameters: {'hidden_dim': 288, 'k': 5, 'learning_rate': 0.0001769406665449219, 'batcher': False}. Best is trial 33 with value: -0.215164816210646.\n",
      "[I 2023-12-06 22:55:56,419] Trial 42 finished with value: -0.29606177827121366 and parameters: {'hidden_dim': 256, 'k': 5, 'learning_rate': 6.863968440440238e-05, 'batcher': False}. Best is trial 33 with value: -0.215164816210646.\n",
      "[I 2023-12-06 22:57:30,690] Trial 43 finished with value: -0.23708652930941665 and parameters: {'hidden_dim': 176, 'k': 5, 'learning_rate': 0.00011893263763185372, 'batcher': False}. Best is trial 33 with value: -0.215164816210646.\n",
      "[I 2023-12-06 22:59:04,497] Trial 44 finished with value: -0.25859968175710435 and parameters: {'hidden_dim': 368, 'k': 5, 'learning_rate': 0.00027146355386921324, 'batcher': False}. Best is trial 33 with value: -0.215164816210646.\n",
      "[I 2023-12-06 23:00:32,591] Trial 45 finished with value: -0.22478855049378632 and parameters: {'hidden_dim': 224, 'k': 5, 'learning_rate': 3.933433680271362e-05, 'batcher': False}. Best is trial 33 with value: -0.215164816210646.\n",
      "[I 2023-12-06 23:02:03,763] Trial 46 finished with value: -0.5785189139013666 and parameters: {'hidden_dim': 224, 'k': 5, 'learning_rate': 2.3181143187765688e-05, 'batcher': True}. Best is trial 33 with value: -0.215164816210646.\n",
      "[I 2023-12-06 23:03:37,527] Trial 47 finished with value: -0.3005375378821384 and parameters: {'hidden_dim': 272, 'k': 5, 'learning_rate': 4.314826937315317e-05, 'batcher': False}. Best is trial 33 with value: -0.215164816210646.\n",
      "[I 2023-12-06 23:05:07,407] Trial 48 finished with value: -0.55080103085529 and parameters: {'hidden_dim': 192, 'k': 5, 'learning_rate': 1.8796729870982484e-05, 'batcher': True}. Best is trial 33 with value: -0.215164816210646.\n",
      "[I 2023-12-06 23:06:50,539] Trial 49 finished with value: -0.20380864079395514 and parameters: {'hidden_dim': 240, 'k': 5, 'learning_rate': 2.9248136362925073e-05, 'batcher': False}. Best is trial 49 with value: -0.20380864079395514.\n"
     ]
    }
   ],
   "source": [
    "study_default = optuna.create_study(study_name=\"Best default label config\", directions=['maximize'])\n",
    "study_default.optimize(objective, n_trials=n_trials, show_progress_bar=True)"
   ],
   "metadata": {
    "collapsed": false,
    "ExecuteTime": {
     "start_time": "2023-12-06T21:45:57.606615Z",
     "end_time": "2023-12-06T23:06:50.547098Z"
    }
   }
  },
  {
   "cell_type": "code",
   "execution_count": 38,
   "outputs": [
    {
     "name": "stdout",
     "output_type": "stream",
     "text": [
      "{'hidden_dim': 240, 'k': 5, 'learning_rate': 2.9248136362925073e-05, 'batcher': False}\n"
     ]
    }
   ],
   "source": [
    "best_par_default = study_default.best_params\n",
    "print(best_par_default)"
   ],
   "metadata": {
    "collapsed": false,
    "ExecuteTime": {
     "start_time": "2023-12-06T23:06:50.548099Z",
     "end_time": "2023-12-06T23:06:50.562099Z"
    }
   }
  },
  {
   "cell_type": "code",
   "execution_count": 39,
   "outputs": [
    {
     "data": {
      "text/plain": "'TPESampler'"
     },
     "execution_count": 39,
     "metadata": {},
     "output_type": "execute_result"
    }
   ],
   "source": [
    "study_default.sampler.__class__.__name__"
   ],
   "metadata": {
    "collapsed": false,
    "ExecuteTime": {
     "start_time": "2023-12-06T23:06:50.563099Z",
     "end_time": "2023-12-06T23:06:50.605908Z"
    }
   }
  },
  {
   "cell_type": "code",
   "execution_count": 40,
   "outputs": [
    {
     "data": {
      "text/plain": "    number        value             datetime_start          datetime_complete  \\\n0        0 -1627.430948 2023-12-06 21:45:57.612615 2023-12-06 21:47:32.798901   \n1        1    -0.714726 2023-12-06 21:47:32.799899 2023-12-06 21:49:16.185228   \n2        2    -0.288070 2023-12-06 21:49:16.189229 2023-12-06 21:51:18.730740   \n3        3    -0.530580 2023-12-06 21:51:18.733255 2023-12-06 21:53:03.541146   \n4        4    -0.614362 2023-12-06 21:53:03.543785 2023-12-06 21:54:59.892620   \n5        5    -0.635852 2023-12-06 21:54:59.894128 2023-12-06 21:57:02.480646   \n6        6    -1.530061 2023-12-06 21:57:02.481643 2023-12-06 21:58:59.256473   \n7        7    -0.602636 2023-12-06 21:58:59.259461 2023-12-06 22:00:52.620925   \n8        8    -0.615209 2023-12-06 22:00:52.622926 2023-12-06 22:02:25.605928   \n9        9    -0.622172 2023-12-06 22:02:25.607929 2023-12-06 22:04:13.670491   \n10      10   -89.224087 2023-12-06 22:04:13.672490 2023-12-06 22:06:10.249137   \n11      11    -0.549876 2023-12-06 22:06:10.251134 2023-12-06 22:07:55.312592   \n12      12    -0.662198 2023-12-06 22:07:55.314591 2023-12-06 22:09:30.046815   \n13      13    -1.181253 2023-12-06 22:09:30.048808 2023-12-06 22:11:05.670555   \n14      14    -0.230401 2023-12-06 22:11:05.671557 2023-12-06 22:12:30.938125   \n15      15    -0.236817 2023-12-06 22:12:30.939125 2023-12-06 22:14:12.910755   \n16      16    -0.259070 2023-12-06 22:14:12.912755 2023-12-06 22:15:54.241440   \n17      17    -0.315968 2023-12-06 22:15:54.242439 2023-12-06 22:17:26.421193   \n18      18    -0.239099 2023-12-06 22:17:26.423189 2023-12-06 22:18:59.327024   \n19      19    -0.250512 2023-12-06 22:18:59.327961 2023-12-06 22:20:33.580096   \n20      20    -0.435471 2023-12-06 22:20:33.582094 2023-12-06 22:22:07.069035   \n21      21    -0.322740 2023-12-06 22:22:07.070034 2023-12-06 22:23:34.008769   \n22      22    -0.681389 2023-12-06 22:23:34.010769 2023-12-06 22:24:58.186137   \n23      23    -0.236197 2023-12-06 22:24:58.187136 2023-12-06 22:26:28.733313   \n24      24    -0.512493 2023-12-06 22:26:28.735310 2023-12-06 22:27:59.407883   \n25      25    -0.288771 2023-12-06 22:27:59.408883 2023-12-06 22:29:28.525396   \n26      26    -0.325105 2023-12-06 22:29:28.527462 2023-12-06 22:30:58.010581   \n27      27    -0.255496 2023-12-06 22:30:58.011581 2023-12-06 22:32:33.136000   \n28      28    -0.229458 2023-12-06 22:32:33.138000 2023-12-06 22:34:00.313761   \n29      29    -0.287722 2023-12-06 22:34:00.315762 2023-12-06 22:35:26.721321   \n30      30    -0.311446 2023-12-06 22:35:26.722324 2023-12-06 22:36:55.357571   \n31      31    -0.295682 2023-12-06 22:36:55.359571 2023-12-06 22:38:26.918256   \n32      32    -0.468747 2023-12-06 22:38:26.919211 2023-12-06 22:40:09.423187   \n33      33    -0.215165 2023-12-06 22:40:09.424356 2023-12-06 22:41:39.454818   \n34      34    -0.223001 2023-12-06 22:41:39.456802 2023-12-06 22:43:13.585146   \n35      35    -0.226415 2023-12-06 22:43:13.586212 2023-12-06 22:44:58.022933   \n36      36    -0.297297 2023-12-06 22:44:58.023933 2023-12-06 22:46:35.869093   \n37      37    -0.298442 2023-12-06 22:46:35.870090 2023-12-06 22:48:07.235339   \n38      38    -0.272189 2023-12-06 22:48:07.236340 2023-12-06 22:49:40.063230   \n39      39    -0.248647 2023-12-06 22:49:40.065208 2023-12-06 22:51:20.065777   \n40      40    -0.222919 2023-12-06 22:51:20.067787 2023-12-06 22:52:52.798763   \n41      41    -0.256513 2023-12-06 22:52:52.800761 2023-12-06 22:54:23.891926   \n42      42    -0.296062 2023-12-06 22:54:23.893926 2023-12-06 22:55:56.419116   \n43      43    -0.237087 2023-12-06 22:55:56.421179 2023-12-06 22:57:30.689501   \n44      44    -0.258600 2023-12-06 22:57:30.691438 2023-12-06 22:59:04.497942   \n45      45    -0.224789 2023-12-06 22:59:04.499940 2023-12-06 23:00:32.590547   \n46      46    -0.578519 2023-12-06 23:00:32.592546 2023-12-06 23:02:03.762031   \n47      47    -0.300538 2023-12-06 23:02:03.764030 2023-12-06 23:03:37.527365   \n48      48    -0.550801 2023-12-06 23:03:37.529364 2023-12-06 23:05:07.407784   \n49      49    -0.203809 2023-12-06 23:05:07.409784 2023-12-06 23:06:50.539097   \n\n                 duration  params_batcher  params_hidden_dim  params_k  \\\n0  0 days 00:01:35.186286           False                512         4   \n1  0 days 00:01:43.385329            True                208         5   \n2  0 days 00:02:02.541511            True                416         2   \n3  0 days 00:01:44.807891            True                 16         5   \n4  0 days 00:01:56.348835            True                448         4   \n5  0 days 00:02:02.586518            True                384         5   \n6  0 days 00:01:56.774830           False                176         3   \n7  0 days 00:01:53.361464            True                112         1   \n8  0 days 00:01:32.983002            True                128         3   \n9  0 days 00:01:48.062562            True                336         3   \n10 0 days 00:01:56.576647           False                320         1   \n11 0 days 00:01:45.061458            True                 48         2   \n12 0 days 00:01:34.732224            True                256         2   \n13 0 days 00:01:35.621747            True                416         2   \n14 0 days 00:01:25.266568           False                 16         4   \n15 0 days 00:01:41.971630           False                512         4   \n16 0 days 00:01:41.328685           False                512         4   \n17 0 days 00:01:32.178754           False                304         4   \n18 0 days 00:01:32.903835           False                 96         4   \n19 0 days 00:01:34.252135           False                240         3   \n20 0 days 00:01:33.486941           False                160         5   \n21 0 days 00:01:26.938735           False                 80         4   \n22 0 days 00:01:24.175368           False                 16         4   \n23 0 days 00:01:30.546177           False                 80         4   \n24 0 days 00:01:30.672573           False                 64         3   \n25 0 days 00:01:29.116513           False                144         5   \n26 0 days 00:01:29.483119           False                192         4   \n27 0 days 00:01:35.124419           False                 48         3   \n28 0 days 00:01:27.175761           False                 16         4   \n29 0 days 00:01:26.405559           False                 16         5   \n30 0 days 00:01:28.635247           False                 96         4   \n31 0 days 00:01:31.558685           False                 48         4   \n32 0 days 00:01:42.503976           False                464         4   \n33 0 days 00:01:30.030462           False                224         5   \n34 0 days 00:01:34.128344           False                224         5   \n35 0 days 00:01:44.436721           False                224         5   \n36 0 days 00:01:37.845160           False                208         5   \n37 0 days 00:01:31.365249           False                288         5   \n38 0 days 00:01:32.826890           False                224         5   \n39 0 days 00:01:40.000569           False                352         5   \n40 0 days 00:01:32.730976           False                272         5   \n41 0 days 00:01:31.091165           False                288         5   \n42 0 days 00:01:32.525190           False                256         5   \n43 0 days 00:01:34.268322           False                176         5   \n44 0 days 00:01:33.806504           False                368         5   \n45 0 days 00:01:28.090607           False                224         5   \n46 0 days 00:01:31.169485            True                224         5   \n47 0 days 00:01:33.763335           False                272         5   \n48 0 days 00:01:29.878420            True                192         5   \n49 0 days 00:01:43.129313           False                240         5   \n\n    params_learning_rate     state  \n0               0.002581  COMPLETE  \n1               0.001439  COMPLETE  \n2               0.002785  COMPLETE  \n3               0.000239  COMPLETE  \n4               0.001205  COMPLETE  \n5               0.000024  COMPLETE  \n6               0.001561  COMPLETE  \n7               0.000014  COMPLETE  \n8               0.001122  COMPLETE  \n9               0.002352  COMPLETE  \n10              0.009951  COMPLETE  \n11              0.000112  COMPLETE  \n12              0.000224  COMPLETE  \n13              0.000382  COMPLETE  \n14              0.000089  COMPLETE  \n15              0.000062  COMPLETE  \n16              0.000050  COMPLETE  \n17              0.000053  COMPLETE  \n18              0.000010  COMPLETE  \n19              0.000082  COMPLETE  \n20              0.000034  COMPLETE  \n21              0.000014  COMPLETE  \n22              0.000013  COMPLETE  \n23              0.000031  COMPLETE  \n24              0.000104  COMPLETE  \n25              0.000027  COMPLETE  \n26              0.000063  COMPLETE  \n27              0.000033  COMPLETE  \n28              0.000156  COMPLETE  \n29              0.000161  COMPLETE  \n30              0.000375  COMPLETE  \n31              0.000080  COMPLETE  \n32              0.000132  COMPLETE  \n33              0.000047  COMPLETE  \n34              0.000042  COMPLETE  \n35              0.000046  COMPLETE  \n36              0.000020  COMPLETE  \n37              0.000044  COMPLETE  \n38              0.000019  COMPLETE  \n39              0.000043  COMPLETE  \n40              0.000160  COMPLETE  \n41              0.000177  COMPLETE  \n42              0.000069  COMPLETE  \n43              0.000119  COMPLETE  \n44              0.000271  COMPLETE  \n45              0.000039  COMPLETE  \n46              0.000023  COMPLETE  \n47              0.000043  COMPLETE  \n48              0.000019  COMPLETE  \n49              0.000029  COMPLETE  ",
      "text/html": "<div>\n<style scoped>\n    .dataframe tbody tr th:only-of-type {\n        vertical-align: middle;\n    }\n\n    .dataframe tbody tr th {\n        vertical-align: top;\n    }\n\n    .dataframe thead th {\n        text-align: right;\n    }\n</style>\n<table border=\"1\" class=\"dataframe\">\n  <thead>\n    <tr style=\"text-align: right;\">\n      <th></th>\n      <th>number</th>\n      <th>value</th>\n      <th>datetime_start</th>\n      <th>datetime_complete</th>\n      <th>duration</th>\n      <th>params_batcher</th>\n      <th>params_hidden_dim</th>\n      <th>params_k</th>\n      <th>params_learning_rate</th>\n      <th>state</th>\n    </tr>\n  </thead>\n  <tbody>\n    <tr>\n      <th>0</th>\n      <td>0</td>\n      <td>-1627.430948</td>\n      <td>2023-12-06 21:45:57.612615</td>\n      <td>2023-12-06 21:47:32.798901</td>\n      <td>0 days 00:01:35.186286</td>\n      <td>False</td>\n      <td>512</td>\n      <td>4</td>\n      <td>0.002581</td>\n      <td>COMPLETE</td>\n    </tr>\n    <tr>\n      <th>1</th>\n      <td>1</td>\n      <td>-0.714726</td>\n      <td>2023-12-06 21:47:32.799899</td>\n      <td>2023-12-06 21:49:16.185228</td>\n      <td>0 days 00:01:43.385329</td>\n      <td>True</td>\n      <td>208</td>\n      <td>5</td>\n      <td>0.001439</td>\n      <td>COMPLETE</td>\n    </tr>\n    <tr>\n      <th>2</th>\n      <td>2</td>\n      <td>-0.288070</td>\n      <td>2023-12-06 21:49:16.189229</td>\n      <td>2023-12-06 21:51:18.730740</td>\n      <td>0 days 00:02:02.541511</td>\n      <td>True</td>\n      <td>416</td>\n      <td>2</td>\n      <td>0.002785</td>\n      <td>COMPLETE</td>\n    </tr>\n    <tr>\n      <th>3</th>\n      <td>3</td>\n      <td>-0.530580</td>\n      <td>2023-12-06 21:51:18.733255</td>\n      <td>2023-12-06 21:53:03.541146</td>\n      <td>0 days 00:01:44.807891</td>\n      <td>True</td>\n      <td>16</td>\n      <td>5</td>\n      <td>0.000239</td>\n      <td>COMPLETE</td>\n    </tr>\n    <tr>\n      <th>4</th>\n      <td>4</td>\n      <td>-0.614362</td>\n      <td>2023-12-06 21:53:03.543785</td>\n      <td>2023-12-06 21:54:59.892620</td>\n      <td>0 days 00:01:56.348835</td>\n      <td>True</td>\n      <td>448</td>\n      <td>4</td>\n      <td>0.001205</td>\n      <td>COMPLETE</td>\n    </tr>\n    <tr>\n      <th>5</th>\n      <td>5</td>\n      <td>-0.635852</td>\n      <td>2023-12-06 21:54:59.894128</td>\n      <td>2023-12-06 21:57:02.480646</td>\n      <td>0 days 00:02:02.586518</td>\n      <td>True</td>\n      <td>384</td>\n      <td>5</td>\n      <td>0.000024</td>\n      <td>COMPLETE</td>\n    </tr>\n    <tr>\n      <th>6</th>\n      <td>6</td>\n      <td>-1.530061</td>\n      <td>2023-12-06 21:57:02.481643</td>\n      <td>2023-12-06 21:58:59.256473</td>\n      <td>0 days 00:01:56.774830</td>\n      <td>False</td>\n      <td>176</td>\n      <td>3</td>\n      <td>0.001561</td>\n      <td>COMPLETE</td>\n    </tr>\n    <tr>\n      <th>7</th>\n      <td>7</td>\n      <td>-0.602636</td>\n      <td>2023-12-06 21:58:59.259461</td>\n      <td>2023-12-06 22:00:52.620925</td>\n      <td>0 days 00:01:53.361464</td>\n      <td>True</td>\n      <td>112</td>\n      <td>1</td>\n      <td>0.000014</td>\n      <td>COMPLETE</td>\n    </tr>\n    <tr>\n      <th>8</th>\n      <td>8</td>\n      <td>-0.615209</td>\n      <td>2023-12-06 22:00:52.622926</td>\n      <td>2023-12-06 22:02:25.605928</td>\n      <td>0 days 00:01:32.983002</td>\n      <td>True</td>\n      <td>128</td>\n      <td>3</td>\n      <td>0.001122</td>\n      <td>COMPLETE</td>\n    </tr>\n    <tr>\n      <th>9</th>\n      <td>9</td>\n      <td>-0.622172</td>\n      <td>2023-12-06 22:02:25.607929</td>\n      <td>2023-12-06 22:04:13.670491</td>\n      <td>0 days 00:01:48.062562</td>\n      <td>True</td>\n      <td>336</td>\n      <td>3</td>\n      <td>0.002352</td>\n      <td>COMPLETE</td>\n    </tr>\n    <tr>\n      <th>10</th>\n      <td>10</td>\n      <td>-89.224087</td>\n      <td>2023-12-06 22:04:13.672490</td>\n      <td>2023-12-06 22:06:10.249137</td>\n      <td>0 days 00:01:56.576647</td>\n      <td>False</td>\n      <td>320</td>\n      <td>1</td>\n      <td>0.009951</td>\n      <td>COMPLETE</td>\n    </tr>\n    <tr>\n      <th>11</th>\n      <td>11</td>\n      <td>-0.549876</td>\n      <td>2023-12-06 22:06:10.251134</td>\n      <td>2023-12-06 22:07:55.312592</td>\n      <td>0 days 00:01:45.061458</td>\n      <td>True</td>\n      <td>48</td>\n      <td>2</td>\n      <td>0.000112</td>\n      <td>COMPLETE</td>\n    </tr>\n    <tr>\n      <th>12</th>\n      <td>12</td>\n      <td>-0.662198</td>\n      <td>2023-12-06 22:07:55.314591</td>\n      <td>2023-12-06 22:09:30.046815</td>\n      <td>0 days 00:01:34.732224</td>\n      <td>True</td>\n      <td>256</td>\n      <td>2</td>\n      <td>0.000224</td>\n      <td>COMPLETE</td>\n    </tr>\n    <tr>\n      <th>13</th>\n      <td>13</td>\n      <td>-1.181253</td>\n      <td>2023-12-06 22:09:30.048808</td>\n      <td>2023-12-06 22:11:05.670555</td>\n      <td>0 days 00:01:35.621747</td>\n      <td>True</td>\n      <td>416</td>\n      <td>2</td>\n      <td>0.000382</td>\n      <td>COMPLETE</td>\n    </tr>\n    <tr>\n      <th>14</th>\n      <td>14</td>\n      <td>-0.230401</td>\n      <td>2023-12-06 22:11:05.671557</td>\n      <td>2023-12-06 22:12:30.938125</td>\n      <td>0 days 00:01:25.266568</td>\n      <td>False</td>\n      <td>16</td>\n      <td>4</td>\n      <td>0.000089</td>\n      <td>COMPLETE</td>\n    </tr>\n    <tr>\n      <th>15</th>\n      <td>15</td>\n      <td>-0.236817</td>\n      <td>2023-12-06 22:12:30.939125</td>\n      <td>2023-12-06 22:14:12.910755</td>\n      <td>0 days 00:01:41.971630</td>\n      <td>False</td>\n      <td>512</td>\n      <td>4</td>\n      <td>0.000062</td>\n      <td>COMPLETE</td>\n    </tr>\n    <tr>\n      <th>16</th>\n      <td>16</td>\n      <td>-0.259070</td>\n      <td>2023-12-06 22:14:12.912755</td>\n      <td>2023-12-06 22:15:54.241440</td>\n      <td>0 days 00:01:41.328685</td>\n      <td>False</td>\n      <td>512</td>\n      <td>4</td>\n      <td>0.000050</td>\n      <td>COMPLETE</td>\n    </tr>\n    <tr>\n      <th>17</th>\n      <td>17</td>\n      <td>-0.315968</td>\n      <td>2023-12-06 22:15:54.242439</td>\n      <td>2023-12-06 22:17:26.421193</td>\n      <td>0 days 00:01:32.178754</td>\n      <td>False</td>\n      <td>304</td>\n      <td>4</td>\n      <td>0.000053</td>\n      <td>COMPLETE</td>\n    </tr>\n    <tr>\n      <th>18</th>\n      <td>18</td>\n      <td>-0.239099</td>\n      <td>2023-12-06 22:17:26.423189</td>\n      <td>2023-12-06 22:18:59.327024</td>\n      <td>0 days 00:01:32.903835</td>\n      <td>False</td>\n      <td>96</td>\n      <td>4</td>\n      <td>0.000010</td>\n      <td>COMPLETE</td>\n    </tr>\n    <tr>\n      <th>19</th>\n      <td>19</td>\n      <td>-0.250512</td>\n      <td>2023-12-06 22:18:59.327961</td>\n      <td>2023-12-06 22:20:33.580096</td>\n      <td>0 days 00:01:34.252135</td>\n      <td>False</td>\n      <td>240</td>\n      <td>3</td>\n      <td>0.000082</td>\n      <td>COMPLETE</td>\n    </tr>\n    <tr>\n      <th>20</th>\n      <td>20</td>\n      <td>-0.435471</td>\n      <td>2023-12-06 22:20:33.582094</td>\n      <td>2023-12-06 22:22:07.069035</td>\n      <td>0 days 00:01:33.486941</td>\n      <td>False</td>\n      <td>160</td>\n      <td>5</td>\n      <td>0.000034</td>\n      <td>COMPLETE</td>\n    </tr>\n    <tr>\n      <th>21</th>\n      <td>21</td>\n      <td>-0.322740</td>\n      <td>2023-12-06 22:22:07.070034</td>\n      <td>2023-12-06 22:23:34.008769</td>\n      <td>0 days 00:01:26.938735</td>\n      <td>False</td>\n      <td>80</td>\n      <td>4</td>\n      <td>0.000014</td>\n      <td>COMPLETE</td>\n    </tr>\n    <tr>\n      <th>22</th>\n      <td>22</td>\n      <td>-0.681389</td>\n      <td>2023-12-06 22:23:34.010769</td>\n      <td>2023-12-06 22:24:58.186137</td>\n      <td>0 days 00:01:24.175368</td>\n      <td>False</td>\n      <td>16</td>\n      <td>4</td>\n      <td>0.000013</td>\n      <td>COMPLETE</td>\n    </tr>\n    <tr>\n      <th>23</th>\n      <td>23</td>\n      <td>-0.236197</td>\n      <td>2023-12-06 22:24:58.187136</td>\n      <td>2023-12-06 22:26:28.733313</td>\n      <td>0 days 00:01:30.546177</td>\n      <td>False</td>\n      <td>80</td>\n      <td>4</td>\n      <td>0.000031</td>\n      <td>COMPLETE</td>\n    </tr>\n    <tr>\n      <th>24</th>\n      <td>24</td>\n      <td>-0.512493</td>\n      <td>2023-12-06 22:26:28.735310</td>\n      <td>2023-12-06 22:27:59.407883</td>\n      <td>0 days 00:01:30.672573</td>\n      <td>False</td>\n      <td>64</td>\n      <td>3</td>\n      <td>0.000104</td>\n      <td>COMPLETE</td>\n    </tr>\n    <tr>\n      <th>25</th>\n      <td>25</td>\n      <td>-0.288771</td>\n      <td>2023-12-06 22:27:59.408883</td>\n      <td>2023-12-06 22:29:28.525396</td>\n      <td>0 days 00:01:29.116513</td>\n      <td>False</td>\n      <td>144</td>\n      <td>5</td>\n      <td>0.000027</td>\n      <td>COMPLETE</td>\n    </tr>\n    <tr>\n      <th>26</th>\n      <td>26</td>\n      <td>-0.325105</td>\n      <td>2023-12-06 22:29:28.527462</td>\n      <td>2023-12-06 22:30:58.010581</td>\n      <td>0 days 00:01:29.483119</td>\n      <td>False</td>\n      <td>192</td>\n      <td>4</td>\n      <td>0.000063</td>\n      <td>COMPLETE</td>\n    </tr>\n    <tr>\n      <th>27</th>\n      <td>27</td>\n      <td>-0.255496</td>\n      <td>2023-12-06 22:30:58.011581</td>\n      <td>2023-12-06 22:32:33.136000</td>\n      <td>0 days 00:01:35.124419</td>\n      <td>False</td>\n      <td>48</td>\n      <td>3</td>\n      <td>0.000033</td>\n      <td>COMPLETE</td>\n    </tr>\n    <tr>\n      <th>28</th>\n      <td>28</td>\n      <td>-0.229458</td>\n      <td>2023-12-06 22:32:33.138000</td>\n      <td>2023-12-06 22:34:00.313761</td>\n      <td>0 days 00:01:27.175761</td>\n      <td>False</td>\n      <td>16</td>\n      <td>4</td>\n      <td>0.000156</td>\n      <td>COMPLETE</td>\n    </tr>\n    <tr>\n      <th>29</th>\n      <td>29</td>\n      <td>-0.287722</td>\n      <td>2023-12-06 22:34:00.315762</td>\n      <td>2023-12-06 22:35:26.721321</td>\n      <td>0 days 00:01:26.405559</td>\n      <td>False</td>\n      <td>16</td>\n      <td>5</td>\n      <td>0.000161</td>\n      <td>COMPLETE</td>\n    </tr>\n    <tr>\n      <th>30</th>\n      <td>30</td>\n      <td>-0.311446</td>\n      <td>2023-12-06 22:35:26.722324</td>\n      <td>2023-12-06 22:36:55.357571</td>\n      <td>0 days 00:01:28.635247</td>\n      <td>False</td>\n      <td>96</td>\n      <td>4</td>\n      <td>0.000375</td>\n      <td>COMPLETE</td>\n    </tr>\n    <tr>\n      <th>31</th>\n      <td>31</td>\n      <td>-0.295682</td>\n      <td>2023-12-06 22:36:55.359571</td>\n      <td>2023-12-06 22:38:26.918256</td>\n      <td>0 days 00:01:31.558685</td>\n      <td>False</td>\n      <td>48</td>\n      <td>4</td>\n      <td>0.000080</td>\n      <td>COMPLETE</td>\n    </tr>\n    <tr>\n      <th>32</th>\n      <td>32</td>\n      <td>-0.468747</td>\n      <td>2023-12-06 22:38:26.919211</td>\n      <td>2023-12-06 22:40:09.423187</td>\n      <td>0 days 00:01:42.503976</td>\n      <td>False</td>\n      <td>464</td>\n      <td>4</td>\n      <td>0.000132</td>\n      <td>COMPLETE</td>\n    </tr>\n    <tr>\n      <th>33</th>\n      <td>33</td>\n      <td>-0.215165</td>\n      <td>2023-12-06 22:40:09.424356</td>\n      <td>2023-12-06 22:41:39.454818</td>\n      <td>0 days 00:01:30.030462</td>\n      <td>False</td>\n      <td>224</td>\n      <td>5</td>\n      <td>0.000047</td>\n      <td>COMPLETE</td>\n    </tr>\n    <tr>\n      <th>34</th>\n      <td>34</td>\n      <td>-0.223001</td>\n      <td>2023-12-06 22:41:39.456802</td>\n      <td>2023-12-06 22:43:13.585146</td>\n      <td>0 days 00:01:34.128344</td>\n      <td>False</td>\n      <td>224</td>\n      <td>5</td>\n      <td>0.000042</td>\n      <td>COMPLETE</td>\n    </tr>\n    <tr>\n      <th>35</th>\n      <td>35</td>\n      <td>-0.226415</td>\n      <td>2023-12-06 22:43:13.586212</td>\n      <td>2023-12-06 22:44:58.022933</td>\n      <td>0 days 00:01:44.436721</td>\n      <td>False</td>\n      <td>224</td>\n      <td>5</td>\n      <td>0.000046</td>\n      <td>COMPLETE</td>\n    </tr>\n    <tr>\n      <th>36</th>\n      <td>36</td>\n      <td>-0.297297</td>\n      <td>2023-12-06 22:44:58.023933</td>\n      <td>2023-12-06 22:46:35.869093</td>\n      <td>0 days 00:01:37.845160</td>\n      <td>False</td>\n      <td>208</td>\n      <td>5</td>\n      <td>0.000020</td>\n      <td>COMPLETE</td>\n    </tr>\n    <tr>\n      <th>37</th>\n      <td>37</td>\n      <td>-0.298442</td>\n      <td>2023-12-06 22:46:35.870090</td>\n      <td>2023-12-06 22:48:07.235339</td>\n      <td>0 days 00:01:31.365249</td>\n      <td>False</td>\n      <td>288</td>\n      <td>5</td>\n      <td>0.000044</td>\n      <td>COMPLETE</td>\n    </tr>\n    <tr>\n      <th>38</th>\n      <td>38</td>\n      <td>-0.272189</td>\n      <td>2023-12-06 22:48:07.236340</td>\n      <td>2023-12-06 22:49:40.063230</td>\n      <td>0 days 00:01:32.826890</td>\n      <td>False</td>\n      <td>224</td>\n      <td>5</td>\n      <td>0.000019</td>\n      <td>COMPLETE</td>\n    </tr>\n    <tr>\n      <th>39</th>\n      <td>39</td>\n      <td>-0.248647</td>\n      <td>2023-12-06 22:49:40.065208</td>\n      <td>2023-12-06 22:51:20.065777</td>\n      <td>0 days 00:01:40.000569</td>\n      <td>False</td>\n      <td>352</td>\n      <td>5</td>\n      <td>0.000043</td>\n      <td>COMPLETE</td>\n    </tr>\n    <tr>\n      <th>40</th>\n      <td>40</td>\n      <td>-0.222919</td>\n      <td>2023-12-06 22:51:20.067787</td>\n      <td>2023-12-06 22:52:52.798763</td>\n      <td>0 days 00:01:32.730976</td>\n      <td>False</td>\n      <td>272</td>\n      <td>5</td>\n      <td>0.000160</td>\n      <td>COMPLETE</td>\n    </tr>\n    <tr>\n      <th>41</th>\n      <td>41</td>\n      <td>-0.256513</td>\n      <td>2023-12-06 22:52:52.800761</td>\n      <td>2023-12-06 22:54:23.891926</td>\n      <td>0 days 00:01:31.091165</td>\n      <td>False</td>\n      <td>288</td>\n      <td>5</td>\n      <td>0.000177</td>\n      <td>COMPLETE</td>\n    </tr>\n    <tr>\n      <th>42</th>\n      <td>42</td>\n      <td>-0.296062</td>\n      <td>2023-12-06 22:54:23.893926</td>\n      <td>2023-12-06 22:55:56.419116</td>\n      <td>0 days 00:01:32.525190</td>\n      <td>False</td>\n      <td>256</td>\n      <td>5</td>\n      <td>0.000069</td>\n      <td>COMPLETE</td>\n    </tr>\n    <tr>\n      <th>43</th>\n      <td>43</td>\n      <td>-0.237087</td>\n      <td>2023-12-06 22:55:56.421179</td>\n      <td>2023-12-06 22:57:30.689501</td>\n      <td>0 days 00:01:34.268322</td>\n      <td>False</td>\n      <td>176</td>\n      <td>5</td>\n      <td>0.000119</td>\n      <td>COMPLETE</td>\n    </tr>\n    <tr>\n      <th>44</th>\n      <td>44</td>\n      <td>-0.258600</td>\n      <td>2023-12-06 22:57:30.691438</td>\n      <td>2023-12-06 22:59:04.497942</td>\n      <td>0 days 00:01:33.806504</td>\n      <td>False</td>\n      <td>368</td>\n      <td>5</td>\n      <td>0.000271</td>\n      <td>COMPLETE</td>\n    </tr>\n    <tr>\n      <th>45</th>\n      <td>45</td>\n      <td>-0.224789</td>\n      <td>2023-12-06 22:59:04.499940</td>\n      <td>2023-12-06 23:00:32.590547</td>\n      <td>0 days 00:01:28.090607</td>\n      <td>False</td>\n      <td>224</td>\n      <td>5</td>\n      <td>0.000039</td>\n      <td>COMPLETE</td>\n    </tr>\n    <tr>\n      <th>46</th>\n      <td>46</td>\n      <td>-0.578519</td>\n      <td>2023-12-06 23:00:32.592546</td>\n      <td>2023-12-06 23:02:03.762031</td>\n      <td>0 days 00:01:31.169485</td>\n      <td>True</td>\n      <td>224</td>\n      <td>5</td>\n      <td>0.000023</td>\n      <td>COMPLETE</td>\n    </tr>\n    <tr>\n      <th>47</th>\n      <td>47</td>\n      <td>-0.300538</td>\n      <td>2023-12-06 23:02:03.764030</td>\n      <td>2023-12-06 23:03:37.527365</td>\n      <td>0 days 00:01:33.763335</td>\n      <td>False</td>\n      <td>272</td>\n      <td>5</td>\n      <td>0.000043</td>\n      <td>COMPLETE</td>\n    </tr>\n    <tr>\n      <th>48</th>\n      <td>48</td>\n      <td>-0.550801</td>\n      <td>2023-12-06 23:03:37.529364</td>\n      <td>2023-12-06 23:05:07.407784</td>\n      <td>0 days 00:01:29.878420</td>\n      <td>True</td>\n      <td>192</td>\n      <td>5</td>\n      <td>0.000019</td>\n      <td>COMPLETE</td>\n    </tr>\n    <tr>\n      <th>49</th>\n      <td>49</td>\n      <td>-0.203809</td>\n      <td>2023-12-06 23:05:07.409784</td>\n      <td>2023-12-06 23:06:50.539097</td>\n      <td>0 days 00:01:43.129313</td>\n      <td>False</td>\n      <td>240</td>\n      <td>5</td>\n      <td>0.000029</td>\n      <td>COMPLETE</td>\n    </tr>\n  </tbody>\n</table>\n</div>"
     },
     "execution_count": 40,
     "metadata": {},
     "output_type": "execute_result"
    }
   ],
   "source": [
    "df_default = study_default.trials_dataframe()\n",
    "df_default.to_csv(\"study_label-default_normalized.csv\")\n",
    "df_default"
   ],
   "metadata": {
    "collapsed": false,
    "ExecuteTime": {
     "start_time": "2023-12-06T23:06:50.579904Z",
     "end_time": "2023-12-06T23:06:50.627440Z"
    }
   }
  }
 ],
 "metadata": {
  "kernelspec": {
   "display_name": "Python 3",
   "language": "python",
   "name": "python3"
  },
  "language_info": {
   "codemirror_mode": {
    "name": "ipython",
    "version": 2
   },
   "file_extension": ".py",
   "mimetype": "text/x-python",
   "name": "python",
   "nbconvert_exporter": "python",
   "pygments_lexer": "ipython2",
   "version": "2.7.6"
  }
 },
 "nbformat": 4,
 "nbformat_minor": 0
}
