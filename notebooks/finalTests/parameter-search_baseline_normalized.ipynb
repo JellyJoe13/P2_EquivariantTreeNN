{
 "cells": [
  {
   "cell_type": "markdown",
   "metadata": {},
   "source": [
    "# Parameter search with optuna - BASELINE"
   ]
  },
  {
   "cell_type": "markdown",
   "metadata": {},
   "source": [
    "## Importing section"
   ]
  },
  {
   "cell_type": "code",
   "execution_count": 1,
   "metadata": {
    "ExecuteTime": {
     "start_time": "2023-12-08T19:56:47.706480Z",
     "end_time": "2023-12-08T19:56:49.711723Z"
    }
   },
   "outputs": [],
   "source": [
    "import optuna\n",
    "\n",
    "import numpy as np\n",
    "\n",
    "import torch\n",
    "from sklearn.metrics import r2_score\n",
    "from torch.utils.data import random_split, DataLoader\n",
    "\n",
    "from etnn import TreeNode\n",
    "from etnn.nn.layer_framework import LayerManagementFramework\n",
    "from etnn.routines.run_config import choice_dataset, choice_trainloader, choice_loss, choice_optim\n",
    "from etnn.tools.training import train_epoch, eval_epoch\n",
    "from etnn.tools.training_tools import ConfigStore, seeding_all"
   ]
  },
  {
   "cell_type": "markdown",
   "metadata": {},
   "source": [
    "## Definition of objective function for ETNN"
   ]
  },
  {
   "cell_type": "code",
   "execution_count": 2,
   "metadata": {
    "ExecuteTime": {
     "start_time": "2023-12-08T19:56:49.708717Z",
     "end_time": "2023-12-08T19:56:49.725234Z"
    }
   },
   "outputs": [],
   "source": [
    "def objective(trial):\n",
    "    # init default config\n",
    "    config = ConfigStore(\n",
    "        in_dim=15,\n",
    "        hidden_dim=0, #trial.suggest_int(\"hidden_dim\", 16, 512, step=16),\n",
    "        out_dim=1,\n",
    "        k=0, #trial.suggest_int(\"k\", 1, 5),\n",
    "        dataset=-1,\n",
    "        ds_size=10_000,\n",
    "        num_gondolas=10,\n",
    "        num_part_pg=5,\n",
    "        loss_name='mse',\n",
    "        optimizer_name='adam',\n",
    "        num_max_epochs=30, # real: 100\n",
    "        learning_rate=trial.suggest_float(\"learning_rate\", 1e-5, 1e-2, log=True),\n",
    "        batch_size=1024,\n",
    "        early_stop_tol=5,\n",
    "        use_equal_batcher=trial.suggest_categorical(\"batcher\", [True, False]),\n",
    "        seed=420,\n",
    "        label_type=label,\n",
    "        final_label_factor=1/1000\n",
    "    )\n",
    "\n",
    "    # loading dataset\n",
    "    dataset, df_index = choice_dataset(config, dataset_path)\n",
    "    # splitting off test dataset\n",
    "    generator = torch.Generator().manual_seed(config.seed)\n",
    "    train_ds, val_ds, _ = random_split(\n",
    "        dataset,\n",
    "        [1 - test_perc - val_perc, val_perc, test_perc],\n",
    "        generator=generator\n",
    "    )\n",
    "\n",
    "    # loaders\n",
    "    train_loader = choice_trainloader(config, df_index, train_ds)\n",
    "    val_loader = DataLoader(val_ds, batch_size=4 * config.batch_size, shuffle=False)\n",
    "\n",
    "    # build tree\n",
    "    tree_structure = TreeNode(\n",
    "        node_type=\"C\",\n",
    "        children=[\n",
    "            TreeNode(\"P\", [TreeNode(\"E\", config.num_part_pg)])\n",
    "            for _ in range(config.num_gondolas)\n",
    "        ]\n",
    "    )\n",
    "\n",
    "    # define device\n",
    "    device = \"cuda\" if torch.cuda.is_available() else \"cpu\"\n",
    "\n",
    "    # set seed for reproducability\n",
    "    seeding_all(config.seed)\n",
    "\n",
    "    # define model\n",
    "    layer_list = [torch.nn.Flatten()]\n",
    "    features = config.in_dim * config.num_gondolas * config.num_part_pg\n",
    "\n",
    "    # for each layer create a linear layer and relu (except last one)\n",
    "    for i in range(trial.suggest_int(\"n_layers\", 1, 5)-1):\n",
    "        # determine new feature dimension\n",
    "        new_features = trial.suggest_int(f\"n_dim_{i}\", 1, 512)\n",
    "\n",
    "        # add layer and relu to list\n",
    "        layer_list += [torch.nn.Linear(features, new_features), torch.nn.ReLU()]\n",
    "\n",
    "        # set the new feature to be the current feature\n",
    "        features = new_features\n",
    "\n",
    "    # set the last layer - this one must map to the out dimension\n",
    "    layer_list += [torch.nn.Linear(features, config.out_dim)]\n",
    "    model = torch.nn.Sequential(*layer_list).to(device)\n",
    "\n",
    "    # learning tools\n",
    "    criterion = choice_loss(config)\n",
    "    optimizer = choice_optim(config, model)\n",
    "\n",
    "    # init score list\n",
    "    score_list = []\n",
    "\n",
    "    # train for specified number of epochs\n",
    "    for epoch in range(config.num_max_epochs):\n",
    "        _, _, _ = train_epoch(\n",
    "            model,\n",
    "            train_loader,\n",
    "            optimizer,\n",
    "            device,\n",
    "            criterion\n",
    "        )\n",
    "\n",
    "        _, val_true_y, val_pred_y = eval_epoch(\n",
    "            model,\n",
    "            val_loader,\n",
    "            device,\n",
    "            criterion\n",
    "        )\n",
    "\n",
    "        # calc r2 score and append\n",
    "        score = r2_score(y_true=val_true_y, y_pred=val_pred_y)\n",
    "        score_list += [score]\n",
    "        trial.report(score, epoch)\n",
    "\n",
    "    # calculate objective\n",
    "    # display(score_list)\n",
    "    # idea: last x r2 scores (why not last one? for stability purposes)\n",
    "    obj = np.array(score_list)[-stability_count:]\n",
    "    return np.mean(obj)"
   ]
  },
  {
   "cell_type": "markdown",
   "metadata": {},
   "source": [
    "## Tree advanced label"
   ]
  },
  {
   "cell_type": "code",
   "execution_count": 3,
   "metadata": {
    "ExecuteTime": {
     "start_time": "2023-12-08T19:56:49.719229Z",
     "end_time": "2023-12-08T19:56:49.738248Z"
    }
   },
   "outputs": [],
   "source": [
    "# setting global parameters\n",
    "dataset_path = \"../../datasets/\"\n",
    "label = \"tree_advanced\" # alt: tree or default\n",
    "test_perc = 0.3\n",
    "val_perc = 0.21\n",
    "stability_count = 5\n",
    "n_trials = 70"
   ]
  },
  {
   "cell_type": "code",
   "execution_count": null,
   "metadata": {
    "ExecuteTime": {
     "end_time": "2023-12-07T00:46:10.138020Z",
     "start_time": "2023-12-06T23:22:13.482574Z"
    },
    "pycharm": {
     "is_executing": true
    }
   },
   "outputs": [
    {
     "name": "stderr",
     "output_type": "stream",
     "text": [
      "[I 2023-12-08 19:56:49,734] A new study created in memory with name: Best tree advanced label config\n"
     ]
    },
    {
     "data": {
      "text/plain": "  0%|          | 0/70 [00:00<?, ?it/s]",
      "application/vnd.jupyter.widget-view+json": {
       "version_major": 2,
       "version_minor": 0,
       "model_id": "6ccaf819cb0e49e1ae2aee4e06ed078e"
      }
     },
     "metadata": {},
     "output_type": "display_data"
    },
    {
     "name": "stdout",
     "output_type": "stream",
     "text": [
      "[I 2023-12-08 19:57:58,943] Trial 0 finished with value: -939.4449011030545 and parameters: {'learning_rate': 2.4006605088264315e-05, 'batcher': False, 'n_layers': 1}. Best is trial 0 with value: -939.4449011030545.\n",
      "[I 2023-12-08 19:59:19,023] Trial 1 finished with value: 0.9201144923544472 and parameters: {'learning_rate': 0.002104284711699982, 'batcher': False, 'n_layers': 4, 'n_dim_0': 219, 'n_dim_1': 401, 'n_dim_2': 355}. Best is trial 1 with value: 0.9201144923544472.\n",
      "[I 2023-12-08 20:00:40,962] Trial 2 finished with value: -1004.7290627621171 and parameters: {'learning_rate': 3.064636911462103e-05, 'batcher': False, 'n_layers': 5, 'n_dim_0': 89, 'n_dim_1': 304, 'n_dim_2': 315, 'n_dim_3': 1}. Best is trial 1 with value: 0.9201144923544472.\n",
      "[I 2023-12-08 20:02:05,508] Trial 3 finished with value: 0.8962070188960141 and parameters: {'learning_rate': 0.00029349149611142326, 'batcher': False, 'n_layers': 2, 'n_dim_0': 208}. Best is trial 1 with value: 0.9201144923544472.\n",
      "[I 2023-12-08 20:03:23,213] Trial 4 finished with value: 0.9055881370849903 and parameters: {'learning_rate': 0.0007282096147110321, 'batcher': True, 'n_layers': 2, 'n_dim_0': 250}. Best is trial 1 with value: 0.9201144923544472.\n",
      "[I 2023-12-08 20:04:44,712] Trial 5 finished with value: -993.624634550896 and parameters: {'learning_rate': 1.1311738324281564e-05, 'batcher': False, 'n_layers': 4, 'n_dim_0': 290, 'n_dim_1': 4, 'n_dim_2': 124}. Best is trial 1 with value: 0.9201144923544472.\n",
      "[I 2023-12-08 20:06:09,097] Trial 6 finished with value: -465.6051316576466 and parameters: {'learning_rate': 4.089666520723408e-05, 'batcher': False, 'n_layers': 4, 'n_dim_0': 10, 'n_dim_1': 306, 'n_dim_2': 481}. Best is trial 1 with value: 0.9201144923544472.\n",
      "[I 2023-12-08 20:07:29,723] Trial 7 finished with value: 0.8485639115971821 and parameters: {'learning_rate': 0.000131484746754946, 'batcher': False, 'n_layers': 3, 'n_dim_0': 234, 'n_dim_1': 113}. Best is trial 1 with value: 0.9201144923544472.\n",
      "[I 2023-12-08 20:08:49,208] Trial 8 finished with value: 0.6371897439994275 and parameters: {'learning_rate': 0.00010105382081448794, 'batcher': False, 'n_layers': 5, 'n_dim_0': 21, 'n_dim_1': 408, 'n_dim_2': 106, 'n_dim_3': 321}. Best is trial 1 with value: 0.9201144923544472.\n",
      "[I 2023-12-08 20:10:12,048] Trial 9 finished with value: 0.9298934646097419 and parameters: {'learning_rate': 0.0021640628309100973, 'batcher': False, 'n_layers': 3, 'n_dim_0': 300, 'n_dim_1': 170}. Best is trial 9 with value: 0.9298934646097419.\n",
      "[I 2023-12-08 20:11:25,546] Trial 10 finished with value: 0.939308391074331 and parameters: {'learning_rate': 0.006810065904661181, 'batcher': True, 'n_layers': 3, 'n_dim_0': 492, 'n_dim_1': 151}. Best is trial 10 with value: 0.939308391074331.\n",
      "[I 2023-12-08 20:12:43,790] Trial 11 finished with value: 0.9126776964599028 and parameters: {'learning_rate': 0.007335143865807707, 'batcher': True, 'n_layers': 3, 'n_dim_0': 512, 'n_dim_1': 144}. Best is trial 10 with value: 0.939308391074331.\n",
      "[I 2023-12-08 20:14:07,974] Trial 12 finished with value: 0.9258175994473129 and parameters: {'learning_rate': 0.008634350702532705, 'batcher': True, 'n_layers': 2, 'n_dim_0': 501}. Best is trial 10 with value: 0.939308391074331.\n",
      "[I 2023-12-08 20:15:29,367] Trial 13 finished with value: 0.9339033673525897 and parameters: {'learning_rate': 0.002305902761577434, 'batcher': True, 'n_layers': 3, 'n_dim_0': 376, 'n_dim_1': 173}. Best is trial 10 with value: 0.939308391074331.\n",
      "[I 2023-12-08 20:16:52,627] Trial 14 finished with value: 0.8371002559445596 and parameters: {'learning_rate': 0.003248121941145798, 'batcher': True, 'n_layers': 1}. Best is trial 10 with value: 0.939308391074331.\n",
      "[I 2023-12-08 20:18:17,919] Trial 15 finished with value: 0.9014414043379565 and parameters: {'learning_rate': 0.0008565111539130362, 'batcher': True, 'n_layers': 2, 'n_dim_0': 405}. Best is trial 10 with value: 0.939308391074331.\n",
      "[I 2023-12-08 20:19:46,620] Trial 16 finished with value: 0.933645010618085 and parameters: {'learning_rate': 0.004376516836814639, 'batcher': True, 'n_layers': 4, 'n_dim_0': 405, 'n_dim_1': 202, 'n_dim_2': 7}. Best is trial 10 with value: 0.939308391074331.\n",
      "[I 2023-12-08 20:21:13,501] Trial 17 finished with value: 0.9579897192771221 and parameters: {'learning_rate': 0.00949924946536999, 'batcher': True, 'n_layers': 3, 'n_dim_0': 408, 'n_dim_1': 49}. Best is trial 17 with value: 0.9579897192771221.\n",
      "[I 2023-12-08 20:22:37,896] Trial 18 finished with value: 0.9407069163061085 and parameters: {'learning_rate': 0.009645617348184962, 'batcher': True, 'n_layers': 3, 'n_dim_0': 454, 'n_dim_1': 28}. Best is trial 17 with value: 0.9579897192771221.\n",
      "[I 2023-12-08 20:23:44,097] Trial 19 finished with value: 0.9644312023521735 and parameters: {'learning_rate': 0.008466422572167911, 'batcher': True, 'n_layers': 4, 'n_dim_0': 353, 'n_dim_1': 7, 'n_dim_2': 484}. Best is trial 19 with value: 0.9644312023521735.\n",
      "[I 2023-12-08 20:24:48,313] Trial 20 finished with value: 0.913752896172982 and parameters: {'learning_rate': 0.001352962385907345, 'batcher': True, 'n_layers': 5, 'n_dim_0': 342, 'n_dim_1': 70, 'n_dim_2': 487, 'n_dim_3': 483}. Best is trial 19 with value: 0.9644312023521735.\n",
      "[I 2023-12-08 20:25:53,679] Trial 21 finished with value: 0.9260372462564831 and parameters: {'learning_rate': 0.009084596244391166, 'batcher': True, 'n_layers': 4, 'n_dim_0': 442, 'n_dim_1': 8, 'n_dim_2': 387}. Best is trial 19 with value: 0.9644312023521735.\n"
     ]
    }
   ],
   "source": [
    "study_tree_advanced = optuna.create_study(study_name=\"Best tree advanced label config\", directions=['maximize'])\n",
    "study_tree_advanced.optimize(objective, n_trials=n_trials, show_progress_bar=True)"
   ]
  },
  {
   "cell_type": "code",
   "execution_count": null,
   "metadata": {
    "ExecuteTime": {
     "end_time": "2023-12-07T00:46:10.185059Z",
     "start_time": "2023-12-07T00:46:10.140018Z"
    },
    "pycharm": {
     "is_executing": true
    }
   },
   "outputs": [],
   "source": [
    "best_par_tree_advanced = study_tree_advanced.best_params\n",
    "print(best_par_tree_advanced)"
   ]
  },
  {
   "cell_type": "code",
   "execution_count": null,
   "metadata": {
    "ExecuteTime": {
     "end_time": "2023-12-07T00:46:10.186061Z",
     "start_time": "2023-12-07T00:46:10.154061Z"
    },
    "pycharm": {
     "is_executing": true
    }
   },
   "outputs": [],
   "source": [
    "study_tree_advanced.sampler.__class__.__name__"
   ]
  },
  {
   "cell_type": "code",
   "execution_count": null,
   "metadata": {
    "ExecuteTime": {
     "end_time": "2023-12-07T00:46:10.219060Z",
     "start_time": "2023-12-07T00:46:10.172061Z"
    },
    "pycharm": {
     "is_executing": true
    }
   },
   "outputs": [],
   "source": [
    "df_tree_advanced = study_tree_advanced.trials_dataframe()\n",
    "df_tree_advanced.to_csv(\"study_label-tree-advanced_baseline_normalized.csv\")\n",
    "display(df_tree_advanced)"
   ]
  },
  {
   "cell_type": "markdown",
   "metadata": {},
   "source": [
    "## Tree label"
   ]
  },
  {
   "cell_type": "code",
   "execution_count": null,
   "metadata": {
    "ExecuteTime": {
     "end_time": "2023-12-07T00:46:12.364699Z",
     "start_time": "2023-12-07T00:46:12.321807Z"
    },
    "pycharm": {
     "is_executing": true
    }
   },
   "outputs": [],
   "source": [
    "# setting global parameters\n",
    "dataset_path = \"../../datasets/\"\n",
    "label = \"tree\" # alt: tree or default\n",
    "test_perc = 0.3\n",
    "val_perc = 0.21\n",
    "stability_count = 5\n",
    "n_trials = 50"
   ]
  },
  {
   "cell_type": "code",
   "execution_count": null,
   "metadata": {
    "ExecuteTime": {
     "end_time": "2023-12-07T02:11:23.297287Z",
     "start_time": "2023-12-07T00:46:12.337700Z"
    },
    "pycharm": {
     "is_executing": true
    }
   },
   "outputs": [],
   "source": [
    "study_tree = optuna.create_study(study_name=\"Best tree label config\", directions=['maximize'])\n",
    "study_tree.optimize(objective, n_trials=n_trials, show_progress_bar=True)"
   ]
  },
  {
   "cell_type": "code",
   "execution_count": null,
   "metadata": {
    "ExecuteTime": {
     "end_time": "2023-12-07T02:11:23.313285Z",
     "start_time": "2023-12-07T02:11:23.298286Z"
    },
    "pycharm": {
     "is_executing": true
    }
   },
   "outputs": [],
   "source": [
    "best_par_tree = study_tree.best_params\n",
    "print(best_par_tree)"
   ]
  },
  {
   "cell_type": "code",
   "execution_count": null,
   "metadata": {
    "ExecuteTime": {
     "end_time": "2023-12-07T02:11:23.358355Z",
     "start_time": "2023-12-07T02:11:23.314287Z"
    },
    "pycharm": {
     "is_executing": true
    }
   },
   "outputs": [],
   "source": [
    "study_tree.sampler.__class__.__name__"
   ]
  },
  {
   "cell_type": "code",
   "execution_count": null,
   "metadata": {
    "ExecuteTime": {
     "end_time": "2023-12-07T02:11:23.358355Z",
     "start_time": "2023-12-07T02:11:23.330310Z"
    },
    "pycharm": {
     "is_executing": true
    }
   },
   "outputs": [],
   "source": [
    "df_tree = study_tree.trials_dataframe()\n",
    "df_tree.to_csv(\"study_label-tree_baseline_normalized.csv\")\n",
    "display(df_tree)"
   ]
  },
  {
   "cell_type": "markdown",
   "metadata": {},
   "source": [
    "## Default"
   ]
  },
  {
   "cell_type": "code",
   "execution_count": null,
   "metadata": {
    "ExecuteTime": {
     "start_time": "2023-12-08T08:17:30.348359Z",
     "end_time": "2023-12-08T08:17:30.354359Z"
    },
    "pycharm": {
     "is_executing": true
    }
   },
   "outputs": [],
   "source": [
    "# setting global parameters\n",
    "dataset_path = \"../../datasets/\"\n",
    "label = \"default\" # alt: tree or default\n",
    "test_perc = 0.3\n",
    "val_perc = 0.21\n",
    "stability_count = 5\n",
    "n_trials = 50"
   ]
  },
  {
   "cell_type": "code",
   "execution_count": null,
   "metadata": {
    "ExecuteTime": {
     "start_time": "2023-12-08T08:17:34.920905Z",
     "end_time": "2023-12-08T09:33:31.877283Z"
    },
    "pycharm": {
     "is_executing": true
    }
   },
   "outputs": [],
   "source": [
    "study_default = optuna.create_study(study_name=\"Best default label config\", directions=['maximize'])\n",
    "study_default.optimize(objective, n_trials=n_trials, show_progress_bar=True)"
   ]
  },
  {
   "cell_type": "code",
   "execution_count": null,
   "metadata": {
    "ExecuteTime": {
     "start_time": "2023-12-08T10:07:14.106331Z",
     "end_time": "2023-12-08T10:07:14.135887Z"
    },
    "pycharm": {
     "is_executing": true
    }
   },
   "outputs": [],
   "source": [
    "best_par_default = study_default.best_params\n",
    "print(best_par_default)"
   ]
  },
  {
   "cell_type": "code",
   "execution_count": null,
   "metadata": {
    "ExecuteTime": {
     "start_time": "2023-12-08T10:07:14.588971Z",
     "end_time": "2023-12-08T10:07:14.627024Z"
    },
    "pycharm": {
     "is_executing": true
    }
   },
   "outputs": [],
   "source": [
    "study_default.sampler.__class__.__name__"
   ]
  },
  {
   "cell_type": "code",
   "execution_count": null,
   "metadata": {
    "ExecuteTime": {
     "start_time": "2023-12-08T10:07:15.054042Z",
     "end_time": "2023-12-08T10:07:15.116807Z"
    },
    "pycharm": {
     "is_executing": true
    }
   },
   "outputs": [],
   "source": [
    "df_default = study_default.trials_dataframe()\n",
    "df_default.to_csv(\"study_label-default_baseline_normalized.csv\")\n",
    "display(df_default)"
   ]
  }
 ],
 "metadata": {
  "kernelspec": {
   "display_name": "Python 3 (ipykernel)",
   "language": "python",
   "name": "python3"
  },
  "language_info": {
   "codemirror_mode": {
    "name": "ipython",
    "version": 3
   },
   "file_extension": ".py",
   "mimetype": "text/x-python",
   "name": "python",
   "nbconvert_exporter": "python",
   "pygments_lexer": "ipython3",
   "version": "3.9.18"
  }
 },
 "nbformat": 4,
 "nbformat_minor": 1
}
