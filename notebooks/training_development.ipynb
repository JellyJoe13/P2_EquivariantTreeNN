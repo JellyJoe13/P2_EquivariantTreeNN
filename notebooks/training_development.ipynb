{
 "cells": [
  {
   "cell_type": "markdown",
   "source": [
    "# Basic Training Scheme development notebook"
   ],
   "metadata": {
    "collapsed": false
   }
  },
  {
   "cell_type": "markdown",
   "source": [
    "## Importing section"
   ],
   "metadata": {
    "collapsed": false
   }
  },
  {
   "cell_type": "code",
   "execution_count": 1,
   "outputs": [],
   "source": [
    "import torch\n",
    "from torch import optim, nn\n",
    "from torch.utils.data import random_split, DataLoader\n",
    "from etnn.data.ferris_wheel import load_pure_ferris_wheel_dataset\n",
    "from etnn.data.tree_structure import TreeNode\n",
    "from etnn.nn.layer_framework import ChiralLayerManagementFramework\n",
    "from tqdm import tqdm\n",
    "import matplotlib.pyplot as plt\n",
    "from etnn.tools.training import train_epoch, eval_epoch\n",
    "from etnn.tools.training_tools import EpochControl, ConfigStore, AccuracyManager"
   ],
   "metadata": {
    "collapsed": false,
    "ExecuteTime": {
     "start_time": "2023-10-30T17:26:09.023336Z",
     "end_time": "2023-10-30T17:26:10.886199Z"
    }
   }
  },
  {
   "cell_type": "code",
   "execution_count": 2,
   "outputs": [],
   "source": [
    "import numpy as np\n",
    "import pandas as pd\n",
    "import os"
   ],
   "metadata": {
    "collapsed": false,
    "ExecuteTime": {
     "start_time": "2023-10-30T17:26:10.887314Z",
     "end_time": "2023-10-30T17:26:10.903852Z"
    }
   }
  },
  {
   "cell_type": "markdown",
   "source": [
    "## Parameter definition"
   ],
   "metadata": {
    "collapsed": false
   }
  },
  {
   "cell_type": "code",
   "execution_count": 3,
   "outputs": [],
   "source": [
    "NUM_GONDOLAS = 10\n",
    "NUM_PART_PG = 5\n",
    "DATASET_SIZE = 10_000\n",
    "DATASET_PATH = \"../datasets\""
   ],
   "metadata": {
    "collapsed": false,
    "ExecuteTime": {
     "start_time": "2023-10-30T17:26:10.903852Z",
     "end_time": "2023-10-30T17:26:10.920589Z"
    }
   }
  },
  {
   "cell_type": "code",
   "execution_count": 4,
   "outputs": [],
   "source": [
    "val_perc = 0.1\n",
    "test_perc = 0.2"
   ],
   "metadata": {
    "collapsed": false,
    "ExecuteTime": {
     "start_time": "2023-10-30T17:26:10.920589Z",
     "end_time": "2023-10-30T17:26:10.937318Z"
    }
   }
  },
  {
   "cell_type": "code",
   "execution_count": 5,
   "outputs": [],
   "source": [
    "SAVING_PATH = \".\"\n",
    "MODEL_SAVING_NAME = \"model.pt\""
   ],
   "metadata": {
    "collapsed": false,
    "ExecuteTime": {
     "start_time": "2023-10-30T17:26:10.937318Z",
     "end_time": "2023-10-30T17:26:10.953826Z"
    }
   }
  },
  {
   "cell_type": "code",
   "execution_count": 6,
   "outputs": [],
   "source": [
    "CONFIG_SAVING_NAME = \"config.json\"\n",
    "ACCURACY_SAVING_NAME = \"accuracies.csv\"\n",
    "RESULTS_FOLDER = \".\""
   ],
   "metadata": {
    "collapsed": false,
    "ExecuteTime": {
     "start_time": "2023-10-30T17:26:10.953826Z",
     "end_time": "2023-10-30T17:26:10.969559Z"
    }
   }
  },
  {
   "cell_type": "code",
   "execution_count": 7,
   "outputs": [],
   "source": [
    "# todo: take care of None values as representing not yet implemented features\n",
    "config = ConfigStore(\n",
    "    in_dim=15,\n",
    "    hidden_dim=32,\n",
    "    out_dim=1,\n",
    "    k=2,\n",
    "    is_accuracy_score=False,\n",
    "    which_score=None,\n",
    "    loss_name=None,\n",
    "    optimizer_name=None,\n",
    "    num_max_epochs=20,\n",
    "    learning_rate=0.001,\n",
    "    batch_size=32,\n",
    "    early_stop_tol=5,\n",
    "    is_classification=False\n",
    ")"
   ],
   "metadata": {
    "collapsed": false,
    "ExecuteTime": {
     "start_time": "2023-10-30T17:26:10.970563Z",
     "end_time": "2023-10-30T17:26:10.987225Z"
    }
   }
  },
  {
   "cell_type": "markdown",
   "source": [
    "## data preparation"
   ],
   "metadata": {
    "collapsed": false
   }
  },
  {
   "cell_type": "code",
   "execution_count": 8,
   "outputs": [],
   "source": [
    "dataset = load_pure_ferris_wheel_dataset(\n",
    "    num_gondolas=NUM_GONDOLAS,\n",
    "    num_part_pg=NUM_PART_PG,\n",
    "    num_to_generate=DATASET_SIZE,\n",
    "    dataset_path=DATASET_PATH\n",
    ")"
   ],
   "metadata": {
    "collapsed": false,
    "ExecuteTime": {
     "start_time": "2023-10-30T17:26:10.987225Z",
     "end_time": "2023-10-30T17:26:11.020727Z"
    }
   }
  },
  {
   "cell_type": "code",
   "execution_count": 9,
   "outputs": [
    {
     "data": {
      "text/plain": "10000"
     },
     "execution_count": 9,
     "metadata": {},
     "output_type": "execute_result"
    }
   ],
   "source": [
    "len(dataset)"
   ],
   "metadata": {
    "collapsed": false,
    "ExecuteTime": {
     "start_time": "2023-10-30T17:26:11.020727Z",
     "end_time": "2023-10-30T17:26:11.037938Z"
    }
   }
  },
  {
   "cell_type": "code",
   "execution_count": 10,
   "outputs": [],
   "source": [
    "generator = torch.Generator().manual_seed(420)\n",
    "train_ds, val_ds, test_ds = random_split(\n",
    "    dataset,\n",
    "    [1-val_perc-test_perc, val_perc, test_perc],\n",
    "    generator=generator\n",
    ")"
   ],
   "metadata": {
    "collapsed": false,
    "ExecuteTime": {
     "start_time": "2023-10-30T17:26:11.037938Z",
     "end_time": "2023-10-30T17:26:11.069782Z"
    }
   }
  },
  {
   "cell_type": "code",
   "execution_count": 11,
   "outputs": [],
   "source": [
    "train_loader = DataLoader(train_ds, batch_size=config.batch_size, shuffle=True)\n",
    "val_loader = DataLoader(val_ds, batch_size=config.batch_size, shuffle=False)\n",
    "test_loader = DataLoader(test_ds, batch_size=config.batch_size, shuffle=False)"
   ],
   "metadata": {
    "collapsed": false,
    "ExecuteTime": {
     "start_time": "2023-10-30T17:26:11.054156Z",
     "end_time": "2023-10-30T17:26:11.071046Z"
    }
   }
  },
  {
   "cell_type": "code",
   "execution_count": 12,
   "outputs": [],
   "source": [
    "# todo: add more tree mutated sequences that are in dataset\n",
    "# todo: add some faulty sequences which disturb this and see how much this affects the training"
   ],
   "metadata": {
    "collapsed": false,
    "ExecuteTime": {
     "start_time": "2023-10-30T17:26:11.071046Z",
     "end_time": "2023-10-30T17:26:11.086841Z"
    }
   }
  },
  {
   "cell_type": "markdown",
   "source": [
    "## Build tree structure"
   ],
   "metadata": {
    "collapsed": false
   }
  },
  {
   "cell_type": "code",
   "execution_count": 13,
   "outputs": [],
   "source": [
    "tree_structure = TreeNode(\n",
    "    node_type=\"C\",\n",
    "    children=[\n",
    "        TreeNode(\"P\", [TreeNode(\"E\", NUM_PART_PG)])\n",
    "        for _ in range(NUM_GONDOLAS)\n",
    "    ]\n",
    ")"
   ],
   "metadata": {
    "collapsed": false,
    "ExecuteTime": {
     "start_time": "2023-10-30T17:26:11.088361Z",
     "end_time": "2023-10-30T17:26:11.104251Z"
    }
   }
  },
  {
   "cell_type": "markdown",
   "source": [
    "## Define device"
   ],
   "metadata": {
    "collapsed": false
   }
  },
  {
   "cell_type": "code",
   "execution_count": 14,
   "outputs": [],
   "source": [
    "device = \"cuda\" if torch.cuda.is_available() else \"cpu\""
   ],
   "metadata": {
    "collapsed": false,
    "ExecuteTime": {
     "start_time": "2023-10-30T17:26:11.119505Z",
     "end_time": "2023-10-30T17:26:11.121271Z"
    }
   }
  },
  {
   "cell_type": "code",
   "execution_count": 15,
   "outputs": [
    {
     "data": {
      "text/plain": "'cuda'"
     },
     "execution_count": 15,
     "metadata": {},
     "output_type": "execute_result"
    }
   ],
   "source": [
    "device"
   ],
   "metadata": {
    "collapsed": false,
    "ExecuteTime": {
     "start_time": "2023-10-30T17:26:11.121271Z",
     "end_time": "2023-10-30T17:26:11.140361Z"
    }
   }
  },
  {
   "cell_type": "markdown",
   "source": [
    "## Define Model"
   ],
   "metadata": {
    "collapsed": false
   }
  },
  {
   "cell_type": "code",
   "execution_count": 16,
   "outputs": [],
   "source": [
    "model = ChiralLayerManagementFramework(\n",
    "    in_dim=config.in_dim,\n",
    "    tree=tree_structure,\n",
    "    hidden_dim=config.hidden_dim,\n",
    "    out_dim=config.out_dim,\n",
    "    k=config.k\n",
    ").to(device)"
   ],
   "metadata": {
    "collapsed": false,
    "ExecuteTime": {
     "start_time": "2023-10-30T17:26:11.137598Z",
     "end_time": "2023-10-30T17:26:12.205032Z"
    }
   }
  },
  {
   "cell_type": "markdown",
   "source": [
    "## Define Loss and Optimizers"
   ],
   "metadata": {
    "collapsed": false
   }
  },
  {
   "cell_type": "code",
   "execution_count": 17,
   "outputs": [],
   "source": [
    "criterion = nn.MSELoss()"
   ],
   "metadata": {
    "collapsed": false,
    "ExecuteTime": {
     "start_time": "2023-10-30T17:26:12.205032Z",
     "end_time": "2023-10-30T17:26:12.220873Z"
    }
   }
  },
  {
   "cell_type": "code",
   "execution_count": 18,
   "outputs": [],
   "source": [
    "optimizer = optim.Adam(model.parameters(), lr=config.learning_rate)\n",
    "# optimizer = optim.SGD(model.parameters(), lr=config.learning_rate, momentum=0.9)"
   ],
   "metadata": {
    "collapsed": false,
    "ExecuteTime": {
     "start_time": "2023-10-30T17:26:12.220873Z",
     "end_time": "2023-10-30T17:26:12.437492Z"
    }
   }
  },
  {
   "cell_type": "markdown",
   "source": [
    "## Training"
   ],
   "metadata": {
    "collapsed": false
   }
  },
  {
   "cell_type": "code",
   "execution_count": 19,
   "outputs": [],
   "source": [
    "# init loss history\n",
    "loss_history_train = []\n",
    "loss_history_test = []"
   ],
   "metadata": {
    "collapsed": false,
    "ExecuteTime": {
     "start_time": "2023-10-30T17:26:12.437492Z",
     "end_time": "2023-10-30T17:26:12.454328Z"
    }
   }
  },
  {
   "cell_type": "code",
   "execution_count": 20,
   "outputs": [],
   "source": [
    "epoch_control = EpochControl(\n",
    "    model_save_name=MODEL_SAVING_NAME,\n",
    "    config_save_name=CONFIG_SAVING_NAME,\n",
    "    saving_folder_path=SAVING_PATH,\n",
    "    tolerance=config.early_stop_tol,\n",
    "    is_accuracy_score=config.is_accuracy_score\n",
    ")"
   ],
   "metadata": {
    "collapsed": false,
    "ExecuteTime": {
     "start_time": "2023-10-30T17:26:12.454328Z",
     "end_time": "2023-10-30T17:26:12.472769Z"
    }
   }
  },
  {
   "cell_type": "code",
   "execution_count": 21,
   "outputs": [],
   "source": [
    "accuracy_protocoller = AccuracyManager(\n",
    "    storage_name=ACCURACY_SAVING_NAME,\n",
    "    storage_path=RESULTS_FOLDER,\n",
    "    is_classification=False\n",
    ")"
   ],
   "metadata": {
    "collapsed": false,
    "ExecuteTime": {
     "start_time": "2023-10-30T17:26:12.471311Z",
     "end_time": "2023-10-30T17:26:12.487857Z"
    }
   }
  },
  {
   "cell_type": "code",
   "execution_count": 22,
   "outputs": [
    {
     "name": "stderr",
     "output_type": "stream",
     "text": [
      "  5%|▌         | 1/20 [00:06<02:08,  6.78s/it]"
     ]
    },
    {
     "name": "stdout",
     "output_type": "stream",
     "text": [
      "++save++\n"
     ]
    },
    {
     "name": "stderr",
     "output_type": "stream",
     "text": [
      " 35%|███▌      | 7/20 [00:43<01:22,  6.35s/it]"
     ]
    },
    {
     "name": "stdout",
     "output_type": "stream",
     "text": [
      "++save++\n"
     ]
    },
    {
     "name": "stderr",
     "output_type": "stream",
     "text": [
      " 60%|██████    | 12/20 [01:28<00:58,  7.37s/it]\n"
     ]
    }
   ],
   "source": [
    "# train for N epochs\n",
    "for epoch in tqdm(range(config.num_max_epochs)):\n",
    "    mean_train_loss, train_true_y, train_pred_y = train_epoch(\n",
    "        model,\n",
    "        train_loader,\n",
    "        optimizer,\n",
    "        device,\n",
    "        criterion\n",
    "    )\n",
    "\n",
    "    loss_history_train += [mean_train_loss]\n",
    "\n",
    "    mean_test_loss, test_true_y, test_pred_y = eval_epoch(\n",
    "        model,\n",
    "        test_loader,\n",
    "        device,\n",
    "        criterion\n",
    "    )\n",
    "    loss_history_test += [mean_test_loss]\n",
    "\n",
    "    # use accuracy manager to calc accuracy metrics and save them\n",
    "    accuracy_protocoller.calc_and_collect(\n",
    "        config_id=\"t1\",\n",
    "        epoch=epoch+1,\n",
    "        train_y_true=train_true_y,\n",
    "        train_y_pred=train_pred_y,\n",
    "        train_loss=mean_train_loss,\n",
    "        test_y_true=test_true_y,\n",
    "        test_y_pred=test_pred_y,\n",
    "        test_loss=mean_test_loss,\n",
    "    )\n",
    "\n",
    "    # check if model is better and save it\n",
    "    if epoch_control.retain_best_and_stop(model, mean_train_loss, mean_test_loss, config):\n",
    "        break"
   ],
   "metadata": {
    "collapsed": false,
    "ExecuteTime": {
     "start_time": "2023-10-30T17:26:12.487857Z",
     "end_time": "2023-10-30T17:27:40.973667Z"
    }
   }
  },
  {
   "cell_type": "code",
   "execution_count": 23,
   "outputs": [
    {
     "data": {
      "text/plain": "   config_id   epoch   train_loss   val_loss   test_loss    train_mse  \\\n0         t1       1  2048.504150        0.0   36.359035  2050.812012   \n1         t1       2    39.551361        0.0   47.866241    39.540218   \n2         t1       3    40.715530        0.0   43.749638    40.735943   \n3         t1       4    40.643154        0.0   46.245281    40.646698   \n4         t1       5    40.565376        0.0   38.639713    40.573723   \n5         t1       6    41.575642        0.0   40.348053    41.580856   \n6         t1       7    41.469261        0.0   36.107948    41.448669   \n7         t1       8    39.815559        0.0   36.936600    39.824581   \n8         t1       9    40.915134        0.0   36.911659    40.907856   \n9         t1      10    42.473465        0.0   37.139339    42.490269   \n10        t1      11    42.889523        0.0   36.377838    42.895706   \n11        t1      12    41.414597        0.0   41.297585    41.438034   \n12        t1      13    40.773964        0.0   36.157459    40.778973   \n\n     train_msa   val_mse   val_msa   test_mse   test_msa  \n0    14.197355       0.0       0.0  36.451962   4.781710  \n1     5.020311       0.0       0.0  47.975540   5.470905  \n2     5.079148       0.0       0.0  43.856499   5.215065  \n3     5.100926       0.0       0.0  46.353542   5.368684  \n4     5.093019       0.0       0.0  38.740688   4.897344  \n5     5.146065       0.0       0.0  40.432728   5.121716  \n6     5.156096       0.0       0.0  36.200245   4.766918  \n7     5.054956       0.0       0.0  37.024567   4.848920  \n8     5.124048       0.0       0.0  37.009132   4.793012  \n9     5.216657       0.0       0.0  37.225552   4.868730  \n10    5.233891       0.0       0.0  36.474510   4.761652  \n11    5.139911       0.0       0.0  41.375626   5.198660  \n12    5.097645       0.0       0.0  36.243752   4.784393  ",
      "text/html": "<div>\n<style scoped>\n    .dataframe tbody tr th:only-of-type {\n        vertical-align: middle;\n    }\n\n    .dataframe tbody tr th {\n        vertical-align: top;\n    }\n\n    .dataframe thead th {\n        text-align: right;\n    }\n</style>\n<table border=\"1\" class=\"dataframe\">\n  <thead>\n    <tr style=\"text-align: right;\">\n      <th></th>\n      <th>config_id</th>\n      <th>epoch</th>\n      <th>train_loss</th>\n      <th>val_loss</th>\n      <th>test_loss</th>\n      <th>train_mse</th>\n      <th>train_msa</th>\n      <th>val_mse</th>\n      <th>val_msa</th>\n      <th>test_mse</th>\n      <th>test_msa</th>\n    </tr>\n  </thead>\n  <tbody>\n    <tr>\n      <th>0</th>\n      <td>t1</td>\n      <td>1</td>\n      <td>2048.504150</td>\n      <td>0.0</td>\n      <td>36.359035</td>\n      <td>2050.812012</td>\n      <td>14.197355</td>\n      <td>0.0</td>\n      <td>0.0</td>\n      <td>36.451962</td>\n      <td>4.781710</td>\n    </tr>\n    <tr>\n      <th>1</th>\n      <td>t1</td>\n      <td>2</td>\n      <td>39.551361</td>\n      <td>0.0</td>\n      <td>47.866241</td>\n      <td>39.540218</td>\n      <td>5.020311</td>\n      <td>0.0</td>\n      <td>0.0</td>\n      <td>47.975540</td>\n      <td>5.470905</td>\n    </tr>\n    <tr>\n      <th>2</th>\n      <td>t1</td>\n      <td>3</td>\n      <td>40.715530</td>\n      <td>0.0</td>\n      <td>43.749638</td>\n      <td>40.735943</td>\n      <td>5.079148</td>\n      <td>0.0</td>\n      <td>0.0</td>\n      <td>43.856499</td>\n      <td>5.215065</td>\n    </tr>\n    <tr>\n      <th>3</th>\n      <td>t1</td>\n      <td>4</td>\n      <td>40.643154</td>\n      <td>0.0</td>\n      <td>46.245281</td>\n      <td>40.646698</td>\n      <td>5.100926</td>\n      <td>0.0</td>\n      <td>0.0</td>\n      <td>46.353542</td>\n      <td>5.368684</td>\n    </tr>\n    <tr>\n      <th>4</th>\n      <td>t1</td>\n      <td>5</td>\n      <td>40.565376</td>\n      <td>0.0</td>\n      <td>38.639713</td>\n      <td>40.573723</td>\n      <td>5.093019</td>\n      <td>0.0</td>\n      <td>0.0</td>\n      <td>38.740688</td>\n      <td>4.897344</td>\n    </tr>\n    <tr>\n      <th>5</th>\n      <td>t1</td>\n      <td>6</td>\n      <td>41.575642</td>\n      <td>0.0</td>\n      <td>40.348053</td>\n      <td>41.580856</td>\n      <td>5.146065</td>\n      <td>0.0</td>\n      <td>0.0</td>\n      <td>40.432728</td>\n      <td>5.121716</td>\n    </tr>\n    <tr>\n      <th>6</th>\n      <td>t1</td>\n      <td>7</td>\n      <td>41.469261</td>\n      <td>0.0</td>\n      <td>36.107948</td>\n      <td>41.448669</td>\n      <td>5.156096</td>\n      <td>0.0</td>\n      <td>0.0</td>\n      <td>36.200245</td>\n      <td>4.766918</td>\n    </tr>\n    <tr>\n      <th>7</th>\n      <td>t1</td>\n      <td>8</td>\n      <td>39.815559</td>\n      <td>0.0</td>\n      <td>36.936600</td>\n      <td>39.824581</td>\n      <td>5.054956</td>\n      <td>0.0</td>\n      <td>0.0</td>\n      <td>37.024567</td>\n      <td>4.848920</td>\n    </tr>\n    <tr>\n      <th>8</th>\n      <td>t1</td>\n      <td>9</td>\n      <td>40.915134</td>\n      <td>0.0</td>\n      <td>36.911659</td>\n      <td>40.907856</td>\n      <td>5.124048</td>\n      <td>0.0</td>\n      <td>0.0</td>\n      <td>37.009132</td>\n      <td>4.793012</td>\n    </tr>\n    <tr>\n      <th>9</th>\n      <td>t1</td>\n      <td>10</td>\n      <td>42.473465</td>\n      <td>0.0</td>\n      <td>37.139339</td>\n      <td>42.490269</td>\n      <td>5.216657</td>\n      <td>0.0</td>\n      <td>0.0</td>\n      <td>37.225552</td>\n      <td>4.868730</td>\n    </tr>\n    <tr>\n      <th>10</th>\n      <td>t1</td>\n      <td>11</td>\n      <td>42.889523</td>\n      <td>0.0</td>\n      <td>36.377838</td>\n      <td>42.895706</td>\n      <td>5.233891</td>\n      <td>0.0</td>\n      <td>0.0</td>\n      <td>36.474510</td>\n      <td>4.761652</td>\n    </tr>\n    <tr>\n      <th>11</th>\n      <td>t1</td>\n      <td>12</td>\n      <td>41.414597</td>\n      <td>0.0</td>\n      <td>41.297585</td>\n      <td>41.438034</td>\n      <td>5.139911</td>\n      <td>0.0</td>\n      <td>0.0</td>\n      <td>41.375626</td>\n      <td>5.198660</td>\n    </tr>\n    <tr>\n      <th>12</th>\n      <td>t1</td>\n      <td>13</td>\n      <td>40.773964</td>\n      <td>0.0</td>\n      <td>36.157459</td>\n      <td>40.778973</td>\n      <td>5.097645</td>\n      <td>0.0</td>\n      <td>0.0</td>\n      <td>36.243752</td>\n      <td>4.784393</td>\n    </tr>\n  </tbody>\n</table>\n</div>"
     },
     "execution_count": 23,
     "metadata": {},
     "output_type": "execute_result"
    }
   ],
   "source": [
    "pd.read_csv(os.path.join(SAVING_PATH, ACCURACY_SAVING_NAME))"
   ],
   "metadata": {
    "collapsed": false,
    "ExecuteTime": {
     "start_time": "2023-10-30T17:27:40.974397Z",
     "end_time": "2023-10-30T17:27:40.992347Z"
    }
   }
  },
  {
   "cell_type": "code",
   "execution_count": 24,
   "outputs": [
    {
     "data": {
      "text/plain": "[tensor(2048.5042),\n tensor(39.5514),\n tensor(40.7155),\n tensor(40.6432),\n tensor(40.5654),\n tensor(41.5756),\n tensor(41.4693),\n tensor(39.8156),\n tensor(40.9151),\n tensor(42.4735),\n tensor(42.8895),\n tensor(41.4146),\n tensor(40.7740)]"
     },
     "execution_count": 24,
     "metadata": {},
     "output_type": "execute_result"
    }
   ],
   "source": [
    "loss_history_train"
   ],
   "metadata": {
    "collapsed": false,
    "ExecuteTime": {
     "start_time": "2023-10-30T17:27:40.990539Z",
     "end_time": "2023-10-30T17:27:41.024723Z"
    }
   }
  },
  {
   "cell_type": "code",
   "execution_count": 25,
   "outputs": [
    {
     "data": {
      "text/plain": "[tensor(36.3590),\n tensor(47.8662),\n tensor(43.7496),\n tensor(46.2453),\n tensor(38.6397),\n tensor(40.3481),\n tensor(36.1079),\n tensor(36.9366),\n tensor(36.9117),\n tensor(37.1393),\n tensor(36.3778),\n tensor(41.2976),\n tensor(36.1575)]"
     },
     "execution_count": 25,
     "metadata": {},
     "output_type": "execute_result"
    }
   ],
   "source": [
    "loss_history_test"
   ],
   "metadata": {
    "collapsed": false,
    "ExecuteTime": {
     "start_time": "2023-10-30T17:27:41.007456Z",
     "end_time": "2023-10-30T17:27:41.056948Z"
    }
   }
  },
  {
   "cell_type": "code",
   "execution_count": 26,
   "outputs": [
    {
     "data": {
      "text/plain": "<Figure size 640x480 with 1 Axes>",
      "image/png": "[encoded data removed]"
     },
     "metadata": {},
     "output_type": "display_data"
    }
   ],
   "source": [
    "plt.figure()\n",
    "idx = np.arange(len(loss_history_train))\n",
    "offset = 1\n",
    "plt.plot(idx[offset:], loss_history_train[offset:], label=\"train-loss\")\n",
    "plt.plot(idx[offset:], loss_history_test[offset:], label=\"test-loss\")\n",
    "plt.title(\"Loss plot\")\n",
    "plt.xlabel(\"Epoch\")\n",
    "plt.ylabel(\"mean loss value\")\n",
    "plt.legend()\n",
    "plt.show()"
   ],
   "metadata": {
    "collapsed": false,
    "ExecuteTime": {
     "start_time": "2023-10-30T17:27:41.024723Z",
     "end_time": "2023-10-30T17:27:41.141290Z"
    }
   }
  },
  {
   "cell_type": "code",
   "execution_count": 27,
   "outputs": [],
   "source": [
    "test_loss = torch.nn.CrossEntropyLoss()"
   ],
   "metadata": {
    "collapsed": false,
    "ExecuteTime": {
     "start_time": "2023-10-30T17:27:41.141290Z",
     "end_time": "2023-10-30T17:27:41.157234Z"
    }
   }
  },
  {
   "cell_type": "code",
   "execution_count": 28,
   "outputs": [],
   "source": [
    "label = torch.tensor([0., 1.,2.,3.,4.])\n",
    "pred = torch.tensor([1.1, 1., 2., 2., 4.])"
   ],
   "metadata": {
    "collapsed": false,
    "ExecuteTime": {
     "start_time": "2023-10-30T17:27:41.157234Z",
     "end_time": "2023-10-30T17:27:41.190596Z"
    }
   }
  },
  {
   "cell_type": "code",
   "execution_count": 29,
   "outputs": [
    {
     "data": {
      "text/plain": "tensor(16.1880)"
     },
     "execution_count": 29,
     "metadata": {},
     "output_type": "execute_result"
    }
   ],
   "source": [
    "test_loss(pred, label)"
   ],
   "metadata": {
    "collapsed": false,
    "ExecuteTime": {
     "start_time": "2023-10-30T17:27:41.174369Z",
     "end_time": "2023-10-30T17:27:41.190596Z"
    }
   }
  },
  {
   "cell_type": "markdown",
   "source": [
    "todo:\n",
    "- build option for classification instead of regression\n",
    "- either still predict number or make softmax classification"
   ],
   "metadata": {
    "collapsed": false
   }
  },
  {
   "cell_type": "markdown",
   "source": [
    "## Test/Debug"
   ],
   "metadata": {
    "collapsed": false
   }
  },
  {
   "cell_type": "markdown",
   "source": [
    "with open(\"test1.txt\", \"w\") as file:\n",
    "    file.write(\"config_id, epoch\\n\")\n",
    "    file.write(\"0,1\")"
   ],
   "metadata": {
    "collapsed": false
   }
  },
  {
   "cell_type": "markdown",
   "source": [
    "with open(\"test1.txt\", \"a\") as file:\n",
    "    file.write(f\"\\n\")"
   ],
   "metadata": {
    "collapsed": false
   }
  },
  {
   "cell_type": "markdown",
   "source": [
    "import pandas as pd\n",
    "\n",
    "pd.read_csv(\"test1.txt\")"
   ],
   "metadata": {
    "collapsed": false
   }
  },
  {
   "cell_type": "markdown",
   "source": [
    "for x,y in train_loader:\n",
    "    break"
   ],
   "metadata": {
    "collapsed": false
   }
  },
  {
   "cell_type": "markdown",
   "source": [
    "x.shape"
   ],
   "metadata": {
    "collapsed": false
   }
  },
  {
   "cell_type": "markdown",
   "source": [
    "x"
   ],
   "metadata": {
    "collapsed": false
   }
  },
  {
   "cell_type": "markdown",
   "source": [
    "y.shape"
   ],
   "metadata": {
    "collapsed": false
   }
  },
  {
   "cell_type": "markdown",
   "source": [
    "y"
   ],
   "metadata": {
    "collapsed": false
   }
  },
  {
   "cell_type": "markdown",
   "source": [
    "for i in range(1000):\n",
    "    optimizer.zero_grad()\n",
    "    prediction = model(x).flatten()\n",
    "    loss = criterion(prediction, y)\n",
    "    print(f\"Epoch:{i+1} - loss:{loss}\")\n",
    "    loss.backward()\n",
    "    optimizer.step()"
   ],
   "metadata": {
    "collapsed": false
   }
  },
  {
   "cell_type": "markdown",
   "source": [
    "y"
   ],
   "metadata": {
    "collapsed": false
   }
  },
  {
   "cell_type": "markdown",
   "source": [
    "model(x).flatten()"
   ],
   "metadata": {
    "collapsed": false
   }
  }
 ],
 "metadata": {
  "kernelspec": {
   "display_name": "Python 3",
   "language": "python",
   "name": "python3"
  },
  "language_info": {
   "codemirror_mode": {
    "name": "ipython",
    "version": 2
   },
   "file_extension": ".py",
   "mimetype": "text/x-python",
   "name": "python",
   "nbconvert_exporter": "python",
   "pygments_lexer": "ipython2",
   "version": "2.7.6"
  }
 },
 "nbformat": 4,
 "nbformat_minor": 0
}
