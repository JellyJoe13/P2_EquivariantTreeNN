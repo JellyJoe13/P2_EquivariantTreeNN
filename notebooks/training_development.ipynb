{
 "cells": [
  {
   "cell_type": "markdown",
   "source": [
    "# Basic Training Scheme development notebook"
   ],
   "metadata": {
    "collapsed": false
   }
  },
  {
   "cell_type": "markdown",
   "source": [
    "## Importing section"
   ],
   "metadata": {
    "collapsed": false
   }
  },
  {
   "cell_type": "code",
   "execution_count": 1,
   "outputs": [],
   "source": [
    "import torch\n",
    "from torch import optim, nn\n",
    "from torch.utils.data import random_split, DataLoader\n",
    "from etnn.data.ferris_wheel import load_pure_ferris_wheel_dataset\n",
    "from etnn.data.tree_structure import TreeNode\n",
    "from etnn.nn.layer_framework import LayerManagementFramework\n",
    "from tqdm import tqdm\n",
    "import matplotlib.pyplot as plt\n",
    "from etnn.tools.training import train_epoch, eval_epoch\n",
    "from etnn.tools.training_tools import EpochControl, ConfigStore, AccuracyManager, seeding_all\n",
    "from etnn.tools.loader import create_sampler"
   ],
   "metadata": {
    "collapsed": false,
    "ExecuteTime": {
     "start_time": "2023-11-11T15:15:59.369519Z",
     "end_time": "2023-11-11T15:16:01.250727Z"
    }
   }
  },
  {
   "cell_type": "code",
   "execution_count": 2,
   "outputs": [],
   "source": [
    "import numpy as np\n",
    "import pandas as pd\n",
    "import os"
   ],
   "metadata": {
    "collapsed": false,
    "ExecuteTime": {
     "start_time": "2023-11-11T15:16:01.251726Z",
     "end_time": "2023-11-11T15:16:01.266051Z"
    }
   }
  },
  {
   "cell_type": "markdown",
   "source": [
    "## Parameter definition"
   ],
   "metadata": {
    "collapsed": false
   }
  },
  {
   "cell_type": "code",
   "execution_count": 3,
   "outputs": [],
   "source": [
    "DATASET_PATH = \"../datasets\""
   ],
   "metadata": {
    "collapsed": false,
    "ExecuteTime": {
     "start_time": "2023-11-11T15:16:01.267053Z",
     "end_time": "2023-11-11T15:16:01.284465Z"
    }
   }
  },
  {
   "cell_type": "code",
   "execution_count": 4,
   "outputs": [],
   "source": [
    "val_perc = 0.1\n",
    "# todo: swap with artificially created testset (produced through permutations directly from trainset (hence directly learned)\n",
    "test_perc = 0.2"
   ],
   "metadata": {
    "collapsed": false,
    "ExecuteTime": {
     "start_time": "2023-11-11T15:16:01.282466Z",
     "end_time": "2023-11-11T15:16:01.297475Z"
    }
   }
  },
  {
   "cell_type": "code",
   "execution_count": 5,
   "outputs": [],
   "source": [
    "SAVING_PATH = \".\"\n",
    "MODEL_SAVING_NAME = \"model.pt\""
   ],
   "metadata": {
    "collapsed": false,
    "ExecuteTime": {
     "start_time": "2023-11-11T15:16:01.297475Z",
     "end_time": "2023-11-11T15:16:01.316784Z"
    }
   }
  },
  {
   "cell_type": "code",
   "execution_count": 6,
   "outputs": [],
   "source": [
    "CONFIG_SAVING_NAME = \"config.json\"\n",
    "ACCURACY_SAVING_NAME = \"accuracies.csv\"\n",
    "RESULTS_FOLDER = \".\""
   ],
   "metadata": {
    "collapsed": false,
    "ExecuteTime": {
     "start_time": "2023-11-11T15:16:01.313785Z",
     "end_time": "2023-11-11T15:16:01.328785Z"
    }
   }
  },
  {
   "cell_type": "code",
   "execution_count": 7,
   "outputs": [],
   "source": [
    "# todo: make storage system for configs and results\n",
    "config = ConfigStore(\n",
    "    in_dim=15,\n",
    "    hidden_dim=128,\n",
    "    out_dim=1,\n",
    "    k=2,\n",
    "    dataset=0,\n",
    "    ds_size=10_000,\n",
    "    num_gondolas=10,\n",
    "    num_part_pg=5,\n",
    "    loss_name='mse',\n",
    "    optimizer_name='adam',\n",
    "    num_max_epochs=100, # old: 20\n",
    "    learning_rate=0.001,\n",
    "    batch_size=1024,\n",
    "    early_stop_tol=5,\n",
    "    use_equal_batcher=False,\n",
    "    seed=420,\n",
    ")"
   ],
   "metadata": {
    "collapsed": false,
    "ExecuteTime": {
     "start_time": "2023-11-11T15:16:01.329785Z",
     "end_time": "2023-11-11T15:16:01.347137Z"
    }
   }
  },
  {
   "cell_type": "markdown",
   "source": [
    "## data preparation"
   ],
   "metadata": {
    "collapsed": false
   }
  },
  {
   "cell_type": "code",
   "execution_count": 8,
   "outputs": [],
   "source": [
    "if config.dataset == 0:\n",
    "    dataset, df_index = load_pure_ferris_wheel_dataset(\n",
    "        num_gondolas=config.num_gondolas,\n",
    "        num_part_pg=config.num_part_pg,\n",
    "        num_to_generate=config.ds_size,\n",
    "        dataset_path=DATASET_PATH\n",
    "    )\n",
    "else:\n",
    "    raise Exception(\"wrong selection\")"
   ],
   "metadata": {
    "collapsed": false,
    "ExecuteTime": {
     "start_time": "2023-11-11T15:16:01.345139Z",
     "end_time": "2023-11-11T15:16:01.378270Z"
    }
   }
  },
  {
   "cell_type": "code",
   "execution_count": 9,
   "outputs": [
    {
     "data": {
      "text/plain": "10000"
     },
     "execution_count": 9,
     "metadata": {},
     "output_type": "execute_result"
    }
   ],
   "source": [
    "len(dataset)"
   ],
   "metadata": {
    "collapsed": false,
    "ExecuteTime": {
     "start_time": "2023-11-11T15:16:01.376269Z",
     "end_time": "2023-11-11T15:16:01.393314Z"
    }
   }
  },
  {
   "cell_type": "code",
   "execution_count": 10,
   "outputs": [],
   "source": [
    "generator = torch.Generator().manual_seed(420)\n",
    "train_ds, val_ds, test_ds = random_split(\n",
    "    dataset,\n",
    "    [1-val_perc-test_perc, val_perc, test_perc],\n",
    "    generator=generator\n",
    ")"
   ],
   "metadata": {
    "collapsed": false,
    "ExecuteTime": {
     "start_time": "2023-11-11T15:16:01.392268Z",
     "end_time": "2023-11-11T15:16:01.420443Z"
    }
   }
  },
  {
   "cell_type": "code",
   "execution_count": 11,
   "outputs": [],
   "source": [
    "if config.use_equal_batcher:\n",
    "    sampler = create_sampler(df_index=df_index, dataset=train_ds)\n",
    "    train_loader = DataLoader(train_ds, batch_size=config.batch_size, sampler=sampler)\n",
    "else:\n",
    "    train_loader = DataLoader(train_ds, batch_size=config.batch_size, shuffle=True)\n",
    "\n",
    "val_loader = DataLoader(val_ds, batch_size=config.batch_size, shuffle=False)\n",
    "test_loader = DataLoader(test_ds, batch_size=config.batch_size, shuffle=False)"
   ],
   "metadata": {
    "collapsed": false,
    "ExecuteTime": {
     "start_time": "2023-11-11T15:16:01.405444Z",
     "end_time": "2023-11-11T15:16:01.429443Z"
    }
   }
  },
  {
   "cell_type": "code",
   "execution_count": 12,
   "outputs": [],
   "source": [
    "# todo: check which score should be used for early stopping and how to get it\n",
    "# todo: add more tree mutated sequences that are in dataset\n",
    "# todo: add some faulty sequences which disturb this and see how much this affects the training"
   ],
   "metadata": {
    "collapsed": false,
    "ExecuteTime": {
     "start_time": "2023-11-11T15:16:01.422444Z",
     "end_time": "2023-11-11T15:16:01.437444Z"
    }
   }
  },
  {
   "cell_type": "markdown",
   "source": [
    "## Build tree structure"
   ],
   "metadata": {
    "collapsed": false
   }
  },
  {
   "cell_type": "code",
   "execution_count": 13,
   "outputs": [],
   "source": [
    "tree_structure = TreeNode(\n",
    "    node_type=\"C\",\n",
    "    children=[\n",
    "        TreeNode(\"P\", [TreeNode(\"E\", config.num_part_pg)])\n",
    "        for _ in range(config.num_gondolas)\n",
    "    ]\n",
    ")"
   ],
   "metadata": {
    "collapsed": false,
    "ExecuteTime": {
     "start_time": "2023-11-11T15:16:01.438443Z",
     "end_time": "2023-11-11T15:16:01.456443Z"
    }
   }
  },
  {
   "cell_type": "markdown",
   "source": [
    "## Define device"
   ],
   "metadata": {
    "collapsed": false
   }
  },
  {
   "cell_type": "code",
   "execution_count": 14,
   "outputs": [],
   "source": [
    "device = \"cuda\" if torch.cuda.is_available() else \"cpu\""
   ],
   "metadata": {
    "collapsed": false,
    "ExecuteTime": {
     "start_time": "2023-11-11T15:16:01.453443Z",
     "end_time": "2023-11-11T15:16:01.482443Z"
    }
   }
  },
  {
   "cell_type": "code",
   "execution_count": 15,
   "outputs": [],
   "source": [
    "# device = 'cpu'"
   ],
   "metadata": {
    "collapsed": false,
    "ExecuteTime": {
     "start_time": "2023-11-11T15:16:01.467444Z",
     "end_time": "2023-11-11T15:16:01.513443Z"
    }
   }
  },
  {
   "cell_type": "code",
   "execution_count": 16,
   "outputs": [
    {
     "data": {
      "text/plain": "'cuda'"
     },
     "execution_count": 16,
     "metadata": {},
     "output_type": "execute_result"
    }
   ],
   "source": [
    "device"
   ],
   "metadata": {
    "collapsed": false,
    "ExecuteTime": {
     "start_time": "2023-11-11T15:16:01.484443Z",
     "end_time": "2023-11-11T15:16:01.520444Z"
    }
   }
  },
  {
   "cell_type": "markdown",
   "source": [
    "## Set seeds for reproducibility"
   ],
   "metadata": {
    "collapsed": false
   }
  },
  {
   "cell_type": "code",
   "execution_count": 17,
   "outputs": [],
   "source": [
    "seeding_all(config.seed)"
   ],
   "metadata": {
    "collapsed": false,
    "ExecuteTime": {
     "start_time": "2023-11-11T15:16:01.498444Z",
     "end_time": "2023-11-11T15:16:01.521444Z"
    }
   }
  },
  {
   "cell_type": "markdown",
   "source": [
    "## Define Model"
   ],
   "metadata": {
    "collapsed": false
   }
  },
  {
   "cell_type": "code",
   "execution_count": 18,
   "outputs": [],
   "source": [
    "model = LayerManagementFramework(\n",
    "    in_dim=config.in_dim,\n",
    "    tree=tree_structure,\n",
    "    hidden_dim=config.hidden_dim,\n",
    "    out_dim=config.out_dim,\n",
    "    k=config.k\n",
    ").to(device)"
   ],
   "metadata": {
    "collapsed": false,
    "ExecuteTime": {
     "start_time": "2023-11-11T15:16:01.514444Z",
     "end_time": "2023-11-11T15:16:02.594080Z"
    }
   }
  },
  {
   "cell_type": "code",
   "execution_count": 19,
   "outputs": [],
   "source": [
    "#from etnn.nn.baseline import create_baseline_model, calc_params\n",
    "#model, _ =  create_baseline_model(\n",
    "#    n_params=calc_params(model),\n",
    "#    input_dim=config.in_dim * NUM_GONDOLAS * NUM_PART_PG,\n",
    "#    n_layer=3,\n",
    "#    output_dim=1\n",
    "#)\n",
    "#model = model.to(device)"
   ],
   "metadata": {
    "collapsed": false,
    "ExecuteTime": {
     "start_time": "2023-11-11T15:16:02.594080Z",
     "end_time": "2023-11-11T15:16:02.608084Z"
    }
   }
  },
  {
   "cell_type": "code",
   "execution_count": 20,
   "outputs": [
    {
     "data": {
      "text/plain": "LayerManagementFramework(\n  (embedding_layer): Linear(in_features=15, out_features=128, bias=True)\n  (tree_layer_c): ChiralNodeNetworkTypeC(\n    (k_layers): ModuleList(\n      (0-1): 2 x Linear(in_features=128, out_features=128, bias=True)\n    )\n    (final_layer_elu): ELU(alpha=1.0)\n    (final_layer_linear): Linear(in_features=128, out_features=128, bias=True)\n  )\n  (tree_layer_p): ChiralNodeNetworkTypeP(\n    (k_layers): ModuleList(\n      (0): Linear(in_features=128, out_features=128, bias=True)\n    )\n    (final_layer_elu): ELU(alpha=1.0)\n    (final_layer_linear): Linear(in_features=128, out_features=128, bias=True)\n  )\n  (reduction_layers): ModuleList(\n    (0): Linear(in_features=128, out_features=64, bias=True)\n    (1): ReLU()\n    (2): Linear(in_features=64, out_features=32, bias=True)\n    (3): ReLU()\n    (4): Linear(in_features=32, out_features=1, bias=True)\n  )\n)"
     },
     "execution_count": 20,
     "metadata": {},
     "output_type": "execute_result"
    }
   ],
   "source": [
    "model"
   ],
   "metadata": {
    "collapsed": false,
    "ExecuteTime": {
     "start_time": "2023-11-11T15:16:02.608084Z",
     "end_time": "2023-11-11T15:16:02.654303Z"
    }
   }
  },
  {
   "cell_type": "markdown",
   "source": [
    "## Define Loss and Optimizers"
   ],
   "metadata": {
    "collapsed": false
   }
  },
  {
   "cell_type": "code",
   "execution_count": 21,
   "outputs": [],
   "source": [
    "if config.loss_name == 'mse':\n",
    "    criterion = nn.MSELoss()\n",
    "else:\n",
    "    raise Exception(\"wrong selection\")"
   ],
   "metadata": {
    "collapsed": false,
    "ExecuteTime": {
     "start_time": "2023-11-11T15:16:02.624061Z",
     "end_time": "2023-11-11T15:16:02.662305Z"
    }
   }
  },
  {
   "cell_type": "code",
   "execution_count": 22,
   "outputs": [],
   "source": [
    "if config.optimizer_name == 'adam':\n",
    "    optimizer = optim.Adam(model.parameters(), lr=config.learning_rate)\n",
    "elif config.optimizer_name == 'sgd':\n",
    "    optimizer = optim.SGD(model.parameters(), lr=config.learning_rate, momentum=0.9)\n",
    "else:\n",
    "    raise Exception(\"wrong selection\")"
   ],
   "metadata": {
    "collapsed": false,
    "ExecuteTime": {
     "start_time": "2023-11-11T15:16:02.641061Z",
     "end_time": "2023-11-11T15:16:02.811213Z"
    }
   }
  },
  {
   "cell_type": "markdown",
   "source": [
    "## Training"
   ],
   "metadata": {
    "collapsed": false
   }
  },
  {
   "cell_type": "code",
   "execution_count": 23,
   "outputs": [],
   "source": [
    "epoch_control = EpochControl(\n",
    "    model_save_name=MODEL_SAVING_NAME,\n",
    "    config_save_name=CONFIG_SAVING_NAME,\n",
    "    saving_folder_path=SAVING_PATH,\n",
    "    tolerance=config.early_stop_tol,\n",
    "    is_accuracy_score=False\n",
    ")"
   ],
   "metadata": {
    "collapsed": false,
    "ExecuteTime": {
     "start_time": "2023-11-11T15:16:02.812216Z",
     "end_time": "2023-11-11T15:16:02.825216Z"
    }
   }
  },
  {
   "cell_type": "code",
   "execution_count": 24,
   "outputs": [],
   "source": [
    "accuracy_protocoller = AccuracyManager(\n",
    "    storage_name=ACCURACY_SAVING_NAME,\n",
    "    storage_path=RESULTS_FOLDER,\n",
    "    is_classification=False\n",
    ")"
   ],
   "metadata": {
    "collapsed": false,
    "ExecuteTime": {
     "start_time": "2023-11-11T15:16:02.826599Z",
     "end_time": "2023-11-11T15:16:02.855337Z"
    }
   }
  },
  {
   "cell_type": "code",
   "execution_count": 25,
   "outputs": [
    {
     "name": "stderr",
     "output_type": "stream",
     "text": [
      "  1%|          | 1/100 [00:04<06:51,  4.15s/it]"
     ]
    },
    {
     "name": "stdout",
     "output_type": "stream",
     "text": [
      "++save++\n"
     ]
    },
    {
     "name": "stderr",
     "output_type": "stream",
     "text": [
      "  2%|▏         | 2/100 [00:07<06:00,  3.68s/it]"
     ]
    },
    {
     "name": "stdout",
     "output_type": "stream",
     "text": [
      "++save++\n"
     ]
    },
    {
     "name": "stderr",
     "output_type": "stream",
     "text": [
      "  3%|▎         | 3/100 [00:10<05:48,  3.59s/it]"
     ]
    },
    {
     "name": "stdout",
     "output_type": "stream",
     "text": [
      "++save++\n"
     ]
    },
    {
     "name": "stderr",
     "output_type": "stream",
     "text": [
      "  4%|▍         | 4/100 [00:14<05:44,  3.59s/it]"
     ]
    },
    {
     "name": "stdout",
     "output_type": "stream",
     "text": [
      "++save++\n"
     ]
    },
    {
     "name": "stderr",
     "output_type": "stream",
     "text": [
      "  9%|▉         | 9/100 [00:32<05:28,  3.61s/it]"
     ]
    },
    {
     "name": "stdout",
     "output_type": "stream",
     "text": [
      "++save++\n"
     ]
    },
    {
     "name": "stderr",
     "output_type": "stream",
     "text": [
      " 14%|█▍        | 14/100 [00:50<05:10,  3.61s/it]"
     ]
    },
    {
     "name": "stdout",
     "output_type": "stream",
     "text": [
      "++save++\n"
     ]
    },
    {
     "name": "stderr",
     "output_type": "stream",
     "text": [
      " 15%|█▌        | 15/100 [00:54<05:07,  3.61s/it]"
     ]
    },
    {
     "name": "stdout",
     "output_type": "stream",
     "text": [
      "++save++\n"
     ]
    },
    {
     "name": "stderr",
     "output_type": "stream",
     "text": [
      " 18%|█▊        | 18/100 [01:05<04:56,  3.61s/it]"
     ]
    },
    {
     "name": "stdout",
     "output_type": "stream",
     "text": [
      "++save++\n"
     ]
    },
    {
     "name": "stderr",
     "output_type": "stream",
     "text": [
      " 19%|█▉        | 19/100 [01:08<04:53,  3.62s/it]"
     ]
    },
    {
     "name": "stdout",
     "output_type": "stream",
     "text": [
      "++save++\n"
     ]
    },
    {
     "name": "stderr",
     "output_type": "stream",
     "text": [
      " 22%|██▏       | 22/100 [01:19<04:44,  3.64s/it]"
     ]
    },
    {
     "name": "stdout",
     "output_type": "stream",
     "text": [
      "++save++\n"
     ]
    },
    {
     "name": "stderr",
     "output_type": "stream",
     "text": [
      " 27%|██▋       | 27/100 [01:41<04:34,  3.76s/it]\n"
     ]
    }
   ],
   "source": [
    "# train for N epochs\n",
    "for epoch in tqdm(range(config.num_max_epochs)):\n",
    "    train_mean_loss, train_true_y, train_pred_y = train_epoch(\n",
    "        model,\n",
    "        train_loader,\n",
    "        optimizer,\n",
    "        device,\n",
    "        criterion\n",
    "    )\n",
    "\n",
    "    val_mean_loss, val_true_y, val_pred_y = eval_epoch(\n",
    "        model,\n",
    "        test_loader,\n",
    "        device,\n",
    "        criterion\n",
    "    )\n",
    "\n",
    "    # use accuracy manager to calc accuracy metrics and save them\n",
    "    accuracy_protocoller.calc_and_collect(\n",
    "        config_id=\"t1\",\n",
    "        epoch=epoch+1,\n",
    "        train_y_true=train_true_y,\n",
    "        train_y_pred=train_pred_y,\n",
    "        train_loss=train_mean_loss,\n",
    "        val_y_true=val_true_y,\n",
    "        val_y_pred=val_pred_y,\n",
    "        val_loss=val_mean_loss,\n",
    "    )\n",
    "\n",
    "    # check if model is better and save it\n",
    "    if epoch_control.retain_best_and_stop(model, train_mean_loss, val_mean_loss, config):\n",
    "        break"
   ],
   "metadata": {
    "collapsed": false,
    "ExecuteTime": {
     "start_time": "2023-11-11T15:16:02.843092Z",
     "end_time": "2023-11-11T15:17:44.325195Z"
    }
   }
  },
  {
   "cell_type": "code",
   "execution_count": 26,
   "outputs": [
    {
     "data": {
      "text/plain": "   config_id  epoch    train_loss     val_loss  test_loss     train_mse  \\\n0         t1      1  53935.816406  8375.409180        0.0  55147.187500   \n1         t1      2   2623.327637   590.987610        0.0   2678.745605   \n2         t1      3    335.220032    78.593018        0.0    335.850311   \n3         t1      4    124.027214    36.493187        0.0    124.404106   \n4         t1      5     58.319851    52.471306        0.0     58.455509   \n5         t1      6     49.063576    57.107697        0.0     49.361027   \n6         t1      7     46.130096    44.958847        0.0     46.134956   \n7         t1      8     43.694180    40.030975        0.0     43.701164   \n8         t1      9     39.233856    36.151386        0.0     39.285454   \n9         t1     10     37.698490    38.880421        0.0     37.691742   \n10        t1     11     38.577816    36.276337        0.0     38.522762   \n11        t1     12     38.330112    38.052872        0.0     38.357376   \n12        t1     13     38.402569    37.359188        0.0     38.463058   \n13        t1     14     38.039753    35.877861        0.0     38.049805   \n14        t1     15     37.917023    35.749401        0.0     37.939678   \n15        t1     16     37.199440    35.965622        0.0     37.200108   \n16        t1     17     37.353146    35.874313        0.0     37.278313   \n17        t1     18     37.350010    35.737679        0.0     37.429577   \n18        t1     19     37.273750    35.727047        0.0     37.345531   \n19        t1     20     37.514183    36.477699        0.0     37.490211   \n20        t1     21     38.162518    36.251884        0.0     38.096165   \n21        t1     22     37.563953    35.721649        0.0     37.605465   \n22        t1     23     37.009480    35.991829        0.0     37.109215   \n23        t1     24     37.481991    37.514412        0.0     37.396725   \n24        t1     25     38.134914    36.924000        0.0     38.207047   \n25        t1     26     38.269646    36.873825        0.0     38.306061   \n26        t1     27     39.281239    40.906300        0.0     39.283527   \n27        t1     28     39.268154    38.916122        0.0     39.345463   \n\n     train_msa  train_explained_variance     train_r2      val_mse    val_msa  \\\n0   146.545181              -1693.254028 -1819.481966  8375.533203  91.355606   \n1    45.406162                -84.250870   -87.428961   591.053894  23.465256   \n2    15.156132                -10.056759   -10.086866    78.557022   7.290093   \n3     9.421090                 -3.071617    -3.106745    36.472965   4.804401   \n4     6.132441                 -0.873334    -0.929694    52.460938   5.951287   \n5     5.665234                 -0.600590    -0.629473    57.075619   6.038125   \n6     5.405971                 -0.511547    -0.522976    44.946415   5.451248   \n7     5.282508                 -0.440418    -0.442634    40.015774   5.098516   \n8     5.014954                 -0.296159    -0.296865    36.131950   4.779227   \n9     4.923299                 -0.243998    -0.244255    38.855381   4.911863   \n10    4.963966                 -0.270517    -0.271688    36.253830   4.760232   \n11    4.961809                 -0.266223    -0.266228    38.028149   4.861941   \n12    4.963206                 -0.269690    -0.269717    37.335007   4.819676   \n13    4.940804                 -0.254938    -0.256075    35.857609   4.752328   \n14    4.921983                 -0.252043    -0.252439    35.728401   4.734162   \n15    4.885221                 -0.226957    -0.228025    35.945621   4.762069   \n16    4.888720                 -0.230602    -0.230607    35.852165   4.732722   \n17    4.895336                 -0.234799    -0.235600    35.716595   4.733203   \n18    4.896765                 -0.232779    -0.232826    35.705631   4.729529   \n19    4.904622                 -0.237601    -0.237602    36.454220   4.765820   \n20    4.940892                 -0.257295    -0.257605    36.228672   4.752203   \n21    4.917166                 -0.240309    -0.241406    35.700218   4.730103   \n22    4.876189                 -0.224839    -0.225025    35.968990   4.736639   \n23    4.892857                 -0.233078    -0.234516    37.496063   4.898127   \n24    4.957205                 -0.260976    -0.261265    36.899796   4.790927   \n25    4.962671                 -0.263963    -0.264534    36.849678   4.787826   \n26    5.024203                 -0.295248    -0.296801    40.890251   5.165876   \n27    5.048225                 -0.298273    -0.298846    38.890423   4.911809   \n\n    val_explained_variance      val_r2  test_mse  test_msa  \\\n0                 0.004877 -279.760368       0.0       0.0   \n1                -0.355462  -18.813007       0.0       0.0   \n2                -0.169613   -1.633349       0.0       0.0   \n3                -0.207328   -0.222628       0.0       0.0   \n4                -0.223339   -0.758569       0.0       0.0   \n5                -0.177080   -0.913260       0.0       0.0   \n6                -0.218242   -0.506671       0.0       0.0   \n7                -0.213251   -0.341388       0.0       0.0   \n8                -0.204840   -0.211197       0.0       0.0   \n9                -0.188975   -0.302490       0.0       0.0   \n10               -0.198329   -0.215282       0.0       0.0   \n11               -0.190104   -0.274760       0.0       0.0   \n12               -0.191064   -0.251525       0.0       0.0   \n13               -0.199454   -0.202001       0.0       0.0   \n14               -0.197665   -0.197669       0.0       0.0   \n15               -0.199653   -0.204951       0.0       0.0   \n16               -0.194935   -0.201818       0.0       0.0   \n17               -0.197273   -0.197274       0.0       0.0   \n18               -0.196528   -0.196906       0.0       0.0   \n19               -0.191911   -0.222000       0.0       0.0   \n20               -0.192592   -0.214439       0.0       0.0   \n21               -0.196694   -0.196725       0.0       0.0   \n22               -0.193527   -0.205734       0.0       0.0   \n23               -0.203580   -0.256924       0.0       0.0   \n24               -0.190340   -0.236936       0.0       0.0   \n25               -0.190436   -0.235256       0.0       0.0   \n26               -0.208682   -0.370702       0.0       0.0   \n27               -0.186607   -0.303665       0.0       0.0   \n\n    test_explained_variance  test_r2  \n0                       0.0      0.0  \n1                       0.0      0.0  \n2                       0.0      0.0  \n3                       0.0      0.0  \n4                       0.0      0.0  \n5                       0.0      0.0  \n6                       0.0      0.0  \n7                       0.0      0.0  \n8                       0.0      0.0  \n9                       0.0      0.0  \n10                      0.0      0.0  \n11                      0.0      0.0  \n12                      0.0      0.0  \n13                      0.0      0.0  \n14                      0.0      0.0  \n15                      0.0      0.0  \n16                      0.0      0.0  \n17                      0.0      0.0  \n18                      0.0      0.0  \n19                      0.0      0.0  \n20                      0.0      0.0  \n21                      0.0      0.0  \n22                      0.0      0.0  \n23                      0.0      0.0  \n24                      0.0      0.0  \n25                      0.0      0.0  \n26                      0.0      0.0  \n27                      0.0      0.0  ",
      "text/html": "<div>\n<style scoped>\n    .dataframe tbody tr th:only-of-type {\n        vertical-align: middle;\n    }\n\n    .dataframe tbody tr th {\n        vertical-align: top;\n    }\n\n    .dataframe thead th {\n        text-align: right;\n    }\n</style>\n<table border=\"1\" class=\"dataframe\">\n  <thead>\n    <tr style=\"text-align: right;\">\n      <th></th>\n      <th>config_id</th>\n      <th>epoch</th>\n      <th>train_loss</th>\n      <th>val_loss</th>\n      <th>test_loss</th>\n      <th>train_mse</th>\n      <th>train_msa</th>\n      <th>train_explained_variance</th>\n      <th>train_r2</th>\n      <th>val_mse</th>\n      <th>val_msa</th>\n      <th>val_explained_variance</th>\n      <th>val_r2</th>\n      <th>test_mse</th>\n      <th>test_msa</th>\n      <th>test_explained_variance</th>\n      <th>test_r2</th>\n    </tr>\n  </thead>\n  <tbody>\n    <tr>\n      <th>0</th>\n      <td>t1</td>\n      <td>1</td>\n      <td>53935.816406</td>\n      <td>8375.409180</td>\n      <td>0.0</td>\n      <td>55147.187500</td>\n      <td>146.545181</td>\n      <td>-1693.254028</td>\n      <td>-1819.481966</td>\n      <td>8375.533203</td>\n      <td>91.355606</td>\n      <td>0.004877</td>\n      <td>-279.760368</td>\n      <td>0.0</td>\n      <td>0.0</td>\n      <td>0.0</td>\n      <td>0.0</td>\n    </tr>\n    <tr>\n      <th>1</th>\n      <td>t1</td>\n      <td>2</td>\n      <td>2623.327637</td>\n      <td>590.987610</td>\n      <td>0.0</td>\n      <td>2678.745605</td>\n      <td>45.406162</td>\n      <td>-84.250870</td>\n      <td>-87.428961</td>\n      <td>591.053894</td>\n      <td>23.465256</td>\n      <td>-0.355462</td>\n      <td>-18.813007</td>\n      <td>0.0</td>\n      <td>0.0</td>\n      <td>0.0</td>\n      <td>0.0</td>\n    </tr>\n    <tr>\n      <th>2</th>\n      <td>t1</td>\n      <td>3</td>\n      <td>335.220032</td>\n      <td>78.593018</td>\n      <td>0.0</td>\n      <td>335.850311</td>\n      <td>15.156132</td>\n      <td>-10.056759</td>\n      <td>-10.086866</td>\n      <td>78.557022</td>\n      <td>7.290093</td>\n      <td>-0.169613</td>\n      <td>-1.633349</td>\n      <td>0.0</td>\n      <td>0.0</td>\n      <td>0.0</td>\n      <td>0.0</td>\n    </tr>\n    <tr>\n      <th>3</th>\n      <td>t1</td>\n      <td>4</td>\n      <td>124.027214</td>\n      <td>36.493187</td>\n      <td>0.0</td>\n      <td>124.404106</td>\n      <td>9.421090</td>\n      <td>-3.071617</td>\n      <td>-3.106745</td>\n      <td>36.472965</td>\n      <td>4.804401</td>\n      <td>-0.207328</td>\n      <td>-0.222628</td>\n      <td>0.0</td>\n      <td>0.0</td>\n      <td>0.0</td>\n      <td>0.0</td>\n    </tr>\n    <tr>\n      <th>4</th>\n      <td>t1</td>\n      <td>5</td>\n      <td>58.319851</td>\n      <td>52.471306</td>\n      <td>0.0</td>\n      <td>58.455509</td>\n      <td>6.132441</td>\n      <td>-0.873334</td>\n      <td>-0.929694</td>\n      <td>52.460938</td>\n      <td>5.951287</td>\n      <td>-0.223339</td>\n      <td>-0.758569</td>\n      <td>0.0</td>\n      <td>0.0</td>\n      <td>0.0</td>\n      <td>0.0</td>\n    </tr>\n    <tr>\n      <th>5</th>\n      <td>t1</td>\n      <td>6</td>\n      <td>49.063576</td>\n      <td>57.107697</td>\n      <td>0.0</td>\n      <td>49.361027</td>\n      <td>5.665234</td>\n      <td>-0.600590</td>\n      <td>-0.629473</td>\n      <td>57.075619</td>\n      <td>6.038125</td>\n      <td>-0.177080</td>\n      <td>-0.913260</td>\n      <td>0.0</td>\n      <td>0.0</td>\n      <td>0.0</td>\n      <td>0.0</td>\n    </tr>\n    <tr>\n      <th>6</th>\n      <td>t1</td>\n      <td>7</td>\n      <td>46.130096</td>\n      <td>44.958847</td>\n      <td>0.0</td>\n      <td>46.134956</td>\n      <td>5.405971</td>\n      <td>-0.511547</td>\n      <td>-0.522976</td>\n      <td>44.946415</td>\n      <td>5.451248</td>\n      <td>-0.218242</td>\n      <td>-0.506671</td>\n      <td>0.0</td>\n      <td>0.0</td>\n      <td>0.0</td>\n      <td>0.0</td>\n    </tr>\n    <tr>\n      <th>7</th>\n      <td>t1</td>\n      <td>8</td>\n      <td>43.694180</td>\n      <td>40.030975</td>\n      <td>0.0</td>\n      <td>43.701164</td>\n      <td>5.282508</td>\n      <td>-0.440418</td>\n      <td>-0.442634</td>\n      <td>40.015774</td>\n      <td>5.098516</td>\n      <td>-0.213251</td>\n      <td>-0.341388</td>\n      <td>0.0</td>\n      <td>0.0</td>\n      <td>0.0</td>\n      <td>0.0</td>\n    </tr>\n    <tr>\n      <th>8</th>\n      <td>t1</td>\n      <td>9</td>\n      <td>39.233856</td>\n      <td>36.151386</td>\n      <td>0.0</td>\n      <td>39.285454</td>\n      <td>5.014954</td>\n      <td>-0.296159</td>\n      <td>-0.296865</td>\n      <td>36.131950</td>\n      <td>4.779227</td>\n      <td>-0.204840</td>\n      <td>-0.211197</td>\n      <td>0.0</td>\n      <td>0.0</td>\n      <td>0.0</td>\n      <td>0.0</td>\n    </tr>\n    <tr>\n      <th>9</th>\n      <td>t1</td>\n      <td>10</td>\n      <td>37.698490</td>\n      <td>38.880421</td>\n      <td>0.0</td>\n      <td>37.691742</td>\n      <td>4.923299</td>\n      <td>-0.243998</td>\n      <td>-0.244255</td>\n      <td>38.855381</td>\n      <td>4.911863</td>\n      <td>-0.188975</td>\n      <td>-0.302490</td>\n      <td>0.0</td>\n      <td>0.0</td>\n      <td>0.0</td>\n      <td>0.0</td>\n    </tr>\n    <tr>\n      <th>10</th>\n      <td>t1</td>\n      <td>11</td>\n      <td>38.577816</td>\n      <td>36.276337</td>\n      <td>0.0</td>\n      <td>38.522762</td>\n      <td>4.963966</td>\n      <td>-0.270517</td>\n      <td>-0.271688</td>\n      <td>36.253830</td>\n      <td>4.760232</td>\n      <td>-0.198329</td>\n      <td>-0.215282</td>\n      <td>0.0</td>\n      <td>0.0</td>\n      <td>0.0</td>\n      <td>0.0</td>\n    </tr>\n    <tr>\n      <th>11</th>\n      <td>t1</td>\n      <td>12</td>\n      <td>38.330112</td>\n      <td>38.052872</td>\n      <td>0.0</td>\n      <td>38.357376</td>\n      <td>4.961809</td>\n      <td>-0.266223</td>\n      <td>-0.266228</td>\n      <td>38.028149</td>\n      <td>4.861941</td>\n      <td>-0.190104</td>\n      <td>-0.274760</td>\n      <td>0.0</td>\n      <td>0.0</td>\n      <td>0.0</td>\n      <td>0.0</td>\n    </tr>\n    <tr>\n      <th>12</th>\n      <td>t1</td>\n      <td>13</td>\n      <td>38.402569</td>\n      <td>37.359188</td>\n      <td>0.0</td>\n      <td>38.463058</td>\n      <td>4.963206</td>\n      <td>-0.269690</td>\n      <td>-0.269717</td>\n      <td>37.335007</td>\n      <td>4.819676</td>\n      <td>-0.191064</td>\n      <td>-0.251525</td>\n      <td>0.0</td>\n      <td>0.0</td>\n      <td>0.0</td>\n      <td>0.0</td>\n    </tr>\n    <tr>\n      <th>13</th>\n      <td>t1</td>\n      <td>14</td>\n      <td>38.039753</td>\n      <td>35.877861</td>\n      <td>0.0</td>\n      <td>38.049805</td>\n      <td>4.940804</td>\n      <td>-0.254938</td>\n      <td>-0.256075</td>\n      <td>35.857609</td>\n      <td>4.752328</td>\n      <td>-0.199454</td>\n      <td>-0.202001</td>\n      <td>0.0</td>\n      <td>0.0</td>\n      <td>0.0</td>\n      <td>0.0</td>\n    </tr>\n    <tr>\n      <th>14</th>\n      <td>t1</td>\n      <td>15</td>\n      <td>37.917023</td>\n      <td>35.749401</td>\n      <td>0.0</td>\n      <td>37.939678</td>\n      <td>4.921983</td>\n      <td>-0.252043</td>\n      <td>-0.252439</td>\n      <td>35.728401</td>\n      <td>4.734162</td>\n      <td>-0.197665</td>\n      <td>-0.197669</td>\n      <td>0.0</td>\n      <td>0.0</td>\n      <td>0.0</td>\n      <td>0.0</td>\n    </tr>\n    <tr>\n      <th>15</th>\n      <td>t1</td>\n      <td>16</td>\n      <td>37.199440</td>\n      <td>35.965622</td>\n      <td>0.0</td>\n      <td>37.200108</td>\n      <td>4.885221</td>\n      <td>-0.226957</td>\n      <td>-0.228025</td>\n      <td>35.945621</td>\n      <td>4.762069</td>\n      <td>-0.199653</td>\n      <td>-0.204951</td>\n      <td>0.0</td>\n      <td>0.0</td>\n      <td>0.0</td>\n      <td>0.0</td>\n    </tr>\n    <tr>\n      <th>16</th>\n      <td>t1</td>\n      <td>17</td>\n      <td>37.353146</td>\n      <td>35.874313</td>\n      <td>0.0</td>\n      <td>37.278313</td>\n      <td>4.888720</td>\n      <td>-0.230602</td>\n      <td>-0.230607</td>\n      <td>35.852165</td>\n      <td>4.732722</td>\n      <td>-0.194935</td>\n      <td>-0.201818</td>\n      <td>0.0</td>\n      <td>0.0</td>\n      <td>0.0</td>\n      <td>0.0</td>\n    </tr>\n    <tr>\n      <th>17</th>\n      <td>t1</td>\n      <td>18</td>\n      <td>37.350010</td>\n      <td>35.737679</td>\n      <td>0.0</td>\n      <td>37.429577</td>\n      <td>4.895336</td>\n      <td>-0.234799</td>\n      <td>-0.235600</td>\n      <td>35.716595</td>\n      <td>4.733203</td>\n      <td>-0.197273</td>\n      <td>-0.197274</td>\n      <td>0.0</td>\n      <td>0.0</td>\n      <td>0.0</td>\n      <td>0.0</td>\n    </tr>\n    <tr>\n      <th>18</th>\n      <td>t1</td>\n      <td>19</td>\n      <td>37.273750</td>\n      <td>35.727047</td>\n      <td>0.0</td>\n      <td>37.345531</td>\n      <td>4.896765</td>\n      <td>-0.232779</td>\n      <td>-0.232826</td>\n      <td>35.705631</td>\n      <td>4.729529</td>\n      <td>-0.196528</td>\n      <td>-0.196906</td>\n      <td>0.0</td>\n      <td>0.0</td>\n      <td>0.0</td>\n      <td>0.0</td>\n    </tr>\n    <tr>\n      <th>19</th>\n      <td>t1</td>\n      <td>20</td>\n      <td>37.514183</td>\n      <td>36.477699</td>\n      <td>0.0</td>\n      <td>37.490211</td>\n      <td>4.904622</td>\n      <td>-0.237601</td>\n      <td>-0.237602</td>\n      <td>36.454220</td>\n      <td>4.765820</td>\n      <td>-0.191911</td>\n      <td>-0.222000</td>\n      <td>0.0</td>\n      <td>0.0</td>\n      <td>0.0</td>\n      <td>0.0</td>\n    </tr>\n    <tr>\n      <th>20</th>\n      <td>t1</td>\n      <td>21</td>\n      <td>38.162518</td>\n      <td>36.251884</td>\n      <td>0.0</td>\n      <td>38.096165</td>\n      <td>4.940892</td>\n      <td>-0.257295</td>\n      <td>-0.257605</td>\n      <td>36.228672</td>\n      <td>4.752203</td>\n      <td>-0.192592</td>\n      <td>-0.214439</td>\n      <td>0.0</td>\n      <td>0.0</td>\n      <td>0.0</td>\n      <td>0.0</td>\n    </tr>\n    <tr>\n      <th>21</th>\n      <td>t1</td>\n      <td>22</td>\n      <td>37.563953</td>\n      <td>35.721649</td>\n      <td>0.0</td>\n      <td>37.605465</td>\n      <td>4.917166</td>\n      <td>-0.240309</td>\n      <td>-0.241406</td>\n      <td>35.700218</td>\n      <td>4.730103</td>\n      <td>-0.196694</td>\n      <td>-0.196725</td>\n      <td>0.0</td>\n      <td>0.0</td>\n      <td>0.0</td>\n      <td>0.0</td>\n    </tr>\n    <tr>\n      <th>22</th>\n      <td>t1</td>\n      <td>23</td>\n      <td>37.009480</td>\n      <td>35.991829</td>\n      <td>0.0</td>\n      <td>37.109215</td>\n      <td>4.876189</td>\n      <td>-0.224839</td>\n      <td>-0.225025</td>\n      <td>35.968990</td>\n      <td>4.736639</td>\n      <td>-0.193527</td>\n      <td>-0.205734</td>\n      <td>0.0</td>\n      <td>0.0</td>\n      <td>0.0</td>\n      <td>0.0</td>\n    </tr>\n    <tr>\n      <th>23</th>\n      <td>t1</td>\n      <td>24</td>\n      <td>37.481991</td>\n      <td>37.514412</td>\n      <td>0.0</td>\n      <td>37.396725</td>\n      <td>4.892857</td>\n      <td>-0.233078</td>\n      <td>-0.234516</td>\n      <td>37.496063</td>\n      <td>4.898127</td>\n      <td>-0.203580</td>\n      <td>-0.256924</td>\n      <td>0.0</td>\n      <td>0.0</td>\n      <td>0.0</td>\n      <td>0.0</td>\n    </tr>\n    <tr>\n      <th>24</th>\n      <td>t1</td>\n      <td>25</td>\n      <td>38.134914</td>\n      <td>36.924000</td>\n      <td>0.0</td>\n      <td>38.207047</td>\n      <td>4.957205</td>\n      <td>-0.260976</td>\n      <td>-0.261265</td>\n      <td>36.899796</td>\n      <td>4.790927</td>\n      <td>-0.190340</td>\n      <td>-0.236936</td>\n      <td>0.0</td>\n      <td>0.0</td>\n      <td>0.0</td>\n      <td>0.0</td>\n    </tr>\n    <tr>\n      <th>25</th>\n      <td>t1</td>\n      <td>26</td>\n      <td>38.269646</td>\n      <td>36.873825</td>\n      <td>0.0</td>\n      <td>38.306061</td>\n      <td>4.962671</td>\n      <td>-0.263963</td>\n      <td>-0.264534</td>\n      <td>36.849678</td>\n      <td>4.787826</td>\n      <td>-0.190436</td>\n      <td>-0.235256</td>\n      <td>0.0</td>\n      <td>0.0</td>\n      <td>0.0</td>\n      <td>0.0</td>\n    </tr>\n    <tr>\n      <th>26</th>\n      <td>t1</td>\n      <td>27</td>\n      <td>39.281239</td>\n      <td>40.906300</td>\n      <td>0.0</td>\n      <td>39.283527</td>\n      <td>5.024203</td>\n      <td>-0.295248</td>\n      <td>-0.296801</td>\n      <td>40.890251</td>\n      <td>5.165876</td>\n      <td>-0.208682</td>\n      <td>-0.370702</td>\n      <td>0.0</td>\n      <td>0.0</td>\n      <td>0.0</td>\n      <td>0.0</td>\n    </tr>\n    <tr>\n      <th>27</th>\n      <td>t1</td>\n      <td>28</td>\n      <td>39.268154</td>\n      <td>38.916122</td>\n      <td>0.0</td>\n      <td>39.345463</td>\n      <td>5.048225</td>\n      <td>-0.298273</td>\n      <td>-0.298846</td>\n      <td>38.890423</td>\n      <td>4.911809</td>\n      <td>-0.186607</td>\n      <td>-0.303665</td>\n      <td>0.0</td>\n      <td>0.0</td>\n      <td>0.0</td>\n      <td>0.0</td>\n    </tr>\n  </tbody>\n</table>\n</div>"
     },
     "execution_count": 26,
     "metadata": {},
     "output_type": "execute_result"
    }
   ],
   "source": [
    "df_measures = pd.read_csv(os.path.join(SAVING_PATH, ACCURACY_SAVING_NAME))\n",
    "df_measures"
   ],
   "metadata": {
    "collapsed": false,
    "ExecuteTime": {
     "start_time": "2023-11-11T15:17:44.326197Z",
     "end_time": "2023-11-11T15:17:44.356513Z"
    }
   }
  },
  {
   "cell_type": "code",
   "execution_count": 27,
   "outputs": [
    {
     "data": {
      "text/plain": "<Figure size 640x480 with 1 Axes>",
      "image/png": "[encoded data removed]"
     },
     "metadata": {},
     "output_type": "display_data"
    },
    {
     "data": {
      "text/plain": "<Figure size 640x480 with 1 Axes>",
      "image/png": "[encoded data removed]"
     },
     "metadata": {},
     "output_type": "display_data"
    },
    {
     "data": {
      "text/plain": "<Figure size 640x480 with 1 Axes>",
      "image/png": "[encoded data removed]"
     },
     "metadata": {},
     "output_type": "display_data"
    }
   ],
   "source": [
    "for what in ['loss', 'r2', 'explained_variance']:\n",
    "    plt.figure()\n",
    "    for config_id in df_measures.config_id.unique():\n",
    "        # make subdataset for config id\n",
    "        sub_df = df_measures[df_measures.config_id == config_id]\n",
    "\n",
    "        # plot train test and val\n",
    "        for mode in ['train', 'test', 'val']:\n",
    "            # plot training\n",
    "            plt.plot(sub_df.epoch, sub_df[f\"{mode}_{what}\"], label=f\"{config_id}_{mode}-{what}\")\n",
    "\n",
    "    plt.title(f\"{what} plot\")\n",
    "    plt.xlabel(\"epoch\")\n",
    "    plt.ylabel(\"score\")\n",
    "    if what == 'r2':\n",
    "        plt.ylim(-1,1)\n",
    "    plt.legend()\n",
    "    plt.show()"
   ],
   "metadata": {
    "collapsed": false,
    "ExecuteTime": {
     "start_time": "2023-11-11T15:17:44.358513Z",
     "end_time": "2023-11-11T15:17:44.631083Z"
    }
   }
  },
  {
   "cell_type": "markdown",
   "source": [
    "## Test/Debug"
   ],
   "metadata": {
    "collapsed": false
   }
  },
  {
   "cell_type": "markdown",
   "source": [
    "with open(\"test1.txt\", \"w\") as file:\n",
    "    file.write(\"config_id, epoch\\n\")\n",
    "    file.write(\"0,1\")"
   ],
   "metadata": {
    "collapsed": false
   }
  },
  {
   "cell_type": "markdown",
   "source": [
    "with open(\"test1.txt\", \"a\") as file:\n",
    "    file.write(f\"\\n\")"
   ],
   "metadata": {
    "collapsed": false
   }
  },
  {
   "cell_type": "markdown",
   "source": [
    "import pandas as pd\n",
    "\n",
    "pd.read_csv(\"test1.txt\")"
   ],
   "metadata": {
    "collapsed": false
   }
  },
  {
   "cell_type": "markdown",
   "source": [
    "for x,y in train_loader:\n",
    "    break"
   ],
   "metadata": {
    "collapsed": false
   }
  },
  {
   "cell_type": "markdown",
   "source": [
    "x.shape"
   ],
   "metadata": {
    "collapsed": false
   }
  },
  {
   "cell_type": "markdown",
   "source": [
    "x"
   ],
   "metadata": {
    "collapsed": false
   }
  },
  {
   "cell_type": "markdown",
   "source": [
    "y.shape"
   ],
   "metadata": {
    "collapsed": false
   }
  },
  {
   "cell_type": "markdown",
   "source": [
    "y"
   ],
   "metadata": {
    "collapsed": false
   }
  },
  {
   "cell_type": "markdown",
   "source": [
    "for i in range(1000):\n",
    "    optimizer.zero_grad()\n",
    "    prediction = model(x).flatten()\n",
    "    loss = criterion(prediction, y)\n",
    "    print(f\"Epoch:{i+1} - loss:{loss}\")\n",
    "    loss.backward()\n",
    "    optimizer.step()"
   ],
   "metadata": {
    "collapsed": false
   }
  },
  {
   "cell_type": "markdown",
   "source": [
    "y"
   ],
   "metadata": {
    "collapsed": false
   }
  },
  {
   "cell_type": "markdown",
   "source": [
    "model(x).flatten()"
   ],
   "metadata": {
    "collapsed": false
   }
  }
 ],
 "metadata": {
  "kernelspec": {
   "display_name": "Python 3",
   "language": "python",
   "name": "python3"
  },
  "language_info": {
   "codemirror_mode": {
    "name": "ipython",
    "version": 2
   },
   "file_extension": ".py",
   "mimetype": "text/x-python",
   "name": "python",
   "nbconvert_exporter": "python",
   "pygments_lexer": "ipython2",
   "version": "2.7.6"
  }
 },
 "nbformat": 4,
 "nbformat_minor": 0
}
