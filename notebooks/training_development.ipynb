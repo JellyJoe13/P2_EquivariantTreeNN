{
 "cells": [
  {
   "cell_type": "markdown",
   "source": [
    "# Basic Training Scheme development notebook"
   ],
   "metadata": {
    "collapsed": false
   }
  },
  {
   "cell_type": "markdown",
   "source": [
    "## Importing section"
   ],
   "metadata": {
    "collapsed": false
   }
  },
  {
   "cell_type": "code",
   "execution_count": 1,
   "outputs": [],
   "source": [
    "import matplotlib.pyplot as plt\n",
    "import torch\n",
    "from torch import optim, nn\n",
    "from torch.utils.data import random_split, DataLoader\n",
    "from tqdm import tqdm\n",
    "\n",
    "from etnn.data.ferris_wheel import load_pure_ferris_wheel_dataset, prepare_pure_test_dataset\n",
    "from etnn.data.tree_structure import TreeNode\n",
    "from etnn.nn.layer_framework import LayerManagementFramework\n",
    "from etnn.tools.loader import create_sampler\n",
    "from etnn.tools.training import train_epoch, eval_epoch\n",
    "from etnn.tools.training_tools import EpochControl, ConfigStore, AccuracyManager, seeding_all"
   ],
   "metadata": {
    "collapsed": false,
    "ExecuteTime": {
     "start_time": "2023-11-11T18:44:53.981718Z",
     "end_time": "2023-11-11T18:44:56.039369Z"
    }
   }
  },
  {
   "cell_type": "code",
   "execution_count": 2,
   "outputs": [],
   "source": [
    "import pandas as pd\n",
    "import os"
   ],
   "metadata": {
    "collapsed": false,
    "ExecuteTime": {
     "start_time": "2023-11-11T18:44:56.038367Z",
     "end_time": "2023-11-11T18:44:56.044873Z"
    }
   }
  },
  {
   "cell_type": "markdown",
   "source": [
    "## Parameter definition"
   ],
   "metadata": {
    "collapsed": false
   }
  },
  {
   "cell_type": "code",
   "execution_count": 3,
   "outputs": [],
   "source": [
    "DATASET_PATH = \"../datasets\""
   ],
   "metadata": {
    "collapsed": false,
    "ExecuteTime": {
     "start_time": "2023-11-11T18:44:58.554361Z",
     "end_time": "2023-11-11T18:44:58.574676Z"
    }
   }
  },
  {
   "cell_type": "code",
   "execution_count": 4,
   "outputs": [],
   "source": [
    "val_perc = 0.3\n",
    "# todo: swap with artificially created testset (produced through permutations directly from trainset (hence directly learned)"
   ],
   "metadata": {
    "collapsed": false,
    "ExecuteTime": {
     "start_time": "2023-11-11T18:44:58.944428Z",
     "end_time": "2023-11-11T18:44:58.962328Z"
    }
   }
  },
  {
   "cell_type": "code",
   "execution_count": 5,
   "outputs": [],
   "source": [
    "MODEL_SAVING_NAME = \"model.pt\""
   ],
   "metadata": {
    "collapsed": false,
    "ExecuteTime": {
     "start_time": "2023-11-11T18:44:59.809019Z",
     "end_time": "2023-11-11T18:44:59.825612Z"
    }
   }
  },
  {
   "cell_type": "code",
   "execution_count": 6,
   "outputs": [],
   "source": [
    "CONFIG_SAVING_NAME = \"config.json\"\n",
    "ACCURACY_SAVING_NAME = \"accuracies.csv\""
   ],
   "metadata": {
    "collapsed": false,
    "ExecuteTime": {
     "start_time": "2023-11-11T18:45:00.959033Z",
     "end_time": "2023-11-11T18:45:00.981050Z"
    }
   }
  },
  {
   "cell_type": "code",
   "execution_count": 7,
   "outputs": [],
   "source": [
    "config = ConfigStore(\n",
    "    in_dim=15,\n",
    "    hidden_dim=128,\n",
    "    out_dim=1,\n",
    "    k=2,\n",
    "    dataset=0,\n",
    "    ds_size=10_000,\n",
    "    num_gondolas=10,\n",
    "    num_part_pg=5,\n",
    "    loss_name='mse',\n",
    "    optimizer_name='adam',\n",
    "    num_max_epochs=100, # old: 20\n",
    "    learning_rate=0.001,\n",
    "    batch_size=1024,\n",
    "    early_stop_tol=5,\n",
    "    use_equal_batcher=False,\n",
    "    seed=420,\n",
    ")"
   ],
   "metadata": {
    "collapsed": false,
    "ExecuteTime": {
     "start_time": "2023-11-11T18:45:01.625044Z",
     "end_time": "2023-11-11T18:45:01.648056Z"
    }
   }
  },
  {
   "cell_type": "code",
   "execution_count": 8,
   "outputs": [],
   "source": [
    "RESULTS_FOLDER = \"../results\"\n",
    "CONFIG_INDEX_NAME = \"config_index.csv\""
   ],
   "metadata": {
    "collapsed": false,
    "ExecuteTime": {
     "start_time": "2023-11-11T18:45:04.938357Z",
     "end_time": "2023-11-11T18:45:04.953862Z"
    }
   }
  },
  {
   "cell_type": "code",
   "execution_count": 9,
   "outputs": [],
   "source": [
    "# aquire saving path\n",
    "if not os.path.exists(RESULTS_FOLDER):\n",
    "    os.mkdir(RESULTS_FOLDER)\n",
    "\n",
    "# create path where the config idx file should be located\n",
    "config_idx_path = os.path.join(RESULTS_FOLDER, CONFIG_INDEX_NAME)\n",
    "\n",
    "# define columns of index table\n",
    "columns=['config_idx'] + list(vars(config).keys())\n",
    "\n",
    "# if the config file exists - load it. else create a blank table\n",
    "if os.path.isfile(config_idx_path):\n",
    "    config_table = pd.read_csv(config_idx_path)\n",
    "else:\n",
    "    config_table = pd.DataFrame(columns=columns)\n",
    "\n",
    "# create new entry\n",
    "new_entry = pd.DataFrame(vars(config), index=[0])\n",
    "\n",
    "# check if config in table already\n",
    "merge = pd.merge(config_table, new_entry, on=columns[1:], how='inner')\n",
    "if len(merge) == 0:\n",
    "    if len(config_table) == 0:\n",
    "        config_idx = 0\n",
    "    else:\n",
    "        config_idx = config_table['config_idx'].max() + 1\n",
    "\n",
    "    # add this config to idx table\n",
    "    new_entry['config_idx'] = config_idx\n",
    "    pd.concat([config_table, new_entry]).to_csv(config_idx_path, index=False)\n",
    "else:\n",
    "    config_idx = merge.iloc[0]['config_idx']"
   ],
   "metadata": {
    "collapsed": false,
    "ExecuteTime": {
     "start_time": "2023-11-11T18:45:05.201881Z",
     "end_time": "2023-11-11T18:45:05.220451Z"
    }
   }
  },
  {
   "cell_type": "code",
   "execution_count": 10,
   "outputs": [
    {
     "data": {
      "text/plain": "0"
     },
     "execution_count": 10,
     "metadata": {},
     "output_type": "execute_result"
    }
   ],
   "source": [
    "config_idx"
   ],
   "metadata": {
    "collapsed": false,
    "ExecuteTime": {
     "start_time": "2023-11-11T18:45:05.503894Z",
     "end_time": "2023-11-11T18:45:05.522993Z"
    }
   }
  },
  {
   "cell_type": "code",
   "execution_count": 11,
   "outputs": [],
   "source": [
    "# if not present create the folder for this run\n",
    "STORAGE_FOLDER = os.path.join(RESULTS_FOLDER, str(config_idx))\n",
    "if not os.path.exists(STORAGE_FOLDER):\n",
    "    os.mkdir(STORAGE_FOLDER)"
   ],
   "metadata": {
    "collapsed": false,
    "ExecuteTime": {
     "start_time": "2023-11-11T18:45:06.034746Z",
     "end_time": "2023-11-11T18:45:06.068277Z"
    }
   }
  },
  {
   "cell_type": "markdown",
   "source": [
    "## data preparation"
   ],
   "metadata": {
    "collapsed": false
   }
  },
  {
   "cell_type": "code",
   "execution_count": 12,
   "outputs": [],
   "source": [
    "#todo: add further with more permutated elements and with invalid elements\n",
    "if config.dataset == 0:\n",
    "    dataset, df_index = load_pure_ferris_wheel_dataset(\n",
    "        num_gondolas=config.num_gondolas,\n",
    "        num_part_pg=config.num_part_pg,\n",
    "        num_to_generate=config.ds_size,\n",
    "        dataset_path=DATASET_PATH\n",
    "    )\n",
    "else:\n",
    "    raise Exception(\"wrong selection\")"
   ],
   "metadata": {
    "collapsed": false,
    "ExecuteTime": {
     "start_time": "2023-11-11T18:45:07.382794Z",
     "end_time": "2023-11-11T18:45:07.418459Z"
    }
   }
  },
  {
   "cell_type": "code",
   "execution_count": 13,
   "outputs": [
    {
     "data": {
      "text/plain": "10000"
     },
     "execution_count": 13,
     "metadata": {},
     "output_type": "execute_result"
    }
   ],
   "source": [
    "len(dataset)"
   ],
   "metadata": {
    "collapsed": false,
    "ExecuteTime": {
     "start_time": "2023-11-11T18:45:07.991952Z",
     "end_time": "2023-11-11T18:45:07.994459Z"
    }
   }
  },
  {
   "cell_type": "code",
   "execution_count": 14,
   "outputs": [],
   "source": [
    "generator = torch.Generator().manual_seed(config.seed)\n",
    "train_ds, val_ds = random_split(\n",
    "    dataset,\n",
    "    [1-val_perc, val_perc],\n",
    "    generator=generator\n",
    ")"
   ],
   "metadata": {
    "collapsed": false,
    "ExecuteTime": {
     "start_time": "2023-11-11T18:45:08.406610Z",
     "end_time": "2023-11-11T18:45:08.421119Z"
    }
   }
  },
  {
   "cell_type": "markdown",
   "source": [
    "## Testset"
   ],
   "metadata": {
    "collapsed": false
   }
  },
  {
   "cell_type": "code",
   "execution_count": 17,
   "outputs": [
    {
     "name": "stderr",
     "output_type": "stream",
     "text": [
      "100%|██████████| 3000/3000 [00:00<00:00, 74694.21it/s]\n"
     ]
    }
   ],
   "source": [
    "test_ds, df_index_test = prepare_pure_test_dataset(\n",
    "    df_index=df_index,\n",
    "    train_indices=train_ds.indices,\n",
    "    num_gondolas=config.num_gondolas,\n",
    "    num_to_generate=len(val_ds),\n",
    "    dataset_path=DATASET_PATH,\n",
    "    seed=3*config.seed + 13\n",
    ")"
   ],
   "metadata": {
    "collapsed": false,
    "ExecuteTime": {
     "start_time": "2023-11-11T18:34:49.457785Z",
     "end_time": "2023-11-11T18:34:49.547549Z"
    }
   }
  },
  {
   "cell_type": "markdown",
   "source": [
    "## Loader"
   ],
   "metadata": {
    "collapsed": false
   }
  },
  {
   "cell_type": "code",
   "execution_count": 15,
   "outputs": [],
   "source": [
    "if config.use_equal_batcher:\n",
    "    sampler = create_sampler(df_index=df_index, dataset=train_ds)\n",
    "    train_loader = DataLoader(train_ds, batch_size=config.batch_size, sampler=sampler)\n",
    "else:\n",
    "    train_loader = DataLoader(train_ds, batch_size=config.batch_size, shuffle=True)\n",
    "\n",
    "val_loader = DataLoader(val_ds, batch_size=config.batch_size*4, shuffle=False)\n",
    "# test_loader = DataLoader(test_ds, batch_size=config.batch_size*4, shuffle=False)"
   ],
   "metadata": {
    "collapsed": false,
    "ExecuteTime": {
     "start_time": "2023-11-11T18:45:16.165478Z",
     "end_time": "2023-11-11T18:45:16.175631Z"
    }
   }
  },
  {
   "cell_type": "code",
   "execution_count": 16,
   "outputs": [],
   "source": [
    "# todo: check which score should be used for early stopping and how to get it\n",
    "# todo: add more tree mutated sequences that are in dataset\n",
    "# todo: add some faulty sequences which disturb this and see how much this affects the training"
   ],
   "metadata": {
    "collapsed": false,
    "ExecuteTime": {
     "start_time": "2023-11-11T18:45:16.646138Z",
     "end_time": "2023-11-11T18:45:16.676667Z"
    }
   }
  },
  {
   "cell_type": "markdown",
   "source": [
    "## Build tree structure"
   ],
   "metadata": {
    "collapsed": false
   }
  },
  {
   "cell_type": "code",
   "execution_count": 17,
   "outputs": [],
   "source": [
    "tree_structure = TreeNode(\n",
    "    node_type=\"C\",\n",
    "    children=[\n",
    "        TreeNode(\"P\", [TreeNode(\"E\", config.num_part_pg)])\n",
    "        for _ in range(config.num_gondolas)\n",
    "    ]\n",
    ")"
   ],
   "metadata": {
    "collapsed": false,
    "ExecuteTime": {
     "start_time": "2023-11-11T18:45:17.634017Z",
     "end_time": "2023-11-11T18:45:17.647436Z"
    }
   }
  },
  {
   "cell_type": "markdown",
   "source": [
    "## Define device"
   ],
   "metadata": {
    "collapsed": false
   }
  },
  {
   "cell_type": "code",
   "execution_count": 18,
   "outputs": [],
   "source": [
    "device = \"cuda\" if torch.cuda.is_available() else \"cpu\""
   ],
   "metadata": {
    "collapsed": false,
    "ExecuteTime": {
     "start_time": "2023-11-11T18:45:18.840817Z",
     "end_time": "2023-11-11T18:45:18.854739Z"
    }
   }
  },
  {
   "cell_type": "code",
   "execution_count": 19,
   "outputs": [],
   "source": [
    "# device = 'cpu'"
   ],
   "metadata": {
    "collapsed": false,
    "ExecuteTime": {
     "start_time": "2023-11-11T18:45:20.079725Z",
     "end_time": "2023-11-11T18:45:20.089235Z"
    }
   }
  },
  {
   "cell_type": "code",
   "execution_count": 20,
   "outputs": [
    {
     "data": {
      "text/plain": "'cuda'"
     },
     "execution_count": 20,
     "metadata": {},
     "output_type": "execute_result"
    }
   ],
   "source": [
    "device"
   ],
   "metadata": {
    "collapsed": false,
    "ExecuteTime": {
     "start_time": "2023-11-11T18:45:20.581733Z",
     "end_time": "2023-11-11T18:45:20.601729Z"
    }
   }
  },
  {
   "cell_type": "markdown",
   "source": [
    "## Set up accuracy saving"
   ],
   "metadata": {
    "collapsed": false
   }
  },
  {
   "cell_type": "code",
   "execution_count": 21,
   "outputs": [],
   "source": [
    "accuracy_protocoller = AccuracyManager(\n",
    "    storage_name=ACCURACY_SAVING_NAME,\n",
    "    storage_path=STORAGE_FOLDER,\n",
    "    is_classification=False\n",
    ")"
   ],
   "metadata": {
    "collapsed": false,
    "ExecuteTime": {
     "start_time": "2023-11-11T18:45:22.253115Z",
     "end_time": "2023-11-11T18:45:22.277241Z"
    }
   }
  },
  {
   "cell_type": "markdown",
   "source": [
    "## Set seeds for reproducibility"
   ],
   "metadata": {
    "collapsed": false
   }
  },
  {
   "cell_type": "code",
   "execution_count": 22,
   "outputs": [],
   "source": [
    "seeding_all(config.seed)"
   ],
   "metadata": {
    "collapsed": false,
    "ExecuteTime": {
     "start_time": "2023-11-11T18:45:23.815189Z",
     "end_time": "2023-11-11T18:45:23.829695Z"
    }
   }
  },
  {
   "cell_type": "markdown",
   "source": [
    "## Define Model"
   ],
   "metadata": {
    "collapsed": false
   }
  },
  {
   "cell_type": "code",
   "execution_count": 23,
   "outputs": [],
   "source": [
    "model = LayerManagementFramework(\n",
    "    in_dim=config.in_dim,\n",
    "    tree=tree_structure,\n",
    "    hidden_dim=config.hidden_dim,\n",
    "    out_dim=config.out_dim,\n",
    "    k=config.k\n",
    ").to(device)"
   ],
   "metadata": {
    "collapsed": false,
    "ExecuteTime": {
     "start_time": "2023-11-11T18:45:24.829982Z",
     "end_time": "2023-11-11T18:45:25.930660Z"
    }
   }
  },
  {
   "cell_type": "markdown",
   "source": [
    "## Define Loss and Optimizers"
   ],
   "metadata": {
    "collapsed": false
   }
  },
  {
   "cell_type": "code",
   "execution_count": 24,
   "outputs": [],
   "source": [
    "if config.loss_name == 'mse':\n",
    "    criterion = nn.MSELoss()\n",
    "else:\n",
    "    raise Exception(\"wrong selection\")"
   ],
   "metadata": {
    "collapsed": false,
    "ExecuteTime": {
     "start_time": "2023-11-11T18:45:25.931659Z",
     "end_time": "2023-11-11T18:45:25.946713Z"
    }
   }
  },
  {
   "cell_type": "code",
   "execution_count": 25,
   "outputs": [],
   "source": [
    "if config.optimizer_name == 'adam':\n",
    "    optimizer = optim.Adam(model.parameters(), lr=config.learning_rate)\n",
    "elif config.optimizer_name == 'sgd':\n",
    "    optimizer = optim.SGD(model.parameters(), lr=config.learning_rate, momentum=0.9)\n",
    "else:\n",
    "    raise Exception(\"wrong selection\")"
   ],
   "metadata": {
    "collapsed": false,
    "ExecuteTime": {
     "start_time": "2023-11-11T18:45:26.365981Z",
     "end_time": "2023-11-11T18:45:26.590825Z"
    }
   }
  },
  {
   "cell_type": "markdown",
   "source": [
    "## Training"
   ],
   "metadata": {
    "collapsed": false
   }
  },
  {
   "cell_type": "code",
   "execution_count": 26,
   "outputs": [],
   "source": [
    "epoch_control = EpochControl(\n",
    "    model_save_name=MODEL_SAVING_NAME,\n",
    "    config_save_name=CONFIG_SAVING_NAME,\n",
    "    saving_folder_path=STORAGE_FOLDER,\n",
    "    tolerance=config.early_stop_tol,\n",
    "    is_accuracy_score=False\n",
    ")"
   ],
   "metadata": {
    "collapsed": false,
    "ExecuteTime": {
     "start_time": "2023-11-11T18:45:28.220502Z",
     "end_time": "2023-11-11T18:45:28.233518Z"
    }
   }
  },
  {
   "cell_type": "code",
   "execution_count": 27,
   "outputs": [
    {
     "name": "stderr",
     "output_type": "stream",
     "text": [
      "  1%|          | 1/100 [00:04<08:14,  4.99s/it]"
     ]
    },
    {
     "name": "stdout",
     "output_type": "stream",
     "text": [
      "++save++\n"
     ]
    },
    {
     "name": "stderr",
     "output_type": "stream",
     "text": [
      "  2%|▏         | 2/100 [00:09<07:18,  4.47s/it]"
     ]
    },
    {
     "name": "stdout",
     "output_type": "stream",
     "text": [
      "++save++\n"
     ]
    },
    {
     "name": "stderr",
     "output_type": "stream",
     "text": [
      "  3%|▎         | 3/100 [00:13<07:02,  4.36s/it]"
     ]
    },
    {
     "name": "stdout",
     "output_type": "stream",
     "text": [
      "++save++\n"
     ]
    },
    {
     "name": "stderr",
     "output_type": "stream",
     "text": [
      "  4%|▍         | 4/100 [00:17<06:48,  4.26s/it]"
     ]
    },
    {
     "name": "stdout",
     "output_type": "stream",
     "text": [
      "++save++\n"
     ]
    },
    {
     "name": "stderr",
     "output_type": "stream",
     "text": [
      "  9%|▉         | 9/100 [00:37<06:12,  4.10s/it]"
     ]
    },
    {
     "name": "stdout",
     "output_type": "stream",
     "text": [
      "++save++\n"
     ]
    },
    {
     "name": "stderr",
     "output_type": "stream",
     "text": [
      " 14%|█▍        | 14/100 [00:57<05:48,  4.05s/it]"
     ]
    },
    {
     "name": "stdout",
     "output_type": "stream",
     "text": [
      "++save++\n"
     ]
    },
    {
     "name": "stderr",
     "output_type": "stream",
     "text": [
      " 15%|█▌        | 15/100 [01:01<05:41,  4.01s/it]"
     ]
    },
    {
     "name": "stdout",
     "output_type": "stream",
     "text": [
      "++save++\n"
     ]
    },
    {
     "name": "stderr",
     "output_type": "stream",
     "text": [
      " 18%|█▊        | 18/100 [01:13<05:32,  4.06s/it]"
     ]
    },
    {
     "name": "stdout",
     "output_type": "stream",
     "text": [
      "++save++\n"
     ]
    },
    {
     "name": "stderr",
     "output_type": "stream",
     "text": [
      " 19%|█▉        | 19/100 [01:17<05:25,  4.01s/it]"
     ]
    },
    {
     "name": "stdout",
     "output_type": "stream",
     "text": [
      "++save++\n"
     ]
    },
    {
     "name": "stderr",
     "output_type": "stream",
     "text": [
      " 24%|██▍       | 24/100 [01:42<05:23,  4.25s/it]\n"
     ]
    }
   ],
   "source": [
    "# train for N epochs\n",
    "for epoch in tqdm(range(config.num_max_epochs)):\n",
    "    train_mean_loss, train_true_y, train_pred_y = train_epoch(\n",
    "        model,\n",
    "        train_loader,\n",
    "        optimizer,\n",
    "        device,\n",
    "        criterion\n",
    "    )\n",
    "\n",
    "    val_mean_loss, val_true_y, val_pred_y = eval_epoch(\n",
    "        model,\n",
    "        val_loader,\n",
    "        device,\n",
    "        criterion\n",
    "    )\n",
    "\n",
    "    #test_mean_loss, test_true_y, test_pred_y = eval_epoch(\n",
    "    #    model,\n",
    "    #    test_loader,\n",
    "    #    device,\n",
    "    #    criterion\n",
    "    #)\n",
    "\n",
    "    # use accuracy manager to calc accuracy metrics and save them\n",
    "    accuracy_protocoller.calc_and_collect(\n",
    "        config_id=\"etnn\",\n",
    "        epoch=epoch+1,\n",
    "        train_y_true=train_true_y,\n",
    "        train_y_pred=train_pred_y,\n",
    "        train_loss=train_mean_loss,\n",
    "        val_y_true=val_true_y,\n",
    "        val_y_pred=val_pred_y,\n",
    "        val_loss=val_mean_loss,\n",
    "    #    test_y_true=test_true_y,\n",
    "    #    test_y_pred=test_pred_y,\n",
    "    #    test_loss=test_mean_loss,\n",
    "    )\n",
    "\n",
    "    # check if model is better and save it\n",
    "    # todo: probably not required to write config over and over again\n",
    "    if epoch_control.retain_best_and_stop(model, train_mean_loss, val_mean_loss, config):\n",
    "        break"
   ],
   "metadata": {
    "collapsed": false,
    "ExecuteTime": {
     "start_time": "2023-11-11T18:45:47.325377Z",
     "end_time": "2023-11-11T18:47:29.454667Z"
    }
   }
  },
  {
   "cell_type": "markdown",
   "source": [
    "## Repeat for baseline model"
   ],
   "metadata": {
    "collapsed": false
   }
  },
  {
   "cell_type": "code",
   "execution_count": 28,
   "outputs": [],
   "source": [
    "seeding_all(config.seed)"
   ],
   "metadata": {
    "collapsed": false,
    "ExecuteTime": {
     "start_time": "2023-11-11T18:47:29.450669Z",
     "end_time": "2023-11-11T18:47:29.467172Z"
    }
   }
  },
  {
   "cell_type": "code",
   "execution_count": 29,
   "outputs": [],
   "source": [
    "from etnn.nn.baseline import create_baseline_model, calc_params\n",
    "model, _ =  create_baseline_model(\n",
    "    n_params=calc_params(model),\n",
    "    input_dim=config.in_dim * config.num_gondolas * config.num_part_pg,\n",
    "    n_layer=3,\n",
    "    output_dim=1\n",
    ")\n",
    "model = model.to(device)"
   ],
   "metadata": {
    "collapsed": false,
    "ExecuteTime": {
     "start_time": "2023-11-11T18:47:29.465172Z",
     "end_time": "2023-11-11T18:47:29.486042Z"
    }
   }
  },
  {
   "cell_type": "code",
   "execution_count": 30,
   "outputs": [],
   "source": [
    "if config.optimizer_name == 'adam':\n",
    "    optimizer = optim.Adam(model.parameters(), lr=config.learning_rate)\n",
    "elif config.optimizer_name == 'sgd':\n",
    "    optimizer = optim.SGD(model.parameters(), lr=config.learning_rate, momentum=0.9)\n",
    "else:\n",
    "    raise Exception(\"wrong selection\")"
   ],
   "metadata": {
    "collapsed": false,
    "ExecuteTime": {
     "start_time": "2023-11-11T18:47:29.482042Z",
     "end_time": "2023-11-11T18:47:29.500057Z"
    }
   }
  },
  {
   "cell_type": "code",
   "execution_count": 31,
   "outputs": [],
   "source": [
    "epoch_control = EpochControl(\n",
    "    model_save_name=\"a\",\n",
    "    config_save_name=\"b\",\n",
    "    saving_folder_path=STORAGE_FOLDER,\n",
    "    tolerance=config.early_stop_tol,\n",
    "    is_accuracy_score=False\n",
    ")"
   ],
   "metadata": {
    "collapsed": false,
    "ExecuteTime": {
     "start_time": "2023-11-11T18:47:29.496551Z",
     "end_time": "2023-11-11T18:47:29.516861Z"
    }
   }
  },
  {
   "cell_type": "code",
   "execution_count": 32,
   "outputs": [
    {
     "name": "stderr",
     "output_type": "stream",
     "text": [
      "100%|██████████| 100/100 [06:42<00:00,  4.02s/it]\n"
     ]
    }
   ],
   "source": [
    "# train for N epochs\n",
    "for epoch in tqdm(range(config.num_max_epochs)):\n",
    "    train_mean_loss, train_true_y, train_pred_y = train_epoch(\n",
    "        model,\n",
    "        train_loader,\n",
    "        optimizer,\n",
    "        device,\n",
    "        criterion\n",
    "    )\n",
    "\n",
    "    val_mean_loss, val_true_y, val_pred_y = eval_epoch(\n",
    "        model,\n",
    "        val_loader,\n",
    "        device,\n",
    "        criterion\n",
    "    )\n",
    "\n",
    "    # use accuracy manager to calc accuracy metrics and save them\n",
    "    accuracy_protocoller.calc_and_collect(\n",
    "        config_id=\"baseline\",\n",
    "        epoch=epoch+1,\n",
    "        train_y_true=train_true_y,\n",
    "        train_y_pred=train_pred_y,\n",
    "        train_loss=train_mean_loss,\n",
    "        val_y_true=val_true_y,\n",
    "        val_y_pred=val_pred_y,\n",
    "        val_loss=val_mean_loss,\n",
    "    )\n",
    "\n",
    "    # check if model is better and save it\n",
    "    if epoch_control.should_early_stop(train_mean_loss, val_mean_loss):\n",
    "        break"
   ],
   "metadata": {
    "collapsed": false,
    "ExecuteTime": {
     "start_time": "2023-11-11T18:47:29.512563Z",
     "end_time": "2023-11-11T18:54:11.998239Z"
    }
   }
  },
  {
   "cell_type": "markdown",
   "source": [
    "## Plotting"
   ],
   "metadata": {
    "collapsed": false
   }
  },
  {
   "cell_type": "code",
   "execution_count": 33,
   "outputs": [
    {
     "data": {
      "text/plain": "    config_id  epoch    train_loss     val_loss  test_loss     train_mse  \\\n0        etnn      1  53935.816406  8369.732422        0.0  55147.187500   \n1        etnn      2   2623.327637   593.060181        0.0   2678.745605   \n2        etnn      3    335.220032    78.381844        0.0    335.850311   \n3        etnn      4    124.027214    36.860081        0.0    124.404106   \n4        etnn      5     58.319851    53.090717        0.0     58.455509   \n..        ...    ...           ...          ...        ...           ...   \n120  baseline     96     36.315289    36.352104        0.0     36.324448   \n121  baseline     97     36.428772    36.230850        0.0     36.407238   \n122  baseline     98     36.226601    36.918491        0.0     36.155590   \n123  baseline     99     36.881817    37.106445        0.0     36.831371   \n124  baseline    100     36.648399    36.220730        0.0     36.678928   \n\n      train_msa  train_explained_variance     train_r2      val_mse  \\\n0    146.545181              -1693.254028 -1819.481966  8369.732422   \n1     45.406162                -84.250870   -87.428961   593.060181   \n2     15.156132                -10.056759   -10.086866    78.381844   \n3      9.421090                 -3.071617    -3.106745    36.860077   \n4      6.132441                 -0.873334    -0.929694    53.090725   \n..          ...                       ...          ...          ...   \n120    4.829174                 -0.199086    -0.199118    36.352100   \n121    4.833207                 -0.200725    -0.201851    36.230850   \n122    4.815838                 -0.193156    -0.193544    36.918495   \n123    4.863826                 -0.215015    -0.215853    37.106441   \n124    4.840039                 -0.207092    -0.210820    36.220734   \n\n       val_msa  val_explained_variance      val_r2  test_mse  test_msa  \\\n0    91.322342                0.006768 -276.457677       0.0       0.0   \n1    23.503395               -0.347571  -18.660017       0.0       0.0   \n2     7.255240               -0.167982   -1.598368       0.0       0.0   \n3     4.831114               -0.204961   -0.221916       0.0       0.0   \n4     5.973602               -0.220482   -0.759964       0.0       0.0   \n..         ...                     ...         ...       ...       ...   \n120   4.767150               -0.196627   -0.205077       0.0       0.0   \n121   4.774874               -0.198479   -0.201057       0.0       0.0   \n122   4.840382               -0.199358   -0.223853       0.0       0.0   \n123   4.810458               -0.188827   -0.230083       0.0       0.0   \n124   4.780927               -0.194162   -0.200722       0.0       0.0   \n\n     test_explained_variance  test_r2  \n0                        0.0      0.0  \n1                        0.0      0.0  \n2                        0.0      0.0  \n3                        0.0      0.0  \n4                        0.0      0.0  \n..                       ...      ...  \n120                      0.0      0.0  \n121                      0.0      0.0  \n122                      0.0      0.0  \n123                      0.0      0.0  \n124                      0.0      0.0  \n\n[125 rows x 17 columns]",
      "text/html": "<div>\n<style scoped>\n    .dataframe tbody tr th:only-of-type {\n        vertical-align: middle;\n    }\n\n    .dataframe tbody tr th {\n        vertical-align: top;\n    }\n\n    .dataframe thead th {\n        text-align: right;\n    }\n</style>\n<table border=\"1\" class=\"dataframe\">\n  <thead>\n    <tr style=\"text-align: right;\">\n      <th></th>\n      <th>config_id</th>\n      <th>epoch</th>\n      <th>train_loss</th>\n      <th>val_loss</th>\n      <th>test_loss</th>\n      <th>train_mse</th>\n      <th>train_msa</th>\n      <th>train_explained_variance</th>\n      <th>train_r2</th>\n      <th>val_mse</th>\n      <th>val_msa</th>\n      <th>val_explained_variance</th>\n      <th>val_r2</th>\n      <th>test_mse</th>\n      <th>test_msa</th>\n      <th>test_explained_variance</th>\n      <th>test_r2</th>\n    </tr>\n  </thead>\n  <tbody>\n    <tr>\n      <th>0</th>\n      <td>etnn</td>\n      <td>1</td>\n      <td>53935.816406</td>\n      <td>8369.732422</td>\n      <td>0.0</td>\n      <td>55147.187500</td>\n      <td>146.545181</td>\n      <td>-1693.254028</td>\n      <td>-1819.481966</td>\n      <td>8369.732422</td>\n      <td>91.322342</td>\n      <td>0.006768</td>\n      <td>-276.457677</td>\n      <td>0.0</td>\n      <td>0.0</td>\n      <td>0.0</td>\n      <td>0.0</td>\n    </tr>\n    <tr>\n      <th>1</th>\n      <td>etnn</td>\n      <td>2</td>\n      <td>2623.327637</td>\n      <td>593.060181</td>\n      <td>0.0</td>\n      <td>2678.745605</td>\n      <td>45.406162</td>\n      <td>-84.250870</td>\n      <td>-87.428961</td>\n      <td>593.060181</td>\n      <td>23.503395</td>\n      <td>-0.347571</td>\n      <td>-18.660017</td>\n      <td>0.0</td>\n      <td>0.0</td>\n      <td>0.0</td>\n      <td>0.0</td>\n    </tr>\n    <tr>\n      <th>2</th>\n      <td>etnn</td>\n      <td>3</td>\n      <td>335.220032</td>\n      <td>78.381844</td>\n      <td>0.0</td>\n      <td>335.850311</td>\n      <td>15.156132</td>\n      <td>-10.056759</td>\n      <td>-10.086866</td>\n      <td>78.381844</td>\n      <td>7.255240</td>\n      <td>-0.167982</td>\n      <td>-1.598368</td>\n      <td>0.0</td>\n      <td>0.0</td>\n      <td>0.0</td>\n      <td>0.0</td>\n    </tr>\n    <tr>\n      <th>3</th>\n      <td>etnn</td>\n      <td>4</td>\n      <td>124.027214</td>\n      <td>36.860081</td>\n      <td>0.0</td>\n      <td>124.404106</td>\n      <td>9.421090</td>\n      <td>-3.071617</td>\n      <td>-3.106745</td>\n      <td>36.860077</td>\n      <td>4.831114</td>\n      <td>-0.204961</td>\n      <td>-0.221916</td>\n      <td>0.0</td>\n      <td>0.0</td>\n      <td>0.0</td>\n      <td>0.0</td>\n    </tr>\n    <tr>\n      <th>4</th>\n      <td>etnn</td>\n      <td>5</td>\n      <td>58.319851</td>\n      <td>53.090717</td>\n      <td>0.0</td>\n      <td>58.455509</td>\n      <td>6.132441</td>\n      <td>-0.873334</td>\n      <td>-0.929694</td>\n      <td>53.090725</td>\n      <td>5.973602</td>\n      <td>-0.220482</td>\n      <td>-0.759964</td>\n      <td>0.0</td>\n      <td>0.0</td>\n      <td>0.0</td>\n      <td>0.0</td>\n    </tr>\n    <tr>\n      <th>...</th>\n      <td>...</td>\n      <td>...</td>\n      <td>...</td>\n      <td>...</td>\n      <td>...</td>\n      <td>...</td>\n      <td>...</td>\n      <td>...</td>\n      <td>...</td>\n      <td>...</td>\n      <td>...</td>\n      <td>...</td>\n      <td>...</td>\n      <td>...</td>\n      <td>...</td>\n      <td>...</td>\n      <td>...</td>\n    </tr>\n    <tr>\n      <th>120</th>\n      <td>baseline</td>\n      <td>96</td>\n      <td>36.315289</td>\n      <td>36.352104</td>\n      <td>0.0</td>\n      <td>36.324448</td>\n      <td>4.829174</td>\n      <td>-0.199086</td>\n      <td>-0.199118</td>\n      <td>36.352100</td>\n      <td>4.767150</td>\n      <td>-0.196627</td>\n      <td>-0.205077</td>\n      <td>0.0</td>\n      <td>0.0</td>\n      <td>0.0</td>\n      <td>0.0</td>\n    </tr>\n    <tr>\n      <th>121</th>\n      <td>baseline</td>\n      <td>97</td>\n      <td>36.428772</td>\n      <td>36.230850</td>\n      <td>0.0</td>\n      <td>36.407238</td>\n      <td>4.833207</td>\n      <td>-0.200725</td>\n      <td>-0.201851</td>\n      <td>36.230850</td>\n      <td>4.774874</td>\n      <td>-0.198479</td>\n      <td>-0.201057</td>\n      <td>0.0</td>\n      <td>0.0</td>\n      <td>0.0</td>\n      <td>0.0</td>\n    </tr>\n    <tr>\n      <th>122</th>\n      <td>baseline</td>\n      <td>98</td>\n      <td>36.226601</td>\n      <td>36.918491</td>\n      <td>0.0</td>\n      <td>36.155590</td>\n      <td>4.815838</td>\n      <td>-0.193156</td>\n      <td>-0.193544</td>\n      <td>36.918495</td>\n      <td>4.840382</td>\n      <td>-0.199358</td>\n      <td>-0.223853</td>\n      <td>0.0</td>\n      <td>0.0</td>\n      <td>0.0</td>\n      <td>0.0</td>\n    </tr>\n    <tr>\n      <th>123</th>\n      <td>baseline</td>\n      <td>99</td>\n      <td>36.881817</td>\n      <td>37.106445</td>\n      <td>0.0</td>\n      <td>36.831371</td>\n      <td>4.863826</td>\n      <td>-0.215015</td>\n      <td>-0.215853</td>\n      <td>37.106441</td>\n      <td>4.810458</td>\n      <td>-0.188827</td>\n      <td>-0.230083</td>\n      <td>0.0</td>\n      <td>0.0</td>\n      <td>0.0</td>\n      <td>0.0</td>\n    </tr>\n    <tr>\n      <th>124</th>\n      <td>baseline</td>\n      <td>100</td>\n      <td>36.648399</td>\n      <td>36.220730</td>\n      <td>0.0</td>\n      <td>36.678928</td>\n      <td>4.840039</td>\n      <td>-0.207092</td>\n      <td>-0.210820</td>\n      <td>36.220734</td>\n      <td>4.780927</td>\n      <td>-0.194162</td>\n      <td>-0.200722</td>\n      <td>0.0</td>\n      <td>0.0</td>\n      <td>0.0</td>\n      <td>0.0</td>\n    </tr>\n  </tbody>\n</table>\n<p>125 rows × 17 columns</p>\n</div>"
     },
     "execution_count": 33,
     "metadata": {},
     "output_type": "execute_result"
    }
   ],
   "source": [
    "df_measures = pd.read_csv(os.path.join(STORAGE_FOLDER, ACCURACY_SAVING_NAME))\n",
    "df_measures"
   ],
   "metadata": {
    "collapsed": false,
    "ExecuteTime": {
     "start_time": "2023-11-11T18:54:11.999240Z",
     "end_time": "2023-11-11T18:54:12.014238Z"
    }
   }
  },
  {
   "cell_type": "code",
   "execution_count": 34,
   "outputs": [
    {
     "data": {
      "text/plain": "<Figure size 640x480 with 1 Axes>",
      "image/png": "[encoded data removed]"
     },
     "metadata": {},
     "output_type": "display_data"
    },
    {
     "data": {
      "text/plain": "<Figure size 640x480 with 1 Axes>",
      "image/png": "[encoded data removed]"
     },
     "metadata": {},
     "output_type": "display_data"
    },
    {
     "data": {
      "text/plain": "<Figure size 640x480 with 1 Axes>",
      "image/png": "[encoded data removed]"
     },
     "metadata": {},
     "output_type": "display_data"
    }
   ],
   "source": [
    "for what in ['loss', 'r2', 'explained_variance']:\n",
    "    plt.figure()\n",
    "    for config_id in df_measures.config_id.unique():\n",
    "        # make subdataset for config id\n",
    "        sub_df = df_measures[df_measures.config_id == config_id]\n",
    "\n",
    "        # plot train test and val\n",
    "        for mode in ['train', 'test', 'val']:\n",
    "            # plot training\n",
    "            plt.plot(sub_df.epoch, sub_df[f\"{mode}_{what}\"], label=f\"{config_id}_{mode}-{what}\")\n",
    "\n",
    "    plt.title(f\"{what} plot\")\n",
    "    plt.xlabel(\"epoch\")\n",
    "    plt.ylabel(\"score\")\n",
    "    if what == 'r2':\n",
    "        plt.ylim(-1,1)\n",
    "    plt.legend()\n",
    "    plt.show()"
   ],
   "metadata": {
    "collapsed": false,
    "ExecuteTime": {
     "start_time": "2023-11-11T18:54:12.014238Z",
     "end_time": "2023-11-11T18:54:12.357818Z"
    }
   }
  },
  {
   "cell_type": "code",
   "execution_count": null,
   "outputs": [],
   "source": [],
   "metadata": {
    "collapsed": false
   }
  }
 ],
 "metadata": {
  "kernelspec": {
   "display_name": "Python 3",
   "language": "python",
   "name": "python3"
  },
  "language_info": {
   "codemirror_mode": {
    "name": "ipython",
    "version": 2
   },
   "file_extension": ".py",
   "mimetype": "text/x-python",
   "name": "python",
   "nbconvert_exporter": "python",
   "pygments_lexer": "ipython2",
   "version": "2.7.6"
  }
 },
 "nbformat": 4,
 "nbformat_minor": 0
}
