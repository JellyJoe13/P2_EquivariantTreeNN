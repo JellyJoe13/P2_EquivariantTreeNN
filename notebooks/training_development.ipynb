{
 "cells": [
  {
   "cell_type": "markdown",
   "metadata": {},
   "source": [
    "# Basic Training Scheme development notebook"
   ]
  },
  {
   "cell_type": "markdown",
   "metadata": {},
   "source": [
    "## Importing section"
   ]
  },
  {
   "cell_type": "code",
   "execution_count": 1,
   "metadata": {
    "ExecuteTime": {
     "start_time": "2023-11-18T17:35:55.738928Z",
     "end_time": "2023-11-18T17:35:57.689892Z"
    }
   },
   "outputs": [],
   "source": [
    "import matplotlib.pyplot as plt\n",
    "import torch\n",
    "from torch import optim, nn\n",
    "from torch.utils.data import random_split, DataLoader\n",
    "from tqdm import tqdm\n",
    "\n",
    "from etnn.data.ferris_wheel import load_pure_ferris_wheel_dataset, prepare_pure_test_dataset, \\\n",
    "    load_modified_ferris_wheel_dataset\n",
    "from etnn.data.tree_structure import TreeNode\n",
    "from etnn.nn.layer_framework import LayerManagementFramework\n",
    "from etnn.tools.loader import create_sampler\n",
    "from etnn.tools.training import train_epoch, eval_epoch\n",
    "from etnn.tools.training_tools import EpochControl, ConfigStore, AccuracyManager, seeding_all"
   ]
  },
  {
   "cell_type": "code",
   "execution_count": 2,
   "metadata": {
    "ExecuteTime": {
     "start_time": "2023-11-18T17:35:57.691892Z",
     "end_time": "2023-11-18T17:35:57.705194Z"
    }
   },
   "outputs": [],
   "source": [
    "import pandas as pd\n",
    "import os"
   ]
  },
  {
   "cell_type": "markdown",
   "metadata": {},
   "source": [
    "## Parameter definition"
   ]
  },
  {
   "cell_type": "code",
   "execution_count": 3,
   "metadata": {
    "ExecuteTime": {
     "start_time": "2023-11-18T17:35:57.705194Z",
     "end_time": "2023-11-18T17:35:57.724196Z"
    }
   },
   "outputs": [],
   "source": [
    "DATASET_PATH = \"../datasets\""
   ]
  },
  {
   "cell_type": "code",
   "execution_count": 4,
   "metadata": {
    "ExecuteTime": {
     "start_time": "2023-11-18T17:35:57.722196Z",
     "end_time": "2023-11-18T17:35:57.737237Z"
    }
   },
   "outputs": [],
   "source": [
    "val_perc = 0.3\n",
    "# todo: swap with artificially created testset (produced through permutations directly from trainset (hence directly learned)"
   ]
  },
  {
   "cell_type": "code",
   "execution_count": 5,
   "metadata": {
    "ExecuteTime": {
     "start_time": "2023-11-18T17:35:57.738237Z",
     "end_time": "2023-11-18T17:35:57.756614Z"
    }
   },
   "outputs": [],
   "source": [
    "MODEL_SAVING_NAME = \"model.pt\""
   ]
  },
  {
   "cell_type": "code",
   "execution_count": 6,
   "metadata": {
    "ExecuteTime": {
     "start_time": "2023-11-18T17:35:57.753614Z",
     "end_time": "2023-11-18T17:35:57.767615Z"
    }
   },
   "outputs": [],
   "source": [
    "CONFIG_SAVING_NAME = \"config.json\"\n",
    "ACCURACY_SAVING_NAME = \"accuracies.csv\""
   ]
  },
  {
   "cell_type": "code",
   "execution_count": 7,
   "metadata": {
    "ExecuteTime": {
     "start_time": "2023-11-18T17:35:57.767615Z",
     "end_time": "2023-11-18T17:35:57.787746Z"
    }
   },
   "outputs": [],
   "source": [
    "config = ConfigStore(\n",
    "    in_dim=15,\n",
    "    hidden_dim=128,\n",
    "    out_dim=1,\n",
    "    k=2,\n",
    "    dataset=0,\n",
    "    ds_size=10_000,\n",
    "    num_gondolas=10,\n",
    "    num_part_pg=5,\n",
    "    loss_name='mse',\n",
    "    optimizer_name='adam',\n",
    "    num_max_epochs=100, # old: 20\n",
    "    learning_rate=0.001,\n",
    "    batch_size=1024,\n",
    "    early_stop_tol=5,\n",
    "    use_equal_batcher=False,\n",
    "    seed=420,\n",
    "    label_type=\"default\",  # tree\n",
    "    final_label_factor=1/1000\n",
    ")"
   ]
  },
  {
   "cell_type": "code",
   "execution_count": 8,
   "metadata": {
    "ExecuteTime": {
     "start_time": "2023-11-18T17:35:57.783743Z",
     "end_time": "2023-11-18T17:35:57.798748Z"
    }
   },
   "outputs": [],
   "source": [
    "RESULTS_FOLDER = \"../results\"\n",
    "CONFIG_INDEX_NAME = \"config_index.csv\""
   ]
  },
  {
   "cell_type": "code",
   "execution_count": 9,
   "metadata": {
    "ExecuteTime": {
     "start_time": "2023-11-18T17:35:57.798748Z",
     "end_time": "2023-11-18T17:35:57.818749Z"
    }
   },
   "outputs": [],
   "source": [
    "# aquire saving path\n",
    "if not os.path.exists(RESULTS_FOLDER):\n",
    "    os.mkdir(RESULTS_FOLDER)\n",
    "\n",
    "# create path where the config idx file should be located\n",
    "config_idx_path = os.path.join(RESULTS_FOLDER, CONFIG_INDEX_NAME)\n",
    "\n",
    "# define columns of index table\n",
    "columns=['config_idx'] + list(vars(config).keys())\n",
    "\n",
    "# if the config file exists - load it. else create a blank table\n",
    "if os.path.isfile(config_idx_path):\n",
    "    config_table = pd.read_csv(config_idx_path)\n",
    "else:\n",
    "    config_table = pd.DataFrame(columns=columns)\n",
    "\n",
    "# create new entry\n",
    "new_entry = pd.DataFrame(vars(config), index=[0])\n",
    "\n",
    "# check if config in table already\n",
    "merge = pd.merge(config_table, new_entry, on=columns[1:], how='inner')\n",
    "if len(merge) == 0:\n",
    "    if len(config_table) == 0:\n",
    "        config_idx = 0\n",
    "    else:\n",
    "        config_idx = config_table['config_idx'].max() + 1\n",
    "\n",
    "    # add this config to idx table\n",
    "    new_entry['config_idx'] = config_idx\n",
    "    pd.concat([config_table, new_entry]).to_csv(config_idx_path, index=False)\n",
    "else:\n",
    "    config_idx = merge.iloc[0]['config_idx']"
   ]
  },
  {
   "cell_type": "code",
   "execution_count": 10,
   "metadata": {
    "ExecuteTime": {
     "start_time": "2023-11-18T17:35:57.815749Z",
     "end_time": "2023-11-18T17:35:57.843961Z"
    }
   },
   "outputs": [
    {
     "data": {
      "text/plain": "0"
     },
     "execution_count": 10,
     "metadata": {},
     "output_type": "execute_result"
    }
   ],
   "source": [
    "config_idx"
   ]
  },
  {
   "cell_type": "code",
   "execution_count": 11,
   "metadata": {
    "ExecuteTime": {
     "start_time": "2023-11-18T17:35:57.831962Z",
     "end_time": "2023-11-18T17:35:57.876450Z"
    }
   },
   "outputs": [],
   "source": [
    "# if not present create the folder for this run\n",
    "STORAGE_FOLDER = os.path.join(RESULTS_FOLDER, str(config_idx))\n",
    "if not os.path.exists(STORAGE_FOLDER):\n",
    "    os.mkdir(STORAGE_FOLDER)"
   ]
  },
  {
   "cell_type": "markdown",
   "metadata": {},
   "source": [
    "## data preparation"
   ]
  },
  {
   "cell_type": "code",
   "execution_count": 12,
   "metadata": {
    "ExecuteTime": {
     "start_time": "2023-11-18T17:35:57.848963Z",
     "end_time": "2023-11-18T17:35:57.878451Z"
    }
   },
   "outputs": [],
   "source": [
    "#todo: add further with more permutated elements and with invalid elements\n",
    "if config.dataset == 0:\n",
    "    dataset, df_index = load_pure_ferris_wheel_dataset(\n",
    "        num_gondolas=config.num_gondolas,\n",
    "        num_part_pg=config.num_part_pg,\n",
    "        num_to_generate=config.ds_size,\n",
    "        dataset_path=DATASET_PATH,\n",
    "        label_type=config.label_type,\n",
    "        final_label_factor=config.final_label_factor\n",
    "    )\n",
    "elif config.dataset == 1:\n",
    "    dataset, df_index = load_modified_ferris_wheel_dataset(\n",
    "        num_gondolas=config.num_gondolas,\n",
    "        num_part_pg=config.num_part_pg,\n",
    "        num_to_generate=int(config.ds_size * 0.8),\n",
    "        num_valid_to_add=int(config.ds_size * 0.2),\n",
    "        num_invalid_to_add=0,\n",
    "        dataset_path=DATASET_PATH,\n",
    "        try_pregen=True,\n",
    "        label_type=config.label_type,\n",
    "        final_label_factor=config.final_label_factor\n",
    "    )\n",
    "elif config.dataset == 2:\n",
    "    dataset, df_index = load_modified_ferris_wheel_dataset(\n",
    "        num_gondolas=config.num_gondolas,\n",
    "        num_part_pg=config.num_part_pg,\n",
    "        num_to_generate=int(config.ds_size * 0.6),\n",
    "        num_valid_to_add=int(config.ds_size * 0.2),\n",
    "        num_invalid_to_add=int(config.ds_size * 0.2),\n",
    "        dataset_path=DATASET_PATH,\n",
    "        try_pregen=True,\n",
    "        label_type=config.label_type,\n",
    "        final_label_factor=config.final_label_factor\n",
    "    )\n",
    "else:\n",
    "    raise Exception(\"wrong selection\")"
   ]
  },
  {
   "cell_type": "code",
   "execution_count": 13,
   "metadata": {
    "ExecuteTime": {
     "start_time": "2023-11-18T17:35:57.877451Z",
     "end_time": "2023-11-18T17:35:57.894452Z"
    }
   },
   "outputs": [
    {
     "data": {
      "text/plain": "10000"
     },
     "execution_count": 13,
     "metadata": {},
     "output_type": "execute_result"
    }
   ],
   "source": [
    "len(dataset)"
   ]
  },
  {
   "cell_type": "code",
   "execution_count": 14,
   "metadata": {
    "ExecuteTime": {
     "start_time": "2023-11-18T17:35:57.894452Z",
     "end_time": "2023-11-18T17:35:57.939842Z"
    }
   },
   "outputs": [],
   "source": [
    "generator = torch.Generator().manual_seed(config.seed)\n",
    "train_ds, val_ds = random_split(\n",
    "    dataset,\n",
    "    [1-val_perc, val_perc],\n",
    "    generator=generator\n",
    ")"
   ]
  },
  {
   "cell_type": "markdown",
   "metadata": {},
   "source": [
    "## Testset"
   ]
  },
  {
   "cell_type": "code",
   "execution_count": 15,
   "metadata": {
    "ExecuteTime": {
     "start_time": "2023-11-18T17:35:57.908841Z",
     "end_time": "2023-11-18T17:35:58.021589Z"
    }
   },
   "outputs": [
    {
     "name": "stderr",
     "output_type": "stream",
     "text": [
      "100%|██████████| 3000/3000 [00:00<00:00, 78943.18it/s]\n"
     ]
    }
   ],
   "source": [
    "test_ds, df_index_test = prepare_pure_test_dataset(\n",
    "    df_index=df_index,\n",
    "    train_indices=train_ds.indices,\n",
    "    num_gondolas=config.num_gondolas,\n",
    "    num_to_generate=len(val_ds),\n",
    "    dataset_path=DATASET_PATH,\n",
    "    seed=3*config.seed + 13\n",
    ")"
   ]
  },
  {
   "cell_type": "markdown",
   "metadata": {},
   "source": [
    "## Loader"
   ]
  },
  {
   "cell_type": "code",
   "execution_count": 16,
   "metadata": {
    "ExecuteTime": {
     "start_time": "2023-11-18T17:35:57.988136Z",
     "end_time": "2023-11-18T17:35:58.021589Z"
    }
   },
   "outputs": [],
   "source": [
    "if config.use_equal_batcher:\n",
    "    sampler = create_sampler(df_index=df_index, dataset=train_ds)\n",
    "    train_loader = DataLoader(train_ds, batch_size=config.batch_size, sampler=sampler)\n",
    "else:\n",
    "    train_loader = DataLoader(train_ds, batch_size=config.batch_size, shuffle=True)\n",
    "\n",
    "val_loader = DataLoader(val_ds, batch_size=4*config.batch_size, shuffle=False)\n",
    "test_loader = DataLoader(test_ds, batch_size=4*config.batch_size, shuffle=False)"
   ]
  },
  {
   "cell_type": "code",
   "execution_count": 17,
   "metadata": {
    "ExecuteTime": {
     "start_time": "2023-11-18T17:35:58.004587Z",
     "end_time": "2023-11-18T17:35:58.021589Z"
    }
   },
   "outputs": [],
   "source": [
    "# todo: check which score should be used for early stopping and how to get it\n",
    "# todo: add more tree mutated sequences that are in dataset\n",
    "# todo: add some faulty sequences which disturb this and see how much this affects the training"
   ]
  },
  {
   "cell_type": "markdown",
   "metadata": {},
   "source": [
    "## Build tree structure"
   ]
  },
  {
   "cell_type": "code",
   "execution_count": 18,
   "metadata": {
    "ExecuteTime": {
     "start_time": "2023-11-18T17:35:58.020588Z",
     "end_time": "2023-11-18T17:35:58.035937Z"
    }
   },
   "outputs": [],
   "source": [
    "tree_structure = TreeNode(\n",
    "    node_type=\"C\",\n",
    "    children=[\n",
    "        TreeNode(\"P\", [TreeNode(\"E\", config.num_part_pg)])\n",
    "        for _ in range(config.num_gondolas)\n",
    "    ]\n",
    ")"
   ]
  },
  {
   "cell_type": "markdown",
   "metadata": {},
   "source": [
    "## Define device"
   ]
  },
  {
   "cell_type": "code",
   "execution_count": 19,
   "metadata": {
    "ExecuteTime": {
     "start_time": "2023-11-18T17:35:58.036943Z",
     "end_time": "2023-11-18T17:35:58.072097Z"
    }
   },
   "outputs": [],
   "source": [
    "device = \"cuda\" if torch.cuda.is_available() else \"cpu\""
   ]
  },
  {
   "cell_type": "code",
   "execution_count": 20,
   "metadata": {
    "ExecuteTime": {
     "start_time": "2023-11-18T17:35:58.067098Z",
     "end_time": "2023-11-18T17:35:58.085600Z"
    }
   },
   "outputs": [],
   "source": [
    "# device = 'cpu'"
   ]
  },
  {
   "cell_type": "code",
   "execution_count": 21,
   "metadata": {
    "ExecuteTime": {
     "start_time": "2023-11-18T17:35:58.081600Z",
     "end_time": "2023-11-18T17:35:58.128603Z"
    }
   },
   "outputs": [
    {
     "data": {
      "text/plain": "'cuda'"
     },
     "execution_count": 21,
     "metadata": {},
     "output_type": "execute_result"
    }
   ],
   "source": [
    "device"
   ]
  },
  {
   "cell_type": "markdown",
   "metadata": {},
   "source": [
    "## Set up accuracy saving"
   ]
  },
  {
   "cell_type": "code",
   "execution_count": 22,
   "metadata": {
    "ExecuteTime": {
     "start_time": "2023-11-18T17:35:58.098602Z",
     "end_time": "2023-11-18T17:35:58.130977Z"
    }
   },
   "outputs": [],
   "source": [
    "accuracy_protocoller = AccuracyManager(\n",
    "    storage_name=ACCURACY_SAVING_NAME,\n",
    "    storage_path=STORAGE_FOLDER,\n",
    "    is_classification=False\n",
    ")"
   ]
  },
  {
   "cell_type": "markdown",
   "metadata": {},
   "source": [
    "## Set seeds for reproducibility"
   ]
  },
  {
   "cell_type": "code",
   "execution_count": 23,
   "metadata": {
    "ExecuteTime": {
     "start_time": "2023-11-18T17:35:58.115603Z",
     "end_time": "2023-11-18T17:35:58.130977Z"
    }
   },
   "outputs": [],
   "source": [
    "seeding_all(config.seed)"
   ]
  },
  {
   "cell_type": "markdown",
   "metadata": {},
   "source": [
    "## Define Model"
   ]
  },
  {
   "cell_type": "code",
   "execution_count": 24,
   "metadata": {
    "ExecuteTime": {
     "start_time": "2023-11-18T17:35:58.129973Z",
     "end_time": "2023-11-18T17:35:59.205341Z"
    }
   },
   "outputs": [],
   "source": [
    "model = LayerManagementFramework(\n",
    "    in_dim=config.in_dim,\n",
    "    tree=tree_structure,\n",
    "    hidden_dim=config.hidden_dim,\n",
    "    out_dim=config.out_dim,\n",
    "    k=config.k\n",
    ").to(device)"
   ]
  },
  {
   "cell_type": "markdown",
   "metadata": {},
   "source": [
    "## Define Loss and Optimizers"
   ]
  },
  {
   "cell_type": "code",
   "execution_count": 25,
   "metadata": {
    "ExecuteTime": {
     "start_time": "2023-11-18T17:35:59.207340Z",
     "end_time": "2023-11-18T17:35:59.220711Z"
    }
   },
   "outputs": [],
   "source": [
    "if config.loss_name == 'mse':\n",
    "    criterion = nn.MSELoss()\n",
    "elif config.loss_name == 'mae':\n",
    "    criterion = nn.L1Loss()\n",
    "elif config.loss_name == 'smooth-l1':\n",
    "    criterion = nn.SmoothL1Loss()\n",
    "else:\n",
    "    raise Exception(\"wrong selection\")"
   ]
  },
  {
   "cell_type": "code",
   "execution_count": 26,
   "metadata": {
    "ExecuteTime": {
     "start_time": "2023-11-18T17:35:59.220711Z",
     "end_time": "2023-11-18T17:35:59.443336Z"
    }
   },
   "outputs": [],
   "source": [
    "if config.optimizer_name == 'adam':\n",
    "    optimizer = optim.Adam(model.parameters(), lr=config.learning_rate)\n",
    "elif config.optimizer_name == 'sgd':\n",
    "    optimizer = optim.SGD(model.parameters(), lr=config.learning_rate, momentum=0.9)\n",
    "else:\n",
    "    raise Exception(\"wrong selection\")"
   ]
  },
  {
   "cell_type": "markdown",
   "metadata": {},
   "source": [
    "## Training"
   ]
  },
  {
   "cell_type": "code",
   "execution_count": 27,
   "metadata": {
    "ExecuteTime": {
     "start_time": "2023-11-18T17:35:59.443336Z",
     "end_time": "2023-11-18T17:35:59.459337Z"
    }
   },
   "outputs": [],
   "source": [
    "epoch_control = EpochControl(\n",
    "    model_save_name=MODEL_SAVING_NAME,\n",
    "    config_save_name=CONFIG_SAVING_NAME,\n",
    "    saving_folder_path=STORAGE_FOLDER,\n",
    "    tolerance=config.early_stop_tol,\n",
    "    is_accuracy_score=False\n",
    ")"
   ]
  },
  {
   "cell_type": "code",
   "execution_count": 28,
   "metadata": {
    "ExecuteTime": {
     "start_time": "2023-11-18T17:35:59.462793Z",
     "end_time": "2023-11-18T17:42:41.026325Z"
    }
   },
   "outputs": [
    {
     "name": "stderr",
     "output_type": "stream",
     "text": [
      "  1%|          | 1/100 [00:04<07:21,  4.45s/it]"
     ]
    },
    {
     "name": "stdout",
     "output_type": "stream",
     "text": [
      "++save++\n"
     ]
    },
    {
     "name": "stderr",
     "output_type": "stream",
     "text": [
      "  2%|▏         | 2/100 [00:08<06:37,  4.06s/it]"
     ]
    },
    {
     "name": "stdout",
     "output_type": "stream",
     "text": [
      "++save++\n"
     ]
    },
    {
     "name": "stderr",
     "output_type": "stream",
     "text": [
      "  3%|▎         | 3/100 [00:12<06:31,  4.04s/it]"
     ]
    },
    {
     "name": "stdout",
     "output_type": "stream",
     "text": [
      "++save++\n"
     ]
    },
    {
     "name": "stderr",
     "output_type": "stream",
     "text": [
      "  4%|▍         | 4/100 [00:16<06:24,  4.01s/it]"
     ]
    },
    {
     "name": "stdout",
     "output_type": "stream",
     "text": [
      "++save++\n"
     ]
    },
    {
     "name": "stderr",
     "output_type": "stream",
     "text": [
      "  9%|▉         | 9/100 [00:36<06:05,  4.01s/it]"
     ]
    },
    {
     "name": "stdout",
     "output_type": "stream",
     "text": [
      "++save++\n"
     ]
    },
    {
     "name": "stderr",
     "output_type": "stream",
     "text": [
      " 14%|█▍        | 14/100 [00:56<05:46,  4.03s/it]"
     ]
    },
    {
     "name": "stdout",
     "output_type": "stream",
     "text": [
      "++save++\n"
     ]
    },
    {
     "name": "stderr",
     "output_type": "stream",
     "text": [
      " 15%|█▌        | 15/100 [01:00<05:43,  4.04s/it]"
     ]
    },
    {
     "name": "stdout",
     "output_type": "stream",
     "text": [
      "++save++\n"
     ]
    },
    {
     "name": "stderr",
     "output_type": "stream",
     "text": [
      " 18%|█▊        | 18/100 [01:12<05:29,  4.01s/it]"
     ]
    },
    {
     "name": "stdout",
     "output_type": "stream",
     "text": [
      "++save++\n"
     ]
    },
    {
     "name": "stderr",
     "output_type": "stream",
     "text": [
      " 19%|█▉        | 19/100 [01:16<05:23,  3.99s/it]"
     ]
    },
    {
     "name": "stdout",
     "output_type": "stream",
     "text": [
      "++save++\n"
     ]
    },
    {
     "name": "stderr",
     "output_type": "stream",
     "text": [
      " 29%|██▉       | 29/100 [01:57<04:51,  4.11s/it]"
     ]
    },
    {
     "name": "stdout",
     "output_type": "stream",
     "text": [
      "++save++\n"
     ]
    },
    {
     "name": "stderr",
     "output_type": "stream",
     "text": [
      " 31%|███       | 31/100 [02:05<04:39,  4.06s/it]"
     ]
    },
    {
     "name": "stdout",
     "output_type": "stream",
     "text": [
      "++save++\n"
     ]
    },
    {
     "name": "stderr",
     "output_type": "stream",
     "text": [
      "100%|██████████| 100/100 [06:41<00:00,  4.02s/it]\n"
     ]
    }
   ],
   "source": [
    "# train for N epochs\n",
    "for epoch in tqdm(range(config.num_max_epochs)):\n",
    "    train_mean_loss, train_true_y, train_pred_y = train_epoch(\n",
    "        model,\n",
    "        train_loader,\n",
    "        optimizer,\n",
    "        device,\n",
    "        criterion\n",
    "    )\n",
    "\n",
    "    val_mean_loss, val_true_y, val_pred_y = eval_epoch(\n",
    "        model,\n",
    "        val_loader,\n",
    "        device,\n",
    "        criterion\n",
    "    )\n",
    "\n",
    "    # Not calculated for every step as the original purpose of test is to be tested for the best model/state\n",
    "    # Note: this influences training and slows it down massively.\n",
    "    #test_mean_loss, test_true_y, test_pred_y = eval_epoch(\n",
    "    #    model,\n",
    "    #    test_loader,\n",
    "    #    device,\n",
    "    #    criterion\n",
    "    #)\n",
    "\n",
    "    # use accuracy manager to calc accuracy metrics and save them\n",
    "    accuracy_protocoller.calc_and_collect(\n",
    "        config_id=\"etnn\",\n",
    "        epoch=epoch+1,\n",
    "        train_y_true=train_true_y,\n",
    "        train_y_pred=train_pred_y,\n",
    "        train_loss=train_mean_loss,\n",
    "        val_y_true=val_true_y,\n",
    "        val_y_pred=val_pred_y,\n",
    "        val_loss=val_mean_loss,\n",
    "    #    test_y_true=test_true_y,\n",
    "    #    test_y_pred=test_pred_y,\n",
    "    #    test_loss=test_mean_loss,\n",
    "    )\n",
    "\n",
    "    # check if model is better and save it\n",
    "    # todo: probably not required to write config over and over again\n",
    "    epoch_control.retain_best(model, train_mean_loss, val_mean_loss, config)"
   ]
  },
  {
   "cell_type": "markdown",
   "metadata": {},
   "source": [
    "## Repeat for baseline model"
   ]
  },
  {
   "cell_type": "code",
   "execution_count": 29,
   "metadata": {
    "ExecuteTime": {
     "start_time": "2023-11-18T17:42:41.026325Z",
     "end_time": "2023-11-18T17:42:41.043716Z"
    }
   },
   "outputs": [],
   "source": [
    "seeding_all(config.seed)"
   ]
  },
  {
   "cell_type": "code",
   "execution_count": 30,
   "metadata": {
    "ExecuteTime": {
     "start_time": "2023-11-18T17:42:41.041333Z",
     "end_time": "2023-11-18T17:42:41.057716Z"
    }
   },
   "outputs": [],
   "source": [
    "from etnn.nn.baseline import create_baseline_model, calc_params\n",
    "model, _ =  create_baseline_model(\n",
    "    n_params=calc_params(model),\n",
    "    input_dim=config.in_dim * config.num_gondolas * config.num_part_pg,\n",
    "    n_layer=3,\n",
    "    output_dim=1\n",
    ")\n",
    "model = model.to(device)"
   ]
  },
  {
   "cell_type": "code",
   "execution_count": 31,
   "metadata": {
    "ExecuteTime": {
     "start_time": "2023-11-18T17:42:41.057716Z",
     "end_time": "2023-11-18T17:42:41.075785Z"
    }
   },
   "outputs": [],
   "source": [
    "if config.optimizer_name == 'adam':\n",
    "    optimizer = optim.Adam(model.parameters(), lr=config.learning_rate)\n",
    "elif config.optimizer_name == 'sgd':\n",
    "    optimizer = optim.SGD(model.parameters(), lr=config.learning_rate, momentum=0.9)\n",
    "else:\n",
    "    raise Exception(\"wrong selection\")"
   ]
  },
  {
   "cell_type": "code",
   "execution_count": 32,
   "metadata": {
    "ExecuteTime": {
     "start_time": "2023-11-18T17:42:41.071504Z",
     "end_time": "2023-11-18T17:42:41.087288Z"
    }
   },
   "outputs": [],
   "source": [
    "epoch_control = EpochControl(\n",
    "    model_save_name=\"a\",\n",
    "    config_save_name=\"b\",\n",
    "    saving_folder_path=STORAGE_FOLDER,\n",
    "    tolerance=config.early_stop_tol,\n",
    "    is_accuracy_score=False\n",
    ")"
   ]
  },
  {
   "cell_type": "code",
   "execution_count": 33,
   "metadata": {
    "ExecuteTime": {
     "start_time": "2023-11-18T17:42:41.088494Z",
     "end_time": "2023-11-18T17:48:39.607078Z"
    }
   },
   "outputs": [
    {
     "name": "stderr",
     "output_type": "stream",
     "text": [
      "100%|██████████| 100/100 [05:58<00:00,  3.59s/it]\n"
     ]
    }
   ],
   "source": [
    "# train for N epochs\n",
    "for epoch in tqdm(range(config.num_max_epochs)):\n",
    "    train_mean_loss, train_true_y, train_pred_y = train_epoch(\n",
    "        model,\n",
    "        train_loader,\n",
    "        optimizer,\n",
    "        device,\n",
    "        criterion\n",
    "    )\n",
    "\n",
    "    val_mean_loss, val_true_y, val_pred_y = eval_epoch(\n",
    "        model,\n",
    "        val_loader,\n",
    "        device,\n",
    "        criterion\n",
    "    )\n",
    "\n",
    "    # use accuracy manager to calc accuracy metrics and save them\n",
    "    accuracy_protocoller.calc_and_collect(\n",
    "        config_id=\"baseline\",\n",
    "        epoch=epoch+1,\n",
    "        train_y_true=train_true_y,\n",
    "        train_y_pred=train_pred_y,\n",
    "        train_loss=train_mean_loss,\n",
    "        val_y_true=val_true_y,\n",
    "        val_y_pred=val_pred_y,\n",
    "        val_loss=val_mean_loss,\n",
    "    )"
   ]
  },
  {
   "cell_type": "markdown",
   "metadata": {},
   "source": [
    "## Plotting"
   ]
  },
  {
   "cell_type": "code",
   "execution_count": 34,
   "metadata": {
    "ExecuteTime": {
     "start_time": "2023-11-18T17:48:39.608078Z",
     "end_time": "2023-11-18T17:48:39.652303Z"
    }
   },
   "outputs": [
    {
     "data": {
      "text/plain": "    config_id  epoch    train_loss     val_loss  test_loss     train_mse  \\\n0        etnn      1  53935.816406  8369.732422        0.0  55147.187500   \n1        etnn      2   2623.327637   593.060181        0.0   2678.745605   \n2        etnn      3    335.220032    78.381844        0.0    335.850311   \n3        etnn      4    124.027214    36.860081        0.0    124.404106   \n4        etnn      5     58.319851    53.090717        0.0     58.455509   \n..        ...    ...           ...          ...        ...           ...   \n195  baseline     96     36.315289    36.352104        0.0     36.324448   \n196  baseline     97     36.428772    36.230850        0.0     36.407238   \n197  baseline     98     36.226601    36.918491        0.0     36.155590   \n198  baseline     99     36.881817    37.106445        0.0     36.831371   \n199  baseline    100     36.648399    36.220730        0.0     36.678928   \n\n      train_msa  train_explained_variance     train_r2      val_mse  \\\n0    146.545181              -1693.254028 -1819.481966  8369.732422   \n1     45.406162                -84.250870   -87.428961   593.060181   \n2     15.156132                -10.056759   -10.086866    78.381844   \n3      9.421090                 -3.071617    -3.106745    36.860077   \n4      6.132441                 -0.873334    -0.929694    53.090725   \n..          ...                       ...          ...          ...   \n195    4.829174                 -0.199086    -0.199118    36.352100   \n196    4.833207                 -0.200725    -0.201851    36.230850   \n197    4.815838                 -0.193156    -0.193544    36.918495   \n198    4.863826                 -0.215015    -0.215853    37.106441   \n199    4.840039                 -0.207092    -0.210820    36.220734   \n\n       val_msa  val_explained_variance      val_r2  test_mse  test_msa  \\\n0    91.322342                0.006768 -276.457677       0.0       0.0   \n1    23.503395               -0.347571  -18.660017       0.0       0.0   \n2     7.255240               -0.167982   -1.598368       0.0       0.0   \n3     4.831114               -0.204961   -0.221916       0.0       0.0   \n4     5.973602               -0.220482   -0.759964       0.0       0.0   \n..         ...                     ...         ...       ...       ...   \n195   4.767150               -0.196627   -0.205077       0.0       0.0   \n196   4.774874               -0.198479   -0.201057       0.0       0.0   \n197   4.840382               -0.199358   -0.223853       0.0       0.0   \n198   4.810458               -0.188827   -0.230083       0.0       0.0   \n199   4.780927               -0.194162   -0.200722       0.0       0.0   \n\n     test_explained_variance  test_r2  \n0                        0.0      0.0  \n1                        0.0      0.0  \n2                        0.0      0.0  \n3                        0.0      0.0  \n4                        0.0      0.0  \n..                       ...      ...  \n195                      0.0      0.0  \n196                      0.0      0.0  \n197                      0.0      0.0  \n198                      0.0      0.0  \n199                      0.0      0.0  \n\n[200 rows x 17 columns]",
      "text/html": "<div>\n<style scoped>\n    .dataframe tbody tr th:only-of-type {\n        vertical-align: middle;\n    }\n\n    .dataframe tbody tr th {\n        vertical-align: top;\n    }\n\n    .dataframe thead th {\n        text-align: right;\n    }\n</style>\n<table border=\"1\" class=\"dataframe\">\n  <thead>\n    <tr style=\"text-align: right;\">\n      <th></th>\n      <th>config_id</th>\n      <th>epoch</th>\n      <th>train_loss</th>\n      <th>val_loss</th>\n      <th>test_loss</th>\n      <th>train_mse</th>\n      <th>train_msa</th>\n      <th>train_explained_variance</th>\n      <th>train_r2</th>\n      <th>val_mse</th>\n      <th>val_msa</th>\n      <th>val_explained_variance</th>\n      <th>val_r2</th>\n      <th>test_mse</th>\n      <th>test_msa</th>\n      <th>test_explained_variance</th>\n      <th>test_r2</th>\n    </tr>\n  </thead>\n  <tbody>\n    <tr>\n      <th>0</th>\n      <td>etnn</td>\n      <td>1</td>\n      <td>53935.816406</td>\n      <td>8369.732422</td>\n      <td>0.0</td>\n      <td>55147.187500</td>\n      <td>146.545181</td>\n      <td>-1693.254028</td>\n      <td>-1819.481966</td>\n      <td>8369.732422</td>\n      <td>91.322342</td>\n      <td>0.006768</td>\n      <td>-276.457677</td>\n      <td>0.0</td>\n      <td>0.0</td>\n      <td>0.0</td>\n      <td>0.0</td>\n    </tr>\n    <tr>\n      <th>1</th>\n      <td>etnn</td>\n      <td>2</td>\n      <td>2623.327637</td>\n      <td>593.060181</td>\n      <td>0.0</td>\n      <td>2678.745605</td>\n      <td>45.406162</td>\n      <td>-84.250870</td>\n      <td>-87.428961</td>\n      <td>593.060181</td>\n      <td>23.503395</td>\n      <td>-0.347571</td>\n      <td>-18.660017</td>\n      <td>0.0</td>\n      <td>0.0</td>\n      <td>0.0</td>\n      <td>0.0</td>\n    </tr>\n    <tr>\n      <th>2</th>\n      <td>etnn</td>\n      <td>3</td>\n      <td>335.220032</td>\n      <td>78.381844</td>\n      <td>0.0</td>\n      <td>335.850311</td>\n      <td>15.156132</td>\n      <td>-10.056759</td>\n      <td>-10.086866</td>\n      <td>78.381844</td>\n      <td>7.255240</td>\n      <td>-0.167982</td>\n      <td>-1.598368</td>\n      <td>0.0</td>\n      <td>0.0</td>\n      <td>0.0</td>\n      <td>0.0</td>\n    </tr>\n    <tr>\n      <th>3</th>\n      <td>etnn</td>\n      <td>4</td>\n      <td>124.027214</td>\n      <td>36.860081</td>\n      <td>0.0</td>\n      <td>124.404106</td>\n      <td>9.421090</td>\n      <td>-3.071617</td>\n      <td>-3.106745</td>\n      <td>36.860077</td>\n      <td>4.831114</td>\n      <td>-0.204961</td>\n      <td>-0.221916</td>\n      <td>0.0</td>\n      <td>0.0</td>\n      <td>0.0</td>\n      <td>0.0</td>\n    </tr>\n    <tr>\n      <th>4</th>\n      <td>etnn</td>\n      <td>5</td>\n      <td>58.319851</td>\n      <td>53.090717</td>\n      <td>0.0</td>\n      <td>58.455509</td>\n      <td>6.132441</td>\n      <td>-0.873334</td>\n      <td>-0.929694</td>\n      <td>53.090725</td>\n      <td>5.973602</td>\n      <td>-0.220482</td>\n      <td>-0.759964</td>\n      <td>0.0</td>\n      <td>0.0</td>\n      <td>0.0</td>\n      <td>0.0</td>\n    </tr>\n    <tr>\n      <th>...</th>\n      <td>...</td>\n      <td>...</td>\n      <td>...</td>\n      <td>...</td>\n      <td>...</td>\n      <td>...</td>\n      <td>...</td>\n      <td>...</td>\n      <td>...</td>\n      <td>...</td>\n      <td>...</td>\n      <td>...</td>\n      <td>...</td>\n      <td>...</td>\n      <td>...</td>\n      <td>...</td>\n      <td>...</td>\n    </tr>\n    <tr>\n      <th>195</th>\n      <td>baseline</td>\n      <td>96</td>\n      <td>36.315289</td>\n      <td>36.352104</td>\n      <td>0.0</td>\n      <td>36.324448</td>\n      <td>4.829174</td>\n      <td>-0.199086</td>\n      <td>-0.199118</td>\n      <td>36.352100</td>\n      <td>4.767150</td>\n      <td>-0.196627</td>\n      <td>-0.205077</td>\n      <td>0.0</td>\n      <td>0.0</td>\n      <td>0.0</td>\n      <td>0.0</td>\n    </tr>\n    <tr>\n      <th>196</th>\n      <td>baseline</td>\n      <td>97</td>\n      <td>36.428772</td>\n      <td>36.230850</td>\n      <td>0.0</td>\n      <td>36.407238</td>\n      <td>4.833207</td>\n      <td>-0.200725</td>\n      <td>-0.201851</td>\n      <td>36.230850</td>\n      <td>4.774874</td>\n      <td>-0.198479</td>\n      <td>-0.201057</td>\n      <td>0.0</td>\n      <td>0.0</td>\n      <td>0.0</td>\n      <td>0.0</td>\n    </tr>\n    <tr>\n      <th>197</th>\n      <td>baseline</td>\n      <td>98</td>\n      <td>36.226601</td>\n      <td>36.918491</td>\n      <td>0.0</td>\n      <td>36.155590</td>\n      <td>4.815838</td>\n      <td>-0.193156</td>\n      <td>-0.193544</td>\n      <td>36.918495</td>\n      <td>4.840382</td>\n      <td>-0.199358</td>\n      <td>-0.223853</td>\n      <td>0.0</td>\n      <td>0.0</td>\n      <td>0.0</td>\n      <td>0.0</td>\n    </tr>\n    <tr>\n      <th>198</th>\n      <td>baseline</td>\n      <td>99</td>\n      <td>36.881817</td>\n      <td>37.106445</td>\n      <td>0.0</td>\n      <td>36.831371</td>\n      <td>4.863826</td>\n      <td>-0.215015</td>\n      <td>-0.215853</td>\n      <td>37.106441</td>\n      <td>4.810458</td>\n      <td>-0.188827</td>\n      <td>-0.230083</td>\n      <td>0.0</td>\n      <td>0.0</td>\n      <td>0.0</td>\n      <td>0.0</td>\n    </tr>\n    <tr>\n      <th>199</th>\n      <td>baseline</td>\n      <td>100</td>\n      <td>36.648399</td>\n      <td>36.220730</td>\n      <td>0.0</td>\n      <td>36.678928</td>\n      <td>4.840039</td>\n      <td>-0.207092</td>\n      <td>-0.210820</td>\n      <td>36.220734</td>\n      <td>4.780927</td>\n      <td>-0.194162</td>\n      <td>-0.200722</td>\n      <td>0.0</td>\n      <td>0.0</td>\n      <td>0.0</td>\n      <td>0.0</td>\n    </tr>\n  </tbody>\n</table>\n<p>200 rows × 17 columns</p>\n</div>"
     },
     "execution_count": 34,
     "metadata": {},
     "output_type": "execute_result"
    }
   ],
   "source": [
    "df_measures = pd.read_csv(os.path.join(STORAGE_FOLDER, ACCURACY_SAVING_NAME))\n",
    "df_measures"
   ]
  },
  {
   "cell_type": "code",
   "execution_count": 35,
   "metadata": {
    "ExecuteTime": {
     "start_time": "2023-11-18T17:48:39.625080Z",
     "end_time": "2023-11-18T17:48:39.922761Z"
    }
   },
   "outputs": [
    {
     "data": {
      "text/plain": "<Figure size 640x480 with 1 Axes>",
      "image/png": "[encoded data removed]"
     },
     "metadata": {},
     "output_type": "display_data"
    },
    {
     "data": {
      "text/plain": "<Figure size 640x480 with 1 Axes>",
      "image/png": "[encoded data removed]"
     },
     "metadata": {},
     "output_type": "display_data"
    },
    {
     "data": {
      "text/plain": "<Figure size 640x480 with 1 Axes>",
      "image/png": "[encoded data removed]"
     },
     "metadata": {},
     "output_type": "display_data"
    }
   ],
   "source": [
    "for what in ['loss', 'r2', 'explained_variance']:\n",
    "    plt.figure()\n",
    "    for config_id in df_measures.config_id.unique():\n",
    "        # make subdataset for config id\n",
    "        sub_df = df_measures[df_measures.config_id == config_id]\n",
    "\n",
    "        # plot train test and val\n",
    "        for mode in ['train', 'test', 'val']:\n",
    "            # plot training\n",
    "            plt.plot(sub_df.epoch, sub_df[f\"{mode}_{what}\"], label=f\"{config_id}_{mode}-{what}\")\n",
    "\n",
    "    plt.title(f\"{what} plot\")\n",
    "    plt.xlabel(\"epoch\")\n",
    "    plt.ylabel(\"score\")\n",
    "    if what == 'r2':\n",
    "        # plt.ylim(-1,1)\n",
    "        plt.ylim(-50,1)\n",
    "    elif what == 'loss':\n",
    "        plt.ylim(0, 300)\n",
    "    elif what == 'explained_variance':\n",
    "        plt.ylim(-10_000, 10_000)\n",
    "    plt.legend()\n",
    "    plt.show()"
   ]
  },
  {
   "cell_type": "markdown",
   "metadata": {},
   "source": [
    "## Loading etnn model"
   ]
  },
  {
   "cell_type": "code",
   "execution_count": 36,
   "metadata": {
    "ExecuteTime": {
     "start_time": "2023-11-18T17:48:39.923763Z",
     "end_time": "2023-11-18T17:48:39.943762Z"
    }
   },
   "outputs": [],
   "source": [
    "model = LayerManagementFramework(\n",
    "    in_dim=config.in_dim,\n",
    "    tree=tree_structure,\n",
    "    hidden_dim=config.hidden_dim,\n",
    "    out_dim=config.out_dim,\n",
    "    k=config.k\n",
    ").to(device)"
   ]
  },
  {
   "cell_type": "code",
   "execution_count": 37,
   "metadata": {
    "ExecuteTime": {
     "start_time": "2023-11-18T17:48:39.938763Z",
     "end_time": "2023-11-18T17:48:40.000765Z"
    }
   },
   "outputs": [
    {
     "data": {
      "text/plain": "<All keys matched successfully>"
     },
     "execution_count": 37,
     "metadata": {},
     "output_type": "execute_result"
    }
   ],
   "source": [
    "model.load_state_dict(torch.load(os.path.join(STORAGE_FOLDER, MODEL_SAVING_NAME)))"
   ]
  },
  {
   "cell_type": "code",
   "execution_count": 38,
   "metadata": {
    "ExecuteTime": {
     "start_time": "2023-11-18T17:48:39.954763Z",
     "end_time": "2023-11-18T17:48:43.733142Z"
    }
   },
   "outputs": [],
   "source": [
    "loss, y_true, y_pred = eval_epoch(model, test_loader, device, criterion)"
   ]
  },
  {
   "cell_type": "code",
   "execution_count": 39,
   "metadata": {
    "ExecuteTime": {
     "start_time": "2023-11-18T17:48:43.732143Z",
     "end_time": "2023-11-18T17:48:43.747110Z"
    }
   },
   "outputs": [
    {
     "data": {
      "text/plain": "tensor(36.4647)"
     },
     "execution_count": 39,
     "metadata": {},
     "output_type": "execute_result"
    }
   ],
   "source": [
    "loss"
   ]
  },
  {
   "cell_type": "code",
   "execution_count": 40,
   "metadata": {
    "ExecuteTime": {
     "start_time": "2023-11-18T17:48:43.748113Z",
     "end_time": "2023-11-18T17:48:43.794132Z"
    }
   },
   "outputs": [
    {
     "name": "stdout",
     "output_type": "stream",
     "text": [
      "-0.22714694198231422\n"
     ]
    }
   ],
   "source": [
    "import sklearn\n",
    "\n",
    "print(sklearn.metrics.r2_score(y_true=y_true, y_pred=y_pred))"
   ]
  }
 ],
 "metadata": {
  "kernelspec": {
   "display_name": "Python 3 (ipykernel)",
   "language": "python",
   "name": "python3"
  },
  "language_info": {
   "codemirror_mode": {
    "name": "ipython",
    "version": 3
   },
   "file_extension": ".py",
   "mimetype": "text/x-python",
   "name": "python",
   "nbconvert_exporter": "python",
   "pygments_lexer": "ipython3",
   "version": "3.9.18"
  }
 },
 "nbformat": 4,
 "nbformat_minor": 1
}
