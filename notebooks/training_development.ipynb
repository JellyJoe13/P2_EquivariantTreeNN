{
 "cells": [
  {
   "cell_type": "markdown",
   "source": [
    "# Basic Training Scheme development notebook"
   ],
   "metadata": {
    "collapsed": false
   }
  },
  {
   "cell_type": "markdown",
   "source": [
    "## Importing section"
   ],
   "metadata": {
    "collapsed": false
   }
  },
  {
   "cell_type": "code",
   "execution_count": 1,
   "outputs": [],
   "source": [
    "import torch\n",
    "from torch import optim, nn\n",
    "from torch.utils.data import random_split, DataLoader\n",
    "from etnn.data.ferris_wheel import load_ferris_wheel_dataset\n",
    "from etnn.data.tree_structure import TreeNode\n",
    "from etnn.nn.layer_framework import ChiralLayerManagementFramework\n",
    "from tqdm import tqdm"
   ],
   "metadata": {
    "collapsed": false,
    "ExecuteTime": {
     "start_time": "2023-10-28T14:36:15.260177Z",
     "end_time": "2023-10-28T14:36:16.599085Z"
    }
   }
  },
  {
   "cell_type": "code",
   "execution_count": 2,
   "outputs": [],
   "source": [
    "import numpy as np"
   ],
   "metadata": {
    "collapsed": false,
    "ExecuteTime": {
     "start_time": "2023-10-28T14:36:16.599085Z",
     "end_time": "2023-10-28T14:36:16.612309Z"
    }
   }
  },
  {
   "cell_type": "markdown",
   "source": [
    "## Parameter definition"
   ],
   "metadata": {
    "collapsed": false
   }
  },
  {
   "cell_type": "code",
   "execution_count": 3,
   "outputs": [],
   "source": [
    "NUM_GONDOLAS = 10\n",
    "NUM_PART_PG = 5\n",
    "DATASET_SIZE = 10_000\n",
    "DATASET_PATH = \"../datasets\""
   ],
   "metadata": {
    "collapsed": false,
    "ExecuteTime": {
     "start_time": "2023-10-28T14:36:16.613311Z",
     "end_time": "2023-10-28T14:36:16.632312Z"
    }
   }
  },
  {
   "cell_type": "code",
   "execution_count": 4,
   "outputs": [],
   "source": [
    "val_perc = 0.1\n",
    "test_perc = 0.2"
   ],
   "metadata": {
    "collapsed": false,
    "ExecuteTime": {
     "start_time": "2023-10-28T14:36:16.631312Z",
     "end_time": "2023-10-28T14:36:16.645309Z"
    }
   }
  },
  {
   "cell_type": "code",
   "execution_count": 5,
   "outputs": [],
   "source": [
    "INPUT_DIM = 15\n",
    "HIDDEN_DIM = 32\n",
    "OUT_DIM = 1\n",
    "K=2\n",
    "LEARNING_RATE = 0.001"
   ],
   "metadata": {
    "collapsed": false,
    "ExecuteTime": {
     "start_time": "2023-10-28T14:36:16.646350Z",
     "end_time": "2023-10-28T14:36:16.664307Z"
    }
   }
  },
  {
   "cell_type": "markdown",
   "source": [
    "## data preparation"
   ],
   "metadata": {
    "collapsed": false
   }
  },
  {
   "cell_type": "code",
   "execution_count": 6,
   "outputs": [],
   "source": [
    "dataset = load_ferris_wheel_dataset(\n",
    "    num_gondolas=NUM_GONDOLAS,\n",
    "    num_part_pg=NUM_PART_PG,\n",
    "    num_to_generate=DATASET_SIZE,\n",
    "    dataset_path=DATASET_PATH\n",
    ")"
   ],
   "metadata": {
    "collapsed": false,
    "ExecuteTime": {
     "start_time": "2023-10-28T14:36:16.661310Z",
     "end_time": "2023-10-28T14:36:16.698306Z"
    }
   }
  },
  {
   "cell_type": "code",
   "execution_count": 7,
   "outputs": [
    {
     "data": {
      "text/plain": "10000"
     },
     "execution_count": 7,
     "metadata": {},
     "output_type": "execute_result"
    }
   ],
   "source": [
    "len(dataset)"
   ],
   "metadata": {
    "collapsed": false,
    "ExecuteTime": {
     "start_time": "2023-10-28T14:36:16.695310Z",
     "end_time": "2023-10-28T14:36:16.710309Z"
    }
   }
  },
  {
   "cell_type": "code",
   "execution_count": 8,
   "outputs": [],
   "source": [
    "generator = torch.Generator().manual_seed(420)\n",
    "train_ds, val_ds, test_ds = random_split(\n",
    "    dataset,\n",
    "    [1-val_perc-test_perc, val_perc, test_perc],\n",
    "    generator=generator\n",
    ")"
   ],
   "metadata": {
    "collapsed": false,
    "ExecuteTime": {
     "start_time": "2023-10-28T14:36:16.709312Z",
     "end_time": "2023-10-28T14:36:16.738898Z"
    }
   }
  },
  {
   "cell_type": "code",
   "execution_count": 9,
   "outputs": [],
   "source": [
    "train_loader = DataLoader(train_ds, batch_size=32, shuffle=True)\n",
    "val_loader = DataLoader(val_ds, batch_size=32, shuffle=False)\n",
    "test_loader = DataLoader(test_ds, batch_size=32, shuffle=False)"
   ],
   "metadata": {
    "collapsed": false,
    "ExecuteTime": {
     "start_time": "2023-10-28T14:36:16.726328Z",
     "end_time": "2023-10-28T14:36:16.747899Z"
    }
   }
  },
  {
   "cell_type": "code",
   "execution_count": 10,
   "outputs": [],
   "source": [
    "# todo: add more tree mutated sequences that are in dataset\n",
    "# todo: add some faulty sequences which disturb this and see how much this affects the training"
   ],
   "metadata": {
    "collapsed": false,
    "ExecuteTime": {
     "start_time": "2023-10-28T14:36:16.836093Z",
     "end_time": "2023-10-28T14:36:16.851097Z"
    }
   }
  },
  {
   "cell_type": "markdown",
   "source": [
    "## Build tree structure"
   ],
   "metadata": {
    "collapsed": false
   }
  },
  {
   "cell_type": "code",
   "execution_count": 11,
   "outputs": [],
   "source": [
    "tree_structure = TreeNode(\n",
    "    node_type=\"C\",\n",
    "    children=[\n",
    "        TreeNode(\"P\", [TreeNode(\"E\", NUM_PART_PG)])\n",
    "        for _ in range(NUM_GONDOLAS)\n",
    "    ]\n",
    ")"
   ],
   "metadata": {
    "collapsed": false,
    "ExecuteTime": {
     "start_time": "2023-10-28T14:36:17.143062Z",
     "end_time": "2023-10-28T14:36:17.150063Z"
    }
   }
  },
  {
   "cell_type": "markdown",
   "source": [
    "## Define device"
   ],
   "metadata": {
    "collapsed": false
   }
  },
  {
   "cell_type": "code",
   "execution_count": 24,
   "outputs": [],
   "source": [
    "device = \"cuda\" if torch.cuda.is_available() else \"cpu\""
   ],
   "metadata": {
    "collapsed": false,
    "ExecuteTime": {
     "start_time": "2023-10-28T14:37:31.550331Z",
     "end_time": "2023-10-28T14:37:31.562331Z"
    }
   }
  },
  {
   "cell_type": "code",
   "execution_count": 25,
   "outputs": [
    {
     "data": {
      "text/plain": "'cuda'"
     },
     "execution_count": 25,
     "metadata": {},
     "output_type": "execute_result"
    }
   ],
   "source": [
    "device"
   ],
   "metadata": {
    "collapsed": false,
    "ExecuteTime": {
     "start_time": "2023-10-28T14:37:31.709147Z",
     "end_time": "2023-10-28T14:37:31.722145Z"
    }
   }
  },
  {
   "cell_type": "markdown",
   "source": [
    "## Define Model"
   ],
   "metadata": {
    "collapsed": false
   }
  },
  {
   "cell_type": "code",
   "execution_count": 26,
   "outputs": [],
   "source": [
    "model = ChiralLayerManagementFramework(\n",
    "    in_dim=15,\n",
    "    tree=tree_structure,\n",
    "    hidden_dim=HIDDEN_DIM,\n",
    "    out_dim=OUT_DIM,\n",
    "    k=K\n",
    ").to(device)"
   ],
   "metadata": {
    "collapsed": false,
    "ExecuteTime": {
     "start_time": "2023-10-28T14:37:31.969267Z",
     "end_time": "2023-10-28T14:37:31.982265Z"
    }
   }
  },
  {
   "cell_type": "markdown",
   "source": [
    "## Define Loss and Optimizers"
   ],
   "metadata": {
    "collapsed": false
   }
  },
  {
   "cell_type": "code",
   "execution_count": 27,
   "outputs": [],
   "source": [
    "criterion = nn.MSELoss()"
   ],
   "metadata": {
    "collapsed": false,
    "ExecuteTime": {
     "start_time": "2023-10-28T14:37:32.265563Z",
     "end_time": "2023-10-28T14:37:32.277562Z"
    }
   }
  },
  {
   "cell_type": "code",
   "execution_count": 28,
   "outputs": [],
   "source": [
    "optimizer = optim.Adam(model.parameters(), lr=LEARNING_RATE)\n",
    "# optimizer = optim.SGD(model.parameters(), lr=LEARNING_RATE, momentum=0.9)"
   ],
   "metadata": {
    "collapsed": false,
    "ExecuteTime": {
     "start_time": "2023-10-28T14:37:32.464127Z",
     "end_time": "2023-10-28T14:37:32.471126Z"
    }
   }
  },
  {
   "cell_type": "markdown",
   "source": [
    "## Training"
   ],
   "metadata": {
    "collapsed": false
   }
  },
  {
   "cell_type": "code",
   "execution_count": 41,
   "outputs": [
    {
     "name": "stderr",
     "output_type": "stream",
     "text": [
      "100%|██████████| 219/219 [00:04<00:00, 45.77it/s]\n"
     ]
    }
   ],
   "source": [
    "# set model to training mode\n",
    "model.train()\n",
    "\n",
    "for batch_data, batch_label in tqdm(train_loader):\n",
    "    # optimizer zero grad\n",
    "    optimizer.zero_grad()\n",
    "\n",
    "    # put data to device\n",
    "    batch_data = batch_data.to(device)\n",
    "    batch_label = batch_label.to(device)\n",
    "\n",
    "    # put through model\n",
    "    prediction = model(batch_data).flatten()\n",
    "\n",
    "    # calculate loss\n",
    "    loss = criterion(prediction, batch_label)\n",
    "\n",
    "    # backward loss\n",
    "    loss.backward()\n",
    "\n",
    "    # optimizer step\n",
    "    optimizer.step()\n"
   ],
   "metadata": {
    "collapsed": false,
    "ExecuteTime": {
     "start_time": "2023-10-28T14:50:14.003345Z",
     "end_time": "2023-10-28T14:50:18.790986Z"
    }
   }
  },
  {
   "cell_type": "code",
   "execution_count": 47,
   "outputs": [
    {
     "data": {
      "text/plain": "tensor(56.8242)"
     },
     "execution_count": 47,
     "metadata": {},
     "output_type": "execute_result"
    }
   ],
   "source": [
    "torch.mean(torch.stack([loss.detach().cpu()]))"
   ],
   "metadata": {
    "collapsed": false,
    "ExecuteTime": {
     "start_time": "2023-10-28T14:51:30.525937Z",
     "end_time": "2023-10-28T14:51:30.559136Z"
    }
   }
  },
  {
   "cell_type": "code",
   "execution_count": 39,
   "outputs": [
    {
     "name": "stderr",
     "output_type": "stream",
     "text": [
      "100%|██████████| 63/63 [00:01<00:00, 60.74it/s]\n"
     ]
    }
   ],
   "source": [
    "with torch.no_grad():\n",
    "    # set model to evaluation mode\n",
    "    model.eval()\n",
    "\n",
    "    for batch_data, batch_label in tqdm(test_loader):\n",
    "        # put data to device\n",
    "        batch_data = batch_data.to(device)\n",
    "        batch_label = batch_label.to(device)\n",
    "\n",
    "        # put through model\n",
    "        prediction = model(batch_data).flatten()\n",
    "\n",
    "        # calculate loss\n",
    "        loss = criterion(prediction, batch_label)"
   ],
   "metadata": {
    "collapsed": false,
    "ExecuteTime": {
     "start_time": "2023-10-28T14:39:49.213686Z",
     "end_time": "2023-10-28T14:39:50.262064Z"
    }
   }
  },
  {
   "cell_type": "code",
   "execution_count": 40,
   "outputs": [
    {
     "data": {
      "text/plain": "tensor(32.2877, device='cuda:0')"
     },
     "execution_count": 40,
     "metadata": {},
     "output_type": "execute_result"
    }
   ],
   "source": [
    "loss"
   ],
   "metadata": {
    "collapsed": false,
    "ExecuteTime": {
     "start_time": "2023-10-28T14:39:54.090641Z",
     "end_time": "2023-10-28T14:39:54.097638Z"
    }
   }
  },
  {
   "cell_type": "markdown",
   "source": [
    "## Test/Debug"
   ],
   "metadata": {
    "collapsed": false
   }
  },
  {
   "cell_type": "code",
   "execution_count": 17,
   "outputs": [],
   "source": [
    "for x,y in train_loader:\n",
    "    break"
   ],
   "metadata": {
    "collapsed": false,
    "ExecuteTime": {
     "start_time": "2023-10-28T13:36:51.979864Z",
     "end_time": "2023-10-28T13:36:52.012862Z"
    }
   }
  },
  {
   "cell_type": "code",
   "execution_count": 18,
   "outputs": [
    {
     "data": {
      "text/plain": "torch.Size([32, 50, 15])"
     },
     "execution_count": 18,
     "metadata": {},
     "output_type": "execute_result"
    }
   ],
   "source": [
    "x.shape"
   ],
   "metadata": {
    "collapsed": false,
    "ExecuteTime": {
     "start_time": "2023-10-28T13:36:52.403617Z",
     "end_time": "2023-10-28T13:36:52.421616Z"
    }
   }
  },
  {
   "cell_type": "code",
   "execution_count": 19,
   "outputs": [
    {
     "data": {
      "text/plain": "tensor([[[31.0000,  2.0000,  7.7000,  ...,  1.0000,  0.0000,  0.0000],\n         [43.0000,  6.0000,  7.8000,  ...,  1.0000,  0.0000,  0.0000],\n         [43.0000,  6.0000,  7.8000,  ...,  1.0000,  0.0000,  0.0000],\n         ...,\n         [37.0000,  7.0000,  7.2000,  ...,  0.0000,  1.0000,  0.0000],\n         [49.0000,  5.0000,  6.1000,  ...,  0.0000,  1.0000,  0.0000],\n         [30.0000,  2.0000,  7.7000,  ...,  1.0000,  0.0000,  0.0000]],\n\n        [[28.0000,  2.0000,  6.2000,  ...,  1.0000,  0.0000,  0.0000],\n         [30.0000,  2.0000,  7.7000,  ...,  1.0000,  0.0000,  0.0000],\n         [31.0000,  2.0000,  7.7000,  ...,  1.0000,  0.0000,  0.0000],\n         ...,\n         [32.0000,  2.0000,  6.0000,  ...,  1.0000,  0.0000,  0.0000],\n         [54.0000,  6.0000,  8.4000,  ...,  0.0000,  1.0000,  0.0000],\n         [43.0000,  6.0000,  7.8000,  ...,  1.0000,  0.0000,  0.0000]],\n\n        [[44.0000, 10.0000,  6.3000,  ...,  1.0000,  0.0000,  0.0000],\n         [29.0000,  5.0000,  6.5000,  ...,  0.0000,  1.0000,  0.0000],\n         [38.0000,  9.0000,  7.3000,  ...,  1.0000,  0.0000,  0.0000],\n         ...,\n         [52.0000,  6.0000,  8.4000,  ...,  0.0000,  1.0000,  0.0000],\n         [35.0000,  6.0000,  7.2000,  ...,  1.0000,  0.0000,  0.0000],\n         [29.0000,  2.0000,  7.8000,  ...,  1.0000,  0.0000,  0.0000]],\n\n        ...,\n\n        [[27.0000,  1.0000,  6.1000,  ...,  1.0000,  0.0000,  0.0000],\n         [56.0000,  2.0000,  8.2000,  ...,  0.0000,  1.0000,  0.0000],\n         [41.0000,  9.0000,  7.7000,  ...,  1.0000,  0.0000,  0.0000],\n         ...,\n         [35.0000,  4.0000,  6.7000,  ...,  1.0000,  0.0000,  0.0000],\n         [43.0000,  6.0000,  7.7000,  ...,  1.0000,  0.0000,  0.0000],\n         [59.0000,  5.0000,  8.2000,  ...,  0.0000,  1.0000,  0.0000]],\n\n        [[41.0000,  9.0000,  7.1000,  ...,  1.0000,  0.0000,  0.0000],\n         [39.0000,  7.0000,  8.0000,  ...,  0.0000,  1.0000,  0.0000],\n         [37.0000,  7.0000,  7.2000,  ...,  0.0000,  1.0000,  0.0000],\n         ...,\n         [53.0000,  6.0000,  8.4000,  ...,  0.0000,  1.0000,  0.0000],\n         [41.0000,  6.0000,  7.3000,  ...,  1.0000,  0.0000,  0.0000],\n         [44.0000, 10.0000,  6.3000,  ...,  1.0000,  0.0000,  0.0000]],\n\n        [[53.0000,  6.0000,  8.5000,  ...,  0.0000,  1.0000,  0.0000],\n         [39.0000,  9.0000,  7.2000,  ...,  1.0000,  0.0000,  0.0000],\n         [44.0000,  4.0000,  6.6000,  ...,  0.0000,  1.0000,  0.0000],\n         ...,\n         [36.0000,  7.0000,  7.2000,  ...,  0.0000,  1.0000,  0.0000],\n         [59.0000,  5.0000,  8.2000,  ...,  0.0000,  1.0000,  0.0000],\n         [49.0000,  2.0000,  8.1000,  ...,  1.0000,  0.0000,  0.0000]]])"
     },
     "execution_count": 19,
     "metadata": {},
     "output_type": "execute_result"
    }
   ],
   "source": [
    "x"
   ],
   "metadata": {
    "collapsed": false,
    "ExecuteTime": {
     "start_time": "2023-10-28T13:36:52.780081Z",
     "end_time": "2023-10-28T13:36:52.798080Z"
    }
   }
  },
  {
   "cell_type": "code",
   "execution_count": 20,
   "outputs": [
    {
     "data": {
      "text/plain": "torch.Size([32])"
     },
     "execution_count": 20,
     "metadata": {},
     "output_type": "execute_result"
    }
   ],
   "source": [
    "y.shape"
   ],
   "metadata": {
    "collapsed": false,
    "ExecuteTime": {
     "start_time": "2023-10-28T13:36:53.483410Z",
     "end_time": "2023-10-28T13:36:53.506460Z"
    }
   }
  },
  {
   "cell_type": "code",
   "execution_count": 21,
   "outputs": [
    {
     "data": {
      "text/plain": "tensor([69.6241, 64.6696, 62.5482, 63.7993, 52.9346, 61.3342, 58.7269, 60.9088,\n        61.8402, 55.8015, 55.7720, 57.9381, 57.3692, 60.3790, 67.6998, 57.6472,\n        64.9572, 66.3945, 62.1344, 62.7825, 69.0934, 55.5725, 62.2126, 65.3915,\n        74.2715, 57.2791, 64.5114, 59.2670, 61.2274, 61.1825, 62.1553, 60.1770])"
     },
     "execution_count": 21,
     "metadata": {},
     "output_type": "execute_result"
    }
   ],
   "source": [
    "y"
   ],
   "metadata": {
    "collapsed": false,
    "ExecuteTime": {
     "start_time": "2023-10-28T13:36:54.485614Z",
     "end_time": "2023-10-28T13:36:54.502611Z"
    }
   }
  },
  {
   "cell_type": "code",
   "execution_count": 22,
   "outputs": [
    {
     "name": "stdout",
     "output_type": "stream",
     "text": [
      "Epoch:1 - loss:428.2895812988281\n",
      "Epoch:2 - loss:32366.56640625\n",
      "Epoch:3 - loss:7892.162109375\n",
      "Epoch:4 - loss:818.5023803710938\n",
      "Epoch:5 - loss:3544.20068359375\n",
      "Epoch:6 - loss:2663.4296875\n",
      "Epoch:7 - loss:1619.7647705078125\n",
      "Epoch:8 - loss:326.6105651855469\n",
      "Epoch:9 - loss:86.373779296875\n",
      "Epoch:10 - loss:255.9167938232422\n",
      "Epoch:11 - loss:422.157470703125\n",
      "Epoch:12 - loss:497.94384765625\n",
      "Epoch:13 - loss:456.3053283691406\n",
      "Epoch:14 - loss:328.8862609863281\n",
      "Epoch:15 - loss:178.96530151367188\n",
      "Epoch:16 - loss:67.61689758300781\n",
      "Epoch:17 - loss:28.526538848876953\n",
      "Epoch:18 - loss:58.78349304199219\n",
      "Epoch:19 - loss:126.64144134521484\n",
      "Epoch:20 - loss:190.12832641601562\n",
      "Epoch:21 - loss:217.0679168701172\n",
      "Epoch:22 - loss:197.32188415527344\n",
      "Epoch:23 - loss:143.7203826904297\n",
      "Epoch:24 - loss:82.50564575195312\n",
      "Epoch:25 - loss:39.556392669677734\n",
      "Epoch:26 - loss:28.712812423706055\n",
      "Epoch:27 - loss:46.97333526611328\n",
      "Epoch:28 - loss:78.14830780029297\n",
      "Epoch:29 - loss:102.48876953125\n",
      "Epoch:30 - loss:106.91947937011719\n",
      "Epoch:31 - loss:90.54098510742188\n",
      "Epoch:32 - loss:63.248294830322266\n",
      "Epoch:33 - loss:39.04996871948242\n",
      "Epoch:34 - loss:28.25920867919922\n",
      "Epoch:35 - loss:32.76704406738281\n",
      "Epoch:36 - loss:46.34342956542969\n",
      "Epoch:37 - loss:59.12522888183594\n",
      "Epoch:38 - loss:63.372249603271484\n",
      "Epoch:39 - loss:57.25156021118164\n",
      "Epoch:40 - loss:44.918331146240234\n",
      "Epoch:41 - loss:33.347293853759766\n",
      "Epoch:42 - loss:28.073450088500977\n",
      "Epoch:43 - loss:30.309898376464844\n",
      "Epoch:44 - loss:36.88553237915039\n",
      "Epoch:45 - loss:42.69932556152344\n",
      "Epoch:46 - loss:43.95917510986328\n",
      "Epoch:47 - loss:40.20802688598633\n",
      "Epoch:48 - loss:34.07426071166992\n",
      "Epoch:49 - loss:29.22137451171875\n",
      "Epoch:50 - loss:27.97869873046875\n",
      "Epoch:51 - loss:30.137474060058594\n",
      "Epoch:52 - loss:33.47633361816406\n",
      "Epoch:53 - loss:35.444454193115234\n",
      "Epoch:54 - loss:34.790443420410156\n",
      "Epoch:55 - loss:32.13868713378906\n",
      "Epoch:56 - loss:29.296009063720703\n",
      "Epoch:57 - loss:27.9154052734375\n",
      "Epoch:58 - loss:28.454662322998047\n",
      "Epoch:59 - loss:30.065519332885742\n",
      "Epoch:60 - loss:31.352378845214844\n",
      "Epoch:61 - loss:31.379013061523438\n",
      "Epoch:62 - loss:30.220529556274414\n",
      "Epoch:63 - loss:28.747587203979492\n",
      "Epoch:64 - loss:27.908647537231445\n",
      "Epoch:65 - loss:28.06891441345215\n",
      "Epoch:66 - loss:28.855571746826172\n",
      "Epoch:67 - loss:29.533811569213867\n",
      "Epoch:68 - loss:29.577045440673828\n",
      "Epoch:69 - loss:28.998939514160156\n",
      "Epoch:70 - loss:28.256765365600586\n",
      "Epoch:71 - loss:27.85189437866211\n",
      "Epoch:72 - loss:27.965063095092773\n",
      "Epoch:73 - loss:28.37673568725586\n",
      "Epoch:74 - loss:28.692283630371094\n",
      "Epoch:75 - loss:28.65842056274414\n",
      "Epoch:76 - loss:28.32646369934082\n",
      "Epoch:77 - loss:27.962947845458984\n",
      "Epoch:78 - loss:27.81522560119629\n",
      "Epoch:79 - loss:27.928890228271484\n",
      "Epoch:80 - loss:28.146453857421875\n",
      "Epoch:81 - loss:28.261478424072266\n",
      "Epoch:82 - loss:28.182907104492188\n",
      "Epoch:83 - loss:27.986690521240234\n",
      "Epoch:84 - loss:27.827632904052734\n",
      "Epoch:85 - loss:27.806819915771484\n",
      "Epoch:86 - loss:27.9007625579834\n",
      "Epoch:87 - loss:28.001222610473633\n",
      "Epoch:88 - loss:28.01459503173828\n",
      "Epoch:89 - loss:27.933603286743164\n",
      "Epoch:90 - loss:27.82956886291504\n",
      "Epoch:91 - loss:27.779762268066406\n",
      "Epoch:92 - loss:27.80571937561035\n",
      "Epoch:93 - loss:27.863666534423828\n",
      "Epoch:94 - loss:27.892414093017578\n",
      "Epoch:95 - loss:27.865739822387695\n",
      "Epoch:96 - loss:27.80829429626465\n",
      "Epoch:97 - loss:27.7668514251709\n",
      "Epoch:98 - loss:27.766550064086914\n",
      "Epoch:99 - loss:27.794172286987305\n",
      "Epoch:100 - loss:27.81583023071289\n",
      "Epoch:101 - loss:27.808509826660156\n",
      "Epoch:102 - loss:27.778461456298828\n",
      "Epoch:103 - loss:27.750835418701172\n",
      "Epoch:104 - loss:27.743976593017578\n",
      "Epoch:105 - loss:27.75553321838379\n",
      "Epoch:106 - loss:27.76812744140625\n",
      "Epoch:107 - loss:27.765888214111328\n",
      "Epoch:108 - loss:27.74968147277832\n",
      "Epoch:109 - loss:27.73235321044922\n",
      "Epoch:110 - loss:27.72537612915039\n",
      "Epoch:111 - loss:27.729677200317383\n",
      "Epoch:112 - loss:27.735538482666016\n",
      "Epoch:113 - loss:27.73397445678711\n",
      "Epoch:114 - loss:27.72416114807129\n",
      "Epoch:115 - loss:27.71333885192871\n",
      "Epoch:116 - loss:27.70783805847168\n",
      "Epoch:117 - loss:27.708602905273438\n",
      "Epoch:118 - loss:27.710615158081055\n",
      "Epoch:119 - loss:27.708520889282227\n",
      "Epoch:120 - loss:27.701738357543945\n",
      "Epoch:121 - loss:27.69463348388672\n",
      "Epoch:122 - loss:27.69046401977539\n",
      "Epoch:123 - loss:27.689701080322266\n",
      "Epoch:124 - loss:27.689476013183594\n",
      "Epoch:125 - loss:27.686906814575195\n",
      "Epoch:126 - loss:27.681568145751953\n",
      "Epoch:127 - loss:27.676586151123047\n",
      "Epoch:128 - loss:27.673128128051758\n",
      "Epoch:129 - loss:27.671842575073242\n",
      "Epoch:130 - loss:27.670276641845703\n",
      "Epoch:131 - loss:27.66716194152832\n",
      "Epoch:132 - loss:27.662830352783203\n",
      "Epoch:133 - loss:27.65907859802246\n",
      "Epoch:134 - loss:27.656343460083008\n",
      "Epoch:135 - loss:27.654430389404297\n",
      "Epoch:136 - loss:27.651988983154297\n",
      "Epoch:137 - loss:27.648935317993164\n",
      "Epoch:138 - loss:27.645416259765625\n",
      "Epoch:139 - loss:27.64240264892578\n",
      "Epoch:140 - loss:27.639623641967773\n",
      "Epoch:141 - loss:27.63755226135254\n",
      "Epoch:142 - loss:27.635011672973633\n",
      "Epoch:143 - loss:27.631986618041992\n",
      "Epoch:144 - loss:27.628904342651367\n",
      "Epoch:145 - loss:27.6259822845459\n",
      "Epoch:146 - loss:27.62343978881836\n",
      "Epoch:147 - loss:27.62115478515625\n",
      "Epoch:148 - loss:27.618654251098633\n",
      "Epoch:149 - loss:27.61570167541504\n",
      "Epoch:150 - loss:27.613122940063477\n",
      "Epoch:151 - loss:27.61029052734375\n",
      "Epoch:152 - loss:27.608198165893555\n",
      "Epoch:153 - loss:27.6057071685791\n",
      "Epoch:154 - loss:27.603199005126953\n",
      "Epoch:155 - loss:27.60059356689453\n",
      "Epoch:156 - loss:27.598176956176758\n",
      "Epoch:157 - loss:27.595844268798828\n",
      "Epoch:158 - loss:27.59345245361328\n",
      "Epoch:159 - loss:27.591167449951172\n",
      "Epoch:160 - loss:27.588672637939453\n",
      "Epoch:161 - loss:27.58612632751465\n",
      "Epoch:162 - loss:27.58402442932129\n",
      "Epoch:163 - loss:27.581615447998047\n",
      "Epoch:164 - loss:27.579425811767578\n",
      "Epoch:165 - loss:27.577089309692383\n",
      "Epoch:166 - loss:27.574825286865234\n",
      "Epoch:167 - loss:27.572439193725586\n",
      "Epoch:168 - loss:27.57013702392578\n",
      "Epoch:169 - loss:27.568225860595703\n",
      "Epoch:170 - loss:27.565811157226562\n",
      "Epoch:171 - loss:27.563594818115234\n",
      "Epoch:172 - loss:27.561542510986328\n",
      "Epoch:173 - loss:27.559310913085938\n",
      "Epoch:174 - loss:27.557308197021484\n",
      "Epoch:175 - loss:27.554903030395508\n",
      "Epoch:176 - loss:27.552888870239258\n",
      "Epoch:177 - loss:27.550765991210938\n",
      "Epoch:178 - loss:27.548547744750977\n",
      "Epoch:179 - loss:27.546483993530273\n",
      "Epoch:180 - loss:27.544719696044922\n",
      "Epoch:181 - loss:27.542678833007812\n",
      "Epoch:182 - loss:27.54042625427246\n",
      "Epoch:183 - loss:27.538652420043945\n",
      "Epoch:184 - loss:27.536582946777344\n",
      "Epoch:185 - loss:27.534589767456055\n",
      "Epoch:186 - loss:27.532611846923828\n",
      "Epoch:187 - loss:27.530765533447266\n",
      "Epoch:188 - loss:27.528831481933594\n",
      "Epoch:189 - loss:27.526884078979492\n",
      "Epoch:190 - loss:27.524940490722656\n",
      "Epoch:191 - loss:27.523204803466797\n",
      "Epoch:192 - loss:27.521259307861328\n",
      "Epoch:193 - loss:27.519540786743164\n",
      "Epoch:194 - loss:27.51776885986328\n",
      "Epoch:195 - loss:27.51583480834961\n",
      "Epoch:196 - loss:27.514150619506836\n",
      "Epoch:197 - loss:27.512216567993164\n",
      "Epoch:198 - loss:27.510650634765625\n",
      "Epoch:199 - loss:27.5089111328125\n",
      "Epoch:200 - loss:27.507177352905273\n",
      "Epoch:201 - loss:27.505529403686523\n",
      "Epoch:202 - loss:27.503713607788086\n",
      "Epoch:203 - loss:27.502058029174805\n",
      "Epoch:204 - loss:27.500423431396484\n",
      "Epoch:205 - loss:27.49873924255371\n",
      "Epoch:206 - loss:27.497108459472656\n",
      "Epoch:207 - loss:27.49547004699707\n",
      "Epoch:208 - loss:27.493732452392578\n",
      "Epoch:209 - loss:27.49195671081543\n",
      "Epoch:210 - loss:27.490371704101562\n",
      "Epoch:211 - loss:27.488767623901367\n",
      "Epoch:212 - loss:27.486949920654297\n",
      "Epoch:213 - loss:27.485370635986328\n",
      "Epoch:214 - loss:27.483917236328125\n",
      "Epoch:215 - loss:27.482133865356445\n",
      "Epoch:216 - loss:27.480655670166016\n",
      "Epoch:217 - loss:27.479333877563477\n",
      "Epoch:218 - loss:27.47785758972168\n",
      "Epoch:219 - loss:27.4764347076416\n",
      "Epoch:220 - loss:27.47502899169922\n",
      "Epoch:221 - loss:27.47361946105957\n",
      "Epoch:222 - loss:27.472515106201172\n",
      "Epoch:223 - loss:27.471261978149414\n",
      "Epoch:224 - loss:27.469995498657227\n",
      "Epoch:225 - loss:27.468759536743164\n",
      "Epoch:226 - loss:27.46767234802246\n",
      "Epoch:227 - loss:27.466493606567383\n",
      "Epoch:228 - loss:27.465396881103516\n",
      "Epoch:229 - loss:27.464351654052734\n",
      "Epoch:230 - loss:27.463092803955078\n",
      "Epoch:231 - loss:27.46213150024414\n",
      "Epoch:232 - loss:27.461023330688477\n",
      "Epoch:233 - loss:27.459692001342773\n",
      "Epoch:234 - loss:27.45884132385254\n",
      "Epoch:235 - loss:27.45785903930664\n",
      "Epoch:236 - loss:27.456594467163086\n",
      "Epoch:237 - loss:27.45564842224121\n",
      "Epoch:238 - loss:27.454559326171875\n",
      "Epoch:239 - loss:27.45370864868164\n",
      "Epoch:240 - loss:27.452484130859375\n",
      "Epoch:241 - loss:27.451391220092773\n",
      "Epoch:242 - loss:27.450252532958984\n",
      "Epoch:243 - loss:27.44942283630371\n",
      "Epoch:244 - loss:27.44841194152832\n",
      "Epoch:245 - loss:27.447500228881836\n",
      "Epoch:246 - loss:27.44647979736328\n",
      "Epoch:247 - loss:27.44547462463379\n",
      "Epoch:248 - loss:27.4442081451416\n",
      "Epoch:249 - loss:27.443225860595703\n",
      "Epoch:250 - loss:27.442466735839844\n",
      "Epoch:251 - loss:27.441360473632812\n",
      "Epoch:252 - loss:27.4404354095459\n",
      "Epoch:253 - loss:27.43947410583496\n",
      "Epoch:254 - loss:27.438308715820312\n",
      "Epoch:255 - loss:27.437448501586914\n",
      "Epoch:256 - loss:27.436559677124023\n",
      "Epoch:257 - loss:27.43552589416504\n",
      "Epoch:258 - loss:27.434585571289062\n",
      "Epoch:259 - loss:27.433635711669922\n",
      "Epoch:260 - loss:27.432525634765625\n",
      "Epoch:261 - loss:27.43172264099121\n",
      "Epoch:262 - loss:27.4305362701416\n",
      "Epoch:263 - loss:27.429737091064453\n",
      "Epoch:264 - loss:27.42879867553711\n",
      "Epoch:265 - loss:27.42799186706543\n",
      "Epoch:266 - loss:27.42694664001465\n",
      "Epoch:267 - loss:27.42599105834961\n",
      "Epoch:268 - loss:27.42507553100586\n",
      "Epoch:269 - loss:27.42403793334961\n",
      "Epoch:270 - loss:27.42313003540039\n",
      "Epoch:271 - loss:27.42219352722168\n",
      "Epoch:272 - loss:27.421283721923828\n",
      "Epoch:273 - loss:27.42046356201172\n",
      "Epoch:274 - loss:27.419401168823242\n",
      "Epoch:275 - loss:27.418453216552734\n",
      "Epoch:276 - loss:27.4175968170166\n",
      "Epoch:277 - loss:27.416906356811523\n",
      "Epoch:278 - loss:27.415834426879883\n",
      "Epoch:279 - loss:27.41493034362793\n",
      "Epoch:280 - loss:27.414039611816406\n",
      "Epoch:281 - loss:27.413137435913086\n",
      "Epoch:282 - loss:27.41225242614746\n",
      "Epoch:283 - loss:27.411327362060547\n",
      "Epoch:284 - loss:27.410350799560547\n",
      "Epoch:285 - loss:27.409603118896484\n",
      "Epoch:286 - loss:27.4085636138916\n",
      "Epoch:287 - loss:27.407806396484375\n",
      "Epoch:288 - loss:27.406953811645508\n",
      "Epoch:289 - loss:27.405935287475586\n",
      "Epoch:290 - loss:27.405189514160156\n",
      "Epoch:291 - loss:27.40436553955078\n",
      "Epoch:292 - loss:27.403362274169922\n",
      "Epoch:293 - loss:27.402477264404297\n",
      "Epoch:294 - loss:27.401782989501953\n",
      "Epoch:295 - loss:27.400705337524414\n",
      "Epoch:296 - loss:27.400047302246094\n",
      "Epoch:297 - loss:27.39911460876465\n",
      "Epoch:298 - loss:27.398170471191406\n",
      "Epoch:299 - loss:27.39732551574707\n",
      "Epoch:300 - loss:27.39640235900879\n",
      "Epoch:301 - loss:27.39560317993164\n",
      "Epoch:302 - loss:27.394676208496094\n",
      "Epoch:303 - loss:27.39363670349121\n",
      "Epoch:304 - loss:27.392845153808594\n",
      "Epoch:305 - loss:27.39193344116211\n",
      "Epoch:306 - loss:27.391233444213867\n",
      "Epoch:307 - loss:27.390403747558594\n",
      "Epoch:308 - loss:27.38946533203125\n",
      "Epoch:309 - loss:27.38881492614746\n",
      "Epoch:310 - loss:27.38789939880371\n",
      "Epoch:311 - loss:27.38690757751465\n",
      "Epoch:312 - loss:27.385997772216797\n",
      "Epoch:313 - loss:27.38526153564453\n",
      "Epoch:314 - loss:27.384572982788086\n",
      "Epoch:315 - loss:27.383512496948242\n",
      "Epoch:316 - loss:27.38283348083496\n",
      "Epoch:317 - loss:27.381914138793945\n",
      "Epoch:318 - loss:27.381061553955078\n",
      "Epoch:319 - loss:27.380298614501953\n",
      "Epoch:320 - loss:27.3794002532959\n",
      "Epoch:321 - loss:27.378679275512695\n",
      "Epoch:322 - loss:27.377716064453125\n",
      "Epoch:323 - loss:27.376970291137695\n",
      "Epoch:324 - loss:27.376039505004883\n",
      "Epoch:325 - loss:27.375240325927734\n",
      "Epoch:326 - loss:27.374454498291016\n",
      "Epoch:327 - loss:27.37360191345215\n",
      "Epoch:328 - loss:27.37285804748535\n",
      "Epoch:329 - loss:27.372127532958984\n",
      "Epoch:330 - loss:27.37131690979004\n",
      "Epoch:331 - loss:27.37036895751953\n",
      "Epoch:332 - loss:27.369720458984375\n",
      "Epoch:333 - loss:27.368671417236328\n",
      "Epoch:334 - loss:27.367874145507812\n",
      "Epoch:335 - loss:27.366971969604492\n",
      "Epoch:336 - loss:27.366313934326172\n",
      "Epoch:337 - loss:27.36552619934082\n",
      "Epoch:338 - loss:27.364768981933594\n",
      "Epoch:339 - loss:27.363845825195312\n",
      "Epoch:340 - loss:27.363210678100586\n",
      "Epoch:341 - loss:27.362245559692383\n",
      "Epoch:342 - loss:27.361461639404297\n",
      "Epoch:343 - loss:27.360614776611328\n",
      "Epoch:344 - loss:27.359804153442383\n",
      "Epoch:345 - loss:27.358922958374023\n",
      "Epoch:346 - loss:27.358291625976562\n",
      "Epoch:347 - loss:27.357419967651367\n",
      "Epoch:348 - loss:27.356468200683594\n",
      "Epoch:349 - loss:27.355928421020508\n",
      "Epoch:350 - loss:27.355005264282227\n",
      "Epoch:351 - loss:27.354297637939453\n",
      "Epoch:352 - loss:27.353466033935547\n",
      "Epoch:353 - loss:27.35260009765625\n",
      "Epoch:354 - loss:27.351848602294922\n",
      "Epoch:355 - loss:27.351009368896484\n",
      "Epoch:356 - loss:27.350290298461914\n",
      "Epoch:357 - loss:27.349380493164062\n",
      "Epoch:358 - loss:27.348947525024414\n",
      "Epoch:359 - loss:27.34796142578125\n",
      "Epoch:360 - loss:27.347209930419922\n",
      "Epoch:361 - loss:27.346397399902344\n",
      "Epoch:362 - loss:27.345598220825195\n",
      "Epoch:363 - loss:27.344877243041992\n",
      "Epoch:364 - loss:27.344362258911133\n",
      "Epoch:365 - loss:27.343399047851562\n",
      "Epoch:366 - loss:27.342655181884766\n",
      "Epoch:367 - loss:27.34182357788086\n",
      "Epoch:368 - loss:27.34100341796875\n",
      "Epoch:369 - loss:27.340221405029297\n",
      "Epoch:370 - loss:27.339550018310547\n",
      "Epoch:371 - loss:27.33870506286621\n",
      "Epoch:372 - loss:27.337993621826172\n",
      "Epoch:373 - loss:27.337310791015625\n",
      "Epoch:374 - loss:27.336750030517578\n",
      "Epoch:375 - loss:27.33586883544922\n",
      "Epoch:376 - loss:27.335020065307617\n",
      "Epoch:377 - loss:27.334362030029297\n",
      "Epoch:378 - loss:27.33358383178711\n",
      "Epoch:379 - loss:27.33283805847168\n",
      "Epoch:380 - loss:27.332223892211914\n",
      "Epoch:381 - loss:27.331336975097656\n",
      "Epoch:382 - loss:27.330629348754883\n",
      "Epoch:383 - loss:27.32988166809082\n",
      "Epoch:384 - loss:27.329187393188477\n",
      "Epoch:385 - loss:27.328638076782227\n",
      "Epoch:386 - loss:27.327850341796875\n",
      "Epoch:387 - loss:27.327299118041992\n",
      "Epoch:388 - loss:27.326496124267578\n",
      "Epoch:389 - loss:27.32575798034668\n",
      "Epoch:390 - loss:27.324993133544922\n",
      "Epoch:391 - loss:27.324302673339844\n",
      "Epoch:392 - loss:27.323627471923828\n",
      "Epoch:393 - loss:27.322824478149414\n",
      "Epoch:394 - loss:27.32244110107422\n",
      "Epoch:395 - loss:27.32157325744629\n",
      "Epoch:396 - loss:27.320777893066406\n",
      "Epoch:397 - loss:27.32025909423828\n",
      "Epoch:398 - loss:27.319448471069336\n",
      "Epoch:399 - loss:27.318706512451172\n",
      "Epoch:400 - loss:27.31818199157715\n",
      "Epoch:401 - loss:27.31732749938965\n",
      "Epoch:402 - loss:27.316715240478516\n",
      "Epoch:403 - loss:27.31618309020996\n",
      "Epoch:404 - loss:27.31546974182129\n",
      "Epoch:405 - loss:27.314666748046875\n",
      "Epoch:406 - loss:27.31405258178711\n",
      "Epoch:407 - loss:27.313234329223633\n",
      "Epoch:408 - loss:27.312644958496094\n",
      "Epoch:409 - loss:27.31194305419922\n",
      "Epoch:410 - loss:27.311445236206055\n",
      "Epoch:411 - loss:27.310415267944336\n",
      "Epoch:412 - loss:27.310029983520508\n",
      "Epoch:413 - loss:27.30934715270996\n",
      "Epoch:414 - loss:27.30859375\n",
      "Epoch:415 - loss:27.30790901184082\n",
      "Epoch:416 - loss:27.307388305664062\n",
      "Epoch:417 - loss:27.30647850036621\n",
      "Epoch:418 - loss:27.30582046508789\n",
      "Epoch:419 - loss:27.30518913269043\n",
      "Epoch:420 - loss:27.304540634155273\n",
      "Epoch:421 - loss:27.303882598876953\n",
      "Epoch:422 - loss:27.30333709716797\n",
      "Epoch:423 - loss:27.30246353149414\n",
      "Epoch:424 - loss:27.301830291748047\n",
      "Epoch:425 - loss:27.301132202148438\n",
      "Epoch:426 - loss:27.30024528503418\n",
      "Epoch:427 - loss:27.299909591674805\n",
      "Epoch:428 - loss:27.299299240112305\n",
      "Epoch:429 - loss:27.29854965209961\n",
      "Epoch:430 - loss:27.2979679107666\n",
      "Epoch:431 - loss:27.296993255615234\n",
      "Epoch:432 - loss:27.296377182006836\n",
      "Epoch:433 - loss:27.29572296142578\n",
      "Epoch:434 - loss:27.294891357421875\n",
      "Epoch:435 - loss:27.2943115234375\n",
      "Epoch:436 - loss:27.29363441467285\n",
      "Epoch:437 - loss:27.292978286743164\n",
      "Epoch:438 - loss:27.292387008666992\n",
      "Epoch:439 - loss:27.291683197021484\n",
      "Epoch:440 - loss:27.29107666015625\n",
      "Epoch:441 - loss:27.290464401245117\n",
      "Epoch:442 - loss:27.28961944580078\n",
      "Epoch:443 - loss:27.28889274597168\n",
      "Epoch:444 - loss:27.288442611694336\n",
      "Epoch:445 - loss:27.287742614746094\n",
      "Epoch:446 - loss:27.28696060180664\n",
      "Epoch:447 - loss:27.286314010620117\n",
      "Epoch:448 - loss:27.285621643066406\n",
      "Epoch:449 - loss:27.284822463989258\n",
      "Epoch:450 - loss:27.28411865234375\n",
      "Epoch:451 - loss:27.283472061157227\n",
      "Epoch:452 - loss:27.282917022705078\n",
      "Epoch:453 - loss:27.282291412353516\n",
      "Epoch:454 - loss:27.28157615661621\n",
      "Epoch:455 - loss:27.28096580505371\n",
      "Epoch:456 - loss:27.280305862426758\n",
      "Epoch:457 - loss:27.279319763183594\n",
      "Epoch:458 - loss:27.278736114501953\n",
      "Epoch:459 - loss:27.278087615966797\n",
      "Epoch:460 - loss:27.27732276916504\n",
      "Epoch:461 - loss:27.276687622070312\n",
      "Epoch:462 - loss:27.276100158691406\n",
      "Epoch:463 - loss:27.275524139404297\n",
      "Epoch:464 - loss:27.274702072143555\n",
      "Epoch:465 - loss:27.274028778076172\n",
      "Epoch:466 - loss:27.273345947265625\n",
      "Epoch:467 - loss:27.2725772857666\n",
      "Epoch:468 - loss:27.27196502685547\n",
      "Epoch:469 - loss:27.27114486694336\n",
      "Epoch:470 - loss:27.27056121826172\n",
      "Epoch:471 - loss:27.26975440979004\n",
      "Epoch:472 - loss:27.268943786621094\n",
      "Epoch:473 - loss:27.26844596862793\n",
      "Epoch:474 - loss:27.267704010009766\n",
      "Epoch:475 - loss:27.26731300354004\n",
      "Epoch:476 - loss:27.266368865966797\n",
      "Epoch:477 - loss:27.26588249206543\n",
      "Epoch:478 - loss:27.265077590942383\n",
      "Epoch:479 - loss:27.264400482177734\n",
      "Epoch:480 - loss:27.263614654541016\n",
      "Epoch:481 - loss:27.263038635253906\n",
      "Epoch:482 - loss:27.262340545654297\n",
      "Epoch:483 - loss:27.261518478393555\n",
      "Epoch:484 - loss:27.261035919189453\n",
      "Epoch:485 - loss:27.260215759277344\n",
      "Epoch:486 - loss:27.259485244750977\n",
      "Epoch:487 - loss:27.258892059326172\n",
      "Epoch:488 - loss:27.258056640625\n",
      "Epoch:489 - loss:27.257356643676758\n",
      "Epoch:490 - loss:27.25678062438965\n",
      "Epoch:491 - loss:27.255887985229492\n",
      "Epoch:492 - loss:27.255409240722656\n",
      "Epoch:493 - loss:27.254575729370117\n",
      "Epoch:494 - loss:27.25387954711914\n",
      "Epoch:495 - loss:27.253446578979492\n",
      "Epoch:496 - loss:27.252412796020508\n",
      "Epoch:497 - loss:27.251802444458008\n",
      "Epoch:498 - loss:27.25111198425293\n",
      "Epoch:499 - loss:27.25056266784668\n",
      "Epoch:500 - loss:27.2497501373291\n",
      "Epoch:501 - loss:27.249156951904297\n",
      "Epoch:502 - loss:27.248239517211914\n",
      "Epoch:503 - loss:27.247785568237305\n",
      "Epoch:504 - loss:27.247196197509766\n",
      "Epoch:505 - loss:27.24632453918457\n",
      "Epoch:506 - loss:27.24567413330078\n",
      "Epoch:507 - loss:27.244966506958008\n",
      "Epoch:508 - loss:27.24400520324707\n",
      "Epoch:509 - loss:27.243633270263672\n",
      "Epoch:510 - loss:27.242725372314453\n",
      "Epoch:511 - loss:27.24203872680664\n",
      "Epoch:512 - loss:27.241443634033203\n",
      "Epoch:513 - loss:27.240787506103516\n",
      "Epoch:514 - loss:27.239957809448242\n",
      "Epoch:515 - loss:27.239126205444336\n",
      "Epoch:516 - loss:27.23862648010254\n",
      "Epoch:517 - loss:27.23763084411621\n",
      "Epoch:518 - loss:27.23719596862793\n",
      "Epoch:519 - loss:27.236467361450195\n",
      "Epoch:520 - loss:27.235689163208008\n",
      "Epoch:521 - loss:27.235275268554688\n",
      "Epoch:522 - loss:27.23430061340332\n",
      "Epoch:523 - loss:27.233789443969727\n",
      "Epoch:524 - loss:27.232908248901367\n",
      "Epoch:525 - loss:27.232290267944336\n",
      "Epoch:526 - loss:27.23151397705078\n",
      "Epoch:527 - loss:27.230714797973633\n",
      "Epoch:528 - loss:27.230127334594727\n",
      "Epoch:529 - loss:27.229228973388672\n",
      "Epoch:530 - loss:27.228656768798828\n",
      "Epoch:531 - loss:27.227869033813477\n",
      "Epoch:532 - loss:27.227123260498047\n",
      "Epoch:533 - loss:27.226329803466797\n",
      "Epoch:534 - loss:27.22564697265625\n",
      "Epoch:535 - loss:27.225122451782227\n",
      "Epoch:536 - loss:27.22433853149414\n",
      "Epoch:537 - loss:27.223745346069336\n",
      "Epoch:538 - loss:27.222848892211914\n",
      "Epoch:539 - loss:27.22214126586914\n",
      "Epoch:540 - loss:27.22161102294922\n",
      "Epoch:541 - loss:27.22081184387207\n",
      "Epoch:542 - loss:27.220094680786133\n",
      "Epoch:543 - loss:27.219343185424805\n",
      "Epoch:544 - loss:27.21858024597168\n",
      "Epoch:545 - loss:27.217893600463867\n",
      "Epoch:546 - loss:27.217021942138672\n",
      "Epoch:547 - loss:27.21631622314453\n",
      "Epoch:548 - loss:27.215681076049805\n",
      "Epoch:549 - loss:27.214956283569336\n",
      "Epoch:550 - loss:27.214189529418945\n",
      "Epoch:551 - loss:27.21341323852539\n",
      "Epoch:552 - loss:27.212783813476562\n",
      "Epoch:553 - loss:27.2120304107666\n",
      "Epoch:554 - loss:27.211179733276367\n",
      "Epoch:555 - loss:27.210468292236328\n",
      "Epoch:556 - loss:27.209651947021484\n",
      "Epoch:557 - loss:27.208953857421875\n",
      "Epoch:558 - loss:27.208274841308594\n",
      "Epoch:559 - loss:27.207502365112305\n",
      "Epoch:560 - loss:27.206745147705078\n",
      "Epoch:561 - loss:27.20607566833496\n",
      "Epoch:562 - loss:27.205347061157227\n",
      "Epoch:563 - loss:27.204683303833008\n",
      "Epoch:564 - loss:27.203847885131836\n",
      "Epoch:565 - loss:27.20323371887207\n",
      "Epoch:566 - loss:27.202560424804688\n",
      "Epoch:567 - loss:27.20148468017578\n",
      "Epoch:568 - loss:27.200971603393555\n",
      "Epoch:569 - loss:27.200061798095703\n",
      "Epoch:570 - loss:27.199302673339844\n",
      "Epoch:571 - loss:27.198585510253906\n",
      "Epoch:572 - loss:27.197927474975586\n",
      "Epoch:573 - loss:27.1971435546875\n",
      "Epoch:574 - loss:27.196231842041016\n",
      "Epoch:575 - loss:27.195695877075195\n",
      "Epoch:576 - loss:27.194746017456055\n",
      "Epoch:577 - loss:27.194046020507812\n",
      "Epoch:578 - loss:27.193208694458008\n",
      "Epoch:579 - loss:27.19266700744629\n",
      "Epoch:580 - loss:27.19173812866211\n",
      "Epoch:581 - loss:27.191049575805664\n",
      "Epoch:582 - loss:27.190189361572266\n",
      "Epoch:583 - loss:27.189441680908203\n",
      "Epoch:584 - loss:27.18879508972168\n",
      "Epoch:585 - loss:27.187726974487305\n",
      "Epoch:586 - loss:27.187326431274414\n",
      "Epoch:587 - loss:27.186420440673828\n",
      "Epoch:588 - loss:27.185558319091797\n",
      "Epoch:589 - loss:27.18491554260254\n",
      "Epoch:590 - loss:27.183992385864258\n",
      "Epoch:591 - loss:27.183298110961914\n",
      "Epoch:592 - loss:27.182405471801758\n",
      "Epoch:593 - loss:27.181787490844727\n",
      "Epoch:594 - loss:27.180768966674805\n",
      "Epoch:595 - loss:27.180255889892578\n",
      "Epoch:596 - loss:27.179426193237305\n",
      "Epoch:597 - loss:27.178640365600586\n",
      "Epoch:598 - loss:27.17787742614746\n",
      "Epoch:599 - loss:27.17728042602539\n",
      "Epoch:600 - loss:27.176490783691406\n",
      "Epoch:601 - loss:27.175512313842773\n",
      "Epoch:602 - loss:27.174758911132812\n",
      "Epoch:603 - loss:27.17391586303711\n",
      "Epoch:604 - loss:27.173118591308594\n",
      "Epoch:605 - loss:27.17234992980957\n",
      "Epoch:606 - loss:27.171602249145508\n",
      "Epoch:607 - loss:27.170949935913086\n",
      "Epoch:608 - loss:27.1700439453125\n",
      "Epoch:609 - loss:27.169296264648438\n",
      "Epoch:610 - loss:27.168537139892578\n",
      "Epoch:611 - loss:27.167705535888672\n",
      "Epoch:612 - loss:27.16689682006836\n",
      "Epoch:613 - loss:27.166156768798828\n",
      "Epoch:614 - loss:27.16537857055664\n",
      "Epoch:615 - loss:27.164688110351562\n",
      "Epoch:616 - loss:27.16377830505371\n",
      "Epoch:617 - loss:27.16307258605957\n",
      "Epoch:618 - loss:27.162141799926758\n",
      "Epoch:619 - loss:27.16140365600586\n",
      "Epoch:620 - loss:27.16051483154297\n",
      "Epoch:621 - loss:27.159896850585938\n",
      "Epoch:622 - loss:27.15902328491211\n",
      "Epoch:623 - loss:27.158164978027344\n",
      "Epoch:624 - loss:27.157581329345703\n",
      "Epoch:625 - loss:27.156496047973633\n",
      "Epoch:626 - loss:27.15578842163086\n",
      "Epoch:627 - loss:27.15500259399414\n",
      "Epoch:628 - loss:27.154335021972656\n",
      "Epoch:629 - loss:27.15349006652832\n",
      "Epoch:630 - loss:27.152767181396484\n",
      "Epoch:631 - loss:27.15185546875\n",
      "Epoch:632 - loss:27.15110206604004\n",
      "Epoch:633 - loss:27.15019989013672\n",
      "Epoch:634 - loss:27.14947509765625\n",
      "Epoch:635 - loss:27.148874282836914\n",
      "Epoch:636 - loss:27.14784049987793\n",
      "Epoch:637 - loss:27.147048950195312\n",
      "Epoch:638 - loss:27.146236419677734\n",
      "Epoch:639 - loss:27.145565032958984\n",
      "Epoch:640 - loss:27.144733428955078\n",
      "Epoch:641 - loss:27.14387321472168\n",
      "Epoch:642 - loss:27.143165588378906\n",
      "Epoch:643 - loss:27.1422119140625\n",
      "Epoch:644 - loss:27.141422271728516\n",
      "Epoch:645 - loss:27.14075469970703\n",
      "Epoch:646 - loss:27.13991355895996\n",
      "Epoch:647 - loss:27.139047622680664\n",
      "Epoch:648 - loss:27.13827896118164\n",
      "Epoch:649 - loss:27.13758659362793\n",
      "Epoch:650 - loss:27.13651466369629\n",
      "Epoch:651 - loss:27.135740280151367\n",
      "Epoch:652 - loss:27.134933471679688\n",
      "Epoch:653 - loss:27.13433265686035\n",
      "Epoch:654 - loss:27.133407592773438\n",
      "Epoch:655 - loss:27.132646560668945\n",
      "Epoch:656 - loss:27.13178062438965\n",
      "Epoch:657 - loss:27.131040573120117\n",
      "Epoch:658 - loss:27.13018226623535\n",
      "Epoch:659 - loss:27.12955665588379\n",
      "Epoch:660 - loss:27.128416061401367\n",
      "Epoch:661 - loss:27.12789535522461\n",
      "Epoch:662 - loss:27.126815795898438\n",
      "Epoch:663 - loss:27.12607765197754\n",
      "Epoch:664 - loss:27.125398635864258\n",
      "Epoch:665 - loss:27.124290466308594\n",
      "Epoch:666 - loss:27.123579025268555\n",
      "Epoch:667 - loss:27.12264633178711\n",
      "Epoch:668 - loss:27.121856689453125\n",
      "Epoch:669 - loss:27.121076583862305\n",
      "Epoch:670 - loss:27.120283126831055\n",
      "Epoch:671 - loss:27.119470596313477\n",
      "Epoch:672 - loss:27.118650436401367\n",
      "Epoch:673 - loss:27.117952346801758\n",
      "Epoch:674 - loss:27.117137908935547\n",
      "Epoch:675 - loss:27.116395950317383\n",
      "Epoch:676 - loss:27.115306854248047\n",
      "Epoch:677 - loss:27.11457633972168\n",
      "Epoch:678 - loss:27.113611221313477\n",
      "Epoch:679 - loss:27.1126766204834\n",
      "Epoch:680 - loss:27.112037658691406\n",
      "Epoch:681 - loss:27.11113166809082\n",
      "Epoch:682 - loss:27.110536575317383\n",
      "Epoch:683 - loss:27.109390258789062\n",
      "Epoch:684 - loss:27.108722686767578\n",
      "Epoch:685 - loss:27.107866287231445\n",
      "Epoch:686 - loss:27.107101440429688\n",
      "Epoch:687 - loss:27.10641098022461\n",
      "Epoch:688 - loss:27.105396270751953\n",
      "Epoch:689 - loss:27.1043758392334\n",
      "Epoch:690 - loss:27.103498458862305\n",
      "Epoch:691 - loss:27.10279655456543\n",
      "Epoch:692 - loss:27.10200309753418\n",
      "Epoch:693 - loss:27.101150512695312\n",
      "Epoch:694 - loss:27.100080490112305\n",
      "Epoch:695 - loss:27.099428176879883\n",
      "Epoch:696 - loss:27.09846305847168\n",
      "Epoch:697 - loss:27.097698211669922\n",
      "Epoch:698 - loss:27.09684944152832\n",
      "Epoch:699 - loss:27.0958251953125\n",
      "Epoch:700 - loss:27.095062255859375\n",
      "Epoch:701 - loss:27.094078063964844\n",
      "Epoch:702 - loss:27.0931396484375\n",
      "Epoch:703 - loss:27.09239959716797\n",
      "Epoch:704 - loss:27.091442108154297\n",
      "Epoch:705 - loss:27.090412139892578\n",
      "Epoch:706 - loss:27.089387893676758\n",
      "Epoch:707 - loss:27.088531494140625\n",
      "Epoch:708 - loss:27.08728790283203\n",
      "Epoch:709 - loss:27.086132049560547\n",
      "Epoch:710 - loss:27.085147857666016\n",
      "Epoch:711 - loss:27.084047317504883\n",
      "Epoch:712 - loss:27.08281135559082\n",
      "Epoch:713 - loss:27.081632614135742\n",
      "Epoch:714 - loss:27.080482482910156\n",
      "Epoch:715 - loss:27.079240798950195\n",
      "Epoch:716 - loss:27.07808494567871\n",
      "Epoch:717 - loss:27.076736450195312\n",
      "Epoch:718 - loss:27.075496673583984\n",
      "Epoch:719 - loss:27.074268341064453\n",
      "Epoch:720 - loss:27.073017120361328\n",
      "Epoch:721 - loss:27.07182502746582\n",
      "Epoch:722 - loss:27.070472717285156\n",
      "Epoch:723 - loss:27.069307327270508\n",
      "Epoch:724 - loss:27.067779541015625\n",
      "Epoch:725 - loss:27.066614151000977\n",
      "Epoch:726 - loss:27.065296173095703\n",
      "Epoch:727 - loss:27.064035415649414\n",
      "Epoch:728 - loss:27.06277084350586\n",
      "Epoch:729 - loss:27.06142234802246\n",
      "Epoch:730 - loss:27.060121536254883\n",
      "Epoch:731 - loss:27.058815002441406\n",
      "Epoch:732 - loss:27.05755615234375\n",
      "Epoch:733 - loss:27.05603790283203\n",
      "Epoch:734 - loss:27.05475616455078\n",
      "Epoch:735 - loss:27.05355453491211\n",
      "Epoch:736 - loss:27.052133560180664\n",
      "Epoch:737 - loss:27.05084228515625\n",
      "Epoch:738 - loss:27.0495548248291\n",
      "Epoch:739 - loss:27.048133850097656\n",
      "Epoch:740 - loss:27.046947479248047\n",
      "Epoch:741 - loss:27.04550552368164\n",
      "Epoch:742 - loss:27.044218063354492\n",
      "Epoch:743 - loss:27.042892456054688\n",
      "Epoch:744 - loss:27.04158592224121\n",
      "Epoch:745 - loss:27.0400447845459\n",
      "Epoch:746 - loss:27.03870391845703\n",
      "Epoch:747 - loss:27.037363052368164\n",
      "Epoch:748 - loss:27.03618049621582\n",
      "Epoch:749 - loss:27.034822463989258\n",
      "Epoch:750 - loss:27.033538818359375\n",
      "Epoch:751 - loss:27.032081604003906\n",
      "Epoch:752 - loss:27.030527114868164\n",
      "Epoch:753 - loss:27.029338836669922\n",
      "Epoch:754 - loss:27.027854919433594\n",
      "Epoch:755 - loss:27.026634216308594\n",
      "Epoch:756 - loss:27.025188446044922\n",
      "Epoch:757 - loss:27.023826599121094\n",
      "Epoch:758 - loss:27.0224666595459\n",
      "Epoch:759 - loss:27.02100372314453\n",
      "Epoch:760 - loss:27.01931381225586\n",
      "Epoch:761 - loss:27.017929077148438\n",
      "Epoch:762 - loss:27.016498565673828\n",
      "Epoch:763 - loss:27.015031814575195\n",
      "Epoch:764 - loss:27.01325798034668\n",
      "Epoch:765 - loss:27.011804580688477\n",
      "Epoch:766 - loss:27.009843826293945\n",
      "Epoch:767 - loss:27.008113861083984\n",
      "Epoch:768 - loss:27.006200790405273\n",
      "Epoch:769 - loss:27.0037841796875\n",
      "Epoch:770 - loss:27.001323699951172\n",
      "Epoch:771 - loss:26.998125076293945\n",
      "Epoch:772 - loss:26.99504280090332\n",
      "Epoch:773 - loss:26.991342544555664\n",
      "Epoch:774 - loss:26.987483978271484\n",
      "Epoch:775 - loss:26.983760833740234\n",
      "Epoch:776 - loss:26.97987937927246\n",
      "Epoch:777 - loss:26.975584030151367\n",
      "Epoch:778 - loss:26.97139549255371\n",
      "Epoch:779 - loss:26.967119216918945\n",
      "Epoch:780 - loss:26.962671279907227\n",
      "Epoch:781 - loss:26.958330154418945\n",
      "Epoch:782 - loss:26.953638076782227\n",
      "Epoch:783 - loss:26.948997497558594\n",
      "Epoch:784 - loss:26.944374084472656\n",
      "Epoch:785 - loss:26.939664840698242\n",
      "Epoch:786 - loss:26.93494987487793\n",
      "Epoch:787 - loss:26.929933547973633\n",
      "Epoch:788 - loss:26.925050735473633\n",
      "Epoch:789 - loss:26.92006492614746\n",
      "Epoch:790 - loss:26.914852142333984\n",
      "Epoch:791 - loss:26.90980339050293\n",
      "Epoch:792 - loss:26.904674530029297\n",
      "Epoch:793 - loss:26.899377822875977\n",
      "Epoch:794 - loss:26.893936157226562\n",
      "Epoch:795 - loss:26.888511657714844\n",
      "Epoch:796 - loss:26.882837295532227\n",
      "Epoch:797 - loss:26.876602172851562\n",
      "Epoch:798 - loss:26.87038803100586\n",
      "Epoch:799 - loss:26.863880157470703\n",
      "Epoch:800 - loss:26.857280731201172\n",
      "Epoch:801 - loss:26.850669860839844\n",
      "Epoch:802 - loss:26.84398651123047\n",
      "Epoch:803 - loss:26.836936950683594\n",
      "Epoch:804 - loss:26.83009147644043\n",
      "Epoch:805 - loss:26.822998046875\n",
      "Epoch:806 - loss:26.81592559814453\n",
      "Epoch:807 - loss:26.808504104614258\n",
      "Epoch:808 - loss:26.801103591918945\n",
      "Epoch:809 - loss:26.793777465820312\n",
      "Epoch:810 - loss:26.78611183166504\n",
      "Epoch:811 - loss:26.778432846069336\n",
      "Epoch:812 - loss:26.770885467529297\n",
      "Epoch:813 - loss:26.763059616088867\n",
      "Epoch:814 - loss:26.755977630615234\n",
      "Epoch:815 - loss:26.748659133911133\n",
      "Epoch:816 - loss:26.741586685180664\n",
      "Epoch:817 - loss:26.734235763549805\n",
      "Epoch:818 - loss:26.726842880249023\n",
      "Epoch:819 - loss:26.719341278076172\n",
      "Epoch:820 - loss:26.712141036987305\n",
      "Epoch:821 - loss:26.704730987548828\n",
      "Epoch:822 - loss:26.697505950927734\n",
      "Epoch:823 - loss:26.690656661987305\n",
      "Epoch:824 - loss:26.68411636352539\n",
      "Epoch:825 - loss:26.67745590209961\n",
      "Epoch:826 - loss:26.67108154296875\n",
      "Epoch:827 - loss:26.664579391479492\n",
      "Epoch:828 - loss:26.65787124633789\n",
      "Epoch:829 - loss:26.65082550048828\n",
      "Epoch:830 - loss:26.64366340637207\n",
      "Epoch:831 - loss:26.63625717163086\n",
      "Epoch:832 - loss:26.629119873046875\n",
      "Epoch:833 - loss:26.621828079223633\n",
      "Epoch:834 - loss:26.61431312561035\n",
      "Epoch:835 - loss:26.6066951751709\n",
      "Epoch:836 - loss:26.599061965942383\n",
      "Epoch:837 - loss:26.59156036376953\n",
      "Epoch:838 - loss:26.583934783935547\n",
      "Epoch:839 - loss:26.57674789428711\n",
      "Epoch:840 - loss:26.570302963256836\n",
      "Epoch:841 - loss:26.564603805541992\n",
      "Epoch:842 - loss:26.559497833251953\n",
      "Epoch:843 - loss:26.554203033447266\n",
      "Epoch:844 - loss:26.54909324645996\n",
      "Epoch:845 - loss:26.544361114501953\n",
      "Epoch:846 - loss:26.539554595947266\n",
      "Epoch:847 - loss:26.534936904907227\n",
      "Epoch:848 - loss:26.53047752380371\n",
      "Epoch:849 - loss:26.5257625579834\n",
      "Epoch:850 - loss:26.52128028869629\n",
      "Epoch:851 - loss:26.5167236328125\n",
      "Epoch:852 - loss:26.5123348236084\n",
      "Epoch:853 - loss:26.507898330688477\n",
      "Epoch:854 - loss:26.50366973876953\n",
      "Epoch:855 - loss:26.499324798583984\n",
      "Epoch:856 - loss:26.49506378173828\n",
      "Epoch:857 - loss:26.490951538085938\n",
      "Epoch:858 - loss:26.486679077148438\n",
      "Epoch:859 - loss:26.482406616210938\n",
      "Epoch:860 - loss:26.478519439697266\n",
      "Epoch:861 - loss:26.474246978759766\n",
      "Epoch:862 - loss:26.470104217529297\n",
      "Epoch:863 - loss:26.466106414794922\n",
      "Epoch:864 - loss:26.462018966674805\n",
      "Epoch:865 - loss:26.4580078125\n",
      "Epoch:866 - loss:26.454082489013672\n",
      "Epoch:867 - loss:26.44988441467285\n",
      "Epoch:868 - loss:26.446077346801758\n",
      "Epoch:869 - loss:26.442119598388672\n",
      "Epoch:870 - loss:26.43824005126953\n",
      "Epoch:871 - loss:26.434242248535156\n",
      "Epoch:872 - loss:26.430458068847656\n",
      "Epoch:873 - loss:26.426589965820312\n",
      "Epoch:874 - loss:26.422882080078125\n",
      "Epoch:875 - loss:26.419301986694336\n",
      "Epoch:876 - loss:26.415620803833008\n",
      "Epoch:877 - loss:26.412139892578125\n",
      "Epoch:878 - loss:26.40880584716797\n",
      "Epoch:879 - loss:26.405563354492188\n",
      "Epoch:880 - loss:26.402450561523438\n",
      "Epoch:881 - loss:26.399433135986328\n",
      "Epoch:882 - loss:26.39680290222168\n",
      "Epoch:883 - loss:26.39406394958496\n",
      "Epoch:884 - loss:26.391376495361328\n",
      "Epoch:885 - loss:26.388826370239258\n",
      "Epoch:886 - loss:26.386178970336914\n",
      "Epoch:887 - loss:26.383581161499023\n",
      "Epoch:888 - loss:26.380765914916992\n",
      "Epoch:889 - loss:26.377893447875977\n",
      "Epoch:890 - loss:26.37508201599121\n",
      "Epoch:891 - loss:26.372129440307617\n",
      "Epoch:892 - loss:26.369365692138672\n",
      "Epoch:893 - loss:26.366262435913086\n",
      "Epoch:894 - loss:26.36347007751465\n",
      "Epoch:895 - loss:26.360628128051758\n",
      "Epoch:896 - loss:26.357986450195312\n",
      "Epoch:897 - loss:26.355125427246094\n",
      "Epoch:898 - loss:26.352575302124023\n",
      "Epoch:899 - loss:26.349933624267578\n",
      "Epoch:900 - loss:26.347394943237305\n",
      "Epoch:901 - loss:26.3447322845459\n",
      "Epoch:902 - loss:26.342193603515625\n",
      "Epoch:903 - loss:26.33954620361328\n",
      "Epoch:904 - loss:26.33685874938965\n",
      "Epoch:905 - loss:26.334369659423828\n",
      "Epoch:906 - loss:26.33173179626465\n",
      "Epoch:907 - loss:26.32907485961914\n",
      "Epoch:908 - loss:26.326515197753906\n",
      "Epoch:909 - loss:26.32401466369629\n",
      "Epoch:910 - loss:26.32139015197754\n",
      "Epoch:911 - loss:26.319026947021484\n",
      "Epoch:912 - loss:26.316299438476562\n",
      "Epoch:913 - loss:26.31404685974121\n",
      "Epoch:914 - loss:26.311370849609375\n",
      "Epoch:915 - loss:26.3088436126709\n",
      "Epoch:916 - loss:26.306350708007812\n",
      "Epoch:917 - loss:26.30387306213379\n",
      "Epoch:918 - loss:26.301502227783203\n",
      "Epoch:919 - loss:26.299121856689453\n",
      "Epoch:920 - loss:26.29667854309082\n",
      "Epoch:921 - loss:26.294095993041992\n",
      "Epoch:922 - loss:26.291748046875\n",
      "Epoch:923 - loss:26.289426803588867\n",
      "Epoch:924 - loss:26.286956787109375\n",
      "Epoch:925 - loss:26.284629821777344\n",
      "Epoch:926 - loss:26.282133102416992\n",
      "Epoch:927 - loss:26.27992820739746\n",
      "Epoch:928 - loss:26.277538299560547\n",
      "Epoch:929 - loss:26.275035858154297\n",
      "Epoch:930 - loss:26.27266502380371\n",
      "Epoch:931 - loss:26.27058219909668\n",
      "Epoch:932 - loss:26.268299102783203\n",
      "Epoch:933 - loss:26.265792846679688\n",
      "Epoch:934 - loss:26.263593673706055\n",
      "Epoch:935 - loss:26.261157989501953\n",
      "Epoch:936 - loss:26.2587833404541\n",
      "Epoch:937 - loss:26.256694793701172\n",
      "Epoch:938 - loss:26.254396438598633\n",
      "Epoch:939 - loss:26.251981735229492\n",
      "Epoch:940 - loss:26.249967575073242\n",
      "Epoch:941 - loss:26.2474365234375\n",
      "Epoch:942 - loss:26.24553108215332\n",
      "Epoch:943 - loss:26.24325180053711\n",
      "Epoch:944 - loss:26.240943908691406\n",
      "Epoch:945 - loss:26.23883819580078\n",
      "Epoch:946 - loss:26.236482620239258\n",
      "Epoch:947 - loss:26.23443031311035\n",
      "Epoch:948 - loss:26.23206901550293\n",
      "Epoch:949 - loss:26.23004913330078\n",
      "Epoch:950 - loss:26.227659225463867\n",
      "Epoch:951 - loss:26.225597381591797\n",
      "Epoch:952 - loss:26.22318458557129\n",
      "Epoch:953 - loss:26.221189498901367\n",
      "Epoch:954 - loss:26.219072341918945\n",
      "Epoch:955 - loss:26.216970443725586\n",
      "Epoch:956 - loss:26.214717864990234\n",
      "Epoch:957 - loss:26.212635040283203\n",
      "Epoch:958 - loss:26.21059799194336\n",
      "Epoch:959 - loss:26.20829200744629\n",
      "Epoch:960 - loss:26.20642852783203\n",
      "Epoch:961 - loss:26.204374313354492\n",
      "Epoch:962 - loss:26.20210075378418\n",
      "Epoch:963 - loss:26.200016021728516\n",
      "Epoch:964 - loss:26.197826385498047\n",
      "Epoch:965 - loss:26.19583511352539\n",
      "Epoch:966 - loss:26.193763732910156\n",
      "Epoch:967 - loss:26.191835403442383\n",
      "Epoch:968 - loss:26.1895809173584\n",
      "Epoch:969 - loss:26.187786102294922\n",
      "Epoch:970 - loss:26.18558692932129\n",
      "Epoch:971 - loss:26.183509826660156\n",
      "Epoch:972 - loss:26.181459426879883\n",
      "Epoch:973 - loss:26.179399490356445\n",
      "Epoch:974 - loss:26.1774959564209\n",
      "Epoch:975 - loss:26.17542266845703\n",
      "Epoch:976 - loss:26.17348861694336\n",
      "Epoch:977 - loss:26.171375274658203\n",
      "Epoch:978 - loss:26.169580459594727\n",
      "Epoch:979 - loss:26.167436599731445\n",
      "Epoch:980 - loss:26.165420532226562\n",
      "Epoch:981 - loss:26.163393020629883\n",
      "Epoch:982 - loss:26.161378860473633\n",
      "Epoch:983 - loss:26.159292221069336\n",
      "Epoch:984 - loss:26.157428741455078\n",
      "Epoch:985 - loss:26.155637741088867\n",
      "Epoch:986 - loss:26.153568267822266\n",
      "Epoch:987 - loss:26.151790618896484\n",
      "Epoch:988 - loss:26.14969825744629\n",
      "Epoch:989 - loss:26.14808464050293\n",
      "Epoch:990 - loss:26.146028518676758\n",
      "Epoch:991 - loss:26.14394760131836\n",
      "Epoch:992 - loss:26.141929626464844\n",
      "Epoch:993 - loss:26.140050888061523\n",
      "Epoch:994 - loss:26.13821792602539\n",
      "Epoch:995 - loss:26.13631820678711\n",
      "Epoch:996 - loss:26.134374618530273\n",
      "Epoch:997 - loss:26.13265609741211\n",
      "Epoch:998 - loss:26.130634307861328\n",
      "Epoch:999 - loss:26.128816604614258\n",
      "Epoch:1000 - loss:26.12687873840332\n"
     ]
    }
   ],
   "source": [
    "for i in range(1000):\n",
    "    optimizer.zero_grad()\n",
    "    prediction = model(x).flatten()\n",
    "    loss = criterion(prediction, y)\n",
    "    print(f\"Epoch:{i+1} - loss:{loss}\")\n",
    "    loss.backward()\n",
    "    optimizer.step()"
   ],
   "metadata": {
    "collapsed": false,
    "ExecuteTime": {
     "start_time": "2023-10-28T13:36:56.886972Z",
     "end_time": "2023-10-28T13:37:11.157164Z"
    }
   }
  },
  {
   "cell_type": "code",
   "execution_count": 23,
   "outputs": [
    {
     "data": {
      "text/plain": "tensor([69.6241, 64.6696, 62.5482, 63.7993, 52.9346, 61.3342, 58.7269, 60.9088,\n        61.8402, 55.8015, 55.7720, 57.9381, 57.3692, 60.3790, 67.6998, 57.6472,\n        64.9572, 66.3945, 62.1344, 62.7825, 69.0934, 55.5725, 62.2126, 65.3915,\n        74.2715, 57.2791, 64.5114, 59.2670, 61.2274, 61.1825, 62.1553, 60.1770])"
     },
     "execution_count": 23,
     "metadata": {},
     "output_type": "execute_result"
    }
   ],
   "source": [
    "y"
   ],
   "metadata": {
    "collapsed": false,
    "ExecuteTime": {
     "start_time": "2023-10-28T13:37:31.426789Z",
     "end_time": "2023-10-28T13:37:31.445130Z"
    }
   }
  },
  {
   "cell_type": "code",
   "execution_count": 27,
   "outputs": [
    {
     "data": {
      "text/plain": "tensor([69.5522, 72.8696, 70.0393, 70.1519, 76.7386, 68.9264, 66.6385, 68.9720,\n        70.9857, 63.4863, 69.1004, 70.3080, 70.0417, 69.3402, 67.6243, 69.4924,\n        66.8773, 70.9033, 71.7158, 68.0593, 69.7302, 74.8552, 71.8740, 71.4821,\n        69.9691, 68.4896, 71.6527, 67.3356, 69.1198, 67.9152, 73.7401, 71.0583],\n       grad_fn=<ViewBackward0>)"
     },
     "execution_count": 27,
     "metadata": {},
     "output_type": "execute_result"
    }
   ],
   "source": [
    "model(x).flatten()"
   ],
   "metadata": {
    "collapsed": false,
    "ExecuteTime": {
     "start_time": "2023-10-28T13:39:39.329296Z",
     "end_time": "2023-10-28T13:39:39.352303Z"
    }
   }
  }
 ],
 "metadata": {
  "kernelspec": {
   "display_name": "Python 3",
   "language": "python",
   "name": "python3"
  },
  "language_info": {
   "codemirror_mode": {
    "name": "ipython",
    "version": 2
   },
   "file_extension": ".py",
   "mimetype": "text/x-python",
   "name": "python",
   "nbconvert_exporter": "python",
   "pygments_lexer": "ipython2",
   "version": "2.7.6"
  }
 },
 "nbformat": 4,
 "nbformat_minor": 0
}
