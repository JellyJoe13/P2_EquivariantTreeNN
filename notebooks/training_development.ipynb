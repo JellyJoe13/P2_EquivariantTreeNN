{
 "cells": [
  {
   "cell_type": "markdown",
   "source": [
    "# Basic Training Scheme development notebook"
   ],
   "metadata": {
    "collapsed": false
   }
  },
  {
   "cell_type": "markdown",
   "source": [
    "## Importing section"
   ],
   "metadata": {
    "collapsed": false
   }
  },
  {
   "cell_type": "code",
   "execution_count": 1,
   "outputs": [],
   "source": [
    "import torch\n",
    "from torch import optim, nn\n",
    "from torch.utils.data import random_split, DataLoader\n",
    "from etnn.data.ferris_wheel import load_pure_ferris_wheel_dataset\n",
    "from etnn.data.tree_structure import TreeNode\n",
    "from etnn.nn.layer_framework import LayerManagementFramework\n",
    "from tqdm import tqdm\n",
    "import matplotlib.pyplot as plt\n",
    "from etnn.tools.training import train_epoch, eval_epoch\n",
    "from etnn.tools.training_tools import EpochControl, ConfigStore, AccuracyManager, seeding_all\n",
    "from etnn.tools.loader import create_sampler"
   ],
   "metadata": {
    "collapsed": false,
    "ExecuteTime": {
     "start_time": "2023-11-11T16:28:30.889190Z",
     "end_time": "2023-11-11T16:28:33.442480Z"
    }
   }
  },
  {
   "cell_type": "code",
   "execution_count": 2,
   "outputs": [],
   "source": [
    "import numpy as np\n",
    "import pandas as pd\n",
    "import os"
   ],
   "metadata": {
    "collapsed": false,
    "ExecuteTime": {
     "start_time": "2023-11-11T16:28:33.443962Z",
     "end_time": "2023-11-11T16:28:33.457966Z"
    }
   }
  },
  {
   "cell_type": "markdown",
   "source": [
    "## Parameter definition"
   ],
   "metadata": {
    "collapsed": false
   }
  },
  {
   "cell_type": "code",
   "execution_count": 3,
   "outputs": [],
   "source": [
    "DATASET_PATH = \"../datasets\""
   ],
   "metadata": {
    "collapsed": false,
    "ExecuteTime": {
     "start_time": "2023-11-11T16:28:33.457966Z",
     "end_time": "2023-11-11T16:28:33.477445Z"
    }
   }
  },
  {
   "cell_type": "code",
   "execution_count": 4,
   "outputs": [],
   "source": [
    "val_perc = 0.1\n",
    "# todo: swap with artificially created testset (produced through permutations directly from trainset (hence directly learned)\n",
    "test_perc = 0.2"
   ],
   "metadata": {
    "collapsed": false,
    "ExecuteTime": {
     "start_time": "2023-11-11T16:28:33.474966Z",
     "end_time": "2023-11-11T16:28:33.495451Z"
    }
   }
  },
  {
   "cell_type": "code",
   "execution_count": 5,
   "outputs": [],
   "source": [
    "MODEL_SAVING_NAME = \"model.pt\""
   ],
   "metadata": {
    "collapsed": false,
    "ExecuteTime": {
     "start_time": "2023-11-11T16:28:33.495451Z",
     "end_time": "2023-11-11T16:28:33.509448Z"
    }
   }
  },
  {
   "cell_type": "code",
   "execution_count": 6,
   "outputs": [],
   "source": [
    "CONFIG_SAVING_NAME = \"config.json\"\n",
    "ACCURACY_SAVING_NAME = \"accuracies.csv\""
   ],
   "metadata": {
    "collapsed": false,
    "ExecuteTime": {
     "start_time": "2023-11-11T16:28:33.506449Z",
     "end_time": "2023-11-11T16:28:33.521481Z"
    }
   }
  },
  {
   "cell_type": "code",
   "execution_count": 7,
   "outputs": [],
   "source": [
    "config = ConfigStore(\n",
    "    in_dim=15,\n",
    "    hidden_dim=128,\n",
    "    out_dim=1,\n",
    "    k=2,\n",
    "    dataset=0,\n",
    "    ds_size=10_000,\n",
    "    num_gondolas=10,\n",
    "    num_part_pg=5,\n",
    "    loss_name='mse',\n",
    "    optimizer_name='adam',\n",
    "    num_max_epochs=100, # old: 20\n",
    "    learning_rate=0.001,\n",
    "    batch_size=1024,\n",
    "    early_stop_tol=5,\n",
    "    use_equal_batcher=False,\n",
    "    seed=420,\n",
    ")"
   ],
   "metadata": {
    "collapsed": false,
    "ExecuteTime": {
     "start_time": "2023-11-11T16:28:33.523483Z",
     "end_time": "2023-11-11T16:28:33.541480Z"
    }
   }
  },
  {
   "cell_type": "code",
   "execution_count": 8,
   "outputs": [],
   "source": [
    "RESULTS_FOLDER = \"../results\"\n",
    "CONFIG_INDEX_NAME = \"config_index.csv\""
   ],
   "metadata": {
    "collapsed": false,
    "ExecuteTime": {
     "start_time": "2023-11-11T16:28:33.538481Z",
     "end_time": "2023-11-11T16:28:33.553481Z"
    }
   }
  },
  {
   "cell_type": "code",
   "execution_count": 9,
   "outputs": [],
   "source": [
    "# aquire saving path\n",
    "if not os.path.exists(RESULTS_FOLDER):\n",
    "    os.mkdir(RESULTS_FOLDER)\n",
    "\n",
    "# create path where the config idx file should be located\n",
    "config_idx_path = os.path.join(RESULTS_FOLDER, CONFIG_INDEX_NAME)\n",
    "\n",
    "# define columns of index table\n",
    "columns=['config_idx'] + list(vars(config).keys())\n",
    "\n",
    "# if the config file exists - load it. else create a blank table\n",
    "if os.path.isfile(config_idx_path):\n",
    "    config_table = pd.read_csv(config_idx_path)\n",
    "else:\n",
    "    config_table = pd.DataFrame(columns=columns)\n",
    "\n",
    "# create new entry\n",
    "new_entry = pd.DataFrame(vars(config), index=[0])\n",
    "\n",
    "# check if config in table already\n",
    "merge = pd.merge(config_table, new_entry, on=columns[1:], how='inner')\n",
    "if len(merge) == 0:\n",
    "    if len(config_table) == 0:\n",
    "        config_idx = 0\n",
    "    else:\n",
    "        config_idx = config_table['config_idx'].max() + 1\n",
    "\n",
    "    # add this config to idx table\n",
    "    new_entry['config_idx'] = config_idx\n",
    "    pd.concat([config_table, new_entry]).to_csv(config_idx_path, index=False)\n",
    "else:\n",
    "    config_idx = merge.iloc[0]['config_idx']"
   ],
   "metadata": {
    "collapsed": false,
    "ExecuteTime": {
     "start_time": "2023-11-11T16:28:33.555481Z",
     "end_time": "2023-11-11T16:28:33.574480Z"
    }
   }
  },
  {
   "cell_type": "code",
   "execution_count": 10,
   "outputs": [
    {
     "data": {
      "text/plain": "0"
     },
     "execution_count": 10,
     "metadata": {},
     "output_type": "execute_result"
    }
   ],
   "source": [
    "config_idx"
   ],
   "metadata": {
    "collapsed": false,
    "ExecuteTime": {
     "start_time": "2023-11-11T16:28:33.571480Z",
     "end_time": "2023-11-11T16:28:33.589480Z"
    }
   }
  },
  {
   "cell_type": "code",
   "execution_count": 11,
   "outputs": [],
   "source": [
    "# if not present create the folder for this run\n",
    "STORAGE_FOLDER = os.path.join(RESULTS_FOLDER, str(config_idx))\n",
    "if not os.path.exists(STORAGE_FOLDER):\n",
    "    os.mkdir(STORAGE_FOLDER)"
   ],
   "metadata": {
    "collapsed": false,
    "ExecuteTime": {
     "start_time": "2023-11-11T16:28:33.586480Z",
     "end_time": "2023-11-11T16:28:33.615719Z"
    }
   }
  },
  {
   "cell_type": "markdown",
   "source": [
    "## data preparation"
   ],
   "metadata": {
    "collapsed": false
   }
  },
  {
   "cell_type": "code",
   "execution_count": 12,
   "outputs": [],
   "source": [
    "#todo: add further with more permutated elements and with invalid elements\n",
    "if config.dataset == 0:\n",
    "    dataset, df_index = load_pure_ferris_wheel_dataset(\n",
    "        num_gondolas=config.num_gondolas,\n",
    "        num_part_pg=config.num_part_pg,\n",
    "        num_to_generate=config.ds_size,\n",
    "        dataset_path=DATASET_PATH\n",
    "    )\n",
    "else:\n",
    "    raise Exception(\"wrong selection\")"
   ],
   "metadata": {
    "collapsed": false,
    "ExecuteTime": {
     "start_time": "2023-11-11T16:28:33.602480Z",
     "end_time": "2023-11-11T16:28:33.633721Z"
    }
   }
  },
  {
   "cell_type": "code",
   "execution_count": 13,
   "outputs": [
    {
     "data": {
      "text/plain": "10000"
     },
     "execution_count": 13,
     "metadata": {},
     "output_type": "execute_result"
    }
   ],
   "source": [
    "len(dataset)"
   ],
   "metadata": {
    "collapsed": false,
    "ExecuteTime": {
     "start_time": "2023-11-11T16:28:33.634721Z",
     "end_time": "2023-11-11T16:28:33.678449Z"
    }
   }
  },
  {
   "cell_type": "code",
   "execution_count": 14,
   "outputs": [],
   "source": [
    "generator = torch.Generator().manual_seed(420)\n",
    "train_ds, val_ds, test_ds = random_split(\n",
    "    dataset,\n",
    "    [1-val_perc-test_perc, val_perc, test_perc],\n",
    "    generator=generator\n",
    ")"
   ],
   "metadata": {
    "collapsed": false,
    "ExecuteTime": {
     "start_time": "2023-11-11T16:28:33.649175Z",
     "end_time": "2023-11-11T16:28:33.686449Z"
    }
   }
  },
  {
   "cell_type": "code",
   "execution_count": 15,
   "outputs": [],
   "source": [
    "if config.use_equal_batcher:\n",
    "    sampler = create_sampler(df_index=df_index, dataset=train_ds)\n",
    "    train_loader = DataLoader(train_ds, batch_size=config.batch_size, sampler=sampler)\n",
    "else:\n",
    "    train_loader = DataLoader(train_ds, batch_size=config.batch_size, shuffle=True)\n",
    "\n",
    "val_loader = DataLoader(val_ds, batch_size=config.batch_size, shuffle=False)\n",
    "test_loader = DataLoader(test_ds, batch_size=config.batch_size, shuffle=False)"
   ],
   "metadata": {
    "collapsed": false,
    "ExecuteTime": {
     "start_time": "2023-11-11T16:28:33.664450Z",
     "end_time": "2023-11-11T16:28:33.687449Z"
    }
   }
  },
  {
   "cell_type": "code",
   "execution_count": 16,
   "outputs": [],
   "source": [
    "# todo: check which score should be used for early stopping and how to get it\n",
    "# todo: add more tree mutated sequences that are in dataset\n",
    "# todo: add some faulty sequences which disturb this and see how much this affects the training"
   ],
   "metadata": {
    "collapsed": false,
    "ExecuteTime": {
     "start_time": "2023-11-11T16:28:33.680449Z",
     "end_time": "2023-11-11T16:28:33.696448Z"
    }
   }
  },
  {
   "cell_type": "markdown",
   "source": [
    "## Build tree structure"
   ],
   "metadata": {
    "collapsed": false
   }
  },
  {
   "cell_type": "code",
   "execution_count": 17,
   "outputs": [],
   "source": [
    "tree_structure = TreeNode(\n",
    "    node_type=\"C\",\n",
    "    children=[\n",
    "        TreeNode(\"P\", [TreeNode(\"E\", config.num_part_pg)])\n",
    "        for _ in range(config.num_gondolas)\n",
    "    ]\n",
    ")"
   ],
   "metadata": {
    "collapsed": false,
    "ExecuteTime": {
     "start_time": "2023-11-11T16:28:33.697451Z",
     "end_time": "2023-11-11T16:28:33.724761Z"
    }
   }
  },
  {
   "cell_type": "markdown",
   "source": [
    "## Define device"
   ],
   "metadata": {
    "collapsed": false
   }
  },
  {
   "cell_type": "code",
   "execution_count": 18,
   "outputs": [],
   "source": [
    "device = \"cuda\" if torch.cuda.is_available() else \"cpu\""
   ],
   "metadata": {
    "collapsed": false,
    "ExecuteTime": {
     "start_time": "2023-11-11T16:28:33.712758Z",
     "end_time": "2023-11-11T16:28:33.736758Z"
    }
   }
  },
  {
   "cell_type": "code",
   "execution_count": 19,
   "outputs": [],
   "source": [
    "# device = 'cpu'"
   ],
   "metadata": {
    "collapsed": false,
    "ExecuteTime": {
     "start_time": "2023-11-11T16:28:33.729760Z",
     "end_time": "2023-11-11T16:28:33.743326Z"
    }
   }
  },
  {
   "cell_type": "code",
   "execution_count": 20,
   "outputs": [
    {
     "data": {
      "text/plain": "'cuda'"
     },
     "execution_count": 20,
     "metadata": {},
     "output_type": "execute_result"
    }
   ],
   "source": [
    "device"
   ],
   "metadata": {
    "collapsed": false,
    "ExecuteTime": {
     "start_time": "2023-11-11T16:28:33.745326Z",
     "end_time": "2023-11-11T16:28:33.789325Z"
    }
   }
  },
  {
   "cell_type": "markdown",
   "source": [
    "## Set up accuracy saving"
   ],
   "metadata": {
    "collapsed": false
   }
  },
  {
   "cell_type": "code",
   "execution_count": 21,
   "outputs": [],
   "source": [
    "accuracy_protocoller = AccuracyManager(\n",
    "    storage_name=ACCURACY_SAVING_NAME,\n",
    "    storage_path=STORAGE_FOLDER,\n",
    "    is_classification=False\n",
    ")"
   ],
   "metadata": {
    "collapsed": false,
    "ExecuteTime": {
     "start_time": "2023-11-11T16:28:33.759326Z",
     "end_time": "2023-11-11T16:28:33.800328Z"
    }
   }
  },
  {
   "cell_type": "markdown",
   "source": [
    "## Set seeds for reproducibility"
   ],
   "metadata": {
    "collapsed": false
   }
  },
  {
   "cell_type": "code",
   "execution_count": 22,
   "outputs": [],
   "source": [
    "seeding_all(config.seed)"
   ],
   "metadata": {
    "collapsed": false,
    "ExecuteTime": {
     "start_time": "2023-11-11T16:28:33.775325Z",
     "end_time": "2023-11-11T16:28:33.800328Z"
    }
   }
  },
  {
   "cell_type": "markdown",
   "source": [
    "## Define Model"
   ],
   "metadata": {
    "collapsed": false
   }
  },
  {
   "cell_type": "code",
   "execution_count": 23,
   "outputs": [],
   "source": [
    "model = LayerManagementFramework(\n",
    "    in_dim=config.in_dim,\n",
    "    tree=tree_structure,\n",
    "    hidden_dim=config.hidden_dim,\n",
    "    out_dim=config.out_dim,\n",
    "    k=config.k\n",
    ").to(device)"
   ],
   "metadata": {
    "collapsed": false,
    "ExecuteTime": {
     "start_time": "2023-11-11T16:28:33.793328Z",
     "end_time": "2023-11-11T16:28:34.926346Z"
    }
   }
  },
  {
   "cell_type": "markdown",
   "source": [
    "## Define Loss and Optimizers"
   ],
   "metadata": {
    "collapsed": false
   }
  },
  {
   "cell_type": "code",
   "execution_count": 24,
   "outputs": [],
   "source": [
    "if config.loss_name == 'mse':\n",
    "    criterion = nn.MSELoss()\n",
    "else:\n",
    "    raise Exception(\"wrong selection\")"
   ],
   "metadata": {
    "collapsed": false,
    "ExecuteTime": {
     "start_time": "2023-11-11T16:28:34.919346Z",
     "end_time": "2023-11-11T16:28:34.943343Z"
    }
   }
  },
  {
   "cell_type": "code",
   "execution_count": 25,
   "outputs": [],
   "source": [
    "if config.optimizer_name == 'adam':\n",
    "    optimizer = optim.Adam(model.parameters(), lr=config.learning_rate)\n",
    "elif config.optimizer_name == 'sgd':\n",
    "    optimizer = optim.SGD(model.parameters(), lr=config.learning_rate, momentum=0.9)\n",
    "else:\n",
    "    raise Exception(\"wrong selection\")"
   ],
   "metadata": {
    "collapsed": false,
    "ExecuteTime": {
     "start_time": "2023-11-11T16:28:34.935345Z",
     "end_time": "2023-11-11T16:28:35.167729Z"
    }
   }
  },
  {
   "cell_type": "markdown",
   "source": [
    "## Training"
   ],
   "metadata": {
    "collapsed": false
   }
  },
  {
   "cell_type": "code",
   "execution_count": 26,
   "outputs": [],
   "source": [
    "epoch_control = EpochControl(\n",
    "    model_save_name=MODEL_SAVING_NAME,\n",
    "    config_save_name=CONFIG_SAVING_NAME,\n",
    "    saving_folder_path=STORAGE_FOLDER,\n",
    "    tolerance=config.early_stop_tol,\n",
    "    is_accuracy_score=False\n",
    ")"
   ],
   "metadata": {
    "collapsed": false,
    "ExecuteTime": {
     "start_time": "2023-11-11T16:28:35.168729Z",
     "end_time": "2023-11-11T16:28:35.183729Z"
    }
   }
  },
  {
   "cell_type": "code",
   "execution_count": 27,
   "outputs": [
    {
     "name": "stderr",
     "output_type": "stream",
     "text": [
      "  1%|          | 1/100 [00:04<07:01,  4.25s/it]"
     ]
    },
    {
     "name": "stdout",
     "output_type": "stream",
     "text": [
      "++save++\n"
     ]
    },
    {
     "name": "stderr",
     "output_type": "stream",
     "text": [
      "  2%|▏         | 2/100 [00:07<06:09,  3.77s/it]"
     ]
    },
    {
     "name": "stdout",
     "output_type": "stream",
     "text": [
      "++save++\n"
     ]
    },
    {
     "name": "stderr",
     "output_type": "stream",
     "text": [
      "  3%|▎         | 3/100 [00:11<05:58,  3.70s/it]"
     ]
    },
    {
     "name": "stdout",
     "output_type": "stream",
     "text": [
      "++save++\n"
     ]
    },
    {
     "name": "stderr",
     "output_type": "stream",
     "text": [
      "  4%|▍         | 4/100 [00:14<05:53,  3.68s/it]"
     ]
    },
    {
     "name": "stdout",
     "output_type": "stream",
     "text": [
      "++save++\n"
     ]
    },
    {
     "name": "stderr",
     "output_type": "stream",
     "text": [
      "  9%|▉         | 9/100 [00:33<05:35,  3.69s/it]"
     ]
    },
    {
     "name": "stdout",
     "output_type": "stream",
     "text": [
      "++save++\n"
     ]
    },
    {
     "name": "stderr",
     "output_type": "stream",
     "text": [
      " 14%|█▍        | 14/100 [00:51<05:15,  3.67s/it]"
     ]
    },
    {
     "name": "stdout",
     "output_type": "stream",
     "text": [
      "++save++\n"
     ]
    },
    {
     "name": "stderr",
     "output_type": "stream",
     "text": [
      " 15%|█▌        | 15/100 [00:55<05:14,  3.69s/it]"
     ]
    },
    {
     "name": "stdout",
     "output_type": "stream",
     "text": [
      "++save++\n"
     ]
    },
    {
     "name": "stderr",
     "output_type": "stream",
     "text": [
      " 18%|█▊        | 18/100 [01:06<05:04,  3.72s/it]"
     ]
    },
    {
     "name": "stdout",
     "output_type": "stream",
     "text": [
      "++save++\n"
     ]
    },
    {
     "name": "stderr",
     "output_type": "stream",
     "text": [
      " 19%|█▉        | 19/100 [01:10<04:58,  3.69s/it]"
     ]
    },
    {
     "name": "stdout",
     "output_type": "stream",
     "text": [
      "++save++\n"
     ]
    },
    {
     "name": "stderr",
     "output_type": "stream",
     "text": [
      " 22%|██▏       | 22/100 [01:21<04:46,  3.67s/it]"
     ]
    },
    {
     "name": "stdout",
     "output_type": "stream",
     "text": [
      "++save++\n"
     ]
    },
    {
     "name": "stderr",
     "output_type": "stream",
     "text": [
      " 27%|██▋       | 27/100 [01:43<04:38,  3.82s/it]\n"
     ]
    }
   ],
   "source": [
    "# train for N epochs\n",
    "for epoch in tqdm(range(config.num_max_epochs)):\n",
    "    train_mean_loss, train_true_y, train_pred_y = train_epoch(\n",
    "        model,\n",
    "        train_loader,\n",
    "        optimizer,\n",
    "        device,\n",
    "        criterion\n",
    "    )\n",
    "\n",
    "    val_mean_loss, val_true_y, val_pred_y = eval_epoch(\n",
    "        model,\n",
    "        test_loader,\n",
    "        device,\n",
    "        criterion\n",
    "    )\n",
    "\n",
    "    # use accuracy manager to calc accuracy metrics and save them\n",
    "    accuracy_protocoller.calc_and_collect(\n",
    "        config_id=\"etnn\",\n",
    "        epoch=epoch+1,\n",
    "        train_y_true=train_true_y,\n",
    "        train_y_pred=train_pred_y,\n",
    "        train_loss=train_mean_loss,\n",
    "        val_y_true=val_true_y,\n",
    "        val_y_pred=val_pred_y,\n",
    "        val_loss=val_mean_loss,\n",
    "    )\n",
    "\n",
    "    # check if model is better and save it\n",
    "    # todo: probably not required to write config over and over again\n",
    "    if epoch_control.retain_best_and_stop(model, train_mean_loss, val_mean_loss, config):\n",
    "        break"
   ],
   "metadata": {
    "collapsed": false,
    "ExecuteTime": {
     "start_time": "2023-11-11T16:28:35.185730Z",
     "end_time": "2023-11-11T16:30:18.346798Z"
    }
   }
  },
  {
   "cell_type": "markdown",
   "source": [
    "## Repeat for baseline model"
   ],
   "metadata": {
    "collapsed": false
   }
  },
  {
   "cell_type": "code",
   "execution_count": 28,
   "outputs": [],
   "source": [
    "seeding_all(config.seed)"
   ],
   "metadata": {
    "collapsed": false,
    "ExecuteTime": {
     "start_time": "2023-11-11T16:30:18.348797Z",
     "end_time": "2023-11-11T16:30:18.366293Z"
    }
   }
  },
  {
   "cell_type": "code",
   "execution_count": 29,
   "outputs": [],
   "source": [
    "from etnn.nn.baseline import create_baseline_model, calc_params\n",
    "model, _ =  create_baseline_model(\n",
    "    n_params=calc_params(model),\n",
    "    input_dim=config.in_dim * config.num_gondolas * config.num_part_pg,\n",
    "    n_layer=3,\n",
    "    output_dim=1\n",
    ")\n",
    "model = model.to(device)"
   ],
   "metadata": {
    "collapsed": false,
    "ExecuteTime": {
     "start_time": "2023-11-11T16:30:18.363293Z",
     "end_time": "2023-11-11T16:30:18.378293Z"
    }
   }
  },
  {
   "cell_type": "code",
   "execution_count": 30,
   "outputs": [],
   "source": [
    "if config.optimizer_name == 'adam':\n",
    "    optimizer = optim.Adam(model.parameters(), lr=config.learning_rate)\n",
    "elif config.optimizer_name == 'sgd':\n",
    "    optimizer = optim.SGD(model.parameters(), lr=config.learning_rate, momentum=0.9)\n",
    "else:\n",
    "    raise Exception(\"wrong selection\")"
   ],
   "metadata": {
    "collapsed": false,
    "ExecuteTime": {
     "start_time": "2023-11-11T16:30:18.378293Z",
     "end_time": "2023-11-11T16:30:18.399293Z"
    }
   }
  },
  {
   "cell_type": "code",
   "execution_count": 31,
   "outputs": [],
   "source": [
    "epoch_control = EpochControl(\n",
    "    model_save_name=\"a\",\n",
    "    config_save_name=\"b\",\n",
    "    saving_folder_path=STORAGE_FOLDER,\n",
    "    tolerance=config.early_stop_tol,\n",
    "    is_accuracy_score=False\n",
    ")"
   ],
   "metadata": {
    "collapsed": false,
    "ExecuteTime": {
     "start_time": "2023-11-11T16:30:18.395294Z",
     "end_time": "2023-11-11T16:30:18.410313Z"
    }
   }
  },
  {
   "cell_type": "code",
   "execution_count": 32,
   "outputs": [
    {
     "name": "stderr",
     "output_type": "stream",
     "text": [
      "100%|██████████| 100/100 [05:34<00:00,  3.34s/it]\n"
     ]
    }
   ],
   "source": [
    "# train for N epochs\n",
    "for epoch in tqdm(range(config.num_max_epochs)):\n",
    "    train_mean_loss, train_true_y, train_pred_y = train_epoch(\n",
    "        model,\n",
    "        train_loader,\n",
    "        optimizer,\n",
    "        device,\n",
    "        criterion\n",
    "    )\n",
    "\n",
    "    val_mean_loss, val_true_y, val_pred_y = eval_epoch(\n",
    "        model,\n",
    "        test_loader,\n",
    "        device,\n",
    "        criterion\n",
    "    )\n",
    "\n",
    "    # use accuracy manager to calc accuracy metrics and save them\n",
    "    accuracy_protocoller.calc_and_collect(\n",
    "        config_id=\"baseline\",\n",
    "        epoch=epoch+1,\n",
    "        train_y_true=train_true_y,\n",
    "        train_y_pred=train_pred_y,\n",
    "        train_loss=train_mean_loss,\n",
    "        val_y_true=val_true_y,\n",
    "        val_y_pred=val_pred_y,\n",
    "        val_loss=val_mean_loss,\n",
    "    )\n",
    "\n",
    "    # check if model is better and save it\n",
    "    if epoch_control.should_early_stop(train_mean_loss, val_mean_loss):\n",
    "        break"
   ],
   "metadata": {
    "collapsed": false,
    "ExecuteTime": {
     "start_time": "2023-11-11T16:30:18.412317Z",
     "end_time": "2023-11-11T16:35:52.651755Z"
    }
   }
  },
  {
   "cell_type": "markdown",
   "source": [
    "## Plotting"
   ],
   "metadata": {
    "collapsed": false
   }
  },
  {
   "cell_type": "code",
   "execution_count": 33,
   "outputs": [
    {
     "data": {
      "text/plain": "    config_id  epoch    train_loss     val_loss  test_loss     train_mse  \\\n0        etnn      1  53935.816406  8375.409180        0.0  55147.187500   \n1        etnn      2   2623.327637   590.987610        0.0   2678.745605   \n2        etnn      3    335.220032    78.593018        0.0    335.850311   \n3        etnn      4    124.027214    36.493187        0.0    124.404106   \n4        etnn      5     58.319851    52.471306        0.0     58.455509   \n..        ...    ...           ...          ...        ...           ...   \n123  baseline     96     36.315289    35.939823        0.0     36.324448   \n124  baseline     97     36.428772    35.743523        0.0     36.407238   \n125  baseline     98     36.226601    36.378811        0.0     36.155590   \n126  baseline     99     36.881817    36.765560        0.0     36.831371   \n127  baseline    100     36.648399    35.728699        0.0     36.678928   \n\n      train_msa  train_explained_variance     train_r2      val_mse  \\\n0    146.545181              -1693.254028 -1819.481966  8375.533203   \n1     45.406162                -84.250870   -87.428961   591.053894   \n2     15.156132                -10.056759   -10.086866    78.557022   \n3      9.421090                 -3.071617    -3.106745    36.472965   \n4      6.132441                 -0.873334    -0.929694    52.460938   \n..          ...                       ...          ...          ...   \n123    4.829174                 -0.199086    -0.199118    35.917099   \n124    4.833207                 -0.200725    -0.201851    35.724072   \n125    4.815838                 -0.193156    -0.193544    36.361832   \n126    4.863826                 -0.215015    -0.215853    36.740547   \n127    4.840039                 -0.207092    -0.210820    35.710014   \n\n       val_msa  val_explained_variance      val_r2  test_mse  test_msa  \\\n0    91.355606                0.004877 -279.760368       0.0       0.0   \n1    23.465256               -0.355462  -18.813007       0.0       0.0   \n2     7.290093               -0.169613   -1.633349       0.0       0.0   \n3     4.804401               -0.207328   -0.222628       0.0       0.0   \n4     5.951287               -0.223339   -0.758569       0.0       0.0   \n..         ...                     ...         ...       ...       ...   \n123   4.752513               -0.193718   -0.203995       0.0       0.0   \n124   4.750483               -0.195753   -0.197524       0.0       0.0   \n125   4.808065               -0.196863   -0.218903       0.0       0.0   \n126   4.803137               -0.186184   -0.231598       0.0       0.0   \n127   4.753007               -0.191788   -0.197053       0.0       0.0   \n\n     test_explained_variance  test_r2  \n0                        0.0      0.0  \n1                        0.0      0.0  \n2                        0.0      0.0  \n3                        0.0      0.0  \n4                        0.0      0.0  \n..                       ...      ...  \n123                      0.0      0.0  \n124                      0.0      0.0  \n125                      0.0      0.0  \n126                      0.0      0.0  \n127                      0.0      0.0  \n\n[128 rows x 17 columns]",
      "text/html": "<div>\n<style scoped>\n    .dataframe tbody tr th:only-of-type {\n        vertical-align: middle;\n    }\n\n    .dataframe tbody tr th {\n        vertical-align: top;\n    }\n\n    .dataframe thead th {\n        text-align: right;\n    }\n</style>\n<table border=\"1\" class=\"dataframe\">\n  <thead>\n    <tr style=\"text-align: right;\">\n      <th></th>\n      <th>config_id</th>\n      <th>epoch</th>\n      <th>train_loss</th>\n      <th>val_loss</th>\n      <th>test_loss</th>\n      <th>train_mse</th>\n      <th>train_msa</th>\n      <th>train_explained_variance</th>\n      <th>train_r2</th>\n      <th>val_mse</th>\n      <th>val_msa</th>\n      <th>val_explained_variance</th>\n      <th>val_r2</th>\n      <th>test_mse</th>\n      <th>test_msa</th>\n      <th>test_explained_variance</th>\n      <th>test_r2</th>\n    </tr>\n  </thead>\n  <tbody>\n    <tr>\n      <th>0</th>\n      <td>etnn</td>\n      <td>1</td>\n      <td>53935.816406</td>\n      <td>8375.409180</td>\n      <td>0.0</td>\n      <td>55147.187500</td>\n      <td>146.545181</td>\n      <td>-1693.254028</td>\n      <td>-1819.481966</td>\n      <td>8375.533203</td>\n      <td>91.355606</td>\n      <td>0.004877</td>\n      <td>-279.760368</td>\n      <td>0.0</td>\n      <td>0.0</td>\n      <td>0.0</td>\n      <td>0.0</td>\n    </tr>\n    <tr>\n      <th>1</th>\n      <td>etnn</td>\n      <td>2</td>\n      <td>2623.327637</td>\n      <td>590.987610</td>\n      <td>0.0</td>\n      <td>2678.745605</td>\n      <td>45.406162</td>\n      <td>-84.250870</td>\n      <td>-87.428961</td>\n      <td>591.053894</td>\n      <td>23.465256</td>\n      <td>-0.355462</td>\n      <td>-18.813007</td>\n      <td>0.0</td>\n      <td>0.0</td>\n      <td>0.0</td>\n      <td>0.0</td>\n    </tr>\n    <tr>\n      <th>2</th>\n      <td>etnn</td>\n      <td>3</td>\n      <td>335.220032</td>\n      <td>78.593018</td>\n      <td>0.0</td>\n      <td>335.850311</td>\n      <td>15.156132</td>\n      <td>-10.056759</td>\n      <td>-10.086866</td>\n      <td>78.557022</td>\n      <td>7.290093</td>\n      <td>-0.169613</td>\n      <td>-1.633349</td>\n      <td>0.0</td>\n      <td>0.0</td>\n      <td>0.0</td>\n      <td>0.0</td>\n    </tr>\n    <tr>\n      <th>3</th>\n      <td>etnn</td>\n      <td>4</td>\n      <td>124.027214</td>\n      <td>36.493187</td>\n      <td>0.0</td>\n      <td>124.404106</td>\n      <td>9.421090</td>\n      <td>-3.071617</td>\n      <td>-3.106745</td>\n      <td>36.472965</td>\n      <td>4.804401</td>\n      <td>-0.207328</td>\n      <td>-0.222628</td>\n      <td>0.0</td>\n      <td>0.0</td>\n      <td>0.0</td>\n      <td>0.0</td>\n    </tr>\n    <tr>\n      <th>4</th>\n      <td>etnn</td>\n      <td>5</td>\n      <td>58.319851</td>\n      <td>52.471306</td>\n      <td>0.0</td>\n      <td>58.455509</td>\n      <td>6.132441</td>\n      <td>-0.873334</td>\n      <td>-0.929694</td>\n      <td>52.460938</td>\n      <td>5.951287</td>\n      <td>-0.223339</td>\n      <td>-0.758569</td>\n      <td>0.0</td>\n      <td>0.0</td>\n      <td>0.0</td>\n      <td>0.0</td>\n    </tr>\n    <tr>\n      <th>...</th>\n      <td>...</td>\n      <td>...</td>\n      <td>...</td>\n      <td>...</td>\n      <td>...</td>\n      <td>...</td>\n      <td>...</td>\n      <td>...</td>\n      <td>...</td>\n      <td>...</td>\n      <td>...</td>\n      <td>...</td>\n      <td>...</td>\n      <td>...</td>\n      <td>...</td>\n      <td>...</td>\n      <td>...</td>\n    </tr>\n    <tr>\n      <th>123</th>\n      <td>baseline</td>\n      <td>96</td>\n      <td>36.315289</td>\n      <td>35.939823</td>\n      <td>0.0</td>\n      <td>36.324448</td>\n      <td>4.829174</td>\n      <td>-0.199086</td>\n      <td>-0.199118</td>\n      <td>35.917099</td>\n      <td>4.752513</td>\n      <td>-0.193718</td>\n      <td>-0.203995</td>\n      <td>0.0</td>\n      <td>0.0</td>\n      <td>0.0</td>\n      <td>0.0</td>\n    </tr>\n    <tr>\n      <th>124</th>\n      <td>baseline</td>\n      <td>97</td>\n      <td>36.428772</td>\n      <td>35.743523</td>\n      <td>0.0</td>\n      <td>36.407238</td>\n      <td>4.833207</td>\n      <td>-0.200725</td>\n      <td>-0.201851</td>\n      <td>35.724072</td>\n      <td>4.750483</td>\n      <td>-0.195753</td>\n      <td>-0.197524</td>\n      <td>0.0</td>\n      <td>0.0</td>\n      <td>0.0</td>\n      <td>0.0</td>\n    </tr>\n    <tr>\n      <th>125</th>\n      <td>baseline</td>\n      <td>98</td>\n      <td>36.226601</td>\n      <td>36.378811</td>\n      <td>0.0</td>\n      <td>36.155590</td>\n      <td>4.815838</td>\n      <td>-0.193156</td>\n      <td>-0.193544</td>\n      <td>36.361832</td>\n      <td>4.808065</td>\n      <td>-0.196863</td>\n      <td>-0.218903</td>\n      <td>0.0</td>\n      <td>0.0</td>\n      <td>0.0</td>\n      <td>0.0</td>\n    </tr>\n    <tr>\n      <th>126</th>\n      <td>baseline</td>\n      <td>99</td>\n      <td>36.881817</td>\n      <td>36.765560</td>\n      <td>0.0</td>\n      <td>36.831371</td>\n      <td>4.863826</td>\n      <td>-0.215015</td>\n      <td>-0.215853</td>\n      <td>36.740547</td>\n      <td>4.803137</td>\n      <td>-0.186184</td>\n      <td>-0.231598</td>\n      <td>0.0</td>\n      <td>0.0</td>\n      <td>0.0</td>\n      <td>0.0</td>\n    </tr>\n    <tr>\n      <th>127</th>\n      <td>baseline</td>\n      <td>100</td>\n      <td>36.648399</td>\n      <td>35.728699</td>\n      <td>0.0</td>\n      <td>36.678928</td>\n      <td>4.840039</td>\n      <td>-0.207092</td>\n      <td>-0.210820</td>\n      <td>35.710014</td>\n      <td>4.753007</td>\n      <td>-0.191788</td>\n      <td>-0.197053</td>\n      <td>0.0</td>\n      <td>0.0</td>\n      <td>0.0</td>\n      <td>0.0</td>\n    </tr>\n  </tbody>\n</table>\n<p>128 rows × 17 columns</p>\n</div>"
     },
     "execution_count": 33,
     "metadata": {},
     "output_type": "execute_result"
    }
   ],
   "source": [
    "df_measures = pd.read_csv(os.path.join(STORAGE_FOLDER, ACCURACY_SAVING_NAME))\n",
    "df_measures"
   ],
   "metadata": {
    "collapsed": false,
    "ExecuteTime": {
     "start_time": "2023-11-11T16:35:52.652754Z",
     "end_time": "2023-11-11T16:35:52.674757Z"
    }
   }
  },
  {
   "cell_type": "code",
   "execution_count": 34,
   "outputs": [
    {
     "data": {
      "text/plain": "<Figure size 640x480 with 1 Axes>",
      "image/png": "[encoded data removed]"
     },
     "metadata": {},
     "output_type": "display_data"
    },
    {
     "data": {
      "text/plain": "<Figure size 640x480 with 1 Axes>",
      "image/png": "[encoded data removed]"
     },
     "metadata": {},
     "output_type": "display_data"
    },
    {
     "data": {
      "text/plain": "<Figure size 640x480 with 1 Axes>",
      "image/png": "[encoded data removed]"
     },
     "metadata": {},
     "output_type": "display_data"
    }
   ],
   "source": [
    "for what in ['loss', 'r2', 'explained_variance']:\n",
    "    plt.figure()\n",
    "    for config_id in df_measures.config_id.unique():\n",
    "        # make subdataset for config id\n",
    "        sub_df = df_measures[df_measures.config_id == config_id]\n",
    "\n",
    "        # plot train test and val\n",
    "        for mode in ['train', 'test', 'val']:\n",
    "            # plot training\n",
    "            plt.plot(sub_df.epoch, sub_df[f\"{mode}_{what}\"], label=f\"{config_id}_{mode}-{what}\")\n",
    "\n",
    "    plt.title(f\"{what} plot\")\n",
    "    plt.xlabel(\"epoch\")\n",
    "    plt.ylabel(\"score\")\n",
    "    if what == 'r2':\n",
    "        plt.ylim(-1,1)\n",
    "    plt.legend()\n",
    "    plt.show()"
   ],
   "metadata": {
    "collapsed": false,
    "ExecuteTime": {
     "start_time": "2023-11-11T16:35:52.669758Z",
     "end_time": "2023-11-11T16:35:53.077681Z"
    }
   }
  }
 ],
 "metadata": {
  "kernelspec": {
   "display_name": "Python 3",
   "language": "python",
   "name": "python3"
  },
  "language_info": {
   "codemirror_mode": {
    "name": "ipython",
    "version": 2
   },
   "file_extension": ".py",
   "mimetype": "text/x-python",
   "name": "python",
   "nbconvert_exporter": "python",
   "pygments_lexer": "ipython2",
   "version": "2.7.6"
  }
 },
 "nbformat": 4,
 "nbformat_minor": 0
}
