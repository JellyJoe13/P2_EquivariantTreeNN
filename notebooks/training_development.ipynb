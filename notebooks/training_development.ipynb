{
 "cells": [
  {
   "cell_type": "markdown",
   "source": [
    "# Basic Training Scheme development notebook"
   ],
   "metadata": {
    "collapsed": false
   }
  },
  {
   "cell_type": "markdown",
   "source": [
    "## Importing section"
   ],
   "metadata": {
    "collapsed": false
   }
  },
  {
   "cell_type": "code",
   "execution_count": 1,
   "outputs": [],
   "source": [
    "import torch\n",
    "from torch import optim, nn\n",
    "from torch.utils.data import random_split, DataLoader\n",
    "from etnn.data.ferris_wheel import load_pure_ferris_wheel_dataset\n",
    "from etnn.data.tree_structure import TreeNode\n",
    "from etnn.nn.layer_framework import LayerManagementFramework\n",
    "from tqdm import tqdm\n",
    "import matplotlib.pyplot as plt\n",
    "from etnn.tools.training import train_epoch, eval_epoch\n",
    "from etnn.tools.training_tools import EpochControl, ConfigStore, AccuracyManager, seeding_all"
   ],
   "metadata": {
    "collapsed": false,
    "ExecuteTime": {
     "start_time": "2023-11-11T11:29:24.694380Z",
     "end_time": "2023-11-11T11:29:26.611371Z"
    }
   }
  },
  {
   "cell_type": "code",
   "execution_count": 2,
   "outputs": [],
   "source": [
    "import numpy as np\n",
    "import pandas as pd\n",
    "import os"
   ],
   "metadata": {
    "collapsed": false,
    "ExecuteTime": {
     "start_time": "2023-11-11T11:29:26.612372Z",
     "end_time": "2023-11-11T11:29:26.627379Z"
    }
   }
  },
  {
   "cell_type": "markdown",
   "source": [
    "## Parameter definition"
   ],
   "metadata": {
    "collapsed": false
   }
  },
  {
   "cell_type": "code",
   "execution_count": 3,
   "outputs": [],
   "source": [
    "NUM_GONDOLAS = 10\n",
    "NUM_PART_PG = 5\n",
    "DATASET_SIZE = 10_000\n",
    "DATASET_PATH = \"../datasets\""
   ],
   "metadata": {
    "collapsed": false,
    "ExecuteTime": {
     "start_time": "2023-11-11T11:29:26.627379Z",
     "end_time": "2023-11-11T11:29:26.647378Z"
    }
   }
  },
  {
   "cell_type": "code",
   "execution_count": 4,
   "outputs": [],
   "source": [
    "val_perc = 0.1\n",
    "test_perc = 0.2"
   ],
   "metadata": {
    "collapsed": false,
    "ExecuteTime": {
     "start_time": "2023-11-11T11:29:26.643378Z",
     "end_time": "2023-11-11T11:29:26.659380Z"
    }
   }
  },
  {
   "cell_type": "code",
   "execution_count": 5,
   "outputs": [],
   "source": [
    "SAVING_PATH = \".\"\n",
    "MODEL_SAVING_NAME = \"model.pt\""
   ],
   "metadata": {
    "collapsed": false,
    "ExecuteTime": {
     "start_time": "2023-11-11T11:29:26.660380Z",
     "end_time": "2023-11-11T11:29:26.678379Z"
    }
   }
  },
  {
   "cell_type": "code",
   "execution_count": 6,
   "outputs": [],
   "source": [
    "CONFIG_SAVING_NAME = \"config.json\"\n",
    "ACCURACY_SAVING_NAME = \"accuracies.csv\"\n",
    "RESULTS_FOLDER = \".\""
   ],
   "metadata": {
    "collapsed": false,
    "ExecuteTime": {
     "start_time": "2023-11-11T11:29:26.674379Z",
     "end_time": "2023-11-11T11:29:26.690380Z"
    }
   }
  },
  {
   "cell_type": "code",
   "execution_count": 7,
   "outputs": [],
   "source": [
    "# todo: take care of None values as representing not yet implemented features\n",
    "config = ConfigStore(\n",
    "    in_dim=15,\n",
    "    hidden_dim=32,\n",
    "    out_dim=1,\n",
    "    k=2,\n",
    "    is_accuracy_score=False,\n",
    "    which_score=None,\n",
    "    loss_name=None,\n",
    "    optimizer_name=None,\n",
    "    num_max_epochs=20,\n",
    "    learning_rate=0.001,\n",
    "    batch_size=32,\n",
    "    early_stop_tol=5,\n",
    "    is_classification=False\n",
    ")"
   ],
   "metadata": {
    "collapsed": false,
    "ExecuteTime": {
     "start_time": "2023-11-11T11:29:26.691380Z",
     "end_time": "2023-11-11T11:29:26.709888Z"
    }
   }
  },
  {
   "cell_type": "markdown",
   "source": [
    "## data preparation"
   ],
   "metadata": {
    "collapsed": false
   }
  },
  {
   "cell_type": "code",
   "execution_count": 8,
   "outputs": [],
   "source": [
    "dataset = load_pure_ferris_wheel_dataset(\n",
    "    num_gondolas=NUM_GONDOLAS,\n",
    "    num_part_pg=NUM_PART_PG,\n",
    "    num_to_generate=DATASET_SIZE,\n",
    "    dataset_path=DATASET_PATH\n",
    ")"
   ],
   "metadata": {
    "collapsed": false,
    "ExecuteTime": {
     "start_time": "2023-11-11T11:29:26.705888Z",
     "end_time": "2023-11-11T11:29:26.740887Z"
    }
   }
  },
  {
   "cell_type": "code",
   "execution_count": 9,
   "outputs": [
    {
     "data": {
      "text/plain": "10000"
     },
     "execution_count": 9,
     "metadata": {},
     "output_type": "execute_result"
    }
   ],
   "source": [
    "len(dataset)"
   ],
   "metadata": {
    "collapsed": false,
    "ExecuteTime": {
     "start_time": "2023-11-11T11:29:26.737887Z",
     "end_time": "2023-11-11T11:29:26.764888Z"
    }
   }
  },
  {
   "cell_type": "code",
   "execution_count": 10,
   "outputs": [],
   "source": [
    "generator = torch.Generator().manual_seed(420)\n",
    "train_ds, val_ds, test_ds = random_split(\n",
    "    dataset,\n",
    "    [1-val_perc-test_perc, val_perc, test_perc],\n",
    "    generator=generator\n",
    ")"
   ],
   "metadata": {
    "collapsed": false,
    "ExecuteTime": {
     "start_time": "2023-11-11T11:29:26.754888Z",
     "end_time": "2023-11-11T11:29:26.848396Z"
    }
   }
  },
  {
   "cell_type": "code",
   "execution_count": 11,
   "outputs": [],
   "source": [
    "train_loader = DataLoader(train_ds, batch_size=config.batch_size, shuffle=True)\n",
    "val_loader = DataLoader(val_ds, batch_size=config.batch_size, shuffle=False)\n",
    "test_loader = DataLoader(test_ds, batch_size=config.batch_size, shuffle=False)"
   ],
   "metadata": {
    "collapsed": false,
    "ExecuteTime": {
     "start_time": "2023-11-11T11:29:26.770887Z",
     "end_time": "2023-11-11T11:29:26.848396Z"
    }
   }
  },
  {
   "cell_type": "code",
   "execution_count": 12,
   "outputs": [],
   "source": [
    "# todo: add more tree mutated sequences that are in dataset\n",
    "# todo: add some faulty sequences which disturb this and see how much this affects the training"
   ],
   "metadata": {
    "collapsed": false,
    "ExecuteTime": {
     "start_time": "2023-11-11T11:29:26.786888Z",
     "end_time": "2023-11-11T11:29:26.848396Z"
    }
   }
  },
  {
   "cell_type": "markdown",
   "source": [
    "## Build tree structure"
   ],
   "metadata": {
    "collapsed": false
   }
  },
  {
   "cell_type": "code",
   "execution_count": 13,
   "outputs": [],
   "source": [
    "tree_structure = TreeNode(\n",
    "    node_type=\"C\",\n",
    "    children=[\n",
    "        TreeNode(\"P\", [TreeNode(\"E\", NUM_PART_PG)])\n",
    "        for _ in range(NUM_GONDOLAS)\n",
    "    ]\n",
    ")"
   ],
   "metadata": {
    "collapsed": false,
    "ExecuteTime": {
     "start_time": "2023-11-11T11:29:26.802891Z",
     "end_time": "2023-11-11T11:29:26.848396Z"
    }
   }
  },
  {
   "cell_type": "markdown",
   "source": [
    "## Define device"
   ],
   "metadata": {
    "collapsed": false
   }
  },
  {
   "cell_type": "code",
   "execution_count": 14,
   "outputs": [],
   "source": [
    "device = \"cuda\" if torch.cuda.is_available() else \"cpu\""
   ],
   "metadata": {
    "collapsed": false,
    "ExecuteTime": {
     "start_time": "2023-11-11T11:29:26.819397Z",
     "end_time": "2023-11-11T11:29:26.884397Z"
    }
   }
  },
  {
   "cell_type": "code",
   "execution_count": 15,
   "outputs": [],
   "source": [
    "device = 'cpu'"
   ],
   "metadata": {
    "collapsed": false,
    "ExecuteTime": {
     "start_time": "2023-11-11T11:29:26.851400Z",
     "end_time": "2023-11-11T11:29:26.884397Z"
    }
   }
  },
  {
   "cell_type": "code",
   "execution_count": 16,
   "outputs": [
    {
     "data": {
      "text/plain": "'cpu'"
     },
     "execution_count": 16,
     "metadata": {},
     "output_type": "execute_result"
    }
   ],
   "source": [
    "device"
   ],
   "metadata": {
    "collapsed": false,
    "ExecuteTime": {
     "start_time": "2023-11-11T11:29:26.865396Z",
     "end_time": "2023-11-11T11:29:26.926906Z"
    }
   }
  },
  {
   "cell_type": "markdown",
   "source": [
    "## Set seeds for reproducibility"
   ],
   "metadata": {
    "collapsed": false
   }
  },
  {
   "cell_type": "code",
   "execution_count": 17,
   "outputs": [],
   "source": [
    "seeding_all(420)"
   ],
   "metadata": {
    "collapsed": false,
    "ExecuteTime": {
     "start_time": "2023-11-11T11:29:26.881398Z",
     "end_time": "2023-11-11T11:29:26.938907Z"
    }
   }
  },
  {
   "cell_type": "markdown",
   "source": [
    "## Define Model"
   ],
   "metadata": {
    "collapsed": false
   }
  },
  {
   "cell_type": "code",
   "execution_count": 18,
   "outputs": [],
   "source": [
    "model = LayerManagementFramework(\n",
    "    in_dim=config.in_dim,\n",
    "    tree=tree_structure,\n",
    "    hidden_dim=config.hidden_dim,\n",
    "    out_dim=config.out_dim,\n",
    "    k=config.k\n",
    ").to(device)"
   ],
   "metadata": {
    "collapsed": false,
    "ExecuteTime": {
     "start_time": "2023-11-11T11:29:26.896400Z",
     "end_time": "2023-11-11T11:29:26.938907Z"
    }
   }
  },
  {
   "cell_type": "markdown",
   "source": [
    "## Define Loss and Optimizers"
   ],
   "metadata": {
    "collapsed": false
   }
  },
  {
   "cell_type": "code",
   "execution_count": 19,
   "outputs": [],
   "source": [
    "criterion = nn.MSELoss()"
   ],
   "metadata": {
    "collapsed": false,
    "ExecuteTime": {
     "start_time": "2023-11-11T11:29:26.911907Z",
     "end_time": "2023-11-11T11:29:26.938907Z"
    }
   }
  },
  {
   "cell_type": "code",
   "execution_count": 20,
   "outputs": [],
   "source": [
    "optimizer = optim.Adam(model.parameters(), lr=config.learning_rate)\n",
    "# optimizer = optim.SGD(model.parameters(), lr=config.learning_rate, momentum=0.9)"
   ],
   "metadata": {
    "collapsed": false,
    "ExecuteTime": {
     "start_time": "2023-11-11T11:29:26.927908Z",
     "end_time": "2023-11-11T11:29:27.103207Z"
    }
   }
  },
  {
   "cell_type": "markdown",
   "source": [
    "## Training"
   ],
   "metadata": {
    "collapsed": false
   }
  },
  {
   "cell_type": "code",
   "execution_count": 21,
   "outputs": [],
   "source": [
    "# init loss history\n",
    "loss_history_train = []\n",
    "loss_history_test = []"
   ],
   "metadata": {
    "collapsed": false,
    "ExecuteTime": {
     "start_time": "2023-11-11T11:29:27.103207Z",
     "end_time": "2023-11-11T11:29:27.118373Z"
    }
   }
  },
  {
   "cell_type": "code",
   "execution_count": 22,
   "outputs": [],
   "source": [
    "epoch_control = EpochControl(\n",
    "    model_save_name=MODEL_SAVING_NAME,\n",
    "    config_save_name=CONFIG_SAVING_NAME,\n",
    "    saving_folder_path=SAVING_PATH,\n",
    "    tolerance=config.early_stop_tol,\n",
    "    is_accuracy_score=config.is_accuracy_score\n",
    ")"
   ],
   "metadata": {
    "collapsed": false,
    "ExecuteTime": {
     "start_time": "2023-11-11T11:29:27.119374Z",
     "end_time": "2023-11-11T11:29:27.141373Z"
    }
   }
  },
  {
   "cell_type": "code",
   "execution_count": 23,
   "outputs": [],
   "source": [
    "accuracy_protocoller = AccuracyManager(\n",
    "    storage_name=ACCURACY_SAVING_NAME,\n",
    "    storage_path=RESULTS_FOLDER,\n",
    "    is_classification=False\n",
    ")"
   ],
   "metadata": {
    "collapsed": false,
    "ExecuteTime": {
     "start_time": "2023-11-11T11:29:27.135374Z",
     "end_time": "2023-11-11T11:29:27.153374Z"
    }
   }
  },
  {
   "cell_type": "code",
   "execution_count": 24,
   "outputs": [
    {
     "name": "stderr",
     "output_type": "stream",
     "text": [
      "  5%|▌         | 1/20 [00:06<02:01,  6.38s/it]"
     ]
    },
    {
     "name": "stdout",
     "output_type": "stream",
     "text": [
      "++save++\n"
     ]
    },
    {
     "name": "stderr",
     "output_type": "stream",
     "text": [
      " 15%|█▌        | 3/20 [00:19<01:49,  6.46s/it]"
     ]
    },
    {
     "name": "stdout",
     "output_type": "stream",
     "text": [
      "++save++\n"
     ]
    },
    {
     "name": "stderr",
     "output_type": "stream",
     "text": [
      " 30%|███       | 6/20 [00:39<01:32,  6.61s/it]"
     ]
    },
    {
     "name": "stdout",
     "output_type": "stream",
     "text": [
      "++save++\n"
     ]
    },
    {
     "name": "stderr",
     "output_type": "stream",
     "text": [
      " 55%|█████▌    | 11/20 [01:18<01:04,  7.17s/it]\n"
     ]
    }
   ],
   "source": [
    "# train for N epochs\n",
    "for epoch in tqdm(range(config.num_max_epochs)):\n",
    "    mean_train_loss, train_true_y, train_pred_y = train_epoch(\n",
    "        model,\n",
    "        train_loader,\n",
    "        optimizer,\n",
    "        device,\n",
    "        criterion\n",
    "    )\n",
    "\n",
    "    loss_history_train += [mean_train_loss]\n",
    "\n",
    "    mean_test_loss, test_true_y, test_pred_y = eval_epoch(\n",
    "        model,\n",
    "        test_loader,\n",
    "        device,\n",
    "        criterion\n",
    "    )\n",
    "    loss_history_test += [mean_test_loss]\n",
    "\n",
    "    # use accuracy manager to calc accuracy metrics and save them\n",
    "    accuracy_protocoller.calc_and_collect(\n",
    "        config_id=\"t1\",\n",
    "        epoch=epoch+1,\n",
    "        train_y_true=train_true_y,\n",
    "        train_y_pred=train_pred_y,\n",
    "        train_loss=mean_train_loss,\n",
    "        test_y_true=test_true_y,\n",
    "        test_y_pred=test_pred_y,\n",
    "        test_loss=mean_test_loss,\n",
    "    )\n",
    "\n",
    "    # check if model is better and save it\n",
    "    if epoch_control.retain_best_and_stop(model, mean_train_loss, mean_test_loss, config):\n",
    "        break"
   ],
   "metadata": {
    "collapsed": false,
    "ExecuteTime": {
     "start_time": "2023-11-11T11:29:27.153374Z",
     "end_time": "2023-11-11T11:30:46.015829Z"
    }
   }
  },
  {
   "cell_type": "code",
   "execution_count": 25,
   "outputs": [
    {
     "data": {
      "text/plain": "   config_id  epoch  train_loss  val_loss  test_loss   train_mse  train_msa  \\\n0         t1      1  633.264099       0.0  37.157944  633.936157  10.434734   \n1         t1      2   40.020794       0.0  38.548046   39.998463   5.066658   \n2         t1      3   41.352055       0.0  35.782757   41.353500   5.159584   \n3         t1      4   41.300411       0.0  36.488838   41.295254   5.143546   \n4         t1      5   40.091259       0.0  45.639965   40.086823   5.068061   \n5         t1      6   42.573845       0.0  35.453419   42.563240   5.223276   \n6         t1      7   43.042141       0.0  45.142570   43.056419   5.273295   \n7         t1      8   41.004566       0.0  39.234829   40.981853   5.099648   \n8         t1      9   41.255173       0.0  39.992195   41.252628   5.136293   \n9         t1     10   39.716881       0.0  35.720409   39.729553   5.034967   \n10        t1     11   39.408302       0.0  37.532490   39.406322   5.022831   \n11        t1     12   38.202541       0.0  39.926754   38.182457   4.948862   \n\n    train_explained_variance   train_r2  val_mse  val_msa  \\\n0                 -19.894468 -19.927076      0.0      0.0   \n1                  -0.320199  -0.320403      0.0      0.0   \n2                  -0.364999  -0.365134      0.0      0.0   \n3                  -0.362856  -0.363211      0.0      0.0   \n4                  -0.322992  -0.323319      0.0      0.0   \n5                  -0.404980  -0.405069      0.0      0.0   \n6                  -0.421021  -0.421350      0.0      0.0   \n7                  -0.352472  -0.352866      0.0      0.0   \n8                  -0.361618  -0.361804      0.0      0.0   \n9                  -0.311191  -0.311525      0.0      0.0   \n10                 -0.300478  -0.300855      0.0      0.0   \n11                 -0.260146  -0.260454      0.0      0.0   \n\n    val_explained_variance  val_r2   test_mse  test_msa  \\\n0                      0.0     0.0  37.220943  4.880239   \n1                      0.0     0.0  38.639553  4.904961   \n2                      0.0     0.0  35.861015  4.761080   \n3                      0.0     0.0  36.564304  4.824800   \n4                      0.0     0.0  45.700794  5.510725   \n5                      0.0     0.0  35.537445  4.716263   \n6                      0.0     0.0  45.244213  5.305459   \n7                      0.0     0.0  39.332008  4.936762   \n8                      0.0     0.0  40.089802  4.982496   \n9                      0.0     0.0  35.810677  4.723145   \n10                     0.0     0.0  37.625305  4.830001   \n11                     0.0     0.0  40.023033  4.979141   \n\n    test_explained_variance   test_r2  \n0                 -0.221605 -0.247702  \n1                 -0.187778 -0.295255  \n2                 -0.196226 -0.202115  \n3                 -0.196650 -0.225690  \n4                 -0.206098 -0.531959  \n5                 -0.186001 -0.191268  \n6                 -0.170969 -0.516654  \n7                 -0.175849 -0.318468  \n8                 -0.174087 -0.343870  \n9                 -0.179913 -0.200427  \n10                -0.175158 -0.261256  \n11                -0.168598 -0.341632  ",
      "text/html": "<div>\n<style scoped>\n    .dataframe tbody tr th:only-of-type {\n        vertical-align: middle;\n    }\n\n    .dataframe tbody tr th {\n        vertical-align: top;\n    }\n\n    .dataframe thead th {\n        text-align: right;\n    }\n</style>\n<table border=\"1\" class=\"dataframe\">\n  <thead>\n    <tr style=\"text-align: right;\">\n      <th></th>\n      <th>config_id</th>\n      <th>epoch</th>\n      <th>train_loss</th>\n      <th>val_loss</th>\n      <th>test_loss</th>\n      <th>train_mse</th>\n      <th>train_msa</th>\n      <th>train_explained_variance</th>\n      <th>train_r2</th>\n      <th>val_mse</th>\n      <th>val_msa</th>\n      <th>val_explained_variance</th>\n      <th>val_r2</th>\n      <th>test_mse</th>\n      <th>test_msa</th>\n      <th>test_explained_variance</th>\n      <th>test_r2</th>\n    </tr>\n  </thead>\n  <tbody>\n    <tr>\n      <th>0</th>\n      <td>t1</td>\n      <td>1</td>\n      <td>633.264099</td>\n      <td>0.0</td>\n      <td>37.157944</td>\n      <td>633.936157</td>\n      <td>10.434734</td>\n      <td>-19.894468</td>\n      <td>-19.927076</td>\n      <td>0.0</td>\n      <td>0.0</td>\n      <td>0.0</td>\n      <td>0.0</td>\n      <td>37.220943</td>\n      <td>4.880239</td>\n      <td>-0.221605</td>\n      <td>-0.247702</td>\n    </tr>\n    <tr>\n      <th>1</th>\n      <td>t1</td>\n      <td>2</td>\n      <td>40.020794</td>\n      <td>0.0</td>\n      <td>38.548046</td>\n      <td>39.998463</td>\n      <td>5.066658</td>\n      <td>-0.320199</td>\n      <td>-0.320403</td>\n      <td>0.0</td>\n      <td>0.0</td>\n      <td>0.0</td>\n      <td>0.0</td>\n      <td>38.639553</td>\n      <td>4.904961</td>\n      <td>-0.187778</td>\n      <td>-0.295255</td>\n    </tr>\n    <tr>\n      <th>2</th>\n      <td>t1</td>\n      <td>3</td>\n      <td>41.352055</td>\n      <td>0.0</td>\n      <td>35.782757</td>\n      <td>41.353500</td>\n      <td>5.159584</td>\n      <td>-0.364999</td>\n      <td>-0.365134</td>\n      <td>0.0</td>\n      <td>0.0</td>\n      <td>0.0</td>\n      <td>0.0</td>\n      <td>35.861015</td>\n      <td>4.761080</td>\n      <td>-0.196226</td>\n      <td>-0.202115</td>\n    </tr>\n    <tr>\n      <th>3</th>\n      <td>t1</td>\n      <td>4</td>\n      <td>41.300411</td>\n      <td>0.0</td>\n      <td>36.488838</td>\n      <td>41.295254</td>\n      <td>5.143546</td>\n      <td>-0.362856</td>\n      <td>-0.363211</td>\n      <td>0.0</td>\n      <td>0.0</td>\n      <td>0.0</td>\n      <td>0.0</td>\n      <td>36.564304</td>\n      <td>4.824800</td>\n      <td>-0.196650</td>\n      <td>-0.225690</td>\n    </tr>\n    <tr>\n      <th>4</th>\n      <td>t1</td>\n      <td>5</td>\n      <td>40.091259</td>\n      <td>0.0</td>\n      <td>45.639965</td>\n      <td>40.086823</td>\n      <td>5.068061</td>\n      <td>-0.322992</td>\n      <td>-0.323319</td>\n      <td>0.0</td>\n      <td>0.0</td>\n      <td>0.0</td>\n      <td>0.0</td>\n      <td>45.700794</td>\n      <td>5.510725</td>\n      <td>-0.206098</td>\n      <td>-0.531959</td>\n    </tr>\n    <tr>\n      <th>5</th>\n      <td>t1</td>\n      <td>6</td>\n      <td>42.573845</td>\n      <td>0.0</td>\n      <td>35.453419</td>\n      <td>42.563240</td>\n      <td>5.223276</td>\n      <td>-0.404980</td>\n      <td>-0.405069</td>\n      <td>0.0</td>\n      <td>0.0</td>\n      <td>0.0</td>\n      <td>0.0</td>\n      <td>35.537445</td>\n      <td>4.716263</td>\n      <td>-0.186001</td>\n      <td>-0.191268</td>\n    </tr>\n    <tr>\n      <th>6</th>\n      <td>t1</td>\n      <td>7</td>\n      <td>43.042141</td>\n      <td>0.0</td>\n      <td>45.142570</td>\n      <td>43.056419</td>\n      <td>5.273295</td>\n      <td>-0.421021</td>\n      <td>-0.421350</td>\n      <td>0.0</td>\n      <td>0.0</td>\n      <td>0.0</td>\n      <td>0.0</td>\n      <td>45.244213</td>\n      <td>5.305459</td>\n      <td>-0.170969</td>\n      <td>-0.516654</td>\n    </tr>\n    <tr>\n      <th>7</th>\n      <td>t1</td>\n      <td>8</td>\n      <td>41.004566</td>\n      <td>0.0</td>\n      <td>39.234829</td>\n      <td>40.981853</td>\n      <td>5.099648</td>\n      <td>-0.352472</td>\n      <td>-0.352866</td>\n      <td>0.0</td>\n      <td>0.0</td>\n      <td>0.0</td>\n      <td>0.0</td>\n      <td>39.332008</td>\n      <td>4.936762</td>\n      <td>-0.175849</td>\n      <td>-0.318468</td>\n    </tr>\n    <tr>\n      <th>8</th>\n      <td>t1</td>\n      <td>9</td>\n      <td>41.255173</td>\n      <td>0.0</td>\n      <td>39.992195</td>\n      <td>41.252628</td>\n      <td>5.136293</td>\n      <td>-0.361618</td>\n      <td>-0.361804</td>\n      <td>0.0</td>\n      <td>0.0</td>\n      <td>0.0</td>\n      <td>0.0</td>\n      <td>40.089802</td>\n      <td>4.982496</td>\n      <td>-0.174087</td>\n      <td>-0.343870</td>\n    </tr>\n    <tr>\n      <th>9</th>\n      <td>t1</td>\n      <td>10</td>\n      <td>39.716881</td>\n      <td>0.0</td>\n      <td>35.720409</td>\n      <td>39.729553</td>\n      <td>5.034967</td>\n      <td>-0.311191</td>\n      <td>-0.311525</td>\n      <td>0.0</td>\n      <td>0.0</td>\n      <td>0.0</td>\n      <td>0.0</td>\n      <td>35.810677</td>\n      <td>4.723145</td>\n      <td>-0.179913</td>\n      <td>-0.200427</td>\n    </tr>\n    <tr>\n      <th>10</th>\n      <td>t1</td>\n      <td>11</td>\n      <td>39.408302</td>\n      <td>0.0</td>\n      <td>37.532490</td>\n      <td>39.406322</td>\n      <td>5.022831</td>\n      <td>-0.300478</td>\n      <td>-0.300855</td>\n      <td>0.0</td>\n      <td>0.0</td>\n      <td>0.0</td>\n      <td>0.0</td>\n      <td>37.625305</td>\n      <td>4.830001</td>\n      <td>-0.175158</td>\n      <td>-0.261256</td>\n    </tr>\n    <tr>\n      <th>11</th>\n      <td>t1</td>\n      <td>12</td>\n      <td>38.202541</td>\n      <td>0.0</td>\n      <td>39.926754</td>\n      <td>38.182457</td>\n      <td>4.948862</td>\n      <td>-0.260146</td>\n      <td>-0.260454</td>\n      <td>0.0</td>\n      <td>0.0</td>\n      <td>0.0</td>\n      <td>0.0</td>\n      <td>40.023033</td>\n      <td>4.979141</td>\n      <td>-0.168598</td>\n      <td>-0.341632</td>\n    </tr>\n  </tbody>\n</table>\n</div>"
     },
     "execution_count": 25,
     "metadata": {},
     "output_type": "execute_result"
    }
   ],
   "source": [
    "df_measures = pd.read_csv(os.path.join(SAVING_PATH, ACCURACY_SAVING_NAME))\n",
    "df_measures"
   ],
   "metadata": {
    "collapsed": false,
    "ExecuteTime": {
     "start_time": "2023-11-11T11:30:46.015829Z",
     "end_time": "2023-11-11T11:30:46.030834Z"
    }
   }
  },
  {
   "cell_type": "code",
   "execution_count": 26,
   "outputs": [
    {
     "data": {
      "text/plain": "<Figure size 640x480 with 1 Axes>",
      "image/png": "[encoded data removed]"
     },
     "metadata": {},
     "output_type": "display_data"
    },
    {
     "data": {
      "text/plain": "<Figure size 640x480 with 1 Axes>",
      "image/png": "[encoded data removed]"
     },
     "metadata": {},
     "output_type": "display_data"
    },
    {
     "data": {
      "text/plain": "<Figure size 640x480 with 1 Axes>",
      "image/png": "[encoded data removed]"
     },
     "metadata": {},
     "output_type": "display_data"
    }
   ],
   "source": [
    "for what in ['loss', 'r2', 'explained_variance']:\n",
    "    plt.figure()\n",
    "    for config_id in df_measures.config_id.unique():\n",
    "        # make subdataset for config id\n",
    "        sub_df = df_measures[df_measures.config_id == config_id]\n",
    "\n",
    "        # plot train test and val\n",
    "        for mode in ['train', 'test', 'val']:\n",
    "            # plot training\n",
    "            plt.plot(sub_df.epoch, sub_df[f\"{mode}_{what}\"], label=f\"{config_id}_{mode}-{what}\")\n",
    "\n",
    "    plt.title(f\"{what} plot\")\n",
    "    plt.xlabel(\"epoch\")\n",
    "    plt.ylabel(\"score\")\n",
    "    if what == 'r2':\n",
    "        plt.ylim(-1,1)\n",
    "    plt.legend()\n",
    "    plt.show()"
   ],
   "metadata": {
    "collapsed": false,
    "ExecuteTime": {
     "start_time": "2023-11-11T11:30:46.030834Z",
     "end_time": "2023-11-11T11:30:46.330546Z"
    }
   }
  },
  {
   "cell_type": "code",
   "execution_count": 27,
   "outputs": [],
   "source": [
    "# plot explained variances"
   ],
   "metadata": {
    "collapsed": false,
    "ExecuteTime": {
     "start_time": "2023-11-11T11:30:46.299545Z",
     "end_time": "2023-11-11T11:30:46.330546Z"
    }
   }
  },
  {
   "cell_type": "code",
   "execution_count": 28,
   "outputs": [],
   "source": [
    "# plot r2"
   ],
   "metadata": {
    "collapsed": false,
    "ExecuteTime": {
     "start_time": "2023-11-11T11:30:46.316543Z",
     "end_time": "2023-11-11T11:30:46.331547Z"
    }
   }
  },
  {
   "cell_type": "code",
   "execution_count": 29,
   "outputs": [],
   "source": [
    "test_loss = torch.nn.CrossEntropyLoss()"
   ],
   "metadata": {
    "collapsed": false,
    "ExecuteTime": {
     "start_time": "2023-11-11T11:30:46.331547Z",
     "end_time": "2023-11-11T11:30:46.346198Z"
    }
   }
  },
  {
   "cell_type": "code",
   "execution_count": 30,
   "outputs": [],
   "source": [
    "label = torch.tensor([0., 1.,2.,3.,4.])\n",
    "pred = torch.tensor([1.1, 1., 2., 2., 4.])"
   ],
   "metadata": {
    "collapsed": false,
    "ExecuteTime": {
     "start_time": "2023-11-11T11:30:46.347669Z",
     "end_time": "2023-11-11T11:30:46.402676Z"
    }
   }
  },
  {
   "cell_type": "code",
   "execution_count": 31,
   "outputs": [
    {
     "data": {
      "text/plain": "tensor(16.1880)"
     },
     "execution_count": 31,
     "metadata": {},
     "output_type": "execute_result"
    }
   ],
   "source": [
    "test_loss(pred, label)"
   ],
   "metadata": {
    "collapsed": false,
    "ExecuteTime": {
     "start_time": "2023-11-11T11:30:46.362675Z",
     "end_time": "2023-11-11T11:30:46.403677Z"
    }
   }
  },
  {
   "cell_type": "markdown",
   "source": [
    "todo:\n",
    "- build option for classification instead of regression\n",
    "- either still predict number or make softmax classification"
   ],
   "metadata": {
    "collapsed": false
   }
  },
  {
   "cell_type": "markdown",
   "source": [
    "## Test/Debug"
   ],
   "metadata": {
    "collapsed": false
   }
  },
  {
   "cell_type": "markdown",
   "source": [
    "with open(\"test1.txt\", \"w\") as file:\n",
    "    file.write(\"config_id, epoch\\n\")\n",
    "    file.write(\"0,1\")"
   ],
   "metadata": {
    "collapsed": false
   }
  },
  {
   "cell_type": "markdown",
   "source": [
    "with open(\"test1.txt\", \"a\") as file:\n",
    "    file.write(f\"\\n\")"
   ],
   "metadata": {
    "collapsed": false
   }
  },
  {
   "cell_type": "markdown",
   "source": [
    "import pandas as pd\n",
    "\n",
    "pd.read_csv(\"test1.txt\")"
   ],
   "metadata": {
    "collapsed": false
   }
  },
  {
   "cell_type": "markdown",
   "source": [
    "for x,y in train_loader:\n",
    "    break"
   ],
   "metadata": {
    "collapsed": false
   }
  },
  {
   "cell_type": "markdown",
   "source": [
    "x.shape"
   ],
   "metadata": {
    "collapsed": false
   }
  },
  {
   "cell_type": "markdown",
   "source": [
    "x"
   ],
   "metadata": {
    "collapsed": false
   }
  },
  {
   "cell_type": "markdown",
   "source": [
    "y.shape"
   ],
   "metadata": {
    "collapsed": false
   }
  },
  {
   "cell_type": "markdown",
   "source": [
    "y"
   ],
   "metadata": {
    "collapsed": false
   }
  },
  {
   "cell_type": "markdown",
   "source": [
    "for i in range(1000):\n",
    "    optimizer.zero_grad()\n",
    "    prediction = model(x).flatten()\n",
    "    loss = criterion(prediction, y)\n",
    "    print(f\"Epoch:{i+1} - loss:{loss}\")\n",
    "    loss.backward()\n",
    "    optimizer.step()"
   ],
   "metadata": {
    "collapsed": false
   }
  },
  {
   "cell_type": "markdown",
   "source": [
    "y"
   ],
   "metadata": {
    "collapsed": false
   }
  },
  {
   "cell_type": "markdown",
   "source": [
    "model(x).flatten()"
   ],
   "metadata": {
    "collapsed": false
   }
  }
 ],
 "metadata": {
  "kernelspec": {
   "display_name": "Python 3",
   "language": "python",
   "name": "python3"
  },
  "language_info": {
   "codemirror_mode": {
    "name": "ipython",
    "version": 2
   },
   "file_extension": ".py",
   "mimetype": "text/x-python",
   "name": "python",
   "nbconvert_exporter": "python",
   "pygments_lexer": "ipython2",
   "version": "2.7.6"
  }
 },
 "nbformat": 4,
 "nbformat_minor": 0
}
