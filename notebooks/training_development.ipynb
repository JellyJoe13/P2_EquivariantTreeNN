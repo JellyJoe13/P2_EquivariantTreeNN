{
 "cells": [
  {
   "cell_type": "markdown",
   "source": [
    "# Basic Training Scheme development notebook"
   ],
   "metadata": {
    "collapsed": false
   }
  },
  {
   "cell_type": "markdown",
   "source": [
    "## Importing section"
   ],
   "metadata": {
    "collapsed": false
   }
  },
  {
   "cell_type": "code",
   "execution_count": 1,
   "outputs": [],
   "source": [
    "import torch\n",
    "from torch import optim, nn\n",
    "from torch.utils.data import random_split, DataLoader\n",
    "from etnn.data.ferris_wheel import load_pure_ferris_wheel_dataset\n",
    "from etnn.data.tree_structure import TreeNode\n",
    "from etnn.nn.layer_framework import LayerManagementFramework\n",
    "from tqdm import tqdm\n",
    "import matplotlib.pyplot as plt\n",
    "from etnn.tools.training import train_epoch, eval_epoch\n",
    "from etnn.tools.training_tools import EpochControl, ConfigStore, AccuracyManager, seeding_all"
   ],
   "metadata": {
    "collapsed": false,
    "ExecuteTime": {
     "start_time": "2023-11-11T11:47:34.628787Z",
     "end_time": "2023-11-11T11:47:36.511458Z"
    }
   }
  },
  {
   "cell_type": "code",
   "execution_count": 2,
   "outputs": [],
   "source": [
    "import numpy as np\n",
    "import pandas as pd\n",
    "import os"
   ],
   "metadata": {
    "collapsed": false,
    "ExecuteTime": {
     "start_time": "2023-11-11T11:47:36.512459Z",
     "end_time": "2023-11-11T11:47:36.525458Z"
    }
   }
  },
  {
   "cell_type": "markdown",
   "source": [
    "## Parameter definition"
   ],
   "metadata": {
    "collapsed": false
   }
  },
  {
   "cell_type": "code",
   "execution_count": 3,
   "outputs": [],
   "source": [
    "NUM_GONDOLAS = 10\n",
    "NUM_PART_PG = 5\n",
    "DATASET_SIZE = 10_000\n",
    "DATASET_PATH = \"../datasets\""
   ],
   "metadata": {
    "collapsed": false,
    "ExecuteTime": {
     "start_time": "2023-11-11T11:47:36.526458Z",
     "end_time": "2023-11-11T11:47:36.543457Z"
    }
   }
  },
  {
   "cell_type": "code",
   "execution_count": 4,
   "outputs": [],
   "source": [
    "val_perc = 0.1\n",
    "test_perc = 0.2"
   ],
   "metadata": {
    "collapsed": false,
    "ExecuteTime": {
     "start_time": "2023-11-11T11:47:36.541457Z",
     "end_time": "2023-11-11T11:47:36.556463Z"
    }
   }
  },
  {
   "cell_type": "code",
   "execution_count": 5,
   "outputs": [],
   "source": [
    "SAVING_PATH = \".\"\n",
    "MODEL_SAVING_NAME = \"model.pt\""
   ],
   "metadata": {
    "collapsed": false,
    "ExecuteTime": {
     "start_time": "2023-11-11T11:47:36.557461Z",
     "end_time": "2023-11-11T11:47:36.587969Z"
    }
   }
  },
  {
   "cell_type": "code",
   "execution_count": 6,
   "outputs": [],
   "source": [
    "CONFIG_SAVING_NAME = \"config.json\"\n",
    "ACCURACY_SAVING_NAME = \"accuracies.csv\"\n",
    "RESULTS_FOLDER = \".\""
   ],
   "metadata": {
    "collapsed": false,
    "ExecuteTime": {
     "start_time": "2023-11-11T11:47:36.572969Z",
     "end_time": "2023-11-11T11:47:36.592968Z"
    }
   }
  },
  {
   "cell_type": "code",
   "execution_count": 7,
   "outputs": [],
   "source": [
    "# todo: take care of None values as representing not yet implemented features\n",
    "config = ConfigStore(\n",
    "    in_dim=15,\n",
    "    hidden_dim=128,\n",
    "    out_dim=1,\n",
    "    k=2,\n",
    "    is_accuracy_score=False,\n",
    "    which_score=None,\n",
    "    loss_name=None,\n",
    "    optimizer_name=None,\n",
    "    num_max_epochs=40, # old: 20\n",
    "    learning_rate=0.001,\n",
    "    batch_size=1024,\n",
    "    early_stop_tol=5,\n",
    "    is_classification=False\n",
    ")"
   ],
   "metadata": {
    "collapsed": false,
    "ExecuteTime": {
     "start_time": "2023-11-11T11:47:36.588969Z",
     "end_time": "2023-11-11T11:47:36.602968Z"
    }
   }
  },
  {
   "cell_type": "markdown",
   "source": [
    "## data preparation"
   ],
   "metadata": {
    "collapsed": false
   }
  },
  {
   "cell_type": "code",
   "execution_count": 8,
   "outputs": [],
   "source": [
    "dataset = load_pure_ferris_wheel_dataset(\n",
    "    num_gondolas=NUM_GONDOLAS,\n",
    "    num_part_pg=NUM_PART_PG,\n",
    "    num_to_generate=DATASET_SIZE,\n",
    "    dataset_path=DATASET_PATH\n",
    ")"
   ],
   "metadata": {
    "collapsed": false,
    "ExecuteTime": {
     "start_time": "2023-11-11T11:47:36.602968Z",
     "end_time": "2023-11-11T11:47:36.633968Z"
    }
   }
  },
  {
   "cell_type": "code",
   "execution_count": 9,
   "outputs": [
    {
     "data": {
      "text/plain": "10000"
     },
     "execution_count": 9,
     "metadata": {},
     "output_type": "execute_result"
    }
   ],
   "source": [
    "len(dataset)"
   ],
   "metadata": {
    "collapsed": false,
    "ExecuteTime": {
     "start_time": "2023-11-11T11:47:36.634969Z",
     "end_time": "2023-11-11T11:47:36.652971Z"
    }
   }
  },
  {
   "cell_type": "code",
   "execution_count": 10,
   "outputs": [],
   "source": [
    "generator = torch.Generator().manual_seed(420)\n",
    "train_ds, val_ds, test_ds = random_split(\n",
    "    dataset,\n",
    "    [1-val_perc-test_perc, val_perc, test_perc],\n",
    "    generator=generator\n",
    ")"
   ],
   "metadata": {
    "collapsed": false,
    "ExecuteTime": {
     "start_time": "2023-11-11T11:47:36.651971Z",
     "end_time": "2023-11-11T11:47:36.680475Z"
    }
   }
  },
  {
   "cell_type": "code",
   "execution_count": 11,
   "outputs": [],
   "source": [
    "train_loader = DataLoader(train_ds, batch_size=config.batch_size, shuffle=True)\n",
    "val_loader = DataLoader(val_ds, batch_size=config.batch_size, shuffle=False)\n",
    "test_loader = DataLoader(test_ds, batch_size=config.batch_size, shuffle=False)"
   ],
   "metadata": {
    "collapsed": false,
    "ExecuteTime": {
     "start_time": "2023-11-11T11:47:36.666476Z",
     "end_time": "2023-11-11T11:47:36.693475Z"
    }
   }
  },
  {
   "cell_type": "code",
   "execution_count": 12,
   "outputs": [],
   "source": [
    "# todo: add more tree mutated sequences that are in dataset\n",
    "# todo: add some faulty sequences which disturb this and see how much this affects the training"
   ],
   "metadata": {
    "collapsed": false,
    "ExecuteTime": {
     "start_time": "2023-11-11T11:47:36.683475Z",
     "end_time": "2023-11-11T11:47:36.698476Z"
    }
   }
  },
  {
   "cell_type": "markdown",
   "source": [
    "## Build tree structure"
   ],
   "metadata": {
    "collapsed": false
   }
  },
  {
   "cell_type": "code",
   "execution_count": 13,
   "outputs": [],
   "source": [
    "tree_structure = TreeNode(\n",
    "    node_type=\"C\",\n",
    "    children=[\n",
    "        TreeNode(\"P\", [TreeNode(\"E\", NUM_PART_PG)])\n",
    "        for _ in range(NUM_GONDOLAS)\n",
    "    ]\n",
    ")"
   ],
   "metadata": {
    "collapsed": false,
    "ExecuteTime": {
     "start_time": "2023-11-11T11:47:36.698476Z",
     "end_time": "2023-11-11T11:47:36.717476Z"
    }
   }
  },
  {
   "cell_type": "markdown",
   "source": [
    "## Define device"
   ],
   "metadata": {
    "collapsed": false
   }
  },
  {
   "cell_type": "code",
   "execution_count": 14,
   "outputs": [],
   "source": [
    "device = \"cuda\" if torch.cuda.is_available() else \"cpu\""
   ],
   "metadata": {
    "collapsed": false,
    "ExecuteTime": {
     "start_time": "2023-11-11T11:47:36.714476Z",
     "end_time": "2023-11-11T11:47:36.730475Z"
    }
   }
  },
  {
   "cell_type": "code",
   "execution_count": 15,
   "outputs": [],
   "source": [
    "# device = 'cpu'"
   ],
   "metadata": {
    "collapsed": false,
    "ExecuteTime": {
     "start_time": "2023-11-11T11:47:36.730475Z",
     "end_time": "2023-11-11T11:47:36.761479Z"
    }
   }
  },
  {
   "cell_type": "code",
   "execution_count": 16,
   "outputs": [
    {
     "data": {
      "text/plain": "'cuda'"
     },
     "execution_count": 16,
     "metadata": {},
     "output_type": "execute_result"
    }
   ],
   "source": [
    "device"
   ],
   "metadata": {
    "collapsed": false,
    "ExecuteTime": {
     "start_time": "2023-11-11T11:47:36.746476Z",
     "end_time": "2023-11-11T11:47:36.762480Z"
    }
   }
  },
  {
   "cell_type": "markdown",
   "source": [
    "## Set seeds for reproducibility"
   ],
   "metadata": {
    "collapsed": false
   }
  },
  {
   "cell_type": "code",
   "execution_count": 17,
   "outputs": [],
   "source": [
    "seeding_all(420)"
   ],
   "metadata": {
    "collapsed": false,
    "ExecuteTime": {
     "start_time": "2023-11-11T11:47:36.762480Z",
     "end_time": "2023-11-11T11:47:36.779987Z"
    }
   }
  },
  {
   "cell_type": "markdown",
   "source": [
    "## Define Model"
   ],
   "metadata": {
    "collapsed": false
   }
  },
  {
   "cell_type": "code",
   "execution_count": 18,
   "outputs": [],
   "source": [
    "model = LayerManagementFramework(\n",
    "    in_dim=config.in_dim,\n",
    "    tree=tree_structure,\n",
    "    hidden_dim=config.hidden_dim,\n",
    "    out_dim=config.out_dim,\n",
    "    k=config.k\n",
    ").to(device)"
   ],
   "metadata": {
    "collapsed": false,
    "ExecuteTime": {
     "start_time": "2023-11-11T11:47:36.777988Z",
     "end_time": "2023-11-11T11:47:37.851266Z"
    }
   }
  },
  {
   "cell_type": "markdown",
   "source": [
    "## Define Loss and Optimizers"
   ],
   "metadata": {
    "collapsed": false
   }
  },
  {
   "cell_type": "code",
   "execution_count": 19,
   "outputs": [],
   "source": [
    "criterion = nn.MSELoss()"
   ],
   "metadata": {
    "collapsed": false,
    "ExecuteTime": {
     "start_time": "2023-11-11T11:47:37.852266Z",
     "end_time": "2023-11-11T11:47:37.866771Z"
    }
   }
  },
  {
   "cell_type": "code",
   "execution_count": 20,
   "outputs": [],
   "source": [
    "optimizer = optim.Adam(model.parameters(), lr=config.learning_rate)\n",
    "# optimizer = optim.SGD(model.parameters(), lr=config.learning_rate, momentum=0.9)"
   ],
   "metadata": {
    "collapsed": false,
    "ExecuteTime": {
     "start_time": "2023-11-11T11:47:37.867770Z",
     "end_time": "2023-11-11T11:47:38.040228Z"
    }
   }
  },
  {
   "cell_type": "markdown",
   "source": [
    "## Training"
   ],
   "metadata": {
    "collapsed": false
   }
  },
  {
   "cell_type": "code",
   "execution_count": 21,
   "outputs": [],
   "source": [
    "# init loss history\n",
    "loss_history_train = []\n",
    "loss_history_test = []"
   ],
   "metadata": {
    "collapsed": false,
    "ExecuteTime": {
     "start_time": "2023-11-11T11:47:38.041231Z",
     "end_time": "2023-11-11T11:47:38.056234Z"
    }
   }
  },
  {
   "cell_type": "code",
   "execution_count": 22,
   "outputs": [],
   "source": [
    "epoch_control = EpochControl(\n",
    "    model_save_name=MODEL_SAVING_NAME,\n",
    "    config_save_name=CONFIG_SAVING_NAME,\n",
    "    saving_folder_path=SAVING_PATH,\n",
    "    tolerance=config.early_stop_tol,\n",
    "    is_accuracy_score=config.is_accuracy_score\n",
    ")"
   ],
   "metadata": {
    "collapsed": false,
    "ExecuteTime": {
     "start_time": "2023-11-11T11:47:38.057233Z",
     "end_time": "2023-11-11T11:47:38.088930Z"
    }
   }
  },
  {
   "cell_type": "code",
   "execution_count": 23,
   "outputs": [],
   "source": [
    "accuracy_protocoller = AccuracyManager(\n",
    "    storage_name=ACCURACY_SAVING_NAME,\n",
    "    storage_path=RESULTS_FOLDER,\n",
    "    is_classification=False\n",
    ")"
   ],
   "metadata": {
    "collapsed": false,
    "ExecuteTime": {
     "start_time": "2023-11-11T11:47:38.073738Z",
     "end_time": "2023-11-11T11:47:38.088930Z"
    }
   }
  },
  {
   "cell_type": "code",
   "execution_count": 24,
   "outputs": [
    {
     "name": "stderr",
     "output_type": "stream",
     "text": [
      "  2%|▎         | 1/40 [00:04<02:47,  4.31s/it]"
     ]
    },
    {
     "name": "stdout",
     "output_type": "stream",
     "text": [
      "++save++\n"
     ]
    },
    {
     "name": "stderr",
     "output_type": "stream",
     "text": [
      "  5%|▌         | 2/40 [00:07<02:23,  3.77s/it]"
     ]
    },
    {
     "name": "stdout",
     "output_type": "stream",
     "text": [
      "++save++\n"
     ]
    },
    {
     "name": "stderr",
     "output_type": "stream",
     "text": [
      "  8%|▊         | 3/40 [00:11<02:15,  3.67s/it]"
     ]
    },
    {
     "name": "stdout",
     "output_type": "stream",
     "text": [
      "++save++\n"
     ]
    },
    {
     "name": "stderr",
     "output_type": "stream",
     "text": [
      " 10%|█         | 4/40 [00:14<02:11,  3.65s/it]"
     ]
    },
    {
     "name": "stdout",
     "output_type": "stream",
     "text": [
      "++save++\n"
     ]
    },
    {
     "name": "stderr",
     "output_type": "stream",
     "text": [
      " 22%|██▎       | 9/40 [00:33<01:53,  3.67s/it]"
     ]
    },
    {
     "name": "stdout",
     "output_type": "stream",
     "text": [
      "++save++\n"
     ]
    },
    {
     "name": "stderr",
     "output_type": "stream",
     "text": [
      " 35%|███▌      | 14/40 [00:51<01:35,  3.66s/it]"
     ]
    },
    {
     "name": "stdout",
     "output_type": "stream",
     "text": [
      "++save++\n"
     ]
    },
    {
     "name": "stderr",
     "output_type": "stream",
     "text": [
      " 38%|███▊      | 15/40 [00:55<01:31,  3.66s/it]"
     ]
    },
    {
     "name": "stdout",
     "output_type": "stream",
     "text": [
      "++save++\n"
     ]
    },
    {
     "name": "stderr",
     "output_type": "stream",
     "text": [
      " 45%|████▌     | 18/40 [01:06<01:20,  3.67s/it]"
     ]
    },
    {
     "name": "stdout",
     "output_type": "stream",
     "text": [
      "++save++\n"
     ]
    },
    {
     "name": "stderr",
     "output_type": "stream",
     "text": [
      " 48%|████▊     | 19/40 [01:09<01:16,  3.66s/it]"
     ]
    },
    {
     "name": "stdout",
     "output_type": "stream",
     "text": [
      "++save++\n"
     ]
    },
    {
     "name": "stderr",
     "output_type": "stream",
     "text": [
      " 55%|█████▌    | 22/40 [01:20<01:06,  3.67s/it]"
     ]
    },
    {
     "name": "stdout",
     "output_type": "stream",
     "text": [
      "++save++\n"
     ]
    },
    {
     "name": "stderr",
     "output_type": "stream",
     "text": [
      " 68%|██████▊   | 27/40 [01:42<00:49,  3.81s/it]\n"
     ]
    }
   ],
   "source": [
    "# train for N epochs\n",
    "for epoch in tqdm(range(config.num_max_epochs)):\n",
    "    mean_train_loss, train_true_y, train_pred_y = train_epoch(\n",
    "        model,\n",
    "        train_loader,\n",
    "        optimizer,\n",
    "        device,\n",
    "        criterion\n",
    "    )\n",
    "\n",
    "    loss_history_train += [mean_train_loss]\n",
    "\n",
    "    mean_test_loss, test_true_y, test_pred_y = eval_epoch(\n",
    "        model,\n",
    "        test_loader,\n",
    "        device,\n",
    "        criterion\n",
    "    )\n",
    "    loss_history_test += [mean_test_loss]\n",
    "\n",
    "    # use accuracy manager to calc accuracy metrics and save them\n",
    "    accuracy_protocoller.calc_and_collect(\n",
    "        config_id=\"t1\",\n",
    "        epoch=epoch+1,\n",
    "        train_y_true=train_true_y,\n",
    "        train_y_pred=train_pred_y,\n",
    "        train_loss=mean_train_loss,\n",
    "        test_y_true=test_true_y,\n",
    "        test_y_pred=test_pred_y,\n",
    "        test_loss=mean_test_loss,\n",
    "    )\n",
    "\n",
    "    # check if model is better and save it\n",
    "    if epoch_control.retain_best_and_stop(model, mean_train_loss, mean_test_loss, config):\n",
    "        break"
   ],
   "metadata": {
    "collapsed": false,
    "ExecuteTime": {
     "start_time": "2023-11-11T11:47:38.088930Z",
     "end_time": "2023-11-11T11:49:20.940220Z"
    }
   }
  },
  {
   "cell_type": "code",
   "execution_count": 25,
   "outputs": [
    {
     "data": {
      "text/plain": "   config_id  epoch    train_loss  val_loss    test_loss     train_mse  \\\n0         t1      1  53935.816406       0.0  8375.409180  55147.187500   \n1         t1      2   2623.327637       0.0   590.987610   2678.745605   \n2         t1      3    335.220032       0.0    78.593018    335.850311   \n3         t1      4    124.027214       0.0    36.493187    124.404106   \n4         t1      5     58.319851       0.0    52.471306     58.455509   \n5         t1      6     49.063576       0.0    57.107697     49.361027   \n6         t1      7     46.130096       0.0    44.958847     46.134956   \n7         t1      8     43.694180       0.0    40.030975     43.701164   \n8         t1      9     39.233856       0.0    36.151386     39.285454   \n9         t1     10     37.698490       0.0    38.880421     37.691742   \n10        t1     11     38.577816       0.0    36.276337     38.522762   \n11        t1     12     38.330112       0.0    38.052872     38.357376   \n12        t1     13     38.402569       0.0    37.359188     38.463058   \n13        t1     14     38.039753       0.0    35.877861     38.049805   \n14        t1     15     37.917023       0.0    35.749401     37.939678   \n15        t1     16     37.199440       0.0    35.965622     37.200108   \n16        t1     17     37.353146       0.0    35.874313     37.278313   \n17        t1     18     37.350010       0.0    35.737679     37.429577   \n18        t1     19     37.273750       0.0    35.727047     37.345531   \n19        t1     20     37.514183       0.0    36.477699     37.490211   \n20        t1     21     38.162518       0.0    36.251884     38.096165   \n21        t1     22     37.563953       0.0    35.721649     37.605465   \n22        t1     23     37.009480       0.0    35.991829     37.109215   \n23        t1     24     37.481991       0.0    37.514412     37.396725   \n24        t1     25     38.134914       0.0    36.924000     38.207047   \n25        t1     26     38.269646       0.0    36.873825     38.306061   \n26        t1     27     39.281239       0.0    40.906300     39.283527   \n27        t1     28     39.268154       0.0    38.916122     39.345463   \n\n     train_msa  train_explained_variance     train_r2  val_mse  val_msa  \\\n0   146.545181              -1693.254028 -1819.481966      0.0      0.0   \n1    45.406162                -84.250870   -87.428961      0.0      0.0   \n2    15.156132                -10.056759   -10.086866      0.0      0.0   \n3     9.421090                 -3.071617    -3.106745      0.0      0.0   \n4     6.132441                 -0.873334    -0.929694      0.0      0.0   \n5     5.665234                 -0.600590    -0.629473      0.0      0.0   \n6     5.405971                 -0.511547    -0.522976      0.0      0.0   \n7     5.282508                 -0.440418    -0.442634      0.0      0.0   \n8     5.014954                 -0.296159    -0.296865      0.0      0.0   \n9     4.923299                 -0.243998    -0.244255      0.0      0.0   \n10    4.963966                 -0.270517    -0.271688      0.0      0.0   \n11    4.961809                 -0.266223    -0.266228      0.0      0.0   \n12    4.963206                 -0.269690    -0.269717      0.0      0.0   \n13    4.940804                 -0.254938    -0.256075      0.0      0.0   \n14    4.921983                 -0.252043    -0.252439      0.0      0.0   \n15    4.885221                 -0.226957    -0.228025      0.0      0.0   \n16    4.888720                 -0.230602    -0.230607      0.0      0.0   \n17    4.895336                 -0.234799    -0.235600      0.0      0.0   \n18    4.896765                 -0.232779    -0.232826      0.0      0.0   \n19    4.904622                 -0.237601    -0.237602      0.0      0.0   \n20    4.940892                 -0.257295    -0.257605      0.0      0.0   \n21    4.917166                 -0.240309    -0.241406      0.0      0.0   \n22    4.876189                 -0.224839    -0.225025      0.0      0.0   \n23    4.892857                 -0.233078    -0.234516      0.0      0.0   \n24    4.957205                 -0.260976    -0.261265      0.0      0.0   \n25    4.962671                 -0.263963    -0.264534      0.0      0.0   \n26    5.024203                 -0.295248    -0.296801      0.0      0.0   \n27    5.048225                 -0.298273    -0.298846      0.0      0.0   \n\n    val_explained_variance  val_r2     test_mse   test_msa  \\\n0                      0.0     0.0  8375.533203  91.355606   \n1                      0.0     0.0   591.053894  23.465256   \n2                      0.0     0.0    78.557022   7.290093   \n3                      0.0     0.0    36.472965   4.804401   \n4                      0.0     0.0    52.460938   5.951287   \n5                      0.0     0.0    57.075619   6.038125   \n6                      0.0     0.0    44.946415   5.451248   \n7                      0.0     0.0    40.015774   5.098516   \n8                      0.0     0.0    36.131950   4.779227   \n9                      0.0     0.0    38.855381   4.911863   \n10                     0.0     0.0    36.253830   4.760232   \n11                     0.0     0.0    38.028149   4.861941   \n12                     0.0     0.0    37.335007   4.819676   \n13                     0.0     0.0    35.857609   4.752328   \n14                     0.0     0.0    35.728401   4.734162   \n15                     0.0     0.0    35.945621   4.762069   \n16                     0.0     0.0    35.852165   4.732722   \n17                     0.0     0.0    35.716595   4.733203   \n18                     0.0     0.0    35.705631   4.729529   \n19                     0.0     0.0    36.454220   4.765820   \n20                     0.0     0.0    36.228672   4.752203   \n21                     0.0     0.0    35.700218   4.730103   \n22                     0.0     0.0    35.968990   4.736639   \n23                     0.0     0.0    37.496063   4.898127   \n24                     0.0     0.0    36.899796   4.790927   \n25                     0.0     0.0    36.849678   4.787826   \n26                     0.0     0.0    40.890251   5.165876   \n27                     0.0     0.0    38.890423   4.911809   \n\n    test_explained_variance     test_r2  \n0                  0.004877 -279.760368  \n1                 -0.355462  -18.813007  \n2                 -0.169613   -1.633349  \n3                 -0.207328   -0.222628  \n4                 -0.223339   -0.758569  \n5                 -0.177080   -0.913260  \n6                 -0.218242   -0.506671  \n7                 -0.213251   -0.341388  \n8                 -0.204840   -0.211197  \n9                 -0.188975   -0.302490  \n10                -0.198329   -0.215282  \n11                -0.190104   -0.274760  \n12                -0.191064   -0.251525  \n13                -0.199454   -0.202001  \n14                -0.197665   -0.197669  \n15                -0.199653   -0.204951  \n16                -0.194935   -0.201818  \n17                -0.197273   -0.197274  \n18                -0.196528   -0.196906  \n19                -0.191911   -0.222000  \n20                -0.192592   -0.214439  \n21                -0.196694   -0.196725  \n22                -0.193527   -0.205734  \n23                -0.203580   -0.256924  \n24                -0.190340   -0.236936  \n25                -0.190436   -0.235256  \n26                -0.208682   -0.370702  \n27                -0.186607   -0.303665  ",
      "text/html": "<div>\n<style scoped>\n    .dataframe tbody tr th:only-of-type {\n        vertical-align: middle;\n    }\n\n    .dataframe tbody tr th {\n        vertical-align: top;\n    }\n\n    .dataframe thead th {\n        text-align: right;\n    }\n</style>\n<table border=\"1\" class=\"dataframe\">\n  <thead>\n    <tr style=\"text-align: right;\">\n      <th></th>\n      <th>config_id</th>\n      <th>epoch</th>\n      <th>train_loss</th>\n      <th>val_loss</th>\n      <th>test_loss</th>\n      <th>train_mse</th>\n      <th>train_msa</th>\n      <th>train_explained_variance</th>\n      <th>train_r2</th>\n      <th>val_mse</th>\n      <th>val_msa</th>\n      <th>val_explained_variance</th>\n      <th>val_r2</th>\n      <th>test_mse</th>\n      <th>test_msa</th>\n      <th>test_explained_variance</th>\n      <th>test_r2</th>\n    </tr>\n  </thead>\n  <tbody>\n    <tr>\n      <th>0</th>\n      <td>t1</td>\n      <td>1</td>\n      <td>53935.816406</td>\n      <td>0.0</td>\n      <td>8375.409180</td>\n      <td>55147.187500</td>\n      <td>146.545181</td>\n      <td>-1693.254028</td>\n      <td>-1819.481966</td>\n      <td>0.0</td>\n      <td>0.0</td>\n      <td>0.0</td>\n      <td>0.0</td>\n      <td>8375.533203</td>\n      <td>91.355606</td>\n      <td>0.004877</td>\n      <td>-279.760368</td>\n    </tr>\n    <tr>\n      <th>1</th>\n      <td>t1</td>\n      <td>2</td>\n      <td>2623.327637</td>\n      <td>0.0</td>\n      <td>590.987610</td>\n      <td>2678.745605</td>\n      <td>45.406162</td>\n      <td>-84.250870</td>\n      <td>-87.428961</td>\n      <td>0.0</td>\n      <td>0.0</td>\n      <td>0.0</td>\n      <td>0.0</td>\n      <td>591.053894</td>\n      <td>23.465256</td>\n      <td>-0.355462</td>\n      <td>-18.813007</td>\n    </tr>\n    <tr>\n      <th>2</th>\n      <td>t1</td>\n      <td>3</td>\n      <td>335.220032</td>\n      <td>0.0</td>\n      <td>78.593018</td>\n      <td>335.850311</td>\n      <td>15.156132</td>\n      <td>-10.056759</td>\n      <td>-10.086866</td>\n      <td>0.0</td>\n      <td>0.0</td>\n      <td>0.0</td>\n      <td>0.0</td>\n      <td>78.557022</td>\n      <td>7.290093</td>\n      <td>-0.169613</td>\n      <td>-1.633349</td>\n    </tr>\n    <tr>\n      <th>3</th>\n      <td>t1</td>\n      <td>4</td>\n      <td>124.027214</td>\n      <td>0.0</td>\n      <td>36.493187</td>\n      <td>124.404106</td>\n      <td>9.421090</td>\n      <td>-3.071617</td>\n      <td>-3.106745</td>\n      <td>0.0</td>\n      <td>0.0</td>\n      <td>0.0</td>\n      <td>0.0</td>\n      <td>36.472965</td>\n      <td>4.804401</td>\n      <td>-0.207328</td>\n      <td>-0.222628</td>\n    </tr>\n    <tr>\n      <th>4</th>\n      <td>t1</td>\n      <td>5</td>\n      <td>58.319851</td>\n      <td>0.0</td>\n      <td>52.471306</td>\n      <td>58.455509</td>\n      <td>6.132441</td>\n      <td>-0.873334</td>\n      <td>-0.929694</td>\n      <td>0.0</td>\n      <td>0.0</td>\n      <td>0.0</td>\n      <td>0.0</td>\n      <td>52.460938</td>\n      <td>5.951287</td>\n      <td>-0.223339</td>\n      <td>-0.758569</td>\n    </tr>\n    <tr>\n      <th>5</th>\n      <td>t1</td>\n      <td>6</td>\n      <td>49.063576</td>\n      <td>0.0</td>\n      <td>57.107697</td>\n      <td>49.361027</td>\n      <td>5.665234</td>\n      <td>-0.600590</td>\n      <td>-0.629473</td>\n      <td>0.0</td>\n      <td>0.0</td>\n      <td>0.0</td>\n      <td>0.0</td>\n      <td>57.075619</td>\n      <td>6.038125</td>\n      <td>-0.177080</td>\n      <td>-0.913260</td>\n    </tr>\n    <tr>\n      <th>6</th>\n      <td>t1</td>\n      <td>7</td>\n      <td>46.130096</td>\n      <td>0.0</td>\n      <td>44.958847</td>\n      <td>46.134956</td>\n      <td>5.405971</td>\n      <td>-0.511547</td>\n      <td>-0.522976</td>\n      <td>0.0</td>\n      <td>0.0</td>\n      <td>0.0</td>\n      <td>0.0</td>\n      <td>44.946415</td>\n      <td>5.451248</td>\n      <td>-0.218242</td>\n      <td>-0.506671</td>\n    </tr>\n    <tr>\n      <th>7</th>\n      <td>t1</td>\n      <td>8</td>\n      <td>43.694180</td>\n      <td>0.0</td>\n      <td>40.030975</td>\n      <td>43.701164</td>\n      <td>5.282508</td>\n      <td>-0.440418</td>\n      <td>-0.442634</td>\n      <td>0.0</td>\n      <td>0.0</td>\n      <td>0.0</td>\n      <td>0.0</td>\n      <td>40.015774</td>\n      <td>5.098516</td>\n      <td>-0.213251</td>\n      <td>-0.341388</td>\n    </tr>\n    <tr>\n      <th>8</th>\n      <td>t1</td>\n      <td>9</td>\n      <td>39.233856</td>\n      <td>0.0</td>\n      <td>36.151386</td>\n      <td>39.285454</td>\n      <td>5.014954</td>\n      <td>-0.296159</td>\n      <td>-0.296865</td>\n      <td>0.0</td>\n      <td>0.0</td>\n      <td>0.0</td>\n      <td>0.0</td>\n      <td>36.131950</td>\n      <td>4.779227</td>\n      <td>-0.204840</td>\n      <td>-0.211197</td>\n    </tr>\n    <tr>\n      <th>9</th>\n      <td>t1</td>\n      <td>10</td>\n      <td>37.698490</td>\n      <td>0.0</td>\n      <td>38.880421</td>\n      <td>37.691742</td>\n      <td>4.923299</td>\n      <td>-0.243998</td>\n      <td>-0.244255</td>\n      <td>0.0</td>\n      <td>0.0</td>\n      <td>0.0</td>\n      <td>0.0</td>\n      <td>38.855381</td>\n      <td>4.911863</td>\n      <td>-0.188975</td>\n      <td>-0.302490</td>\n    </tr>\n    <tr>\n      <th>10</th>\n      <td>t1</td>\n      <td>11</td>\n      <td>38.577816</td>\n      <td>0.0</td>\n      <td>36.276337</td>\n      <td>38.522762</td>\n      <td>4.963966</td>\n      <td>-0.270517</td>\n      <td>-0.271688</td>\n      <td>0.0</td>\n      <td>0.0</td>\n      <td>0.0</td>\n      <td>0.0</td>\n      <td>36.253830</td>\n      <td>4.760232</td>\n      <td>-0.198329</td>\n      <td>-0.215282</td>\n    </tr>\n    <tr>\n      <th>11</th>\n      <td>t1</td>\n      <td>12</td>\n      <td>38.330112</td>\n      <td>0.0</td>\n      <td>38.052872</td>\n      <td>38.357376</td>\n      <td>4.961809</td>\n      <td>-0.266223</td>\n      <td>-0.266228</td>\n      <td>0.0</td>\n      <td>0.0</td>\n      <td>0.0</td>\n      <td>0.0</td>\n      <td>38.028149</td>\n      <td>4.861941</td>\n      <td>-0.190104</td>\n      <td>-0.274760</td>\n    </tr>\n    <tr>\n      <th>12</th>\n      <td>t1</td>\n      <td>13</td>\n      <td>38.402569</td>\n      <td>0.0</td>\n      <td>37.359188</td>\n      <td>38.463058</td>\n      <td>4.963206</td>\n      <td>-0.269690</td>\n      <td>-0.269717</td>\n      <td>0.0</td>\n      <td>0.0</td>\n      <td>0.0</td>\n      <td>0.0</td>\n      <td>37.335007</td>\n      <td>4.819676</td>\n      <td>-0.191064</td>\n      <td>-0.251525</td>\n    </tr>\n    <tr>\n      <th>13</th>\n      <td>t1</td>\n      <td>14</td>\n      <td>38.039753</td>\n      <td>0.0</td>\n      <td>35.877861</td>\n      <td>38.049805</td>\n      <td>4.940804</td>\n      <td>-0.254938</td>\n      <td>-0.256075</td>\n      <td>0.0</td>\n      <td>0.0</td>\n      <td>0.0</td>\n      <td>0.0</td>\n      <td>35.857609</td>\n      <td>4.752328</td>\n      <td>-0.199454</td>\n      <td>-0.202001</td>\n    </tr>\n    <tr>\n      <th>14</th>\n      <td>t1</td>\n      <td>15</td>\n      <td>37.917023</td>\n      <td>0.0</td>\n      <td>35.749401</td>\n      <td>37.939678</td>\n      <td>4.921983</td>\n      <td>-0.252043</td>\n      <td>-0.252439</td>\n      <td>0.0</td>\n      <td>0.0</td>\n      <td>0.0</td>\n      <td>0.0</td>\n      <td>35.728401</td>\n      <td>4.734162</td>\n      <td>-0.197665</td>\n      <td>-0.197669</td>\n    </tr>\n    <tr>\n      <th>15</th>\n      <td>t1</td>\n      <td>16</td>\n      <td>37.199440</td>\n      <td>0.0</td>\n      <td>35.965622</td>\n      <td>37.200108</td>\n      <td>4.885221</td>\n      <td>-0.226957</td>\n      <td>-0.228025</td>\n      <td>0.0</td>\n      <td>0.0</td>\n      <td>0.0</td>\n      <td>0.0</td>\n      <td>35.945621</td>\n      <td>4.762069</td>\n      <td>-0.199653</td>\n      <td>-0.204951</td>\n    </tr>\n    <tr>\n      <th>16</th>\n      <td>t1</td>\n      <td>17</td>\n      <td>37.353146</td>\n      <td>0.0</td>\n      <td>35.874313</td>\n      <td>37.278313</td>\n      <td>4.888720</td>\n      <td>-0.230602</td>\n      <td>-0.230607</td>\n      <td>0.0</td>\n      <td>0.0</td>\n      <td>0.0</td>\n      <td>0.0</td>\n      <td>35.852165</td>\n      <td>4.732722</td>\n      <td>-0.194935</td>\n      <td>-0.201818</td>\n    </tr>\n    <tr>\n      <th>17</th>\n      <td>t1</td>\n      <td>18</td>\n      <td>37.350010</td>\n      <td>0.0</td>\n      <td>35.737679</td>\n      <td>37.429577</td>\n      <td>4.895336</td>\n      <td>-0.234799</td>\n      <td>-0.235600</td>\n      <td>0.0</td>\n      <td>0.0</td>\n      <td>0.0</td>\n      <td>0.0</td>\n      <td>35.716595</td>\n      <td>4.733203</td>\n      <td>-0.197273</td>\n      <td>-0.197274</td>\n    </tr>\n    <tr>\n      <th>18</th>\n      <td>t1</td>\n      <td>19</td>\n      <td>37.273750</td>\n      <td>0.0</td>\n      <td>35.727047</td>\n      <td>37.345531</td>\n      <td>4.896765</td>\n      <td>-0.232779</td>\n      <td>-0.232826</td>\n      <td>0.0</td>\n      <td>0.0</td>\n      <td>0.0</td>\n      <td>0.0</td>\n      <td>35.705631</td>\n      <td>4.729529</td>\n      <td>-0.196528</td>\n      <td>-0.196906</td>\n    </tr>\n    <tr>\n      <th>19</th>\n      <td>t1</td>\n      <td>20</td>\n      <td>37.514183</td>\n      <td>0.0</td>\n      <td>36.477699</td>\n      <td>37.490211</td>\n      <td>4.904622</td>\n      <td>-0.237601</td>\n      <td>-0.237602</td>\n      <td>0.0</td>\n      <td>0.0</td>\n      <td>0.0</td>\n      <td>0.0</td>\n      <td>36.454220</td>\n      <td>4.765820</td>\n      <td>-0.191911</td>\n      <td>-0.222000</td>\n    </tr>\n    <tr>\n      <th>20</th>\n      <td>t1</td>\n      <td>21</td>\n      <td>38.162518</td>\n      <td>0.0</td>\n      <td>36.251884</td>\n      <td>38.096165</td>\n      <td>4.940892</td>\n      <td>-0.257295</td>\n      <td>-0.257605</td>\n      <td>0.0</td>\n      <td>0.0</td>\n      <td>0.0</td>\n      <td>0.0</td>\n      <td>36.228672</td>\n      <td>4.752203</td>\n      <td>-0.192592</td>\n      <td>-0.214439</td>\n    </tr>\n    <tr>\n      <th>21</th>\n      <td>t1</td>\n      <td>22</td>\n      <td>37.563953</td>\n      <td>0.0</td>\n      <td>35.721649</td>\n      <td>37.605465</td>\n      <td>4.917166</td>\n      <td>-0.240309</td>\n      <td>-0.241406</td>\n      <td>0.0</td>\n      <td>0.0</td>\n      <td>0.0</td>\n      <td>0.0</td>\n      <td>35.700218</td>\n      <td>4.730103</td>\n      <td>-0.196694</td>\n      <td>-0.196725</td>\n    </tr>\n    <tr>\n      <th>22</th>\n      <td>t1</td>\n      <td>23</td>\n      <td>37.009480</td>\n      <td>0.0</td>\n      <td>35.991829</td>\n      <td>37.109215</td>\n      <td>4.876189</td>\n      <td>-0.224839</td>\n      <td>-0.225025</td>\n      <td>0.0</td>\n      <td>0.0</td>\n      <td>0.0</td>\n      <td>0.0</td>\n      <td>35.968990</td>\n      <td>4.736639</td>\n      <td>-0.193527</td>\n      <td>-0.205734</td>\n    </tr>\n    <tr>\n      <th>23</th>\n      <td>t1</td>\n      <td>24</td>\n      <td>37.481991</td>\n      <td>0.0</td>\n      <td>37.514412</td>\n      <td>37.396725</td>\n      <td>4.892857</td>\n      <td>-0.233078</td>\n      <td>-0.234516</td>\n      <td>0.0</td>\n      <td>0.0</td>\n      <td>0.0</td>\n      <td>0.0</td>\n      <td>37.496063</td>\n      <td>4.898127</td>\n      <td>-0.203580</td>\n      <td>-0.256924</td>\n    </tr>\n    <tr>\n      <th>24</th>\n      <td>t1</td>\n      <td>25</td>\n      <td>38.134914</td>\n      <td>0.0</td>\n      <td>36.924000</td>\n      <td>38.207047</td>\n      <td>4.957205</td>\n      <td>-0.260976</td>\n      <td>-0.261265</td>\n      <td>0.0</td>\n      <td>0.0</td>\n      <td>0.0</td>\n      <td>0.0</td>\n      <td>36.899796</td>\n      <td>4.790927</td>\n      <td>-0.190340</td>\n      <td>-0.236936</td>\n    </tr>\n    <tr>\n      <th>25</th>\n      <td>t1</td>\n      <td>26</td>\n      <td>38.269646</td>\n      <td>0.0</td>\n      <td>36.873825</td>\n      <td>38.306061</td>\n      <td>4.962671</td>\n      <td>-0.263963</td>\n      <td>-0.264534</td>\n      <td>0.0</td>\n      <td>0.0</td>\n      <td>0.0</td>\n      <td>0.0</td>\n      <td>36.849678</td>\n      <td>4.787826</td>\n      <td>-0.190436</td>\n      <td>-0.235256</td>\n    </tr>\n    <tr>\n      <th>26</th>\n      <td>t1</td>\n      <td>27</td>\n      <td>39.281239</td>\n      <td>0.0</td>\n      <td>40.906300</td>\n      <td>39.283527</td>\n      <td>5.024203</td>\n      <td>-0.295248</td>\n      <td>-0.296801</td>\n      <td>0.0</td>\n      <td>0.0</td>\n      <td>0.0</td>\n      <td>0.0</td>\n      <td>40.890251</td>\n      <td>5.165876</td>\n      <td>-0.208682</td>\n      <td>-0.370702</td>\n    </tr>\n    <tr>\n      <th>27</th>\n      <td>t1</td>\n      <td>28</td>\n      <td>39.268154</td>\n      <td>0.0</td>\n      <td>38.916122</td>\n      <td>39.345463</td>\n      <td>5.048225</td>\n      <td>-0.298273</td>\n      <td>-0.298846</td>\n      <td>0.0</td>\n      <td>0.0</td>\n      <td>0.0</td>\n      <td>0.0</td>\n      <td>38.890423</td>\n      <td>4.911809</td>\n      <td>-0.186607</td>\n      <td>-0.303665</td>\n    </tr>\n  </tbody>\n</table>\n</div>"
     },
     "execution_count": 25,
     "metadata": {},
     "output_type": "execute_result"
    }
   ],
   "source": [
    "df_measures = pd.read_csv(os.path.join(SAVING_PATH, ACCURACY_SAVING_NAME))\n",
    "df_measures"
   ],
   "metadata": {
    "collapsed": false,
    "ExecuteTime": {
     "start_time": "2023-11-11T11:49:20.940220Z",
     "end_time": "2023-11-11T11:49:20.979219Z"
    }
   }
  },
  {
   "cell_type": "code",
   "execution_count": 26,
   "outputs": [
    {
     "data": {
      "text/plain": "<Figure size 640x480 with 1 Axes>",
      "image/png": "[encoded data removed]"
     },
     "metadata": {},
     "output_type": "display_data"
    },
    {
     "data": {
      "text/plain": "<Figure size 640x480 with 1 Axes>",
      "image/png": "[encoded data removed]"
     },
     "metadata": {},
     "output_type": "display_data"
    },
    {
     "data": {
      "text/plain": "<Figure size 640x480 with 1 Axes>",
      "image/png": "[encoded data removed]"
     },
     "metadata": {},
     "output_type": "display_data"
    }
   ],
   "source": [
    "for what in ['loss', 'r2', 'explained_variance']:\n",
    "    plt.figure()\n",
    "    for config_id in df_measures.config_id.unique():\n",
    "        # make subdataset for config id\n",
    "        sub_df = df_measures[df_measures.config_id == config_id]\n",
    "\n",
    "        # plot train test and val\n",
    "        for mode in ['train', 'test', 'val']:\n",
    "            # plot training\n",
    "            plt.plot(sub_df.epoch, sub_df[f\"{mode}_{what}\"], label=f\"{config_id}_{mode}-{what}\")\n",
    "\n",
    "    plt.title(f\"{what} plot\")\n",
    "    plt.xlabel(\"epoch\")\n",
    "    plt.ylabel(\"score\")\n",
    "    if what == 'r2':\n",
    "        plt.ylim(-1,1)\n",
    "    plt.legend()\n",
    "    plt.show()"
   ],
   "metadata": {
    "collapsed": false,
    "ExecuteTime": {
     "start_time": "2023-11-11T11:49:20.974219Z",
     "end_time": "2023-11-11T11:49:21.243311Z"
    }
   }
  },
  {
   "cell_type": "code",
   "execution_count": 27,
   "outputs": [],
   "source": [
    "# plot explained variances"
   ],
   "metadata": {
    "collapsed": false,
    "ExecuteTime": {
     "start_time": "2023-11-11T11:49:21.243311Z",
     "end_time": "2023-11-11T11:49:21.293311Z"
    }
   }
  },
  {
   "cell_type": "code",
   "execution_count": 28,
   "outputs": [],
   "source": [
    "# plot r2"
   ],
   "metadata": {
    "collapsed": false,
    "ExecuteTime": {
     "start_time": "2023-11-11T11:49:21.259309Z",
     "end_time": "2023-11-11T11:49:21.294309Z"
    }
   }
  },
  {
   "cell_type": "code",
   "execution_count": 29,
   "outputs": [],
   "source": [
    "test_loss = torch.nn.CrossEntropyLoss()"
   ],
   "metadata": {
    "collapsed": false,
    "ExecuteTime": {
     "start_time": "2023-11-11T11:49:21.273308Z",
     "end_time": "2023-11-11T11:49:21.294309Z"
    }
   }
  },
  {
   "cell_type": "code",
   "execution_count": 30,
   "outputs": [],
   "source": [
    "label = torch.tensor([0., 1.,2.,3.,4.])\n",
    "pred = torch.tensor([1.1, 1., 2., 2., 4.])"
   ],
   "metadata": {
    "collapsed": false,
    "ExecuteTime": {
     "start_time": "2023-11-11T11:49:21.290310Z",
     "end_time": "2023-11-11T11:49:21.305313Z"
    }
   }
  },
  {
   "cell_type": "code",
   "execution_count": 31,
   "outputs": [
    {
     "data": {
      "text/plain": "tensor(16.1880)"
     },
     "execution_count": 31,
     "metadata": {},
     "output_type": "execute_result"
    }
   ],
   "source": [
    "test_loss(pred, label)"
   ],
   "metadata": {
    "collapsed": false,
    "ExecuteTime": {
     "start_time": "2023-11-11T11:49:21.306312Z",
     "end_time": "2023-11-11T11:49:21.350867Z"
    }
   }
  },
  {
   "cell_type": "markdown",
   "source": [
    "todo:\n",
    "- build option for classification instead of regression\n",
    "- either still predict number or make softmax classification"
   ],
   "metadata": {
    "collapsed": false
   }
  },
  {
   "cell_type": "markdown",
   "source": [
    "## Test/Debug"
   ],
   "metadata": {
    "collapsed": false
   }
  },
  {
   "cell_type": "markdown",
   "source": [
    "with open(\"test1.txt\", \"w\") as file:\n",
    "    file.write(\"config_id, epoch\\n\")\n",
    "    file.write(\"0,1\")"
   ],
   "metadata": {
    "collapsed": false
   }
  },
  {
   "cell_type": "markdown",
   "source": [
    "with open(\"test1.txt\", \"a\") as file:\n",
    "    file.write(f\"\\n\")"
   ],
   "metadata": {
    "collapsed": false
   }
  },
  {
   "cell_type": "markdown",
   "source": [
    "import pandas as pd\n",
    "\n",
    "pd.read_csv(\"test1.txt\")"
   ],
   "metadata": {
    "collapsed": false
   }
  },
  {
   "cell_type": "markdown",
   "source": [
    "for x,y in train_loader:\n",
    "    break"
   ],
   "metadata": {
    "collapsed": false
   }
  },
  {
   "cell_type": "markdown",
   "source": [
    "x.shape"
   ],
   "metadata": {
    "collapsed": false
   }
  },
  {
   "cell_type": "markdown",
   "source": [
    "x"
   ],
   "metadata": {
    "collapsed": false
   }
  },
  {
   "cell_type": "markdown",
   "source": [
    "y.shape"
   ],
   "metadata": {
    "collapsed": false
   }
  },
  {
   "cell_type": "markdown",
   "source": [
    "y"
   ],
   "metadata": {
    "collapsed": false
   }
  },
  {
   "cell_type": "markdown",
   "source": [
    "for i in range(1000):\n",
    "    optimizer.zero_grad()\n",
    "    prediction = model(x).flatten()\n",
    "    loss = criterion(prediction, y)\n",
    "    print(f\"Epoch:{i+1} - loss:{loss}\")\n",
    "    loss.backward()\n",
    "    optimizer.step()"
   ],
   "metadata": {
    "collapsed": false
   }
  },
  {
   "cell_type": "markdown",
   "source": [
    "y"
   ],
   "metadata": {
    "collapsed": false
   }
  },
  {
   "cell_type": "markdown",
   "source": [
    "model(x).flatten()"
   ],
   "metadata": {
    "collapsed": false
   }
  }
 ],
 "metadata": {
  "kernelspec": {
   "display_name": "Python 3",
   "language": "python",
   "name": "python3"
  },
  "language_info": {
   "codemirror_mode": {
    "name": "ipython",
    "version": 2
   },
   "file_extension": ".py",
   "mimetype": "text/x-python",
   "name": "python",
   "nbconvert_exporter": "python",
   "pygments_lexer": "ipython2",
   "version": "2.7.6"
  }
 },
 "nbformat": 4,
 "nbformat_minor": 0
}
