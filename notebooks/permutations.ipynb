{
 "cells": [
  {
   "cell_type": "code",
   "execution_count": 1,
   "metadata": {
    "collapsed": true,
    "ExecuteTime": {
     "start_time": "2023-11-13T12:44:34.669383Z",
     "end_time": "2023-11-13T12:44:34.713792Z"
    }
   },
   "outputs": [],
   "source": [
    "from etnn import TreeNode\n",
    "from etnn.data.permutation import generate_all_permutations\n",
    "import numpy as np"
   ]
  },
  {
   "cell_type": "code",
   "execution_count": 8,
   "outputs": [],
   "source": [
    "tree = TreeNode(\"C\", [TreeNode(\"E\", 5)])"
   ],
   "metadata": {
    "collapsed": false,
    "ExecuteTime": {
     "start_time": "2023-11-13T12:38:44.207750Z",
     "end_time": "2023-11-13T12:38:44.211750Z"
    }
   }
  },
  {
   "cell_type": "code",
   "execution_count": 9,
   "outputs": [
    {
     "data": {
      "text/plain": "array([[0, 1, 2, 3, 4],\n       [0, 4, 3, 2, 1],\n       [1, 0, 4, 3, 2],\n       [1, 2, 3, 4, 0],\n       [2, 1, 0, 4, 3],\n       [2, 3, 4, 0, 1],\n       [3, 2, 1, 0, 4],\n       [3, 4, 0, 1, 2],\n       [4, 0, 1, 2, 3],\n       [4, 3, 2, 1, 0]])"
     },
     "execution_count": 9,
     "metadata": {},
     "output_type": "execute_result"
    }
   ],
   "source": [
    "generate_all_permutations(tree, np.arange(tree.calc_num_elem()))"
   ],
   "metadata": {
    "collapsed": false,
    "ExecuteTime": {
     "start_time": "2023-11-13T12:38:53.040382Z",
     "end_time": "2023-11-13T12:38:53.046383Z"
    }
   }
  },
  {
   "cell_type": "code",
   "execution_count": 10,
   "outputs": [
    {
     "data": {
      "text/plain": "array([[0, 1, 2, 3, 4, 5, 6, 7],\n       [0, 1, 2, 7, 6, 5, 4, 3],\n       [0, 7, 6, 5, 4, 1, 2, 3],\n       [1, 0, 7, 6, 5, 2, 3, 4],\n       [1, 2, 3, 0, 7, 6, 5, 4],\n       [1, 2, 3, 4, 5, 6, 7, 0],\n       [2, 1, 0, 7, 6, 3, 4, 5],\n       [2, 3, 4, 1, 0, 7, 6, 5],\n       [2, 3, 4, 5, 6, 7, 0, 1],\n       [3, 2, 1, 0, 7, 4, 5, 6],\n       [3, 4, 5, 2, 1, 0, 7, 6],\n       [3, 4, 5, 6, 7, 0, 1, 2],\n       [4, 3, 2, 1, 0, 5, 6, 7],\n       [4, 5, 6, 3, 2, 1, 0, 7],\n       [4, 5, 6, 7, 0, 1, 2, 3],\n       [5, 4, 3, 2, 1, 6, 7, 0],\n       [5, 6, 7, 0, 1, 2, 3, 4],\n       [5, 6, 7, 4, 3, 2, 1, 0],\n       [6, 5, 4, 3, 2, 7, 0, 1],\n       [6, 7, 0, 1, 2, 3, 4, 5],\n       [6, 7, 0, 5, 4, 3, 2, 1],\n       [7, 0, 1, 2, 3, 4, 5, 6],\n       [7, 0, 1, 6, 5, 4, 3, 2],\n       [7, 6, 5, 4, 3, 0, 1, 2]])"
     },
     "execution_count": 10,
     "metadata": {},
     "output_type": "execute_result"
    }
   ],
   "source": [
    "tree = TreeNode(\"C\", [\n",
    "    TreeNode(\"S\", [\n",
    "        TreeNode(\"E\", 3)\n",
    "    ]),\n",
    "    TreeNode(\"E\", 5)\n",
    "])\n",
    "generate_all_permutations(tree, np.arange(tree.calc_num_elem()))"
   ],
   "metadata": {
    "collapsed": false,
    "ExecuteTime": {
     "start_time": "2023-11-13T12:40:12.424727Z",
     "end_time": "2023-11-13T12:40:12.453726Z"
    }
   }
  }
 ],
 "metadata": {
  "kernelspec": {
   "display_name": "Python 3",
   "language": "python",
   "name": "python3"
  },
  "language_info": {
   "codemirror_mode": {
    "name": "ipython",
    "version": 2
   },
   "file_extension": ".py",
   "mimetype": "text/x-python",
   "name": "python",
   "nbconvert_exporter": "python",
   "pygments_lexer": "ipython2",
   "version": "2.7.6"
  }
 },
 "nbformat": 4,
 "nbformat_minor": 0
}
