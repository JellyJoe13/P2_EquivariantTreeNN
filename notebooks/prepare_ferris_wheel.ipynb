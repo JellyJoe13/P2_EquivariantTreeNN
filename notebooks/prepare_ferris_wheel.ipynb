{
 "cells": [
  {
   "cell_type": "markdown",
   "source": [
    "# Preparation of Dataset (development notebook)"
   ],
   "metadata": {
    "collapsed": false
   }
  },
  {
   "cell_type": "markdown",
   "source": [
    "## Import section"
   ],
   "metadata": {
    "collapsed": false
   }
  },
  {
   "cell_type": "code",
   "execution_count": 1,
   "outputs": [],
   "source": [
    "import numpy as np\n",
    "import pandas as pd\n",
    "\n",
    "from etnn.data.prepare_ferris_wheel import prepare_1_ferris, generate_ferris_dataset, add_valid_permutations, \\\n",
    "    sample_new_permutations\n",
    "from etnn.data.ferris_score_helpers import build_wheel_happyness\n",
    "from etnn.data.ferris_wheel import load_pure_ferris_wheel_dataset, load_modified_ferris_wheel_dataset\n",
    "import torch\n",
    "from torch.utils.data import random_split, DataLoader\n",
    "from tqdm import tqdm"
   ],
   "metadata": {
    "collapsed": false,
    "ExecuteTime": {
     "start_time": "2023-11-08T13:37:43.995294Z",
     "end_time": "2023-11-08T13:37:45.431525Z"
    }
   }
  },
  {
   "cell_type": "code",
   "execution_count": 2,
   "outputs": [],
   "source": [
    "DATASET_PATH = \"../datasets\""
   ],
   "metadata": {
    "collapsed": false,
    "ExecuteTime": {
     "start_time": "2023-11-08T13:37:45.427526Z",
     "end_time": "2023-11-08T13:37:45.448525Z"
    }
   }
  },
  {
   "cell_type": "markdown",
   "source": [
    "## Person dataset"
   ],
   "metadata": {
    "collapsed": false
   }
  },
  {
   "cell_type": "code",
   "execution_count": 3,
   "outputs": [],
   "source": [
    "df_health = prepare_1_ferris(\n",
    "    dataset_path=\"../datasets\",\n",
    "    df_name_output=\"health_dataset_preprocessed-1.csv\",\n",
    "    df_name_input=\"Sleep_health_and_lifestyle_dataset.csv\",\n",
    "    try_pregen=True\n",
    ")"
   ],
   "metadata": {
    "collapsed": false,
    "ExecuteTime": {
     "start_time": "2023-11-08T13:37:45.444526Z",
     "end_time": "2023-11-08T13:37:45.463964Z"
    }
   }
  },
  {
   "cell_type": "code",
   "execution_count": 4,
   "outputs": [
    {
     "data": {
      "text/plain": "   id  age  occupation  sleep_duration  sleep_quality  physical_activity  \\\n0   1   27           1             6.1              6                 42   \n1   2   28           2             6.2              6                 60   \n2   3   28           2             6.2              6                 60   \n3   4   28           3             5.9              4                 30   \n4   5   28           3             5.9              4                 30   \n\n   stress_level  bmi  heart_rate  daily_steps  sleep_disorder  \\\n0             6    2          77         4200               0   \n1             8    0          75        10000               0   \n2             8    0          75        10000               0   \n3             8    3          85         3000               1   \n4             8    3          85         3000               1   \n\n   blood_pressure1  blood_pressure2  gender_male  gender_female  gender_other  \n0              126               83         True          False         False  \n1              125               80         True          False         False  \n2              125               80         True          False         False  \n3              140               90         True          False         False  \n4              140               90         True          False         False  ",
      "text/html": "<div>\n<style scoped>\n    .dataframe tbody tr th:only-of-type {\n        vertical-align: middle;\n    }\n\n    .dataframe tbody tr th {\n        vertical-align: top;\n    }\n\n    .dataframe thead th {\n        text-align: right;\n    }\n</style>\n<table border=\"1\" class=\"dataframe\">\n  <thead>\n    <tr style=\"text-align: right;\">\n      <th></th>\n      <th>id</th>\n      <th>age</th>\n      <th>occupation</th>\n      <th>sleep_duration</th>\n      <th>sleep_quality</th>\n      <th>physical_activity</th>\n      <th>stress_level</th>\n      <th>bmi</th>\n      <th>heart_rate</th>\n      <th>daily_steps</th>\n      <th>sleep_disorder</th>\n      <th>blood_pressure1</th>\n      <th>blood_pressure2</th>\n      <th>gender_male</th>\n      <th>gender_female</th>\n      <th>gender_other</th>\n    </tr>\n  </thead>\n  <tbody>\n    <tr>\n      <th>0</th>\n      <td>1</td>\n      <td>27</td>\n      <td>1</td>\n      <td>6.1</td>\n      <td>6</td>\n      <td>42</td>\n      <td>6</td>\n      <td>2</td>\n      <td>77</td>\n      <td>4200</td>\n      <td>0</td>\n      <td>126</td>\n      <td>83</td>\n      <td>True</td>\n      <td>False</td>\n      <td>False</td>\n    </tr>\n    <tr>\n      <th>1</th>\n      <td>2</td>\n      <td>28</td>\n      <td>2</td>\n      <td>6.2</td>\n      <td>6</td>\n      <td>60</td>\n      <td>8</td>\n      <td>0</td>\n      <td>75</td>\n      <td>10000</td>\n      <td>0</td>\n      <td>125</td>\n      <td>80</td>\n      <td>True</td>\n      <td>False</td>\n      <td>False</td>\n    </tr>\n    <tr>\n      <th>2</th>\n      <td>3</td>\n      <td>28</td>\n      <td>2</td>\n      <td>6.2</td>\n      <td>6</td>\n      <td>60</td>\n      <td>8</td>\n      <td>0</td>\n      <td>75</td>\n      <td>10000</td>\n      <td>0</td>\n      <td>125</td>\n      <td>80</td>\n      <td>True</td>\n      <td>False</td>\n      <td>False</td>\n    </tr>\n    <tr>\n      <th>3</th>\n      <td>4</td>\n      <td>28</td>\n      <td>3</td>\n      <td>5.9</td>\n      <td>4</td>\n      <td>30</td>\n      <td>8</td>\n      <td>3</td>\n      <td>85</td>\n      <td>3000</td>\n      <td>1</td>\n      <td>140</td>\n      <td>90</td>\n      <td>True</td>\n      <td>False</td>\n      <td>False</td>\n    </tr>\n    <tr>\n      <th>4</th>\n      <td>5</td>\n      <td>28</td>\n      <td>3</td>\n      <td>5.9</td>\n      <td>4</td>\n      <td>30</td>\n      <td>8</td>\n      <td>3</td>\n      <td>85</td>\n      <td>3000</td>\n      <td>1</td>\n      <td>140</td>\n      <td>90</td>\n      <td>True</td>\n      <td>False</td>\n      <td>False</td>\n    </tr>\n  </tbody>\n</table>\n</div>"
     },
     "execution_count": 4,
     "metadata": {},
     "output_type": "execute_result"
    }
   ],
   "source": [
    "df_health.head()"
   ],
   "metadata": {
    "collapsed": false,
    "ExecuteTime": {
     "start_time": "2023-11-08T13:37:45.459960Z",
     "end_time": "2023-11-08T13:37:45.474965Z"
    }
   }
  },
  {
   "cell_type": "markdown",
   "source": [
    "## Gondola dataset (indexing)"
   ],
   "metadata": {
    "collapsed": false
   }
  },
  {
   "cell_type": "code",
   "execution_count": 5,
   "outputs": [],
   "source": [
    "# take group of ids from persons and state how the label for this group shall be calculated"
   ],
   "metadata": {
    "collapsed": false,
    "ExecuteTime": {
     "start_time": "2023-11-08T13:37:45.475965Z",
     "end_time": "2023-11-08T13:37:45.501965Z"
    }
   }
  },
  {
   "cell_type": "code",
   "execution_count": 6,
   "outputs": [],
   "source": [
    "# define ferris wheel\n",
    "num_gondolas = 10\n",
    "num_part_pg = 5"
   ],
   "metadata": {
    "collapsed": false,
    "ExecuteTime": {
     "start_time": "2023-11-08T13:37:45.490965Z",
     "end_time": "2023-11-08T13:37:45.543965Z"
    }
   }
  },
  {
   "cell_type": "code",
   "execution_count": 7,
   "outputs": [],
   "source": [
    "# generate sample element\n",
    "random_order = np.arange(len(df_health)) + 1\n",
    "np.random.shuffle(random_order)"
   ],
   "metadata": {
    "collapsed": false,
    "ExecuteTime": {
     "start_time": "2023-11-08T13:37:45.505965Z",
     "end_time": "2023-11-08T13:37:45.545964Z"
    }
   }
  },
  {
   "cell_type": "code",
   "execution_count": 8,
   "outputs": [],
   "source": [
    "example = [\n",
    "    random_order[i*num_part_pg:(i+1)*num_part_pg]\n",
    "    for i in range(num_gondolas)\n",
    "]"
   ],
   "metadata": {
    "collapsed": false,
    "ExecuteTime": {
     "start_time": "2023-11-08T13:37:45.521965Z",
     "end_time": "2023-11-08T13:37:45.561964Z"
    }
   }
  },
  {
   "cell_type": "code",
   "execution_count": 9,
   "outputs": [
    {
     "data": {
      "text/plain": "[array([289, 337,  40,   2, 252]),\n array([158, 170, 299, 181, 236]),\n array([168,  89, 219, 290, 371]),\n array([269, 343, 278, 312,  69]),\n array([ 45, 234,  61, 107,  75]),\n array([286, 347, 127, 200,  97]),\n array([328, 364, 346, 149, 315]),\n array([256, 117, 277, 229,  52]),\n array([ 57, 255, 283, 185,   1]),\n array([366, 350, 150, 211, 140])]"
     },
     "execution_count": 9,
     "metadata": {},
     "output_type": "execute_result"
    }
   ],
   "source": [
    "example"
   ],
   "metadata": {
    "collapsed": false,
    "ExecuteTime": {
     "start_time": "2023-11-08T13:37:45.538965Z",
     "end_time": "2023-11-08T13:37:45.562965Z"
    }
   }
  },
  {
   "cell_type": "code",
   "execution_count": 10,
   "outputs": [
    {
     "data": {
      "text/plain": "array([[289, 337,  40,   2, 252],\n       [158, 170, 299, 181, 236],\n       [168,  89, 219, 290, 371],\n       [269, 343, 278, 312,  69],\n       [ 45, 234,  61, 107,  75],\n       [286, 347, 127, 200,  97],\n       [328, 364, 346, 149, 315],\n       [256, 117, 277, 229,  52],\n       [ 57, 255, 283, 185,   1],\n       [366, 350, 150, 211, 140]])"
     },
     "execution_count": 10,
     "metadata": {},
     "output_type": "execute_result"
    }
   ],
   "source": [
    "random_order[:num_gondolas*num_part_pg].reshape(num_gondolas, num_part_pg)"
   ],
   "metadata": {
    "collapsed": false,
    "ExecuteTime": {
     "start_time": "2023-11-08T13:37:45.554964Z",
     "end_time": "2023-11-08T13:37:45.573474Z"
    }
   }
  },
  {
   "cell_type": "markdown",
   "source": [
    "Rules:\n",
    "- People being happy with other people in same gondola\n",
    "    + Age composition too seperated is bad\n",
    "    + shift in gender is bad if too much, 50-50 is good or all one gender\n",
    "    + same with age composition\n",
    "    + sleep derived(multiplier with quality) persons get a subtraction and 'good sleepers' get bonus (sleep disorder counts as stronger subtraction)\n",
    "    + higher heart rate and pressure = joy or fear\n",
    "    + composition of persons in regards to bmi : extreme values make others (no exception for group all those as to many underweight or overweight persons may be awquard as well)\n",
    "- People being happy with neighboring gondolas composition\n",
    "    + same age gets bonus, none gets penalty as potentially group is separated\n",
    "    + gap between happyness index between self and neighbors causes it to produce a mean of only the neighbors"
   ],
   "metadata": {
    "collapsed": false
   }
  },
  {
   "cell_type": "code",
   "execution_count": 11,
   "outputs": [
    {
     "data": {
      "text/plain": "58.839653333333345"
     },
     "execution_count": 11,
     "metadata": {},
     "output_type": "execute_result"
    }
   ],
   "source": [
    "build_wheel_happyness(df_health, example)"
   ],
   "metadata": {
    "collapsed": false,
    "ExecuteTime": {
     "start_time": "2023-11-08T13:37:45.570469Z",
     "end_time": "2023-11-08T13:37:45.623494Z"
    }
   }
  },
  {
   "cell_type": "code",
   "execution_count": 12,
   "outputs": [
    {
     "data": {
      "text/plain": "58.839653333333345"
     },
     "execution_count": 12,
     "metadata": {},
     "output_type": "execute_result"
    }
   ],
   "source": [
    "build_wheel_happyness(df_health, random_order[:num_gondolas * num_part_pg].reshape(num_gondolas, num_part_pg))"
   ],
   "metadata": {
    "collapsed": false,
    "ExecuteTime": {
     "start_time": "2023-11-08T13:37:45.615495Z",
     "end_time": "2023-11-08T13:37:45.677266Z"
    }
   }
  },
  {
   "cell_type": "code",
   "execution_count": 13,
   "outputs": [],
   "source": [
    "# define dataset size\n",
    "num_to_generate = 10_000\n",
    "# define ferris wheel\n",
    "num_gondolas = 10\n",
    "num_part_pg = 5"
   ],
   "metadata": {
    "collapsed": false,
    "ExecuteTime": {
     "start_time": "2023-11-08T13:37:45.647825Z",
     "end_time": "2023-11-08T13:37:45.685267Z"
    }
   }
  },
  {
   "cell_type": "code",
   "execution_count": 14,
   "outputs": [
    {
     "name": "stderr",
     "output_type": "stream",
     "text": [
      "100%|██████████| 10000/10000 [00:00<00:00, 134894.58it/s]\n",
      "100%|██████████| 10000/10000 [00:25<00:00, 397.56it/s]\n"
     ]
    }
   ],
   "source": [
    "df_index, df_health = generate_ferris_dataset(\n",
    "    num_gondolas=num_gondolas,\n",
    "    num_part_pg=num_part_pg,\n",
    "    num_to_generate=num_to_generate,\n",
    "    dataset_path=\"../datasets\",\n",
    "    df_intermediate_output_name=\"health_dataset_preprocessed-1.csv\",\n",
    "    df_name_input=\"Sleep_health_and_lifestyle_dataset.csv\",\n",
    "    try_pregen=True\n",
    ")"
   ],
   "metadata": {
    "collapsed": false,
    "ExecuteTime": {
     "start_time": "2023-11-08T13:37:45.664825Z",
     "end_time": "2023-11-08T13:38:11.206881Z"
    }
   }
  },
  {
   "cell_type": "code",
   "execution_count": 15,
   "outputs": [
    {
     "data": {
      "text/plain": "   g-0_p-0  g-0_p-1  g-0_p-2  g-0_p-3  g-0_p-4  g-1_p-0  g-1_p-1  g-1_p-2  \\\n0      264      191       98      235       35      356      253        9   \n1      338      176       95       11      161      248      364       53   \n2      290       99       75       21      237      287      215      213   \n3       15      277       93      106      290      354       60      226   \n4      190      260       34      286      360      167      251      298   \n\n   g-1_p-3  g-1_p-4  ...  g-8_p-1  g-8_p-2  g-8_p-3  g-8_p-4  g-9_p-0  \\\n0      147      311  ...      315      265       92       23      287   \n1       64       71  ...      181      365       96      187      165   \n2      172      214  ...       76      188      274       77      264   \n3       75      318  ...      243      288       74      131      344   \n4      256       15  ...       48      258      107        5      307   \n\n   g-9_p-1  g-9_p-2  g-9_p-3  g-9_p-4      label  \n0       17      234      223      117  68.011480  \n1       38      114       98       56  55.463373  \n2      117      254      168       65  66.108493  \n3       86      266      218       83  58.642507  \n4      121      162        7       37  62.584213  \n\n[5 rows x 51 columns]",
      "text/html": "<div>\n<style scoped>\n    .dataframe tbody tr th:only-of-type {\n        vertical-align: middle;\n    }\n\n    .dataframe tbody tr th {\n        vertical-align: top;\n    }\n\n    .dataframe thead th {\n        text-align: right;\n    }\n</style>\n<table border=\"1\" class=\"dataframe\">\n  <thead>\n    <tr style=\"text-align: right;\">\n      <th></th>\n      <th>g-0_p-0</th>\n      <th>g-0_p-1</th>\n      <th>g-0_p-2</th>\n      <th>g-0_p-3</th>\n      <th>g-0_p-4</th>\n      <th>g-1_p-0</th>\n      <th>g-1_p-1</th>\n      <th>g-1_p-2</th>\n      <th>g-1_p-3</th>\n      <th>g-1_p-4</th>\n      <th>...</th>\n      <th>g-8_p-1</th>\n      <th>g-8_p-2</th>\n      <th>g-8_p-3</th>\n      <th>g-8_p-4</th>\n      <th>g-9_p-0</th>\n      <th>g-9_p-1</th>\n      <th>g-9_p-2</th>\n      <th>g-9_p-3</th>\n      <th>g-9_p-4</th>\n      <th>label</th>\n    </tr>\n  </thead>\n  <tbody>\n    <tr>\n      <th>0</th>\n      <td>264</td>\n      <td>191</td>\n      <td>98</td>\n      <td>235</td>\n      <td>35</td>\n      <td>356</td>\n      <td>253</td>\n      <td>9</td>\n      <td>147</td>\n      <td>311</td>\n      <td>...</td>\n      <td>315</td>\n      <td>265</td>\n      <td>92</td>\n      <td>23</td>\n      <td>287</td>\n      <td>17</td>\n      <td>234</td>\n      <td>223</td>\n      <td>117</td>\n      <td>68.011480</td>\n    </tr>\n    <tr>\n      <th>1</th>\n      <td>338</td>\n      <td>176</td>\n      <td>95</td>\n      <td>11</td>\n      <td>161</td>\n      <td>248</td>\n      <td>364</td>\n      <td>53</td>\n      <td>64</td>\n      <td>71</td>\n      <td>...</td>\n      <td>181</td>\n      <td>365</td>\n      <td>96</td>\n      <td>187</td>\n      <td>165</td>\n      <td>38</td>\n      <td>114</td>\n      <td>98</td>\n      <td>56</td>\n      <td>55.463373</td>\n    </tr>\n    <tr>\n      <th>2</th>\n      <td>290</td>\n      <td>99</td>\n      <td>75</td>\n      <td>21</td>\n      <td>237</td>\n      <td>287</td>\n      <td>215</td>\n      <td>213</td>\n      <td>172</td>\n      <td>214</td>\n      <td>...</td>\n      <td>76</td>\n      <td>188</td>\n      <td>274</td>\n      <td>77</td>\n      <td>264</td>\n      <td>117</td>\n      <td>254</td>\n      <td>168</td>\n      <td>65</td>\n      <td>66.108493</td>\n    </tr>\n    <tr>\n      <th>3</th>\n      <td>15</td>\n      <td>277</td>\n      <td>93</td>\n      <td>106</td>\n      <td>290</td>\n      <td>354</td>\n      <td>60</td>\n      <td>226</td>\n      <td>75</td>\n      <td>318</td>\n      <td>...</td>\n      <td>243</td>\n      <td>288</td>\n      <td>74</td>\n      <td>131</td>\n      <td>344</td>\n      <td>86</td>\n      <td>266</td>\n      <td>218</td>\n      <td>83</td>\n      <td>58.642507</td>\n    </tr>\n    <tr>\n      <th>4</th>\n      <td>190</td>\n      <td>260</td>\n      <td>34</td>\n      <td>286</td>\n      <td>360</td>\n      <td>167</td>\n      <td>251</td>\n      <td>298</td>\n      <td>256</td>\n      <td>15</td>\n      <td>...</td>\n      <td>48</td>\n      <td>258</td>\n      <td>107</td>\n      <td>5</td>\n      <td>307</td>\n      <td>121</td>\n      <td>162</td>\n      <td>7</td>\n      <td>37</td>\n      <td>62.584213</td>\n    </tr>\n  </tbody>\n</table>\n<p>5 rows × 51 columns</p>\n</div>"
     },
     "execution_count": 15,
     "metadata": {},
     "output_type": "execute_result"
    }
   ],
   "source": [
    "df_index.head()"
   ],
   "metadata": {
    "collapsed": false,
    "ExecuteTime": {
     "start_time": "2023-11-08T13:38:11.206881Z",
     "end_time": "2023-11-08T13:38:11.223454Z"
    }
   }
  },
  {
   "cell_type": "code",
   "execution_count": 16,
   "outputs": [
    {
     "data": {
      "text/plain": "   id  age  occupation  sleep_duration  sleep_quality  physical_activity  \\\n0   1   27           1             6.1              6                 42   \n1   2   28           2             6.2              6                 60   \n2   3   28           2             6.2              6                 60   \n3   4   28           3             5.9              4                 30   \n4   5   28           3             5.9              4                 30   \n\n   stress_level  bmi  heart_rate  daily_steps  sleep_disorder  \\\n0             6    2          77         4200               0   \n1             8    0          75        10000               0   \n2             8    0          75        10000               0   \n3             8    3          85         3000               1   \n4             8    3          85         3000               1   \n\n   blood_pressure1  blood_pressure2  gender_male  gender_female  gender_other  \n0              126               83         True          False         False  \n1              125               80         True          False         False  \n2              125               80         True          False         False  \n3              140               90         True          False         False  \n4              140               90         True          False         False  ",
      "text/html": "<div>\n<style scoped>\n    .dataframe tbody tr th:only-of-type {\n        vertical-align: middle;\n    }\n\n    .dataframe tbody tr th {\n        vertical-align: top;\n    }\n\n    .dataframe thead th {\n        text-align: right;\n    }\n</style>\n<table border=\"1\" class=\"dataframe\">\n  <thead>\n    <tr style=\"text-align: right;\">\n      <th></th>\n      <th>id</th>\n      <th>age</th>\n      <th>occupation</th>\n      <th>sleep_duration</th>\n      <th>sleep_quality</th>\n      <th>physical_activity</th>\n      <th>stress_level</th>\n      <th>bmi</th>\n      <th>heart_rate</th>\n      <th>daily_steps</th>\n      <th>sleep_disorder</th>\n      <th>blood_pressure1</th>\n      <th>blood_pressure2</th>\n      <th>gender_male</th>\n      <th>gender_female</th>\n      <th>gender_other</th>\n    </tr>\n  </thead>\n  <tbody>\n    <tr>\n      <th>0</th>\n      <td>1</td>\n      <td>27</td>\n      <td>1</td>\n      <td>6.1</td>\n      <td>6</td>\n      <td>42</td>\n      <td>6</td>\n      <td>2</td>\n      <td>77</td>\n      <td>4200</td>\n      <td>0</td>\n      <td>126</td>\n      <td>83</td>\n      <td>True</td>\n      <td>False</td>\n      <td>False</td>\n    </tr>\n    <tr>\n      <th>1</th>\n      <td>2</td>\n      <td>28</td>\n      <td>2</td>\n      <td>6.2</td>\n      <td>6</td>\n      <td>60</td>\n      <td>8</td>\n      <td>0</td>\n      <td>75</td>\n      <td>10000</td>\n      <td>0</td>\n      <td>125</td>\n      <td>80</td>\n      <td>True</td>\n      <td>False</td>\n      <td>False</td>\n    </tr>\n    <tr>\n      <th>2</th>\n      <td>3</td>\n      <td>28</td>\n      <td>2</td>\n      <td>6.2</td>\n      <td>6</td>\n      <td>60</td>\n      <td>8</td>\n      <td>0</td>\n      <td>75</td>\n      <td>10000</td>\n      <td>0</td>\n      <td>125</td>\n      <td>80</td>\n      <td>True</td>\n      <td>False</td>\n      <td>False</td>\n    </tr>\n    <tr>\n      <th>3</th>\n      <td>4</td>\n      <td>28</td>\n      <td>3</td>\n      <td>5.9</td>\n      <td>4</td>\n      <td>30</td>\n      <td>8</td>\n      <td>3</td>\n      <td>85</td>\n      <td>3000</td>\n      <td>1</td>\n      <td>140</td>\n      <td>90</td>\n      <td>True</td>\n      <td>False</td>\n      <td>False</td>\n    </tr>\n    <tr>\n      <th>4</th>\n      <td>5</td>\n      <td>28</td>\n      <td>3</td>\n      <td>5.9</td>\n      <td>4</td>\n      <td>30</td>\n      <td>8</td>\n      <td>3</td>\n      <td>85</td>\n      <td>3000</td>\n      <td>1</td>\n      <td>140</td>\n      <td>90</td>\n      <td>True</td>\n      <td>False</td>\n      <td>False</td>\n    </tr>\n  </tbody>\n</table>\n</div>"
     },
     "execution_count": 16,
     "metadata": {},
     "output_type": "execute_result"
    }
   ],
   "source": [
    "df_health.head()"
   ],
   "metadata": {
    "collapsed": false,
    "ExecuteTime": {
     "start_time": "2023-11-08T13:38:11.223454Z",
     "end_time": "2023-11-08T13:38:11.245865Z"
    }
   }
  },
  {
   "cell_type": "code",
   "execution_count": 17,
   "outputs": [
    {
     "data": {
      "text/plain": "      g-0_p-0  g-0_p-1  g-0_p-2  g-0_p-3  g-0_p-4  g-1_p-0  g-1_p-1  g-1_p-2  \\\n0         264      191       98      235       35      356      253        9   \n1         338      176       95       11      161      248      364       53   \n2         290       99       75       21      237      287      215      213   \n3          15      277       93      106      290      354       60      226   \n4         190      260       34      286      360      167      251      298   \n...       ...      ...      ...      ...      ...      ...      ...      ...   \n9995      127       84      110      152      265       90      318       72   \n9996      286       97      191      288       32      268       41      347   \n9997      372      168      198      199      239      369      323      277   \n9998      154      310      224       59       87      207       97       78   \n9999      351       31      277      304      357       35      111      254   \n\n      g-1_p-3  g-1_p-4  ...  g-8_p-0  g-8_p-1  g-8_p-2  g-8_p-3  g-8_p-4  \\\n0         147      311  ...      299      315      265       92       23   \n1          64       71  ...      100      181      365       96      187   \n2         172      214  ...      122       76      188      274       77   \n3          75      318  ...      235      243      288       74      131   \n4         256       15  ...       28       48      258      107        5   \n...       ...      ...  ...      ...      ...      ...      ...      ...   \n9995      331      237  ...      346        7      341      126       70   \n9996      272      169  ...      194      178      269      310       79   \n9997      174      281  ...      191      112       75      331      177   \n9998      290      241  ...       12      338      254      183      145   \n9999       40       69  ...       16       71       65      163      296   \n\n      g-9_p-0  g-9_p-1  g-9_p-2  g-9_p-3  g-9_p-4  \n0         287       17      234      223      117  \n1         165       38      114       98       56  \n2         264      117      254      168       65  \n3         344       86      266      218       83  \n4         307      121      162        7       37  \n...       ...      ...      ...      ...      ...  \n9995      208       67      248      291      246  \n9996      370      108      189      340       24  \n9997      163      155        7      188      290  \n9998       22       95      247      158      231  \n9999      123      363      180      148      297  \n\n[10000 rows x 50 columns]",
      "text/html": "<div>\n<style scoped>\n    .dataframe tbody tr th:only-of-type {\n        vertical-align: middle;\n    }\n\n    .dataframe tbody tr th {\n        vertical-align: top;\n    }\n\n    .dataframe thead th {\n        text-align: right;\n    }\n</style>\n<table border=\"1\" class=\"dataframe\">\n  <thead>\n    <tr style=\"text-align: right;\">\n      <th></th>\n      <th>g-0_p-0</th>\n      <th>g-0_p-1</th>\n      <th>g-0_p-2</th>\n      <th>g-0_p-3</th>\n      <th>g-0_p-4</th>\n      <th>g-1_p-0</th>\n      <th>g-1_p-1</th>\n      <th>g-1_p-2</th>\n      <th>g-1_p-3</th>\n      <th>g-1_p-4</th>\n      <th>...</th>\n      <th>g-8_p-0</th>\n      <th>g-8_p-1</th>\n      <th>g-8_p-2</th>\n      <th>g-8_p-3</th>\n      <th>g-8_p-4</th>\n      <th>g-9_p-0</th>\n      <th>g-9_p-1</th>\n      <th>g-9_p-2</th>\n      <th>g-9_p-3</th>\n      <th>g-9_p-4</th>\n    </tr>\n  </thead>\n  <tbody>\n    <tr>\n      <th>0</th>\n      <td>264</td>\n      <td>191</td>\n      <td>98</td>\n      <td>235</td>\n      <td>35</td>\n      <td>356</td>\n      <td>253</td>\n      <td>9</td>\n      <td>147</td>\n      <td>311</td>\n      <td>...</td>\n      <td>299</td>\n      <td>315</td>\n      <td>265</td>\n      <td>92</td>\n      <td>23</td>\n      <td>287</td>\n      <td>17</td>\n      <td>234</td>\n      <td>223</td>\n      <td>117</td>\n    </tr>\n    <tr>\n      <th>1</th>\n      <td>338</td>\n      <td>176</td>\n      <td>95</td>\n      <td>11</td>\n      <td>161</td>\n      <td>248</td>\n      <td>364</td>\n      <td>53</td>\n      <td>64</td>\n      <td>71</td>\n      <td>...</td>\n      <td>100</td>\n      <td>181</td>\n      <td>365</td>\n      <td>96</td>\n      <td>187</td>\n      <td>165</td>\n      <td>38</td>\n      <td>114</td>\n      <td>98</td>\n      <td>56</td>\n    </tr>\n    <tr>\n      <th>2</th>\n      <td>290</td>\n      <td>99</td>\n      <td>75</td>\n      <td>21</td>\n      <td>237</td>\n      <td>287</td>\n      <td>215</td>\n      <td>213</td>\n      <td>172</td>\n      <td>214</td>\n      <td>...</td>\n      <td>122</td>\n      <td>76</td>\n      <td>188</td>\n      <td>274</td>\n      <td>77</td>\n      <td>264</td>\n      <td>117</td>\n      <td>254</td>\n      <td>168</td>\n      <td>65</td>\n    </tr>\n    <tr>\n      <th>3</th>\n      <td>15</td>\n      <td>277</td>\n      <td>93</td>\n      <td>106</td>\n      <td>290</td>\n      <td>354</td>\n      <td>60</td>\n      <td>226</td>\n      <td>75</td>\n      <td>318</td>\n      <td>...</td>\n      <td>235</td>\n      <td>243</td>\n      <td>288</td>\n      <td>74</td>\n      <td>131</td>\n      <td>344</td>\n      <td>86</td>\n      <td>266</td>\n      <td>218</td>\n      <td>83</td>\n    </tr>\n    <tr>\n      <th>4</th>\n      <td>190</td>\n      <td>260</td>\n      <td>34</td>\n      <td>286</td>\n      <td>360</td>\n      <td>167</td>\n      <td>251</td>\n      <td>298</td>\n      <td>256</td>\n      <td>15</td>\n      <td>...</td>\n      <td>28</td>\n      <td>48</td>\n      <td>258</td>\n      <td>107</td>\n      <td>5</td>\n      <td>307</td>\n      <td>121</td>\n      <td>162</td>\n      <td>7</td>\n      <td>37</td>\n    </tr>\n    <tr>\n      <th>...</th>\n      <td>...</td>\n      <td>...</td>\n      <td>...</td>\n      <td>...</td>\n      <td>...</td>\n      <td>...</td>\n      <td>...</td>\n      <td>...</td>\n      <td>...</td>\n      <td>...</td>\n      <td>...</td>\n      <td>...</td>\n      <td>...</td>\n      <td>...</td>\n      <td>...</td>\n      <td>...</td>\n      <td>...</td>\n      <td>...</td>\n      <td>...</td>\n      <td>...</td>\n      <td>...</td>\n    </tr>\n    <tr>\n      <th>9995</th>\n      <td>127</td>\n      <td>84</td>\n      <td>110</td>\n      <td>152</td>\n      <td>265</td>\n      <td>90</td>\n      <td>318</td>\n      <td>72</td>\n      <td>331</td>\n      <td>237</td>\n      <td>...</td>\n      <td>346</td>\n      <td>7</td>\n      <td>341</td>\n      <td>126</td>\n      <td>70</td>\n      <td>208</td>\n      <td>67</td>\n      <td>248</td>\n      <td>291</td>\n      <td>246</td>\n    </tr>\n    <tr>\n      <th>9996</th>\n      <td>286</td>\n      <td>97</td>\n      <td>191</td>\n      <td>288</td>\n      <td>32</td>\n      <td>268</td>\n      <td>41</td>\n      <td>347</td>\n      <td>272</td>\n      <td>169</td>\n      <td>...</td>\n      <td>194</td>\n      <td>178</td>\n      <td>269</td>\n      <td>310</td>\n      <td>79</td>\n      <td>370</td>\n      <td>108</td>\n      <td>189</td>\n      <td>340</td>\n      <td>24</td>\n    </tr>\n    <tr>\n      <th>9997</th>\n      <td>372</td>\n      <td>168</td>\n      <td>198</td>\n      <td>199</td>\n      <td>239</td>\n      <td>369</td>\n      <td>323</td>\n      <td>277</td>\n      <td>174</td>\n      <td>281</td>\n      <td>...</td>\n      <td>191</td>\n      <td>112</td>\n      <td>75</td>\n      <td>331</td>\n      <td>177</td>\n      <td>163</td>\n      <td>155</td>\n      <td>7</td>\n      <td>188</td>\n      <td>290</td>\n    </tr>\n    <tr>\n      <th>9998</th>\n      <td>154</td>\n      <td>310</td>\n      <td>224</td>\n      <td>59</td>\n      <td>87</td>\n      <td>207</td>\n      <td>97</td>\n      <td>78</td>\n      <td>290</td>\n      <td>241</td>\n      <td>...</td>\n      <td>12</td>\n      <td>338</td>\n      <td>254</td>\n      <td>183</td>\n      <td>145</td>\n      <td>22</td>\n      <td>95</td>\n      <td>247</td>\n      <td>158</td>\n      <td>231</td>\n    </tr>\n    <tr>\n      <th>9999</th>\n      <td>351</td>\n      <td>31</td>\n      <td>277</td>\n      <td>304</td>\n      <td>357</td>\n      <td>35</td>\n      <td>111</td>\n      <td>254</td>\n      <td>40</td>\n      <td>69</td>\n      <td>...</td>\n      <td>16</td>\n      <td>71</td>\n      <td>65</td>\n      <td>163</td>\n      <td>296</td>\n      <td>123</td>\n      <td>363</td>\n      <td>180</td>\n      <td>148</td>\n      <td>297</td>\n    </tr>\n  </tbody>\n</table>\n<p>10000 rows × 50 columns</p>\n</div>"
     },
     "execution_count": 17,
     "metadata": {},
     "output_type": "execute_result"
    }
   ],
   "source": [
    "df_index.iloc[:, :-1]"
   ],
   "metadata": {
    "collapsed": false,
    "ExecuteTime": {
     "start_time": "2023-11-08T13:38:11.239866Z",
     "end_time": "2023-11-08T13:38:11.308865Z"
    }
   }
  },
  {
   "cell_type": "markdown",
   "source": [
    "## Total dataset creation"
   ],
   "metadata": {
    "collapsed": false
   }
  },
  {
   "cell_type": "code",
   "execution_count": 18,
   "outputs": [],
   "source": [
    "dataset = load_pure_ferris_wheel_dataset(\n",
    "    num_gondolas=num_gondolas,\n",
    "    num_part_pg=num_part_pg,\n",
    "    num_to_generate=num_to_generate,\n",
    "    dataset_path=\"../datasets\",\n",
    "    df_intermediate_output_name=\"health_dataset_preprocessed-1.csv\",\n",
    "    df_name_input=\"Sleep_health_and_lifestyle_dataset.csv\",\n",
    "    try_pregen=True\n",
    ")"
   ],
   "metadata": {
    "collapsed": false,
    "ExecuteTime": {
     "start_time": "2023-11-08T13:38:11.256865Z",
     "end_time": "2023-11-08T13:38:11.357866Z"
    }
   }
  },
  {
   "cell_type": "code",
   "execution_count": 19,
   "outputs": [
    {
     "data": {
      "text/plain": "(tensor([[4.5000e+01, 1.1000e+01, 6.9000e+00, 7.0000e+00, 5.5000e+01, 5.0000e+00,\n          2.0000e+00, 7.5000e+01, 5.5000e+03, 0.0000e+00, 1.2500e+02, 8.2000e+01,\n          0.0000e+00, 1.0000e+00, 0.0000e+00],\n         [4.3000e+01, 4.0000e+00, 6.7000e+00, 7.0000e+00, 4.5000e+01, 4.0000e+00,\n          2.0000e+00, 6.5000e+01, 6.0000e+03, 2.0000e+00, 1.3500e+02, 9.0000e+01,\n          0.0000e+00, 1.0000e+00, 0.0000e+00],\n         [3.6000e+01, 7.0000e+00, 7.1000e+00, 8.0000e+00, 6.0000e+01, 4.0000e+00,\n          0.0000e+00, 6.8000e+01, 7.0000e+03, 0.0000e+00, 1.1500e+02, 7.5000e+01,\n          0.0000e+00, 1.0000e+00, 0.0000e+00],\n         [4.4000e+01, 4.0000e+00, 6.6000e+00, 7.0000e+00, 4.5000e+01, 4.0000e+00,\n          2.0000e+00, 6.5000e+01, 6.0000e+03, 2.0000e+00, 1.3500e+02, 9.0000e+01,\n          0.0000e+00, 1.0000e+00, 0.0000e+00],\n         [3.1000e+01, 2.0000e+00, 7.7000e+00, 7.0000e+00, 7.5000e+01, 6.0000e+00,\n          0.0000e+00, 7.0000e+01, 8.0000e+03, 0.0000e+00, 1.2000e+02, 8.0000e+01,\n          1.0000e+00, 0.0000e+00, 0.0000e+00],\n         [5.8000e+01, 5.0000e+00, 8.0000e+00, 9.0000e+00, 7.5000e+01, 3.0000e+00,\n          2.0000e+00, 6.8000e+01, 7.0000e+03, 1.0000e+00, 1.4000e+02, 9.5000e+01,\n          0.0000e+00, 1.0000e+00, 0.0000e+00],\n         [4.5000e+01, 4.0000e+00, 6.5000e+00, 7.0000e+00, 4.5000e+01, 4.0000e+00,\n          2.0000e+00, 6.5000e+01, 6.0000e+03, 2.0000e+00, 1.3500e+02, 9.0000e+01,\n          0.0000e+00, 1.0000e+00, 0.0000e+00],\n         [2.9000e+01, 2.0000e+00, 7.8000e+00, 7.0000e+00, 7.5000e+01, 6.0000e+00,\n          0.0000e+00, 7.0000e+01, 8.0000e+03, 0.0000e+00, 1.2000e+02, 8.0000e+01,\n          1.0000e+00, 0.0000e+00, 0.0000e+00],\n         [3.9000e+01, 9.0000e+00, 7.2000e+00, 8.0000e+00, 6.0000e+01, 5.0000e+00,\n          0.0000e+00, 6.8000e+01, 8.0000e+03, 2.0000e+00, 1.3000e+02, 8.5000e+01,\n          1.0000e+00, 0.0000e+00, 0.0000e+00],\n         [5.2000e+01, 7.0000e+00, 6.6000e+00, 7.0000e+00, 4.5000e+01, 7.0000e+00,\n          2.0000e+00, 7.2000e+01, 6.0000e+03, 2.0000e+00, 1.3000e+02, 8.5000e+01,\n          0.0000e+00, 1.0000e+00, 0.0000e+00],\n         [4.9000e+01, 2.0000e+00, 8.1000e+00, 9.0000e+00, 8.5000e+01, 3.0000e+00,\n          3.0000e+00, 8.6000e+01, 3.7000e+03, 1.0000e+00, 1.3900e+02, 9.1000e+01,\n          1.0000e+00, 0.0000e+00, 0.0000e+00],\n         [4.4000e+01, 4.0000e+00, 6.6000e+00, 7.0000e+00, 4.5000e+01, 4.0000e+00,\n          2.0000e+00, 6.5000e+01, 6.0000e+03, 2.0000e+00, 1.3500e+02, 9.0000e+01,\n          0.0000e+00, 1.0000e+00, 0.0000e+00],\n         [4.1000e+01, 9.0000e+00, 7.1000e+00, 7.0000e+00, 5.5000e+01, 6.0000e+00,\n          2.0000e+00, 7.2000e+01, 6.0000e+03, 0.0000e+00, 1.2500e+02, 8.2000e+01,\n          1.0000e+00, 0.0000e+00, 0.0000e+00],\n         [5.3000e+01, 6.0000e+00, 8.4000e+00, 9.0000e+00, 3.0000e+01, 3.0000e+00,\n          0.0000e+00, 6.5000e+01, 5.0000e+03, 0.0000e+00, 1.2500e+02, 8.0000e+01,\n          0.0000e+00, 1.0000e+00, 0.0000e+00],\n         [5.1000e+01, 5.0000e+00, 6.1000e+00, 6.0000e+00, 9.0000e+01, 8.0000e+00,\n          2.0000e+00, 7.5000e+01, 1.0000e+04, 1.0000e+00, 1.4000e+02, 9.5000e+01,\n          0.0000e+00, 1.0000e+00, 0.0000e+00],\n         [3.3000e+01, 2.0000e+00, 6.1000e+00, 6.0000e+00, 3.0000e+01, 8.0000e+00,\n          0.0000e+00, 7.2000e+01, 5.0000e+03, 0.0000e+00, 1.2500e+02, 8.0000e+01,\n          1.0000e+00, 0.0000e+00, 0.0000e+00],\n         [5.4000e+01, 6.0000e+00, 8.4000e+00, 9.0000e+00, 3.0000e+01, 3.0000e+00,\n          0.0000e+00, 6.5000e+01, 5.0000e+03, 0.0000e+00, 1.2500e+02, 8.0000e+01,\n          0.0000e+00, 1.0000e+00, 0.0000e+00],\n         [3.7000e+01, 5.0000e+00, 7.5000e+00, 8.0000e+00, 6.0000e+01, 4.0000e+00,\n          1.0000e+00, 7.0000e+01, 8.0000e+03, 0.0000e+00, 1.2000e+02, 8.0000e+01,\n          0.0000e+00, 1.0000e+00, 0.0000e+00],\n         [3.1000e+01, 2.0000e+00, 7.8000e+00, 7.0000e+00, 7.5000e+01, 6.0000e+00,\n          0.0000e+00, 7.0000e+01, 8.0000e+03, 0.0000e+00, 1.2000e+02, 8.0000e+01,\n          1.0000e+00, 0.0000e+00, 0.0000e+00],\n         [3.1000e+01, 2.0000e+00, 7.7000e+00, 7.0000e+00, 7.5000e+01, 6.0000e+00,\n          0.0000e+00, 7.0000e+01, 8.0000e+03, 0.0000e+00, 1.2000e+02, 8.0000e+01,\n          1.0000e+00, 0.0000e+00, 0.0000e+00],\n         [4.4000e+01, 1.0000e+01, 6.3000e+00, 6.0000e+00, 4.5000e+01, 7.0000e+00,\n          2.0000e+00, 7.2000e+01, 6.0000e+03, 2.0000e+00, 1.3000e+02, 8.5000e+01,\n          1.0000e+00, 0.0000e+00, 0.0000e+00],\n         [3.6000e+01, 4.0000e+00, 7.2000e+00, 8.0000e+00, 6.0000e+01, 4.0000e+00,\n          0.0000e+00, 6.8000e+01, 7.0000e+03, 0.0000e+00, 1.1500e+02, 7.5000e+01,\n          0.0000e+00, 1.0000e+00, 0.0000e+00],\n         [4.1000e+01, 9.0000e+00, 7.1000e+00, 7.0000e+00, 5.5000e+01, 6.0000e+00,\n          2.0000e+00, 7.2000e+01, 6.0000e+03, 0.0000e+00, 1.2500e+02, 8.2000e+01,\n          1.0000e+00, 0.0000e+00, 0.0000e+00],\n         [3.9000e+01, 9.0000e+00, 7.2000e+00, 8.0000e+00, 6.0000e+01, 5.0000e+00,\n          0.0000e+00, 6.8000e+01, 8.0000e+03, 0.0000e+00, 1.3000e+02, 8.5000e+01,\n          1.0000e+00, 0.0000e+00, 0.0000e+00],\n         [3.6000e+01, 4.0000e+00, 6.6000e+00, 5.0000e+00, 3.5000e+01, 7.0000e+00,\n          2.0000e+00, 7.4000e+01, 4.8000e+03, 1.0000e+00, 1.2900e+02, 8.4000e+01,\n          1.0000e+00, 0.0000e+00, 0.0000e+00],\n         [4.3000e+01, 1.0000e+01, 6.5000e+00, 6.0000e+00, 4.5000e+01, 7.0000e+00,\n          2.0000e+00, 7.2000e+01, 6.0000e+03, 2.0000e+00, 1.3000e+02, 8.5000e+01,\n          1.0000e+00, 0.0000e+00, 0.0000e+00],\n         [4.3000e+01, 1.0000e+01, 6.3000e+00, 6.0000e+00, 4.5000e+01, 7.0000e+00,\n          2.0000e+00, 7.2000e+01, 6.0000e+03, 2.0000e+00, 1.3000e+02, 8.5000e+01,\n          1.0000e+00, 0.0000e+00, 0.0000e+00],\n         [3.9000e+01, 9.0000e+00, 7.2000e+00, 8.0000e+00, 6.0000e+01, 5.0000e+00,\n          0.0000e+00, 6.8000e+01, 8.0000e+03, 0.0000e+00, 1.3000e+02, 8.5000e+01,\n          1.0000e+00, 0.0000e+00, 0.0000e+00],\n         [5.4000e+01, 6.0000e+00, 8.4000e+00, 9.0000e+00, 3.0000e+01, 3.0000e+00,\n          0.0000e+00, 6.5000e+01, 5.0000e+03, 0.0000e+00, 1.2500e+02, 8.0000e+01,\n          0.0000e+00, 1.0000e+00, 0.0000e+00],\n         [4.3000e+01, 6.0000e+00, 6.9000e+00, 6.0000e+00, 4.7000e+01, 7.0000e+00,\n          1.0000e+00, 6.9000e+01, 6.8000e+03, 0.0000e+00, 1.1700e+02, 7.6000e+01,\n          1.0000e+00, 0.0000e+00, 0.0000e+00],\n         [4.8000e+01, 5.0000e+00, 5.9000e+00, 6.0000e+00, 9.0000e+01, 8.0000e+00,\n          2.0000e+00, 7.5000e+01, 1.0000e+04, 1.0000e+00, 1.4000e+02, 9.5000e+01,\n          0.0000e+00, 1.0000e+00, 0.0000e+00],\n         [4.4000e+01, 4.0000e+00, 6.5000e+00, 7.0000e+00, 4.5000e+01, 4.0000e+00,\n          2.0000e+00, 6.5000e+01, 6.0000e+03, 2.0000e+00, 1.3500e+02, 9.0000e+01,\n          0.0000e+00, 1.0000e+00, 0.0000e+00],\n         [3.7000e+01, 5.0000e+00, 6.1000e+00, 6.0000e+00, 4.2000e+01, 6.0000e+00,\n          2.0000e+00, 7.7000e+01, 4.2000e+03, 0.0000e+00, 1.2600e+02, 8.3000e+01,\n          0.0000e+00, 1.0000e+00, 0.0000e+00],\n         [5.0000e+01, 5.0000e+00, 6.1000e+00, 6.0000e+00, 9.0000e+01, 8.0000e+00,\n          2.0000e+00, 7.5000e+01, 1.0000e+04, 2.0000e+00, 1.4000e+02, 9.5000e+01,\n          0.0000e+00, 1.0000e+00, 0.0000e+00],\n         [5.6000e+01, 2.0000e+00, 8.2000e+00, 9.0000e+00, 9.0000e+01, 3.0000e+00,\n          1.0000e+00, 6.5000e+01, 1.0000e+04, 0.0000e+00, 1.1800e+02, 7.5000e+01,\n          0.0000e+00, 1.0000e+00, 0.0000e+00],\n         [3.3000e+01, 2.0000e+00, 6.1000e+00, 6.0000e+00, 3.0000e+01, 8.0000e+00,\n          0.0000e+00, 7.2000e+01, 5.0000e+03, 0.0000e+00, 1.2500e+02, 8.0000e+01,\n          1.0000e+00, 0.0000e+00, 0.0000e+00],\n         [4.2000e+01, 9.0000e+00, 7.8000e+00, 8.0000e+00, 9.0000e+01, 5.0000e+00,\n          0.0000e+00, 7.0000e+01, 8.0000e+03, 0.0000e+00, 1.3000e+02, 8.5000e+01,\n          1.0000e+00, 0.0000e+00, 0.0000e+00],\n         [4.2000e+01, 9.0000e+00, 7.8000e+00, 8.0000e+00, 9.0000e+01, 5.0000e+00,\n          0.0000e+00, 7.0000e+01, 8.0000e+03, 0.0000e+00, 1.3000e+02, 8.5000e+01,\n          1.0000e+00, 0.0000e+00, 0.0000e+00],\n         [4.5000e+01, 4.0000e+00, 6.8000e+00, 7.0000e+00, 3.0000e+01, 6.0000e+00,\n          2.0000e+00, 6.5000e+01, 6.0000e+03, 2.0000e+00, 1.3500e+02, 9.0000e+01,\n          0.0000e+00, 1.0000e+00, 0.0000e+00],\n         [2.9000e+01, 2.0000e+00, 6.1000e+00, 6.0000e+00, 3.0000e+01, 8.0000e+00,\n          0.0000e+00, 7.0000e+01, 8.0000e+03, 0.0000e+00, 1.2000e+02, 8.0000e+01,\n          1.0000e+00, 0.0000e+00, 0.0000e+00],\n         [5.1000e+01, 6.0000e+00, 8.5000e+00, 9.0000e+00, 3.0000e+01, 3.0000e+00,\n          0.0000e+00, 6.5000e+01, 5.0000e+03, 0.0000e+00, 1.2500e+02, 8.0000e+01,\n          0.0000e+00, 1.0000e+00, 0.0000e+00],\n         [5.2000e+01, 6.0000e+00, 8.4000e+00, 9.0000e+00, 3.0000e+01, 3.0000e+00,\n          0.0000e+00, 6.5000e+01, 5.0000e+03, 0.0000e+00, 1.2500e+02, 8.0000e+01,\n          0.0000e+00, 1.0000e+00, 0.0000e+00],\n         [4.8000e+01, 2.0000e+00, 7.3000e+00, 7.0000e+00, 6.5000e+01, 5.0000e+00,\n          3.0000e+00, 8.3000e+01, 3.5000e+03, 2.0000e+00, 1.4200e+02, 9.2000e+01,\n          1.0000e+00, 0.0000e+00, 0.0000e+00],\n         [3.5000e+01, 6.0000e+00, 7.3000e+00, 8.0000e+00, 6.0000e+01, 4.0000e+00,\n          0.0000e+00, 6.5000e+01, 5.0000e+03, 0.0000e+00, 1.2500e+02, 8.0000e+01,\n          1.0000e+00, 0.0000e+00, 0.0000e+00],\n         [3.0000e+01, 2.0000e+00, 7.7000e+00, 7.0000e+00, 7.5000e+01, 6.0000e+00,\n          0.0000e+00, 7.0000e+01, 8.0000e+03, 0.0000e+00, 1.2000e+02, 8.0000e+01,\n          1.0000e+00, 0.0000e+00, 0.0000e+00],\n         [5.0000e+01, 5.0000e+00, 6.0000e+00, 6.0000e+00, 9.0000e+01, 8.0000e+00,\n          2.0000e+00, 7.5000e+01, 1.0000e+04, 1.0000e+00, 1.4000e+02, 9.5000e+01,\n          0.0000e+00, 1.0000e+00, 0.0000e+00],\n         [2.9000e+01, 5.0000e+00, 6.5000e+00, 5.0000e+00, 4.0000e+01, 7.0000e+00,\n          1.0000e+00, 8.0000e+01, 4.0000e+03, 1.0000e+00, 1.3200e+02, 8.7000e+01,\n          0.0000e+00, 1.0000e+00, 0.0000e+00],\n         [4.4000e+01, 1.0000e+01, 6.3000e+00, 6.0000e+00, 4.5000e+01, 7.0000e+00,\n          2.0000e+00, 7.2000e+01, 6.0000e+03, 2.0000e+00, 1.3000e+02, 8.5000e+01,\n          1.0000e+00, 0.0000e+00, 0.0000e+00],\n         [4.4000e+01, 1.0000e+01, 6.3000e+00, 6.0000e+00, 4.5000e+01, 7.0000e+00,\n          2.0000e+00, 7.2000e+01, 6.0000e+03, 2.0000e+00, 1.3000e+02, 8.5000e+01,\n          1.0000e+00, 0.0000e+00, 0.0000e+00],\n         [3.7000e+01, 7.0000e+00, 7.2000e+00, 8.0000e+00, 6.0000e+01, 4.0000e+00,\n          0.0000e+00, 6.8000e+01, 7.0000e+03, 0.0000e+00, 1.1500e+02, 7.5000e+01,\n          0.0000e+00, 1.0000e+00, 0.0000e+00]]),\n tensor(68.0115))"
     },
     "execution_count": 19,
     "metadata": {},
     "output_type": "execute_result"
    }
   ],
   "source": [
    "dataset[0]"
   ],
   "metadata": {
    "collapsed": false,
    "ExecuteTime": {
     "start_time": "2023-11-08T13:38:11.287867Z",
     "end_time": "2023-11-08T13:38:11.357866Z"
    }
   }
  },
  {
   "cell_type": "markdown",
   "source": [
    "## DataLoaders"
   ],
   "metadata": {
    "collapsed": false
   }
  },
  {
   "cell_type": "code",
   "execution_count": 20,
   "outputs": [],
   "source": [
    "generator = torch.Generator().manual_seed(420)\n",
    "train_ds, val_ds, test_ds = random_split(dataset, [0.7, 0.1, 0.2], generator=generator)"
   ],
   "metadata": {
    "collapsed": false,
    "ExecuteTime": {
     "start_time": "2023-11-08T13:38:11.306869Z",
     "end_time": "2023-11-08T13:38:11.357866Z"
    }
   }
  },
  {
   "cell_type": "code",
   "execution_count": 21,
   "outputs": [
    {
     "data": {
      "text/plain": "<torch.utils.data.dataset.Subset at 0x27b09e1f460>"
     },
     "execution_count": 21,
     "metadata": {},
     "output_type": "execute_result"
    }
   ],
   "source": [
    "train_ds"
   ],
   "metadata": {
    "collapsed": false,
    "ExecuteTime": {
     "start_time": "2023-11-08T13:38:11.320870Z",
     "end_time": "2023-11-08T13:38:11.357866Z"
    }
   }
  },
  {
   "cell_type": "code",
   "execution_count": 22,
   "outputs": [],
   "source": [
    "train_loader = DataLoader(train_ds, batch_size=32, shuffle=True)"
   ],
   "metadata": {
    "collapsed": false,
    "ExecuteTime": {
     "start_time": "2023-11-08T13:38:11.335865Z",
     "end_time": "2023-11-08T13:38:11.380864Z"
    }
   }
  },
  {
   "cell_type": "code",
   "execution_count": 23,
   "outputs": [
    {
     "name": "stdout",
     "output_type": "stream",
     "text": [
      "x-shape:torch.Size([32, 50, 15]), y-shape:torch.Size([32])\n"
     ]
    }
   ],
   "source": [
    "for x, y in train_loader:\n",
    "    print(f\"x-shape:{x.shape}, y-shape:{y.shape}\")\n",
    "    break"
   ],
   "metadata": {
    "collapsed": false,
    "ExecuteTime": {
     "start_time": "2023-11-08T13:38:11.350866Z",
     "end_time": "2023-11-08T13:38:11.476193Z"
    }
   }
  },
  {
   "cell_type": "markdown",
   "source": [
    "# Make weighted random sampler to easy distribution problems"
   ],
   "metadata": {
    "collapsed": false
   }
  },
  {
   "cell_type": "code",
   "execution_count": 51,
   "outputs": [
    {
     "data": {
      "text/plain": "0       68.0\n1       55.0\n2       66.0\n3       59.0\n4       63.0\n        ... \n9995    64.0\n9996    56.0\n9997    66.0\n9998    73.0\n9999    54.0\nName: label, Length: 10000, dtype: float64"
     },
     "execution_count": 51,
     "metadata": {},
     "output_type": "execute_result"
    }
   ],
   "source": [
    "df_index.label.round()"
   ],
   "metadata": {
    "collapsed": false,
    "ExecuteTime": {
     "start_time": "2023-11-08T13:38:27.210033Z",
     "end_time": "2023-11-08T13:38:27.231033Z"
    }
   }
  },
  {
   "cell_type": "markdown",
   "source": [
    "## Specialize pure datasets"
   ],
   "metadata": {
    "collapsed": false
   }
  },
  {
   "cell_type": "code",
   "execution_count": 25,
   "outputs": [
    {
     "name": "stderr",
     "output_type": "stream",
     "text": [
      "100%|██████████| 10000/10000 [00:00<00:00, 88330.15it/s]\n"
     ]
    }
   ],
   "source": [
    "df_added_valid = add_valid_permutations(\n",
    "    num_to_generate,\n",
    "    df_index,\n",
    "    num_gondolas\n",
    ")"
   ],
   "metadata": {
    "collapsed": false,
    "ExecuteTime": {
     "start_time": "2023-11-08T13:38:11.397866Z",
     "end_time": "2023-11-08T13:38:11.575274Z"
    }
   }
  },
  {
   "cell_type": "code",
   "execution_count": 26,
   "outputs": [
    {
     "data": {
      "text/plain": "       g-0_p-0  g-0_p-1  g-0_p-2  g-0_p-3  g-0_p-4  g-1_p-0  g-1_p-1  g-1_p-2  \\\n0          264      191       98      235       35      356      253        9   \n1          338      176       95       11      161      248      364       53   \n2          290       99       75       21      237      287      215      213   \n3           15      277       93      106      290      354       60      226   \n4          190      260       34      286      360      167      251      298   \n...        ...      ...      ...      ...      ...      ...      ...      ...   \n19995       14      204      272      195      136      217      178      137   \n19996      278      282      328      303      251      265       25      243   \n19997      169      160       69      298      314      234      346      350   \n19998       26      358      181       46      355       83       54      366   \n19999      224       77       98      244      111      285      194      309   \n\n       g-1_p-3  g-1_p-4  ...  g-8_p-1  g-8_p-2  g-8_p-3  g-8_p-4  g-9_p-0  \\\n0          147      311  ...      315      265       92       23      287   \n1           64       71  ...      181      365       96      187      165   \n2          172      214  ...       76      188      274       77      264   \n3           75      318  ...      243      288       74      131      344   \n4          256       15  ...       48      258      107        5      307   \n...        ...      ...  ...      ...      ...      ...      ...      ...   \n19995       46      197  ...      263       94      345      248      227   \n19996      199      365  ...      342      188       40       77       39   \n19997      246      338  ...      173       73      277      286       70   \n19998      125      155  ...      277      174       80      106      260   \n19999      281       21  ...      123      328       73       62      270   \n\n       g-9_p-1  g-9_p-2  g-9_p-3  g-9_p-4      label  \n0           17      234      223      117  68.011480  \n1           38      114       98       56  55.463373  \n2          117      254      168       65  66.108493  \n3           86      266      218       83  58.642507  \n4          121      162        7       37  62.584213  \n...        ...      ...      ...      ...        ...  \n19995        6      102      127      301  59.765280  \n19996      358       34      290      335  71.027800  \n19997       17      180      118      137  71.582987  \n19998      342      194      287      371  57.986000  \n19999      132       87      185       23  70.065720  \n\n[20000 rows x 51 columns]",
      "text/html": "<div>\n<style scoped>\n    .dataframe tbody tr th:only-of-type {\n        vertical-align: middle;\n    }\n\n    .dataframe tbody tr th {\n        vertical-align: top;\n    }\n\n    .dataframe thead th {\n        text-align: right;\n    }\n</style>\n<table border=\"1\" class=\"dataframe\">\n  <thead>\n    <tr style=\"text-align: right;\">\n      <th></th>\n      <th>g-0_p-0</th>\n      <th>g-0_p-1</th>\n      <th>g-0_p-2</th>\n      <th>g-0_p-3</th>\n      <th>g-0_p-4</th>\n      <th>g-1_p-0</th>\n      <th>g-1_p-1</th>\n      <th>g-1_p-2</th>\n      <th>g-1_p-3</th>\n      <th>g-1_p-4</th>\n      <th>...</th>\n      <th>g-8_p-1</th>\n      <th>g-8_p-2</th>\n      <th>g-8_p-3</th>\n      <th>g-8_p-4</th>\n      <th>g-9_p-0</th>\n      <th>g-9_p-1</th>\n      <th>g-9_p-2</th>\n      <th>g-9_p-3</th>\n      <th>g-9_p-4</th>\n      <th>label</th>\n    </tr>\n  </thead>\n  <tbody>\n    <tr>\n      <th>0</th>\n      <td>264</td>\n      <td>191</td>\n      <td>98</td>\n      <td>235</td>\n      <td>35</td>\n      <td>356</td>\n      <td>253</td>\n      <td>9</td>\n      <td>147</td>\n      <td>311</td>\n      <td>...</td>\n      <td>315</td>\n      <td>265</td>\n      <td>92</td>\n      <td>23</td>\n      <td>287</td>\n      <td>17</td>\n      <td>234</td>\n      <td>223</td>\n      <td>117</td>\n      <td>68.011480</td>\n    </tr>\n    <tr>\n      <th>1</th>\n      <td>338</td>\n      <td>176</td>\n      <td>95</td>\n      <td>11</td>\n      <td>161</td>\n      <td>248</td>\n      <td>364</td>\n      <td>53</td>\n      <td>64</td>\n      <td>71</td>\n      <td>...</td>\n      <td>181</td>\n      <td>365</td>\n      <td>96</td>\n      <td>187</td>\n      <td>165</td>\n      <td>38</td>\n      <td>114</td>\n      <td>98</td>\n      <td>56</td>\n      <td>55.463373</td>\n    </tr>\n    <tr>\n      <th>2</th>\n      <td>290</td>\n      <td>99</td>\n      <td>75</td>\n      <td>21</td>\n      <td>237</td>\n      <td>287</td>\n      <td>215</td>\n      <td>213</td>\n      <td>172</td>\n      <td>214</td>\n      <td>...</td>\n      <td>76</td>\n      <td>188</td>\n      <td>274</td>\n      <td>77</td>\n      <td>264</td>\n      <td>117</td>\n      <td>254</td>\n      <td>168</td>\n      <td>65</td>\n      <td>66.108493</td>\n    </tr>\n    <tr>\n      <th>3</th>\n      <td>15</td>\n      <td>277</td>\n      <td>93</td>\n      <td>106</td>\n      <td>290</td>\n      <td>354</td>\n      <td>60</td>\n      <td>226</td>\n      <td>75</td>\n      <td>318</td>\n      <td>...</td>\n      <td>243</td>\n      <td>288</td>\n      <td>74</td>\n      <td>131</td>\n      <td>344</td>\n      <td>86</td>\n      <td>266</td>\n      <td>218</td>\n      <td>83</td>\n      <td>58.642507</td>\n    </tr>\n    <tr>\n      <th>4</th>\n      <td>190</td>\n      <td>260</td>\n      <td>34</td>\n      <td>286</td>\n      <td>360</td>\n      <td>167</td>\n      <td>251</td>\n      <td>298</td>\n      <td>256</td>\n      <td>15</td>\n      <td>...</td>\n      <td>48</td>\n      <td>258</td>\n      <td>107</td>\n      <td>5</td>\n      <td>307</td>\n      <td>121</td>\n      <td>162</td>\n      <td>7</td>\n      <td>37</td>\n      <td>62.584213</td>\n    </tr>\n    <tr>\n      <th>...</th>\n      <td>...</td>\n      <td>...</td>\n      <td>...</td>\n      <td>...</td>\n      <td>...</td>\n      <td>...</td>\n      <td>...</td>\n      <td>...</td>\n      <td>...</td>\n      <td>...</td>\n      <td>...</td>\n      <td>...</td>\n      <td>...</td>\n      <td>...</td>\n      <td>...</td>\n      <td>...</td>\n      <td>...</td>\n      <td>...</td>\n      <td>...</td>\n      <td>...</td>\n      <td>...</td>\n    </tr>\n    <tr>\n      <th>19995</th>\n      <td>14</td>\n      <td>204</td>\n      <td>272</td>\n      <td>195</td>\n      <td>136</td>\n      <td>217</td>\n      <td>178</td>\n      <td>137</td>\n      <td>46</td>\n      <td>197</td>\n      <td>...</td>\n      <td>263</td>\n      <td>94</td>\n      <td>345</td>\n      <td>248</td>\n      <td>227</td>\n      <td>6</td>\n      <td>102</td>\n      <td>127</td>\n      <td>301</td>\n      <td>59.765280</td>\n    </tr>\n    <tr>\n      <th>19996</th>\n      <td>278</td>\n      <td>282</td>\n      <td>328</td>\n      <td>303</td>\n      <td>251</td>\n      <td>265</td>\n      <td>25</td>\n      <td>243</td>\n      <td>199</td>\n      <td>365</td>\n      <td>...</td>\n      <td>342</td>\n      <td>188</td>\n      <td>40</td>\n      <td>77</td>\n      <td>39</td>\n      <td>358</td>\n      <td>34</td>\n      <td>290</td>\n      <td>335</td>\n      <td>71.027800</td>\n    </tr>\n    <tr>\n      <th>19997</th>\n      <td>169</td>\n      <td>160</td>\n      <td>69</td>\n      <td>298</td>\n      <td>314</td>\n      <td>234</td>\n      <td>346</td>\n      <td>350</td>\n      <td>246</td>\n      <td>338</td>\n      <td>...</td>\n      <td>173</td>\n      <td>73</td>\n      <td>277</td>\n      <td>286</td>\n      <td>70</td>\n      <td>17</td>\n      <td>180</td>\n      <td>118</td>\n      <td>137</td>\n      <td>71.582987</td>\n    </tr>\n    <tr>\n      <th>19998</th>\n      <td>26</td>\n      <td>358</td>\n      <td>181</td>\n      <td>46</td>\n      <td>355</td>\n      <td>83</td>\n      <td>54</td>\n      <td>366</td>\n      <td>125</td>\n      <td>155</td>\n      <td>...</td>\n      <td>277</td>\n      <td>174</td>\n      <td>80</td>\n      <td>106</td>\n      <td>260</td>\n      <td>342</td>\n      <td>194</td>\n      <td>287</td>\n      <td>371</td>\n      <td>57.986000</td>\n    </tr>\n    <tr>\n      <th>19999</th>\n      <td>224</td>\n      <td>77</td>\n      <td>98</td>\n      <td>244</td>\n      <td>111</td>\n      <td>285</td>\n      <td>194</td>\n      <td>309</td>\n      <td>281</td>\n      <td>21</td>\n      <td>...</td>\n      <td>123</td>\n      <td>328</td>\n      <td>73</td>\n      <td>62</td>\n      <td>270</td>\n      <td>132</td>\n      <td>87</td>\n      <td>185</td>\n      <td>23</td>\n      <td>70.065720</td>\n    </tr>\n  </tbody>\n</table>\n<p>20000 rows × 51 columns</p>\n</div>"
     },
     "execution_count": 26,
     "metadata": {},
     "output_type": "execute_result"
    }
   ],
   "source": [
    "df_added_valid"
   ],
   "metadata": {
    "collapsed": false,
    "ExecuteTime": {
     "start_time": "2023-11-08T13:38:11.573276Z",
     "end_time": "2023-11-08T13:38:11.605812Z"
    }
   }
  },
  {
   "cell_type": "code",
   "execution_count": 27,
   "outputs": [
    {
     "name": "stderr",
     "output_type": "stream",
     "text": [
      "100%|██████████| 10000/10000 [00:00<00:00, 84960.83it/s]\n",
      "100%|██████████| 1000/1000 [00:00<00:00, 88805.93it/s]\n"
     ]
    }
   ],
   "source": [
    "dataset = load_modified_ferris_wheel_dataset(\n",
    "    num_gondolas=num_gondolas,\n",
    "    num_part_pg=num_part_pg,\n",
    "    num_to_generate=num_to_generate,\n",
    "    num_valid_to_add=num_to_generate,\n",
    "    dataset_path=\"../datasets\",\n",
    "    df_intermediate_output_name=\"health_dataset_preprocessed-1.csv\",\n",
    "    df_name_input=\"Sleep_health_and_lifestyle_dataset.csv\",\n",
    "    try_pregen=True\n",
    ")"
   ],
   "metadata": {
    "collapsed": false,
    "ExecuteTime": {
     "start_time": "2023-11-08T13:38:11.590382Z",
     "end_time": "2023-11-08T13:38:12.124786Z"
    }
   }
  },
  {
   "cell_type": "markdown",
   "source": [
    "## Change regression task to classification"
   ],
   "metadata": {
    "collapsed": false
   }
  },
  {
   "cell_type": "code",
   "execution_count": 28,
   "outputs": [],
   "source": [
    "temp = df_index.label/(10*num_gondolas)*10"
   ],
   "metadata": {
    "collapsed": false,
    "ExecuteTime": {
     "start_time": "2023-11-08T13:38:12.124786Z",
     "end_time": "2023-11-08T13:38:12.139683Z"
    }
   }
  },
  {
   "cell_type": "code",
   "execution_count": 29,
   "outputs": [
    {
     "data": {
      "text/plain": "0       7.0\n1       6.0\n2       7.0\n3       6.0\n4       6.0\n       ... \n9995    6.0\n9996    6.0\n9997    7.0\n9998    7.0\n9999    5.0\nName: label, Length: 10000, dtype: float64"
     },
     "execution_count": 29,
     "metadata": {},
     "output_type": "execute_result"
    }
   ],
   "source": [
    "temp.round()"
   ],
   "metadata": {
    "collapsed": false,
    "ExecuteTime": {
     "start_time": "2023-11-08T13:38:12.140819Z",
     "end_time": "2023-11-08T13:38:12.180087Z"
    }
   }
  },
  {
   "cell_type": "markdown",
   "source": [
    "## Problem: dataset too centered around a specific value"
   ],
   "metadata": {
    "collapsed": false
   }
  },
  {
   "cell_type": "code",
   "execution_count": 30,
   "outputs": [
    {
     "data": {
      "text/plain": "count    10000.000000\nmean        63.529537\nstd          5.500780\nmin         48.837187\n25%         59.621903\n50%         63.253673\n75%         66.986460\nmax         90.799333\nName: label, dtype: float64"
     },
     "execution_count": 30,
     "metadata": {},
     "output_type": "execute_result"
    }
   ],
   "source": [
    "df_index.label.describe()"
   ],
   "metadata": {
    "collapsed": false,
    "ExecuteTime": {
     "start_time": "2023-11-08T13:38:12.172087Z",
     "end_time": "2023-11-08T13:38:12.197880Z"
    }
   }
  },
  {
   "cell_type": "code",
   "execution_count": 31,
   "outputs": [
    {
     "data": {
      "text/plain": "      g-0_p-0  g-0_p-1  g-0_p-2  g-0_p-3  g-0_p-4  g-1_p-0  g-1_p-1  g-1_p-2  \\\n0         264      191       98      235       35      356      253        9   \n1         338      176       95       11      161      248      364       53   \n2         290       99       75       21      237      287      215      213   \n3          15      277       93      106      290      354       60      226   \n4         190      260       34      286      360      167      251      298   \n...       ...      ...      ...      ...      ...      ...      ...      ...   \n9995      127       84      110      152      265       90      318       72   \n9996      286       97      191      288       32      268       41      347   \n9997      372      168      198      199      239      369      323      277   \n9998      154      310      224       59       87      207       97       78   \n9999      351       31      277      304      357       35      111      254   \n\n      g-1_p-3  g-1_p-4  ...  g-8_p-1  g-8_p-2  g-8_p-3  g-8_p-4  g-9_p-0  \\\n0         147      311  ...      315      265       92       23      287   \n1          64       71  ...      181      365       96      187      165   \n2         172      214  ...       76      188      274       77      264   \n3          75      318  ...      243      288       74      131      344   \n4         256       15  ...       48      258      107        5      307   \n...       ...      ...  ...      ...      ...      ...      ...      ...   \n9995      331      237  ...        7      341      126       70      208   \n9996      272      169  ...      178      269      310       79      370   \n9997      174      281  ...      112       75      331      177      163   \n9998      290      241  ...      338      254      183      145       22   \n9999       40       69  ...       71       65      163      296      123   \n\n      g-9_p-1  g-9_p-2  g-9_p-3  g-9_p-4      label  \n0          17      234      223      117  68.011480  \n1          38      114       98       56  55.463373  \n2         117      254      168       65  66.108493  \n3          86      266      218       83  58.642507  \n4         121      162        7       37  62.584213  \n...       ...      ...      ...      ...        ...  \n9995       67      248      291      246  63.678893  \n9996      108      189      340       24  55.686920  \n9997      155        7      188      290  66.045467  \n9998       95      247      158      231  72.811613  \n9999      363      180      148      297  53.813760  \n\n[10000 rows x 51 columns]",
      "text/html": "<div>\n<style scoped>\n    .dataframe tbody tr th:only-of-type {\n        vertical-align: middle;\n    }\n\n    .dataframe tbody tr th {\n        vertical-align: top;\n    }\n\n    .dataframe thead th {\n        text-align: right;\n    }\n</style>\n<table border=\"1\" class=\"dataframe\">\n  <thead>\n    <tr style=\"text-align: right;\">\n      <th></th>\n      <th>g-0_p-0</th>\n      <th>g-0_p-1</th>\n      <th>g-0_p-2</th>\n      <th>g-0_p-3</th>\n      <th>g-0_p-4</th>\n      <th>g-1_p-0</th>\n      <th>g-1_p-1</th>\n      <th>g-1_p-2</th>\n      <th>g-1_p-3</th>\n      <th>g-1_p-4</th>\n      <th>...</th>\n      <th>g-8_p-1</th>\n      <th>g-8_p-2</th>\n      <th>g-8_p-3</th>\n      <th>g-8_p-4</th>\n      <th>g-9_p-0</th>\n      <th>g-9_p-1</th>\n      <th>g-9_p-2</th>\n      <th>g-9_p-3</th>\n      <th>g-9_p-4</th>\n      <th>label</th>\n    </tr>\n  </thead>\n  <tbody>\n    <tr>\n      <th>0</th>\n      <td>264</td>\n      <td>191</td>\n      <td>98</td>\n      <td>235</td>\n      <td>35</td>\n      <td>356</td>\n      <td>253</td>\n      <td>9</td>\n      <td>147</td>\n      <td>311</td>\n      <td>...</td>\n      <td>315</td>\n      <td>265</td>\n      <td>92</td>\n      <td>23</td>\n      <td>287</td>\n      <td>17</td>\n      <td>234</td>\n      <td>223</td>\n      <td>117</td>\n      <td>68.011480</td>\n    </tr>\n    <tr>\n      <th>1</th>\n      <td>338</td>\n      <td>176</td>\n      <td>95</td>\n      <td>11</td>\n      <td>161</td>\n      <td>248</td>\n      <td>364</td>\n      <td>53</td>\n      <td>64</td>\n      <td>71</td>\n      <td>...</td>\n      <td>181</td>\n      <td>365</td>\n      <td>96</td>\n      <td>187</td>\n      <td>165</td>\n      <td>38</td>\n      <td>114</td>\n      <td>98</td>\n      <td>56</td>\n      <td>55.463373</td>\n    </tr>\n    <tr>\n      <th>2</th>\n      <td>290</td>\n      <td>99</td>\n      <td>75</td>\n      <td>21</td>\n      <td>237</td>\n      <td>287</td>\n      <td>215</td>\n      <td>213</td>\n      <td>172</td>\n      <td>214</td>\n      <td>...</td>\n      <td>76</td>\n      <td>188</td>\n      <td>274</td>\n      <td>77</td>\n      <td>264</td>\n      <td>117</td>\n      <td>254</td>\n      <td>168</td>\n      <td>65</td>\n      <td>66.108493</td>\n    </tr>\n    <tr>\n      <th>3</th>\n      <td>15</td>\n      <td>277</td>\n      <td>93</td>\n      <td>106</td>\n      <td>290</td>\n      <td>354</td>\n      <td>60</td>\n      <td>226</td>\n      <td>75</td>\n      <td>318</td>\n      <td>...</td>\n      <td>243</td>\n      <td>288</td>\n      <td>74</td>\n      <td>131</td>\n      <td>344</td>\n      <td>86</td>\n      <td>266</td>\n      <td>218</td>\n      <td>83</td>\n      <td>58.642507</td>\n    </tr>\n    <tr>\n      <th>4</th>\n      <td>190</td>\n      <td>260</td>\n      <td>34</td>\n      <td>286</td>\n      <td>360</td>\n      <td>167</td>\n      <td>251</td>\n      <td>298</td>\n      <td>256</td>\n      <td>15</td>\n      <td>...</td>\n      <td>48</td>\n      <td>258</td>\n      <td>107</td>\n      <td>5</td>\n      <td>307</td>\n      <td>121</td>\n      <td>162</td>\n      <td>7</td>\n      <td>37</td>\n      <td>62.584213</td>\n    </tr>\n    <tr>\n      <th>...</th>\n      <td>...</td>\n      <td>...</td>\n      <td>...</td>\n      <td>...</td>\n      <td>...</td>\n      <td>...</td>\n      <td>...</td>\n      <td>...</td>\n      <td>...</td>\n      <td>...</td>\n      <td>...</td>\n      <td>...</td>\n      <td>...</td>\n      <td>...</td>\n      <td>...</td>\n      <td>...</td>\n      <td>...</td>\n      <td>...</td>\n      <td>...</td>\n      <td>...</td>\n      <td>...</td>\n    </tr>\n    <tr>\n      <th>9995</th>\n      <td>127</td>\n      <td>84</td>\n      <td>110</td>\n      <td>152</td>\n      <td>265</td>\n      <td>90</td>\n      <td>318</td>\n      <td>72</td>\n      <td>331</td>\n      <td>237</td>\n      <td>...</td>\n      <td>7</td>\n      <td>341</td>\n      <td>126</td>\n      <td>70</td>\n      <td>208</td>\n      <td>67</td>\n      <td>248</td>\n      <td>291</td>\n      <td>246</td>\n      <td>63.678893</td>\n    </tr>\n    <tr>\n      <th>9996</th>\n      <td>286</td>\n      <td>97</td>\n      <td>191</td>\n      <td>288</td>\n      <td>32</td>\n      <td>268</td>\n      <td>41</td>\n      <td>347</td>\n      <td>272</td>\n      <td>169</td>\n      <td>...</td>\n      <td>178</td>\n      <td>269</td>\n      <td>310</td>\n      <td>79</td>\n      <td>370</td>\n      <td>108</td>\n      <td>189</td>\n      <td>340</td>\n      <td>24</td>\n      <td>55.686920</td>\n    </tr>\n    <tr>\n      <th>9997</th>\n      <td>372</td>\n      <td>168</td>\n      <td>198</td>\n      <td>199</td>\n      <td>239</td>\n      <td>369</td>\n      <td>323</td>\n      <td>277</td>\n      <td>174</td>\n      <td>281</td>\n      <td>...</td>\n      <td>112</td>\n      <td>75</td>\n      <td>331</td>\n      <td>177</td>\n      <td>163</td>\n      <td>155</td>\n      <td>7</td>\n      <td>188</td>\n      <td>290</td>\n      <td>66.045467</td>\n    </tr>\n    <tr>\n      <th>9998</th>\n      <td>154</td>\n      <td>310</td>\n      <td>224</td>\n      <td>59</td>\n      <td>87</td>\n      <td>207</td>\n      <td>97</td>\n      <td>78</td>\n      <td>290</td>\n      <td>241</td>\n      <td>...</td>\n      <td>338</td>\n      <td>254</td>\n      <td>183</td>\n      <td>145</td>\n      <td>22</td>\n      <td>95</td>\n      <td>247</td>\n      <td>158</td>\n      <td>231</td>\n      <td>72.811613</td>\n    </tr>\n    <tr>\n      <th>9999</th>\n      <td>351</td>\n      <td>31</td>\n      <td>277</td>\n      <td>304</td>\n      <td>357</td>\n      <td>35</td>\n      <td>111</td>\n      <td>254</td>\n      <td>40</td>\n      <td>69</td>\n      <td>...</td>\n      <td>71</td>\n      <td>65</td>\n      <td>163</td>\n      <td>296</td>\n      <td>123</td>\n      <td>363</td>\n      <td>180</td>\n      <td>148</td>\n      <td>297</td>\n      <td>53.813760</td>\n    </tr>\n  </tbody>\n</table>\n<p>10000 rows × 51 columns</p>\n</div>"
     },
     "execution_count": 31,
     "metadata": {},
     "output_type": "execute_result"
    }
   ],
   "source": [
    "df_downsample = df_index.copy(deep=True)\n",
    "df_downsample"
   ],
   "metadata": {
    "collapsed": false,
    "ExecuteTime": {
     "start_time": "2023-11-08T13:38:12.188564Z",
     "end_time": "2023-11-08T13:38:12.216848Z"
    }
   }
  },
  {
   "cell_type": "code",
   "execution_count": 32,
   "outputs": [],
   "source": [
    "df_downsample['label_cat'] = (df_downsample.label/5).round()"
   ],
   "metadata": {
    "collapsed": false,
    "ExecuteTime": {
     "start_time": "2023-11-08T13:38:12.204777Z",
     "end_time": "2023-11-08T13:38:12.224569Z"
    }
   }
  },
  {
   "cell_type": "code",
   "execution_count": 33,
   "outputs": [
    {
     "data": {
      "text/plain": "      g-0_p-0  g-0_p-1  g-0_p-2  g-0_p-3  g-0_p-4  g-1_p-0  g-1_p-1  g-1_p-2  \\\n0         264      191       98      235       35      356      253        9   \n1         338      176       95       11      161      248      364       53   \n2         290       99       75       21      237      287      215      213   \n3          15      277       93      106      290      354       60      226   \n4         190      260       34      286      360      167      251      298   \n...       ...      ...      ...      ...      ...      ...      ...      ...   \n9995      127       84      110      152      265       90      318       72   \n9996      286       97      191      288       32      268       41      347   \n9997      372      168      198      199      239      369      323      277   \n9998      154      310      224       59       87      207       97       78   \n9999      351       31      277      304      357       35      111      254   \n\n      g-1_p-3  g-1_p-4  ...  g-8_p-2  g-8_p-3  g-8_p-4  g-9_p-0  g-9_p-1  \\\n0         147      311  ...      265       92       23      287       17   \n1          64       71  ...      365       96      187      165       38   \n2         172      214  ...      188      274       77      264      117   \n3          75      318  ...      288       74      131      344       86   \n4         256       15  ...      258      107        5      307      121   \n...       ...      ...  ...      ...      ...      ...      ...      ...   \n9995      331      237  ...      341      126       70      208       67   \n9996      272      169  ...      269      310       79      370      108   \n9997      174      281  ...       75      331      177      163      155   \n9998      290      241  ...      254      183      145       22       95   \n9999       40       69  ...       65      163      296      123      363   \n\n      g-9_p-2  g-9_p-3  g-9_p-4      label  label_cat  \n0         234      223      117  68.011480       14.0  \n1         114       98       56  55.463373       11.0  \n2         254      168       65  66.108493       13.0  \n3         266      218       83  58.642507       12.0  \n4         162        7       37  62.584213       13.0  \n...       ...      ...      ...        ...        ...  \n9995      248      291      246  63.678893       13.0  \n9996      189      340       24  55.686920       11.0  \n9997        7      188      290  66.045467       13.0  \n9998      247      158      231  72.811613       15.0  \n9999      180      148      297  53.813760       11.0  \n\n[10000 rows x 52 columns]",
      "text/html": "<div>\n<style scoped>\n    .dataframe tbody tr th:only-of-type {\n        vertical-align: middle;\n    }\n\n    .dataframe tbody tr th {\n        vertical-align: top;\n    }\n\n    .dataframe thead th {\n        text-align: right;\n    }\n</style>\n<table border=\"1\" class=\"dataframe\">\n  <thead>\n    <tr style=\"text-align: right;\">\n      <th></th>\n      <th>g-0_p-0</th>\n      <th>g-0_p-1</th>\n      <th>g-0_p-2</th>\n      <th>g-0_p-3</th>\n      <th>g-0_p-4</th>\n      <th>g-1_p-0</th>\n      <th>g-1_p-1</th>\n      <th>g-1_p-2</th>\n      <th>g-1_p-3</th>\n      <th>g-1_p-4</th>\n      <th>...</th>\n      <th>g-8_p-2</th>\n      <th>g-8_p-3</th>\n      <th>g-8_p-4</th>\n      <th>g-9_p-0</th>\n      <th>g-9_p-1</th>\n      <th>g-9_p-2</th>\n      <th>g-9_p-3</th>\n      <th>g-9_p-4</th>\n      <th>label</th>\n      <th>label_cat</th>\n    </tr>\n  </thead>\n  <tbody>\n    <tr>\n      <th>0</th>\n      <td>264</td>\n      <td>191</td>\n      <td>98</td>\n      <td>235</td>\n      <td>35</td>\n      <td>356</td>\n      <td>253</td>\n      <td>9</td>\n      <td>147</td>\n      <td>311</td>\n      <td>...</td>\n      <td>265</td>\n      <td>92</td>\n      <td>23</td>\n      <td>287</td>\n      <td>17</td>\n      <td>234</td>\n      <td>223</td>\n      <td>117</td>\n      <td>68.011480</td>\n      <td>14.0</td>\n    </tr>\n    <tr>\n      <th>1</th>\n      <td>338</td>\n      <td>176</td>\n      <td>95</td>\n      <td>11</td>\n      <td>161</td>\n      <td>248</td>\n      <td>364</td>\n      <td>53</td>\n      <td>64</td>\n      <td>71</td>\n      <td>...</td>\n      <td>365</td>\n      <td>96</td>\n      <td>187</td>\n      <td>165</td>\n      <td>38</td>\n      <td>114</td>\n      <td>98</td>\n      <td>56</td>\n      <td>55.463373</td>\n      <td>11.0</td>\n    </tr>\n    <tr>\n      <th>2</th>\n      <td>290</td>\n      <td>99</td>\n      <td>75</td>\n      <td>21</td>\n      <td>237</td>\n      <td>287</td>\n      <td>215</td>\n      <td>213</td>\n      <td>172</td>\n      <td>214</td>\n      <td>...</td>\n      <td>188</td>\n      <td>274</td>\n      <td>77</td>\n      <td>264</td>\n      <td>117</td>\n      <td>254</td>\n      <td>168</td>\n      <td>65</td>\n      <td>66.108493</td>\n      <td>13.0</td>\n    </tr>\n    <tr>\n      <th>3</th>\n      <td>15</td>\n      <td>277</td>\n      <td>93</td>\n      <td>106</td>\n      <td>290</td>\n      <td>354</td>\n      <td>60</td>\n      <td>226</td>\n      <td>75</td>\n      <td>318</td>\n      <td>...</td>\n      <td>288</td>\n      <td>74</td>\n      <td>131</td>\n      <td>344</td>\n      <td>86</td>\n      <td>266</td>\n      <td>218</td>\n      <td>83</td>\n      <td>58.642507</td>\n      <td>12.0</td>\n    </tr>\n    <tr>\n      <th>4</th>\n      <td>190</td>\n      <td>260</td>\n      <td>34</td>\n      <td>286</td>\n      <td>360</td>\n      <td>167</td>\n      <td>251</td>\n      <td>298</td>\n      <td>256</td>\n      <td>15</td>\n      <td>...</td>\n      <td>258</td>\n      <td>107</td>\n      <td>5</td>\n      <td>307</td>\n      <td>121</td>\n      <td>162</td>\n      <td>7</td>\n      <td>37</td>\n      <td>62.584213</td>\n      <td>13.0</td>\n    </tr>\n    <tr>\n      <th>...</th>\n      <td>...</td>\n      <td>...</td>\n      <td>...</td>\n      <td>...</td>\n      <td>...</td>\n      <td>...</td>\n      <td>...</td>\n      <td>...</td>\n      <td>...</td>\n      <td>...</td>\n      <td>...</td>\n      <td>...</td>\n      <td>...</td>\n      <td>...</td>\n      <td>...</td>\n      <td>...</td>\n      <td>...</td>\n      <td>...</td>\n      <td>...</td>\n      <td>...</td>\n      <td>...</td>\n    </tr>\n    <tr>\n      <th>9995</th>\n      <td>127</td>\n      <td>84</td>\n      <td>110</td>\n      <td>152</td>\n      <td>265</td>\n      <td>90</td>\n      <td>318</td>\n      <td>72</td>\n      <td>331</td>\n      <td>237</td>\n      <td>...</td>\n      <td>341</td>\n      <td>126</td>\n      <td>70</td>\n      <td>208</td>\n      <td>67</td>\n      <td>248</td>\n      <td>291</td>\n      <td>246</td>\n      <td>63.678893</td>\n      <td>13.0</td>\n    </tr>\n    <tr>\n      <th>9996</th>\n      <td>286</td>\n      <td>97</td>\n      <td>191</td>\n      <td>288</td>\n      <td>32</td>\n      <td>268</td>\n      <td>41</td>\n      <td>347</td>\n      <td>272</td>\n      <td>169</td>\n      <td>...</td>\n      <td>269</td>\n      <td>310</td>\n      <td>79</td>\n      <td>370</td>\n      <td>108</td>\n      <td>189</td>\n      <td>340</td>\n      <td>24</td>\n      <td>55.686920</td>\n      <td>11.0</td>\n    </tr>\n    <tr>\n      <th>9997</th>\n      <td>372</td>\n      <td>168</td>\n      <td>198</td>\n      <td>199</td>\n      <td>239</td>\n      <td>369</td>\n      <td>323</td>\n      <td>277</td>\n      <td>174</td>\n      <td>281</td>\n      <td>...</td>\n      <td>75</td>\n      <td>331</td>\n      <td>177</td>\n      <td>163</td>\n      <td>155</td>\n      <td>7</td>\n      <td>188</td>\n      <td>290</td>\n      <td>66.045467</td>\n      <td>13.0</td>\n    </tr>\n    <tr>\n      <th>9998</th>\n      <td>154</td>\n      <td>310</td>\n      <td>224</td>\n      <td>59</td>\n      <td>87</td>\n      <td>207</td>\n      <td>97</td>\n      <td>78</td>\n      <td>290</td>\n      <td>241</td>\n      <td>...</td>\n      <td>254</td>\n      <td>183</td>\n      <td>145</td>\n      <td>22</td>\n      <td>95</td>\n      <td>247</td>\n      <td>158</td>\n      <td>231</td>\n      <td>72.811613</td>\n      <td>15.0</td>\n    </tr>\n    <tr>\n      <th>9999</th>\n      <td>351</td>\n      <td>31</td>\n      <td>277</td>\n      <td>304</td>\n      <td>357</td>\n      <td>35</td>\n      <td>111</td>\n      <td>254</td>\n      <td>40</td>\n      <td>69</td>\n      <td>...</td>\n      <td>65</td>\n      <td>163</td>\n      <td>296</td>\n      <td>123</td>\n      <td>363</td>\n      <td>180</td>\n      <td>148</td>\n      <td>297</td>\n      <td>53.813760</td>\n      <td>11.0</td>\n    </tr>\n  </tbody>\n</table>\n<p>10000 rows × 52 columns</p>\n</div>"
     },
     "execution_count": 33,
     "metadata": {},
     "output_type": "execute_result"
    }
   ],
   "source": [
    "df_downsample"
   ],
   "metadata": {
    "collapsed": false,
    "ExecuteTime": {
     "start_time": "2023-11-08T13:38:12.218847Z",
     "end_time": "2023-11-08T13:38:12.244058Z"
    }
   }
  },
  {
   "cell_type": "code",
   "execution_count": 34,
   "outputs": [
    {
     "data": {
      "text/plain": "1"
     },
     "execution_count": 34,
     "metadata": {},
     "output_type": "execute_result"
    }
   ],
   "source": [
    "n_samples = df_downsample.groupby('label_cat').size().min()\n",
    "n_samples"
   ],
   "metadata": {
    "collapsed": false,
    "ExecuteTime": {
     "start_time": "2023-11-08T13:38:12.235569Z",
     "end_time": "2023-11-08T13:38:12.317895Z"
    }
   }
  },
  {
   "cell_type": "code",
   "execution_count": 35,
   "outputs": [
    {
     "data": {
      "text/plain": "                g-0_p-0  g-0_p-1  g-0_p-2  g-0_p-3  g-0_p-4  g-1_p-0  g-1_p-1  \\\nlabel_cat                                                                       \n10.0      441       160      217      281      247      172      374      194   \n          4083      224      106      120      349      180      245      319   \n          8442      265       99      215       95       43      362      289   \n          3276       62        4      288      114       85      148      307   \n          3295      154        2      207      332      351      122      245   \n...                 ...      ...      ...      ...      ...      ...      ...   \n17.0      5691      231       92        3      230       81      191      314   \n          5103      200      247      181       49      260      342      156   \n          1733       91      101      360      134       87      188      163   \n          2424      106        4      199      269      110       98      129   \n18.0      7641      314      150       39      307       47      114      287   \n\n                g-1_p-2  g-1_p-3  g-1_p-4  ...  g-8_p-2  g-8_p-3  g-8_p-4  \\\nlabel_cat                                  ...                              \n10.0      441       178      292        4  ...       30      242      127   \n          4083      112      282       66  ...      105      134      292   \n          8442      218        1       86  ...      346       68       15   \n          3276      245      225      272  ...      287      137      321   \n          3295      115      201      291  ...      359      116      353   \n...                 ...      ...      ...  ...      ...      ...      ...   \n17.0      5691      209      124      163  ...      250       54      324   \n          5103      340      227      287  ...      186       64      353   \n          1733       70       26       85  ...      109       75      223   \n          2424        7      203      241  ...      163      234      164   \n18.0      7641       61      112      247  ...      260      232      107   \n\n                g-9_p-0  g-9_p-1  g-9_p-2  g-9_p-3  g-9_p-4      label  \\\nlabel_cat                                                                \n10.0      441        36      308      323      284      146  51.661587   \n          4083      149       44      305      221      346  51.281613   \n          8442      295      202      256      327      170  51.331107   \n          3276      279      197      274      153      189  51.027027   \n          3295      238      225      157      341      298  52.423960   \n...                 ...      ...      ...      ...      ...        ...   \n17.0      5691       27      106      164      107      155  83.928683   \n          5103       51      109      112       84      241  82.867680   \n          1733       22      130      350       61      117  84.667533   \n          2424       71       32      179      231      244  85.504837   \n18.0      7641      127      102       43      188      258  90.799333   \n\n                label_cat  \nlabel_cat                  \n10.0      441        10.0  \n          4083       10.0  \n          8442       10.0  \n          3276       10.0  \n          3295       10.0  \n...                   ...  \n17.0      5691       17.0  \n          5103       17.0  \n          1733       17.0  \n          2424       17.0  \n18.0      7641       18.0  \n\n[76 rows x 52 columns]",
      "text/html": "<div>\n<style scoped>\n    .dataframe tbody tr th:only-of-type {\n        vertical-align: middle;\n    }\n\n    .dataframe tbody tr th {\n        vertical-align: top;\n    }\n\n    .dataframe thead th {\n        text-align: right;\n    }\n</style>\n<table border=\"1\" class=\"dataframe\">\n  <thead>\n    <tr style=\"text-align: right;\">\n      <th></th>\n      <th></th>\n      <th>g-0_p-0</th>\n      <th>g-0_p-1</th>\n      <th>g-0_p-2</th>\n      <th>g-0_p-3</th>\n      <th>g-0_p-4</th>\n      <th>g-1_p-0</th>\n      <th>g-1_p-1</th>\n      <th>g-1_p-2</th>\n      <th>g-1_p-3</th>\n      <th>g-1_p-4</th>\n      <th>...</th>\n      <th>g-8_p-2</th>\n      <th>g-8_p-3</th>\n      <th>g-8_p-4</th>\n      <th>g-9_p-0</th>\n      <th>g-9_p-1</th>\n      <th>g-9_p-2</th>\n      <th>g-9_p-3</th>\n      <th>g-9_p-4</th>\n      <th>label</th>\n      <th>label_cat</th>\n    </tr>\n    <tr>\n      <th>label_cat</th>\n      <th></th>\n      <th></th>\n      <th></th>\n      <th></th>\n      <th></th>\n      <th></th>\n      <th></th>\n      <th></th>\n      <th></th>\n      <th></th>\n      <th></th>\n      <th></th>\n      <th></th>\n      <th></th>\n      <th></th>\n      <th></th>\n      <th></th>\n      <th></th>\n      <th></th>\n      <th></th>\n      <th></th>\n      <th></th>\n    </tr>\n  </thead>\n  <tbody>\n    <tr>\n      <th rowspan=\"5\" valign=\"top\">10.0</th>\n      <th>441</th>\n      <td>160</td>\n      <td>217</td>\n      <td>281</td>\n      <td>247</td>\n      <td>172</td>\n      <td>374</td>\n      <td>194</td>\n      <td>178</td>\n      <td>292</td>\n      <td>4</td>\n      <td>...</td>\n      <td>30</td>\n      <td>242</td>\n      <td>127</td>\n      <td>36</td>\n      <td>308</td>\n      <td>323</td>\n      <td>284</td>\n      <td>146</td>\n      <td>51.661587</td>\n      <td>10.0</td>\n    </tr>\n    <tr>\n      <th>4083</th>\n      <td>224</td>\n      <td>106</td>\n      <td>120</td>\n      <td>349</td>\n      <td>180</td>\n      <td>245</td>\n      <td>319</td>\n      <td>112</td>\n      <td>282</td>\n      <td>66</td>\n      <td>...</td>\n      <td>105</td>\n      <td>134</td>\n      <td>292</td>\n      <td>149</td>\n      <td>44</td>\n      <td>305</td>\n      <td>221</td>\n      <td>346</td>\n      <td>51.281613</td>\n      <td>10.0</td>\n    </tr>\n    <tr>\n      <th>8442</th>\n      <td>265</td>\n      <td>99</td>\n      <td>215</td>\n      <td>95</td>\n      <td>43</td>\n      <td>362</td>\n      <td>289</td>\n      <td>218</td>\n      <td>1</td>\n      <td>86</td>\n      <td>...</td>\n      <td>346</td>\n      <td>68</td>\n      <td>15</td>\n      <td>295</td>\n      <td>202</td>\n      <td>256</td>\n      <td>327</td>\n      <td>170</td>\n      <td>51.331107</td>\n      <td>10.0</td>\n    </tr>\n    <tr>\n      <th>3276</th>\n      <td>62</td>\n      <td>4</td>\n      <td>288</td>\n      <td>114</td>\n      <td>85</td>\n      <td>148</td>\n      <td>307</td>\n      <td>245</td>\n      <td>225</td>\n      <td>272</td>\n      <td>...</td>\n      <td>287</td>\n      <td>137</td>\n      <td>321</td>\n      <td>279</td>\n      <td>197</td>\n      <td>274</td>\n      <td>153</td>\n      <td>189</td>\n      <td>51.027027</td>\n      <td>10.0</td>\n    </tr>\n    <tr>\n      <th>3295</th>\n      <td>154</td>\n      <td>2</td>\n      <td>207</td>\n      <td>332</td>\n      <td>351</td>\n      <td>122</td>\n      <td>245</td>\n      <td>115</td>\n      <td>201</td>\n      <td>291</td>\n      <td>...</td>\n      <td>359</td>\n      <td>116</td>\n      <td>353</td>\n      <td>238</td>\n      <td>225</td>\n      <td>157</td>\n      <td>341</td>\n      <td>298</td>\n      <td>52.423960</td>\n      <td>10.0</td>\n    </tr>\n    <tr>\n      <th>...</th>\n      <th>...</th>\n      <td>...</td>\n      <td>...</td>\n      <td>...</td>\n      <td>...</td>\n      <td>...</td>\n      <td>...</td>\n      <td>...</td>\n      <td>...</td>\n      <td>...</td>\n      <td>...</td>\n      <td>...</td>\n      <td>...</td>\n      <td>...</td>\n      <td>...</td>\n      <td>...</td>\n      <td>...</td>\n      <td>...</td>\n      <td>...</td>\n      <td>...</td>\n      <td>...</td>\n      <td>...</td>\n    </tr>\n    <tr>\n      <th rowspan=\"4\" valign=\"top\">17.0</th>\n      <th>5691</th>\n      <td>231</td>\n      <td>92</td>\n      <td>3</td>\n      <td>230</td>\n      <td>81</td>\n      <td>191</td>\n      <td>314</td>\n      <td>209</td>\n      <td>124</td>\n      <td>163</td>\n      <td>...</td>\n      <td>250</td>\n      <td>54</td>\n      <td>324</td>\n      <td>27</td>\n      <td>106</td>\n      <td>164</td>\n      <td>107</td>\n      <td>155</td>\n      <td>83.928683</td>\n      <td>17.0</td>\n    </tr>\n    <tr>\n      <th>5103</th>\n      <td>200</td>\n      <td>247</td>\n      <td>181</td>\n      <td>49</td>\n      <td>260</td>\n      <td>342</td>\n      <td>156</td>\n      <td>340</td>\n      <td>227</td>\n      <td>287</td>\n      <td>...</td>\n      <td>186</td>\n      <td>64</td>\n      <td>353</td>\n      <td>51</td>\n      <td>109</td>\n      <td>112</td>\n      <td>84</td>\n      <td>241</td>\n      <td>82.867680</td>\n      <td>17.0</td>\n    </tr>\n    <tr>\n      <th>1733</th>\n      <td>91</td>\n      <td>101</td>\n      <td>360</td>\n      <td>134</td>\n      <td>87</td>\n      <td>188</td>\n      <td>163</td>\n      <td>70</td>\n      <td>26</td>\n      <td>85</td>\n      <td>...</td>\n      <td>109</td>\n      <td>75</td>\n      <td>223</td>\n      <td>22</td>\n      <td>130</td>\n      <td>350</td>\n      <td>61</td>\n      <td>117</td>\n      <td>84.667533</td>\n      <td>17.0</td>\n    </tr>\n    <tr>\n      <th>2424</th>\n      <td>106</td>\n      <td>4</td>\n      <td>199</td>\n      <td>269</td>\n      <td>110</td>\n      <td>98</td>\n      <td>129</td>\n      <td>7</td>\n      <td>203</td>\n      <td>241</td>\n      <td>...</td>\n      <td>163</td>\n      <td>234</td>\n      <td>164</td>\n      <td>71</td>\n      <td>32</td>\n      <td>179</td>\n      <td>231</td>\n      <td>244</td>\n      <td>85.504837</td>\n      <td>17.0</td>\n    </tr>\n    <tr>\n      <th>18.0</th>\n      <th>7641</th>\n      <td>314</td>\n      <td>150</td>\n      <td>39</td>\n      <td>307</td>\n      <td>47</td>\n      <td>114</td>\n      <td>287</td>\n      <td>61</td>\n      <td>112</td>\n      <td>247</td>\n      <td>...</td>\n      <td>260</td>\n      <td>232</td>\n      <td>107</td>\n      <td>127</td>\n      <td>102</td>\n      <td>43</td>\n      <td>188</td>\n      <td>258</td>\n      <td>90.799333</td>\n      <td>18.0</td>\n    </tr>\n  </tbody>\n</table>\n<p>76 rows × 52 columns</p>\n</div>"
     },
     "execution_count": 35,
     "metadata": {},
     "output_type": "execute_result"
    }
   ],
   "source": [
    "downsampled_df = df_downsample.groupby('label_cat').apply(lambda x: x.sample(min(len(x), 10)))\n",
    "downsampled_df"
   ],
   "metadata": {
    "collapsed": false,
    "ExecuteTime": {
     "start_time": "2023-11-08T13:38:12.251057Z",
     "end_time": "2023-11-08T13:38:12.389352Z"
    }
   }
  },
  {
   "cell_type": "code",
   "execution_count": 36,
   "outputs": [
    {
     "data": {
      "text/plain": "count    76.000000\nmean     66.815619\nstd      10.679133\nmin      50.452533\n25%      57.122147\n50%      67.005967\n75%      75.684110\nmax      90.799333\nName: label, dtype: float64"
     },
     "execution_count": 36,
     "metadata": {},
     "output_type": "execute_result"
    }
   ],
   "source": [
    "downsampled_df.label.describe()"
   ],
   "metadata": {
    "collapsed": false,
    "ExecuteTime": {
     "start_time": "2023-11-08T13:38:12.280686Z",
     "end_time": "2023-11-08T13:38:12.393821Z"
    }
   }
  },
  {
   "cell_type": "markdown",
   "source": [
    "# Generate complete dataset"
   ],
   "metadata": {
    "collapsed": false
   }
  },
  {
   "cell_type": "code",
   "execution_count": 37,
   "outputs": [],
   "source": [
    "from itertools import permutations"
   ],
   "metadata": {
    "collapsed": false,
    "ExecuteTime": {
     "start_time": "2023-11-08T13:38:12.296687Z",
     "end_time": "2023-11-08T13:38:12.393821Z"
    }
   }
  },
  {
   "cell_type": "code",
   "execution_count": 38,
   "outputs": [
    {
     "data": {
      "text/plain": "[(0, 1), (0, 2), (1, 0), (1, 2), (2, 0), (2, 1)]"
     },
     "execution_count": 38,
     "metadata": {},
     "output_type": "execute_result"
    }
   ],
   "source": [
    "list(permutations(range(3), 2))"
   ],
   "metadata": {
    "collapsed": false,
    "ExecuteTime": {
     "start_time": "2023-11-08T13:38:12.312886Z",
     "end_time": "2023-11-08T13:38:12.393821Z"
    }
   }
  },
  {
   "cell_type": "code",
   "execution_count": 39,
   "outputs": [],
   "source": [
    "num_gondolas = 10\n",
    "num_part_pg = 5"
   ],
   "metadata": {
    "collapsed": false,
    "ExecuteTime": {
     "start_time": "2023-11-08T13:38:12.328146Z",
     "end_time": "2023-11-08T13:38:12.393821Z"
    }
   }
  },
  {
   "cell_type": "code",
   "execution_count": 40,
   "outputs": [],
   "source": [
    "n_persons = 374"
   ],
   "metadata": {
    "collapsed": false,
    "ExecuteTime": {
     "start_time": "2023-11-08T13:38:12.344175Z",
     "end_time": "2023-11-08T13:38:12.420675Z"
    }
   }
  },
  {
   "cell_type": "code",
   "execution_count": 41,
   "outputs": [],
   "source": [
    "# create all combinations\n",
    "all_perms = permutations(range(1, n_persons + 1), num_gondolas*num_part_pg)"
   ],
   "metadata": {
    "collapsed": false,
    "ExecuteTime": {
     "start_time": "2023-11-08T13:38:12.362257Z",
     "end_time": "2023-11-08T13:38:12.452188Z"
    }
   }
  },
  {
   "cell_type": "markdown",
   "source": [
    "Wait... way too large! this has over 10^89 possibilities - scrap this"
   ],
   "metadata": {
    "collapsed": false
   }
  },
  {
   "cell_type": "markdown",
   "source": [
    "# Generation of testset"
   ],
   "metadata": {
    "collapsed": false
   }
  },
  {
   "cell_type": "code",
   "execution_count": 42,
   "outputs": [],
   "source": [
    "# idea: want to generate elements that are valid permutations and are not in the training set"
   ],
   "metadata": {
    "collapsed": false,
    "ExecuteTime": {
     "start_time": "2023-11-08T13:38:12.375801Z",
     "end_time": "2023-11-08T13:38:12.453687Z"
    }
   }
  },
  {
   "cell_type": "code",
   "execution_count": 43,
   "outputs": [
    {
     "data": {
      "text/plain": "      g-0_p-0  g-0_p-1  g-0_p-2  g-0_p-3  g-0_p-4  g-1_p-0  g-1_p-1  g-1_p-2  \\\n0         264      191       98      235       35      356      253        9   \n1         338      176       95       11      161      248      364       53   \n2         290       99       75       21      237      287      215      213   \n3          15      277       93      106      290      354       60      226   \n4         190      260       34      286      360      167      251      298   \n...       ...      ...      ...      ...      ...      ...      ...      ...   \n9995      127       84      110      152      265       90      318       72   \n9996      286       97      191      288       32      268       41      347   \n9997      372      168      198      199      239      369      323      277   \n9998      154      310      224       59       87      207       97       78   \n9999      351       31      277      304      357       35      111      254   \n\n      g-1_p-3  g-1_p-4  ...  g-8_p-1  g-8_p-2  g-8_p-3  g-8_p-4  g-9_p-0  \\\n0         147      311  ...      315      265       92       23      287   \n1          64       71  ...      181      365       96      187      165   \n2         172      214  ...       76      188      274       77      264   \n3          75      318  ...      243      288       74      131      344   \n4         256       15  ...       48      258      107        5      307   \n...       ...      ...  ...      ...      ...      ...      ...      ...   \n9995      331      237  ...        7      341      126       70      208   \n9996      272      169  ...      178      269      310       79      370   \n9997      174      281  ...      112       75      331      177      163   \n9998      290      241  ...      338      254      183      145       22   \n9999       40       69  ...       71       65      163      296      123   \n\n      g-9_p-1  g-9_p-2  g-9_p-3  g-9_p-4      label  \n0          17      234      223      117  68.011480  \n1          38      114       98       56  55.463373  \n2         117      254      168       65  66.108493  \n3          86      266      218       83  58.642507  \n4         121      162        7       37  62.584213  \n...       ...      ...      ...      ...        ...  \n9995       67      248      291      246  63.678893  \n9996      108      189      340       24  55.686920  \n9997      155        7      188      290  66.045467  \n9998       95      247      158      231  72.811613  \n9999      363      180      148      297  53.813760  \n\n[10000 rows x 51 columns]",
      "text/html": "<div>\n<style scoped>\n    .dataframe tbody tr th:only-of-type {\n        vertical-align: middle;\n    }\n\n    .dataframe tbody tr th {\n        vertical-align: top;\n    }\n\n    .dataframe thead th {\n        text-align: right;\n    }\n</style>\n<table border=\"1\" class=\"dataframe\">\n  <thead>\n    <tr style=\"text-align: right;\">\n      <th></th>\n      <th>g-0_p-0</th>\n      <th>g-0_p-1</th>\n      <th>g-0_p-2</th>\n      <th>g-0_p-3</th>\n      <th>g-0_p-4</th>\n      <th>g-1_p-0</th>\n      <th>g-1_p-1</th>\n      <th>g-1_p-2</th>\n      <th>g-1_p-3</th>\n      <th>g-1_p-4</th>\n      <th>...</th>\n      <th>g-8_p-1</th>\n      <th>g-8_p-2</th>\n      <th>g-8_p-3</th>\n      <th>g-8_p-4</th>\n      <th>g-9_p-0</th>\n      <th>g-9_p-1</th>\n      <th>g-9_p-2</th>\n      <th>g-9_p-3</th>\n      <th>g-9_p-4</th>\n      <th>label</th>\n    </tr>\n  </thead>\n  <tbody>\n    <tr>\n      <th>0</th>\n      <td>264</td>\n      <td>191</td>\n      <td>98</td>\n      <td>235</td>\n      <td>35</td>\n      <td>356</td>\n      <td>253</td>\n      <td>9</td>\n      <td>147</td>\n      <td>311</td>\n      <td>...</td>\n      <td>315</td>\n      <td>265</td>\n      <td>92</td>\n      <td>23</td>\n      <td>287</td>\n      <td>17</td>\n      <td>234</td>\n      <td>223</td>\n      <td>117</td>\n      <td>68.011480</td>\n    </tr>\n    <tr>\n      <th>1</th>\n      <td>338</td>\n      <td>176</td>\n      <td>95</td>\n      <td>11</td>\n      <td>161</td>\n      <td>248</td>\n      <td>364</td>\n      <td>53</td>\n      <td>64</td>\n      <td>71</td>\n      <td>...</td>\n      <td>181</td>\n      <td>365</td>\n      <td>96</td>\n      <td>187</td>\n      <td>165</td>\n      <td>38</td>\n      <td>114</td>\n      <td>98</td>\n      <td>56</td>\n      <td>55.463373</td>\n    </tr>\n    <tr>\n      <th>2</th>\n      <td>290</td>\n      <td>99</td>\n      <td>75</td>\n      <td>21</td>\n      <td>237</td>\n      <td>287</td>\n      <td>215</td>\n      <td>213</td>\n      <td>172</td>\n      <td>214</td>\n      <td>...</td>\n      <td>76</td>\n      <td>188</td>\n      <td>274</td>\n      <td>77</td>\n      <td>264</td>\n      <td>117</td>\n      <td>254</td>\n      <td>168</td>\n      <td>65</td>\n      <td>66.108493</td>\n    </tr>\n    <tr>\n      <th>3</th>\n      <td>15</td>\n      <td>277</td>\n      <td>93</td>\n      <td>106</td>\n      <td>290</td>\n      <td>354</td>\n      <td>60</td>\n      <td>226</td>\n      <td>75</td>\n      <td>318</td>\n      <td>...</td>\n      <td>243</td>\n      <td>288</td>\n      <td>74</td>\n      <td>131</td>\n      <td>344</td>\n      <td>86</td>\n      <td>266</td>\n      <td>218</td>\n      <td>83</td>\n      <td>58.642507</td>\n    </tr>\n    <tr>\n      <th>4</th>\n      <td>190</td>\n      <td>260</td>\n      <td>34</td>\n      <td>286</td>\n      <td>360</td>\n      <td>167</td>\n      <td>251</td>\n      <td>298</td>\n      <td>256</td>\n      <td>15</td>\n      <td>...</td>\n      <td>48</td>\n      <td>258</td>\n      <td>107</td>\n      <td>5</td>\n      <td>307</td>\n      <td>121</td>\n      <td>162</td>\n      <td>7</td>\n      <td>37</td>\n      <td>62.584213</td>\n    </tr>\n    <tr>\n      <th>...</th>\n      <td>...</td>\n      <td>...</td>\n      <td>...</td>\n      <td>...</td>\n      <td>...</td>\n      <td>...</td>\n      <td>...</td>\n      <td>...</td>\n      <td>...</td>\n      <td>...</td>\n      <td>...</td>\n      <td>...</td>\n      <td>...</td>\n      <td>...</td>\n      <td>...</td>\n      <td>...</td>\n      <td>...</td>\n      <td>...</td>\n      <td>...</td>\n      <td>...</td>\n      <td>...</td>\n    </tr>\n    <tr>\n      <th>9995</th>\n      <td>127</td>\n      <td>84</td>\n      <td>110</td>\n      <td>152</td>\n      <td>265</td>\n      <td>90</td>\n      <td>318</td>\n      <td>72</td>\n      <td>331</td>\n      <td>237</td>\n      <td>...</td>\n      <td>7</td>\n      <td>341</td>\n      <td>126</td>\n      <td>70</td>\n      <td>208</td>\n      <td>67</td>\n      <td>248</td>\n      <td>291</td>\n      <td>246</td>\n      <td>63.678893</td>\n    </tr>\n    <tr>\n      <th>9996</th>\n      <td>286</td>\n      <td>97</td>\n      <td>191</td>\n      <td>288</td>\n      <td>32</td>\n      <td>268</td>\n      <td>41</td>\n      <td>347</td>\n      <td>272</td>\n      <td>169</td>\n      <td>...</td>\n      <td>178</td>\n      <td>269</td>\n      <td>310</td>\n      <td>79</td>\n      <td>370</td>\n      <td>108</td>\n      <td>189</td>\n      <td>340</td>\n      <td>24</td>\n      <td>55.686920</td>\n    </tr>\n    <tr>\n      <th>9997</th>\n      <td>372</td>\n      <td>168</td>\n      <td>198</td>\n      <td>199</td>\n      <td>239</td>\n      <td>369</td>\n      <td>323</td>\n      <td>277</td>\n      <td>174</td>\n      <td>281</td>\n      <td>...</td>\n      <td>112</td>\n      <td>75</td>\n      <td>331</td>\n      <td>177</td>\n      <td>163</td>\n      <td>155</td>\n      <td>7</td>\n      <td>188</td>\n      <td>290</td>\n      <td>66.045467</td>\n    </tr>\n    <tr>\n      <th>9998</th>\n      <td>154</td>\n      <td>310</td>\n      <td>224</td>\n      <td>59</td>\n      <td>87</td>\n      <td>207</td>\n      <td>97</td>\n      <td>78</td>\n      <td>290</td>\n      <td>241</td>\n      <td>...</td>\n      <td>338</td>\n      <td>254</td>\n      <td>183</td>\n      <td>145</td>\n      <td>22</td>\n      <td>95</td>\n      <td>247</td>\n      <td>158</td>\n      <td>231</td>\n      <td>72.811613</td>\n    </tr>\n    <tr>\n      <th>9999</th>\n      <td>351</td>\n      <td>31</td>\n      <td>277</td>\n      <td>304</td>\n      <td>357</td>\n      <td>35</td>\n      <td>111</td>\n      <td>254</td>\n      <td>40</td>\n      <td>69</td>\n      <td>...</td>\n      <td>71</td>\n      <td>65</td>\n      <td>163</td>\n      <td>296</td>\n      <td>123</td>\n      <td>363</td>\n      <td>180</td>\n      <td>148</td>\n      <td>297</td>\n      <td>53.813760</td>\n    </tr>\n  </tbody>\n</table>\n<p>10000 rows × 51 columns</p>\n</div>"
     },
     "execution_count": 43,
     "metadata": {},
     "output_type": "execute_result"
    }
   ],
   "source": [
    "df_index"
   ],
   "metadata": {
    "collapsed": false,
    "ExecuteTime": {
     "start_time": "2023-11-08T13:38:12.391352Z",
     "end_time": "2023-11-08T13:38:12.514080Z"
    }
   }
  },
  {
   "cell_type": "code",
   "execution_count": 44,
   "outputs": [
    {
     "name": "stderr",
     "output_type": "stream",
     "text": [
      "100%|██████████| 10/10 [00:00<?, ?it/s]\n"
     ]
    }
   ],
   "source": [
    "df_test = sample_new_permutations(\n",
    "    df_index=df_index,\n",
    "    num_gondolas=num_gondolas,\n",
    "    num_elem=10,\n",
    "    merge_check=True\n",
    ")"
   ],
   "metadata": {
    "collapsed": false,
    "ExecuteTime": {
     "start_time": "2023-11-08T13:38:12.406284Z",
     "end_time": "2023-11-08T13:38:12.574092Z"
    }
   }
  },
  {
   "cell_type": "code",
   "execution_count": 45,
   "outputs": [
    {
     "data": {
      "text/plain": "   g-0_p-0  g-0_p-1  g-0_p-2  g-0_p-3  g-0_p-4  g-1_p-0  g-1_p-1  g-1_p-2  \\\n0      271      133      330       40      368      249      272      315   \n1       35      105      304      184       80      168      247       25   \n2      349      332      209      139      169       68      282       86   \n3      368      200      329      104      242       70      269        4   \n4      133      288       55      307      249      331      341       98   \n5       56      177      279       85       27       79      333       16   \n6      106       56      150      315      240      109      129      300   \n7      115      153      139      105      306      102      370      337   \n8       99      271      150       61       93      141      297      284   \n9      291       75      231       36      314      351      344      250   \n\n   g-1_p-3  g-1_p-4  ...  g-8_p-1  g-8_p-2  g-8_p-3  g-8_p-4  g-9_p-0  \\\n0      346      362  ...      369       32      294      273      313   \n1      234      279  ...      255      365      372      364      147   \n2      238      233  ...       46      268      254      231      364   \n3       94      163  ...      302       27      191      208       83   \n4      147      324  ...      101      308      170      130      241   \n5      118      197  ...       97      190      206      318      238   \n6      154      310  ...      344       39      362      239      340   \n7      182      242  ...       64       14      290      292      239   \n8      240       70  ...      304      149      177        6      143   \n9       38      114  ...      286       13      143      301      303   \n\n   g-9_p-1  g-9_p-2  g-9_p-3  g-9_p-4      label  \n0      145      298      120       49  53.943533  \n1       30      153      289      316  65.757280  \n2      363      176      224      270  65.431160  \n3      170       73      330       63  58.608813  \n4      112      154      340       37  56.869907  \n5      344      252      287        1  64.406267  \n6      185      320      364      207  65.462013  \n7      258       18      183      194  63.058440  \n8      235      294      154       50  60.430600  \n9       60      121        7       61  65.278547  \n\n[10 rows x 51 columns]",
      "text/html": "<div>\n<style scoped>\n    .dataframe tbody tr th:only-of-type {\n        vertical-align: middle;\n    }\n\n    .dataframe tbody tr th {\n        vertical-align: top;\n    }\n\n    .dataframe thead th {\n        text-align: right;\n    }\n</style>\n<table border=\"1\" class=\"dataframe\">\n  <thead>\n    <tr style=\"text-align: right;\">\n      <th></th>\n      <th>g-0_p-0</th>\n      <th>g-0_p-1</th>\n      <th>g-0_p-2</th>\n      <th>g-0_p-3</th>\n      <th>g-0_p-4</th>\n      <th>g-1_p-0</th>\n      <th>g-1_p-1</th>\n      <th>g-1_p-2</th>\n      <th>g-1_p-3</th>\n      <th>g-1_p-4</th>\n      <th>...</th>\n      <th>g-8_p-1</th>\n      <th>g-8_p-2</th>\n      <th>g-8_p-3</th>\n      <th>g-8_p-4</th>\n      <th>g-9_p-0</th>\n      <th>g-9_p-1</th>\n      <th>g-9_p-2</th>\n      <th>g-9_p-3</th>\n      <th>g-9_p-4</th>\n      <th>label</th>\n    </tr>\n  </thead>\n  <tbody>\n    <tr>\n      <th>0</th>\n      <td>271</td>\n      <td>133</td>\n      <td>330</td>\n      <td>40</td>\n      <td>368</td>\n      <td>249</td>\n      <td>272</td>\n      <td>315</td>\n      <td>346</td>\n      <td>362</td>\n      <td>...</td>\n      <td>369</td>\n      <td>32</td>\n      <td>294</td>\n      <td>273</td>\n      <td>313</td>\n      <td>145</td>\n      <td>298</td>\n      <td>120</td>\n      <td>49</td>\n      <td>53.943533</td>\n    </tr>\n    <tr>\n      <th>1</th>\n      <td>35</td>\n      <td>105</td>\n      <td>304</td>\n      <td>184</td>\n      <td>80</td>\n      <td>168</td>\n      <td>247</td>\n      <td>25</td>\n      <td>234</td>\n      <td>279</td>\n      <td>...</td>\n      <td>255</td>\n      <td>365</td>\n      <td>372</td>\n      <td>364</td>\n      <td>147</td>\n      <td>30</td>\n      <td>153</td>\n      <td>289</td>\n      <td>316</td>\n      <td>65.757280</td>\n    </tr>\n    <tr>\n      <th>2</th>\n      <td>349</td>\n      <td>332</td>\n      <td>209</td>\n      <td>139</td>\n      <td>169</td>\n      <td>68</td>\n      <td>282</td>\n      <td>86</td>\n      <td>238</td>\n      <td>233</td>\n      <td>...</td>\n      <td>46</td>\n      <td>268</td>\n      <td>254</td>\n      <td>231</td>\n      <td>364</td>\n      <td>363</td>\n      <td>176</td>\n      <td>224</td>\n      <td>270</td>\n      <td>65.431160</td>\n    </tr>\n    <tr>\n      <th>3</th>\n      <td>368</td>\n      <td>200</td>\n      <td>329</td>\n      <td>104</td>\n      <td>242</td>\n      <td>70</td>\n      <td>269</td>\n      <td>4</td>\n      <td>94</td>\n      <td>163</td>\n      <td>...</td>\n      <td>302</td>\n      <td>27</td>\n      <td>191</td>\n      <td>208</td>\n      <td>83</td>\n      <td>170</td>\n      <td>73</td>\n      <td>330</td>\n      <td>63</td>\n      <td>58.608813</td>\n    </tr>\n    <tr>\n      <th>4</th>\n      <td>133</td>\n      <td>288</td>\n      <td>55</td>\n      <td>307</td>\n      <td>249</td>\n      <td>331</td>\n      <td>341</td>\n      <td>98</td>\n      <td>147</td>\n      <td>324</td>\n      <td>...</td>\n      <td>101</td>\n      <td>308</td>\n      <td>170</td>\n      <td>130</td>\n      <td>241</td>\n      <td>112</td>\n      <td>154</td>\n      <td>340</td>\n      <td>37</td>\n      <td>56.869907</td>\n    </tr>\n    <tr>\n      <th>5</th>\n      <td>56</td>\n      <td>177</td>\n      <td>279</td>\n      <td>85</td>\n      <td>27</td>\n      <td>79</td>\n      <td>333</td>\n      <td>16</td>\n      <td>118</td>\n      <td>197</td>\n      <td>...</td>\n      <td>97</td>\n      <td>190</td>\n      <td>206</td>\n      <td>318</td>\n      <td>238</td>\n      <td>344</td>\n      <td>252</td>\n      <td>287</td>\n      <td>1</td>\n      <td>64.406267</td>\n    </tr>\n    <tr>\n      <th>6</th>\n      <td>106</td>\n      <td>56</td>\n      <td>150</td>\n      <td>315</td>\n      <td>240</td>\n      <td>109</td>\n      <td>129</td>\n      <td>300</td>\n      <td>154</td>\n      <td>310</td>\n      <td>...</td>\n      <td>344</td>\n      <td>39</td>\n      <td>362</td>\n      <td>239</td>\n      <td>340</td>\n      <td>185</td>\n      <td>320</td>\n      <td>364</td>\n      <td>207</td>\n      <td>65.462013</td>\n    </tr>\n    <tr>\n      <th>7</th>\n      <td>115</td>\n      <td>153</td>\n      <td>139</td>\n      <td>105</td>\n      <td>306</td>\n      <td>102</td>\n      <td>370</td>\n      <td>337</td>\n      <td>182</td>\n      <td>242</td>\n      <td>...</td>\n      <td>64</td>\n      <td>14</td>\n      <td>290</td>\n      <td>292</td>\n      <td>239</td>\n      <td>258</td>\n      <td>18</td>\n      <td>183</td>\n      <td>194</td>\n      <td>63.058440</td>\n    </tr>\n    <tr>\n      <th>8</th>\n      <td>99</td>\n      <td>271</td>\n      <td>150</td>\n      <td>61</td>\n      <td>93</td>\n      <td>141</td>\n      <td>297</td>\n      <td>284</td>\n      <td>240</td>\n      <td>70</td>\n      <td>...</td>\n      <td>304</td>\n      <td>149</td>\n      <td>177</td>\n      <td>6</td>\n      <td>143</td>\n      <td>235</td>\n      <td>294</td>\n      <td>154</td>\n      <td>50</td>\n      <td>60.430600</td>\n    </tr>\n    <tr>\n      <th>9</th>\n      <td>291</td>\n      <td>75</td>\n      <td>231</td>\n      <td>36</td>\n      <td>314</td>\n      <td>351</td>\n      <td>344</td>\n      <td>250</td>\n      <td>38</td>\n      <td>114</td>\n      <td>...</td>\n      <td>286</td>\n      <td>13</td>\n      <td>143</td>\n      <td>301</td>\n      <td>303</td>\n      <td>60</td>\n      <td>121</td>\n      <td>7</td>\n      <td>61</td>\n      <td>65.278547</td>\n    </tr>\n  </tbody>\n</table>\n<p>10 rows × 51 columns</p>\n</div>"
     },
     "execution_count": 45,
     "metadata": {},
     "output_type": "execute_result"
    }
   ],
   "source": [
    "df_test"
   ],
   "metadata": {
    "collapsed": false,
    "ExecuteTime": {
     "start_time": "2023-11-08T13:38:12.500599Z",
     "end_time": "2023-11-08T13:38:12.574092Z"
    }
   }
  },
  {
   "cell_type": "code",
   "execution_count": 46,
   "outputs": [
    {
     "data": {
      "text/plain": "      g-0_p-0  g-0_p-1  g-0_p-2  g-0_p-3  g-0_p-4  g-1_p-0  g-1_p-1  g-1_p-2  \\\n9990      106       45      228      126      234      246       89      105   \n9991      324       53      301      257       20       48      316       73   \n9992      284      346      238      179       80       22      190      123   \n9993      123      261      272      361       15        8      346       89   \n9994      146       13       58      171       90        4       24       31   \n9995      127       84      110      152      265       90      318       72   \n9996      286       97      191      288       32      268       41      347   \n9997      372      168      198      199      239      369      323      277   \n9998      154      310      224       59       87      207       97       78   \n9999      351       31      277      304      357       35      111      254   \n\n      g-1_p-3  g-1_p-4  ...  g-8_p-1  g-8_p-2  g-8_p-3  g-8_p-4  g-9_p-0  \\\n9990      243      344  ...      130       87      167      310      217   \n9991      319      184  ...      138      195      237       11        7   \n9992       17      242  ...       71      265      347      186      191   \n9993      281      242  ...       99      371       32      144       55   \n9994      187      185  ...       86      205      244      196      222   \n9995      331      237  ...        7      341      126       70      208   \n9996      272      169  ...      178      269      310       79      370   \n9997      174      281  ...      112       75      331      177      163   \n9998      290      241  ...      338      254      183      145       22   \n9999       40       69  ...       71       65      163      296      123   \n\n      g-9_p-1  g-9_p-2  g-9_p-3  g-9_p-4      label  \n9990      146       21       54      317  61.771467  \n9991      291      221      249      272  62.655867  \n9992       37       78      234      320  64.899493  \n9993      178       60       17      319  57.060120  \n9994       29      295      199      137  59.295680  \n9995       67      248      291      246  63.678893  \n9996      108      189      340       24  55.686920  \n9997      155        7      188      290  66.045467  \n9998       95      247      158      231  72.811613  \n9999      363      180      148      297  53.813760  \n\n[10 rows x 51 columns]",
      "text/html": "<div>\n<style scoped>\n    .dataframe tbody tr th:only-of-type {\n        vertical-align: middle;\n    }\n\n    .dataframe tbody tr th {\n        vertical-align: top;\n    }\n\n    .dataframe thead th {\n        text-align: right;\n    }\n</style>\n<table border=\"1\" class=\"dataframe\">\n  <thead>\n    <tr style=\"text-align: right;\">\n      <th></th>\n      <th>g-0_p-0</th>\n      <th>g-0_p-1</th>\n      <th>g-0_p-2</th>\n      <th>g-0_p-3</th>\n      <th>g-0_p-4</th>\n      <th>g-1_p-0</th>\n      <th>g-1_p-1</th>\n      <th>g-1_p-2</th>\n      <th>g-1_p-3</th>\n      <th>g-1_p-4</th>\n      <th>...</th>\n      <th>g-8_p-1</th>\n      <th>g-8_p-2</th>\n      <th>g-8_p-3</th>\n      <th>g-8_p-4</th>\n      <th>g-9_p-0</th>\n      <th>g-9_p-1</th>\n      <th>g-9_p-2</th>\n      <th>g-9_p-3</th>\n      <th>g-9_p-4</th>\n      <th>label</th>\n    </tr>\n  </thead>\n  <tbody>\n    <tr>\n      <th>9990</th>\n      <td>106</td>\n      <td>45</td>\n      <td>228</td>\n      <td>126</td>\n      <td>234</td>\n      <td>246</td>\n      <td>89</td>\n      <td>105</td>\n      <td>243</td>\n      <td>344</td>\n      <td>...</td>\n      <td>130</td>\n      <td>87</td>\n      <td>167</td>\n      <td>310</td>\n      <td>217</td>\n      <td>146</td>\n      <td>21</td>\n      <td>54</td>\n      <td>317</td>\n      <td>61.771467</td>\n    </tr>\n    <tr>\n      <th>9991</th>\n      <td>324</td>\n      <td>53</td>\n      <td>301</td>\n      <td>257</td>\n      <td>20</td>\n      <td>48</td>\n      <td>316</td>\n      <td>73</td>\n      <td>319</td>\n      <td>184</td>\n      <td>...</td>\n      <td>138</td>\n      <td>195</td>\n      <td>237</td>\n      <td>11</td>\n      <td>7</td>\n      <td>291</td>\n      <td>221</td>\n      <td>249</td>\n      <td>272</td>\n      <td>62.655867</td>\n    </tr>\n    <tr>\n      <th>9992</th>\n      <td>284</td>\n      <td>346</td>\n      <td>238</td>\n      <td>179</td>\n      <td>80</td>\n      <td>22</td>\n      <td>190</td>\n      <td>123</td>\n      <td>17</td>\n      <td>242</td>\n      <td>...</td>\n      <td>71</td>\n      <td>265</td>\n      <td>347</td>\n      <td>186</td>\n      <td>191</td>\n      <td>37</td>\n      <td>78</td>\n      <td>234</td>\n      <td>320</td>\n      <td>64.899493</td>\n    </tr>\n    <tr>\n      <th>9993</th>\n      <td>123</td>\n      <td>261</td>\n      <td>272</td>\n      <td>361</td>\n      <td>15</td>\n      <td>8</td>\n      <td>346</td>\n      <td>89</td>\n      <td>281</td>\n      <td>242</td>\n      <td>...</td>\n      <td>99</td>\n      <td>371</td>\n      <td>32</td>\n      <td>144</td>\n      <td>55</td>\n      <td>178</td>\n      <td>60</td>\n      <td>17</td>\n      <td>319</td>\n      <td>57.060120</td>\n    </tr>\n    <tr>\n      <th>9994</th>\n      <td>146</td>\n      <td>13</td>\n      <td>58</td>\n      <td>171</td>\n      <td>90</td>\n      <td>4</td>\n      <td>24</td>\n      <td>31</td>\n      <td>187</td>\n      <td>185</td>\n      <td>...</td>\n      <td>86</td>\n      <td>205</td>\n      <td>244</td>\n      <td>196</td>\n      <td>222</td>\n      <td>29</td>\n      <td>295</td>\n      <td>199</td>\n      <td>137</td>\n      <td>59.295680</td>\n    </tr>\n    <tr>\n      <th>9995</th>\n      <td>127</td>\n      <td>84</td>\n      <td>110</td>\n      <td>152</td>\n      <td>265</td>\n      <td>90</td>\n      <td>318</td>\n      <td>72</td>\n      <td>331</td>\n      <td>237</td>\n      <td>...</td>\n      <td>7</td>\n      <td>341</td>\n      <td>126</td>\n      <td>70</td>\n      <td>208</td>\n      <td>67</td>\n      <td>248</td>\n      <td>291</td>\n      <td>246</td>\n      <td>63.678893</td>\n    </tr>\n    <tr>\n      <th>9996</th>\n      <td>286</td>\n      <td>97</td>\n      <td>191</td>\n      <td>288</td>\n      <td>32</td>\n      <td>268</td>\n      <td>41</td>\n      <td>347</td>\n      <td>272</td>\n      <td>169</td>\n      <td>...</td>\n      <td>178</td>\n      <td>269</td>\n      <td>310</td>\n      <td>79</td>\n      <td>370</td>\n      <td>108</td>\n      <td>189</td>\n      <td>340</td>\n      <td>24</td>\n      <td>55.686920</td>\n    </tr>\n    <tr>\n      <th>9997</th>\n      <td>372</td>\n      <td>168</td>\n      <td>198</td>\n      <td>199</td>\n      <td>239</td>\n      <td>369</td>\n      <td>323</td>\n      <td>277</td>\n      <td>174</td>\n      <td>281</td>\n      <td>...</td>\n      <td>112</td>\n      <td>75</td>\n      <td>331</td>\n      <td>177</td>\n      <td>163</td>\n      <td>155</td>\n      <td>7</td>\n      <td>188</td>\n      <td>290</td>\n      <td>66.045467</td>\n    </tr>\n    <tr>\n      <th>9998</th>\n      <td>154</td>\n      <td>310</td>\n      <td>224</td>\n      <td>59</td>\n      <td>87</td>\n      <td>207</td>\n      <td>97</td>\n      <td>78</td>\n      <td>290</td>\n      <td>241</td>\n      <td>...</td>\n      <td>338</td>\n      <td>254</td>\n      <td>183</td>\n      <td>145</td>\n      <td>22</td>\n      <td>95</td>\n      <td>247</td>\n      <td>158</td>\n      <td>231</td>\n      <td>72.811613</td>\n    </tr>\n    <tr>\n      <th>9999</th>\n      <td>351</td>\n      <td>31</td>\n      <td>277</td>\n      <td>304</td>\n      <td>357</td>\n      <td>35</td>\n      <td>111</td>\n      <td>254</td>\n      <td>40</td>\n      <td>69</td>\n      <td>...</td>\n      <td>71</td>\n      <td>65</td>\n      <td>163</td>\n      <td>296</td>\n      <td>123</td>\n      <td>363</td>\n      <td>180</td>\n      <td>148</td>\n      <td>297</td>\n      <td>53.813760</td>\n    </tr>\n  </tbody>\n</table>\n<p>10 rows × 51 columns</p>\n</div>"
     },
     "execution_count": 46,
     "metadata": {},
     "output_type": "execute_result"
    }
   ],
   "source": [
    "df_test2 = df_index.iloc[-10:]\n",
    "df_test2"
   ],
   "metadata": {
    "collapsed": false,
    "ExecuteTime": {
     "start_time": "2023-11-08T13:38:12.516082Z",
     "end_time": "2023-11-08T13:38:12.574092Z"
    }
   }
  },
  {
   "cell_type": "code",
   "execution_count": 47,
   "outputs": [],
   "source": [
    "merged = df_test2.merge(df_index, how='left', indicator=True)"
   ],
   "metadata": {
    "collapsed": false,
    "ExecuteTime": {
     "start_time": "2023-11-08T13:38:12.532150Z",
     "end_time": "2023-11-08T13:38:12.593089Z"
    }
   }
  },
  {
   "cell_type": "code",
   "execution_count": 48,
   "outputs": [
    {
     "data": {
      "text/plain": "   g-0_p-0  g-0_p-1  g-0_p-2  g-0_p-3  g-0_p-4  g-1_p-0  g-1_p-1  g-1_p-2  \\\n0      106       45      228      126      234      246       89      105   \n1      324       53      301      257       20       48      316       73   \n2      284      346      238      179       80       22      190      123   \n3      123      261      272      361       15        8      346       89   \n4      146       13       58      171       90        4       24       31   \n5      127       84      110      152      265       90      318       72   \n6      286       97      191      288       32      268       41      347   \n7      372      168      198      199      239      369      323      277   \n8      154      310      224       59       87      207       97       78   \n9      351       31      277      304      357       35      111      254   \n\n   g-1_p-3  g-1_p-4  ...  g-8_p-2  g-8_p-3  g-8_p-4  g-9_p-0  g-9_p-1  \\\n0      243      344  ...       87      167      310      217      146   \n1      319      184  ...      195      237       11        7      291   \n2       17      242  ...      265      347      186      191       37   \n3      281      242  ...      371       32      144       55      178   \n4      187      185  ...      205      244      196      222       29   \n5      331      237  ...      341      126       70      208       67   \n6      272      169  ...      269      310       79      370      108   \n7      174      281  ...       75      331      177      163      155   \n8      290      241  ...      254      183      145       22       95   \n9       40       69  ...       65      163      296      123      363   \n\n   g-9_p-2  g-9_p-3  g-9_p-4      label  _merge  \n0       21       54      317  61.771467    both  \n1      221      249      272  62.655867    both  \n2       78      234      320  64.899493    both  \n3       60       17      319  57.060120    both  \n4      295      199      137  59.295680    both  \n5      248      291      246  63.678893    both  \n6      189      340       24  55.686920    both  \n7        7      188      290  66.045467    both  \n8      247      158      231  72.811613    both  \n9      180      148      297  53.813760    both  \n\n[10 rows x 52 columns]",
      "text/html": "<div>\n<style scoped>\n    .dataframe tbody tr th:only-of-type {\n        vertical-align: middle;\n    }\n\n    .dataframe tbody tr th {\n        vertical-align: top;\n    }\n\n    .dataframe thead th {\n        text-align: right;\n    }\n</style>\n<table border=\"1\" class=\"dataframe\">\n  <thead>\n    <tr style=\"text-align: right;\">\n      <th></th>\n      <th>g-0_p-0</th>\n      <th>g-0_p-1</th>\n      <th>g-0_p-2</th>\n      <th>g-0_p-3</th>\n      <th>g-0_p-4</th>\n      <th>g-1_p-0</th>\n      <th>g-1_p-1</th>\n      <th>g-1_p-2</th>\n      <th>g-1_p-3</th>\n      <th>g-1_p-4</th>\n      <th>...</th>\n      <th>g-8_p-2</th>\n      <th>g-8_p-3</th>\n      <th>g-8_p-4</th>\n      <th>g-9_p-0</th>\n      <th>g-9_p-1</th>\n      <th>g-9_p-2</th>\n      <th>g-9_p-3</th>\n      <th>g-9_p-4</th>\n      <th>label</th>\n      <th>_merge</th>\n    </tr>\n  </thead>\n  <tbody>\n    <tr>\n      <th>0</th>\n      <td>106</td>\n      <td>45</td>\n      <td>228</td>\n      <td>126</td>\n      <td>234</td>\n      <td>246</td>\n      <td>89</td>\n      <td>105</td>\n      <td>243</td>\n      <td>344</td>\n      <td>...</td>\n      <td>87</td>\n      <td>167</td>\n      <td>310</td>\n      <td>217</td>\n      <td>146</td>\n      <td>21</td>\n      <td>54</td>\n      <td>317</td>\n      <td>61.771467</td>\n      <td>both</td>\n    </tr>\n    <tr>\n      <th>1</th>\n      <td>324</td>\n      <td>53</td>\n      <td>301</td>\n      <td>257</td>\n      <td>20</td>\n      <td>48</td>\n      <td>316</td>\n      <td>73</td>\n      <td>319</td>\n      <td>184</td>\n      <td>...</td>\n      <td>195</td>\n      <td>237</td>\n      <td>11</td>\n      <td>7</td>\n      <td>291</td>\n      <td>221</td>\n      <td>249</td>\n      <td>272</td>\n      <td>62.655867</td>\n      <td>both</td>\n    </tr>\n    <tr>\n      <th>2</th>\n      <td>284</td>\n      <td>346</td>\n      <td>238</td>\n      <td>179</td>\n      <td>80</td>\n      <td>22</td>\n      <td>190</td>\n      <td>123</td>\n      <td>17</td>\n      <td>242</td>\n      <td>...</td>\n      <td>265</td>\n      <td>347</td>\n      <td>186</td>\n      <td>191</td>\n      <td>37</td>\n      <td>78</td>\n      <td>234</td>\n      <td>320</td>\n      <td>64.899493</td>\n      <td>both</td>\n    </tr>\n    <tr>\n      <th>3</th>\n      <td>123</td>\n      <td>261</td>\n      <td>272</td>\n      <td>361</td>\n      <td>15</td>\n      <td>8</td>\n      <td>346</td>\n      <td>89</td>\n      <td>281</td>\n      <td>242</td>\n      <td>...</td>\n      <td>371</td>\n      <td>32</td>\n      <td>144</td>\n      <td>55</td>\n      <td>178</td>\n      <td>60</td>\n      <td>17</td>\n      <td>319</td>\n      <td>57.060120</td>\n      <td>both</td>\n    </tr>\n    <tr>\n      <th>4</th>\n      <td>146</td>\n      <td>13</td>\n      <td>58</td>\n      <td>171</td>\n      <td>90</td>\n      <td>4</td>\n      <td>24</td>\n      <td>31</td>\n      <td>187</td>\n      <td>185</td>\n      <td>...</td>\n      <td>205</td>\n      <td>244</td>\n      <td>196</td>\n      <td>222</td>\n      <td>29</td>\n      <td>295</td>\n      <td>199</td>\n      <td>137</td>\n      <td>59.295680</td>\n      <td>both</td>\n    </tr>\n    <tr>\n      <th>5</th>\n      <td>127</td>\n      <td>84</td>\n      <td>110</td>\n      <td>152</td>\n      <td>265</td>\n      <td>90</td>\n      <td>318</td>\n      <td>72</td>\n      <td>331</td>\n      <td>237</td>\n      <td>...</td>\n      <td>341</td>\n      <td>126</td>\n      <td>70</td>\n      <td>208</td>\n      <td>67</td>\n      <td>248</td>\n      <td>291</td>\n      <td>246</td>\n      <td>63.678893</td>\n      <td>both</td>\n    </tr>\n    <tr>\n      <th>6</th>\n      <td>286</td>\n      <td>97</td>\n      <td>191</td>\n      <td>288</td>\n      <td>32</td>\n      <td>268</td>\n      <td>41</td>\n      <td>347</td>\n      <td>272</td>\n      <td>169</td>\n      <td>...</td>\n      <td>269</td>\n      <td>310</td>\n      <td>79</td>\n      <td>370</td>\n      <td>108</td>\n      <td>189</td>\n      <td>340</td>\n      <td>24</td>\n      <td>55.686920</td>\n      <td>both</td>\n    </tr>\n    <tr>\n      <th>7</th>\n      <td>372</td>\n      <td>168</td>\n      <td>198</td>\n      <td>199</td>\n      <td>239</td>\n      <td>369</td>\n      <td>323</td>\n      <td>277</td>\n      <td>174</td>\n      <td>281</td>\n      <td>...</td>\n      <td>75</td>\n      <td>331</td>\n      <td>177</td>\n      <td>163</td>\n      <td>155</td>\n      <td>7</td>\n      <td>188</td>\n      <td>290</td>\n      <td>66.045467</td>\n      <td>both</td>\n    </tr>\n    <tr>\n      <th>8</th>\n      <td>154</td>\n      <td>310</td>\n      <td>224</td>\n      <td>59</td>\n      <td>87</td>\n      <td>207</td>\n      <td>97</td>\n      <td>78</td>\n      <td>290</td>\n      <td>241</td>\n      <td>...</td>\n      <td>254</td>\n      <td>183</td>\n      <td>145</td>\n      <td>22</td>\n      <td>95</td>\n      <td>247</td>\n      <td>158</td>\n      <td>231</td>\n      <td>72.811613</td>\n      <td>both</td>\n    </tr>\n    <tr>\n      <th>9</th>\n      <td>351</td>\n      <td>31</td>\n      <td>277</td>\n      <td>304</td>\n      <td>357</td>\n      <td>35</td>\n      <td>111</td>\n      <td>254</td>\n      <td>40</td>\n      <td>69</td>\n      <td>...</td>\n      <td>65</td>\n      <td>163</td>\n      <td>296</td>\n      <td>123</td>\n      <td>363</td>\n      <td>180</td>\n      <td>148</td>\n      <td>297</td>\n      <td>53.813760</td>\n      <td>both</td>\n    </tr>\n  </tbody>\n</table>\n<p>10 rows × 52 columns</p>\n</div>"
     },
     "execution_count": 48,
     "metadata": {},
     "output_type": "execute_result"
    }
   ],
   "source": [
    "merged"
   ],
   "metadata": {
    "collapsed": false,
    "ExecuteTime": {
     "start_time": "2023-11-08T13:38:12.563092Z",
     "end_time": "2023-11-08T13:38:12.631760Z"
    }
   }
  },
  {
   "cell_type": "code",
   "execution_count": 49,
   "outputs": [
    {
     "data": {
      "text/plain": "10"
     },
     "execution_count": 49,
     "metadata": {},
     "output_type": "execute_result"
    }
   ],
   "source": [
    "sum(merged['_merge'] == 'both')"
   ],
   "metadata": {
    "collapsed": false,
    "ExecuteTime": {
     "start_time": "2023-11-08T13:38:12.579092Z",
     "end_time": "2023-11-08T13:38:12.634760Z"
    }
   }
  },
  {
   "cell_type": "code",
   "execution_count": 50,
   "outputs": [
    {
     "data": {
      "text/plain": "0    both\n1    both\n2    both\n3    both\n4    both\n5    both\n6    both\n7    both\n8    both\n9    both\nName: _merge, dtype: category\nCategories (3, object): ['left_only', 'right_only', 'both']"
     },
     "execution_count": 50,
     "metadata": {},
     "output_type": "execute_result"
    }
   ],
   "source": [
    "merged._merge"
   ],
   "metadata": {
    "collapsed": false,
    "ExecuteTime": {
     "start_time": "2023-11-08T13:38:12.595092Z",
     "end_time": "2023-11-08T13:38:12.677762Z"
    }
   }
  },
  {
   "cell_type": "code",
   "execution_count": 50,
   "outputs": [],
   "source": [],
   "metadata": {
    "collapsed": false,
    "ExecuteTime": {
     "start_time": "2023-11-08T13:38:12.610622Z",
     "end_time": "2023-11-08T13:38:12.677762Z"
    }
   }
  },
  {
   "cell_type": "code",
   "execution_count": 50,
   "outputs": [],
   "source": [],
   "metadata": {
    "collapsed": false,
    "ExecuteTime": {
     "start_time": "2023-11-08T13:38:12.624763Z",
     "end_time": "2023-11-08T13:38:12.725141Z"
    }
   }
  }
 ],
 "metadata": {
  "kernelspec": {
   "display_name": "Python 3",
   "language": "python",
   "name": "python3"
  },
  "language_info": {
   "codemirror_mode": {
    "name": "ipython",
    "version": 2
   },
   "file_extension": ".py",
   "mimetype": "text/x-python",
   "name": "python",
   "nbconvert_exporter": "python",
   "pygments_lexer": "ipython2",
   "version": "2.7.6"
  }
 },
 "nbformat": 4,
 "nbformat_minor": 0
}
