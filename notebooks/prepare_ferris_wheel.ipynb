{
 "cells": [
  {
   "cell_type": "markdown",
   "source": [
    "# Preparation of Dataset (development notebook)"
   ],
   "metadata": {
    "collapsed": false
   }
  },
  {
   "cell_type": "markdown",
   "source": [
    "## Import section"
   ],
   "metadata": {
    "collapsed": false
   }
  },
  {
   "cell_type": "code",
   "execution_count": 1,
   "outputs": [],
   "source": [
    "import numpy as np\n",
    "from etnn.data.prepare_ferris_wheel import prepare_1_ferris, generate_ferris_dataset\n",
    "from etnn.data.ferris_score_helpers import build_wheel_happyness\n",
    "from etnn.data.ferris_wheel import load_ferris_wheel_dataset\n",
    "import torch\n",
    "from torch.utils.data import random_split, DataLoader"
   ],
   "metadata": {
    "collapsed": false,
    "ExecuteTime": {
     "start_time": "2023-10-28T12:03:35.584965Z",
     "end_time": "2023-10-28T12:03:38.878933Z"
    }
   }
  },
  {
   "cell_type": "code",
   "execution_count": null,
   "outputs": [],
   "source": [
    "DATASET_PATH = \"../datasets\""
   ],
   "metadata": {
    "collapsed": false
   }
  },
  {
   "cell_type": "markdown",
   "source": [
    "## Person dataset"
   ],
   "metadata": {
    "collapsed": false
   }
  },
  {
   "cell_type": "code",
   "execution_count": 2,
   "outputs": [],
   "source": [
    "df_health = prepare_1_ferris(\n",
    "    dataset_path=\"../datasets\",\n",
    "    df_name_output=\"health_dataset_preprocessed-1.csv\",\n",
    "    df_name_input=\"Sleep_health_and_lifestyle_dataset.csv\",\n",
    "    try_pregen=True\n",
    ")"
   ],
   "metadata": {
    "collapsed": false,
    "ExecuteTime": {
     "start_time": "2023-10-28T12:03:56.353890Z",
     "end_time": "2023-10-28T12:03:56.387163Z"
    }
   }
  },
  {
   "cell_type": "code",
   "execution_count": 3,
   "outputs": [
    {
     "data": {
      "text/plain": "   id  age  occupation  sleep_duration  sleep_quality  physical_activity  \\\n0   1   27           1             6.1              6                 42   \n1   2   28           2             6.2              6                 60   \n2   3   28           2             6.2              6                 60   \n3   4   28           3             5.9              4                 30   \n4   5   28           3             5.9              4                 30   \n\n   stress_level  bmi  heart_rate  daily_steps  sleep_disorder  \\\n0             6    2          77         4200               0   \n1             8    0          75        10000               0   \n2             8    0          75        10000               0   \n3             8    3          85         3000               1   \n4             8    3          85         3000               1   \n\n   blood_pressure1  blood_pressure2  gender_male  gender_female  gender_other  \n0              126               83         True          False         False  \n1              125               80         True          False         False  \n2              125               80         True          False         False  \n3              140               90         True          False         False  \n4              140               90         True          False         False  ",
      "text/html": "<div>\n<style scoped>\n    .dataframe tbody tr th:only-of-type {\n        vertical-align: middle;\n    }\n\n    .dataframe tbody tr th {\n        vertical-align: top;\n    }\n\n    .dataframe thead th {\n        text-align: right;\n    }\n</style>\n<table border=\"1\" class=\"dataframe\">\n  <thead>\n    <tr style=\"text-align: right;\">\n      <th></th>\n      <th>id</th>\n      <th>age</th>\n      <th>occupation</th>\n      <th>sleep_duration</th>\n      <th>sleep_quality</th>\n      <th>physical_activity</th>\n      <th>stress_level</th>\n      <th>bmi</th>\n      <th>heart_rate</th>\n      <th>daily_steps</th>\n      <th>sleep_disorder</th>\n      <th>blood_pressure1</th>\n      <th>blood_pressure2</th>\n      <th>gender_male</th>\n      <th>gender_female</th>\n      <th>gender_other</th>\n    </tr>\n  </thead>\n  <tbody>\n    <tr>\n      <th>0</th>\n      <td>1</td>\n      <td>27</td>\n      <td>1</td>\n      <td>6.1</td>\n      <td>6</td>\n      <td>42</td>\n      <td>6</td>\n      <td>2</td>\n      <td>77</td>\n      <td>4200</td>\n      <td>0</td>\n      <td>126</td>\n      <td>83</td>\n      <td>True</td>\n      <td>False</td>\n      <td>False</td>\n    </tr>\n    <tr>\n      <th>1</th>\n      <td>2</td>\n      <td>28</td>\n      <td>2</td>\n      <td>6.2</td>\n      <td>6</td>\n      <td>60</td>\n      <td>8</td>\n      <td>0</td>\n      <td>75</td>\n      <td>10000</td>\n      <td>0</td>\n      <td>125</td>\n      <td>80</td>\n      <td>True</td>\n      <td>False</td>\n      <td>False</td>\n    </tr>\n    <tr>\n      <th>2</th>\n      <td>3</td>\n      <td>28</td>\n      <td>2</td>\n      <td>6.2</td>\n      <td>6</td>\n      <td>60</td>\n      <td>8</td>\n      <td>0</td>\n      <td>75</td>\n      <td>10000</td>\n      <td>0</td>\n      <td>125</td>\n      <td>80</td>\n      <td>True</td>\n      <td>False</td>\n      <td>False</td>\n    </tr>\n    <tr>\n      <th>3</th>\n      <td>4</td>\n      <td>28</td>\n      <td>3</td>\n      <td>5.9</td>\n      <td>4</td>\n      <td>30</td>\n      <td>8</td>\n      <td>3</td>\n      <td>85</td>\n      <td>3000</td>\n      <td>1</td>\n      <td>140</td>\n      <td>90</td>\n      <td>True</td>\n      <td>False</td>\n      <td>False</td>\n    </tr>\n    <tr>\n      <th>4</th>\n      <td>5</td>\n      <td>28</td>\n      <td>3</td>\n      <td>5.9</td>\n      <td>4</td>\n      <td>30</td>\n      <td>8</td>\n      <td>3</td>\n      <td>85</td>\n      <td>3000</td>\n      <td>1</td>\n      <td>140</td>\n      <td>90</td>\n      <td>True</td>\n      <td>False</td>\n      <td>False</td>\n    </tr>\n  </tbody>\n</table>\n</div>"
     },
     "execution_count": 3,
     "metadata": {},
     "output_type": "execute_result"
    }
   ],
   "source": [
    "df_health.head()"
   ],
   "metadata": {
    "collapsed": false,
    "ExecuteTime": {
     "start_time": "2023-10-28T12:03:57.422666Z",
     "end_time": "2023-10-28T12:03:57.461003Z"
    }
   }
  },
  {
   "cell_type": "markdown",
   "source": [
    "## Gondola dataset (indexing)"
   ],
   "metadata": {
    "collapsed": false
   }
  },
  {
   "cell_type": "code",
   "execution_count": 4,
   "outputs": [],
   "source": [
    "# take group of ids from persons and state how the label for this group shall be calculated"
   ],
   "metadata": {
    "collapsed": false,
    "ExecuteTime": {
     "start_time": "2023-10-28T12:03:58.654230Z",
     "end_time": "2023-10-28T12:03:58.669227Z"
    }
   }
  },
  {
   "cell_type": "code",
   "execution_count": 5,
   "outputs": [],
   "source": [
    "# define ferris wheel\n",
    "num_gondolas = 10\n",
    "num_part_pg = 5"
   ],
   "metadata": {
    "collapsed": false,
    "ExecuteTime": {
     "start_time": "2023-10-28T12:03:59.917401Z",
     "end_time": "2023-10-28T12:03:59.936400Z"
    }
   }
  },
  {
   "cell_type": "code",
   "execution_count": 6,
   "outputs": [],
   "source": [
    "# generate sample element\n",
    "random_order = np.arange(len(df_health)) + 1\n",
    "np.random.shuffle(random_order)"
   ],
   "metadata": {
    "collapsed": false,
    "ExecuteTime": {
     "start_time": "2023-10-28T12:04:00.338980Z",
     "end_time": "2023-10-28T12:04:00.353979Z"
    }
   }
  },
  {
   "cell_type": "code",
   "execution_count": 7,
   "outputs": [],
   "source": [
    "example = [\n",
    "    random_order[i*num_part_pg:(i+1)*num_part_pg]\n",
    "    for i in range(num_gondolas)\n",
    "]"
   ],
   "metadata": {
    "collapsed": false,
    "ExecuteTime": {
     "start_time": "2023-10-28T12:04:00.725618Z",
     "end_time": "2023-10-28T12:04:00.735618Z"
    }
   }
  },
  {
   "cell_type": "code",
   "execution_count": 8,
   "outputs": [
    {
     "data": {
      "text/plain": "[array([165, 372, 147, 146, 191]),\n array([ 63, 308, 168, 104, 318]),\n array([ 58,  78,  90, 357,  64]),\n array([254, 329, 169, 197, 102]),\n array([109,  38, 304, 131,  79]),\n array([234, 203,  74,  53, 298]),\n array([236,  94,  40, 311, 264]),\n array([ 13, 253,  25, 150, 110]),\n array([238, 115, 229, 242, 285]),\n array([ 33, 276, 291, 359, 108])]"
     },
     "execution_count": 8,
     "metadata": {},
     "output_type": "execute_result"
    }
   ],
   "source": [
    "example"
   ],
   "metadata": {
    "collapsed": false,
    "ExecuteTime": {
     "start_time": "2023-10-28T12:04:01.301391Z",
     "end_time": "2023-10-28T12:04:01.326390Z"
    }
   }
  },
  {
   "cell_type": "code",
   "execution_count": 9,
   "outputs": [
    {
     "data": {
      "text/plain": "array([[165, 372, 147, 146, 191],\n       [ 63, 308, 168, 104, 318],\n       [ 58,  78,  90, 357,  64],\n       [254, 329, 169, 197, 102],\n       [109,  38, 304, 131,  79],\n       [234, 203,  74,  53, 298],\n       [236,  94,  40, 311, 264],\n       [ 13, 253,  25, 150, 110],\n       [238, 115, 229, 242, 285],\n       [ 33, 276, 291, 359, 108]])"
     },
     "execution_count": 9,
     "metadata": {},
     "output_type": "execute_result"
    }
   ],
   "source": [
    "random_order[:num_gondolas*num_part_pg].reshape(num_gondolas, num_part_pg)"
   ],
   "metadata": {
    "collapsed": false,
    "ExecuteTime": {
     "start_time": "2023-10-28T12:04:02.004169Z",
     "end_time": "2023-10-28T12:04:02.022220Z"
    }
   }
  },
  {
   "cell_type": "markdown",
   "source": [
    "Rules:\n",
    "- People being happy with other people in same gondola\n",
    "    + Age composition too seperated is bad\n",
    "    + shift in gender is bad if too much, 50-50 is good or all one gender\n",
    "    + same with age composition\n",
    "    + sleep derived(multiplier with quality) persons get a subtraction and 'good sleepers' get bonus (sleep disorder counts as stronger subtraction)\n",
    "    + higher heart rate and pressure = joy or fear\n",
    "    + composition of persons in regards to bmi : extreme values make others (no exception for group all those as to many underweight or overweight persons may be awquard as well)\n",
    "- People being happy with neighboring gondolas composition\n",
    "    + same age gets bonus, none gets penalty as potentially group is separated\n",
    "    + gap between happyness index between self and neighbors causes it to produce a mean of only the neighbors"
   ],
   "metadata": {
    "collapsed": false
   }
  },
  {
   "cell_type": "code",
   "execution_count": 10,
   "outputs": [
    {
     "data": {
      "text/plain": "60.47609333333334"
     },
     "execution_count": 10,
     "metadata": {},
     "output_type": "execute_result"
    }
   ],
   "source": [
    "build_wheel_happyness(df_health, example)"
   ],
   "metadata": {
    "collapsed": false,
    "ExecuteTime": {
     "start_time": "2023-10-28T12:04:04.204095Z",
     "end_time": "2023-10-28T12:04:04.236962Z"
    }
   }
  },
  {
   "cell_type": "code",
   "execution_count": 11,
   "outputs": [
    {
     "data": {
      "text/plain": "60.47609333333334"
     },
     "execution_count": 11,
     "metadata": {},
     "output_type": "execute_result"
    }
   ],
   "source": [
    "build_wheel_happyness(df_health, random_order[:num_gondolas * num_part_pg].reshape(num_gondolas, num_part_pg))"
   ],
   "metadata": {
    "collapsed": false,
    "ExecuteTime": {
     "start_time": "2023-10-28T12:04:04.642989Z",
     "end_time": "2023-10-28T12:04:04.675998Z"
    }
   }
  },
  {
   "cell_type": "code",
   "execution_count": 12,
   "outputs": [],
   "source": [
    "# define dataset size\n",
    "num_to_generate = 10_000\n",
    "# define ferris wheel\n",
    "num_gondolas = 10\n",
    "num_part_pg = 5"
   ],
   "metadata": {
    "collapsed": false,
    "ExecuteTime": {
     "start_time": "2023-10-28T12:04:05.735155Z",
     "end_time": "2023-10-28T12:04:05.744153Z"
    }
   }
  },
  {
   "cell_type": "code",
   "execution_count": 13,
   "outputs": [],
   "source": [
    "df_index, df_health = generate_ferris_dataset(\n",
    "    num_gondolas=num_gondolas,\n",
    "    num_part_pg=num_part_pg,\n",
    "    num_to_generate=num_to_generate,\n",
    "    dataset_path=\"../datasets\",\n",
    "    df_intermediate_output_name=\"health_dataset_preprocessed-1.csv\",\n",
    "    df_name_input=\"Sleep_health_and_lifestyle_dataset.csv\",\n",
    "    try_pregen=True\n",
    ")"
   ],
   "metadata": {
    "collapsed": false,
    "ExecuteTime": {
     "start_time": "2023-10-28T12:04:12.719456Z",
     "end_time": "2023-10-28T12:04:12.756984Z"
    }
   }
  },
  {
   "cell_type": "code",
   "execution_count": 14,
   "outputs": [
    {
     "data": {
      "text/plain": "   g-0_p-0  g-0_p-1  g-0_p-2  g-0_p-3  g-0_p-4  g-1_p-0  g-1_p-1  g-1_p-2  \\\n0      264      191       98      235       35      356      253        9   \n1      338      176       95       11      161      248      364       53   \n2      290       99       75       21      237      287      215      213   \n3       15      277       93      106      290      354       60      226   \n4      190      260       34      286      360      167      251      298   \n\n   g-1_p-3  g-1_p-4  ...  g-8_p-1  g-8_p-2  g-8_p-3  g-8_p-4  g-9_p-0  \\\n0      147      311  ...      315      265       92       23      287   \n1       64       71  ...      181      365       96      187      165   \n2      172      214  ...       76      188      274       77      264   \n3       75      318  ...      243      288       74      131      344   \n4      256       15  ...       48      258      107        5      307   \n\n   g-9_p-1  g-9_p-2  g-9_p-3  g-9_p-4      label  \n0       17      234      223      117  68.011480  \n1       38      114       98       56  55.463373  \n2      117      254      168       65  66.108493  \n3       86      266      218       83  58.642507  \n4      121      162        7       37  62.584213  \n\n[5 rows x 51 columns]",
      "text/html": "<div>\n<style scoped>\n    .dataframe tbody tr th:only-of-type {\n        vertical-align: middle;\n    }\n\n    .dataframe tbody tr th {\n        vertical-align: top;\n    }\n\n    .dataframe thead th {\n        text-align: right;\n    }\n</style>\n<table border=\"1\" class=\"dataframe\">\n  <thead>\n    <tr style=\"text-align: right;\">\n      <th></th>\n      <th>g-0_p-0</th>\n      <th>g-0_p-1</th>\n      <th>g-0_p-2</th>\n      <th>g-0_p-3</th>\n      <th>g-0_p-4</th>\n      <th>g-1_p-0</th>\n      <th>g-1_p-1</th>\n      <th>g-1_p-2</th>\n      <th>g-1_p-3</th>\n      <th>g-1_p-4</th>\n      <th>...</th>\n      <th>g-8_p-1</th>\n      <th>g-8_p-2</th>\n      <th>g-8_p-3</th>\n      <th>g-8_p-4</th>\n      <th>g-9_p-0</th>\n      <th>g-9_p-1</th>\n      <th>g-9_p-2</th>\n      <th>g-9_p-3</th>\n      <th>g-9_p-4</th>\n      <th>label</th>\n    </tr>\n  </thead>\n  <tbody>\n    <tr>\n      <th>0</th>\n      <td>264</td>\n      <td>191</td>\n      <td>98</td>\n      <td>235</td>\n      <td>35</td>\n      <td>356</td>\n      <td>253</td>\n      <td>9</td>\n      <td>147</td>\n      <td>311</td>\n      <td>...</td>\n      <td>315</td>\n      <td>265</td>\n      <td>92</td>\n      <td>23</td>\n      <td>287</td>\n      <td>17</td>\n      <td>234</td>\n      <td>223</td>\n      <td>117</td>\n      <td>68.011480</td>\n    </tr>\n    <tr>\n      <th>1</th>\n      <td>338</td>\n      <td>176</td>\n      <td>95</td>\n      <td>11</td>\n      <td>161</td>\n      <td>248</td>\n      <td>364</td>\n      <td>53</td>\n      <td>64</td>\n      <td>71</td>\n      <td>...</td>\n      <td>181</td>\n      <td>365</td>\n      <td>96</td>\n      <td>187</td>\n      <td>165</td>\n      <td>38</td>\n      <td>114</td>\n      <td>98</td>\n      <td>56</td>\n      <td>55.463373</td>\n    </tr>\n    <tr>\n      <th>2</th>\n      <td>290</td>\n      <td>99</td>\n      <td>75</td>\n      <td>21</td>\n      <td>237</td>\n      <td>287</td>\n      <td>215</td>\n      <td>213</td>\n      <td>172</td>\n      <td>214</td>\n      <td>...</td>\n      <td>76</td>\n      <td>188</td>\n      <td>274</td>\n      <td>77</td>\n      <td>264</td>\n      <td>117</td>\n      <td>254</td>\n      <td>168</td>\n      <td>65</td>\n      <td>66.108493</td>\n    </tr>\n    <tr>\n      <th>3</th>\n      <td>15</td>\n      <td>277</td>\n      <td>93</td>\n      <td>106</td>\n      <td>290</td>\n      <td>354</td>\n      <td>60</td>\n      <td>226</td>\n      <td>75</td>\n      <td>318</td>\n      <td>...</td>\n      <td>243</td>\n      <td>288</td>\n      <td>74</td>\n      <td>131</td>\n      <td>344</td>\n      <td>86</td>\n      <td>266</td>\n      <td>218</td>\n      <td>83</td>\n      <td>58.642507</td>\n    </tr>\n    <tr>\n      <th>4</th>\n      <td>190</td>\n      <td>260</td>\n      <td>34</td>\n      <td>286</td>\n      <td>360</td>\n      <td>167</td>\n      <td>251</td>\n      <td>298</td>\n      <td>256</td>\n      <td>15</td>\n      <td>...</td>\n      <td>48</td>\n      <td>258</td>\n      <td>107</td>\n      <td>5</td>\n      <td>307</td>\n      <td>121</td>\n      <td>162</td>\n      <td>7</td>\n      <td>37</td>\n      <td>62.584213</td>\n    </tr>\n  </tbody>\n</table>\n<p>5 rows × 51 columns</p>\n</div>"
     },
     "execution_count": 14,
     "metadata": {},
     "output_type": "execute_result"
    }
   ],
   "source": [
    "df_index.head()"
   ],
   "metadata": {
    "collapsed": false,
    "ExecuteTime": {
     "start_time": "2023-10-28T12:04:14.674229Z",
     "end_time": "2023-10-28T12:04:14.709263Z"
    }
   }
  },
  {
   "cell_type": "code",
   "execution_count": 15,
   "outputs": [
    {
     "data": {
      "text/plain": "   id  age  occupation  sleep_duration  sleep_quality  physical_activity  \\\n0   1   27           1             6.1              6                 42   \n1   2   28           2             6.2              6                 60   \n2   3   28           2             6.2              6                 60   \n3   4   28           3             5.9              4                 30   \n4   5   28           3             5.9              4                 30   \n\n   stress_level  bmi  heart_rate  daily_steps  sleep_disorder  \\\n0             6    2          77         4200               0   \n1             8    0          75        10000               0   \n2             8    0          75        10000               0   \n3             8    3          85         3000               1   \n4             8    3          85         3000               1   \n\n   blood_pressure1  blood_pressure2  gender_male  gender_female  gender_other  \n0              126               83         True          False         False  \n1              125               80         True          False         False  \n2              125               80         True          False         False  \n3              140               90         True          False         False  \n4              140               90         True          False         False  ",
      "text/html": "<div>\n<style scoped>\n    .dataframe tbody tr th:only-of-type {\n        vertical-align: middle;\n    }\n\n    .dataframe tbody tr th {\n        vertical-align: top;\n    }\n\n    .dataframe thead th {\n        text-align: right;\n    }\n</style>\n<table border=\"1\" class=\"dataframe\">\n  <thead>\n    <tr style=\"text-align: right;\">\n      <th></th>\n      <th>id</th>\n      <th>age</th>\n      <th>occupation</th>\n      <th>sleep_duration</th>\n      <th>sleep_quality</th>\n      <th>physical_activity</th>\n      <th>stress_level</th>\n      <th>bmi</th>\n      <th>heart_rate</th>\n      <th>daily_steps</th>\n      <th>sleep_disorder</th>\n      <th>blood_pressure1</th>\n      <th>blood_pressure2</th>\n      <th>gender_male</th>\n      <th>gender_female</th>\n      <th>gender_other</th>\n    </tr>\n  </thead>\n  <tbody>\n    <tr>\n      <th>0</th>\n      <td>1</td>\n      <td>27</td>\n      <td>1</td>\n      <td>6.1</td>\n      <td>6</td>\n      <td>42</td>\n      <td>6</td>\n      <td>2</td>\n      <td>77</td>\n      <td>4200</td>\n      <td>0</td>\n      <td>126</td>\n      <td>83</td>\n      <td>True</td>\n      <td>False</td>\n      <td>False</td>\n    </tr>\n    <tr>\n      <th>1</th>\n      <td>2</td>\n      <td>28</td>\n      <td>2</td>\n      <td>6.2</td>\n      <td>6</td>\n      <td>60</td>\n      <td>8</td>\n      <td>0</td>\n      <td>75</td>\n      <td>10000</td>\n      <td>0</td>\n      <td>125</td>\n      <td>80</td>\n      <td>True</td>\n      <td>False</td>\n      <td>False</td>\n    </tr>\n    <tr>\n      <th>2</th>\n      <td>3</td>\n      <td>28</td>\n      <td>2</td>\n      <td>6.2</td>\n      <td>6</td>\n      <td>60</td>\n      <td>8</td>\n      <td>0</td>\n      <td>75</td>\n      <td>10000</td>\n      <td>0</td>\n      <td>125</td>\n      <td>80</td>\n      <td>True</td>\n      <td>False</td>\n      <td>False</td>\n    </tr>\n    <tr>\n      <th>3</th>\n      <td>4</td>\n      <td>28</td>\n      <td>3</td>\n      <td>5.9</td>\n      <td>4</td>\n      <td>30</td>\n      <td>8</td>\n      <td>3</td>\n      <td>85</td>\n      <td>3000</td>\n      <td>1</td>\n      <td>140</td>\n      <td>90</td>\n      <td>True</td>\n      <td>False</td>\n      <td>False</td>\n    </tr>\n    <tr>\n      <th>4</th>\n      <td>5</td>\n      <td>28</td>\n      <td>3</td>\n      <td>5.9</td>\n      <td>4</td>\n      <td>30</td>\n      <td>8</td>\n      <td>3</td>\n      <td>85</td>\n      <td>3000</td>\n      <td>1</td>\n      <td>140</td>\n      <td>90</td>\n      <td>True</td>\n      <td>False</td>\n      <td>False</td>\n    </tr>\n  </tbody>\n</table>\n</div>"
     },
     "execution_count": 15,
     "metadata": {},
     "output_type": "execute_result"
    }
   ],
   "source": [
    "df_health.head()"
   ],
   "metadata": {
    "collapsed": false,
    "ExecuteTime": {
     "start_time": "2023-10-28T12:04:17.180623Z",
     "end_time": "2023-10-28T12:04:17.217892Z"
    }
   }
  },
  {
   "cell_type": "code",
   "execution_count": 16,
   "outputs": [
    {
     "data": {
      "text/plain": "      g-0_p-0  g-0_p-1  g-0_p-2  g-0_p-3  g-0_p-4  g-1_p-0  g-1_p-1  g-1_p-2  \\\n0         264      191       98      235       35      356      253        9   \n1         338      176       95       11      161      248      364       53   \n2         290       99       75       21      237      287      215      213   \n3          15      277       93      106      290      354       60      226   \n4         190      260       34      286      360      167      251      298   \n...       ...      ...      ...      ...      ...      ...      ...      ...   \n9995      127       84      110      152      265       90      318       72   \n9996      286       97      191      288       32      268       41      347   \n9997      372      168      198      199      239      369      323      277   \n9998      154      310      224       59       87      207       97       78   \n9999      351       31      277      304      357       35      111      254   \n\n      g-1_p-3  g-1_p-4  ...  g-8_p-0  g-8_p-1  g-8_p-2  g-8_p-3  g-8_p-4  \\\n0         147      311  ...      299      315      265       92       23   \n1          64       71  ...      100      181      365       96      187   \n2         172      214  ...      122       76      188      274       77   \n3          75      318  ...      235      243      288       74      131   \n4         256       15  ...       28       48      258      107        5   \n...       ...      ...  ...      ...      ...      ...      ...      ...   \n9995      331      237  ...      346        7      341      126       70   \n9996      272      169  ...      194      178      269      310       79   \n9997      174      281  ...      191      112       75      331      177   \n9998      290      241  ...       12      338      254      183      145   \n9999       40       69  ...       16       71       65      163      296   \n\n      g-9_p-0  g-9_p-1  g-9_p-2  g-9_p-3  g-9_p-4  \n0         287       17      234      223      117  \n1         165       38      114       98       56  \n2         264      117      254      168       65  \n3         344       86      266      218       83  \n4         307      121      162        7       37  \n...       ...      ...      ...      ...      ...  \n9995      208       67      248      291      246  \n9996      370      108      189      340       24  \n9997      163      155        7      188      290  \n9998       22       95      247      158      231  \n9999      123      363      180      148      297  \n\n[10000 rows x 50 columns]",
      "text/html": "<div>\n<style scoped>\n    .dataframe tbody tr th:only-of-type {\n        vertical-align: middle;\n    }\n\n    .dataframe tbody tr th {\n        vertical-align: top;\n    }\n\n    .dataframe thead th {\n        text-align: right;\n    }\n</style>\n<table border=\"1\" class=\"dataframe\">\n  <thead>\n    <tr style=\"text-align: right;\">\n      <th></th>\n      <th>g-0_p-0</th>\n      <th>g-0_p-1</th>\n      <th>g-0_p-2</th>\n      <th>g-0_p-3</th>\n      <th>g-0_p-4</th>\n      <th>g-1_p-0</th>\n      <th>g-1_p-1</th>\n      <th>g-1_p-2</th>\n      <th>g-1_p-3</th>\n      <th>g-1_p-4</th>\n      <th>...</th>\n      <th>g-8_p-0</th>\n      <th>g-8_p-1</th>\n      <th>g-8_p-2</th>\n      <th>g-8_p-3</th>\n      <th>g-8_p-4</th>\n      <th>g-9_p-0</th>\n      <th>g-9_p-1</th>\n      <th>g-9_p-2</th>\n      <th>g-9_p-3</th>\n      <th>g-9_p-4</th>\n    </tr>\n  </thead>\n  <tbody>\n    <tr>\n      <th>0</th>\n      <td>264</td>\n      <td>191</td>\n      <td>98</td>\n      <td>235</td>\n      <td>35</td>\n      <td>356</td>\n      <td>253</td>\n      <td>9</td>\n      <td>147</td>\n      <td>311</td>\n      <td>...</td>\n      <td>299</td>\n      <td>315</td>\n      <td>265</td>\n      <td>92</td>\n      <td>23</td>\n      <td>287</td>\n      <td>17</td>\n      <td>234</td>\n      <td>223</td>\n      <td>117</td>\n    </tr>\n    <tr>\n      <th>1</th>\n      <td>338</td>\n      <td>176</td>\n      <td>95</td>\n      <td>11</td>\n      <td>161</td>\n      <td>248</td>\n      <td>364</td>\n      <td>53</td>\n      <td>64</td>\n      <td>71</td>\n      <td>...</td>\n      <td>100</td>\n      <td>181</td>\n      <td>365</td>\n      <td>96</td>\n      <td>187</td>\n      <td>165</td>\n      <td>38</td>\n      <td>114</td>\n      <td>98</td>\n      <td>56</td>\n    </tr>\n    <tr>\n      <th>2</th>\n      <td>290</td>\n      <td>99</td>\n      <td>75</td>\n      <td>21</td>\n      <td>237</td>\n      <td>287</td>\n      <td>215</td>\n      <td>213</td>\n      <td>172</td>\n      <td>214</td>\n      <td>...</td>\n      <td>122</td>\n      <td>76</td>\n      <td>188</td>\n      <td>274</td>\n      <td>77</td>\n      <td>264</td>\n      <td>117</td>\n      <td>254</td>\n      <td>168</td>\n      <td>65</td>\n    </tr>\n    <tr>\n      <th>3</th>\n      <td>15</td>\n      <td>277</td>\n      <td>93</td>\n      <td>106</td>\n      <td>290</td>\n      <td>354</td>\n      <td>60</td>\n      <td>226</td>\n      <td>75</td>\n      <td>318</td>\n      <td>...</td>\n      <td>235</td>\n      <td>243</td>\n      <td>288</td>\n      <td>74</td>\n      <td>131</td>\n      <td>344</td>\n      <td>86</td>\n      <td>266</td>\n      <td>218</td>\n      <td>83</td>\n    </tr>\n    <tr>\n      <th>4</th>\n      <td>190</td>\n      <td>260</td>\n      <td>34</td>\n      <td>286</td>\n      <td>360</td>\n      <td>167</td>\n      <td>251</td>\n      <td>298</td>\n      <td>256</td>\n      <td>15</td>\n      <td>...</td>\n      <td>28</td>\n      <td>48</td>\n      <td>258</td>\n      <td>107</td>\n      <td>5</td>\n      <td>307</td>\n      <td>121</td>\n      <td>162</td>\n      <td>7</td>\n      <td>37</td>\n    </tr>\n    <tr>\n      <th>...</th>\n      <td>...</td>\n      <td>...</td>\n      <td>...</td>\n      <td>...</td>\n      <td>...</td>\n      <td>...</td>\n      <td>...</td>\n      <td>...</td>\n      <td>...</td>\n      <td>...</td>\n      <td>...</td>\n      <td>...</td>\n      <td>...</td>\n      <td>...</td>\n      <td>...</td>\n      <td>...</td>\n      <td>...</td>\n      <td>...</td>\n      <td>...</td>\n      <td>...</td>\n      <td>...</td>\n    </tr>\n    <tr>\n      <th>9995</th>\n      <td>127</td>\n      <td>84</td>\n      <td>110</td>\n      <td>152</td>\n      <td>265</td>\n      <td>90</td>\n      <td>318</td>\n      <td>72</td>\n      <td>331</td>\n      <td>237</td>\n      <td>...</td>\n      <td>346</td>\n      <td>7</td>\n      <td>341</td>\n      <td>126</td>\n      <td>70</td>\n      <td>208</td>\n      <td>67</td>\n      <td>248</td>\n      <td>291</td>\n      <td>246</td>\n    </tr>\n    <tr>\n      <th>9996</th>\n      <td>286</td>\n      <td>97</td>\n      <td>191</td>\n      <td>288</td>\n      <td>32</td>\n      <td>268</td>\n      <td>41</td>\n      <td>347</td>\n      <td>272</td>\n      <td>169</td>\n      <td>...</td>\n      <td>194</td>\n      <td>178</td>\n      <td>269</td>\n      <td>310</td>\n      <td>79</td>\n      <td>370</td>\n      <td>108</td>\n      <td>189</td>\n      <td>340</td>\n      <td>24</td>\n    </tr>\n    <tr>\n      <th>9997</th>\n      <td>372</td>\n      <td>168</td>\n      <td>198</td>\n      <td>199</td>\n      <td>239</td>\n      <td>369</td>\n      <td>323</td>\n      <td>277</td>\n      <td>174</td>\n      <td>281</td>\n      <td>...</td>\n      <td>191</td>\n      <td>112</td>\n      <td>75</td>\n      <td>331</td>\n      <td>177</td>\n      <td>163</td>\n      <td>155</td>\n      <td>7</td>\n      <td>188</td>\n      <td>290</td>\n    </tr>\n    <tr>\n      <th>9998</th>\n      <td>154</td>\n      <td>310</td>\n      <td>224</td>\n      <td>59</td>\n      <td>87</td>\n      <td>207</td>\n      <td>97</td>\n      <td>78</td>\n      <td>290</td>\n      <td>241</td>\n      <td>...</td>\n      <td>12</td>\n      <td>338</td>\n      <td>254</td>\n      <td>183</td>\n      <td>145</td>\n      <td>22</td>\n      <td>95</td>\n      <td>247</td>\n      <td>158</td>\n      <td>231</td>\n    </tr>\n    <tr>\n      <th>9999</th>\n      <td>351</td>\n      <td>31</td>\n      <td>277</td>\n      <td>304</td>\n      <td>357</td>\n      <td>35</td>\n      <td>111</td>\n      <td>254</td>\n      <td>40</td>\n      <td>69</td>\n      <td>...</td>\n      <td>16</td>\n      <td>71</td>\n      <td>65</td>\n      <td>163</td>\n      <td>296</td>\n      <td>123</td>\n      <td>363</td>\n      <td>180</td>\n      <td>148</td>\n      <td>297</td>\n    </tr>\n  </tbody>\n</table>\n<p>10000 rows × 50 columns</p>\n</div>"
     },
     "execution_count": 16,
     "metadata": {},
     "output_type": "execute_result"
    }
   ],
   "source": [
    "df_index.iloc[:, :-1]"
   ],
   "metadata": {
    "collapsed": false,
    "ExecuteTime": {
     "start_time": "2023-10-28T12:04:18.798665Z",
     "end_time": "2023-10-28T12:04:18.815662Z"
    }
   }
  },
  {
   "cell_type": "markdown",
   "source": [
    "## Total dataset creation"
   ],
   "metadata": {
    "collapsed": false
   }
  },
  {
   "cell_type": "code",
   "execution_count": 17,
   "outputs": [],
   "source": [
    "dataset = load_ferris_wheel_dataset(\n",
    "    num_gondolas=num_gondolas,\n",
    "    num_part_pg=num_part_pg,\n",
    "    num_to_generate=num_to_generate,\n",
    "    dataset_path=\"../datasets\",\n",
    "    df_intermediate_output_name=\"health_dataset_preprocessed-1.csv\",\n",
    "    df_name_input=\"Sleep_health_and_lifestyle_dataset.csv\",\n",
    "    try_pregen=True\n",
    ")"
   ],
   "metadata": {
    "collapsed": false,
    "ExecuteTime": {
     "start_time": "2023-10-28T12:04:24.759462Z",
     "end_time": "2023-10-28T12:04:24.812778Z"
    }
   }
  },
  {
   "cell_type": "code",
   "execution_count": 18,
   "outputs": [
    {
     "data": {
      "text/plain": "(tensor([[4.5000e+01, 1.1000e+01, 6.9000e+00, 7.0000e+00, 5.5000e+01, 5.0000e+00,\n          2.0000e+00, 7.5000e+01, 5.5000e+03, 0.0000e+00, 1.2500e+02, 8.2000e+01,\n          0.0000e+00, 1.0000e+00, 0.0000e+00],\n         [4.3000e+01, 4.0000e+00, 6.7000e+00, 7.0000e+00, 4.5000e+01, 4.0000e+00,\n          2.0000e+00, 6.5000e+01, 6.0000e+03, 2.0000e+00, 1.3500e+02, 9.0000e+01,\n          0.0000e+00, 1.0000e+00, 0.0000e+00],\n         [3.6000e+01, 7.0000e+00, 7.1000e+00, 8.0000e+00, 6.0000e+01, 4.0000e+00,\n          0.0000e+00, 6.8000e+01, 7.0000e+03, 0.0000e+00, 1.1500e+02, 7.5000e+01,\n          0.0000e+00, 1.0000e+00, 0.0000e+00],\n         [4.4000e+01, 4.0000e+00, 6.6000e+00, 7.0000e+00, 4.5000e+01, 4.0000e+00,\n          2.0000e+00, 6.5000e+01, 6.0000e+03, 2.0000e+00, 1.3500e+02, 9.0000e+01,\n          0.0000e+00, 1.0000e+00, 0.0000e+00],\n         [3.1000e+01, 2.0000e+00, 7.7000e+00, 7.0000e+00, 7.5000e+01, 6.0000e+00,\n          0.0000e+00, 7.0000e+01, 8.0000e+03, 0.0000e+00, 1.2000e+02, 8.0000e+01,\n          1.0000e+00, 0.0000e+00, 0.0000e+00],\n         [5.8000e+01, 5.0000e+00, 8.0000e+00, 9.0000e+00, 7.5000e+01, 3.0000e+00,\n          2.0000e+00, 6.8000e+01, 7.0000e+03, 1.0000e+00, 1.4000e+02, 9.5000e+01,\n          0.0000e+00, 1.0000e+00, 0.0000e+00],\n         [4.5000e+01, 4.0000e+00, 6.5000e+00, 7.0000e+00, 4.5000e+01, 4.0000e+00,\n          2.0000e+00, 6.5000e+01, 6.0000e+03, 2.0000e+00, 1.3500e+02, 9.0000e+01,\n          0.0000e+00, 1.0000e+00, 0.0000e+00],\n         [2.9000e+01, 2.0000e+00, 7.8000e+00, 7.0000e+00, 7.5000e+01, 6.0000e+00,\n          0.0000e+00, 7.0000e+01, 8.0000e+03, 0.0000e+00, 1.2000e+02, 8.0000e+01,\n          1.0000e+00, 0.0000e+00, 0.0000e+00],\n         [3.9000e+01, 9.0000e+00, 7.2000e+00, 8.0000e+00, 6.0000e+01, 5.0000e+00,\n          0.0000e+00, 6.8000e+01, 8.0000e+03, 2.0000e+00, 1.3000e+02, 8.5000e+01,\n          1.0000e+00, 0.0000e+00, 0.0000e+00],\n         [5.2000e+01, 7.0000e+00, 6.6000e+00, 7.0000e+00, 4.5000e+01, 7.0000e+00,\n          2.0000e+00, 7.2000e+01, 6.0000e+03, 2.0000e+00, 1.3000e+02, 8.5000e+01,\n          0.0000e+00, 1.0000e+00, 0.0000e+00],\n         [4.9000e+01, 2.0000e+00, 8.1000e+00, 9.0000e+00, 8.5000e+01, 3.0000e+00,\n          3.0000e+00, 8.6000e+01, 3.7000e+03, 1.0000e+00, 1.3900e+02, 9.1000e+01,\n          1.0000e+00, 0.0000e+00, 0.0000e+00],\n         [4.4000e+01, 4.0000e+00, 6.6000e+00, 7.0000e+00, 4.5000e+01, 4.0000e+00,\n          2.0000e+00, 6.5000e+01, 6.0000e+03, 2.0000e+00, 1.3500e+02, 9.0000e+01,\n          0.0000e+00, 1.0000e+00, 0.0000e+00],\n         [4.1000e+01, 9.0000e+00, 7.1000e+00, 7.0000e+00, 5.5000e+01, 6.0000e+00,\n          2.0000e+00, 7.2000e+01, 6.0000e+03, 0.0000e+00, 1.2500e+02, 8.2000e+01,\n          1.0000e+00, 0.0000e+00, 0.0000e+00],\n         [5.3000e+01, 6.0000e+00, 8.4000e+00, 9.0000e+00, 3.0000e+01, 3.0000e+00,\n          0.0000e+00, 6.5000e+01, 5.0000e+03, 0.0000e+00, 1.2500e+02, 8.0000e+01,\n          0.0000e+00, 1.0000e+00, 0.0000e+00],\n         [5.1000e+01, 5.0000e+00, 6.1000e+00, 6.0000e+00, 9.0000e+01, 8.0000e+00,\n          2.0000e+00, 7.5000e+01, 1.0000e+04, 1.0000e+00, 1.4000e+02, 9.5000e+01,\n          0.0000e+00, 1.0000e+00, 0.0000e+00],\n         [3.3000e+01, 2.0000e+00, 6.1000e+00, 6.0000e+00, 3.0000e+01, 8.0000e+00,\n          0.0000e+00, 7.2000e+01, 5.0000e+03, 0.0000e+00, 1.2500e+02, 8.0000e+01,\n          1.0000e+00, 0.0000e+00, 0.0000e+00],\n         [5.4000e+01, 6.0000e+00, 8.4000e+00, 9.0000e+00, 3.0000e+01, 3.0000e+00,\n          0.0000e+00, 6.5000e+01, 5.0000e+03, 0.0000e+00, 1.2500e+02, 8.0000e+01,\n          0.0000e+00, 1.0000e+00, 0.0000e+00],\n         [3.7000e+01, 5.0000e+00, 7.5000e+00, 8.0000e+00, 6.0000e+01, 4.0000e+00,\n          1.0000e+00, 7.0000e+01, 8.0000e+03, 0.0000e+00, 1.2000e+02, 8.0000e+01,\n          0.0000e+00, 1.0000e+00, 0.0000e+00],\n         [3.1000e+01, 2.0000e+00, 7.8000e+00, 7.0000e+00, 7.5000e+01, 6.0000e+00,\n          0.0000e+00, 7.0000e+01, 8.0000e+03, 0.0000e+00, 1.2000e+02, 8.0000e+01,\n          1.0000e+00, 0.0000e+00, 0.0000e+00],\n         [3.1000e+01, 2.0000e+00, 7.7000e+00, 7.0000e+00, 7.5000e+01, 6.0000e+00,\n          0.0000e+00, 7.0000e+01, 8.0000e+03, 0.0000e+00, 1.2000e+02, 8.0000e+01,\n          1.0000e+00, 0.0000e+00, 0.0000e+00],\n         [4.4000e+01, 1.0000e+01, 6.3000e+00, 6.0000e+00, 4.5000e+01, 7.0000e+00,\n          2.0000e+00, 7.2000e+01, 6.0000e+03, 2.0000e+00, 1.3000e+02, 8.5000e+01,\n          1.0000e+00, 0.0000e+00, 0.0000e+00],\n         [3.6000e+01, 4.0000e+00, 7.2000e+00, 8.0000e+00, 6.0000e+01, 4.0000e+00,\n          0.0000e+00, 6.8000e+01, 7.0000e+03, 0.0000e+00, 1.1500e+02, 7.5000e+01,\n          0.0000e+00, 1.0000e+00, 0.0000e+00],\n         [4.1000e+01, 9.0000e+00, 7.1000e+00, 7.0000e+00, 5.5000e+01, 6.0000e+00,\n          2.0000e+00, 7.2000e+01, 6.0000e+03, 0.0000e+00, 1.2500e+02, 8.2000e+01,\n          1.0000e+00, 0.0000e+00, 0.0000e+00],\n         [3.9000e+01, 9.0000e+00, 7.2000e+00, 8.0000e+00, 6.0000e+01, 5.0000e+00,\n          0.0000e+00, 6.8000e+01, 8.0000e+03, 0.0000e+00, 1.3000e+02, 8.5000e+01,\n          1.0000e+00, 0.0000e+00, 0.0000e+00],\n         [3.6000e+01, 4.0000e+00, 6.6000e+00, 5.0000e+00, 3.5000e+01, 7.0000e+00,\n          2.0000e+00, 7.4000e+01, 4.8000e+03, 1.0000e+00, 1.2900e+02, 8.4000e+01,\n          1.0000e+00, 0.0000e+00, 0.0000e+00],\n         [4.3000e+01, 1.0000e+01, 6.5000e+00, 6.0000e+00, 4.5000e+01, 7.0000e+00,\n          2.0000e+00, 7.2000e+01, 6.0000e+03, 2.0000e+00, 1.3000e+02, 8.5000e+01,\n          1.0000e+00, 0.0000e+00, 0.0000e+00],\n         [4.3000e+01, 1.0000e+01, 6.3000e+00, 6.0000e+00, 4.5000e+01, 7.0000e+00,\n          2.0000e+00, 7.2000e+01, 6.0000e+03, 2.0000e+00, 1.3000e+02, 8.5000e+01,\n          1.0000e+00, 0.0000e+00, 0.0000e+00],\n         [3.9000e+01, 9.0000e+00, 7.2000e+00, 8.0000e+00, 6.0000e+01, 5.0000e+00,\n          0.0000e+00, 6.8000e+01, 8.0000e+03, 0.0000e+00, 1.3000e+02, 8.5000e+01,\n          1.0000e+00, 0.0000e+00, 0.0000e+00],\n         [5.4000e+01, 6.0000e+00, 8.4000e+00, 9.0000e+00, 3.0000e+01, 3.0000e+00,\n          0.0000e+00, 6.5000e+01, 5.0000e+03, 0.0000e+00, 1.2500e+02, 8.0000e+01,\n          0.0000e+00, 1.0000e+00, 0.0000e+00],\n         [4.3000e+01, 6.0000e+00, 6.9000e+00, 6.0000e+00, 4.7000e+01, 7.0000e+00,\n          1.0000e+00, 6.9000e+01, 6.8000e+03, 0.0000e+00, 1.1700e+02, 7.6000e+01,\n          1.0000e+00, 0.0000e+00, 0.0000e+00],\n         [4.8000e+01, 5.0000e+00, 5.9000e+00, 6.0000e+00, 9.0000e+01, 8.0000e+00,\n          2.0000e+00, 7.5000e+01, 1.0000e+04, 1.0000e+00, 1.4000e+02, 9.5000e+01,\n          0.0000e+00, 1.0000e+00, 0.0000e+00],\n         [4.4000e+01, 4.0000e+00, 6.5000e+00, 7.0000e+00, 4.5000e+01, 4.0000e+00,\n          2.0000e+00, 6.5000e+01, 6.0000e+03, 2.0000e+00, 1.3500e+02, 9.0000e+01,\n          0.0000e+00, 1.0000e+00, 0.0000e+00],\n         [3.7000e+01, 5.0000e+00, 6.1000e+00, 6.0000e+00, 4.2000e+01, 6.0000e+00,\n          2.0000e+00, 7.7000e+01, 4.2000e+03, 0.0000e+00, 1.2600e+02, 8.3000e+01,\n          0.0000e+00, 1.0000e+00, 0.0000e+00],\n         [5.0000e+01, 5.0000e+00, 6.1000e+00, 6.0000e+00, 9.0000e+01, 8.0000e+00,\n          2.0000e+00, 7.5000e+01, 1.0000e+04, 2.0000e+00, 1.4000e+02, 9.5000e+01,\n          0.0000e+00, 1.0000e+00, 0.0000e+00],\n         [5.6000e+01, 2.0000e+00, 8.2000e+00, 9.0000e+00, 9.0000e+01, 3.0000e+00,\n          1.0000e+00, 6.5000e+01, 1.0000e+04, 0.0000e+00, 1.1800e+02, 7.5000e+01,\n          0.0000e+00, 1.0000e+00, 0.0000e+00],\n         [3.3000e+01, 2.0000e+00, 6.1000e+00, 6.0000e+00, 3.0000e+01, 8.0000e+00,\n          0.0000e+00, 7.2000e+01, 5.0000e+03, 0.0000e+00, 1.2500e+02, 8.0000e+01,\n          1.0000e+00, 0.0000e+00, 0.0000e+00],\n         [4.2000e+01, 9.0000e+00, 7.8000e+00, 8.0000e+00, 9.0000e+01, 5.0000e+00,\n          0.0000e+00, 7.0000e+01, 8.0000e+03, 0.0000e+00, 1.3000e+02, 8.5000e+01,\n          1.0000e+00, 0.0000e+00, 0.0000e+00],\n         [4.2000e+01, 9.0000e+00, 7.8000e+00, 8.0000e+00, 9.0000e+01, 5.0000e+00,\n          0.0000e+00, 7.0000e+01, 8.0000e+03, 0.0000e+00, 1.3000e+02, 8.5000e+01,\n          1.0000e+00, 0.0000e+00, 0.0000e+00],\n         [4.5000e+01, 4.0000e+00, 6.8000e+00, 7.0000e+00, 3.0000e+01, 6.0000e+00,\n          2.0000e+00, 6.5000e+01, 6.0000e+03, 2.0000e+00, 1.3500e+02, 9.0000e+01,\n          0.0000e+00, 1.0000e+00, 0.0000e+00],\n         [2.9000e+01, 2.0000e+00, 6.1000e+00, 6.0000e+00, 3.0000e+01, 8.0000e+00,\n          0.0000e+00, 7.0000e+01, 8.0000e+03, 0.0000e+00, 1.2000e+02, 8.0000e+01,\n          1.0000e+00, 0.0000e+00, 0.0000e+00],\n         [5.1000e+01, 6.0000e+00, 8.5000e+00, 9.0000e+00, 3.0000e+01, 3.0000e+00,\n          0.0000e+00, 6.5000e+01, 5.0000e+03, 0.0000e+00, 1.2500e+02, 8.0000e+01,\n          0.0000e+00, 1.0000e+00, 0.0000e+00],\n         [5.2000e+01, 6.0000e+00, 8.4000e+00, 9.0000e+00, 3.0000e+01, 3.0000e+00,\n          0.0000e+00, 6.5000e+01, 5.0000e+03, 0.0000e+00, 1.2500e+02, 8.0000e+01,\n          0.0000e+00, 1.0000e+00, 0.0000e+00],\n         [4.8000e+01, 2.0000e+00, 7.3000e+00, 7.0000e+00, 6.5000e+01, 5.0000e+00,\n          3.0000e+00, 8.3000e+01, 3.5000e+03, 2.0000e+00, 1.4200e+02, 9.2000e+01,\n          1.0000e+00, 0.0000e+00, 0.0000e+00],\n         [3.5000e+01, 6.0000e+00, 7.3000e+00, 8.0000e+00, 6.0000e+01, 4.0000e+00,\n          0.0000e+00, 6.5000e+01, 5.0000e+03, 0.0000e+00, 1.2500e+02, 8.0000e+01,\n          1.0000e+00, 0.0000e+00, 0.0000e+00],\n         [3.0000e+01, 2.0000e+00, 7.7000e+00, 7.0000e+00, 7.5000e+01, 6.0000e+00,\n          0.0000e+00, 7.0000e+01, 8.0000e+03, 0.0000e+00, 1.2000e+02, 8.0000e+01,\n          1.0000e+00, 0.0000e+00, 0.0000e+00],\n         [5.0000e+01, 5.0000e+00, 6.0000e+00, 6.0000e+00, 9.0000e+01, 8.0000e+00,\n          2.0000e+00, 7.5000e+01, 1.0000e+04, 1.0000e+00, 1.4000e+02, 9.5000e+01,\n          0.0000e+00, 1.0000e+00, 0.0000e+00],\n         [2.9000e+01, 5.0000e+00, 6.5000e+00, 5.0000e+00, 4.0000e+01, 7.0000e+00,\n          1.0000e+00, 8.0000e+01, 4.0000e+03, 1.0000e+00, 1.3200e+02, 8.7000e+01,\n          0.0000e+00, 1.0000e+00, 0.0000e+00],\n         [4.4000e+01, 1.0000e+01, 6.3000e+00, 6.0000e+00, 4.5000e+01, 7.0000e+00,\n          2.0000e+00, 7.2000e+01, 6.0000e+03, 2.0000e+00, 1.3000e+02, 8.5000e+01,\n          1.0000e+00, 0.0000e+00, 0.0000e+00],\n         [4.4000e+01, 1.0000e+01, 6.3000e+00, 6.0000e+00, 4.5000e+01, 7.0000e+00,\n          2.0000e+00, 7.2000e+01, 6.0000e+03, 2.0000e+00, 1.3000e+02, 8.5000e+01,\n          1.0000e+00, 0.0000e+00, 0.0000e+00],\n         [3.7000e+01, 7.0000e+00, 7.2000e+00, 8.0000e+00, 6.0000e+01, 4.0000e+00,\n          0.0000e+00, 6.8000e+01, 7.0000e+03, 0.0000e+00, 1.1500e+02, 7.5000e+01,\n          0.0000e+00, 1.0000e+00, 0.0000e+00]], dtype=torch.float64),\n tensor(68.0115, dtype=torch.float64))"
     },
     "execution_count": 18,
     "metadata": {},
     "output_type": "execute_result"
    }
   ],
   "source": [
    "dataset[0]"
   ],
   "metadata": {
    "collapsed": false,
    "ExecuteTime": {
     "start_time": "2023-10-28T12:04:26.642853Z",
     "end_time": "2023-10-28T12:04:26.651852Z"
    }
   }
  },
  {
   "cell_type": "markdown",
   "source": [
    "## DataLoaders"
   ],
   "metadata": {
    "collapsed": false
   }
  },
  {
   "cell_type": "code",
   "execution_count": 19,
   "outputs": [],
   "source": [
    "generator = torch.Generator().manual_seed(420)\n",
    "train_ds, val_ds, test_ds = random_split(dataset, [0.7, 0.1, 0.2], generator=generator)"
   ],
   "metadata": {
    "collapsed": false,
    "ExecuteTime": {
     "start_time": "2023-10-28T12:04:27.231054Z",
     "end_time": "2023-10-28T12:04:27.245350Z"
    }
   }
  },
  {
   "cell_type": "code",
   "execution_count": 20,
   "outputs": [
    {
     "data": {
      "text/plain": "<torch.utils.data.dataset.Subset at 0x1b32f83a370>"
     },
     "execution_count": 20,
     "metadata": {},
     "output_type": "execute_result"
    }
   ],
   "source": [
    "train_ds"
   ],
   "metadata": {
    "collapsed": false,
    "ExecuteTime": {
     "start_time": "2023-10-28T12:04:28.982300Z",
     "end_time": "2023-10-28T12:04:28.990808Z"
    }
   }
  },
  {
   "cell_type": "code",
   "execution_count": 21,
   "outputs": [],
   "source": [
    "train_loader = DataLoader(train_ds, batch_size=32, shuffle=True)"
   ],
   "metadata": {
    "collapsed": false,
    "ExecuteTime": {
     "start_time": "2023-10-28T12:04:29.375261Z",
     "end_time": "2023-10-28T12:04:29.383261Z"
    }
   }
  },
  {
   "cell_type": "code",
   "execution_count": 22,
   "outputs": [
    {
     "name": "stdout",
     "output_type": "stream",
     "text": [
      "x-shape:torch.Size([32, 50, 15]), y-shape:torch.Size([32])\n"
     ]
    }
   ],
   "source": [
    "for x, y in train_loader:\n",
    "    print(f\"x-shape:{x.shape}, y-shape:{y.shape}\")\n",
    "    break"
   ],
   "metadata": {
    "collapsed": false,
    "ExecuteTime": {
     "start_time": "2023-10-28T12:04:29.925891Z",
     "end_time": "2023-10-28T12:04:29.946890Z"
    }
   }
  },
  {
   "cell_type": "code",
   "execution_count": null,
   "outputs": [],
   "source": [],
   "metadata": {
    "collapsed": false
   }
  }
 ],
 "metadata": {
  "kernelspec": {
   "display_name": "Python 3",
   "language": "python",
   "name": "python3"
  },
  "language_info": {
   "codemirror_mode": {
    "name": "ipython",
    "version": 2
   },
   "file_extension": ".py",
   "mimetype": "text/x-python",
   "name": "python",
   "nbconvert_exporter": "python",
   "pygments_lexer": "ipython2",
   "version": "2.7.6"
  }
 },
 "nbformat": 4,
 "nbformat_minor": 0
}
