{
 "cells": [
  {
   "cell_type": "markdown",
   "source": [
    "# Preparation of Dataset (development notebook)"
   ],
   "metadata": {
    "collapsed": false
   }
  },
  {
   "cell_type": "markdown",
   "source": [
    "## Import section"
   ],
   "metadata": {
    "collapsed": false
   }
  },
  {
   "cell_type": "code",
   "execution_count": 1,
   "outputs": [],
   "source": [
    "import numpy as np\n",
    "import pandas as pd\n",
    "\n",
    "from etnn.data.prepare_ferris_wheel import prepare_1_ferris, generate_ferris_dataset, add_valid_permutations\n",
    "from etnn.data.ferris_score_helpers import build_wheel_happyness\n",
    "from etnn.data.ferris_wheel import load_pure_ferris_wheel_dataset\n",
    "import torch\n",
    "from torch.utils.data import random_split, DataLoader\n",
    "from tqdm import tqdm"
   ],
   "metadata": {
    "collapsed": false,
    "ExecuteTime": {
     "start_time": "2023-10-29T00:09:55.311178Z",
     "end_time": "2023-10-29T00:09:56.690083Z"
    }
   }
  },
  {
   "cell_type": "code",
   "execution_count": 2,
   "outputs": [],
   "source": [
    "DATASET_PATH = \"../datasets\""
   ],
   "metadata": {
    "collapsed": false,
    "ExecuteTime": {
     "start_time": "2023-10-29T00:09:56.690083Z",
     "end_time": "2023-10-29T00:09:56.703084Z"
    }
   }
  },
  {
   "cell_type": "markdown",
   "source": [
    "## Person dataset"
   ],
   "metadata": {
    "collapsed": false
   }
  },
  {
   "cell_type": "code",
   "execution_count": 3,
   "outputs": [],
   "source": [
    "df_health = prepare_1_ferris(\n",
    "    dataset_path=\"../datasets\",\n",
    "    df_name_output=\"health_dataset_preprocessed-1.csv\",\n",
    "    df_name_input=\"Sleep_health_and_lifestyle_dataset.csv\",\n",
    "    try_pregen=True\n",
    ")"
   ],
   "metadata": {
    "collapsed": false,
    "ExecuteTime": {
     "start_time": "2023-10-29T00:09:56.704081Z",
     "end_time": "2023-10-29T00:09:56.722081Z"
    }
   }
  },
  {
   "cell_type": "code",
   "execution_count": 4,
   "outputs": [
    {
     "data": {
      "text/plain": "   id  age  occupation  sleep_duration  sleep_quality  physical_activity  \\\n0   1   27           1             6.1              6                 42   \n1   2   28           2             6.2              6                 60   \n2   3   28           2             6.2              6                 60   \n3   4   28           3             5.9              4                 30   \n4   5   28           3             5.9              4                 30   \n\n   stress_level  bmi  heart_rate  daily_steps  sleep_disorder  \\\n0             6    2          77         4200               0   \n1             8    0          75        10000               0   \n2             8    0          75        10000               0   \n3             8    3          85         3000               1   \n4             8    3          85         3000               1   \n\n   blood_pressure1  blood_pressure2  gender_male  gender_female  gender_other  \n0              126               83         True          False         False  \n1              125               80         True          False         False  \n2              125               80         True          False         False  \n3              140               90         True          False         False  \n4              140               90         True          False         False  ",
      "text/html": "<div>\n<style scoped>\n    .dataframe tbody tr th:only-of-type {\n        vertical-align: middle;\n    }\n\n    .dataframe tbody tr th {\n        vertical-align: top;\n    }\n\n    .dataframe thead th {\n        text-align: right;\n    }\n</style>\n<table border=\"1\" class=\"dataframe\">\n  <thead>\n    <tr style=\"text-align: right;\">\n      <th></th>\n      <th>id</th>\n      <th>age</th>\n      <th>occupation</th>\n      <th>sleep_duration</th>\n      <th>sleep_quality</th>\n      <th>physical_activity</th>\n      <th>stress_level</th>\n      <th>bmi</th>\n      <th>heart_rate</th>\n      <th>daily_steps</th>\n      <th>sleep_disorder</th>\n      <th>blood_pressure1</th>\n      <th>blood_pressure2</th>\n      <th>gender_male</th>\n      <th>gender_female</th>\n      <th>gender_other</th>\n    </tr>\n  </thead>\n  <tbody>\n    <tr>\n      <th>0</th>\n      <td>1</td>\n      <td>27</td>\n      <td>1</td>\n      <td>6.1</td>\n      <td>6</td>\n      <td>42</td>\n      <td>6</td>\n      <td>2</td>\n      <td>77</td>\n      <td>4200</td>\n      <td>0</td>\n      <td>126</td>\n      <td>83</td>\n      <td>True</td>\n      <td>False</td>\n      <td>False</td>\n    </tr>\n    <tr>\n      <th>1</th>\n      <td>2</td>\n      <td>28</td>\n      <td>2</td>\n      <td>6.2</td>\n      <td>6</td>\n      <td>60</td>\n      <td>8</td>\n      <td>0</td>\n      <td>75</td>\n      <td>10000</td>\n      <td>0</td>\n      <td>125</td>\n      <td>80</td>\n      <td>True</td>\n      <td>False</td>\n      <td>False</td>\n    </tr>\n    <tr>\n      <th>2</th>\n      <td>3</td>\n      <td>28</td>\n      <td>2</td>\n      <td>6.2</td>\n      <td>6</td>\n      <td>60</td>\n      <td>8</td>\n      <td>0</td>\n      <td>75</td>\n      <td>10000</td>\n      <td>0</td>\n      <td>125</td>\n      <td>80</td>\n      <td>True</td>\n      <td>False</td>\n      <td>False</td>\n    </tr>\n    <tr>\n      <th>3</th>\n      <td>4</td>\n      <td>28</td>\n      <td>3</td>\n      <td>5.9</td>\n      <td>4</td>\n      <td>30</td>\n      <td>8</td>\n      <td>3</td>\n      <td>85</td>\n      <td>3000</td>\n      <td>1</td>\n      <td>140</td>\n      <td>90</td>\n      <td>True</td>\n      <td>False</td>\n      <td>False</td>\n    </tr>\n    <tr>\n      <th>4</th>\n      <td>5</td>\n      <td>28</td>\n      <td>3</td>\n      <td>5.9</td>\n      <td>4</td>\n      <td>30</td>\n      <td>8</td>\n      <td>3</td>\n      <td>85</td>\n      <td>3000</td>\n      <td>1</td>\n      <td>140</td>\n      <td>90</td>\n      <td>True</td>\n      <td>False</td>\n      <td>False</td>\n    </tr>\n  </tbody>\n</table>\n</div>"
     },
     "execution_count": 4,
     "metadata": {},
     "output_type": "execute_result"
    }
   ],
   "source": [
    "df_health.head()"
   ],
   "metadata": {
    "collapsed": false,
    "ExecuteTime": {
     "start_time": "2023-10-29T00:09:56.720081Z",
     "end_time": "2023-10-29T00:09:56.734086Z"
    }
   }
  },
  {
   "cell_type": "markdown",
   "source": [
    "## Gondola dataset (indexing)"
   ],
   "metadata": {
    "collapsed": false
   }
  },
  {
   "cell_type": "code",
   "execution_count": 5,
   "outputs": [],
   "source": [
    "# take group of ids from persons and state how the label for this group shall be calculated"
   ],
   "metadata": {
    "collapsed": false,
    "ExecuteTime": {
     "start_time": "2023-10-29T00:09:56.736088Z",
     "end_time": "2023-10-29T00:09:56.754594Z"
    }
   }
  },
  {
   "cell_type": "code",
   "execution_count": 6,
   "outputs": [],
   "source": [
    "# define ferris wheel\n",
    "num_gondolas = 10\n",
    "num_part_pg = 5"
   ],
   "metadata": {
    "collapsed": false,
    "ExecuteTime": {
     "start_time": "2023-10-29T00:09:56.750594Z",
     "end_time": "2023-10-29T00:09:56.809594Z"
    }
   }
  },
  {
   "cell_type": "code",
   "execution_count": 7,
   "outputs": [],
   "source": [
    "# generate sample element\n",
    "random_order = np.arange(len(df_health)) + 1\n",
    "np.random.shuffle(random_order)"
   ],
   "metadata": {
    "collapsed": false,
    "ExecuteTime": {
     "start_time": "2023-10-29T00:09:56.767594Z",
     "end_time": "2023-10-29T00:09:56.826595Z"
    }
   }
  },
  {
   "cell_type": "code",
   "execution_count": 8,
   "outputs": [],
   "source": [
    "example = [\n",
    "    random_order[i*num_part_pg:(i+1)*num_part_pg]\n",
    "    for i in range(num_gondolas)\n",
    "]"
   ],
   "metadata": {
    "collapsed": false,
    "ExecuteTime": {
     "start_time": "2023-10-29T00:09:56.782594Z",
     "end_time": "2023-10-29T00:09:56.826595Z"
    }
   }
  },
  {
   "cell_type": "code",
   "execution_count": 9,
   "outputs": [
    {
     "data": {
      "text/plain": "[array([260, 247, 207,  73, 206]),\n array([228, 239, 130, 136, 341]),\n array([264, 295, 101, 174, 336]),\n array([334,  44,  30, 301, 122]),\n array([210,  47,   5, 218,  72]),\n array([185, 111, 102, 317,  15]),\n array([131, 182, 116, 370, 104]),\n array([251, 263, 314, 162,  69]),\n array([241,   1, 242, 358, 292]),\n array([146,  66, 138, 219, 110])]"
     },
     "execution_count": 9,
     "metadata": {},
     "output_type": "execute_result"
    }
   ],
   "source": [
    "example"
   ],
   "metadata": {
    "collapsed": false,
    "ExecuteTime": {
     "start_time": "2023-10-29T00:09:56.798596Z",
     "end_time": "2023-10-29T00:09:56.827595Z"
    }
   }
  },
  {
   "cell_type": "code",
   "execution_count": 10,
   "outputs": [
    {
     "data": {
      "text/plain": "array([[260, 247, 207,  73, 206],\n       [228, 239, 130, 136, 341],\n       [264, 295, 101, 174, 336],\n       [334,  44,  30, 301, 122],\n       [210,  47,   5, 218,  72],\n       [185, 111, 102, 317,  15],\n       [131, 182, 116, 370, 104],\n       [251, 263, 314, 162,  69],\n       [241,   1, 242, 358, 292],\n       [146,  66, 138, 219, 110]])"
     },
     "execution_count": 10,
     "metadata": {},
     "output_type": "execute_result"
    }
   ],
   "source": [
    "random_order[:num_gondolas*num_part_pg].reshape(num_gondolas, num_part_pg)"
   ],
   "metadata": {
    "collapsed": false,
    "ExecuteTime": {
     "start_time": "2023-10-29T00:09:57.033654Z",
     "end_time": "2023-10-29T00:09:57.062092Z"
    }
   }
  },
  {
   "cell_type": "markdown",
   "source": [
    "Rules:\n",
    "- People being happy with other people in same gondola\n",
    "    + Age composition too seperated is bad\n",
    "    + shift in gender is bad if too much, 50-50 is good or all one gender\n",
    "    + same with age composition\n",
    "    + sleep derived(multiplier with quality) persons get a subtraction and 'good sleepers' get bonus (sleep disorder counts as stronger subtraction)\n",
    "    + higher heart rate and pressure = joy or fear\n",
    "    + composition of persons in regards to bmi : extreme values make others (no exception for group all those as to many underweight or overweight persons may be awquard as well)\n",
    "- People being happy with neighboring gondolas composition\n",
    "    + same age gets bonus, none gets penalty as potentially group is separated\n",
    "    + gap between happyness index between self and neighbors causes it to produce a mean of only the neighbors"
   ],
   "metadata": {
    "collapsed": false
   }
  },
  {
   "cell_type": "code",
   "execution_count": 11,
   "outputs": [
    {
     "data": {
      "text/plain": "64.98157333333333"
     },
     "execution_count": 11,
     "metadata": {},
     "output_type": "execute_result"
    }
   ],
   "source": [
    "build_wheel_happyness(df_health, example)"
   ],
   "metadata": {
    "collapsed": false,
    "ExecuteTime": {
     "start_time": "2023-10-29T00:09:58.218914Z",
     "end_time": "2023-10-29T00:09:58.255380Z"
    }
   }
  },
  {
   "cell_type": "code",
   "execution_count": 12,
   "outputs": [
    {
     "data": {
      "text/plain": "64.98157333333333"
     },
     "execution_count": 12,
     "metadata": {},
     "output_type": "execute_result"
    }
   ],
   "source": [
    "build_wheel_happyness(df_health, random_order[:num_gondolas * num_part_pg].reshape(num_gondolas, num_part_pg))"
   ],
   "metadata": {
    "collapsed": false,
    "ExecuteTime": {
     "start_time": "2023-10-29T00:09:58.522680Z",
     "end_time": "2023-10-29T00:09:58.554191Z"
    }
   }
  },
  {
   "cell_type": "code",
   "execution_count": 13,
   "outputs": [],
   "source": [
    "# define dataset size\n",
    "num_to_generate = 10_000\n",
    "# define ferris wheel\n",
    "num_gondolas = 10\n",
    "num_part_pg = 5"
   ],
   "metadata": {
    "collapsed": false,
    "ExecuteTime": {
     "start_time": "2023-10-29T00:09:58.945121Z",
     "end_time": "2023-10-29T00:09:58.972120Z"
    }
   }
  },
  {
   "cell_type": "code",
   "execution_count": 14,
   "outputs": [],
   "source": [
    "df_index, df_health = generate_ferris_dataset(\n",
    "    num_gondolas=num_gondolas,\n",
    "    num_part_pg=num_part_pg,\n",
    "    num_to_generate=num_to_generate,\n",
    "    dataset_path=\"../datasets\",\n",
    "    df_intermediate_output_name=\"health_dataset_preprocessed-1.csv\",\n",
    "    df_name_input=\"Sleep_health_and_lifestyle_dataset.csv\",\n",
    "    try_pregen=True\n",
    ")"
   ],
   "metadata": {
    "collapsed": false,
    "ExecuteTime": {
     "start_time": "2023-10-29T00:10:00.083311Z",
     "end_time": "2023-10-29T00:10:00.131781Z"
    }
   }
  },
  {
   "cell_type": "code",
   "execution_count": 15,
   "outputs": [
    {
     "data": {
      "text/plain": "   g-0_p-0  g-0_p-1  g-0_p-2  g-0_p-3  g-0_p-4  g-1_p-0  g-1_p-1  g-1_p-2  \\\n0      264      191       98      235       35      356      253        9   \n1      338      176       95       11      161      248      364       53   \n2      290       99       75       21      237      287      215      213   \n3       15      277       93      106      290      354       60      226   \n4      190      260       34      286      360      167      251      298   \n\n   g-1_p-3  g-1_p-4  ...  g-8_p-1  g-8_p-2  g-8_p-3  g-8_p-4  g-9_p-0  \\\n0      147      311  ...      315      265       92       23      287   \n1       64       71  ...      181      365       96      187      165   \n2      172      214  ...       76      188      274       77      264   \n3       75      318  ...      243      288       74      131      344   \n4      256       15  ...       48      258      107        5      307   \n\n   g-9_p-1  g-9_p-2  g-9_p-3  g-9_p-4      label  \n0       17      234      223      117  68.011480  \n1       38      114       98       56  55.463373  \n2      117      254      168       65  66.108493  \n3       86      266      218       83  58.642507  \n4      121      162        7       37  62.584213  \n\n[5 rows x 51 columns]",
      "text/html": "<div>\n<style scoped>\n    .dataframe tbody tr th:only-of-type {\n        vertical-align: middle;\n    }\n\n    .dataframe tbody tr th {\n        vertical-align: top;\n    }\n\n    .dataframe thead th {\n        text-align: right;\n    }\n</style>\n<table border=\"1\" class=\"dataframe\">\n  <thead>\n    <tr style=\"text-align: right;\">\n      <th></th>\n      <th>g-0_p-0</th>\n      <th>g-0_p-1</th>\n      <th>g-0_p-2</th>\n      <th>g-0_p-3</th>\n      <th>g-0_p-4</th>\n      <th>g-1_p-0</th>\n      <th>g-1_p-1</th>\n      <th>g-1_p-2</th>\n      <th>g-1_p-3</th>\n      <th>g-1_p-4</th>\n      <th>...</th>\n      <th>g-8_p-1</th>\n      <th>g-8_p-2</th>\n      <th>g-8_p-3</th>\n      <th>g-8_p-4</th>\n      <th>g-9_p-0</th>\n      <th>g-9_p-1</th>\n      <th>g-9_p-2</th>\n      <th>g-9_p-3</th>\n      <th>g-9_p-4</th>\n      <th>label</th>\n    </tr>\n  </thead>\n  <tbody>\n    <tr>\n      <th>0</th>\n      <td>264</td>\n      <td>191</td>\n      <td>98</td>\n      <td>235</td>\n      <td>35</td>\n      <td>356</td>\n      <td>253</td>\n      <td>9</td>\n      <td>147</td>\n      <td>311</td>\n      <td>...</td>\n      <td>315</td>\n      <td>265</td>\n      <td>92</td>\n      <td>23</td>\n      <td>287</td>\n      <td>17</td>\n      <td>234</td>\n      <td>223</td>\n      <td>117</td>\n      <td>68.011480</td>\n    </tr>\n    <tr>\n      <th>1</th>\n      <td>338</td>\n      <td>176</td>\n      <td>95</td>\n      <td>11</td>\n      <td>161</td>\n      <td>248</td>\n      <td>364</td>\n      <td>53</td>\n      <td>64</td>\n      <td>71</td>\n      <td>...</td>\n      <td>181</td>\n      <td>365</td>\n      <td>96</td>\n      <td>187</td>\n      <td>165</td>\n      <td>38</td>\n      <td>114</td>\n      <td>98</td>\n      <td>56</td>\n      <td>55.463373</td>\n    </tr>\n    <tr>\n      <th>2</th>\n      <td>290</td>\n      <td>99</td>\n      <td>75</td>\n      <td>21</td>\n      <td>237</td>\n      <td>287</td>\n      <td>215</td>\n      <td>213</td>\n      <td>172</td>\n      <td>214</td>\n      <td>...</td>\n      <td>76</td>\n      <td>188</td>\n      <td>274</td>\n      <td>77</td>\n      <td>264</td>\n      <td>117</td>\n      <td>254</td>\n      <td>168</td>\n      <td>65</td>\n      <td>66.108493</td>\n    </tr>\n    <tr>\n      <th>3</th>\n      <td>15</td>\n      <td>277</td>\n      <td>93</td>\n      <td>106</td>\n      <td>290</td>\n      <td>354</td>\n      <td>60</td>\n      <td>226</td>\n      <td>75</td>\n      <td>318</td>\n      <td>...</td>\n      <td>243</td>\n      <td>288</td>\n      <td>74</td>\n      <td>131</td>\n      <td>344</td>\n      <td>86</td>\n      <td>266</td>\n      <td>218</td>\n      <td>83</td>\n      <td>58.642507</td>\n    </tr>\n    <tr>\n      <th>4</th>\n      <td>190</td>\n      <td>260</td>\n      <td>34</td>\n      <td>286</td>\n      <td>360</td>\n      <td>167</td>\n      <td>251</td>\n      <td>298</td>\n      <td>256</td>\n      <td>15</td>\n      <td>...</td>\n      <td>48</td>\n      <td>258</td>\n      <td>107</td>\n      <td>5</td>\n      <td>307</td>\n      <td>121</td>\n      <td>162</td>\n      <td>7</td>\n      <td>37</td>\n      <td>62.584213</td>\n    </tr>\n  </tbody>\n</table>\n<p>5 rows × 51 columns</p>\n</div>"
     },
     "execution_count": 15,
     "metadata": {},
     "output_type": "execute_result"
    }
   ],
   "source": [
    "df_index.head()"
   ],
   "metadata": {
    "collapsed": false,
    "ExecuteTime": {
     "start_time": "2023-10-29T00:10:14.587231Z",
     "end_time": "2023-10-29T00:10:14.612231Z"
    }
   }
  },
  {
   "cell_type": "code",
   "execution_count": 16,
   "outputs": [
    {
     "data": {
      "text/plain": "   id  age  occupation  sleep_duration  sleep_quality  physical_activity  \\\n0   1   27           1             6.1              6                 42   \n1   2   28           2             6.2              6                 60   \n2   3   28           2             6.2              6                 60   \n3   4   28           3             5.9              4                 30   \n4   5   28           3             5.9              4                 30   \n\n   stress_level  bmi  heart_rate  daily_steps  sleep_disorder  \\\n0             6    2          77         4200               0   \n1             8    0          75        10000               0   \n2             8    0          75        10000               0   \n3             8    3          85         3000               1   \n4             8    3          85         3000               1   \n\n   blood_pressure1  blood_pressure2  gender_male  gender_female  gender_other  \n0              126               83         True          False         False  \n1              125               80         True          False         False  \n2              125               80         True          False         False  \n3              140               90         True          False         False  \n4              140               90         True          False         False  ",
      "text/html": "<div>\n<style scoped>\n    .dataframe tbody tr th:only-of-type {\n        vertical-align: middle;\n    }\n\n    .dataframe tbody tr th {\n        vertical-align: top;\n    }\n\n    .dataframe thead th {\n        text-align: right;\n    }\n</style>\n<table border=\"1\" class=\"dataframe\">\n  <thead>\n    <tr style=\"text-align: right;\">\n      <th></th>\n      <th>id</th>\n      <th>age</th>\n      <th>occupation</th>\n      <th>sleep_duration</th>\n      <th>sleep_quality</th>\n      <th>physical_activity</th>\n      <th>stress_level</th>\n      <th>bmi</th>\n      <th>heart_rate</th>\n      <th>daily_steps</th>\n      <th>sleep_disorder</th>\n      <th>blood_pressure1</th>\n      <th>blood_pressure2</th>\n      <th>gender_male</th>\n      <th>gender_female</th>\n      <th>gender_other</th>\n    </tr>\n  </thead>\n  <tbody>\n    <tr>\n      <th>0</th>\n      <td>1</td>\n      <td>27</td>\n      <td>1</td>\n      <td>6.1</td>\n      <td>6</td>\n      <td>42</td>\n      <td>6</td>\n      <td>2</td>\n      <td>77</td>\n      <td>4200</td>\n      <td>0</td>\n      <td>126</td>\n      <td>83</td>\n      <td>True</td>\n      <td>False</td>\n      <td>False</td>\n    </tr>\n    <tr>\n      <th>1</th>\n      <td>2</td>\n      <td>28</td>\n      <td>2</td>\n      <td>6.2</td>\n      <td>6</td>\n      <td>60</td>\n      <td>8</td>\n      <td>0</td>\n      <td>75</td>\n      <td>10000</td>\n      <td>0</td>\n      <td>125</td>\n      <td>80</td>\n      <td>True</td>\n      <td>False</td>\n      <td>False</td>\n    </tr>\n    <tr>\n      <th>2</th>\n      <td>3</td>\n      <td>28</td>\n      <td>2</td>\n      <td>6.2</td>\n      <td>6</td>\n      <td>60</td>\n      <td>8</td>\n      <td>0</td>\n      <td>75</td>\n      <td>10000</td>\n      <td>0</td>\n      <td>125</td>\n      <td>80</td>\n      <td>True</td>\n      <td>False</td>\n      <td>False</td>\n    </tr>\n    <tr>\n      <th>3</th>\n      <td>4</td>\n      <td>28</td>\n      <td>3</td>\n      <td>5.9</td>\n      <td>4</td>\n      <td>30</td>\n      <td>8</td>\n      <td>3</td>\n      <td>85</td>\n      <td>3000</td>\n      <td>1</td>\n      <td>140</td>\n      <td>90</td>\n      <td>True</td>\n      <td>False</td>\n      <td>False</td>\n    </tr>\n    <tr>\n      <th>4</th>\n      <td>5</td>\n      <td>28</td>\n      <td>3</td>\n      <td>5.9</td>\n      <td>4</td>\n      <td>30</td>\n      <td>8</td>\n      <td>3</td>\n      <td>85</td>\n      <td>3000</td>\n      <td>1</td>\n      <td>140</td>\n      <td>90</td>\n      <td>True</td>\n      <td>False</td>\n      <td>False</td>\n    </tr>\n  </tbody>\n</table>\n</div>"
     },
     "execution_count": 16,
     "metadata": {},
     "output_type": "execute_result"
    }
   ],
   "source": [
    "df_health.head()"
   ],
   "metadata": {
    "collapsed": false,
    "ExecuteTime": {
     "start_time": "2023-10-29T00:10:17.683223Z",
     "end_time": "2023-10-29T00:10:17.707222Z"
    }
   }
  },
  {
   "cell_type": "code",
   "execution_count": 17,
   "outputs": [
    {
     "data": {
      "text/plain": "      g-0_p-0  g-0_p-1  g-0_p-2  g-0_p-3  g-0_p-4  g-1_p-0  g-1_p-1  g-1_p-2  \\\n0         264      191       98      235       35      356      253        9   \n1         338      176       95       11      161      248      364       53   \n2         290       99       75       21      237      287      215      213   \n3          15      277       93      106      290      354       60      226   \n4         190      260       34      286      360      167      251      298   \n...       ...      ...      ...      ...      ...      ...      ...      ...   \n9995      127       84      110      152      265       90      318       72   \n9996      286       97      191      288       32      268       41      347   \n9997      372      168      198      199      239      369      323      277   \n9998      154      310      224       59       87      207       97       78   \n9999      351       31      277      304      357       35      111      254   \n\n      g-1_p-3  g-1_p-4  ...  g-8_p-0  g-8_p-1  g-8_p-2  g-8_p-3  g-8_p-4  \\\n0         147      311  ...      299      315      265       92       23   \n1          64       71  ...      100      181      365       96      187   \n2         172      214  ...      122       76      188      274       77   \n3          75      318  ...      235      243      288       74      131   \n4         256       15  ...       28       48      258      107        5   \n...       ...      ...  ...      ...      ...      ...      ...      ...   \n9995      331      237  ...      346        7      341      126       70   \n9996      272      169  ...      194      178      269      310       79   \n9997      174      281  ...      191      112       75      331      177   \n9998      290      241  ...       12      338      254      183      145   \n9999       40       69  ...       16       71       65      163      296   \n\n      g-9_p-0  g-9_p-1  g-9_p-2  g-9_p-3  g-9_p-4  \n0         287       17      234      223      117  \n1         165       38      114       98       56  \n2         264      117      254      168       65  \n3         344       86      266      218       83  \n4         307      121      162        7       37  \n...       ...      ...      ...      ...      ...  \n9995      208       67      248      291      246  \n9996      370      108      189      340       24  \n9997      163      155        7      188      290  \n9998       22       95      247      158      231  \n9999      123      363      180      148      297  \n\n[10000 rows x 50 columns]",
      "text/html": "<div>\n<style scoped>\n    .dataframe tbody tr th:only-of-type {\n        vertical-align: middle;\n    }\n\n    .dataframe tbody tr th {\n        vertical-align: top;\n    }\n\n    .dataframe thead th {\n        text-align: right;\n    }\n</style>\n<table border=\"1\" class=\"dataframe\">\n  <thead>\n    <tr style=\"text-align: right;\">\n      <th></th>\n      <th>g-0_p-0</th>\n      <th>g-0_p-1</th>\n      <th>g-0_p-2</th>\n      <th>g-0_p-3</th>\n      <th>g-0_p-4</th>\n      <th>g-1_p-0</th>\n      <th>g-1_p-1</th>\n      <th>g-1_p-2</th>\n      <th>g-1_p-3</th>\n      <th>g-1_p-4</th>\n      <th>...</th>\n      <th>g-8_p-0</th>\n      <th>g-8_p-1</th>\n      <th>g-8_p-2</th>\n      <th>g-8_p-3</th>\n      <th>g-8_p-4</th>\n      <th>g-9_p-0</th>\n      <th>g-9_p-1</th>\n      <th>g-9_p-2</th>\n      <th>g-9_p-3</th>\n      <th>g-9_p-4</th>\n    </tr>\n  </thead>\n  <tbody>\n    <tr>\n      <th>0</th>\n      <td>264</td>\n      <td>191</td>\n      <td>98</td>\n      <td>235</td>\n      <td>35</td>\n      <td>356</td>\n      <td>253</td>\n      <td>9</td>\n      <td>147</td>\n      <td>311</td>\n      <td>...</td>\n      <td>299</td>\n      <td>315</td>\n      <td>265</td>\n      <td>92</td>\n      <td>23</td>\n      <td>287</td>\n      <td>17</td>\n      <td>234</td>\n      <td>223</td>\n      <td>117</td>\n    </tr>\n    <tr>\n      <th>1</th>\n      <td>338</td>\n      <td>176</td>\n      <td>95</td>\n      <td>11</td>\n      <td>161</td>\n      <td>248</td>\n      <td>364</td>\n      <td>53</td>\n      <td>64</td>\n      <td>71</td>\n      <td>...</td>\n      <td>100</td>\n      <td>181</td>\n      <td>365</td>\n      <td>96</td>\n      <td>187</td>\n      <td>165</td>\n      <td>38</td>\n      <td>114</td>\n      <td>98</td>\n      <td>56</td>\n    </tr>\n    <tr>\n      <th>2</th>\n      <td>290</td>\n      <td>99</td>\n      <td>75</td>\n      <td>21</td>\n      <td>237</td>\n      <td>287</td>\n      <td>215</td>\n      <td>213</td>\n      <td>172</td>\n      <td>214</td>\n      <td>...</td>\n      <td>122</td>\n      <td>76</td>\n      <td>188</td>\n      <td>274</td>\n      <td>77</td>\n      <td>264</td>\n      <td>117</td>\n      <td>254</td>\n      <td>168</td>\n      <td>65</td>\n    </tr>\n    <tr>\n      <th>3</th>\n      <td>15</td>\n      <td>277</td>\n      <td>93</td>\n      <td>106</td>\n      <td>290</td>\n      <td>354</td>\n      <td>60</td>\n      <td>226</td>\n      <td>75</td>\n      <td>318</td>\n      <td>...</td>\n      <td>235</td>\n      <td>243</td>\n      <td>288</td>\n      <td>74</td>\n      <td>131</td>\n      <td>344</td>\n      <td>86</td>\n      <td>266</td>\n      <td>218</td>\n      <td>83</td>\n    </tr>\n    <tr>\n      <th>4</th>\n      <td>190</td>\n      <td>260</td>\n      <td>34</td>\n      <td>286</td>\n      <td>360</td>\n      <td>167</td>\n      <td>251</td>\n      <td>298</td>\n      <td>256</td>\n      <td>15</td>\n      <td>...</td>\n      <td>28</td>\n      <td>48</td>\n      <td>258</td>\n      <td>107</td>\n      <td>5</td>\n      <td>307</td>\n      <td>121</td>\n      <td>162</td>\n      <td>7</td>\n      <td>37</td>\n    </tr>\n    <tr>\n      <th>...</th>\n      <td>...</td>\n      <td>...</td>\n      <td>...</td>\n      <td>...</td>\n      <td>...</td>\n      <td>...</td>\n      <td>...</td>\n      <td>...</td>\n      <td>...</td>\n      <td>...</td>\n      <td>...</td>\n      <td>...</td>\n      <td>...</td>\n      <td>...</td>\n      <td>...</td>\n      <td>...</td>\n      <td>...</td>\n      <td>...</td>\n      <td>...</td>\n      <td>...</td>\n      <td>...</td>\n    </tr>\n    <tr>\n      <th>9995</th>\n      <td>127</td>\n      <td>84</td>\n      <td>110</td>\n      <td>152</td>\n      <td>265</td>\n      <td>90</td>\n      <td>318</td>\n      <td>72</td>\n      <td>331</td>\n      <td>237</td>\n      <td>...</td>\n      <td>346</td>\n      <td>7</td>\n      <td>341</td>\n      <td>126</td>\n      <td>70</td>\n      <td>208</td>\n      <td>67</td>\n      <td>248</td>\n      <td>291</td>\n      <td>246</td>\n    </tr>\n    <tr>\n      <th>9996</th>\n      <td>286</td>\n      <td>97</td>\n      <td>191</td>\n      <td>288</td>\n      <td>32</td>\n      <td>268</td>\n      <td>41</td>\n      <td>347</td>\n      <td>272</td>\n      <td>169</td>\n      <td>...</td>\n      <td>194</td>\n      <td>178</td>\n      <td>269</td>\n      <td>310</td>\n      <td>79</td>\n      <td>370</td>\n      <td>108</td>\n      <td>189</td>\n      <td>340</td>\n      <td>24</td>\n    </tr>\n    <tr>\n      <th>9997</th>\n      <td>372</td>\n      <td>168</td>\n      <td>198</td>\n      <td>199</td>\n      <td>239</td>\n      <td>369</td>\n      <td>323</td>\n      <td>277</td>\n      <td>174</td>\n      <td>281</td>\n      <td>...</td>\n      <td>191</td>\n      <td>112</td>\n      <td>75</td>\n      <td>331</td>\n      <td>177</td>\n      <td>163</td>\n      <td>155</td>\n      <td>7</td>\n      <td>188</td>\n      <td>290</td>\n    </tr>\n    <tr>\n      <th>9998</th>\n      <td>154</td>\n      <td>310</td>\n      <td>224</td>\n      <td>59</td>\n      <td>87</td>\n      <td>207</td>\n      <td>97</td>\n      <td>78</td>\n      <td>290</td>\n      <td>241</td>\n      <td>...</td>\n      <td>12</td>\n      <td>338</td>\n      <td>254</td>\n      <td>183</td>\n      <td>145</td>\n      <td>22</td>\n      <td>95</td>\n      <td>247</td>\n      <td>158</td>\n      <td>231</td>\n    </tr>\n    <tr>\n      <th>9999</th>\n      <td>351</td>\n      <td>31</td>\n      <td>277</td>\n      <td>304</td>\n      <td>357</td>\n      <td>35</td>\n      <td>111</td>\n      <td>254</td>\n      <td>40</td>\n      <td>69</td>\n      <td>...</td>\n      <td>16</td>\n      <td>71</td>\n      <td>65</td>\n      <td>163</td>\n      <td>296</td>\n      <td>123</td>\n      <td>363</td>\n      <td>180</td>\n      <td>148</td>\n      <td>297</td>\n    </tr>\n  </tbody>\n</table>\n<p>10000 rows × 50 columns</p>\n</div>"
     },
     "execution_count": 17,
     "metadata": {},
     "output_type": "execute_result"
    }
   ],
   "source": [
    "df_index.iloc[:, :-1]"
   ],
   "metadata": {
    "collapsed": false,
    "ExecuteTime": {
     "start_time": "2023-10-29T00:10:18.089912Z",
     "end_time": "2023-10-29T00:10:18.114912Z"
    }
   }
  },
  {
   "cell_type": "markdown",
   "source": [
    "## Total dataset creation"
   ],
   "metadata": {
    "collapsed": false
   }
  },
  {
   "cell_type": "code",
   "execution_count": 18,
   "outputs": [],
   "source": [
    "dataset = load_pure_ferris_wheel_dataset(\n",
    "    num_gondolas=num_gondolas,\n",
    "    num_part_pg=num_part_pg,\n",
    "    num_to_generate=num_to_generate,\n",
    "    dataset_path=\"../datasets\",\n",
    "    df_intermediate_output_name=\"health_dataset_preprocessed-1.csv\",\n",
    "    df_name_input=\"Sleep_health_and_lifestyle_dataset.csv\",\n",
    "    try_pregen=True\n",
    ")"
   ],
   "metadata": {
    "collapsed": false,
    "ExecuteTime": {
     "start_time": "2023-10-29T00:10:19.787054Z",
     "end_time": "2023-10-29T00:10:19.818052Z"
    }
   }
  },
  {
   "cell_type": "code",
   "execution_count": 19,
   "outputs": [
    {
     "data": {
      "text/plain": "(tensor([[4.5000e+01, 1.1000e+01, 6.9000e+00, 7.0000e+00, 5.5000e+01, 5.0000e+00,\n          2.0000e+00, 7.5000e+01, 5.5000e+03, 0.0000e+00, 1.2500e+02, 8.2000e+01,\n          0.0000e+00, 1.0000e+00, 0.0000e+00],\n         [4.3000e+01, 4.0000e+00, 6.7000e+00, 7.0000e+00, 4.5000e+01, 4.0000e+00,\n          2.0000e+00, 6.5000e+01, 6.0000e+03, 2.0000e+00, 1.3500e+02, 9.0000e+01,\n          0.0000e+00, 1.0000e+00, 0.0000e+00],\n         [3.6000e+01, 7.0000e+00, 7.1000e+00, 8.0000e+00, 6.0000e+01, 4.0000e+00,\n          0.0000e+00, 6.8000e+01, 7.0000e+03, 0.0000e+00, 1.1500e+02, 7.5000e+01,\n          0.0000e+00, 1.0000e+00, 0.0000e+00],\n         [4.4000e+01, 4.0000e+00, 6.6000e+00, 7.0000e+00, 4.5000e+01, 4.0000e+00,\n          2.0000e+00, 6.5000e+01, 6.0000e+03, 2.0000e+00, 1.3500e+02, 9.0000e+01,\n          0.0000e+00, 1.0000e+00, 0.0000e+00],\n         [3.1000e+01, 2.0000e+00, 7.7000e+00, 7.0000e+00, 7.5000e+01, 6.0000e+00,\n          0.0000e+00, 7.0000e+01, 8.0000e+03, 0.0000e+00, 1.2000e+02, 8.0000e+01,\n          1.0000e+00, 0.0000e+00, 0.0000e+00],\n         [5.8000e+01, 5.0000e+00, 8.0000e+00, 9.0000e+00, 7.5000e+01, 3.0000e+00,\n          2.0000e+00, 6.8000e+01, 7.0000e+03, 1.0000e+00, 1.4000e+02, 9.5000e+01,\n          0.0000e+00, 1.0000e+00, 0.0000e+00],\n         [4.5000e+01, 4.0000e+00, 6.5000e+00, 7.0000e+00, 4.5000e+01, 4.0000e+00,\n          2.0000e+00, 6.5000e+01, 6.0000e+03, 2.0000e+00, 1.3500e+02, 9.0000e+01,\n          0.0000e+00, 1.0000e+00, 0.0000e+00],\n         [2.9000e+01, 2.0000e+00, 7.8000e+00, 7.0000e+00, 7.5000e+01, 6.0000e+00,\n          0.0000e+00, 7.0000e+01, 8.0000e+03, 0.0000e+00, 1.2000e+02, 8.0000e+01,\n          1.0000e+00, 0.0000e+00, 0.0000e+00],\n         [3.9000e+01, 9.0000e+00, 7.2000e+00, 8.0000e+00, 6.0000e+01, 5.0000e+00,\n          0.0000e+00, 6.8000e+01, 8.0000e+03, 2.0000e+00, 1.3000e+02, 8.5000e+01,\n          1.0000e+00, 0.0000e+00, 0.0000e+00],\n         [5.2000e+01, 7.0000e+00, 6.6000e+00, 7.0000e+00, 4.5000e+01, 7.0000e+00,\n          2.0000e+00, 7.2000e+01, 6.0000e+03, 2.0000e+00, 1.3000e+02, 8.5000e+01,\n          0.0000e+00, 1.0000e+00, 0.0000e+00],\n         [4.9000e+01, 2.0000e+00, 8.1000e+00, 9.0000e+00, 8.5000e+01, 3.0000e+00,\n          3.0000e+00, 8.6000e+01, 3.7000e+03, 1.0000e+00, 1.3900e+02, 9.1000e+01,\n          1.0000e+00, 0.0000e+00, 0.0000e+00],\n         [4.4000e+01, 4.0000e+00, 6.6000e+00, 7.0000e+00, 4.5000e+01, 4.0000e+00,\n          2.0000e+00, 6.5000e+01, 6.0000e+03, 2.0000e+00, 1.3500e+02, 9.0000e+01,\n          0.0000e+00, 1.0000e+00, 0.0000e+00],\n         [4.1000e+01, 9.0000e+00, 7.1000e+00, 7.0000e+00, 5.5000e+01, 6.0000e+00,\n          2.0000e+00, 7.2000e+01, 6.0000e+03, 0.0000e+00, 1.2500e+02, 8.2000e+01,\n          1.0000e+00, 0.0000e+00, 0.0000e+00],\n         [5.3000e+01, 6.0000e+00, 8.4000e+00, 9.0000e+00, 3.0000e+01, 3.0000e+00,\n          0.0000e+00, 6.5000e+01, 5.0000e+03, 0.0000e+00, 1.2500e+02, 8.0000e+01,\n          0.0000e+00, 1.0000e+00, 0.0000e+00],\n         [5.1000e+01, 5.0000e+00, 6.1000e+00, 6.0000e+00, 9.0000e+01, 8.0000e+00,\n          2.0000e+00, 7.5000e+01, 1.0000e+04, 1.0000e+00, 1.4000e+02, 9.5000e+01,\n          0.0000e+00, 1.0000e+00, 0.0000e+00],\n         [3.3000e+01, 2.0000e+00, 6.1000e+00, 6.0000e+00, 3.0000e+01, 8.0000e+00,\n          0.0000e+00, 7.2000e+01, 5.0000e+03, 0.0000e+00, 1.2500e+02, 8.0000e+01,\n          1.0000e+00, 0.0000e+00, 0.0000e+00],\n         [5.4000e+01, 6.0000e+00, 8.4000e+00, 9.0000e+00, 3.0000e+01, 3.0000e+00,\n          0.0000e+00, 6.5000e+01, 5.0000e+03, 0.0000e+00, 1.2500e+02, 8.0000e+01,\n          0.0000e+00, 1.0000e+00, 0.0000e+00],\n         [3.7000e+01, 5.0000e+00, 7.5000e+00, 8.0000e+00, 6.0000e+01, 4.0000e+00,\n          1.0000e+00, 7.0000e+01, 8.0000e+03, 0.0000e+00, 1.2000e+02, 8.0000e+01,\n          0.0000e+00, 1.0000e+00, 0.0000e+00],\n         [3.1000e+01, 2.0000e+00, 7.8000e+00, 7.0000e+00, 7.5000e+01, 6.0000e+00,\n          0.0000e+00, 7.0000e+01, 8.0000e+03, 0.0000e+00, 1.2000e+02, 8.0000e+01,\n          1.0000e+00, 0.0000e+00, 0.0000e+00],\n         [3.1000e+01, 2.0000e+00, 7.7000e+00, 7.0000e+00, 7.5000e+01, 6.0000e+00,\n          0.0000e+00, 7.0000e+01, 8.0000e+03, 0.0000e+00, 1.2000e+02, 8.0000e+01,\n          1.0000e+00, 0.0000e+00, 0.0000e+00],\n         [4.4000e+01, 1.0000e+01, 6.3000e+00, 6.0000e+00, 4.5000e+01, 7.0000e+00,\n          2.0000e+00, 7.2000e+01, 6.0000e+03, 2.0000e+00, 1.3000e+02, 8.5000e+01,\n          1.0000e+00, 0.0000e+00, 0.0000e+00],\n         [3.6000e+01, 4.0000e+00, 7.2000e+00, 8.0000e+00, 6.0000e+01, 4.0000e+00,\n          0.0000e+00, 6.8000e+01, 7.0000e+03, 0.0000e+00, 1.1500e+02, 7.5000e+01,\n          0.0000e+00, 1.0000e+00, 0.0000e+00],\n         [4.1000e+01, 9.0000e+00, 7.1000e+00, 7.0000e+00, 5.5000e+01, 6.0000e+00,\n          2.0000e+00, 7.2000e+01, 6.0000e+03, 0.0000e+00, 1.2500e+02, 8.2000e+01,\n          1.0000e+00, 0.0000e+00, 0.0000e+00],\n         [3.9000e+01, 9.0000e+00, 7.2000e+00, 8.0000e+00, 6.0000e+01, 5.0000e+00,\n          0.0000e+00, 6.8000e+01, 8.0000e+03, 0.0000e+00, 1.3000e+02, 8.5000e+01,\n          1.0000e+00, 0.0000e+00, 0.0000e+00],\n         [3.6000e+01, 4.0000e+00, 6.6000e+00, 5.0000e+00, 3.5000e+01, 7.0000e+00,\n          2.0000e+00, 7.4000e+01, 4.8000e+03, 1.0000e+00, 1.2900e+02, 8.4000e+01,\n          1.0000e+00, 0.0000e+00, 0.0000e+00],\n         [4.3000e+01, 1.0000e+01, 6.5000e+00, 6.0000e+00, 4.5000e+01, 7.0000e+00,\n          2.0000e+00, 7.2000e+01, 6.0000e+03, 2.0000e+00, 1.3000e+02, 8.5000e+01,\n          1.0000e+00, 0.0000e+00, 0.0000e+00],\n         [4.3000e+01, 1.0000e+01, 6.3000e+00, 6.0000e+00, 4.5000e+01, 7.0000e+00,\n          2.0000e+00, 7.2000e+01, 6.0000e+03, 2.0000e+00, 1.3000e+02, 8.5000e+01,\n          1.0000e+00, 0.0000e+00, 0.0000e+00],\n         [3.9000e+01, 9.0000e+00, 7.2000e+00, 8.0000e+00, 6.0000e+01, 5.0000e+00,\n          0.0000e+00, 6.8000e+01, 8.0000e+03, 0.0000e+00, 1.3000e+02, 8.5000e+01,\n          1.0000e+00, 0.0000e+00, 0.0000e+00],\n         [5.4000e+01, 6.0000e+00, 8.4000e+00, 9.0000e+00, 3.0000e+01, 3.0000e+00,\n          0.0000e+00, 6.5000e+01, 5.0000e+03, 0.0000e+00, 1.2500e+02, 8.0000e+01,\n          0.0000e+00, 1.0000e+00, 0.0000e+00],\n         [4.3000e+01, 6.0000e+00, 6.9000e+00, 6.0000e+00, 4.7000e+01, 7.0000e+00,\n          1.0000e+00, 6.9000e+01, 6.8000e+03, 0.0000e+00, 1.1700e+02, 7.6000e+01,\n          1.0000e+00, 0.0000e+00, 0.0000e+00],\n         [4.8000e+01, 5.0000e+00, 5.9000e+00, 6.0000e+00, 9.0000e+01, 8.0000e+00,\n          2.0000e+00, 7.5000e+01, 1.0000e+04, 1.0000e+00, 1.4000e+02, 9.5000e+01,\n          0.0000e+00, 1.0000e+00, 0.0000e+00],\n         [4.4000e+01, 4.0000e+00, 6.5000e+00, 7.0000e+00, 4.5000e+01, 4.0000e+00,\n          2.0000e+00, 6.5000e+01, 6.0000e+03, 2.0000e+00, 1.3500e+02, 9.0000e+01,\n          0.0000e+00, 1.0000e+00, 0.0000e+00],\n         [3.7000e+01, 5.0000e+00, 6.1000e+00, 6.0000e+00, 4.2000e+01, 6.0000e+00,\n          2.0000e+00, 7.7000e+01, 4.2000e+03, 0.0000e+00, 1.2600e+02, 8.3000e+01,\n          0.0000e+00, 1.0000e+00, 0.0000e+00],\n         [5.0000e+01, 5.0000e+00, 6.1000e+00, 6.0000e+00, 9.0000e+01, 8.0000e+00,\n          2.0000e+00, 7.5000e+01, 1.0000e+04, 2.0000e+00, 1.4000e+02, 9.5000e+01,\n          0.0000e+00, 1.0000e+00, 0.0000e+00],\n         [5.6000e+01, 2.0000e+00, 8.2000e+00, 9.0000e+00, 9.0000e+01, 3.0000e+00,\n          1.0000e+00, 6.5000e+01, 1.0000e+04, 0.0000e+00, 1.1800e+02, 7.5000e+01,\n          0.0000e+00, 1.0000e+00, 0.0000e+00],\n         [3.3000e+01, 2.0000e+00, 6.1000e+00, 6.0000e+00, 3.0000e+01, 8.0000e+00,\n          0.0000e+00, 7.2000e+01, 5.0000e+03, 0.0000e+00, 1.2500e+02, 8.0000e+01,\n          1.0000e+00, 0.0000e+00, 0.0000e+00],\n         [4.2000e+01, 9.0000e+00, 7.8000e+00, 8.0000e+00, 9.0000e+01, 5.0000e+00,\n          0.0000e+00, 7.0000e+01, 8.0000e+03, 0.0000e+00, 1.3000e+02, 8.5000e+01,\n          1.0000e+00, 0.0000e+00, 0.0000e+00],\n         [4.2000e+01, 9.0000e+00, 7.8000e+00, 8.0000e+00, 9.0000e+01, 5.0000e+00,\n          0.0000e+00, 7.0000e+01, 8.0000e+03, 0.0000e+00, 1.3000e+02, 8.5000e+01,\n          1.0000e+00, 0.0000e+00, 0.0000e+00],\n         [4.5000e+01, 4.0000e+00, 6.8000e+00, 7.0000e+00, 3.0000e+01, 6.0000e+00,\n          2.0000e+00, 6.5000e+01, 6.0000e+03, 2.0000e+00, 1.3500e+02, 9.0000e+01,\n          0.0000e+00, 1.0000e+00, 0.0000e+00],\n         [2.9000e+01, 2.0000e+00, 6.1000e+00, 6.0000e+00, 3.0000e+01, 8.0000e+00,\n          0.0000e+00, 7.0000e+01, 8.0000e+03, 0.0000e+00, 1.2000e+02, 8.0000e+01,\n          1.0000e+00, 0.0000e+00, 0.0000e+00],\n         [5.1000e+01, 6.0000e+00, 8.5000e+00, 9.0000e+00, 3.0000e+01, 3.0000e+00,\n          0.0000e+00, 6.5000e+01, 5.0000e+03, 0.0000e+00, 1.2500e+02, 8.0000e+01,\n          0.0000e+00, 1.0000e+00, 0.0000e+00],\n         [5.2000e+01, 6.0000e+00, 8.4000e+00, 9.0000e+00, 3.0000e+01, 3.0000e+00,\n          0.0000e+00, 6.5000e+01, 5.0000e+03, 0.0000e+00, 1.2500e+02, 8.0000e+01,\n          0.0000e+00, 1.0000e+00, 0.0000e+00],\n         [4.8000e+01, 2.0000e+00, 7.3000e+00, 7.0000e+00, 6.5000e+01, 5.0000e+00,\n          3.0000e+00, 8.3000e+01, 3.5000e+03, 2.0000e+00, 1.4200e+02, 9.2000e+01,\n          1.0000e+00, 0.0000e+00, 0.0000e+00],\n         [3.5000e+01, 6.0000e+00, 7.3000e+00, 8.0000e+00, 6.0000e+01, 4.0000e+00,\n          0.0000e+00, 6.5000e+01, 5.0000e+03, 0.0000e+00, 1.2500e+02, 8.0000e+01,\n          1.0000e+00, 0.0000e+00, 0.0000e+00],\n         [3.0000e+01, 2.0000e+00, 7.7000e+00, 7.0000e+00, 7.5000e+01, 6.0000e+00,\n          0.0000e+00, 7.0000e+01, 8.0000e+03, 0.0000e+00, 1.2000e+02, 8.0000e+01,\n          1.0000e+00, 0.0000e+00, 0.0000e+00],\n         [5.0000e+01, 5.0000e+00, 6.0000e+00, 6.0000e+00, 9.0000e+01, 8.0000e+00,\n          2.0000e+00, 7.5000e+01, 1.0000e+04, 1.0000e+00, 1.4000e+02, 9.5000e+01,\n          0.0000e+00, 1.0000e+00, 0.0000e+00],\n         [2.9000e+01, 5.0000e+00, 6.5000e+00, 5.0000e+00, 4.0000e+01, 7.0000e+00,\n          1.0000e+00, 8.0000e+01, 4.0000e+03, 1.0000e+00, 1.3200e+02, 8.7000e+01,\n          0.0000e+00, 1.0000e+00, 0.0000e+00],\n         [4.4000e+01, 1.0000e+01, 6.3000e+00, 6.0000e+00, 4.5000e+01, 7.0000e+00,\n          2.0000e+00, 7.2000e+01, 6.0000e+03, 2.0000e+00, 1.3000e+02, 8.5000e+01,\n          1.0000e+00, 0.0000e+00, 0.0000e+00],\n         [4.4000e+01, 1.0000e+01, 6.3000e+00, 6.0000e+00, 4.5000e+01, 7.0000e+00,\n          2.0000e+00, 7.2000e+01, 6.0000e+03, 2.0000e+00, 1.3000e+02, 8.5000e+01,\n          1.0000e+00, 0.0000e+00, 0.0000e+00],\n         [3.7000e+01, 7.0000e+00, 7.2000e+00, 8.0000e+00, 6.0000e+01, 4.0000e+00,\n          0.0000e+00, 6.8000e+01, 7.0000e+03, 0.0000e+00, 1.1500e+02, 7.5000e+01,\n          0.0000e+00, 1.0000e+00, 0.0000e+00]]),\n tensor(68.0115))"
     },
     "execution_count": 19,
     "metadata": {},
     "output_type": "execute_result"
    }
   ],
   "source": [
    "dataset[0]"
   ],
   "metadata": {
    "collapsed": false,
    "ExecuteTime": {
     "start_time": "2023-10-29T00:10:20.371772Z",
     "end_time": "2023-10-29T00:10:20.407771Z"
    }
   }
  },
  {
   "cell_type": "markdown",
   "source": [
    "## DataLoaders"
   ],
   "metadata": {
    "collapsed": false
   }
  },
  {
   "cell_type": "code",
   "execution_count": 20,
   "outputs": [],
   "source": [
    "generator = torch.Generator().manual_seed(420)\n",
    "train_ds, val_ds, test_ds = random_split(dataset, [0.7, 0.1, 0.2], generator=generator)"
   ],
   "metadata": {
    "collapsed": false,
    "ExecuteTime": {
     "start_time": "2023-10-29T00:10:26.363314Z",
     "end_time": "2023-10-29T00:10:26.372312Z"
    }
   }
  },
  {
   "cell_type": "code",
   "execution_count": 21,
   "outputs": [
    {
     "data": {
      "text/plain": "<torch.utils.data.dataset.Subset at 0x1a697d8cd30>"
     },
     "execution_count": 21,
     "metadata": {},
     "output_type": "execute_result"
    }
   ],
   "source": [
    "train_ds"
   ],
   "metadata": {
    "collapsed": false,
    "ExecuteTime": {
     "start_time": "2023-10-29T00:10:26.558129Z",
     "end_time": "2023-10-29T00:10:26.574280Z"
    }
   }
  },
  {
   "cell_type": "code",
   "execution_count": 22,
   "outputs": [],
   "source": [
    "train_loader = DataLoader(train_ds, batch_size=32, shuffle=True)"
   ],
   "metadata": {
    "collapsed": false,
    "ExecuteTime": {
     "start_time": "2023-10-29T00:10:26.702802Z",
     "end_time": "2023-10-29T00:10:26.713804Z"
    }
   }
  },
  {
   "cell_type": "code",
   "execution_count": 23,
   "outputs": [
    {
     "name": "stdout",
     "output_type": "stream",
     "text": [
      "x-shape:torch.Size([32, 50, 15]), y-shape:torch.Size([32])\n"
     ]
    }
   ],
   "source": [
    "for x, y in train_loader:\n",
    "    print(f\"x-shape:{x.shape}, y-shape:{y.shape}\")\n",
    "    break"
   ],
   "metadata": {
    "collapsed": false,
    "ExecuteTime": {
     "start_time": "2023-10-29T00:10:27.173266Z",
     "end_time": "2023-10-29T00:10:27.209522Z"
    }
   }
  },
  {
   "cell_type": "markdown",
   "source": [
    "## Specialize pure datasets"
   ],
   "metadata": {
    "collapsed": false
   }
  },
  {
   "cell_type": "code",
   "execution_count": 24,
   "outputs": [
    {
     "name": "stderr",
     "output_type": "stream",
     "text": [
      "100%|██████████| 10000/10000 [00:00<00:00, 82646.87it/s]\n"
     ]
    }
   ],
   "source": [
    "df_added_valid = add_valid_permutations(\n",
    "    num_to_generate,\n",
    "    df_index,\n",
    "    num_gondolas\n",
    ")"
   ],
   "metadata": {
    "collapsed": false,
    "ExecuteTime": {
     "start_time": "2023-10-29T00:10:28.868463Z",
     "end_time": "2023-10-29T00:10:29.006461Z"
    }
   }
  },
  {
   "cell_type": "code",
   "execution_count": 25,
   "outputs": [
    {
     "data": {
      "text/plain": "       g-0_p-0  g-0_p-1  g-0_p-2  g-0_p-3  g-0_p-4  g-1_p-0  g-1_p-1  g-1_p-2  \\\n0        264.0    191.0     98.0    235.0     35.0    356.0    253.0      9.0   \n1        338.0    176.0     95.0     11.0    161.0    248.0    364.0     53.0   \n2        290.0     99.0     75.0     21.0    237.0    287.0    215.0    213.0   \n3         15.0    277.0     93.0    106.0    290.0    354.0     60.0    226.0   \n4        190.0    260.0     34.0    286.0    360.0    167.0    251.0    298.0   \n...        ...      ...      ...      ...      ...      ...      ...      ...   \n19995    192.0     99.0    111.0    355.0    130.0    230.0     43.0     87.0   \n19996      3.0     10.0    288.0    281.0    101.0    118.0    228.0     69.0   \n19997     24.0    116.0    280.0     69.0    207.0    151.0     32.0    308.0   \n19998      4.0    119.0    160.0     35.0    318.0    209.0    204.0     92.0   \n19999     59.0    107.0    290.0    331.0    319.0    126.0    247.0    344.0   \n\n       g-1_p-3  g-1_p-4  ...  g-8_p-1  g-8_p-2  g-8_p-3  g-8_p-4  g-9_p-0  \\\n0        147.0    311.0  ...    315.0    265.0     92.0     23.0    287.0   \n1         64.0     71.0  ...    181.0    365.0     96.0    187.0    165.0   \n2        172.0    214.0  ...     76.0    188.0    274.0     77.0    264.0   \n3         75.0    318.0  ...    243.0    288.0     74.0    131.0    344.0   \n4        256.0     15.0  ...     48.0    258.0    107.0      5.0    307.0   \n...        ...      ...  ...      ...      ...      ...      ...      ...   \n19995     44.0     17.0  ...    228.0    185.0    160.0    278.0    324.0   \n19996    311.0     28.0  ...    310.0    356.0     84.0    216.0     25.0   \n19997    293.0    159.0  ...     40.0    285.0     94.0    234.0     11.0   \n19998    191.0      1.0  ...    342.0     58.0    367.0    306.0    270.0   \n19999    160.0    224.0  ...    197.0    289.0     20.0    258.0     68.0   \n\n       g-9_p-1  g-9_p-2  g-9_p-3  g-9_p-4      label  \n0         17.0    234.0    223.0    117.0  68.011480  \n1         38.0    114.0     98.0     56.0  55.463373  \n2        117.0    254.0    168.0     65.0  66.108493  \n3         86.0    266.0    218.0     83.0  58.642507  \n4        121.0    162.0      7.0     37.0  62.584213  \n...        ...      ...      ...      ...        ...  \n19995    341.0    251.0    304.0    339.0  67.306093  \n19996    164.0     75.0    289.0    245.0  64.498840  \n19997    165.0    351.0    333.0    175.0  65.748787  \n19998    109.0    341.0    161.0    373.0  61.697907  \n19999    136.0    253.0    225.0    273.0  59.530067  \n\n[20000 rows x 51 columns]",
      "text/html": "<div>\n<style scoped>\n    .dataframe tbody tr th:only-of-type {\n        vertical-align: middle;\n    }\n\n    .dataframe tbody tr th {\n        vertical-align: top;\n    }\n\n    .dataframe thead th {\n        text-align: right;\n    }\n</style>\n<table border=\"1\" class=\"dataframe\">\n  <thead>\n    <tr style=\"text-align: right;\">\n      <th></th>\n      <th>g-0_p-0</th>\n      <th>g-0_p-1</th>\n      <th>g-0_p-2</th>\n      <th>g-0_p-3</th>\n      <th>g-0_p-4</th>\n      <th>g-1_p-0</th>\n      <th>g-1_p-1</th>\n      <th>g-1_p-2</th>\n      <th>g-1_p-3</th>\n      <th>g-1_p-4</th>\n      <th>...</th>\n      <th>g-8_p-1</th>\n      <th>g-8_p-2</th>\n      <th>g-8_p-3</th>\n      <th>g-8_p-4</th>\n      <th>g-9_p-0</th>\n      <th>g-9_p-1</th>\n      <th>g-9_p-2</th>\n      <th>g-9_p-3</th>\n      <th>g-9_p-4</th>\n      <th>label</th>\n    </tr>\n  </thead>\n  <tbody>\n    <tr>\n      <th>0</th>\n      <td>264.0</td>\n      <td>191.0</td>\n      <td>98.0</td>\n      <td>235.0</td>\n      <td>35.0</td>\n      <td>356.0</td>\n      <td>253.0</td>\n      <td>9.0</td>\n      <td>147.0</td>\n      <td>311.0</td>\n      <td>...</td>\n      <td>315.0</td>\n      <td>265.0</td>\n      <td>92.0</td>\n      <td>23.0</td>\n      <td>287.0</td>\n      <td>17.0</td>\n      <td>234.0</td>\n      <td>223.0</td>\n      <td>117.0</td>\n      <td>68.011480</td>\n    </tr>\n    <tr>\n      <th>1</th>\n      <td>338.0</td>\n      <td>176.0</td>\n      <td>95.0</td>\n      <td>11.0</td>\n      <td>161.0</td>\n      <td>248.0</td>\n      <td>364.0</td>\n      <td>53.0</td>\n      <td>64.0</td>\n      <td>71.0</td>\n      <td>...</td>\n      <td>181.0</td>\n      <td>365.0</td>\n      <td>96.0</td>\n      <td>187.0</td>\n      <td>165.0</td>\n      <td>38.0</td>\n      <td>114.0</td>\n      <td>98.0</td>\n      <td>56.0</td>\n      <td>55.463373</td>\n    </tr>\n    <tr>\n      <th>2</th>\n      <td>290.0</td>\n      <td>99.0</td>\n      <td>75.0</td>\n      <td>21.0</td>\n      <td>237.0</td>\n      <td>287.0</td>\n      <td>215.0</td>\n      <td>213.0</td>\n      <td>172.0</td>\n      <td>214.0</td>\n      <td>...</td>\n      <td>76.0</td>\n      <td>188.0</td>\n      <td>274.0</td>\n      <td>77.0</td>\n      <td>264.0</td>\n      <td>117.0</td>\n      <td>254.0</td>\n      <td>168.0</td>\n      <td>65.0</td>\n      <td>66.108493</td>\n    </tr>\n    <tr>\n      <th>3</th>\n      <td>15.0</td>\n      <td>277.0</td>\n      <td>93.0</td>\n      <td>106.0</td>\n      <td>290.0</td>\n      <td>354.0</td>\n      <td>60.0</td>\n      <td>226.0</td>\n      <td>75.0</td>\n      <td>318.0</td>\n      <td>...</td>\n      <td>243.0</td>\n      <td>288.0</td>\n      <td>74.0</td>\n      <td>131.0</td>\n      <td>344.0</td>\n      <td>86.0</td>\n      <td>266.0</td>\n      <td>218.0</td>\n      <td>83.0</td>\n      <td>58.642507</td>\n    </tr>\n    <tr>\n      <th>4</th>\n      <td>190.0</td>\n      <td>260.0</td>\n      <td>34.0</td>\n      <td>286.0</td>\n      <td>360.0</td>\n      <td>167.0</td>\n      <td>251.0</td>\n      <td>298.0</td>\n      <td>256.0</td>\n      <td>15.0</td>\n      <td>...</td>\n      <td>48.0</td>\n      <td>258.0</td>\n      <td>107.0</td>\n      <td>5.0</td>\n      <td>307.0</td>\n      <td>121.0</td>\n      <td>162.0</td>\n      <td>7.0</td>\n      <td>37.0</td>\n      <td>62.584213</td>\n    </tr>\n    <tr>\n      <th>...</th>\n      <td>...</td>\n      <td>...</td>\n      <td>...</td>\n      <td>...</td>\n      <td>...</td>\n      <td>...</td>\n      <td>...</td>\n      <td>...</td>\n      <td>...</td>\n      <td>...</td>\n      <td>...</td>\n      <td>...</td>\n      <td>...</td>\n      <td>...</td>\n      <td>...</td>\n      <td>...</td>\n      <td>...</td>\n      <td>...</td>\n      <td>...</td>\n      <td>...</td>\n      <td>...</td>\n    </tr>\n    <tr>\n      <th>19995</th>\n      <td>192.0</td>\n      <td>99.0</td>\n      <td>111.0</td>\n      <td>355.0</td>\n      <td>130.0</td>\n      <td>230.0</td>\n      <td>43.0</td>\n      <td>87.0</td>\n      <td>44.0</td>\n      <td>17.0</td>\n      <td>...</td>\n      <td>228.0</td>\n      <td>185.0</td>\n      <td>160.0</td>\n      <td>278.0</td>\n      <td>324.0</td>\n      <td>341.0</td>\n      <td>251.0</td>\n      <td>304.0</td>\n      <td>339.0</td>\n      <td>67.306093</td>\n    </tr>\n    <tr>\n      <th>19996</th>\n      <td>3.0</td>\n      <td>10.0</td>\n      <td>288.0</td>\n      <td>281.0</td>\n      <td>101.0</td>\n      <td>118.0</td>\n      <td>228.0</td>\n      <td>69.0</td>\n      <td>311.0</td>\n      <td>28.0</td>\n      <td>...</td>\n      <td>310.0</td>\n      <td>356.0</td>\n      <td>84.0</td>\n      <td>216.0</td>\n      <td>25.0</td>\n      <td>164.0</td>\n      <td>75.0</td>\n      <td>289.0</td>\n      <td>245.0</td>\n      <td>64.498840</td>\n    </tr>\n    <tr>\n      <th>19997</th>\n      <td>24.0</td>\n      <td>116.0</td>\n      <td>280.0</td>\n      <td>69.0</td>\n      <td>207.0</td>\n      <td>151.0</td>\n      <td>32.0</td>\n      <td>308.0</td>\n      <td>293.0</td>\n      <td>159.0</td>\n      <td>...</td>\n      <td>40.0</td>\n      <td>285.0</td>\n      <td>94.0</td>\n      <td>234.0</td>\n      <td>11.0</td>\n      <td>165.0</td>\n      <td>351.0</td>\n      <td>333.0</td>\n      <td>175.0</td>\n      <td>65.748787</td>\n    </tr>\n    <tr>\n      <th>19998</th>\n      <td>4.0</td>\n      <td>119.0</td>\n      <td>160.0</td>\n      <td>35.0</td>\n      <td>318.0</td>\n      <td>209.0</td>\n      <td>204.0</td>\n      <td>92.0</td>\n      <td>191.0</td>\n      <td>1.0</td>\n      <td>...</td>\n      <td>342.0</td>\n      <td>58.0</td>\n      <td>367.0</td>\n      <td>306.0</td>\n      <td>270.0</td>\n      <td>109.0</td>\n      <td>341.0</td>\n      <td>161.0</td>\n      <td>373.0</td>\n      <td>61.697907</td>\n    </tr>\n    <tr>\n      <th>19999</th>\n      <td>59.0</td>\n      <td>107.0</td>\n      <td>290.0</td>\n      <td>331.0</td>\n      <td>319.0</td>\n      <td>126.0</td>\n      <td>247.0</td>\n      <td>344.0</td>\n      <td>160.0</td>\n      <td>224.0</td>\n      <td>...</td>\n      <td>197.0</td>\n      <td>289.0</td>\n      <td>20.0</td>\n      <td>258.0</td>\n      <td>68.0</td>\n      <td>136.0</td>\n      <td>253.0</td>\n      <td>225.0</td>\n      <td>273.0</td>\n      <td>59.530067</td>\n    </tr>\n  </tbody>\n</table>\n<p>20000 rows × 51 columns</p>\n</div>"
     },
     "execution_count": 25,
     "metadata": {},
     "output_type": "execute_result"
    }
   ],
   "source": [
    "df_added_valid"
   ],
   "metadata": {
    "collapsed": false,
    "ExecuteTime": {
     "start_time": "2023-10-29T00:10:38.264487Z",
     "end_time": "2023-10-29T00:10:38.286479Z"
    }
   }
  }
 ],
 "metadata": {
  "kernelspec": {
   "display_name": "Python 3",
   "language": "python",
   "name": "python3"
  },
  "language_info": {
   "codemirror_mode": {
    "name": "ipython",
    "version": 2
   },
   "file_extension": ".py",
   "mimetype": "text/x-python",
   "name": "python",
   "nbconvert_exporter": "python",
   "pygments_lexer": "ipython2",
   "version": "2.7.6"
  }
 },
 "nbformat": 4,
 "nbformat_minor": 0
}
