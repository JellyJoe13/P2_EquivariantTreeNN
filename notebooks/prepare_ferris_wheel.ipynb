{
 "cells": [
  {
   "cell_type": "markdown",
   "source": [
    "# Preparation of Dataset (development notebook)"
   ],
   "metadata": {
    "collapsed": false
   }
  },
  {
   "cell_type": "markdown",
   "source": [
    "## Import section"
   ],
   "metadata": {
    "collapsed": false
   }
  },
  {
   "cell_type": "code",
   "execution_count": 1,
   "outputs": [],
   "source": [
    "import numpy as np\n",
    "import pandas as pd\n",
    "\n",
    "from etnn.data.prepare_ferris_wheel import prepare_1_ferris, generate_ferris_dataset\n",
    "from etnn.data.ferris_score_helpers import build_wheel_happyness\n",
    "from etnn.data.ferris_wheel import load_pure_ferris_wheel_dataset\n",
    "import torch\n",
    "from torch.utils.data import random_split, DataLoader\n",
    "from tqdm import tqdm"
   ],
   "metadata": {
    "collapsed": false,
    "ExecuteTime": {
     "start_time": "2023-10-28T19:18:41.197058Z",
     "end_time": "2023-10-28T19:18:42.554826Z"
    }
   }
  },
  {
   "cell_type": "code",
   "execution_count": 2,
   "outputs": [],
   "source": [
    "DATASET_PATH = \"../datasets\""
   ],
   "metadata": {
    "collapsed": false,
    "ExecuteTime": {
     "start_time": "2023-10-28T19:18:42.554826Z",
     "end_time": "2023-10-28T19:18:42.570826Z"
    }
   }
  },
  {
   "cell_type": "markdown",
   "source": [
    "## Person dataset"
   ],
   "metadata": {
    "collapsed": false
   }
  },
  {
   "cell_type": "code",
   "execution_count": 3,
   "outputs": [],
   "source": [
    "df_health = prepare_1_ferris(\n",
    "    dataset_path=\"../datasets\",\n",
    "    df_name_output=\"health_dataset_preprocessed-1.csv\",\n",
    "    df_name_input=\"Sleep_health_and_lifestyle_dataset.csv\",\n",
    "    try_pregen=True\n",
    ")"
   ],
   "metadata": {
    "collapsed": false,
    "ExecuteTime": {
     "start_time": "2023-10-28T19:18:42.570826Z",
     "end_time": "2023-10-28T19:18:42.589482Z"
    }
   }
  },
  {
   "cell_type": "code",
   "execution_count": 4,
   "outputs": [
    {
     "data": {
      "text/plain": "   id  age  occupation  sleep_duration  sleep_quality  physical_activity  \\\n0   1   27           1             6.1              6                 42   \n1   2   28           2             6.2              6                 60   \n2   3   28           2             6.2              6                 60   \n3   4   28           3             5.9              4                 30   \n4   5   28           3             5.9              4                 30   \n\n   stress_level  bmi  heart_rate  daily_steps  sleep_disorder  \\\n0             6    2          77         4200               0   \n1             8    0          75        10000               0   \n2             8    0          75        10000               0   \n3             8    3          85         3000               1   \n4             8    3          85         3000               1   \n\n   blood_pressure1  blood_pressure2  gender_male  gender_female  gender_other  \n0              126               83         True          False         False  \n1              125               80         True          False         False  \n2              125               80         True          False         False  \n3              140               90         True          False         False  \n4              140               90         True          False         False  ",
      "text/html": "<div>\n<style scoped>\n    .dataframe tbody tr th:only-of-type {\n        vertical-align: middle;\n    }\n\n    .dataframe tbody tr th {\n        vertical-align: top;\n    }\n\n    .dataframe thead th {\n        text-align: right;\n    }\n</style>\n<table border=\"1\" class=\"dataframe\">\n  <thead>\n    <tr style=\"text-align: right;\">\n      <th></th>\n      <th>id</th>\n      <th>age</th>\n      <th>occupation</th>\n      <th>sleep_duration</th>\n      <th>sleep_quality</th>\n      <th>physical_activity</th>\n      <th>stress_level</th>\n      <th>bmi</th>\n      <th>heart_rate</th>\n      <th>daily_steps</th>\n      <th>sleep_disorder</th>\n      <th>blood_pressure1</th>\n      <th>blood_pressure2</th>\n      <th>gender_male</th>\n      <th>gender_female</th>\n      <th>gender_other</th>\n    </tr>\n  </thead>\n  <tbody>\n    <tr>\n      <th>0</th>\n      <td>1</td>\n      <td>27</td>\n      <td>1</td>\n      <td>6.1</td>\n      <td>6</td>\n      <td>42</td>\n      <td>6</td>\n      <td>2</td>\n      <td>77</td>\n      <td>4200</td>\n      <td>0</td>\n      <td>126</td>\n      <td>83</td>\n      <td>True</td>\n      <td>False</td>\n      <td>False</td>\n    </tr>\n    <tr>\n      <th>1</th>\n      <td>2</td>\n      <td>28</td>\n      <td>2</td>\n      <td>6.2</td>\n      <td>6</td>\n      <td>60</td>\n      <td>8</td>\n      <td>0</td>\n      <td>75</td>\n      <td>10000</td>\n      <td>0</td>\n      <td>125</td>\n      <td>80</td>\n      <td>True</td>\n      <td>False</td>\n      <td>False</td>\n    </tr>\n    <tr>\n      <th>2</th>\n      <td>3</td>\n      <td>28</td>\n      <td>2</td>\n      <td>6.2</td>\n      <td>6</td>\n      <td>60</td>\n      <td>8</td>\n      <td>0</td>\n      <td>75</td>\n      <td>10000</td>\n      <td>0</td>\n      <td>125</td>\n      <td>80</td>\n      <td>True</td>\n      <td>False</td>\n      <td>False</td>\n    </tr>\n    <tr>\n      <th>3</th>\n      <td>4</td>\n      <td>28</td>\n      <td>3</td>\n      <td>5.9</td>\n      <td>4</td>\n      <td>30</td>\n      <td>8</td>\n      <td>3</td>\n      <td>85</td>\n      <td>3000</td>\n      <td>1</td>\n      <td>140</td>\n      <td>90</td>\n      <td>True</td>\n      <td>False</td>\n      <td>False</td>\n    </tr>\n    <tr>\n      <th>4</th>\n      <td>5</td>\n      <td>28</td>\n      <td>3</td>\n      <td>5.9</td>\n      <td>4</td>\n      <td>30</td>\n      <td>8</td>\n      <td>3</td>\n      <td>85</td>\n      <td>3000</td>\n      <td>1</td>\n      <td>140</td>\n      <td>90</td>\n      <td>True</td>\n      <td>False</td>\n      <td>False</td>\n    </tr>\n  </tbody>\n</table>\n</div>"
     },
     "execution_count": 4,
     "metadata": {},
     "output_type": "execute_result"
    }
   ],
   "source": [
    "df_health.head()"
   ],
   "metadata": {
    "collapsed": false,
    "ExecuteTime": {
     "start_time": "2023-10-28T19:18:42.587241Z",
     "end_time": "2023-10-28T19:18:42.603981Z"
    }
   }
  },
  {
   "cell_type": "markdown",
   "source": [
    "## Gondola dataset (indexing)"
   ],
   "metadata": {
    "collapsed": false
   }
  },
  {
   "cell_type": "code",
   "execution_count": 5,
   "outputs": [],
   "source": [
    "# take group of ids from persons and state how the label for this group shall be calculated"
   ],
   "metadata": {
    "collapsed": false,
    "ExecuteTime": {
     "start_time": "2023-10-28T19:18:42.601981Z",
     "end_time": "2023-10-28T19:18:42.622981Z"
    }
   }
  },
  {
   "cell_type": "code",
   "execution_count": 6,
   "outputs": [],
   "source": [
    "# define ferris wheel\n",
    "num_gondolas = 10\n",
    "num_part_pg = 5"
   ],
   "metadata": {
    "collapsed": false,
    "ExecuteTime": {
     "start_time": "2023-10-28T19:18:42.618982Z",
     "end_time": "2023-10-28T19:18:42.678174Z"
    }
   }
  },
  {
   "cell_type": "code",
   "execution_count": 7,
   "outputs": [],
   "source": [
    "# generate sample element\n",
    "random_order = np.arange(len(df_health)) + 1\n",
    "np.random.shuffle(random_order)"
   ],
   "metadata": {
    "collapsed": false,
    "ExecuteTime": {
     "start_time": "2023-10-28T19:18:42.633982Z",
     "end_time": "2023-10-28T19:18:42.698176Z"
    }
   }
  },
  {
   "cell_type": "code",
   "execution_count": 8,
   "outputs": [],
   "source": [
    "example = [\n",
    "    random_order[i*num_part_pg:(i+1)*num_part_pg]\n",
    "    for i in range(num_gondolas)\n",
    "]"
   ],
   "metadata": {
    "collapsed": false,
    "ExecuteTime": {
     "start_time": "2023-10-28T19:18:42.648982Z",
     "end_time": "2023-10-28T19:18:42.699176Z"
    }
   }
  },
  {
   "cell_type": "code",
   "execution_count": 9,
   "outputs": [
    {
     "data": {
      "text/plain": "[array([325, 373,  25,   3, 317]),\n array([180, 203,  54,   5,  57]),\n array([355, 332, 115, 234, 100]),\n array([341,  43, 104, 295, 255]),\n array([371,  66, 175, 194, 140]),\n array([309, 286, 259, 167, 273]),\n array([128, 132,  42, 274, 213]),\n array([311, 257,   2, 210, 342]),\n array([131, 300,  94, 171, 189]),\n array([ 71,  45,  84, 237, 374])]"
     },
     "execution_count": 9,
     "metadata": {},
     "output_type": "execute_result"
    }
   ],
   "source": [
    "example"
   ],
   "metadata": {
    "collapsed": false,
    "ExecuteTime": {
     "start_time": "2023-10-28T19:18:42.665176Z",
     "end_time": "2023-10-28T19:18:42.699176Z"
    }
   }
  },
  {
   "cell_type": "code",
   "execution_count": 10,
   "outputs": [
    {
     "data": {
      "text/plain": "array([[325, 373,  25,   3, 317],\n       [180, 203,  54,   5,  57],\n       [355, 332, 115, 234, 100],\n       [341,  43, 104, 295, 255],\n       [371,  66, 175, 194, 140],\n       [309, 286, 259, 167, 273],\n       [128, 132,  42, 274, 213],\n       [311, 257,   2, 210, 342],\n       [131, 300,  94, 171, 189],\n       [ 71,  45,  84, 237, 374]])"
     },
     "execution_count": 10,
     "metadata": {},
     "output_type": "execute_result"
    }
   ],
   "source": [
    "random_order[:num_gondolas*num_part_pg].reshape(num_gondolas, num_part_pg)"
   ],
   "metadata": {
    "collapsed": false,
    "ExecuteTime": {
     "start_time": "2023-10-28T19:18:42.681174Z",
     "end_time": "2023-10-28T19:18:42.699176Z"
    }
   }
  },
  {
   "cell_type": "markdown",
   "source": [
    "Rules:\n",
    "- People being happy with other people in same gondola\n",
    "    + Age composition too seperated is bad\n",
    "    + shift in gender is bad if too much, 50-50 is good or all one gender\n",
    "    + same with age composition\n",
    "    + sleep derived(multiplier with quality) persons get a subtraction and 'good sleepers' get bonus (sleep disorder counts as stronger subtraction)\n",
    "    + higher heart rate and pressure = joy or fear\n",
    "    + composition of persons in regards to bmi : extreme values make others (no exception for group all those as to many underweight or overweight persons may be awquard as well)\n",
    "- People being happy with neighboring gondolas composition\n",
    "    + same age gets bonus, none gets penalty as potentially group is separated\n",
    "    + gap between happyness index between self and neighbors causes it to produce a mean of only the neighbors"
   ],
   "metadata": {
    "collapsed": false
   }
  },
  {
   "cell_type": "code",
   "execution_count": 11,
   "outputs": [
    {
     "data": {
      "text/plain": "54.92653333333333"
     },
     "execution_count": 11,
     "metadata": {},
     "output_type": "execute_result"
    }
   ],
   "source": [
    "build_wheel_happyness(df_health, example)"
   ],
   "metadata": {
    "collapsed": false,
    "ExecuteTime": {
     "start_time": "2023-10-28T19:18:42.697176Z",
     "end_time": "2023-10-28T19:18:42.773551Z"
    }
   }
  },
  {
   "cell_type": "code",
   "execution_count": 12,
   "outputs": [
    {
     "data": {
      "text/plain": "54.92653333333333"
     },
     "execution_count": 12,
     "metadata": {},
     "output_type": "execute_result"
    }
   ],
   "source": [
    "build_wheel_happyness(df_health, random_order[:num_gondolas * num_part_pg].reshape(num_gondolas, num_part_pg))"
   ],
   "metadata": {
    "collapsed": false,
    "ExecuteTime": {
     "start_time": "2023-10-28T19:18:42.729199Z",
     "end_time": "2023-10-28T19:18:42.782551Z"
    }
   }
  },
  {
   "cell_type": "code",
   "execution_count": 13,
   "outputs": [],
   "source": [
    "# define dataset size\n",
    "num_to_generate = 10_000\n",
    "# define ferris wheel\n",
    "num_gondolas = 10\n",
    "num_part_pg = 5"
   ],
   "metadata": {
    "collapsed": false,
    "ExecuteTime": {
     "start_time": "2023-10-28T19:18:42.759551Z",
     "end_time": "2023-10-28T19:18:42.782551Z"
    }
   }
  },
  {
   "cell_type": "code",
   "execution_count": 14,
   "outputs": [],
   "source": [
    "df_index, df_health = generate_ferris_dataset(\n",
    "    num_gondolas=num_gondolas,\n",
    "    num_part_pg=num_part_pg,\n",
    "    num_to_generate=num_to_generate,\n",
    "    dataset_path=\"../datasets\",\n",
    "    df_intermediate_output_name=\"health_dataset_preprocessed-1.csv\",\n",
    "    df_name_input=\"Sleep_health_and_lifestyle_dataset.csv\",\n",
    "    try_pregen=True\n",
    ")"
   ],
   "metadata": {
    "collapsed": false,
    "ExecuteTime": {
     "start_time": "2023-10-28T19:18:42.776553Z",
     "end_time": "2023-10-28T19:18:42.836973Z"
    }
   }
  },
  {
   "cell_type": "code",
   "execution_count": 15,
   "outputs": [
    {
     "data": {
      "text/plain": "   g-0_p-0  g-0_p-1  g-0_p-2  g-0_p-3  g-0_p-4  g-1_p-0  g-1_p-1  g-1_p-2  \\\n0      264      191       98      235       35      356      253        9   \n1      338      176       95       11      161      248      364       53   \n2      290       99       75       21      237      287      215      213   \n3       15      277       93      106      290      354       60      226   \n4      190      260       34      286      360      167      251      298   \n\n   g-1_p-3  g-1_p-4  ...  g-8_p-1  g-8_p-2  g-8_p-3  g-8_p-4  g-9_p-0  \\\n0      147      311  ...      315      265       92       23      287   \n1       64       71  ...      181      365       96      187      165   \n2      172      214  ...       76      188      274       77      264   \n3       75      318  ...      243      288       74      131      344   \n4      256       15  ...       48      258      107        5      307   \n\n   g-9_p-1  g-9_p-2  g-9_p-3  g-9_p-4      label  \n0       17      234      223      117  68.011480  \n1       38      114       98       56  55.463373  \n2      117      254      168       65  66.108493  \n3       86      266      218       83  58.642507  \n4      121      162        7       37  62.584213  \n\n[5 rows x 51 columns]",
      "text/html": "<div>\n<style scoped>\n    .dataframe tbody tr th:only-of-type {\n        vertical-align: middle;\n    }\n\n    .dataframe tbody tr th {\n        vertical-align: top;\n    }\n\n    .dataframe thead th {\n        text-align: right;\n    }\n</style>\n<table border=\"1\" class=\"dataframe\">\n  <thead>\n    <tr style=\"text-align: right;\">\n      <th></th>\n      <th>g-0_p-0</th>\n      <th>g-0_p-1</th>\n      <th>g-0_p-2</th>\n      <th>g-0_p-3</th>\n      <th>g-0_p-4</th>\n      <th>g-1_p-0</th>\n      <th>g-1_p-1</th>\n      <th>g-1_p-2</th>\n      <th>g-1_p-3</th>\n      <th>g-1_p-4</th>\n      <th>...</th>\n      <th>g-8_p-1</th>\n      <th>g-8_p-2</th>\n      <th>g-8_p-3</th>\n      <th>g-8_p-4</th>\n      <th>g-9_p-0</th>\n      <th>g-9_p-1</th>\n      <th>g-9_p-2</th>\n      <th>g-9_p-3</th>\n      <th>g-9_p-4</th>\n      <th>label</th>\n    </tr>\n  </thead>\n  <tbody>\n    <tr>\n      <th>0</th>\n      <td>264</td>\n      <td>191</td>\n      <td>98</td>\n      <td>235</td>\n      <td>35</td>\n      <td>356</td>\n      <td>253</td>\n      <td>9</td>\n      <td>147</td>\n      <td>311</td>\n      <td>...</td>\n      <td>315</td>\n      <td>265</td>\n      <td>92</td>\n      <td>23</td>\n      <td>287</td>\n      <td>17</td>\n      <td>234</td>\n      <td>223</td>\n      <td>117</td>\n      <td>68.011480</td>\n    </tr>\n    <tr>\n      <th>1</th>\n      <td>338</td>\n      <td>176</td>\n      <td>95</td>\n      <td>11</td>\n      <td>161</td>\n      <td>248</td>\n      <td>364</td>\n      <td>53</td>\n      <td>64</td>\n      <td>71</td>\n      <td>...</td>\n      <td>181</td>\n      <td>365</td>\n      <td>96</td>\n      <td>187</td>\n      <td>165</td>\n      <td>38</td>\n      <td>114</td>\n      <td>98</td>\n      <td>56</td>\n      <td>55.463373</td>\n    </tr>\n    <tr>\n      <th>2</th>\n      <td>290</td>\n      <td>99</td>\n      <td>75</td>\n      <td>21</td>\n      <td>237</td>\n      <td>287</td>\n      <td>215</td>\n      <td>213</td>\n      <td>172</td>\n      <td>214</td>\n      <td>...</td>\n      <td>76</td>\n      <td>188</td>\n      <td>274</td>\n      <td>77</td>\n      <td>264</td>\n      <td>117</td>\n      <td>254</td>\n      <td>168</td>\n      <td>65</td>\n      <td>66.108493</td>\n    </tr>\n    <tr>\n      <th>3</th>\n      <td>15</td>\n      <td>277</td>\n      <td>93</td>\n      <td>106</td>\n      <td>290</td>\n      <td>354</td>\n      <td>60</td>\n      <td>226</td>\n      <td>75</td>\n      <td>318</td>\n      <td>...</td>\n      <td>243</td>\n      <td>288</td>\n      <td>74</td>\n      <td>131</td>\n      <td>344</td>\n      <td>86</td>\n      <td>266</td>\n      <td>218</td>\n      <td>83</td>\n      <td>58.642507</td>\n    </tr>\n    <tr>\n      <th>4</th>\n      <td>190</td>\n      <td>260</td>\n      <td>34</td>\n      <td>286</td>\n      <td>360</td>\n      <td>167</td>\n      <td>251</td>\n      <td>298</td>\n      <td>256</td>\n      <td>15</td>\n      <td>...</td>\n      <td>48</td>\n      <td>258</td>\n      <td>107</td>\n      <td>5</td>\n      <td>307</td>\n      <td>121</td>\n      <td>162</td>\n      <td>7</td>\n      <td>37</td>\n      <td>62.584213</td>\n    </tr>\n  </tbody>\n</table>\n<p>5 rows × 51 columns</p>\n</div>"
     },
     "execution_count": 15,
     "metadata": {},
     "output_type": "execute_result"
    }
   ],
   "source": [
    "df_index.head()"
   ],
   "metadata": {
    "collapsed": false,
    "ExecuteTime": {
     "start_time": "2023-10-28T19:18:42.807550Z",
     "end_time": "2023-10-28T19:18:42.868974Z"
    }
   }
  },
  {
   "cell_type": "code",
   "execution_count": 16,
   "outputs": [
    {
     "data": {
      "text/plain": "   id  age  occupation  sleep_duration  sleep_quality  physical_activity  \\\n0   1   27           1             6.1              6                 42   \n1   2   28           2             6.2              6                 60   \n2   3   28           2             6.2              6                 60   \n3   4   28           3             5.9              4                 30   \n4   5   28           3             5.9              4                 30   \n\n   stress_level  bmi  heart_rate  daily_steps  sleep_disorder  \\\n0             6    2          77         4200               0   \n1             8    0          75        10000               0   \n2             8    0          75        10000               0   \n3             8    3          85         3000               1   \n4             8    3          85         3000               1   \n\n   blood_pressure1  blood_pressure2  gender_male  gender_female  gender_other  \n0              126               83         True          False         False  \n1              125               80         True          False         False  \n2              125               80         True          False         False  \n3              140               90         True          False         False  \n4              140               90         True          False         False  ",
      "text/html": "<div>\n<style scoped>\n    .dataframe tbody tr th:only-of-type {\n        vertical-align: middle;\n    }\n\n    .dataframe tbody tr th {\n        vertical-align: top;\n    }\n\n    .dataframe thead th {\n        text-align: right;\n    }\n</style>\n<table border=\"1\" class=\"dataframe\">\n  <thead>\n    <tr style=\"text-align: right;\">\n      <th></th>\n      <th>id</th>\n      <th>age</th>\n      <th>occupation</th>\n      <th>sleep_duration</th>\n      <th>sleep_quality</th>\n      <th>physical_activity</th>\n      <th>stress_level</th>\n      <th>bmi</th>\n      <th>heart_rate</th>\n      <th>daily_steps</th>\n      <th>sleep_disorder</th>\n      <th>blood_pressure1</th>\n      <th>blood_pressure2</th>\n      <th>gender_male</th>\n      <th>gender_female</th>\n      <th>gender_other</th>\n    </tr>\n  </thead>\n  <tbody>\n    <tr>\n      <th>0</th>\n      <td>1</td>\n      <td>27</td>\n      <td>1</td>\n      <td>6.1</td>\n      <td>6</td>\n      <td>42</td>\n      <td>6</td>\n      <td>2</td>\n      <td>77</td>\n      <td>4200</td>\n      <td>0</td>\n      <td>126</td>\n      <td>83</td>\n      <td>True</td>\n      <td>False</td>\n      <td>False</td>\n    </tr>\n    <tr>\n      <th>1</th>\n      <td>2</td>\n      <td>28</td>\n      <td>2</td>\n      <td>6.2</td>\n      <td>6</td>\n      <td>60</td>\n      <td>8</td>\n      <td>0</td>\n      <td>75</td>\n      <td>10000</td>\n      <td>0</td>\n      <td>125</td>\n      <td>80</td>\n      <td>True</td>\n      <td>False</td>\n      <td>False</td>\n    </tr>\n    <tr>\n      <th>2</th>\n      <td>3</td>\n      <td>28</td>\n      <td>2</td>\n      <td>6.2</td>\n      <td>6</td>\n      <td>60</td>\n      <td>8</td>\n      <td>0</td>\n      <td>75</td>\n      <td>10000</td>\n      <td>0</td>\n      <td>125</td>\n      <td>80</td>\n      <td>True</td>\n      <td>False</td>\n      <td>False</td>\n    </tr>\n    <tr>\n      <th>3</th>\n      <td>4</td>\n      <td>28</td>\n      <td>3</td>\n      <td>5.9</td>\n      <td>4</td>\n      <td>30</td>\n      <td>8</td>\n      <td>3</td>\n      <td>85</td>\n      <td>3000</td>\n      <td>1</td>\n      <td>140</td>\n      <td>90</td>\n      <td>True</td>\n      <td>False</td>\n      <td>False</td>\n    </tr>\n    <tr>\n      <th>4</th>\n      <td>5</td>\n      <td>28</td>\n      <td>3</td>\n      <td>5.9</td>\n      <td>4</td>\n      <td>30</td>\n      <td>8</td>\n      <td>3</td>\n      <td>85</td>\n      <td>3000</td>\n      <td>1</td>\n      <td>140</td>\n      <td>90</td>\n      <td>True</td>\n      <td>False</td>\n      <td>False</td>\n    </tr>\n  </tbody>\n</table>\n</div>"
     },
     "execution_count": 16,
     "metadata": {},
     "output_type": "execute_result"
    }
   ],
   "source": [
    "df_health.head()"
   ],
   "metadata": {
    "collapsed": false,
    "ExecuteTime": {
     "start_time": "2023-10-28T19:18:42.823552Z",
     "end_time": "2023-10-28T19:18:42.875974Z"
    }
   }
  },
  {
   "cell_type": "code",
   "execution_count": 17,
   "outputs": [
    {
     "data": {
      "text/plain": "      g-0_p-0  g-0_p-1  g-0_p-2  g-0_p-3  g-0_p-4  g-1_p-0  g-1_p-1  g-1_p-2  \\\n0         264      191       98      235       35      356      253        9   \n1         338      176       95       11      161      248      364       53   \n2         290       99       75       21      237      287      215      213   \n3          15      277       93      106      290      354       60      226   \n4         190      260       34      286      360      167      251      298   \n...       ...      ...      ...      ...      ...      ...      ...      ...   \n9995      127       84      110      152      265       90      318       72   \n9996      286       97      191      288       32      268       41      347   \n9997      372      168      198      199      239      369      323      277   \n9998      154      310      224       59       87      207       97       78   \n9999      351       31      277      304      357       35      111      254   \n\n      g-1_p-3  g-1_p-4  ...  g-8_p-0  g-8_p-1  g-8_p-2  g-8_p-3  g-8_p-4  \\\n0         147      311  ...      299      315      265       92       23   \n1          64       71  ...      100      181      365       96      187   \n2         172      214  ...      122       76      188      274       77   \n3          75      318  ...      235      243      288       74      131   \n4         256       15  ...       28       48      258      107        5   \n...       ...      ...  ...      ...      ...      ...      ...      ...   \n9995      331      237  ...      346        7      341      126       70   \n9996      272      169  ...      194      178      269      310       79   \n9997      174      281  ...      191      112       75      331      177   \n9998      290      241  ...       12      338      254      183      145   \n9999       40       69  ...       16       71       65      163      296   \n\n      g-9_p-0  g-9_p-1  g-9_p-2  g-9_p-3  g-9_p-4  \n0         287       17      234      223      117  \n1         165       38      114       98       56  \n2         264      117      254      168       65  \n3         344       86      266      218       83  \n4         307      121      162        7       37  \n...       ...      ...      ...      ...      ...  \n9995      208       67      248      291      246  \n9996      370      108      189      340       24  \n9997      163      155        7      188      290  \n9998       22       95      247      158      231  \n9999      123      363      180      148      297  \n\n[10000 rows x 50 columns]",
      "text/html": "<div>\n<style scoped>\n    .dataframe tbody tr th:only-of-type {\n        vertical-align: middle;\n    }\n\n    .dataframe tbody tr th {\n        vertical-align: top;\n    }\n\n    .dataframe thead th {\n        text-align: right;\n    }\n</style>\n<table border=\"1\" class=\"dataframe\">\n  <thead>\n    <tr style=\"text-align: right;\">\n      <th></th>\n      <th>g-0_p-0</th>\n      <th>g-0_p-1</th>\n      <th>g-0_p-2</th>\n      <th>g-0_p-3</th>\n      <th>g-0_p-4</th>\n      <th>g-1_p-0</th>\n      <th>g-1_p-1</th>\n      <th>g-1_p-2</th>\n      <th>g-1_p-3</th>\n      <th>g-1_p-4</th>\n      <th>...</th>\n      <th>g-8_p-0</th>\n      <th>g-8_p-1</th>\n      <th>g-8_p-2</th>\n      <th>g-8_p-3</th>\n      <th>g-8_p-4</th>\n      <th>g-9_p-0</th>\n      <th>g-9_p-1</th>\n      <th>g-9_p-2</th>\n      <th>g-9_p-3</th>\n      <th>g-9_p-4</th>\n    </tr>\n  </thead>\n  <tbody>\n    <tr>\n      <th>0</th>\n      <td>264</td>\n      <td>191</td>\n      <td>98</td>\n      <td>235</td>\n      <td>35</td>\n      <td>356</td>\n      <td>253</td>\n      <td>9</td>\n      <td>147</td>\n      <td>311</td>\n      <td>...</td>\n      <td>299</td>\n      <td>315</td>\n      <td>265</td>\n      <td>92</td>\n      <td>23</td>\n      <td>287</td>\n      <td>17</td>\n      <td>234</td>\n      <td>223</td>\n      <td>117</td>\n    </tr>\n    <tr>\n      <th>1</th>\n      <td>338</td>\n      <td>176</td>\n      <td>95</td>\n      <td>11</td>\n      <td>161</td>\n      <td>248</td>\n      <td>364</td>\n      <td>53</td>\n      <td>64</td>\n      <td>71</td>\n      <td>...</td>\n      <td>100</td>\n      <td>181</td>\n      <td>365</td>\n      <td>96</td>\n      <td>187</td>\n      <td>165</td>\n      <td>38</td>\n      <td>114</td>\n      <td>98</td>\n      <td>56</td>\n    </tr>\n    <tr>\n      <th>2</th>\n      <td>290</td>\n      <td>99</td>\n      <td>75</td>\n      <td>21</td>\n      <td>237</td>\n      <td>287</td>\n      <td>215</td>\n      <td>213</td>\n      <td>172</td>\n      <td>214</td>\n      <td>...</td>\n      <td>122</td>\n      <td>76</td>\n      <td>188</td>\n      <td>274</td>\n      <td>77</td>\n      <td>264</td>\n      <td>117</td>\n      <td>254</td>\n      <td>168</td>\n      <td>65</td>\n    </tr>\n    <tr>\n      <th>3</th>\n      <td>15</td>\n      <td>277</td>\n      <td>93</td>\n      <td>106</td>\n      <td>290</td>\n      <td>354</td>\n      <td>60</td>\n      <td>226</td>\n      <td>75</td>\n      <td>318</td>\n      <td>...</td>\n      <td>235</td>\n      <td>243</td>\n      <td>288</td>\n      <td>74</td>\n      <td>131</td>\n      <td>344</td>\n      <td>86</td>\n      <td>266</td>\n      <td>218</td>\n      <td>83</td>\n    </tr>\n    <tr>\n      <th>4</th>\n      <td>190</td>\n      <td>260</td>\n      <td>34</td>\n      <td>286</td>\n      <td>360</td>\n      <td>167</td>\n      <td>251</td>\n      <td>298</td>\n      <td>256</td>\n      <td>15</td>\n      <td>...</td>\n      <td>28</td>\n      <td>48</td>\n      <td>258</td>\n      <td>107</td>\n      <td>5</td>\n      <td>307</td>\n      <td>121</td>\n      <td>162</td>\n      <td>7</td>\n      <td>37</td>\n    </tr>\n    <tr>\n      <th>...</th>\n      <td>...</td>\n      <td>...</td>\n      <td>...</td>\n      <td>...</td>\n      <td>...</td>\n      <td>...</td>\n      <td>...</td>\n      <td>...</td>\n      <td>...</td>\n      <td>...</td>\n      <td>...</td>\n      <td>...</td>\n      <td>...</td>\n      <td>...</td>\n      <td>...</td>\n      <td>...</td>\n      <td>...</td>\n      <td>...</td>\n      <td>...</td>\n      <td>...</td>\n      <td>...</td>\n    </tr>\n    <tr>\n      <th>9995</th>\n      <td>127</td>\n      <td>84</td>\n      <td>110</td>\n      <td>152</td>\n      <td>265</td>\n      <td>90</td>\n      <td>318</td>\n      <td>72</td>\n      <td>331</td>\n      <td>237</td>\n      <td>...</td>\n      <td>346</td>\n      <td>7</td>\n      <td>341</td>\n      <td>126</td>\n      <td>70</td>\n      <td>208</td>\n      <td>67</td>\n      <td>248</td>\n      <td>291</td>\n      <td>246</td>\n    </tr>\n    <tr>\n      <th>9996</th>\n      <td>286</td>\n      <td>97</td>\n      <td>191</td>\n      <td>288</td>\n      <td>32</td>\n      <td>268</td>\n      <td>41</td>\n      <td>347</td>\n      <td>272</td>\n      <td>169</td>\n      <td>...</td>\n      <td>194</td>\n      <td>178</td>\n      <td>269</td>\n      <td>310</td>\n      <td>79</td>\n      <td>370</td>\n      <td>108</td>\n      <td>189</td>\n      <td>340</td>\n      <td>24</td>\n    </tr>\n    <tr>\n      <th>9997</th>\n      <td>372</td>\n      <td>168</td>\n      <td>198</td>\n      <td>199</td>\n      <td>239</td>\n      <td>369</td>\n      <td>323</td>\n      <td>277</td>\n      <td>174</td>\n      <td>281</td>\n      <td>...</td>\n      <td>191</td>\n      <td>112</td>\n      <td>75</td>\n      <td>331</td>\n      <td>177</td>\n      <td>163</td>\n      <td>155</td>\n      <td>7</td>\n      <td>188</td>\n      <td>290</td>\n    </tr>\n    <tr>\n      <th>9998</th>\n      <td>154</td>\n      <td>310</td>\n      <td>224</td>\n      <td>59</td>\n      <td>87</td>\n      <td>207</td>\n      <td>97</td>\n      <td>78</td>\n      <td>290</td>\n      <td>241</td>\n      <td>...</td>\n      <td>12</td>\n      <td>338</td>\n      <td>254</td>\n      <td>183</td>\n      <td>145</td>\n      <td>22</td>\n      <td>95</td>\n      <td>247</td>\n      <td>158</td>\n      <td>231</td>\n    </tr>\n    <tr>\n      <th>9999</th>\n      <td>351</td>\n      <td>31</td>\n      <td>277</td>\n      <td>304</td>\n      <td>357</td>\n      <td>35</td>\n      <td>111</td>\n      <td>254</td>\n      <td>40</td>\n      <td>69</td>\n      <td>...</td>\n      <td>16</td>\n      <td>71</td>\n      <td>65</td>\n      <td>163</td>\n      <td>296</td>\n      <td>123</td>\n      <td>363</td>\n      <td>180</td>\n      <td>148</td>\n      <td>297</td>\n    </tr>\n  </tbody>\n</table>\n<p>10000 rows × 50 columns</p>\n</div>"
     },
     "execution_count": 17,
     "metadata": {},
     "output_type": "execute_result"
    }
   ],
   "source": [
    "df_index.iloc[:, :-1]"
   ],
   "metadata": {
    "collapsed": false,
    "ExecuteTime": {
     "start_time": "2023-10-28T19:18:42.838974Z",
     "end_time": "2023-10-28T19:18:42.875974Z"
    }
   }
  },
  {
   "cell_type": "markdown",
   "source": [
    "## Total dataset creation"
   ],
   "metadata": {
    "collapsed": false
   }
  },
  {
   "cell_type": "code",
   "execution_count": 18,
   "outputs": [],
   "source": [
    "dataset = load_pure_ferris_wheel_dataset(\n",
    "    num_gondolas=num_gondolas,\n",
    "    num_part_pg=num_part_pg,\n",
    "    num_to_generate=num_to_generate,\n",
    "    dataset_path=\"../datasets\",\n",
    "    df_intermediate_output_name=\"health_dataset_preprocessed-1.csv\",\n",
    "    df_name_input=\"Sleep_health_and_lifestyle_dataset.csv\",\n",
    "    try_pregen=True\n",
    ")"
   ],
   "metadata": {
    "collapsed": false,
    "ExecuteTime": {
     "start_time": "2023-10-28T19:18:42.853974Z",
     "end_time": "2023-10-28T19:18:42.948973Z"
    }
   }
  },
  {
   "cell_type": "code",
   "execution_count": 19,
   "outputs": [
    {
     "data": {
      "text/plain": "(tensor([[4.5000e+01, 1.1000e+01, 6.9000e+00, 7.0000e+00, 5.5000e+01, 5.0000e+00,\n          2.0000e+00, 7.5000e+01, 5.5000e+03, 0.0000e+00, 1.2500e+02, 8.2000e+01,\n          0.0000e+00, 1.0000e+00, 0.0000e+00],\n         [4.3000e+01, 4.0000e+00, 6.7000e+00, 7.0000e+00, 4.5000e+01, 4.0000e+00,\n          2.0000e+00, 6.5000e+01, 6.0000e+03, 2.0000e+00, 1.3500e+02, 9.0000e+01,\n          0.0000e+00, 1.0000e+00, 0.0000e+00],\n         [3.6000e+01, 7.0000e+00, 7.1000e+00, 8.0000e+00, 6.0000e+01, 4.0000e+00,\n          0.0000e+00, 6.8000e+01, 7.0000e+03, 0.0000e+00, 1.1500e+02, 7.5000e+01,\n          0.0000e+00, 1.0000e+00, 0.0000e+00],\n         [4.4000e+01, 4.0000e+00, 6.6000e+00, 7.0000e+00, 4.5000e+01, 4.0000e+00,\n          2.0000e+00, 6.5000e+01, 6.0000e+03, 2.0000e+00, 1.3500e+02, 9.0000e+01,\n          0.0000e+00, 1.0000e+00, 0.0000e+00],\n         [3.1000e+01, 2.0000e+00, 7.7000e+00, 7.0000e+00, 7.5000e+01, 6.0000e+00,\n          0.0000e+00, 7.0000e+01, 8.0000e+03, 0.0000e+00, 1.2000e+02, 8.0000e+01,\n          1.0000e+00, 0.0000e+00, 0.0000e+00],\n         [5.8000e+01, 5.0000e+00, 8.0000e+00, 9.0000e+00, 7.5000e+01, 3.0000e+00,\n          2.0000e+00, 6.8000e+01, 7.0000e+03, 1.0000e+00, 1.4000e+02, 9.5000e+01,\n          0.0000e+00, 1.0000e+00, 0.0000e+00],\n         [4.5000e+01, 4.0000e+00, 6.5000e+00, 7.0000e+00, 4.5000e+01, 4.0000e+00,\n          2.0000e+00, 6.5000e+01, 6.0000e+03, 2.0000e+00, 1.3500e+02, 9.0000e+01,\n          0.0000e+00, 1.0000e+00, 0.0000e+00],\n         [2.9000e+01, 2.0000e+00, 7.8000e+00, 7.0000e+00, 7.5000e+01, 6.0000e+00,\n          0.0000e+00, 7.0000e+01, 8.0000e+03, 0.0000e+00, 1.2000e+02, 8.0000e+01,\n          1.0000e+00, 0.0000e+00, 0.0000e+00],\n         [3.9000e+01, 9.0000e+00, 7.2000e+00, 8.0000e+00, 6.0000e+01, 5.0000e+00,\n          0.0000e+00, 6.8000e+01, 8.0000e+03, 2.0000e+00, 1.3000e+02, 8.5000e+01,\n          1.0000e+00, 0.0000e+00, 0.0000e+00],\n         [5.2000e+01, 7.0000e+00, 6.6000e+00, 7.0000e+00, 4.5000e+01, 7.0000e+00,\n          2.0000e+00, 7.2000e+01, 6.0000e+03, 2.0000e+00, 1.3000e+02, 8.5000e+01,\n          0.0000e+00, 1.0000e+00, 0.0000e+00],\n         [4.9000e+01, 2.0000e+00, 8.1000e+00, 9.0000e+00, 8.5000e+01, 3.0000e+00,\n          3.0000e+00, 8.6000e+01, 3.7000e+03, 1.0000e+00, 1.3900e+02, 9.1000e+01,\n          1.0000e+00, 0.0000e+00, 0.0000e+00],\n         [4.4000e+01, 4.0000e+00, 6.6000e+00, 7.0000e+00, 4.5000e+01, 4.0000e+00,\n          2.0000e+00, 6.5000e+01, 6.0000e+03, 2.0000e+00, 1.3500e+02, 9.0000e+01,\n          0.0000e+00, 1.0000e+00, 0.0000e+00],\n         [4.1000e+01, 9.0000e+00, 7.1000e+00, 7.0000e+00, 5.5000e+01, 6.0000e+00,\n          2.0000e+00, 7.2000e+01, 6.0000e+03, 0.0000e+00, 1.2500e+02, 8.2000e+01,\n          1.0000e+00, 0.0000e+00, 0.0000e+00],\n         [5.3000e+01, 6.0000e+00, 8.4000e+00, 9.0000e+00, 3.0000e+01, 3.0000e+00,\n          0.0000e+00, 6.5000e+01, 5.0000e+03, 0.0000e+00, 1.2500e+02, 8.0000e+01,\n          0.0000e+00, 1.0000e+00, 0.0000e+00],\n         [5.1000e+01, 5.0000e+00, 6.1000e+00, 6.0000e+00, 9.0000e+01, 8.0000e+00,\n          2.0000e+00, 7.5000e+01, 1.0000e+04, 1.0000e+00, 1.4000e+02, 9.5000e+01,\n          0.0000e+00, 1.0000e+00, 0.0000e+00],\n         [3.3000e+01, 2.0000e+00, 6.1000e+00, 6.0000e+00, 3.0000e+01, 8.0000e+00,\n          0.0000e+00, 7.2000e+01, 5.0000e+03, 0.0000e+00, 1.2500e+02, 8.0000e+01,\n          1.0000e+00, 0.0000e+00, 0.0000e+00],\n         [5.4000e+01, 6.0000e+00, 8.4000e+00, 9.0000e+00, 3.0000e+01, 3.0000e+00,\n          0.0000e+00, 6.5000e+01, 5.0000e+03, 0.0000e+00, 1.2500e+02, 8.0000e+01,\n          0.0000e+00, 1.0000e+00, 0.0000e+00],\n         [3.7000e+01, 5.0000e+00, 7.5000e+00, 8.0000e+00, 6.0000e+01, 4.0000e+00,\n          1.0000e+00, 7.0000e+01, 8.0000e+03, 0.0000e+00, 1.2000e+02, 8.0000e+01,\n          0.0000e+00, 1.0000e+00, 0.0000e+00],\n         [3.1000e+01, 2.0000e+00, 7.8000e+00, 7.0000e+00, 7.5000e+01, 6.0000e+00,\n          0.0000e+00, 7.0000e+01, 8.0000e+03, 0.0000e+00, 1.2000e+02, 8.0000e+01,\n          1.0000e+00, 0.0000e+00, 0.0000e+00],\n         [3.1000e+01, 2.0000e+00, 7.7000e+00, 7.0000e+00, 7.5000e+01, 6.0000e+00,\n          0.0000e+00, 7.0000e+01, 8.0000e+03, 0.0000e+00, 1.2000e+02, 8.0000e+01,\n          1.0000e+00, 0.0000e+00, 0.0000e+00],\n         [4.4000e+01, 1.0000e+01, 6.3000e+00, 6.0000e+00, 4.5000e+01, 7.0000e+00,\n          2.0000e+00, 7.2000e+01, 6.0000e+03, 2.0000e+00, 1.3000e+02, 8.5000e+01,\n          1.0000e+00, 0.0000e+00, 0.0000e+00],\n         [3.6000e+01, 4.0000e+00, 7.2000e+00, 8.0000e+00, 6.0000e+01, 4.0000e+00,\n          0.0000e+00, 6.8000e+01, 7.0000e+03, 0.0000e+00, 1.1500e+02, 7.5000e+01,\n          0.0000e+00, 1.0000e+00, 0.0000e+00],\n         [4.1000e+01, 9.0000e+00, 7.1000e+00, 7.0000e+00, 5.5000e+01, 6.0000e+00,\n          2.0000e+00, 7.2000e+01, 6.0000e+03, 0.0000e+00, 1.2500e+02, 8.2000e+01,\n          1.0000e+00, 0.0000e+00, 0.0000e+00],\n         [3.9000e+01, 9.0000e+00, 7.2000e+00, 8.0000e+00, 6.0000e+01, 5.0000e+00,\n          0.0000e+00, 6.8000e+01, 8.0000e+03, 0.0000e+00, 1.3000e+02, 8.5000e+01,\n          1.0000e+00, 0.0000e+00, 0.0000e+00],\n         [3.6000e+01, 4.0000e+00, 6.6000e+00, 5.0000e+00, 3.5000e+01, 7.0000e+00,\n          2.0000e+00, 7.4000e+01, 4.8000e+03, 1.0000e+00, 1.2900e+02, 8.4000e+01,\n          1.0000e+00, 0.0000e+00, 0.0000e+00],\n         [4.3000e+01, 1.0000e+01, 6.5000e+00, 6.0000e+00, 4.5000e+01, 7.0000e+00,\n          2.0000e+00, 7.2000e+01, 6.0000e+03, 2.0000e+00, 1.3000e+02, 8.5000e+01,\n          1.0000e+00, 0.0000e+00, 0.0000e+00],\n         [4.3000e+01, 1.0000e+01, 6.3000e+00, 6.0000e+00, 4.5000e+01, 7.0000e+00,\n          2.0000e+00, 7.2000e+01, 6.0000e+03, 2.0000e+00, 1.3000e+02, 8.5000e+01,\n          1.0000e+00, 0.0000e+00, 0.0000e+00],\n         [3.9000e+01, 9.0000e+00, 7.2000e+00, 8.0000e+00, 6.0000e+01, 5.0000e+00,\n          0.0000e+00, 6.8000e+01, 8.0000e+03, 0.0000e+00, 1.3000e+02, 8.5000e+01,\n          1.0000e+00, 0.0000e+00, 0.0000e+00],\n         [5.4000e+01, 6.0000e+00, 8.4000e+00, 9.0000e+00, 3.0000e+01, 3.0000e+00,\n          0.0000e+00, 6.5000e+01, 5.0000e+03, 0.0000e+00, 1.2500e+02, 8.0000e+01,\n          0.0000e+00, 1.0000e+00, 0.0000e+00],\n         [4.3000e+01, 6.0000e+00, 6.9000e+00, 6.0000e+00, 4.7000e+01, 7.0000e+00,\n          1.0000e+00, 6.9000e+01, 6.8000e+03, 0.0000e+00, 1.1700e+02, 7.6000e+01,\n          1.0000e+00, 0.0000e+00, 0.0000e+00],\n         [4.8000e+01, 5.0000e+00, 5.9000e+00, 6.0000e+00, 9.0000e+01, 8.0000e+00,\n          2.0000e+00, 7.5000e+01, 1.0000e+04, 1.0000e+00, 1.4000e+02, 9.5000e+01,\n          0.0000e+00, 1.0000e+00, 0.0000e+00],\n         [4.4000e+01, 4.0000e+00, 6.5000e+00, 7.0000e+00, 4.5000e+01, 4.0000e+00,\n          2.0000e+00, 6.5000e+01, 6.0000e+03, 2.0000e+00, 1.3500e+02, 9.0000e+01,\n          0.0000e+00, 1.0000e+00, 0.0000e+00],\n         [3.7000e+01, 5.0000e+00, 6.1000e+00, 6.0000e+00, 4.2000e+01, 6.0000e+00,\n          2.0000e+00, 7.7000e+01, 4.2000e+03, 0.0000e+00, 1.2600e+02, 8.3000e+01,\n          0.0000e+00, 1.0000e+00, 0.0000e+00],\n         [5.0000e+01, 5.0000e+00, 6.1000e+00, 6.0000e+00, 9.0000e+01, 8.0000e+00,\n          2.0000e+00, 7.5000e+01, 1.0000e+04, 2.0000e+00, 1.4000e+02, 9.5000e+01,\n          0.0000e+00, 1.0000e+00, 0.0000e+00],\n         [5.6000e+01, 2.0000e+00, 8.2000e+00, 9.0000e+00, 9.0000e+01, 3.0000e+00,\n          1.0000e+00, 6.5000e+01, 1.0000e+04, 0.0000e+00, 1.1800e+02, 7.5000e+01,\n          0.0000e+00, 1.0000e+00, 0.0000e+00],\n         [3.3000e+01, 2.0000e+00, 6.1000e+00, 6.0000e+00, 3.0000e+01, 8.0000e+00,\n          0.0000e+00, 7.2000e+01, 5.0000e+03, 0.0000e+00, 1.2500e+02, 8.0000e+01,\n          1.0000e+00, 0.0000e+00, 0.0000e+00],\n         [4.2000e+01, 9.0000e+00, 7.8000e+00, 8.0000e+00, 9.0000e+01, 5.0000e+00,\n          0.0000e+00, 7.0000e+01, 8.0000e+03, 0.0000e+00, 1.3000e+02, 8.5000e+01,\n          1.0000e+00, 0.0000e+00, 0.0000e+00],\n         [4.2000e+01, 9.0000e+00, 7.8000e+00, 8.0000e+00, 9.0000e+01, 5.0000e+00,\n          0.0000e+00, 7.0000e+01, 8.0000e+03, 0.0000e+00, 1.3000e+02, 8.5000e+01,\n          1.0000e+00, 0.0000e+00, 0.0000e+00],\n         [4.5000e+01, 4.0000e+00, 6.8000e+00, 7.0000e+00, 3.0000e+01, 6.0000e+00,\n          2.0000e+00, 6.5000e+01, 6.0000e+03, 2.0000e+00, 1.3500e+02, 9.0000e+01,\n          0.0000e+00, 1.0000e+00, 0.0000e+00],\n         [2.9000e+01, 2.0000e+00, 6.1000e+00, 6.0000e+00, 3.0000e+01, 8.0000e+00,\n          0.0000e+00, 7.0000e+01, 8.0000e+03, 0.0000e+00, 1.2000e+02, 8.0000e+01,\n          1.0000e+00, 0.0000e+00, 0.0000e+00],\n         [5.1000e+01, 6.0000e+00, 8.5000e+00, 9.0000e+00, 3.0000e+01, 3.0000e+00,\n          0.0000e+00, 6.5000e+01, 5.0000e+03, 0.0000e+00, 1.2500e+02, 8.0000e+01,\n          0.0000e+00, 1.0000e+00, 0.0000e+00],\n         [5.2000e+01, 6.0000e+00, 8.4000e+00, 9.0000e+00, 3.0000e+01, 3.0000e+00,\n          0.0000e+00, 6.5000e+01, 5.0000e+03, 0.0000e+00, 1.2500e+02, 8.0000e+01,\n          0.0000e+00, 1.0000e+00, 0.0000e+00],\n         [4.8000e+01, 2.0000e+00, 7.3000e+00, 7.0000e+00, 6.5000e+01, 5.0000e+00,\n          3.0000e+00, 8.3000e+01, 3.5000e+03, 2.0000e+00, 1.4200e+02, 9.2000e+01,\n          1.0000e+00, 0.0000e+00, 0.0000e+00],\n         [3.5000e+01, 6.0000e+00, 7.3000e+00, 8.0000e+00, 6.0000e+01, 4.0000e+00,\n          0.0000e+00, 6.5000e+01, 5.0000e+03, 0.0000e+00, 1.2500e+02, 8.0000e+01,\n          1.0000e+00, 0.0000e+00, 0.0000e+00],\n         [3.0000e+01, 2.0000e+00, 7.7000e+00, 7.0000e+00, 7.5000e+01, 6.0000e+00,\n          0.0000e+00, 7.0000e+01, 8.0000e+03, 0.0000e+00, 1.2000e+02, 8.0000e+01,\n          1.0000e+00, 0.0000e+00, 0.0000e+00],\n         [5.0000e+01, 5.0000e+00, 6.0000e+00, 6.0000e+00, 9.0000e+01, 8.0000e+00,\n          2.0000e+00, 7.5000e+01, 1.0000e+04, 1.0000e+00, 1.4000e+02, 9.5000e+01,\n          0.0000e+00, 1.0000e+00, 0.0000e+00],\n         [2.9000e+01, 5.0000e+00, 6.5000e+00, 5.0000e+00, 4.0000e+01, 7.0000e+00,\n          1.0000e+00, 8.0000e+01, 4.0000e+03, 1.0000e+00, 1.3200e+02, 8.7000e+01,\n          0.0000e+00, 1.0000e+00, 0.0000e+00],\n         [4.4000e+01, 1.0000e+01, 6.3000e+00, 6.0000e+00, 4.5000e+01, 7.0000e+00,\n          2.0000e+00, 7.2000e+01, 6.0000e+03, 2.0000e+00, 1.3000e+02, 8.5000e+01,\n          1.0000e+00, 0.0000e+00, 0.0000e+00],\n         [4.4000e+01, 1.0000e+01, 6.3000e+00, 6.0000e+00, 4.5000e+01, 7.0000e+00,\n          2.0000e+00, 7.2000e+01, 6.0000e+03, 2.0000e+00, 1.3000e+02, 8.5000e+01,\n          1.0000e+00, 0.0000e+00, 0.0000e+00],\n         [3.7000e+01, 7.0000e+00, 7.2000e+00, 8.0000e+00, 6.0000e+01, 4.0000e+00,\n          0.0000e+00, 6.8000e+01, 7.0000e+03, 0.0000e+00, 1.1500e+02, 7.5000e+01,\n          0.0000e+00, 1.0000e+00, 0.0000e+00]]),\n tensor(68.0115))"
     },
     "execution_count": 19,
     "metadata": {},
     "output_type": "execute_result"
    }
   ],
   "source": [
    "dataset[0]"
   ],
   "metadata": {
    "collapsed": false,
    "ExecuteTime": {
     "start_time": "2023-10-28T19:18:42.885974Z",
     "end_time": "2023-10-28T19:18:42.978973Z"
    }
   }
  },
  {
   "cell_type": "markdown",
   "source": [
    "## DataLoaders"
   ],
   "metadata": {
    "collapsed": false
   }
  },
  {
   "cell_type": "code",
   "execution_count": 20,
   "outputs": [],
   "source": [
    "generator = torch.Generator().manual_seed(420)\n",
    "train_ds, val_ds, test_ds = random_split(dataset, [0.7, 0.1, 0.2], generator=generator)"
   ],
   "metadata": {
    "collapsed": false,
    "ExecuteTime": {
     "start_time": "2023-10-28T19:18:42.902973Z",
     "end_time": "2023-10-28T19:18:42.997974Z"
    }
   }
  },
  {
   "cell_type": "code",
   "execution_count": 21,
   "outputs": [
    {
     "data": {
      "text/plain": "<torch.utils.data.dataset.Subset at 0x2021173a040>"
     },
     "execution_count": 21,
     "metadata": {},
     "output_type": "execute_result"
    }
   ],
   "source": [
    "train_ds"
   ],
   "metadata": {
    "collapsed": false,
    "ExecuteTime": {
     "start_time": "2023-10-28T19:18:42.918973Z",
     "end_time": "2023-10-28T19:18:42.997974Z"
    }
   }
  },
  {
   "cell_type": "code",
   "execution_count": 22,
   "outputs": [],
   "source": [
    "train_loader = DataLoader(train_ds, batch_size=32, shuffle=True)"
   ],
   "metadata": {
    "collapsed": false,
    "ExecuteTime": {
     "start_time": "2023-10-28T19:18:42.934975Z",
     "end_time": "2023-10-28T19:18:43.013973Z"
    }
   }
  },
  {
   "cell_type": "code",
   "execution_count": 23,
   "outputs": [
    {
     "name": "stdout",
     "output_type": "stream",
     "text": [
      "x-shape:torch.Size([32, 50, 15]), y-shape:torch.Size([32])\n"
     ]
    }
   ],
   "source": [
    "for x, y in train_loader:\n",
    "    print(f\"x-shape:{x.shape}, y-shape:{y.shape}\")\n",
    "    break"
   ],
   "metadata": {
    "collapsed": false,
    "ExecuteTime": {
     "start_time": "2023-10-28T19:18:42.950973Z",
     "end_time": "2023-10-28T19:18:43.075876Z"
    }
   }
  },
  {
   "cell_type": "markdown",
   "source": [
    "## Specialize pure datasets"
   ],
   "metadata": {
    "collapsed": false
   }
  },
  {
   "cell_type": "code",
   "execution_count": 24,
   "outputs": [],
   "source": [
    "# create viable permutations of input and add them to dataset"
   ],
   "metadata": {
    "collapsed": false,
    "ExecuteTime": {
     "start_time": "2023-10-28T19:18:42.982973Z",
     "end_time": "2023-10-28T19:18:43.084876Z"
    }
   }
  },
  {
   "cell_type": "code",
   "execution_count": 25,
   "outputs": [],
   "source": [
    "num_add_equal_elem = 12\n",
    "seed = 4645883"
   ],
   "metadata": {
    "collapsed": false,
    "ExecuteTime": {
     "start_time": "2023-10-28T19:18:42.998973Z",
     "end_time": "2023-10-28T19:18:43.085876Z"
    }
   }
  },
  {
   "cell_type": "code",
   "execution_count": 26,
   "outputs": [],
   "source": [
    "df_sampled = df_index.sample(num_add_equal_elem, replace=True, random_state=seed)"
   ],
   "metadata": {
    "collapsed": false,
    "ExecuteTime": {
     "start_time": "2023-10-28T19:18:43.014973Z",
     "end_time": "2023-10-28T19:18:43.086876Z"
    }
   }
  },
  {
   "cell_type": "code",
   "execution_count": 27,
   "outputs": [
    {
     "data": {
      "text/plain": "      g-0_p-0  g-0_p-1  g-0_p-2  g-0_p-3  g-0_p-4  g-1_p-0  g-1_p-1  g-1_p-2  \\\n8137      186      265      291      148      360      346       29      184   \n8463      180      189       61      274       15      310      222      362   \n1343       88       64      113       75       67      245       70      200   \n7714      144      118      168      106       34      278      213      352   \n5818       30      371       39       42      243      135      112       96   \n877        95      162      300       76       47       92      360      327   \n7679       64      172      213      208      113      344       15      202   \n8766      292      239      372      153      350      248      133      308   \n503       220       27      324      201      141      260      148      215   \n1407      348      111      343       80      182      373      282      338   \n6297       33      361      197        3        2       47      264      250   \n5182      274      252      109      301      108      222       56      210   \n\n      g-1_p-3  g-1_p-4  ...  g-8_p-1  g-8_p-2  g-8_p-3  g-8_p-4  g-9_p-0  \\\n8137      233      350  ...      145      102       73      192      185   \n8463       81       14  ...      122       17      335      186      132   \n1343      309      362  ...      239      210      304      211      296   \n7714       53      107  ...      228        5      220      310       79   \n5818      331        1  ...      273      140      101      192      290   \n877       226      237  ...      178      188       98       73       87   \n7679      368      158  ...       68      336      282       72      153   \n8766      238      230  ...      140      357       71       15      114   \n503        22      129  ...      162      342      214      212      274   \n1407      142      217  ...      210      197      126      209       70   \n6297       20      124  ...      358      362      342      108      348   \n5182      276      289  ...      202      311       26      344      227   \n\n      g-9_p-1  g-9_p-2  g-9_p-3  g-9_p-4      label  \n8137      116      340        1      257  60.267387  \n8463      104      179      278       53  64.212200  \n1343       77       81       86      169  58.237173  \n7714       45      139      110       30  72.370747  \n5818       60      193      346      338  67.016440  \n877       140      151       45      370  66.941373  \n7679      354      197      171      181  62.176520  \n8766      224       39      258      144  62.134387  \n503       320      125      346      372  63.343040  \n1407       26       42      307      223  59.733467  \n6297       18      269      326      282  72.082213  \n5182      294      269       16      143  57.425347  \n\n[12 rows x 51 columns]",
      "text/html": "<div>\n<style scoped>\n    .dataframe tbody tr th:only-of-type {\n        vertical-align: middle;\n    }\n\n    .dataframe tbody tr th {\n        vertical-align: top;\n    }\n\n    .dataframe thead th {\n        text-align: right;\n    }\n</style>\n<table border=\"1\" class=\"dataframe\">\n  <thead>\n    <tr style=\"text-align: right;\">\n      <th></th>\n      <th>g-0_p-0</th>\n      <th>g-0_p-1</th>\n      <th>g-0_p-2</th>\n      <th>g-0_p-3</th>\n      <th>g-0_p-4</th>\n      <th>g-1_p-0</th>\n      <th>g-1_p-1</th>\n      <th>g-1_p-2</th>\n      <th>g-1_p-3</th>\n      <th>g-1_p-4</th>\n      <th>...</th>\n      <th>g-8_p-1</th>\n      <th>g-8_p-2</th>\n      <th>g-8_p-3</th>\n      <th>g-8_p-4</th>\n      <th>g-9_p-0</th>\n      <th>g-9_p-1</th>\n      <th>g-9_p-2</th>\n      <th>g-9_p-3</th>\n      <th>g-9_p-4</th>\n      <th>label</th>\n    </tr>\n  </thead>\n  <tbody>\n    <tr>\n      <th>8137</th>\n      <td>186</td>\n      <td>265</td>\n      <td>291</td>\n      <td>148</td>\n      <td>360</td>\n      <td>346</td>\n      <td>29</td>\n      <td>184</td>\n      <td>233</td>\n      <td>350</td>\n      <td>...</td>\n      <td>145</td>\n      <td>102</td>\n      <td>73</td>\n      <td>192</td>\n      <td>185</td>\n      <td>116</td>\n      <td>340</td>\n      <td>1</td>\n      <td>257</td>\n      <td>60.267387</td>\n    </tr>\n    <tr>\n      <th>8463</th>\n      <td>180</td>\n      <td>189</td>\n      <td>61</td>\n      <td>274</td>\n      <td>15</td>\n      <td>310</td>\n      <td>222</td>\n      <td>362</td>\n      <td>81</td>\n      <td>14</td>\n      <td>...</td>\n      <td>122</td>\n      <td>17</td>\n      <td>335</td>\n      <td>186</td>\n      <td>132</td>\n      <td>104</td>\n      <td>179</td>\n      <td>278</td>\n      <td>53</td>\n      <td>64.212200</td>\n    </tr>\n    <tr>\n      <th>1343</th>\n      <td>88</td>\n      <td>64</td>\n      <td>113</td>\n      <td>75</td>\n      <td>67</td>\n      <td>245</td>\n      <td>70</td>\n      <td>200</td>\n      <td>309</td>\n      <td>362</td>\n      <td>...</td>\n      <td>239</td>\n      <td>210</td>\n      <td>304</td>\n      <td>211</td>\n      <td>296</td>\n      <td>77</td>\n      <td>81</td>\n      <td>86</td>\n      <td>169</td>\n      <td>58.237173</td>\n    </tr>\n    <tr>\n      <th>7714</th>\n      <td>144</td>\n      <td>118</td>\n      <td>168</td>\n      <td>106</td>\n      <td>34</td>\n      <td>278</td>\n      <td>213</td>\n      <td>352</td>\n      <td>53</td>\n      <td>107</td>\n      <td>...</td>\n      <td>228</td>\n      <td>5</td>\n      <td>220</td>\n      <td>310</td>\n      <td>79</td>\n      <td>45</td>\n      <td>139</td>\n      <td>110</td>\n      <td>30</td>\n      <td>72.370747</td>\n    </tr>\n    <tr>\n      <th>5818</th>\n      <td>30</td>\n      <td>371</td>\n      <td>39</td>\n      <td>42</td>\n      <td>243</td>\n      <td>135</td>\n      <td>112</td>\n      <td>96</td>\n      <td>331</td>\n      <td>1</td>\n      <td>...</td>\n      <td>273</td>\n      <td>140</td>\n      <td>101</td>\n      <td>192</td>\n      <td>290</td>\n      <td>60</td>\n      <td>193</td>\n      <td>346</td>\n      <td>338</td>\n      <td>67.016440</td>\n    </tr>\n    <tr>\n      <th>877</th>\n      <td>95</td>\n      <td>162</td>\n      <td>300</td>\n      <td>76</td>\n      <td>47</td>\n      <td>92</td>\n      <td>360</td>\n      <td>327</td>\n      <td>226</td>\n      <td>237</td>\n      <td>...</td>\n      <td>178</td>\n      <td>188</td>\n      <td>98</td>\n      <td>73</td>\n      <td>87</td>\n      <td>140</td>\n      <td>151</td>\n      <td>45</td>\n      <td>370</td>\n      <td>66.941373</td>\n    </tr>\n    <tr>\n      <th>7679</th>\n      <td>64</td>\n      <td>172</td>\n      <td>213</td>\n      <td>208</td>\n      <td>113</td>\n      <td>344</td>\n      <td>15</td>\n      <td>202</td>\n      <td>368</td>\n      <td>158</td>\n      <td>...</td>\n      <td>68</td>\n      <td>336</td>\n      <td>282</td>\n      <td>72</td>\n      <td>153</td>\n      <td>354</td>\n      <td>197</td>\n      <td>171</td>\n      <td>181</td>\n      <td>62.176520</td>\n    </tr>\n    <tr>\n      <th>8766</th>\n      <td>292</td>\n      <td>239</td>\n      <td>372</td>\n      <td>153</td>\n      <td>350</td>\n      <td>248</td>\n      <td>133</td>\n      <td>308</td>\n      <td>238</td>\n      <td>230</td>\n      <td>...</td>\n      <td>140</td>\n      <td>357</td>\n      <td>71</td>\n      <td>15</td>\n      <td>114</td>\n      <td>224</td>\n      <td>39</td>\n      <td>258</td>\n      <td>144</td>\n      <td>62.134387</td>\n    </tr>\n    <tr>\n      <th>503</th>\n      <td>220</td>\n      <td>27</td>\n      <td>324</td>\n      <td>201</td>\n      <td>141</td>\n      <td>260</td>\n      <td>148</td>\n      <td>215</td>\n      <td>22</td>\n      <td>129</td>\n      <td>...</td>\n      <td>162</td>\n      <td>342</td>\n      <td>214</td>\n      <td>212</td>\n      <td>274</td>\n      <td>320</td>\n      <td>125</td>\n      <td>346</td>\n      <td>372</td>\n      <td>63.343040</td>\n    </tr>\n    <tr>\n      <th>1407</th>\n      <td>348</td>\n      <td>111</td>\n      <td>343</td>\n      <td>80</td>\n      <td>182</td>\n      <td>373</td>\n      <td>282</td>\n      <td>338</td>\n      <td>142</td>\n      <td>217</td>\n      <td>...</td>\n      <td>210</td>\n      <td>197</td>\n      <td>126</td>\n      <td>209</td>\n      <td>70</td>\n      <td>26</td>\n      <td>42</td>\n      <td>307</td>\n      <td>223</td>\n      <td>59.733467</td>\n    </tr>\n    <tr>\n      <th>6297</th>\n      <td>33</td>\n      <td>361</td>\n      <td>197</td>\n      <td>3</td>\n      <td>2</td>\n      <td>47</td>\n      <td>264</td>\n      <td>250</td>\n      <td>20</td>\n      <td>124</td>\n      <td>...</td>\n      <td>358</td>\n      <td>362</td>\n      <td>342</td>\n      <td>108</td>\n      <td>348</td>\n      <td>18</td>\n      <td>269</td>\n      <td>326</td>\n      <td>282</td>\n      <td>72.082213</td>\n    </tr>\n    <tr>\n      <th>5182</th>\n      <td>274</td>\n      <td>252</td>\n      <td>109</td>\n      <td>301</td>\n      <td>108</td>\n      <td>222</td>\n      <td>56</td>\n      <td>210</td>\n      <td>276</td>\n      <td>289</td>\n      <td>...</td>\n      <td>202</td>\n      <td>311</td>\n      <td>26</td>\n      <td>344</td>\n      <td>227</td>\n      <td>294</td>\n      <td>269</td>\n      <td>16</td>\n      <td>143</td>\n      <td>57.425347</td>\n    </tr>\n  </tbody>\n</table>\n<p>12 rows × 51 columns</p>\n</div>"
     },
     "execution_count": 27,
     "metadata": {},
     "output_type": "execute_result"
    }
   ],
   "source": [
    "df_sampled"
   ],
   "metadata": {
    "collapsed": false,
    "ExecuteTime": {
     "start_time": "2023-10-28T19:18:43.029973Z",
     "end_time": "2023-10-28T19:18:43.086876Z"
    }
   }
  },
  {
   "cell_type": "code",
   "execution_count": 28,
   "outputs": [],
   "source": [
    "# for each randomly one of two things:\n",
    "# - group order change\n",
    "#   + shift groups\n",
    "#   + invert group order\n",
    "# - permutate gondola people"
   ],
   "metadata": {
    "collapsed": false,
    "ExecuteTime": {
     "start_time": "2023-10-28T19:18:43.047973Z",
     "end_time": "2023-10-28T19:18:43.086876Z"
    }
   }
  },
  {
   "cell_type": "code",
   "execution_count": 29,
   "outputs": [
    {
     "data": {
      "text/plain": "(12, 50)"
     },
     "execution_count": 29,
     "metadata": {},
     "output_type": "execute_result"
    }
   ],
   "source": [
    "df_t = df_sampled.to_numpy()[:, :-1]\n",
    "df_t.shape"
   ],
   "metadata": {
    "collapsed": false,
    "ExecuteTime": {
     "start_time": "2023-10-28T19:18:43.061973Z",
     "end_time": "2023-10-28T19:18:43.086876Z"
    }
   }
  },
  {
   "cell_type": "code",
   "execution_count": 30,
   "outputs": [
    {
     "data": {
      "text/plain": "(12, 10, 5)"
     },
     "execution_count": 30,
     "metadata": {},
     "output_type": "execute_result"
    }
   ],
   "source": [
    "df_g = df_t.reshape(df_t.shape[0], num_gondolas, -1)\n",
    "df_g.shape"
   ],
   "metadata": {
    "collapsed": false,
    "ExecuteTime": {
     "start_time": "2023-10-28T19:18:43.078876Z",
     "end_time": "2023-10-28T19:18:43.113876Z"
    }
   }
  },
  {
   "cell_type": "code",
   "execution_count": 31,
   "outputs": [],
   "source": [
    "shifts = np.random.randint(0,num_gondolas, df_g.shape[0])\n",
    "idx = np.arange(num_gondolas)"
   ],
   "metadata": {
    "collapsed": false,
    "ExecuteTime": {
     "start_time": "2023-10-28T19:18:43.094876Z",
     "end_time": "2023-10-28T19:18:43.137876Z"
    }
   }
  },
  {
   "cell_type": "code",
   "execution_count": 32,
   "outputs": [
    {
     "data": {
      "text/plain": "array([[[186., 265., 291., 148., 360.],\n        [346.,  29., 184., 233., 350.],\n        [ 75., 121.,  81.,  72.,  71.],\n        [ 31., 348., 220., 198.,  97.],\n        [206.,  43.,  98., 318., 147.],\n        [311., 125., 193., 343., 369.],\n        [260., 143., 345., 190., 231.],\n        [ 24.,  52., 327., 168., 252.],\n        [ 47., 145., 102.,  73., 192.],\n        [185., 116., 340.,   1., 257.]],\n\n       [[180., 189.,  61., 274.,  15.],\n        [310., 222., 362.,  81.,  14.],\n        [250., 118.,   5., 203., 244.],\n        [352., 348.,  99., 217., 287.],\n        [ 33., 313., 345., 117., 139.],\n        [107.,  82.,  31.,  71., 181.],\n        [225., 237., 212., 323., 151.],\n        [  3., 145., 185., 343., 226.],\n        [184., 122.,  17., 335., 186.],\n        [132., 104., 179., 278.,  53.]],\n\n       [[ 88.,  64., 113.,  75.,  67.],\n        [245.,  70., 200., 309., 362.],\n        [226., 314., 161., 202.,  93.],\n        [336., 193., 270.,  32., 306.],\n        [ 14.,  95.,  26., 364., 353.],\n        [130.,  94., 160., 243., 143.],\n        [ 42., 233., 313., 347.,  63.],\n        [ 66.,  85.,  54., 330., 371.],\n        [146., 239., 210., 304., 211.],\n        [296.,  77.,  81.,  86., 169.]],\n\n       [[144., 118., 168., 106.,  34.],\n        [278., 213., 352.,  53., 107.],\n        [123.,  39., 317.,  74.,  42.],\n        [163., 136., 186., 279.,  48.],\n        [ 93., 354., 197., 254., 229.],\n        [105., 223., 323., 211.,  57.],\n        [361., 132.,  41., 294.,  59.],\n        [194., 332.,  70., 119., 328.],\n        [127., 228.,   5., 220., 310.],\n        [ 79.,  45., 139., 110.,  30.]],\n\n       [[ 30., 371.,  39.,  42., 243.],\n        [135., 112.,  96., 331.,   1.],\n        [134.,   2.,  11., 241., 231.],\n        [308., 188., 268., 260., 167.],\n        [ 82., 357., 301., 332., 266.],\n        [264., 220.,  89., 182., 250.],\n        [154.,  50., 368., 334.,  94.],\n        [207.,  95., 329.,  51., 367.],\n        [125., 273., 140., 101., 192.],\n        [290.,  60., 193., 346., 338.]],\n\n       [[ 95., 162., 300.,  76.,  47.],\n        [ 92., 360., 327., 226., 237.],\n        [ 44., 202., 295., 279., 311.],\n        [330., 329.,  75.,  70., 243.],\n        [101., 212., 245., 220., 325.],\n        [115., 246., 229., 273., 355.],\n        [268., 190., 265., 276., 203.],\n        [133.,  65.,  40., 349., 353.],\n        [239., 178., 188.,  98.,  73.],\n        [ 87., 140., 151.,  45., 370.]],\n\n       [[ 64., 172., 213., 208., 113.],\n        [344.,  15., 202., 368., 158.],\n        [235., 148.,  14., 143.,  13.],\n        [ 25., 318., 170., 144., 331.],\n        [ 90., 311.,  73.,  75., 190.],\n        [104., 295., 138., 317.,  98.],\n        [140.,  48.,  30., 249., 146.],\n        [340., 313., 195., 266.,  86.],\n        [247.,  68., 336., 282.,  72.],\n        [153., 354., 197., 171., 181.]],\n\n       [[292., 239., 372., 153., 350.],\n        [248., 133., 308., 238., 230.],\n        [282.,  84., 199.,  50., 138.],\n        [136., 101.,  61., 360., 351.],\n        [298.,  10., 131.,  37., 180.],\n        [158., 336., 270., 366., 122.],\n        [216., 198., 244., 250., 356.],\n        [ 36., 143., 100., 163., 193.],\n        [226., 140., 357.,  71.,  15.],\n        [114., 224.,  39., 258., 144.]],\n\n       [[220.,  27., 324., 201., 141.],\n        [260., 148., 215.,  22., 129.],\n        [ 28., 316., 331., 295., 321.],\n        [369., 252., 370., 259., 135.],\n        [243., 307., 225.,  44., 325.],\n        [ 31.,  29., 167., 110., 272.],\n        [ 99., 171.,  76., 294.,  15.],\n        [309., 271., 217., 236., 244.],\n        [248., 162., 342., 214., 212.],\n        [274., 320., 125., 346., 372.]],\n\n       [[348., 111., 343.,  80., 182.],\n        [373., 282., 338., 142., 217.],\n        [292., 286., 131., 258.,  60.],\n        [ 82., 190., 105., 299., 135.],\n        [129.,  73., 183.,  84., 361.],\n        [240., 214., 266., 162.,  57.],\n        [ 79., 174., 310., 370., 244.],\n        [251.,   5., 205., 102., 250.],\n        [335., 210., 197., 126., 209.],\n        [ 70.,  26.,  42., 307., 223.]],\n\n       [[ 33., 361., 197.,   3.,   2.],\n        [ 47., 264., 250.,  20., 124.],\n        [262., 323., 107., 131., 189.],\n        [223., 102., 329.,  52., 187.],\n        [ 87.,  71., 277.,  73.,  40.],\n        [137., 333., 335., 279., 314.],\n        [215., 200.,  57.,  44.,  14.],\n        [134.,  65.,  16., 334.,  77.],\n        [ 48., 358., 362., 342., 108.],\n        [348.,  18., 269., 326., 282.]],\n\n       [[274., 252., 109., 301., 108.],\n        [222.,  56., 210., 276., 289.],\n        [349., 149.,  63., 374.,  95.],\n        [278., 112., 355., 213.,  99.],\n        [152.,  62., 211.,  94., 170.],\n        [319., 176., 167., 107., 218.],\n        [272., 334., 372.,  48., 127.],\n        [ 54., 347.,  29., 130., 251.],\n        [147., 202., 311.,  26., 344.],\n        [227., 294., 269.,  16., 143.]]])"
     },
     "execution_count": 32,
     "metadata": {},
     "output_type": "execute_result"
    }
   ],
   "source": [
    "df_g"
   ],
   "metadata": {
    "collapsed": false,
    "ExecuteTime": {
     "start_time": "2023-10-28T19:18:43.110878Z",
     "end_time": "2023-10-28T19:18:43.154876Z"
    }
   }
  },
  {
   "cell_type": "code",
   "execution_count": 37,
   "outputs": [
    {
     "name": "stderr",
     "output_type": "stream",
     "text": [
      "100%|██████████| 12/12 [00:00<?, ?it/s]\n"
     ]
    }
   ],
   "source": [
    "for i in tqdm(range(num_add_equal_elem)):\n",
    "    df_g[i] = df_g[i][(idx + shifts[i]) % num_gondolas]\n",
    "    for j in range(num_gondolas):\n",
    "        np.random.shuffle(df_g[i][j])"
   ],
   "metadata": {
    "collapsed": false,
    "ExecuteTime": {
     "start_time": "2023-10-28T19:18:51.194357Z",
     "end_time": "2023-10-28T19:18:51.229356Z"
    }
   }
  },
  {
   "cell_type": "code",
   "execution_count": 34,
   "outputs": [
    {
     "name": "stdout",
     "output_type": "stream",
     "text": [
      "[4 8 4 5 5 1 7 8 2 7 4 0]\n"
     ]
    }
   ],
   "source": [
    "print(shifts)"
   ],
   "metadata": {
    "collapsed": false,
    "ExecuteTime": {
     "start_time": "2023-10-28T19:18:43.171899Z",
     "end_time": "2023-10-28T19:18:43.254876Z"
    }
   }
  },
  {
   "cell_type": "code",
   "execution_count": 35,
   "outputs": [
    {
     "data": {
      "text/plain": "array([[[147., 206.,  43., 318.,  98.],\n        [193., 369., 125., 343., 311.],\n        [231., 345., 190., 260., 143.],\n        [252.,  52., 327.,  24., 168.],\n        [ 73., 102., 192.,  47., 145.],\n        [  1., 340., 116., 257., 185.],\n        [186., 291., 265., 360., 148.],\n        [346., 184., 233., 350.,  29.],\n        [ 71.,  75.,  81., 121.,  72.],\n        [ 97., 198., 220., 348.,  31.]],\n\n       [[184.,  17., 122., 335., 186.],\n        [278., 179., 132.,  53., 104.],\n        [ 15., 189., 274., 180.,  61.],\n        [ 81.,  14., 222., 362., 310.],\n        [118., 250., 203.,   5., 244.],\n        [287., 217., 348.,  99., 352.],\n        [139., 313., 117.,  33., 345.],\n        [181.,  82., 107.,  31.,  71.],\n        [212., 225., 237., 151., 323.],\n        [343., 145., 226.,   3., 185.]],\n\n       [[ 26., 364.,  14.,  95., 353.],\n        [143., 243., 160.,  94., 130.],\n        [233., 347.,  63., 313.,  42.],\n        [ 66., 371.,  54., 330.,  85.],\n        [239., 211., 146., 304., 210.],\n        [296., 169.,  77.,  86.,  81.],\n        [113.,  75.,  64.,  67.,  88.],\n        [ 70., 245., 309., 362., 200.],\n        [202., 226., 161.,  93., 314.],\n        [336., 193., 306., 270.,  32.]],\n\n       [[323.,  57., 105., 223., 211.],\n        [ 41., 361.,  59., 294., 132.],\n        [194., 328., 332., 119.,  70.],\n        [220.,   5., 127., 310., 228.],\n        [ 30.,  45.,  79., 139., 110.],\n        [144.,  34., 168., 118., 106.],\n        [352., 107., 278., 213.,  53.],\n        [123., 317.,  39.,  42.,  74.],\n        [279., 136., 186.,  48., 163.],\n        [229.,  93., 354., 197., 254.]],\n\n       [[ 89., 220., 264., 182., 250.],\n        [368.,  94., 154.,  50., 334.],\n        [ 51., 207., 329., 367.,  95.],\n        [101., 273., 125., 140., 192.],\n        [290., 193., 338., 346.,  60.],\n        [ 30.,  42., 243., 371.,  39.],\n        [ 96., 331.,   1., 135., 112.],\n        [134., 241.,   2.,  11., 231.],\n        [260., 167., 268., 308., 188.],\n        [301., 332., 357., 266.,  82.]],\n\n       [[360., 226., 327., 237.,  92.],\n        [ 44., 279., 295., 202., 311.],\n        [ 75., 243.,  70., 329., 330.],\n        [101., 212., 220., 245., 325.],\n        [229., 355., 246., 273., 115.],\n        [265., 276., 268., 203., 190.],\n        [ 40., 349., 133., 353.,  65.],\n        [239., 178.,  73., 188.,  98.],\n        [370.,  45., 140.,  87., 151.],\n        [162.,  76.,  47., 300.,  95.]],\n\n       [[266., 313., 340.,  86., 195.],\n        [336., 247., 282.,  68.,  72.],\n        [197., 354., 153., 181., 171.],\n        [ 64., 172., 208., 213., 113.],\n        [ 15., 158., 344., 368., 202.],\n        [235.,  13.,  14., 143., 148.],\n        [170., 331., 144.,  25., 318.],\n        [ 90.,  73., 190.,  75., 311.],\n        [295., 138., 104., 317.,  98.],\n        [ 48., 140.,  30., 146., 249.]],\n\n       [[226., 140.,  15., 357.,  71.],\n        [114., 258., 144.,  39., 224.],\n        [153., 292., 239., 350., 372.],\n        [248., 308., 238., 133., 230.],\n        [ 84., 282.,  50., 199., 138.],\n        [ 61., 101., 351., 360., 136.],\n        [180.,  10., 298., 131.,  37.],\n        [122., 336., 366., 158., 270.],\n        [250., 356., 198., 216., 244.],\n        [163., 143., 193., 100.,  36.]],\n\n       [[295., 316., 331., 321.,  28.],\n        [135., 370., 369., 259., 252.],\n        [225., 325., 243.,  44., 307.],\n        [272.,  31., 110., 167.,  29.],\n        [171.,  99., 294.,  76.,  15.],\n        [271., 236., 217., 309., 244.],\n        [214., 162., 248., 342., 212.],\n        [320., 372., 274., 125., 346.],\n        [201., 220., 324., 141.,  27.],\n        [ 22., 129., 260., 148., 215.]],\n\n       [[102.,   5., 250., 251., 205.],\n        [126., 210., 335., 197., 209.],\n        [307.,  70., 223.,  26.,  42.],\n        [348., 111., 343.,  80., 182.],\n        [142., 217., 373., 338., 282.],\n        [258., 131.,  60., 286., 292.],\n        [135.,  82., 190., 105., 299.],\n        [129.,  73., 361., 183.,  84.],\n        [162., 266., 240., 214.,  57.],\n        [244., 174.,  79., 370., 310.]],\n\n       [[ 73.,  40.,  87., 277.,  71.],\n        [333., 137., 279., 314., 335.],\n        [ 14., 215., 200.,  44.,  57.],\n        [ 77., 134.,  65.,  16., 334.],\n        [342.,  48., 108., 358., 362.],\n        [ 18., 282., 269., 326., 348.],\n        [  2.,   3.,  33., 197., 361.],\n        [250., 264., 124.,  20.,  47.],\n        [107., 262., 189., 323., 131.],\n        [329., 102., 187., 223.,  52.]],\n\n       [[108., 252., 301., 274., 109.],\n        [ 56., 222., 210., 289., 276.],\n        [349., 374., 149.,  63.,  95.],\n        [ 99., 112., 355., 213., 278.],\n        [170., 211., 152.,  94.,  62.],\n        [167., 107., 218., 176., 319.],\n        [272.,  48., 334., 127., 372.],\n        [251., 347., 130.,  54.,  29.],\n        [ 26., 344., 202., 311., 147.],\n        [143., 269.,  16., 294., 227.]]])"
     },
     "execution_count": 35,
     "metadata": {},
     "output_type": "execute_result"
    }
   ],
   "source": [
    "df_g"
   ],
   "metadata": {
    "collapsed": false,
    "ExecuteTime": {
     "start_time": "2023-10-28T19:18:43.189877Z",
     "end_time": "2023-10-28T19:18:43.255876Z"
    }
   }
  },
  {
   "cell_type": "code",
   "execution_count": 40,
   "outputs": [],
   "source": [
    "pd_new = pd.DataFrame(np.c_[df_t, df_sampled.label.to_numpy()], columns=df_sampled.columns)"
   ],
   "metadata": {
    "collapsed": false,
    "ExecuteTime": {
     "start_time": "2023-10-28T23:57:49.254792Z",
     "end_time": "2023-10-28T23:57:49.276549Z"
    }
   }
  },
  {
   "cell_type": "code",
   "execution_count": 41,
   "outputs": [
    {
     "data": {
      "text/plain": "    g-0_p-0  g-0_p-1  g-0_p-2  g-0_p-3  g-0_p-4  g-1_p-0  g-1_p-1  g-1_p-2  \\\n0     145.0     47.0     73.0    102.0    192.0    185.0      1.0    116.0   \n1     237.0    212.0    323.0    225.0    151.0    145.0    185.0    226.0   \n2     146.0    211.0    239.0    210.0    304.0     81.0     86.0    169.0   \n3     168.0    118.0    106.0    144.0     34.0    213.0    278.0    107.0   \n4      30.0    243.0     42.0    371.0     39.0     96.0    135.0    331.0   \n5     311.0     44.0    202.0    295.0    279.0     70.0    329.0    330.0   \n6      75.0    311.0     73.0    190.0     90.0    104.0    138.0    317.0   \n7     216.0    198.0    250.0    244.0    356.0    100.0     36.0    163.0   \n8      44.0    225.0    307.0    325.0    243.0    110.0     29.0    272.0   \n9      84.0    183.0    361.0     73.0    129.0    214.0    162.0    240.0   \n10     48.0    362.0    342.0    358.0    108.0    282.0    326.0     18.0   \n11    108.0    109.0    274.0    252.0    301.0     56.0    289.0    210.0   \n\n    g-1_p-3  g-1_p-4  ...  g-8_p-1  g-8_p-2  g-8_p-3  g-8_p-4  g-9_p-0  \\\n0     257.0    340.0  ...    231.0    190.0    345.0    143.0    168.0   \n1       3.0    343.0  ...    313.0     33.0    345.0    117.0     31.0   \n2      77.0    296.0  ...    347.0     42.0     63.0    233.0     85.0   \n3     352.0     53.0  ...      5.0    220.0    127.0    228.0     45.0   \n4     112.0      1.0  ...    273.0    125.0    140.0    192.0    338.0   \n5      75.0    243.0  ...     76.0    162.0     47.0    300.0     92.0   \n6     295.0     98.0  ...     14.0    148.0    143.0    235.0     25.0   \n7     143.0    193.0  ...    298.0    131.0    180.0     10.0    336.0   \n8     167.0     31.0  ...    316.0    331.0     28.0    295.0    370.0   \n9      57.0    266.0  ...    131.0    258.0    286.0    292.0    105.0   \n10    348.0    269.0  ...     14.0    215.0    200.0     57.0     16.0   \n11    222.0    276.0  ...    344.0    202.0     26.0    147.0     16.0   \n\n    g-9_p-1  g-9_p-2  g-9_p-3  g-9_p-4      label  \n0     252.0     52.0    327.0     24.0  60.267387  \n1      82.0    181.0    107.0     71.0  64.212200  \n2      66.0    371.0     54.0    330.0  58.237173  \n3     110.0     79.0     30.0    139.0  72.370747  \n4     290.0     60.0    346.0    193.0  67.016440  \n5     360.0    226.0    327.0    237.0  66.941373  \n6     331.0    144.0    318.0    170.0  62.176520  \n7     270.0    366.0    158.0    122.0  62.134387  \n8     369.0    252.0    259.0    135.0  63.343040  \n9     299.0     82.0    190.0    135.0  59.733467  \n10     65.0     77.0    334.0    134.0  72.082213  \n11    227.0    294.0    269.0    143.0  57.425347  \n\n[12 rows x 51 columns]",
      "text/html": "<div>\n<style scoped>\n    .dataframe tbody tr th:only-of-type {\n        vertical-align: middle;\n    }\n\n    .dataframe tbody tr th {\n        vertical-align: top;\n    }\n\n    .dataframe thead th {\n        text-align: right;\n    }\n</style>\n<table border=\"1\" class=\"dataframe\">\n  <thead>\n    <tr style=\"text-align: right;\">\n      <th></th>\n      <th>g-0_p-0</th>\n      <th>g-0_p-1</th>\n      <th>g-0_p-2</th>\n      <th>g-0_p-3</th>\n      <th>g-0_p-4</th>\n      <th>g-1_p-0</th>\n      <th>g-1_p-1</th>\n      <th>g-1_p-2</th>\n      <th>g-1_p-3</th>\n      <th>g-1_p-4</th>\n      <th>...</th>\n      <th>g-8_p-1</th>\n      <th>g-8_p-2</th>\n      <th>g-8_p-3</th>\n      <th>g-8_p-4</th>\n      <th>g-9_p-0</th>\n      <th>g-9_p-1</th>\n      <th>g-9_p-2</th>\n      <th>g-9_p-3</th>\n      <th>g-9_p-4</th>\n      <th>label</th>\n    </tr>\n  </thead>\n  <tbody>\n    <tr>\n      <th>0</th>\n      <td>145.0</td>\n      <td>47.0</td>\n      <td>73.0</td>\n      <td>102.0</td>\n      <td>192.0</td>\n      <td>185.0</td>\n      <td>1.0</td>\n      <td>116.0</td>\n      <td>257.0</td>\n      <td>340.0</td>\n      <td>...</td>\n      <td>231.0</td>\n      <td>190.0</td>\n      <td>345.0</td>\n      <td>143.0</td>\n      <td>168.0</td>\n      <td>252.0</td>\n      <td>52.0</td>\n      <td>327.0</td>\n      <td>24.0</td>\n      <td>60.267387</td>\n    </tr>\n    <tr>\n      <th>1</th>\n      <td>237.0</td>\n      <td>212.0</td>\n      <td>323.0</td>\n      <td>225.0</td>\n      <td>151.0</td>\n      <td>145.0</td>\n      <td>185.0</td>\n      <td>226.0</td>\n      <td>3.0</td>\n      <td>343.0</td>\n      <td>...</td>\n      <td>313.0</td>\n      <td>33.0</td>\n      <td>345.0</td>\n      <td>117.0</td>\n      <td>31.0</td>\n      <td>82.0</td>\n      <td>181.0</td>\n      <td>107.0</td>\n      <td>71.0</td>\n      <td>64.212200</td>\n    </tr>\n    <tr>\n      <th>2</th>\n      <td>146.0</td>\n      <td>211.0</td>\n      <td>239.0</td>\n      <td>210.0</td>\n      <td>304.0</td>\n      <td>81.0</td>\n      <td>86.0</td>\n      <td>169.0</td>\n      <td>77.0</td>\n      <td>296.0</td>\n      <td>...</td>\n      <td>347.0</td>\n      <td>42.0</td>\n      <td>63.0</td>\n      <td>233.0</td>\n      <td>85.0</td>\n      <td>66.0</td>\n      <td>371.0</td>\n      <td>54.0</td>\n      <td>330.0</td>\n      <td>58.237173</td>\n    </tr>\n    <tr>\n      <th>3</th>\n      <td>168.0</td>\n      <td>118.0</td>\n      <td>106.0</td>\n      <td>144.0</td>\n      <td>34.0</td>\n      <td>213.0</td>\n      <td>278.0</td>\n      <td>107.0</td>\n      <td>352.0</td>\n      <td>53.0</td>\n      <td>...</td>\n      <td>5.0</td>\n      <td>220.0</td>\n      <td>127.0</td>\n      <td>228.0</td>\n      <td>45.0</td>\n      <td>110.0</td>\n      <td>79.0</td>\n      <td>30.0</td>\n      <td>139.0</td>\n      <td>72.370747</td>\n    </tr>\n    <tr>\n      <th>4</th>\n      <td>30.0</td>\n      <td>243.0</td>\n      <td>42.0</td>\n      <td>371.0</td>\n      <td>39.0</td>\n      <td>96.0</td>\n      <td>135.0</td>\n      <td>331.0</td>\n      <td>112.0</td>\n      <td>1.0</td>\n      <td>...</td>\n      <td>273.0</td>\n      <td>125.0</td>\n      <td>140.0</td>\n      <td>192.0</td>\n      <td>338.0</td>\n      <td>290.0</td>\n      <td>60.0</td>\n      <td>346.0</td>\n      <td>193.0</td>\n      <td>67.016440</td>\n    </tr>\n    <tr>\n      <th>5</th>\n      <td>311.0</td>\n      <td>44.0</td>\n      <td>202.0</td>\n      <td>295.0</td>\n      <td>279.0</td>\n      <td>70.0</td>\n      <td>329.0</td>\n      <td>330.0</td>\n      <td>75.0</td>\n      <td>243.0</td>\n      <td>...</td>\n      <td>76.0</td>\n      <td>162.0</td>\n      <td>47.0</td>\n      <td>300.0</td>\n      <td>92.0</td>\n      <td>360.0</td>\n      <td>226.0</td>\n      <td>327.0</td>\n      <td>237.0</td>\n      <td>66.941373</td>\n    </tr>\n    <tr>\n      <th>6</th>\n      <td>75.0</td>\n      <td>311.0</td>\n      <td>73.0</td>\n      <td>190.0</td>\n      <td>90.0</td>\n      <td>104.0</td>\n      <td>138.0</td>\n      <td>317.0</td>\n      <td>295.0</td>\n      <td>98.0</td>\n      <td>...</td>\n      <td>14.0</td>\n      <td>148.0</td>\n      <td>143.0</td>\n      <td>235.0</td>\n      <td>25.0</td>\n      <td>331.0</td>\n      <td>144.0</td>\n      <td>318.0</td>\n      <td>170.0</td>\n      <td>62.176520</td>\n    </tr>\n    <tr>\n      <th>7</th>\n      <td>216.0</td>\n      <td>198.0</td>\n      <td>250.0</td>\n      <td>244.0</td>\n      <td>356.0</td>\n      <td>100.0</td>\n      <td>36.0</td>\n      <td>163.0</td>\n      <td>143.0</td>\n      <td>193.0</td>\n      <td>...</td>\n      <td>298.0</td>\n      <td>131.0</td>\n      <td>180.0</td>\n      <td>10.0</td>\n      <td>336.0</td>\n      <td>270.0</td>\n      <td>366.0</td>\n      <td>158.0</td>\n      <td>122.0</td>\n      <td>62.134387</td>\n    </tr>\n    <tr>\n      <th>8</th>\n      <td>44.0</td>\n      <td>225.0</td>\n      <td>307.0</td>\n      <td>325.0</td>\n      <td>243.0</td>\n      <td>110.0</td>\n      <td>29.0</td>\n      <td>272.0</td>\n      <td>167.0</td>\n      <td>31.0</td>\n      <td>...</td>\n      <td>316.0</td>\n      <td>331.0</td>\n      <td>28.0</td>\n      <td>295.0</td>\n      <td>370.0</td>\n      <td>369.0</td>\n      <td>252.0</td>\n      <td>259.0</td>\n      <td>135.0</td>\n      <td>63.343040</td>\n    </tr>\n    <tr>\n      <th>9</th>\n      <td>84.0</td>\n      <td>183.0</td>\n      <td>361.0</td>\n      <td>73.0</td>\n      <td>129.0</td>\n      <td>214.0</td>\n      <td>162.0</td>\n      <td>240.0</td>\n      <td>57.0</td>\n      <td>266.0</td>\n      <td>...</td>\n      <td>131.0</td>\n      <td>258.0</td>\n      <td>286.0</td>\n      <td>292.0</td>\n      <td>105.0</td>\n      <td>299.0</td>\n      <td>82.0</td>\n      <td>190.0</td>\n      <td>135.0</td>\n      <td>59.733467</td>\n    </tr>\n    <tr>\n      <th>10</th>\n      <td>48.0</td>\n      <td>362.0</td>\n      <td>342.0</td>\n      <td>358.0</td>\n      <td>108.0</td>\n      <td>282.0</td>\n      <td>326.0</td>\n      <td>18.0</td>\n      <td>348.0</td>\n      <td>269.0</td>\n      <td>...</td>\n      <td>14.0</td>\n      <td>215.0</td>\n      <td>200.0</td>\n      <td>57.0</td>\n      <td>16.0</td>\n      <td>65.0</td>\n      <td>77.0</td>\n      <td>334.0</td>\n      <td>134.0</td>\n      <td>72.082213</td>\n    </tr>\n    <tr>\n      <th>11</th>\n      <td>108.0</td>\n      <td>109.0</td>\n      <td>274.0</td>\n      <td>252.0</td>\n      <td>301.0</td>\n      <td>56.0</td>\n      <td>289.0</td>\n      <td>210.0</td>\n      <td>222.0</td>\n      <td>276.0</td>\n      <td>...</td>\n      <td>344.0</td>\n      <td>202.0</td>\n      <td>26.0</td>\n      <td>147.0</td>\n      <td>16.0</td>\n      <td>227.0</td>\n      <td>294.0</td>\n      <td>269.0</td>\n      <td>143.0</td>\n      <td>57.425347</td>\n    </tr>\n  </tbody>\n</table>\n<p>12 rows × 51 columns</p>\n</div>"
     },
     "execution_count": 41,
     "metadata": {},
     "output_type": "execute_result"
    }
   ],
   "source": [
    "pd_new"
   ],
   "metadata": {
    "collapsed": false,
    "ExecuteTime": {
     "start_time": "2023-10-28T23:57:53.331560Z",
     "end_time": "2023-10-28T23:57:53.354557Z"
    }
   }
  },
  {
   "cell_type": "code",
   "execution_count": 44,
   "outputs": [
    {
     "data": {
      "text/plain": "       g-0_p-0  g-0_p-1  g-0_p-2  g-0_p-3  g-0_p-4  g-1_p-0  g-1_p-1  g-1_p-2  \\\n0        264.0    191.0     98.0    235.0     35.0    356.0    253.0      9.0   \n1        338.0    176.0     95.0     11.0    161.0    248.0    364.0     53.0   \n2        290.0     99.0     75.0     21.0    237.0    287.0    215.0    213.0   \n3         15.0    277.0     93.0    106.0    290.0    354.0     60.0    226.0   \n4        190.0    260.0     34.0    286.0    360.0    167.0    251.0    298.0   \n...        ...      ...      ...      ...      ...      ...      ...      ...   \n10007    216.0    198.0    250.0    244.0    356.0    100.0     36.0    163.0   \n10008     44.0    225.0    307.0    325.0    243.0    110.0     29.0    272.0   \n10009     84.0    183.0    361.0     73.0    129.0    214.0    162.0    240.0   \n10010     48.0    362.0    342.0    358.0    108.0    282.0    326.0     18.0   \n10011    108.0    109.0    274.0    252.0    301.0     56.0    289.0    210.0   \n\n       g-1_p-3  g-1_p-4  ...  g-8_p-1  g-8_p-2  g-8_p-3  g-8_p-4  g-9_p-0  \\\n0        147.0    311.0  ...    315.0    265.0     92.0     23.0    287.0   \n1         64.0     71.0  ...    181.0    365.0     96.0    187.0    165.0   \n2        172.0    214.0  ...     76.0    188.0    274.0     77.0    264.0   \n3         75.0    318.0  ...    243.0    288.0     74.0    131.0    344.0   \n4        256.0     15.0  ...     48.0    258.0    107.0      5.0    307.0   \n...        ...      ...  ...      ...      ...      ...      ...      ...   \n10007    143.0    193.0  ...    298.0    131.0    180.0     10.0    336.0   \n10008    167.0     31.0  ...    316.0    331.0     28.0    295.0    370.0   \n10009     57.0    266.0  ...    131.0    258.0    286.0    292.0    105.0   \n10010    348.0    269.0  ...     14.0    215.0    200.0     57.0     16.0   \n10011    222.0    276.0  ...    344.0    202.0     26.0    147.0     16.0   \n\n       g-9_p-1  g-9_p-2  g-9_p-3  g-9_p-4      label  \n0         17.0    234.0    223.0    117.0  68.011480  \n1         38.0    114.0     98.0     56.0  55.463373  \n2        117.0    254.0    168.0     65.0  66.108493  \n3         86.0    266.0    218.0     83.0  58.642507  \n4        121.0    162.0      7.0     37.0  62.584213  \n...        ...      ...      ...      ...        ...  \n10007    270.0    366.0    158.0    122.0  62.134387  \n10008    369.0    252.0    259.0    135.0  63.343040  \n10009    299.0     82.0    190.0    135.0  59.733467  \n10010     65.0     77.0    334.0    134.0  72.082213  \n10011    227.0    294.0    269.0    143.0  57.425347  \n\n[10012 rows x 51 columns]",
      "text/html": "<div>\n<style scoped>\n    .dataframe tbody tr th:only-of-type {\n        vertical-align: middle;\n    }\n\n    .dataframe tbody tr th {\n        vertical-align: top;\n    }\n\n    .dataframe thead th {\n        text-align: right;\n    }\n</style>\n<table border=\"1\" class=\"dataframe\">\n  <thead>\n    <tr style=\"text-align: right;\">\n      <th></th>\n      <th>g-0_p-0</th>\n      <th>g-0_p-1</th>\n      <th>g-0_p-2</th>\n      <th>g-0_p-3</th>\n      <th>g-0_p-4</th>\n      <th>g-1_p-0</th>\n      <th>g-1_p-1</th>\n      <th>g-1_p-2</th>\n      <th>g-1_p-3</th>\n      <th>g-1_p-4</th>\n      <th>...</th>\n      <th>g-8_p-1</th>\n      <th>g-8_p-2</th>\n      <th>g-8_p-3</th>\n      <th>g-8_p-4</th>\n      <th>g-9_p-0</th>\n      <th>g-9_p-1</th>\n      <th>g-9_p-2</th>\n      <th>g-9_p-3</th>\n      <th>g-9_p-4</th>\n      <th>label</th>\n    </tr>\n  </thead>\n  <tbody>\n    <tr>\n      <th>0</th>\n      <td>264.0</td>\n      <td>191.0</td>\n      <td>98.0</td>\n      <td>235.0</td>\n      <td>35.0</td>\n      <td>356.0</td>\n      <td>253.0</td>\n      <td>9.0</td>\n      <td>147.0</td>\n      <td>311.0</td>\n      <td>...</td>\n      <td>315.0</td>\n      <td>265.0</td>\n      <td>92.0</td>\n      <td>23.0</td>\n      <td>287.0</td>\n      <td>17.0</td>\n      <td>234.0</td>\n      <td>223.0</td>\n      <td>117.0</td>\n      <td>68.011480</td>\n    </tr>\n    <tr>\n      <th>1</th>\n      <td>338.0</td>\n      <td>176.0</td>\n      <td>95.0</td>\n      <td>11.0</td>\n      <td>161.0</td>\n      <td>248.0</td>\n      <td>364.0</td>\n      <td>53.0</td>\n      <td>64.0</td>\n      <td>71.0</td>\n      <td>...</td>\n      <td>181.0</td>\n      <td>365.0</td>\n      <td>96.0</td>\n      <td>187.0</td>\n      <td>165.0</td>\n      <td>38.0</td>\n      <td>114.0</td>\n      <td>98.0</td>\n      <td>56.0</td>\n      <td>55.463373</td>\n    </tr>\n    <tr>\n      <th>2</th>\n      <td>290.0</td>\n      <td>99.0</td>\n      <td>75.0</td>\n      <td>21.0</td>\n      <td>237.0</td>\n      <td>287.0</td>\n      <td>215.0</td>\n      <td>213.0</td>\n      <td>172.0</td>\n      <td>214.0</td>\n      <td>...</td>\n      <td>76.0</td>\n      <td>188.0</td>\n      <td>274.0</td>\n      <td>77.0</td>\n      <td>264.0</td>\n      <td>117.0</td>\n      <td>254.0</td>\n      <td>168.0</td>\n      <td>65.0</td>\n      <td>66.108493</td>\n    </tr>\n    <tr>\n      <th>3</th>\n      <td>15.0</td>\n      <td>277.0</td>\n      <td>93.0</td>\n      <td>106.0</td>\n      <td>290.0</td>\n      <td>354.0</td>\n      <td>60.0</td>\n      <td>226.0</td>\n      <td>75.0</td>\n      <td>318.0</td>\n      <td>...</td>\n      <td>243.0</td>\n      <td>288.0</td>\n      <td>74.0</td>\n      <td>131.0</td>\n      <td>344.0</td>\n      <td>86.0</td>\n      <td>266.0</td>\n      <td>218.0</td>\n      <td>83.0</td>\n      <td>58.642507</td>\n    </tr>\n    <tr>\n      <th>4</th>\n      <td>190.0</td>\n      <td>260.0</td>\n      <td>34.0</td>\n      <td>286.0</td>\n      <td>360.0</td>\n      <td>167.0</td>\n      <td>251.0</td>\n      <td>298.0</td>\n      <td>256.0</td>\n      <td>15.0</td>\n      <td>...</td>\n      <td>48.0</td>\n      <td>258.0</td>\n      <td>107.0</td>\n      <td>5.0</td>\n      <td>307.0</td>\n      <td>121.0</td>\n      <td>162.0</td>\n      <td>7.0</td>\n      <td>37.0</td>\n      <td>62.584213</td>\n    </tr>\n    <tr>\n      <th>...</th>\n      <td>...</td>\n      <td>...</td>\n      <td>...</td>\n      <td>...</td>\n      <td>...</td>\n      <td>...</td>\n      <td>...</td>\n      <td>...</td>\n      <td>...</td>\n      <td>...</td>\n      <td>...</td>\n      <td>...</td>\n      <td>...</td>\n      <td>...</td>\n      <td>...</td>\n      <td>...</td>\n      <td>...</td>\n      <td>...</td>\n      <td>...</td>\n      <td>...</td>\n      <td>...</td>\n    </tr>\n    <tr>\n      <th>10007</th>\n      <td>216.0</td>\n      <td>198.0</td>\n      <td>250.0</td>\n      <td>244.0</td>\n      <td>356.0</td>\n      <td>100.0</td>\n      <td>36.0</td>\n      <td>163.0</td>\n      <td>143.0</td>\n      <td>193.0</td>\n      <td>...</td>\n      <td>298.0</td>\n      <td>131.0</td>\n      <td>180.0</td>\n      <td>10.0</td>\n      <td>336.0</td>\n      <td>270.0</td>\n      <td>366.0</td>\n      <td>158.0</td>\n      <td>122.0</td>\n      <td>62.134387</td>\n    </tr>\n    <tr>\n      <th>10008</th>\n      <td>44.0</td>\n      <td>225.0</td>\n      <td>307.0</td>\n      <td>325.0</td>\n      <td>243.0</td>\n      <td>110.0</td>\n      <td>29.0</td>\n      <td>272.0</td>\n      <td>167.0</td>\n      <td>31.0</td>\n      <td>...</td>\n      <td>316.0</td>\n      <td>331.0</td>\n      <td>28.0</td>\n      <td>295.0</td>\n      <td>370.0</td>\n      <td>369.0</td>\n      <td>252.0</td>\n      <td>259.0</td>\n      <td>135.0</td>\n      <td>63.343040</td>\n    </tr>\n    <tr>\n      <th>10009</th>\n      <td>84.0</td>\n      <td>183.0</td>\n      <td>361.0</td>\n      <td>73.0</td>\n      <td>129.0</td>\n      <td>214.0</td>\n      <td>162.0</td>\n      <td>240.0</td>\n      <td>57.0</td>\n      <td>266.0</td>\n      <td>...</td>\n      <td>131.0</td>\n      <td>258.0</td>\n      <td>286.0</td>\n      <td>292.0</td>\n      <td>105.0</td>\n      <td>299.0</td>\n      <td>82.0</td>\n      <td>190.0</td>\n      <td>135.0</td>\n      <td>59.733467</td>\n    </tr>\n    <tr>\n      <th>10010</th>\n      <td>48.0</td>\n      <td>362.0</td>\n      <td>342.0</td>\n      <td>358.0</td>\n      <td>108.0</td>\n      <td>282.0</td>\n      <td>326.0</td>\n      <td>18.0</td>\n      <td>348.0</td>\n      <td>269.0</td>\n      <td>...</td>\n      <td>14.0</td>\n      <td>215.0</td>\n      <td>200.0</td>\n      <td>57.0</td>\n      <td>16.0</td>\n      <td>65.0</td>\n      <td>77.0</td>\n      <td>334.0</td>\n      <td>134.0</td>\n      <td>72.082213</td>\n    </tr>\n    <tr>\n      <th>10011</th>\n      <td>108.0</td>\n      <td>109.0</td>\n      <td>274.0</td>\n      <td>252.0</td>\n      <td>301.0</td>\n      <td>56.0</td>\n      <td>289.0</td>\n      <td>210.0</td>\n      <td>222.0</td>\n      <td>276.0</td>\n      <td>...</td>\n      <td>344.0</td>\n      <td>202.0</td>\n      <td>26.0</td>\n      <td>147.0</td>\n      <td>16.0</td>\n      <td>227.0</td>\n      <td>294.0</td>\n      <td>269.0</td>\n      <td>143.0</td>\n      <td>57.425347</td>\n    </tr>\n  </tbody>\n</table>\n<p>10012 rows × 51 columns</p>\n</div>"
     },
     "execution_count": 44,
     "metadata": {},
     "output_type": "execute_result"
    }
   ],
   "source": [
    "pd.concat([df_index, pd_new], ignore_index=True)"
   ],
   "metadata": {
    "collapsed": false,
    "ExecuteTime": {
     "start_time": "2023-10-28T23:59:43.223512Z",
     "end_time": "2023-10-28T23:59:43.256026Z"
    }
   }
  },
  {
   "cell_type": "code",
   "execution_count": 36,
   "outputs": [
    {
     "data": {
      "text/plain": "array([[ 1,  2,  3,  4,  5],\n       [ 6,  7,  8,  9, 10]])"
     },
     "execution_count": 36,
     "metadata": {},
     "output_type": "execute_result"
    }
   ],
   "source": [
    "a = np.array([[1,2,3,4,5], [6,7,8,9,10]])\n",
    "np.random.shuffle(a[2:-1])\n",
    "a"
   ],
   "metadata": {
    "collapsed": false,
    "ExecuteTime": {
     "start_time": "2023-10-28T19:18:43.203876Z",
     "end_time": "2023-10-28T19:18:43.255876Z"
    }
   }
  }
 ],
 "metadata": {
  "kernelspec": {
   "display_name": "Python 3",
   "language": "python",
   "name": "python3"
  },
  "language_info": {
   "codemirror_mode": {
    "name": "ipython",
    "version": 2
   },
   "file_extension": ".py",
   "mimetype": "text/x-python",
   "name": "python",
   "nbconvert_exporter": "python",
   "pygments_lexer": "ipython2",
   "version": "2.7.6"
  }
 },
 "nbformat": 4,
 "nbformat_minor": 0
}
