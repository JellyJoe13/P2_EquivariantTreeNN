{
 "cells": [
  {
   "cell_type": "markdown",
   "source": [
    "# Preparation of Dataset (development notebook)"
   ],
   "metadata": {
    "collapsed": false
   }
  },
  {
   "cell_type": "markdown",
   "source": [
    "## Import section"
   ],
   "metadata": {
    "collapsed": false
   }
  },
  {
   "cell_type": "code",
   "execution_count": 1,
   "outputs": [],
   "source": [
    "import numpy as np\n",
    "import pandas as pd\n",
    "\n",
    "from etnn.data.prepare_ferris_wheel import prepare_1_ferris, generate_ferris_dataset, add_valid_permutations, \\\n",
    "    sample_new_permutations\n",
    "from etnn.data.ferris_score_helpers import build_wheel_happyness\n",
    "from etnn.data.ferris_wheel import load_pure_ferris_wheel_dataset, load_modified_ferris_wheel_dataset\n",
    "import torch\n",
    "from torch.utils.data import random_split, DataLoader\n",
    "from tqdm import tqdm"
   ],
   "metadata": {
    "collapsed": false,
    "ExecuteTime": {
     "start_time": "2023-11-08T13:11:14.123466Z",
     "end_time": "2023-11-08T13:11:15.514377Z"
    }
   }
  },
  {
   "cell_type": "code",
   "execution_count": 2,
   "outputs": [],
   "source": [
    "DATASET_PATH = \"../datasets\""
   ],
   "metadata": {
    "collapsed": false,
    "ExecuteTime": {
     "start_time": "2023-11-08T13:11:15.515377Z",
     "end_time": "2023-11-08T13:11:15.529885Z"
    }
   }
  },
  {
   "cell_type": "markdown",
   "source": [
    "## Person dataset"
   ],
   "metadata": {
    "collapsed": false
   }
  },
  {
   "cell_type": "code",
   "execution_count": 3,
   "outputs": [],
   "source": [
    "df_health = prepare_1_ferris(\n",
    "    dataset_path=\"../datasets\",\n",
    "    df_name_output=\"health_dataset_preprocessed-1.csv\",\n",
    "    df_name_input=\"Sleep_health_and_lifestyle_dataset.csv\",\n",
    "    try_pregen=True\n",
    ")"
   ],
   "metadata": {
    "collapsed": false,
    "ExecuteTime": {
     "start_time": "2023-11-08T13:11:15.530885Z",
     "end_time": "2023-11-08T13:11:15.549909Z"
    }
   }
  },
  {
   "cell_type": "code",
   "execution_count": 4,
   "outputs": [
    {
     "data": {
      "text/plain": "   id  age  occupation  sleep_duration  sleep_quality  physical_activity  \\\n0   1   27           1             6.1              6                 42   \n1   2   28           2             6.2              6                 60   \n2   3   28           2             6.2              6                 60   \n3   4   28           3             5.9              4                 30   \n4   5   28           3             5.9              4                 30   \n\n   stress_level  bmi  heart_rate  daily_steps  sleep_disorder  \\\n0             6    2          77         4200               0   \n1             8    0          75        10000               0   \n2             8    0          75        10000               0   \n3             8    3          85         3000               1   \n4             8    3          85         3000               1   \n\n   blood_pressure1  blood_pressure2  gender_male  gender_female  gender_other  \n0              126               83         True          False         False  \n1              125               80         True          False         False  \n2              125               80         True          False         False  \n3              140               90         True          False         False  \n4              140               90         True          False         False  ",
      "text/html": "<div>\n<style scoped>\n    .dataframe tbody tr th:only-of-type {\n        vertical-align: middle;\n    }\n\n    .dataframe tbody tr th {\n        vertical-align: top;\n    }\n\n    .dataframe thead th {\n        text-align: right;\n    }\n</style>\n<table border=\"1\" class=\"dataframe\">\n  <thead>\n    <tr style=\"text-align: right;\">\n      <th></th>\n      <th>id</th>\n      <th>age</th>\n      <th>occupation</th>\n      <th>sleep_duration</th>\n      <th>sleep_quality</th>\n      <th>physical_activity</th>\n      <th>stress_level</th>\n      <th>bmi</th>\n      <th>heart_rate</th>\n      <th>daily_steps</th>\n      <th>sleep_disorder</th>\n      <th>blood_pressure1</th>\n      <th>blood_pressure2</th>\n      <th>gender_male</th>\n      <th>gender_female</th>\n      <th>gender_other</th>\n    </tr>\n  </thead>\n  <tbody>\n    <tr>\n      <th>0</th>\n      <td>1</td>\n      <td>27</td>\n      <td>1</td>\n      <td>6.1</td>\n      <td>6</td>\n      <td>42</td>\n      <td>6</td>\n      <td>2</td>\n      <td>77</td>\n      <td>4200</td>\n      <td>0</td>\n      <td>126</td>\n      <td>83</td>\n      <td>True</td>\n      <td>False</td>\n      <td>False</td>\n    </tr>\n    <tr>\n      <th>1</th>\n      <td>2</td>\n      <td>28</td>\n      <td>2</td>\n      <td>6.2</td>\n      <td>6</td>\n      <td>60</td>\n      <td>8</td>\n      <td>0</td>\n      <td>75</td>\n      <td>10000</td>\n      <td>0</td>\n      <td>125</td>\n      <td>80</td>\n      <td>True</td>\n      <td>False</td>\n      <td>False</td>\n    </tr>\n    <tr>\n      <th>2</th>\n      <td>3</td>\n      <td>28</td>\n      <td>2</td>\n      <td>6.2</td>\n      <td>6</td>\n      <td>60</td>\n      <td>8</td>\n      <td>0</td>\n      <td>75</td>\n      <td>10000</td>\n      <td>0</td>\n      <td>125</td>\n      <td>80</td>\n      <td>True</td>\n      <td>False</td>\n      <td>False</td>\n    </tr>\n    <tr>\n      <th>3</th>\n      <td>4</td>\n      <td>28</td>\n      <td>3</td>\n      <td>5.9</td>\n      <td>4</td>\n      <td>30</td>\n      <td>8</td>\n      <td>3</td>\n      <td>85</td>\n      <td>3000</td>\n      <td>1</td>\n      <td>140</td>\n      <td>90</td>\n      <td>True</td>\n      <td>False</td>\n      <td>False</td>\n    </tr>\n    <tr>\n      <th>4</th>\n      <td>5</td>\n      <td>28</td>\n      <td>3</td>\n      <td>5.9</td>\n      <td>4</td>\n      <td>30</td>\n      <td>8</td>\n      <td>3</td>\n      <td>85</td>\n      <td>3000</td>\n      <td>1</td>\n      <td>140</td>\n      <td>90</td>\n      <td>True</td>\n      <td>False</td>\n      <td>False</td>\n    </tr>\n  </tbody>\n</table>\n</div>"
     },
     "execution_count": 4,
     "metadata": {},
     "output_type": "execute_result"
    }
   ],
   "source": [
    "df_health.head()"
   ],
   "metadata": {
    "collapsed": false,
    "ExecuteTime": {
     "start_time": "2023-11-08T13:11:15.546910Z",
     "end_time": "2023-11-08T13:11:15.562909Z"
    }
   }
  },
  {
   "cell_type": "markdown",
   "source": [
    "## Gondola dataset (indexing)"
   ],
   "metadata": {
    "collapsed": false
   }
  },
  {
   "cell_type": "code",
   "execution_count": 5,
   "outputs": [],
   "source": [
    "# take group of ids from persons and state how the label for this group shall be calculated"
   ],
   "metadata": {
    "collapsed": false,
    "ExecuteTime": {
     "start_time": "2023-11-08T13:11:15.562909Z",
     "end_time": "2023-11-08T13:11:15.582255Z"
    }
   }
  },
  {
   "cell_type": "code",
   "execution_count": 6,
   "outputs": [],
   "source": [
    "# define ferris wheel\n",
    "num_gondolas = 10\n",
    "num_part_pg = 5"
   ],
   "metadata": {
    "collapsed": false,
    "ExecuteTime": {
     "start_time": "2023-11-08T13:11:15.578257Z",
     "end_time": "2023-11-08T13:11:15.639144Z"
    }
   }
  },
  {
   "cell_type": "code",
   "execution_count": 7,
   "outputs": [],
   "source": [
    "# generate sample element\n",
    "random_order = np.arange(len(df_health)) + 1\n",
    "np.random.shuffle(random_order)"
   ],
   "metadata": {
    "collapsed": false,
    "ExecuteTime": {
     "start_time": "2023-11-08T13:11:15.594681Z",
     "end_time": "2023-11-08T13:11:15.655144Z"
    }
   }
  },
  {
   "cell_type": "code",
   "execution_count": 8,
   "outputs": [],
   "source": [
    "example = [\n",
    "    random_order[i*num_part_pg:(i+1)*num_part_pg]\n",
    "    for i in range(num_gondolas)\n",
    "]"
   ],
   "metadata": {
    "collapsed": false,
    "ExecuteTime": {
     "start_time": "2023-11-08T13:11:15.609141Z",
     "end_time": "2023-11-08T13:11:15.655144Z"
    }
   }
  },
  {
   "cell_type": "code",
   "execution_count": 9,
   "outputs": [
    {
     "data": {
      "text/plain": "[array([136, 324, 185, 204,  46]),\n array([365, 217, 367, 360, 143]),\n array([214, 108, 352,  19,   4]),\n array([183, 196,  18,  31, 152]),\n array([221, 165, 304, 216,   5]),\n array([316, 318, 161, 268, 172]),\n array([125, 112, 334, 213, 323]),\n array([278, 332, 286, 191, 330]),\n array([281, 298, 211, 366,  80]),\n array([ 20, 160, 260, 232, 369])]"
     },
     "execution_count": 9,
     "metadata": {},
     "output_type": "execute_result"
    }
   ],
   "source": [
    "example"
   ],
   "metadata": {
    "collapsed": false,
    "ExecuteTime": {
     "start_time": "2023-11-08T13:11:15.626145Z",
     "end_time": "2023-11-08T13:11:15.672437Z"
    }
   }
  },
  {
   "cell_type": "code",
   "execution_count": 10,
   "outputs": [
    {
     "data": {
      "text/plain": "array([[136, 324, 185, 204,  46],\n       [365, 217, 367, 360, 143],\n       [214, 108, 352,  19,   4],\n       [183, 196,  18,  31, 152],\n       [221, 165, 304, 216,   5],\n       [316, 318, 161, 268, 172],\n       [125, 112, 334, 213, 323],\n       [278, 332, 286, 191, 330],\n       [281, 298, 211, 366,  80],\n       [ 20, 160, 260, 232, 369]])"
     },
     "execution_count": 10,
     "metadata": {},
     "output_type": "execute_result"
    }
   ],
   "source": [
    "random_order[:num_gondolas*num_part_pg].reshape(num_gondolas, num_part_pg)"
   ],
   "metadata": {
    "collapsed": false,
    "ExecuteTime": {
     "start_time": "2023-11-08T13:11:15.642146Z",
     "end_time": "2023-11-08T13:11:15.673460Z"
    }
   }
  },
  {
   "cell_type": "markdown",
   "source": [
    "Rules:\n",
    "- People being happy with other people in same gondola\n",
    "    + Age composition too seperated is bad\n",
    "    + shift in gender is bad if too much, 50-50 is good or all one gender\n",
    "    + same with age composition\n",
    "    + sleep derived(multiplier with quality) persons get a subtraction and 'good sleepers' get bonus (sleep disorder counts as stronger subtraction)\n",
    "    + higher heart rate and pressure = joy or fear\n",
    "    + composition of persons in regards to bmi : extreme values make others (no exception for group all those as to many underweight or overweight persons may be awquard as well)\n",
    "- People being happy with neighboring gondolas composition\n",
    "    + same age gets bonus, none gets penalty as potentially group is separated\n",
    "    + gap between happyness index between self and neighbors causes it to produce a mean of only the neighbors"
   ],
   "metadata": {
    "collapsed": false
   }
  },
  {
   "cell_type": "code",
   "execution_count": 11,
   "outputs": [
    {
     "data": {
      "text/plain": "62.27214666666666"
     },
     "execution_count": 11,
     "metadata": {},
     "output_type": "execute_result"
    }
   ],
   "source": [
    "build_wheel_happyness(df_health, example)"
   ],
   "metadata": {
    "collapsed": false,
    "ExecuteTime": {
     "start_time": "2023-11-08T13:11:15.657438Z",
     "end_time": "2023-11-08T13:11:15.718044Z"
    }
   }
  },
  {
   "cell_type": "code",
   "execution_count": 12,
   "outputs": [
    {
     "data": {
      "text/plain": "62.27214666666666"
     },
     "execution_count": 12,
     "metadata": {},
     "output_type": "execute_result"
    }
   ],
   "source": [
    "build_wheel_happyness(df_health, random_order[:num_gondolas * num_part_pg].reshape(num_gondolas, num_part_pg))"
   ],
   "metadata": {
    "collapsed": false,
    "ExecuteTime": {
     "start_time": "2023-11-08T13:11:15.686967Z",
     "end_time": "2023-11-08T13:11:15.728395Z"
    }
   }
  },
  {
   "cell_type": "code",
   "execution_count": 13,
   "outputs": [],
   "source": [
    "# define dataset size\n",
    "num_to_generate = 10_000\n",
    "# define ferris wheel\n",
    "num_gondolas = 10\n",
    "num_part_pg = 5"
   ],
   "metadata": {
    "collapsed": false,
    "ExecuteTime": {
     "start_time": "2023-11-08T13:11:15.719044Z",
     "end_time": "2023-11-08T13:11:15.736396Z"
    }
   }
  },
  {
   "cell_type": "code",
   "execution_count": 14,
   "outputs": [
    {
     "name": "stderr",
     "output_type": "stream",
     "text": [
      "100%|██████████| 10000/10000 [00:00<00:00, 139473.07it/s]\n",
      "100%|██████████| 10000/10000 [00:25<00:00, 392.18it/s]\n"
     ]
    }
   ],
   "source": [
    "df_index, df_health = generate_ferris_dataset(\n",
    "    num_gondolas=num_gondolas,\n",
    "    num_part_pg=num_part_pg,\n",
    "    num_to_generate=num_to_generate,\n",
    "    dataset_path=\"../datasets\",\n",
    "    df_intermediate_output_name=\"health_dataset_preprocessed-1.csv\",\n",
    "    df_name_input=\"Sleep_health_and_lifestyle_dataset.csv\",\n",
    "    try_pregen=True\n",
    ")"
   ],
   "metadata": {
    "collapsed": false,
    "ExecuteTime": {
     "start_time": "2023-11-08T13:11:15.735396Z",
     "end_time": "2023-11-08T13:11:41.600273Z"
    }
   }
  },
  {
   "cell_type": "code",
   "execution_count": 15,
   "outputs": [
    {
     "data": {
      "text/plain": "   g-0_p-0  g-0_p-1  g-0_p-2  g-0_p-3  g-0_p-4  g-1_p-0  g-1_p-1  g-1_p-2  \\\n0      264      191       98      235       35      356      253        9   \n1      338      176       95       11      161      248      364       53   \n2      290       99       75       21      237      287      215      213   \n3       15      277       93      106      290      354       60      226   \n4      190      260       34      286      360      167      251      298   \n\n   g-1_p-3  g-1_p-4  ...  g-8_p-1  g-8_p-2  g-8_p-3  g-8_p-4  g-9_p-0  \\\n0      147      311  ...      315      265       92       23      287   \n1       64       71  ...      181      365       96      187      165   \n2      172      214  ...       76      188      274       77      264   \n3       75      318  ...      243      288       74      131      344   \n4      256       15  ...       48      258      107        5      307   \n\n   g-9_p-1  g-9_p-2  g-9_p-3  g-9_p-4     label  \n0       17      234      223      117  53.81376  \n1       38      114       98       56  53.81376  \n2      117      254      168       65  53.81376  \n3       86      266      218       83  53.81376  \n4      121      162        7       37  53.81376  \n\n[5 rows x 51 columns]",
      "text/html": "<div>\n<style scoped>\n    .dataframe tbody tr th:only-of-type {\n        vertical-align: middle;\n    }\n\n    .dataframe tbody tr th {\n        vertical-align: top;\n    }\n\n    .dataframe thead th {\n        text-align: right;\n    }\n</style>\n<table border=\"1\" class=\"dataframe\">\n  <thead>\n    <tr style=\"text-align: right;\">\n      <th></th>\n      <th>g-0_p-0</th>\n      <th>g-0_p-1</th>\n      <th>g-0_p-2</th>\n      <th>g-0_p-3</th>\n      <th>g-0_p-4</th>\n      <th>g-1_p-0</th>\n      <th>g-1_p-1</th>\n      <th>g-1_p-2</th>\n      <th>g-1_p-3</th>\n      <th>g-1_p-4</th>\n      <th>...</th>\n      <th>g-8_p-1</th>\n      <th>g-8_p-2</th>\n      <th>g-8_p-3</th>\n      <th>g-8_p-4</th>\n      <th>g-9_p-0</th>\n      <th>g-9_p-1</th>\n      <th>g-9_p-2</th>\n      <th>g-9_p-3</th>\n      <th>g-9_p-4</th>\n      <th>label</th>\n    </tr>\n  </thead>\n  <tbody>\n    <tr>\n      <th>0</th>\n      <td>264</td>\n      <td>191</td>\n      <td>98</td>\n      <td>235</td>\n      <td>35</td>\n      <td>356</td>\n      <td>253</td>\n      <td>9</td>\n      <td>147</td>\n      <td>311</td>\n      <td>...</td>\n      <td>315</td>\n      <td>265</td>\n      <td>92</td>\n      <td>23</td>\n      <td>287</td>\n      <td>17</td>\n      <td>234</td>\n      <td>223</td>\n      <td>117</td>\n      <td>53.81376</td>\n    </tr>\n    <tr>\n      <th>1</th>\n      <td>338</td>\n      <td>176</td>\n      <td>95</td>\n      <td>11</td>\n      <td>161</td>\n      <td>248</td>\n      <td>364</td>\n      <td>53</td>\n      <td>64</td>\n      <td>71</td>\n      <td>...</td>\n      <td>181</td>\n      <td>365</td>\n      <td>96</td>\n      <td>187</td>\n      <td>165</td>\n      <td>38</td>\n      <td>114</td>\n      <td>98</td>\n      <td>56</td>\n      <td>53.81376</td>\n    </tr>\n    <tr>\n      <th>2</th>\n      <td>290</td>\n      <td>99</td>\n      <td>75</td>\n      <td>21</td>\n      <td>237</td>\n      <td>287</td>\n      <td>215</td>\n      <td>213</td>\n      <td>172</td>\n      <td>214</td>\n      <td>...</td>\n      <td>76</td>\n      <td>188</td>\n      <td>274</td>\n      <td>77</td>\n      <td>264</td>\n      <td>117</td>\n      <td>254</td>\n      <td>168</td>\n      <td>65</td>\n      <td>53.81376</td>\n    </tr>\n    <tr>\n      <th>3</th>\n      <td>15</td>\n      <td>277</td>\n      <td>93</td>\n      <td>106</td>\n      <td>290</td>\n      <td>354</td>\n      <td>60</td>\n      <td>226</td>\n      <td>75</td>\n      <td>318</td>\n      <td>...</td>\n      <td>243</td>\n      <td>288</td>\n      <td>74</td>\n      <td>131</td>\n      <td>344</td>\n      <td>86</td>\n      <td>266</td>\n      <td>218</td>\n      <td>83</td>\n      <td>53.81376</td>\n    </tr>\n    <tr>\n      <th>4</th>\n      <td>190</td>\n      <td>260</td>\n      <td>34</td>\n      <td>286</td>\n      <td>360</td>\n      <td>167</td>\n      <td>251</td>\n      <td>298</td>\n      <td>256</td>\n      <td>15</td>\n      <td>...</td>\n      <td>48</td>\n      <td>258</td>\n      <td>107</td>\n      <td>5</td>\n      <td>307</td>\n      <td>121</td>\n      <td>162</td>\n      <td>7</td>\n      <td>37</td>\n      <td>53.81376</td>\n    </tr>\n  </tbody>\n</table>\n<p>5 rows × 51 columns</p>\n</div>"
     },
     "execution_count": 15,
     "metadata": {},
     "output_type": "execute_result"
    }
   ],
   "source": [
    "df_index.head()"
   ],
   "metadata": {
    "collapsed": false,
    "ExecuteTime": {
     "start_time": "2023-11-08T13:11:41.600273Z",
     "end_time": "2023-11-08T13:11:41.616001Z"
    }
   }
  },
  {
   "cell_type": "code",
   "execution_count": 16,
   "outputs": [
    {
     "data": {
      "text/plain": "   id  age  occupation  sleep_duration  sleep_quality  physical_activity  \\\n0   1   27           1             6.1              6                 42   \n1   2   28           2             6.2              6                 60   \n2   3   28           2             6.2              6                 60   \n3   4   28           3             5.9              4                 30   \n4   5   28           3             5.9              4                 30   \n\n   stress_level  bmi  heart_rate  daily_steps  sleep_disorder  \\\n0             6    2          77         4200               0   \n1             8    0          75        10000               0   \n2             8    0          75        10000               0   \n3             8    3          85         3000               1   \n4             8    3          85         3000               1   \n\n   blood_pressure1  blood_pressure2  gender_male  gender_female  gender_other  \n0              126               83         True          False         False  \n1              125               80         True          False         False  \n2              125               80         True          False         False  \n3              140               90         True          False         False  \n4              140               90         True          False         False  ",
      "text/html": "<div>\n<style scoped>\n    .dataframe tbody tr th:only-of-type {\n        vertical-align: middle;\n    }\n\n    .dataframe tbody tr th {\n        vertical-align: top;\n    }\n\n    .dataframe thead th {\n        text-align: right;\n    }\n</style>\n<table border=\"1\" class=\"dataframe\">\n  <thead>\n    <tr style=\"text-align: right;\">\n      <th></th>\n      <th>id</th>\n      <th>age</th>\n      <th>occupation</th>\n      <th>sleep_duration</th>\n      <th>sleep_quality</th>\n      <th>physical_activity</th>\n      <th>stress_level</th>\n      <th>bmi</th>\n      <th>heart_rate</th>\n      <th>daily_steps</th>\n      <th>sleep_disorder</th>\n      <th>blood_pressure1</th>\n      <th>blood_pressure2</th>\n      <th>gender_male</th>\n      <th>gender_female</th>\n      <th>gender_other</th>\n    </tr>\n  </thead>\n  <tbody>\n    <tr>\n      <th>0</th>\n      <td>1</td>\n      <td>27</td>\n      <td>1</td>\n      <td>6.1</td>\n      <td>6</td>\n      <td>42</td>\n      <td>6</td>\n      <td>2</td>\n      <td>77</td>\n      <td>4200</td>\n      <td>0</td>\n      <td>126</td>\n      <td>83</td>\n      <td>True</td>\n      <td>False</td>\n      <td>False</td>\n    </tr>\n    <tr>\n      <th>1</th>\n      <td>2</td>\n      <td>28</td>\n      <td>2</td>\n      <td>6.2</td>\n      <td>6</td>\n      <td>60</td>\n      <td>8</td>\n      <td>0</td>\n      <td>75</td>\n      <td>10000</td>\n      <td>0</td>\n      <td>125</td>\n      <td>80</td>\n      <td>True</td>\n      <td>False</td>\n      <td>False</td>\n    </tr>\n    <tr>\n      <th>2</th>\n      <td>3</td>\n      <td>28</td>\n      <td>2</td>\n      <td>6.2</td>\n      <td>6</td>\n      <td>60</td>\n      <td>8</td>\n      <td>0</td>\n      <td>75</td>\n      <td>10000</td>\n      <td>0</td>\n      <td>125</td>\n      <td>80</td>\n      <td>True</td>\n      <td>False</td>\n      <td>False</td>\n    </tr>\n    <tr>\n      <th>3</th>\n      <td>4</td>\n      <td>28</td>\n      <td>3</td>\n      <td>5.9</td>\n      <td>4</td>\n      <td>30</td>\n      <td>8</td>\n      <td>3</td>\n      <td>85</td>\n      <td>3000</td>\n      <td>1</td>\n      <td>140</td>\n      <td>90</td>\n      <td>True</td>\n      <td>False</td>\n      <td>False</td>\n    </tr>\n    <tr>\n      <th>4</th>\n      <td>5</td>\n      <td>28</td>\n      <td>3</td>\n      <td>5.9</td>\n      <td>4</td>\n      <td>30</td>\n      <td>8</td>\n      <td>3</td>\n      <td>85</td>\n      <td>3000</td>\n      <td>1</td>\n      <td>140</td>\n      <td>90</td>\n      <td>True</td>\n      <td>False</td>\n      <td>False</td>\n    </tr>\n  </tbody>\n</table>\n</div>"
     },
     "execution_count": 16,
     "metadata": {},
     "output_type": "execute_result"
    }
   ],
   "source": [
    "df_health.head()"
   ],
   "metadata": {
    "collapsed": false,
    "ExecuteTime": {
     "start_time": "2023-11-08T13:11:41.616001Z",
     "end_time": "2023-11-08T13:11:41.647093Z"
    }
   }
  },
  {
   "cell_type": "code",
   "execution_count": 17,
   "outputs": [
    {
     "data": {
      "text/plain": "      g-0_p-0  g-0_p-1  g-0_p-2  g-0_p-3  g-0_p-4  g-1_p-0  g-1_p-1  g-1_p-2  \\\n0         264      191       98      235       35      356      253        9   \n1         338      176       95       11      161      248      364       53   \n2         290       99       75       21      237      287      215      213   \n3          15      277       93      106      290      354       60      226   \n4         190      260       34      286      360      167      251      298   \n...       ...      ...      ...      ...      ...      ...      ...      ...   \n9995      127       84      110      152      265       90      318       72   \n9996      286       97      191      288       32      268       41      347   \n9997      372      168      198      199      239      369      323      277   \n9998      154      310      224       59       87      207       97       78   \n9999      351       31      277      304      357       35      111      254   \n\n      g-1_p-3  g-1_p-4  ...  g-8_p-0  g-8_p-1  g-8_p-2  g-8_p-3  g-8_p-4  \\\n0         147      311  ...      299      315      265       92       23   \n1          64       71  ...      100      181      365       96      187   \n2         172      214  ...      122       76      188      274       77   \n3          75      318  ...      235      243      288       74      131   \n4         256       15  ...       28       48      258      107        5   \n...       ...      ...  ...      ...      ...      ...      ...      ...   \n9995      331      237  ...      346        7      341      126       70   \n9996      272      169  ...      194      178      269      310       79   \n9997      174      281  ...      191      112       75      331      177   \n9998      290      241  ...       12      338      254      183      145   \n9999       40       69  ...       16       71       65      163      296   \n\n      g-9_p-0  g-9_p-1  g-9_p-2  g-9_p-3  g-9_p-4  \n0         287       17      234      223      117  \n1         165       38      114       98       56  \n2         264      117      254      168       65  \n3         344       86      266      218       83  \n4         307      121      162        7       37  \n...       ...      ...      ...      ...      ...  \n9995      208       67      248      291      246  \n9996      370      108      189      340       24  \n9997      163      155        7      188      290  \n9998       22       95      247      158      231  \n9999      123      363      180      148      297  \n\n[10000 rows x 50 columns]",
      "text/html": "<div>\n<style scoped>\n    .dataframe tbody tr th:only-of-type {\n        vertical-align: middle;\n    }\n\n    .dataframe tbody tr th {\n        vertical-align: top;\n    }\n\n    .dataframe thead th {\n        text-align: right;\n    }\n</style>\n<table border=\"1\" class=\"dataframe\">\n  <thead>\n    <tr style=\"text-align: right;\">\n      <th></th>\n      <th>g-0_p-0</th>\n      <th>g-0_p-1</th>\n      <th>g-0_p-2</th>\n      <th>g-0_p-3</th>\n      <th>g-0_p-4</th>\n      <th>g-1_p-0</th>\n      <th>g-1_p-1</th>\n      <th>g-1_p-2</th>\n      <th>g-1_p-3</th>\n      <th>g-1_p-4</th>\n      <th>...</th>\n      <th>g-8_p-0</th>\n      <th>g-8_p-1</th>\n      <th>g-8_p-2</th>\n      <th>g-8_p-3</th>\n      <th>g-8_p-4</th>\n      <th>g-9_p-0</th>\n      <th>g-9_p-1</th>\n      <th>g-9_p-2</th>\n      <th>g-9_p-3</th>\n      <th>g-9_p-4</th>\n    </tr>\n  </thead>\n  <tbody>\n    <tr>\n      <th>0</th>\n      <td>264</td>\n      <td>191</td>\n      <td>98</td>\n      <td>235</td>\n      <td>35</td>\n      <td>356</td>\n      <td>253</td>\n      <td>9</td>\n      <td>147</td>\n      <td>311</td>\n      <td>...</td>\n      <td>299</td>\n      <td>315</td>\n      <td>265</td>\n      <td>92</td>\n      <td>23</td>\n      <td>287</td>\n      <td>17</td>\n      <td>234</td>\n      <td>223</td>\n      <td>117</td>\n    </tr>\n    <tr>\n      <th>1</th>\n      <td>338</td>\n      <td>176</td>\n      <td>95</td>\n      <td>11</td>\n      <td>161</td>\n      <td>248</td>\n      <td>364</td>\n      <td>53</td>\n      <td>64</td>\n      <td>71</td>\n      <td>...</td>\n      <td>100</td>\n      <td>181</td>\n      <td>365</td>\n      <td>96</td>\n      <td>187</td>\n      <td>165</td>\n      <td>38</td>\n      <td>114</td>\n      <td>98</td>\n      <td>56</td>\n    </tr>\n    <tr>\n      <th>2</th>\n      <td>290</td>\n      <td>99</td>\n      <td>75</td>\n      <td>21</td>\n      <td>237</td>\n      <td>287</td>\n      <td>215</td>\n      <td>213</td>\n      <td>172</td>\n      <td>214</td>\n      <td>...</td>\n      <td>122</td>\n      <td>76</td>\n      <td>188</td>\n      <td>274</td>\n      <td>77</td>\n      <td>264</td>\n      <td>117</td>\n      <td>254</td>\n      <td>168</td>\n      <td>65</td>\n    </tr>\n    <tr>\n      <th>3</th>\n      <td>15</td>\n      <td>277</td>\n      <td>93</td>\n      <td>106</td>\n      <td>290</td>\n      <td>354</td>\n      <td>60</td>\n      <td>226</td>\n      <td>75</td>\n      <td>318</td>\n      <td>...</td>\n      <td>235</td>\n      <td>243</td>\n      <td>288</td>\n      <td>74</td>\n      <td>131</td>\n      <td>344</td>\n      <td>86</td>\n      <td>266</td>\n      <td>218</td>\n      <td>83</td>\n    </tr>\n    <tr>\n      <th>4</th>\n      <td>190</td>\n      <td>260</td>\n      <td>34</td>\n      <td>286</td>\n      <td>360</td>\n      <td>167</td>\n      <td>251</td>\n      <td>298</td>\n      <td>256</td>\n      <td>15</td>\n      <td>...</td>\n      <td>28</td>\n      <td>48</td>\n      <td>258</td>\n      <td>107</td>\n      <td>5</td>\n      <td>307</td>\n      <td>121</td>\n      <td>162</td>\n      <td>7</td>\n      <td>37</td>\n    </tr>\n    <tr>\n      <th>...</th>\n      <td>...</td>\n      <td>...</td>\n      <td>...</td>\n      <td>...</td>\n      <td>...</td>\n      <td>...</td>\n      <td>...</td>\n      <td>...</td>\n      <td>...</td>\n      <td>...</td>\n      <td>...</td>\n      <td>...</td>\n      <td>...</td>\n      <td>...</td>\n      <td>...</td>\n      <td>...</td>\n      <td>...</td>\n      <td>...</td>\n      <td>...</td>\n      <td>...</td>\n      <td>...</td>\n    </tr>\n    <tr>\n      <th>9995</th>\n      <td>127</td>\n      <td>84</td>\n      <td>110</td>\n      <td>152</td>\n      <td>265</td>\n      <td>90</td>\n      <td>318</td>\n      <td>72</td>\n      <td>331</td>\n      <td>237</td>\n      <td>...</td>\n      <td>346</td>\n      <td>7</td>\n      <td>341</td>\n      <td>126</td>\n      <td>70</td>\n      <td>208</td>\n      <td>67</td>\n      <td>248</td>\n      <td>291</td>\n      <td>246</td>\n    </tr>\n    <tr>\n      <th>9996</th>\n      <td>286</td>\n      <td>97</td>\n      <td>191</td>\n      <td>288</td>\n      <td>32</td>\n      <td>268</td>\n      <td>41</td>\n      <td>347</td>\n      <td>272</td>\n      <td>169</td>\n      <td>...</td>\n      <td>194</td>\n      <td>178</td>\n      <td>269</td>\n      <td>310</td>\n      <td>79</td>\n      <td>370</td>\n      <td>108</td>\n      <td>189</td>\n      <td>340</td>\n      <td>24</td>\n    </tr>\n    <tr>\n      <th>9997</th>\n      <td>372</td>\n      <td>168</td>\n      <td>198</td>\n      <td>199</td>\n      <td>239</td>\n      <td>369</td>\n      <td>323</td>\n      <td>277</td>\n      <td>174</td>\n      <td>281</td>\n      <td>...</td>\n      <td>191</td>\n      <td>112</td>\n      <td>75</td>\n      <td>331</td>\n      <td>177</td>\n      <td>163</td>\n      <td>155</td>\n      <td>7</td>\n      <td>188</td>\n      <td>290</td>\n    </tr>\n    <tr>\n      <th>9998</th>\n      <td>154</td>\n      <td>310</td>\n      <td>224</td>\n      <td>59</td>\n      <td>87</td>\n      <td>207</td>\n      <td>97</td>\n      <td>78</td>\n      <td>290</td>\n      <td>241</td>\n      <td>...</td>\n      <td>12</td>\n      <td>338</td>\n      <td>254</td>\n      <td>183</td>\n      <td>145</td>\n      <td>22</td>\n      <td>95</td>\n      <td>247</td>\n      <td>158</td>\n      <td>231</td>\n    </tr>\n    <tr>\n      <th>9999</th>\n      <td>351</td>\n      <td>31</td>\n      <td>277</td>\n      <td>304</td>\n      <td>357</td>\n      <td>35</td>\n      <td>111</td>\n      <td>254</td>\n      <td>40</td>\n      <td>69</td>\n      <td>...</td>\n      <td>16</td>\n      <td>71</td>\n      <td>65</td>\n      <td>163</td>\n      <td>296</td>\n      <td>123</td>\n      <td>363</td>\n      <td>180</td>\n      <td>148</td>\n      <td>297</td>\n    </tr>\n  </tbody>\n</table>\n<p>10000 rows × 50 columns</p>\n</div>"
     },
     "execution_count": 17,
     "metadata": {},
     "output_type": "execute_result"
    }
   ],
   "source": [
    "df_index.iloc[:, :-1]"
   ],
   "metadata": {
    "collapsed": false,
    "ExecuteTime": {
     "start_time": "2023-11-08T13:11:41.632829Z",
     "end_time": "2023-11-08T13:11:41.711492Z"
    }
   }
  },
  {
   "cell_type": "markdown",
   "source": [
    "## Total dataset creation"
   ],
   "metadata": {
    "collapsed": false
   }
  },
  {
   "cell_type": "code",
   "execution_count": 18,
   "outputs": [],
   "source": [
    "dataset = load_pure_ferris_wheel_dataset(\n",
    "    num_gondolas=num_gondolas,\n",
    "    num_part_pg=num_part_pg,\n",
    "    num_to_generate=num_to_generate,\n",
    "    dataset_path=\"../datasets\",\n",
    "    df_intermediate_output_name=\"health_dataset_preprocessed-1.csv\",\n",
    "    df_name_input=\"Sleep_health_and_lifestyle_dataset.csv\",\n",
    "    try_pregen=True\n",
    ")"
   ],
   "metadata": {
    "collapsed": false,
    "ExecuteTime": {
     "start_time": "2023-11-08T13:11:41.648092Z",
     "end_time": "2023-11-08T13:11:41.757107Z"
    }
   }
  },
  {
   "cell_type": "code",
   "execution_count": 19,
   "outputs": [
    {
     "data": {
      "text/plain": "(tensor([[4.5000e+01, 1.1000e+01, 6.9000e+00, 7.0000e+00, 5.5000e+01, 5.0000e+00,\n          2.0000e+00, 7.5000e+01, 5.5000e+03, 0.0000e+00, 1.2500e+02, 8.2000e+01,\n          0.0000e+00, 1.0000e+00, 0.0000e+00],\n         [4.3000e+01, 4.0000e+00, 6.7000e+00, 7.0000e+00, 4.5000e+01, 4.0000e+00,\n          2.0000e+00, 6.5000e+01, 6.0000e+03, 2.0000e+00, 1.3500e+02, 9.0000e+01,\n          0.0000e+00, 1.0000e+00, 0.0000e+00],\n         [3.6000e+01, 7.0000e+00, 7.1000e+00, 8.0000e+00, 6.0000e+01, 4.0000e+00,\n          0.0000e+00, 6.8000e+01, 7.0000e+03, 0.0000e+00, 1.1500e+02, 7.5000e+01,\n          0.0000e+00, 1.0000e+00, 0.0000e+00],\n         [4.4000e+01, 4.0000e+00, 6.6000e+00, 7.0000e+00, 4.5000e+01, 4.0000e+00,\n          2.0000e+00, 6.5000e+01, 6.0000e+03, 2.0000e+00, 1.3500e+02, 9.0000e+01,\n          0.0000e+00, 1.0000e+00, 0.0000e+00],\n         [3.1000e+01, 2.0000e+00, 7.7000e+00, 7.0000e+00, 7.5000e+01, 6.0000e+00,\n          0.0000e+00, 7.0000e+01, 8.0000e+03, 0.0000e+00, 1.2000e+02, 8.0000e+01,\n          1.0000e+00, 0.0000e+00, 0.0000e+00],\n         [5.8000e+01, 5.0000e+00, 8.0000e+00, 9.0000e+00, 7.5000e+01, 3.0000e+00,\n          2.0000e+00, 6.8000e+01, 7.0000e+03, 1.0000e+00, 1.4000e+02, 9.5000e+01,\n          0.0000e+00, 1.0000e+00, 0.0000e+00],\n         [4.5000e+01, 4.0000e+00, 6.5000e+00, 7.0000e+00, 4.5000e+01, 4.0000e+00,\n          2.0000e+00, 6.5000e+01, 6.0000e+03, 2.0000e+00, 1.3500e+02, 9.0000e+01,\n          0.0000e+00, 1.0000e+00, 0.0000e+00],\n         [2.9000e+01, 2.0000e+00, 7.8000e+00, 7.0000e+00, 7.5000e+01, 6.0000e+00,\n          0.0000e+00, 7.0000e+01, 8.0000e+03, 0.0000e+00, 1.2000e+02, 8.0000e+01,\n          1.0000e+00, 0.0000e+00, 0.0000e+00],\n         [3.9000e+01, 9.0000e+00, 7.2000e+00, 8.0000e+00, 6.0000e+01, 5.0000e+00,\n          0.0000e+00, 6.8000e+01, 8.0000e+03, 2.0000e+00, 1.3000e+02, 8.5000e+01,\n          1.0000e+00, 0.0000e+00, 0.0000e+00],\n         [5.2000e+01, 7.0000e+00, 6.6000e+00, 7.0000e+00, 4.5000e+01, 7.0000e+00,\n          2.0000e+00, 7.2000e+01, 6.0000e+03, 2.0000e+00, 1.3000e+02, 8.5000e+01,\n          0.0000e+00, 1.0000e+00, 0.0000e+00],\n         [4.9000e+01, 2.0000e+00, 8.1000e+00, 9.0000e+00, 8.5000e+01, 3.0000e+00,\n          3.0000e+00, 8.6000e+01, 3.7000e+03, 1.0000e+00, 1.3900e+02, 9.1000e+01,\n          1.0000e+00, 0.0000e+00, 0.0000e+00],\n         [4.4000e+01, 4.0000e+00, 6.6000e+00, 7.0000e+00, 4.5000e+01, 4.0000e+00,\n          2.0000e+00, 6.5000e+01, 6.0000e+03, 2.0000e+00, 1.3500e+02, 9.0000e+01,\n          0.0000e+00, 1.0000e+00, 0.0000e+00],\n         [4.1000e+01, 9.0000e+00, 7.1000e+00, 7.0000e+00, 5.5000e+01, 6.0000e+00,\n          2.0000e+00, 7.2000e+01, 6.0000e+03, 0.0000e+00, 1.2500e+02, 8.2000e+01,\n          1.0000e+00, 0.0000e+00, 0.0000e+00],\n         [5.3000e+01, 6.0000e+00, 8.4000e+00, 9.0000e+00, 3.0000e+01, 3.0000e+00,\n          0.0000e+00, 6.5000e+01, 5.0000e+03, 0.0000e+00, 1.2500e+02, 8.0000e+01,\n          0.0000e+00, 1.0000e+00, 0.0000e+00],\n         [5.1000e+01, 5.0000e+00, 6.1000e+00, 6.0000e+00, 9.0000e+01, 8.0000e+00,\n          2.0000e+00, 7.5000e+01, 1.0000e+04, 1.0000e+00, 1.4000e+02, 9.5000e+01,\n          0.0000e+00, 1.0000e+00, 0.0000e+00],\n         [3.3000e+01, 2.0000e+00, 6.1000e+00, 6.0000e+00, 3.0000e+01, 8.0000e+00,\n          0.0000e+00, 7.2000e+01, 5.0000e+03, 0.0000e+00, 1.2500e+02, 8.0000e+01,\n          1.0000e+00, 0.0000e+00, 0.0000e+00],\n         [5.4000e+01, 6.0000e+00, 8.4000e+00, 9.0000e+00, 3.0000e+01, 3.0000e+00,\n          0.0000e+00, 6.5000e+01, 5.0000e+03, 0.0000e+00, 1.2500e+02, 8.0000e+01,\n          0.0000e+00, 1.0000e+00, 0.0000e+00],\n         [3.7000e+01, 5.0000e+00, 7.5000e+00, 8.0000e+00, 6.0000e+01, 4.0000e+00,\n          1.0000e+00, 7.0000e+01, 8.0000e+03, 0.0000e+00, 1.2000e+02, 8.0000e+01,\n          0.0000e+00, 1.0000e+00, 0.0000e+00],\n         [3.1000e+01, 2.0000e+00, 7.8000e+00, 7.0000e+00, 7.5000e+01, 6.0000e+00,\n          0.0000e+00, 7.0000e+01, 8.0000e+03, 0.0000e+00, 1.2000e+02, 8.0000e+01,\n          1.0000e+00, 0.0000e+00, 0.0000e+00],\n         [3.1000e+01, 2.0000e+00, 7.7000e+00, 7.0000e+00, 7.5000e+01, 6.0000e+00,\n          0.0000e+00, 7.0000e+01, 8.0000e+03, 0.0000e+00, 1.2000e+02, 8.0000e+01,\n          1.0000e+00, 0.0000e+00, 0.0000e+00],\n         [4.4000e+01, 1.0000e+01, 6.3000e+00, 6.0000e+00, 4.5000e+01, 7.0000e+00,\n          2.0000e+00, 7.2000e+01, 6.0000e+03, 2.0000e+00, 1.3000e+02, 8.5000e+01,\n          1.0000e+00, 0.0000e+00, 0.0000e+00],\n         [3.6000e+01, 4.0000e+00, 7.2000e+00, 8.0000e+00, 6.0000e+01, 4.0000e+00,\n          0.0000e+00, 6.8000e+01, 7.0000e+03, 0.0000e+00, 1.1500e+02, 7.5000e+01,\n          0.0000e+00, 1.0000e+00, 0.0000e+00],\n         [4.1000e+01, 9.0000e+00, 7.1000e+00, 7.0000e+00, 5.5000e+01, 6.0000e+00,\n          2.0000e+00, 7.2000e+01, 6.0000e+03, 0.0000e+00, 1.2500e+02, 8.2000e+01,\n          1.0000e+00, 0.0000e+00, 0.0000e+00],\n         [3.9000e+01, 9.0000e+00, 7.2000e+00, 8.0000e+00, 6.0000e+01, 5.0000e+00,\n          0.0000e+00, 6.8000e+01, 8.0000e+03, 0.0000e+00, 1.3000e+02, 8.5000e+01,\n          1.0000e+00, 0.0000e+00, 0.0000e+00],\n         [3.6000e+01, 4.0000e+00, 6.6000e+00, 5.0000e+00, 3.5000e+01, 7.0000e+00,\n          2.0000e+00, 7.4000e+01, 4.8000e+03, 1.0000e+00, 1.2900e+02, 8.4000e+01,\n          1.0000e+00, 0.0000e+00, 0.0000e+00],\n         [4.3000e+01, 1.0000e+01, 6.5000e+00, 6.0000e+00, 4.5000e+01, 7.0000e+00,\n          2.0000e+00, 7.2000e+01, 6.0000e+03, 2.0000e+00, 1.3000e+02, 8.5000e+01,\n          1.0000e+00, 0.0000e+00, 0.0000e+00],\n         [4.3000e+01, 1.0000e+01, 6.3000e+00, 6.0000e+00, 4.5000e+01, 7.0000e+00,\n          2.0000e+00, 7.2000e+01, 6.0000e+03, 2.0000e+00, 1.3000e+02, 8.5000e+01,\n          1.0000e+00, 0.0000e+00, 0.0000e+00],\n         [3.9000e+01, 9.0000e+00, 7.2000e+00, 8.0000e+00, 6.0000e+01, 5.0000e+00,\n          0.0000e+00, 6.8000e+01, 8.0000e+03, 0.0000e+00, 1.3000e+02, 8.5000e+01,\n          1.0000e+00, 0.0000e+00, 0.0000e+00],\n         [5.4000e+01, 6.0000e+00, 8.4000e+00, 9.0000e+00, 3.0000e+01, 3.0000e+00,\n          0.0000e+00, 6.5000e+01, 5.0000e+03, 0.0000e+00, 1.2500e+02, 8.0000e+01,\n          0.0000e+00, 1.0000e+00, 0.0000e+00],\n         [4.3000e+01, 6.0000e+00, 6.9000e+00, 6.0000e+00, 4.7000e+01, 7.0000e+00,\n          1.0000e+00, 6.9000e+01, 6.8000e+03, 0.0000e+00, 1.1700e+02, 7.6000e+01,\n          1.0000e+00, 0.0000e+00, 0.0000e+00],\n         [4.8000e+01, 5.0000e+00, 5.9000e+00, 6.0000e+00, 9.0000e+01, 8.0000e+00,\n          2.0000e+00, 7.5000e+01, 1.0000e+04, 1.0000e+00, 1.4000e+02, 9.5000e+01,\n          0.0000e+00, 1.0000e+00, 0.0000e+00],\n         [4.4000e+01, 4.0000e+00, 6.5000e+00, 7.0000e+00, 4.5000e+01, 4.0000e+00,\n          2.0000e+00, 6.5000e+01, 6.0000e+03, 2.0000e+00, 1.3500e+02, 9.0000e+01,\n          0.0000e+00, 1.0000e+00, 0.0000e+00],\n         [3.7000e+01, 5.0000e+00, 6.1000e+00, 6.0000e+00, 4.2000e+01, 6.0000e+00,\n          2.0000e+00, 7.7000e+01, 4.2000e+03, 0.0000e+00, 1.2600e+02, 8.3000e+01,\n          0.0000e+00, 1.0000e+00, 0.0000e+00],\n         [5.0000e+01, 5.0000e+00, 6.1000e+00, 6.0000e+00, 9.0000e+01, 8.0000e+00,\n          2.0000e+00, 7.5000e+01, 1.0000e+04, 2.0000e+00, 1.4000e+02, 9.5000e+01,\n          0.0000e+00, 1.0000e+00, 0.0000e+00],\n         [5.6000e+01, 2.0000e+00, 8.2000e+00, 9.0000e+00, 9.0000e+01, 3.0000e+00,\n          1.0000e+00, 6.5000e+01, 1.0000e+04, 0.0000e+00, 1.1800e+02, 7.5000e+01,\n          0.0000e+00, 1.0000e+00, 0.0000e+00],\n         [3.3000e+01, 2.0000e+00, 6.1000e+00, 6.0000e+00, 3.0000e+01, 8.0000e+00,\n          0.0000e+00, 7.2000e+01, 5.0000e+03, 0.0000e+00, 1.2500e+02, 8.0000e+01,\n          1.0000e+00, 0.0000e+00, 0.0000e+00],\n         [4.2000e+01, 9.0000e+00, 7.8000e+00, 8.0000e+00, 9.0000e+01, 5.0000e+00,\n          0.0000e+00, 7.0000e+01, 8.0000e+03, 0.0000e+00, 1.3000e+02, 8.5000e+01,\n          1.0000e+00, 0.0000e+00, 0.0000e+00],\n         [4.2000e+01, 9.0000e+00, 7.8000e+00, 8.0000e+00, 9.0000e+01, 5.0000e+00,\n          0.0000e+00, 7.0000e+01, 8.0000e+03, 0.0000e+00, 1.3000e+02, 8.5000e+01,\n          1.0000e+00, 0.0000e+00, 0.0000e+00],\n         [4.5000e+01, 4.0000e+00, 6.8000e+00, 7.0000e+00, 3.0000e+01, 6.0000e+00,\n          2.0000e+00, 6.5000e+01, 6.0000e+03, 2.0000e+00, 1.3500e+02, 9.0000e+01,\n          0.0000e+00, 1.0000e+00, 0.0000e+00],\n         [2.9000e+01, 2.0000e+00, 6.1000e+00, 6.0000e+00, 3.0000e+01, 8.0000e+00,\n          0.0000e+00, 7.0000e+01, 8.0000e+03, 0.0000e+00, 1.2000e+02, 8.0000e+01,\n          1.0000e+00, 0.0000e+00, 0.0000e+00],\n         [5.1000e+01, 6.0000e+00, 8.5000e+00, 9.0000e+00, 3.0000e+01, 3.0000e+00,\n          0.0000e+00, 6.5000e+01, 5.0000e+03, 0.0000e+00, 1.2500e+02, 8.0000e+01,\n          0.0000e+00, 1.0000e+00, 0.0000e+00],\n         [5.2000e+01, 6.0000e+00, 8.4000e+00, 9.0000e+00, 3.0000e+01, 3.0000e+00,\n          0.0000e+00, 6.5000e+01, 5.0000e+03, 0.0000e+00, 1.2500e+02, 8.0000e+01,\n          0.0000e+00, 1.0000e+00, 0.0000e+00],\n         [4.8000e+01, 2.0000e+00, 7.3000e+00, 7.0000e+00, 6.5000e+01, 5.0000e+00,\n          3.0000e+00, 8.3000e+01, 3.5000e+03, 2.0000e+00, 1.4200e+02, 9.2000e+01,\n          1.0000e+00, 0.0000e+00, 0.0000e+00],\n         [3.5000e+01, 6.0000e+00, 7.3000e+00, 8.0000e+00, 6.0000e+01, 4.0000e+00,\n          0.0000e+00, 6.5000e+01, 5.0000e+03, 0.0000e+00, 1.2500e+02, 8.0000e+01,\n          1.0000e+00, 0.0000e+00, 0.0000e+00],\n         [3.0000e+01, 2.0000e+00, 7.7000e+00, 7.0000e+00, 7.5000e+01, 6.0000e+00,\n          0.0000e+00, 7.0000e+01, 8.0000e+03, 0.0000e+00, 1.2000e+02, 8.0000e+01,\n          1.0000e+00, 0.0000e+00, 0.0000e+00],\n         [5.0000e+01, 5.0000e+00, 6.0000e+00, 6.0000e+00, 9.0000e+01, 8.0000e+00,\n          2.0000e+00, 7.5000e+01, 1.0000e+04, 1.0000e+00, 1.4000e+02, 9.5000e+01,\n          0.0000e+00, 1.0000e+00, 0.0000e+00],\n         [2.9000e+01, 5.0000e+00, 6.5000e+00, 5.0000e+00, 4.0000e+01, 7.0000e+00,\n          1.0000e+00, 8.0000e+01, 4.0000e+03, 1.0000e+00, 1.3200e+02, 8.7000e+01,\n          0.0000e+00, 1.0000e+00, 0.0000e+00],\n         [4.4000e+01, 1.0000e+01, 6.3000e+00, 6.0000e+00, 4.5000e+01, 7.0000e+00,\n          2.0000e+00, 7.2000e+01, 6.0000e+03, 2.0000e+00, 1.3000e+02, 8.5000e+01,\n          1.0000e+00, 0.0000e+00, 0.0000e+00],\n         [4.4000e+01, 1.0000e+01, 6.3000e+00, 6.0000e+00, 4.5000e+01, 7.0000e+00,\n          2.0000e+00, 7.2000e+01, 6.0000e+03, 2.0000e+00, 1.3000e+02, 8.5000e+01,\n          1.0000e+00, 0.0000e+00, 0.0000e+00],\n         [3.7000e+01, 7.0000e+00, 7.2000e+00, 8.0000e+00, 6.0000e+01, 4.0000e+00,\n          0.0000e+00, 6.8000e+01, 7.0000e+03, 0.0000e+00, 1.1500e+02, 7.5000e+01,\n          0.0000e+00, 1.0000e+00, 0.0000e+00]]),\n tensor(53.8138))"
     },
     "execution_count": 19,
     "metadata": {},
     "output_type": "execute_result"
    }
   ],
   "source": [
    "dataset[0]"
   ],
   "metadata": {
    "collapsed": false,
    "ExecuteTime": {
     "start_time": "2023-11-08T13:11:41.680093Z",
     "end_time": "2023-11-08T13:11:41.761446Z"
    }
   }
  },
  {
   "cell_type": "markdown",
   "source": [
    "## DataLoaders"
   ],
   "metadata": {
    "collapsed": false
   }
  },
  {
   "cell_type": "code",
   "execution_count": 20,
   "outputs": [],
   "source": [
    "generator = torch.Generator().manual_seed(420)\n",
    "train_ds, val_ds, test_ds = random_split(dataset, [0.7, 0.1, 0.2], generator=generator)"
   ],
   "metadata": {
    "collapsed": false,
    "ExecuteTime": {
     "start_time": "2023-11-08T13:11:41.694491Z",
     "end_time": "2023-11-08T13:11:41.761446Z"
    }
   }
  },
  {
   "cell_type": "code",
   "execution_count": 21,
   "outputs": [
    {
     "data": {
      "text/plain": "<torch.utils.data.dataset.Subset at 0x1c2b3ce6a30>"
     },
     "execution_count": 21,
     "metadata": {},
     "output_type": "execute_result"
    }
   ],
   "source": [
    "train_ds"
   ],
   "metadata": {
    "collapsed": false,
    "ExecuteTime": {
     "start_time": "2023-11-08T13:11:41.711492Z",
     "end_time": "2023-11-08T13:11:41.762446Z"
    }
   }
  },
  {
   "cell_type": "code",
   "execution_count": 22,
   "outputs": [],
   "source": [
    "train_loader = DataLoader(train_ds, batch_size=32, shuffle=True)"
   ],
   "metadata": {
    "collapsed": false,
    "ExecuteTime": {
     "start_time": "2023-11-08T13:11:41.726663Z",
     "end_time": "2023-11-08T13:11:41.804446Z"
    }
   }
  },
  {
   "cell_type": "code",
   "execution_count": 23,
   "outputs": [
    {
     "name": "stdout",
     "output_type": "stream",
     "text": [
      "x-shape:torch.Size([32, 50, 15]), y-shape:torch.Size([32])\n"
     ]
    }
   ],
   "source": [
    "for x, y in train_loader:\n",
    "    print(f\"x-shape:{x.shape}, y-shape:{y.shape}\")\n",
    "    break"
   ],
   "metadata": {
    "collapsed": false,
    "ExecuteTime": {
     "start_time": "2023-11-08T13:11:41.744109Z",
     "end_time": "2023-11-08T13:11:41.821473Z"
    }
   }
  },
  {
   "cell_type": "markdown",
   "source": [
    "## Specialize pure datasets"
   ],
   "metadata": {
    "collapsed": false
   }
  },
  {
   "cell_type": "code",
   "execution_count": 24,
   "outputs": [
    {
     "name": "stderr",
     "output_type": "stream",
     "text": [
      "100%|██████████| 10000/10000 [00:00<00:00, 79958.97it/s]\n"
     ]
    }
   ],
   "source": [
    "df_added_valid = add_valid_permutations(\n",
    "    num_to_generate,\n",
    "    df_index,\n",
    "    num_gondolas\n",
    ")"
   ],
   "metadata": {
    "collapsed": false,
    "ExecuteTime": {
     "start_time": "2023-11-08T13:11:41.759448Z",
     "end_time": "2023-11-08T13:11:41.963148Z"
    }
   }
  },
  {
   "cell_type": "code",
   "execution_count": 25,
   "outputs": [
    {
     "data": {
      "text/plain": "       g-0_p-0  g-0_p-1  g-0_p-2  g-0_p-3  g-0_p-4  g-1_p-0  g-1_p-1  g-1_p-2  \\\n0          264      191       98      235       35      356      253        9   \n1          338      176       95       11      161      248      364       53   \n2          290       99       75       21      237      287      215      213   \n3           15      277       93      106      290      354       60      226   \n4          190      260       34      286      360      167      251      298   \n...        ...      ...      ...      ...      ...      ...      ...      ...   \n19995       14      204      272      195      136      217      178      137   \n19996      278      282      328      303      251      265       25      243   \n19997      169      160       69      298      314      234      346      350   \n19998       26      358      181       46      355       83       54      366   \n19999      224       77       98      244      111      285      194      309   \n\n       g-1_p-3  g-1_p-4  ...  g-8_p-1  g-8_p-2  g-8_p-3  g-8_p-4  g-9_p-0  \\\n0          147      311  ...      315      265       92       23      287   \n1           64       71  ...      181      365       96      187      165   \n2          172      214  ...       76      188      274       77      264   \n3           75      318  ...      243      288       74      131      344   \n4          256       15  ...       48      258      107        5      307   \n...        ...      ...  ...      ...      ...      ...      ...      ...   \n19995       46      197  ...      263       94      345      248      227   \n19996      199      365  ...      342      188       40       77       39   \n19997      246      338  ...      173       73      277      286       70   \n19998      125      155  ...      277      174       80      106      260   \n19999      281       21  ...      123      328       73       62      270   \n\n       g-9_p-1  g-9_p-2  g-9_p-3  g-9_p-4     label  \n0           17      234      223      117  53.81376  \n1           38      114       98       56  53.81376  \n2          117      254      168       65  53.81376  \n3           86      266      218       83  53.81376  \n4          121      162        7       37  53.81376  \n...        ...      ...      ...      ...       ...  \n19995        6      102      127      301  53.81376  \n19996      358       34      290      335  53.81376  \n19997       17      180      118      137  53.81376  \n19998      342      194      287      371  53.81376  \n19999      132       87      185       23  53.81376  \n\n[20000 rows x 51 columns]",
      "text/html": "<div>\n<style scoped>\n    .dataframe tbody tr th:only-of-type {\n        vertical-align: middle;\n    }\n\n    .dataframe tbody tr th {\n        vertical-align: top;\n    }\n\n    .dataframe thead th {\n        text-align: right;\n    }\n</style>\n<table border=\"1\" class=\"dataframe\">\n  <thead>\n    <tr style=\"text-align: right;\">\n      <th></th>\n      <th>g-0_p-0</th>\n      <th>g-0_p-1</th>\n      <th>g-0_p-2</th>\n      <th>g-0_p-3</th>\n      <th>g-0_p-4</th>\n      <th>g-1_p-0</th>\n      <th>g-1_p-1</th>\n      <th>g-1_p-2</th>\n      <th>g-1_p-3</th>\n      <th>g-1_p-4</th>\n      <th>...</th>\n      <th>g-8_p-1</th>\n      <th>g-8_p-2</th>\n      <th>g-8_p-3</th>\n      <th>g-8_p-4</th>\n      <th>g-9_p-0</th>\n      <th>g-9_p-1</th>\n      <th>g-9_p-2</th>\n      <th>g-9_p-3</th>\n      <th>g-9_p-4</th>\n      <th>label</th>\n    </tr>\n  </thead>\n  <tbody>\n    <tr>\n      <th>0</th>\n      <td>264</td>\n      <td>191</td>\n      <td>98</td>\n      <td>235</td>\n      <td>35</td>\n      <td>356</td>\n      <td>253</td>\n      <td>9</td>\n      <td>147</td>\n      <td>311</td>\n      <td>...</td>\n      <td>315</td>\n      <td>265</td>\n      <td>92</td>\n      <td>23</td>\n      <td>287</td>\n      <td>17</td>\n      <td>234</td>\n      <td>223</td>\n      <td>117</td>\n      <td>53.81376</td>\n    </tr>\n    <tr>\n      <th>1</th>\n      <td>338</td>\n      <td>176</td>\n      <td>95</td>\n      <td>11</td>\n      <td>161</td>\n      <td>248</td>\n      <td>364</td>\n      <td>53</td>\n      <td>64</td>\n      <td>71</td>\n      <td>...</td>\n      <td>181</td>\n      <td>365</td>\n      <td>96</td>\n      <td>187</td>\n      <td>165</td>\n      <td>38</td>\n      <td>114</td>\n      <td>98</td>\n      <td>56</td>\n      <td>53.81376</td>\n    </tr>\n    <tr>\n      <th>2</th>\n      <td>290</td>\n      <td>99</td>\n      <td>75</td>\n      <td>21</td>\n      <td>237</td>\n      <td>287</td>\n      <td>215</td>\n      <td>213</td>\n      <td>172</td>\n      <td>214</td>\n      <td>...</td>\n      <td>76</td>\n      <td>188</td>\n      <td>274</td>\n      <td>77</td>\n      <td>264</td>\n      <td>117</td>\n      <td>254</td>\n      <td>168</td>\n      <td>65</td>\n      <td>53.81376</td>\n    </tr>\n    <tr>\n      <th>3</th>\n      <td>15</td>\n      <td>277</td>\n      <td>93</td>\n      <td>106</td>\n      <td>290</td>\n      <td>354</td>\n      <td>60</td>\n      <td>226</td>\n      <td>75</td>\n      <td>318</td>\n      <td>...</td>\n      <td>243</td>\n      <td>288</td>\n      <td>74</td>\n      <td>131</td>\n      <td>344</td>\n      <td>86</td>\n      <td>266</td>\n      <td>218</td>\n      <td>83</td>\n      <td>53.81376</td>\n    </tr>\n    <tr>\n      <th>4</th>\n      <td>190</td>\n      <td>260</td>\n      <td>34</td>\n      <td>286</td>\n      <td>360</td>\n      <td>167</td>\n      <td>251</td>\n      <td>298</td>\n      <td>256</td>\n      <td>15</td>\n      <td>...</td>\n      <td>48</td>\n      <td>258</td>\n      <td>107</td>\n      <td>5</td>\n      <td>307</td>\n      <td>121</td>\n      <td>162</td>\n      <td>7</td>\n      <td>37</td>\n      <td>53.81376</td>\n    </tr>\n    <tr>\n      <th>...</th>\n      <td>...</td>\n      <td>...</td>\n      <td>...</td>\n      <td>...</td>\n      <td>...</td>\n      <td>...</td>\n      <td>...</td>\n      <td>...</td>\n      <td>...</td>\n      <td>...</td>\n      <td>...</td>\n      <td>...</td>\n      <td>...</td>\n      <td>...</td>\n      <td>...</td>\n      <td>...</td>\n      <td>...</td>\n      <td>...</td>\n      <td>...</td>\n      <td>...</td>\n      <td>...</td>\n    </tr>\n    <tr>\n      <th>19995</th>\n      <td>14</td>\n      <td>204</td>\n      <td>272</td>\n      <td>195</td>\n      <td>136</td>\n      <td>217</td>\n      <td>178</td>\n      <td>137</td>\n      <td>46</td>\n      <td>197</td>\n      <td>...</td>\n      <td>263</td>\n      <td>94</td>\n      <td>345</td>\n      <td>248</td>\n      <td>227</td>\n      <td>6</td>\n      <td>102</td>\n      <td>127</td>\n      <td>301</td>\n      <td>53.81376</td>\n    </tr>\n    <tr>\n      <th>19996</th>\n      <td>278</td>\n      <td>282</td>\n      <td>328</td>\n      <td>303</td>\n      <td>251</td>\n      <td>265</td>\n      <td>25</td>\n      <td>243</td>\n      <td>199</td>\n      <td>365</td>\n      <td>...</td>\n      <td>342</td>\n      <td>188</td>\n      <td>40</td>\n      <td>77</td>\n      <td>39</td>\n      <td>358</td>\n      <td>34</td>\n      <td>290</td>\n      <td>335</td>\n      <td>53.81376</td>\n    </tr>\n    <tr>\n      <th>19997</th>\n      <td>169</td>\n      <td>160</td>\n      <td>69</td>\n      <td>298</td>\n      <td>314</td>\n      <td>234</td>\n      <td>346</td>\n      <td>350</td>\n      <td>246</td>\n      <td>338</td>\n      <td>...</td>\n      <td>173</td>\n      <td>73</td>\n      <td>277</td>\n      <td>286</td>\n      <td>70</td>\n      <td>17</td>\n      <td>180</td>\n      <td>118</td>\n      <td>137</td>\n      <td>53.81376</td>\n    </tr>\n    <tr>\n      <th>19998</th>\n      <td>26</td>\n      <td>358</td>\n      <td>181</td>\n      <td>46</td>\n      <td>355</td>\n      <td>83</td>\n      <td>54</td>\n      <td>366</td>\n      <td>125</td>\n      <td>155</td>\n      <td>...</td>\n      <td>277</td>\n      <td>174</td>\n      <td>80</td>\n      <td>106</td>\n      <td>260</td>\n      <td>342</td>\n      <td>194</td>\n      <td>287</td>\n      <td>371</td>\n      <td>53.81376</td>\n    </tr>\n    <tr>\n      <th>19999</th>\n      <td>224</td>\n      <td>77</td>\n      <td>98</td>\n      <td>244</td>\n      <td>111</td>\n      <td>285</td>\n      <td>194</td>\n      <td>309</td>\n      <td>281</td>\n      <td>21</td>\n      <td>...</td>\n      <td>123</td>\n      <td>328</td>\n      <td>73</td>\n      <td>62</td>\n      <td>270</td>\n      <td>132</td>\n      <td>87</td>\n      <td>185</td>\n      <td>23</td>\n      <td>53.81376</td>\n    </tr>\n  </tbody>\n</table>\n<p>20000 rows × 51 columns</p>\n</div>"
     },
     "execution_count": 25,
     "metadata": {},
     "output_type": "execute_result"
    }
   ],
   "source": [
    "df_added_valid"
   ],
   "metadata": {
    "collapsed": false,
    "ExecuteTime": {
     "start_time": "2023-11-08T13:11:41.949148Z",
     "end_time": "2023-11-08T13:11:41.965147Z"
    }
   }
  },
  {
   "cell_type": "code",
   "execution_count": 26,
   "outputs": [
    {
     "name": "stderr",
     "output_type": "stream",
     "text": [
      "100%|██████████| 10000/10000 [00:00<00:00, 97282.01it/s]\n",
      "100%|██████████| 1000/1000 [00:00<00:00, 94338.82it/s]\n"
     ]
    }
   ],
   "source": [
    "dataset = load_modified_ferris_wheel_dataset(\n",
    "    num_gondolas=num_gondolas,\n",
    "    num_part_pg=num_part_pg,\n",
    "    num_to_generate=num_to_generate,\n",
    "    num_valid_to_add=num_to_generate,\n",
    "    dataset_path=\"../datasets\",\n",
    "    df_intermediate_output_name=\"health_dataset_preprocessed-1.csv\",\n",
    "    df_name_input=\"Sleep_health_and_lifestyle_dataset.csv\",\n",
    "    try_pregen=True\n",
    ")"
   ],
   "metadata": {
    "collapsed": false,
    "ExecuteTime": {
     "start_time": "2023-11-08T13:11:41.965147Z",
     "end_time": "2023-11-08T13:11:42.467617Z"
    }
   }
  },
  {
   "cell_type": "markdown",
   "source": [
    "## Change regression task to classification"
   ],
   "metadata": {
    "collapsed": false
   }
  },
  {
   "cell_type": "code",
   "execution_count": 27,
   "outputs": [],
   "source": [
    "temp = df_index.label/(10*num_gondolas)*10"
   ],
   "metadata": {
    "collapsed": false,
    "ExecuteTime": {
     "start_time": "2023-11-08T13:11:42.467617Z",
     "end_time": "2023-11-08T13:11:42.483461Z"
    }
   }
  },
  {
   "cell_type": "code",
   "execution_count": 28,
   "outputs": [
    {
     "data": {
      "text/plain": "0       5.0\n1       5.0\n2       5.0\n3       5.0\n4       5.0\n       ... \n9995    5.0\n9996    5.0\n9997    5.0\n9998    5.0\n9999    5.0\nName: label, Length: 10000, dtype: float64"
     },
     "execution_count": 28,
     "metadata": {},
     "output_type": "execute_result"
    }
   ],
   "source": [
    "temp.round()"
   ],
   "metadata": {
    "collapsed": false,
    "ExecuteTime": {
     "start_time": "2023-11-08T13:11:42.485460Z",
     "end_time": "2023-11-08T13:11:42.520734Z"
    }
   }
  },
  {
   "cell_type": "markdown",
   "source": [
    "## Problem: dataset too centered around a specific value"
   ],
   "metadata": {
    "collapsed": false
   }
  },
  {
   "cell_type": "code",
   "execution_count": 29,
   "outputs": [
    {
     "data": {
      "text/plain": "count    1.000000e+04\nmean     5.381376e+01\nstd      5.641991e-12\nmin      5.381376e+01\n25%      5.381376e+01\n50%      5.381376e+01\n75%      5.381376e+01\nmax      5.381376e+01\nName: label, dtype: float64"
     },
     "execution_count": 29,
     "metadata": {},
     "output_type": "execute_result"
    }
   ],
   "source": [
    "df_index.label.describe()"
   ],
   "metadata": {
    "collapsed": false,
    "ExecuteTime": {
     "start_time": "2023-11-08T13:11:42.498830Z",
     "end_time": "2023-11-08T13:11:42.521734Z"
    }
   }
  },
  {
   "cell_type": "code",
   "execution_count": 30,
   "outputs": [
    {
     "data": {
      "text/plain": "      g-0_p-0  g-0_p-1  g-0_p-2  g-0_p-3  g-0_p-4  g-1_p-0  g-1_p-1  g-1_p-2  \\\n0         264      191       98      235       35      356      253        9   \n1         338      176       95       11      161      248      364       53   \n2         290       99       75       21      237      287      215      213   \n3          15      277       93      106      290      354       60      226   \n4         190      260       34      286      360      167      251      298   \n...       ...      ...      ...      ...      ...      ...      ...      ...   \n9995      127       84      110      152      265       90      318       72   \n9996      286       97      191      288       32      268       41      347   \n9997      372      168      198      199      239      369      323      277   \n9998      154      310      224       59       87      207       97       78   \n9999      351       31      277      304      357       35      111      254   \n\n      g-1_p-3  g-1_p-4  ...  g-8_p-1  g-8_p-2  g-8_p-3  g-8_p-4  g-9_p-0  \\\n0         147      311  ...      315      265       92       23      287   \n1          64       71  ...      181      365       96      187      165   \n2         172      214  ...       76      188      274       77      264   \n3          75      318  ...      243      288       74      131      344   \n4         256       15  ...       48      258      107        5      307   \n...       ...      ...  ...      ...      ...      ...      ...      ...   \n9995      331      237  ...        7      341      126       70      208   \n9996      272      169  ...      178      269      310       79      370   \n9997      174      281  ...      112       75      331      177      163   \n9998      290      241  ...      338      254      183      145       22   \n9999       40       69  ...       71       65      163      296      123   \n\n      g-9_p-1  g-9_p-2  g-9_p-3  g-9_p-4     label  \n0          17      234      223      117  53.81376  \n1          38      114       98       56  53.81376  \n2         117      254      168       65  53.81376  \n3          86      266      218       83  53.81376  \n4         121      162        7       37  53.81376  \n...       ...      ...      ...      ...       ...  \n9995       67      248      291      246  53.81376  \n9996      108      189      340       24  53.81376  \n9997      155        7      188      290  53.81376  \n9998       95      247      158      231  53.81376  \n9999      363      180      148      297  53.81376  \n\n[10000 rows x 51 columns]",
      "text/html": "<div>\n<style scoped>\n    .dataframe tbody tr th:only-of-type {\n        vertical-align: middle;\n    }\n\n    .dataframe tbody tr th {\n        vertical-align: top;\n    }\n\n    .dataframe thead th {\n        text-align: right;\n    }\n</style>\n<table border=\"1\" class=\"dataframe\">\n  <thead>\n    <tr style=\"text-align: right;\">\n      <th></th>\n      <th>g-0_p-0</th>\n      <th>g-0_p-1</th>\n      <th>g-0_p-2</th>\n      <th>g-0_p-3</th>\n      <th>g-0_p-4</th>\n      <th>g-1_p-0</th>\n      <th>g-1_p-1</th>\n      <th>g-1_p-2</th>\n      <th>g-1_p-3</th>\n      <th>g-1_p-4</th>\n      <th>...</th>\n      <th>g-8_p-1</th>\n      <th>g-8_p-2</th>\n      <th>g-8_p-3</th>\n      <th>g-8_p-4</th>\n      <th>g-9_p-0</th>\n      <th>g-9_p-1</th>\n      <th>g-9_p-2</th>\n      <th>g-9_p-3</th>\n      <th>g-9_p-4</th>\n      <th>label</th>\n    </tr>\n  </thead>\n  <tbody>\n    <tr>\n      <th>0</th>\n      <td>264</td>\n      <td>191</td>\n      <td>98</td>\n      <td>235</td>\n      <td>35</td>\n      <td>356</td>\n      <td>253</td>\n      <td>9</td>\n      <td>147</td>\n      <td>311</td>\n      <td>...</td>\n      <td>315</td>\n      <td>265</td>\n      <td>92</td>\n      <td>23</td>\n      <td>287</td>\n      <td>17</td>\n      <td>234</td>\n      <td>223</td>\n      <td>117</td>\n      <td>53.81376</td>\n    </tr>\n    <tr>\n      <th>1</th>\n      <td>338</td>\n      <td>176</td>\n      <td>95</td>\n      <td>11</td>\n      <td>161</td>\n      <td>248</td>\n      <td>364</td>\n      <td>53</td>\n      <td>64</td>\n      <td>71</td>\n      <td>...</td>\n      <td>181</td>\n      <td>365</td>\n      <td>96</td>\n      <td>187</td>\n      <td>165</td>\n      <td>38</td>\n      <td>114</td>\n      <td>98</td>\n      <td>56</td>\n      <td>53.81376</td>\n    </tr>\n    <tr>\n      <th>2</th>\n      <td>290</td>\n      <td>99</td>\n      <td>75</td>\n      <td>21</td>\n      <td>237</td>\n      <td>287</td>\n      <td>215</td>\n      <td>213</td>\n      <td>172</td>\n      <td>214</td>\n      <td>...</td>\n      <td>76</td>\n      <td>188</td>\n      <td>274</td>\n      <td>77</td>\n      <td>264</td>\n      <td>117</td>\n      <td>254</td>\n      <td>168</td>\n      <td>65</td>\n      <td>53.81376</td>\n    </tr>\n    <tr>\n      <th>3</th>\n      <td>15</td>\n      <td>277</td>\n      <td>93</td>\n      <td>106</td>\n      <td>290</td>\n      <td>354</td>\n      <td>60</td>\n      <td>226</td>\n      <td>75</td>\n      <td>318</td>\n      <td>...</td>\n      <td>243</td>\n      <td>288</td>\n      <td>74</td>\n      <td>131</td>\n      <td>344</td>\n      <td>86</td>\n      <td>266</td>\n      <td>218</td>\n      <td>83</td>\n      <td>53.81376</td>\n    </tr>\n    <tr>\n      <th>4</th>\n      <td>190</td>\n      <td>260</td>\n      <td>34</td>\n      <td>286</td>\n      <td>360</td>\n      <td>167</td>\n      <td>251</td>\n      <td>298</td>\n      <td>256</td>\n      <td>15</td>\n      <td>...</td>\n      <td>48</td>\n      <td>258</td>\n      <td>107</td>\n      <td>5</td>\n      <td>307</td>\n      <td>121</td>\n      <td>162</td>\n      <td>7</td>\n      <td>37</td>\n      <td>53.81376</td>\n    </tr>\n    <tr>\n      <th>...</th>\n      <td>...</td>\n      <td>...</td>\n      <td>...</td>\n      <td>...</td>\n      <td>...</td>\n      <td>...</td>\n      <td>...</td>\n      <td>...</td>\n      <td>...</td>\n      <td>...</td>\n      <td>...</td>\n      <td>...</td>\n      <td>...</td>\n      <td>...</td>\n      <td>...</td>\n      <td>...</td>\n      <td>...</td>\n      <td>...</td>\n      <td>...</td>\n      <td>...</td>\n      <td>...</td>\n    </tr>\n    <tr>\n      <th>9995</th>\n      <td>127</td>\n      <td>84</td>\n      <td>110</td>\n      <td>152</td>\n      <td>265</td>\n      <td>90</td>\n      <td>318</td>\n      <td>72</td>\n      <td>331</td>\n      <td>237</td>\n      <td>...</td>\n      <td>7</td>\n      <td>341</td>\n      <td>126</td>\n      <td>70</td>\n      <td>208</td>\n      <td>67</td>\n      <td>248</td>\n      <td>291</td>\n      <td>246</td>\n      <td>53.81376</td>\n    </tr>\n    <tr>\n      <th>9996</th>\n      <td>286</td>\n      <td>97</td>\n      <td>191</td>\n      <td>288</td>\n      <td>32</td>\n      <td>268</td>\n      <td>41</td>\n      <td>347</td>\n      <td>272</td>\n      <td>169</td>\n      <td>...</td>\n      <td>178</td>\n      <td>269</td>\n      <td>310</td>\n      <td>79</td>\n      <td>370</td>\n      <td>108</td>\n      <td>189</td>\n      <td>340</td>\n      <td>24</td>\n      <td>53.81376</td>\n    </tr>\n    <tr>\n      <th>9997</th>\n      <td>372</td>\n      <td>168</td>\n      <td>198</td>\n      <td>199</td>\n      <td>239</td>\n      <td>369</td>\n      <td>323</td>\n      <td>277</td>\n      <td>174</td>\n      <td>281</td>\n      <td>...</td>\n      <td>112</td>\n      <td>75</td>\n      <td>331</td>\n      <td>177</td>\n      <td>163</td>\n      <td>155</td>\n      <td>7</td>\n      <td>188</td>\n      <td>290</td>\n      <td>53.81376</td>\n    </tr>\n    <tr>\n      <th>9998</th>\n      <td>154</td>\n      <td>310</td>\n      <td>224</td>\n      <td>59</td>\n      <td>87</td>\n      <td>207</td>\n      <td>97</td>\n      <td>78</td>\n      <td>290</td>\n      <td>241</td>\n      <td>...</td>\n      <td>338</td>\n      <td>254</td>\n      <td>183</td>\n      <td>145</td>\n      <td>22</td>\n      <td>95</td>\n      <td>247</td>\n      <td>158</td>\n      <td>231</td>\n      <td>53.81376</td>\n    </tr>\n    <tr>\n      <th>9999</th>\n      <td>351</td>\n      <td>31</td>\n      <td>277</td>\n      <td>304</td>\n      <td>357</td>\n      <td>35</td>\n      <td>111</td>\n      <td>254</td>\n      <td>40</td>\n      <td>69</td>\n      <td>...</td>\n      <td>71</td>\n      <td>65</td>\n      <td>163</td>\n      <td>296</td>\n      <td>123</td>\n      <td>363</td>\n      <td>180</td>\n      <td>148</td>\n      <td>297</td>\n      <td>53.81376</td>\n    </tr>\n  </tbody>\n</table>\n<p>10000 rows × 51 columns</p>\n</div>"
     },
     "execution_count": 30,
     "metadata": {},
     "output_type": "execute_result"
    }
   ],
   "source": [
    "df_downsample = df_index.copy(deep=True)\n",
    "df_downsample"
   ],
   "metadata": {
    "collapsed": false,
    "ExecuteTime": {
     "start_time": "2023-11-08T13:11:42.515665Z",
     "end_time": "2023-11-08T13:11:42.530893Z"
    }
   }
  },
  {
   "cell_type": "code",
   "execution_count": 31,
   "outputs": [],
   "source": [
    "df_downsample['label_cat'] = (df_downsample.label/5).round()"
   ],
   "metadata": {
    "collapsed": false,
    "ExecuteTime": {
     "start_time": "2023-11-08T13:11:42.530893Z",
     "end_time": "2023-11-08T13:11:42.566634Z"
    }
   }
  },
  {
   "cell_type": "code",
   "execution_count": 32,
   "outputs": [
    {
     "data": {
      "text/plain": "      g-0_p-0  g-0_p-1  g-0_p-2  g-0_p-3  g-0_p-4  g-1_p-0  g-1_p-1  g-1_p-2  \\\n0         264      191       98      235       35      356      253        9   \n1         338      176       95       11      161      248      364       53   \n2         290       99       75       21      237      287      215      213   \n3          15      277       93      106      290      354       60      226   \n4         190      260       34      286      360      167      251      298   \n...       ...      ...      ...      ...      ...      ...      ...      ...   \n9995      127       84      110      152      265       90      318       72   \n9996      286       97      191      288       32      268       41      347   \n9997      372      168      198      199      239      369      323      277   \n9998      154      310      224       59       87      207       97       78   \n9999      351       31      277      304      357       35      111      254   \n\n      g-1_p-3  g-1_p-4  ...  g-8_p-2  g-8_p-3  g-8_p-4  g-9_p-0  g-9_p-1  \\\n0         147      311  ...      265       92       23      287       17   \n1          64       71  ...      365       96      187      165       38   \n2         172      214  ...      188      274       77      264      117   \n3          75      318  ...      288       74      131      344       86   \n4         256       15  ...      258      107        5      307      121   \n...       ...      ...  ...      ...      ...      ...      ...      ...   \n9995      331      237  ...      341      126       70      208       67   \n9996      272      169  ...      269      310       79      370      108   \n9997      174      281  ...       75      331      177      163      155   \n9998      290      241  ...      254      183      145       22       95   \n9999       40       69  ...       65      163      296      123      363   \n\n      g-9_p-2  g-9_p-3  g-9_p-4     label  label_cat  \n0         234      223      117  53.81376       11.0  \n1         114       98       56  53.81376       11.0  \n2         254      168       65  53.81376       11.0  \n3         266      218       83  53.81376       11.0  \n4         162        7       37  53.81376       11.0  \n...       ...      ...      ...       ...        ...  \n9995      248      291      246  53.81376       11.0  \n9996      189      340       24  53.81376       11.0  \n9997        7      188      290  53.81376       11.0  \n9998      247      158      231  53.81376       11.0  \n9999      180      148      297  53.81376       11.0  \n\n[10000 rows x 52 columns]",
      "text/html": "<div>\n<style scoped>\n    .dataframe tbody tr th:only-of-type {\n        vertical-align: middle;\n    }\n\n    .dataframe tbody tr th {\n        vertical-align: top;\n    }\n\n    .dataframe thead th {\n        text-align: right;\n    }\n</style>\n<table border=\"1\" class=\"dataframe\">\n  <thead>\n    <tr style=\"text-align: right;\">\n      <th></th>\n      <th>g-0_p-0</th>\n      <th>g-0_p-1</th>\n      <th>g-0_p-2</th>\n      <th>g-0_p-3</th>\n      <th>g-0_p-4</th>\n      <th>g-1_p-0</th>\n      <th>g-1_p-1</th>\n      <th>g-1_p-2</th>\n      <th>g-1_p-3</th>\n      <th>g-1_p-4</th>\n      <th>...</th>\n      <th>g-8_p-2</th>\n      <th>g-8_p-3</th>\n      <th>g-8_p-4</th>\n      <th>g-9_p-0</th>\n      <th>g-9_p-1</th>\n      <th>g-9_p-2</th>\n      <th>g-9_p-3</th>\n      <th>g-9_p-4</th>\n      <th>label</th>\n      <th>label_cat</th>\n    </tr>\n  </thead>\n  <tbody>\n    <tr>\n      <th>0</th>\n      <td>264</td>\n      <td>191</td>\n      <td>98</td>\n      <td>235</td>\n      <td>35</td>\n      <td>356</td>\n      <td>253</td>\n      <td>9</td>\n      <td>147</td>\n      <td>311</td>\n      <td>...</td>\n      <td>265</td>\n      <td>92</td>\n      <td>23</td>\n      <td>287</td>\n      <td>17</td>\n      <td>234</td>\n      <td>223</td>\n      <td>117</td>\n      <td>53.81376</td>\n      <td>11.0</td>\n    </tr>\n    <tr>\n      <th>1</th>\n      <td>338</td>\n      <td>176</td>\n      <td>95</td>\n      <td>11</td>\n      <td>161</td>\n      <td>248</td>\n      <td>364</td>\n      <td>53</td>\n      <td>64</td>\n      <td>71</td>\n      <td>...</td>\n      <td>365</td>\n      <td>96</td>\n      <td>187</td>\n      <td>165</td>\n      <td>38</td>\n      <td>114</td>\n      <td>98</td>\n      <td>56</td>\n      <td>53.81376</td>\n      <td>11.0</td>\n    </tr>\n    <tr>\n      <th>2</th>\n      <td>290</td>\n      <td>99</td>\n      <td>75</td>\n      <td>21</td>\n      <td>237</td>\n      <td>287</td>\n      <td>215</td>\n      <td>213</td>\n      <td>172</td>\n      <td>214</td>\n      <td>...</td>\n      <td>188</td>\n      <td>274</td>\n      <td>77</td>\n      <td>264</td>\n      <td>117</td>\n      <td>254</td>\n      <td>168</td>\n      <td>65</td>\n      <td>53.81376</td>\n      <td>11.0</td>\n    </tr>\n    <tr>\n      <th>3</th>\n      <td>15</td>\n      <td>277</td>\n      <td>93</td>\n      <td>106</td>\n      <td>290</td>\n      <td>354</td>\n      <td>60</td>\n      <td>226</td>\n      <td>75</td>\n      <td>318</td>\n      <td>...</td>\n      <td>288</td>\n      <td>74</td>\n      <td>131</td>\n      <td>344</td>\n      <td>86</td>\n      <td>266</td>\n      <td>218</td>\n      <td>83</td>\n      <td>53.81376</td>\n      <td>11.0</td>\n    </tr>\n    <tr>\n      <th>4</th>\n      <td>190</td>\n      <td>260</td>\n      <td>34</td>\n      <td>286</td>\n      <td>360</td>\n      <td>167</td>\n      <td>251</td>\n      <td>298</td>\n      <td>256</td>\n      <td>15</td>\n      <td>...</td>\n      <td>258</td>\n      <td>107</td>\n      <td>5</td>\n      <td>307</td>\n      <td>121</td>\n      <td>162</td>\n      <td>7</td>\n      <td>37</td>\n      <td>53.81376</td>\n      <td>11.0</td>\n    </tr>\n    <tr>\n      <th>...</th>\n      <td>...</td>\n      <td>...</td>\n      <td>...</td>\n      <td>...</td>\n      <td>...</td>\n      <td>...</td>\n      <td>...</td>\n      <td>...</td>\n      <td>...</td>\n      <td>...</td>\n      <td>...</td>\n      <td>...</td>\n      <td>...</td>\n      <td>...</td>\n      <td>...</td>\n      <td>...</td>\n      <td>...</td>\n      <td>...</td>\n      <td>...</td>\n      <td>...</td>\n      <td>...</td>\n    </tr>\n    <tr>\n      <th>9995</th>\n      <td>127</td>\n      <td>84</td>\n      <td>110</td>\n      <td>152</td>\n      <td>265</td>\n      <td>90</td>\n      <td>318</td>\n      <td>72</td>\n      <td>331</td>\n      <td>237</td>\n      <td>...</td>\n      <td>341</td>\n      <td>126</td>\n      <td>70</td>\n      <td>208</td>\n      <td>67</td>\n      <td>248</td>\n      <td>291</td>\n      <td>246</td>\n      <td>53.81376</td>\n      <td>11.0</td>\n    </tr>\n    <tr>\n      <th>9996</th>\n      <td>286</td>\n      <td>97</td>\n      <td>191</td>\n      <td>288</td>\n      <td>32</td>\n      <td>268</td>\n      <td>41</td>\n      <td>347</td>\n      <td>272</td>\n      <td>169</td>\n      <td>...</td>\n      <td>269</td>\n      <td>310</td>\n      <td>79</td>\n      <td>370</td>\n      <td>108</td>\n      <td>189</td>\n      <td>340</td>\n      <td>24</td>\n      <td>53.81376</td>\n      <td>11.0</td>\n    </tr>\n    <tr>\n      <th>9997</th>\n      <td>372</td>\n      <td>168</td>\n      <td>198</td>\n      <td>199</td>\n      <td>239</td>\n      <td>369</td>\n      <td>323</td>\n      <td>277</td>\n      <td>174</td>\n      <td>281</td>\n      <td>...</td>\n      <td>75</td>\n      <td>331</td>\n      <td>177</td>\n      <td>163</td>\n      <td>155</td>\n      <td>7</td>\n      <td>188</td>\n      <td>290</td>\n      <td>53.81376</td>\n      <td>11.0</td>\n    </tr>\n    <tr>\n      <th>9998</th>\n      <td>154</td>\n      <td>310</td>\n      <td>224</td>\n      <td>59</td>\n      <td>87</td>\n      <td>207</td>\n      <td>97</td>\n      <td>78</td>\n      <td>290</td>\n      <td>241</td>\n      <td>...</td>\n      <td>254</td>\n      <td>183</td>\n      <td>145</td>\n      <td>22</td>\n      <td>95</td>\n      <td>247</td>\n      <td>158</td>\n      <td>231</td>\n      <td>53.81376</td>\n      <td>11.0</td>\n    </tr>\n    <tr>\n      <th>9999</th>\n      <td>351</td>\n      <td>31</td>\n      <td>277</td>\n      <td>304</td>\n      <td>357</td>\n      <td>35</td>\n      <td>111</td>\n      <td>254</td>\n      <td>40</td>\n      <td>69</td>\n      <td>...</td>\n      <td>65</td>\n      <td>163</td>\n      <td>296</td>\n      <td>123</td>\n      <td>363</td>\n      <td>180</td>\n      <td>148</td>\n      <td>297</td>\n      <td>53.81376</td>\n      <td>11.0</td>\n    </tr>\n  </tbody>\n</table>\n<p>10000 rows × 52 columns</p>\n</div>"
     },
     "execution_count": 32,
     "metadata": {},
     "output_type": "execute_result"
    }
   ],
   "source": [
    "df_downsample"
   ],
   "metadata": {
    "collapsed": false,
    "ExecuteTime": {
     "start_time": "2023-11-08T13:11:42.546257Z",
     "end_time": "2023-11-08T13:11:42.611243Z"
    }
   }
  },
  {
   "cell_type": "code",
   "execution_count": 33,
   "outputs": [
    {
     "data": {
      "text/plain": "10000"
     },
     "execution_count": 33,
     "metadata": {},
     "output_type": "execute_result"
    }
   ],
   "source": [
    "n_samples = df_downsample.groupby('label_cat').size().min()\n",
    "n_samples"
   ],
   "metadata": {
    "collapsed": false,
    "ExecuteTime": {
     "start_time": "2023-11-08T13:11:42.561634Z",
     "end_time": "2023-11-08T13:11:42.633861Z"
    }
   }
  },
  {
   "cell_type": "code",
   "execution_count": 34,
   "outputs": [
    {
     "data": {
      "text/plain": "                g-0_p-0  g-0_p-1  g-0_p-2  g-0_p-3  g-0_p-4  g-1_p-0  g-1_p-1  \\\nlabel_cat                                                                       \n11.0      4906       20      171      374      254      221      249       38   \n          5100      337      230      294      174       47      279      199   \n          8358       75      160      304       18       15       46      267   \n          6965       22        1      195       97       15      152       10   \n          4485      150      129      194      145      147      101      103   \n          1594       11      260      192      356      190      293       39   \n          4953      313      171       49      100      308       80       43   \n          3056      212      207      101      276      326      324      184   \n          4724      274      154      150       40       85      368      110   \n          9030      239      101      363      176      303      234      293   \n\n                g-1_p-2  g-1_p-3  g-1_p-4  ...  g-8_p-2  g-8_p-3  g-8_p-4  \\\nlabel_cat                                  ...                              \n11.0      4906      204      276        2  ...       45      178      153   \n          5100      140      110      183  ...       97       46      229   \n          8358      252      247       34  ...      343       61       50   \n          6965       16      143       41  ...      313       77      299   \n          4485      269      143      197  ...      120       63       21   \n          1594       95      183      302  ...      233      296      300   \n          4953      259      267      341  ...      271       85      325   \n          3056      206       37      209  ...      129      204       80   \n          4724       29      211      226  ...       12      243       71   \n          9030       97      132       83  ...      251       73      192   \n\n                g-9_p-0  g-9_p-1  g-9_p-2  g-9_p-3  g-9_p-4     label  \\\nlabel_cat                                                               \n11.0      4906       13      321      345       24      146  53.81376   \n          5100      224      241      292      102       86  53.81376   \n          8358      308       28      230       63       73  53.81376   \n          6965       63      129      372       64      228  53.81376   \n          4485      326      364      239       53       48  53.81376   \n          1594      327      240      350      166      276  53.81376   \n          4953      238      373      122      338      164  53.81376   \n          3056      136      345      365      330      193  53.81376   \n          4724      261      225       11        7      251  53.81376   \n          9030      226        6       16        2      288  53.81376   \n\n                label_cat  \nlabel_cat                  \n11.0      4906       11.0  \n          5100       11.0  \n          8358       11.0  \n          6965       11.0  \n          4485       11.0  \n          1594       11.0  \n          4953       11.0  \n          3056       11.0  \n          4724       11.0  \n          9030       11.0  \n\n[10 rows x 52 columns]",
      "text/html": "<div>\n<style scoped>\n    .dataframe tbody tr th:only-of-type {\n        vertical-align: middle;\n    }\n\n    .dataframe tbody tr th {\n        vertical-align: top;\n    }\n\n    .dataframe thead th {\n        text-align: right;\n    }\n</style>\n<table border=\"1\" class=\"dataframe\">\n  <thead>\n    <tr style=\"text-align: right;\">\n      <th></th>\n      <th></th>\n      <th>g-0_p-0</th>\n      <th>g-0_p-1</th>\n      <th>g-0_p-2</th>\n      <th>g-0_p-3</th>\n      <th>g-0_p-4</th>\n      <th>g-1_p-0</th>\n      <th>g-1_p-1</th>\n      <th>g-1_p-2</th>\n      <th>g-1_p-3</th>\n      <th>g-1_p-4</th>\n      <th>...</th>\n      <th>g-8_p-2</th>\n      <th>g-8_p-3</th>\n      <th>g-8_p-4</th>\n      <th>g-9_p-0</th>\n      <th>g-9_p-1</th>\n      <th>g-9_p-2</th>\n      <th>g-9_p-3</th>\n      <th>g-9_p-4</th>\n      <th>label</th>\n      <th>label_cat</th>\n    </tr>\n    <tr>\n      <th>label_cat</th>\n      <th></th>\n      <th></th>\n      <th></th>\n      <th></th>\n      <th></th>\n      <th></th>\n      <th></th>\n      <th></th>\n      <th></th>\n      <th></th>\n      <th></th>\n      <th></th>\n      <th></th>\n      <th></th>\n      <th></th>\n      <th></th>\n      <th></th>\n      <th></th>\n      <th></th>\n      <th></th>\n      <th></th>\n      <th></th>\n    </tr>\n  </thead>\n  <tbody>\n    <tr>\n      <th rowspan=\"10\" valign=\"top\">11.0</th>\n      <th>4906</th>\n      <td>20</td>\n      <td>171</td>\n      <td>374</td>\n      <td>254</td>\n      <td>221</td>\n      <td>249</td>\n      <td>38</td>\n      <td>204</td>\n      <td>276</td>\n      <td>2</td>\n      <td>...</td>\n      <td>45</td>\n      <td>178</td>\n      <td>153</td>\n      <td>13</td>\n      <td>321</td>\n      <td>345</td>\n      <td>24</td>\n      <td>146</td>\n      <td>53.81376</td>\n      <td>11.0</td>\n    </tr>\n    <tr>\n      <th>5100</th>\n      <td>337</td>\n      <td>230</td>\n      <td>294</td>\n      <td>174</td>\n      <td>47</td>\n      <td>279</td>\n      <td>199</td>\n      <td>140</td>\n      <td>110</td>\n      <td>183</td>\n      <td>...</td>\n      <td>97</td>\n      <td>46</td>\n      <td>229</td>\n      <td>224</td>\n      <td>241</td>\n      <td>292</td>\n      <td>102</td>\n      <td>86</td>\n      <td>53.81376</td>\n      <td>11.0</td>\n    </tr>\n    <tr>\n      <th>8358</th>\n      <td>75</td>\n      <td>160</td>\n      <td>304</td>\n      <td>18</td>\n      <td>15</td>\n      <td>46</td>\n      <td>267</td>\n      <td>252</td>\n      <td>247</td>\n      <td>34</td>\n      <td>...</td>\n      <td>343</td>\n      <td>61</td>\n      <td>50</td>\n      <td>308</td>\n      <td>28</td>\n      <td>230</td>\n      <td>63</td>\n      <td>73</td>\n      <td>53.81376</td>\n      <td>11.0</td>\n    </tr>\n    <tr>\n      <th>6965</th>\n      <td>22</td>\n      <td>1</td>\n      <td>195</td>\n      <td>97</td>\n      <td>15</td>\n      <td>152</td>\n      <td>10</td>\n      <td>16</td>\n      <td>143</td>\n      <td>41</td>\n      <td>...</td>\n      <td>313</td>\n      <td>77</td>\n      <td>299</td>\n      <td>63</td>\n      <td>129</td>\n      <td>372</td>\n      <td>64</td>\n      <td>228</td>\n      <td>53.81376</td>\n      <td>11.0</td>\n    </tr>\n    <tr>\n      <th>4485</th>\n      <td>150</td>\n      <td>129</td>\n      <td>194</td>\n      <td>145</td>\n      <td>147</td>\n      <td>101</td>\n      <td>103</td>\n      <td>269</td>\n      <td>143</td>\n      <td>197</td>\n      <td>...</td>\n      <td>120</td>\n      <td>63</td>\n      <td>21</td>\n      <td>326</td>\n      <td>364</td>\n      <td>239</td>\n      <td>53</td>\n      <td>48</td>\n      <td>53.81376</td>\n      <td>11.0</td>\n    </tr>\n    <tr>\n      <th>1594</th>\n      <td>11</td>\n      <td>260</td>\n      <td>192</td>\n      <td>356</td>\n      <td>190</td>\n      <td>293</td>\n      <td>39</td>\n      <td>95</td>\n      <td>183</td>\n      <td>302</td>\n      <td>...</td>\n      <td>233</td>\n      <td>296</td>\n      <td>300</td>\n      <td>327</td>\n      <td>240</td>\n      <td>350</td>\n      <td>166</td>\n      <td>276</td>\n      <td>53.81376</td>\n      <td>11.0</td>\n    </tr>\n    <tr>\n      <th>4953</th>\n      <td>313</td>\n      <td>171</td>\n      <td>49</td>\n      <td>100</td>\n      <td>308</td>\n      <td>80</td>\n      <td>43</td>\n      <td>259</td>\n      <td>267</td>\n      <td>341</td>\n      <td>...</td>\n      <td>271</td>\n      <td>85</td>\n      <td>325</td>\n      <td>238</td>\n      <td>373</td>\n      <td>122</td>\n      <td>338</td>\n      <td>164</td>\n      <td>53.81376</td>\n      <td>11.0</td>\n    </tr>\n    <tr>\n      <th>3056</th>\n      <td>212</td>\n      <td>207</td>\n      <td>101</td>\n      <td>276</td>\n      <td>326</td>\n      <td>324</td>\n      <td>184</td>\n      <td>206</td>\n      <td>37</td>\n      <td>209</td>\n      <td>...</td>\n      <td>129</td>\n      <td>204</td>\n      <td>80</td>\n      <td>136</td>\n      <td>345</td>\n      <td>365</td>\n      <td>330</td>\n      <td>193</td>\n      <td>53.81376</td>\n      <td>11.0</td>\n    </tr>\n    <tr>\n      <th>4724</th>\n      <td>274</td>\n      <td>154</td>\n      <td>150</td>\n      <td>40</td>\n      <td>85</td>\n      <td>368</td>\n      <td>110</td>\n      <td>29</td>\n      <td>211</td>\n      <td>226</td>\n      <td>...</td>\n      <td>12</td>\n      <td>243</td>\n      <td>71</td>\n      <td>261</td>\n      <td>225</td>\n      <td>11</td>\n      <td>7</td>\n      <td>251</td>\n      <td>53.81376</td>\n      <td>11.0</td>\n    </tr>\n    <tr>\n      <th>9030</th>\n      <td>239</td>\n      <td>101</td>\n      <td>363</td>\n      <td>176</td>\n      <td>303</td>\n      <td>234</td>\n      <td>293</td>\n      <td>97</td>\n      <td>132</td>\n      <td>83</td>\n      <td>...</td>\n      <td>251</td>\n      <td>73</td>\n      <td>192</td>\n      <td>226</td>\n      <td>6</td>\n      <td>16</td>\n      <td>2</td>\n      <td>288</td>\n      <td>53.81376</td>\n      <td>11.0</td>\n    </tr>\n  </tbody>\n</table>\n<p>10 rows × 52 columns</p>\n</div>"
     },
     "execution_count": 34,
     "metadata": {},
     "output_type": "execute_result"
    }
   ],
   "source": [
    "downsampled_df = df_downsample.groupby('label_cat').apply(lambda x: x.sample(min(len(x), 10)))\n",
    "downsampled_df"
   ],
   "metadata": {
    "collapsed": false,
    "ExecuteTime": {
     "start_time": "2023-11-08T13:11:42.577634Z",
     "end_time": "2023-11-08T13:11:42.670861Z"
    }
   }
  },
  {
   "cell_type": "code",
   "execution_count": 35,
   "outputs": [
    {
     "data": {
      "text/plain": "count    10.00000\nmean     53.81376\nstd       0.00000\nmin      53.81376\n25%      53.81376\n50%      53.81376\n75%      53.81376\nmax      53.81376\nName: label, dtype: float64"
     },
     "execution_count": 35,
     "metadata": {},
     "output_type": "execute_result"
    }
   ],
   "source": [
    "downsampled_df.label.describe()"
   ],
   "metadata": {
    "collapsed": false,
    "ExecuteTime": {
     "start_time": "2023-11-08T13:11:42.593845Z",
     "end_time": "2023-11-08T13:11:42.676862Z"
    }
   }
  },
  {
   "cell_type": "markdown",
   "source": [
    "# Generate complete dataset"
   ],
   "metadata": {
    "collapsed": false
   }
  },
  {
   "cell_type": "code",
   "execution_count": 36,
   "outputs": [],
   "source": [
    "from itertools import permutations"
   ],
   "metadata": {
    "collapsed": false,
    "ExecuteTime": {
     "start_time": "2023-11-08T13:11:42.609244Z",
     "end_time": "2023-11-08T13:11:42.676862Z"
    }
   }
  },
  {
   "cell_type": "code",
   "execution_count": 37,
   "outputs": [
    {
     "data": {
      "text/plain": "[(0, 1), (0, 2), (1, 0), (1, 2), (2, 0), (2, 1)]"
     },
     "execution_count": 37,
     "metadata": {},
     "output_type": "execute_result"
    }
   ],
   "source": [
    "list(permutations(range(3), 2))"
   ],
   "metadata": {
    "collapsed": false,
    "ExecuteTime": {
     "start_time": "2023-11-08T13:11:42.623863Z",
     "end_time": "2023-11-08T13:11:42.686862Z"
    }
   }
  },
  {
   "cell_type": "code",
   "execution_count": 38,
   "outputs": [],
   "source": [
    "num_gondolas = 10\n",
    "num_part_pg = 5"
   ],
   "metadata": {
    "collapsed": false,
    "ExecuteTime": {
     "start_time": "2023-11-08T13:11:42.640893Z",
     "end_time": "2023-11-08T13:11:42.716863Z"
    }
   }
  },
  {
   "cell_type": "code",
   "execution_count": 39,
   "outputs": [],
   "source": [
    "n_persons = 374"
   ],
   "metadata": {
    "collapsed": false,
    "ExecuteTime": {
     "start_time": "2023-11-08T13:11:42.657864Z",
     "end_time": "2023-11-08T13:11:42.716863Z"
    }
   }
  },
  {
   "cell_type": "code",
   "execution_count": 40,
   "outputs": [],
   "source": [
    "# create all combinations\n",
    "all_perms = permutations(range(1, n_persons + 1), num_gondolas*num_part_pg)"
   ],
   "metadata": {
    "collapsed": false,
    "ExecuteTime": {
     "start_time": "2023-11-08T13:11:42.672863Z",
     "end_time": "2023-11-08T13:11:42.742866Z"
    }
   }
  },
  {
   "cell_type": "markdown",
   "source": [
    "Wait... way too large! this has over 10^89 possibilities - scrap this"
   ],
   "metadata": {
    "collapsed": false
   }
  },
  {
   "cell_type": "markdown",
   "source": [
    "# Generation of testset"
   ],
   "metadata": {
    "collapsed": false
   }
  },
  {
   "cell_type": "code",
   "execution_count": 41,
   "outputs": [],
   "source": [
    "# idea: want to generate elements that are valid permutations and are not in the training set"
   ],
   "metadata": {
    "collapsed": false,
    "ExecuteTime": {
     "start_time": "2023-11-08T13:11:42.687862Z",
     "end_time": "2023-11-08T13:11:42.858365Z"
    }
   }
  },
  {
   "cell_type": "code",
   "execution_count": 42,
   "outputs": [
    {
     "data": {
      "text/plain": "      g-0_p-0  g-0_p-1  g-0_p-2  g-0_p-3  g-0_p-4  g-1_p-0  g-1_p-1  g-1_p-2  \\\n0         264      191       98      235       35      356      253        9   \n1         338      176       95       11      161      248      364       53   \n2         290       99       75       21      237      287      215      213   \n3          15      277       93      106      290      354       60      226   \n4         190      260       34      286      360      167      251      298   \n...       ...      ...      ...      ...      ...      ...      ...      ...   \n9995      127       84      110      152      265       90      318       72   \n9996      286       97      191      288       32      268       41      347   \n9997      372      168      198      199      239      369      323      277   \n9998      154      310      224       59       87      207       97       78   \n9999      351       31      277      304      357       35      111      254   \n\n      g-1_p-3  g-1_p-4  ...  g-8_p-1  g-8_p-2  g-8_p-3  g-8_p-4  g-9_p-0  \\\n0         147      311  ...      315      265       92       23      287   \n1          64       71  ...      181      365       96      187      165   \n2         172      214  ...       76      188      274       77      264   \n3          75      318  ...      243      288       74      131      344   \n4         256       15  ...       48      258      107        5      307   \n...       ...      ...  ...      ...      ...      ...      ...      ...   \n9995      331      237  ...        7      341      126       70      208   \n9996      272      169  ...      178      269      310       79      370   \n9997      174      281  ...      112       75      331      177      163   \n9998      290      241  ...      338      254      183      145       22   \n9999       40       69  ...       71       65      163      296      123   \n\n      g-9_p-1  g-9_p-2  g-9_p-3  g-9_p-4     label  \n0          17      234      223      117  53.81376  \n1          38      114       98       56  53.81376  \n2         117      254      168       65  53.81376  \n3          86      266      218       83  53.81376  \n4         121      162        7       37  53.81376  \n...       ...      ...      ...      ...       ...  \n9995       67      248      291      246  53.81376  \n9996      108      189      340       24  53.81376  \n9997      155        7      188      290  53.81376  \n9998       95      247      158      231  53.81376  \n9999      363      180      148      297  53.81376  \n\n[10000 rows x 51 columns]",
      "text/html": "<div>\n<style scoped>\n    .dataframe tbody tr th:only-of-type {\n        vertical-align: middle;\n    }\n\n    .dataframe tbody tr th {\n        vertical-align: top;\n    }\n\n    .dataframe thead th {\n        text-align: right;\n    }\n</style>\n<table border=\"1\" class=\"dataframe\">\n  <thead>\n    <tr style=\"text-align: right;\">\n      <th></th>\n      <th>g-0_p-0</th>\n      <th>g-0_p-1</th>\n      <th>g-0_p-2</th>\n      <th>g-0_p-3</th>\n      <th>g-0_p-4</th>\n      <th>g-1_p-0</th>\n      <th>g-1_p-1</th>\n      <th>g-1_p-2</th>\n      <th>g-1_p-3</th>\n      <th>g-1_p-4</th>\n      <th>...</th>\n      <th>g-8_p-1</th>\n      <th>g-8_p-2</th>\n      <th>g-8_p-3</th>\n      <th>g-8_p-4</th>\n      <th>g-9_p-0</th>\n      <th>g-9_p-1</th>\n      <th>g-9_p-2</th>\n      <th>g-9_p-3</th>\n      <th>g-9_p-4</th>\n      <th>label</th>\n    </tr>\n  </thead>\n  <tbody>\n    <tr>\n      <th>0</th>\n      <td>264</td>\n      <td>191</td>\n      <td>98</td>\n      <td>235</td>\n      <td>35</td>\n      <td>356</td>\n      <td>253</td>\n      <td>9</td>\n      <td>147</td>\n      <td>311</td>\n      <td>...</td>\n      <td>315</td>\n      <td>265</td>\n      <td>92</td>\n      <td>23</td>\n      <td>287</td>\n      <td>17</td>\n      <td>234</td>\n      <td>223</td>\n      <td>117</td>\n      <td>53.81376</td>\n    </tr>\n    <tr>\n      <th>1</th>\n      <td>338</td>\n      <td>176</td>\n      <td>95</td>\n      <td>11</td>\n      <td>161</td>\n      <td>248</td>\n      <td>364</td>\n      <td>53</td>\n      <td>64</td>\n      <td>71</td>\n      <td>...</td>\n      <td>181</td>\n      <td>365</td>\n      <td>96</td>\n      <td>187</td>\n      <td>165</td>\n      <td>38</td>\n      <td>114</td>\n      <td>98</td>\n      <td>56</td>\n      <td>53.81376</td>\n    </tr>\n    <tr>\n      <th>2</th>\n      <td>290</td>\n      <td>99</td>\n      <td>75</td>\n      <td>21</td>\n      <td>237</td>\n      <td>287</td>\n      <td>215</td>\n      <td>213</td>\n      <td>172</td>\n      <td>214</td>\n      <td>...</td>\n      <td>76</td>\n      <td>188</td>\n      <td>274</td>\n      <td>77</td>\n      <td>264</td>\n      <td>117</td>\n      <td>254</td>\n      <td>168</td>\n      <td>65</td>\n      <td>53.81376</td>\n    </tr>\n    <tr>\n      <th>3</th>\n      <td>15</td>\n      <td>277</td>\n      <td>93</td>\n      <td>106</td>\n      <td>290</td>\n      <td>354</td>\n      <td>60</td>\n      <td>226</td>\n      <td>75</td>\n      <td>318</td>\n      <td>...</td>\n      <td>243</td>\n      <td>288</td>\n      <td>74</td>\n      <td>131</td>\n      <td>344</td>\n      <td>86</td>\n      <td>266</td>\n      <td>218</td>\n      <td>83</td>\n      <td>53.81376</td>\n    </tr>\n    <tr>\n      <th>4</th>\n      <td>190</td>\n      <td>260</td>\n      <td>34</td>\n      <td>286</td>\n      <td>360</td>\n      <td>167</td>\n      <td>251</td>\n      <td>298</td>\n      <td>256</td>\n      <td>15</td>\n      <td>...</td>\n      <td>48</td>\n      <td>258</td>\n      <td>107</td>\n      <td>5</td>\n      <td>307</td>\n      <td>121</td>\n      <td>162</td>\n      <td>7</td>\n      <td>37</td>\n      <td>53.81376</td>\n    </tr>\n    <tr>\n      <th>...</th>\n      <td>...</td>\n      <td>...</td>\n      <td>...</td>\n      <td>...</td>\n      <td>...</td>\n      <td>...</td>\n      <td>...</td>\n      <td>...</td>\n      <td>...</td>\n      <td>...</td>\n      <td>...</td>\n      <td>...</td>\n      <td>...</td>\n      <td>...</td>\n      <td>...</td>\n      <td>...</td>\n      <td>...</td>\n      <td>...</td>\n      <td>...</td>\n      <td>...</td>\n      <td>...</td>\n    </tr>\n    <tr>\n      <th>9995</th>\n      <td>127</td>\n      <td>84</td>\n      <td>110</td>\n      <td>152</td>\n      <td>265</td>\n      <td>90</td>\n      <td>318</td>\n      <td>72</td>\n      <td>331</td>\n      <td>237</td>\n      <td>...</td>\n      <td>7</td>\n      <td>341</td>\n      <td>126</td>\n      <td>70</td>\n      <td>208</td>\n      <td>67</td>\n      <td>248</td>\n      <td>291</td>\n      <td>246</td>\n      <td>53.81376</td>\n    </tr>\n    <tr>\n      <th>9996</th>\n      <td>286</td>\n      <td>97</td>\n      <td>191</td>\n      <td>288</td>\n      <td>32</td>\n      <td>268</td>\n      <td>41</td>\n      <td>347</td>\n      <td>272</td>\n      <td>169</td>\n      <td>...</td>\n      <td>178</td>\n      <td>269</td>\n      <td>310</td>\n      <td>79</td>\n      <td>370</td>\n      <td>108</td>\n      <td>189</td>\n      <td>340</td>\n      <td>24</td>\n      <td>53.81376</td>\n    </tr>\n    <tr>\n      <th>9997</th>\n      <td>372</td>\n      <td>168</td>\n      <td>198</td>\n      <td>199</td>\n      <td>239</td>\n      <td>369</td>\n      <td>323</td>\n      <td>277</td>\n      <td>174</td>\n      <td>281</td>\n      <td>...</td>\n      <td>112</td>\n      <td>75</td>\n      <td>331</td>\n      <td>177</td>\n      <td>163</td>\n      <td>155</td>\n      <td>7</td>\n      <td>188</td>\n      <td>290</td>\n      <td>53.81376</td>\n    </tr>\n    <tr>\n      <th>9998</th>\n      <td>154</td>\n      <td>310</td>\n      <td>224</td>\n      <td>59</td>\n      <td>87</td>\n      <td>207</td>\n      <td>97</td>\n      <td>78</td>\n      <td>290</td>\n      <td>241</td>\n      <td>...</td>\n      <td>338</td>\n      <td>254</td>\n      <td>183</td>\n      <td>145</td>\n      <td>22</td>\n      <td>95</td>\n      <td>247</td>\n      <td>158</td>\n      <td>231</td>\n      <td>53.81376</td>\n    </tr>\n    <tr>\n      <th>9999</th>\n      <td>351</td>\n      <td>31</td>\n      <td>277</td>\n      <td>304</td>\n      <td>357</td>\n      <td>35</td>\n      <td>111</td>\n      <td>254</td>\n      <td>40</td>\n      <td>69</td>\n      <td>...</td>\n      <td>71</td>\n      <td>65</td>\n      <td>163</td>\n      <td>296</td>\n      <td>123</td>\n      <td>363</td>\n      <td>180</td>\n      <td>148</td>\n      <td>297</td>\n      <td>53.81376</td>\n    </tr>\n  </tbody>\n</table>\n<p>10000 rows × 51 columns</p>\n</div>"
     },
     "execution_count": 42,
     "metadata": {},
     "output_type": "execute_result"
    }
   ],
   "source": [
    "df_index"
   ],
   "metadata": {
    "collapsed": false,
    "ExecuteTime": {
     "start_time": "2023-11-08T13:11:42.703863Z",
     "end_time": "2023-11-08T13:11:42.858365Z"
    }
   }
  },
  {
   "cell_type": "code",
   "execution_count": 43,
   "outputs": [
    {
     "name": "stderr",
     "output_type": "stream",
     "text": [
      "100%|██████████| 10/10 [00:00<?, ?it/s]\n"
     ]
    }
   ],
   "source": [
    "df_test = sample_new_permutations(\n",
    "    df_index=df_index,\n",
    "    num_gondolas=num_gondolas,\n",
    "    num_elem=10,\n",
    "    merge_check=True\n",
    ")"
   ],
   "metadata": {
    "collapsed": false,
    "ExecuteTime": {
     "start_time": "2023-11-08T13:11:42.718864Z",
     "end_time": "2023-11-08T13:11:42.859365Z"
    }
   }
  },
  {
   "cell_type": "code",
   "execution_count": 44,
   "outputs": [
    {
     "data": {
      "text/plain": "   g-0_p-0  g-0_p-1  g-0_p-2  g-0_p-3  g-0_p-4  g-1_p-0  g-1_p-1  g-1_p-2  \\\n0      371      265      363      162      182      195       94      359   \n1      354      372      364      236      296      187       58      303   \n2      146       33      147       58      195      271      328      157   \n3      246      332      329       22      337      291      114      342   \n4      355       13       22      275       56      131       76      320   \n5      101      158       85      141      192       26      255      156   \n6      129      345      279      230      354       25      128      237   \n7      360      282       38      138      127      117      212      325   \n8      202        8       25      228      128      136       90      299   \n9      318       95      294      259      120      105      288      167   \n\n   g-1_p-3  g-1_p-4  ...  g-8_p-1  g-8_p-2  g-8_p-3  g-8_p-4  g-9_p-0  \\\n0       97      206  ...      101      237      296      142      226   \n1      304      186  ...      213      328      116       85       69   \n2       69       80  ...      167      105       24      374      362   \n3      165      286  ...      206      217      118      212      262   \n4      313      198  ...      260       53      122       93      187   \n5      245      177  ...      230      312      372      367      181   \n6      311        4  ...      166      321      198      127      304   \n7      164        7  ...      192      372      277       99      362   \n8      220      310  ...      205      161      147      238       36   \n9      268      250  ...      126      135      181      212      219   \n\n   g-9_p-1  g-9_p-2  g-9_p-3  g-9_p-4     label  \n0      368      198       38      331  53.81376  \n1      246      335      313      140  53.81376  \n2       36      371      357      369  53.81376  \n3       48      234      139      233  53.81376  \n4      276      219      153      263  53.81376  \n5      306      348      189       62  53.81376  \n6        1      153       23      262  53.81376  \n7       46      335      293      185  53.81376  \n8      113       66       81      305  53.81376  \n9      228       82       77       24  53.81376  \n\n[10 rows x 51 columns]",
      "text/html": "<div>\n<style scoped>\n    .dataframe tbody tr th:only-of-type {\n        vertical-align: middle;\n    }\n\n    .dataframe tbody tr th {\n        vertical-align: top;\n    }\n\n    .dataframe thead th {\n        text-align: right;\n    }\n</style>\n<table border=\"1\" class=\"dataframe\">\n  <thead>\n    <tr style=\"text-align: right;\">\n      <th></th>\n      <th>g-0_p-0</th>\n      <th>g-0_p-1</th>\n      <th>g-0_p-2</th>\n      <th>g-0_p-3</th>\n      <th>g-0_p-4</th>\n      <th>g-1_p-0</th>\n      <th>g-1_p-1</th>\n      <th>g-1_p-2</th>\n      <th>g-1_p-3</th>\n      <th>g-1_p-4</th>\n      <th>...</th>\n      <th>g-8_p-1</th>\n      <th>g-8_p-2</th>\n      <th>g-8_p-3</th>\n      <th>g-8_p-4</th>\n      <th>g-9_p-0</th>\n      <th>g-9_p-1</th>\n      <th>g-9_p-2</th>\n      <th>g-9_p-3</th>\n      <th>g-9_p-4</th>\n      <th>label</th>\n    </tr>\n  </thead>\n  <tbody>\n    <tr>\n      <th>0</th>\n      <td>371</td>\n      <td>265</td>\n      <td>363</td>\n      <td>162</td>\n      <td>182</td>\n      <td>195</td>\n      <td>94</td>\n      <td>359</td>\n      <td>97</td>\n      <td>206</td>\n      <td>...</td>\n      <td>101</td>\n      <td>237</td>\n      <td>296</td>\n      <td>142</td>\n      <td>226</td>\n      <td>368</td>\n      <td>198</td>\n      <td>38</td>\n      <td>331</td>\n      <td>53.81376</td>\n    </tr>\n    <tr>\n      <th>1</th>\n      <td>354</td>\n      <td>372</td>\n      <td>364</td>\n      <td>236</td>\n      <td>296</td>\n      <td>187</td>\n      <td>58</td>\n      <td>303</td>\n      <td>304</td>\n      <td>186</td>\n      <td>...</td>\n      <td>213</td>\n      <td>328</td>\n      <td>116</td>\n      <td>85</td>\n      <td>69</td>\n      <td>246</td>\n      <td>335</td>\n      <td>313</td>\n      <td>140</td>\n      <td>53.81376</td>\n    </tr>\n    <tr>\n      <th>2</th>\n      <td>146</td>\n      <td>33</td>\n      <td>147</td>\n      <td>58</td>\n      <td>195</td>\n      <td>271</td>\n      <td>328</td>\n      <td>157</td>\n      <td>69</td>\n      <td>80</td>\n      <td>...</td>\n      <td>167</td>\n      <td>105</td>\n      <td>24</td>\n      <td>374</td>\n      <td>362</td>\n      <td>36</td>\n      <td>371</td>\n      <td>357</td>\n      <td>369</td>\n      <td>53.81376</td>\n    </tr>\n    <tr>\n      <th>3</th>\n      <td>246</td>\n      <td>332</td>\n      <td>329</td>\n      <td>22</td>\n      <td>337</td>\n      <td>291</td>\n      <td>114</td>\n      <td>342</td>\n      <td>165</td>\n      <td>286</td>\n      <td>...</td>\n      <td>206</td>\n      <td>217</td>\n      <td>118</td>\n      <td>212</td>\n      <td>262</td>\n      <td>48</td>\n      <td>234</td>\n      <td>139</td>\n      <td>233</td>\n      <td>53.81376</td>\n    </tr>\n    <tr>\n      <th>4</th>\n      <td>355</td>\n      <td>13</td>\n      <td>22</td>\n      <td>275</td>\n      <td>56</td>\n      <td>131</td>\n      <td>76</td>\n      <td>320</td>\n      <td>313</td>\n      <td>198</td>\n      <td>...</td>\n      <td>260</td>\n      <td>53</td>\n      <td>122</td>\n      <td>93</td>\n      <td>187</td>\n      <td>276</td>\n      <td>219</td>\n      <td>153</td>\n      <td>263</td>\n      <td>53.81376</td>\n    </tr>\n    <tr>\n      <th>5</th>\n      <td>101</td>\n      <td>158</td>\n      <td>85</td>\n      <td>141</td>\n      <td>192</td>\n      <td>26</td>\n      <td>255</td>\n      <td>156</td>\n      <td>245</td>\n      <td>177</td>\n      <td>...</td>\n      <td>230</td>\n      <td>312</td>\n      <td>372</td>\n      <td>367</td>\n      <td>181</td>\n      <td>306</td>\n      <td>348</td>\n      <td>189</td>\n      <td>62</td>\n      <td>53.81376</td>\n    </tr>\n    <tr>\n      <th>6</th>\n      <td>129</td>\n      <td>345</td>\n      <td>279</td>\n      <td>230</td>\n      <td>354</td>\n      <td>25</td>\n      <td>128</td>\n      <td>237</td>\n      <td>311</td>\n      <td>4</td>\n      <td>...</td>\n      <td>166</td>\n      <td>321</td>\n      <td>198</td>\n      <td>127</td>\n      <td>304</td>\n      <td>1</td>\n      <td>153</td>\n      <td>23</td>\n      <td>262</td>\n      <td>53.81376</td>\n    </tr>\n    <tr>\n      <th>7</th>\n      <td>360</td>\n      <td>282</td>\n      <td>38</td>\n      <td>138</td>\n      <td>127</td>\n      <td>117</td>\n      <td>212</td>\n      <td>325</td>\n      <td>164</td>\n      <td>7</td>\n      <td>...</td>\n      <td>192</td>\n      <td>372</td>\n      <td>277</td>\n      <td>99</td>\n      <td>362</td>\n      <td>46</td>\n      <td>335</td>\n      <td>293</td>\n      <td>185</td>\n      <td>53.81376</td>\n    </tr>\n    <tr>\n      <th>8</th>\n      <td>202</td>\n      <td>8</td>\n      <td>25</td>\n      <td>228</td>\n      <td>128</td>\n      <td>136</td>\n      <td>90</td>\n      <td>299</td>\n      <td>220</td>\n      <td>310</td>\n      <td>...</td>\n      <td>205</td>\n      <td>161</td>\n      <td>147</td>\n      <td>238</td>\n      <td>36</td>\n      <td>113</td>\n      <td>66</td>\n      <td>81</td>\n      <td>305</td>\n      <td>53.81376</td>\n    </tr>\n    <tr>\n      <th>9</th>\n      <td>318</td>\n      <td>95</td>\n      <td>294</td>\n      <td>259</td>\n      <td>120</td>\n      <td>105</td>\n      <td>288</td>\n      <td>167</td>\n      <td>268</td>\n      <td>250</td>\n      <td>...</td>\n      <td>126</td>\n      <td>135</td>\n      <td>181</td>\n      <td>212</td>\n      <td>219</td>\n      <td>228</td>\n      <td>82</td>\n      <td>77</td>\n      <td>24</td>\n      <td>53.81376</td>\n    </tr>\n  </tbody>\n</table>\n<p>10 rows × 51 columns</p>\n</div>"
     },
     "execution_count": 44,
     "metadata": {},
     "output_type": "execute_result"
    }
   ],
   "source": [
    "df_test"
   ],
   "metadata": {
    "collapsed": false,
    "ExecuteTime": {
     "start_time": "2023-11-08T13:11:42.765862Z",
     "end_time": "2023-11-08T13:11:42.859365Z"
    }
   }
  },
  {
   "cell_type": "code",
   "execution_count": 45,
   "outputs": [
    {
     "data": {
      "text/plain": "      g-0_p-0  g-0_p-1  g-0_p-2  g-0_p-3  g-0_p-4  g-1_p-0  g-1_p-1  g-1_p-2  \\\n9990      106       45      228      126      234      246       89      105   \n9991      324       53      301      257       20       48      316       73   \n9992      284      346      238      179       80       22      190      123   \n9993      123      261      272      361       15        8      346       89   \n9994      146       13       58      171       90        4       24       31   \n9995      127       84      110      152      265       90      318       72   \n9996      286       97      191      288       32      268       41      347   \n9997      372      168      198      199      239      369      323      277   \n9998      154      310      224       59       87      207       97       78   \n9999      351       31      277      304      357       35      111      254   \n\n      g-1_p-3  g-1_p-4  ...  g-8_p-1  g-8_p-2  g-8_p-3  g-8_p-4  g-9_p-0  \\\n9990      243      344  ...      130       87      167      310      217   \n9991      319      184  ...      138      195      237       11        7   \n9992       17      242  ...       71      265      347      186      191   \n9993      281      242  ...       99      371       32      144       55   \n9994      187      185  ...       86      205      244      196      222   \n9995      331      237  ...        7      341      126       70      208   \n9996      272      169  ...      178      269      310       79      370   \n9997      174      281  ...      112       75      331      177      163   \n9998      290      241  ...      338      254      183      145       22   \n9999       40       69  ...       71       65      163      296      123   \n\n      g-9_p-1  g-9_p-2  g-9_p-3  g-9_p-4     label  \n9990      146       21       54      317  53.81376  \n9991      291      221      249      272  53.81376  \n9992       37       78      234      320  53.81376  \n9993      178       60       17      319  53.81376  \n9994       29      295      199      137  53.81376  \n9995       67      248      291      246  53.81376  \n9996      108      189      340       24  53.81376  \n9997      155        7      188      290  53.81376  \n9998       95      247      158      231  53.81376  \n9999      363      180      148      297  53.81376  \n\n[10 rows x 51 columns]",
      "text/html": "<div>\n<style scoped>\n    .dataframe tbody tr th:only-of-type {\n        vertical-align: middle;\n    }\n\n    .dataframe tbody tr th {\n        vertical-align: top;\n    }\n\n    .dataframe thead th {\n        text-align: right;\n    }\n</style>\n<table border=\"1\" class=\"dataframe\">\n  <thead>\n    <tr style=\"text-align: right;\">\n      <th></th>\n      <th>g-0_p-0</th>\n      <th>g-0_p-1</th>\n      <th>g-0_p-2</th>\n      <th>g-0_p-3</th>\n      <th>g-0_p-4</th>\n      <th>g-1_p-0</th>\n      <th>g-1_p-1</th>\n      <th>g-1_p-2</th>\n      <th>g-1_p-3</th>\n      <th>g-1_p-4</th>\n      <th>...</th>\n      <th>g-8_p-1</th>\n      <th>g-8_p-2</th>\n      <th>g-8_p-3</th>\n      <th>g-8_p-4</th>\n      <th>g-9_p-0</th>\n      <th>g-9_p-1</th>\n      <th>g-9_p-2</th>\n      <th>g-9_p-3</th>\n      <th>g-9_p-4</th>\n      <th>label</th>\n    </tr>\n  </thead>\n  <tbody>\n    <tr>\n      <th>9990</th>\n      <td>106</td>\n      <td>45</td>\n      <td>228</td>\n      <td>126</td>\n      <td>234</td>\n      <td>246</td>\n      <td>89</td>\n      <td>105</td>\n      <td>243</td>\n      <td>344</td>\n      <td>...</td>\n      <td>130</td>\n      <td>87</td>\n      <td>167</td>\n      <td>310</td>\n      <td>217</td>\n      <td>146</td>\n      <td>21</td>\n      <td>54</td>\n      <td>317</td>\n      <td>53.81376</td>\n    </tr>\n    <tr>\n      <th>9991</th>\n      <td>324</td>\n      <td>53</td>\n      <td>301</td>\n      <td>257</td>\n      <td>20</td>\n      <td>48</td>\n      <td>316</td>\n      <td>73</td>\n      <td>319</td>\n      <td>184</td>\n      <td>...</td>\n      <td>138</td>\n      <td>195</td>\n      <td>237</td>\n      <td>11</td>\n      <td>7</td>\n      <td>291</td>\n      <td>221</td>\n      <td>249</td>\n      <td>272</td>\n      <td>53.81376</td>\n    </tr>\n    <tr>\n      <th>9992</th>\n      <td>284</td>\n      <td>346</td>\n      <td>238</td>\n      <td>179</td>\n      <td>80</td>\n      <td>22</td>\n      <td>190</td>\n      <td>123</td>\n      <td>17</td>\n      <td>242</td>\n      <td>...</td>\n      <td>71</td>\n      <td>265</td>\n      <td>347</td>\n      <td>186</td>\n      <td>191</td>\n      <td>37</td>\n      <td>78</td>\n      <td>234</td>\n      <td>320</td>\n      <td>53.81376</td>\n    </tr>\n    <tr>\n      <th>9993</th>\n      <td>123</td>\n      <td>261</td>\n      <td>272</td>\n      <td>361</td>\n      <td>15</td>\n      <td>8</td>\n      <td>346</td>\n      <td>89</td>\n      <td>281</td>\n      <td>242</td>\n      <td>...</td>\n      <td>99</td>\n      <td>371</td>\n      <td>32</td>\n      <td>144</td>\n      <td>55</td>\n      <td>178</td>\n      <td>60</td>\n      <td>17</td>\n      <td>319</td>\n      <td>53.81376</td>\n    </tr>\n    <tr>\n      <th>9994</th>\n      <td>146</td>\n      <td>13</td>\n      <td>58</td>\n      <td>171</td>\n      <td>90</td>\n      <td>4</td>\n      <td>24</td>\n      <td>31</td>\n      <td>187</td>\n      <td>185</td>\n      <td>...</td>\n      <td>86</td>\n      <td>205</td>\n      <td>244</td>\n      <td>196</td>\n      <td>222</td>\n      <td>29</td>\n      <td>295</td>\n      <td>199</td>\n      <td>137</td>\n      <td>53.81376</td>\n    </tr>\n    <tr>\n      <th>9995</th>\n      <td>127</td>\n      <td>84</td>\n      <td>110</td>\n      <td>152</td>\n      <td>265</td>\n      <td>90</td>\n      <td>318</td>\n      <td>72</td>\n      <td>331</td>\n      <td>237</td>\n      <td>...</td>\n      <td>7</td>\n      <td>341</td>\n      <td>126</td>\n      <td>70</td>\n      <td>208</td>\n      <td>67</td>\n      <td>248</td>\n      <td>291</td>\n      <td>246</td>\n      <td>53.81376</td>\n    </tr>\n    <tr>\n      <th>9996</th>\n      <td>286</td>\n      <td>97</td>\n      <td>191</td>\n      <td>288</td>\n      <td>32</td>\n      <td>268</td>\n      <td>41</td>\n      <td>347</td>\n      <td>272</td>\n      <td>169</td>\n      <td>...</td>\n      <td>178</td>\n      <td>269</td>\n      <td>310</td>\n      <td>79</td>\n      <td>370</td>\n      <td>108</td>\n      <td>189</td>\n      <td>340</td>\n      <td>24</td>\n      <td>53.81376</td>\n    </tr>\n    <tr>\n      <th>9997</th>\n      <td>372</td>\n      <td>168</td>\n      <td>198</td>\n      <td>199</td>\n      <td>239</td>\n      <td>369</td>\n      <td>323</td>\n      <td>277</td>\n      <td>174</td>\n      <td>281</td>\n      <td>...</td>\n      <td>112</td>\n      <td>75</td>\n      <td>331</td>\n      <td>177</td>\n      <td>163</td>\n      <td>155</td>\n      <td>7</td>\n      <td>188</td>\n      <td>290</td>\n      <td>53.81376</td>\n    </tr>\n    <tr>\n      <th>9998</th>\n      <td>154</td>\n      <td>310</td>\n      <td>224</td>\n      <td>59</td>\n      <td>87</td>\n      <td>207</td>\n      <td>97</td>\n      <td>78</td>\n      <td>290</td>\n      <td>241</td>\n      <td>...</td>\n      <td>338</td>\n      <td>254</td>\n      <td>183</td>\n      <td>145</td>\n      <td>22</td>\n      <td>95</td>\n      <td>247</td>\n      <td>158</td>\n      <td>231</td>\n      <td>53.81376</td>\n    </tr>\n    <tr>\n      <th>9999</th>\n      <td>351</td>\n      <td>31</td>\n      <td>277</td>\n      <td>304</td>\n      <td>357</td>\n      <td>35</td>\n      <td>111</td>\n      <td>254</td>\n      <td>40</td>\n      <td>69</td>\n      <td>...</td>\n      <td>71</td>\n      <td>65</td>\n      <td>163</td>\n      <td>296</td>\n      <td>123</td>\n      <td>363</td>\n      <td>180</td>\n      <td>148</td>\n      <td>297</td>\n      <td>53.81376</td>\n    </tr>\n  </tbody>\n</table>\n<p>10 rows × 51 columns</p>\n</div>"
     },
     "execution_count": 45,
     "metadata": {},
     "output_type": "execute_result"
    }
   ],
   "source": [
    "df_test2 = df_index.iloc[-10:]\n",
    "df_test2"
   ],
   "metadata": {
    "collapsed": false,
    "ExecuteTime": {
     "start_time": "2023-11-08T13:11:42.782364Z",
     "end_time": "2023-11-08T13:11:42.860363Z"
    }
   }
  },
  {
   "cell_type": "code",
   "execution_count": 46,
   "outputs": [],
   "source": [
    "merged = df_test2.merge(df_index, how='left', indicator=True)"
   ],
   "metadata": {
    "collapsed": false,
    "ExecuteTime": {
     "start_time": "2023-11-08T13:11:42.797363Z",
     "end_time": "2023-11-08T13:11:42.876364Z"
    }
   }
  },
  {
   "cell_type": "code",
   "execution_count": 47,
   "outputs": [
    {
     "data": {
      "text/plain": "   g-0_p-0  g-0_p-1  g-0_p-2  g-0_p-3  g-0_p-4  g-1_p-0  g-1_p-1  g-1_p-2  \\\n0      106       45      228      126      234      246       89      105   \n1      324       53      301      257       20       48      316       73   \n2      284      346      238      179       80       22      190      123   \n3      123      261      272      361       15        8      346       89   \n4      146       13       58      171       90        4       24       31   \n5      127       84      110      152      265       90      318       72   \n6      286       97      191      288       32      268       41      347   \n7      372      168      198      199      239      369      323      277   \n8      154      310      224       59       87      207       97       78   \n9      351       31      277      304      357       35      111      254   \n\n   g-1_p-3  g-1_p-4  ...  g-8_p-2  g-8_p-3  g-8_p-4  g-9_p-0  g-9_p-1  \\\n0      243      344  ...       87      167      310      217      146   \n1      319      184  ...      195      237       11        7      291   \n2       17      242  ...      265      347      186      191       37   \n3      281      242  ...      371       32      144       55      178   \n4      187      185  ...      205      244      196      222       29   \n5      331      237  ...      341      126       70      208       67   \n6      272      169  ...      269      310       79      370      108   \n7      174      281  ...       75      331      177      163      155   \n8      290      241  ...      254      183      145       22       95   \n9       40       69  ...       65      163      296      123      363   \n\n   g-9_p-2  g-9_p-3  g-9_p-4     label  _merge  \n0       21       54      317  53.81376    both  \n1      221      249      272  53.81376    both  \n2       78      234      320  53.81376    both  \n3       60       17      319  53.81376    both  \n4      295      199      137  53.81376    both  \n5      248      291      246  53.81376    both  \n6      189      340       24  53.81376    both  \n7        7      188      290  53.81376    both  \n8      247      158      231  53.81376    both  \n9      180      148      297  53.81376    both  \n\n[10 rows x 52 columns]",
      "text/html": "<div>\n<style scoped>\n    .dataframe tbody tr th:only-of-type {\n        vertical-align: middle;\n    }\n\n    .dataframe tbody tr th {\n        vertical-align: top;\n    }\n\n    .dataframe thead th {\n        text-align: right;\n    }\n</style>\n<table border=\"1\" class=\"dataframe\">\n  <thead>\n    <tr style=\"text-align: right;\">\n      <th></th>\n      <th>g-0_p-0</th>\n      <th>g-0_p-1</th>\n      <th>g-0_p-2</th>\n      <th>g-0_p-3</th>\n      <th>g-0_p-4</th>\n      <th>g-1_p-0</th>\n      <th>g-1_p-1</th>\n      <th>g-1_p-2</th>\n      <th>g-1_p-3</th>\n      <th>g-1_p-4</th>\n      <th>...</th>\n      <th>g-8_p-2</th>\n      <th>g-8_p-3</th>\n      <th>g-8_p-4</th>\n      <th>g-9_p-0</th>\n      <th>g-9_p-1</th>\n      <th>g-9_p-2</th>\n      <th>g-9_p-3</th>\n      <th>g-9_p-4</th>\n      <th>label</th>\n      <th>_merge</th>\n    </tr>\n  </thead>\n  <tbody>\n    <tr>\n      <th>0</th>\n      <td>106</td>\n      <td>45</td>\n      <td>228</td>\n      <td>126</td>\n      <td>234</td>\n      <td>246</td>\n      <td>89</td>\n      <td>105</td>\n      <td>243</td>\n      <td>344</td>\n      <td>...</td>\n      <td>87</td>\n      <td>167</td>\n      <td>310</td>\n      <td>217</td>\n      <td>146</td>\n      <td>21</td>\n      <td>54</td>\n      <td>317</td>\n      <td>53.81376</td>\n      <td>both</td>\n    </tr>\n    <tr>\n      <th>1</th>\n      <td>324</td>\n      <td>53</td>\n      <td>301</td>\n      <td>257</td>\n      <td>20</td>\n      <td>48</td>\n      <td>316</td>\n      <td>73</td>\n      <td>319</td>\n      <td>184</td>\n      <td>...</td>\n      <td>195</td>\n      <td>237</td>\n      <td>11</td>\n      <td>7</td>\n      <td>291</td>\n      <td>221</td>\n      <td>249</td>\n      <td>272</td>\n      <td>53.81376</td>\n      <td>both</td>\n    </tr>\n    <tr>\n      <th>2</th>\n      <td>284</td>\n      <td>346</td>\n      <td>238</td>\n      <td>179</td>\n      <td>80</td>\n      <td>22</td>\n      <td>190</td>\n      <td>123</td>\n      <td>17</td>\n      <td>242</td>\n      <td>...</td>\n      <td>265</td>\n      <td>347</td>\n      <td>186</td>\n      <td>191</td>\n      <td>37</td>\n      <td>78</td>\n      <td>234</td>\n      <td>320</td>\n      <td>53.81376</td>\n      <td>both</td>\n    </tr>\n    <tr>\n      <th>3</th>\n      <td>123</td>\n      <td>261</td>\n      <td>272</td>\n      <td>361</td>\n      <td>15</td>\n      <td>8</td>\n      <td>346</td>\n      <td>89</td>\n      <td>281</td>\n      <td>242</td>\n      <td>...</td>\n      <td>371</td>\n      <td>32</td>\n      <td>144</td>\n      <td>55</td>\n      <td>178</td>\n      <td>60</td>\n      <td>17</td>\n      <td>319</td>\n      <td>53.81376</td>\n      <td>both</td>\n    </tr>\n    <tr>\n      <th>4</th>\n      <td>146</td>\n      <td>13</td>\n      <td>58</td>\n      <td>171</td>\n      <td>90</td>\n      <td>4</td>\n      <td>24</td>\n      <td>31</td>\n      <td>187</td>\n      <td>185</td>\n      <td>...</td>\n      <td>205</td>\n      <td>244</td>\n      <td>196</td>\n      <td>222</td>\n      <td>29</td>\n      <td>295</td>\n      <td>199</td>\n      <td>137</td>\n      <td>53.81376</td>\n      <td>both</td>\n    </tr>\n    <tr>\n      <th>5</th>\n      <td>127</td>\n      <td>84</td>\n      <td>110</td>\n      <td>152</td>\n      <td>265</td>\n      <td>90</td>\n      <td>318</td>\n      <td>72</td>\n      <td>331</td>\n      <td>237</td>\n      <td>...</td>\n      <td>341</td>\n      <td>126</td>\n      <td>70</td>\n      <td>208</td>\n      <td>67</td>\n      <td>248</td>\n      <td>291</td>\n      <td>246</td>\n      <td>53.81376</td>\n      <td>both</td>\n    </tr>\n    <tr>\n      <th>6</th>\n      <td>286</td>\n      <td>97</td>\n      <td>191</td>\n      <td>288</td>\n      <td>32</td>\n      <td>268</td>\n      <td>41</td>\n      <td>347</td>\n      <td>272</td>\n      <td>169</td>\n      <td>...</td>\n      <td>269</td>\n      <td>310</td>\n      <td>79</td>\n      <td>370</td>\n      <td>108</td>\n      <td>189</td>\n      <td>340</td>\n      <td>24</td>\n      <td>53.81376</td>\n      <td>both</td>\n    </tr>\n    <tr>\n      <th>7</th>\n      <td>372</td>\n      <td>168</td>\n      <td>198</td>\n      <td>199</td>\n      <td>239</td>\n      <td>369</td>\n      <td>323</td>\n      <td>277</td>\n      <td>174</td>\n      <td>281</td>\n      <td>...</td>\n      <td>75</td>\n      <td>331</td>\n      <td>177</td>\n      <td>163</td>\n      <td>155</td>\n      <td>7</td>\n      <td>188</td>\n      <td>290</td>\n      <td>53.81376</td>\n      <td>both</td>\n    </tr>\n    <tr>\n      <th>8</th>\n      <td>154</td>\n      <td>310</td>\n      <td>224</td>\n      <td>59</td>\n      <td>87</td>\n      <td>207</td>\n      <td>97</td>\n      <td>78</td>\n      <td>290</td>\n      <td>241</td>\n      <td>...</td>\n      <td>254</td>\n      <td>183</td>\n      <td>145</td>\n      <td>22</td>\n      <td>95</td>\n      <td>247</td>\n      <td>158</td>\n      <td>231</td>\n      <td>53.81376</td>\n      <td>both</td>\n    </tr>\n    <tr>\n      <th>9</th>\n      <td>351</td>\n      <td>31</td>\n      <td>277</td>\n      <td>304</td>\n      <td>357</td>\n      <td>35</td>\n      <td>111</td>\n      <td>254</td>\n      <td>40</td>\n      <td>69</td>\n      <td>...</td>\n      <td>65</td>\n      <td>163</td>\n      <td>296</td>\n      <td>123</td>\n      <td>363</td>\n      <td>180</td>\n      <td>148</td>\n      <td>297</td>\n      <td>53.81376</td>\n      <td>both</td>\n    </tr>\n  </tbody>\n</table>\n<p>10 rows × 52 columns</p>\n</div>"
     },
     "execution_count": 47,
     "metadata": {},
     "output_type": "execute_result"
    }
   ],
   "source": [
    "merged"
   ],
   "metadata": {
    "collapsed": false,
    "ExecuteTime": {
     "start_time": "2023-11-08T13:11:42.862365Z",
     "end_time": "2023-11-08T13:11:42.905363Z"
    }
   }
  },
  {
   "cell_type": "code",
   "execution_count": 48,
   "outputs": [
    {
     "data": {
      "text/plain": "10"
     },
     "execution_count": 48,
     "metadata": {},
     "output_type": "execute_result"
    }
   ],
   "source": [
    "sum(merged['_merge'] == 'both')"
   ],
   "metadata": {
    "collapsed": false,
    "ExecuteTime": {
     "start_time": "2023-11-08T13:11:42.877366Z",
     "end_time": "2023-11-08T13:11:42.949366Z"
    }
   }
  },
  {
   "cell_type": "code",
   "execution_count": 49,
   "outputs": [
    {
     "data": {
      "text/plain": "0    both\n1    both\n2    both\n3    both\n4    both\n5    both\n6    both\n7    both\n8    both\n9    both\nName: _merge, dtype: category\nCategories (3, object): ['left_only', 'right_only', 'both']"
     },
     "execution_count": 49,
     "metadata": {},
     "output_type": "execute_result"
    }
   ],
   "source": [
    "merged._merge"
   ],
   "metadata": {
    "collapsed": false,
    "ExecuteTime": {
     "start_time": "2023-11-08T13:11:42.893365Z",
     "end_time": "2023-11-08T13:11:42.950364Z"
    }
   }
  },
  {
   "cell_type": "code",
   "execution_count": 49,
   "outputs": [],
   "source": [],
   "metadata": {
    "collapsed": false,
    "ExecuteTime": {
     "start_time": "2023-11-08T13:11:42.910365Z",
     "end_time": "2023-11-08T13:11:43.003363Z"
    }
   }
  },
  {
   "cell_type": "code",
   "execution_count": 49,
   "outputs": [],
   "source": [],
   "metadata": {
    "collapsed": false,
    "ExecuteTime": {
     "start_time": "2023-11-08T13:11:42.926363Z",
     "end_time": "2023-11-08T13:11:43.035392Z"
    }
   }
  }
 ],
 "metadata": {
  "kernelspec": {
   "display_name": "Python 3",
   "language": "python",
   "name": "python3"
  },
  "language_info": {
   "codemirror_mode": {
    "name": "ipython",
    "version": 2
   },
   "file_extension": ".py",
   "mimetype": "text/x-python",
   "name": "python",
   "nbconvert_exporter": "python",
   "pygments_lexer": "ipython2",
   "version": "2.7.6"
  }
 },
 "nbformat": 4,
 "nbformat_minor": 0
}
