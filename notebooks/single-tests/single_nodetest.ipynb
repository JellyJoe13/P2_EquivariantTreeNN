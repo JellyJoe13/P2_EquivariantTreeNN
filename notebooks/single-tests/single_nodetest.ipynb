{
 "cells": [
  {
   "cell_type": "markdown",
   "source": [
    "# Testing single node datasets"
   ],
   "metadata": {
    "collapsed": false
   }
  },
  {
   "cell_type": "markdown",
   "source": [
    "Purpose: until now dataset represented by combination of tree types - now test for single node type"
   ],
   "metadata": {
    "collapsed": false
   }
  },
  {
   "cell_type": "markdown",
   "source": [
    "## Importing"
   ],
   "metadata": {
    "collapsed": false
   }
  },
  {
   "cell_type": "code",
   "execution_count": 1,
   "outputs": [],
   "source": [
    "import sys\n",
    "import os\n",
    "\n",
    "# Construct the path to the parent directory of the parent directory\n",
    "parent_of_parent_dir = os.path.abspath(os.path.join(os.path.pardir, os.path.pardir))\n",
    "\n",
    "# Add the parent directory of the parent directory to the system path\n",
    "sys.path.insert(0, parent_of_parent_dir)"
   ],
   "metadata": {
    "collapsed": false,
    "ExecuteTime": {
     "start_time": "2023-12-10T19:07:17.048405Z",
     "end_time": "2023-12-10T19:07:17.054395Z"
    }
   }
  },
  {
   "cell_type": "code",
   "execution_count": 2,
   "outputs": [],
   "source": [
    "import optuna\n",
    "import numpy as np\n",
    "from sklearn.metrics import r2_score\n",
    "import torch\n",
    "from torch.utils.data import random_split, DataLoader\n",
    "\n",
    "from etnn import TreeNode\n",
    "from etnn.tools.training_tools import ConfigStore\n",
    "from etnn.data.ferris_wheel import load_pure_ferris_wheel_dataset_single_node\n",
    "from etnn.tools.training import train_epoch, eval_epoch\n",
    "from etnn.nn.layer_framework import LayerManagementFramework\n",
    "from etnn.tools.training_tools import seeding_all\n",
    "from etnn.routines.run_config import choice_trainloader, choice_loss, choice_optim"
   ],
   "metadata": {
    "collapsed": false,
    "ExecuteTime": {
     "start_time": "2023-12-10T19:07:17.572440Z",
     "end_time": "2023-12-10T19:07:19.623220Z"
    }
   }
  },
  {
   "cell_type": "markdown",
   "source": [
    "## Control constants"
   ],
   "metadata": {
    "collapsed": false
   }
  },
  {
   "cell_type": "code",
   "execution_count": 3,
   "outputs": [],
   "source": [
    "dataset_path = \"../../datasets/\"\n",
    "test_perc = 0.3\n",
    "val_perc = 0.21\n",
    "stability_count = 5\n",
    "label = \"tree-advanced\" # although irrelevant"
   ],
   "metadata": {
    "collapsed": false,
    "ExecuteTime": {
     "start_time": "2023-12-10T19:07:19.626220Z",
     "end_time": "2023-12-10T19:07:19.635218Z"
    }
   }
  },
  {
   "cell_type": "markdown",
   "source": [
    "## Defining parameter search"
   ],
   "metadata": {
    "collapsed": false
   }
  },
  {
   "cell_type": "code",
   "execution_count": 4,
   "outputs": [],
   "source": [
    "def objective(trial):\n",
    "    # init default config\n",
    "    config = ConfigStore(\n",
    "       in_dim=15,\n",
    "       hidden_dim=trial.suggest_int(\"hidden_dim\", 16, 512, step=16),\n",
    "       out_dim=1,\n",
    "       k=trial.suggest_int(\"k\", 1, 5),\n",
    "       dataset=-1 if normalized else 0,\n",
    "       ds_size=10_000,\n",
    "       num_gondolas=-1,\n",
    "       num_part_pg=-1,\n",
    "       loss_name='mse',\n",
    "       optimizer_name='adam',\n",
    "       num_max_epochs=30, # real: 100\n",
    "       learning_rate=trial.suggest_float(\"learning_rate\", 1e-5, 1e-2, log=True),\n",
    "       batch_size=1024,\n",
    "       early_stop_tol=5,\n",
    "       use_equal_batcher=trial.suggest_categorical(\"batcher\", [True, False]),\n",
    "       seed=420,\n",
    "       label_type=label,\n",
    "       final_label_factor=5/1000\n",
    "    )\n",
    "    # config = ConfigStore(\n",
    "    #     in_dim=15,\n",
    "    #     hidden_dim=16,\n",
    "    #     out_dim=1,\n",
    "    #     k=2,\n",
    "    #     dataset=-1 if normalized else 0,\n",
    "    #     ds_size=10_000,\n",
    "    #     num_gondolas=-1,\n",
    "    #     num_part_pg=-1,\n",
    "    #     loss_name='mse',\n",
    "    #     optimizer_name='adam',\n",
    "    #     num_max_epochs=30, # real: 100\n",
    "    #     learning_rate=0.002,\n",
    "    #     batch_size=1024,\n",
    "    #     early_stop_tol=5,\n",
    "    #     use_equal_batcher=False,\n",
    "    #     seed=420,\n",
    "    #     label_type=label,\n",
    "    #     final_label_factor=5/1000\n",
    "    # )\n",
    "\n",
    "    # loading dataset\n",
    "    dataset, df_index = load_pure_ferris_wheel_dataset_single_node(\n",
    "        node_type=node_type,\n",
    "        num_elem=size_elem,\n",
    "        num_to_generate=config.ds_size,\n",
    "        dataset_path=dataset_path,\n",
    "        final_label_factor=config.final_label_factor,\n",
    "        normalize=True if config.dataset == -1 else 0\n",
    "    )\n",
    "    # splitting off test dataset\n",
    "    generator = torch.Generator().manual_seed(config.seed)\n",
    "    train_ds, val_ds, _ = random_split(\n",
    "        dataset,\n",
    "        [1 - test_perc - val_perc, val_perc, test_perc],\n",
    "        generator=generator\n",
    "    )\n",
    "\n",
    "    # loaders\n",
    "    train_loader = choice_trainloader(config, df_index, train_ds)\n",
    "    val_loader = DataLoader(val_ds, batch_size=4 * config.batch_size, shuffle=False)\n",
    "\n",
    "    # define device\n",
    "    device = \"cuda\" if torch.cuda.is_available() else \"cpu\"\n",
    "\n",
    "    # set seed for reproducability\n",
    "    seeding_all(config.seed)\n",
    "\n",
    "    # define model\n",
    "    model = LayerManagementFramework(\n",
    "        in_dim=config.in_dim,\n",
    "        tree=TreeNode(node_type, [TreeNode(\"E\", size_elem)]),\n",
    "        hidden_dim=config.hidden_dim,\n",
    "        out_dim=config.out_dim,\n",
    "        k=config.k\n",
    "    ).to(device)\n",
    "\n",
    "    # learning tools\n",
    "    criterion = choice_loss(config)\n",
    "    optimizer = choice_optim(config, model)\n",
    "\n",
    "    # init score list\n",
    "    score_list = []\n",
    "\n",
    "    # train for specified number of epochs\n",
    "    for epoch in range(config.num_max_epochs):\n",
    "        _, _, _ = train_epoch(\n",
    "            model,\n",
    "            train_loader,\n",
    "            optimizer,\n",
    "            device,\n",
    "            criterion\n",
    "        )\n",
    "\n",
    "        _, val_true_y, val_pred_y = eval_epoch(\n",
    "            model,\n",
    "            val_loader,\n",
    "            device,\n",
    "            criterion\n",
    "        )\n",
    "\n",
    "        # calc r2 score and append\n",
    "        score = r2_score(y_true=val_true_y, y_pred=val_pred_y)\n",
    "        score_list += [score]\n",
    "        trial.report(score, epoch)\n",
    "\n",
    "    # calculate objective\n",
    "    # display(score_list)\n",
    "    # idea: last x r2 scores (why not last one? for stability purposes)\n",
    "    obj = np.array(score_list)[-stability_count:]\n",
    "    return np.mean(obj)"
   ],
   "metadata": {
    "collapsed": false,
    "ExecuteTime": {
     "start_time": "2023-12-10T19:07:21.032399Z",
     "end_time": "2023-12-10T19:07:21.039399Z"
    }
   }
  },
  {
   "cell_type": "markdown",
   "source": [],
   "metadata": {
    "collapsed": false
   }
  },
  {
   "cell_type": "markdown",
   "source": [
    "## Parameter search"
   ],
   "metadata": {
    "collapsed": false
   }
  },
  {
   "cell_type": "markdown",
   "source": [
    "### S"
   ],
   "metadata": {
    "collapsed": false
   }
  },
  {
   "cell_type": "code",
   "execution_count": 5,
   "outputs": [
    {
     "name": "stderr",
     "output_type": "stream",
     "text": [
      "[I 2023-12-10 16:47:57,320] A new study created in memory with name: Study node type S, normalized: False\n"
     ]
    },
    {
     "data": {
      "text/plain": "  0%|          | 0/50 [00:00<?, ?it/s]",
      "application/vnd.jupyter.widget-view+json": {
       "version_major": 2,
       "version_minor": 0,
       "model_id": "c07c553124e848388d5e647cfcded2e4"
      }
     },
     "metadata": {},
     "output_type": "display_data"
    },
    {
     "name": "stdout",
     "output_type": "stream",
     "text": [
      "[I 2023-12-10 16:49:37,223] Trial 0 finished with value: -18.89985937637609 and parameters: {'hidden_dim': 32, 'k': 4, 'learning_rate': 1.969253832608162e-05, 'batcher': True}. Best is trial 0 with value: -18.89985937637609.\n",
      "[I 2023-12-10 16:51:14,136] Trial 1 finished with value: -1.3926707514182173 and parameters: {'hidden_dim': 112, 'k': 5, 'learning_rate': 0.006367508635174888, 'batcher': True}. Best is trial 1 with value: -1.3926707514182173.\n",
      "[I 2023-12-10 16:52:34,021] Trial 2 finished with value: -2.4964457239287503 and parameters: {'hidden_dim': 304, 'k': 1, 'learning_rate': 0.00707600879933757, 'batcher': False}. Best is trial 1 with value: -1.3926707514182173.\n",
      "[I 2023-12-10 16:53:53,903] Trial 3 finished with value: -4.890314921822672 and parameters: {'hidden_dim': 192, 'k': 5, 'learning_rate': 0.0006683115876689624, 'batcher': True}. Best is trial 1 with value: -1.3926707514182173.\n",
      "[I 2023-12-10 16:55:13,341] Trial 4 finished with value: 0.3169671388263199 and parameters: {'hidden_dim': 256, 'k': 2, 'learning_rate': 6.442069811618473e-05, 'batcher': True}. Best is trial 4 with value: 0.3169671388263199.\n",
      "[I 2023-12-10 16:56:40,466] Trial 5 finished with value: -3.946736992992826 and parameters: {'hidden_dim': 432, 'k': 5, 'learning_rate': 4.3708743131151825e-05, 'batcher': True}. Best is trial 4 with value: 0.3169671388263199.\n",
      "[I 2023-12-10 16:58:27,483] Trial 6 finished with value: -2.1108805423609818 and parameters: {'hidden_dim': 288, 'k': 5, 'learning_rate': 0.003186694968670281, 'batcher': True}. Best is trial 4 with value: 0.3169671388263199.\n",
      "[I 2023-12-10 17:00:11,732] Trial 7 finished with value: 0.22257023188536565 and parameters: {'hidden_dim': 336, 'k': 5, 'learning_rate': 0.0008286546602155659, 'batcher': True}. Best is trial 4 with value: 0.3169671388263199.\n",
      "[I 2023-12-10 17:01:55,561] Trial 8 finished with value: -80.87761356515864 and parameters: {'hidden_dim': 448, 'k': 5, 'learning_rate': 0.001151141986529969, 'batcher': False}. Best is trial 4 with value: 0.3169671388263199.\n",
      "[I 2023-12-10 17:03:36,612] Trial 9 finished with value: 0.8628727319582981 and parameters: {'hidden_dim': 272, 'k': 1, 'learning_rate': 0.00023352764812184482, 'batcher': True}. Best is trial 9 with value: 0.8628727319582981.\n",
      "[I 2023-12-10 17:04:58,022] Trial 10 finished with value: 0.8642520275096434 and parameters: {'hidden_dim': 512, 'k': 1, 'learning_rate': 0.00017503797590736844, 'batcher': False}. Best is trial 10 with value: 0.8642520275096434.\n",
      "[I 2023-12-10 17:06:19,409] Trial 11 finished with value: 0.8715380425071968 and parameters: {'hidden_dim': 512, 'k': 1, 'learning_rate': 0.0001796938878666224, 'batcher': False}. Best is trial 11 with value: 0.8715380425071968.\n",
      "[I 2023-12-10 17:07:41,492] Trial 12 finished with value: -1.5086377676192597 and parameters: {'hidden_dim': 512, 'k': 2, 'learning_rate': 0.00017055136195494108, 'batcher': False}. Best is trial 11 with value: 0.8715380425071968.\n",
      "[I 2023-12-10 17:09:03,283] Trial 13 finished with value: 0.33044388203306224 and parameters: {'hidden_dim': 512, 'k': 2, 'learning_rate': 0.00012386643820946685, 'batcher': False}. Best is trial 11 with value: 0.8715380425071968.\n",
      "[I 2023-12-10 17:10:32,193] Trial 14 finished with value: -0.7837147929221797 and parameters: {'hidden_dim': 384, 'k': 3, 'learning_rate': 0.0003431471443336755, 'batcher': False}. Best is trial 11 with value: 0.8715380425071968.\n",
      "[I 2023-12-10 17:12:19,026] Trial 15 finished with value: 0.8724104902087287 and parameters: {'hidden_dim': 448, 'k': 1, 'learning_rate': 1.3781443553735988e-05, 'batcher': False}. Best is trial 15 with value: 0.8724104902087287.\n",
      "[I 2023-12-10 17:14:03,780] Trial 16 finished with value: -17.03569200560478 and parameters: {'hidden_dim': 432, 'k': 3, 'learning_rate': 1.0160983058320524e-05, 'batcher': False}. Best is trial 15 with value: 0.8724104902087287.\n",
      "[I 2023-12-10 17:15:52,862] Trial 17 finished with value: -3.184737157688485 and parameters: {'hidden_dim': 400, 'k': 2, 'learning_rate': 1.9280101466537214e-05, 'batcher': False}. Best is trial 15 with value: 0.8724104902087287.\n",
      "[I 2023-12-10 17:17:40,488] Trial 18 finished with value: 0.8549953686104548 and parameters: {'hidden_dim': 464, 'k': 1, 'learning_rate': 6.720945542200107e-05, 'batcher': False}. Best is trial 15 with value: 0.8724104902087287.\n",
      "[I 2023-12-10 17:19:24,880] Trial 19 finished with value: 0.8809299071673988 and parameters: {'hidden_dim': 368, 'k': 1, 'learning_rate': 3.649553568908552e-05, 'batcher': False}. Best is trial 19 with value: 0.8809299071673988.\n",
      "[I 2023-12-10 17:21:11,131] Trial 20 finished with value: -0.1729160630428408 and parameters: {'hidden_dim': 336, 'k': 2, 'learning_rate': 1.0573821479903517e-05, 'batcher': False}. Best is trial 19 with value: 0.8809299071673988.\n",
      "[I 2023-12-10 17:22:58,885] Trial 21 finished with value: 0.8276167469512391 and parameters: {'hidden_dim': 384, 'k': 1, 'learning_rate': 3.0105798272861788e-05, 'batcher': False}. Best is trial 19 with value: 0.8809299071673988.\n",
      "[I 2023-12-10 17:24:43,649] Trial 22 finished with value: 0.8403872778552529 and parameters: {'hidden_dim': 464, 'k': 1, 'learning_rate': 8.47157850729759e-05, 'batcher': False}. Best is trial 19 with value: 0.8809299071673988.\n",
      "[I 2023-12-10 17:26:25,098] Trial 23 finished with value: 0.8184703765263599 and parameters: {'hidden_dim': 352, 'k': 1, 'learning_rate': 3.3848882191316755e-05, 'batcher': False}. Best is trial 19 with value: 0.8809299071673988.\n",
      "[I 2023-12-10 17:28:12,172] Trial 24 finished with value: -4.412088418341478 and parameters: {'hidden_dim': 224, 'k': 3, 'learning_rate': 9.057999046735276e-05, 'batcher': False}. Best is trial 19 with value: 0.8809299071673988.\n",
      "[I 2023-12-10 17:30:01,698] Trial 25 finished with value: 0.6327893711585126 and parameters: {'hidden_dim': 480, 'k': 2, 'learning_rate': 4.768109180514859e-05, 'batcher': False}. Best is trial 19 with value: 0.8809299071673988.\n",
      "[I 2023-12-10 17:31:46,198] Trial 26 finished with value: 0.8027881056212657 and parameters: {'hidden_dim': 400, 'k': 1, 'learning_rate': 1.804437114576912e-05, 'batcher': False}. Best is trial 19 with value: 0.8809299071673988.\n",
      "[I 2023-12-10 17:33:36,859] Trial 27 finished with value: -2.883875487961498 and parameters: {'hidden_dim': 416, 'k': 4, 'learning_rate': 2.5599340600071855e-05, 'batcher': False}. Best is trial 19 with value: 0.8809299071673988.\n",
      "[I 2023-12-10 17:35:27,602] Trial 28 finished with value: 0.4511648187033973 and parameters: {'hidden_dim': 480, 'k': 2, 'learning_rate': 5.4102516268140276e-05, 'batcher': False}. Best is trial 19 with value: 0.8809299071673988.\n",
      "[I 2023-12-10 17:37:07,526] Trial 29 finished with value: -132.04467465472484 and parameters: {'hidden_dim': 48, 'k': 4, 'learning_rate': 1.920100153656448e-05, 'batcher': False}. Best is trial 19 with value: 0.8809299071673988.\n",
      "[I 2023-12-10 17:38:52,886] Trial 30 finished with value: -0.3350065516544847 and parameters: {'hidden_dim': 368, 'k': 3, 'learning_rate': 0.00011085672149722271, 'batcher': False}. Best is trial 19 with value: 0.8809299071673988.\n",
      "[I 2023-12-10 17:40:38,668] Trial 31 finished with value: 0.8446252876982147 and parameters: {'hidden_dim': 512, 'k': 1, 'learning_rate': 0.0001383637296638157, 'batcher': False}. Best is trial 19 with value: 0.8809299071673988.\n",
      "[I 2023-12-10 17:42:01,056] Trial 32 finished with value: 0.8600351097964023 and parameters: {'hidden_dim': 480, 'k': 1, 'learning_rate': 0.0003343471780842684, 'batcher': False}. Best is trial 19 with value: 0.8809299071673988.\n",
      "[I 2023-12-10 17:43:23,343] Trial 33 finished with value: 0.8066841287298787 and parameters: {'hidden_dim': 512, 'k': 1, 'learning_rate': 0.00018402825213389377, 'batcher': False}. Best is trial 19 with value: 0.8809299071673988.\n",
      "[I 2023-12-10 17:44:40,723] Trial 34 finished with value: 0.8494577409780067 and parameters: {'hidden_dim': 160, 'k': 1, 'learning_rate': 4.2963737327954e-05, 'batcher': False}. Best is trial 19 with value: 0.8809299071673988.\n",
      "[I 2023-12-10 17:45:59,599] Trial 35 finished with value: 0.8269772405419529 and parameters: {'hidden_dim': 448, 'k': 1, 'learning_rate': 6.852465134015134e-05, 'batcher': False}. Best is trial 19 with value: 0.8809299071673988.\n",
      "[I 2023-12-10 17:47:21,652] Trial 36 finished with value: -4.506366733132926 and parameters: {'hidden_dim': 480, 'k': 2, 'learning_rate': 1.4484178976730148e-05, 'batcher': True}. Best is trial 19 with value: 0.8809299071673988.\n",
      "[I 2023-12-10 17:48:45,031] Trial 37 finished with value: 0.8778378650039501 and parameters: {'hidden_dim': 432, 'k': 1, 'learning_rate': 2.7181466248847466e-05, 'batcher': False}. Best is trial 19 with value: 0.8809299071673988.\n",
      "[I 2023-12-10 17:50:08,771] Trial 38 finished with value: 0.2219586567619077 and parameters: {'hidden_dim': 416, 'k': 2, 'learning_rate': 2.7836891670227904e-05, 'batcher': True}. Best is trial 19 with value: 0.8809299071673988.\n",
      "[I 2023-12-10 17:51:31,125] Trial 39 finished with value: 0.8671482073673994 and parameters: {'hidden_dim': 320, 'k': 1, 'learning_rate': 3.841561242006793e-05, 'batcher': False}. Best is trial 19 with value: 0.8809299071673988.\n",
      "[I 2023-12-10 17:53:04,496] Trial 40 finished with value: 0.7134034610831216 and parameters: {'hidden_dim': 304, 'k': 2, 'learning_rate': 1.4698429650086476e-05, 'batcher': True}. Best is trial 19 with value: 0.8809299071673988.\n",
      "[I 2023-12-10 17:54:50,998] Trial 41 finished with value: 0.8663911505833595 and parameters: {'hidden_dim': 320, 'k': 1, 'learning_rate': 3.2076663978145336e-05, 'batcher': False}. Best is trial 19 with value: 0.8809299071673988.\n",
      "[I 2023-12-10 17:56:34,259] Trial 42 finished with value: 0.8080067519390444 and parameters: {'hidden_dim': 352, 'k': 1, 'learning_rate': 3.7355557869394665e-05, 'batcher': False}. Best is trial 19 with value: 0.8809299071673988.\n",
      "[I 2023-12-10 17:58:03,869] Trial 43 finished with value: 0.8727024810176843 and parameters: {'hidden_dim': 272, 'k': 1, 'learning_rate': 2.3619175566219493e-05, 'batcher': False}. Best is trial 19 with value: 0.8809299071673988.\n",
      "[I 2023-12-10 17:59:25,672] Trial 44 finished with value: 0.8317197218921615 and parameters: {'hidden_dim': 240, 'k': 1, 'learning_rate': 2.3587348035816227e-05, 'batcher': False}. Best is trial 19 with value: 0.8809299071673988.\n",
      "[I 2023-12-10 18:00:48,677] Trial 45 finished with value: 0.7262745729067648 and parameters: {'hidden_dim': 176, 'k': 1, 'learning_rate': 1.4052307954010256e-05, 'batcher': False}. Best is trial 19 with value: 0.8809299071673988.\n",
      "[I 2023-12-10 18:02:10,162] Trial 46 finished with value: -9.80203758315682 and parameters: {'hidden_dim': 432, 'k': 2, 'learning_rate': 5.2124070159096046e-05, 'batcher': False}. Best is trial 19 with value: 0.8809299071673988.\n",
      "[I 2023-12-10 18:03:29,202] Trial 47 finished with value: 0.3411573140835137 and parameters: {'hidden_dim': 256, 'k': 1, 'learning_rate': 2.1829083521115422e-05, 'batcher': True}. Best is trial 19 with value: 0.8809299071673988.\n",
      "[I 2023-12-10 18:04:51,325] Trial 48 finished with value: 0.6749037388664739 and parameters: {'hidden_dim': 128, 'k': 1, 'learning_rate': 2.4765008035741442e-05, 'batcher': False}. Best is trial 19 with value: 0.8809299071673988.\n",
      "[I 2023-12-10 18:06:34,926] Trial 49 finished with value: -1.9912446052631296 and parameters: {'hidden_dim': 208, 'k': 2, 'learning_rate': 1.0114736457413848e-05, 'batcher': False}. Best is trial 19 with value: 0.8809299071673988.\n"
     ]
    }
   ],
   "source": [
    "node_type = \"S\"\n",
    "size_elem = 10\n",
    "n_trials = 50\n",
    "normalized = False\n",
    "study = optuna.create_study(study_name=f\"Study node type {node_type}, normalized: {normalized}\", directions=['maximize'])\n",
    "study.optimize(objective, n_trials=n_trials, show_progress_bar=True)"
   ],
   "metadata": {
    "collapsed": false,
    "ExecuteTime": {
     "start_time": "2023-12-10T16:47:57.320444Z",
     "end_time": "2023-12-10T18:06:34.932343Z"
    }
   }
  },
  {
   "cell_type": "code",
   "execution_count": 6,
   "outputs": [],
   "source": [
    "study.trials_dataframe().to_csv(f\"single-node_t-{node_type}_n-{size_elem}_normalized-{normalized}.csv\")"
   ],
   "metadata": {
    "collapsed": false,
    "ExecuteTime": {
     "start_time": "2023-12-10T18:06:34.933341Z",
     "end_time": "2023-12-10T18:06:34.948370Z"
    }
   }
  },
  {
   "cell_type": "code",
   "execution_count": 7,
   "outputs": [
    {
     "name": "stderr",
     "output_type": "stream",
     "text": [
      "[I 2023-12-10 18:06:34,949] A new study created in memory with name: Study node type S, normalized: True\n"
     ]
    },
    {
     "data": {
      "text/plain": "  0%|          | 0/50 [00:00<?, ?it/s]",
      "application/vnd.jupyter.widget-view+json": {
       "version_major": 2,
       "version_minor": 0,
       "model_id": "32944fb6f50e4df0bf7e25d6f75ce9bf"
      }
     },
     "metadata": {},
     "output_type": "display_data"
    },
    {
     "name": "stdout",
     "output_type": "stream",
     "text": [
      "[I 2023-12-10 18:08:07,797] Trial 0 finished with value: 0.8567521584625112 and parameters: {'hidden_dim': 480, 'k': 4, 'learning_rate': 8.412678798122184e-05, 'batcher': False}. Best is trial 0 with value: 0.8567521584625112.\n",
      "[I 2023-12-10 18:09:36,946] Trial 1 finished with value: -35.5024216842971 and parameters: {'hidden_dim': 64, 'k': 5, 'learning_rate': 6.193045088115752e-05, 'batcher': False}. Best is trial 0 with value: 0.8567521584625112.\n",
      "[I 2023-12-10 18:11:11,363] Trial 2 finished with value: 0.9234221030401196 and parameters: {'hidden_dim': 496, 'k': 2, 'learning_rate': 0.0003961604506306014, 'batcher': True}. Best is trial 2 with value: 0.9234221030401196.\n",
      "[I 2023-12-10 18:12:44,196] Trial 3 finished with value: 0.9305275057068233 and parameters: {'hidden_dim': 384, 'k': 5, 'learning_rate': 0.005564500727225513, 'batcher': False}. Best is trial 3 with value: 0.9305275057068233.\n",
      "[I 2023-12-10 18:13:59,322] Trial 4 finished with value: 0.9360525732990842 and parameters: {'hidden_dim': 336, 'k': 3, 'learning_rate': 0.0005059605889450457, 'batcher': False}. Best is trial 4 with value: 0.9360525732990842.\n",
      "[I 2023-12-10 18:15:04,270] Trial 5 finished with value: 0.8937549955860629 and parameters: {'hidden_dim': 192, 'k': 2, 'learning_rate': 0.0009750508358786321, 'batcher': True}. Best is trial 4 with value: 0.9360525732990842.\n",
      "[I 2023-12-10 18:16:09,275] Trial 6 finished with value: 0.9284635457282511 and parameters: {'hidden_dim': 192, 'k': 4, 'learning_rate': 0.00464917081859297, 'batcher': True}. Best is trial 4 with value: 0.9360525732990842.\n",
      "[I 2023-12-10 18:17:11,820] Trial 7 finished with value: 0.8502719686884272 and parameters: {'hidden_dim': 96, 'k': 2, 'learning_rate': 0.0008797070162299768, 'batcher': True}. Best is trial 4 with value: 0.9360525732990842.\n",
      "[I 2023-12-10 18:18:14,575] Trial 8 finished with value: -120.37853961941036 and parameters: {'hidden_dim': 64, 'k': 5, 'learning_rate': 2.6567354616107547e-05, 'batcher': True}. Best is trial 4 with value: 0.9360525732990842.\n",
      "[I 2023-12-10 18:19:17,520] Trial 9 finished with value: 0.7149847407824783 and parameters: {'hidden_dim': 80, 'k': 4, 'learning_rate': 0.00012914337954506602, 'batcher': False}. Best is trial 4 with value: 0.9360525732990842.\n",
      "[I 2023-12-10 18:20:24,541] Trial 10 finished with value: -27.57263071332007 and parameters: {'hidden_dim': 336, 'k': 1, 'learning_rate': 1.8461969247248245e-05, 'batcher': False}. Best is trial 4 with value: 0.9360525732990842.\n",
      "[I 2023-12-10 18:21:34,919] Trial 11 finished with value: 0.8993211772823623 and parameters: {'hidden_dim': 368, 'k': 3, 'learning_rate': 0.008527742883950588, 'batcher': False}. Best is trial 4 with value: 0.9360525732990842.\n",
      "[I 2023-12-10 18:22:45,754] Trial 12 finished with value: 0.9842568351012957 and parameters: {'hidden_dim': 368, 'k': 3, 'learning_rate': 0.00314002319181884, 'batcher': False}. Best is trial 12 with value: 0.9842568351012957.\n",
      "[I 2023-12-10 18:23:54,527] Trial 13 finished with value: 0.977613836214856 and parameters: {'hidden_dim': 288, 'k': 3, 'learning_rate': 0.0016111150982115892, 'batcher': False}. Best is trial 12 with value: 0.9842568351012957.\n",
      "[I 2023-12-10 18:25:05,593] Trial 14 finished with value: 0.9730588842018946 and parameters: {'hidden_dim': 256, 'k': 3, 'learning_rate': 0.0019377445277233049, 'batcher': False}. Best is trial 12 with value: 0.9842568351012957.\n",
      "[I 2023-12-10 18:26:17,986] Trial 15 finished with value: 0.8755787361681973 and parameters: {'hidden_dim': 416, 'k': 1, 'learning_rate': 0.0025550601582358177, 'batcher': False}. Best is trial 12 with value: 0.9842568351012957.\n",
      "[I 2023-12-10 18:27:27,832] Trial 16 finished with value: 0.939250094759538 and parameters: {'hidden_dim': 256, 'k': 2, 'learning_rate': 0.0022738335335451714, 'batcher': False}. Best is trial 12 with value: 0.9842568351012957.\n",
      "[I 2023-12-10 18:28:37,155] Trial 17 finished with value: 0.916912818694275 and parameters: {'hidden_dim': 176, 'k': 4, 'learning_rate': 0.0013431815319429462, 'batcher': False}. Best is trial 12 with value: 0.9842568351012957.\n",
      "[I 2023-12-10 18:29:49,231] Trial 18 finished with value: 0.9798714003226638 and parameters: {'hidden_dim': 304, 'k': 3, 'learning_rate': 0.009705358260212973, 'batcher': False}. Best is trial 12 with value: 0.9842568351012957.\n",
      "[I 2023-12-10 18:31:00,117] Trial 19 finished with value: 0.8892971038015742 and parameters: {'hidden_dim': 448, 'k': 2, 'learning_rate': 0.008125718111410779, 'batcher': False}. Best is trial 12 with value: 0.9842568351012957.\n",
      "[I 2023-12-10 18:32:09,611] Trial 20 finished with value: 0.9649111466577643 and parameters: {'hidden_dim': 304, 'k': 4, 'learning_rate': 0.0042737122147715155, 'batcher': False}. Best is trial 12 with value: 0.9842568351012957.\n",
      "[I 2023-12-10 18:33:21,336] Trial 21 finished with value: 0.9873973960498412 and parameters: {'hidden_dim': 304, 'k': 3, 'learning_rate': 0.0037196773982582664, 'batcher': False}. Best is trial 21 with value: 0.9873973960498412.\n",
      "[I 2023-12-10 18:34:31,884] Trial 22 finished with value: 0.9677659181560161 and parameters: {'hidden_dim': 240, 'k': 3, 'learning_rate': 0.009971427770715054, 'batcher': False}. Best is trial 21 with value: 0.9873973960498412.\n",
      "[I 2023-12-10 18:35:43,192] Trial 23 finished with value: 0.9722136965888766 and parameters: {'hidden_dim': 400, 'k': 3, 'learning_rate': 0.0035520590660468943, 'batcher': False}. Best is trial 21 with value: 0.9873973960498412.\n",
      "[I 2023-12-10 18:36:54,415] Trial 24 finished with value: 0.9918428265307064 and parameters: {'hidden_dim': 336, 'k': 3, 'learning_rate': 0.0031672337662763668, 'batcher': False}. Best is trial 24 with value: 0.9918428265307064.\n",
      "[I 2023-12-10 18:38:05,970] Trial 25 finished with value: 0.9475010343764501 and parameters: {'hidden_dim': 336, 'k': 3, 'learning_rate': 0.0006862507292638843, 'batcher': False}. Best is trial 24 with value: 0.9918428265307064.\n",
      "[I 2023-12-10 18:39:17,302] Trial 26 finished with value: 0.940526795770684 and parameters: {'hidden_dim': 432, 'k': 2, 'learning_rate': 0.0030569076314767014, 'batcher': True}. Best is trial 24 with value: 0.9918428265307064.\n",
      "[I 2023-12-10 18:40:27,908] Trial 27 finished with value: 0.9491714272019152 and parameters: {'hidden_dim': 368, 'k': 4, 'learning_rate': 0.0013554471917853902, 'batcher': False}. Best is trial 24 with value: 0.9918428265307064.\n",
      "[I 2023-12-10 18:41:29,144] Trial 28 finished with value: -158.05333737001416 and parameters: {'hidden_dim': 16, 'k': 3, 'learning_rate': 0.0002520115764836982, 'batcher': False}. Best is trial 24 with value: 0.9918428265307064.\n",
      "[I 2023-12-10 18:42:39,798] Trial 29 finished with value: 0.9587581648630327 and parameters: {'hidden_dim': 480, 'k': 4, 'learning_rate': 0.005798729083319222, 'batcher': False}. Best is trial 24 with value: 0.9918428265307064.\n",
      "[I 2023-12-10 18:43:48,550] Trial 30 finished with value: 0.929170091070868 and parameters: {'hidden_dim': 224, 'k': 2, 'learning_rate': 0.0023359494094876408, 'batcher': False}. Best is trial 24 with value: 0.9918428265307064.\n",
      "[I 2023-12-10 18:44:57,958] Trial 31 finished with value: 0.9761668910639061 and parameters: {'hidden_dim': 304, 'k': 3, 'learning_rate': 0.003950894175574862, 'batcher': False}. Best is trial 24 with value: 0.9918428265307064.\n",
      "[I 2023-12-10 18:46:08,449] Trial 32 finished with value: 0.9719414654411864 and parameters: {'hidden_dim': 304, 'k': 3, 'learning_rate': 0.007149986363216604, 'batcher': False}. Best is trial 24 with value: 0.9918428265307064.\n",
      "[I 2023-12-10 18:47:18,001] Trial 33 finished with value: 0.8151792981542059 and parameters: {'hidden_dim': 352, 'k': 3, 'learning_rate': 0.009898189842835328, 'batcher': False}. Best is trial 24 with value: 0.9918428265307064.\n",
      "[I 2023-12-10 18:48:27,235] Trial 34 finished with value: 0.9852779257897388 and parameters: {'hidden_dim': 288, 'k': 3, 'learning_rate': 0.0046405463189422265, 'batcher': False}. Best is trial 24 with value: 0.9918428265307064.\n",
      "[I 2023-12-10 18:49:34,269] Trial 35 finished with value: 0.9313864109185446 and parameters: {'hidden_dim': 128, 'k': 2, 'learning_rate': 0.005536858143910229, 'batcher': False}. Best is trial 24 with value: 0.9918428265307064.\n",
      "[I 2023-12-10 18:50:43,960] Trial 36 finished with value: 0.9555765372377538 and parameters: {'hidden_dim': 272, 'k': 4, 'learning_rate': 0.0032182863451666387, 'batcher': True}. Best is trial 24 with value: 0.9918428265307064.\n",
      "[I 2023-12-10 18:51:55,952] Trial 37 finished with value: 0.9786097573342513 and parameters: {'hidden_dim': 384, 'k': 3, 'learning_rate': 0.0016792447891444417, 'batcher': False}. Best is trial 24 with value: 0.9918428265307064.\n",
      "[I 2023-12-10 18:53:09,091] Trial 38 finished with value: 0.9111776642296933 and parameters: {'hidden_dim': 512, 'k': 5, 'learning_rate': 0.005194664306719659, 'batcher': True}. Best is trial 24 with value: 0.9918428265307064.\n",
      "[I 2023-12-10 18:54:18,781] Trial 39 finished with value: 0.940992971570045 and parameters: {'hidden_dim': 464, 'k': 2, 'learning_rate': 0.001023543643665977, 'batcher': False}. Best is trial 24 with value: 0.9918428265307064.\n",
      "[I 2023-12-10 18:55:27,369] Trial 40 finished with value: 0.9461865303457715 and parameters: {'hidden_dim': 208, 'k': 4, 'learning_rate': 0.0028799845343435424, 'batcher': False}. Best is trial 24 with value: 0.9918428265307064.\n",
      "[I 2023-12-10 18:56:40,401] Trial 41 finished with value: 0.9855191819054253 and parameters: {'hidden_dim': 320, 'k': 3, 'learning_rate': 0.006275422456455203, 'batcher': False}. Best is trial 24 with value: 0.9918428265307064.\n",
      "[I 2023-12-10 18:57:51,102] Trial 42 finished with value: 0.9727405603501754 and parameters: {'hidden_dim': 336, 'k': 3, 'learning_rate': 0.006518805528172905, 'batcher': False}. Best is trial 24 with value: 0.9918428265307064.\n",
      "[I 2023-12-10 18:59:00,716] Trial 43 finished with value: 0.9777786095960671 and parameters: {'hidden_dim': 320, 'k': 3, 'learning_rate': 0.0038652822238266467, 'batcher': False}. Best is trial 24 with value: 0.9918428265307064.\n",
      "[I 2023-12-10 19:00:09,918] Trial 44 finished with value: 0.9745803753963471 and parameters: {'hidden_dim': 272, 'k': 3, 'learning_rate': 0.004463594587874514, 'batcher': False}. Best is trial 24 with value: 0.9918428265307064.\n",
      "[I 2023-12-10 19:01:18,541] Trial 45 finished with value: 0.9301711212272636 and parameters: {'hidden_dim': 384, 'k': 2, 'learning_rate': 0.006472053892613719, 'batcher': True}. Best is trial 24 with value: 0.9918428265307064.\n",
      "[I 2023-12-10 19:02:28,487] Trial 46 finished with value: 0.9905043598901024 and parameters: {'hidden_dim': 352, 'k': 3, 'learning_rate': 0.002190209776496215, 'batcher': False}. Best is trial 24 with value: 0.9918428265307064.\n",
      "[I 2023-12-10 19:03:37,742] Trial 47 finished with value: 0.9420335123589322 and parameters: {'hidden_dim': 160, 'k': 3, 'learning_rate': 0.0021631759357478688, 'batcher': False}. Best is trial 24 with value: 0.9918428265307064.\n",
      "[I 2023-12-10 19:04:47,234] Trial 48 finished with value: 0.9581799650390508 and parameters: {'hidden_dim': 352, 'k': 3, 'learning_rate': 0.004695968841942548, 'batcher': False}. Best is trial 24 with value: 0.9918428265307064.\n",
      "[I 2023-12-10 19:05:53,468] Trial 49 finished with value: 0.9434125726388848 and parameters: {'hidden_dim': 288, 'k': 4, 'learning_rate': 0.001888215887175202, 'batcher': True}. Best is trial 24 with value: 0.9918428265307064.\n"
     ]
    }
   ],
   "source": [
    "node_type = \"S\"\n",
    "size_elem = 10\n",
    "n_trials = 50\n",
    "normalized = True\n",
    "study = optuna.create_study(study_name=f\"Study node type {node_type}, normalized: {normalized}\", directions=['maximize'])\n",
    "study.optimize(objective, n_trials=n_trials, show_progress_bar=True)"
   ],
   "metadata": {
    "collapsed": false,
    "ExecuteTime": {
     "start_time": "2023-12-10T18:06:34.948370Z",
     "end_time": "2023-12-10T19:05:53.480578Z"
    }
   }
  },
  {
   "cell_type": "code",
   "execution_count": 8,
   "outputs": [],
   "source": [
    "study.trials_dataframe().to_csv(f\"single-node_t-{node_type}_n-{size_elem}_normalized-{normalized}.csv\")"
   ],
   "metadata": {
    "collapsed": false,
    "ExecuteTime": {
     "start_time": "2023-12-10T19:05:53.480578Z",
     "end_time": "2023-12-10T19:05:53.501575Z"
    }
   }
  },
  {
   "cell_type": "markdown",
   "source": [
    "### Q"
   ],
   "metadata": {
    "collapsed": false
   }
  },
  {
   "cell_type": "code",
   "execution_count": null,
   "outputs": [
    {
     "name": "stderr",
     "output_type": "stream",
     "text": [
      "[I 2023-12-10 19:07:31,641] A new study created in memory with name: Study node type Q, normalized: False\n"
     ]
    },
    {
     "data": {
      "text/plain": "  0%|          | 0/50 [00:00<?, ?it/s]",
      "application/vnd.jupyter.widget-view+json": {
       "version_major": 2,
       "version_minor": 0,
       "model_id": "59fdc61d7cde49dabce622aab958ca72"
      }
     },
     "metadata": {},
     "output_type": "display_data"
    }
   ],
   "source": [
    "node_type = \"Q\"\n",
    "size_elem = 10\n",
    "n_trials = 50\n",
    "normalized = False\n",
    "study = optuna.create_study(study_name=f\"Study node type {node_type}, normalized: {normalized}\", directions=['maximize'])\n",
    "study.optimize(objective, n_trials=n_trials, show_progress_bar=True)"
   ],
   "metadata": {
    "collapsed": false,
    "pycharm": {
     "is_executing": true
    }
   }
  },
  {
   "cell_type": "code",
   "execution_count": null,
   "outputs": [],
   "source": [
    "study.trials_dataframe().to_csv(f\"single-node_t-{node_type}_n-{size_elem}_normalized-{normalized}.csv\")"
   ],
   "metadata": {
    "collapsed": false,
    "pycharm": {
     "is_executing": true
    }
   }
  },
  {
   "cell_type": "code",
   "execution_count": null,
   "outputs": [],
   "source": [
    "node_type = \"Q\"\n",
    "size_elem = 10\n",
    "n_trials = 50\n",
    "normalized = True\n",
    "study = optuna.create_study(study_name=f\"Study node type {node_type}, normalized: {normalized}\", directions=['maximize'])\n",
    "study.optimize(objective, n_trials=n_trials, show_progress_bar=True)"
   ],
   "metadata": {
    "collapsed": false,
    "pycharm": {
     "is_executing": true
    }
   }
  },
  {
   "cell_type": "code",
   "execution_count": null,
   "outputs": [],
   "source": [
    "study.trials_dataframe().to_csv(f\"single-node_t-{node_type}_n-{size_elem}_normalized-{normalized}.csv\")"
   ],
   "metadata": {
    "collapsed": false,
    "pycharm": {
     "is_executing": true
    }
   }
  },
  {
   "cell_type": "markdown",
   "source": [
    "### C"
   ],
   "metadata": {
    "collapsed": false
   }
  },
  {
   "cell_type": "code",
   "execution_count": null,
   "outputs": [],
   "source": [
    "node_type = \"C\"\n",
    "size_elem = 10\n",
    "n_trials = 50\n",
    "normalized = False\n",
    "study = optuna.create_study(study_name=f\"Study node type {node_type}, normalized: {normalized}\", directions=['maximize'])\n",
    "study.optimize(objective, n_trials=n_trials, show_progress_bar=True)"
   ],
   "metadata": {
    "collapsed": false,
    "pycharm": {
     "is_executing": true
    }
   }
  },
  {
   "cell_type": "code",
   "execution_count": null,
   "outputs": [],
   "source": [
    "study.trials_dataframe().to_csv(f\"single-node_t-{node_type}_n-{size_elem}_normalized-{normalized}.csv\")"
   ],
   "metadata": {
    "collapsed": false,
    "pycharm": {
     "is_executing": true
    }
   }
  },
  {
   "cell_type": "code",
   "execution_count": null,
   "outputs": [],
   "source": [
    "node_type = \"C\"\n",
    "size_elem = 10\n",
    "n_trials = 50\n",
    "normalized = True\n",
    "study = optuna.create_study(study_name=f\"Study node type {node_type}, normalized: {normalized}\", directions=['maximize'])\n",
    "study.optimize(objective, n_trials=n_trials, show_progress_bar=True)"
   ],
   "metadata": {
    "collapsed": false,
    "pycharm": {
     "is_executing": true
    }
   }
  },
  {
   "cell_type": "code",
   "execution_count": null,
   "outputs": [],
   "source": [
    "study.trials_dataframe().to_csv(f\"single-node_t-{node_type}_n-{size_elem}_normalized-{normalized}.csv\")"
   ],
   "metadata": {
    "collapsed": false,
    "pycharm": {
     "is_executing": true
    }
   }
  },
  {
   "cell_type": "markdown",
   "source": [
    "### P"
   ],
   "metadata": {
    "collapsed": false
   }
  },
  {
   "cell_type": "code",
   "execution_count": null,
   "outputs": [],
   "source": [
    "node_type = \"P\"\n",
    "size_elem = 10\n",
    "n_trials = 50\n",
    "normalized = False\n",
    "study = optuna.create_study(study_name=f\"Study node type {node_type}, normalized: {normalized}\", directions=['maximize'])\n",
    "study.optimize(objective, n_trials=n_trials, show_progress_bar=True)"
   ],
   "metadata": {
    "collapsed": false,
    "pycharm": {
     "is_executing": true
    }
   }
  },
  {
   "cell_type": "code",
   "execution_count": null,
   "outputs": [],
   "source": [
    "study.trials_dataframe().to_csv(f\"single-node_t-{node_type}_n-{size_elem}_normalized-{normalized}.csv\")"
   ],
   "metadata": {
    "collapsed": false,
    "pycharm": {
     "is_executing": true
    }
   }
  },
  {
   "cell_type": "code",
   "execution_count": null,
   "outputs": [],
   "source": [
    "node_type = \"P\"\n",
    "size_elem = 10\n",
    "n_trials = 50\n",
    "normalized = True\n",
    "study = optuna.create_study(study_name=f\"Study node type {node_type}, normalized: {normalized}\", directions=['maximize'])\n",
    "study.optimize(objective, n_trials=n_trials, show_progress_bar=True)"
   ],
   "metadata": {
    "collapsed": false,
    "pycharm": {
     "is_executing": true
    }
   }
  },
  {
   "cell_type": "code",
   "execution_count": null,
   "outputs": [],
   "source": [
    "study.trials_dataframe().to_csv(f\"single-node_t-{node_type}_n-{size_elem}_normalized-{normalized}.csv\")"
   ],
   "metadata": {
    "collapsed": false,
    "pycharm": {
     "is_executing": true
    }
   }
  }
 ],
 "metadata": {
  "kernelspec": {
   "display_name": "Python 3",
   "language": "python",
   "name": "python3"
  },
  "language_info": {
   "codemirror_mode": {
    "name": "ipython",
    "version": 2
   },
   "file_extension": ".py",
   "mimetype": "text/x-python",
   "name": "python",
   "nbconvert_exporter": "python",
   "pygments_lexer": "ipython2",
   "version": "2.7.6"
  }
 },
 "nbformat": 4,
 "nbformat_minor": 0
}
