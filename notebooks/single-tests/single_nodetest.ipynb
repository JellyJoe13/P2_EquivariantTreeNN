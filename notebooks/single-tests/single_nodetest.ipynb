{
 "cells": [
  {
   "cell_type": "markdown",
   "source": [
    "# Testing single node datasets"
   ],
   "metadata": {
    "collapsed": false
   }
  },
  {
   "cell_type": "markdown",
   "source": [
    "Purpose: until now dataset represented by combination of tree types - now test for single node type"
   ],
   "metadata": {
    "collapsed": false
   }
  },
  {
   "cell_type": "markdown",
   "source": [
    "## Importing"
   ],
   "metadata": {
    "collapsed": false
   }
  },
  {
   "cell_type": "code",
   "execution_count": 1,
   "outputs": [],
   "source": [
    "import sys\n",
    "import os\n",
    "\n",
    "# Construct the path to the parent directory of the parent directory\n",
    "parent_of_parent_dir = os.path.abspath(os.path.join(os.path.pardir, os.path.pardir))\n",
    "\n",
    "# Add the parent directory of the parent directory to the system path\n",
    "sys.path.insert(0, parent_of_parent_dir)"
   ],
   "metadata": {
    "collapsed": false,
    "ExecuteTime": {
     "start_time": "2023-12-10T16:44:44.798233Z",
     "end_time": "2023-12-10T16:44:44.808233Z"
    }
   }
  },
  {
   "cell_type": "code",
   "execution_count": 2,
   "outputs": [],
   "source": [
    "import optuna\n",
    "import numpy as np\n",
    "from sklearn.metrics import r2_score\n",
    "import torch\n",
    "from torch.utils.data import random_split, DataLoader\n",
    "\n",
    "from etnn import TreeNode\n",
    "from etnn.tools.training_tools import ConfigStore\n",
    "from etnn.data.ferris_wheel import load_pure_ferris_wheel_dataset_single_node\n",
    "from etnn.tools.training import train_epoch, eval_epoch\n",
    "from etnn.nn.layer_framework import LayerManagementFramework\n",
    "from etnn.tools.training_tools import seeding_all\n",
    "from etnn.routines.run_config import choice_trainloader, choice_loss, choice_optim"
   ],
   "metadata": {
    "collapsed": false,
    "ExecuteTime": {
     "start_time": "2023-12-10T16:44:44.806235Z",
     "end_time": "2023-12-10T16:44:47.470300Z"
    }
   }
  },
  {
   "cell_type": "markdown",
   "source": [
    "## Control constants"
   ],
   "metadata": {
    "collapsed": false
   }
  },
  {
   "cell_type": "code",
   "execution_count": 3,
   "outputs": [],
   "source": [
    "dataset_path = \"../../datasets/\"\n",
    "test_perc = 0.3\n",
    "val_perc = 0.21\n",
    "stability_count = 5\n",
    "label = \"tree-advanced\" # although irrelevant"
   ],
   "metadata": {
    "collapsed": false,
    "ExecuteTime": {
     "start_time": "2023-12-10T16:44:47.471299Z",
     "end_time": "2023-12-10T16:44:47.485298Z"
    }
   }
  },
  {
   "cell_type": "markdown",
   "source": [
    "## Defining parameter search"
   ],
   "metadata": {
    "collapsed": false
   }
  },
  {
   "cell_type": "code",
   "execution_count": 4,
   "outputs": [],
   "source": [
    "def objective(trial):\n",
    "    # init default config\n",
    "    config = ConfigStore(\n",
    "       in_dim=15,\n",
    "       hidden_dim=trial.suggest_int(\"hidden_dim\", 16, 512, step=16),\n",
    "       out_dim=1,\n",
    "       k=trial.suggest_int(\"k\", 1, 5),\n",
    "       dataset=-1 if normalized else 0,\n",
    "       ds_size=10_000,\n",
    "       num_gondolas=-1,\n",
    "       num_part_pg=-1,\n",
    "       loss_name='mse',\n",
    "       optimizer_name='adam',\n",
    "       num_max_epochs=30, # real: 100\n",
    "       learning_rate=trial.suggest_float(\"learning_rate\", 1e-5, 1e-2, log=True),\n",
    "       batch_size=1024,\n",
    "       early_stop_tol=5,\n",
    "       use_equal_batcher=trial.suggest_categorical(\"batcher\", [True, False]),\n",
    "       seed=420,\n",
    "       label_type=label,\n",
    "       final_label_factor=5/1000\n",
    "    )\n",
    "    # config = ConfigStore(\n",
    "    #     in_dim=15,\n",
    "    #     hidden_dim=16,\n",
    "    #     out_dim=1,\n",
    "    #     k=2,\n",
    "    #     dataset=-1 if normalized else 0,\n",
    "    #     ds_size=10_000,\n",
    "    #     num_gondolas=-1,\n",
    "    #     num_part_pg=-1,\n",
    "    #     loss_name='mse',\n",
    "    #     optimizer_name='adam',\n",
    "    #     num_max_epochs=30, # real: 100\n",
    "    #     learning_rate=0.002,\n",
    "    #     batch_size=1024,\n",
    "    #     early_stop_tol=5,\n",
    "    #     use_equal_batcher=False,\n",
    "    #     seed=420,\n",
    "    #     label_type=label,\n",
    "    #     final_label_factor=5/1000\n",
    "    # )\n",
    "\n",
    "    # loading dataset\n",
    "    dataset, df_index = load_pure_ferris_wheel_dataset_single_node(\n",
    "        node_type=node_type,\n",
    "        num_elem=size_elem,\n",
    "        num_to_generate=config.ds_size,\n",
    "        dataset_path=dataset_path,\n",
    "        final_label_factor=config.final_label_factor,\n",
    "        normalize=True if config.dataset == -1 else 0\n",
    "    )\n",
    "    # splitting off test dataset\n",
    "    generator = torch.Generator().manual_seed(config.seed)\n",
    "    train_ds, val_ds, _ = random_split(\n",
    "        dataset,\n",
    "        [1 - test_perc - val_perc, val_perc, test_perc],\n",
    "        generator=generator\n",
    "    )\n",
    "\n",
    "    # loaders\n",
    "    train_loader = choice_trainloader(config, df_index, train_ds)\n",
    "    val_loader = DataLoader(val_ds, batch_size=4 * config.batch_size, shuffle=False)\n",
    "\n",
    "    # define device\n",
    "    device = \"cuda\" if torch.cuda.is_available() else \"cpu\"\n",
    "\n",
    "    # set seed for reproducability\n",
    "    seeding_all(config.seed)\n",
    "\n",
    "    # define model\n",
    "    model = LayerManagementFramework(\n",
    "        in_dim=config.in_dim,\n",
    "        tree=TreeNode(node_type, [TreeNode(\"E\", size_elem)]),\n",
    "        hidden_dim=config.hidden_dim,\n",
    "        out_dim=config.out_dim,\n",
    "        k=config.k\n",
    "    ).to(device)\n",
    "\n",
    "    # learning tools\n",
    "    criterion = choice_loss(config)\n",
    "    optimizer = choice_optim(config, model)\n",
    "\n",
    "    # init score list\n",
    "    score_list = []\n",
    "\n",
    "    # train for specified number of epochs\n",
    "    for epoch in range(config.num_max_epochs):\n",
    "        _, _, _ = train_epoch(\n",
    "            model,\n",
    "            train_loader,\n",
    "            optimizer,\n",
    "            device,\n",
    "            criterion\n",
    "        )\n",
    "\n",
    "        _, val_true_y, val_pred_y = eval_epoch(\n",
    "            model,\n",
    "            val_loader,\n",
    "            device,\n",
    "            criterion\n",
    "        )\n",
    "\n",
    "        # calc r2 score and append\n",
    "        score = r2_score(y_true=val_true_y, y_pred=val_pred_y)\n",
    "        score_list += [score]\n",
    "        trial.report(score, epoch)\n",
    "\n",
    "    # calculate objective\n",
    "    # display(score_list)\n",
    "    # idea: last x r2 scores (why not last one? for stability purposes)\n",
    "    obj = np.array(score_list)[-stability_count:]\n",
    "    return np.mean(obj)"
   ],
   "metadata": {
    "collapsed": false,
    "ExecuteTime": {
     "start_time": "2023-12-10T16:44:47.489297Z",
     "end_time": "2023-12-10T16:44:47.505300Z"
    }
   }
  },
  {
   "cell_type": "markdown",
   "source": [],
   "metadata": {
    "collapsed": false
   }
  },
  {
   "cell_type": "markdown",
   "source": [
    "## Parameter search"
   ],
   "metadata": {
    "collapsed": false
   }
  },
  {
   "cell_type": "markdown",
   "source": [
    "### S"
   ],
   "metadata": {
    "collapsed": false
   }
  },
  {
   "cell_type": "code",
   "execution_count": 10,
   "outputs": [
    {
     "name": "stderr",
     "output_type": "stream",
     "text": [
      "[I 2023-12-10 16:22:32,155] A new study created in memory with name: Study node type S, normalized: True\n"
     ]
    },
    {
     "data": {
      "text/plain": "  0%|          | 0/1 [00:00<?, ?it/s]",
      "application/vnd.jupyter.widget-view+json": {
       "version_major": 2,
       "version_minor": 0,
       "model_id": "b987fe8453464842ad02745b326ddecf"
      }
     },
     "metadata": {},
     "output_type": "display_data"
    },
    {
     "name": "stdout",
     "output_type": "stream",
     "text": [
      "[I 2023-12-10 16:23:34,763] Trial 0 finished with value: 0.7580406634944465 and parameters: {}. Best is trial 0 with value: 0.7580406634944465.\n"
     ]
    }
   ],
   "source": [
    "node_type = \"S\"\n",
    "size_elem = 10\n",
    "n_trials = 1\n",
    "normalized = False\n",
    "study = optuna.create_study(study_name=f\"Study node type {node_type}, normalized: {normalized}\", directions=['maximize'])\n",
    "study.optimize(objective, n_trials=n_trials, show_progress_bar=True)"
   ],
   "metadata": {
    "collapsed": false,
    "ExecuteTime": {
     "start_time": "2023-12-10T16:22:32.156011Z",
     "end_time": "2023-12-10T16:23:34.769574Z"
    }
   }
  },
  {
   "cell_type": "code",
   "execution_count": null,
   "outputs": [],
   "source": [
    "study.trials_dataframe().to_csv(f\"single-node_t-{node_type}_n-{size_elem}_normalized-{normalized}\")"
   ],
   "metadata": {
    "collapsed": false
   }
  },
  {
   "cell_type": "code",
   "execution_count": 13,
   "outputs": [
    {
     "name": "stderr",
     "output_type": "stream",
     "text": [
      "[I 2023-12-10 16:38:37,643] A new study created in memory with name: Study node type S, normalized: True\n"
     ]
    },
    {
     "data": {
      "text/plain": "  0%|          | 0/1 [00:00<?, ?it/s]",
      "application/vnd.jupyter.widget-view+json": {
       "version_major": 2,
       "version_minor": 0,
       "model_id": "3c04ba53b5d04ed399c10e70ca9b49ab"
      }
     },
     "metadata": {},
     "output_type": "display_data"
    },
    {
     "name": "stderr",
     "output_type": "stream",
     "text": [
      "\n",
      "100%|██████████| 5000/5000 [00:00<00:00, 166665.50it/s]\n",
      "\n",
      "  0%|          | 0/5000 [00:00<?, ?it/s]\u001B[A\n",
      "  0%|          | 10/5000 [00:00<00:50, 98.88it/s]\u001B[A\n",
      "  0%|          | 20/5000 [00:00<00:52, 94.76it/s]\u001B[A\n",
      "  1%|          | 30/5000 [00:01<03:30, 23.66it/s]\u001B[A\n",
      "  2%|▏         | 95/5000 [00:01<00:45, 107.36it/s]\u001B[A\n",
      "  3%|▎         | 159/5000 [00:01<00:25, 192.45it/s]\u001B[A\n",
      "  4%|▍         | 225/5000 [00:01<00:17, 279.11it/s]\u001B[A\n",
      "  6%|▌         | 294/5000 [00:01<00:12, 364.55it/s]\u001B[A\n",
      "  7%|▋         | 361/5000 [00:01<00:10, 432.81it/s]\u001B[A\n",
      "  9%|▊         | 427/5000 [00:01<00:09, 487.98it/s]\u001B[A\n",
      " 10%|▉         | 491/5000 [00:01<00:08, 526.46it/s]\u001B[A\n",
      " 11%|█         | 561/5000 [00:01<00:07, 573.03it/s]\u001B[A\n",
      " 13%|█▎        | 630/5000 [00:01<00:07, 605.30it/s]\u001B[A\n",
      " 14%|█▍        | 698/5000 [00:02<00:06, 626.46it/s]\u001B[A\n",
      " 15%|█▌        | 765/5000 [00:02<00:06, 634.06it/s]\u001B[A\n",
      " 17%|█▋        | 832/5000 [00:02<00:06, 640.85it/s]\u001B[A\n",
      " 18%|█▊        | 900/5000 [00:02<00:06, 648.56it/s]\u001B[A\n",
      " 19%|█▉        | 968/5000 [00:02<00:06, 657.50it/s]\u001B[A\n",
      " 21%|██        | 1035/5000 [00:02<00:06, 654.77it/s]\u001B[A\n",
      " 22%|██▏       | 1102/5000 [00:02<00:06, 646.76it/s]\u001B[A\n",
      " 23%|██▎       | 1168/5000 [00:02<00:05, 639.28it/s]\u001B[A\n",
      " 25%|██▍       | 1233/5000 [00:02<00:05, 638.81it/s]\u001B[A\n",
      " 26%|██▌       | 1298/5000 [00:02<00:05, 624.86it/s]\u001B[A\n",
      " 27%|██▋       | 1362/5000 [00:03<00:05, 627.43it/s]\u001B[A\n",
      " 29%|██▊       | 1432/5000 [00:03<00:05, 647.75it/s]\u001B[A\n",
      " 30%|██▉       | 1497/5000 [00:03<00:05, 645.68it/s]\u001B[A\n",
      " 31%|███       | 1562/5000 [00:03<00:05, 643.06it/s]\u001B[A\n",
      " 33%|███▎      | 1630/5000 [00:03<00:05, 652.70it/s]\u001B[A\n",
      " 34%|███▍      | 1698/5000 [00:03<00:05, 658.84it/s]\u001B[A\n",
      " 35%|███▌      | 1766/5000 [00:03<00:04, 663.15it/s]\u001B[A\n",
      " 37%|███▋      | 1833/5000 [00:03<00:04, 651.64it/s]\u001B[A\n",
      " 38%|███▊      | 1899/5000 [00:03<00:04, 652.17it/s]\u001B[A\n",
      " 39%|███▉      | 1965/5000 [00:03<00:04, 650.36it/s]\u001B[A\n",
      " 41%|████      | 2034/5000 [00:04<00:04, 662.05it/s]\u001B[A\n",
      " 42%|████▏     | 2101/5000 [00:04<00:04, 664.01it/s]\u001B[A\n",
      " 43%|████▎     | 2171/5000 [00:04<00:04, 671.80it/s]\u001B[A\n",
      " 45%|████▍     | 2239/5000 [00:04<00:04, 673.12it/s]\u001B[A\n",
      " 46%|████▌     | 2307/5000 [00:04<00:04, 670.69it/s]\u001B[A\n",
      " 48%|████▊     | 2375/5000 [00:04<00:03, 668.04it/s]\u001B[A\n",
      " 49%|████▉     | 2444/5000 [00:04<00:03, 674.38it/s]\u001B[A\n",
      " 50%|█████     | 2513/5000 [00:04<00:03, 678.47it/s]\u001B[A\n",
      " 52%|█████▏    | 2581/5000 [00:04<00:03, 669.98it/s]\u001B[A\n",
      " 53%|█████▎    | 2650/5000 [00:04<00:03, 673.91it/s]\u001B[A\n",
      " 54%|█████▍    | 2720/5000 [00:05<00:03, 679.63it/s]\u001B[A\n",
      " 56%|█████▌    | 2790/5000 [00:05<00:03, 685.68it/s]\u001B[A\n",
      " 57%|█████▋    | 2860/5000 [00:05<00:03, 687.89it/s]\u001B[A\n",
      " 59%|█████▊    | 2929/5000 [00:05<00:03, 686.48it/s]\u001B[A\n",
      " 60%|█████▉    | 2998/5000 [00:05<00:02, 676.52it/s]\u001B[A\n",
      " 61%|██████▏   | 3066/5000 [00:05<00:02, 677.32it/s]\u001B[A\n",
      " 63%|██████▎   | 3135/5000 [00:05<00:02, 677.07it/s]\u001B[A\n",
      " 64%|██████▍   | 3203/5000 [00:05<00:02, 675.93it/s]\u001B[A\n",
      " 65%|██████▌   | 3271/5000 [00:05<00:02, 677.13it/s]\u001B[A\n",
      " 67%|██████▋   | 3341/5000 [00:05<00:02, 681.92it/s]\u001B[A\n",
      " 68%|██████▊   | 3410/5000 [00:06<00:02, 682.29it/s]\u001B[A\n",
      " 70%|██████▉   | 3480/5000 [00:06<00:02, 685.52it/s]\u001B[A\n",
      " 71%|███████   | 3549/5000 [00:06<00:02, 684.05it/s]\u001B[A\n",
      " 72%|███████▏  | 3618/5000 [00:06<00:02, 685.82it/s]\u001B[A\n",
      " 74%|███████▎  | 3687/5000 [00:06<00:01, 682.99it/s]\u001B[A\n",
      " 75%|███████▌  | 3756/5000 [00:06<00:01, 668.66it/s]\u001B[A\n",
      " 76%|███████▋  | 3823/5000 [00:06<00:01, 665.97it/s]\u001B[A\n",
      " 78%|███████▊  | 3890/5000 [00:06<00:01, 664.72it/s]\u001B[A\n",
      " 79%|███████▉  | 3958/5000 [00:06<00:01, 669.03it/s]\u001B[A\n",
      " 81%|████████  | 4027/5000 [00:07<00:01, 672.15it/s]\u001B[A\n",
      " 82%|████████▏ | 4095/5000 [00:07<00:01, 672.48it/s]\u001B[A\n",
      " 83%|████████▎ | 4163/5000 [00:07<00:01, 671.70it/s]\u001B[A\n",
      " 85%|████████▍ | 4231/5000 [00:07<00:01, 666.10it/s]\u001B[A\n",
      " 86%|████████▌ | 4298/5000 [00:07<00:01, 663.61it/s]\u001B[A\n",
      " 87%|████████▋ | 4366/5000 [00:07<00:00, 668.46it/s]\u001B[A\n",
      " 89%|████████▊ | 4433/5000 [00:07<00:00, 668.74it/s]\u001B[A\n",
      " 90%|█████████ | 4500/5000 [00:07<00:00, 666.49it/s]\u001B[A\n",
      " 91%|█████████▏| 4569/5000 [00:07<00:00, 671.49it/s]\u001B[A\n",
      " 93%|█████████▎| 4637/5000 [00:07<00:00, 672.02it/s]\u001B[A\n",
      " 94%|█████████▍| 4705/5000 [00:08<00:00, 671.82it/s]\u001B[A\n",
      " 95%|█████████▌| 4773/5000 [00:08<00:00, 672.25it/s]\u001B[A\n",
      " 97%|█████████▋| 4841/5000 [00:08<00:00, 674.56it/s]\u001B[A\n",
      " 98%|█████████▊| 4910/5000 [00:08<00:00, 677.15it/s]\u001B[A\n",
      "100%|██████████| 5000/5000 [00:08<00:00, 590.95it/s]\u001B[A\n"
     ]
    },
    {
     "name": "stdout",
     "output_type": "stream",
     "text": [
      "[I 2023-12-10 16:39:19,281] Trial 0 finished with value: 0.6851436042564666 and parameters: {}. Best is trial 0 with value: 0.6851436042564666.\n"
     ]
    }
   ],
   "source": [
    "node_type = \"S\"\n",
    "size_elem = 10\n",
    "n_trials = 1\n",
    "normalized = True\n",
    "study = optuna.create_study(study_name=f\"Study node type {node_type}, normalized: {normalized}\", directions=['maximize'])\n",
    "study.optimize(objective, n_trials=n_trials, show_progress_bar=True)"
   ],
   "metadata": {
    "collapsed": false,
    "ExecuteTime": {
     "start_time": "2023-12-10T16:38:37.642748Z",
     "end_time": "2023-12-10T16:39:19.288859Z"
    }
   }
  },
  {
   "cell_type": "code",
   "execution_count": null,
   "outputs": [],
   "source": [
    "study.trials_dataframe().to_csv(f\"single-node_t-{node_type}_n-{size_elem}_normalized-{normalized}\")"
   ],
   "metadata": {
    "collapsed": false
   }
  },
  {
   "cell_type": "markdown",
   "source": [
    "### Q"
   ],
   "metadata": {
    "collapsed": false
   }
  },
  {
   "cell_type": "code",
   "execution_count": 10,
   "outputs": [
    {
     "name": "stderr",
     "output_type": "stream",
     "text": [
      "[I 2023-12-10 16:22:32,155] A new study created in memory with name: Study node type S, normalized: True\n"
     ]
    },
    {
     "data": {
      "text/plain": "  0%|          | 0/1 [00:00<?, ?it/s]",
      "application/vnd.jupyter.widget-view+json": {
       "version_major": 2,
       "version_minor": 0,
       "model_id": "b987fe8453464842ad02745b326ddecf"
      }
     },
     "metadata": {},
     "output_type": "display_data"
    },
    {
     "name": "stdout",
     "output_type": "stream",
     "text": [
      "[I 2023-12-10 16:23:34,763] Trial 0 finished with value: 0.7580406634944465 and parameters: {}. Best is trial 0 with value: 0.7580406634944465.\n"
     ]
    }
   ],
   "source": [
    "node_type = \"Q\"\n",
    "size_elem = 10\n",
    "n_trials = 1\n",
    "normalized = False\n",
    "study = optuna.create_study(study_name=f\"Study node type {node_type}, normalized: {normalized}\", directions=['maximize'])\n",
    "study.optimize(objective, n_trials=n_trials, show_progress_bar=True)"
   ],
   "metadata": {
    "collapsed": false
   }
  },
  {
   "cell_type": "code",
   "execution_count": null,
   "outputs": [],
   "source": [
    "study.trials_dataframe().to_csv(f\"single-node_t-{node_type}_n-{size_elem}_normalized-{normalized}\")"
   ],
   "metadata": {
    "collapsed": false
   }
  },
  {
   "cell_type": "code",
   "execution_count": 5,
   "outputs": [
    {
     "name": "stderr",
     "output_type": "stream",
     "text": [
      "[I 2023-12-10 16:44:51,891] A new study created in memory with name: Study node type Q, normalized: True\n"
     ]
    },
    {
     "data": {
      "text/plain": "  0%|          | 0/1 [00:00<?, ?it/s]",
      "application/vnd.jupyter.widget-view+json": {
       "version_major": 2,
       "version_minor": 0,
       "model_id": "4b104d32a16447d48ffb0b4715cfe116"
      }
     },
     "metadata": {},
     "output_type": "display_data"
    },
    {
     "name": "stderr",
     "output_type": "stream",
     "text": [
      "\n",
      "100%|██████████| 10000/10000 [00:00<00:00, 140849.13it/s]\n",
      "\n",
      "  0%|          | 0/10000 [00:00<?, ?it/s]\u001B[A\n",
      "  0%|          | 12/10000 [00:00<01:31, 109.09it/s]\u001B[A\n",
      "  0%|          | 23/10000 [00:00<04:00, 41.45it/s] \u001B[A\n",
      "  1%|          | 59/10000 [00:00<01:25, 115.68it/s]\u001B[A\n",
      "  1%|▏         | 127/10000 [00:00<00:38, 255.48it/s]\u001B[A\n",
      "  2%|▏         | 195/10000 [00:00<00:26, 366.37it/s]\u001B[A\n",
      "  3%|▎         | 264/10000 [00:00<00:21, 454.38it/s]\u001B[A\n",
      "  3%|▎         | 333/10000 [00:01<00:18, 517.45it/s]\u001B[A\n",
      "  4%|▍         | 402/10000 [00:01<00:16, 566.21it/s]\u001B[A\n",
      "  5%|▍         | 470/10000 [00:01<00:15, 599.04it/s]\u001B[A\n",
      "  5%|▌         | 537/10000 [00:01<00:15, 617.97it/s]\u001B[A\n",
      "  6%|▌         | 604/10000 [00:01<00:14, 630.77it/s]\u001B[A\n",
      "  7%|▋         | 672/10000 [00:01<00:14, 643.02it/s]\u001B[A\n",
      "  7%|▋         | 739/10000 [00:01<00:14, 650.55it/s]\u001B[A\n",
      "  8%|▊         | 806/10000 [00:01<00:14, 656.32it/s]\u001B[A\n",
      "  9%|▊         | 873/10000 [00:01<00:13, 656.49it/s]\u001B[A\n",
      "  9%|▉         | 941/10000 [00:01<00:13, 659.55it/s]\u001B[A\n",
      " 10%|█         | 1008/10000 [00:02<00:13, 652.96it/s]\u001B[A\n",
      " 11%|█         | 1074/10000 [00:02<00:13, 653.50it/s]\u001B[A\n",
      " 11%|█▏        | 1142/10000 [00:02<00:13, 659.39it/s]\u001B[A\n",
      " 12%|█▏        | 1209/10000 [00:02<00:13, 650.43it/s]\u001B[A\n",
      " 13%|█▎        | 1275/10000 [00:02<00:13, 649.67it/s]\u001B[A\n",
      " 13%|█▎        | 1341/10000 [00:02<00:13, 640.40it/s]\u001B[A\n",
      " 14%|█▍        | 1408/10000 [00:02<00:13, 646.36it/s]\u001B[A\n",
      " 15%|█▍        | 1477/10000 [00:02<00:12, 659.17it/s]\u001B[A\n",
      " 15%|█▌        | 1545/10000 [00:02<00:12, 664.35it/s]\u001B[A\n",
      " 16%|█▌        | 1614/10000 [00:02<00:12, 669.97it/s]\u001B[A\n",
      " 17%|█▋        | 1682/10000 [00:03<00:12, 667.01it/s]\u001B[A\n",
      " 18%|█▊        | 1752/10000 [00:03<00:12, 673.07it/s]\u001B[A\n",
      " 18%|█▊        | 1821/10000 [00:03<00:12, 676.08it/s]\u001B[A\n",
      " 19%|█▉        | 1889/10000 [00:03<00:12, 672.68it/s]\u001B[A\n",
      " 20%|█▉        | 1958/10000 [00:03<00:11, 674.93it/s]\u001B[A\n",
      " 20%|██        | 2026/10000 [00:03<00:11, 674.14it/s]\u001B[A\n",
      " 21%|██        | 2094/10000 [00:03<00:11, 675.24it/s]\u001B[A\n",
      " 22%|██▏       | 2163/10000 [00:03<00:11, 679.62it/s]\u001B[A\n",
      " 22%|██▏       | 2231/10000 [00:03<00:11, 677.42it/s]\u001B[A\n",
      " 23%|██▎       | 2299/10000 [00:03<00:11, 678.18it/s]\u001B[A\n",
      " 24%|██▎       | 2367/10000 [00:04<00:11, 676.69it/s]\u001B[A\n",
      " 24%|██▍       | 2435/10000 [00:04<00:11, 675.49it/s]\u001B[A\n",
      " 25%|██▌       | 2503/10000 [00:04<00:11, 672.82it/s]\u001B[A\n",
      " 26%|██▌       | 2571/10000 [00:04<00:11, 674.73it/s]\u001B[A\n",
      " 26%|██▋       | 2640/10000 [00:04<00:10, 679.28it/s]\u001B[A\n",
      " 27%|██▋       | 2708/10000 [00:04<00:10, 679.22it/s]\u001B[A\n",
      " 28%|██▊       | 2776/10000 [00:04<00:10, 671.42it/s]\u001B[A\n",
      " 28%|██▊       | 2845/10000 [00:04<00:10, 674.63it/s]\u001B[A\n",
      " 29%|██▉       | 2914/10000 [00:04<00:10, 675.18it/s]\u001B[A\n",
      " 30%|██▉       | 2983/10000 [00:04<00:10, 677.57it/s]\u001B[A\n",
      " 31%|███       | 3052/10000 [00:05<00:10, 677.24it/s]\u001B[A\n",
      " 31%|███       | 3121/10000 [00:05<00:10, 679.01it/s]\u001B[A\n",
      " 32%|███▏      | 3189/10000 [00:05<00:10, 671.33it/s]\u001B[A\n",
      " 33%|███▎      | 3257/10000 [00:05<00:10, 673.89it/s]\u001B[A\n",
      " 33%|███▎      | 3327/10000 [00:05<00:09, 678.59it/s]\u001B[A\n",
      " 34%|███▍      | 3395/10000 [00:05<00:09, 677.00it/s]\u001B[A\n",
      " 35%|███▍      | 3463/10000 [00:05<00:09, 677.89it/s]\u001B[A\n",
      " 35%|███▌      | 3531/10000 [00:05<00:09, 674.50it/s]\u001B[A\n",
      " 36%|███▌      | 3599/10000 [00:05<00:09, 675.75it/s]\u001B[A\n",
      " 37%|███▋      | 3668/10000 [00:05<00:09, 675.97it/s]\u001B[A\n",
      " 37%|███▋      | 3738/10000 [00:06<00:09, 681.09it/s]\u001B[A\n",
      " 38%|███▊      | 3807/10000 [00:06<00:09, 683.40it/s]\u001B[A\n",
      " 39%|███▉      | 3876/10000 [00:06<00:08, 681.31it/s]\u001B[A\n",
      " 39%|███▉      | 3945/10000 [00:06<00:08, 679.85it/s]\u001B[A\n",
      " 40%|████      | 4014/10000 [00:06<00:08, 678.83it/s]\u001B[A\n",
      " 41%|████      | 4082/10000 [00:06<00:08, 675.17it/s]\u001B[A\n",
      " 42%|████▏     | 4150/10000 [00:06<00:08, 676.60it/s]\u001B[A\n",
      " 42%|████▏     | 4218/10000 [00:06<00:08, 669.64it/s]\u001B[A\n",
      " 43%|████▎     | 4286/10000 [00:06<00:08, 668.75it/s]\u001B[A\n",
      " 44%|████▎     | 4355/10000 [00:06<00:08, 673.05it/s]\u001B[A\n",
      " 44%|████▍     | 4424/10000 [00:07<00:08, 676.07it/s]\u001B[A\n",
      " 45%|████▍     | 4492/10000 [00:07<00:08, 672.61it/s]\u001B[A\n",
      " 46%|████▌     | 4560/10000 [00:07<00:08, 672.80it/s]\u001B[A\n",
      " 46%|████▋     | 4629/10000 [00:07<00:07, 675.90it/s]\u001B[A\n",
      " 47%|████▋     | 4697/10000 [00:07<00:07, 670.90it/s]\u001B[A\n",
      " 48%|████▊     | 4766/10000 [00:07<00:07, 672.57it/s]\u001B[A\n",
      " 48%|████▊     | 4835/10000 [00:07<00:07, 675.30it/s]\u001B[A\n",
      " 49%|████▉     | 4903/10000 [00:07<00:07, 666.92it/s]\u001B[A\n",
      " 50%|████▉     | 4970/10000 [00:07<00:07, 660.29it/s]\u001B[A\n",
      " 50%|█████     | 5037/10000 [00:08<00:07, 649.79it/s]\u001B[A\n",
      " 51%|█████     | 5106/10000 [00:08<00:07, 661.19it/s]\u001B[A\n",
      " 52%|█████▏    | 5175/10000 [00:08<00:07, 665.75it/s]\u001B[A\n",
      " 52%|█████▏    | 5243/10000 [00:08<00:07, 667.89it/s]\u001B[A\n",
      " 53%|█████▎    | 5312/10000 [00:08<00:06, 672.43it/s]\u001B[A\n",
      " 54%|█████▍    | 5380/10000 [00:08<00:06, 672.01it/s]\u001B[A\n",
      " 54%|█████▍    | 5448/10000 [00:08<00:06, 662.09it/s]\u001B[A\n",
      " 55%|█████▌    | 5515/10000 [00:08<00:06, 662.47it/s]\u001B[A\n",
      " 56%|█████▌    | 5582/10000 [00:08<00:06, 649.29it/s]\u001B[A\n",
      " 56%|█████▋    | 5647/10000 [00:08<00:07, 565.85it/s]\u001B[A\n",
      " 57%|█████▋    | 5716/10000 [00:09<00:07, 597.32it/s]\u001B[A\n",
      " 58%|█████▊    | 5784/10000 [00:09<00:06, 620.06it/s]\u001B[A\n",
      " 59%|█████▊    | 5851/10000 [00:09<00:06, 633.58it/s]\u001B[A\n",
      " 59%|█████▉    | 5918/10000 [00:09<00:06, 644.03it/s]\u001B[A\n",
      " 60%|█████▉    | 5985/10000 [00:09<00:06, 651.20it/s]\u001B[A\n",
      " 61%|██████    | 6054/10000 [00:09<00:05, 660.64it/s]\u001B[A\n",
      " 61%|██████    | 6121/10000 [00:09<00:05, 659.19it/s]\u001B[A\n",
      " 62%|██████▏   | 6189/10000 [00:09<00:05, 665.06it/s]\u001B[A\n",
      " 63%|██████▎   | 6256/10000 [00:09<00:05, 664.04it/s]\u001B[A\n",
      " 63%|██████▎   | 6323/10000 [00:09<00:05, 663.23it/s]\u001B[A\n",
      " 64%|██████▍   | 6391/10000 [00:10<00:05, 667.59it/s]\u001B[A\n",
      " 65%|██████▍   | 6458/10000 [00:10<00:05, 666.32it/s]\u001B[A\n",
      " 65%|██████▌   | 6526/10000 [00:10<00:05, 667.56it/s]\u001B[A\n",
      " 66%|██████▌   | 6594/10000 [00:10<00:05, 671.26it/s]\u001B[A\n",
      " 67%|██████▋   | 6662/10000 [00:10<00:04, 669.87it/s]\u001B[A\n",
      " 67%|██████▋   | 6730/10000 [00:10<00:04, 666.93it/s]\u001B[A\n",
      " 68%|██████▊   | 6797/10000 [00:10<00:04, 665.87it/s]\u001B[A\n",
      " 69%|██████▊   | 6864/10000 [00:10<00:04, 665.12it/s]\u001B[A\n",
      " 69%|██████▉   | 6933/10000 [00:10<00:04, 668.54it/s]\u001B[A\n",
      " 70%|███████   | 7000/10000 [00:11<00:04, 667.00it/s]\u001B[A\n",
      " 71%|███████   | 7067/10000 [00:11<00:04, 665.27it/s]\u001B[A\n",
      " 71%|███████▏  | 7135/10000 [00:11<00:04, 669.62it/s]\u001B[A\n",
      " 72%|███████▏  | 7203/10000 [00:11<00:04, 670.69it/s]\u001B[A\n",
      " 73%|███████▎  | 7273/10000 [00:11<00:04, 677.40it/s]\u001B[A\n",
      " 73%|███████▎  | 7341/10000 [00:11<00:03, 665.51it/s]\u001B[A\n",
      " 74%|███████▍  | 7408/10000 [00:11<00:03, 662.90it/s]\u001B[A\n",
      " 75%|███████▍  | 7476/10000 [00:11<00:03, 665.98it/s]\u001B[A\n",
      " 75%|███████▌  | 7543/10000 [00:11<00:03, 664.82it/s]\u001B[A\n",
      " 76%|███████▌  | 7612/10000 [00:11<00:03, 670.30it/s]\u001B[A\n",
      " 77%|███████▋  | 7680/10000 [00:12<00:03, 666.72it/s]\u001B[A\n",
      " 77%|███████▋  | 7747/10000 [00:12<00:03, 664.60it/s]\u001B[A\n",
      " 78%|███████▊  | 7815/10000 [00:12<00:03, 667.18it/s]\u001B[A\n",
      " 79%|███████▉  | 7883/10000 [00:12<00:03, 670.79it/s]\u001B[A\n",
      " 80%|███████▉  | 7951/10000 [00:12<00:03, 663.66it/s]\u001B[A\n",
      " 80%|████████  | 8018/10000 [00:12<00:02, 661.62it/s]\u001B[A\n",
      " 81%|████████  | 8086/10000 [00:12<00:02, 665.09it/s]\u001B[A\n",
      " 82%|████████▏ | 8154/10000 [00:12<00:02, 665.56it/s]\u001B[A\n",
      " 82%|████████▏ | 8221/10000 [00:12<00:02, 662.72it/s]\u001B[A\n",
      " 83%|████████▎ | 8288/10000 [00:12<00:02, 662.91it/s]\u001B[A\n",
      " 84%|████████▎ | 8356/10000 [00:13<00:02, 667.48it/s]\u001B[A\n",
      " 84%|████████▍ | 8423/10000 [00:13<00:02, 663.65it/s]\u001B[A\n",
      " 85%|████████▍ | 8491/10000 [00:13<00:02, 668.01it/s]\u001B[A\n",
      " 86%|████████▌ | 8558/10000 [00:13<00:02, 666.18it/s]\u001B[A\n",
      " 86%|████████▋ | 8626/10000 [00:13<00:02, 670.29it/s]\u001B[A\n",
      " 87%|████████▋ | 8694/10000 [00:13<00:01, 668.32it/s]\u001B[A\n",
      " 88%|████████▊ | 8761/10000 [00:13<00:01, 666.83it/s]\u001B[A\n",
      " 88%|████████▊ | 8829/10000 [00:13<00:01, 670.75it/s]\u001B[A\n",
      " 89%|████████▉ | 8897/10000 [00:13<00:01, 667.54it/s]\u001B[A\n",
      " 90%|████████▉ | 8964/10000 [00:13<00:01, 668.27it/s]\u001B[A\n",
      " 90%|█████████ | 9033/10000 [00:14<00:01, 671.90it/s]\u001B[A\n",
      " 91%|█████████ | 9101/10000 [00:14<00:01, 669.86it/s]\u001B[A\n",
      " 92%|█████████▏| 9168/10000 [00:14<00:01, 662.76it/s]\u001B[A\n",
      " 92%|█████████▏| 9235/10000 [00:14<00:01, 661.80it/s]\u001B[A\n",
      " 93%|█████████▎| 9303/10000 [00:14<00:01, 665.22it/s]\u001B[A\n",
      " 94%|█████████▎| 9371/10000 [00:14<00:00, 667.24it/s]\u001B[A\n",
      " 94%|█████████▍| 9439/10000 [00:14<00:00, 669.05it/s]\u001B[A\n",
      " 95%|█████████▌| 9508/10000 [00:14<00:00, 672.27it/s]\u001B[A\n",
      " 96%|█████████▌| 9576/10000 [00:14<00:00, 672.45it/s]\u001B[A\n",
      " 96%|█████████▋| 9644/10000 [00:14<00:00, 672.69it/s]\u001B[A\n",
      " 97%|█████████▋| 9713/10000 [00:15<00:00, 675.83it/s]\u001B[A\n",
      " 98%|█████████▊| 9781/10000 [00:15<00:00, 672.41it/s]\u001B[A\n",
      " 98%|█████████▊| 9849/10000 [00:15<00:00, 661.92it/s]\u001B[A\n",
      " 99%|█████████▉| 9916/10000 [00:15<00:00, 659.51it/s]\u001B[A\n",
      "100%|██████████| 10000/10000 [00:15<00:00, 644.45it/s][A\n"
     ]
    },
    {
     "name": "stdout",
     "output_type": "stream",
     "text": [
      "[W 2023-12-10 16:45:10,966] Trial 0 failed with parameters: {'hidden_dim': 288, 'k': 5, 'learning_rate': 0.0010602539173998138, 'batcher': False} because of the following error: KeyboardInterrupt().\n",
      "Traceback (most recent call last):\n",
      "  File \"C:\\Users\\johan\\anaconda3\\envs\\P2\\lib\\site-packages\\optuna\\study\\_optimize.py\", line 200, in _run_trial\n",
      "    value_or_values = func(trial)\n",
      "  File \"C:\\Users\\johan\\AppData\\Local\\Temp\\ipykernel_31488\\1852015164.py\", line 89, in objective\n",
      "    _, _, _ = train_epoch(\n",
      "  File \"D:\\DATEN\\P2_EquivariantTreeNN\\etnn\\tools\\training.py\", line 47, in train_epoch\n",
      "    prediction = model(batch_data).flatten()\n",
      "  File \"C:\\Users\\johan\\anaconda3\\envs\\P2\\lib\\site-packages\\torch\\nn\\modules\\module.py\", line 1518, in _wrapped_call_impl\n",
      "    return self._call_impl(*args, **kwargs)\n",
      "  File \"C:\\Users\\johan\\anaconda3\\envs\\P2\\lib\\site-packages\\torch\\nn\\modules\\module.py\", line 1527, in _call_impl\n",
      "    return forward_call(*args, **kwargs)\n",
      "  File \"D:\\DATEN\\P2_EquivariantTreeNN\\etnn\\nn\\layer_framework.py\", line 118, in forward\n",
      "    embedded_x = self.embedding_layer(x)\n",
      "  File \"C:\\Users\\johan\\anaconda3\\envs\\P2\\lib\\site-packages\\torch\\nn\\modules\\module.py\", line 1518, in _wrapped_call_impl\n",
      "    return self._call_impl(*args, **kwargs)\n",
      "  File \"C:\\Users\\johan\\anaconda3\\envs\\P2\\lib\\site-packages\\torch\\nn\\modules\\module.py\", line 1527, in _call_impl\n",
      "    return forward_call(*args, **kwargs)\n",
      "  File \"C:\\Users\\johan\\anaconda3\\envs\\P2\\lib\\site-packages\\torch\\nn\\modules\\linear.py\", line 114, in forward\n",
      "    return F.linear(input, self.weight, self.bias)\n",
      "KeyboardInterrupt\n",
      "[W 2023-12-10 16:45:10,982] Trial 0 failed with value None.\n"
     ]
    },
    {
     "ename": "KeyboardInterrupt",
     "evalue": "",
     "output_type": "error",
     "traceback": [
      "\u001B[1;31m---------------------------------------------------------------------------\u001B[0m",
      "\u001B[1;31mKeyboardInterrupt\u001B[0m                         Traceback (most recent call last)",
      "Cell \u001B[1;32mIn[5], line 6\u001B[0m\n\u001B[0;32m      4\u001B[0m normalized \u001B[38;5;241m=\u001B[39m \u001B[38;5;28;01mTrue\u001B[39;00m\n\u001B[0;32m      5\u001B[0m study \u001B[38;5;241m=\u001B[39m optuna\u001B[38;5;241m.\u001B[39mcreate_study(study_name\u001B[38;5;241m=\u001B[39m\u001B[38;5;124mf\u001B[39m\u001B[38;5;124m\"\u001B[39m\u001B[38;5;124mStudy node type \u001B[39m\u001B[38;5;132;01m{\u001B[39;00mnode_type\u001B[38;5;132;01m}\u001B[39;00m\u001B[38;5;124m, normalized: \u001B[39m\u001B[38;5;132;01m{\u001B[39;00mnormalized\u001B[38;5;132;01m}\u001B[39;00m\u001B[38;5;124m\"\u001B[39m, directions\u001B[38;5;241m=\u001B[39m[\u001B[38;5;124m'\u001B[39m\u001B[38;5;124mmaximize\u001B[39m\u001B[38;5;124m'\u001B[39m])\n\u001B[1;32m----> 6\u001B[0m \u001B[43mstudy\u001B[49m\u001B[38;5;241;43m.\u001B[39;49m\u001B[43moptimize\u001B[49m\u001B[43m(\u001B[49m\u001B[43mobjective\u001B[49m\u001B[43m,\u001B[49m\u001B[43m \u001B[49m\u001B[43mn_trials\u001B[49m\u001B[38;5;241;43m=\u001B[39;49m\u001B[43mn_trials\u001B[49m\u001B[43m,\u001B[49m\u001B[43m \u001B[49m\u001B[43mshow_progress_bar\u001B[49m\u001B[38;5;241;43m=\u001B[39;49m\u001B[38;5;28;43;01mTrue\u001B[39;49;00m\u001B[43m)\u001B[49m\n",
      "File \u001B[1;32m~\\anaconda3\\envs\\P2\\lib\\site-packages\\optuna\\study\\study.py:451\u001B[0m, in \u001B[0;36mStudy.optimize\u001B[1;34m(self, func, n_trials, timeout, n_jobs, catch, callbacks, gc_after_trial, show_progress_bar)\u001B[0m\n\u001B[0;32m    348\u001B[0m \u001B[38;5;28;01mdef\u001B[39;00m \u001B[38;5;21moptimize\u001B[39m(\n\u001B[0;32m    349\u001B[0m     \u001B[38;5;28mself\u001B[39m,\n\u001B[0;32m    350\u001B[0m     func: ObjectiveFuncType,\n\u001B[1;32m   (...)\u001B[0m\n\u001B[0;32m    357\u001B[0m     show_progress_bar: \u001B[38;5;28mbool\u001B[39m \u001B[38;5;241m=\u001B[39m \u001B[38;5;28;01mFalse\u001B[39;00m,\n\u001B[0;32m    358\u001B[0m ) \u001B[38;5;241m-\u001B[39m\u001B[38;5;241m>\u001B[39m \u001B[38;5;28;01mNone\u001B[39;00m:\n\u001B[0;32m    359\u001B[0m \u001B[38;5;250m    \u001B[39m\u001B[38;5;124;03m\"\"\"Optimize an objective function.\u001B[39;00m\n\u001B[0;32m    360\u001B[0m \n\u001B[0;32m    361\u001B[0m \u001B[38;5;124;03m    Optimization is done by choosing a suitable set of hyperparameter values from a given\u001B[39;00m\n\u001B[1;32m   (...)\u001B[0m\n\u001B[0;32m    449\u001B[0m \u001B[38;5;124;03m            If nested invocation of this method occurs.\u001B[39;00m\n\u001B[0;32m    450\u001B[0m \u001B[38;5;124;03m    \"\"\"\u001B[39;00m\n\u001B[1;32m--> 451\u001B[0m     \u001B[43m_optimize\u001B[49m\u001B[43m(\u001B[49m\n\u001B[0;32m    452\u001B[0m \u001B[43m        \u001B[49m\u001B[43mstudy\u001B[49m\u001B[38;5;241;43m=\u001B[39;49m\u001B[38;5;28;43mself\u001B[39;49m\u001B[43m,\u001B[49m\n\u001B[0;32m    453\u001B[0m \u001B[43m        \u001B[49m\u001B[43mfunc\u001B[49m\u001B[38;5;241;43m=\u001B[39;49m\u001B[43mfunc\u001B[49m\u001B[43m,\u001B[49m\n\u001B[0;32m    454\u001B[0m \u001B[43m        \u001B[49m\u001B[43mn_trials\u001B[49m\u001B[38;5;241;43m=\u001B[39;49m\u001B[43mn_trials\u001B[49m\u001B[43m,\u001B[49m\n\u001B[0;32m    455\u001B[0m \u001B[43m        \u001B[49m\u001B[43mtimeout\u001B[49m\u001B[38;5;241;43m=\u001B[39;49m\u001B[43mtimeout\u001B[49m\u001B[43m,\u001B[49m\n\u001B[0;32m    456\u001B[0m \u001B[43m        \u001B[49m\u001B[43mn_jobs\u001B[49m\u001B[38;5;241;43m=\u001B[39;49m\u001B[43mn_jobs\u001B[49m\u001B[43m,\u001B[49m\n\u001B[0;32m    457\u001B[0m \u001B[43m        \u001B[49m\u001B[43mcatch\u001B[49m\u001B[38;5;241;43m=\u001B[39;49m\u001B[38;5;28;43mtuple\u001B[39;49m\u001B[43m(\u001B[49m\u001B[43mcatch\u001B[49m\u001B[43m)\u001B[49m\u001B[43m \u001B[49m\u001B[38;5;28;43;01mif\u001B[39;49;00m\u001B[43m \u001B[49m\u001B[38;5;28;43misinstance\u001B[39;49m\u001B[43m(\u001B[49m\u001B[43mcatch\u001B[49m\u001B[43m,\u001B[49m\u001B[43m \u001B[49m\u001B[43mIterable\u001B[49m\u001B[43m)\u001B[49m\u001B[43m \u001B[49m\u001B[38;5;28;43;01melse\u001B[39;49;00m\u001B[43m \u001B[49m\u001B[43m(\u001B[49m\u001B[43mcatch\u001B[49m\u001B[43m,\u001B[49m\u001B[43m)\u001B[49m\u001B[43m,\u001B[49m\n\u001B[0;32m    458\u001B[0m \u001B[43m        \u001B[49m\u001B[43mcallbacks\u001B[49m\u001B[38;5;241;43m=\u001B[39;49m\u001B[43mcallbacks\u001B[49m\u001B[43m,\u001B[49m\n\u001B[0;32m    459\u001B[0m \u001B[43m        \u001B[49m\u001B[43mgc_after_trial\u001B[49m\u001B[38;5;241;43m=\u001B[39;49m\u001B[43mgc_after_trial\u001B[49m\u001B[43m,\u001B[49m\n\u001B[0;32m    460\u001B[0m \u001B[43m        \u001B[49m\u001B[43mshow_progress_bar\u001B[49m\u001B[38;5;241;43m=\u001B[39;49m\u001B[43mshow_progress_bar\u001B[49m\u001B[43m,\u001B[49m\n\u001B[0;32m    461\u001B[0m \u001B[43m    \u001B[49m\u001B[43m)\u001B[49m\n",
      "File \u001B[1;32m~\\anaconda3\\envs\\P2\\lib\\site-packages\\optuna\\study\\_optimize.py:66\u001B[0m, in \u001B[0;36m_optimize\u001B[1;34m(study, func, n_trials, timeout, n_jobs, catch, callbacks, gc_after_trial, show_progress_bar)\u001B[0m\n\u001B[0;32m     64\u001B[0m \u001B[38;5;28;01mtry\u001B[39;00m:\n\u001B[0;32m     65\u001B[0m     \u001B[38;5;28;01mif\u001B[39;00m n_jobs \u001B[38;5;241m==\u001B[39m \u001B[38;5;241m1\u001B[39m:\n\u001B[1;32m---> 66\u001B[0m         \u001B[43m_optimize_sequential\u001B[49m\u001B[43m(\u001B[49m\n\u001B[0;32m     67\u001B[0m \u001B[43m            \u001B[49m\u001B[43mstudy\u001B[49m\u001B[43m,\u001B[49m\n\u001B[0;32m     68\u001B[0m \u001B[43m            \u001B[49m\u001B[43mfunc\u001B[49m\u001B[43m,\u001B[49m\n\u001B[0;32m     69\u001B[0m \u001B[43m            \u001B[49m\u001B[43mn_trials\u001B[49m\u001B[43m,\u001B[49m\n\u001B[0;32m     70\u001B[0m \u001B[43m            \u001B[49m\u001B[43mtimeout\u001B[49m\u001B[43m,\u001B[49m\n\u001B[0;32m     71\u001B[0m \u001B[43m            \u001B[49m\u001B[43mcatch\u001B[49m\u001B[43m,\u001B[49m\n\u001B[0;32m     72\u001B[0m \u001B[43m            \u001B[49m\u001B[43mcallbacks\u001B[49m\u001B[43m,\u001B[49m\n\u001B[0;32m     73\u001B[0m \u001B[43m            \u001B[49m\u001B[43mgc_after_trial\u001B[49m\u001B[43m,\u001B[49m\n\u001B[0;32m     74\u001B[0m \u001B[43m            \u001B[49m\u001B[43mreseed_sampler_rng\u001B[49m\u001B[38;5;241;43m=\u001B[39;49m\u001B[38;5;28;43;01mFalse\u001B[39;49;00m\u001B[43m,\u001B[49m\n\u001B[0;32m     75\u001B[0m \u001B[43m            \u001B[49m\u001B[43mtime_start\u001B[49m\u001B[38;5;241;43m=\u001B[39;49m\u001B[38;5;28;43;01mNone\u001B[39;49;00m\u001B[43m,\u001B[49m\n\u001B[0;32m     76\u001B[0m \u001B[43m            \u001B[49m\u001B[43mprogress_bar\u001B[49m\u001B[38;5;241;43m=\u001B[39;49m\u001B[43mprogress_bar\u001B[49m\u001B[43m,\u001B[49m\n\u001B[0;32m     77\u001B[0m \u001B[43m        \u001B[49m\u001B[43m)\u001B[49m\n\u001B[0;32m     78\u001B[0m     \u001B[38;5;28;01melse\u001B[39;00m:\n\u001B[0;32m     79\u001B[0m         \u001B[38;5;28;01mif\u001B[39;00m n_jobs \u001B[38;5;241m==\u001B[39m \u001B[38;5;241m-\u001B[39m\u001B[38;5;241m1\u001B[39m:\n",
      "File \u001B[1;32m~\\anaconda3\\envs\\P2\\lib\\site-packages\\optuna\\study\\_optimize.py:163\u001B[0m, in \u001B[0;36m_optimize_sequential\u001B[1;34m(study, func, n_trials, timeout, catch, callbacks, gc_after_trial, reseed_sampler_rng, time_start, progress_bar)\u001B[0m\n\u001B[0;32m    160\u001B[0m         \u001B[38;5;28;01mbreak\u001B[39;00m\n\u001B[0;32m    162\u001B[0m \u001B[38;5;28;01mtry\u001B[39;00m:\n\u001B[1;32m--> 163\u001B[0m     frozen_trial \u001B[38;5;241m=\u001B[39m \u001B[43m_run_trial\u001B[49m\u001B[43m(\u001B[49m\u001B[43mstudy\u001B[49m\u001B[43m,\u001B[49m\u001B[43m \u001B[49m\u001B[43mfunc\u001B[49m\u001B[43m,\u001B[49m\u001B[43m \u001B[49m\u001B[43mcatch\u001B[49m\u001B[43m)\u001B[49m\n\u001B[0;32m    164\u001B[0m \u001B[38;5;28;01mfinally\u001B[39;00m:\n\u001B[0;32m    165\u001B[0m     \u001B[38;5;66;03m# The following line mitigates memory problems that can be occurred in some\u001B[39;00m\n\u001B[0;32m    166\u001B[0m     \u001B[38;5;66;03m# environments (e.g., services that use computing containers such as GitHub Actions).\u001B[39;00m\n\u001B[0;32m    167\u001B[0m     \u001B[38;5;66;03m# Please refer to the following PR for further details:\u001B[39;00m\n\u001B[0;32m    168\u001B[0m     \u001B[38;5;66;03m# https://github.com/optuna/optuna/pull/325.\u001B[39;00m\n\u001B[0;32m    169\u001B[0m     \u001B[38;5;28;01mif\u001B[39;00m gc_after_trial:\n",
      "File \u001B[1;32m~\\anaconda3\\envs\\P2\\lib\\site-packages\\optuna\\study\\_optimize.py:251\u001B[0m, in \u001B[0;36m_run_trial\u001B[1;34m(study, func, catch)\u001B[0m\n\u001B[0;32m    244\u001B[0m         \u001B[38;5;28;01massert\u001B[39;00m \u001B[38;5;28;01mFalse\u001B[39;00m, \u001B[38;5;124m\"\u001B[39m\u001B[38;5;124mShould not reach.\u001B[39m\u001B[38;5;124m\"\u001B[39m\n\u001B[0;32m    246\u001B[0m \u001B[38;5;28;01mif\u001B[39;00m (\n\u001B[0;32m    247\u001B[0m     frozen_trial\u001B[38;5;241m.\u001B[39mstate \u001B[38;5;241m==\u001B[39m TrialState\u001B[38;5;241m.\u001B[39mFAIL\n\u001B[0;32m    248\u001B[0m     \u001B[38;5;129;01mand\u001B[39;00m func_err \u001B[38;5;129;01mis\u001B[39;00m \u001B[38;5;129;01mnot\u001B[39;00m \u001B[38;5;28;01mNone\u001B[39;00m\n\u001B[0;32m    249\u001B[0m     \u001B[38;5;129;01mand\u001B[39;00m \u001B[38;5;129;01mnot\u001B[39;00m \u001B[38;5;28misinstance\u001B[39m(func_err, catch)\n\u001B[0;32m    250\u001B[0m ):\n\u001B[1;32m--> 251\u001B[0m     \u001B[38;5;28;01mraise\u001B[39;00m func_err\n\u001B[0;32m    252\u001B[0m \u001B[38;5;28;01mreturn\u001B[39;00m frozen_trial\n",
      "File \u001B[1;32m~\\anaconda3\\envs\\P2\\lib\\site-packages\\optuna\\study\\_optimize.py:200\u001B[0m, in \u001B[0;36m_run_trial\u001B[1;34m(study, func, catch)\u001B[0m\n\u001B[0;32m    198\u001B[0m \u001B[38;5;28;01mwith\u001B[39;00m get_heartbeat_thread(trial\u001B[38;5;241m.\u001B[39m_trial_id, study\u001B[38;5;241m.\u001B[39m_storage):\n\u001B[0;32m    199\u001B[0m     \u001B[38;5;28;01mtry\u001B[39;00m:\n\u001B[1;32m--> 200\u001B[0m         value_or_values \u001B[38;5;241m=\u001B[39m \u001B[43mfunc\u001B[49m\u001B[43m(\u001B[49m\u001B[43mtrial\u001B[49m\u001B[43m)\u001B[49m\n\u001B[0;32m    201\u001B[0m     \u001B[38;5;28;01mexcept\u001B[39;00m exceptions\u001B[38;5;241m.\u001B[39mTrialPruned \u001B[38;5;28;01mas\u001B[39;00m e:\n\u001B[0;32m    202\u001B[0m         \u001B[38;5;66;03m# TODO(mamu): Handle multi-objective cases.\u001B[39;00m\n\u001B[0;32m    203\u001B[0m         state \u001B[38;5;241m=\u001B[39m TrialState\u001B[38;5;241m.\u001B[39mPRUNED\n",
      "Cell \u001B[1;32mIn[4], line 89\u001B[0m, in \u001B[0;36mobjective\u001B[1;34m(trial)\u001B[0m\n\u001B[0;32m     87\u001B[0m \u001B[38;5;66;03m# train for specified number of epochs\u001B[39;00m\n\u001B[0;32m     88\u001B[0m \u001B[38;5;28;01mfor\u001B[39;00m epoch \u001B[38;5;129;01min\u001B[39;00m \u001B[38;5;28mrange\u001B[39m(config\u001B[38;5;241m.\u001B[39mnum_max_epochs):\n\u001B[1;32m---> 89\u001B[0m     _, _, _ \u001B[38;5;241m=\u001B[39m \u001B[43mtrain_epoch\u001B[49m\u001B[43m(\u001B[49m\n\u001B[0;32m     90\u001B[0m \u001B[43m        \u001B[49m\u001B[43mmodel\u001B[49m\u001B[43m,\u001B[49m\n\u001B[0;32m     91\u001B[0m \u001B[43m        \u001B[49m\u001B[43mtrain_loader\u001B[49m\u001B[43m,\u001B[49m\n\u001B[0;32m     92\u001B[0m \u001B[43m        \u001B[49m\u001B[43moptimizer\u001B[49m\u001B[43m,\u001B[49m\n\u001B[0;32m     93\u001B[0m \u001B[43m        \u001B[49m\u001B[43mdevice\u001B[49m\u001B[43m,\u001B[49m\n\u001B[0;32m     94\u001B[0m \u001B[43m        \u001B[49m\u001B[43mcriterion\u001B[49m\n\u001B[0;32m     95\u001B[0m \u001B[43m    \u001B[49m\u001B[43m)\u001B[49m\n\u001B[0;32m     97\u001B[0m     _, val_true_y, val_pred_y \u001B[38;5;241m=\u001B[39m eval_epoch(\n\u001B[0;32m     98\u001B[0m         model,\n\u001B[0;32m     99\u001B[0m         val_loader,\n\u001B[0;32m    100\u001B[0m         device,\n\u001B[0;32m    101\u001B[0m         criterion\n\u001B[0;32m    102\u001B[0m     )\n\u001B[0;32m    104\u001B[0m     \u001B[38;5;66;03m# calc r2 score and append\u001B[39;00m\n",
      "File \u001B[1;32mD:\\DATEN\\P2_EquivariantTreeNN\\etnn\\tools\\training.py:47\u001B[0m, in \u001B[0;36mtrain_epoch\u001B[1;34m(model, train_loader, optimizer, device, criterion)\u001B[0m\n\u001B[0;32m     44\u001B[0m batch_label \u001B[38;5;241m=\u001B[39m batch_label\u001B[38;5;241m.\u001B[39mto(device)\n\u001B[0;32m     46\u001B[0m \u001B[38;5;66;03m# put through model\u001B[39;00m\n\u001B[1;32m---> 47\u001B[0m prediction \u001B[38;5;241m=\u001B[39m \u001B[43mmodel\u001B[49m\u001B[43m(\u001B[49m\u001B[43mbatch_data\u001B[49m\u001B[43m)\u001B[49m\u001B[38;5;241m.\u001B[39mflatten()\n\u001B[0;32m     49\u001B[0m \u001B[38;5;66;03m# put y into list to return it together with loss\u001B[39;00m\n\u001B[0;32m     50\u001B[0m true_container \u001B[38;5;241m+\u001B[39m\u001B[38;5;241m=\u001B[39m [batch_label\u001B[38;5;241m.\u001B[39mdetach()\u001B[38;5;241m.\u001B[39mcpu()]\n",
      "File \u001B[1;32m~\\anaconda3\\envs\\P2\\lib\\site-packages\\torch\\nn\\modules\\module.py:1518\u001B[0m, in \u001B[0;36mModule._wrapped_call_impl\u001B[1;34m(self, *args, **kwargs)\u001B[0m\n\u001B[0;32m   1516\u001B[0m     \u001B[38;5;28;01mreturn\u001B[39;00m \u001B[38;5;28mself\u001B[39m\u001B[38;5;241m.\u001B[39m_compiled_call_impl(\u001B[38;5;241m*\u001B[39margs, \u001B[38;5;241m*\u001B[39m\u001B[38;5;241m*\u001B[39mkwargs)  \u001B[38;5;66;03m# type: ignore[misc]\u001B[39;00m\n\u001B[0;32m   1517\u001B[0m \u001B[38;5;28;01melse\u001B[39;00m:\n\u001B[1;32m-> 1518\u001B[0m     \u001B[38;5;28;01mreturn\u001B[39;00m \u001B[38;5;28mself\u001B[39m\u001B[38;5;241m.\u001B[39m_call_impl(\u001B[38;5;241m*\u001B[39margs, \u001B[38;5;241m*\u001B[39m\u001B[38;5;241m*\u001B[39mkwargs)\n",
      "File \u001B[1;32m~\\anaconda3\\envs\\P2\\lib\\site-packages\\torch\\nn\\modules\\module.py:1527\u001B[0m, in \u001B[0;36mModule._call_impl\u001B[1;34m(self, *args, **kwargs)\u001B[0m\n\u001B[0;32m   1522\u001B[0m \u001B[38;5;66;03m# If we don't have any hooks, we want to skip the rest of the logic in\u001B[39;00m\n\u001B[0;32m   1523\u001B[0m \u001B[38;5;66;03m# this function, and just call forward.\u001B[39;00m\n\u001B[0;32m   1524\u001B[0m \u001B[38;5;28;01mif\u001B[39;00m \u001B[38;5;129;01mnot\u001B[39;00m (\u001B[38;5;28mself\u001B[39m\u001B[38;5;241m.\u001B[39m_backward_hooks \u001B[38;5;129;01mor\u001B[39;00m \u001B[38;5;28mself\u001B[39m\u001B[38;5;241m.\u001B[39m_backward_pre_hooks \u001B[38;5;129;01mor\u001B[39;00m \u001B[38;5;28mself\u001B[39m\u001B[38;5;241m.\u001B[39m_forward_hooks \u001B[38;5;129;01mor\u001B[39;00m \u001B[38;5;28mself\u001B[39m\u001B[38;5;241m.\u001B[39m_forward_pre_hooks\n\u001B[0;32m   1525\u001B[0m         \u001B[38;5;129;01mor\u001B[39;00m _global_backward_pre_hooks \u001B[38;5;129;01mor\u001B[39;00m _global_backward_hooks\n\u001B[0;32m   1526\u001B[0m         \u001B[38;5;129;01mor\u001B[39;00m _global_forward_hooks \u001B[38;5;129;01mor\u001B[39;00m _global_forward_pre_hooks):\n\u001B[1;32m-> 1527\u001B[0m     \u001B[38;5;28;01mreturn\u001B[39;00m forward_call(\u001B[38;5;241m*\u001B[39margs, \u001B[38;5;241m*\u001B[39m\u001B[38;5;241m*\u001B[39mkwargs)\n\u001B[0;32m   1529\u001B[0m \u001B[38;5;28;01mtry\u001B[39;00m:\n\u001B[0;32m   1530\u001B[0m     result \u001B[38;5;241m=\u001B[39m \u001B[38;5;28;01mNone\u001B[39;00m\n",
      "File \u001B[1;32mD:\\DATEN\\P2_EquivariantTreeNN\\etnn\\nn\\layer_framework.py:118\u001B[0m, in \u001B[0;36mLayerManagementFramework.forward\u001B[1;34m(self, x)\u001B[0m\n\u001B[0;32m    108\u001B[0m \u001B[38;5;250m\u001B[39m\u001B[38;5;124;03m\"\"\"\u001B[39;00m\n\u001B[0;32m    109\u001B[0m \u001B[38;5;124;03mForward function as used in most pytorch modules. Returns prediction of the input data element(s). Read more\u001B[39;00m\n\u001B[0;32m    110\u001B[0m \u001B[38;5;124;03mabout this in the official pytorch documentation: https://pytorch.org/docs/stable/generated/torch.nn.Module.html#torch.nn.Module.forward.\u001B[39;00m\n\u001B[1;32m   (...)\u001B[0m\n\u001B[0;32m    115\u001B[0m \u001B[38;5;124;03m:rtype: torch.Tensor\u001B[39;00m\n\u001B[0;32m    116\u001B[0m \u001B[38;5;124;03m\"\"\"\u001B[39;00m\n\u001B[0;32m    117\u001B[0m \u001B[38;5;66;03m# embed the input through a linear layer\u001B[39;00m\n\u001B[1;32m--> 118\u001B[0m embedded_x \u001B[38;5;241m=\u001B[39m \u001B[38;5;28;43mself\u001B[39;49m\u001B[38;5;241;43m.\u001B[39;49m\u001B[43membedding_layer\u001B[49m\u001B[43m(\u001B[49m\u001B[43mx\u001B[49m\u001B[43m)\u001B[49m\n\u001B[0;32m    120\u001B[0m \u001B[38;5;66;03m# run through tree layer\u001B[39;00m\n\u001B[0;32m    121\u001B[0m after_layer \u001B[38;5;241m=\u001B[39m \u001B[38;5;28mself\u001B[39m\u001B[38;5;241m.\u001B[39mcontrol_hub(embedded_x, \u001B[38;5;28mself\u001B[39m\u001B[38;5;241m.\u001B[39mtree)\n",
      "File \u001B[1;32m~\\anaconda3\\envs\\P2\\lib\\site-packages\\torch\\nn\\modules\\module.py:1518\u001B[0m, in \u001B[0;36mModule._wrapped_call_impl\u001B[1;34m(self, *args, **kwargs)\u001B[0m\n\u001B[0;32m   1516\u001B[0m     \u001B[38;5;28;01mreturn\u001B[39;00m \u001B[38;5;28mself\u001B[39m\u001B[38;5;241m.\u001B[39m_compiled_call_impl(\u001B[38;5;241m*\u001B[39margs, \u001B[38;5;241m*\u001B[39m\u001B[38;5;241m*\u001B[39mkwargs)  \u001B[38;5;66;03m# type: ignore[misc]\u001B[39;00m\n\u001B[0;32m   1517\u001B[0m \u001B[38;5;28;01melse\u001B[39;00m:\n\u001B[1;32m-> 1518\u001B[0m     \u001B[38;5;28;01mreturn\u001B[39;00m \u001B[38;5;28mself\u001B[39m\u001B[38;5;241m.\u001B[39m_call_impl(\u001B[38;5;241m*\u001B[39margs, \u001B[38;5;241m*\u001B[39m\u001B[38;5;241m*\u001B[39mkwargs)\n",
      "File \u001B[1;32m~\\anaconda3\\envs\\P2\\lib\\site-packages\\torch\\nn\\modules\\module.py:1527\u001B[0m, in \u001B[0;36mModule._call_impl\u001B[1;34m(self, *args, **kwargs)\u001B[0m\n\u001B[0;32m   1522\u001B[0m \u001B[38;5;66;03m# If we don't have any hooks, we want to skip the rest of the logic in\u001B[39;00m\n\u001B[0;32m   1523\u001B[0m \u001B[38;5;66;03m# this function, and just call forward.\u001B[39;00m\n\u001B[0;32m   1524\u001B[0m \u001B[38;5;28;01mif\u001B[39;00m \u001B[38;5;129;01mnot\u001B[39;00m (\u001B[38;5;28mself\u001B[39m\u001B[38;5;241m.\u001B[39m_backward_hooks \u001B[38;5;129;01mor\u001B[39;00m \u001B[38;5;28mself\u001B[39m\u001B[38;5;241m.\u001B[39m_backward_pre_hooks \u001B[38;5;129;01mor\u001B[39;00m \u001B[38;5;28mself\u001B[39m\u001B[38;5;241m.\u001B[39m_forward_hooks \u001B[38;5;129;01mor\u001B[39;00m \u001B[38;5;28mself\u001B[39m\u001B[38;5;241m.\u001B[39m_forward_pre_hooks\n\u001B[0;32m   1525\u001B[0m         \u001B[38;5;129;01mor\u001B[39;00m _global_backward_pre_hooks \u001B[38;5;129;01mor\u001B[39;00m _global_backward_hooks\n\u001B[0;32m   1526\u001B[0m         \u001B[38;5;129;01mor\u001B[39;00m _global_forward_hooks \u001B[38;5;129;01mor\u001B[39;00m _global_forward_pre_hooks):\n\u001B[1;32m-> 1527\u001B[0m     \u001B[38;5;28;01mreturn\u001B[39;00m forward_call(\u001B[38;5;241m*\u001B[39margs, \u001B[38;5;241m*\u001B[39m\u001B[38;5;241m*\u001B[39mkwargs)\n\u001B[0;32m   1529\u001B[0m \u001B[38;5;28;01mtry\u001B[39;00m:\n\u001B[0;32m   1530\u001B[0m     result \u001B[38;5;241m=\u001B[39m \u001B[38;5;28;01mNone\u001B[39;00m\n",
      "File \u001B[1;32m~\\anaconda3\\envs\\P2\\lib\\site-packages\\torch\\nn\\modules\\linear.py:114\u001B[0m, in \u001B[0;36mLinear.forward\u001B[1;34m(self, input)\u001B[0m\n\u001B[0;32m    113\u001B[0m \u001B[38;5;28;01mdef\u001B[39;00m \u001B[38;5;21mforward\u001B[39m(\u001B[38;5;28mself\u001B[39m, \u001B[38;5;28minput\u001B[39m: Tensor) \u001B[38;5;241m-\u001B[39m\u001B[38;5;241m>\u001B[39m Tensor:\n\u001B[1;32m--> 114\u001B[0m     \u001B[38;5;28;01mreturn\u001B[39;00m \u001B[43mF\u001B[49m\u001B[38;5;241;43m.\u001B[39;49m\u001B[43mlinear\u001B[49m\u001B[43m(\u001B[49m\u001B[38;5;28;43minput\u001B[39;49m\u001B[43m,\u001B[49m\u001B[43m \u001B[49m\u001B[38;5;28;43mself\u001B[39;49m\u001B[38;5;241;43m.\u001B[39;49m\u001B[43mweight\u001B[49m\u001B[43m,\u001B[49m\u001B[43m \u001B[49m\u001B[38;5;28;43mself\u001B[39;49m\u001B[38;5;241;43m.\u001B[39;49m\u001B[43mbias\u001B[49m\u001B[43m)\u001B[49m\n",
      "\u001B[1;31mKeyboardInterrupt\u001B[0m: "
     ]
    }
   ],
   "source": [
    "node_type = \"Q\"\n",
    "size_elem = 10\n",
    "n_trials = 1\n",
    "normalized = True\n",
    "study = optuna.create_study(study_name=f\"Study node type {node_type}, normalized: {normalized}\", directions=['maximize'])\n",
    "study.optimize(objective, n_trials=n_trials, show_progress_bar=True)"
   ],
   "metadata": {
    "collapsed": false
   }
  },
  {
   "cell_type": "code",
   "execution_count": null,
   "outputs": [],
   "source": [
    "study.trials_dataframe().to_csv(f\"single-node_t-{node_type}_n-{size_elem}_normalized-{normalized}\")"
   ],
   "metadata": {
    "collapsed": false
   }
  },
  {
   "cell_type": "markdown",
   "source": [
    "### C"
   ],
   "metadata": {
    "collapsed": false
   }
  },
  {
   "cell_type": "code",
   "execution_count": 10,
   "outputs": [
    {
     "name": "stderr",
     "output_type": "stream",
     "text": [
      "[I 2023-12-10 16:22:32,155] A new study created in memory with name: Study node type S, normalized: True\n"
     ]
    },
    {
     "data": {
      "text/plain": "  0%|          | 0/1 [00:00<?, ?it/s]",
      "application/vnd.jupyter.widget-view+json": {
       "version_major": 2,
       "version_minor": 0,
       "model_id": "b987fe8453464842ad02745b326ddecf"
      }
     },
     "metadata": {},
     "output_type": "display_data"
    },
    {
     "name": "stdout",
     "output_type": "stream",
     "text": [
      "[I 2023-12-10 16:23:34,763] Trial 0 finished with value: 0.7580406634944465 and parameters: {}. Best is trial 0 with value: 0.7580406634944465.\n"
     ]
    }
   ],
   "source": [
    "node_type = \"C\"\n",
    "size_elem = 10\n",
    "n_trials = 1\n",
    "normalized = False\n",
    "study = optuna.create_study(study_name=f\"Study node type {node_type}, normalized: {normalized}\", directions=['maximize'])\n",
    "study.optimize(objective, n_trials=n_trials, show_progress_bar=True)"
   ],
   "metadata": {
    "collapsed": false
   }
  },
  {
   "cell_type": "code",
   "execution_count": null,
   "outputs": [],
   "source": [
    "study.trials_dataframe().to_csv(f\"single-node_t-{node_type}_n-{size_elem}_normalized-{normalized}\")"
   ],
   "metadata": {
    "collapsed": false
   }
  },
  {
   "cell_type": "code",
   "execution_count": 6,
   "outputs": [
    {
     "name": "stderr",
     "output_type": "stream",
     "text": [
      "[I 2023-12-10 16:45:23,908] A new study created in memory with name: Study node type C, normalized: True\n"
     ]
    },
    {
     "data": {
      "text/plain": "  0%|          | 0/1 [00:00<?, ?it/s]",
      "application/vnd.jupyter.widget-view+json": {
       "version_major": 2,
       "version_minor": 0,
       "model_id": "55c18ef690b944c38b7c08c24995a0a2"
      }
     },
     "metadata": {},
     "output_type": "display_data"
    },
    {
     "name": "stderr",
     "output_type": "stream",
     "text": [
      "\n",
      "100%|██████████| 10000/10000 [00:00<00:00, 185186.34it/s]\n",
      "\n",
      "  0%|          | 0/10000 [00:00<?, ?it/s]\u001B[A\n",
      "  0%|          | 9/10000 [00:00<02:01, 82.56it/s]\u001B[A\n",
      "  0%|          | 21/10000 [00:00<05:59, 27.78it/s]\u001B[A\n",
      "  1%|          | 51/10000 [00:00<02:10, 76.16it/s]\u001B[A\n",
      "  1%|          | 113/10000 [00:00<00:53, 185.99it/s]\u001B[A\n",
      "  2%|▏         | 182/10000 [00:00<00:32, 298.30it/s]\u001B[A\n",
      "  2%|▏         | 249/10000 [00:01<00:25, 388.10it/s]\u001B[A\n",
      "  3%|▎         | 316/10000 [00:01<00:21, 460.52it/s]\u001B[A\n",
      "  4%|▍         | 382/10000 [00:01<00:18, 512.70it/s]\u001B[A\n",
      "  4%|▍         | 448/10000 [00:01<00:17, 552.51it/s]\u001B[A\n",
      "  5%|▌         | 514/10000 [00:01<00:16, 580.18it/s]\u001B[A\n",
      "  6%|▌         | 579/10000 [00:01<00:15, 597.82it/s]\u001B[A\n",
      "  6%|▋         | 643/10000 [00:01<00:15, 608.79it/s]\u001B[A\n",
      "  7%|▋         | 708/10000 [00:01<00:14, 620.30it/s]\u001B[A\n",
      "  8%|▊         | 772/10000 [00:01<00:14, 624.65it/s]\u001B[A\n",
      "  8%|▊         | 839/10000 [00:02<00:14, 635.45it/s]\u001B[A\n",
      "  9%|▉         | 905/10000 [00:02<00:14, 642.24it/s]\u001B[A\n",
      " 10%|▉         | 972/10000 [00:02<00:13, 650.49it/s]\u001B[A\n",
      " 10%|█         | 1038/10000 [00:02<00:14, 620.16it/s]\u001B[A\n",
      " 11%|█         | 1101/10000 [00:02<00:14, 605.57it/s]\u001B[A\n",
      " 12%|█▏        | 1163/10000 [00:02<00:15, 586.54it/s]\u001B[A\n",
      " 12%|█▏        | 1223/10000 [00:02<00:15, 583.02it/s]\u001B[A\n",
      " 13%|█▎        | 1290/10000 [00:02<00:14, 607.76it/s]\u001B[A\n",
      " 14%|█▎        | 1356/10000 [00:02<00:13, 619.46it/s]\u001B[A\n",
      " 14%|█▍        | 1424/10000 [00:02<00:13, 637.08it/s]\u001B[A\n",
      " 15%|█▍        | 1492/10000 [00:03<00:13, 647.78it/s]\u001B[A\n",
      " 16%|█▌        | 1560/10000 [00:03<00:12, 657.28it/s]\u001B[A\n",
      " 16%|█▋        | 1628/10000 [00:03<00:12, 660.11it/s]\u001B[A\n",
      " 17%|█▋        | 1697/10000 [00:03<00:12, 668.24it/s]\u001B[A\n",
      " 18%|█▊        | 1765/10000 [00:03<00:12, 667.77it/s]\u001B[A\n",
      " 18%|█▊        | 1832/10000 [00:03<00:12, 667.43it/s]\u001B[A\n",
      " 19%|█▉        | 1899/10000 [00:03<00:12, 665.50it/s]\u001B[A\n",
      " 20%|█▉        | 1966/10000 [00:03<00:12, 666.84it/s]\u001B[A\n",
      " 20%|██        | 2033/10000 [00:03<00:11, 664.44it/s]\u001B[A\n",
      " 21%|██        | 2102/10000 [00:03<00:11, 670.06it/s]\u001B[A\n",
      " 22%|██▏       | 2170/10000 [00:04<00:11, 670.55it/s]\u001B[A\n",
      " 22%|██▏       | 2238/10000 [00:04<00:11, 672.85it/s]\u001B[A\n",
      " 23%|██▎       | 2306/10000 [00:04<00:11, 669.00it/s]\u001B[A\n",
      " 24%|██▎       | 2373/10000 [00:04<00:11, 668.35it/s]\u001B[A\n",
      " 24%|██▍       | 2440/10000 [00:04<00:11, 667.97it/s]\u001B[A\n",
      " 25%|██▌       | 2507/10000 [00:04<00:11, 664.24it/s]\u001B[A\n",
      " 26%|██▌       | 2575/10000 [00:04<00:11, 668.20it/s]\u001B[A\n",
      " 26%|██▋       | 2644/10000 [00:04<00:10, 670.99it/s]\u001B[A\n",
      " 27%|██▋       | 2712/10000 [00:04<00:10, 672.54it/s]\u001B[A\n",
      " 28%|██▊       | 2781/10000 [00:04<00:10, 675.72it/s]\u001B[A\n",
      " 28%|██▊       | 2849/10000 [00:05<00:10, 672.75it/s]\u001B[A\n",
      " 29%|██▉       | 2918/10000 [00:05<00:10, 676.11it/s]\u001B[A\n",
      " 30%|██▉       | 2986/10000 [00:05<00:10, 674.85it/s]\u001B[A\n",
      " 31%|███       | 3054/10000 [00:05<00:10, 673.37it/s]\u001B[A\n",
      " 31%|███       | 3122/10000 [00:05<00:10, 675.34it/s]\u001B[A\n",
      " 32%|███▏      | 3190/10000 [00:05<00:10, 674.72it/s]\u001B[A\n",
      " 33%|███▎      | 3258/10000 [00:05<00:09, 674.37it/s]\u001B[A\n",
      " 33%|███▎      | 3326/10000 [00:05<00:09, 669.72it/s]\u001B[A\n",
      " 34%|███▍      | 3394/10000 [00:05<00:09, 672.10it/s]\u001B[A\n",
      " 35%|███▍      | 3462/10000 [00:05<00:09, 672.45it/s]\u001B[A\n",
      " 35%|███▌      | 3530/10000 [00:06<00:09, 671.31it/s]\u001B[A\n",
      " 36%|███▌      | 3599/10000 [00:06<00:09, 674.86it/s]\u001B[A\n",
      " 37%|███▋      | 3667/10000 [00:06<00:09, 674.38it/s]\u001B[A\n",
      " 37%|███▋      | 3735/10000 [00:06<00:09, 674.05it/s]\u001B[A\n",
      " 38%|███▊      | 3803/10000 [00:06<00:09, 673.58it/s]\u001B[A\n",
      " 39%|███▊      | 3871/10000 [00:06<00:09, 669.35it/s]\u001B[A\n",
      " 39%|███▉      | 3938/10000 [00:06<00:09, 665.36it/s]\u001B[A\n",
      " 40%|████      | 4005/10000 [00:06<00:09, 664.27it/s]\u001B[A\n",
      " 41%|████      | 4072/10000 [00:06<00:08, 663.46it/s]\u001B[A\n",
      " 41%|████▏     | 4140/10000 [00:06<00:08, 666.39it/s]\u001B[A\n",
      " 42%|████▏     | 4207/10000 [00:07<00:08, 663.52it/s]\u001B[A\n",
      " 43%|████▎     | 4274/10000 [00:07<00:08, 661.30it/s]\u001B[A\n",
      " 43%|████▎     | 4341/10000 [00:07<00:08, 661.90it/s]\u001B[A\n",
      " 44%|████▍     | 4409/10000 [00:07<00:08, 665.29it/s]\u001B[A\n",
      " 45%|████▍     | 4476/10000 [00:07<00:08, 664.72it/s]\u001B[A\n",
      " 45%|████▌     | 4543/10000 [00:07<00:08, 664.32it/s]\u001B[A\n",
      " 46%|████▌     | 4610/10000 [00:07<00:08, 663.67it/s]\u001B[A\n",
      " 47%|████▋     | 4677/10000 [00:07<00:08, 660.71it/s]\u001B[A\n",
      " 47%|████▋     | 4744/10000 [00:07<00:07, 657.27it/s]\u001B[A\n",
      " 48%|████▊     | 4810/10000 [00:08<00:07, 650.38it/s]\u001B[A\n",
      " 49%|████▉     | 4879/10000 [00:08<00:07, 660.11it/s]\u001B[A\n",
      " 49%|████▉     | 4946/10000 [00:08<00:07, 661.08it/s]\u001B[A\n",
      " 50%|█████     | 5013/10000 [00:08<00:07, 659.81it/s]\u001B[A\n",
      " 51%|█████     | 5079/10000 [00:08<00:07, 657.91it/s]\u001B[A\n",
      " 51%|█████▏    | 5148/10000 [00:08<00:07, 665.46it/s]\u001B[A\n",
      " 52%|█████▏    | 5216/10000 [00:08<00:07, 667.80it/s]\u001B[A\n",
      " 53%|█████▎    | 5284/10000 [00:08<00:07, 671.43it/s]\u001B[A\n",
      " 54%|█████▎    | 5352/10000 [00:08<00:06, 669.99it/s]\u001B[A\n",
      " 54%|█████▍    | 5420/10000 [00:08<00:06, 667.58it/s]\u001B[A\n",
      " 55%|█████▍    | 5487/10000 [00:09<00:06, 667.49it/s]\u001B[A\n",
      " 56%|█████▌    | 5555/10000 [00:09<00:06, 671.21it/s]\u001B[A\n",
      " 56%|█████▌    | 5623/10000 [00:09<00:06, 671.83it/s]\u001B[A\n",
      " 57%|█████▋    | 5691/10000 [00:09<00:06, 666.32it/s]\u001B[A\n",
      " 58%|█████▊    | 5760/10000 [00:09<00:06, 669.37it/s]\u001B[A\n",
      " 58%|█████▊    | 5828/10000 [00:09<00:06, 672.50it/s]\u001B[A\n",
      " 59%|█████▉    | 5896/10000 [00:09<00:06, 673.78it/s]\u001B[A\n",
      " 60%|█████▉    | 5964/10000 [00:09<00:05, 675.63it/s]\u001B[A\n",
      " 60%|██████    | 6032/10000 [00:09<00:05, 674.92it/s]\u001B[A\n",
      " 61%|██████    | 6100/10000 [00:09<00:05, 668.67it/s]\u001B[A\n",
      " 62%|██████▏   | 6167/10000 [00:10<00:05, 654.04it/s]\u001B[A\n",
      " 62%|██████▏   | 6235/10000 [00:10<00:05, 659.71it/s]\u001B[A\n",
      " 63%|██████▎   | 6302/10000 [00:10<00:05, 660.79it/s]\u001B[A\n",
      " 64%|██████▎   | 6370/10000 [00:10<00:05, 662.55it/s]\u001B[A\n",
      " 64%|██████▍   | 6437/10000 [00:10<00:05, 664.74it/s]\u001B[A\n",
      " 65%|██████▌   | 6504/10000 [00:10<00:05, 664.34it/s]\u001B[A\n",
      " 66%|██████▌   | 6571/10000 [00:10<00:05, 658.20it/s]\u001B[A\n",
      " 66%|██████▋   | 6639/10000 [00:10<00:05, 664.64it/s]\u001B[A\n",
      " 67%|██████▋   | 6706/10000 [00:10<00:04, 660.35it/s]\u001B[A\n",
      " 68%|██████▊   | 6773/10000 [00:10<00:04, 652.60it/s]\u001B[A\n",
      " 68%|██████▊   | 6839/10000 [00:11<00:04, 639.63it/s]\u001B[A\n",
      " 69%|██████▉   | 6904/10000 [00:11<00:04, 636.14it/s]\u001B[A\n",
      " 70%|██████▉   | 6968/10000 [00:11<00:04, 630.70it/s]\u001B[A\n",
      " 70%|███████   | 7033/10000 [00:11<00:04, 636.03it/s]\u001B[A\n",
      " 71%|███████   | 7099/10000 [00:11<00:04, 642.77it/s]\u001B[A\n",
      " 72%|███████▏  | 7165/10000 [00:11<00:04, 647.26it/s]\u001B[A\n",
      " 72%|███████▏  | 7230/10000 [00:11<00:04, 645.83it/s]\u001B[A\n",
      " 73%|███████▎  | 7297/10000 [00:11<00:04, 652.81it/s]\u001B[A\n",
      " 74%|███████▎  | 7363/10000 [00:11<00:04, 653.01it/s]\u001B[A\n",
      " 74%|███████▍  | 7429/10000 [00:11<00:03, 651.21it/s]\u001B[A\n",
      " 75%|███████▍  | 7495/10000 [00:12<00:03, 640.30it/s]\u001B[A\n",
      " 76%|███████▌  | 7560/10000 [00:12<00:03, 636.02it/s]\u001B[A\n",
      " 76%|███████▌  | 7624/10000 [00:12<00:03, 629.56it/s]\u001B[A\n",
      " 77%|███████▋  | 7689/10000 [00:12<00:03, 633.69it/s]\u001B[A\n",
      " 78%|███████▊  | 7755/10000 [00:12<00:03, 641.43it/s]\u001B[A\n",
      " 78%|███████▊  | 7820/10000 [00:12<00:03, 640.17it/s]\u001B[A\n",
      " 79%|███████▉  | 7886/10000 [00:12<00:03, 644.14it/s]\u001B[A\n",
      " 80%|███████▉  | 7954/10000 [00:12<00:03, 650.91it/s]\u001B[A\n",
      " 80%|████████  | 8020/10000 [00:12<00:03, 653.44it/s]\u001B[A\n",
      " 81%|████████  | 8086/10000 [00:13<00:02, 653.39it/s]\u001B[A\n",
      " 82%|████████▏ | 8152/10000 [00:13<00:02, 649.55it/s]\u001B[A\n",
      " 82%|████████▏ | 8217/10000 [00:13<00:02, 640.25it/s]\u001B[A\n",
      " 83%|████████▎ | 8283/10000 [00:13<00:02, 644.16it/s]\u001B[A\n",
      " 83%|████████▎ | 8348/10000 [00:13<00:02, 643.46it/s]\u001B[A\n",
      " 84%|████████▍ | 8415/10000 [00:13<00:02, 647.48it/s]\u001B[A\n",
      " 85%|████████▍ | 8482/10000 [00:13<00:02, 652.22it/s]\u001B[A\n",
      " 85%|████████▌ | 8548/10000 [00:13<00:02, 644.39it/s]\u001B[A\n",
      " 86%|████████▌ | 8613/10000 [00:13<00:02, 646.04it/s]\u001B[A\n",
      " 87%|████████▋ | 8679/10000 [00:13<00:02, 648.25it/s]\u001B[A\n",
      " 87%|████████▋ | 8747/10000 [00:14<00:01, 655.72it/s]\u001B[A\n",
      " 88%|████████▊ | 8813/10000 [00:14<00:01, 656.99it/s]\u001B[A\n",
      " 89%|████████▉ | 8879/10000 [00:14<00:01, 642.31it/s]\u001B[A\n",
      " 89%|████████▉ | 8944/10000 [00:14<00:01, 627.20it/s]\u001B[A\n",
      " 90%|█████████ | 9011/10000 [00:14<00:01, 639.59it/s]\u001B[A\n",
      " 91%|█████████ | 9077/10000 [00:14<00:01, 643.69it/s]\u001B[A\n",
      " 91%|█████████▏| 9146/10000 [00:14<00:01, 653.47it/s]\u001B[A\n",
      " 92%|█████████▏| 9213/10000 [00:14<00:01, 658.34it/s]\u001B[A\n",
      " 93%|█████████▎| 9280/10000 [00:14<00:01, 659.84it/s]\u001B[A\n",
      " 93%|█████████▎| 9347/10000 [00:14<00:00, 660.90it/s]\u001B[A\n",
      " 94%|█████████▍| 9414/10000 [00:15<00:00, 663.60it/s]\u001B[A\n",
      " 95%|█████████▍| 9482/10000 [00:15<00:00, 666.50it/s]\u001B[A\n",
      " 95%|█████████▌| 9549/10000 [00:15<00:00, 660.83it/s]\u001B[A\n",
      " 96%|█████████▌| 9616/10000 [00:15<00:00, 634.29it/s]\u001B[A\n",
      " 97%|█████████▋| 9683/10000 [00:15<00:00, 642.73it/s]\u001B[A\n",
      " 98%|█████████▊| 9751/10000 [00:15<00:00, 651.68it/s]\u001B[A\n",
      " 98%|█████████▊| 9817/10000 [00:15<00:00, 654.12it/s]\u001B[A\n",
      " 99%|█████████▉| 9884/10000 [00:15<00:00, 656.87it/s]\u001B[A\n",
      "100%|██████████| 10000/10000 [00:15<00:00, 626.92it/s][A\n"
     ]
    },
    {
     "name": "stdout",
     "output_type": "stream",
     "text": [
      "[W 2023-12-10 16:45:42,441] Trial 0 failed with parameters: {'hidden_dim': 64, 'k': 5, 'learning_rate': 0.005149163663500805, 'batcher': True} because of the following error: KeyboardInterrupt().\n",
      "Traceback (most recent call last):\n",
      "  File \"C:\\Users\\johan\\anaconda3\\envs\\P2\\lib\\site-packages\\optuna\\study\\_optimize.py\", line 200, in _run_trial\n",
      "    value_or_values = func(trial)\n",
      "  File \"C:\\Users\\johan\\AppData\\Local\\Temp\\ipykernel_31488\\1852015164.py\", line 97, in objective\n",
      "    _, val_true_y, val_pred_y = eval_epoch(\n",
      "  File \"D:\\DATEN\\P2_EquivariantTreeNN\\etnn\\tools\\training.py\", line 106, in eval_epoch\n",
      "    for batch_data, batch_label in eval_loader:\n",
      "  File \"C:\\Users\\johan\\anaconda3\\envs\\P2\\lib\\site-packages\\torch\\utils\\data\\dataloader.py\", line 630, in __next__\n",
      "    data = self._next_data()\n",
      "  File \"C:\\Users\\johan\\anaconda3\\envs\\P2\\lib\\site-packages\\torch\\utils\\data\\dataloader.py\", line 674, in _next_data\n",
      "    data = self._dataset_fetcher.fetch(index)  # may raise StopIteration\n",
      "  File \"C:\\Users\\johan\\anaconda3\\envs\\P2\\lib\\site-packages\\torch\\utils\\data\\_utils\\fetch.py\", line 49, in fetch\n",
      "    data = self.dataset.__getitems__(possibly_batched_index)\n",
      "  File \"C:\\Users\\johan\\anaconda3\\envs\\P2\\lib\\site-packages\\torch\\utils\\data\\dataset.py\", line 364, in __getitems__\n",
      "    return [self.dataset[self.indices[idx]] for idx in indices]\n",
      "  File \"C:\\Users\\johan\\anaconda3\\envs\\P2\\lib\\site-packages\\torch\\utils\\data\\dataset.py\", line 364, in <listcomp>\n",
      "    return [self.dataset[self.indices[idx]] for idx in indices]\n",
      "  File \"D:\\DATEN\\P2_EquivariantTreeNN\\etnn\\data\\ferris_wheel.py\", line 68, in __getitem__\n",
      "    return torch.tensor(data.to_numpy(float), dtype=torch.float32), torch.tensor(label, dtype=torch.float32)\n",
      "KeyboardInterrupt\n",
      "[W 2023-12-10 16:45:42,445] Trial 0 failed with value None.\n"
     ]
    },
    {
     "ename": "KeyboardInterrupt",
     "evalue": "",
     "output_type": "error",
     "traceback": [
      "\u001B[1;31m---------------------------------------------------------------------------\u001B[0m",
      "\u001B[1;31mKeyboardInterrupt\u001B[0m                         Traceback (most recent call last)",
      "Cell \u001B[1;32mIn[6], line 6\u001B[0m\n\u001B[0;32m      4\u001B[0m normalized \u001B[38;5;241m=\u001B[39m \u001B[38;5;28;01mTrue\u001B[39;00m\n\u001B[0;32m      5\u001B[0m study \u001B[38;5;241m=\u001B[39m optuna\u001B[38;5;241m.\u001B[39mcreate_study(study_name\u001B[38;5;241m=\u001B[39m\u001B[38;5;124mf\u001B[39m\u001B[38;5;124m\"\u001B[39m\u001B[38;5;124mStudy node type \u001B[39m\u001B[38;5;132;01m{\u001B[39;00mnode_type\u001B[38;5;132;01m}\u001B[39;00m\u001B[38;5;124m, normalized: \u001B[39m\u001B[38;5;132;01m{\u001B[39;00mnormalized\u001B[38;5;132;01m}\u001B[39;00m\u001B[38;5;124m\"\u001B[39m, directions\u001B[38;5;241m=\u001B[39m[\u001B[38;5;124m'\u001B[39m\u001B[38;5;124mmaximize\u001B[39m\u001B[38;5;124m'\u001B[39m])\n\u001B[1;32m----> 6\u001B[0m \u001B[43mstudy\u001B[49m\u001B[38;5;241;43m.\u001B[39;49m\u001B[43moptimize\u001B[49m\u001B[43m(\u001B[49m\u001B[43mobjective\u001B[49m\u001B[43m,\u001B[49m\u001B[43m \u001B[49m\u001B[43mn_trials\u001B[49m\u001B[38;5;241;43m=\u001B[39;49m\u001B[43mn_trials\u001B[49m\u001B[43m,\u001B[49m\u001B[43m \u001B[49m\u001B[43mshow_progress_bar\u001B[49m\u001B[38;5;241;43m=\u001B[39;49m\u001B[38;5;28;43;01mTrue\u001B[39;49;00m\u001B[43m)\u001B[49m\n",
      "File \u001B[1;32m~\\anaconda3\\envs\\P2\\lib\\site-packages\\optuna\\study\\study.py:451\u001B[0m, in \u001B[0;36mStudy.optimize\u001B[1;34m(self, func, n_trials, timeout, n_jobs, catch, callbacks, gc_after_trial, show_progress_bar)\u001B[0m\n\u001B[0;32m    348\u001B[0m \u001B[38;5;28;01mdef\u001B[39;00m \u001B[38;5;21moptimize\u001B[39m(\n\u001B[0;32m    349\u001B[0m     \u001B[38;5;28mself\u001B[39m,\n\u001B[0;32m    350\u001B[0m     func: ObjectiveFuncType,\n\u001B[1;32m   (...)\u001B[0m\n\u001B[0;32m    357\u001B[0m     show_progress_bar: \u001B[38;5;28mbool\u001B[39m \u001B[38;5;241m=\u001B[39m \u001B[38;5;28;01mFalse\u001B[39;00m,\n\u001B[0;32m    358\u001B[0m ) \u001B[38;5;241m-\u001B[39m\u001B[38;5;241m>\u001B[39m \u001B[38;5;28;01mNone\u001B[39;00m:\n\u001B[0;32m    359\u001B[0m \u001B[38;5;250m    \u001B[39m\u001B[38;5;124;03m\"\"\"Optimize an objective function.\u001B[39;00m\n\u001B[0;32m    360\u001B[0m \n\u001B[0;32m    361\u001B[0m \u001B[38;5;124;03m    Optimization is done by choosing a suitable set of hyperparameter values from a given\u001B[39;00m\n\u001B[1;32m   (...)\u001B[0m\n\u001B[0;32m    449\u001B[0m \u001B[38;5;124;03m            If nested invocation of this method occurs.\u001B[39;00m\n\u001B[0;32m    450\u001B[0m \u001B[38;5;124;03m    \"\"\"\u001B[39;00m\n\u001B[1;32m--> 451\u001B[0m     \u001B[43m_optimize\u001B[49m\u001B[43m(\u001B[49m\n\u001B[0;32m    452\u001B[0m \u001B[43m        \u001B[49m\u001B[43mstudy\u001B[49m\u001B[38;5;241;43m=\u001B[39;49m\u001B[38;5;28;43mself\u001B[39;49m\u001B[43m,\u001B[49m\n\u001B[0;32m    453\u001B[0m \u001B[43m        \u001B[49m\u001B[43mfunc\u001B[49m\u001B[38;5;241;43m=\u001B[39;49m\u001B[43mfunc\u001B[49m\u001B[43m,\u001B[49m\n\u001B[0;32m    454\u001B[0m \u001B[43m        \u001B[49m\u001B[43mn_trials\u001B[49m\u001B[38;5;241;43m=\u001B[39;49m\u001B[43mn_trials\u001B[49m\u001B[43m,\u001B[49m\n\u001B[0;32m    455\u001B[0m \u001B[43m        \u001B[49m\u001B[43mtimeout\u001B[49m\u001B[38;5;241;43m=\u001B[39;49m\u001B[43mtimeout\u001B[49m\u001B[43m,\u001B[49m\n\u001B[0;32m    456\u001B[0m \u001B[43m        \u001B[49m\u001B[43mn_jobs\u001B[49m\u001B[38;5;241;43m=\u001B[39;49m\u001B[43mn_jobs\u001B[49m\u001B[43m,\u001B[49m\n\u001B[0;32m    457\u001B[0m \u001B[43m        \u001B[49m\u001B[43mcatch\u001B[49m\u001B[38;5;241;43m=\u001B[39;49m\u001B[38;5;28;43mtuple\u001B[39;49m\u001B[43m(\u001B[49m\u001B[43mcatch\u001B[49m\u001B[43m)\u001B[49m\u001B[43m \u001B[49m\u001B[38;5;28;43;01mif\u001B[39;49;00m\u001B[43m \u001B[49m\u001B[38;5;28;43misinstance\u001B[39;49m\u001B[43m(\u001B[49m\u001B[43mcatch\u001B[49m\u001B[43m,\u001B[49m\u001B[43m \u001B[49m\u001B[43mIterable\u001B[49m\u001B[43m)\u001B[49m\u001B[43m \u001B[49m\u001B[38;5;28;43;01melse\u001B[39;49;00m\u001B[43m \u001B[49m\u001B[43m(\u001B[49m\u001B[43mcatch\u001B[49m\u001B[43m,\u001B[49m\u001B[43m)\u001B[49m\u001B[43m,\u001B[49m\n\u001B[0;32m    458\u001B[0m \u001B[43m        \u001B[49m\u001B[43mcallbacks\u001B[49m\u001B[38;5;241;43m=\u001B[39;49m\u001B[43mcallbacks\u001B[49m\u001B[43m,\u001B[49m\n\u001B[0;32m    459\u001B[0m \u001B[43m        \u001B[49m\u001B[43mgc_after_trial\u001B[49m\u001B[38;5;241;43m=\u001B[39;49m\u001B[43mgc_after_trial\u001B[49m\u001B[43m,\u001B[49m\n\u001B[0;32m    460\u001B[0m \u001B[43m        \u001B[49m\u001B[43mshow_progress_bar\u001B[49m\u001B[38;5;241;43m=\u001B[39;49m\u001B[43mshow_progress_bar\u001B[49m\u001B[43m,\u001B[49m\n\u001B[0;32m    461\u001B[0m \u001B[43m    \u001B[49m\u001B[43m)\u001B[49m\n",
      "File \u001B[1;32m~\\anaconda3\\envs\\P2\\lib\\site-packages\\optuna\\study\\_optimize.py:66\u001B[0m, in \u001B[0;36m_optimize\u001B[1;34m(study, func, n_trials, timeout, n_jobs, catch, callbacks, gc_after_trial, show_progress_bar)\u001B[0m\n\u001B[0;32m     64\u001B[0m \u001B[38;5;28;01mtry\u001B[39;00m:\n\u001B[0;32m     65\u001B[0m     \u001B[38;5;28;01mif\u001B[39;00m n_jobs \u001B[38;5;241m==\u001B[39m \u001B[38;5;241m1\u001B[39m:\n\u001B[1;32m---> 66\u001B[0m         \u001B[43m_optimize_sequential\u001B[49m\u001B[43m(\u001B[49m\n\u001B[0;32m     67\u001B[0m \u001B[43m            \u001B[49m\u001B[43mstudy\u001B[49m\u001B[43m,\u001B[49m\n\u001B[0;32m     68\u001B[0m \u001B[43m            \u001B[49m\u001B[43mfunc\u001B[49m\u001B[43m,\u001B[49m\n\u001B[0;32m     69\u001B[0m \u001B[43m            \u001B[49m\u001B[43mn_trials\u001B[49m\u001B[43m,\u001B[49m\n\u001B[0;32m     70\u001B[0m \u001B[43m            \u001B[49m\u001B[43mtimeout\u001B[49m\u001B[43m,\u001B[49m\n\u001B[0;32m     71\u001B[0m \u001B[43m            \u001B[49m\u001B[43mcatch\u001B[49m\u001B[43m,\u001B[49m\n\u001B[0;32m     72\u001B[0m \u001B[43m            \u001B[49m\u001B[43mcallbacks\u001B[49m\u001B[43m,\u001B[49m\n\u001B[0;32m     73\u001B[0m \u001B[43m            \u001B[49m\u001B[43mgc_after_trial\u001B[49m\u001B[43m,\u001B[49m\n\u001B[0;32m     74\u001B[0m \u001B[43m            \u001B[49m\u001B[43mreseed_sampler_rng\u001B[49m\u001B[38;5;241;43m=\u001B[39;49m\u001B[38;5;28;43;01mFalse\u001B[39;49;00m\u001B[43m,\u001B[49m\n\u001B[0;32m     75\u001B[0m \u001B[43m            \u001B[49m\u001B[43mtime_start\u001B[49m\u001B[38;5;241;43m=\u001B[39;49m\u001B[38;5;28;43;01mNone\u001B[39;49;00m\u001B[43m,\u001B[49m\n\u001B[0;32m     76\u001B[0m \u001B[43m            \u001B[49m\u001B[43mprogress_bar\u001B[49m\u001B[38;5;241;43m=\u001B[39;49m\u001B[43mprogress_bar\u001B[49m\u001B[43m,\u001B[49m\n\u001B[0;32m     77\u001B[0m \u001B[43m        \u001B[49m\u001B[43m)\u001B[49m\n\u001B[0;32m     78\u001B[0m     \u001B[38;5;28;01melse\u001B[39;00m:\n\u001B[0;32m     79\u001B[0m         \u001B[38;5;28;01mif\u001B[39;00m n_jobs \u001B[38;5;241m==\u001B[39m \u001B[38;5;241m-\u001B[39m\u001B[38;5;241m1\u001B[39m:\n",
      "File \u001B[1;32m~\\anaconda3\\envs\\P2\\lib\\site-packages\\optuna\\study\\_optimize.py:163\u001B[0m, in \u001B[0;36m_optimize_sequential\u001B[1;34m(study, func, n_trials, timeout, catch, callbacks, gc_after_trial, reseed_sampler_rng, time_start, progress_bar)\u001B[0m\n\u001B[0;32m    160\u001B[0m         \u001B[38;5;28;01mbreak\u001B[39;00m\n\u001B[0;32m    162\u001B[0m \u001B[38;5;28;01mtry\u001B[39;00m:\n\u001B[1;32m--> 163\u001B[0m     frozen_trial \u001B[38;5;241m=\u001B[39m \u001B[43m_run_trial\u001B[49m\u001B[43m(\u001B[49m\u001B[43mstudy\u001B[49m\u001B[43m,\u001B[49m\u001B[43m \u001B[49m\u001B[43mfunc\u001B[49m\u001B[43m,\u001B[49m\u001B[43m \u001B[49m\u001B[43mcatch\u001B[49m\u001B[43m)\u001B[49m\n\u001B[0;32m    164\u001B[0m \u001B[38;5;28;01mfinally\u001B[39;00m:\n\u001B[0;32m    165\u001B[0m     \u001B[38;5;66;03m# The following line mitigates memory problems that can be occurred in some\u001B[39;00m\n\u001B[0;32m    166\u001B[0m     \u001B[38;5;66;03m# environments (e.g., services that use computing containers such as GitHub Actions).\u001B[39;00m\n\u001B[0;32m    167\u001B[0m     \u001B[38;5;66;03m# Please refer to the following PR for further details:\u001B[39;00m\n\u001B[0;32m    168\u001B[0m     \u001B[38;5;66;03m# https://github.com/optuna/optuna/pull/325.\u001B[39;00m\n\u001B[0;32m    169\u001B[0m     \u001B[38;5;28;01mif\u001B[39;00m gc_after_trial:\n",
      "File \u001B[1;32m~\\anaconda3\\envs\\P2\\lib\\site-packages\\optuna\\study\\_optimize.py:251\u001B[0m, in \u001B[0;36m_run_trial\u001B[1;34m(study, func, catch)\u001B[0m\n\u001B[0;32m    244\u001B[0m         \u001B[38;5;28;01massert\u001B[39;00m \u001B[38;5;28;01mFalse\u001B[39;00m, \u001B[38;5;124m\"\u001B[39m\u001B[38;5;124mShould not reach.\u001B[39m\u001B[38;5;124m\"\u001B[39m\n\u001B[0;32m    246\u001B[0m \u001B[38;5;28;01mif\u001B[39;00m (\n\u001B[0;32m    247\u001B[0m     frozen_trial\u001B[38;5;241m.\u001B[39mstate \u001B[38;5;241m==\u001B[39m TrialState\u001B[38;5;241m.\u001B[39mFAIL\n\u001B[0;32m    248\u001B[0m     \u001B[38;5;129;01mand\u001B[39;00m func_err \u001B[38;5;129;01mis\u001B[39;00m \u001B[38;5;129;01mnot\u001B[39;00m \u001B[38;5;28;01mNone\u001B[39;00m\n\u001B[0;32m    249\u001B[0m     \u001B[38;5;129;01mand\u001B[39;00m \u001B[38;5;129;01mnot\u001B[39;00m \u001B[38;5;28misinstance\u001B[39m(func_err, catch)\n\u001B[0;32m    250\u001B[0m ):\n\u001B[1;32m--> 251\u001B[0m     \u001B[38;5;28;01mraise\u001B[39;00m func_err\n\u001B[0;32m    252\u001B[0m \u001B[38;5;28;01mreturn\u001B[39;00m frozen_trial\n",
      "File \u001B[1;32m~\\anaconda3\\envs\\P2\\lib\\site-packages\\optuna\\study\\_optimize.py:200\u001B[0m, in \u001B[0;36m_run_trial\u001B[1;34m(study, func, catch)\u001B[0m\n\u001B[0;32m    198\u001B[0m \u001B[38;5;28;01mwith\u001B[39;00m get_heartbeat_thread(trial\u001B[38;5;241m.\u001B[39m_trial_id, study\u001B[38;5;241m.\u001B[39m_storage):\n\u001B[0;32m    199\u001B[0m     \u001B[38;5;28;01mtry\u001B[39;00m:\n\u001B[1;32m--> 200\u001B[0m         value_or_values \u001B[38;5;241m=\u001B[39m \u001B[43mfunc\u001B[49m\u001B[43m(\u001B[49m\u001B[43mtrial\u001B[49m\u001B[43m)\u001B[49m\n\u001B[0;32m    201\u001B[0m     \u001B[38;5;28;01mexcept\u001B[39;00m exceptions\u001B[38;5;241m.\u001B[39mTrialPruned \u001B[38;5;28;01mas\u001B[39;00m e:\n\u001B[0;32m    202\u001B[0m         \u001B[38;5;66;03m# TODO(mamu): Handle multi-objective cases.\u001B[39;00m\n\u001B[0;32m    203\u001B[0m         state \u001B[38;5;241m=\u001B[39m TrialState\u001B[38;5;241m.\u001B[39mPRUNED\n",
      "Cell \u001B[1;32mIn[4], line 97\u001B[0m, in \u001B[0;36mobjective\u001B[1;34m(trial)\u001B[0m\n\u001B[0;32m     88\u001B[0m \u001B[38;5;28;01mfor\u001B[39;00m epoch \u001B[38;5;129;01min\u001B[39;00m \u001B[38;5;28mrange\u001B[39m(config\u001B[38;5;241m.\u001B[39mnum_max_epochs):\n\u001B[0;32m     89\u001B[0m     _, _, _ \u001B[38;5;241m=\u001B[39m train_epoch(\n\u001B[0;32m     90\u001B[0m         model,\n\u001B[0;32m     91\u001B[0m         train_loader,\n\u001B[1;32m   (...)\u001B[0m\n\u001B[0;32m     94\u001B[0m         criterion\n\u001B[0;32m     95\u001B[0m     )\n\u001B[1;32m---> 97\u001B[0m     _, val_true_y, val_pred_y \u001B[38;5;241m=\u001B[39m \u001B[43meval_epoch\u001B[49m\u001B[43m(\u001B[49m\n\u001B[0;32m     98\u001B[0m \u001B[43m        \u001B[49m\u001B[43mmodel\u001B[49m\u001B[43m,\u001B[49m\n\u001B[0;32m     99\u001B[0m \u001B[43m        \u001B[49m\u001B[43mval_loader\u001B[49m\u001B[43m,\u001B[49m\n\u001B[0;32m    100\u001B[0m \u001B[43m        \u001B[49m\u001B[43mdevice\u001B[49m\u001B[43m,\u001B[49m\n\u001B[0;32m    101\u001B[0m \u001B[43m        \u001B[49m\u001B[43mcriterion\u001B[49m\n\u001B[0;32m    102\u001B[0m \u001B[43m    \u001B[49m\u001B[43m)\u001B[49m\n\u001B[0;32m    104\u001B[0m     \u001B[38;5;66;03m# calc r2 score and append\u001B[39;00m\n\u001B[0;32m    105\u001B[0m     score \u001B[38;5;241m=\u001B[39m r2_score(y_true\u001B[38;5;241m=\u001B[39mval_true_y, y_pred\u001B[38;5;241m=\u001B[39mval_pred_y)\n",
      "File \u001B[1;32mD:\\DATEN\\P2_EquivariantTreeNN\\etnn\\tools\\training.py:106\u001B[0m, in \u001B[0;36meval_epoch\u001B[1;34m(model, eval_loader, device, criterion)\u001B[0m\n\u001B[0;32m    103\u001B[0m true_container \u001B[38;5;241m=\u001B[39m []\n\u001B[0;32m    104\u001B[0m pred_container \u001B[38;5;241m=\u001B[39m []\n\u001B[1;32m--> 106\u001B[0m \u001B[38;5;28;01mfor\u001B[39;00m batch_data, batch_label \u001B[38;5;129;01min\u001B[39;00m eval_loader:\n\u001B[0;32m    107\u001B[0m     \u001B[38;5;66;03m# put data to device\u001B[39;00m\n\u001B[0;32m    108\u001B[0m     batch_data \u001B[38;5;241m=\u001B[39m batch_data\u001B[38;5;241m.\u001B[39mto(device)\n\u001B[0;32m    109\u001B[0m     batch_label \u001B[38;5;241m=\u001B[39m batch_label\u001B[38;5;241m.\u001B[39mto(device)\n",
      "File \u001B[1;32m~\\anaconda3\\envs\\P2\\lib\\site-packages\\torch\\utils\\data\\dataloader.py:630\u001B[0m, in \u001B[0;36m_BaseDataLoaderIter.__next__\u001B[1;34m(self)\u001B[0m\n\u001B[0;32m    627\u001B[0m \u001B[38;5;28;01mif\u001B[39;00m \u001B[38;5;28mself\u001B[39m\u001B[38;5;241m.\u001B[39m_sampler_iter \u001B[38;5;129;01mis\u001B[39;00m \u001B[38;5;28;01mNone\u001B[39;00m:\n\u001B[0;32m    628\u001B[0m     \u001B[38;5;66;03m# TODO(https://github.com/pytorch/pytorch/issues/76750)\u001B[39;00m\n\u001B[0;32m    629\u001B[0m     \u001B[38;5;28mself\u001B[39m\u001B[38;5;241m.\u001B[39m_reset()  \u001B[38;5;66;03m# type: ignore[call-arg]\u001B[39;00m\n\u001B[1;32m--> 630\u001B[0m data \u001B[38;5;241m=\u001B[39m \u001B[38;5;28;43mself\u001B[39;49m\u001B[38;5;241;43m.\u001B[39;49m\u001B[43m_next_data\u001B[49m\u001B[43m(\u001B[49m\u001B[43m)\u001B[49m\n\u001B[0;32m    631\u001B[0m \u001B[38;5;28mself\u001B[39m\u001B[38;5;241m.\u001B[39m_num_yielded \u001B[38;5;241m+\u001B[39m\u001B[38;5;241m=\u001B[39m \u001B[38;5;241m1\u001B[39m\n\u001B[0;32m    632\u001B[0m \u001B[38;5;28;01mif\u001B[39;00m \u001B[38;5;28mself\u001B[39m\u001B[38;5;241m.\u001B[39m_dataset_kind \u001B[38;5;241m==\u001B[39m _DatasetKind\u001B[38;5;241m.\u001B[39mIterable \u001B[38;5;129;01mand\u001B[39;00m \\\n\u001B[0;32m    633\u001B[0m         \u001B[38;5;28mself\u001B[39m\u001B[38;5;241m.\u001B[39m_IterableDataset_len_called \u001B[38;5;129;01mis\u001B[39;00m \u001B[38;5;129;01mnot\u001B[39;00m \u001B[38;5;28;01mNone\u001B[39;00m \u001B[38;5;129;01mand\u001B[39;00m \\\n\u001B[0;32m    634\u001B[0m         \u001B[38;5;28mself\u001B[39m\u001B[38;5;241m.\u001B[39m_num_yielded \u001B[38;5;241m>\u001B[39m \u001B[38;5;28mself\u001B[39m\u001B[38;5;241m.\u001B[39m_IterableDataset_len_called:\n",
      "File \u001B[1;32m~\\anaconda3\\envs\\P2\\lib\\site-packages\\torch\\utils\\data\\dataloader.py:674\u001B[0m, in \u001B[0;36m_SingleProcessDataLoaderIter._next_data\u001B[1;34m(self)\u001B[0m\n\u001B[0;32m    672\u001B[0m \u001B[38;5;28;01mdef\u001B[39;00m \u001B[38;5;21m_next_data\u001B[39m(\u001B[38;5;28mself\u001B[39m):\n\u001B[0;32m    673\u001B[0m     index \u001B[38;5;241m=\u001B[39m \u001B[38;5;28mself\u001B[39m\u001B[38;5;241m.\u001B[39m_next_index()  \u001B[38;5;66;03m# may raise StopIteration\u001B[39;00m\n\u001B[1;32m--> 674\u001B[0m     data \u001B[38;5;241m=\u001B[39m \u001B[38;5;28;43mself\u001B[39;49m\u001B[38;5;241;43m.\u001B[39;49m\u001B[43m_dataset_fetcher\u001B[49m\u001B[38;5;241;43m.\u001B[39;49m\u001B[43mfetch\u001B[49m\u001B[43m(\u001B[49m\u001B[43mindex\u001B[49m\u001B[43m)\u001B[49m  \u001B[38;5;66;03m# may raise StopIteration\u001B[39;00m\n\u001B[0;32m    675\u001B[0m     \u001B[38;5;28;01mif\u001B[39;00m \u001B[38;5;28mself\u001B[39m\u001B[38;5;241m.\u001B[39m_pin_memory:\n\u001B[0;32m    676\u001B[0m         data \u001B[38;5;241m=\u001B[39m _utils\u001B[38;5;241m.\u001B[39mpin_memory\u001B[38;5;241m.\u001B[39mpin_memory(data, \u001B[38;5;28mself\u001B[39m\u001B[38;5;241m.\u001B[39m_pin_memory_device)\n",
      "File \u001B[1;32m~\\anaconda3\\envs\\P2\\lib\\site-packages\\torch\\utils\\data\\_utils\\fetch.py:49\u001B[0m, in \u001B[0;36m_MapDatasetFetcher.fetch\u001B[1;34m(self, possibly_batched_index)\u001B[0m\n\u001B[0;32m     47\u001B[0m \u001B[38;5;28;01mif\u001B[39;00m \u001B[38;5;28mself\u001B[39m\u001B[38;5;241m.\u001B[39mauto_collation:\n\u001B[0;32m     48\u001B[0m     \u001B[38;5;28;01mif\u001B[39;00m \u001B[38;5;28mhasattr\u001B[39m(\u001B[38;5;28mself\u001B[39m\u001B[38;5;241m.\u001B[39mdataset, \u001B[38;5;124m\"\u001B[39m\u001B[38;5;124m__getitems__\u001B[39m\u001B[38;5;124m\"\u001B[39m) \u001B[38;5;129;01mand\u001B[39;00m \u001B[38;5;28mself\u001B[39m\u001B[38;5;241m.\u001B[39mdataset\u001B[38;5;241m.\u001B[39m__getitems__:\n\u001B[1;32m---> 49\u001B[0m         data \u001B[38;5;241m=\u001B[39m \u001B[38;5;28;43mself\u001B[39;49m\u001B[38;5;241;43m.\u001B[39;49m\u001B[43mdataset\u001B[49m\u001B[38;5;241;43m.\u001B[39;49m\u001B[43m__getitems__\u001B[49m\u001B[43m(\u001B[49m\u001B[43mpossibly_batched_index\u001B[49m\u001B[43m)\u001B[49m\n\u001B[0;32m     50\u001B[0m     \u001B[38;5;28;01melse\u001B[39;00m:\n\u001B[0;32m     51\u001B[0m         data \u001B[38;5;241m=\u001B[39m [\u001B[38;5;28mself\u001B[39m\u001B[38;5;241m.\u001B[39mdataset[idx] \u001B[38;5;28;01mfor\u001B[39;00m idx \u001B[38;5;129;01min\u001B[39;00m possibly_batched_index]\n",
      "File \u001B[1;32m~\\anaconda3\\envs\\P2\\lib\\site-packages\\torch\\utils\\data\\dataset.py:364\u001B[0m, in \u001B[0;36mSubset.__getitems__\u001B[1;34m(self, indices)\u001B[0m\n\u001B[0;32m    362\u001B[0m     \u001B[38;5;28;01mreturn\u001B[39;00m \u001B[38;5;28mself\u001B[39m\u001B[38;5;241m.\u001B[39mdataset\u001B[38;5;241m.\u001B[39m__getitems__([\u001B[38;5;28mself\u001B[39m\u001B[38;5;241m.\u001B[39mindices[idx] \u001B[38;5;28;01mfor\u001B[39;00m idx \u001B[38;5;129;01min\u001B[39;00m indices])  \u001B[38;5;66;03m# type: ignore[attr-defined]\u001B[39;00m\n\u001B[0;32m    363\u001B[0m \u001B[38;5;28;01melse\u001B[39;00m:\n\u001B[1;32m--> 364\u001B[0m     \u001B[38;5;28;01mreturn\u001B[39;00m [\u001B[38;5;28mself\u001B[39m\u001B[38;5;241m.\u001B[39mdataset[\u001B[38;5;28mself\u001B[39m\u001B[38;5;241m.\u001B[39mindices[idx]] \u001B[38;5;28;01mfor\u001B[39;00m idx \u001B[38;5;129;01min\u001B[39;00m indices]\n",
      "File \u001B[1;32m~\\anaconda3\\envs\\P2\\lib\\site-packages\\torch\\utils\\data\\dataset.py:364\u001B[0m, in \u001B[0;36m<listcomp>\u001B[1;34m(.0)\u001B[0m\n\u001B[0;32m    362\u001B[0m     \u001B[38;5;28;01mreturn\u001B[39;00m \u001B[38;5;28mself\u001B[39m\u001B[38;5;241m.\u001B[39mdataset\u001B[38;5;241m.\u001B[39m__getitems__([\u001B[38;5;28mself\u001B[39m\u001B[38;5;241m.\u001B[39mindices[idx] \u001B[38;5;28;01mfor\u001B[39;00m idx \u001B[38;5;129;01min\u001B[39;00m indices])  \u001B[38;5;66;03m# type: ignore[attr-defined]\u001B[39;00m\n\u001B[0;32m    363\u001B[0m \u001B[38;5;28;01melse\u001B[39;00m:\n\u001B[1;32m--> 364\u001B[0m     \u001B[38;5;28;01mreturn\u001B[39;00m [\u001B[38;5;28;43mself\u001B[39;49m\u001B[38;5;241;43m.\u001B[39;49m\u001B[43mdataset\u001B[49m\u001B[43m[\u001B[49m\u001B[38;5;28;43mself\u001B[39;49m\u001B[38;5;241;43m.\u001B[39;49m\u001B[43mindices\u001B[49m\u001B[43m[\u001B[49m\u001B[43midx\u001B[49m\u001B[43m]\u001B[49m\u001B[43m]\u001B[49m \u001B[38;5;28;01mfor\u001B[39;00m idx \u001B[38;5;129;01min\u001B[39;00m indices]\n",
      "File \u001B[1;32mD:\\DATEN\\P2_EquivariantTreeNN\\etnn\\data\\ferris_wheel.py:68\u001B[0m, in \u001B[0;36mFerrisWheelDataset.__getitem__\u001B[1;34m(self, idx)\u001B[0m\n\u001B[0;32m     65\u001B[0m \u001B[38;5;66;03m# Get the label from the last column of id_frame\u001B[39;00m\n\u001B[0;32m     66\u001B[0m label \u001B[38;5;241m=\u001B[39m \u001B[38;5;28mself\u001B[39m\u001B[38;5;241m.\u001B[39mdf_index\u001B[38;5;241m.\u001B[39miloc[idx, \u001B[38;5;241m-\u001B[39m\u001B[38;5;241m1\u001B[39m]\n\u001B[1;32m---> 68\u001B[0m \u001B[38;5;28;01mreturn\u001B[39;00m \u001B[43mtorch\u001B[49m\u001B[38;5;241;43m.\u001B[39;49m\u001B[43mtensor\u001B[49m\u001B[43m(\u001B[49m\u001B[43mdata\u001B[49m\u001B[38;5;241;43m.\u001B[39;49m\u001B[43mto_numpy\u001B[49m\u001B[43m(\u001B[49m\u001B[38;5;28;43mfloat\u001B[39;49m\u001B[43m)\u001B[49m\u001B[43m,\u001B[49m\u001B[43m \u001B[49m\u001B[43mdtype\u001B[49m\u001B[38;5;241;43m=\u001B[39;49m\u001B[43mtorch\u001B[49m\u001B[38;5;241;43m.\u001B[39;49m\u001B[43mfloat32\u001B[49m\u001B[43m)\u001B[49m, torch\u001B[38;5;241m.\u001B[39mtensor(label, dtype\u001B[38;5;241m=\u001B[39mtorch\u001B[38;5;241m.\u001B[39mfloat32)\n",
      "\u001B[1;31mKeyboardInterrupt\u001B[0m: "
     ]
    }
   ],
   "source": [
    "node_type = \"C\"\n",
    "size_elem = 10\n",
    "n_trials = 1\n",
    "normalized = True\n",
    "study = optuna.create_study(study_name=f\"Study node type {node_type}, normalized: {normalized}\", directions=['maximize'])\n",
    "study.optimize(objective, n_trials=n_trials, show_progress_bar=True)"
   ],
   "metadata": {
    "collapsed": false
   }
  },
  {
   "cell_type": "code",
   "execution_count": null,
   "outputs": [],
   "source": [
    "study.trials_dataframe().to_csv(f\"single-node_t-{node_type}_n-{size_elem}_normalized-{normalized}\")"
   ],
   "metadata": {
    "collapsed": false
   }
  }
 ],
 "metadata": {
  "kernelspec": {
   "display_name": "Python 3",
   "language": "python",
   "name": "python3"
  },
  "language_info": {
   "codemirror_mode": {
    "name": "ipython",
    "version": 2
   },
   "file_extension": ".py",
   "mimetype": "text/x-python",
   "name": "python",
   "nbconvert_exporter": "python",
   "pygments_lexer": "ipython2",
   "version": "2.7.6"
  }
 },
 "nbformat": 4,
 "nbformat_minor": 0
}
