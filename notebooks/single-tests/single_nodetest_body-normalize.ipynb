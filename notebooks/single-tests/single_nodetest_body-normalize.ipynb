{
 "cells": [
  {
   "cell_type": "markdown",
   "source": [
    "# Testing single node datasets"
   ],
   "metadata": {
    "collapsed": false
   }
  },
  {
   "cell_type": "markdown",
   "source": [
    "Purpose: until now dataset represented by combination of tree types - now test for single node type"
   ],
   "metadata": {
    "collapsed": false
   }
  },
  {
   "cell_type": "markdown",
   "source": [
    "## Importing"
   ],
   "metadata": {
    "collapsed": false
   }
  },
  {
   "cell_type": "code",
   "execution_count": 1,
   "outputs": [],
   "source": [
    "import sys\n",
    "import os\n",
    "\n",
    "# Construct the path to the parent directory of the parent directory\n",
    "parent_of_parent_dir = os.path.abspath(os.path.join(os.path.pardir, os.path.pardir))\n",
    "\n",
    "# Add the parent directory of the parent directory to the system path\n",
    "sys.path.insert(0, parent_of_parent_dir)"
   ],
   "metadata": {
    "collapsed": false,
    "ExecuteTime": {
     "start_time": "2023-12-20T21:45:03.176181Z",
     "end_time": "2023-12-20T21:45:03.253698Z"
    }
   }
  },
  {
   "cell_type": "code",
   "execution_count": 2,
   "outputs": [],
   "source": [
    "import optuna\n",
    "import numpy as np\n",
    "from sklearn.metrics import r2_score\n",
    "import torch\n",
    "from torch.utils.data import random_split, DataLoader\n",
    "\n",
    "from etnn import TreeNode\n",
    "from etnn.tools.training_tools import ConfigStore\n",
    "from etnn.data.ferris_wheel import load_pure_ferris_wheel_dataset_single_node\n",
    "from etnn.tools.training import train_epoch, eval_epoch\n",
    "from etnn.nn.layer_framework import LayerManagementFramework\n",
    "from etnn.tools.training_tools import seeding_all\n",
    "from etnn.routines.run_config import choice_trainloader, choice_loss, choice_optim"
   ],
   "metadata": {
    "collapsed": false,
    "ExecuteTime": {
     "start_time": "2023-12-20T21:45:03.181184Z",
     "end_time": "2023-12-20T21:45:05.355295Z"
    }
   }
  },
  {
   "cell_type": "markdown",
   "source": [
    "## Control constants"
   ],
   "metadata": {
    "collapsed": false
   }
  },
  {
   "cell_type": "code",
   "execution_count": 3,
   "outputs": [],
   "source": [
    "dataset_path = \"../../datasets/\"\n",
    "test_perc = 0.3\n",
    "val_perc = 0.21\n",
    "stability_count = 5\n",
    "label = \"tree-advanced\" # although irrelevant"
   ],
   "metadata": {
    "collapsed": false,
    "ExecuteTime": {
     "start_time": "2023-12-20T21:45:05.356296Z",
     "end_time": "2023-12-20T21:45:05.371297Z"
    }
   }
  },
  {
   "cell_type": "markdown",
   "source": [
    "## Defining parameter search"
   ],
   "metadata": {
    "collapsed": false
   }
  },
  {
   "cell_type": "code",
   "execution_count": 4,
   "outputs": [],
   "source": [
    "def objective(trial):\n",
    "    # init default config\n",
    "    config = ConfigStore(\n",
    "       in_dim=15,\n",
    "       hidden_dim=trial.suggest_int(\"hidden_dim\", 16, 512, step=16),\n",
    "       out_dim=1,\n",
    "       k=trial.suggest_int(\"k\", 1, 5),\n",
    "       dataset=0,\n",
    "       ds_size=10_000,\n",
    "       num_gondolas=-1,\n",
    "       num_part_pg=-1,\n",
    "       loss_name='mse',\n",
    "       optimizer_name='adam',\n",
    "       num_max_epochs=30, # real: 100\n",
    "       learning_rate=trial.suggest_float(\"learning_rate\", 1e-5, 1e-2, log=True),\n",
    "       batch_size=1024,\n",
    "       early_stop_tol=5,\n",
    "       use_equal_batcher=trial.suggest_categorical(\"batcher\", [True, False]),\n",
    "       seed=420,\n",
    "       label_type=label,\n",
    "       final_label_factor=5/1000\n",
    "    )\n",
    "    # config = ConfigStore(\n",
    "    #     in_dim=15,\n",
    "    #     hidden_dim=16,\n",
    "    #     out_dim=1,\n",
    "    #     k=2,\n",
    "    #     dataset=-1 if normalized else 0,\n",
    "    #     ds_size=10_000,\n",
    "    #     num_gondolas=-1,\n",
    "    #     num_part_pg=-1,\n",
    "    #     loss_name='mse',\n",
    "    #     optimizer_name='adam',\n",
    "    #     num_max_epochs=30, # real: 100\n",
    "    #     learning_rate=0.002,\n",
    "    #     batch_size=1024,\n",
    "    #     early_stop_tol=5,\n",
    "    #     use_equal_batcher=False,\n",
    "    #     seed=420,\n",
    "    #     label_type=label,\n",
    "    #     final_label_factor=5/1000\n",
    "    # )\n",
    "\n",
    "    # loading dataset\n",
    "    dataset, df_index = load_pure_ferris_wheel_dataset_single_node(\n",
    "        node_type=node_type,\n",
    "        num_elem=size_elem,\n",
    "        num_to_generate=config.ds_size,\n",
    "        dataset_path=dataset_path,\n",
    "        final_label_factor=config.final_label_factor,\n",
    "        normalize=True if config.dataset == -1 else 0\n",
    "    )\n",
    "\n",
    "    if normalized:\n",
    "        dataset.post_normalize()\n",
    "\n",
    "    # splitting off test dataset\n",
    "    generator = torch.Generator().manual_seed(config.seed)\n",
    "    train_ds, val_ds, _ = random_split(\n",
    "        dataset,\n",
    "        [1 - test_perc - val_perc, val_perc, test_perc],\n",
    "        generator=generator\n",
    "    )\n",
    "\n",
    "    # loaders\n",
    "    train_loader = choice_trainloader(config, df_index, train_ds)\n",
    "    val_loader = DataLoader(val_ds, batch_size=4 * config.batch_size, shuffle=False)\n",
    "\n",
    "    # define device\n",
    "    device = \"cuda\" if torch.cuda.is_available() else \"cpu\"\n",
    "\n",
    "    # set seed for reproducability\n",
    "    seeding_all(config.seed)\n",
    "\n",
    "    # define model\n",
    "    model = LayerManagementFramework(\n",
    "        in_dim=config.in_dim,\n",
    "        tree=TreeNode(node_type, [TreeNode(\"E\", size_elem)]),\n",
    "        hidden_dim=config.hidden_dim,\n",
    "        out_dim=config.out_dim,\n",
    "        k=config.k\n",
    "    ).to(device)\n",
    "\n",
    "    # learning tools\n",
    "    criterion = choice_loss(config)\n",
    "    optimizer = choice_optim(config, model)\n",
    "\n",
    "    # init score list\n",
    "    score_list = []\n",
    "\n",
    "    # train for specified number of epochs\n",
    "    for epoch in range(config.num_max_epochs):\n",
    "        _, _, _ = train_epoch(\n",
    "            model,\n",
    "            train_loader,\n",
    "            optimizer,\n",
    "            device,\n",
    "            criterion\n",
    "        )\n",
    "\n",
    "        _, val_true_y, val_pred_y = eval_epoch(\n",
    "            model,\n",
    "            val_loader,\n",
    "            device,\n",
    "            criterion\n",
    "        )\n",
    "\n",
    "        # calc r2 score and append\n",
    "        score = r2_score(y_true=val_true_y, y_pred=val_pred_y)\n",
    "        score_list += [score]\n",
    "        trial.report(score, epoch)\n",
    "\n",
    "    # calculate objective\n",
    "    # display(score_list)\n",
    "    # idea: last x r2 scores (why not last one? for stability purposes)\n",
    "    obj = np.array(score_list)[-stability_count:]\n",
    "    return np.mean(obj)"
   ],
   "metadata": {
    "collapsed": false,
    "ExecuteTime": {
     "start_time": "2023-12-20T21:45:05.376297Z",
     "end_time": "2023-12-20T21:45:05.390295Z"
    }
   }
  },
  {
   "cell_type": "markdown",
   "source": [],
   "metadata": {
    "collapsed": false
   }
  },
  {
   "cell_type": "markdown",
   "source": [
    "## Parameter search"
   ],
   "metadata": {
    "collapsed": false
   }
  },
  {
   "cell_type": "markdown",
   "source": [
    "### S"
   ],
   "metadata": {
    "collapsed": false
   }
  },
  {
   "cell_type": "code",
   "execution_count": 5,
   "outputs": [
    {
     "name": "stderr",
     "output_type": "stream",
     "text": [
      "[I 2023-12-20 21:45:05,388] A new study created in memory with name: Study node type S, normalized: True\n"
     ]
    },
    {
     "data": {
      "text/plain": "  0%|          | 0/50 [00:00<?, ?it/s]",
      "application/vnd.jupyter.widget-view+json": {
       "version_major": 2,
       "version_minor": 0,
       "model_id": "619418e0e2e24cc1888efcfaeadd9c6a"
      }
     },
     "metadata": {},
     "output_type": "display_data"
    },
    {
     "name": "stdout",
     "output_type": "stream",
     "text": [
      "[I 2023-12-20 21:46:25,548] Trial 0 finished with value: 0.08934944980044916 and parameters: {'hidden_dim': 16, 'k': 5, 'learning_rate': 0.0012546091565712432, 'batcher': False}. Best is trial 0 with value: 0.08934944980044916.\n",
      "[I 2023-12-20 21:47:45,784] Trial 1 finished with value: 0.8934739388185354 and parameters: {'hidden_dim': 176, 'k': 3, 'learning_rate': 0.0018136648460122967, 'batcher': True}. Best is trial 1 with value: 0.8934739388185354.\n",
      "[I 2023-12-20 21:49:09,267] Trial 2 finished with value: 0.8001011246718497 and parameters: {'hidden_dim': 464, 'k': 1, 'learning_rate': 0.000741675256430483, 'batcher': True}. Best is trial 1 with value: 0.8934739388185354.\n",
      "[I 2023-12-20 21:50:32,849] Trial 3 finished with value: 0.7689758527238156 and parameters: {'hidden_dim': 224, 'k': 5, 'learning_rate': 0.0003582036616317171, 'batcher': True}. Best is trial 1 with value: 0.8934739388185354.\n",
      "[I 2023-12-20 21:52:16,283] Trial 4 finished with value: 0.7970284087099441 and parameters: {'hidden_dim': 464, 'k': 5, 'learning_rate': 0.00025008572570408064, 'batcher': True}. Best is trial 1 with value: 0.8934739388185354.\n",
      "[I 2023-12-20 21:53:56,165] Trial 5 finished with value: 0.12305431997497536 and parameters: {'hidden_dim': 32, 'k': 2, 'learning_rate': 0.000585936494295028, 'batcher': True}. Best is trial 1 with value: 0.8934739388185354.\n",
      "[I 2023-12-20 21:56:03,669] Trial 6 finished with value: -161.82161949824882 and parameters: {'hidden_dim': 32, 'k': 5, 'learning_rate': 2.655386549917416e-05, 'batcher': False}. Best is trial 1 with value: 0.8934739388185354.\n",
      "[I 2023-12-20 21:57:59,658] Trial 7 finished with value: -79.61969946350817 and parameters: {'hidden_dim': 240, 'k': 4, 'learning_rate': 1.39831303456389e-05, 'batcher': True}. Best is trial 1 with value: 0.8934739388185354.\n",
      "[I 2023-12-20 21:59:40,031] Trial 8 finished with value: 0.9419023800885231 and parameters: {'hidden_dim': 192, 'k': 3, 'learning_rate': 0.004035971025076476, 'batcher': False}. Best is trial 8 with value: 0.9419023800885231.\n",
      "[I 2023-12-20 22:01:29,142] Trial 9 finished with value: 0.18583009713629178 and parameters: {'hidden_dim': 208, 'k': 1, 'learning_rate': 9.01653022926992e-05, 'batcher': False}. Best is trial 8 with value: 0.9419023800885231.\n",
      "[I 2023-12-20 22:03:27,639] Trial 10 finished with value: 0.9071277611953997 and parameters: {'hidden_dim': 352, 'k': 3, 'learning_rate': 0.007639786536811677, 'batcher': False}. Best is trial 8 with value: 0.9419023800885231.\n",
      "[I 2023-12-20 22:05:09,989] Trial 11 finished with value: 0.8953417918791665 and parameters: {'hidden_dim': 352, 'k': 3, 'learning_rate': 0.008845644638141404, 'batcher': False}. Best is trial 8 with value: 0.9419023800885231.\n",
      "[I 2023-12-20 22:06:47,889] Trial 12 finished with value: 0.9132312401961331 and parameters: {'hidden_dim': 336, 'k': 2, 'learning_rate': 0.007889946739313593, 'batcher': False}. Best is trial 8 with value: 0.9419023800885231.\n",
      "[I 2023-12-20 22:08:26,200] Trial 13 finished with value: 0.934724746440408 and parameters: {'hidden_dim': 320, 'k': 2, 'learning_rate': 0.003273412214255605, 'batcher': False}. Best is trial 8 with value: 0.9419023800885231.\n",
      "[I 2023-12-20 22:10:06,645] Trial 14 finished with value: 0.8771446526026194 and parameters: {'hidden_dim': 128, 'k': 2, 'learning_rate': 0.0025940459822809806, 'batcher': False}. Best is trial 8 with value: 0.9419023800885231.\n",
      "[I 2023-12-20 22:11:49,811] Trial 15 finished with value: 0.9426637358327289 and parameters: {'hidden_dim': 304, 'k': 4, 'learning_rate': 0.003845753076346015, 'batcher': False}. Best is trial 15 with value: 0.9426637358327289.\n",
      "[I 2023-12-20 22:13:28,179] Trial 16 finished with value: 0.8935716686493909 and parameters: {'hidden_dim': 128, 'k': 4, 'learning_rate': 0.003864066341847353, 'batcher': False}. Best is trial 15 with value: 0.9426637358327289.\n",
      "[I 2023-12-20 22:15:06,618] Trial 17 finished with value: 0.9149201028113124 and parameters: {'hidden_dim': 400, 'k': 4, 'learning_rate': 0.0012490348850077236, 'batcher': False}. Best is trial 15 with value: 0.9426637358327289.\n",
      "[I 2023-12-20 22:16:47,413] Trial 18 finished with value: 0.9476164144997437 and parameters: {'hidden_dim': 288, 'k': 4, 'learning_rate': 0.004215920371671765, 'batcher': False}. Best is trial 18 with value: 0.9476164144997437.\n",
      "[I 2023-12-20 22:18:29,580] Trial 19 finished with value: 0.9153724469573454 and parameters: {'hidden_dim': 304, 'k': 4, 'learning_rate': 0.0018359889549266716, 'batcher': False}. Best is trial 18 with value: 0.9476164144997437.\n",
      "[I 2023-12-20 22:20:10,989] Trial 20 finished with value: 0.9485120807116079 and parameters: {'hidden_dim': 288, 'k': 4, 'learning_rate': 0.00966559687072065, 'batcher': False}. Best is trial 20 with value: 0.9485120807116079.\n",
      "[I 2023-12-20 22:21:54,489] Trial 21 finished with value: 0.9451164979111756 and parameters: {'hidden_dim': 272, 'k': 4, 'learning_rate': 0.004423776393164228, 'batcher': False}. Best is trial 20 with value: 0.9485120807116079.\n",
      "[I 2023-12-20 22:23:34,425] Trial 22 finished with value: 0.7714021974694779 and parameters: {'hidden_dim': 272, 'k': 4, 'learning_rate': 0.009595733304778422, 'batcher': False}. Best is trial 20 with value: 0.9485120807116079.\n",
      "[I 2023-12-20 22:25:20,656] Trial 23 finished with value: 0.8847772617364384 and parameters: {'hidden_dim': 400, 'k': 4, 'learning_rate': 0.005205489408444737, 'batcher': False}. Best is trial 20 with value: 0.9485120807116079.\n",
      "[I 2023-12-20 22:27:21,613] Trial 24 finished with value: 0.9605666508882509 and parameters: {'hidden_dim': 256, 'k': 3, 'learning_rate': 0.005445841922602764, 'batcher': False}. Best is trial 24 with value: 0.9605666508882509.\n",
      "[I 2023-12-20 22:29:07,047] Trial 25 finished with value: 0.8676853339123751 and parameters: {'hidden_dim': 400, 'k': 3, 'learning_rate': 0.0060213173911789685, 'batcher': False}. Best is trial 24 with value: 0.9605666508882509.\n",
      "[I 2023-12-20 22:30:28,211] Trial 26 finished with value: 0.8968184646883313 and parameters: {'hidden_dim': 160, 'k': 3, 'learning_rate': 0.002275677695484738, 'batcher': False}. Best is trial 24 with value: 0.9605666508882509.\n",
      "[I 2023-12-20 22:31:55,120] Trial 27 finished with value: 0.6324794073752 and parameters: {'hidden_dim': 512, 'k': 3, 'learning_rate': 0.009375997256908785, 'batcher': False}. Best is trial 24 with value: 0.9605666508882509.\n",
      "[I 2023-12-20 22:33:17,276] Trial 28 finished with value: 0.9060703103913662 and parameters: {'hidden_dim': 240, 'k': 5, 'learning_rate': 0.00542550841818289, 'batcher': False}. Best is trial 24 with value: 0.9605666508882509.\n",
      "[I 2023-12-20 22:34:43,343] Trial 29 finished with value: 0.8696767407826786 and parameters: {'hidden_dim': 272, 'k': 5, 'learning_rate': 0.0013564694636404237, 'batcher': False}. Best is trial 24 with value: 0.9605666508882509.\n",
      "[I 2023-12-20 22:36:18,935] Trial 30 finished with value: 0.8514028451206963 and parameters: {'hidden_dim': 80, 'k': 4, 'learning_rate': 0.0027322498445109047, 'batcher': False}. Best is trial 24 with value: 0.9605666508882509.\n",
      "[I 2023-12-20 22:38:21,079] Trial 31 finished with value: 0.9291014890212492 and parameters: {'hidden_dim': 272, 'k': 4, 'learning_rate': 0.004577160418794828, 'batcher': False}. Best is trial 24 with value: 0.9605666508882509.\n",
      "[I 2023-12-20 22:40:16,973] Trial 32 finished with value: 0.9430175775887285 and parameters: {'hidden_dim': 288, 'k': 3, 'learning_rate': 0.004529403317942359, 'batcher': False}. Best is trial 24 with value: 0.9605666508882509.\n",
      "[I 2023-12-20 22:41:58,912] Trial 33 finished with value: 0.9209914506817884 and parameters: {'hidden_dim': 368, 'k': 4, 'learning_rate': 0.006381245669575516, 'batcher': False}. Best is trial 24 with value: 0.9605666508882509.\n",
      "[I 2023-12-20 22:43:32,494] Trial 34 finished with value: 0.9000824678219097 and parameters: {'hidden_dim': 240, 'k': 5, 'learning_rate': 0.0031935006340026227, 'batcher': True}. Best is trial 24 with value: 0.9605666508882509.\n",
      "[I 2023-12-20 22:45:09,412] Trial 35 finished with value: 0.8951879953839388 and parameters: {'hidden_dim': 160, 'k': 3, 'learning_rate': 0.0017344461306735516, 'batcher': True}. Best is trial 24 with value: 0.9605666508882509.\n",
      "[I 2023-12-20 22:46:39,293] Trial 36 finished with value: 0.8577584809946309 and parameters: {'hidden_dim': 208, 'k': 4, 'learning_rate': 0.000981537039689798, 'batcher': False}. Best is trial 24 with value: 0.9605666508882509.\n",
      "[I 2023-12-20 22:49:12,410] Trial 37 finished with value: 0.8983600755043624 and parameters: {'hidden_dim': 256, 'k': 5, 'learning_rate': 0.002098994628154635, 'batcher': True}. Best is trial 24 with value: 0.9605666508882509.\n",
      "[I 2023-12-20 22:51:06,312] Trial 38 finished with value: 0.952803614084665 and parameters: {'hidden_dim': 320, 'k': 3, 'learning_rate': 0.009924750706261384, 'batcher': False}. Best is trial 24 with value: 0.9605666508882509.\n",
      "[I 2023-12-20 22:52:39,465] Trial 39 finished with value: 0.8490154265126597 and parameters: {'hidden_dim': 432, 'k': 2, 'learning_rate': 0.007299260770739674, 'batcher': True}. Best is trial 24 with value: 0.9605666508882509.\n",
      "[I 2023-12-20 22:54:13,923] Trial 40 finished with value: 0.9634854255299266 and parameters: {'hidden_dim': 320, 'k': 3, 'learning_rate': 0.006115284983172473, 'batcher': False}. Best is trial 40 with value: 0.9634854255299266.\n",
      "[I 2023-12-20 22:55:46,147] Trial 41 finished with value: 0.9559255733883244 and parameters: {'hidden_dim': 320, 'k': 3, 'learning_rate': 0.00967756839150826, 'batcher': False}. Best is trial 40 with value: 0.9634854255299266.\n",
      "[I 2023-12-20 22:57:14,486] Trial 42 finished with value: 0.9398076982887288 and parameters: {'hidden_dim': 320, 'k': 3, 'learning_rate': 0.009587796955121302, 'batcher': False}. Best is trial 40 with value: 0.9634854255299266.\n",
      "[I 2023-12-20 22:58:48,679] Trial 43 finished with value: 0.9074013724394691 and parameters: {'hidden_dim': 368, 'k': 2, 'learning_rate': 0.006285818176193589, 'batcher': False}. Best is trial 40 with value: 0.9634854255299266.\n",
      "[I 2023-12-20 23:00:23,405] Trial 44 finished with value: 0.9337798280454827 and parameters: {'hidden_dim': 336, 'k': 3, 'learning_rate': 0.006601024090554054, 'batcher': False}. Best is trial 40 with value: 0.9634854255299266.\n",
      "[I 2023-12-20 23:02:22,504] Trial 45 finished with value: 0.8949947003614112 and parameters: {'hidden_dim': 368, 'k': 3, 'learning_rate': 0.009193419100632018, 'batcher': False}. Best is trial 40 with value: 0.9634854255299266.\n",
      "[I 2023-12-20 23:04:05,101] Trial 46 finished with value: 0.9197735117378422 and parameters: {'hidden_dim': 224, 'k': 3, 'learning_rate': 0.002997004763560202, 'batcher': False}. Best is trial 40 with value: 0.9634854255299266.\n",
      "[I 2023-12-20 23:05:38,694] Trial 47 finished with value: 0.9154673362672018 and parameters: {'hidden_dim': 304, 'k': 2, 'learning_rate': 0.006862735242879425, 'batcher': True}. Best is trial 40 with value: 0.9634854255299266.\n",
      "[I 2023-12-20 23:07:14,391] Trial 48 finished with value: 0.9001780507461816 and parameters: {'hidden_dim': 336, 'k': 3, 'learning_rate': 0.005474913541921585, 'batcher': False}. Best is trial 40 with value: 0.9634854255299266.\n",
      "[I 2023-12-20 23:08:52,964] Trial 49 finished with value: 0.8618069021217727 and parameters: {'hidden_dim': 432, 'k': 1, 'learning_rate': 0.00345919702079551, 'batcher': False}. Best is trial 40 with value: 0.9634854255299266.\n"
     ]
    }
   ],
   "source": [
    "node_type = \"S\"\n",
    "size_elem = 10\n",
    "n_trials = 50\n",
    "normalized = True\n",
    "study = optuna.create_study(study_name=f\"Study node type {node_type}, normalized: {normalized}\", directions=['maximize'])\n",
    "study.optimize(objective, n_trials=n_trials, show_progress_bar=True)"
   ],
   "metadata": {
    "collapsed": false,
    "ExecuteTime": {
     "start_time": "2023-12-20T21:45:05.389295Z",
     "end_time": "2023-12-20T23:08:52.981128Z"
    }
   }
  },
  {
   "cell_type": "code",
   "execution_count": 6,
   "outputs": [],
   "source": [
    "study.trials_dataframe().to_csv(f\"csvs/single-node_t-{node_type}_n-{size_elem}_post-normalized-{normalized}.csv\")"
   ],
   "metadata": {
    "collapsed": false,
    "ExecuteTime": {
     "start_time": "2023-12-20T23:08:52.982137Z",
     "end_time": "2023-12-20T23:08:53.019132Z"
    }
   }
  },
  {
   "cell_type": "markdown",
   "source": [
    "### Q"
   ],
   "metadata": {
    "collapsed": false
   }
  },
  {
   "cell_type": "code",
   "execution_count": 7,
   "outputs": [
    {
     "name": "stderr",
     "output_type": "stream",
     "text": [
      "[I 2023-12-20 23:08:53,013] A new study created in memory with name: Study node type Q, normalized: True\n"
     ]
    },
    {
     "data": {
      "text/plain": "  0%|          | 0/50 [00:00<?, ?it/s]",
      "application/vnd.jupyter.widget-view+json": {
       "version_major": 2,
       "version_minor": 0,
       "model_id": "107bb1f934ea42318d37d88580cc9e82"
      }
     },
     "metadata": {},
     "output_type": "display_data"
    },
    {
     "name": "stdout",
     "output_type": "stream",
     "text": [
      "[I 2023-12-20 23:10:30,608] Trial 0 finished with value: -0.058720025390144495 and parameters: {'hidden_dim': 144, 'k': 5, 'learning_rate': 5.653257441659244e-05, 'batcher': False}. Best is trial 0 with value: -0.058720025390144495.\n",
      "[I 2023-12-20 23:12:04,174] Trial 1 finished with value: 0.926738050885713 and parameters: {'hidden_dim': 464, 'k': 2, 'learning_rate': 0.002559273511363111, 'batcher': True}. Best is trial 1 with value: 0.926738050885713.\n",
      "[I 2023-12-20 23:13:36,128] Trial 2 finished with value: 0.03294403578654035 and parameters: {'hidden_dim': 80, 'k': 4, 'learning_rate': 0.00019776369616638932, 'batcher': False}. Best is trial 1 with value: 0.926738050885713.\n",
      "[I 2023-12-20 23:15:09,393] Trial 3 finished with value: 0.9226773292606932 and parameters: {'hidden_dim': 64, 'k': 3, 'learning_rate': 0.005590225444094862, 'batcher': False}. Best is trial 1 with value: 0.926738050885713.\n",
      "[I 2023-12-20 23:16:44,443] Trial 4 finished with value: 0.4254004377461073 and parameters: {'hidden_dim': 224, 'k': 1, 'learning_rate': 0.00032350704671711813, 'batcher': False}. Best is trial 1 with value: 0.926738050885713.\n",
      "[I 2023-12-20 23:18:24,526] Trial 5 finished with value: 0.7214738842473764 and parameters: {'hidden_dim': 400, 'k': 1, 'learning_rate': 0.0006670483372631578, 'batcher': True}. Best is trial 1 with value: 0.926738050885713.\n",
      "[I 2023-12-20 23:19:57,278] Trial 6 finished with value: 0.7804525632572887 and parameters: {'hidden_dim': 64, 'k': 3, 'learning_rate': 0.002068699075618315, 'batcher': False}. Best is trial 1 with value: 0.926738050885713.\n",
      "[I 2023-12-20 23:21:35,525] Trial 7 finished with value: 0.3206738708993943 and parameters: {'hidden_dim': 432, 'k': 2, 'learning_rate': 2.4182611212443745e-05, 'batcher': True}. Best is trial 1 with value: 0.926738050885713.\n",
      "[I 2023-12-20 23:23:15,174] Trial 8 finished with value: 0.7993835202911104 and parameters: {'hidden_dim': 480, 'k': 3, 'learning_rate': 0.00010791378551505645, 'batcher': True}. Best is trial 1 with value: 0.926738050885713.\n",
      "[I 2023-12-20 23:25:18,625] Trial 9 finished with value: -0.3292329906877753 and parameters: {'hidden_dim': 160, 'k': 3, 'learning_rate': 4.292634207413868e-05, 'batcher': False}. Best is trial 1 with value: 0.926738050885713.\n",
      "[I 2023-12-20 23:27:22,102] Trial 10 finished with value: 0.7938429548792945 and parameters: {'hidden_dim': 336, 'k': 2, 'learning_rate': 0.008643346042994072, 'batcher': True}. Best is trial 1 with value: 0.926738050885713.\n",
      "[I 2023-12-20 23:29:25,597] Trial 11 finished with value: 0.8415908478337727 and parameters: {'hidden_dim': 288, 'k': 2, 'learning_rate': 0.009121348769439526, 'batcher': True}. Best is trial 1 with value: 0.926738050885713.\n",
      "[I 2023-12-20 23:31:32,207] Trial 12 finished with value: 0.6369999750704893 and parameters: {'hidden_dim': 32, 'k': 4, 'learning_rate': 0.0025276420028230726, 'batcher': True}. Best is trial 1 with value: 0.926738050885713.\n",
      "[I 2023-12-20 23:34:11,357] Trial 13 finished with value: 0.9151353661964734 and parameters: {'hidden_dim': 512, 'k': 4, 'learning_rate': 0.0018172171751515505, 'batcher': False}. Best is trial 1 with value: 0.926738050885713.\n",
      "[I 2023-12-20 23:36:19,616] Trial 14 finished with value: 0.9242993702283885 and parameters: {'hidden_dim': 352, 'k': 2, 'learning_rate': 0.004345450567640579, 'batcher': False}. Best is trial 1 with value: 0.926738050885713.\n",
      "[I 2023-12-20 23:38:31,388] Trial 15 finished with value: 0.8956905500223169 and parameters: {'hidden_dim': 368, 'k': 2, 'learning_rate': 0.0007903208030247226, 'batcher': True}. Best is trial 1 with value: 0.926738050885713.\n",
      "[I 2023-12-20 23:40:36,379] Trial 16 finished with value: 0.8003173188142014 and parameters: {'hidden_dim': 304, 'k': 1, 'learning_rate': 0.0035785716787086726, 'batcher': False}. Best is trial 1 with value: 0.926738050885713.\n",
      "[I 2023-12-20 23:42:45,425] Trial 17 finished with value: 0.9016948589223024 and parameters: {'hidden_dim': 448, 'k': 2, 'learning_rate': 0.0012945515127357119, 'batcher': True}. Best is trial 1 with value: 0.926738050885713.\n",
      "[I 2023-12-20 23:44:51,838] Trial 18 finished with value: 0.7602657996576708 and parameters: {'hidden_dim': 240, 'k': 1, 'learning_rate': 0.00409542469820699, 'batcher': True}. Best is trial 1 with value: 0.926738050885713.\n",
      "[I 2023-12-20 23:47:03,293] Trial 19 finished with value: 0.8909586991533425 and parameters: {'hidden_dim': 400, 'k': 2, 'learning_rate': 0.0010189802097905702, 'batcher': False}. Best is trial 1 with value: 0.926738050885713.\n",
      "[I 2023-12-20 23:49:14,845] Trial 20 finished with value: 0.8673876867325172 and parameters: {'hidden_dim': 512, 'k': 5, 'learning_rate': 0.004216141773883119, 'batcher': False}. Best is trial 1 with value: 0.926738050885713.\n",
      "[I 2023-12-20 23:51:22,108] Trial 21 finished with value: 0.9482072949592965 and parameters: {'hidden_dim': 192, 'k': 3, 'learning_rate': 0.006810227813447693, 'batcher': False}. Best is trial 21 with value: 0.9482072949592965.\n",
      "[I 2023-12-20 23:53:29,351] Trial 22 finished with value: 0.9346675726016166 and parameters: {'hidden_dim': 192, 'k': 3, 'learning_rate': 0.008770374073557102, 'batcher': False}. Best is trial 21 with value: 0.9482072949592965.\n",
      "[I 2023-12-20 23:55:37,652] Trial 23 finished with value: 0.9270120723686055 and parameters: {'hidden_dim': 176, 'k': 4, 'learning_rate': 0.009269975426832645, 'batcher': False}. Best is trial 21 with value: 0.9482072949592965.\n",
      "[I 2023-12-20 23:57:45,619] Trial 24 finished with value: 0.9110237664270813 and parameters: {'hidden_dim': 160, 'k': 4, 'learning_rate': 0.008474832750201652, 'batcher': False}. Best is trial 21 with value: 0.9482072949592965.\n",
      "[I 2023-12-20 23:59:52,873] Trial 25 finished with value: 0.9240718374139035 and parameters: {'hidden_dim': 208, 'k': 4, 'learning_rate': 0.006365319107601384, 'batcher': False}. Best is trial 21 with value: 0.9482072949592965.\n",
      "[I 2023-12-21 00:02:00,286] Trial 26 finished with value: 0.9383838662722773 and parameters: {'hidden_dim': 112, 'k': 3, 'learning_rate': 0.008977093786013994, 'batcher': False}. Best is trial 21 with value: 0.9482072949592965.\n",
      "[I 2023-12-21 00:04:07,514] Trial 27 finished with value: 0.9151277554749193 and parameters: {'hidden_dim': 112, 'k': 3, 'learning_rate': 0.005559825820719884, 'batcher': False}. Best is trial 21 with value: 0.9482072949592965.\n",
      "[I 2023-12-21 00:06:16,172] Trial 28 finished with value: 0.8608280775088947 and parameters: {'hidden_dim': 112, 'k': 3, 'learning_rate': 0.0026837374012854314, 'batcher': False}. Best is trial 21 with value: 0.9482072949592965.\n",
      "[I 2023-12-21 00:08:23,792] Trial 29 finished with value: 0.8005993744849453 and parameters: {'hidden_dim': 192, 'k': 5, 'learning_rate': 0.0015082414279828265, 'batcher': False}. Best is trial 21 with value: 0.9482072949592965.\n",
      "[I 2023-12-21 00:10:31,066] Trial 30 finished with value: 0.9360300495857918 and parameters: {'hidden_dim': 128, 'k': 3, 'learning_rate': 0.006002056794976458, 'batcher': False}. Best is trial 21 with value: 0.9482072949592965.\n",
      "[I 2023-12-21 00:12:38,335] Trial 31 finished with value: 0.9363398757517073 and parameters: {'hidden_dim': 128, 'k': 3, 'learning_rate': 0.005962510796241034, 'batcher': False}. Best is trial 21 with value: 0.9482072949592965.\n",
      "[I 2023-12-21 00:14:46,961] Trial 32 finished with value: 0.8852434536450264 and parameters: {'hidden_dim': 128, 'k': 3, 'learning_rate': 0.003275263769489078, 'batcher': False}. Best is trial 21 with value: 0.9482072949592965.\n",
      "[I 2023-12-21 00:16:58,461] Trial 33 finished with value: 0.8688046059660552 and parameters: {'hidden_dim': 96, 'k': 3, 'learning_rate': 0.005182770370514489, 'batcher': False}. Best is trial 21 with value: 0.9482072949592965.\n",
      "[I 2023-12-21 00:19:08,689] Trial 34 finished with value: 0.8911997336227391 and parameters: {'hidden_dim': 144, 'k': 3, 'learning_rate': 0.0027555247979197187, 'batcher': False}. Best is trial 21 with value: 0.9482072949592965.\n",
      "[I 2023-12-21 00:21:15,878] Trial 35 finished with value: 0.2567245940471691 and parameters: {'hidden_dim': 16, 'k': 3, 'learning_rate': 0.0060966950295357975, 'batcher': False}. Best is trial 21 with value: 0.9482072949592965.\n",
      "[I 2023-12-21 00:23:23,375] Trial 36 finished with value: 0.8941341301176798 and parameters: {'hidden_dim': 256, 'k': 4, 'learning_rate': 0.001895898996476378, 'batcher': False}. Best is trial 21 with value: 0.9482072949592965.\n",
      "[I 2023-12-21 00:25:30,667] Trial 37 finished with value: 0.6827859933367222 and parameters: {'hidden_dim': 48, 'k': 3, 'learning_rate': 0.006303375321112029, 'batcher': False}. Best is trial 21 with value: 0.9482072949592965.\n",
      "[I 2023-12-21 00:27:38,009] Trial 38 finished with value: 0.8495783189422849 and parameters: {'hidden_dim': 80, 'k': 4, 'learning_rate': 0.0034024357303565267, 'batcher': False}. Best is trial 21 with value: 0.9482072949592965.\n",
      "[I 2023-12-21 00:29:45,170] Trial 39 finished with value: 0.6366121675725858 and parameters: {'hidden_dim': 224, 'k': 3, 'learning_rate': 0.00039673771467282226, 'batcher': False}. Best is trial 21 with value: 0.9482072949592965.\n",
      "[I 2023-12-21 00:31:52,359] Trial 40 finished with value: 0.8312820014753857 and parameters: {'hidden_dim': 128, 'k': 3, 'learning_rate': 0.0023543880332600547, 'batcher': False}. Best is trial 21 with value: 0.9482072949592965.\n",
      "[I 2023-12-21 00:33:59,693] Trial 41 finished with value: 0.9227530272126547 and parameters: {'hidden_dim': 192, 'k': 3, 'learning_rate': 0.009745630096463792, 'batcher': False}. Best is trial 21 with value: 0.9482072949592965.\n",
      "[I 2023-12-21 00:36:07,931] Trial 42 finished with value: 0.9466935318668226 and parameters: {'hidden_dim': 160, 'k': 3, 'learning_rate': 0.006760049586625326, 'batcher': False}. Best is trial 21 with value: 0.9482072949592965.\n",
      "[I 2023-12-21 00:38:15,963] Trial 43 finished with value: 0.9341033503819303 and parameters: {'hidden_dim': 160, 'k': 3, 'learning_rate': 0.006210324594194771, 'batcher': False}. Best is trial 21 with value: 0.9482072949592965.\n",
      "[I 2023-12-21 00:40:23,162] Trial 44 finished with value: 0.8346612499743422 and parameters: {'hidden_dim': 80, 'k': 2, 'learning_rate': 0.004320389759322889, 'batcher': False}. Best is trial 21 with value: 0.9482072949592965.\n",
      "[I 2023-12-21 00:42:32,074] Trial 45 finished with value: 0.9449604730765111 and parameters: {'hidden_dim': 144, 'k': 3, 'learning_rate': 0.006990178171404699, 'batcher': False}. Best is trial 21 with value: 0.9482072949592965.\n",
      "[I 2023-12-21 00:44:41,679] Trial 46 finished with value: 0.9082701989577948 and parameters: {'hidden_dim': 64, 'k': 4, 'learning_rate': 0.007248621059195184, 'batcher': False}. Best is trial 21 with value: 0.9482072949592965.\n",
      "[I 2023-12-21 00:46:48,919] Trial 47 finished with value: 0.936604543194006 and parameters: {'hidden_dim': 272, 'k': 3, 'learning_rate': 0.0046529691430925064, 'batcher': False}. Best is trial 21 with value: 0.9482072949592965.\n",
      "[I 2023-12-21 00:48:56,393] Trial 48 finished with value: 0.9444187786900576 and parameters: {'hidden_dim': 288, 'k': 2, 'learning_rate': 0.004802512457867348, 'batcher': False}. Best is trial 21 with value: 0.9482072949592965.\n",
      "[I 2023-12-21 00:51:03,748] Trial 49 finished with value: 0.8689457690104229 and parameters: {'hidden_dim': 320, 'k': 2, 'learning_rate': 0.009937289496069597, 'batcher': False}. Best is trial 21 with value: 0.9482072949592965.\n"
     ]
    }
   ],
   "source": [
    "node_type = \"Q\"\n",
    "size_elem = 10\n",
    "n_trials = 50\n",
    "normalized = True\n",
    "study = optuna.create_study(study_name=f\"Study node type {node_type}, normalized: {normalized}\", directions=['maximize'])\n",
    "study.optimize(objective, n_trials=n_trials, show_progress_bar=True)"
   ],
   "metadata": {
    "collapsed": false,
    "ExecuteTime": {
     "start_time": "2023-12-20T23:08:53.013133Z",
     "end_time": "2023-12-21T00:51:03.755603Z"
    }
   }
  },
  {
   "cell_type": "code",
   "execution_count": 8,
   "outputs": [],
   "source": [
    "study.trials_dataframe().to_csv(f\"csvs/single-node_t-{node_type}_n-{size_elem}_post-normalized-{normalized}.csv\")"
   ],
   "metadata": {
    "collapsed": false,
    "ExecuteTime": {
     "start_time": "2023-12-21T00:51:03.755603Z",
     "end_time": "2023-12-21T00:51:03.771603Z"
    }
   }
  },
  {
   "cell_type": "markdown",
   "source": [
    "### C"
   ],
   "metadata": {
    "collapsed": false
   }
  },
  {
   "cell_type": "code",
   "execution_count": 9,
   "outputs": [
    {
     "name": "stderr",
     "output_type": "stream",
     "text": [
      "[I 2023-12-21 00:51:03,772] A new study created in memory with name: Study node type C, normalized: True\n"
     ]
    },
    {
     "data": {
      "text/plain": "  0%|          | 0/50 [00:00<?, ?it/s]",
      "application/vnd.jupyter.widget-view+json": {
       "version_major": 2,
       "version_minor": 0,
       "model_id": "40068619027047afa990f3a961ee9966"
      }
     },
     "metadata": {},
     "output_type": "display_data"
    },
    {
     "name": "stdout",
     "output_type": "stream",
     "text": [
      "[I 2023-12-21 00:53:13,026] Trial 0 finished with value: 0.8612508180404213 and parameters: {'hidden_dim': 272, 'k': 4, 'learning_rate': 0.0003508829737558717, 'batcher': True}. Best is trial 0 with value: 0.8612508180404213.\n",
      "[I 2023-12-21 00:55:20,016] Trial 1 finished with value: 0.9048524827713831 and parameters: {'hidden_dim': 416, 'k': 3, 'learning_rate': 0.0005115964004865398, 'batcher': True}. Best is trial 1 with value: 0.9048524827713831.\n",
      "[I 2023-12-21 00:57:27,202] Trial 2 finished with value: -179.63784086390714 and parameters: {'hidden_dim': 80, 'k': 4, 'learning_rate': 1.1071281645793394e-05, 'batcher': True}. Best is trial 1 with value: 0.9048524827713831.\n",
      "[I 2023-12-21 00:59:34,419] Trial 3 finished with value: 0.9212202873969977 and parameters: {'hidden_dim': 112, 'k': 3, 'learning_rate': 0.003365359067528299, 'batcher': True}. Best is trial 3 with value: 0.9212202873969977.\n",
      "[I 2023-12-21 01:01:41,619] Trial 4 finished with value: -75.53338789198128 and parameters: {'hidden_dim': 336, 'k': 1, 'learning_rate': 1.63049405758296e-05, 'batcher': True}. Best is trial 3 with value: 0.9212202873969977.\n",
      "[I 2023-12-21 01:03:48,754] Trial 5 finished with value: -133.35363825431972 and parameters: {'hidden_dim': 48, 'k': 4, 'learning_rate': 7.917097609542007e-05, 'batcher': False}. Best is trial 3 with value: 0.9212202873969977.\n",
      "[I 2023-12-21 01:05:56,146] Trial 6 finished with value: 0.8976663627812069 and parameters: {'hidden_dim': 464, 'k': 1, 'learning_rate': 0.0006504223334554815, 'batcher': True}. Best is trial 3 with value: 0.9212202873969977.\n",
      "[I 2023-12-21 01:08:03,569] Trial 7 finished with value: 0.46410469475846716 and parameters: {'hidden_dim': 272, 'k': 4, 'learning_rate': 0.00013981894238358268, 'batcher': False}. Best is trial 3 with value: 0.9212202873969977.\n",
      "[I 2023-12-21 01:10:10,624] Trial 8 finished with value: 0.8240029166260125 and parameters: {'hidden_dim': 336, 'k': 3, 'learning_rate': 0.009990811559494632, 'batcher': False}. Best is trial 3 with value: 0.9212202873969977.\n",
      "[I 2023-12-21 01:12:17,762] Trial 9 finished with value: 0.4853084638337948 and parameters: {'hidden_dim': 96, 'k': 1, 'learning_rate': 0.0014814761129170785, 'batcher': False}. Best is trial 3 with value: 0.9212202873969977.\n",
      "[I 2023-12-21 01:14:25,235] Trial 10 finished with value: 0.9108768920417489 and parameters: {'hidden_dim': 160, 'k': 2, 'learning_rate': 0.003485346230821901, 'batcher': True}. Best is trial 3 with value: 0.9212202873969977.\n",
      "[I 2023-12-21 01:16:33,779] Trial 11 finished with value: 0.926664019961042 and parameters: {'hidden_dim': 160, 'k': 2, 'learning_rate': 0.005287422895610898, 'batcher': True}. Best is trial 11 with value: 0.926664019961042.\n",
      "[I 2023-12-21 01:18:42,882] Trial 12 finished with value: 0.9661214172600927 and parameters: {'hidden_dim': 176, 'k': 2, 'learning_rate': 0.00838568164960482, 'batcher': True}. Best is trial 12 with value: 0.9661214172600927.\n",
      "[I 2023-12-21 01:20:50,139] Trial 13 finished with value: 0.9674057656138066 and parameters: {'hidden_dim': 176, 'k': 2, 'learning_rate': 0.007815380750075913, 'batcher': True}. Best is trial 13 with value: 0.9674057656138066.\n",
      "[I 2023-12-21 01:22:59,281] Trial 14 finished with value: 0.9471263994290438 and parameters: {'hidden_dim': 192, 'k': 2, 'learning_rate': 0.009293529910170307, 'batcher': True}. Best is trial 13 with value: 0.9674057656138066.\n",
      "[I 2023-12-21 01:25:06,594] Trial 15 finished with value: 0.2186797303732384 and parameters: {'hidden_dim': 16, 'k': 5, 'learning_rate': 0.0017472970900585098, 'batcher': True}. Best is trial 13 with value: 0.9674057656138066.\n",
      "[I 2023-12-21 01:27:15,656] Trial 16 finished with value: 0.9285686922674395 and parameters: {'hidden_dim': 208, 'k': 2, 'learning_rate': 0.0016837618413114005, 'batcher': True}. Best is trial 13 with value: 0.9674057656138066.\n",
      "[I 2023-12-21 01:29:24,267] Trial 17 finished with value: 0.9550287903528009 and parameters: {'hidden_dim': 224, 'k': 2, 'learning_rate': 0.0053282921197039205, 'batcher': True}. Best is trial 13 with value: 0.9674057656138066.\n",
      "[I 2023-12-21 01:31:30,437] Trial 18 finished with value: 0.9199212695223977 and parameters: {'hidden_dim': 320, 'k': 3, 'learning_rate': 0.0009682565957829285, 'batcher': False}. Best is trial 13 with value: 0.9674057656138066.\n",
      "[I 2023-12-21 01:33:36,553] Trial 19 finished with value: 0.9222634850012401 and parameters: {'hidden_dim': 144, 'k': 1, 'learning_rate': 0.00273577336650735, 'batcher': True}. Best is trial 13 with value: 0.9674057656138066.\n",
      "[I 2023-12-21 01:35:42,711] Trial 20 finished with value: 0.9305988704824404 and parameters: {'hidden_dim': 240, 'k': 2, 'learning_rate': 0.008799737453889041, 'batcher': True}. Best is trial 13 with value: 0.9674057656138066.\n",
      "[I 2023-12-21 01:37:48,837] Trial 21 finished with value: 0.9591141989757992 and parameters: {'hidden_dim': 208, 'k': 2, 'learning_rate': 0.005602380575284051, 'batcher': True}. Best is trial 13 with value: 0.9674057656138066.\n",
      "[I 2023-12-21 01:39:54,856] Trial 22 finished with value: 0.9584854203363518 and parameters: {'hidden_dim': 176, 'k': 2, 'learning_rate': 0.004800413520671554, 'batcher': True}. Best is trial 13 with value: 0.9674057656138066.\n",
      "[I 2023-12-21 01:42:00,622] Trial 23 finished with value: 0.9083053549058032 and parameters: {'hidden_dim': 128, 'k': 3, 'learning_rate': 0.002621068579540539, 'batcher': True}. Best is trial 13 with value: 0.9674057656138066.\n",
      "[I 2023-12-21 01:44:06,661] Trial 24 finished with value: 0.9702878454629891 and parameters: {'hidden_dim': 304, 'k': 1, 'learning_rate': 0.005691294800084948, 'batcher': True}. Best is trial 24 with value: 0.9702878454629891.\n",
      "[I 2023-12-21 01:46:12,584] Trial 25 finished with value: 0.8346787289653523 and parameters: {'hidden_dim': 384, 'k': 1, 'learning_rate': 0.009169811527985985, 'batcher': True}. Best is trial 24 with value: 0.9702878454629891.\n",
      "[I 2023-12-21 01:48:18,506] Trial 26 finished with value: 0.9355771439809383 and parameters: {'hidden_dim': 304, 'k': 1, 'learning_rate': 0.002355840922899993, 'batcher': False}. Best is trial 24 with value: 0.9702878454629891.\n",
      "[I 2023-12-21 01:50:24,525] Trial 27 finished with value: 0.937264313626739 and parameters: {'hidden_dim': 512, 'k': 1, 'learning_rate': 0.0012155600855221942, 'batcher': True}. Best is trial 24 with value: 0.9702878454629891.\n",
      "[I 2023-12-21 01:52:30,689] Trial 28 finished with value: 0.9586792096350543 and parameters: {'hidden_dim': 272, 'k': 2, 'learning_rate': 0.004414451160873471, 'batcher': True}. Best is trial 24 with value: 0.9702878454629891.\n",
      "[I 2023-12-21 01:54:36,815] Trial 29 finished with value: 0.9506324348268894 and parameters: {'hidden_dim': 368, 'k': 1, 'learning_rate': 0.006473545123145402, 'batcher': True}. Best is trial 24 with value: 0.9702878454629891.\n",
      "[I 2023-12-21 01:56:42,658] Trial 30 finished with value: 0.9487952126261104 and parameters: {'hidden_dim': 240, 'k': 5, 'learning_rate': 0.003510352488835517, 'batcher': True}. Best is trial 24 with value: 0.9702878454629891.\n",
      "[I 2023-12-21 01:58:49,006] Trial 31 finished with value: 0.9690930180287725 and parameters: {'hidden_dim': 208, 'k': 2, 'learning_rate': 0.005221258129084579, 'batcher': True}. Best is trial 24 with value: 0.9702878454629891.\n",
      "[I 2023-12-21 02:00:57,352] Trial 32 finished with value: 0.9282329229912166 and parameters: {'hidden_dim': 288, 'k': 3, 'learning_rate': 0.006300654322376162, 'batcher': True}. Best is trial 24 with value: 0.9702878454629891.\n",
      "[I 2023-12-21 02:03:03,318] Trial 33 finished with value: 0.9361819849877959 and parameters: {'hidden_dim': 240, 'k': 2, 'learning_rate': 0.0022711373351136095, 'batcher': True}. Best is trial 24 with value: 0.9702878454629891.\n",
      "[I 2023-12-21 02:05:09,322] Trial 34 finished with value: 0.9339181596512564 and parameters: {'hidden_dim': 192, 'k': 3, 'learning_rate': 0.003922001188430174, 'batcher': True}. Best is trial 24 with value: 0.9702878454629891.\n",
      "[I 2023-12-21 02:07:15,425] Trial 35 finished with value: 0.9257122274571277 and parameters: {'hidden_dim': 64, 'k': 2, 'learning_rate': 0.006658909142594384, 'batcher': True}. Best is trial 24 with value: 0.9702878454629891.\n",
      "[I 2023-12-21 02:09:21,371] Trial 36 finished with value: 0.9008823528973166 and parameters: {'hidden_dim': 96, 'k': 3, 'learning_rate': 0.0036242476841572033, 'batcher': True}. Best is trial 24 with value: 0.9702878454629891.\n",
      "[I 2023-12-21 02:11:27,604] Trial 37 finished with value: 0.7401921478289474 and parameters: {'hidden_dim': 128, 'k': 1, 'learning_rate': 0.0009617897280900832, 'batcher': True}. Best is trial 24 with value: 0.9702878454629891.\n",
      "[I 2023-12-21 02:13:33,610] Trial 38 finished with value: 0.9654170790173746 and parameters: {'hidden_dim': 368, 'k': 1, 'learning_rate': 0.007133989962403999, 'batcher': False}. Best is trial 24 with value: 0.9702878454629891.\n",
      "[I 2023-12-21 02:15:39,827] Trial 39 finished with value: 0.8927209001753489 and parameters: {'hidden_dim': 256, 'k': 2, 'learning_rate': 0.00994795772779898, 'batcher': True}. Best is trial 24 with value: 0.9702878454629891.\n",
      "[I 2023-12-21 02:17:58,209] Trial 40 finished with value: 0.9283127820249293 and parameters: {'hidden_dim': 432, 'k': 3, 'learning_rate': 0.0005542530901563719, 'batcher': True}. Best is trial 24 with value: 0.9702878454629891.\n",
      "[I 2023-12-21 02:20:06,434] Trial 41 finished with value: 0.9625815516658927 and parameters: {'hidden_dim': 368, 'k': 1, 'learning_rate': 0.006351129828992275, 'batcher': False}. Best is trial 24 with value: 0.9702878454629891.\n",
      "[I 2023-12-21 02:22:17,361] Trial 42 finished with value: 0.9726405101727297 and parameters: {'hidden_dim': 416, 'k': 1, 'learning_rate': 0.007258302132385229, 'batcher': False}. Best is trial 42 with value: 0.9726405101727297.\n",
      "[I 2023-12-21 02:24:23,375] Trial 43 finished with value: 0.9603784834656105 and parameters: {'hidden_dim': 448, 'k': 1, 'learning_rate': 0.0039799187146630595, 'batcher': False}. Best is trial 42 with value: 0.9726405101727297.\n",
      "[I 2023-12-21 02:26:34,669] Trial 44 finished with value: 0.9686613852203948 and parameters: {'hidden_dim': 400, 'k': 4, 'learning_rate': 0.0029230630931016003, 'batcher': False}. Best is trial 42 with value: 0.9726405101727297.\n",
      "[I 2023-12-21 02:28:52,100] Trial 45 finished with value: 0.9773270908276818 and parameters: {'hidden_dim': 480, 'k': 4, 'learning_rate': 0.0026035485762077337, 'batcher': False}. Best is trial 45 with value: 0.9773270908276818.\n",
      "[I 2023-12-21 02:31:14,897] Trial 46 finished with value: 0.9690743732922623 and parameters: {'hidden_dim': 496, 'k': 4, 'learning_rate': 0.0024553475448575862, 'batcher': False}. Best is trial 45 with value: 0.9773270908276818.\n",
      "[I 2023-12-21 02:33:37,596] Trial 47 finished with value: 0.9689611381616098 and parameters: {'hidden_dim': 496, 'k': 4, 'learning_rate': 0.0022948383808070335, 'batcher': False}. Best is trial 45 with value: 0.9773270908276818.\n",
      "[I 2023-12-21 02:36:00,262] Trial 48 finished with value: 0.9194339800969404 and parameters: {'hidden_dim': 464, 'k': 4, 'learning_rate': 0.004683374824168281, 'batcher': False}. Best is trial 45 with value: 0.9773270908276818.\n",
      "[I 2023-12-21 02:38:30,568] Trial 49 finished with value: 0.8812478206688434 and parameters: {'hidden_dim': 480, 'k': 5, 'learning_rate': 0.00036181493357352417, 'batcher': False}. Best is trial 45 with value: 0.9773270908276818.\n"
     ]
    }
   ],
   "source": [
    "node_type = \"C\"\n",
    "size_elem = 10\n",
    "n_trials = 50\n",
    "normalized = True\n",
    "study = optuna.create_study(study_name=f\"Study node type {node_type}, normalized: {normalized}\", directions=['maximize'])\n",
    "study.optimize(objective, n_trials=n_trials, show_progress_bar=True)"
   ],
   "metadata": {
    "collapsed": false,
    "ExecuteTime": {
     "start_time": "2023-12-21T00:51:03.771603Z",
     "end_time": "2023-12-21T02:38:30.573830Z"
    }
   }
  },
  {
   "cell_type": "code",
   "execution_count": 10,
   "outputs": [],
   "source": [
    "study.trials_dataframe().to_csv(f\"csvs/single-node_t-{node_type}_n-{size_elem}_post-normalized-{normalized}.csv\")"
   ],
   "metadata": {
    "collapsed": false,
    "ExecuteTime": {
     "start_time": "2023-12-21T02:38:30.573830Z",
     "end_time": "2023-12-21T02:38:30.588831Z"
    }
   }
  },
  {
   "cell_type": "markdown",
   "source": [
    "### P"
   ],
   "metadata": {
    "collapsed": false
   }
  },
  {
   "cell_type": "code",
   "execution_count": 11,
   "outputs": [
    {
     "name": "stderr",
     "output_type": "stream",
     "text": [
      "[I 2023-12-21 02:38:30,588] A new study created in memory with name: Study node type P, normalized: True\n"
     ]
    },
    {
     "data": {
      "text/plain": "  0%|          | 0/50 [00:00<?, ?it/s]",
      "application/vnd.jupyter.widget-view+json": {
       "version_major": 2,
       "version_minor": 0,
       "model_id": "543f24fa5257430d8c0fea2f403d5f9a"
      }
     },
     "metadata": {},
     "output_type": "display_data"
    },
    {
     "name": "stdout",
     "output_type": "stream",
     "text": [
      "[I 2023-12-21 02:41:00,903] Trial 0 finished with value: 0.12052853097762983 and parameters: {'hidden_dim': 128, 'k': 1, 'learning_rate': 0.00042853643373171654, 'batcher': False}. Best is trial 0 with value: 0.12052853097762983.\n",
      "[I 2023-12-21 02:43:31,264] Trial 1 finished with value: -78.59231117511418 and parameters: {'hidden_dim': 464, 'k': 5, 'learning_rate': 2.776930843753622e-05, 'batcher': True}. Best is trial 0 with value: 0.12052853097762983.\n",
      "[I 2023-12-21 02:46:01,437] Trial 2 finished with value: 0.31604956832886 and parameters: {'hidden_dim': 32, 'k': 4, 'learning_rate': 0.006636929740437197, 'batcher': False}. Best is trial 2 with value: 0.31604956832886.\n",
      "[I 2023-12-21 02:48:32,153] Trial 3 finished with value: -185.822005484006 and parameters: {'hidden_dim': 48, 'k': 4, 'learning_rate': 0.00011464010746841958, 'batcher': False}. Best is trial 2 with value: 0.31604956832886.\n",
      "[I 2023-12-21 02:51:02,606] Trial 4 finished with value: -38.242050330046325 and parameters: {'hidden_dim': 384, 'k': 5, 'learning_rate': 3.7813407917334695e-05, 'batcher': True}. Best is trial 2 with value: 0.31604956832886.\n",
      "[I 2023-12-21 02:53:32,874] Trial 5 finished with value: 0.7188256983738996 and parameters: {'hidden_dim': 144, 'k': 4, 'learning_rate': 0.005713736004990598, 'batcher': False}. Best is trial 5 with value: 0.7188256983738996.\n",
      "[I 2023-12-21 02:56:03,497] Trial 6 finished with value: -0.5077008374206756 and parameters: {'hidden_dim': 384, 'k': 1, 'learning_rate': 5.6995254966743e-05, 'batcher': False}. Best is trial 5 with value: 0.7188256983738996.\n",
      "[I 2023-12-21 02:58:33,873] Trial 7 finished with value: -170.6064676916752 and parameters: {'hidden_dim': 304, 'k': 1, 'learning_rate': 2.6393022998157736e-05, 'batcher': True}. Best is trial 5 with value: 0.7188256983738996.\n",
      "[I 2023-12-21 03:01:04,204] Trial 8 finished with value: 0.40509054157632496 and parameters: {'hidden_dim': 336, 'k': 4, 'learning_rate': 0.0006846484744579052, 'batcher': False}. Best is trial 5 with value: 0.7188256983738996.\n",
      "[I 2023-12-21 03:03:34,542] Trial 9 finished with value: -172.33650089404813 and parameters: {'hidden_dim': 160, 'k': 1, 'learning_rate': 5.4547156410381207e-05, 'batcher': True}. Best is trial 5 with value: 0.7188256983738996.\n",
      "[I 2023-12-21 03:06:05,080] Trial 10 finished with value: 0.6773602591283333 and parameters: {'hidden_dim': 192, 'k': 3, 'learning_rate': 0.007774703916597624, 'batcher': False}. Best is trial 5 with value: 0.7188256983738996.\n",
      "[I 2023-12-21 03:08:35,765] Trial 11 finished with value: 0.950871410328068 and parameters: {'hidden_dim': 192, 'k': 3, 'learning_rate': 0.008864562337246534, 'batcher': False}. Best is trial 11 with value: 0.950871410328068.\n",
      "[I 2023-12-21 03:11:06,385] Trial 12 finished with value: 0.679450478071018 and parameters: {'hidden_dim': 256, 'k': 3, 'learning_rate': 0.002367930444477582, 'batcher': False}. Best is trial 11 with value: 0.950871410328068.\n",
      "[I 2023-12-21 03:13:36,912] Trial 13 finished with value: 0.5844466385301219 and parameters: {'hidden_dim': 224, 'k': 2, 'learning_rate': 0.0022136817963338707, 'batcher': False}. Best is trial 11 with value: 0.950871410328068.\n",
      "[I 2023-12-21 03:16:07,420] Trial 14 finished with value: 0.5092498705779385 and parameters: {'hidden_dim': 112, 'k': 2, 'learning_rate': 0.0072485399910637615, 'batcher': False}. Best is trial 11 with value: 0.950871410328068.\n",
      "[I 2023-12-21 03:18:37,825] Trial 15 finished with value: -198.53640514918823 and parameters: {'hidden_dim': 96, 'k': 3, 'learning_rate': 1.1075943023233322e-05, 'batcher': False}. Best is trial 11 with value: 0.950871410328068.\n",
      "[I 2023-12-21 03:21:08,549] Trial 16 finished with value: 0.48882481543445744 and parameters: {'hidden_dim': 192, 'k': 4, 'learning_rate': 0.0026847591370125134, 'batcher': False}. Best is trial 11 with value: 0.950871410328068.\n",
      "[I 2023-12-21 03:23:39,076] Trial 17 finished with value: 0.9174929340214654 and parameters: {'hidden_dim': 512, 'k': 2, 'learning_rate': 0.009745222305638084, 'batcher': False}. Best is trial 11 with value: 0.950871410328068.\n",
      "[I 2023-12-21 03:26:09,487] Trial 18 finished with value: 0.8145733663619108 and parameters: {'hidden_dim': 512, 'k': 2, 'learning_rate': 0.0006190985219254362, 'batcher': True}. Best is trial 11 with value: 0.950871410328068.\n",
      "[I 2023-12-21 03:28:39,978] Trial 19 finished with value: 0.6887503869005235 and parameters: {'hidden_dim': 432, 'k': 2, 'learning_rate': 0.0011701408243639411, 'batcher': False}. Best is trial 11 with value: 0.950871410328068.\n",
      "[I 2023-12-21 03:31:10,422] Trial 20 finished with value: 0.9689140793802578 and parameters: {'hidden_dim': 304, 'k': 2, 'learning_rate': 0.009812645616086755, 'batcher': False}. Best is trial 20 with value: 0.9689140793802578.\n",
      "[I 2023-12-21 03:33:40,904] Trial 21 finished with value: 0.9554395514768215 and parameters: {'hidden_dim': 288, 'k': 2, 'learning_rate': 0.008631822281378274, 'batcher': False}. Best is trial 20 with value: 0.9689140793802578.\n",
      "[I 2023-12-21 03:36:11,218] Trial 22 finished with value: 0.7432566556370028 and parameters: {'hidden_dim': 272, 'k': 3, 'learning_rate': 0.0042528543843856565, 'batcher': False}. Best is trial 20 with value: 0.9689140793802578.\n",
      "[I 2023-12-21 03:38:41,639] Trial 23 finished with value: 0.7489890462480735 and parameters: {'hidden_dim': 336, 'k': 2, 'learning_rate': 0.003934372368900256, 'batcher': False}. Best is trial 20 with value: 0.9689140793802578.\n",
      "[I 2023-12-21 03:41:12,148] Trial 24 finished with value: 0.4850323629902181 and parameters: {'hidden_dim': 256, 'k': 3, 'learning_rate': 0.0014005136939858511, 'batcher': False}. Best is trial 20 with value: 0.9689140793802578.\n",
      "[I 2023-12-21 03:43:42,374] Trial 25 finished with value: 0.9665677192553975 and parameters: {'hidden_dim': 304, 'k': 2, 'learning_rate': 0.009744539326031833, 'batcher': False}. Best is trial 20 with value: 0.9689140793802578.\n",
      "[I 2023-12-21 03:46:12,791] Trial 26 finished with value: 0.9191193177459944 and parameters: {'hidden_dim': 320, 'k': 2, 'learning_rate': 0.004298729219308307, 'batcher': True}. Best is trial 20 with value: 0.9689140793802578.\n",
      "[I 2023-12-21 03:48:43,158] Trial 27 finished with value: 0.8565888967007338 and parameters: {'hidden_dim': 384, 'k': 1, 'learning_rate': 0.00994398481603639, 'batcher': False}. Best is trial 20 with value: 0.9689140793802578.\n",
      "[I 2023-12-21 03:51:13,556] Trial 28 finished with value: 0.804600017071494 and parameters: {'hidden_dim': 368, 'k': 2, 'learning_rate': 0.0038252074736514472, 'batcher': False}. Best is trial 20 with value: 0.9689140793802578.\n",
      "[I 2023-12-21 03:53:43,994] Trial 29 finished with value: 0.11047164687263897 and parameters: {'hidden_dim': 272, 'k': 1, 'learning_rate': 0.00021410722588240734, 'batcher': False}. Best is trial 20 with value: 0.9689140793802578.\n",
      "[I 2023-12-21 03:56:14,233] Trial 30 finished with value: 0.9559461605180577 and parameters: {'hidden_dim': 432, 'k': 2, 'learning_rate': 0.005567142477121247, 'batcher': False}. Best is trial 20 with value: 0.9689140793802578.\n",
      "[I 2023-12-21 03:58:44,652] Trial 31 finished with value: 0.9617480033135493 and parameters: {'hidden_dim': 432, 'k': 2, 'learning_rate': 0.005416259507776252, 'batcher': False}. Best is trial 20 with value: 0.9689140793802578.\n",
      "[I 2023-12-21 04:01:14,721] Trial 32 finished with value: 0.9746086387029178 and parameters: {'hidden_dim': 432, 'k': 2, 'learning_rate': 0.004756713855930805, 'batcher': False}. Best is trial 32 with value: 0.9746086387029178.\n",
      "[I 2023-12-21 04:03:45,029] Trial 33 finished with value: 0.841674974342195 and parameters: {'hidden_dim': 464, 'k': 1, 'learning_rate': 0.0029638564430401453, 'batcher': False}. Best is trial 32 with value: 0.9746086387029178.\n",
      "[I 2023-12-21 04:06:15,288] Trial 34 finished with value: 0.9508422601504369 and parameters: {'hidden_dim': 432, 'k': 2, 'learning_rate': 0.005077667999993786, 'batcher': False}. Best is trial 32 with value: 0.9746086387029178.\n",
      "[I 2023-12-21 04:08:45,781] Trial 35 finished with value: 0.9634144010552745 and parameters: {'hidden_dim': 464, 'k': 2, 'learning_rate': 0.00639613990757479, 'batcher': True}. Best is trial 32 with value: 0.9746086387029178.\n",
      "[I 2023-12-21 04:11:15,821] Trial 36 finished with value: 0.9525755686592057 and parameters: {'hidden_dim': 480, 'k': 3, 'learning_rate': 0.006276303768296034, 'batcher': True}. Best is trial 32 with value: 0.9746086387029178.\n",
      "[I 2023-12-21 04:12:55,047] Trial 37 finished with value: 0.8624803916129107 and parameters: {'hidden_dim': 368, 'k': 1, 'learning_rate': 0.001636310527443647, 'batcher': True}. Best is trial 32 with value: 0.9746086387029178.\n",
      "[I 2023-12-21 04:14:26,720] Trial 38 finished with value: 0.8963469044431515 and parameters: {'hidden_dim': 400, 'k': 3, 'learning_rate': 0.0030066322650543625, 'batcher': True}. Best is trial 32 with value: 0.9746086387029178.\n",
      "[I 2023-12-21 04:15:59,633] Trial 39 finished with value: 0.9545580606566502 and parameters: {'hidden_dim': 480, 'k': 1, 'learning_rate': 0.006368358122201695, 'batcher': True}. Best is trial 32 with value: 0.9746086387029178.\n",
      "[I 2023-12-21 04:17:32,172] Trial 40 finished with value: 0.962736743798455 and parameters: {'hidden_dim': 336, 'k': 5, 'learning_rate': 0.009926193773936458, 'batcher': True}. Best is trial 32 with value: 0.9746086387029178.\n",
      "[I 2023-12-21 04:19:04,325] Trial 41 finished with value: 0.9540266037029224 and parameters: {'hidden_dim': 336, 'k': 5, 'learning_rate': 0.009540891066237824, 'batcher': True}. Best is trial 32 with value: 0.9746086387029178.\n",
      "[I 2023-12-21 04:20:37,020] Trial 42 finished with value: 0.9303716464714927 and parameters: {'hidden_dim': 304, 'k': 4, 'learning_rate': 0.00607701241814736, 'batcher': True}. Best is trial 32 with value: 0.9746086387029178.\n",
      "[I 2023-12-21 04:22:06,738] Trial 43 finished with value: 0.882226183082361 and parameters: {'hidden_dim': 240, 'k': 5, 'learning_rate': 0.0037664513357924655, 'batcher': True}. Best is trial 32 with value: 0.9746086387029178.\n",
      "[I 2023-12-21 04:23:39,205] Trial 44 finished with value: 0.9634079701633054 and parameters: {'hidden_dim': 352, 'k': 2, 'learning_rate': 0.0070470026469925525, 'batcher': True}. Best is trial 32 with value: 0.9746086387029178.\n",
      "[I 2023-12-21 04:25:10,772] Trial 45 finished with value: 0.9648330029071872 and parameters: {'hidden_dim': 416, 'k': 2, 'learning_rate': 0.00694496515465307, 'batcher': True}. Best is trial 32 with value: 0.9746086387029178.\n",
      "[I 2023-12-21 04:26:43,206] Trial 46 finished with value: 0.9705423050366692 and parameters: {'hidden_dim': 400, 'k': 2, 'learning_rate': 0.005067394104837105, 'batcher': True}. Best is trial 32 with value: 0.9746086387029178.\n",
      "[I 2023-12-21 04:28:15,831] Trial 47 finished with value: 0.9137502504444157 and parameters: {'hidden_dim': 400, 'k': 1, 'learning_rate': 0.002183976397793871, 'batcher': True}. Best is trial 32 with value: 0.9746086387029178.\n",
      "[I 2023-12-21 04:29:48,016] Trial 48 finished with value: 0.9580490364952328 and parameters: {'hidden_dim': 400, 'k': 2, 'learning_rate': 0.004721184003392544, 'batcher': True}. Best is trial 32 with value: 0.9746086387029178.\n",
      "[I 2023-12-21 04:31:19,322] Trial 49 finished with value: 0.714658790763674 and parameters: {'hidden_dim': 304, 'k': 3, 'learning_rate': 0.0035986648788564795, 'batcher': False}. Best is trial 32 with value: 0.9746086387029178.\n"
     ]
    }
   ],
   "source": [
    "node_type = \"P\"\n",
    "size_elem = 10\n",
    "n_trials = 50\n",
    "normalized = True\n",
    "study = optuna.create_study(study_name=f\"Study node type {node_type}, normalized: {normalized}\", directions=['maximize'])\n",
    "study.optimize(objective, n_trials=n_trials, show_progress_bar=True)"
   ],
   "metadata": {
    "collapsed": false,
    "ExecuteTime": {
     "start_time": "2023-12-21T02:38:30.588831Z",
     "end_time": "2023-12-21T04:31:19.332185Z"
    }
   }
  },
  {
   "cell_type": "code",
   "execution_count": 12,
   "outputs": [],
   "source": [
    "study.trials_dataframe().to_csv(f\"csvs/single-node_t-{node_type}_n-{size_elem}_post-normalized-{normalized}.csv\")"
   ],
   "metadata": {
    "collapsed": false,
    "ExecuteTime": {
     "start_time": "2023-12-21T04:31:19.335186Z",
     "end_time": "2023-12-21T04:31:19.351183Z"
    }
   }
  }
 ],
 "metadata": {
  "kernelspec": {
   "display_name": "Python 3",
   "language": "python",
   "name": "python3"
  },
  "language_info": {
   "codemirror_mode": {
    "name": "ipython",
    "version": 2
   },
   "file_extension": ".py",
   "mimetype": "text/x-python",
   "name": "python",
   "nbconvert_exporter": "python",
   "pygments_lexer": "ipython2",
   "version": "2.7.6"
  }
 },
 "nbformat": 4,
 "nbformat_minor": 0
}
