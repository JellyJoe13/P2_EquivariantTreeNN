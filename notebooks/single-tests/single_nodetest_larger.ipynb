{
 "cells": [
  {
   "cell_type": "markdown",
   "source": [
    "# Testing single node datasets"
   ],
   "metadata": {
    "collapsed": false
   }
  },
  {
   "cell_type": "markdown",
   "source": [
    "Purpose: until now dataset represented by combination of tree types - now test for single node type"
   ],
   "metadata": {
    "collapsed": false
   }
  },
  {
   "cell_type": "markdown",
   "source": [
    "## Importing"
   ],
   "metadata": {
    "collapsed": false
   }
  },
  {
   "cell_type": "code",
   "execution_count": 1,
   "outputs": [],
   "source": [
    "import sys\n",
    "import os\n",
    "\n",
    "# Construct the path to the parent directory of the parent directory\n",
    "parent_of_parent_dir = os.path.abspath(os.path.join(os.path.pardir, os.path.pardir))\n",
    "\n",
    "# Add the parent directory of the parent directory to the system path\n",
    "sys.path.insert(0, parent_of_parent_dir)"
   ],
   "metadata": {
    "collapsed": false,
    "ExecuteTime": {
     "start_time": "2023-12-20T21:22:28.269879Z",
     "end_time": "2023-12-20T21:22:28.296879Z"
    }
   }
  },
  {
   "cell_type": "code",
   "execution_count": 2,
   "outputs": [],
   "source": [
    "import optuna\n",
    "import numpy as np\n",
    "from sklearn.metrics import r2_score\n",
    "import torch\n",
    "from torch.utils.data import random_split, DataLoader\n",
    "\n",
    "from etnn import TreeNode\n",
    "from etnn.tools.training_tools import ConfigStore\n",
    "from etnn.data.ferris_wheel import load_pure_ferris_wheel_dataset_single_node\n",
    "from etnn.tools.training import train_epoch, eval_epoch\n",
    "from etnn.nn.layer_framework import LayerManagementFramework\n",
    "from etnn.tools.training_tools import seeding_all\n",
    "from etnn.routines.run_config import choice_trainloader, choice_loss, choice_optim"
   ],
   "metadata": {
    "collapsed": false,
    "ExecuteTime": {
     "start_time": "2023-12-20T21:22:28.407391Z",
     "end_time": "2023-12-20T21:22:30.517826Z"
    }
   }
  },
  {
   "cell_type": "markdown",
   "source": [
    "## Control constants"
   ],
   "metadata": {
    "collapsed": false
   }
  },
  {
   "cell_type": "code",
   "execution_count": 3,
   "outputs": [],
   "source": [
    "dataset_path = \"../../datasets/\"\n",
    "test_perc = 0.3\n",
    "val_perc = 0.21\n",
    "stability_count = 5\n",
    "label = \"tree-advanced\" # although irrelevant"
   ],
   "metadata": {
    "collapsed": false,
    "ExecuteTime": {
     "start_time": "2023-12-20T21:22:30.518828Z",
     "end_time": "2023-12-20T21:22:30.534054Z"
    }
   }
  },
  {
   "cell_type": "markdown",
   "source": [
    "## Defining parameter search"
   ],
   "metadata": {
    "collapsed": false
   }
  },
  {
   "cell_type": "code",
   "execution_count": 4,
   "outputs": [],
   "source": [
    "def objective(trial):\n",
    "    # init default config\n",
    "    config = ConfigStore(\n",
    "       in_dim=15,\n",
    "       hidden_dim=trial.suggest_int(\"hidden_dim\", 16, 512, step=16),\n",
    "       out_dim=1,\n",
    "       k=trial.suggest_int(\"k\", 1, 5),\n",
    "       dataset=-1 if normalized else 0,\n",
    "       ds_size=10_000,\n",
    "       num_gondolas=-1,\n",
    "       num_part_pg=-1,\n",
    "       loss_name='mse',\n",
    "       optimizer_name='adam',\n",
    "       num_max_epochs=30, # real: 100\n",
    "       learning_rate=trial.suggest_float(\"learning_rate\", 1e-5, 1e-2, log=True),\n",
    "       batch_size=1024,\n",
    "       early_stop_tol=5,\n",
    "       use_equal_batcher=trial.suggest_categorical(\"batcher\", [True, False]),\n",
    "       seed=420,\n",
    "       label_type=label,\n",
    "       final_label_factor=5/1000\n",
    "    )\n",
    "    # config = ConfigStore(\n",
    "    #     in_dim=15,\n",
    "    #     hidden_dim=16,\n",
    "    #     out_dim=1,\n",
    "    #     k=2,\n",
    "    #     dataset=-1 if normalized else 0,\n",
    "    #     ds_size=10_000,\n",
    "    #     num_gondolas=-1,\n",
    "    #     num_part_pg=-1,\n",
    "    #     loss_name='mse',\n",
    "    #     optimizer_name='adam',\n",
    "    #     num_max_epochs=30, # real: 100\n",
    "    #     learning_rate=0.002,\n",
    "    #     batch_size=1024,\n",
    "    #     early_stop_tol=5,\n",
    "    #     use_equal_batcher=False,\n",
    "    #     seed=420,\n",
    "    #     label_type=label,\n",
    "    #     final_label_factor=5/1000\n",
    "    # )\n",
    "\n",
    "    # loading dataset\n",
    "    dataset, df_index = load_pure_ferris_wheel_dataset_single_node(\n",
    "        node_type=node_type,\n",
    "        num_elem=size_elem,\n",
    "        num_to_generate=config.ds_size,\n",
    "        dataset_path=dataset_path,\n",
    "        final_label_factor=config.final_label_factor,\n",
    "        normalize=True if config.dataset == -1 else 0\n",
    "    )\n",
    "    # splitting off test dataset\n",
    "    generator = torch.Generator().manual_seed(config.seed)\n",
    "    train_ds, val_ds, _ = random_split(\n",
    "        dataset,\n",
    "        [1 - test_perc - val_perc, val_perc, test_perc],\n",
    "        generator=generator\n",
    "    )\n",
    "\n",
    "    # loaders\n",
    "    train_loader = choice_trainloader(config, df_index, train_ds)\n",
    "    val_loader = DataLoader(val_ds, batch_size=4 * config.batch_size, shuffle=False)\n",
    "\n",
    "    # define device\n",
    "    device = \"cuda\" if torch.cuda.is_available() else \"cpu\"\n",
    "\n",
    "    # set seed for reproducability\n",
    "    seeding_all(config.seed)\n",
    "\n",
    "    # define model\n",
    "    model = LayerManagementFramework(\n",
    "        in_dim=config.in_dim,\n",
    "        tree=TreeNode(node_type, [TreeNode(\"E\", size_elem)]),\n",
    "        hidden_dim=config.hidden_dim,\n",
    "        out_dim=config.out_dim,\n",
    "        k=config.k\n",
    "    ).to(device)\n",
    "\n",
    "    # learning tools\n",
    "    criterion = choice_loss(config)\n",
    "    optimizer = choice_optim(config, model)\n",
    "\n",
    "    # init score list\n",
    "    score_list = []\n",
    "\n",
    "    # train for specified number of epochs\n",
    "    for epoch in range(config.num_max_epochs):\n",
    "        _, _, _ = train_epoch(\n",
    "            model,\n",
    "            train_loader,\n",
    "            optimizer,\n",
    "            device,\n",
    "            criterion\n",
    "        )\n",
    "\n",
    "        _, val_true_y, val_pred_y = eval_epoch(\n",
    "            model,\n",
    "            val_loader,\n",
    "            device,\n",
    "            criterion\n",
    "        )\n",
    "\n",
    "        # calc r2 score and append\n",
    "        score = r2_score(y_true=val_true_y, y_pred=val_pred_y)\n",
    "        score_list += [score]\n",
    "        trial.report(score, epoch)\n",
    "\n",
    "    # calculate objective\n",
    "    # display(score_list)\n",
    "    # idea: last x r2 scores (why not last one? for stability purposes)\n",
    "    obj = np.array(score_list)[-stability_count:]\n",
    "    return np.mean(obj)"
   ],
   "metadata": {
    "collapsed": false,
    "ExecuteTime": {
     "start_time": "2023-12-20T21:22:31.029477Z",
     "end_time": "2023-12-20T21:22:31.067983Z"
    }
   }
  },
  {
   "cell_type": "markdown",
   "source": [],
   "metadata": {
    "collapsed": false
   }
  },
  {
   "cell_type": "markdown",
   "source": [
    "## Parameter search"
   ],
   "metadata": {
    "collapsed": false
   }
  },
  {
   "cell_type": "markdown",
   "source": [
    "### S"
   ],
   "metadata": {
    "collapsed": false
   }
  },
  {
   "cell_type": "code",
   "execution_count": 5,
   "outputs": [
    {
     "name": "stderr",
     "output_type": "stream",
     "text": [
      "[I 2023-12-20 21:22:35,184] A new study created in memory with name: Study node type S, normalized: False\n"
     ]
    },
    {
     "data": {
      "text/plain": "  0%|          | 0/25 [00:00<?, ?it/s]",
      "application/vnd.jupyter.widget-view+json": {
       "version_major": 2,
       "version_minor": 0,
       "model_id": "925866c3af5c49cbb1896d10989dddd3"
      }
     },
     "metadata": {},
     "output_type": "display_data"
    },
    {
     "name": "stdout",
     "output_type": "stream",
     "text": [
      "[I 2023-12-20 21:24:03,524] Trial 0 finished with value: -100632.44213794377 and parameters: {'hidden_dim': 464, 'k': 3, 'learning_rate': 0.0008476504528272604, 'batcher': False}. Best is trial 0 with value: -100632.44213794377.\n",
      "[I 2023-12-20 21:25:22,295] Trial 1 finished with value: 0.3081147964255764 and parameters: {'hidden_dim': 96, 'k': 1, 'learning_rate': 0.0019829951887567546, 'batcher': True}. Best is trial 1 with value: 0.3081147964255764.\n",
      "[I 2023-12-20 21:26:48,102] Trial 2 finished with value: -10.064265177467956 and parameters: {'hidden_dim': 384, 'k': 3, 'learning_rate': 1.3344567351282657e-05, 'batcher': False}. Best is trial 1 with value: 0.3081147964255764.\n",
      "[I 2023-12-20 21:28:15,662] Trial 3 finished with value: -10.639208210576568 and parameters: {'hidden_dim': 416, 'k': 3, 'learning_rate': 6.70057455786327e-05, 'batcher': False}. Best is trial 1 with value: 0.3081147964255764.\n",
      "[I 2023-12-20 21:29:39,094] Trial 4 finished with value: -3.2358564699192165 and parameters: {'hidden_dim': 192, 'k': 2, 'learning_rate': 1.7579681976090812e-05, 'batcher': False}. Best is trial 1 with value: 0.3081147964255764.\n",
      "[I 2023-12-20 21:31:03,095] Trial 5 finished with value: -4.827578760801901 and parameters: {'hidden_dim': 144, 'k': 5, 'learning_rate': 0.0003761620948949937, 'batcher': True}. Best is trial 1 with value: 0.3081147964255764.\n",
      "[I 2023-12-20 21:32:25,518] Trial 6 finished with value: -7.973173746738975 and parameters: {'hidden_dim': 144, 'k': 2, 'learning_rate': 2.252810855630057e-05, 'batcher': False}. Best is trial 1 with value: 0.3081147964255764.\n",
      "[I 2023-12-20 21:33:44,103] Trial 7 finished with value: 0.2175653282342788 and parameters: {'hidden_dim': 64, 'k': 2, 'learning_rate': 1.0646828539957208e-05, 'batcher': False}. Best is trial 1 with value: 0.3081147964255764.\n",
      "[I 2023-12-20 21:35:11,853] Trial 8 finished with value: -88864.7295040463 and parameters: {'hidden_dim': 496, 'k': 3, 'learning_rate': 0.0011386696618603935, 'batcher': False}. Best is trial 1 with value: 0.3081147964255764.\n",
      "[I 2023-12-20 21:36:32,950] Trial 9 finished with value: 0.9390464271805378 and parameters: {'hidden_dim': 208, 'k': 1, 'learning_rate': 3.4864488679713425e-05, 'batcher': False}. Best is trial 9 with value: 0.9390464271805378.\n",
      "[I 2023-12-20 21:37:57,858] Trial 10 finished with value: -7.608043568244942 and parameters: {'hidden_dim': 304, 'k': 5, 'learning_rate': 0.00010481060012951455, 'batcher': True}. Best is trial 9 with value: 0.9390464271805378.\n",
      "[I 2023-12-20 21:39:12,950] Trial 11 finished with value: 0.9668568756690508 and parameters: {'hidden_dim': 16, 'k': 1, 'learning_rate': 0.005180295429001963, 'batcher': True}. Best is trial 11 with value: 0.9668568756690508.\n",
      "[I 2023-12-20 21:40:27,807] Trial 12 finished with value: 0.9672109594293001 and parameters: {'hidden_dim': 16, 'k': 1, 'learning_rate': 0.00997321048738062, 'batcher': True}. Best is trial 12 with value: 0.9672109594293001.\n",
      "[I 2023-12-20 21:41:42,888] Trial 13 finished with value: 0.9653544449356065 and parameters: {'hidden_dim': 32, 'k': 1, 'learning_rate': 0.009151031069022597, 'batcher': True}. Best is trial 12 with value: 0.9672109594293001.\n",
      "[I 2023-12-20 21:42:59,817] Trial 14 finished with value: 0.9651893980188575 and parameters: {'hidden_dim': 32, 'k': 1, 'learning_rate': 0.009303645288530052, 'batcher': True}. Best is trial 12 with value: 0.9672109594293001.\n",
      "[I 2023-12-20 21:44:27,397] Trial 15 finished with value: -0.5113996562521381 and parameters: {'hidden_dim': 288, 'k': 4, 'learning_rate': 0.0034854961617301955, 'batcher': True}. Best is trial 12 with value: 0.9672109594293001.\n",
      "[I 2023-12-20 21:45:44,583] Trial 16 finished with value: -0.2776023692055446 and parameters: {'hidden_dim': 16, 'k': 2, 'learning_rate': 0.004127512415360291, 'batcher': True}. Best is trial 12 with value: 0.9672109594293001.\n",
      "[I 2023-12-20 21:47:01,773] Trial 17 finished with value: 0.9528134458298869 and parameters: {'hidden_dim': 112, 'k': 1, 'learning_rate': 0.004909344883177214, 'batcher': True}. Best is trial 12 with value: 0.9672109594293001.\n",
      "[I 2023-12-20 21:48:24,278] Trial 18 finished with value: 0.7861671330325621 and parameters: {'hidden_dim': 224, 'k': 4, 'learning_rate': 0.001946348534571876, 'batcher': True}. Best is trial 12 with value: 0.9672109594293001.\n",
      "[I 2023-12-20 21:49:40,747] Trial 19 finished with value: 0.25489822111080584 and parameters: {'hidden_dim': 80, 'k': 2, 'learning_rate': 0.009234010309334696, 'batcher': True}. Best is trial 12 with value: 0.9672109594293001.\n",
      "[I 2023-12-20 21:51:07,456] Trial 20 finished with value: 0.9112899193749827 and parameters: {'hidden_dim': 336, 'k': 1, 'learning_rate': 0.0005274504929966107, 'batcher': True}. Best is trial 12 with value: 0.9672109594293001.\n",
      "[I 2023-12-20 21:52:34,525] Trial 21 finished with value: 0.9671477993317144 and parameters: {'hidden_dim': 16, 'k': 1, 'learning_rate': 0.009958851369806721, 'batcher': True}. Best is trial 12 with value: 0.9672109594293001.\n",
      "[I 2023-12-20 21:54:08,330] Trial 22 finished with value: 0.967012577049271 and parameters: {'hidden_dim': 16, 'k': 1, 'learning_rate': 0.004911011621298979, 'batcher': True}. Best is trial 12 with value: 0.9672109594293001.\n",
      "[I 2023-12-20 21:56:08,893] Trial 23 finished with value: 0.943355742698041 and parameters: {'hidden_dim': 144, 'k': 2, 'learning_rate': 0.0023755568277853975, 'batcher': True}. Best is trial 12 with value: 0.9672109594293001.\n",
      "[I 2023-12-20 21:57:50,917] Trial 24 finished with value: 0.9272419051401254 and parameters: {'hidden_dim': 64, 'k': 1, 'learning_rate': 0.006154835364493177, 'batcher': True}. Best is trial 12 with value: 0.9672109594293001.\n"
     ]
    }
   ],
   "source": [
    "node_type = \"S\"\n",
    "size_elem = 50\n",
    "n_trials = 25\n",
    "normalized = False\n",
    "study = optuna.create_study(study_name=f\"Study node type {node_type}, normalized: {normalized}\", directions=['maximize'])\n",
    "study.optimize(objective, n_trials=n_trials, show_progress_bar=True)"
   ],
   "metadata": {
    "collapsed": false,
    "ExecuteTime": {
     "start_time": "2023-12-10T16:47:57.320444Z",
     "end_time": "2023-12-10T18:06:34.932343Z"
    }
   }
  },
  {
   "cell_type": "code",
   "execution_count": 6,
   "outputs": [],
   "source": [
    "study.trials_dataframe().to_csv(f\"csvs/single-node_t-{node_type}_n-{size_elem}_normalized-{normalized}_s-{size_elem}.csv\")"
   ],
   "metadata": {
    "collapsed": false,
    "ExecuteTime": {
     "start_time": "2023-12-10T18:06:34.933341Z",
     "end_time": "2023-12-10T18:06:34.948370Z"
    }
   }
  },
  {
   "cell_type": "code",
   "execution_count": 7,
   "outputs": [
    {
     "name": "stderr",
     "output_type": "stream",
     "text": [
      "[I 2023-12-20 21:57:50,948] A new study created in memory with name: Study node type S, normalized: True\n"
     ]
    },
    {
     "data": {
      "text/plain": "  0%|          | 0/25 [00:00<?, ?it/s]",
      "application/vnd.jupyter.widget-view+json": {
       "version_major": 2,
       "version_minor": 0,
       "model_id": "0e4affe390ff4e15a836990217909be5"
      }
     },
     "metadata": {},
     "output_type": "display_data"
    },
    {
     "name": "stdout",
     "output_type": "stream",
     "text": [
      "[I 2023-12-20 21:59:19,764] Trial 0 finished with value: 0.8568392512233085 and parameters: {'hidden_dim': 240, 'k': 4, 'learning_rate': 0.009712530698295186, 'batcher': False}. Best is trial 0 with value: 0.8568392512233085.\n",
      "[I 2023-12-20 22:00:52,899] Trial 1 finished with value: 0.8972972874464983 and parameters: {'hidden_dim': 336, 'k': 5, 'learning_rate': 0.005015008373117877, 'batcher': True}. Best is trial 1 with value: 0.8972972874464983.\n",
      "[I 2023-12-20 22:02:31,029] Trial 2 finished with value: 0.8122714898739002 and parameters: {'hidden_dim': 272, 'k': 1, 'learning_rate': 6.17690426521759e-05, 'batcher': True}. Best is trial 1 with value: 0.8972972874464983.\n",
      "[I 2023-12-20 22:04:00,008] Trial 3 finished with value: -787.5204744087289 and parameters: {'hidden_dim': 112, 'k': 5, 'learning_rate': 1.397562436600002e-05, 'batcher': True}. Best is trial 1 with value: 0.8972972874464983.\n",
      "[I 2023-12-20 22:05:16,936] Trial 4 finished with value: -652.030284543117 and parameters: {'hidden_dim': 16, 'k': 5, 'learning_rate': 0.00018149038989580477, 'batcher': False}. Best is trial 1 with value: 0.8972972874464983.\n",
      "[I 2023-12-20 22:06:55,064] Trial 5 finished with value: 0.8877478870979646 and parameters: {'hidden_dim': 432, 'k': 5, 'learning_rate': 0.0006728126248268401, 'batcher': True}. Best is trial 1 with value: 0.8972972874464983.\n",
      "[I 2023-12-20 22:08:22,200] Trial 6 finished with value: 0.9060836361770729 and parameters: {'hidden_dim': 448, 'k': 1, 'learning_rate': 0.0011525630189294599, 'batcher': True}. Best is trial 6 with value: 0.9060836361770729.\n",
      "[I 2023-12-20 22:09:53,892] Trial 7 finished with value: 0.9102916754025514 and parameters: {'hidden_dim': 496, 'k': 2, 'learning_rate': 0.001195633105570026, 'batcher': True}. Best is trial 7 with value: 0.9102916754025514.\n",
      "[I 2023-12-20 22:11:20,166] Trial 8 finished with value: 0.8147153054732732 and parameters: {'hidden_dim': 160, 'k': 3, 'learning_rate': 0.000436565144708156, 'batcher': True}. Best is trial 7 with value: 0.9102916754025514.\n",
      "[I 2023-12-20 22:12:48,669] Trial 9 finished with value: 0.8503881906674635 and parameters: {'hidden_dim': 448, 'k': 1, 'learning_rate': 0.00016194624575751763, 'batcher': True}. Best is trial 7 with value: 0.9102916754025514.\n",
      "[I 2023-12-20 22:14:17,133] Trial 10 finished with value: 0.8797720417739747 and parameters: {'hidden_dim': 512, 'k': 2, 'learning_rate': 0.0020261011369205324, 'batcher': False}. Best is trial 7 with value: 0.9102916754025514.\n",
      "[I 2023-12-20 22:15:50,973] Trial 11 finished with value: 0.9366790419814167 and parameters: {'hidden_dim': 512, 'k': 2, 'learning_rate': 0.0014954550461397564, 'batcher': True}. Best is trial 11 with value: 0.9366790419814167.\n",
      "[I 2023-12-20 22:17:20,483] Trial 12 finished with value: 0.9306518984950362 and parameters: {'hidden_dim': 512, 'k': 2, 'learning_rate': 0.001843409117111128, 'batcher': True}. Best is trial 11 with value: 0.9366790419814167.\n",
      "[I 2023-12-20 22:18:49,172] Trial 13 finished with value: 0.890839255119267 and parameters: {'hidden_dim': 368, 'k': 2, 'learning_rate': 0.0022318072039532516, 'batcher': True}. Best is trial 11 with value: 0.9366790419814167.\n",
      "[I 2023-12-20 22:20:19,526] Trial 14 finished with value: 0.9439925169371672 and parameters: {'hidden_dim': 384, 'k': 3, 'learning_rate': 0.0036451199461302103, 'batcher': False}. Best is trial 14 with value: 0.9439925169371672.\n",
      "[I 2023-12-20 22:21:50,860] Trial 15 finished with value: 0.9674955644921038 and parameters: {'hidden_dim': 368, 'k': 3, 'learning_rate': 0.004579349305511594, 'batcher': False}. Best is trial 15 with value: 0.9674955644921038.\n",
      "[I 2023-12-20 22:23:19,547] Trial 16 finished with value: 0.9239011116588971 and parameters: {'hidden_dim': 336, 'k': 3, 'learning_rate': 0.005141186060543664, 'batcher': False}. Best is trial 15 with value: 0.9674955644921038.\n",
      "[I 2023-12-20 22:24:46,942] Trial 17 finished with value: 0.9198128762648871 and parameters: {'hidden_dim': 256, 'k': 4, 'learning_rate': 0.009255013404030508, 'batcher': False}. Best is trial 15 with value: 0.9674955644921038.\n",
      "[I 2023-12-20 22:26:28,684] Trial 18 finished with value: 0.7754173345444588 and parameters: {'hidden_dim': 384, 'k': 4, 'learning_rate': 0.0042541019049133644, 'batcher': False}. Best is trial 15 with value: 0.9674955644921038.\n",
      "[I 2023-12-20 22:28:03,790] Trial 19 finished with value: 0.7908989995585306 and parameters: {'hidden_dim': 288, 'k': 3, 'learning_rate': 0.003371187513000596, 'batcher': False}. Best is trial 15 with value: 0.9674955644921038.\n",
      "[I 2023-12-20 22:29:26,979] Trial 20 finished with value: 0.8159599162350519 and parameters: {'hidden_dim': 176, 'k': 3, 'learning_rate': 0.0007363259052305531, 'batcher': False}. Best is trial 15 with value: 0.9674955644921038.\n",
      "[I 2023-12-20 22:30:44,140] Trial 21 finished with value: 0.8870568069863545 and parameters: {'hidden_dim': 416, 'k': 3, 'learning_rate': 0.0029068048478525757, 'batcher': False}. Best is trial 15 with value: 0.9674955644921038.\n",
      "[I 2023-12-20 22:31:58,274] Trial 22 finished with value: 0.8423380072857105 and parameters: {'hidden_dim': 336, 'k': 2, 'learning_rate': 0.0012559202872370928, 'batcher': False}. Best is trial 15 with value: 0.9674955644921038.\n",
      "[I 2023-12-20 22:33:20,142] Trial 23 finished with value: 0.7740776956576763 and parameters: {'hidden_dim': 464, 'k': 4, 'learning_rate': 0.005581804673407586, 'batcher': False}. Best is trial 15 with value: 0.9674955644921038.\n",
      "[I 2023-12-20 22:34:38,649] Trial 24 finished with value: 0.8144053181948196 and parameters: {'hidden_dim': 400, 'k': 3, 'learning_rate': 0.0030514771368672913, 'batcher': False}. Best is trial 15 with value: 0.9674955644921038.\n"
     ]
    }
   ],
   "source": [
    "node_type = \"S\"\n",
    "size_elem = 50\n",
    "n_trials = 25\n",
    "normalized = True\n",
    "study = optuna.create_study(study_name=f\"Study node type {node_type}, normalized: {normalized}\", directions=['maximize'])\n",
    "study.optimize(objective, n_trials=n_trials, show_progress_bar=True)"
   ],
   "metadata": {
    "collapsed": false,
    "ExecuteTime": {
     "start_time": "2023-12-10T18:06:34.948370Z",
     "end_time": "2023-12-10T19:05:53.480578Z"
    }
   }
  },
  {
   "cell_type": "code",
   "execution_count": 8,
   "outputs": [],
   "source": [
    "study.trials_dataframe().to_csv(f\"csvs/single-node_t-{node_type}_n-{size_elem}_normalized-{normalized}_s-{size_elem}.csv\")"
   ],
   "metadata": {
    "collapsed": false,
    "ExecuteTime": {
     "start_time": "2023-12-10T19:05:53.480578Z",
     "end_time": "2023-12-10T19:05:53.501575Z"
    }
   }
  },
  {
   "cell_type": "markdown",
   "source": [
    "### Q"
   ],
   "metadata": {
    "collapsed": false
   }
  },
  {
   "cell_type": "code",
   "execution_count": 9,
   "outputs": [
    {
     "name": "stderr",
     "output_type": "stream",
     "text": [
      "[I 2023-12-20 22:34:38,671] A new study created in memory with name: Study node type Q, normalized: False\n"
     ]
    },
    {
     "data": {
      "text/plain": "  0%|          | 0/25 [00:00<?, ?it/s]",
      "application/vnd.jupyter.widget-view+json": {
       "version_major": 2,
       "version_minor": 0,
       "model_id": "c8027a522fca4c4ba6f34bbdb09271a3"
      }
     },
     "metadata": {},
     "output_type": "display_data"
    },
    {
     "name": "stdout",
     "output_type": "stream",
     "text": [
      "[I 2023-12-20 22:36:18,913] Trial 0 finished with value: 0.6213004954341805 and parameters: {'hidden_dim': 240, 'k': 5, 'learning_rate': 0.0015743667839898021, 'batcher': False}. Best is trial 0 with value: 0.6213004954341805.\n",
      "[I 2023-12-20 22:38:28,762] Trial 1 finished with value: -0.2577659993228114 and parameters: {'hidden_dim': 416, 'k': 3, 'learning_rate': 0.00021164311833902819, 'batcher': True}. Best is trial 0 with value: 0.6213004954341805.\n",
      "[I 2023-12-20 22:40:33,267] Trial 2 finished with value: 0.161799750778922 and parameters: {'hidden_dim': 432, 'k': 3, 'learning_rate': 0.006789454842596385, 'batcher': True}. Best is trial 0 with value: 0.6213004954341805.\n",
      "[I 2023-12-20 22:42:15,882] Trial 3 finished with value: 0.8154159947166375 and parameters: {'hidden_dim': 304, 'k': 3, 'learning_rate': 0.004600471266628685, 'batcher': True}. Best is trial 3 with value: 0.8154159947166375.\n",
      "[I 2023-12-20 22:43:41,871] Trial 4 finished with value: -3.89741993536326 and parameters: {'hidden_dim': 16, 'k': 5, 'learning_rate': 0.0001458797240331087, 'batcher': True}. Best is trial 3 with value: 0.8154159947166375.\n",
      "[I 2023-12-20 22:45:27,609] Trial 5 finished with value: 0.44304741400941305 and parameters: {'hidden_dim': 272, 'k': 5, 'learning_rate': 0.0008965664581806441, 'batcher': False}. Best is trial 3 with value: 0.8154159947166375.\n",
      "[I 2023-12-20 22:46:58,419] Trial 6 finished with value: 0.7057259367773092 and parameters: {'hidden_dim': 96, 'k': 5, 'learning_rate': 0.00412755434730069, 'batcher': False}. Best is trial 3 with value: 0.8154159947166375.\n",
      "[I 2023-12-20 22:50:01,468] Trial 7 finished with value: -5.1942107865187355 and parameters: {'hidden_dim': 416, 'k': 5, 'learning_rate': 0.00013446070835787253, 'batcher': True}. Best is trial 3 with value: 0.8154159947166375.\n",
      "[I 2023-12-20 22:51:32,436] Trial 8 finished with value: -393.73295560398975 and parameters: {'hidden_dim': 176, 'k': 1, 'learning_rate': 0.0008005713682425218, 'batcher': True}. Best is trial 3 with value: 0.8154159947166375.\n",
      "[I 2023-12-20 22:53:06,030] Trial 9 finished with value: -33.03391519083034 and parameters: {'hidden_dim': 336, 'k': 1, 'learning_rate': 0.0007482916571038754, 'batcher': True}. Best is trial 3 with value: 0.8154159947166375.\n",
      "[I 2023-12-20 22:54:43,274] Trial 10 finished with value: 0.4878002317435429 and parameters: {'hidden_dim': 320, 'k': 2, 'learning_rate': 1.3154269013344249e-05, 'batcher': False}. Best is trial 3 with value: 0.8154159947166375.\n",
      "[I 2023-12-20 22:56:11,468] Trial 11 finished with value: 0.9493039834284008 and parameters: {'hidden_dim': 96, 'k': 4, 'learning_rate': 0.00703265981038281, 'batcher': False}. Best is trial 11 with value: 0.9493039834284008.\n",
      "[I 2023-12-20 22:57:41,452] Trial 12 finished with value: -42.48785392767654 and parameters: {'hidden_dim': 160, 'k': 4, 'learning_rate': 0.008923127727115192, 'batcher': False}. Best is trial 11 with value: 0.9493039834284008.\n",
      "[I 2023-12-20 22:59:09,957] Trial 13 finished with value: 0.35740467409584825 and parameters: {'hidden_dim': 32, 'k': 4, 'learning_rate': 0.0032867360943612265, 'batcher': False}. Best is trial 11 with value: 0.9493039834284008.\n",
      "[I 2023-12-20 23:00:48,005] Trial 14 finished with value: -2.962429464191603 and parameters: {'hidden_dim': 176, 'k': 4, 'learning_rate': 0.009616750444367276, 'batcher': True}. Best is trial 11 with value: 0.9493039834284008.\n",
      "[I 2023-12-20 23:03:02,787] Trial 15 finished with value: 0.309406746087795 and parameters: {'hidden_dim': 512, 'k': 2, 'learning_rate': 0.003485447227051339, 'batcher': False}. Best is trial 11 with value: 0.9493039834284008.\n",
      "[I 2023-12-20 23:04:33,812] Trial 16 finished with value: -2.0130750216725337 and parameters: {'hidden_dim': 96, 'k': 2, 'learning_rate': 0.0018170256198680947, 'batcher': False}. Best is trial 11 with value: 0.9493039834284008.\n",
      "[I 2023-12-20 23:06:09,293] Trial 17 finished with value: 0.9227729385758652 and parameters: {'hidden_dim': 256, 'k': 3, 'learning_rate': 0.005027592950235022, 'batcher': True}. Best is trial 11 with value: 0.9493039834284008.\n",
      "[I 2023-12-20 23:07:49,753] Trial 18 finished with value: 0.9433478068495157 and parameters: {'hidden_dim': 224, 'k': 4, 'learning_rate': 0.002235968124187475, 'batcher': True}. Best is trial 11 with value: 0.9493039834284008.\n",
      "[I 2023-12-20 23:09:25,296] Trial 19 finished with value: 0.7721566066625459 and parameters: {'hidden_dim': 96, 'k': 4, 'learning_rate': 0.0020410682314874065, 'batcher': False}. Best is trial 11 with value: 0.9493039834284008.\n",
      "[I 2023-12-20 23:11:01,960] Trial 20 finished with value: 0.27757145203714895 and parameters: {'hidden_dim': 208, 'k': 4, 'learning_rate': 0.009559064345361237, 'batcher': True}. Best is trial 11 with value: 0.9493039834284008.\n",
      "[I 2023-12-20 23:12:35,747] Trial 21 finished with value: -141242.55653140027 and parameters: {'hidden_dim': 240, 'k': 3, 'learning_rate': 0.005253708010593663, 'batcher': True}. Best is trial 11 with value: 0.9493039834284008.\n",
      "[I 2023-12-20 23:14:07,235] Trial 22 finished with value: 0.8763378736457372 and parameters: {'hidden_dim': 128, 'k': 3, 'learning_rate': 0.002640705134949462, 'batcher': True}. Best is trial 11 with value: 0.9493039834284008.\n",
      "[I 2023-12-20 23:15:38,385] Trial 23 finished with value: 0.8813759769051412 and parameters: {'hidden_dim': 64, 'k': 4, 'learning_rate': 0.005926171537007449, 'batcher': True}. Best is trial 11 with value: 0.9493039834284008.\n",
      "[I 2023-12-20 23:17:22,368] Trial 24 finished with value: 0.49298635145750874 and parameters: {'hidden_dim': 352, 'k': 3, 'learning_rate': 0.0027415458868322996, 'batcher': True}. Best is trial 11 with value: 0.9493039834284008.\n"
     ]
    }
   ],
   "source": [
    "node_type = \"Q\"\n",
    "size_elem = 50\n",
    "n_trials = 25\n",
    "normalized = False\n",
    "study = optuna.create_study(study_name=f\"Study node type {node_type}, normalized: {normalized}\", directions=['maximize'])\n",
    "study.optimize(objective, n_trials=n_trials, show_progress_bar=True)"
   ],
   "metadata": {
    "collapsed": false,
    "ExecuteTime": {
     "start_time": "2023-12-10T19:07:31.642155Z",
     "end_time": "2023-12-10T20:17:28.880107Z"
    }
   }
  },
  {
   "cell_type": "code",
   "execution_count": 10,
   "outputs": [],
   "source": [
    "study.trials_dataframe().to_csv(f\"csvs/single-node_t-{node_type}_n-{size_elem}_normalized-{normalized}_s-{size_elem}.csv\")"
   ],
   "metadata": {
    "collapsed": false,
    "ExecuteTime": {
     "start_time": "2023-12-10T20:17:28.880107Z",
     "end_time": "2023-12-10T20:17:28.898601Z"
    }
   }
  },
  {
   "cell_type": "code",
   "execution_count": 11,
   "outputs": [
    {
     "name": "stderr",
     "output_type": "stream",
     "text": [
      "[I 2023-12-20 23:17:22,402] A new study created in memory with name: Study node type Q, normalized: True\n"
     ]
    },
    {
     "data": {
      "text/plain": "  0%|          | 0/25 [00:00<?, ?it/s]",
      "application/vnd.jupyter.widget-view+json": {
       "version_major": 2,
       "version_minor": 0,
       "model_id": "22862459ddfb41b1a0057995e2f29c52"
      }
     },
     "metadata": {},
     "output_type": "display_data"
    },
    {
     "name": "stdout",
     "output_type": "stream",
     "text": [
      "[I 2023-12-20 23:18:49,642] Trial 0 finished with value: -355.0507489116784 and parameters: {'hidden_dim': 288, 'k': 3, 'learning_rate': 1.130842916384514e-05, 'batcher': False}. Best is trial 0 with value: -355.0507489116784.\n",
      "[I 2023-12-20 23:20:14,674] Trial 1 finished with value: 0.9598863199771699 and parameters: {'hidden_dim': 336, 'k': 2, 'learning_rate': 0.0053118472656670575, 'batcher': False}. Best is trial 1 with value: 0.9598863199771699.\n",
      "[I 2023-12-20 23:21:40,562] Trial 2 finished with value: 0.921111312956889 and parameters: {'hidden_dim': 320, 'k': 2, 'learning_rate': 0.006808124440791559, 'batcher': True}. Best is trial 1 with value: 0.9598863199771699.\n",
      "[I 2023-12-20 23:23:02,372] Trial 3 finished with value: 0.9273591202348644 and parameters: {'hidden_dim': 304, 'k': 2, 'learning_rate': 0.0062507560904402435, 'batcher': True}. Best is trial 1 with value: 0.9598863199771699.\n",
      "[I 2023-12-20 23:26:04,986] Trial 4 finished with value: -10.879799747157083 and parameters: {'hidden_dim': 448, 'k': 5, 'learning_rate': 1.1054741224045153e-05, 'batcher': True}. Best is trial 1 with value: 0.9598863199771699.\n",
      "[I 2023-12-20 23:28:16,745] Trial 5 finished with value: -0.21493985699554075 and parameters: {'hidden_dim': 448, 'k': 1, 'learning_rate': 2.1440203365416376e-05, 'batcher': True}. Best is trial 1 with value: 0.9598863199771699.\n",
      "[I 2023-12-20 23:30:28,465] Trial 6 finished with value: 0.8110138136577509 and parameters: {'hidden_dim': 512, 'k': 1, 'learning_rate': 0.0006602777218201582, 'batcher': False}. Best is trial 1 with value: 0.9598863199771699.\n",
      "[I 2023-12-20 23:32:36,430] Trial 7 finished with value: -972.7296586057466 and parameters: {'hidden_dim': 16, 'k': 4, 'learning_rate': 0.0005511370942554408, 'batcher': False}. Best is trial 1 with value: 0.9598863199771699.\n",
      "[I 2023-12-20 23:34:43,723] Trial 8 finished with value: 0.8281139211206945 and parameters: {'hidden_dim': 176, 'k': 2, 'learning_rate': 0.00019022814672063916, 'batcher': False}. Best is trial 1 with value: 0.9598863199771699.\n",
      "[I 2023-12-20 23:36:47,172] Trial 9 finished with value: -843.3385380045835 and parameters: {'hidden_dim': 16, 'k': 5, 'learning_rate': 0.0001053888189372276, 'batcher': False}. Best is trial 1 with value: 0.9598863199771699.\n",
      "[I 2023-12-20 23:38:56,248] Trial 10 finished with value: 0.8166371947522073 and parameters: {'hidden_dim': 176, 'k': 3, 'learning_rate': 0.0023302237952175326, 'batcher': False}. Best is trial 1 with value: 0.9598863199771699.\n",
      "[I 2023-12-20 23:41:19,934] Trial 11 finished with value: 0.9591653524951163 and parameters: {'hidden_dim': 368, 'k': 2, 'learning_rate': 0.009672352113947855, 'batcher': True}. Best is trial 1 with value: 0.9598863199771699.\n",
      "[I 2023-12-20 23:43:36,584] Trial 12 finished with value: 0.6565571889483933 and parameters: {'hidden_dim': 384, 'k': 2, 'learning_rate': 0.008121630863644345, 'batcher': True}. Best is trial 1 with value: 0.9598863199771699.\n",
      "[I 2023-12-20 23:45:43,261] Trial 13 finished with value: 0.8432599564762884 and parameters: {'hidden_dim': 192, 'k': 1, 'learning_rate': 0.0020607408373443767, 'batcher': True}. Best is trial 1 with value: 0.9598863199771699.\n",
      "[I 2023-12-20 23:47:55,260] Trial 14 finished with value: 0.914081117620819 and parameters: {'hidden_dim': 368, 'k': 3, 'learning_rate': 0.002530119669825366, 'batcher': False}. Best is trial 1 with value: 0.9598863199771699.\n",
      "[I 2023-12-20 23:50:02,631] Trial 15 finished with value: 0.8218275266247914 and parameters: {'hidden_dim': 240, 'k': 4, 'learning_rate': 0.009937145557738988, 'batcher': True}. Best is trial 1 with value: 0.9598863199771699.\n",
      "[I 2023-12-20 23:52:09,855] Trial 16 finished with value: 0.9132140073664907 and parameters: {'hidden_dim': 400, 'k': 2, 'learning_rate': 0.003342046039754078, 'batcher': False}. Best is trial 1 with value: 0.9598863199771699.\n",
      "[I 2023-12-20 23:54:17,130] Trial 17 finished with value: 0.8645118013755122 and parameters: {'hidden_dim': 240, 'k': 4, 'learning_rate': 0.0010752048153936636, 'batcher': True}. Best is trial 1 with value: 0.9598863199771699.\n",
      "[I 2023-12-20 23:56:21,762] Trial 18 finished with value: 0.7149782506086038 and parameters: {'hidden_dim': 112, 'k': 3, 'learning_rate': 0.004224417364061628, 'batcher': False}. Best is trial 1 with value: 0.9598863199771699.\n",
      "[I 2023-12-20 23:58:29,187] Trial 19 finished with value: 0.8632756645582653 and parameters: {'hidden_dim': 352, 'k': 1, 'learning_rate': 0.0015516202415128725, 'batcher': True}. Best is trial 1 with value: 0.9598863199771699.\n",
      "[I 2023-12-21 00:00:38,622] Trial 20 finished with value: 0.8037781999211543 and parameters: {'hidden_dim': 448, 'k': 2, 'learning_rate': 0.004910434110889078, 'batcher': True}. Best is trial 1 with value: 0.9598863199771699.\n",
      "[I 2023-12-21 00:02:45,937] Trial 21 finished with value: 0.9381710425760513 and parameters: {'hidden_dim': 304, 'k': 2, 'learning_rate': 0.005283420759518948, 'batcher': True}. Best is trial 1 with value: 0.9598863199771699.\n",
      "[I 2023-12-21 00:04:53,174] Trial 22 finished with value: 0.786488704891756 and parameters: {'hidden_dim': 320, 'k': 2, 'learning_rate': 0.00998790618500485, 'batcher': True}. Best is trial 1 with value: 0.9598863199771699.\n",
      "[I 2023-12-21 00:07:02,085] Trial 23 finished with value: 0.907903244885952 and parameters: {'hidden_dim': 256, 'k': 1, 'learning_rate': 0.005320997315139582, 'batcher': True}. Best is trial 1 with value: 0.9598863199771699.\n",
      "[I 2023-12-21 00:09:11,571] Trial 24 finished with value: 0.9196134266710952 and parameters: {'hidden_dim': 416, 'k': 2, 'learning_rate': 0.003475370582450905, 'batcher': True}. Best is trial 1 with value: 0.9598863199771699.\n"
     ]
    }
   ],
   "source": [
    "node_type = \"Q\"\n",
    "size_elem = 50\n",
    "n_trials = 25\n",
    "normalized = True\n",
    "study = optuna.create_study(study_name=f\"Study node type {node_type}, normalized: {normalized}\", directions=['maximize'])\n",
    "study.optimize(objective, n_trials=n_trials, show_progress_bar=True)"
   ],
   "metadata": {
    "collapsed": false,
    "ExecuteTime": {
     "start_time": "2023-12-10T20:17:28.896596Z",
     "end_time": "2023-12-10T21:21:14.283332Z"
    }
   }
  },
  {
   "cell_type": "code",
   "execution_count": 12,
   "outputs": [],
   "source": [
    "study.trials_dataframe().to_csv(f\"csvs/single-node_t-{node_type}_n-{size_elem}_normalized-{normalized}_s-{size_elem}.csv\")"
   ],
   "metadata": {
    "collapsed": false,
    "ExecuteTime": {
     "start_time": "2023-12-10T21:21:14.284341Z",
     "end_time": "2023-12-10T21:21:14.301856Z"
    }
   }
  },
  {
   "cell_type": "markdown",
   "source": [
    "### C"
   ],
   "metadata": {
    "collapsed": false
   }
  },
  {
   "cell_type": "code",
   "execution_count": 13,
   "outputs": [
    {
     "name": "stderr",
     "output_type": "stream",
     "text": [
      "[I 2023-12-21 00:09:11,592] A new study created in memory with name: Study node type C, normalized: False\n"
     ]
    },
    {
     "data": {
      "text/plain": "  0%|          | 0/25 [00:00<?, ?it/s]",
      "application/vnd.jupyter.widget-view+json": {
       "version_major": 2,
       "version_minor": 0,
       "model_id": "15cb4afa6e1d45968c5656a63853e15a"
      }
     },
     "metadata": {},
     "output_type": "display_data"
    },
    {
     "name": "stdout",
     "output_type": "stream",
     "text": [
      "[I 2023-12-21 00:11:33,696] Trial 0 finished with value: 0.5969359154620285 and parameters: {'hidden_dim': 400, 'k': 2, 'learning_rate': 0.000352340390973993, 'batcher': False}. Best is trial 0 with value: 0.5969359154620285.\n",
      "[I 2023-12-21 00:13:41,024] Trial 1 finished with value: -0.31175435333656715 and parameters: {'hidden_dim': 256, 'k': 2, 'learning_rate': 1.9219053673733705e-05, 'batcher': False}. Best is trial 0 with value: 0.5969359154620285.\n",
      "[I 2023-12-21 00:15:53,054] Trial 2 finished with value: 0.8913245228642177 and parameters: {'hidden_dim': 208, 'k': 1, 'learning_rate': 0.005883781965745241, 'batcher': True}. Best is trial 2 with value: 0.8913245228642177.\n",
      "[I 2023-12-21 00:18:06,221] Trial 3 finished with value: 0.29938230766643315 and parameters: {'hidden_dim': 32, 'k': 3, 'learning_rate': 1.2355855810683269e-05, 'batcher': True}. Best is trial 2 with value: 0.8913245228642177.\n",
      "[I 2023-12-21 00:21:51,409] Trial 4 finished with value: -15.114533331828 and parameters: {'hidden_dim': 464, 'k': 3, 'learning_rate': 1.972806380784495e-05, 'batcher': False}. Best is trial 2 with value: 0.8913245228642177.\n",
      "[I 2023-12-21 00:27:07,681] Trial 5 finished with value: -15.227014699466448 and parameters: {'hidden_dim': 496, 'k': 4, 'learning_rate': 0.0014089912502003277, 'batcher': True}. Best is trial 2 with value: 0.8913245228642177.\n",
      "[I 2023-12-21 00:29:46,448] Trial 6 finished with value: -5.513808281780523 and parameters: {'hidden_dim': 256, 'k': 3, 'learning_rate': 8.296211597779205e-05, 'batcher': True}. Best is trial 2 with value: 0.8913245228642177.\n",
      "[I 2023-12-21 00:31:58,479] Trial 7 finished with value: -11.835778514510267 and parameters: {'hidden_dim': 160, 'k': 4, 'learning_rate': 1.5230012204397696e-05, 'batcher': False}. Best is trial 2 with value: 0.8913245228642177.\n",
      "[I 2023-12-21 00:35:08,956] Trial 8 finished with value: 0.40229338586484154 and parameters: {'hidden_dim': 464, 'k': 2, 'learning_rate': 0.001143066228822619, 'batcher': True}. Best is trial 2 with value: 0.8913245228642177.\n",
      "[I 2023-12-21 00:37:21,756] Trial 9 finished with value: -0.5240199862637036 and parameters: {'hidden_dim': 96, 'k': 4, 'learning_rate': 1.1798637266802002e-05, 'batcher': False}. Best is trial 2 with value: 0.8913245228642177.\n",
      "[I 2023-12-21 00:39:31,384] Trial 10 finished with value: -0.09594169673065944 and parameters: {'hidden_dim': 336, 'k': 1, 'learning_rate': 0.009564383790613662, 'batcher': True}. Best is trial 2 with value: 0.8913245228642177.\n",
      "[I 2023-12-21 00:41:40,694] Trial 11 finished with value: 0.9910243297990281 and parameters: {'hidden_dim': 368, 'k': 1, 'learning_rate': 0.000300935030108893, 'batcher': False}. Best is trial 11 with value: 0.9910243297990281.\n",
      "[I 2023-12-21 00:43:54,104] Trial 12 finished with value: 0.7174531928776815 and parameters: {'hidden_dim': 176, 'k': 1, 'learning_rate': 0.008628590161194325, 'batcher': True}. Best is trial 11 with value: 0.9910243297990281.\n",
      "[I 2023-12-21 00:46:02,046] Trial 13 finished with value: 0.9747783199211437 and parameters: {'hidden_dim': 352, 'k': 1, 'learning_rate': 0.00028485407823766875, 'batcher': False}. Best is trial 11 with value: 0.9910243297990281.\n",
      "[I 2023-12-21 00:51:05,420] Trial 14 finished with value: 0.18830502209510686 and parameters: {'hidden_dim': 352, 'k': 5, 'learning_rate': 0.00012211753482928046, 'batcher': False}. Best is trial 11 with value: 0.9910243297990281.\n",
      "[I 2023-12-21 00:53:16,289] Trial 15 finished with value: 0.967530251356675 and parameters: {'hidden_dim': 352, 'k': 1, 'learning_rate': 0.00028329580852647464, 'batcher': False}. Best is trial 11 with value: 0.9910243297990281.\n",
      "[I 2023-12-21 00:55:55,815] Trial 16 finished with value: -1.4104107813004592 and parameters: {'hidden_dim': 400, 'k': 2, 'learning_rate': 5.728974580155508e-05, 'batcher': False}. Best is trial 11 with value: 0.9910243297990281.\n",
      "[I 2023-12-21 00:58:04,413] Trial 17 finished with value: 0.9595337570759869 and parameters: {'hidden_dim': 320, 'k': 1, 'learning_rate': 0.00032200715915035145, 'batcher': False}. Best is trial 11 with value: 0.9910243297990281.\n",
      "[I 2023-12-21 01:00:45,508] Trial 18 finished with value: -1867.576122472707 and parameters: {'hidden_dim': 416, 'k': 2, 'learning_rate': 0.000717662417539515, 'batcher': False}. Best is trial 11 with value: 0.9910243297990281.\n",
      "[I 2023-12-21 01:02:52,760] Trial 19 finished with value: 0.8673191658884705 and parameters: {'hidden_dim': 304, 'k': 1, 'learning_rate': 0.00017517195956533277, 'batcher': False}. Best is trial 11 with value: 0.9910243297990281.\n",
      "[I 2023-12-21 01:07:07,844] Trial 20 finished with value: 0.6133437377231123 and parameters: {'hidden_dim': 512, 'k': 2, 'learning_rate': 6.492571235914784e-05, 'batcher': False}. Best is trial 11 with value: 0.9910243297990281.\n",
      "[I 2023-12-21 01:09:20,933] Trial 21 finished with value: 0.9774330959488106 and parameters: {'hidden_dim': 368, 'k': 1, 'learning_rate': 0.00023055673069486532, 'batcher': False}. Best is trial 11 with value: 0.9910243297990281.\n",
      "[I 2023-12-21 01:11:30,194] Trial 22 finished with value: -209.5844618252343 and parameters: {'hidden_dim': 384, 'k': 1, 'learning_rate': 0.0005194726028061395, 'batcher': False}. Best is trial 11 with value: 0.9910243297990281.\n",
      "[I 2023-12-21 01:13:39,731] Trial 23 finished with value: 0.9806405737259649 and parameters: {'hidden_dim': 288, 'k': 1, 'learning_rate': 0.00020254919212929137, 'batcher': False}. Best is trial 11 with value: 0.9910243297990281.\n",
      "[I 2023-12-21 01:15:53,235] Trial 24 finished with value: -1.6101988804436402 and parameters: {'hidden_dim': 288, 'k': 2, 'learning_rate': 0.00017001779302199256, 'batcher': False}. Best is trial 11 with value: 0.9910243297990281.\n"
     ]
    }
   ],
   "source": [
    "node_type = \"C\"\n",
    "size_elem = 50\n",
    "n_trials = 25\n",
    "normalized = False\n",
    "study = optuna.create_study(study_name=f\"Study node type {node_type}, normalized: {normalized}\", directions=['maximize'])\n",
    "study.optimize(objective, n_trials=n_trials, show_progress_bar=True)"
   ],
   "metadata": {
    "collapsed": false,
    "ExecuteTime": {
     "start_time": "2023-12-10T21:21:14.299856Z",
     "end_time": "2023-12-10T22:44:34.139179Z"
    }
   }
  },
  {
   "cell_type": "code",
   "execution_count": 14,
   "outputs": [],
   "source": [
    "study.trials_dataframe().to_csv(f\"csvs/single-node_t-{node_type}_n-{size_elem}_normalized-{normalized}_s-{size_elem}.csv\")"
   ],
   "metadata": {
    "collapsed": false,
    "ExecuteTime": {
     "start_time": "2023-12-10T22:44:34.140731Z",
     "end_time": "2023-12-10T22:44:34.157740Z"
    }
   }
  },
  {
   "cell_type": "code",
   "execution_count": 15,
   "outputs": [
    {
     "name": "stderr",
     "output_type": "stream",
     "text": [
      "[I 2023-12-21 01:15:53,264] A new study created in memory with name: Study node type C, normalized: True\n"
     ]
    },
    {
     "data": {
      "text/plain": "  0%|          | 0/25 [00:00<?, ?it/s]",
      "application/vnd.jupyter.widget-view+json": {
       "version_major": 2,
       "version_minor": 0,
       "model_id": "8726e2e399f54c5c9336ec49e362d362"
      }
     },
     "metadata": {},
     "output_type": "display_data"
    },
    {
     "name": "stdout",
     "output_type": "stream",
     "text": [
      "[I 2023-12-21 01:17:57,426] Trial 0 finished with value: -964.3377997537311 and parameters: {'hidden_dim': 48, 'k': 5, 'learning_rate': 3.385880538204453e-05, 'batcher': True}. Best is trial 0 with value: -964.3377997537311.\n",
      "[I 2023-12-21 01:20:37,211] Trial 1 finished with value: 0.8004943377436607 and parameters: {'hidden_dim': 320, 'k': 4, 'learning_rate': 0.00042784894143008465, 'batcher': False}. Best is trial 1 with value: 0.8004943377436607.\n",
      "[I 2023-12-21 01:22:45,554] Trial 2 finished with value: -937.8409673280236 and parameters: {'hidden_dim': 112, 'k': 3, 'learning_rate': 1.103564668058445e-05, 'batcher': False}. Best is trial 1 with value: 0.8004943377436607.\n",
      "[I 2023-12-21 01:24:52,734] Trial 3 finished with value: -15.90566126532853 and parameters: {'hidden_dim': 112, 'k': 5, 'learning_rate': 4.897711715622834e-05, 'batcher': False}. Best is trial 1 with value: 0.8004943377436607.\n",
      "[I 2023-12-21 01:27:00,722] Trial 4 finished with value: 0.8863333153936803 and parameters: {'hidden_dim': 192, 'k': 1, 'learning_rate': 0.002369931849789734, 'batcher': True}. Best is trial 4 with value: 0.8863333153936803.\n",
      "[I 2023-12-21 01:29:10,579] Trial 5 finished with value: 0.7477112804951681 and parameters: {'hidden_dim': 128, 'k': 2, 'learning_rate': 0.0016310266533734305, 'batcher': False}. Best is trial 4 with value: 0.8863333153936803.\n",
      "[I 2023-12-21 01:31:16,816] Trial 6 finished with value: 0.8245477778943446 and parameters: {'hidden_dim': 128, 'k': 4, 'learning_rate': 0.0006095019401090207, 'batcher': True}. Best is trial 4 with value: 0.8863333153936803.\n",
      "[I 2023-12-21 01:34:26,763] Trial 7 finished with value: -79.12304503047653 and parameters: {'hidden_dim': 288, 'k': 5, 'learning_rate': 1.4560285668399371e-05, 'batcher': False}. Best is trial 4 with value: 0.8863333153936803.\n",
      "[I 2023-12-21 01:36:34,360] Trial 8 finished with value: 0.8707246810001574 and parameters: {'hidden_dim': 288, 'k': 1, 'learning_rate': 0.0018132812742409081, 'batcher': True}. Best is trial 4 with value: 0.8863333153936803.\n",
      "[I 2023-12-21 01:38:40,451] Trial 9 finished with value: 0.9347411852135886 and parameters: {'hidden_dim': 400, 'k': 1, 'learning_rate': 0.0043676288330106545, 'batcher': True}. Best is trial 9 with value: 0.9347411852135886.\n",
      "[I 2023-12-21 01:42:53,014] Trial 10 finished with value: -5.652251026555736 and parameters: {'hidden_dim': 496, 'k': 2, 'learning_rate': 0.008636776676426936, 'batcher': True}. Best is trial 9 with value: 0.9347411852135886.\n",
      "[I 2023-12-21 01:45:00,400] Trial 11 finished with value: 0.9662218424674067 and parameters: {'hidden_dim': 432, 'k': 1, 'learning_rate': 0.006650066820689069, 'batcher': True}. Best is trial 11 with value: 0.9662218424674067.\n",
      "[I 2023-12-21 01:47:06,177] Trial 12 finished with value: 0.13491934842305714 and parameters: {'hidden_dim': 448, 'k': 1, 'learning_rate': 0.009184476655302504, 'batcher': True}. Best is trial 11 with value: 0.9662218424674067.\n",
      "[I 2023-12-21 01:49:18,503] Trial 13 finished with value: 0.8403455545742957 and parameters: {'hidden_dim': 400, 'k': 2, 'learning_rate': 0.004323952276535075, 'batcher': True}. Best is trial 11 with value: 0.9662218424674067.\n",
      "[I 2023-12-21 01:51:24,554] Trial 14 finished with value: 0.9694515492690801 and parameters: {'hidden_dim': 384, 'k': 1, 'learning_rate': 0.003542450353380814, 'batcher': True}. Best is trial 14 with value: 0.9694515492690801.\n",
      "[I 2023-12-21 01:53:30,791] Trial 15 finished with value: 0.903361323443862 and parameters: {'hidden_dim': 368, 'k': 2, 'learning_rate': 0.001044574712997428, 'batcher': True}. Best is trial 14 with value: 0.9694515492690801.\n",
      "[I 2023-12-21 01:57:43,248] Trial 16 finished with value: 0.8662359633042765 and parameters: {'hidden_dim': 512, 'k': 3, 'learning_rate': 0.00016886860753569525, 'batcher': True}. Best is trial 14 with value: 0.9694515492690801.\n",
      "[I 2023-12-21 01:59:51,234] Trial 17 finished with value: 0.923714364806506 and parameters: {'hidden_dim': 224, 'k': 1, 'learning_rate': 0.0039013311109628137, 'batcher': True}. Best is trial 14 with value: 0.9694515492690801.\n",
      "[I 2023-12-21 02:02:27,487] Trial 18 finished with value: 0.9249146464147602 and parameters: {'hidden_dim': 336, 'k': 3, 'learning_rate': 0.009707281499354879, 'batcher': True}. Best is trial 14 with value: 0.9694515492690801.\n",
      "[I 2023-12-21 02:04:34,809] Trial 19 finished with value: 0.8908188144156028 and parameters: {'hidden_dim': 432, 'k': 2, 'learning_rate': 0.0007450152717326812, 'batcher': True}. Best is trial 14 with value: 0.9694515492690801.\n",
      "[I 2023-12-21 02:07:10,447] Trial 20 finished with value: 0.8833159083311017 and parameters: {'hidden_dim': 464, 'k': 1, 'learning_rate': 0.00031461593754685365, 'batcher': True}. Best is trial 14 with value: 0.9694515492690801.\n",
      "[I 2023-12-21 02:09:18,370] Trial 21 finished with value: 0.962606946355667 and parameters: {'hidden_dim': 384, 'k': 1, 'learning_rate': 0.004019743688164774, 'batcher': True}. Best is trial 14 with value: 0.9694515492690801.\n",
      "[I 2023-12-21 02:11:24,512] Trial 22 finished with value: 0.9338768574441977 and parameters: {'hidden_dim': 368, 'k': 1, 'learning_rate': 0.0028864645684533643, 'batcher': True}. Best is trial 14 with value: 0.9694515492690801.\n",
      "[I 2023-12-21 02:13:34,776] Trial 23 finished with value: 0.7836612222666461 and parameters: {'hidden_dim': 416, 'k': 2, 'learning_rate': 0.005700113243759653, 'batcher': True}. Best is trial 14 with value: 0.9694515492690801.\n",
      "[I 2023-12-21 02:15:40,953] Trial 24 finished with value: 0.9040051111229351 and parameters: {'hidden_dim': 352, 'k': 1, 'learning_rate': 0.0015344721696143111, 'batcher': True}. Best is trial 14 with value: 0.9694515492690801.\n"
     ]
    }
   ],
   "source": [
    "node_type = \"C\"\n",
    "size_elem = 50\n",
    "n_trials = 25\n",
    "normalized = True\n",
    "study = optuna.create_study(study_name=f\"Study node type {node_type}, normalized: {normalized}\", directions=['maximize'])\n",
    "study.optimize(objective, n_trials=n_trials, show_progress_bar=True)"
   ],
   "metadata": {
    "collapsed": false,
    "ExecuteTime": {
     "start_time": "2023-12-10T22:44:34.155740Z",
     "end_time": "2023-12-10T23:57:55.714964Z"
    }
   }
  },
  {
   "cell_type": "code",
   "execution_count": 16,
   "outputs": [],
   "source": [
    "study.trials_dataframe().to_csv(f\"csvs/single-node_t-{node_type}_n-{size_elem}_normalized-{normalized}_s-{size_elem}.csv\")"
   ],
   "metadata": {
    "collapsed": false,
    "ExecuteTime": {
     "start_time": "2023-12-10T23:57:55.716960Z",
     "end_time": "2023-12-10T23:57:55.733054Z"
    }
   }
  },
  {
   "cell_type": "markdown",
   "source": [
    "### P"
   ],
   "metadata": {
    "collapsed": false
   }
  },
  {
   "cell_type": "code",
   "execution_count": 17,
   "outputs": [
    {
     "name": "stderr",
     "output_type": "stream",
     "text": [
      "[I 2023-12-21 02:15:40,980] A new study created in memory with name: Study node type P, normalized: False\n"
     ]
    },
    {
     "data": {
      "text/plain": "  0%|          | 0/25 [00:00<?, ?it/s]",
      "application/vnd.jupyter.widget-view+json": {
       "version_major": 2,
       "version_minor": 0,
       "model_id": "73ba6c24e3da4353a41941b2d3b16926"
      }
     },
     "metadata": {},
     "output_type": "display_data"
    },
    {
     "name": "stdout",
     "output_type": "stream",
     "text": [
      "[I 2023-12-21 02:17:48,712] Trial 0 finished with value: 0.9931891163593656 and parameters: {'hidden_dim': 128, 'k': 5, 'learning_rate': 0.007132846848478785, 'batcher': True}. Best is trial 0 with value: 0.9931891163593656.\n",
      "[I 2023-12-21 02:20:05,433] Trial 1 finished with value: 0.9964303475177589 and parameters: {'hidden_dim': 384, 'k': 2, 'learning_rate': 0.00018138184870426937, 'batcher': False}. Best is trial 1 with value: 0.9964303475177589.\n",
      "[I 2023-12-21 02:22:16,304] Trial 2 finished with value: 0.996665576706586 and parameters: {'hidden_dim': 64, 'k': 1, 'learning_rate': 0.001960943758643364, 'batcher': True}. Best is trial 2 with value: 0.996665576706586.\n",
      "[I 2023-12-21 02:24:23,292] Trial 3 finished with value: 0.9976954363388956 and parameters: {'hidden_dim': 496, 'k': 2, 'learning_rate': 4.428556788842352e-05, 'batcher': True}. Best is trial 3 with value: 0.9976954363388956.\n",
      "[I 2023-12-21 02:26:35,721] Trial 4 finished with value: 0.9958754327612847 and parameters: {'hidden_dim': 48, 'k': 2, 'learning_rate': 0.0005654528594301541, 'batcher': True}. Best is trial 3 with value: 0.9976954363388956.\n",
      "[I 2023-12-21 02:28:53,217] Trial 5 finished with value: 0.9977364274478642 and parameters: {'hidden_dim': 208, 'k': 3, 'learning_rate': 0.0006456079866686346, 'batcher': True}. Best is trial 5 with value: 0.9977364274478642.\n",
      "[I 2023-12-21 02:31:16,056] Trial 6 finished with value: 0.9904001862557348 and parameters: {'hidden_dim': 96, 'k': 3, 'learning_rate': 0.007035413446994695, 'batcher': True}. Best is trial 5 with value: 0.9977364274478642.\n",
      "[I 2023-12-21 02:33:38,777] Trial 7 finished with value: 0.995832440981777 and parameters: {'hidden_dim': 464, 'k': 3, 'learning_rate': 0.0016884020645171324, 'batcher': False}. Best is trial 5 with value: 0.9977364274478642.\n",
      "[I 2023-12-21 02:36:01,423] Trial 8 finished with value: 0.9973527927025179 and parameters: {'hidden_dim': 208, 'k': 1, 'learning_rate': 0.0012261372882998427, 'batcher': True}. Best is trial 5 with value: 0.9977364274478642.\n",
      "[I 2023-12-21 02:38:31,782] Trial 9 finished with value: 0.9965946074416262 and parameters: {'hidden_dim': 96, 'k': 5, 'learning_rate': 0.000858482373393532, 'batcher': False}. Best is trial 5 with value: 0.9977364274478642.\n",
      "[I 2023-12-21 02:41:02,183] Trial 10 finished with value: 0.9959490918258129 and parameters: {'hidden_dim': 304, 'k': 4, 'learning_rate': 1.1825476269756473e-05, 'batcher': False}. Best is trial 5 with value: 0.9977364274478642.\n",
      "[I 2023-12-21 02:43:32,535] Trial 11 finished with value: 0.9965521301654967 and parameters: {'hidden_dim': 240, 'k': 2, 'learning_rate': 0.00011740622767462547, 'batcher': True}. Best is trial 5 with value: 0.9977364274478642.\n",
      "[I 2023-12-21 02:46:12,928] Trial 12 finished with value: 0.9981689289879452 and parameters: {'hidden_dim': 496, 'k': 4, 'learning_rate': 5.869639605073933e-05, 'batcher': True}. Best is trial 12 with value: 0.9981689289879452.\n",
      "[I 2023-12-21 02:48:43,442] Trial 13 finished with value: 0.9979123928319729 and parameters: {'hidden_dim': 352, 'k': 4, 'learning_rate': 0.00025903730994371077, 'batcher': True}. Best is trial 12 with value: 0.9981689289879452.\n",
      "[I 2023-12-21 02:51:13,850] Trial 14 finished with value: 0.9989635022701338 and parameters: {'hidden_dim': 400, 'k': 4, 'learning_rate': 6.663858392151592e-05, 'batcher': True}. Best is trial 14 with value: 0.9989635022701338.\n",
      "[I 2023-12-21 02:53:44,191] Trial 15 finished with value: 0.9962091687105132 and parameters: {'hidden_dim': 432, 'k': 4, 'learning_rate': 7.394524275310439e-05, 'batcher': True}. Best is trial 14 with value: 0.9989635022701338.\n",
      "[I 2023-12-21 02:56:17,395] Trial 16 finished with value: 0.9956442650533474 and parameters: {'hidden_dim': 512, 'k': 4, 'learning_rate': 3.777586100970077e-05, 'batcher': True}. Best is trial 14 with value: 0.9989635022701338.\n",
      "[I 2023-12-21 02:58:50,113] Trial 17 finished with value: 0.9983774733665725 and parameters: {'hidden_dim': 416, 'k': 5, 'learning_rate': 1.9500709252978125e-05, 'batcher': True}. Best is trial 14 with value: 0.9989635022701338.\n",
      "[I 2023-12-21 03:01:20,446] Trial 18 finished with value: 0.998540383549245 and parameters: {'hidden_dim': 400, 'k': 5, 'learning_rate': 1.8048765848912645e-05, 'batcher': False}. Best is trial 14 with value: 0.9989635022701338.\n",
      "[I 2023-12-21 03:03:50,882] Trial 19 finished with value: 0.9980038529934859 and parameters: {'hidden_dim': 320, 'k': 5, 'learning_rate': 2.2627845207998715e-05, 'batcher': False}. Best is trial 14 with value: 0.9989635022701338.\n",
      "[I 2023-12-21 03:06:21,423] Trial 20 finished with value: 0.9980112918539261 and parameters: {'hidden_dim': 368, 'k': 5, 'learning_rate': 1.1166849751125682e-05, 'batcher': False}. Best is trial 14 with value: 0.9989635022701338.\n",
      "[I 2023-12-21 03:08:52,152] Trial 21 finished with value: 0.9982261015616223 and parameters: {'hidden_dim': 416, 'k': 5, 'learning_rate': 2.407046211217296e-05, 'batcher': False}. Best is trial 14 with value: 0.9989635022701338.\n",
      "[I 2023-12-21 03:11:22,708] Trial 22 finished with value: 0.9959119163173087 and parameters: {'hidden_dim': 432, 'k': 5, 'learning_rate': 2.296198921463272e-05, 'batcher': False}. Best is trial 14 with value: 0.9989635022701338.\n",
      "[I 2023-12-21 03:13:53,314] Trial 23 finished with value: 0.9977943988107937 and parameters: {'hidden_dim': 288, 'k': 4, 'learning_rate': 9.375528729166633e-05, 'batcher': False}. Best is trial 14 with value: 0.9989635022701338.\n",
      "[I 2023-12-21 03:16:23,762] Trial 24 finished with value: 0.9981384853807264 and parameters: {'hidden_dim': 400, 'k': 5, 'learning_rate': 3.335395251896981e-05, 'batcher': True}. Best is trial 14 with value: 0.9989635022701338.\n"
     ]
    }
   ],
   "source": [
    "node_type = \"P\"\n",
    "size_elem = 50\n",
    "n_trials = 25\n",
    "normalized = False\n",
    "study = optuna.create_study(study_name=f\"Study node type {node_type}, normalized: {normalized}\", directions=['maximize'])\n",
    "study.optimize(objective, n_trials=n_trials, show_progress_bar=True)"
   ],
   "metadata": {
    "collapsed": false,
    "ExecuteTime": {
     "start_time": "2023-12-10T23:57:55.732055Z",
     "end_time": "2023-12-11T01:10:48.388185Z"
    }
   }
  },
  {
   "cell_type": "code",
   "execution_count": 18,
   "outputs": [],
   "source": [
    "study.trials_dataframe().to_csv(f\"csvs/single-node_t-{node_type}_n-{size_elem}_normalized-{normalized}_s-{size_elem}.csv\")"
   ],
   "metadata": {
    "collapsed": false,
    "ExecuteTime": {
     "start_time": "2023-12-11T01:10:48.392185Z",
     "end_time": "2023-12-11T01:10:48.406188Z"
    }
   }
  },
  {
   "cell_type": "code",
   "execution_count": 19,
   "outputs": [
    {
     "name": "stderr",
     "output_type": "stream",
     "text": [
      "[I 2023-12-21 03:16:23,791] A new study created in memory with name: Study node type P, normalized: True\n"
     ]
    },
    {
     "data": {
      "text/plain": "  0%|          | 0/25 [00:00<?, ?it/s]",
      "application/vnd.jupyter.widget-view+json": {
       "version_major": 2,
       "version_minor": 0,
       "model_id": "eeff5ba68bc5466c94d5786ffd8dce7e"
      }
     },
     "metadata": {},
     "output_type": "display_data"
    },
    {
     "name": "stdout",
     "output_type": "stream",
     "text": [
      "[I 2023-12-21 03:18:54,250] Trial 0 finished with value: 0.8643245847236305 and parameters: {'hidden_dim': 464, 'k': 5, 'learning_rate': 0.0010279678641954351, 'batcher': True}. Best is trial 0 with value: 0.8643245847236305.\n",
      "[I 2023-12-21 03:21:00,446] Trial 1 finished with value: -950.3397200370609 and parameters: {'hidden_dim': 16, 'k': 3, 'learning_rate': 3.311241444316854e-05, 'batcher': True}. Best is trial 0 with value: 0.8643245847236305.\n",
      "[I 2023-12-21 03:23:08,672] Trial 2 finished with value: 0.7121181788347923 and parameters: {'hidden_dim': 304, 'k': 1, 'learning_rate': 0.005595028993082658, 'batcher': False}. Best is trial 0 with value: 0.8643245847236305.\n",
      "[I 2023-12-21 03:25:14,044] Trial 3 finished with value: 0.8389407299265279 and parameters: {'hidden_dim': 176, 'k': 4, 'learning_rate': 0.0019216300359400456, 'batcher': True}. Best is trial 0 with value: 0.8643245847236305.\n",
      "[I 2023-12-21 03:27:21,803] Trial 4 finished with value: 0.7971064696273175 and parameters: {'hidden_dim': 288, 'k': 2, 'learning_rate': 0.0006719333646935554, 'batcher': True}. Best is trial 0 with value: 0.8643245847236305.\n",
      "[I 2023-12-21 03:29:33,939] Trial 5 finished with value: -2.371615340820356 and parameters: {'hidden_dim': 384, 'k': 1, 'learning_rate': 5.401794981383958e-05, 'batcher': True}. Best is trial 0 with value: 0.8643245847236305.\n",
      "[I 2023-12-21 03:32:04,561] Trial 6 finished with value: 0.7665392136086207 and parameters: {'hidden_dim': 496, 'k': 5, 'learning_rate': 0.00012534523649003422, 'batcher': True}. Best is trial 0 with value: 0.8643245847236305.\n",
      "[I 2023-12-21 03:34:10,629] Trial 7 finished with value: 0.7944163185333846 and parameters: {'hidden_dim': 288, 'k': 5, 'learning_rate': 0.00023542742465356857, 'batcher': True}. Best is trial 0 with value: 0.8643245847236305.\n",
      "[I 2023-12-21 03:36:18,400] Trial 8 finished with value: 0.8799894085251259 and parameters: {'hidden_dim': 272, 'k': 1, 'learning_rate': 0.0023937292846476508, 'batcher': True}. Best is trial 8 with value: 0.8799894085251259.\n",
      "[I 2023-12-21 03:38:25,976] Trial 9 finished with value: 0.7344635386996836 and parameters: {'hidden_dim': 288, 'k': 2, 'learning_rate': 0.0018132772194218976, 'batcher': False}. Best is trial 8 with value: 0.8799894085251259.\n",
      "[I 2023-12-21 03:40:31,575] Trial 10 finished with value: 0.6832461850815125 and parameters: {'hidden_dim': 128, 'k': 2, 'learning_rate': 0.005780714394533792, 'batcher': False}. Best is trial 8 with value: 0.8799894085251259.\n",
      "[I 2023-12-21 03:43:03,813] Trial 11 finished with value: 0.8442590320621406 and parameters: {'hidden_dim': 480, 'k': 4, 'learning_rate': 0.0006789927041823567, 'batcher': True}. Best is trial 8 with value: 0.8799894085251259.\n",
      "[I 2023-12-21 03:45:32,343] Trial 12 finished with value: -902.823438099607 and parameters: {'hidden_dim': 400, 'k': 4, 'learning_rate': 1.2056640509700826e-05, 'batcher': True}. Best is trial 8 with value: 0.8799894085251259.\n",
      "[I 2023-12-21 03:47:37,595] Trial 13 finished with value: 0.8397074162473219 and parameters: {'hidden_dim': 176, 'k': 3, 'learning_rate': 0.001970663056663646, 'batcher': True}. Best is trial 8 with value: 0.8799894085251259.\n",
      "[I 2023-12-21 03:50:00,571] Trial 14 finished with value: 0.7846511045310385 and parameters: {'hidden_dim': 400, 'k': 1, 'learning_rate': 0.0006100680181039678, 'batcher': False}. Best is trial 8 with value: 0.8799894085251259.\n",
      "[I 2023-12-21 03:52:07,532] Trial 15 finished with value: 0.791076217203849 and parameters: {'hidden_dim': 48, 'k': 5, 'learning_rate': 0.008413934841993247, 'batcher': True}. Best is trial 8 with value: 0.8799894085251259.\n",
      "[I 2023-12-21 03:54:15,354] Trial 16 finished with value: 0.8425636586486395 and parameters: {'hidden_dim': 208, 'k': 3, 'learning_rate': 0.0028513419626351065, 'batcher': True}. Best is trial 8 with value: 0.8799894085251259.\n",
      "[I 2023-12-21 03:56:21,382] Trial 17 finished with value: 0.8373607091052324 and parameters: {'hidden_dim': 336, 'k': 4, 'learning_rate': 0.0010482751202969423, 'batcher': True}. Best is trial 8 with value: 0.8799894085251259.\n",
      "[I 2023-12-21 03:58:49,435] Trial 18 finished with value: 0.7736513131351183 and parameters: {'hidden_dim': 464, 'k': 2, 'learning_rate': 0.0003455290437035708, 'batcher': False}. Best is trial 8 with value: 0.8799894085251259.\n",
      "[I 2023-12-21 04:00:56,570] Trial 19 finished with value: 0.8635482224077912 and parameters: {'hidden_dim': 224, 'k': 5, 'learning_rate': 0.0033053780715331708, 'batcher': True}. Best is trial 8 with value: 0.8799894085251259.\n",
      "[I 2023-12-21 04:03:01,753] Trial 20 finished with value: 0.813499132536965 and parameters: {'hidden_dim': 112, 'k': 1, 'learning_rate': 0.001206706711801775, 'batcher': True}. Best is trial 8 with value: 0.8799894085251259.\n",
      "[I 2023-12-21 04:05:09,530] Trial 21 finished with value: 0.8325191930078366 and parameters: {'hidden_dim': 224, 'k': 5, 'learning_rate': 0.0029806543620502666, 'batcher': True}. Best is trial 8 with value: 0.8799894085251259.\n",
      "[I 2023-12-21 04:07:17,622] Trial 22 finished with value: 0.8977831943875654 and parameters: {'hidden_dim': 240, 'k': 5, 'learning_rate': 0.0044311883068587675, 'batcher': True}. Best is trial 22 with value: 0.8977831943875654.\n",
      "[I 2023-12-21 04:09:27,908] Trial 23 finished with value: 0.9013649044319191 and parameters: {'hidden_dim': 336, 'k': 4, 'learning_rate': 0.005788818076389315, 'batcher': True}. Best is trial 23 with value: 0.9013649044319191.\n",
      "[I 2023-12-21 04:11:35,514] Trial 24 finished with value: 0.8853600193844283 and parameters: {'hidden_dim': 352, 'k': 4, 'learning_rate': 0.009565159325955955, 'batcher': True}. Best is trial 23 with value: 0.9013649044319191.\n"
     ]
    }
   ],
   "source": [
    "node_type = \"P\"\n",
    "size_elem = 50\n",
    "n_trials = 25\n",
    "normalized = True\n",
    "study = optuna.create_study(study_name=f\"Study node type {node_type}, normalized: {normalized}\", directions=['maximize'])\n",
    "study.optimize(objective, n_trials=n_trials, show_progress_bar=True)"
   ],
   "metadata": {
    "collapsed": false,
    "ExecuteTime": {
     "start_time": "2023-12-11T01:10:48.406188Z",
     "end_time": "2023-12-11T02:15:03.657752Z"
    }
   }
  },
  {
   "cell_type": "code",
   "execution_count": 20,
   "outputs": [],
   "source": [
    "study.trials_dataframe().to_csv(f\"csvs/single-node_t-{node_type}_n-{size_elem}_normalized-{normalized}_s-{size_elem}.csv\")"
   ],
   "metadata": {
    "collapsed": false,
    "ExecuteTime": {
     "start_time": "2023-12-11T02:15:03.659761Z",
     "end_time": "2023-12-11T02:15:03.676751Z"
    }
   }
  }
 ],
 "metadata": {
  "kernelspec": {
   "display_name": "Python 3",
   "language": "python",
   "name": "python3"
  },
  "language_info": {
   "codemirror_mode": {
    "name": "ipython",
    "version": 2
   },
   "file_extension": ".py",
   "mimetype": "text/x-python",
   "name": "python",
   "nbconvert_exporter": "python",
   "pygments_lexer": "ipython2",
   "version": "2.7.6"
  }
 },
 "nbformat": 4,
 "nbformat_minor": 0
}
