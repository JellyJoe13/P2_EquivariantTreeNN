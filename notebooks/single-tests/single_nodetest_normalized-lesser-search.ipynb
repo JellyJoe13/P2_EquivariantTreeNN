{
 "cells": [
  {
   "cell_type": "markdown",
   "source": [
    "# Testing single node datasets"
   ],
   "metadata": {
    "collapsed": false
   }
  },
  {
   "cell_type": "markdown",
   "source": [
    "Purpose: until now dataset represented by combination of tree types - now test for single node type"
   ],
   "metadata": {
    "collapsed": false
   }
  },
  {
   "cell_type": "markdown",
   "source": [
    "## Importing"
   ],
   "metadata": {
    "collapsed": false
   }
  },
  {
   "cell_type": "code",
   "execution_count": 2,
   "outputs": [],
   "source": [
    "import sys\n",
    "import os\n",
    "\n",
    "# Construct the path to the parent directory of the parent directory\n",
    "parent_of_parent_dir = os.path.abspath(os.path.join(os.path.pardir, os.path.pardir))\n",
    "\n",
    "# Add the parent directory of the parent directory to the system path\n",
    "sys.path.insert(0, parent_of_parent_dir)"
   ],
   "metadata": {
    "collapsed": false,
    "ExecuteTime": {
     "start_time": "2023-12-20T19:10:56.751728Z",
     "end_time": "2023-12-20T19:10:56.782729Z"
    }
   }
  },
  {
   "cell_type": "code",
   "execution_count": 3,
   "outputs": [],
   "source": [
    "import optuna\n",
    "import numpy as np\n",
    "from sklearn.metrics import r2_score\n",
    "import torch\n",
    "from torch.utils.data import random_split, DataLoader\n",
    "\n",
    "from etnn import TreeNode\n",
    "from etnn.tools.training_tools import ConfigStore\n",
    "from etnn.data.ferris_wheel import load_pure_ferris_wheel_dataset_single_node\n",
    "from etnn.tools.training import train_epoch, eval_epoch\n",
    "from etnn.nn.layer_framework import LayerManagementFramework\n",
    "from etnn.tools.training_tools import seeding_all\n",
    "from etnn.routines.run_config import choice_trainloader, choice_loss, choice_optim"
   ],
   "metadata": {
    "collapsed": false,
    "ExecuteTime": {
     "start_time": "2023-12-20T19:10:56.876304Z",
     "end_time": "2023-12-20T19:10:59.041331Z"
    }
   }
  },
  {
   "cell_type": "markdown",
   "source": [
    "## Control constants"
   ],
   "metadata": {
    "collapsed": false
   }
  },
  {
   "cell_type": "code",
   "execution_count": 4,
   "outputs": [],
   "source": [
    "dataset_path = \"../../datasets/\"\n",
    "test_perc = 0.3\n",
    "val_perc = 0.21\n",
    "stability_count = 5\n",
    "label = \"tree-advanced\" # although irrelevant"
   ],
   "metadata": {
    "collapsed": false,
    "ExecuteTime": {
     "start_time": "2023-12-20T19:10:59.043332Z",
     "end_time": "2023-12-20T19:10:59.057332Z"
    }
   }
  },
  {
   "cell_type": "markdown",
   "source": [
    "## Defining parameter search"
   ],
   "metadata": {
    "collapsed": false
   }
  },
  {
   "cell_type": "code",
   "execution_count": 5,
   "outputs": [],
   "source": [
    "def objective(trial):\n",
    "    # init default config\n",
    "    config = ConfigStore(\n",
    "       in_dim=15,\n",
    "       hidden_dim=trial.suggest_int(\"hidden_dim\", 16, 256, step=16),\n",
    "       out_dim=1,\n",
    "       k=trial.suggest_int(\"k\", 1, 3),\n",
    "       dataset=-1 if normalized else 0,\n",
    "       ds_size=10_000,\n",
    "       num_gondolas=-1,\n",
    "       num_part_pg=-1,\n",
    "       loss_name='mse',\n",
    "       optimizer_name='adam',\n",
    "       num_max_epochs=30, # real: 100\n",
    "       learning_rate=trial.suggest_float(\"learning_rate\", 1e-6, 1e-2, log=True),\n",
    "       batch_size=1024,\n",
    "       early_stop_tol=5,\n",
    "       use_equal_batcher=trial.suggest_categorical(\"batcher\", [True, False]),\n",
    "       seed=420,\n",
    "       label_type=label,\n",
    "       final_label_factor=5/1000\n",
    "    )\n",
    "    # config = ConfigStore(\n",
    "    #     in_dim=15,\n",
    "    #     hidden_dim=16,\n",
    "    #     out_dim=1,\n",
    "    #     k=2,\n",
    "    #     dataset=-1 if normalized else 0,\n",
    "    #     ds_size=10_000,\n",
    "    #     num_gondolas=-1,\n",
    "    #     num_part_pg=-1,\n",
    "    #     loss_name='mse',\n",
    "    #     optimizer_name='adam',\n",
    "    #     num_max_epochs=30, # real: 100\n",
    "    #     learning_rate=0.002,\n",
    "    #     batch_size=1024,\n",
    "    #     early_stop_tol=5,\n",
    "    #     use_equal_batcher=False,\n",
    "    #     seed=420,\n",
    "    #     label_type=label,\n",
    "    #     final_label_factor=5/1000\n",
    "    # )\n",
    "\n",
    "    # loading dataset\n",
    "    dataset, df_index = load_pure_ferris_wheel_dataset_single_node(\n",
    "        node_type=node_type,\n",
    "        num_elem=size_elem,\n",
    "        num_to_generate=config.ds_size,\n",
    "        dataset_path=dataset_path,\n",
    "        final_label_factor=config.final_label_factor,\n",
    "        normalize=True if config.dataset == -1 else 0\n",
    "    )\n",
    "    # splitting off test dataset\n",
    "    generator = torch.Generator().manual_seed(config.seed)\n",
    "    train_ds, val_ds, _ = random_split(\n",
    "        dataset,\n",
    "        [1 - test_perc - val_perc, val_perc, test_perc],\n",
    "        generator=generator\n",
    "    )\n",
    "\n",
    "    # loaders\n",
    "    train_loader = choice_trainloader(config, df_index, train_ds)\n",
    "    val_loader = DataLoader(val_ds, batch_size=4 * config.batch_size, shuffle=False)\n",
    "\n",
    "    # define device\n",
    "    device = \"cuda\" if torch.cuda.is_available() else \"cpu\"\n",
    "\n",
    "    # set seed for reproducability\n",
    "    seeding_all(config.seed)\n",
    "\n",
    "    # define model\n",
    "    model = LayerManagementFramework(\n",
    "        in_dim=config.in_dim,\n",
    "        tree=TreeNode(node_type, [TreeNode(\"E\", size_elem)]),\n",
    "        hidden_dim=config.hidden_dim,\n",
    "        out_dim=config.out_dim,\n",
    "        k=config.k\n",
    "    ).to(device)\n",
    "\n",
    "    # learning tools\n",
    "    criterion = choice_loss(config)\n",
    "    optimizer = choice_optim(config, model)\n",
    "\n",
    "    # init score list\n",
    "    score_list = []\n",
    "\n",
    "    # train for specified number of epochs\n",
    "    for epoch in range(config.num_max_epochs):\n",
    "        _, _, _ = train_epoch(\n",
    "            model,\n",
    "            train_loader,\n",
    "            optimizer,\n",
    "            device,\n",
    "            criterion\n",
    "        )\n",
    "\n",
    "        _, val_true_y, val_pred_y = eval_epoch(\n",
    "            model,\n",
    "            val_loader,\n",
    "            device,\n",
    "            criterion\n",
    "        )\n",
    "\n",
    "        # calc r2 score and append\n",
    "        score = r2_score(y_true=val_true_y, y_pred=val_pred_y)\n",
    "        score_list += [score]\n",
    "        trial.report(score, epoch)\n",
    "\n",
    "    # calculate objective\n",
    "    # display(score_list)\n",
    "    # idea: last x r2 scores (why not last one? for stability purposes)\n",
    "    obj = np.array(score_list)[-stability_count:]\n",
    "    return np.mean(obj)"
   ],
   "metadata": {
    "collapsed": false,
    "ExecuteTime": {
     "start_time": "2023-12-20T19:10:59.057332Z",
     "end_time": "2023-12-20T19:10:59.079331Z"
    }
   }
  },
  {
   "cell_type": "markdown",
   "source": [],
   "metadata": {
    "collapsed": false
   }
  },
  {
   "cell_type": "markdown",
   "source": [
    "## Parameter search"
   ],
   "metadata": {
    "collapsed": false
   }
  },
  {
   "cell_type": "markdown",
   "source": [
    "### S"
   ],
   "metadata": {
    "collapsed": false
   }
  },
  {
   "cell_type": "code",
   "execution_count": 5,
   "outputs": [
    {
     "name": "stderr",
     "output_type": "stream",
     "text": [
      "[I 2023-12-20 18:32:26,923] A new study created in memory with name: Study node type S, normalized: True\n"
     ]
    },
    {
     "data": {
      "text/plain": "  0%|          | 0/15 [00:00<?, ?it/s]",
      "application/vnd.jupyter.widget-view+json": {
       "version_major": 2,
       "version_minor": 0,
       "model_id": "248dee38a75c40bea673a15b9274876e"
      }
     },
     "metadata": {},
     "output_type": "display_data"
    },
    {
     "name": "stdout",
     "output_type": "stream",
     "text": [
      "[I 2023-12-20 18:33:28,931] Trial 0 finished with value: -10.281744002578927 and parameters: {'hidden_dim': 160, 'k': 1, 'learning_rate': 4.959396653281266e-05, 'batcher': True}. Best is trial 0 with value: -10.281744002578927.\n",
      "[I 2023-12-20 18:34:28,181] Trial 1 finished with value: 0.7466127936151782 and parameters: {'hidden_dim': 16, 'k': 2, 'learning_rate': 0.0006717627458406179, 'batcher': False}. Best is trial 1 with value: 0.7466127936151782.\n",
      "[I 2023-12-20 18:35:28,921] Trial 2 finished with value: 0.8889506321931296 and parameters: {'hidden_dim': 48, 'k': 3, 'learning_rate': 0.00271345019195655, 'batcher': True}. Best is trial 2 with value: 0.8889506321931296.\n",
      "[I 2023-12-20 18:36:32,135] Trial 3 finished with value: -105.376945730172 and parameters: {'hidden_dim': 128, 'k': 3, 'learning_rate': 2.3809863039752865e-05, 'batcher': True}. Best is trial 2 with value: 0.8889506321931296.\n",
      "[I 2023-12-20 18:37:33,661] Trial 4 finished with value: -148.02068563405408 and parameters: {'hidden_dim': 144, 'k': 1, 'learning_rate': 2.2253167932928493e-06, 'batcher': True}. Best is trial 2 with value: 0.8889506321931296.\n",
      "[I 2023-12-20 18:38:37,940] Trial 5 finished with value: 0.8643173167806468 and parameters: {'hidden_dim': 144, 'k': 3, 'learning_rate': 0.00043905614796308753, 'batcher': True}. Best is trial 2 with value: 0.8889506321931296.\n",
      "[I 2023-12-20 18:39:40,877] Trial 6 finished with value: 0.8640966716562201 and parameters: {'hidden_dim': 176, 'k': 1, 'learning_rate': 0.002982652567353535, 'batcher': False}. Best is trial 2 with value: 0.8889506321931296.\n",
      "[I 2023-12-20 18:40:41,195] Trial 7 finished with value: -150.2403025152707 and parameters: {'hidden_dim': 32, 'k': 1, 'learning_rate': 4.07342057963487e-06, 'batcher': False}. Best is trial 2 with value: 0.8889506321931296.\n",
      "[I 2023-12-20 18:41:45,748] Trial 8 finished with value: 0.7369423756291449 and parameters: {'hidden_dim': 240, 'k': 1, 'learning_rate': 5.118212218197779e-05, 'batcher': False}. Best is trial 2 with value: 0.8889506321931296.\n",
      "[I 2023-12-20 18:42:45,726] Trial 9 finished with value: -144.3350646421023 and parameters: {'hidden_dim': 80, 'k': 1, 'learning_rate': 1.3446595669107306e-05, 'batcher': True}. Best is trial 2 with value: 0.8889506321931296.\n",
      "[I 2023-12-20 18:43:45,921] Trial 10 finished with value: 0.9211477224953525 and parameters: {'hidden_dim': 80, 'k': 2, 'learning_rate': 0.008262571893704768, 'batcher': True}. Best is trial 10 with value: 0.9211477224953525.\n",
      "[I 2023-12-20 18:44:47,816] Trial 11 finished with value: 0.9233738782665777 and parameters: {'hidden_dim': 80, 'k': 2, 'learning_rate': 0.006056942382769745, 'batcher': True}. Best is trial 11 with value: 0.9233738782665777.\n",
      "[I 2023-12-20 18:45:49,400] Trial 12 finished with value: 0.9223053630862299 and parameters: {'hidden_dim': 80, 'k': 2, 'learning_rate': 0.008755286978355061, 'batcher': True}. Best is trial 11 with value: 0.9233738782665777.\n",
      "[I 2023-12-20 18:46:51,841] Trial 13 finished with value: 0.9183320217270399 and parameters: {'hidden_dim': 96, 'k': 2, 'learning_rate': 0.00812811457095881, 'batcher': True}. Best is trial 11 with value: 0.9233738782665777.\n",
      "[I 2023-12-20 18:47:54,246] Trial 14 finished with value: 0.8090532367577389 and parameters: {'hidden_dim': 96, 'k': 2, 'learning_rate': 0.0002764054949930337, 'batcher': True}. Best is trial 11 with value: 0.9233738782665777.\n"
     ]
    }
   ],
   "source": [
    "node_type = \"S\"\n",
    "size_elem = 10\n",
    "n_trials = 15\n",
    "normalized = True\n",
    "study = optuna.create_study(study_name=f\"Study node type {node_type}, normalized: {normalized}\", directions=['maximize'])\n",
    "study.optimize(objective, n_trials=n_trials, show_progress_bar=True)"
   ],
   "metadata": {
    "collapsed": false,
    "ExecuteTime": {
     "start_time": "2023-12-20T18:32:26.924671Z",
     "end_time": "2023-12-20T18:47:54.255467Z"
    }
   }
  },
  {
   "cell_type": "code",
   "execution_count": 6,
   "outputs": [],
   "source": [
    "study.trials_dataframe().to_csv(f\"csvs/single-node_t-{node_type}_n-{size_elem}_normalized-{normalized}_normalized-lesser-search.csv\")"
   ],
   "metadata": {
    "collapsed": false,
    "ExecuteTime": {
     "start_time": "2023-12-20T18:47:54.256467Z",
     "end_time": "2023-12-20T18:47:54.292466Z"
    }
   }
  },
  {
   "cell_type": "markdown",
   "source": [
    "### Q"
   ],
   "metadata": {
    "collapsed": false
   }
  },
  {
   "cell_type": "code",
   "execution_count": 7,
   "outputs": [
    {
     "name": "stderr",
     "output_type": "stream",
     "text": [
      "[I 2023-12-20 19:11:42,892] A new study created in memory with name: Study node type Q, normalized: True\n"
     ]
    },
    {
     "data": {
      "text/plain": "  0%|          | 0/15 [00:00<?, ?it/s]",
      "application/vnd.jupyter.widget-view+json": {
       "version_major": 2,
       "version_minor": 0,
       "model_id": "d7455aa04caa49e8a19650c077777706"
      }
     },
     "metadata": {},
     "output_type": "display_data"
    },
    {
     "name": "stdout",
     "output_type": "stream",
     "text": [
      "[I 2023-12-20 19:12:50,140] Trial 0 finished with value: 0.8957352031134302 and parameters: {'hidden_dim': 192, 'k': 2, 'learning_rate': 0.0012684148084059828, 'batcher': False}. Best is trial 0 with value: 0.8957352031134302.\n",
      "[I 2023-12-20 19:13:57,095] Trial 1 finished with value: 0.8318871599730928 and parameters: {'hidden_dim': 224, 'k': 3, 'learning_rate': 5.420419499334039e-05, 'batcher': False}. Best is trial 0 with value: 0.8957352031134302.\n",
      "[I 2023-12-20 19:15:02,091] Trial 2 finished with value: 0.8718999958219735 and parameters: {'hidden_dim': 112, 'k': 3, 'learning_rate': 0.0005609897351977381, 'batcher': True}. Best is trial 0 with value: 0.8957352031134302.\n",
      "[I 2023-12-20 19:16:04,967] Trial 3 finished with value: 0.7104050081561926 and parameters: {'hidden_dim': 80, 'k': 1, 'learning_rate': 0.00035235944013280754, 'batcher': True}. Best is trial 0 with value: 0.8957352031134302.\n",
      "[I 2023-12-20 19:17:10,829] Trial 4 finished with value: -143.36978767970646 and parameters: {'hidden_dim': 192, 'k': 1, 'learning_rate': 2.0695553528071236e-06, 'batcher': False}. Best is trial 0 with value: 0.8957352031134302.\n",
      "[I 2023-12-20 19:18:17,717] Trial 5 finished with value: -124.85283439630109 and parameters: {'hidden_dim': 144, 'k': 2, 'learning_rate': 1.2113336119099603e-05, 'batcher': True}. Best is trial 0 with value: 0.8957352031134302.\n",
      "[I 2023-12-20 19:19:22,667] Trial 6 finished with value: 0.9498475976128713 and parameters: {'hidden_dim': 160, 'k': 2, 'learning_rate': 0.007616850268644117, 'batcher': True}. Best is trial 6 with value: 0.9498475976128713.\n",
      "[I 2023-12-20 19:20:29,536] Trial 7 finished with value: 0.9459531026452556 and parameters: {'hidden_dim': 224, 'k': 3, 'learning_rate': 0.0011648569041388395, 'batcher': True}. Best is trial 6 with value: 0.9498475976128713.\n",
      "[I 2023-12-20 19:21:31,569] Trial 8 finished with value: -84.53784434894807 and parameters: {'hidden_dim': 48, 'k': 3, 'learning_rate': 7.930487829423358e-05, 'batcher': False}. Best is trial 6 with value: 0.9498475976128713.\n",
      "[I 2023-12-20 19:22:33,771] Trial 9 finished with value: -145.0465660783179 and parameters: {'hidden_dim': 96, 'k': 3, 'learning_rate': 2.080120277832533e-06, 'batcher': False}. Best is trial 6 with value: 0.9498475976128713.\n",
      "[I 2023-12-20 19:23:36,697] Trial 10 finished with value: 0.9510745670804799 and parameters: {'hidden_dim': 160, 'k': 2, 'learning_rate': 0.00994815004102539, 'batcher': True}. Best is trial 10 with value: 0.9510745670804799.\n",
      "[I 2023-12-20 19:24:40,415] Trial 11 finished with value: 0.9457371076418621 and parameters: {'hidden_dim': 160, 'k': 2, 'learning_rate': 0.009510803714347744, 'batcher': True}. Best is trial 10 with value: 0.9510745670804799.\n",
      "[I 2023-12-20 19:25:50,042] Trial 12 finished with value: 0.8788950405676974 and parameters: {'hidden_dim': 16, 'k': 2, 'learning_rate': 0.008129701500666182, 'batcher': True}. Best is trial 10 with value: 0.9510745670804799.\n",
      "[I 2023-12-20 19:27:04,434] Trial 13 finished with value: 0.802920801522079 and parameters: {'hidden_dim': 256, 'k': 1, 'learning_rate': 0.004212154032599469, 'batcher': True}. Best is trial 10 with value: 0.9510745670804799.\n",
      "[I 2023-12-20 19:28:21,380] Trial 14 finished with value: 0.9263399228000196 and parameters: {'hidden_dim': 160, 'k': 2, 'learning_rate': 0.002211183952401313, 'batcher': True}. Best is trial 10 with value: 0.9510745670804799.\n"
     ]
    }
   ],
   "source": [
    "node_type = \"Q\"\n",
    "size_elem = 10\n",
    "n_trials = 15\n",
    "normalized = True\n",
    "study = optuna.create_study(study_name=f\"Study node type {node_type}, normalized: {normalized}\", directions=['maximize'])\n",
    "study.optimize(objective, n_trials=n_trials, show_progress_bar=True)"
   ],
   "metadata": {
    "collapsed": false,
    "ExecuteTime": {
     "start_time": "2023-12-20T19:11:42.893760Z",
     "end_time": "2023-12-20T19:28:21.394200Z"
    }
   }
  },
  {
   "cell_type": "code",
   "execution_count": 8,
   "outputs": [],
   "source": [
    "study.trials_dataframe().to_csv(f\"csvs/single-node_t-{node_type}_n-{size_elem}_normalized-{normalized}_normalized-lesser-search.csv\")"
   ],
   "metadata": {
    "collapsed": false,
    "ExecuteTime": {
     "start_time": "2023-12-20T19:28:21.389201Z",
     "end_time": "2023-12-20T19:28:21.403203Z"
    }
   }
  },
  {
   "cell_type": "markdown",
   "source": [
    "### C"
   ],
   "metadata": {
    "collapsed": false
   }
  },
  {
   "cell_type": "code",
   "execution_count": 9,
   "outputs": [
    {
     "name": "stderr",
     "output_type": "stream",
     "text": [
      "[I 2023-12-20 19:28:21,404] A new study created in memory with name: Study node type C, normalized: True\n"
     ]
    },
    {
     "data": {
      "text/plain": "  0%|          | 0/15 [00:00<?, ?it/s]",
      "application/vnd.jupyter.widget-view+json": {
       "version_major": 2,
       "version_minor": 0,
       "model_id": "0ba3809b4f8e47e393c4cd0bf45d7b7c"
      }
     },
     "metadata": {},
     "output_type": "display_data"
    },
    {
     "name": "stdout",
     "output_type": "stream",
     "text": [
      "[I 2023-12-20 19:29:32,723] Trial 0 finished with value: 0.8943885569228552 and parameters: {'hidden_dim': 176, 'k': 1, 'learning_rate': 0.0004842769229928358, 'batcher': False}. Best is trial 0 with value: 0.8943885569228552.\n",
      "[I 2023-12-20 19:30:44,284] Trial 1 finished with value: -169.28916471684647 and parameters: {'hidden_dim': 144, 'k': 2, 'learning_rate': 1.0689100665773137e-06, 'batcher': True}. Best is trial 0 with value: 0.8943885569228552.\n",
      "[I 2023-12-20 19:31:55,705] Trial 2 finished with value: 0.8613703972558632 and parameters: {'hidden_dim': 16, 'k': 3, 'learning_rate': 0.003975301910607491, 'batcher': True}. Best is trial 0 with value: 0.8943885569228552.\n",
      "[I 2023-12-20 19:33:12,259] Trial 3 finished with value: 0.9765075975984564 and parameters: {'hidden_dim': 208, 'k': 1, 'learning_rate': 0.004582193274559827, 'batcher': True}. Best is trial 3 with value: 0.9765075975984564.\n",
      "[I 2023-12-20 19:34:19,963] Trial 4 finished with value: -156.77195957005478 and parameters: {'hidden_dim': 256, 'k': 3, 'learning_rate': 4.167340196165047e-06, 'batcher': False}. Best is trial 3 with value: 0.9765075975984564.\n",
      "[I 2023-12-20 19:35:25,529] Trial 5 finished with value: 0.9731530849611569 and parameters: {'hidden_dim': 208, 'k': 2, 'learning_rate': 0.0035721084538888792, 'batcher': True}. Best is trial 3 with value: 0.9765075975984564.\n",
      "[I 2023-12-20 19:36:26,094] Trial 6 finished with value: -182.90793551280657 and parameters: {'hidden_dim': 16, 'k': 3, 'learning_rate': 6.368108923449732e-06, 'batcher': True}. Best is trial 3 with value: 0.9765075975984564.\n",
      "[I 2023-12-20 19:37:39,253] Trial 7 finished with value: 0.8830593004486934 and parameters: {'hidden_dim': 192, 'k': 3, 'learning_rate': 0.0002997980061674871, 'batcher': False}. Best is trial 3 with value: 0.9765075975984564.\n",
      "[I 2023-12-20 19:38:47,530] Trial 8 finished with value: -162.92522686071032 and parameters: {'hidden_dim': 80, 'k': 2, 'learning_rate': 7.973660230723054e-06, 'batcher': True}. Best is trial 3 with value: 0.9765075975984564.\n",
      "[I 2023-12-20 19:39:53,399] Trial 9 finished with value: 0.8941332159234883 and parameters: {'hidden_dim': 192, 'k': 3, 'learning_rate': 0.00036202774469270345, 'batcher': True}. Best is trial 3 with value: 0.9765075975984564.\n",
      "[I 2023-12-20 19:40:57,424] Trial 10 finished with value: 0.9897652384700283 and parameters: {'hidden_dim': 256, 'k': 1, 'learning_rate': 0.0059663348727335905, 'batcher': False}. Best is trial 10 with value: 0.9897652384700283.\n",
      "[I 2023-12-20 19:42:00,995] Trial 11 finished with value: 0.9875876196201855 and parameters: {'hidden_dim': 240, 'k': 1, 'learning_rate': 0.007539523579383017, 'batcher': False}. Best is trial 10 with value: 0.9897652384700283.\n",
      "[I 2023-12-20 19:43:04,737] Trial 12 finished with value: 0.9481195026622464 and parameters: {'hidden_dim': 256, 'k': 1, 'learning_rate': 0.009632012306716828, 'batcher': False}. Best is trial 10 with value: 0.9897652384700283.\n",
      "[I 2023-12-20 19:44:08,855] Trial 13 finished with value: 0.9585017607605325 and parameters: {'hidden_dim': 240, 'k': 1, 'learning_rate': 0.0015479729476072309, 'batcher': False}. Best is trial 10 with value: 0.9897652384700283.\n",
      "[I 2023-12-20 19:45:12,055] Trial 14 finished with value: 0.941147634778065 and parameters: {'hidden_dim': 96, 'k': 1, 'learning_rate': 0.009540313400585792, 'batcher': False}. Best is trial 10 with value: 0.9897652384700283.\n"
     ]
    }
   ],
   "source": [
    "node_type = \"C\"\n",
    "size_elem = 10\n",
    "n_trials = 15\n",
    "normalized = True\n",
    "study = optuna.create_study(study_name=f\"Study node type {node_type}, normalized: {normalized}\", directions=['maximize'])\n",
    "study.optimize(objective, n_trials=n_trials, show_progress_bar=True)"
   ],
   "metadata": {
    "collapsed": false,
    "ExecuteTime": {
     "start_time": "2023-12-20T19:28:21.404202Z",
     "end_time": "2023-12-20T19:45:12.068669Z"
    }
   }
  },
  {
   "cell_type": "code",
   "execution_count": 10,
   "outputs": [],
   "source": [
    "study.trials_dataframe().to_csv(f\"csvs/single-node_t-{node_type}_n-{size_elem}_normalized-{normalized}_normalized-lesser-search.csv\")"
   ],
   "metadata": {
    "collapsed": false,
    "ExecuteTime": {
     "start_time": "2023-12-20T19:45:12.070667Z",
     "end_time": "2023-12-20T19:45:12.087667Z"
    }
   }
  },
  {
   "cell_type": "markdown",
   "source": [
    "### P"
   ],
   "metadata": {
    "collapsed": false
   }
  },
  {
   "cell_type": "code",
   "execution_count": 11,
   "outputs": [
    {
     "name": "stderr",
     "output_type": "stream",
     "text": [
      "[I 2023-12-20 19:45:12,084] A new study created in memory with name: Study node type P, normalized: True\n"
     ]
    },
    {
     "data": {
      "text/plain": "  0%|          | 0/15 [00:00<?, ?it/s]",
      "application/vnd.jupyter.widget-view+json": {
       "version_major": 2,
       "version_minor": 0,
       "model_id": "f2b517bc21cf457c90fd0615a6b057e6"
      }
     },
     "metadata": {},
     "output_type": "display_data"
    },
    {
     "name": "stdout",
     "output_type": "stream",
     "text": [
      "[I 2023-12-20 19:46:13,493] Trial 0 finished with value: 0.8766683852333849 and parameters: {'hidden_dim': 144, 'k': 3, 'learning_rate': 0.0021422901549198554, 'batcher': False}. Best is trial 0 with value: 0.8766683852333849.\n",
      "[I 2023-12-20 19:47:12,644] Trial 1 finished with value: -160.382928660029 and parameters: {'hidden_dim': 48, 'k': 1, 'learning_rate': 1.660585125055431e-05, 'batcher': True}. Best is trial 0 with value: 0.8766683852333849.\n",
      "[I 2023-12-20 19:48:14,195] Trial 2 finished with value: -160.91579826701224 and parameters: {'hidden_dim': 224, 'k': 2, 'learning_rate': 1.005802966990337e-06, 'batcher': True}. Best is trial 0 with value: 0.8766683852333849.\n",
      "[I 2023-12-20 19:49:21,833] Trial 3 finished with value: 0.9718325757736146 and parameters: {'hidden_dim': 112, 'k': 1, 'learning_rate': 0.007898858792471212, 'batcher': True}. Best is trial 3 with value: 0.9718325757736146.\n",
      "[I 2023-12-20 19:50:36,546] Trial 4 finished with value: -160.87552039661063 and parameters: {'hidden_dim': 176, 'k': 3, 'learning_rate': 1.1349822674931412e-06, 'batcher': True}. Best is trial 3 with value: 0.9718325757736146.\n",
      "[I 2023-12-20 19:51:42,467] Trial 5 finished with value: -160.94794857702692 and parameters: {'hidden_dim': 96, 'k': 2, 'learning_rate': 1.0508873010299057e-06, 'batcher': True}. Best is trial 3 with value: 0.9718325757736146.\n",
      "[I 2023-12-20 19:52:59,994] Trial 6 finished with value: -160.85335009872898 and parameters: {'hidden_dim': 32, 'k': 1, 'learning_rate': 2.028194608020057e-06, 'batcher': False}. Best is trial 3 with value: 0.9718325757736146.\n",
      "[I 2023-12-20 19:54:23,678] Trial 7 finished with value: 0.7968739327641298 and parameters: {'hidden_dim': 208, 'k': 1, 'learning_rate': 0.00014641016767045158, 'batcher': True}. Best is trial 3 with value: 0.9718325757736146.\n",
      "[I 2023-12-20 19:55:46,713] Trial 8 finished with value: -160.64967094508376 and parameters: {'hidden_dim': 224, 'k': 3, 'learning_rate': 2.985176839776026e-06, 'batcher': False}. Best is trial 3 with value: 0.9718325757736146.\n",
      "[I 2023-12-20 19:56:50,630] Trial 9 finished with value: -160.61381120823253 and parameters: {'hidden_dim': 240, 'k': 1, 'learning_rate': 4.952652834948387e-06, 'batcher': True}. Best is trial 3 with value: 0.9718325757736146.\n",
      "[I 2023-12-20 19:58:10,788] Trial 10 finished with value: 0.8649629202655632 and parameters: {'hidden_dim': 96, 'k': 2, 'learning_rate': 0.00927459291496392, 'batcher': False}. Best is trial 3 with value: 0.9718325757736146.\n",
      "[I 2023-12-20 19:59:12,893] Trial 11 finished with value: 0.9288870830914912 and parameters: {'hidden_dim': 144, 'k': 3, 'learning_rate': 0.007541399574125756, 'batcher': False}. Best is trial 3 with value: 0.9718325757736146.\n",
      "[I 2023-12-20 20:00:25,849] Trial 12 finished with value: 0.9245164508534968 and parameters: {'hidden_dim': 112, 'k': 3, 'learning_rate': 0.008149198395180047, 'batcher': False}. Best is trial 3 with value: 0.9718325757736146.\n",
      "[I 2023-12-20 20:01:43,970] Trial 13 finished with value: 0.8646733590299529 and parameters: {'hidden_dim': 144, 'k': 2, 'learning_rate': 0.001429781093355422, 'batcher': False}. Best is trial 3 with value: 0.9718325757736146.\n",
      "[I 2023-12-20 20:03:03,914] Trial 14 finished with value: 0.6561892532304393 and parameters: {'hidden_dim': 64, 'k': 2, 'learning_rate': 0.0008184379470590695, 'batcher': True}. Best is trial 3 with value: 0.9718325757736146.\n"
     ]
    }
   ],
   "source": [
    "node_type = \"P\"\n",
    "size_elem = 10\n",
    "n_trials = 15\n",
    "normalized = True\n",
    "study = optuna.create_study(study_name=f\"Study node type {node_type}, normalized: {normalized}\", directions=['maximize'])\n",
    "study.optimize(objective, n_trials=n_trials, show_progress_bar=True)"
   ],
   "metadata": {
    "collapsed": false,
    "ExecuteTime": {
     "start_time": "2023-12-20T19:45:12.084667Z",
     "end_time": "2023-12-20T20:03:03.924084Z"
    }
   }
  },
  {
   "cell_type": "code",
   "execution_count": 12,
   "outputs": [],
   "source": [
    "study.trials_dataframe().to_csv(f\"csvs/single-node_t-{node_type}_n-{size_elem}_normalized-{normalized}_normalized-lesser-search.csv\")"
   ],
   "metadata": {
    "collapsed": false,
    "ExecuteTime": {
     "start_time": "2023-12-20T20:03:03.923085Z",
     "end_time": "2023-12-20T20:03:03.937598Z"
    }
   }
  }
 ],
 "metadata": {
  "kernelspec": {
   "display_name": "Python 3",
   "language": "python",
   "name": "python3"
  },
  "language_info": {
   "codemirror_mode": {
    "name": "ipython",
    "version": 2
   },
   "file_extension": ".py",
   "mimetype": "text/x-python",
   "name": "python",
   "nbconvert_exporter": "python",
   "pygments_lexer": "ipython2",
   "version": "2.7.6"
  }
 },
 "nbformat": 4,
 "nbformat_minor": 0
}
