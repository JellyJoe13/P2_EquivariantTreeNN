{
 "cells": [
  {
   "cell_type": "markdown",
   "source": [
    "# Full test ETNN configs determined by optuna"
   ],
   "metadata": {
    "collapsed": false
   }
  },
  {
   "cell_type": "markdown",
   "source": [
    "## Importing section"
   ],
   "metadata": {
    "collapsed": false
   }
  },
  {
   "cell_type": "code",
   "execution_count": null,
   "outputs": [],
   "source": [
    "import os\n",
    "import sys\n",
    "sys.path.insert(0, os.path.pardir)"
   ],
   "metadata": {
    "collapsed": false,
    "ExecuteTime": {
     "start_time": "2023-12-08T14:03:16.368334Z",
     "end_time": "2023-12-08T14:03:16.371335Z"
    }
   }
  },
  {
   "cell_type": "code",
   "execution_count": null,
   "outputs": [],
   "source": [
    "import pandas as pd\n",
    "\n",
    "from etnn.routines.run_config import run_config\n",
    "\n",
    "import matplotlib.pyplot as plt\n",
    "\n",
    "from etnn.tools.training_tools import ConfigStore"
   ],
   "metadata": {
    "collapsed": false,
    "ExecuteTime": {
     "start_time": "2023-12-08T14:03:16.368334Z",
     "end_time": "2023-12-08T14:03:18.355349Z"
    }
   }
  },
  {
   "cell_type": "markdown",
   "source": [
    "## Definitions section"
   ],
   "metadata": {
    "collapsed": false
   }
  },
  {
   "cell_type": "code",
   "execution_count": null,
   "outputs": [],
   "source": [
    "def create_plot(\n",
    "        config_idx: int,\n",
    "        what: str = \"r2\"\n",
    ") -> None:\n",
    "    plt.figure()\n",
    "    # load data\n",
    "    STORAGE_FOLDER = os.path.join(\"../results\", str(config_idx))\n",
    "    df_measures = pd.read_csv(os.path.join(STORAGE_FOLDER, \"accuracies.csv\"))\n",
    "\n",
    "    # Plot the initial data\n",
    "    for config_id in df_measures.config_id.unique():\n",
    "        # make subdataset for config id\n",
    "        sub_df = df_measures[df_measures.config_id == config_id]\n",
    "\n",
    "        # plot train test and val\n",
    "        for mode in ['train', 'test', 'val']:\n",
    "            # plot training\n",
    "            plt.plot(sub_df.epoch, sub_df[f\"{mode}_{what}\"], label=f\"{config_id}_{mode}-{what}\")\n",
    "\n",
    "    plt.title(f\"{what} plot\")\n",
    "    plt.xlabel(\"epoch\")\n",
    "    plt.ylabel(\"score\")\n",
    "    if what == \"r2\":\n",
    "        plt.ylim(-1, +1)\n",
    "    plt.legend()\n",
    "    plt.show()"
   ],
   "metadata": {
    "collapsed": false,
    "ExecuteTime": {
     "start_time": "2023-12-08T14:03:18.356349Z",
     "end_time": "2023-12-08T14:03:18.370355Z"
    }
   }
  },
  {
   "cell_type": "markdown",
   "source": [
    "## Tree advanced label"
   ],
   "metadata": {
    "collapsed": false
   }
  },
  {
   "cell_type": "code",
   "execution_count": null,
   "outputs": [],
   "source": [
    "# define label to show\n",
    "label = \"tree_advanced\"\n",
    "\n",
    "# load config storage\n",
    "config_table = pd.read_csv(\"study_label-tree-advanced_normalized.csv\")\n",
    "\n",
    "# sort config storage\n",
    "config_table = config_table.sort_values(by=['value'], ascending=False)\n",
    "\n",
    "# iterate over top 3 best configs\n",
    "for i in range(3):\n",
    "    # get entry from dataframe\n",
    "    entry = config_table.iloc[i]\n",
    "\n",
    "    # print information to console\n",
    "    print(f\"Rank {i+1} parameter configuration: {entry}\")\n",
    "\n",
    "    # setup config\n",
    "    config = ConfigStore(\n",
    "        in_dim=15,\n",
    "        hidden_dim=int(entry.params_hidden_dim),\n",
    "        out_dim=1,\n",
    "        k=int(entry.params_k),\n",
    "        dataset=-1,\n",
    "        ds_size=10_000,\n",
    "        num_gondolas=10,\n",
    "        num_part_pg=5,\n",
    "        loss_name='mse',\n",
    "        optimizer_name='adam',\n",
    "        num_max_epochs=300,\n",
    "        learning_rate=float(entry.params_learning_rate),\n",
    "        batch_size=1024,\n",
    "        early_stop_tol=5,\n",
    "        use_equal_batcher=bool(entry.params_batcher),\n",
    "        seed=420,\n",
    "        label_type=label,\n",
    "        final_label_factor=1/1000\n",
    "    )\n",
    "\n",
    "    # run config and retrieve idx\n",
    "    config_idx = run_config(\n",
    "        config=config,\n",
    "        dataset_path=\"../datasets\",\n",
    "        verbose=True,\n",
    "        results_folder=\"../results\",\n",
    "        check_duplicate=True\n",
    "    )\n",
    "\n",
    "    # plot results\n",
    "    create_plot(config_idx, what=\"r2\")\n",
    "    create_plot(config_idx, what=\"loss\")"
   ],
   "metadata": {
    "collapsed": false,
    "ExecuteTime": {
     "start_time": "2023-12-08T13:58:33.147620Z",
     "end_time": "2023-12-08T13:58:33.612323Z"
    },
    "pycharm": {
     "is_executing": true
    }
   }
  },
  {
   "cell_type": "markdown",
   "source": [
    "## Tree label"
   ],
   "metadata": {
    "collapsed": false
   }
  },
  {
   "cell_type": "code",
   "execution_count": null,
   "outputs": [],
   "source": [
    "# define label to show\n",
    "label = \"tree\"\n",
    "\n",
    "# load config storage\n",
    "config_table = pd.read_csv(\"study_label-tree_normalized.csv\")\n",
    "\n",
    "# sort config storage\n",
    "config_table = config_table.sort_values(by=['value'], ascending=False)\n",
    "\n",
    "# iterate over top 3 best configs\n",
    "for i in range(3):\n",
    "    # get entry from dataframe\n",
    "    entry = config_table.iloc[i]\n",
    "\n",
    "    # print information to console\n",
    "    print(f\"Rank {i+1} parameter configuration: {entry}\")\n",
    "\n",
    "    # setup config\n",
    "    config = ConfigStore(\n",
    "        in_dim=15,\n",
    "        hidden_dim=entry.params_hidden_dim,\n",
    "        out_dim=1,\n",
    "        k=entry.params_k,\n",
    "        dataset=-1,\n",
    "        ds_size=10_000,\n",
    "        num_gondolas=10,\n",
    "        num_part_pg=5,\n",
    "        loss_name='mse',\n",
    "        optimizer_name='adam',\n",
    "        num_max_epochs=300,\n",
    "        learning_rate=entry.params_learning_rate,\n",
    "        batch_size=1024,\n",
    "        early_stop_tol=5,\n",
    "        use_equal_batcher=entry.params_batcher,\n",
    "        seed=420,\n",
    "        label_type=label,\n",
    "        final_label_factor=1/1000\n",
    "    )\n",
    "\n",
    "    # run config and retrieve idx\n",
    "    config_idx = run_config(\n",
    "        config=config,\n",
    "        dataset_path=\"../datasets\",\n",
    "        verbose=True,\n",
    "        results_folder=\"../results\",\n",
    "        check_duplicate=True\n",
    "    )\n",
    "\n",
    "    # plot results\n",
    "    create_plot(config_idx, what=\"r2\")\n",
    "    create_plot(config_idx, what=\"loss\")"
   ],
   "metadata": {
    "collapsed": false,
    "pycharm": {
     "is_executing": true
    }
   }
  },
  {
   "cell_type": "markdown",
   "source": [
    "## Default label"
   ],
   "metadata": {
    "collapsed": false
   }
  },
  {
   "cell_type": "code",
   "execution_count": null,
   "outputs": [],
   "source": [
    "# define label to show\n",
    "label = \"default\"\n",
    "\n",
    "# load config storage\n",
    "config_table = pd.read_csv(\"study_label-default_normalized.csv\")\n",
    "\n",
    "# sort config storage\n",
    "config_table = config_table.sort_values(by=['value'], ascending=False)\n",
    "\n",
    "# iterate over top 3 best configs\n",
    "for i in range(3):\n",
    "    # get entry from dataframe\n",
    "    entry = config_table.iloc[i]\n",
    "\n",
    "    # print information to console\n",
    "    print(f\"Rank {i+1} parameter configuration: {entry}\")\n",
    "\n",
    "    # setup config\n",
    "    config = ConfigStore(\n",
    "        in_dim=15,\n",
    "        hidden_dim=entry.params_hidden_dim,\n",
    "        out_dim=1,\n",
    "        k=entry.params_k,\n",
    "        dataset=-1,\n",
    "        ds_size=10_000,\n",
    "        num_gondolas=10,\n",
    "        num_part_pg=5,\n",
    "        loss_name='mse',\n",
    "        optimizer_name='adam',\n",
    "        num_max_epochs=300,\n",
    "        learning_rate=entry.params_learning_rate,\n",
    "        batch_size=1024,\n",
    "        early_stop_tol=5,\n",
    "        use_equal_batcher=entry.params_batcher,\n",
    "        seed=420,\n",
    "        label_type=label,\n",
    "        final_label_factor=1/1000\n",
    "    )\n",
    "\n",
    "    # run config and retrieve idx\n",
    "    config_idx = run_config(\n",
    "        config=config,\n",
    "        dataset_path=\"../datasets\",\n",
    "        verbose=True,\n",
    "        results_folder=\"../results\",\n",
    "        check_duplicate=True\n",
    "    )\n",
    "\n",
    "    # plot results\n",
    "    create_plot(config_idx, what=\"r2\")\n",
    "    create_plot(config_idx, what=\"loss\")"
   ],
   "metadata": {
    "collapsed": false,
    "pycharm": {
     "is_executing": true
    }
   }
  }
 ],
 "metadata": {
  "kernelspec": {
   "display_name": "Python 3",
   "language": "python",
   "name": "python3"
  },
  "language_info": {
   "codemirror_mode": {
    "name": "ipython",
    "version": 2
   },
   "file_extension": ".py",
   "mimetype": "text/x-python",
   "name": "python",
   "nbconvert_exporter": "python",
   "pygments_lexer": "ipython2",
   "version": "2.7.6"
  }
 },
 "nbformat": 4,
 "nbformat_minor": 0
}
