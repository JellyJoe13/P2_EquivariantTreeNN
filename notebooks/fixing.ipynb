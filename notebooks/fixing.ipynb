{
 "cells": [
  {
   "cell_type": "code",
   "execution_count": 1,
   "metadata": {
    "collapsed": true,
    "ExecuteTime": {
     "start_time": "2023-12-09T17:52:08.168603Z",
     "end_time": "2023-12-09T17:52:08.388592Z"
    }
   },
   "outputs": [],
   "source": [
    "import pandas as pd\n",
    "import os"
   ]
  },
  {
   "cell_type": "code",
   "execution_count": 2,
   "outputs": [],
   "source": [
    "results_folder = \"../results/\""
   ],
   "metadata": {
    "collapsed": false,
    "ExecuteTime": {
     "start_time": "2023-12-09T17:52:08.388592Z",
     "end_time": "2023-12-09T17:52:08.395594Z"
    }
   }
  },
  {
   "cell_type": "code",
   "execution_count": 3,
   "outputs": [],
   "source": [
    "config_table = pd.read_csv(os.path.join(results_folder, \"config_index.csv\"))\n",
    "config_table = config_table.set_index('config_idx')"
   ],
   "metadata": {
    "collapsed": false,
    "ExecuteTime": {
     "start_time": "2023-12-09T17:52:08.572122Z",
     "end_time": "2023-12-09T17:52:08.600120Z"
    }
   }
  },
  {
   "cell_type": "code",
   "execution_count": 4,
   "outputs": [
    {
     "data": {
      "text/plain": "            in_dim  hidden_dim  out_dim  k  dataset  ds_size  num_gondolas  \\\nconfig_idx                                                                   \n0               15         128        1  2        0    10000            10   \n1               15         128        1  2        0    10000            10   \n2               15         128        1  1        0    10000            10   \n3               15         128        1  3        0    10000            10   \n4               15         128        1  4        0    10000            10   \n...            ...         ...      ... ..      ...      ...           ...   \n115             15         224        1  5       -1    10000            10   \n116             15         416        1  5       -1    10000            10   \n117             15         288        1  4       -1    10000            10   \n118             15         320        1  3       -1    10000            10   \n119             15         256        1  5       -1    10000            10   \n\n            num_part_pg loss_name optimizer_name  num_max_epochs  \\\nconfig_idx                                                         \n0                     5       mse           adam             100   \n1                     5       mse           adam             100   \n2                     5       mse           adam             100   \n3                     5       mse           adam             100   \n4                     5       mse           adam             100   \n...                 ...       ...            ...             ...   \n115                   5       mse           adam             300   \n116                   5       mse           adam             300   \n117                   5       mse           adam             300   \n118                   5       mse           adam             300   \n119                   5       mse           adam             300   \n\n            learning_rate  batch_size  early_stop_tol  use_equal_batcher  \\\nconfig_idx                                                                 \n0                0.001000        1024               5              False   \n1                0.001000        1024               5              False   \n2                0.001000        1024               5              False   \n3                0.001000        1024               5              False   \n4                0.001000        1024               5              False   \n...                   ...         ...             ...                ...   \n115              0.004247        1024               5               True   \n116              0.002082        1024               5               True   \n117              0.002537        1024               5              False   \n118              0.002380        1024               5              False   \n119              0.004105        1024               5              False   \n\n            seed label_type  final_label_factor  \nconfig_idx                                       \n0            420    default               0.001  \n1            420       tree               0.001  \n2            420       tree               0.001  \n3            420       tree               0.001  \n4            420       tree               0.001  \n...          ...        ...                 ...  \n115          420       tree               0.001  \n116          420       tree               0.001  \n117          420    default               0.001  \n118          420    default               0.001  \n119          420    default               0.001  \n\n[120 rows x 18 columns]",
      "text/html": "<div>\n<style scoped>\n    .dataframe tbody tr th:only-of-type {\n        vertical-align: middle;\n    }\n\n    .dataframe tbody tr th {\n        vertical-align: top;\n    }\n\n    .dataframe thead th {\n        text-align: right;\n    }\n</style>\n<table border=\"1\" class=\"dataframe\">\n  <thead>\n    <tr style=\"text-align: right;\">\n      <th></th>\n      <th>in_dim</th>\n      <th>hidden_dim</th>\n      <th>out_dim</th>\n      <th>k</th>\n      <th>dataset</th>\n      <th>ds_size</th>\n      <th>num_gondolas</th>\n      <th>num_part_pg</th>\n      <th>loss_name</th>\n      <th>optimizer_name</th>\n      <th>num_max_epochs</th>\n      <th>learning_rate</th>\n      <th>batch_size</th>\n      <th>early_stop_tol</th>\n      <th>use_equal_batcher</th>\n      <th>seed</th>\n      <th>label_type</th>\n      <th>final_label_factor</th>\n    </tr>\n    <tr>\n      <th>config_idx</th>\n      <th></th>\n      <th></th>\n      <th></th>\n      <th></th>\n      <th></th>\n      <th></th>\n      <th></th>\n      <th></th>\n      <th></th>\n      <th></th>\n      <th></th>\n      <th></th>\n      <th></th>\n      <th></th>\n      <th></th>\n      <th></th>\n      <th></th>\n      <th></th>\n    </tr>\n  </thead>\n  <tbody>\n    <tr>\n      <th>0</th>\n      <td>15</td>\n      <td>128</td>\n      <td>1</td>\n      <td>2</td>\n      <td>0</td>\n      <td>10000</td>\n      <td>10</td>\n      <td>5</td>\n      <td>mse</td>\n      <td>adam</td>\n      <td>100</td>\n      <td>0.001000</td>\n      <td>1024</td>\n      <td>5</td>\n      <td>False</td>\n      <td>420</td>\n      <td>default</td>\n      <td>0.001</td>\n    </tr>\n    <tr>\n      <th>1</th>\n      <td>15</td>\n      <td>128</td>\n      <td>1</td>\n      <td>2</td>\n      <td>0</td>\n      <td>10000</td>\n      <td>10</td>\n      <td>5</td>\n      <td>mse</td>\n      <td>adam</td>\n      <td>100</td>\n      <td>0.001000</td>\n      <td>1024</td>\n      <td>5</td>\n      <td>False</td>\n      <td>420</td>\n      <td>tree</td>\n      <td>0.001</td>\n    </tr>\n    <tr>\n      <th>2</th>\n      <td>15</td>\n      <td>128</td>\n      <td>1</td>\n      <td>1</td>\n      <td>0</td>\n      <td>10000</td>\n      <td>10</td>\n      <td>5</td>\n      <td>mse</td>\n      <td>adam</td>\n      <td>100</td>\n      <td>0.001000</td>\n      <td>1024</td>\n      <td>5</td>\n      <td>False</td>\n      <td>420</td>\n      <td>tree</td>\n      <td>0.001</td>\n    </tr>\n    <tr>\n      <th>3</th>\n      <td>15</td>\n      <td>128</td>\n      <td>1</td>\n      <td>3</td>\n      <td>0</td>\n      <td>10000</td>\n      <td>10</td>\n      <td>5</td>\n      <td>mse</td>\n      <td>adam</td>\n      <td>100</td>\n      <td>0.001000</td>\n      <td>1024</td>\n      <td>5</td>\n      <td>False</td>\n      <td>420</td>\n      <td>tree</td>\n      <td>0.001</td>\n    </tr>\n    <tr>\n      <th>4</th>\n      <td>15</td>\n      <td>128</td>\n      <td>1</td>\n      <td>4</td>\n      <td>0</td>\n      <td>10000</td>\n      <td>10</td>\n      <td>5</td>\n      <td>mse</td>\n      <td>adam</td>\n      <td>100</td>\n      <td>0.001000</td>\n      <td>1024</td>\n      <td>5</td>\n      <td>False</td>\n      <td>420</td>\n      <td>tree</td>\n      <td>0.001</td>\n    </tr>\n    <tr>\n      <th>...</th>\n      <td>...</td>\n      <td>...</td>\n      <td>...</td>\n      <td>...</td>\n      <td>...</td>\n      <td>...</td>\n      <td>...</td>\n      <td>...</td>\n      <td>...</td>\n      <td>...</td>\n      <td>...</td>\n      <td>...</td>\n      <td>...</td>\n      <td>...</td>\n      <td>...</td>\n      <td>...</td>\n      <td>...</td>\n      <td>...</td>\n    </tr>\n    <tr>\n      <th>115</th>\n      <td>15</td>\n      <td>224</td>\n      <td>1</td>\n      <td>5</td>\n      <td>-1</td>\n      <td>10000</td>\n      <td>10</td>\n      <td>5</td>\n      <td>mse</td>\n      <td>adam</td>\n      <td>300</td>\n      <td>0.004247</td>\n      <td>1024</td>\n      <td>5</td>\n      <td>True</td>\n      <td>420</td>\n      <td>tree</td>\n      <td>0.001</td>\n    </tr>\n    <tr>\n      <th>116</th>\n      <td>15</td>\n      <td>416</td>\n      <td>1</td>\n      <td>5</td>\n      <td>-1</td>\n      <td>10000</td>\n      <td>10</td>\n      <td>5</td>\n      <td>mse</td>\n      <td>adam</td>\n      <td>300</td>\n      <td>0.002082</td>\n      <td>1024</td>\n      <td>5</td>\n      <td>True</td>\n      <td>420</td>\n      <td>tree</td>\n      <td>0.001</td>\n    </tr>\n    <tr>\n      <th>117</th>\n      <td>15</td>\n      <td>288</td>\n      <td>1</td>\n      <td>4</td>\n      <td>-1</td>\n      <td>10000</td>\n      <td>10</td>\n      <td>5</td>\n      <td>mse</td>\n      <td>adam</td>\n      <td>300</td>\n      <td>0.002537</td>\n      <td>1024</td>\n      <td>5</td>\n      <td>False</td>\n      <td>420</td>\n      <td>default</td>\n      <td>0.001</td>\n    </tr>\n    <tr>\n      <th>118</th>\n      <td>15</td>\n      <td>320</td>\n      <td>1</td>\n      <td>3</td>\n      <td>-1</td>\n      <td>10000</td>\n      <td>10</td>\n      <td>5</td>\n      <td>mse</td>\n      <td>adam</td>\n      <td>300</td>\n      <td>0.002380</td>\n      <td>1024</td>\n      <td>5</td>\n      <td>False</td>\n      <td>420</td>\n      <td>default</td>\n      <td>0.001</td>\n    </tr>\n    <tr>\n      <th>119</th>\n      <td>15</td>\n      <td>256</td>\n      <td>1</td>\n      <td>5</td>\n      <td>-1</td>\n      <td>10000</td>\n      <td>10</td>\n      <td>5</td>\n      <td>mse</td>\n      <td>adam</td>\n      <td>300</td>\n      <td>0.004105</td>\n      <td>1024</td>\n      <td>5</td>\n      <td>False</td>\n      <td>420</td>\n      <td>default</td>\n      <td>0.001</td>\n    </tr>\n  </tbody>\n</table>\n<p>120 rows × 18 columns</p>\n</div>"
     },
     "execution_count": 4,
     "metadata": {},
     "output_type": "execute_result"
    }
   ],
   "source": [
    "config_table"
   ],
   "metadata": {
    "collapsed": false,
    "ExecuteTime": {
     "start_time": "2023-12-09T17:52:09.188594Z",
     "end_time": "2023-12-09T17:52:09.215593Z"
    }
   }
  },
  {
   "cell_type": "code",
   "execution_count": 6,
   "outputs": [],
   "source": [
    "for idx in config_table.index:\n",
    "    assert False\n",
    "\n",
    "    df_path = os.path.join(results_folder, str(idx), \"accuracies.csv\")\n",
    "    df = pd.read_csv(df_path)\n",
    "\n",
    "    for score in [\"loss\", \"mse\", \"msa\", \"explained_variance\", \"r2\"]:\n",
    "        if f\"val_{score}\" in df.columns:\n",
    "            assert df[f\"test_{score}\"].sum() == 0\n",
    "            df[f\"test_{score}\"] = df[f\"val_{score}\"]\n",
    "\n",
    "            df.drop([f\"val_{score}\"], axis=1, inplace=True)\n",
    "\n",
    "    df.to_csv(df_path, index=None)"
   ],
   "metadata": {
    "collapsed": false,
    "ExecuteTime": {
     "start_time": "2023-12-09T17:52:14.913413Z",
     "end_time": "2023-12-09T17:52:15.831379Z"
    }
   }
  }
 ],
 "metadata": {
  "kernelspec": {
   "display_name": "Python 3",
   "language": "python",
   "name": "python3"
  },
  "language_info": {
   "codemirror_mode": {
    "name": "ipython",
    "version": 2
   },
   "file_extension": ".py",
   "mimetype": "text/x-python",
   "name": "python",
   "nbconvert_exporter": "python",
   "pygments_lexer": "ipython2",
   "version": "2.7.6"
  }
 },
 "nbformat": 4,
 "nbformat_minor": 0
}
