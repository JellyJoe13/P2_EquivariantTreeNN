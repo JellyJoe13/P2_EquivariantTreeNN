{
 "cells": [
  {
   "cell_type": "markdown",
   "metadata": {},
   "source": [
    "# Simple example that the technique works"
   ]
  },
  {
   "cell_type": "markdown",
   "metadata": {},
   "source": [
    "## Importing"
   ]
  },
  {
   "cell_type": "code",
   "execution_count": 1,
   "metadata": {
    "ExecuteTime": {
     "start_time": "2023-12-26T11:04:50.281553Z",
     "end_time": "2023-12-26T11:04:50.281553Z"
    }
   },
   "outputs": [],
   "source": [
    "import sys\n",
    "import os\n",
    "sys.path.insert(0, os.path.pardir)"
   ]
  },
  {
   "cell_type": "code",
   "execution_count": 2,
   "metadata": {
    "ExecuteTime": {
     "start_time": "2023-12-26T11:04:50.281553Z",
     "end_time": "2023-12-26T11:04:52.015481Z"
    }
   },
   "outputs": [],
   "source": [
    "import torch\n",
    "import numpy as np\n",
    "from etnn.nn.layer_framework import LayerManagementFramework, TreeNode\n",
    "import random\n",
    "import matplotlib.pyplot as plt\n",
    "from etnn.tools.training_tools import seeding_all"
   ]
  },
  {
   "cell_type": "markdown",
   "metadata": {},
   "source": [
    "## Data creation"
   ]
  },
  {
   "cell_type": "code",
   "execution_count": 3,
   "metadata": {
    "ExecuteTime": {
     "start_time": "2023-12-26T11:04:52.016482Z",
     "end_time": "2023-12-26T11:04:52.031514Z"
    }
   },
   "outputs": [],
   "source": [
    "# create elements\n",
    "a = torch.tensor([1., 2., -3., 4., 5., 6.])\n",
    "b = torch.tensor([2., -3., 4., 5., 6., 7.])\n",
    "c = torch.tensor([ 3., 4., 5., 6., -7., 8.])\n",
    "d = torch.tensor([-1., -2., -3., -4., -5., -6.])"
   ]
  },
  {
   "cell_type": "code",
   "execution_count": 4,
   "metadata": {
    "ExecuteTime": {
     "start_time": "2023-12-26T11:04:52.031514Z",
     "end_time": "2023-12-26T11:04:52.050518Z"
    }
   },
   "outputs": [],
   "source": [
    "# data creation through stacking elements\n",
    "data = torch.stack([\n",
    "    torch.stack([a, b, c, d]),\n",
    "    torch.stack([d, a, b, c]),\n",
    "    torch.stack([c, d, a, b]),\n",
    "    torch.stack([b, c, d, a]),\n",
    "\n",
    "    torch.stack([d, b, c, a]),\n",
    "    torch.stack([a, d, b, c]),\n",
    "    torch.stack([c, a, d, b]),\n",
    "    torch.stack([b, c, a, d]),\n",
    "])\n",
    "labels = torch.tensor([\n",
    "    0.,\n",
    "    0.,\n",
    "    0.,\n",
    "    0.,\n",
    "    30.,\n",
    "    30.,\n",
    "    30.,\n",
    "    30.\n",
    "])\n",
    "data_test = torch.stack([\n",
    "    torch.stack([d,c,b,a]),\n",
    "    torch.stack([a,c,b,d])\n",
    "])\n",
    "labels_test = torch.tensor([\n",
    "    0.,\n",
    "    30.\n",
    "])"
   ]
  },
  {
   "cell_type": "code",
   "execution_count": 5,
   "outputs": [],
   "source": [
    "# label_type = \"S\"\n",
    "# label_type = \"Q\"\n",
    "label_type = \"C\""
   ],
   "metadata": {
    "collapsed": false,
    "ExecuteTime": {
     "start_time": "2023-12-26T11:04:52.048518Z",
     "end_time": "2023-12-26T11:04:52.063521Z"
    }
   }
  },
  {
   "cell_type": "code",
   "execution_count": 6,
   "metadata": {
    "ExecuteTime": {
     "start_time": "2023-12-26T11:04:52.065518Z",
     "end_time": "2023-12-26T11:04:52.082517Z"
    }
   },
   "outputs": [],
   "source": [
    "# construct tree:\n",
    "tree = TreeNode(label_type, [TreeNode(\"E\", 4)])"
   ]
  },
  {
   "cell_type": "markdown",
   "metadata": {},
   "source": [
    "## Training and evaluation"
   ]
  },
  {
   "cell_type": "code",
   "execution_count": 7,
   "metadata": {
    "ExecuteTime": {
     "start_time": "2023-12-26T11:04:52.080518Z",
     "end_time": "2023-12-26T11:04:52.095517Z"
    }
   },
   "outputs": [],
   "source": [
    "num_epochs = 1000\n",
    "learning_rate = 0.001"
   ]
  },
  {
   "cell_type": "markdown",
   "metadata": {},
   "source": [
    "### ETNN"
   ]
  },
  {
   "cell_type": "code",
   "execution_count": 8,
   "metadata": {
    "ExecuteTime": {
     "start_time": "2023-12-26T11:04:52.097516Z",
     "end_time": "2023-12-26T11:04:53.733647Z"
    }
   },
   "outputs": [
    {
     "name": "stdout",
     "output_type": "stream",
     "text": [
      "etnn\n",
      "parameter counter: 470\n"
     ]
    }
   ],
   "source": [
    "# test run for both models\n",
    "print(\"etnn\")\n",
    "train_loss_storage_etnn = []\n",
    "test_loss_storage_etnn = []\n",
    "\n",
    "# seed for fair comparison and reproducability\n",
    "seeding_all()\n",
    "\n",
    "etnn_model = LayerManagementFramework(\n",
    "    in_dim=6,\n",
    "    tree=tree,\n",
    "    hidden_dim=10,\n",
    "    out_dim=1,\n",
    "    k=2\n",
    ")\n",
    "print(f\"parameter counter: {sum([p.numel() for p in etnn_model.parameters()])}\")\n",
    "\n",
    "# create optimizer and loss\n",
    "criterion = torch.nn.L1Loss()\n",
    "optimizer = torch.optim.Adam(etnn_model.parameters(), lr=learning_rate)\n",
    "\n",
    "# do for some epochs\n",
    "for epoch in range(num_epochs):\n",
    "    # train\n",
    "    optimizer.zero_grad()\n",
    "    etnn_model.train()\n",
    "    out = etnn_model(data)\n",
    "    train_loss = criterion(out.flatten(), labels)\n",
    "    train_loss_storage_etnn += [train_loss.item()]\n",
    "    train_loss.backward()\n",
    "    optimizer.step()\n",
    "\n",
    "    # test\n",
    "    with torch.no_grad():\n",
    "        etnn_model.eval()\n",
    "        test_loss = criterion(etnn_model(data_test).flatten(), labels_test)\n",
    "        test_loss_storage_etnn += [test_loss.item()]\n",
    "    # print(f\"epoch: {epoch}| train_loss: {train_loss} | test_loss: {test_loss} \\nvalues: {out.flatten().detach().cpu().tolist()}\")"
   ]
  },
  {
   "cell_type": "markdown",
   "metadata": {},
   "source": [
    "### Baseline"
   ]
  },
  {
   "cell_type": "code",
   "execution_count": 9,
   "metadata": {
    "ExecuteTime": {
     "start_time": "2023-12-26T11:04:53.736648Z",
     "end_time": "2023-12-26T11:04:54.219644Z"
    }
   },
   "outputs": [
    {
     "name": "stdout",
     "output_type": "stream",
     "text": [
      "baseline\n",
      "parameter counter: 469\n"
     ]
    }
   ],
   "source": [
    "# test run for both models\n",
    "print(\"baseline\")\n",
    "train_loss_storage_baseline = []\n",
    "test_loss_storage_baseline = []\n",
    "\n",
    "# seed for fair comparison and reproducability\n",
    "seeding_all()\n",
    "\n",
    "baseline = torch.nn.Sequential(\n",
    "    torch.nn.Linear(6*4,9*2),\n",
    "    torch.nn.ReLU(),\n",
    "    torch.nn.Linear(9*2, 1)\n",
    ")\n",
    "\n",
    "print(f\"parameter counter: {sum([p.numel() for p in baseline.parameters()])}\")\n",
    "\n",
    "# create optimizer and loss\n",
    "criterion = torch.nn.L1Loss()\n",
    "optimizer = torch.optim.Adam(baseline.parameters(), lr=learning_rate)\n",
    "\n",
    "# do for some epochs\n",
    "for epoch in range(num_epochs):\n",
    "    # train\n",
    "    optimizer.zero_grad()\n",
    "    baseline.train()\n",
    "    out = baseline(data.reshape(data.shape[0], -1))\n",
    "    train_loss = criterion(out.flatten(), labels)\n",
    "    train_loss_storage_baseline += [train_loss.item()]\n",
    "    train_loss.backward()\n",
    "    optimizer.step()\n",
    "\n",
    "    # test\n",
    "    with torch.no_grad():\n",
    "        etnn_model.eval()\n",
    "        test_loss = criterion(baseline(data_test.reshape(data_test.shape[0], -1)).flatten(), labels_test)\n",
    "        test_loss_storage_baseline += [test_loss.item()]\n",
    "    # print(f\"epoch: {epoch}| train_loss: {train_loss} | test_loss: {test_loss} \\nvalues: {out.flatten().detach().cpu().tolist()}\")"
   ]
  },
  {
   "cell_type": "markdown",
   "metadata": {},
   "source": [
    "## Results"
   ]
  },
  {
   "cell_type": "code",
   "execution_count": 10,
   "metadata": {
    "ExecuteTime": {
     "start_time": "2023-12-26T11:04:54.213647Z",
     "end_time": "2023-12-26T11:04:54.325642Z"
    }
   },
   "outputs": [
    {
     "data": {
      "text/plain": "<Figure size 640x480 with 1 Axes>",
      "image/png": "[encoded data removed]"
     },
     "metadata": {},
     "output_type": "display_data"
    }
   ],
   "source": [
    "# plot stuff\n",
    "plt.figure()\n",
    "plt.plot(train_loss_storage_etnn, c='r', label=\"train_etnn\")\n",
    "plt.plot(train_loss_storage_baseline, c='b', label=\"train_baseline\")\n",
    "\n",
    "plt.plot(test_loss_storage_etnn, c='green', label=\"test_etnn\")\n",
    "plt.plot(test_loss_storage_baseline, c='black', label=\"test_baseline\")\n",
    "plt.title(f\"Simple proof of concept - label type {label_type}\")\n",
    "plt.xlabel(\"epochs\")\n",
    "plt.ylabel(\"loss\")\n",
    "plt.legend()\n",
    "plt.show()"
   ]
  }
 ],
 "metadata": {
  "kernelspec": {
   "display_name": "Python 3 (ipykernel)",
   "language": "python",
   "name": "python3"
  },
  "language_info": {
   "codemirror_mode": {
    "name": "ipython",
    "version": 3
   },
   "file_extension": ".py",
   "mimetype": "text/x-python",
   "name": "python",
   "nbconvert_exporter": "python",
   "pygments_lexer": "ipython3",
   "version": "3.9.18"
  }
 },
 "nbformat": 4,
 "nbformat_minor": 4
}
